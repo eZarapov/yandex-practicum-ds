{
 "cells": [
  {
   "cell_type": "markdown",
   "metadata": {
    "deletable": false,
    "editable": false,
    "id": "E0vqbgi9ay0H"
   },
   "source": [
    "# Яндекс Музыка"
   ]
  },
  {
   "cell_type": "markdown",
   "metadata": {
    "deletable": false,
    "editable": false,
    "id": "VUC88oWjTJw2"
   },
   "source": [
    "Сравнение Москвы и Петербурга окружено мифами. Например:\n",
    " * Москва — мегаполис, подчинённый жёсткому ритму рабочей недели;\n",
    " * Петербург — культурная столица, со своими вкусами.\n",
    "\n",
    "На данных Яндекс Музыки вы сравните поведение пользователей двух столиц.\n",
    "\n",
    "**Цель исследования** — проверьте три гипотезы:\n",
    "1. Активность пользователей зависит от дня недели. Причём в Москве и Петербурге это проявляется по-разному.\n",
    "2. В понедельник утром в Москве преобладают одни жанры, а в Петербурге — другие. Так же и вечером пятницы преобладают разные жанры — в зависимости от города. \n",
    "3. Москва и Петербург предпочитают разные жанры музыки. В Москве чаще слушают поп-музыку, в Петербурге — русский рэп.\n",
    "\n",
    "**Ход исследования**\n",
    "\n",
    "Данные о поведении пользователей вы получите из файла `yandex_music_project.csv`. О качестве данных ничего не известно. Поэтому перед проверкой гипотез понадобится обзор данных. \n",
    "\n",
    "Вы проверите данные на ошибки и оцените их влияние на исследование. Затем, на этапе предобработки вы поищете возможность исправить самые критичные ошибки данных.\n",
    " \n",
    "Таким образом, исследование пройдёт в три этапа:\n",
    " 1. Обзор данных.\n",
    " 2. Предобработка данных.\n",
    " 3. Проверка гипотез.\n",
    "\n"
   ]
  },
  {
   "cell_type": "markdown",
   "metadata": {
    "deletable": false,
    "editable": false,
    "id": "Ml1hmfXC_Zcs"
   },
   "source": [
    "## Обзор данных\n",
    "\n",
    "Составьте первое представление о данных Яндекс Музыки.\n",
    "\n",
    "\n"
   ]
  },
  {
   "cell_type": "markdown",
   "metadata": {
    "deletable": false,
    "editable": false,
    "id": "57eAOGIz_Zcs",
    "tags": [
     "start_task"
    ]
   },
   "source": [
    "**Задание 1**\n",
    "\n",
    "Основной инструмент аналитика — `pandas`. Импортируйте эту библиотеку."
   ]
  },
  {
   "cell_type": "code",
   "execution_count": 1,
   "metadata": {
    "deletable": false,
    "id": "AXN7PHPN_Zcs"
   },
   "outputs": [],
   "source": [
    "# импорт библиотеки pandas\n",
    "import pandas as pd"
   ]
  },
  {
   "cell_type": "markdown",
   "metadata": {
    "deletable": false,
    "editable": false,
    "id": "SG23P8tt_Zcs",
    "tags": [
     "start_task"
    ]
   },
   "source": [
    "**Задание 2**\n",
    "\n",
    "Прочитайте файл `yandex_music_project.csv` из папки `/datasets` и сохраните его в переменной `df`:"
   ]
  },
  {
   "cell_type": "code",
   "execution_count": 2,
   "metadata": {
    "deletable": false,
    "id": "fFVu7vqh_Zct"
   },
   "outputs": [],
   "source": [
    "# чтение файла с данными и сохранение в df\n",
    "df = pd.read_csv('datasets/yandex_music_project.csv')"
   ]
  },
  {
   "cell_type": "markdown",
   "metadata": {
    "deletable": false,
    "editable": false,
    "id": "rDoOMd3uTqnZ",
    "tags": [
     "start_task"
    ]
   },
   "source": [
    "**Задание 3**\n",
    "\n",
    "\n",
    "Выведите на экран первые десять строк таблицы:"
   ]
  },
  {
   "cell_type": "code",
   "execution_count": 3,
   "metadata": {
    "deletable": false,
    "id": "oWTVX3gW_Zct"
   },
   "outputs": [
    {
     "data": {
      "text/html": [
       "<div>\n",
       "<style scoped>\n",
       "    .dataframe tbody tr th:only-of-type {\n",
       "        vertical-align: middle;\n",
       "    }\n",
       "\n",
       "    .dataframe tbody tr th {\n",
       "        vertical-align: top;\n",
       "    }\n",
       "\n",
       "    .dataframe thead th {\n",
       "        text-align: right;\n",
       "    }\n",
       "</style>\n",
       "<table border=\"1\" class=\"dataframe\">\n",
       "  <thead>\n",
       "    <tr style=\"text-align: right;\">\n",
       "      <th></th>\n",
       "      <th>userID</th>\n",
       "      <th>Track</th>\n",
       "      <th>artist</th>\n",
       "      <th>genre</th>\n",
       "      <th>City</th>\n",
       "      <th>time</th>\n",
       "      <th>Day</th>\n",
       "    </tr>\n",
       "  </thead>\n",
       "  <tbody>\n",
       "    <tr>\n",
       "      <th>0</th>\n",
       "      <td>FFB692EC</td>\n",
       "      <td>Kamigata To Boots</td>\n",
       "      <td>The Mass Missile</td>\n",
       "      <td>rock</td>\n",
       "      <td>Saint-Petersburg</td>\n",
       "      <td>20:28:33</td>\n",
       "      <td>Wednesday</td>\n",
       "    </tr>\n",
       "    <tr>\n",
       "      <th>1</th>\n",
       "      <td>55204538</td>\n",
       "      <td>Delayed Because of Accident</td>\n",
       "      <td>Andreas Rönnberg</td>\n",
       "      <td>rock</td>\n",
       "      <td>Moscow</td>\n",
       "      <td>14:07:09</td>\n",
       "      <td>Friday</td>\n",
       "    </tr>\n",
       "    <tr>\n",
       "      <th>2</th>\n",
       "      <td>20EC38</td>\n",
       "      <td>Funiculì funiculà</td>\n",
       "      <td>Mario Lanza</td>\n",
       "      <td>pop</td>\n",
       "      <td>Saint-Petersburg</td>\n",
       "      <td>20:58:07</td>\n",
       "      <td>Wednesday</td>\n",
       "    </tr>\n",
       "    <tr>\n",
       "      <th>3</th>\n",
       "      <td>A3DD03C9</td>\n",
       "      <td>Dragons in the Sunset</td>\n",
       "      <td>Fire + Ice</td>\n",
       "      <td>folk</td>\n",
       "      <td>Saint-Petersburg</td>\n",
       "      <td>08:37:09</td>\n",
       "      <td>Monday</td>\n",
       "    </tr>\n",
       "    <tr>\n",
       "      <th>4</th>\n",
       "      <td>E2DC1FAE</td>\n",
       "      <td>Soul People</td>\n",
       "      <td>Space Echo</td>\n",
       "      <td>dance</td>\n",
       "      <td>Moscow</td>\n",
       "      <td>08:34:34</td>\n",
       "      <td>Monday</td>\n",
       "    </tr>\n",
       "    <tr>\n",
       "      <th>5</th>\n",
       "      <td>842029A1</td>\n",
       "      <td>Преданная</td>\n",
       "      <td>IMPERVTOR</td>\n",
       "      <td>rusrap</td>\n",
       "      <td>Saint-Petersburg</td>\n",
       "      <td>13:09:41</td>\n",
       "      <td>Friday</td>\n",
       "    </tr>\n",
       "    <tr>\n",
       "      <th>6</th>\n",
       "      <td>4CB90AA5</td>\n",
       "      <td>True</td>\n",
       "      <td>Roman Messer</td>\n",
       "      <td>dance</td>\n",
       "      <td>Moscow</td>\n",
       "      <td>13:00:07</td>\n",
       "      <td>Wednesday</td>\n",
       "    </tr>\n",
       "    <tr>\n",
       "      <th>7</th>\n",
       "      <td>F03E1C1F</td>\n",
       "      <td>Feeling This Way</td>\n",
       "      <td>Polina Griffith</td>\n",
       "      <td>dance</td>\n",
       "      <td>Moscow</td>\n",
       "      <td>20:47:49</td>\n",
       "      <td>Wednesday</td>\n",
       "    </tr>\n",
       "    <tr>\n",
       "      <th>8</th>\n",
       "      <td>8FA1D3BE</td>\n",
       "      <td>И вновь продолжается бой</td>\n",
       "      <td>NaN</td>\n",
       "      <td>ruspop</td>\n",
       "      <td>Moscow</td>\n",
       "      <td>09:17:40</td>\n",
       "      <td>Friday</td>\n",
       "    </tr>\n",
       "    <tr>\n",
       "      <th>9</th>\n",
       "      <td>E772D5C0</td>\n",
       "      <td>Pessimist</td>\n",
       "      <td>NaN</td>\n",
       "      <td>dance</td>\n",
       "      <td>Saint-Petersburg</td>\n",
       "      <td>21:20:49</td>\n",
       "      <td>Wednesday</td>\n",
       "    </tr>\n",
       "  </tbody>\n",
       "</table>\n",
       "</div>"
      ],
      "text/plain": [
       "     userID                        Track            artist   genre  \\\n",
       "0  FFB692EC            Kamigata To Boots  The Mass Missile    rock   \n",
       "1  55204538  Delayed Because of Accident  Andreas Rönnberg    rock   \n",
       "2    20EC38            Funiculì funiculà       Mario Lanza     pop   \n",
       "3  A3DD03C9        Dragons in the Sunset        Fire + Ice    folk   \n",
       "4  E2DC1FAE                  Soul People        Space Echo   dance   \n",
       "5  842029A1                    Преданная         IMPERVTOR  rusrap   \n",
       "6  4CB90AA5                         True      Roman Messer   dance   \n",
       "7  F03E1C1F             Feeling This Way   Polina Griffith   dance   \n",
       "8  8FA1D3BE     И вновь продолжается бой               NaN  ruspop   \n",
       "9  E772D5C0                    Pessimist               NaN   dance   \n",
       "\n",
       "             City        time        Day  \n",
       "0  Saint-Petersburg  20:28:33  Wednesday  \n",
       "1            Moscow  14:07:09     Friday  \n",
       "2  Saint-Petersburg  20:58:07  Wednesday  \n",
       "3  Saint-Petersburg  08:37:09     Monday  \n",
       "4            Moscow  08:34:34     Monday  \n",
       "5  Saint-Petersburg  13:09:41     Friday  \n",
       "6            Moscow  13:00:07  Wednesday  \n",
       "7            Moscow  20:47:49  Wednesday  \n",
       "8            Moscow  09:17:40     Friday  \n",
       "9  Saint-Petersburg  21:20:49  Wednesday  "
      ]
     },
     "execution_count": 3,
     "metadata": {},
     "output_type": "execute_result"
    }
   ],
   "source": [
    "# получение первых 10 строк таблицы df\n",
    "df.head(10)"
   ]
  },
  {
   "cell_type": "markdown",
   "metadata": {
    "deletable": false,
    "editable": false,
    "id": "EO73Kwic_Zct",
    "tags": [
     "start_task"
    ]
   },
   "source": [
    "**Задание 4**\n",
    "\n",
    "\n",
    "Одной командой получить общую информацию о таблице c помощью метода `info()`:"
   ]
  },
  {
   "cell_type": "code",
   "execution_count": 4,
   "metadata": {
    "deletable": false,
    "id": "DSf2kIb-_Zct"
   },
   "outputs": [
    {
     "name": "stdout",
     "output_type": "stream",
     "text": [
      "<class 'pandas.core.frame.DataFrame'>\n",
      "RangeIndex: 65079 entries, 0 to 65078\n",
      "Data columns (total 7 columns):\n",
      " #   Column    Non-Null Count  Dtype \n",
      "---  ------    --------------  ----- \n",
      " 0     userID  65079 non-null  object\n",
      " 1   Track     63848 non-null  object\n",
      " 2   artist    57876 non-null  object\n",
      " 3   genre     63881 non-null  object\n",
      " 4     City    65079 non-null  object\n",
      " 5   time      65079 non-null  object\n",
      " 6   Day       65079 non-null  object\n",
      "dtypes: object(7)\n",
      "memory usage: 3.5+ MB\n"
     ]
    }
   ],
   "source": [
    "# получение общей информации о данных в таблице df\n",
    "df.info()"
   ]
  },
  {
   "cell_type": "markdown",
   "metadata": {
    "deletable": false,
    "editable": false,
    "id": "TaQ2Iwbr_Zct"
   },
   "source": [
    "Итак, в таблице семь столбцов. Тип данных во всех столбцах — `object`.\n",
    "\n",
    "Согласно документации к данным:\n",
    "* `userID` — идентификатор пользователя;\n",
    "* `Track` — название трека;  \n",
    "* `artist` — имя исполнителя;\n",
    "* `genre` — название жанра;\n",
    "* `City` — город пользователя;\n",
    "* `time` — время начала прослушивания;\n",
    "* `Day` — день недели.\n",
    "\n",
    "Количество значений в столбцах различается. Значит, в данных есть пропущенные значения."
   ]
  },
  {
   "cell_type": "markdown",
   "metadata": {
    "deletable": false,
    "editable": false,
    "id": "rAfziTBDmf2h",
    "tags": [
     "start_task"
    ]
   },
   "source": [
    "**Задание 5**\n",
    "\n",
    "**Вопрос со свободной формой ответа**\n",
    "\n",
    "В названиях колонок видны нарушения стиля:\n",
    "* Строчные буквы сочетаются с прописными.\n",
    "* Встречаются пробелы.\n",
    "\n",
    "Какое третье нарушение?"
   ]
  },
  {
   "cell_type": "code",
   "execution_count": 5,
   "metadata": {
    "id": "jD8EXEIvmf2h"
   },
   "outputs": [],
   "source": [
    "# Использование в наименовании функции пайтона\n"
   ]
  },
  {
   "cell_type": "markdown",
   "metadata": {
    "deletable": false,
    "editable": false,
    "id": "MCB6-dXG_Zct"
   },
   "source": [
    "**Выводы**\n",
    "\n",
    "В каждой строке таблицы — данные о прослушанном треке. Часть колонок описывает саму композицию: название, исполнителя и жанр. Остальные данные рассказывают о пользователе: из какого он города, когда он слушал музыку. \n",
    "\n",
    "Предварительно можно утверждать, что данных достаточно для проверки гипотез. Но встречаются пропуски в данных, а в названиях колонок — расхождения с хорошим стилем.\n",
    "\n",
    "Чтобы двигаться дальше, нужно устранить проблемы в данных."
   ]
  },
  {
   "cell_type": "markdown",
   "metadata": {
    "deletable": false,
    "editable": false,
    "id": "SjYF6Ub9_Zct"
   },
   "source": [
    "## Предобработка данных\n",
    "Исправьте стиль в заголовках столбцов, исключите пропуски. Затем проверьте данные на дубликаты."
   ]
  },
  {
   "cell_type": "markdown",
   "metadata": {
    "deletable": false,
    "editable": false,
    "id": "dIaKXr29_Zct",
    "tags": [
     "start_task"
    ]
   },
   "source": [
    "### Стиль заголовков\n",
    "\n",
    "**Задание 6**\n",
    "\n",
    "Выведите на экран названия столбцов:"
   ]
  },
  {
   "cell_type": "code",
   "execution_count": 6,
   "metadata": {
    "deletable": false,
    "id": "oKOTdF_Q_Zct"
   },
   "outputs": [
    {
     "data": {
      "text/plain": [
       "Index(['  userID', 'Track', 'artist', 'genre', '  City  ', 'time', 'Day'], dtype='object')"
      ]
     },
     "execution_count": 6,
     "metadata": {},
     "output_type": "execute_result"
    }
   ],
   "source": [
    "# перечень названий столбцов таблицы df\n",
    "df.columns"
   ]
  },
  {
   "cell_type": "markdown",
   "metadata": {
    "deletable": false,
    "editable": false,
    "id": "zj5534cv_Zct",
    "tags": [
     "start_task"
    ]
   },
   "source": [
    "**Задание 7**\n",
    "\n",
    "\n",
    "Приведите названия в соответствие с хорошим стилем:\n",
    "* несколько слов в названии запишите в «змеином_регистре»,\n",
    "* все символы сделайте строчными,\n",
    "* устраните пробелы.\n",
    "\n",
    "Для этого переименуйте колонки так:\n",
    "* `'  userID'` → `'user_id'`;\n",
    "* `'Track'` → `'track'`;\n",
    "* `'  City  '` → `'city'`;\n",
    "* `'Day'` → `'day'`."
   ]
  },
  {
   "cell_type": "code",
   "execution_count": 7,
   "metadata": {
    "deletable": false,
    "id": "ISlFqs5y_Zct"
   },
   "outputs": [],
   "source": [
    "# переименование столбцов\n",
    "df = df.rename(columns = {'  userID': 'user_id', 'Track': 'track', '  City  ': 'city', 'Day': 'day'})"
   ]
  },
  {
   "cell_type": "markdown",
   "metadata": {
    "deletable": false,
    "editable": false,
    "id": "1dqbh00J_Zct",
    "tags": [
     "start_task"
    ]
   },
   "source": [
    "**Задание 8**\n",
    "\n",
    "\n",
    "Проверьте результат. Для этого ещё раз выведите на экран названия столбцов:"
   ]
  },
  {
   "cell_type": "code",
   "execution_count": 8,
   "metadata": {
    "deletable": false,
    "id": "d4NOAmTW_Zct"
   },
   "outputs": [
    {
     "data": {
      "text/plain": [
       "Index(['user_id', 'track', 'artist', 'genre', 'city', 'time', 'day'], dtype='object')"
      ]
     },
     "execution_count": 8,
     "metadata": {},
     "output_type": "execute_result"
    }
   ],
   "source": [
    "# проверка результатов - перечень названий столбцов\n",
    "df.columns"
   ]
  },
  {
   "cell_type": "markdown",
   "metadata": {
    "deletable": false,
    "editable": false,
    "id": "5ISfbcfY_Zct",
    "tags": [
     "start_task"
    ]
   },
   "source": [
    "### Пропуски значений\n",
    "\n",
    "**Задание 9**\n",
    "\n",
    "Сначала посчитайте, сколько в таблице пропущенных значений. Для этого достаточно двух методов `pandas`:"
   ]
  },
  {
   "cell_type": "code",
   "execution_count": 9,
   "metadata": {
    "deletable": false,
    "id": "RskX29qr_Zct"
   },
   "outputs": [
    {
     "data": {
      "text/plain": [
       "user_id       0\n",
       "track      1231\n",
       "artist     7203\n",
       "genre      1198\n",
       "city          0\n",
       "time          0\n",
       "day           0\n",
       "dtype: int64"
      ]
     },
     "execution_count": 9,
     "metadata": {},
     "output_type": "execute_result"
    }
   ],
   "source": [
    "# подсчёт пропусков\n",
    "df.isna().sum()"
   ]
  },
  {
   "cell_type": "markdown",
   "metadata": {
    "deletable": false,
    "editable": false,
    "id": "qubhgnlO_Zct"
   },
   "source": [
    "Не все пропущенные значения влияют на исследование. Так в `track` и `artist` пропуски не важны для вашей работы. Достаточно заменить их явными обозначениями.\n",
    "\n",
    "Но пропуски в `genre` могут помешать сравнению музыкальных вкусов в Москве и Санкт-Петербурге. На практике было бы правильно установить причину пропусков и восстановить данные. Такой возможности нет в учебном проекте. Придётся:\n",
    "* заполнить и эти пропуски явными обозначениями;\n",
    "* оценить, насколько они повредят расчётам. "
   ]
  },
  {
   "cell_type": "markdown",
   "metadata": {
    "deletable": false,
    "editable": false,
    "id": "fSv2laPA_Zct",
    "tags": [
     "start_task"
    ]
   },
   "source": [
    "**Задание 10**\n",
    "\n",
    "Замените пропущенные значения в столбцах `track`, `artist` и `genre` на строку `'unknown'`. Для этого создайте список `columns_to_replace`, переберите его элементы циклом `for` и для каждого столбца выполните замену пропущенных значений:"
   ]
  },
  {
   "cell_type": "code",
   "execution_count": 10,
   "metadata": {
    "deletable": false,
    "id": "KplB5qWs_Zct"
   },
   "outputs": [],
   "source": [
    "# перебор названий столбцов в цикле и замена пропущенных значений на 'unknown'\n",
    "\n",
    "columns_to_replace = ['track', 'artist', 'genre']\n",
    "\n",
    "for col in columns_to_replace:\n",
    "    df[col] = df[col].fillna('unknown')"
   ]
  },
  {
   "cell_type": "markdown",
   "metadata": {
    "deletable": false,
    "editable": false,
    "id": "Ilsm-MZo_Zct",
    "tags": [
     "start_task"
    ]
   },
   "source": [
    "**Задание 11**\n",
    "\n",
    "Убедитесь, что в таблице не осталось пропусков. Для этого ещё раз посчитайте пропущенные значения."
   ]
  },
  {
   "cell_type": "code",
   "execution_count": 11,
   "metadata": {
    "deletable": false,
    "id": "Tq4nYRX4_Zct"
   },
   "outputs": [
    {
     "data": {
      "text/plain": [
       "user_id    0\n",
       "track      0\n",
       "artist     0\n",
       "genre      0\n",
       "city       0\n",
       "time       0\n",
       "day        0\n",
       "dtype: int64"
      ]
     },
     "execution_count": 11,
     "metadata": {},
     "output_type": "execute_result"
    }
   ],
   "source": [
    "# подсчёт пропусков\n",
    "df.isna().sum()"
   ]
  },
  {
   "cell_type": "markdown",
   "metadata": {
    "deletable": false,
    "editable": false,
    "id": "BWKRtBJ3_Zct",
    "tags": [
     "start_task"
    ]
   },
   "source": [
    "### Дубликаты\n",
    "\n",
    "**Задание 12**\n",
    "\n",
    "Посчитайте явные дубликаты в таблице одной командой:"
   ]
  },
  {
   "cell_type": "code",
   "execution_count": 12,
   "metadata": {
    "deletable": false,
    "id": "36eES_S0_Zct"
   },
   "outputs": [
    {
     "data": {
      "text/plain": [
       "3826"
      ]
     },
     "execution_count": 12,
     "metadata": {},
     "output_type": "execute_result"
    }
   ],
   "source": [
    "# подсчёт явных дубликатов\n",
    "df.duplicated().sum()"
   ]
  },
  {
   "cell_type": "markdown",
   "metadata": {
    "deletable": false,
    "editable": false,
    "id": "Ot25h6XR_Zct",
    "tags": [
     "start_task"
    ]
   },
   "source": [
    "**Задание 13**\n",
    "\n",
    "Вызовите специальный метод `pandas`, чтобы удалить явные дубликаты:"
   ]
  },
  {
   "cell_type": "code",
   "execution_count": 13,
   "metadata": {
    "deletable": false,
    "id": "exFHq6tt_Zct"
   },
   "outputs": [],
   "source": [
    "# удаление явных дубликатов\n",
    "df = df.drop_duplicates()"
   ]
  },
  {
   "cell_type": "markdown",
   "metadata": {
    "deletable": false,
    "editable": false,
    "id": "Im2YwBEG_Zct",
    "tags": [
     "start_task"
    ]
   },
   "source": [
    "**Задание 14**\n",
    "\n",
    "Ещё раз посчитайте явные дубликаты в таблице — убедитесь, что полностью от них избавились:"
   ]
  },
  {
   "cell_type": "code",
   "execution_count": 14,
   "metadata": {
    "deletable": false,
    "id": "-8PuNWQ0_Zct"
   },
   "outputs": [
    {
     "data": {
      "text/plain": [
       "0"
      ]
     },
     "execution_count": 14,
     "metadata": {},
     "output_type": "execute_result"
    }
   ],
   "source": [
    "# проверка на отсутствие дубликатов\n",
    "df.duplicated().sum()"
   ]
  },
  {
   "cell_type": "markdown",
   "metadata": {
    "deletable": false,
    "editable": false,
    "id": "QlFBsxAr_Zct"
   },
   "source": [
    "Теперь избавьтесь от неявных дубликатов в колонке `genre`. Например, название одного и того же жанра может быть записано немного по-разному. Такие ошибки тоже повлияют на результат исследования."
   ]
  },
  {
   "cell_type": "markdown",
   "metadata": {
    "deletable": false,
    "editable": false,
    "id": "eSjWwsOh_Zct",
    "tags": [
     "start_task"
    ]
   },
   "source": [
    "**Задание 15**\n",
    "\n",
    "Выведите на экран список уникальных названий жанров, отсортированный в алфавитном порядке. Для этого:\n",
    "1. извлеките нужный столбец датафрейма; \n",
    "2. примените к нему метод сортировки;\n",
    "3. для отсортированного столбца вызовите метод, который вернёт уникальные значения из столбца."
   ]
  },
  {
   "cell_type": "code",
   "execution_count": 15,
   "metadata": {
    "deletable": false,
    "id": "JIUcqzZN_Zct"
   },
   "outputs": [
    {
     "name": "stdout",
     "output_type": "stream",
     "text": [
      "['acid' 'acoustic' 'action' 'adult' 'africa' 'afrikaans' 'alternative'\n",
      " 'alternativepunk' 'ambient' 'americana' 'animated' 'anime' 'arabesk'\n",
      " 'arabic' 'arena' 'argentinetango' 'art' 'audiobook' 'author' 'avantgarde'\n",
      " 'axé' 'baile' 'balkan' 'beats' 'bigroom' 'black' 'bluegrass' 'blues'\n",
      " 'bollywood' 'bossa' 'brazilian' 'breakbeat' 'breaks' 'broadway'\n",
      " 'cantautori' 'cantopop' 'canzone' 'caribbean' 'caucasian' 'celtic'\n",
      " 'chamber' 'chanson' 'children' 'chill' 'chinese' 'choral' 'christian'\n",
      " 'christmas' 'classical' 'classicmetal' 'club' 'colombian' 'comedy'\n",
      " 'conjazz' 'contemporary' 'country' 'cuban' 'dance' 'dancehall' 'dancepop'\n",
      " 'dark' 'death' 'deep' 'deutschrock' 'deutschspr' 'dirty' 'disco' 'dnb'\n",
      " 'documentary' 'downbeat' 'downtempo' 'drum' 'dub' 'dubstep' 'eastern'\n",
      " 'easy' 'electronic' 'electropop' 'emo' 'entehno' 'epicmetal' 'estrada'\n",
      " 'ethnic' 'eurofolk' 'european' 'experimental' 'extrememetal' 'fado'\n",
      " 'fairytail' 'film' 'fitness' 'flamenco' 'folk' 'folklore' 'folkmetal'\n",
      " 'folkrock' 'folktronica' 'forró' 'frankreich' 'französisch' 'french'\n",
      " 'funk' 'future' 'gangsta' 'garage' 'german' 'ghazal' 'gitarre' 'glitch'\n",
      " 'gospel' 'gothic' 'grime' 'grunge' 'gypsy' 'handsup' \"hard'n'heavy\"\n",
      " 'hardcore' 'hardstyle' 'hardtechno' 'hip' 'hip-hop' 'hiphop' 'historisch'\n",
      " 'holiday' 'hop' 'horror' 'house' 'hymn' 'idm' 'independent' 'indian'\n",
      " 'indie' 'indipop' 'industrial' 'inspirational' 'instrumental'\n",
      " 'international' 'irish' 'jam' 'japanese' 'jazz' 'jewish' 'jpop' 'jungle'\n",
      " 'k-pop' 'karadeniz' 'karaoke' 'kayokyoku' 'korean' 'laiko' 'latin'\n",
      " 'latino' 'leftfield' 'local' 'lounge' 'loungeelectronic' 'lovers'\n",
      " 'malaysian' 'mandopop' 'marschmusik' 'meditative' 'mediterranean'\n",
      " 'melodic' 'metal' 'metalcore' 'mexican' 'middle' 'minimal'\n",
      " 'miscellaneous' 'modern' 'mood' 'mpb' 'muslim' 'native' 'neoklassik'\n",
      " 'neue' 'new' 'newage' 'newwave' 'nu' 'nujazz' 'numetal' 'oceania' 'old'\n",
      " 'opera' 'orchestral' 'other' 'piano' 'podcasts' 'pop' 'popdance'\n",
      " 'popelectronic' 'popeurodance' 'poprussian' 'post' 'posthardcore'\n",
      " 'postrock' 'power' 'progmetal' 'progressive' 'psychedelic' 'punjabi'\n",
      " 'punk' 'quebecois' 'ragga' 'ram' 'rancheras' 'rap' 'rave' 'reggae'\n",
      " 'reggaeton' 'regional' 'relax' 'religious' 'retro' 'rhythm' 'rnb' 'rnr'\n",
      " 'rock' 'rockabilly' 'rockalternative' 'rockindie' 'rockother' 'romance'\n",
      " 'roots' 'ruspop' 'rusrap' 'rusrock' 'russian' 'salsa' 'samba' 'scenic'\n",
      " 'schlager' 'self' 'sertanejo' 'shanson' 'shoegazing' 'showtunes' 'singer'\n",
      " 'ska' 'skarock' 'slow' 'smooth' 'soft' 'soul' 'soulful' 'sound'\n",
      " 'soundtrack' 'southern' 'specialty' 'speech' 'spiritual' 'sport'\n",
      " 'stonerrock' 'surf' 'swing' 'synthpop' 'synthrock' 'sängerportrait'\n",
      " 'tango' 'tanzorchester' 'taraftar' 'tatar' 'tech' 'techno' 'teen'\n",
      " 'thrash' 'top' 'traditional' 'tradjazz' 'trance' 'tribal' 'trip'\n",
      " 'triphop' 'tropical' 'türk' 'türkçe' 'ukrrock' 'unknown' 'urban' 'uzbek'\n",
      " 'variété' 'vi' 'videogame' 'vocal' 'western' 'world' 'worldbeat' 'ïîï'\n",
      " 'электроника']\n"
     ]
    }
   ],
   "source": [
    "# Просмотр уникальных названий жанров\n",
    "\n",
    "print(df['genre'].sort_values().unique())"
   ]
  },
  {
   "cell_type": "markdown",
   "metadata": {
    "deletable": false,
    "editable": false,
    "id": "qej-Qmuo_Zct",
    "tags": [
     "start_task"
    ]
   },
   "source": [
    "**Задание 16**\n",
    "\n",
    "Просмотрите список и найдите неявные дубликаты названия `hiphop`. Это могут быть названия с ошибками или альтернативные названия того же жанра.\n",
    "\n",
    "Вы увидите следующие неявные дубликаты:\n",
    "* *hip*,\n",
    "* *hop*,\n",
    "* *hip-hop*.\n",
    "\n",
    "Чтобы очистить от них таблицу используйте метод `replace()` с двумя аргументами: списком строк-дубликатов (включащий *hip*, *hop* и *hip-hop*) и строкой с правильным значением. Вам нужно исправить колонку `genre` в таблице `df`: заменить каждое значение из списка дубликатов на верное. Вместо `hip`, `hop` и `hip-hop` в таблице должно быть значение `hiphop`:"
   ]
  },
  {
   "cell_type": "code",
   "execution_count": 16,
   "metadata": {
    "deletable": false,
    "id": "ErNDkmns_Zct",
    "scrolled": false
   },
   "outputs": [],
   "source": [
    "# Устранение неявных дубликатов\n",
    "df['genre'] = df['genre'].replace(['hip', 'hop', 'hip-hop'], 'hiphop')"
   ]
  },
  {
   "cell_type": "markdown",
   "metadata": {
    "deletable": false,
    "editable": false,
    "id": "zQKF16_RG15m",
    "tags": [
     "start_task"
    ]
   },
   "source": [
    "**Задание 17**\n",
    "\n",
    "Проверьте, что заменили неправильные названия:\n",
    "\n",
    "*   hip,\n",
    "*   hop,\n",
    "*   hip-hop.\n",
    "\n",
    "Выведите отсортированный список уникальных значений столбца `genre`:"
   ]
  },
  {
   "cell_type": "code",
   "execution_count": 17,
   "metadata": {
    "deletable": false,
    "id": "wvixALnFG15m"
   },
   "outputs": [
    {
     "name": "stdout",
     "output_type": "stream",
     "text": [
      "['acid' 'acoustic' 'action' 'adult' 'africa' 'afrikaans' 'alternative'\n",
      " 'alternativepunk' 'ambient' 'americana' 'animated' 'anime' 'arabesk'\n",
      " 'arabic' 'arena' 'argentinetango' 'art' 'audiobook' 'author' 'avantgarde'\n",
      " 'axé' 'baile' 'balkan' 'beats' 'bigroom' 'black' 'bluegrass' 'blues'\n",
      " 'bollywood' 'bossa' 'brazilian' 'breakbeat' 'breaks' 'broadway'\n",
      " 'cantautori' 'cantopop' 'canzone' 'caribbean' 'caucasian' 'celtic'\n",
      " 'chamber' 'chanson' 'children' 'chill' 'chinese' 'choral' 'christian'\n",
      " 'christmas' 'classical' 'classicmetal' 'club' 'colombian' 'comedy'\n",
      " 'conjazz' 'contemporary' 'country' 'cuban' 'dance' 'dancehall' 'dancepop'\n",
      " 'dark' 'death' 'deep' 'deutschrock' 'deutschspr' 'dirty' 'disco' 'dnb'\n",
      " 'documentary' 'downbeat' 'downtempo' 'drum' 'dub' 'dubstep' 'eastern'\n",
      " 'easy' 'electronic' 'electropop' 'emo' 'entehno' 'epicmetal' 'estrada'\n",
      " 'ethnic' 'eurofolk' 'european' 'experimental' 'extrememetal' 'fado'\n",
      " 'fairytail' 'film' 'fitness' 'flamenco' 'folk' 'folklore' 'folkmetal'\n",
      " 'folkrock' 'folktronica' 'forró' 'frankreich' 'französisch' 'french'\n",
      " 'funk' 'future' 'gangsta' 'garage' 'german' 'ghazal' 'gitarre' 'glitch'\n",
      " 'gospel' 'gothic' 'grime' 'grunge' 'gypsy' 'handsup' \"hard'n'heavy\"\n",
      " 'hardcore' 'hardstyle' 'hardtechno' 'hiphop' 'historisch' 'holiday'\n",
      " 'horror' 'house' 'hymn' 'idm' 'independent' 'indian' 'indie' 'indipop'\n",
      " 'industrial' 'inspirational' 'instrumental' 'international' 'irish' 'jam'\n",
      " 'japanese' 'jazz' 'jewish' 'jpop' 'jungle' 'k-pop' 'karadeniz' 'karaoke'\n",
      " 'kayokyoku' 'korean' 'laiko' 'latin' 'latino' 'leftfield' 'local'\n",
      " 'lounge' 'loungeelectronic' 'lovers' 'malaysian' 'mandopop' 'marschmusik'\n",
      " 'meditative' 'mediterranean' 'melodic' 'metal' 'metalcore' 'mexican'\n",
      " 'middle' 'minimal' 'miscellaneous' 'modern' 'mood' 'mpb' 'muslim'\n",
      " 'native' 'neoklassik' 'neue' 'new' 'newage' 'newwave' 'nu' 'nujazz'\n",
      " 'numetal' 'oceania' 'old' 'opera' 'orchestral' 'other' 'piano' 'podcasts'\n",
      " 'pop' 'popdance' 'popelectronic' 'popeurodance' 'poprussian' 'post'\n",
      " 'posthardcore' 'postrock' 'power' 'progmetal' 'progressive' 'psychedelic'\n",
      " 'punjabi' 'punk' 'quebecois' 'ragga' 'ram' 'rancheras' 'rap' 'rave'\n",
      " 'reggae' 'reggaeton' 'regional' 'relax' 'religious' 'retro' 'rhythm'\n",
      " 'rnb' 'rnr' 'rock' 'rockabilly' 'rockalternative' 'rockindie' 'rockother'\n",
      " 'romance' 'roots' 'ruspop' 'rusrap' 'rusrock' 'russian' 'salsa' 'samba'\n",
      " 'scenic' 'schlager' 'self' 'sertanejo' 'shanson' 'shoegazing' 'showtunes'\n",
      " 'singer' 'ska' 'skarock' 'slow' 'smooth' 'soft' 'soul' 'soulful' 'sound'\n",
      " 'soundtrack' 'southern' 'specialty' 'speech' 'spiritual' 'sport'\n",
      " 'stonerrock' 'surf' 'swing' 'synthpop' 'synthrock' 'sängerportrait'\n",
      " 'tango' 'tanzorchester' 'taraftar' 'tatar' 'tech' 'techno' 'teen'\n",
      " 'thrash' 'top' 'traditional' 'tradjazz' 'trance' 'tribal' 'trip'\n",
      " 'triphop' 'tropical' 'türk' 'türkçe' 'ukrrock' 'unknown' 'urban' 'uzbek'\n",
      " 'variété' 'vi' 'videogame' 'vocal' 'western' 'world' 'worldbeat' 'ïîï'\n",
      " 'электроника']\n"
     ]
    }
   ],
   "source": [
    "# Проверка на неявные дубликаты\n",
    "print(df['genre'].sort_values().unique())"
   ]
  },
  {
   "cell_type": "markdown",
   "metadata": {
    "deletable": false,
    "editable": false,
    "id": "jz6a9-7HQUDd"
   },
   "source": [
    "**Выводы**\n",
    "\n",
    "Предобработка обнаружила три проблемы в данных:\n",
    "\n",
    "- нарушения в стиле заголовков,\n",
    "- пропущенные значения,\n",
    "- дубликаты — явные и неявные.\n",
    "\n",
    "Вы исправили заголовки, чтобы упростить работу с таблицей. Без дубликатов исследование станет более точным.\n",
    "\n",
    "Пропущенные значения вы заменили на `'unknown'`. Ещё предстоит увидеть, не повредят ли исследованию пропуски в колонке `genre`.\n",
    "\n",
    "Теперь можно перейти к проверке гипотез. "
   ]
  },
  {
   "cell_type": "markdown",
   "metadata": {
    "deletable": false,
    "editable": false,
    "id": "WttZHXH0SqKk"
   },
   "source": [
    "## Проверка гипотез"
   ]
  },
  {
   "cell_type": "markdown",
   "metadata": {
    "deletable": false,
    "editable": false,
    "id": "Im936VVi_Zcu"
   },
   "source": [
    "### Сравнение поведения пользователей двух столиц"
   ]
  },
  {
   "cell_type": "markdown",
   "metadata": {
    "deletable": false,
    "editable": false,
    "id": "nwt_MuaL_Zcu"
   },
   "source": [
    "Первая гипотеза утверждает, что пользователи по-разному слушают музыку в Москве и Санкт-Петербурге. Проверьте это предположение по данным о трёх днях недели — понедельнике, среде и пятнице. Для этого:\n",
    "\n",
    "* Разделите пользователей Москвы и Санкт-Петербурга.\n",
    "* Сравните, сколько треков послушала каждая группа пользователей в понедельник, среду и пятницу.\n"
   ]
  },
  {
   "cell_type": "markdown",
   "metadata": {
    "deletable": false,
    "editable": false,
    "id": "8Dw_YMmT_Zcu",
    "tags": [
     "start_task"
    ]
   },
   "source": [
    "**Задание 18**\n",
    "\n",
    "Для тренировки сначала выполните каждый из расчётов по отдельности. \n",
    "\n",
    "Оцените активность пользователей в каждом городе. Сгруппируйте данные по городу и посчитайте прослушивания в каждой группе.\n",
    "\n"
   ]
  },
  {
   "cell_type": "code",
   "execution_count": 18,
   "metadata": {
    "deletable": false,
    "id": "0_Qs96oh_Zcu"
   },
   "outputs": [
    {
     "name": "stdout",
     "output_type": "stream",
     "text": [
      "city\n",
      "Moscow              42741\n",
      "Saint-Petersburg    18512\n",
      "Name: genre, dtype: int64\n"
     ]
    }
   ],
   "source": [
    "# Подсчёт прослушиваний в каждом городе\n",
    "\n",
    "print(df.groupby('city')['genre'].count())"
   ]
  },
  {
   "cell_type": "markdown",
   "metadata": {
    "deletable": false,
    "editable": false,
    "id": "dzli3w8o_Zcu",
    "tags": [
     "start_task"
    ]
   },
   "source": [
    "В Москве прослушиваний больше, чем в Петербурге. Из этого не следует, что московские пользователи чаще слушают музыку. Просто самих пользователей в Москве больше.\n",
    "\n",
    "**Задание 19**\n",
    "\n",
    "Теперь сгруппируйте данные по дню недели и посчитайте прослушивания в понедельник, среду и пятницу. Учтите, что в данных есть информация о прослушиваниях только за эти дни.\n"
   ]
  },
  {
   "cell_type": "code",
   "execution_count": 19,
   "metadata": {
    "deletable": false,
    "id": "uZMKjiJz_Zcu"
   },
   "outputs": [
    {
     "name": "stdout",
     "output_type": "stream",
     "text": [
      "day\n",
      "Friday       21840\n",
      "Monday       21354\n",
      "Wednesday    18059\n",
      "Name: genre, dtype: int64\n"
     ]
    }
   ],
   "source": [
    "# Подсчёт прослушиваний в каждый из трёх дней\n",
    "print(df.groupby('day')['genre'].count())"
   ]
  },
  {
   "cell_type": "markdown",
   "metadata": {
    "deletable": false,
    "editable": false,
    "id": "cC2tNrlL_Zcu"
   },
   "source": [
    "В среднем пользователи из двух городов менее активны по средам. Но картина может измениться, если рассмотреть каждый город в отдельности."
   ]
  },
  {
   "cell_type": "markdown",
   "metadata": {
    "deletable": false,
    "editable": false,
    "id": "POzs8bGa_Zcu",
    "tags": [
     "start_task"
    ]
   },
   "source": [
    "**Задание 20**\n",
    "\n",
    "\n",
    "Вы видели, как работает группировка по городу и по дням недели. Теперь напишите функцию, которая объединит два эти расчёта.\n",
    "\n",
    "Создайте функцию `number_tracks()`, которая посчитает прослушивания для заданного дня и города. Ей понадобятся два параметра:\n",
    "* день недели,\n",
    "* название города.\n",
    "\n",
    "В функции сохраните в переменную строки исходной таблицы, у которых значение:\n",
    "  * в колонке `day` равно параметру `day`,\n",
    "  * в колонке `city` равно параметру `city`.\n",
    "\n",
    "Для этого примените последовательную фильтрацию с логической индексацией (или сложные логические выражения в одну строку, если вы уже знакомы с ними).\n",
    "\n",
    "Затем посчитайте значения в столбце `user_id` получившейся таблицы. Результат сохраните в новую переменную. Верните эту переменную из функции."
   ]
  },
  {
   "cell_type": "code",
   "execution_count": 20,
   "metadata": {
    "deletable": false,
    "id": "Nz3GdQB1_Zcu"
   },
   "outputs": [],
   "source": [
    "# <создание функции number_tracks()>\n",
    "# Объявляется функция с двумя параметрами: day, city.\n",
    "# В переменной track_list сохраняются те строки таблицы df, для которых \n",
    "# значение в столбце 'day' равно параметру day и одновременно значение\n",
    "# в столбце 'city' равно параметру city (используйте последовательную фильтрацию\n",
    "# с помощью логической индексации или сложные логические выражения в одну строку, если вы уже знакомы с ними).\n",
    "# В переменной track_list_count сохраняется число значений столбца 'user_id',\n",
    "# рассчитанное методом count() для таблицы track_list.\n",
    "# Функция возвращает число - значение track_list_count.\n",
    "\n",
    "# Функция для подсчёта прослушиваний для конкретного города и дня.\n",
    "# С помощью последовательной фильтрации с логической индексацией она \n",
    "# сначала получит из исходной таблицы строки с нужным днём,\n",
    "# затем из результата отфильтрует строки с нужным городом,\n",
    "# методом count() посчитает количество значений в колонке user_id. \n",
    "# Это количество функция вернёт в качестве результата\n",
    "\n",
    "def number_tracks(day, city):\n",
    "    track_list = df[(df['city'] == city) & (df['day'] == day)]\n",
    "    track_list_count = track_list['user_id'].count()\n",
    "    return track_list_count"
   ]
  },
  {
   "cell_type": "markdown",
   "metadata": {
    "deletable": false,
    "editable": false,
    "id": "ytf7xFrFJQ2r",
    "tags": [
     "start_task"
    ]
   },
   "source": [
    "**Задание 21**\n",
    "\n",
    "Вызовите `number_tracks()` шесть раз, меняя значение параметров — так, чтобы получить данные для каждого города в каждый из трёх дней."
   ]
  },
  {
   "cell_type": "code",
   "execution_count": 21,
   "metadata": {
    "deletable": false,
    "id": "rJcRATNQ_Zcu"
   },
   "outputs": [
    {
     "data": {
      "text/plain": [
       "15740"
      ]
     },
     "execution_count": 21,
     "metadata": {},
     "output_type": "execute_result"
    }
   ],
   "source": [
    "# количество прослушиваний в Москве по понедельникам\n",
    "number_tracks('Monday', 'Moscow')"
   ]
  },
  {
   "cell_type": "code",
   "execution_count": 22,
   "metadata": {
    "deletable": false,
    "id": "hq_ncZ5T_Zcu"
   },
   "outputs": [
    {
     "data": {
      "text/plain": [
       "5614"
      ]
     },
     "execution_count": 22,
     "metadata": {},
     "output_type": "execute_result"
    }
   ],
   "source": [
    "# количество прослушиваний в Санкт-Петербурге по понедельникам\n",
    "number_tracks('Monday', 'Saint-Petersburg')"
   ]
  },
  {
   "cell_type": "code",
   "execution_count": 23,
   "metadata": {
    "deletable": false,
    "id": "_NTy2VPU_Zcu"
   },
   "outputs": [
    {
     "data": {
      "text/plain": [
       "11056"
      ]
     },
     "execution_count": 23,
     "metadata": {},
     "output_type": "execute_result"
    }
   ],
   "source": [
    "# количество прослушиваний в Москве по средам\n",
    "number_tracks('Wednesday', 'Moscow')"
   ]
  },
  {
   "cell_type": "code",
   "execution_count": 24,
   "metadata": {
    "deletable": false,
    "id": "j2y3TAwo_Zcu"
   },
   "outputs": [
    {
     "data": {
      "text/plain": [
       "7003"
      ]
     },
     "execution_count": 24,
     "metadata": {},
     "output_type": "execute_result"
    }
   ],
   "source": [
    "# количество прослушиваний в Санкт-Петербурге по средам\n",
    "number_tracks('Wednesday', 'Saint-Petersburg')"
   ]
  },
  {
   "cell_type": "code",
   "execution_count": 25,
   "metadata": {
    "deletable": false,
    "id": "vYDw5u_K_Zcu"
   },
   "outputs": [
    {
     "data": {
      "text/plain": [
       "15945"
      ]
     },
     "execution_count": 25,
     "metadata": {},
     "output_type": "execute_result"
    }
   ],
   "source": [
    "# количество прослушиваний в Москве по пятницам\n",
    "number_tracks('Friday', 'Moscow')"
   ]
  },
  {
   "cell_type": "code",
   "execution_count": 26,
   "metadata": {
    "deletable": false,
    "id": "8_yzFtW3_Zcu"
   },
   "outputs": [
    {
     "data": {
      "text/plain": [
       "5895"
      ]
     },
     "execution_count": 26,
     "metadata": {},
     "output_type": "execute_result"
    }
   ],
   "source": [
    "# количество прослушиваний в Санкт-Петербурге по пятницам\n",
    "number_tracks('Friday', 'Saint-Petersburg')"
   ]
  },
  {
   "cell_type": "markdown",
   "metadata": {
    "deletable": false,
    "editable": false,
    "id": "7QXffbO-_Zcu",
    "tags": [
     "start_task"
    ]
   },
   "source": [
    "**Задание 22**\n",
    "\n",
    "Создайте c помощью конструктора `pd.DataFrame` таблицу, где\n",
    "* названия колонок — `['city', 'monday', 'wednesday', 'friday']`;\n",
    "* данные — результаты, которые вы получили с помощью `number_tracks`."
   ]
  },
  {
   "cell_type": "code",
   "execution_count": 27,
   "metadata": {
    "deletable": false,
    "id": "APAcLpOr_Zcu"
   },
   "outputs": [
    {
     "data": {
      "text/html": [
       "<div>\n",
       "<style scoped>\n",
       "    .dataframe tbody tr th:only-of-type {\n",
       "        vertical-align: middle;\n",
       "    }\n",
       "\n",
       "    .dataframe tbody tr th {\n",
       "        vertical-align: top;\n",
       "    }\n",
       "\n",
       "    .dataframe thead th {\n",
       "        text-align: right;\n",
       "    }\n",
       "</style>\n",
       "<table border=\"1\" class=\"dataframe\">\n",
       "  <thead>\n",
       "    <tr style=\"text-align: right;\">\n",
       "      <th></th>\n",
       "      <th>city</th>\n",
       "      <th>monday</th>\n",
       "      <th>wednesday</th>\n",
       "      <th>friday</th>\n",
       "    </tr>\n",
       "  </thead>\n",
       "  <tbody>\n",
       "    <tr>\n",
       "      <th>0</th>\n",
       "      <td>Moscow</td>\n",
       "      <td>15740</td>\n",
       "      <td>11056</td>\n",
       "      <td>15945</td>\n",
       "    </tr>\n",
       "    <tr>\n",
       "      <th>1</th>\n",
       "      <td>Saint-Petersburg</td>\n",
       "      <td>5614</td>\n",
       "      <td>7003</td>\n",
       "      <td>5895</td>\n",
       "    </tr>\n",
       "  </tbody>\n",
       "</table>\n",
       "</div>"
      ],
      "text/plain": [
       "               city  monday  wednesday  friday\n",
       "0            Moscow   15740      11056   15945\n",
       "1  Saint-Petersburg    5614       7003    5895"
      ]
     },
     "execution_count": 27,
     "metadata": {},
     "output_type": "execute_result"
    }
   ],
   "source": [
    "# Таблица с результатами\n",
    "columns_name = ['city', 'monday', 'wednesday', 'friday']\n",
    "\n",
    "info = pd.DataFrame(data = [['Moscow', 15740, 11056, 15945], ['Saint-Petersburg', 5614, 7003, 5895]], columns = columns_name)\n",
    "info"
   ]
  },
  {
   "cell_type": "markdown",
   "metadata": {
    "deletable": false,
    "editable": false,
    "id": "-EgPIHYu_Zcu"
   },
   "source": [
    "**Выводы**\n",
    "\n",
    "Данные показывают разницу поведения пользователей:\n",
    "\n",
    "- В Москве пик прослушиваний приходится на понедельник и пятницу, а в среду заметен спад.\n",
    "- В Петербурге, наоборот, больше слушают музыку по средам. Активность в понедельник и пятницу здесь почти в равной мере уступает среде.\n",
    "\n",
    "Значит, данные говорят в пользу первой гипотезы."
   ]
  },
  {
   "cell_type": "markdown",
   "metadata": {
    "deletable": false,
    "editable": false,
    "id": "atZAxtq4_Zcu"
   },
   "source": [
    "### Музыка в начале и в конце недели"
   ]
  },
  {
   "cell_type": "markdown",
   "metadata": {
    "deletable": false,
    "editable": false,
    "id": "eXrQqXFH_Zcu"
   },
   "source": [
    "Согласно второй гипотезе, утром в понедельник в Москве преобладают одни жанры, а в Петербурге — другие. Так же и вечером пятницы преобладают разные жанры — в зависимости от города."
   ]
  },
  {
   "cell_type": "markdown",
   "metadata": {
    "deletable": false,
    "editable": false,
    "id": "S8UcW6Hw_Zcu",
    "tags": [
     "start_task"
    ]
   },
   "source": [
    "**Задание 23**\n",
    "\n",
    "Сохраните таблицы с данными в две переменные:\n",
    "* по Москве — в `moscow_general`;\n",
    "* по Санкт-Петербургу — в `spb_general`."
   ]
  },
  {
   "cell_type": "code",
   "execution_count": 28,
   "metadata": {
    "deletable": false,
    "id": "qeaFfM_P_Zcu"
   },
   "outputs": [],
   "source": [
    "# получение таблицы moscow_general из тех строк таблицы df, \n",
    "# для которых значение в столбце 'city' равно 'Moscow'\n",
    "\n",
    "moscow_general = df[df['city'] == 'Moscow']"
   ]
  },
  {
   "cell_type": "code",
   "execution_count": 29,
   "metadata": {
    "deletable": false,
    "id": "ORaVRKto_Zcu"
   },
   "outputs": [],
   "source": [
    "# получение таблицы spb_general из тех строк таблицы df,\n",
    "# для которых значение в столбце 'city' равно 'Saint-Petersburg'\n",
    "\n",
    "spb_general = df[df['city'] == 'Saint-Petersburg']"
   ]
  },
  {
   "cell_type": "markdown",
   "metadata": {
    "deletable": false,
    "editable": false,
    "id": "MEJV-CX2_Zcu",
    "tags": [
     "start_task"
    ]
   },
   "source": [
    "**Задание 24**\n",
    "\n",
    "Создайте функцию `genre_weekday()` с четырьмя параметрами:\n",
    "* таблица (датафрейм) с данными,\n",
    "* день недели,\n",
    "* начальная временная метка в формате 'hh:mm', \n",
    "* последняя временная метка в формате 'hh:mm'.\n",
    "\n",
    "Функция должна вернуть информацию о топ-10 жанров тех треков, которые прослушивали в указанный день, в промежутке между двумя отметками времени."
   ]
  },
  {
   "cell_type": "code",
   "execution_count": 30,
   "metadata": {
    "deletable": false,
    "id": "laJT9BYl_Zcu"
   },
   "outputs": [],
   "source": [
    "# Объявление функции genre_weekday() с параметрами table, day, time1, time2,\n",
    "# которая возвращает информацию о самых популярных жанрах в указанный день в\n",
    "# заданное время:\n",
    "# 1) в переменную genre_df сохраняются те строки переданного датафрейма table, для\n",
    "#    которых одновременно:\n",
    "#    - значение в столбце day равно значению аргумента day\n",
    "#    - значение в столбце time больше значения аргумента time1\n",
    "#    - значение в столбце time меньше значения аргумента time2\n",
    "#    Используйте последовательную фильтрацию с помощью логической индексации.\n",
    "# 2) сгруппировать датафрейм genre_df по столбцу genre, взять один из его\n",
    "#    столбцов и посчитать методом count() количество записей для каждого из\n",
    "#    присутствующих жанров, получившийся Series записать в переменную\n",
    "#    genre_df_count\n",
    "# 3) отсортировать genre_df_count по убыванию встречаемости и сохранить\n",
    "#    в переменную genre_df_sorted\n",
    "# 4) вернуть Series из 10 первых значений genre_df_sorted, это будут топ-10\n",
    "#    популярных жанров (в указанный день, в заданное время)\n",
    "\n",
    "def genre_weekday(df, day, time1, time2):\n",
    "    # последовательная фильтрация\n",
    "    # оставляем в genre_df только те строки df, у которых день равен day\n",
    "    genre_df = df[df['day'] == day] # ваш код здесь\n",
    "    \n",
    "    # оставляем в genre_df только те строки genre_df, у которых время меньше time2\n",
    "    genre_df = genre_df[genre_df['time'] < time2]# ваш код здесь\n",
    "    \n",
    "    # оставляем в genre_df только те строки genre_df, у которых время больше time1\n",
    "    genre_df = genre_df[genre_df['time'] > time1] # ваш код здесь\n",
    "    \n",
    "    # сгруппируем отфильтрованный датафрейм по столбцу с названиями жанров, возьмём столбец genre и посчитаем кол-во строк для каждого жанра методом count()\n",
    "    genre_df_grouped = genre_df.groupby('genre')['genre'].count() # ваш код здесь\n",
    "    \n",
    "    # отсортируем результат по убыванию (чтобы в начале Series оказались самые популярные жанры)\n",
    "    genre_df_sorted = genre_df_grouped.sort_values(ascending = False) # ваш код здесь\n",
    "    \n",
    "    # вернём Series с 10 самыми популярными жанрами в указанный отрезок времени заданного дня\n",
    "    return genre_df_sorted[:10]"
   ]
  },
  {
   "cell_type": "markdown",
   "metadata": {
    "deletable": false,
    "editable": false,
    "id": "la2s2_PF_Zcu",
    "tags": [
     "start_task"
    ]
   },
   "source": [
    "**Задание 25**\n",
    "\n",
    "\n",
    "Cравните результаты функции `genre_weekday()` для Москвы и Санкт-Петербурга в понедельник утром (с 7:00 до 11:00) и в пятницу вечером (с 17:00 до 23:00):"
   ]
  },
  {
   "cell_type": "code",
   "execution_count": 31,
   "metadata": {
    "deletable": false,
    "id": "yz7itPUQ_Zcu"
   },
   "outputs": [
    {
     "name": "stdout",
     "output_type": "stream",
     "text": [
      "genre\n",
      "pop            781\n",
      "dance          549\n",
      "electronic     480\n",
      "rock           474\n",
      "hiphop         286\n",
      "ruspop         186\n",
      "world          181\n",
      "rusrap         175\n",
      "alternative    164\n",
      "unknown        161\n",
      "Name: genre, dtype: int64\n"
     ]
    }
   ],
   "source": [
    "# вызов функции для утра понедельника в Москве (вместо df — таблица moscow_general)\n",
    "# объекты, хранящие время, являются строками и сравниваются как строки\n",
    "# пример вызова: genre_weekday(moscow_general, 'Monday', '07:00', '11:00')\n",
    "\n",
    "print(genre_weekday(moscow_general, 'Monday', '07:00', '11:00'))"
   ]
  },
  {
   "cell_type": "code",
   "execution_count": 32,
   "metadata": {
    "deletable": false,
    "id": "kwUcHPdy_Zcu"
   },
   "outputs": [
    {
     "name": "stdout",
     "output_type": "stream",
     "text": [
      "genre\n",
      "pop            218\n",
      "dance          182\n",
      "rock           162\n",
      "electronic     147\n",
      "hiphop          80\n",
      "ruspop          64\n",
      "alternative     58\n",
      "rusrap          55\n",
      "jazz            44\n",
      "classical       40\n",
      "Name: genre, dtype: int64\n"
     ]
    }
   ],
   "source": [
    "# вызов функции для утра понедельника в Петербурге (вместо df — таблица spb_general)\n",
    "\n",
    "print(genre_weekday(spb_general, 'Monday', '07:00', '11:00'))"
   ]
  },
  {
   "cell_type": "code",
   "execution_count": 33,
   "metadata": {
    "deletable": false,
    "id": "EzXVRE1o_Zcu"
   },
   "outputs": [
    {
     "name": "stdout",
     "output_type": "stream",
     "text": [
      "genre\n",
      "pop            713\n",
      "rock           517\n",
      "dance          495\n",
      "electronic     482\n",
      "hiphop         273\n",
      "world          208\n",
      "ruspop         170\n",
      "alternative    163\n",
      "classical      163\n",
      "rusrap         142\n",
      "Name: genre, dtype: int64\n"
     ]
    }
   ],
   "source": [
    "# вызов функции для вечера пятницы в Москве\n",
    "\n",
    "print(genre_weekday(moscow_general, 'Friday', '17:00', '23:00'))"
   ]
  },
  {
   "cell_type": "code",
   "execution_count": 34,
   "metadata": {
    "deletable": false,
    "id": "JZaEKu5v_Zcu",
    "scrolled": true
   },
   "outputs": [
    {
     "name": "stdout",
     "output_type": "stream",
     "text": [
      "genre\n",
      "pop            256\n",
      "electronic     216\n",
      "rock           216\n",
      "dance          210\n",
      "hiphop          97\n",
      "alternative     63\n",
      "jazz            61\n",
      "classical       60\n",
      "rusrap          59\n",
      "world           54\n",
      "Name: genre, dtype: int64\n"
     ]
    }
   ],
   "source": [
    "# вызов функции для вечера пятницы в Петербурге\n",
    "print(genre_weekday(spb_general, 'Friday', '17:00', '23:00'))"
   ]
  },
  {
   "cell_type": "markdown",
   "metadata": {
    "deletable": false,
    "editable": false,
    "id": "wrCe4MNX_Zcu"
   },
   "source": [
    "**Выводы**\n",
    "\n",
    "Если сравнить топ-10 жанров в понедельник утром, можно сделать такие выводы:\n",
    "\n",
    "1. В Москве и Петербурге слушают похожую музыку. Единственное отличие — в московский рейтинг вошёл жанр “world”, а в петербургский — джаз и классика.\n",
    "\n",
    "2. В Москве пропущенных значений оказалось так много, что значение `'unknown'` заняло десятое место среди самых популярных жанров. Значит, пропущенные значения занимают существенную долю в данных и угрожают достоверности исследования.\n",
    "\n",
    "Вечер пятницы не меняет эту картину. Некоторые жанры поднимаются немного выше, другие спускаются, но в целом топ-10 остаётся тем же самым.\n",
    "\n",
    "Таким образом, вторая гипотеза подтвердилась лишь частично:\n",
    "* Пользователи слушают похожую музыку в начале недели и в конце.\n",
    "* Разница между Москвой и Петербургом не слишком выражена. В Москве чаще слушают русскую популярную музыку, в Петербурге — джаз.\n",
    "\n",
    "Однако пропуски в данных ставят под сомнение этот результат. В Москве их так много, что рейтинг топ-10 мог бы выглядеть иначе, если бы не утерянные  данные о жанрах."
   ]
  },
  {
   "cell_type": "markdown",
   "metadata": {
    "deletable": false,
    "editable": false,
    "id": "JolODAqr_Zcu"
   },
   "source": [
    "### Жанровые предпочтения в Москве и Петербурге\n",
    "\n",
    "Гипотеза: Петербург — столица рэпа, музыку этого жанра там слушают чаще, чем в Москве.  А Москва — город контрастов, в котором, тем не менее, преобладает поп-музыка."
   ]
  },
  {
   "cell_type": "markdown",
   "metadata": {
    "deletable": false,
    "editable": false,
    "id": "DlegSvaT_Zcu",
    "tags": [
     "start_task"
    ]
   },
   "source": [
    "**Задание 26**\n",
    "\n",
    "Сгруппируйте таблицу `moscow_general` по жанру и посчитайте прослушивания треков каждого жанра методом `count()`. Затем отсортируйте результат в порядке убывания и сохраните его в таблице `moscow_genres`."
   ]
  },
  {
   "cell_type": "code",
   "execution_count": 35,
   "metadata": {
    "deletable": false,
    "id": "r19lIPke_Zcu"
   },
   "outputs": [],
   "source": [
    "# одной строкой: группировка таблицы moscow_general по столбцу 'genre', \n",
    "# подсчёт числа значений 'genre' в этой группировке методом count(), \n",
    "# сортировка получившегося Series в порядке убывания и сохранение в moscow_genres\n",
    "\n",
    "moscow_genres = moscow_general.groupby('genre')['genre'].count().sort_values(ascending = False)\n"
   ]
  },
  {
   "cell_type": "markdown",
   "metadata": {
    "deletable": false,
    "editable": false,
    "id": "6kMuomxTiIr8",
    "tags": [
     "start_task"
    ]
   },
   "source": [
    "**Задание 27**\n",
    "\n",
    "Выведите на экран первые десять строк `moscow_genres`:"
   ]
  },
  {
   "cell_type": "code",
   "execution_count": 36,
   "metadata": {
    "deletable": false,
    "id": "WhCSooF8_Zcv"
   },
   "outputs": [
    {
     "data": {
      "text/plain": [
       "genre\n",
       "pop            5892\n",
       "dance          4435\n",
       "rock           3965\n",
       "electronic     3786\n",
       "hiphop         2096\n",
       "classical      1616\n",
       "world          1432\n",
       "alternative    1379\n",
       "ruspop         1372\n",
       "rusrap         1161\n",
       "Name: genre, dtype: int64"
      ]
     },
     "execution_count": 36,
     "metadata": {},
     "output_type": "execute_result"
    }
   ],
   "source": [
    "# просмотр первых 10 строк moscow_genres\n",
    "moscow_genres.head(10)"
   ]
  },
  {
   "cell_type": "markdown",
   "metadata": {
    "deletable": false,
    "editable": false,
    "id": "cnPG2vnN_Zcv",
    "tags": [
     "start_task"
    ]
   },
   "source": [
    "**Задание 28**\n",
    "\n",
    "\n",
    "Теперь повторите то же и для Петербурга.\n",
    "\n",
    "Сгруппируйте таблицу `spb_general` по жанру. Посчитайте прослушивания треков каждого жанра. Результат отсортируйте в порядке убывания и сохраните в таблице `spb_genres`:\n"
   ]
  },
  {
   "cell_type": "code",
   "execution_count": 37,
   "metadata": {
    "deletable": false,
    "id": "gluLIpE7_Zcv"
   },
   "outputs": [],
   "source": [
    "# одной строкой: группировка таблицы spb_general по столбцу 'genre', \n",
    "# подсчёт числа значений 'genre' в этой группировке методом count(), \n",
    "# сортировка получившегося Series в порядке убывания и сохранение в spb_genres\n",
    "\n",
    "spb_genres = spb_general.groupby('genre')['genre'].count().sort_values(ascending = False)"
   ]
  },
  {
   "cell_type": "markdown",
   "metadata": {
    "deletable": false,
    "editable": false,
    "id": "5Doha_ODgyQ8",
    "tags": [
     "start_task"
    ]
   },
   "source": [
    "**Задание 29**\n",
    "\n",
    "Выведите на экран первые десять строк `spb_genres`:"
   ]
  },
  {
   "cell_type": "code",
   "execution_count": 38,
   "metadata": {
    "deletable": false,
    "id": "uaGJHjVU_Zcv"
   },
   "outputs": [
    {
     "data": {
      "text/plain": [
       "genre\n",
       "pop            2431\n",
       "dance          1932\n",
       "rock           1879\n",
       "electronic     1736\n",
       "hiphop          960\n",
       "alternative     649\n",
       "classical       646\n",
       "rusrap          564\n",
       "ruspop          538\n",
       "world           515\n",
       "Name: genre, dtype: int64"
      ]
     },
     "execution_count": 38,
     "metadata": {},
     "output_type": "execute_result"
    }
   ],
   "source": [
    "# просмотр первых 10 строк spb_genres\n",
    "spb_genres.head(10)"
   ]
  },
  {
   "cell_type": "markdown",
   "metadata": {
    "deletable": false,
    "editable": false,
    "id": "RY51YJYu_Zcv"
   },
   "source": [
    "**Выводы**"
   ]
  },
  {
   "cell_type": "markdown",
   "metadata": {
    "deletable": false,
    "editable": false,
    "id": "nVhnJEm__Zcv"
   },
   "source": [
    "Гипотеза частично подтвердилась:\n",
    "* Поп-музыка — самый популярный жанр в Москве, как и предполагала гипотеза. Более того, в топ-10 жанров встречается близкий жанр — русская популярная музыка.\n",
    "* Вопреки ожиданиям, рэп одинаково популярен в Москве и Петербурге. \n"
   ]
  },
  {
   "cell_type": "markdown",
   "metadata": {
    "deletable": false,
    "editable": false,
    "id": "ykKQ0N65_Zcv"
   },
   "source": [
    "## Итоги исследования"
   ]
  },
  {
   "cell_type": "markdown",
   "metadata": {
    "deletable": false,
    "editable": false,
    "id": "tjUwbHb3_Zcv"
   },
   "source": [
    "Вы проверили три гипотезы и установили:\n",
    "\n",
    "1. День недели по-разному влияет на активность пользователей в Москве и Петербурге. \n",
    "\n",
    "Первая гипотеза полностью подтвердилась.\n",
    "\n",
    "2. Музыкальные предпочтения не сильно меняются в течение недели — будь то Москва или Петербург. Небольшие различия заметны в начале недели, по понедельникам:\n",
    "* в Москве слушают музыку жанра “world”,\n",
    "* в Петербурге — джаз и классику.\n",
    "\n",
    "Таким образом, вторая гипотеза подтвердилась лишь отчасти. Этот результат мог оказаться иным, если бы не пропуски в данных.\n",
    "\n",
    "3. Во вкусах пользователей Москвы и Петербурга больше общего чем различий. Вопреки ожиданиям, предпочтения жанров в Петербурге напоминают московские.\n",
    "\n",
    "Третья гипотеза не подтвердилась. Если различия в предпочтениях и существуют, на основной массе пользователей они незаметны.\n",
    "\n",
    "**На практике исследования содержат проверки статистических гипотез.**\n",
    "Из данных одного сервиса не всегда можно сделать вывод о всех жителях города.\n",
    "Проверки статистических гипотез покажут, насколько они достоверны, исходя из имеющихся данных. \n",
    "С методами проверок гипотез вы ещё познакомитесь в следующих темах."
   ]
  }
 ],
 "metadata": {
  "ExecuteTimeLog": [
   {
    "duration": 84,
    "start_time": "2022-08-01T19:22:35.055Z"
   },
   {
    "duration": 368,
    "start_time": "2022-08-01T19:22:41.286Z"
   },
   {
    "duration": 455,
    "start_time": "2022-08-01T19:23:57.543Z"
   },
   {
    "duration": 19,
    "start_time": "2022-08-01T19:24:19.046Z"
   },
   {
    "duration": 27,
    "start_time": "2022-08-01T19:24:37.447Z"
   },
   {
    "duration": 2,
    "start_time": "2022-08-01T19:29:43.064Z"
   },
   {
    "duration": 3,
    "start_time": "2022-08-01T19:34:07.847Z"
   },
   {
    "duration": 57,
    "start_time": "2022-08-01T19:37:02.289Z"
   },
   {
    "duration": 11,
    "start_time": "2022-08-01T19:37:13.834Z"
   },
   {
    "duration": 10,
    "start_time": "2022-08-01T19:38:12.718Z"
   },
   {
    "duration": 9,
    "start_time": "2022-08-01T19:39:11.388Z"
   },
   {
    "duration": 10,
    "start_time": "2022-08-01T19:39:23.348Z"
   },
   {
    "duration": 8,
    "start_time": "2022-08-01T19:40:39.418Z"
   },
   {
    "duration": 10,
    "start_time": "2022-08-01T19:40:39.994Z"
   },
   {
    "duration": 524,
    "start_time": "2022-08-01T19:41:06.567Z"
   },
   {
    "duration": 474,
    "start_time": "2022-08-01T19:41:12.135Z"
   },
   {
    "duration": 12,
    "start_time": "2022-08-01T19:41:16.783Z"
   },
   {
    "duration": 14,
    "start_time": "2022-08-01T19:41:26.630Z"
   },
   {
    "duration": 8,
    "start_time": "2022-08-01T19:42:17.412Z"
   },
   {
    "duration": 6,
    "start_time": "2022-08-01T19:42:26.756Z"
   },
   {
    "duration": 6,
    "start_time": "2022-08-01T19:42:45.077Z"
   },
   {
    "duration": 26,
    "start_time": "2022-08-01T19:43:25.129Z"
   },
   {
    "duration": 99,
    "start_time": "2022-08-01T19:55:02.048Z"
   },
   {
    "duration": 91,
    "start_time": "2022-08-01T19:55:11.637Z"
   },
   {
    "duration": 11,
    "start_time": "2022-08-01T19:55:57.756Z"
   },
   {
    "duration": 15,
    "start_time": "2022-08-01T19:56:00.735Z"
   },
   {
    "duration": 17,
    "start_time": "2022-08-01T19:56:19.779Z"
   },
   {
    "duration": 14,
    "start_time": "2022-08-01T19:56:51.422Z"
   },
   {
    "duration": 3,
    "start_time": "2022-08-01T19:57:26.364Z"
   },
   {
    "duration": 181,
    "start_time": "2022-08-01T19:57:28.314Z"
   },
   {
    "duration": 10,
    "start_time": "2022-08-01T19:57:29.332Z"
   },
   {
    "duration": 26,
    "start_time": "2022-08-01T19:57:31.428Z"
   },
   {
    "duration": 3,
    "start_time": "2022-08-01T19:57:36.375Z"
   },
   {
    "duration": 5,
    "start_time": "2022-08-01T19:57:39.075Z"
   },
   {
    "duration": 6,
    "start_time": "2022-08-01T19:57:41.314Z"
   },
   {
    "duration": 4,
    "start_time": "2022-08-01T19:57:42.278Z"
   },
   {
    "duration": 25,
    "start_time": "2022-08-01T19:57:44.332Z"
   },
   {
    "duration": 23,
    "start_time": "2022-08-01T19:57:59.468Z"
   },
   {
    "duration": 15,
    "start_time": "2022-08-01T19:58:03.436Z"
   },
   {
    "duration": 13,
    "start_time": "2022-08-01T19:58:14.333Z"
   },
   {
    "duration": 32,
    "start_time": "2022-08-02T04:29:42.310Z"
   },
   {
    "duration": 31,
    "start_time": "2022-08-02T04:30:12.619Z"
   },
   {
    "duration": 20,
    "start_time": "2022-08-02T04:30:44.274Z"
   },
   {
    "duration": 23,
    "start_time": "2022-08-02T06:56:20.090Z"
   },
   {
    "duration": 9,
    "start_time": "2022-08-02T06:56:44.566Z"
   },
   {
    "duration": 55,
    "start_time": "2022-08-02T06:57:12.891Z"
   },
   {
    "duration": 69,
    "start_time": "2022-08-02T06:57:58.217Z"
   },
   {
    "duration": 56,
    "start_time": "2022-08-02T06:58:27.440Z"
   },
   {
    "duration": 56,
    "start_time": "2022-08-02T06:59:06.887Z"
   },
   {
    "duration": 2,
    "start_time": "2022-08-02T06:59:50.614Z"
   },
   {
    "duration": 141,
    "start_time": "2022-08-02T06:59:52.324Z"
   },
   {
    "duration": 9,
    "start_time": "2022-08-02T06:59:53.342Z"
   },
   {
    "duration": 24,
    "start_time": "2022-08-02T06:59:55.293Z"
   },
   {
    "duration": 2,
    "start_time": "2022-08-02T06:59:58.022Z"
   },
   {
    "duration": 4,
    "start_time": "2022-08-02T07:00:00.637Z"
   },
   {
    "duration": 7,
    "start_time": "2022-08-02T07:00:02.935Z"
   },
   {
    "duration": 4,
    "start_time": "2022-08-02T07:00:04.121Z"
   },
   {
    "duration": 31,
    "start_time": "2022-08-02T07:00:06.021Z"
   },
   {
    "duration": 16,
    "start_time": "2022-08-02T07:00:09.156Z"
   },
   {
    "duration": 19,
    "start_time": "2022-08-02T07:00:12.885Z"
   },
   {
    "duration": 56,
    "start_time": "2022-08-02T07:00:17.165Z"
   },
   {
    "duration": 66,
    "start_time": "2022-08-02T07:00:22.869Z"
   },
   {
    "duration": 58,
    "start_time": "2022-08-02T07:00:25.319Z"
   },
   {
    "duration": 61,
    "start_time": "2022-08-02T07:00:49.921Z"
   },
   {
    "duration": 53,
    "start_time": "2022-08-02T07:01:10.658Z"
   },
   {
    "duration": 3,
    "start_time": "2022-08-02T07:02:43.569Z"
   },
   {
    "duration": 7,
    "start_time": "2022-08-02T07:03:07.225Z"
   },
   {
    "duration": 9,
    "start_time": "2022-08-02T07:03:25.691Z"
   },
   {
    "duration": 3,
    "start_time": "2022-08-02T07:03:43.322Z"
   },
   {
    "duration": 6,
    "start_time": "2022-08-02T07:03:46.874Z"
   },
   {
    "duration": 7,
    "start_time": "2022-08-02T07:03:58.162Z"
   },
   {
    "duration": 9,
    "start_time": "2022-08-02T07:05:02.122Z"
   },
   {
    "duration": 37,
    "start_time": "2022-08-02T07:06:02.654Z"
   },
   {
    "duration": 43,
    "start_time": "2022-08-02T07:06:40.622Z"
   },
   {
    "duration": 40,
    "start_time": "2022-08-02T07:06:50.657Z"
   },
   {
    "duration": 3,
    "start_time": "2022-08-02T07:07:14.040Z"
   },
   {
    "duration": 2,
    "start_time": "2022-08-02T07:07:26.760Z"
   },
   {
    "duration": 7,
    "start_time": "2022-08-02T07:08:22.133Z"
   },
   {
    "duration": 5,
    "start_time": "2022-08-02T07:08:31.693Z"
   },
   {
    "duration": 5,
    "start_time": "2022-08-02T07:08:41.418Z"
   },
   {
    "duration": 16,
    "start_time": "2022-08-02T07:09:36.627Z"
   },
   {
    "duration": 20,
    "start_time": "2022-08-02T07:10:06.272Z"
   },
   {
    "duration": 27,
    "start_time": "2022-08-02T07:10:53.167Z"
   },
   {
    "duration": 21,
    "start_time": "2022-08-02T07:11:06.118Z"
   },
   {
    "duration": 30,
    "start_time": "2022-08-02T07:12:33.890Z"
   },
   {
    "duration": 29,
    "start_time": "2022-08-02T07:13:05.784Z"
   },
   {
    "duration": 31,
    "start_time": "2022-08-02T07:13:10.359Z"
   },
   {
    "duration": 36,
    "start_time": "2022-08-02T07:13:17.322Z"
   },
   {
    "duration": 33,
    "start_time": "2022-08-02T07:13:30.426Z"
   },
   {
    "duration": 4,
    "start_time": "2022-08-02T07:15:31.737Z"
   },
   {
    "duration": 1185,
    "start_time": "2022-08-02T07:17:22.868Z"
   },
   {
    "duration": 8,
    "start_time": "2022-08-02T07:17:45.675Z"
   },
   {
    "duration": 36,
    "start_time": "2022-08-02T07:18:53.951Z"
   },
   {
    "duration": 40,
    "start_time": "2022-08-02T07:19:12.863Z"
   },
   {
    "duration": 8,
    "start_time": "2022-08-02T07:19:30.590Z"
   },
   {
    "duration": 53,
    "start_time": "2022-08-02T07:19:54.640Z"
   },
   {
    "duration": 35,
    "start_time": "2022-08-02T07:22:09.786Z"
   },
   {
    "duration": 36,
    "start_time": "2022-08-02T07:22:14.494Z"
   },
   {
    "duration": 36,
    "start_time": "2022-08-02T07:25:53.022Z"
   },
   {
    "duration": 40,
    "start_time": "2022-08-02T07:30:01.733Z"
   },
   {
    "duration": 7,
    "start_time": "2022-08-02T07:30:31.327Z"
   },
   {
    "duration": 37,
    "start_time": "2022-08-02T07:31:01.668Z"
   },
   {
    "duration": 65,
    "start_time": "2022-08-02T07:42:06.238Z"
   },
   {
    "duration": 8,
    "start_time": "2022-08-02T07:42:24.522Z"
   },
   {
    "duration": 3,
    "start_time": "2022-08-02T07:43:23.187Z"
   },
   {
    "duration": 152,
    "start_time": "2022-08-02T07:43:25.142Z"
   },
   {
    "duration": 11,
    "start_time": "2022-08-02T07:43:26.690Z"
   },
   {
    "duration": 26,
    "start_time": "2022-08-02T07:43:28.648Z"
   },
   {
    "duration": 2,
    "start_time": "2022-08-02T07:43:31.284Z"
   },
   {
    "duration": 4,
    "start_time": "2022-08-02T07:43:32.953Z"
   },
   {
    "duration": 6,
    "start_time": "2022-08-02T07:43:34.934Z"
   },
   {
    "duration": 3,
    "start_time": "2022-08-02T07:43:40.234Z"
   },
   {
    "duration": 24,
    "start_time": "2022-08-02T07:43:42.234Z"
   },
   {
    "duration": 20,
    "start_time": "2022-08-02T07:43:44.560Z"
   },
   {
    "duration": 21,
    "start_time": "2022-08-02T07:43:47.081Z"
   },
   {
    "duration": 60,
    "start_time": "2022-08-02T07:43:49.273Z"
   },
   {
    "duration": 63,
    "start_time": "2022-08-02T07:43:50.946Z"
   },
   {
    "duration": 56,
    "start_time": "2022-08-02T07:43:52.934Z"
   },
   {
    "duration": 38,
    "start_time": "2022-08-02T07:43:55.799Z"
   },
   {
    "duration": 9,
    "start_time": "2022-08-02T07:44:01.960Z"
   },
   {
    "duration": 8,
    "start_time": "2022-08-02T07:51:10.201Z"
   },
   {
    "duration": 35,
    "start_time": "2022-08-02T08:01:43.731Z"
   },
   {
    "duration": 27,
    "start_time": "2022-08-02T08:51:06.064Z"
   },
   {
    "duration": 5,
    "start_time": "2022-08-02T08:51:46.178Z"
   },
   {
    "duration": 3,
    "start_time": "2022-08-02T08:52:11.656Z"
   },
   {
    "duration": 24,
    "start_time": "2022-08-02T08:52:52.133Z"
   },
   {
    "duration": 6,
    "start_time": "2022-08-02T08:53:06.893Z"
   },
   {
    "duration": 3,
    "start_time": "2022-08-02T08:53:15.235Z"
   },
   {
    "duration": 19,
    "start_time": "2022-08-02T08:54:32.355Z"
   },
   {
    "duration": 7,
    "start_time": "2022-08-02T08:55:08.592Z"
   },
   {
    "duration": 74,
    "start_time": "2022-08-02T08:55:34.383Z"
   },
   {
    "duration": 26,
    "start_time": "2022-08-02T08:55:45.087Z"
   },
   {
    "duration": 28,
    "start_time": "2022-08-02T08:56:06.357Z"
   },
   {
    "duration": 25,
    "start_time": "2022-08-02T08:56:33.116Z"
   },
   {
    "duration": 2,
    "start_time": "2022-08-02T08:57:30.745Z"
   },
   {
    "duration": 138,
    "start_time": "2022-08-02T08:57:32.406Z"
   },
   {
    "duration": 9,
    "start_time": "2022-08-02T08:57:34.172Z"
   },
   {
    "duration": 31,
    "start_time": "2022-08-02T08:57:36.089Z"
   },
   {
    "duration": 2,
    "start_time": "2022-08-02T08:57:38.744Z"
   },
   {
    "duration": 3,
    "start_time": "2022-08-02T08:57:40.857Z"
   },
   {
    "duration": 5,
    "start_time": "2022-08-02T08:57:43.080Z"
   },
   {
    "duration": 4,
    "start_time": "2022-08-02T08:57:44.457Z"
   },
   {
    "duration": 24,
    "start_time": "2022-08-02T08:57:46.408Z"
   },
   {
    "duration": 15,
    "start_time": "2022-08-02T08:57:50.936Z"
   },
   {
    "duration": 22,
    "start_time": "2022-08-02T08:57:51.872Z"
   },
   {
    "duration": 52,
    "start_time": "2022-08-02T08:57:53.992Z"
   },
   {
    "duration": 58,
    "start_time": "2022-08-02T08:57:55.440Z"
   },
   {
    "duration": 60,
    "start_time": "2022-08-02T08:57:58.120Z"
   },
   {
    "duration": 33,
    "start_time": "2022-08-02T08:58:00.793Z"
   },
   {
    "duration": 11,
    "start_time": "2022-08-02T08:58:04.888Z"
   },
   {
    "duration": 32,
    "start_time": "2022-08-02T08:58:06.807Z"
   },
   {
    "duration": 31,
    "start_time": "2022-08-02T08:58:11.439Z"
   },
   {
    "duration": 3,
    "start_time": "2022-08-02T08:59:05.900Z"
   },
   {
    "duration": 27,
    "start_time": "2022-08-02T08:59:16.810Z"
   },
   {
    "duration": 10,
    "start_time": "2022-08-02T09:00:30.342Z"
   },
   {
    "duration": 10,
    "start_time": "2022-08-02T09:01:55.126Z"
   },
   {
    "duration": 27,
    "start_time": "2022-08-02T09:02:05.050Z"
   },
   {
    "duration": 26,
    "start_time": "2022-08-02T09:03:13.954Z"
   },
   {
    "duration": 11,
    "start_time": "2022-08-02T09:03:21.169Z"
   },
   {
    "duration": 11,
    "start_time": "2022-08-02T09:15:51.999Z"
   },
   {
    "duration": 11,
    "start_time": "2022-08-02T09:16:14.108Z"
   },
   {
    "duration": 13,
    "start_time": "2022-08-02T09:16:24.949Z"
   },
   {
    "duration": 9,
    "start_time": "2022-08-02T09:17:15.369Z"
   },
   {
    "duration": 9,
    "start_time": "2022-08-02T09:18:52.157Z"
   },
   {
    "duration": 10,
    "start_time": "2022-08-02T09:20:17.987Z"
   },
   {
    "duration": 16,
    "start_time": "2022-08-02T09:21:30.000Z"
   },
   {
    "duration": 15,
    "start_time": "2022-08-02T09:22:04.293Z"
   },
   {
    "duration": 9,
    "start_time": "2022-08-02T09:23:01.106Z"
   },
   {
    "duration": 3,
    "start_time": "2022-08-02T09:32:14.887Z"
   },
   {
    "duration": 3,
    "start_time": "2022-08-02T09:34:21.708Z"
   },
   {
    "duration": 4,
    "start_time": "2022-08-02T09:44:33.126Z"
   },
   {
    "duration": 7,
    "start_time": "2022-08-02T09:55:41.798Z"
   },
   {
    "duration": 7,
    "start_time": "2022-08-02T09:55:53.772Z"
   },
   {
    "duration": 10,
    "start_time": "2022-08-02T09:56:02.975Z"
   },
   {
    "duration": 116,
    "start_time": "2022-08-02T09:56:26.047Z"
   },
   {
    "duration": 13,
    "start_time": "2022-08-02T09:56:31.875Z"
   },
   {
    "duration": 8,
    "start_time": "2022-08-02T09:56:52.243Z"
   },
   {
    "duration": 9,
    "start_time": "2022-08-02T09:57:28.400Z"
   },
   {
    "duration": 20,
    "start_time": "2022-08-02T09:59:37.076Z"
   },
   {
    "duration": 12,
    "start_time": "2022-08-02T10:00:00.692Z"
   },
   {
    "duration": 14,
    "start_time": "2022-08-02T10:00:36.538Z"
   },
   {
    "duration": 3,
    "start_time": "2022-08-02T10:00:44.738Z"
   },
   {
    "duration": 15,
    "start_time": "2022-08-02T10:01:54.476Z"
   },
   {
    "duration": 14,
    "start_time": "2022-08-02T10:02:08.259Z"
   },
   {
    "duration": 15,
    "start_time": "2022-08-02T10:02:10.387Z"
   },
   {
    "duration": 15,
    "start_time": "2022-08-02T10:02:41.045Z"
   },
   {
    "duration": 13,
    "start_time": "2022-08-02T10:02:44.354Z"
   },
   {
    "duration": 12,
    "start_time": "2022-08-02T10:02:48.505Z"
   },
   {
    "duration": 12,
    "start_time": "2022-08-02T10:03:02.672Z"
   },
   {
    "duration": 18,
    "start_time": "2022-08-02T10:03:15.160Z"
   },
   {
    "duration": 12,
    "start_time": "2022-08-02T10:03:23.335Z"
   },
   {
    "duration": 8,
    "start_time": "2022-08-02T10:06:52.670Z"
   },
   {
    "duration": 9,
    "start_time": "2022-08-02T10:07:05.136Z"
   },
   {
    "duration": 71,
    "start_time": "2022-08-02T10:34:30.569Z"
   },
   {
    "duration": 9,
    "start_time": "2022-08-02T10:34:52.911Z"
   },
   {
    "duration": 14,
    "start_time": "2022-08-02T10:37:14.793Z"
   },
   {
    "duration": 11,
    "start_time": "2022-08-02T10:59:22.645Z"
   },
   {
    "duration": 9,
    "start_time": "2022-08-02T10:59:37.090Z"
   },
   {
    "duration": 12,
    "start_time": "2022-08-02T10:59:53.436Z"
   },
   {
    "duration": 12,
    "start_time": "2022-08-02T10:59:55.036Z"
   },
   {
    "duration": 49,
    "start_time": "2022-08-02T11:05:07.471Z"
   },
   {
    "duration": 24,
    "start_time": "2022-08-02T11:05:29.672Z"
   },
   {
    "duration": 5,
    "start_time": "2022-08-02T11:05:40.407Z"
   },
   {
    "duration": 11,
    "start_time": "2022-08-02T11:06:30.071Z"
   },
   {
    "duration": 10,
    "start_time": "2022-08-02T11:06:34.112Z"
   },
   {
    "duration": 18,
    "start_time": "2022-08-02T11:06:39.789Z"
   },
   {
    "duration": 32,
    "start_time": "2022-08-02T11:06:49.837Z"
   },
   {
    "duration": 52,
    "start_time": "2022-08-02T11:07:00.005Z"
   },
   {
    "duration": 29,
    "start_time": "2022-08-02T11:07:07.172Z"
   },
   {
    "duration": 44,
    "start_time": "2022-08-02T11:07:14.471Z"
   },
   {
    "duration": 29,
    "start_time": "2022-08-02T11:07:40.211Z"
   },
   {
    "duration": 31,
    "start_time": "2022-08-02T11:07:58.879Z"
   },
   {
    "duration": 45,
    "start_time": "2022-08-02T11:08:20.593Z"
   },
   {
    "duration": 30,
    "start_time": "2022-08-02T11:08:36.275Z"
   },
   {
    "duration": 30,
    "start_time": "2022-08-02T11:09:15.873Z"
   },
   {
    "duration": 53,
    "start_time": "2022-08-02T11:09:23.208Z"
   },
   {
    "duration": 33,
    "start_time": "2022-08-02T11:09:29.038Z"
   },
   {
    "duration": 31,
    "start_time": "2022-08-02T11:10:33.978Z"
   },
   {
    "duration": 53,
    "start_time": "2022-08-02T11:10:39.044Z"
   },
   {
    "duration": 4,
    "start_time": "2022-08-02T11:10:45.243Z"
   },
   {
    "duration": 5,
    "start_time": "2022-08-02T11:10:47.643Z"
   },
   {
    "duration": 5,
    "start_time": "2022-08-02T11:12:06.442Z"
   },
   {
    "duration": 23,
    "start_time": "2022-08-02T11:13:01.814Z"
   },
   {
    "duration": 16,
    "start_time": "2022-08-02T11:13:15.099Z"
   },
   {
    "duration": 4,
    "start_time": "2022-08-02T11:13:44.340Z"
   },
   {
    "duration": 9,
    "start_time": "2022-08-02T11:13:58.073Z"
   },
   {
    "duration": 27,
    "start_time": "2022-08-02T11:14:12.089Z"
   },
   {
    "duration": 13,
    "start_time": "2022-08-02T11:14:37.196Z"
   },
   {
    "duration": 90,
    "start_time": "2022-08-02T11:16:07.692Z"
   },
   {
    "duration": 24,
    "start_time": "2022-08-02T11:16:19.133Z"
   },
   {
    "duration": 26,
    "start_time": "2022-08-02T11:16:21.841Z"
   },
   {
    "duration": 13,
    "start_time": "2022-08-02T11:16:41.275Z"
   },
   {
    "duration": 23,
    "start_time": "2022-08-02T11:16:44.147Z"
   },
   {
    "duration": 3,
    "start_time": "2022-08-02T11:19:33.906Z"
   },
   {
    "duration": 160,
    "start_time": "2022-08-02T11:19:35.171Z"
   },
   {
    "duration": 12,
    "start_time": "2022-08-02T11:19:36.982Z"
   },
   {
    "duration": 34,
    "start_time": "2022-08-02T11:19:39.241Z"
   },
   {
    "duration": 2,
    "start_time": "2022-08-02T11:19:41.967Z"
   },
   {
    "duration": 4,
    "start_time": "2022-08-02T11:19:44.512Z"
   },
   {
    "duration": 9,
    "start_time": "2022-08-02T11:19:46.869Z"
   },
   {
    "duration": 5,
    "start_time": "2022-08-02T11:19:48.041Z"
   },
   {
    "duration": 45,
    "start_time": "2022-08-02T11:19:49.945Z"
   },
   {
    "duration": 29,
    "start_time": "2022-08-02T11:19:52.741Z"
   },
   {
    "duration": 30,
    "start_time": "2022-08-02T11:19:54.242Z"
   },
   {
    "duration": 81,
    "start_time": "2022-08-02T11:19:56.109Z"
   },
   {
    "duration": 65,
    "start_time": "2022-08-02T11:19:57.732Z"
   },
   {
    "duration": 51,
    "start_time": "2022-08-02T11:19:58.667Z"
   },
   {
    "duration": 40,
    "start_time": "2022-08-02T11:20:02.446Z"
   },
   {
    "duration": 9,
    "start_time": "2022-08-02T11:20:06.405Z"
   },
   {
    "duration": 47,
    "start_time": "2022-08-02T11:20:08.367Z"
   },
   {
    "duration": 9,
    "start_time": "2022-08-02T11:20:13.308Z"
   },
   {
    "duration": 16,
    "start_time": "2022-08-02T11:20:16.452Z"
   },
   {
    "duration": 5,
    "start_time": "2022-08-02T11:20:24.978Z"
   },
   {
    "duration": 4,
    "start_time": "2022-08-02T11:20:26.995Z"
   },
   {
    "duration": 15,
    "start_time": "2022-08-02T11:20:29.379Z"
   },
   {
    "duration": 21,
    "start_time": "2022-08-02T11:20:30.588Z"
   },
   {
    "duration": 18,
    "start_time": "2022-08-02T11:20:32.190Z"
   },
   {
    "duration": 13,
    "start_time": "2022-08-02T11:20:33.267Z"
   },
   {
    "duration": 15,
    "start_time": "2022-08-02T11:20:33.992Z"
   },
   {
    "duration": 13,
    "start_time": "2022-08-02T11:20:35.883Z"
   },
   {
    "duration": 11,
    "start_time": "2022-08-02T11:20:38.663Z"
   },
   {
    "duration": 12,
    "start_time": "2022-08-02T11:20:42.442Z"
   },
   {
    "duration": 12,
    "start_time": "2022-08-02T11:20:43.603Z"
   },
   {
    "duration": 5,
    "start_time": "2022-08-02T11:20:47.941Z"
   },
   {
    "duration": 17,
    "start_time": "2022-08-02T11:20:51.579Z"
   },
   {
    "duration": 12,
    "start_time": "2022-08-02T11:20:53.274Z"
   },
   {
    "duration": 17,
    "start_time": "2022-08-02T11:20:57.794Z"
   },
   {
    "duration": 17,
    "start_time": "2022-08-02T11:21:00.444Z"
   },
   {
    "duration": 2,
    "start_time": "2022-08-02T14:31:26.350Z"
   },
   {
    "duration": 150,
    "start_time": "2022-08-02T14:31:28.068Z"
   },
   {
    "duration": 11,
    "start_time": "2022-08-02T14:31:29.965Z"
   },
   {
    "duration": 24,
    "start_time": "2022-08-02T14:31:32.060Z"
   },
   {
    "duration": 2,
    "start_time": "2022-08-02T14:31:34.797Z"
   },
   {
    "duration": 3,
    "start_time": "2022-08-02T14:31:36.746Z"
   },
   {
    "duration": 6,
    "start_time": "2022-08-02T14:31:38.573Z"
   },
   {
    "duration": 3,
    "start_time": "2022-08-02T14:31:39.758Z"
   },
   {
    "duration": 24,
    "start_time": "2022-08-02T14:31:41.746Z"
   },
   {
    "duration": 16,
    "start_time": "2022-08-02T14:31:43.908Z"
   },
   {
    "duration": 21,
    "start_time": "2022-08-02T14:31:45.566Z"
   },
   {
    "duration": 56,
    "start_time": "2022-08-02T14:31:47.475Z"
   },
   {
    "duration": 68,
    "start_time": "2022-08-02T14:31:48.587Z"
   },
   {
    "duration": 49,
    "start_time": "2022-08-02T14:31:50.053Z"
   },
   {
    "duration": 30,
    "start_time": "2022-08-02T14:31:52.474Z"
   },
   {
    "duration": 10,
    "start_time": "2022-08-02T14:31:56.179Z"
   },
   {
    "duration": 32,
    "start_time": "2022-08-02T14:31:57.795Z"
   },
   {
    "duration": 10,
    "start_time": "2022-08-02T14:32:02.576Z"
   },
   {
    "duration": 10,
    "start_time": "2022-08-02T14:32:04.642Z"
   },
   {
    "duration": 4,
    "start_time": "2022-08-02T14:32:08.740Z"
   },
   {
    "duration": 14,
    "start_time": "2022-08-02T14:32:10.771Z"
   },
   {
    "duration": 13,
    "start_time": "2022-08-02T14:32:11.899Z"
   },
   {
    "duration": 13,
    "start_time": "2022-08-02T14:32:13.543Z"
   },
   {
    "duration": 12,
    "start_time": "2022-08-02T14:32:14.549Z"
   },
   {
    "duration": 15,
    "start_time": "2022-08-02T14:32:15.476Z"
   },
   {
    "duration": 14,
    "start_time": "2022-08-02T14:32:16.842Z"
   },
   {
    "duration": 8,
    "start_time": "2022-08-02T14:32:18.838Z"
   },
   {
    "duration": 12,
    "start_time": "2022-08-02T14:32:22.178Z"
   },
   {
    "duration": 9,
    "start_time": "2022-08-02T14:32:23.642Z"
   },
   {
    "duration": 4,
    "start_time": "2022-08-02T14:32:32.749Z"
   },
   {
    "duration": 17,
    "start_time": "2022-08-02T14:32:41.383Z"
   },
   {
    "duration": 11,
    "start_time": "2022-08-02T14:32:45.746Z"
   },
   {
    "duration": 16,
    "start_time": "2022-08-02T14:32:48.906Z"
   },
   {
    "duration": 11,
    "start_time": "2022-08-02T14:32:50.955Z"
   },
   {
    "duration": 20,
    "start_time": "2022-08-02T14:33:48.605Z"
   },
   {
    "duration": 12,
    "start_time": "2022-08-02T14:33:51.605Z"
   },
   {
    "duration": 16,
    "start_time": "2022-08-02T14:33:53.438Z"
   },
   {
    "duration": 11,
    "start_time": "2022-08-02T14:33:55.269Z"
   },
   {
    "duration": 3,
    "start_time": "2022-08-02T18:55:23.796Z"
   },
   {
    "duration": 184,
    "start_time": "2022-08-02T18:55:25.060Z"
   },
   {
    "duration": 11,
    "start_time": "2022-08-02T18:55:26.827Z"
   },
   {
    "duration": 36,
    "start_time": "2022-08-02T18:55:28.746Z"
   },
   {
    "duration": 3,
    "start_time": "2022-08-02T18:55:32.166Z"
   },
   {
    "duration": 5,
    "start_time": "2022-08-02T18:55:34.523Z"
   },
   {
    "duration": 8,
    "start_time": "2022-08-02T18:55:37.122Z"
   },
   {
    "duration": 4,
    "start_time": "2022-08-02T18:55:38.925Z"
   },
   {
    "duration": 31,
    "start_time": "2022-08-02T18:55:42.842Z"
   },
   {
    "duration": 27,
    "start_time": "2022-08-02T18:55:45.948Z"
   },
   {
    "duration": 22,
    "start_time": "2022-08-02T18:55:47.729Z"
   },
   {
    "duration": 67,
    "start_time": "2022-08-02T18:55:49.402Z"
   },
   {
    "duration": 86,
    "start_time": "2022-08-02T18:55:51.003Z"
   },
   {
    "duration": 52,
    "start_time": "2022-08-02T18:55:52.569Z"
   },
   {
    "duration": 31,
    "start_time": "2022-08-02T18:55:55.766Z"
   },
   {
    "duration": 9,
    "start_time": "2022-08-02T18:56:05.897Z"
   },
   {
    "duration": 30,
    "start_time": "2022-08-02T18:56:07.888Z"
   },
   {
    "duration": 11,
    "start_time": "2022-08-02T18:56:16.335Z"
   },
   {
    "duration": 13,
    "start_time": "2022-08-02T18:56:18.317Z"
   },
   {
    "duration": 3,
    "start_time": "2022-08-02T18:56:25.203Z"
   },
   {
    "duration": 4,
    "start_time": "2022-08-02T18:56:26.687Z"
   },
   {
    "duration": 4,
    "start_time": "2022-08-02T18:56:27.968Z"
   },
   {
    "duration": 18,
    "start_time": "2022-08-02T18:56:30.439Z"
   },
   {
    "duration": 15,
    "start_time": "2022-08-02T18:56:31.952Z"
   },
   {
    "duration": 14,
    "start_time": "2022-08-02T18:56:36.999Z"
   },
   {
    "duration": 11,
    "start_time": "2022-08-02T18:56:38.129Z"
   },
   {
    "duration": 16,
    "start_time": "2022-08-02T18:56:39.067Z"
   },
   {
    "duration": 14,
    "start_time": "2022-08-02T18:56:40.838Z"
   },
   {
    "duration": 9,
    "start_time": "2022-08-02T18:56:48.117Z"
   },
   {
    "duration": 13,
    "start_time": "2022-08-02T18:56:56.279Z"
   },
   {
    "duration": 9,
    "start_time": "2022-08-02T18:56:58.430Z"
   },
   {
    "duration": 4,
    "start_time": "2022-08-02T18:57:05.143Z"
   },
   {
    "duration": 4,
    "start_time": "2022-08-02T18:57:07.318Z"
   },
   {
    "duration": 5,
    "start_time": "2022-08-02T18:57:11.066Z"
   },
   {
    "duration": 15,
    "start_time": "2022-08-02T18:57:15.094Z"
   },
   {
    "duration": 9,
    "start_time": "2022-08-02T18:57:19.422Z"
   },
   {
    "duration": 17,
    "start_time": "2022-08-02T18:57:21.606Z"
   },
   {
    "duration": 18,
    "start_time": "2022-08-02T18:57:23.967Z"
   },
   {
    "duration": 12,
    "start_time": "2022-08-02T19:08:20.588Z"
   },
   {
    "duration": 20,
    "start_time": "2022-08-02T19:08:47.556Z"
   },
   {
    "duration": 21,
    "start_time": "2022-08-02T19:08:51.434Z"
   },
   {
    "duration": 11,
    "start_time": "2022-08-02T19:10:07.226Z"
   },
   {
    "duration": 12,
    "start_time": "2022-08-02T19:10:30.791Z"
   },
   {
    "duration": 9,
    "start_time": "2022-08-02T19:10:48.135Z"
   },
   {
    "duration": 8,
    "start_time": "2022-08-02T19:10:57.045Z"
   },
   {
    "duration": 4,
    "start_time": "2022-08-02T19:11:33.955Z"
   },
   {
    "duration": 4,
    "start_time": "2022-08-02T19:11:43.491Z"
   },
   {
    "duration": 7,
    "start_time": "2022-08-02T19:12:36.823Z"
   },
   {
    "duration": 3,
    "start_time": "2022-08-02T19:12:58.785Z"
   },
   {
    "duration": 5,
    "start_time": "2022-08-02T19:25:54.694Z"
   },
   {
    "duration": 4,
    "start_time": "2022-08-02T19:25:56.371Z"
   },
   {
    "duration": 14,
    "start_time": "2022-08-02T19:25:58.330Z"
   },
   {
    "duration": 10,
    "start_time": "2022-08-02T19:26:00.106Z"
   },
   {
    "duration": 16,
    "start_time": "2022-08-02T19:26:01.211Z"
   },
   {
    "duration": 12,
    "start_time": "2022-08-02T19:26:02.865Z"
   },
   {
    "duration": 11,
    "start_time": "2022-08-02T19:27:56.949Z"
   },
   {
    "duration": 9,
    "start_time": "2022-08-02T19:28:01.237Z"
   },
   {
    "duration": 10,
    "start_time": "2022-08-02T19:28:06.501Z"
   },
   {
    "duration": 10,
    "start_time": "2022-08-02T19:28:51.667Z"
   },
   {
    "duration": 7,
    "start_time": "2022-08-02T19:29:26.835Z"
   },
   {
    "duration": 4,
    "start_time": "2022-08-02T19:29:42.193Z"
   },
   {
    "duration": 4,
    "start_time": "2022-08-02T19:29:50.561Z"
   },
   {
    "duration": 4,
    "start_time": "2022-08-02T19:30:16.984Z"
   },
   {
    "duration": 10,
    "start_time": "2022-08-02T19:30:32.599Z"
   },
   {
    "duration": 11,
    "start_time": "2022-08-02T19:32:47.899Z"
   },
   {
    "duration": 11,
    "start_time": "2022-08-02T19:33:24.928Z"
   },
   {
    "duration": 10,
    "start_time": "2022-08-02T19:34:16.532Z"
   },
   {
    "duration": 13,
    "start_time": "2022-08-02T19:34:17.944Z"
   },
   {
    "duration": 8,
    "start_time": "2022-08-02T19:38:20.709Z"
   },
   {
    "duration": 4,
    "start_time": "2022-08-02T19:38:48.261Z"
   },
   {
    "duration": 9,
    "start_time": "2022-08-02T19:39:09.626Z"
   },
   {
    "duration": 6,
    "start_time": "2022-08-02T19:39:25.865Z"
   }
  ],
  "colab": {
   "collapsed_sections": [
    "E0vqbgi9ay0H",
    "VUC88oWjTJw2"
   ],
   "name": "automatization_template_upd4.ipynb",
   "provenance": []
  },
  "kernelspec": {
   "display_name": "Python 3 (ipykernel)",
   "language": "python",
   "name": "python3"
  },
  "language_info": {
   "codemirror_mode": {
    "name": "ipython",
    "version": 3
   },
   "file_extension": ".py",
   "mimetype": "text/x-python",
   "name": "python",
   "nbconvert_exporter": "python",
   "pygments_lexer": "ipython3",
   "version": "3.9.12"
  },
  "toc": {
   "base_numbering": 1,
   "nav_menu": {
    "height": "215px",
    "width": "403px"
   },
   "number_sections": true,
   "sideBar": true,
   "skip_h1_title": true,
   "title_cell": "Table of Contents",
   "title_sidebar": "Contents",
   "toc_cell": false,
   "toc_position": {
    "height": "calc(100% - 180px)",
    "left": "10px",
    "top": "150px",
    "width": "285.825px"
   },
   "toc_section_display": true,
   "toc_window_display": false
  }
 },
 "nbformat": 4,
 "nbformat_minor": 1
}
