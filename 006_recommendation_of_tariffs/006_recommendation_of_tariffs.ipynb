{
 "cells": [
  {
   "cell_type": "markdown",
   "metadata": {},
   "source": [
    "# Рекомендация тарифов"
   ]
  },
  {
   "cell_type": "markdown",
   "metadata": {},
   "source": [
    "В вашем распоряжении данные о поведении клиентов, которые уже перешли на эти тарифы (из проекта курса «Статистический анализ данных»). Нужно построить модель для задачи классификации, которая выберет подходящий тариф. Предобработка данных не понадобится — вы её уже сделали.\n",
    "\n",
    "Постройте модель с максимально большим значением *accuracy*. Чтобы сдать проект успешно, нужно довести долю правильных ответов по крайней мере до 0.75. Проверьте *accuracy* на тестовой выборке самостоятельно."
   ]
  },
  {
   "cell_type": "markdown",
   "metadata": {},
   "source": [
    "Описание данных\n",
    "\n",
    "<br>сalls — количество звонков,\n",
    "<br>minutes — суммарная длительность звонков в минутах,\n",
    "<br>messages — количество sms-сообщений,\n",
    "<br>mb_used — израсходованный интернет-трафик в Мб,\n",
    "<br>is_ultra — каким тарифом пользовался в течение месяца («Ультра» — 1, «Смарт» — 0).\n"
   ]
  },
  {
   "cell_type": "markdown",
   "metadata": {},
   "source": [
    "## Откройте и изучите файл"
   ]
  },
  {
   "cell_type": "code",
   "execution_count": 1,
   "metadata": {},
   "outputs": [],
   "source": [
    "# загружаем используемые библиотеки\n",
    "\n",
    "import pandas as pd\n",
    "import numpy as np\n",
    "import matplotlib.pyplot as plt\n",
    "import seaborn as sns\n",
    "import os\n",
    "\n",
    "from sklearn.linear_model import LogisticRegression\n",
    "from sklearn.model_selection import train_test_split\n",
    "from sklearn.metrics import accuracy_score\n",
    "\n",
    "from sklearn.ensemble import RandomForestClassifier\n",
    "from sklearn.model_selection import GridSearchCV\n",
    "\n",
    "from sklearn.dummy import DummyClassifier"
   ]
  },
  {
   "cell_type": "code",
   "execution_count": 2,
   "metadata": {},
   "outputs": [],
   "source": [
    "# зададим параметры\n",
    "rd = 42 # random_state=42"
   ]
  },
  {
   "cell_type": "code",
   "execution_count": 3,
   "metadata": {},
   "outputs": [],
   "source": [
    "# загрузим предоставленные данные\n",
    "\n",
    "pth1 = 'datasets/users_behavior.csv'\n",
    "pth2 = 'https://code.s3.yandex.net/datasets/users_behavior.csv'\n",
    "\n",
    "if os.path.exists(pth1):\n",
    "    data = pd.read_csv(pth1)\n",
    "elif os.path.exists(pth2):\n",
    "    data = pd.read_csv(pth2)\n",
    "else:\n",
    "    print('Something is wrong')"
   ]
  },
  {
   "cell_type": "markdown",
   "metadata": {},
   "source": [
    "### Небольшой EDA"
   ]
  },
  {
   "cell_type": "code",
   "execution_count": 4,
   "metadata": {},
   "outputs": [
    {
     "data": {
      "text/html": [
       "<div>\n",
       "<style scoped>\n",
       "    .dataframe tbody tr th:only-of-type {\n",
       "        vertical-align: middle;\n",
       "    }\n",
       "\n",
       "    .dataframe tbody tr th {\n",
       "        vertical-align: top;\n",
       "    }\n",
       "\n",
       "    .dataframe thead th {\n",
       "        text-align: right;\n",
       "    }\n",
       "</style>\n",
       "<table border=\"1\" class=\"dataframe\">\n",
       "  <thead>\n",
       "    <tr style=\"text-align: right;\">\n",
       "      <th></th>\n",
       "      <th>calls</th>\n",
       "      <th>minutes</th>\n",
       "      <th>messages</th>\n",
       "      <th>mb_used</th>\n",
       "      <th>is_ultra</th>\n",
       "    </tr>\n",
       "  </thead>\n",
       "  <tbody>\n",
       "    <tr>\n",
       "      <th>count</th>\n",
       "      <td>3214.000000</td>\n",
       "      <td>3214.000000</td>\n",
       "      <td>3214.000000</td>\n",
       "      <td>3214.000000</td>\n",
       "      <td>3214.000000</td>\n",
       "    </tr>\n",
       "    <tr>\n",
       "      <th>mean</th>\n",
       "      <td>63.038892</td>\n",
       "      <td>438.208787</td>\n",
       "      <td>38.281269</td>\n",
       "      <td>17207.673836</td>\n",
       "      <td>0.306472</td>\n",
       "    </tr>\n",
       "    <tr>\n",
       "      <th>std</th>\n",
       "      <td>33.236368</td>\n",
       "      <td>234.569872</td>\n",
       "      <td>36.148326</td>\n",
       "      <td>7570.968246</td>\n",
       "      <td>0.461100</td>\n",
       "    </tr>\n",
       "    <tr>\n",
       "      <th>min</th>\n",
       "      <td>0.000000</td>\n",
       "      <td>0.000000</td>\n",
       "      <td>0.000000</td>\n",
       "      <td>0.000000</td>\n",
       "      <td>0.000000</td>\n",
       "    </tr>\n",
       "    <tr>\n",
       "      <th>25%</th>\n",
       "      <td>40.000000</td>\n",
       "      <td>274.575000</td>\n",
       "      <td>9.000000</td>\n",
       "      <td>12491.902500</td>\n",
       "      <td>0.000000</td>\n",
       "    </tr>\n",
       "    <tr>\n",
       "      <th>50%</th>\n",
       "      <td>62.000000</td>\n",
       "      <td>430.600000</td>\n",
       "      <td>30.000000</td>\n",
       "      <td>16943.235000</td>\n",
       "      <td>0.000000</td>\n",
       "    </tr>\n",
       "    <tr>\n",
       "      <th>75%</th>\n",
       "      <td>82.000000</td>\n",
       "      <td>571.927500</td>\n",
       "      <td>57.000000</td>\n",
       "      <td>21424.700000</td>\n",
       "      <td>1.000000</td>\n",
       "    </tr>\n",
       "    <tr>\n",
       "      <th>max</th>\n",
       "      <td>244.000000</td>\n",
       "      <td>1632.060000</td>\n",
       "      <td>224.000000</td>\n",
       "      <td>49745.730000</td>\n",
       "      <td>1.000000</td>\n",
       "    </tr>\n",
       "  </tbody>\n",
       "</table>\n",
       "</div>"
      ],
      "text/plain": [
       "             calls      minutes     messages       mb_used     is_ultra\n",
       "count  3214.000000  3214.000000  3214.000000   3214.000000  3214.000000\n",
       "mean     63.038892   438.208787    38.281269  17207.673836     0.306472\n",
       "std      33.236368   234.569872    36.148326   7570.968246     0.461100\n",
       "min       0.000000     0.000000     0.000000      0.000000     0.000000\n",
       "25%      40.000000   274.575000     9.000000  12491.902500     0.000000\n",
       "50%      62.000000   430.600000    30.000000  16943.235000     0.000000\n",
       "75%      82.000000   571.927500    57.000000  21424.700000     1.000000\n",
       "max     244.000000  1632.060000   224.000000  49745.730000     1.000000"
      ]
     },
     "execution_count": 4,
     "metadata": {},
     "output_type": "execute_result"
    }
   ],
   "source": [
    "# Посмотрим на данные \"общими мазками\" по числовым данным\n",
    "data.describe()\n"
   ]
  },
  {
   "cell_type": "markdown",
   "metadata": {},
   "source": [
    "Какого-либо аномалий не выявлено. Пропуской тоже нет. <br />\n",
    "Посмотрим типы данных."
   ]
  },
  {
   "cell_type": "code",
   "execution_count": 5,
   "metadata": {},
   "outputs": [
    {
     "name": "stdout",
     "output_type": "stream",
     "text": [
      "<class 'pandas.core.frame.DataFrame'>\n",
      "RangeIndex: 3214 entries, 0 to 3213\n",
      "Data columns (total 5 columns):\n",
      " #   Column    Non-Null Count  Dtype  \n",
      "---  ------    --------------  -----  \n",
      " 0   calls     3214 non-null   float64\n",
      " 1   minutes   3214 non-null   float64\n",
      " 2   messages  3214 non-null   float64\n",
      " 3   mb_used   3214 non-null   float64\n",
      " 4   is_ultra  3214 non-null   int64  \n",
      "dtypes: float64(4), int64(1)\n",
      "memory usage: 125.7 KB\n"
     ]
    }
   ],
   "source": [
    "data.info()"
   ]
  },
  {
   "cell_type": "markdown",
   "metadata": {},
   "source": [
    "Типы данных тоже соответствуют. Посмотрим на каждый признак отдельно:"
   ]
  },
  {
   "cell_type": "markdown",
   "metadata": {},
   "source": [
    "### Анализ Calls"
   ]
  },
  {
   "cell_type": "code",
   "execution_count": 6,
   "metadata": {},
   "outputs": [
    {
     "data": {
      "image/png": "[encoded data removed]",
      "text/plain": [
       "<Figure size 432x288 with 1 Axes>"
      ]
     },
     "metadata": {
      "needs_background": "light"
     },
     "output_type": "display_data"
    }
   ],
   "source": [
    "# посмотрим частоту звонков:\n",
    "data.calls.plot(kind=\"hist\");"
   ]
  },
  {
   "cell_type": "code",
   "execution_count": 7,
   "metadata": {},
   "outputs": [
    {
     "data": {
      "image/png": "[encoded data removed]",
      "text/plain": [
       "<Figure size 432x360 with 1 Axes>"
      ]
     },
     "metadata": {
      "needs_background": "light"
     },
     "output_type": "display_data"
    }
   ],
   "source": [
    "plt.figure(figsize=(6, 5));\n",
    "ax=sns.boxplot(x = data.calls,)\n",
    "ax.set()\n",
    "\n",
    "plt.xlabel(\"Количество зконков\");\n",
    "plt.title('Распределение количество звонков')\n",
    "plt.show();"
   ]
  },
  {
   "cell_type": "markdown",
   "metadata": {},
   "source": [
    "### Анализ minutes"
   ]
  },
  {
   "cell_type": "code",
   "execution_count": 8,
   "metadata": {},
   "outputs": [
    {
     "data": {
      "image/png": "[encoded data removed]",
      "text/plain": [
       "<Figure size 432x288 with 1 Axes>"
      ]
     },
     "metadata": {
      "needs_background": "light"
     },
     "output_type": "display_data"
    }
   ],
   "source": [
    "# посмотрим частоту минут:\n",
    "data.minutes.plot(kind=\"hist\");"
   ]
  },
  {
   "cell_type": "code",
   "execution_count": 9,
   "metadata": {},
   "outputs": [
    {
     "data": {
      "image/png": "[encoded data removed]",
      "text/plain": [
       "<Figure size 432x360 with 1 Axes>"
      ]
     },
     "metadata": {
      "needs_background": "light"
     },
     "output_type": "display_data"
    }
   ],
   "source": [
    "plt.figure(figsize=(6, 5));\n",
    "ax=sns.boxplot(x = data.minutes,)\n",
    "ax.set()\n",
    "\n",
    "plt.xlabel(\"Минуты\");\n",
    "plt.title('Распределение минут')\n",
    "plt.show();"
   ]
  },
  {
   "cell_type": "markdown",
   "metadata": {},
   "source": [
    "### Анализ messages"
   ]
  },
  {
   "cell_type": "code",
   "execution_count": 10,
   "metadata": {},
   "outputs": [
    {
     "data": {
      "image/png": "[encoded data removed]",
      "text/plain": [
       "<Figure size 432x288 with 1 Axes>"
      ]
     },
     "metadata": {
      "needs_background": "light"
     },
     "output_type": "display_data"
    }
   ],
   "source": [
    "# посмотрим частоту сообщений:\n",
    "data.messages.plot(kind=\"hist\");"
   ]
  },
  {
   "cell_type": "code",
   "execution_count": 11,
   "metadata": {},
   "outputs": [
    {
     "data": {
      "image/png": "[encoded data removed]",
      "text/plain": [
       "<Figure size 432x360 with 1 Axes>"
      ]
     },
     "metadata": {
      "needs_background": "light"
     },
     "output_type": "display_data"
    }
   ],
   "source": [
    "plt.figure(figsize=(6, 5));\n",
    "ax=sns.boxplot(x = data.messages,)\n",
    "ax.set()\n",
    "\n",
    "plt.xlabel(\"сообщения\");\n",
    "plt.title('Распределение количество сообщений')\n",
    "plt.show();"
   ]
  },
  {
   "cell_type": "markdown",
   "metadata": {},
   "source": [
    "### Анализ mb_used"
   ]
  },
  {
   "cell_type": "code",
   "execution_count": 12,
   "metadata": {},
   "outputs": [
    {
     "data": {
      "image/png": "[encoded data removed]",
      "text/plain": [
       "<Figure size 432x288 with 1 Axes>"
      ]
     },
     "metadata": {
      "needs_background": "light"
     },
     "output_type": "display_data"
    }
   ],
   "source": [
    "# посмотрим частоту использования интернет-траффика:\n",
    "data.mb_used.plot(kind=\"hist\");"
   ]
  },
  {
   "cell_type": "code",
   "execution_count": 13,
   "metadata": {},
   "outputs": [
    {
     "data": {
      "image/png": "[encoded data removed]",
      "text/plain": [
       "<Figure size 432x360 with 1 Axes>"
      ]
     },
     "metadata": {
      "needs_background": "light"
     },
     "output_type": "display_data"
    }
   ],
   "source": [
    "plt.figure(figsize=(6, 5));\n",
    "ax=sns.boxplot(x = data.mb_used);\n",
    "ax.set()\n",
    "\n",
    "plt.xlabel(\"итернет-траффик\");\n",
    "plt.title('Распределение интернет траффика звонков')\n",
    "plt.show();"
   ]
  },
  {
   "cell_type": "markdown",
   "metadata": {},
   "source": [
    "### Анализ is_ultra"
   ]
  },
  {
   "cell_type": "code",
   "execution_count": 14,
   "metadata": {},
   "outputs": [
    {
     "data": {
      "image/png": "[encoded data removed]",
      "text/plain": [
       "<Figure size 432x288 with 1 Axes>"
      ]
     },
     "metadata": {
      "needs_background": "light"
     },
     "output_type": "display_data"
    }
   ],
   "source": [
    "# посмотрим частоту сообщений:\n",
    "data.is_ultra.plot(kind=\"hist\");"
   ]
  },
  {
   "cell_type": "markdown",
   "metadata": {},
   "source": [
    "### Корреляция"
   ]
  },
  {
   "cell_type": "code",
   "execution_count": 15,
   "metadata": {
    "scrolled": true
   },
   "outputs": [
    {
     "data": {
      "text/html": [
       "<style type=\"text/css\">\n",
       "#T_d2938_row0_col0, #T_d2938_row1_col1, #T_d2938_row2_col2, #T_d2938_row3_col3, #T_d2938_row4_col4 {\n",
       "  background-color: #b40426;\n",
       "  color: #f1f1f1;\n",
       "}\n",
       "#T_d2938_row0_col1, #T_d2938_row1_col0 {\n",
       "  background-color: #bb1b2c;\n",
       "  color: #f1f1f1;\n",
       "}\n",
       "#T_d2938_row0_col2, #T_d2938_row2_col4 {\n",
       "  background-color: #3c4ec2;\n",
       "  color: #f1f1f1;\n",
       "}\n",
       "#T_d2938_row0_col3 {\n",
       "  background-color: #5d7ce6;\n",
       "  color: #f1f1f1;\n",
       "}\n",
       "#T_d2938_row0_col4, #T_d2938_row1_col4 {\n",
       "  background-color: #3d50c3;\n",
       "  color: #f1f1f1;\n",
       "}\n",
       "#T_d2938_row1_col2, #T_d2938_row2_col0, #T_d2938_row2_col1, #T_d2938_row2_col3, #T_d2938_row3_col4, #T_d2938_row4_col3 {\n",
       "  background-color: #3b4cc0;\n",
       "  color: #f1f1f1;\n",
       "}\n",
       "#T_d2938_row1_col3 {\n",
       "  background-color: #5b7ae5;\n",
       "  color: #f1f1f1;\n",
       "}\n",
       "#T_d2938_row3_col0, #T_d2938_row3_col1 {\n",
       "  background-color: #6384eb;\n",
       "  color: #f1f1f1;\n",
       "}\n",
       "#T_d2938_row3_col2 {\n",
       "  background-color: #4358cb;\n",
       "  color: #f1f1f1;\n",
       "}\n",
       "#T_d2938_row4_col0, #T_d2938_row4_col2 {\n",
       "  background-color: #455cce;\n",
       "  color: #f1f1f1;\n",
       "}\n",
       "#T_d2938_row4_col1 {\n",
       "  background-color: #465ecf;\n",
       "  color: #f1f1f1;\n",
       "}\n",
       "</style>\n",
       "<table id=\"T_d2938\">\n",
       "  <thead>\n",
       "    <tr>\n",
       "      <th class=\"blank level0\" >&nbsp;</th>\n",
       "      <th id=\"T_d2938_level0_col0\" class=\"col_heading level0 col0\" >calls</th>\n",
       "      <th id=\"T_d2938_level0_col1\" class=\"col_heading level0 col1\" >minutes</th>\n",
       "      <th id=\"T_d2938_level0_col2\" class=\"col_heading level0 col2\" >messages</th>\n",
       "      <th id=\"T_d2938_level0_col3\" class=\"col_heading level0 col3\" >mb_used</th>\n",
       "      <th id=\"T_d2938_level0_col4\" class=\"col_heading level0 col4\" >is_ultra</th>\n",
       "    </tr>\n",
       "  </thead>\n",
       "  <tbody>\n",
       "    <tr>\n",
       "      <th id=\"T_d2938_level0_row0\" class=\"row_heading level0 row0\" >calls</th>\n",
       "      <td id=\"T_d2938_row0_col0\" class=\"data row0 col0\" >1.000000</td>\n",
       "      <td id=\"T_d2938_row0_col1\" class=\"data row0 col1\" >0.982083</td>\n",
       "      <td id=\"T_d2938_row0_col2\" class=\"data row0 col2\" >0.177385</td>\n",
       "      <td id=\"T_d2938_row0_col3\" class=\"data row0 col3\" >0.286442</td>\n",
       "      <td id=\"T_d2938_row0_col4\" class=\"data row0 col4\" >0.207122</td>\n",
       "    </tr>\n",
       "    <tr>\n",
       "      <th id=\"T_d2938_level0_row1\" class=\"row_heading level0 row1\" >minutes</th>\n",
       "      <td id=\"T_d2938_row1_col0\" class=\"data row1 col0\" >0.982083</td>\n",
       "      <td id=\"T_d2938_row1_col1\" class=\"data row1 col1\" >1.000000</td>\n",
       "      <td id=\"T_d2938_row1_col2\" class=\"data row1 col2\" >0.173110</td>\n",
       "      <td id=\"T_d2938_row1_col3\" class=\"data row1 col3\" >0.280967</td>\n",
       "      <td id=\"T_d2938_row1_col4\" class=\"data row1 col4\" >0.206955</td>\n",
       "    </tr>\n",
       "    <tr>\n",
       "      <th id=\"T_d2938_level0_row2\" class=\"row_heading level0 row2\" >messages</th>\n",
       "      <td id=\"T_d2938_row2_col0\" class=\"data row2 col0\" >0.177385</td>\n",
       "      <td id=\"T_d2938_row2_col1\" class=\"data row2 col1\" >0.173110</td>\n",
       "      <td id=\"T_d2938_row2_col2\" class=\"data row2 col2\" >1.000000</td>\n",
       "      <td id=\"T_d2938_row2_col3\" class=\"data row2 col3\" >0.195721</td>\n",
       "      <td id=\"T_d2938_row2_col4\" class=\"data row2 col4\" >0.203830</td>\n",
       "    </tr>\n",
       "    <tr>\n",
       "      <th id=\"T_d2938_level0_row3\" class=\"row_heading level0 row3\" >mb_used</th>\n",
       "      <td id=\"T_d2938_row3_col0\" class=\"data row3 col0\" >0.286442</td>\n",
       "      <td id=\"T_d2938_row3_col1\" class=\"data row3 col1\" >0.280967</td>\n",
       "      <td id=\"T_d2938_row3_col2\" class=\"data row3 col2\" >0.195721</td>\n",
       "      <td id=\"T_d2938_row3_col3\" class=\"data row3 col3\" >1.000000</td>\n",
       "      <td id=\"T_d2938_row3_col4\" class=\"data row3 col4\" >0.198568</td>\n",
       "    </tr>\n",
       "    <tr>\n",
       "      <th id=\"T_d2938_level0_row4\" class=\"row_heading level0 row4\" >is_ultra</th>\n",
       "      <td id=\"T_d2938_row4_col0\" class=\"data row4 col0\" >0.207122</td>\n",
       "      <td id=\"T_d2938_row4_col1\" class=\"data row4 col1\" >0.206955</td>\n",
       "      <td id=\"T_d2938_row4_col2\" class=\"data row4 col2\" >0.203830</td>\n",
       "      <td id=\"T_d2938_row4_col3\" class=\"data row4 col3\" >0.198568</td>\n",
       "      <td id=\"T_d2938_row4_col4\" class=\"data row4 col4\" >1.000000</td>\n",
       "    </tr>\n",
       "  </tbody>\n",
       "</table>\n"
      ],
      "text/plain": [
       "<pandas.io.formats.style.Styler at 0x2b6000d7970>"
      ]
     },
     "execution_count": 15,
     "metadata": {},
     "output_type": "execute_result"
    }
   ],
   "source": [
    "corr = data.corr()\n",
    "corr.style.background_gradient(cmap='coolwarm')"
   ]
  },
  {
   "cell_type": "markdown",
   "metadata": {},
   "source": [
    "Итоги быстрого EDA:\n",
    "* пропусков нет. Ничего не меняем.\n",
    "* в некоторых переменных есть выбросы. Их возможно удалить. Но по задании не трогаем их.\n",
    "* корреляция с целевой функцией в районе 20%, что говорит о невысокой корреляции\n",
    "* у целевой функции достаточной количество различных элементов для классификации: 2000+ значений \"0\", 1000+ значения \"1\""
   ]
  },
  {
   "cell_type": "markdown",
   "metadata": {},
   "source": [
    "## Разбейте данные на выборки"
   ]
  },
  {
   "cell_type": "code",
   "execution_count": 16,
   "metadata": {
    "scrolled": false
   },
   "outputs": [
    {
     "data": {
      "text/html": [
       "<div>\n",
       "<style scoped>\n",
       "    .dataframe tbody tr th:only-of-type {\n",
       "        vertical-align: middle;\n",
       "    }\n",
       "\n",
       "    .dataframe tbody tr th {\n",
       "        vertical-align: top;\n",
       "    }\n",
       "\n",
       "    .dataframe thead th {\n",
       "        text-align: right;\n",
       "    }\n",
       "</style>\n",
       "<table border=\"1\" class=\"dataframe\">\n",
       "  <thead>\n",
       "    <tr style=\"text-align: right;\">\n",
       "      <th></th>\n",
       "      <th>calls</th>\n",
       "      <th>minutes</th>\n",
       "      <th>messages</th>\n",
       "      <th>mb_used</th>\n",
       "    </tr>\n",
       "  </thead>\n",
       "  <tbody>\n",
       "    <tr>\n",
       "      <th>0</th>\n",
       "      <td>40.0</td>\n",
       "      <td>311.90</td>\n",
       "      <td>83.0</td>\n",
       "      <td>19915.42</td>\n",
       "    </tr>\n",
       "    <tr>\n",
       "      <th>1</th>\n",
       "      <td>85.0</td>\n",
       "      <td>516.75</td>\n",
       "      <td>56.0</td>\n",
       "      <td>22696.96</td>\n",
       "    </tr>\n",
       "    <tr>\n",
       "      <th>2</th>\n",
       "      <td>77.0</td>\n",
       "      <td>467.66</td>\n",
       "      <td>86.0</td>\n",
       "      <td>21060.45</td>\n",
       "    </tr>\n",
       "    <tr>\n",
       "      <th>3</th>\n",
       "      <td>106.0</td>\n",
       "      <td>745.53</td>\n",
       "      <td>81.0</td>\n",
       "      <td>8437.39</td>\n",
       "    </tr>\n",
       "    <tr>\n",
       "      <th>4</th>\n",
       "      <td>66.0</td>\n",
       "      <td>418.74</td>\n",
       "      <td>1.0</td>\n",
       "      <td>14502.75</td>\n",
       "    </tr>\n",
       "  </tbody>\n",
       "</table>\n",
       "</div>"
      ],
      "text/plain": [
       "   calls  minutes  messages   mb_used\n",
       "0   40.0   311.90      83.0  19915.42\n",
       "1   85.0   516.75      56.0  22696.96\n",
       "2   77.0   467.66      86.0  21060.45\n",
       "3  106.0   745.53      81.0   8437.39\n",
       "4   66.0   418.74       1.0  14502.75"
      ]
     },
     "metadata": {},
     "output_type": "display_data"
    },
    {
     "data": {
      "text/plain": [
       "0    0\n",
       "1    0\n",
       "2    0\n",
       "3    1\n",
       "4    0\n",
       "Name: is_ultra, dtype: int64"
      ]
     },
     "metadata": {},
     "output_type": "display_data"
    }
   ],
   "source": [
    "# подготовим данные целевой функции и для фичей.\n",
    "\n",
    "X = data.drop(['is_ultra'], axis=1)\n",
    "у = data['is_ultra']\n",
    "\n",
    "display(X.head())\n",
    "display(у.head())"
   ]
  },
  {
   "cell_type": "markdown",
   "metadata": {},
   "source": [
    "разобьем данные\n",
    "* 60% - train set (_train),\n",
    "* 20% - validation set(_val),\n",
    "* 20% - test set (_test)"
   ]
  },
  {
   "cell_type": "code",
   "execution_count": 17,
   "metadata": {},
   "outputs": [],
   "source": [
    "X_temp, X_val, у_temp, у_val = train_test_split(X, у, \n",
    "                                                test_size=0.2, train_size=0.8, \n",
    "                                                random_state=rd,\n",
    "                                               stratify=у\n",
    "                                               )\n",
    "\n",
    "X_train, X_test, y_train, y_test = train_test_split(X_temp, у_temp, \n",
    "                                                    test_size = 0.25, train_size =0.75,\n",
    "                                                    random_state=rd, \n",
    "                                                    stratify=у_temp\n",
    "                                                   )"
   ]
  },
  {
   "cell_type": "code",
   "execution_count": 18,
   "metadata": {},
   "outputs": [
    {
     "name": "stdout",
     "output_type": "stream",
     "text": [
      "1928 1928 643 643 643 643\n"
     ]
    }
   ],
   "source": [
    "# проверим, что получилось:\n",
    "print(len(X_train), len(y_train),\n",
    "      len(X_test),len(y_test),\n",
    "      len(X_val),len(у_val))"
   ]
  },
  {
   "cell_type": "markdown",
   "metadata": {},
   "source": [
    "## Исследуйте модели"
   ]
  },
  {
   "cell_type": "code",
   "execution_count": 19,
   "metadata": {},
   "outputs": [
    {
     "data": {
      "text/html": [
       "<div>\n",
       "<style scoped>\n",
       "    .dataframe tbody tr th:only-of-type {\n",
       "        vertical-align: middle;\n",
       "    }\n",
       "\n",
       "    .dataframe tbody tr th {\n",
       "        vertical-align: top;\n",
       "    }\n",
       "\n",
       "    .dataframe thead th {\n",
       "        text-align: right;\n",
       "    }\n",
       "</style>\n",
       "<table border=\"1\" class=\"dataframe\">\n",
       "  <thead>\n",
       "    <tr style=\"text-align: right;\">\n",
       "      <th></th>\n",
       "      <th>model</th>\n",
       "      <th>accuracy_score</th>\n",
       "    </tr>\n",
       "  </thead>\n",
       "  <tbody>\n",
       "  </tbody>\n",
       "</table>\n",
       "</div>"
      ],
      "text/plain": [
       "Empty DataFrame\n",
       "Columns: [model, accuracy_score]\n",
       "Index: []"
      ]
     },
     "execution_count": 19,
     "metadata": {},
     "output_type": "execute_result"
    }
   ],
   "source": [
    "# создадим df для исследований\n",
    "model_rep = pd.DataFrame({\"model\": [], \"accuracy_score\": []})\n",
    "model_rep"
   ]
  },
  {
   "cell_type": "markdown",
   "metadata": {},
   "source": [
    "### Логит-регрессия"
   ]
  },
  {
   "cell_type": "code",
   "execution_count": 20,
   "metadata": {},
   "outputs": [
    {
     "data": {
      "text/plain": [
       "0.6702954898911353"
      ]
     },
     "execution_count": 20,
     "metadata": {},
     "output_type": "execute_result"
    }
   ],
   "source": [
    "LR_model = LogisticRegression()                                  # инициализация LR\n",
    "LR_model.fit(X_train, y_train)                                   # тренировка \n",
    "pred_y_val = LR_model.predict(X_val)                           # предсказание функции на тесте                 \n",
    "\n",
    "LR_accuracy = accuracy_score(y_test, pred_y_val)\n",
    "LR_accuracy"
   ]
  },
  {
   "cell_type": "code",
   "execution_count": 21,
   "metadata": {
    "scrolled": true
   },
   "outputs": [
    {
     "name": "stderr",
     "output_type": "stream",
     "text": [
      "C:\\Users\\izara\\AppData\\Local\\Temp\\ipykernel_9496\\691363201.py:1: FutureWarning: The frame.append method is deprecated and will be removed from pandas in a future version. Use pandas.concat instead.\n",
      "  model_rep = model_rep.append({\"model\": 'LR_model', \"accuracy_score\": LR_accuracy},  ignore_index=True)\n"
     ]
    },
    {
     "data": {
      "text/html": [
       "<div>\n",
       "<style scoped>\n",
       "    .dataframe tbody tr th:only-of-type {\n",
       "        vertical-align: middle;\n",
       "    }\n",
       "\n",
       "    .dataframe tbody tr th {\n",
       "        vertical-align: top;\n",
       "    }\n",
       "\n",
       "    .dataframe thead th {\n",
       "        text-align: right;\n",
       "    }\n",
       "</style>\n",
       "<table border=\"1\" class=\"dataframe\">\n",
       "  <thead>\n",
       "    <tr style=\"text-align: right;\">\n",
       "      <th></th>\n",
       "      <th>model</th>\n",
       "      <th>accuracy_score</th>\n",
       "    </tr>\n",
       "  </thead>\n",
       "  <tbody>\n",
       "    <tr>\n",
       "      <th>0</th>\n",
       "      <td>LR_model</td>\n",
       "      <td>0.670295</td>\n",
       "    </tr>\n",
       "  </tbody>\n",
       "</table>\n",
       "</div>"
      ],
      "text/plain": [
       "      model  accuracy_score\n",
       "0  LR_model        0.670295"
      ]
     },
     "execution_count": 21,
     "metadata": {},
     "output_type": "execute_result"
    }
   ],
   "source": [
    "model_rep = model_rep.append({\"model\": 'LR_model', \"accuracy_score\": LR_accuracy},  ignore_index=True)\n",
    "model_rep"
   ]
  },
  {
   "cell_type": "markdown",
   "metadata": {},
   "source": [
    "### Случайный лес"
   ]
  },
  {
   "cell_type": "code",
   "execution_count": 22,
   "metadata": {},
   "outputs": [],
   "source": [
    "# пропишем гиперпараметры, которые будем перебирать\n",
    "\n",
    "RFC_model = RandomForestClassifier()\n",
    "\n",
    "RFC_params = {\n",
    "    \"n_estimators\": [10, 100, 1000],\n",
    "    \"max_features\": ['sqrt'],\n",
    "    \"max_depth\": [5, 7, 10],\n",
    "    \"min_samples_split\": [2, 4],\n",
    "    \"min_samples_leaf\": [1, 2],\n",
    "    \"bootstrap\": [False],\n",
    "}"
   ]
  },
  {
   "cell_type": "code",
   "execution_count": 23,
   "metadata": {
    "scrolled": true
   },
   "outputs": [
    {
     "data": {
      "text/plain": [
       "GridSearchCV(cv=5, estimator=RandomForestClassifier(),\n",
       "             param_grid={'bootstrap': [False], 'max_depth': [5, 7, 10],\n",
       "                         'max_features': ['sqrt'], 'min_samples_leaf': [1, 2],\n",
       "                         'min_samples_split': [2, 4],\n",
       "                         'n_estimators': [10, 100, 1000]})"
      ]
     },
     "execution_count": 23,
     "metadata": {},
     "output_type": "execute_result"
    }
   ],
   "source": [
    "RFC_grid = GridSearchCV(RFC_model, RFC_params, cv=5)\n",
    "RFC_grid.fit(X_train, y_train)"
   ]
  },
  {
   "cell_type": "code",
   "execution_count": 24,
   "metadata": {},
   "outputs": [
    {
     "data": {
      "text/plain": [
       "{'bootstrap': False,\n",
       " 'max_depth': 10,\n",
       " 'max_features': 'sqrt',\n",
       " 'min_samples_leaf': 2,\n",
       " 'min_samples_split': 4,\n",
       " 'n_estimators': 1000}"
      ]
     },
     "execution_count": 24,
     "metadata": {},
     "output_type": "execute_result"
    }
   ],
   "source": [
    "RFC_grid.best_params_"
   ]
  },
  {
   "cell_type": "code",
   "execution_count": 25,
   "metadata": {},
   "outputs": [
    {
     "data": {
      "text/plain": [
       "0.8180404354587869"
      ]
     },
     "execution_count": 25,
     "metadata": {},
     "output_type": "execute_result"
    }
   ],
   "source": [
    "pred_y_val = RFC_grid.predict(X_val)                          # предсказание функции на val \n",
    "\n",
    "RFC_accuracy = accuracy_score(у_val, pred_y_val)\n",
    "RFC_accuracy"
   ]
  },
  {
   "cell_type": "code",
   "execution_count": 26,
   "metadata": {
    "scrolled": true
   },
   "outputs": [
    {
     "name": "stderr",
     "output_type": "stream",
     "text": [
      "C:\\Users\\izara\\AppData\\Local\\Temp\\ipykernel_9496\\2373827253.py:2: FutureWarning: The frame.append method is deprecated and will be removed from pandas in a future version. Use pandas.concat instead.\n",
      "  model_rep = model_rep.append({\"model\": 'RFC_grid', \"accuracy_score\": RFC_accuracy},  ignore_index=True)\n"
     ]
    },
    {
     "data": {
      "text/html": [
       "<div>\n",
       "<style scoped>\n",
       "    .dataframe tbody tr th:only-of-type {\n",
       "        vertical-align: middle;\n",
       "    }\n",
       "\n",
       "    .dataframe tbody tr th {\n",
       "        vertical-align: top;\n",
       "    }\n",
       "\n",
       "    .dataframe thead th {\n",
       "        text-align: right;\n",
       "    }\n",
       "</style>\n",
       "<table border=\"1\" class=\"dataframe\">\n",
       "  <thead>\n",
       "    <tr style=\"text-align: right;\">\n",
       "      <th></th>\n",
       "      <th>model</th>\n",
       "      <th>accuracy_score</th>\n",
       "    </tr>\n",
       "  </thead>\n",
       "  <tbody>\n",
       "    <tr>\n",
       "      <th>0</th>\n",
       "      <td>LR_model</td>\n",
       "      <td>0.670295</td>\n",
       "    </tr>\n",
       "    <tr>\n",
       "      <th>1</th>\n",
       "      <td>RFC_grid</td>\n",
       "      <td>0.818040</td>\n",
       "    </tr>\n",
       "  </tbody>\n",
       "</table>\n",
       "</div>"
      ],
      "text/plain": [
       "      model  accuracy_score\n",
       "0  LR_model        0.670295\n",
       "1  RFC_grid        0.818040"
      ]
     },
     "execution_count": 26,
     "metadata": {},
     "output_type": "execute_result"
    }
   ],
   "source": [
    "# добавим в общую таблицу\n",
    "model_rep = model_rep.append({\"model\": 'RFC_grid', \"accuracy_score\": RFC_accuracy},  ignore_index=True)\n",
    "model_rep"
   ]
  },
  {
   "cell_type": "markdown",
   "metadata": {},
   "source": [
    "ЛУчшие праметры в RCF:\n",
    "'bootstrap': False,  'max_depth': 10, 'max_features': 'sqrt', 'min_samples_leaf': 2, 'min_samples_split': 6, 'n_estimators': 10\n",
    "\n",
    "При таком небольшом количестве фичей (всего 4) получилось большое количество деревьев. =)"
   ]
  },
  {
   "cell_type": "markdown",
   "metadata": {},
   "source": [
    "Глубина является одним из важнейших составляющих. Будем надеяться, что оверфита здесь не будет."
   ]
  },
  {
   "cell_type": "markdown",
   "metadata": {},
   "source": [
    "В логит-регрессии ACC=0.7200, а случайном лесе ACC=0.7791.\n",
    "Учитывая ограниченность во времени и минимальную планку точность (0.7500), можно дальше модели не перебирать."
   ]
  },
  {
   "cell_type": "markdown",
   "metadata": {},
   "source": [
    "## Проверьте модель на тестовой выборке"
   ]
  },
  {
   "cell_type": "code",
   "execution_count": 27,
   "metadata": {},
   "outputs": [
    {
     "data": {
      "text/plain": [
       "0.7869362363919129"
      ]
     },
     "execution_count": 27,
     "metadata": {},
     "output_type": "execute_result"
    }
   ],
   "source": [
    "# Проверим модель на тестовой выборке\n",
    "# Так как у нас наилучая подель RFC_model, то будем смотреть на нее\n",
    "\n",
    "pred_y_test = RFC_grid.predict(X_test)                          # предсказание функции на val \n",
    "\n",
    "RFC_accuracy = accuracy_score(y_test, pred_y_test)\n",
    "RFC_accuracy"
   ]
  },
  {
   "cell_type": "markdown",
   "metadata": {},
   "source": [
    "На тестовых данных RFC показал результат 0,79. Результат на тесте ниже, чем результат на валидации. Результат 0,7900  приемлем для решения задачи."
   ]
  },
  {
   "cell_type": "markdown",
   "metadata": {},
   "source": [
    "## (бонус) Проверьте модели на адекватность"
   ]
  },
  {
   "cell_type": "markdown",
   "metadata": {},
   "source": [
    "сделаем проверку на модели RFC. Для этого посмототрим \n",
    "<br> Для проверки сделаем предсказание для самым очевидных ситуаций: активношго пользователя и неактивного\n",
    "\n",
    "* сalls 60 штук, 10 штук\n",
    "* minutes 1000 минут, 10 минут\n",
    "* messages 200 sms-сообщений, 0 sms-сообщений\n",
    "* mb_used 500000 Мб, 0 Мб\n"
   ]
  },
  {
   "cell_type": "code",
   "execution_count": 28,
   "metadata": {},
   "outputs": [
    {
     "data": {
      "text/plain": [
       "array([1, 1], dtype=int64)"
      ]
     },
     "execution_count": 28,
     "metadata": {},
     "output_type": "execute_result"
    }
   ],
   "source": [
    "X_rnd = pd.DataFrame({\"calls\": [60, 10], \"minutes\": [1000, 10], \"messages\": [200, 0], \"mb_used\": [50000, 0]})\n",
    "pred_y_test = RFC_grid.predict(X_rnd)\n",
    "pred_y_test"
   ]
  },
  {
   "cell_type": "markdown",
   "metadata": {},
   "source": [
    "В проверке на адекватность видно, что активному пользователю рекомендуется тарифный план Ультра. \n",
    "У пассивного пользователя наоброт - нет необходиомости и целесообразен тариф Смарт."
   ]
  },
  {
   "cell_type": "code",
   "execution_count": 29,
   "metadata": {},
   "outputs": [
    {
     "data": {
      "text/plain": [
       "0.6934647302904564"
      ]
     },
     "execution_count": 29,
     "metadata": {},
     "output_type": "execute_result"
    }
   ],
   "source": [
    "## DummyClassifier\n",
    "dummy_clf = DummyClassifier(strategy=\"most_frequent\")\n",
    "dummy_clf.fit(X_train, y_train)\n",
    "dummy_clf.predict(X_train)\n",
    "dummy_clf.score(X_train, y_train)"
   ]
  },
  {
   "cell_type": "markdown",
   "metadata": {},
   "source": [
    "Можно сделать вывод, что значение показателя 0,69 и оно далеко от 1,00. Значит такой дисбаланс в целевой функции не так критичен."
   ]
  },
  {
   "cell_type": "markdown",
   "metadata": {},
   "source": [
    "Вывод: Наилучшей точность из двух моделей: логистической регрессии и случайного леса обладает случайный лес. Подобраны оптимальные пераметры и достигнута минимальная необходимая точность с учетом подборов параметров."
   ]
  }
 ],
 "metadata": {
  "ExecuteTimeLog": [
   {
    "duration": 9,
    "start_time": "2022-10-22T22:08:43.041Z"
   },
   {
    "duration": 1301,
    "start_time": "2022-10-22T22:11:10.907Z"
   },
   {
    "duration": 179,
    "start_time": "2022-10-22T22:12:20.954Z"
   },
   {
    "duration": 14,
    "start_time": "2022-10-22T22:12:36.805Z"
   },
   {
    "duration": 252,
    "start_time": "2022-10-22T22:14:09.864Z"
   },
   {
    "duration": 103,
    "start_time": "2022-10-22T22:17:01.022Z"
   },
   {
    "duration": 14,
    "start_time": "2022-10-22T22:17:09.423Z"
   },
   {
    "duration": 13,
    "start_time": "2022-10-22T22:17:30.033Z"
   },
   {
    "duration": 11,
    "start_time": "2022-10-23T07:24:53.249Z"
   },
   {
    "duration": 46,
    "start_time": "2022-10-23T08:19:00.145Z"
   },
   {
    "duration": 7,
    "start_time": "2022-10-23T08:19:05.046Z"
   },
   {
    "duration": 1535,
    "start_time": "2022-10-23T08:19:17.048Z"
   },
   {
    "duration": 3,
    "start_time": "2022-10-23T08:19:18.585Z"
   },
   {
    "duration": 124,
    "start_time": "2022-10-23T08:19:18.590Z"
   },
   {
    "duration": 15,
    "start_time": "2022-10-23T08:19:18.717Z"
   },
   {
    "duration": 13,
    "start_time": "2022-10-23T08:19:18.734Z"
   },
   {
    "duration": 79,
    "start_time": "2022-10-23T08:19:21.899Z"
   },
   {
    "duration": 14,
    "start_time": "2022-10-23T08:19:32.817Z"
   },
   {
    "duration": 9,
    "start_time": "2022-10-23T08:19:35.842Z"
   },
   {
    "duration": 5,
    "start_time": "2022-10-23T08:19:46.635Z"
   },
   {
    "duration": 9,
    "start_time": "2022-10-23T08:20:02.297Z"
   },
   {
    "duration": 8,
    "start_time": "2022-10-23T08:20:22.648Z"
   },
   {
    "duration": 16,
    "start_time": "2022-10-23T08:20:41.771Z"
   },
   {
    "duration": 13,
    "start_time": "2022-10-23T08:40:28.490Z"
   },
   {
    "duration": 22,
    "start_time": "2022-10-23T08:41:48.472Z"
   },
   {
    "duration": 17,
    "start_time": "2022-10-23T08:41:51.989Z"
   },
   {
    "duration": 17,
    "start_time": "2022-10-23T08:42:36.422Z"
   },
   {
    "duration": 7,
    "start_time": "2022-10-23T08:42:45.472Z"
   },
   {
    "duration": 6,
    "start_time": "2022-10-23T08:44:41.565Z"
   },
   {
    "duration": 3,
    "start_time": "2022-10-23T08:54:02.738Z"
   },
   {
    "duration": 4,
    "start_time": "2022-10-23T08:56:31.085Z"
   },
   {
    "duration": 14,
    "start_time": "2022-10-23T08:58:50.320Z"
   },
   {
    "duration": 16,
    "start_time": "2022-10-23T08:59:04.047Z"
   },
   {
    "duration": 9,
    "start_time": "2022-10-23T08:59:51.943Z"
   },
   {
    "duration": 4,
    "start_time": "2022-10-23T09:10:28.048Z"
   },
   {
    "duration": 23,
    "start_time": "2022-10-23T09:12:28.661Z"
   },
   {
    "duration": 6,
    "start_time": "2022-10-23T09:12:32.707Z"
   },
   {
    "duration": 5,
    "start_time": "2022-10-23T09:13:52.552Z"
   },
   {
    "duration": 3,
    "start_time": "2022-10-23T09:16:48.753Z"
   },
   {
    "duration": 5,
    "start_time": "2022-10-23T09:16:52.885Z"
   },
   {
    "duration": 5,
    "start_time": "2022-10-23T09:17:48.372Z"
   },
   {
    "duration": 5,
    "start_time": "2022-10-23T09:17:55.758Z"
   },
   {
    "duration": 7,
    "start_time": "2022-10-23T09:18:07.809Z"
   },
   {
    "duration": 83,
    "start_time": "2022-10-23T09:18:12.579Z"
   },
   {
    "duration": 4,
    "start_time": "2022-10-23T09:19:26.668Z"
   },
   {
    "duration": 7,
    "start_time": "2022-10-23T09:19:31.110Z"
   },
   {
    "duration": 7,
    "start_time": "2022-10-23T09:19:57.566Z"
   },
   {
    "duration": 14,
    "start_time": "2022-10-23T09:23:38.462Z"
   },
   {
    "duration": 10,
    "start_time": "2022-10-23T09:23:43.813Z"
   },
   {
    "duration": 13,
    "start_time": "2022-10-23T09:24:39.517Z"
   },
   {
    "duration": 108,
    "start_time": "2022-10-23T09:29:22.677Z"
   },
   {
    "duration": 4,
    "start_time": "2022-10-23T09:29:34.064Z"
   },
   {
    "duration": 9,
    "start_time": "2022-10-23T09:29:34.070Z"
   },
   {
    "duration": 46,
    "start_time": "2022-10-23T09:29:34.080Z"
   },
   {
    "duration": 11,
    "start_time": "2022-10-23T09:29:34.127Z"
   },
   {
    "duration": 15,
    "start_time": "2022-10-23T09:29:34.140Z"
   },
   {
    "duration": 9,
    "start_time": "2022-10-23T09:29:34.157Z"
   },
   {
    "duration": 7,
    "start_time": "2022-10-23T09:29:34.168Z"
   },
   {
    "duration": 11,
    "start_time": "2022-10-23T09:29:34.177Z"
   },
   {
    "duration": 31,
    "start_time": "2022-10-23T09:29:34.189Z"
   },
   {
    "duration": 5,
    "start_time": "2022-10-23T09:30:10.312Z"
   },
   {
    "duration": 6,
    "start_time": "2022-10-23T09:30:10.319Z"
   },
   {
    "duration": 31,
    "start_time": "2022-10-23T09:30:10.327Z"
   },
   {
    "duration": 13,
    "start_time": "2022-10-23T09:30:10.360Z"
   },
   {
    "duration": 18,
    "start_time": "2022-10-23T09:30:10.375Z"
   },
   {
    "duration": 20,
    "start_time": "2022-10-23T09:30:10.397Z"
   },
   {
    "duration": 6,
    "start_time": "2022-10-23T09:30:10.419Z"
   },
   {
    "duration": 12,
    "start_time": "2022-10-23T09:30:10.427Z"
   },
   {
    "duration": 5,
    "start_time": "2022-10-23T09:32:33.744Z"
   },
   {
    "duration": 6,
    "start_time": "2022-10-23T09:32:33.751Z"
   },
   {
    "duration": 32,
    "start_time": "2022-10-23T09:32:33.758Z"
   },
   {
    "duration": 18,
    "start_time": "2022-10-23T09:32:33.792Z"
   },
   {
    "duration": 16,
    "start_time": "2022-10-23T09:32:33.812Z"
   },
   {
    "duration": 6,
    "start_time": "2022-10-23T09:32:33.830Z"
   },
   {
    "duration": 6,
    "start_time": "2022-10-23T09:32:33.838Z"
   },
   {
    "duration": 11,
    "start_time": "2022-10-23T09:32:33.845Z"
   },
   {
    "duration": 44,
    "start_time": "2022-10-23T09:32:33.858Z"
   },
   {
    "duration": 11,
    "start_time": "2022-10-23T09:32:33.910Z"
   },
   {
    "duration": 28,
    "start_time": "2022-10-23T09:38:51.711Z"
   },
   {
    "duration": 3,
    "start_time": "2022-10-23T09:39:26.272Z"
   },
   {
    "duration": 4,
    "start_time": "2022-10-23T09:45:45.045Z"
   },
   {
    "duration": 3,
    "start_time": "2022-10-23T09:46:04.026Z"
   },
   {
    "duration": 5,
    "start_time": "2022-10-23T09:47:56.421Z"
   },
   {
    "duration": 398684,
    "start_time": "2022-10-23T09:47:59.087Z"
   },
   {
    "duration": 12,
    "start_time": "2022-10-23T10:55:38.394Z"
   },
   {
    "duration": 4,
    "start_time": "2022-10-23T10:55:46.183Z"
   },
   {
    "duration": 9,
    "start_time": "2022-10-23T11:03:07.587Z"
   },
   {
    "duration": 10,
    "start_time": "2022-10-23T11:08:33.980Z"
   },
   {
    "duration": 69,
    "start_time": "2022-10-23T11:19:45.691Z"
   },
   {
    "duration": 10,
    "start_time": "2022-10-23T11:28:42.948Z"
   },
   {
    "duration": 8,
    "start_time": "2022-10-23T11:28:55.399Z"
   },
   {
    "duration": 107,
    "start_time": "2022-10-23T11:35:44.372Z"
   },
   {
    "duration": 71,
    "start_time": "2022-10-23T11:42:34.742Z"
   },
   {
    "duration": 69,
    "start_time": "2022-10-23T11:47:05.614Z"
   },
   {
    "duration": 88,
    "start_time": "2022-10-23T11:48:37.407Z"
   },
   {
    "duration": 5,
    "start_time": "2022-10-23T11:49:46.594Z"
   },
   {
    "duration": 10,
    "start_time": "2022-10-23T11:49:46.602Z"
   },
   {
    "duration": 32,
    "start_time": "2022-10-23T11:49:46.614Z"
   },
   {
    "duration": 10,
    "start_time": "2022-10-23T11:49:46.648Z"
   },
   {
    "duration": 18,
    "start_time": "2022-10-23T11:49:46.660Z"
   },
   {
    "duration": 10,
    "start_time": "2022-10-23T11:49:46.680Z"
   },
   {
    "duration": 7,
    "start_time": "2022-10-23T11:49:46.695Z"
   },
   {
    "duration": 16,
    "start_time": "2022-10-23T11:49:46.705Z"
   },
   {
    "duration": 46,
    "start_time": "2022-10-23T11:49:46.723Z"
   },
   {
    "duration": 12,
    "start_time": "2022-10-23T11:49:46.771Z"
   },
   {
    "duration": 14,
    "start_time": "2022-10-23T11:49:46.785Z"
   },
   {
    "duration": 369150,
    "start_time": "2022-10-23T11:49:46.801Z"
   },
   {
    "duration": 3,
    "start_time": "2022-10-23T11:55:55.953Z"
   },
   {
    "duration": 50,
    "start_time": "2022-10-23T11:55:55.959Z"
   },
   {
    "duration": 10,
    "start_time": "2022-10-23T11:55:56.011Z"
   },
   {
    "duration": 35,
    "start_time": "2022-10-23T11:55:56.023Z"
   },
   {
    "duration": 44,
    "start_time": "2022-10-23T11:55:56.060Z"
   },
   {
    "duration": 46,
    "start_time": "2022-10-23T16:36:54.589Z"
   },
   {
    "duration": 1459,
    "start_time": "2022-10-23T16:37:04.199Z"
   },
   {
    "duration": 3,
    "start_time": "2022-10-23T16:37:05.660Z"
   },
   {
    "duration": 50,
    "start_time": "2022-10-23T16:37:05.665Z"
   },
   {
    "duration": 24,
    "start_time": "2022-10-23T16:39:06.982Z"
   },
   {
    "duration": 20,
    "start_time": "2022-10-23T16:39:35.447Z"
   },
   {
    "duration": 9,
    "start_time": "2022-10-23T16:40:07.476Z"
   },
   {
    "duration": 9,
    "start_time": "2022-10-23T16:51:47.057Z"
   },
   {
    "duration": 125,
    "start_time": "2022-10-23T17:00:54.967Z"
   },
   {
    "duration": 125,
    "start_time": "2022-10-23T17:07:32.005Z"
   },
   {
    "duration": 130,
    "start_time": "2022-10-23T17:10:11.204Z"
   },
   {
    "duration": 196,
    "start_time": "2022-10-23T17:13:02.097Z"
   },
   {
    "duration": 164,
    "start_time": "2022-10-23T17:13:14.701Z"
   },
   {
    "duration": 132,
    "start_time": "2022-10-23T17:13:44.272Z"
   },
   {
    "duration": 115,
    "start_time": "2022-10-23T17:14:05.774Z"
   },
   {
    "duration": 92,
    "start_time": "2022-10-23T17:14:13.792Z"
   },
   {
    "duration": 98,
    "start_time": "2022-10-23T17:15:16.848Z"
   },
   {
    "duration": 2,
    "start_time": "2022-10-23T17:15:54.358Z"
   },
   {
    "duration": 127,
    "start_time": "2022-10-23T17:16:28.349Z"
   },
   {
    "duration": 88,
    "start_time": "2022-10-23T17:17:26.538Z"
   },
   {
    "duration": 95,
    "start_time": "2022-10-23T17:17:38.827Z"
   },
   {
    "duration": 2,
    "start_time": "2022-10-23T17:19:07.331Z"
   },
   {
    "duration": 122,
    "start_time": "2022-10-23T17:50:39.130Z"
   },
   {
    "duration": 116,
    "start_time": "2022-10-23T17:51:00.544Z"
   },
   {
    "duration": 91,
    "start_time": "2022-10-23T17:51:25.607Z"
   },
   {
    "duration": 84,
    "start_time": "2022-10-23T17:51:56.480Z"
   },
   {
    "duration": 114,
    "start_time": "2022-10-23T17:51:59.794Z"
   },
   {
    "duration": 80,
    "start_time": "2022-10-23T17:52:16.095Z"
   },
   {
    "duration": 201,
    "start_time": "2022-10-23T17:53:01.392Z"
   },
   {
    "duration": 106,
    "start_time": "2022-10-23T17:53:09.952Z"
   },
   {
    "duration": 81,
    "start_time": "2022-10-23T17:53:20.423Z"
   },
   {
    "duration": 108,
    "start_time": "2022-10-23T17:53:49.103Z"
   },
   {
    "duration": 93,
    "start_time": "2022-10-23T17:54:33.809Z"
   },
   {
    "duration": 99,
    "start_time": "2022-10-23T17:55:11.585Z"
   },
   {
    "duration": 2,
    "start_time": "2022-10-23T17:55:30.855Z"
   },
   {
    "duration": 8,
    "start_time": "2022-10-23T17:56:29.566Z"
   },
   {
    "duration": 45,
    "start_time": "2022-10-23T17:56:42.335Z"
   },
   {
    "duration": 88,
    "start_time": "2022-10-23T17:59:40.501Z"
   },
   {
    "duration": 105,
    "start_time": "2022-10-23T18:00:00.928Z"
   },
   {
    "duration": 106,
    "start_time": "2022-10-23T18:00:23.735Z"
   },
   {
    "duration": 99,
    "start_time": "2022-10-23T18:00:36.381Z"
   },
   {
    "duration": 111,
    "start_time": "2022-10-23T18:01:46.331Z"
   },
   {
    "duration": 82,
    "start_time": "2022-10-23T18:01:49.602Z"
   },
   {
    "duration": 109,
    "start_time": "2022-10-23T18:02:17.384Z"
   },
   {
    "duration": 174,
    "start_time": "2022-10-23T18:02:26.003Z"
   },
   {
    "duration": 101,
    "start_time": "2022-10-23T18:02:31.006Z"
   },
   {
    "duration": 106,
    "start_time": "2022-10-23T18:03:04.057Z"
   },
   {
    "duration": 79,
    "start_time": "2022-10-23T18:03:12.230Z"
   },
   {
    "duration": 66,
    "start_time": "2022-10-23T18:06:21.502Z"
   },
   {
    "duration": 3,
    "start_time": "2022-10-23T18:14:08.502Z"
   },
   {
    "duration": 12,
    "start_time": "2022-10-23T18:15:10.359Z"
   },
   {
    "duration": 3,
    "start_time": "2022-10-23T18:16:04.738Z"
   },
   {
    "duration": 5,
    "start_time": "2022-10-23T18:18:05.327Z"
   },
   {
    "duration": 5,
    "start_time": "2022-10-23T18:18:45.253Z"
   },
   {
    "duration": 5,
    "start_time": "2022-10-23T18:19:08.222Z"
   },
   {
    "duration": 9,
    "start_time": "2022-10-23T18:19:19.634Z"
   },
   {
    "duration": 5,
    "start_time": "2022-10-23T18:19:25.540Z"
   },
   {
    "duration": 5,
    "start_time": "2022-10-23T18:19:31.587Z"
   },
   {
    "duration": 10,
    "start_time": "2022-10-23T18:20:56.533Z"
   },
   {
    "duration": 4,
    "start_time": "2022-10-23T18:21:03.553Z"
   },
   {
    "duration": 10,
    "start_time": "2022-10-23T18:21:11.126Z"
   },
   {
    "duration": 4,
    "start_time": "2022-10-23T18:21:30.075Z"
   },
   {
    "duration": 5,
    "start_time": "2022-10-23T18:21:34.002Z"
   },
   {
    "duration": 5,
    "start_time": "2022-10-23T18:24:11.389Z"
   },
   {
    "duration": 9,
    "start_time": "2022-10-23T18:24:24.635Z"
   },
   {
    "duration": 5,
    "start_time": "2022-10-23T18:24:29.884Z"
   },
   {
    "duration": 1629,
    "start_time": "2022-10-29T08:24:35.788Z"
   },
   {
    "duration": 2,
    "start_time": "2022-10-29T08:24:37.419Z"
   },
   {
    "duration": 117,
    "start_time": "2022-10-29T08:24:37.423Z"
   },
   {
    "duration": 0,
    "start_time": "2022-10-29T08:24:37.542Z"
   },
   {
    "duration": 1,
    "start_time": "2022-10-29T08:24:37.543Z"
   },
   {
    "duration": 0,
    "start_time": "2022-10-29T08:24:37.544Z"
   },
   {
    "duration": 0,
    "start_time": "2022-10-29T08:24:37.545Z"
   },
   {
    "duration": 0,
    "start_time": "2022-10-29T08:24:37.546Z"
   },
   {
    "duration": 0,
    "start_time": "2022-10-29T08:24:37.547Z"
   },
   {
    "duration": 0,
    "start_time": "2022-10-29T08:24:37.548Z"
   },
   {
    "duration": 0,
    "start_time": "2022-10-29T08:24:37.549Z"
   },
   {
    "duration": 0,
    "start_time": "2022-10-29T08:24:37.551Z"
   },
   {
    "duration": 0,
    "start_time": "2022-10-29T08:24:37.552Z"
   },
   {
    "duration": 0,
    "start_time": "2022-10-29T08:24:37.553Z"
   },
   {
    "duration": 0,
    "start_time": "2022-10-29T08:24:37.554Z"
   },
   {
    "duration": 0,
    "start_time": "2022-10-29T08:24:37.555Z"
   },
   {
    "duration": 0,
    "start_time": "2022-10-29T08:24:37.557Z"
   },
   {
    "duration": 1,
    "start_time": "2022-10-29T08:24:37.557Z"
   },
   {
    "duration": 3,
    "start_time": "2022-10-29T10:25:48.507Z"
   },
   {
    "duration": 3,
    "start_time": "2022-10-29T10:25:50.849Z"
   },
   {
    "duration": 121,
    "start_time": "2022-10-29T10:25:51.667Z"
   },
   {
    "duration": 40,
    "start_time": "2022-10-29T10:26:16.344Z"
   },
   {
    "duration": 12,
    "start_time": "2022-10-29T10:26:24.930Z"
   },
   {
    "duration": 149,
    "start_time": "2022-10-29T10:26:28.111Z"
   },
   {
    "duration": 118,
    "start_time": "2022-10-29T10:26:46.415Z"
   },
   {
    "duration": 127,
    "start_time": "2022-10-29T10:26:50.163Z"
   },
   {
    "duration": 178,
    "start_time": "2022-10-29T10:26:52.132Z"
   },
   {
    "duration": 117,
    "start_time": "2022-10-29T10:26:54.402Z"
   },
   {
    "duration": 121,
    "start_time": "2022-10-29T10:26:56.324Z"
   },
   {
    "duration": 121,
    "start_time": "2022-10-29T10:26:59.482Z"
   },
   {
    "duration": 107,
    "start_time": "2022-10-29T10:27:01.232Z"
   },
   {
    "duration": 119,
    "start_time": "2022-10-29T10:27:03.868Z"
   },
   {
    "duration": 55,
    "start_time": "2022-10-29T10:27:06.497Z"
   },
   {
    "duration": 14,
    "start_time": "2022-10-29T10:27:43.849Z"
   },
   {
    "duration": 8,
    "start_time": "2022-10-29T10:27:47.857Z"
   },
   {
    "duration": 4,
    "start_time": "2022-10-29T10:27:50.821Z"
   },
   {
    "duration": 4,
    "start_time": "2022-10-29T10:28:02.685Z"
   },
   {
    "duration": 7,
    "start_time": "2022-10-29T10:51:53.237Z"
   },
   {
    "duration": 43,
    "start_time": "2022-10-29T10:58:26.914Z"
   },
   {
    "duration": 17,
    "start_time": "2022-10-29T10:58:59.179Z"
   },
   {
    "duration": 3,
    "start_time": "2022-10-29T10:59:14.357Z"
   },
   {
    "duration": 8,
    "start_time": "2022-10-29T10:59:14.362Z"
   },
   {
    "duration": 34,
    "start_time": "2022-10-29T10:59:14.372Z"
   },
   {
    "duration": 23,
    "start_time": "2022-10-29T10:59:14.408Z"
   },
   {
    "duration": 12,
    "start_time": "2022-10-29T10:59:14.433Z"
   },
   {
    "duration": 135,
    "start_time": "2022-10-29T10:59:14.446Z"
   },
   {
    "duration": 108,
    "start_time": "2022-10-29T10:59:14.582Z"
   },
   {
    "duration": 137,
    "start_time": "2022-10-29T10:59:14.691Z"
   },
   {
    "duration": 110,
    "start_time": "2022-10-29T10:59:14.832Z"
   },
   {
    "duration": 129,
    "start_time": "2022-10-29T10:59:14.944Z"
   },
   {
    "duration": 186,
    "start_time": "2022-10-29T10:59:15.075Z"
   },
   {
    "duration": 128,
    "start_time": "2022-10-29T10:59:15.263Z"
   },
   {
    "duration": 116,
    "start_time": "2022-10-29T10:59:15.393Z"
   },
   {
    "duration": 129,
    "start_time": "2022-10-29T10:59:15.511Z"
   },
   {
    "duration": 18,
    "start_time": "2022-10-29T10:59:15.641Z"
   },
   {
    "duration": 4,
    "start_time": "2022-10-29T11:00:02.250Z"
   },
   {
    "duration": 18,
    "start_time": "2022-10-29T11:00:02.256Z"
   },
   {
    "duration": 37,
    "start_time": "2022-10-29T11:00:02.275Z"
   },
   {
    "duration": 26,
    "start_time": "2022-10-29T11:00:02.314Z"
   },
   {
    "duration": 49,
    "start_time": "2022-10-29T11:00:02.341Z"
   },
   {
    "duration": 178,
    "start_time": "2022-10-29T11:00:02.392Z"
   },
   {
    "duration": 96,
    "start_time": "2022-10-29T11:00:02.572Z"
   },
   {
    "duration": 141,
    "start_time": "2022-10-29T11:00:02.669Z"
   },
   {
    "duration": 115,
    "start_time": "2022-10-29T11:00:02.812Z"
   },
   {
    "duration": 128,
    "start_time": "2022-10-29T11:00:02.934Z"
   },
   {
    "duration": 99,
    "start_time": "2022-10-29T11:00:03.064Z"
   },
   {
    "duration": 130,
    "start_time": "2022-10-29T11:00:03.165Z"
   },
   {
    "duration": 108,
    "start_time": "2022-10-29T11:00:03.296Z"
   },
   {
    "duration": 119,
    "start_time": "2022-10-29T11:00:03.405Z"
   },
   {
    "duration": 21,
    "start_time": "2022-10-29T11:00:03.526Z"
   },
   {
    "duration": 12,
    "start_time": "2022-10-29T11:00:08.063Z"
   },
   {
    "duration": 13,
    "start_time": "2022-10-29T11:00:11.636Z"
   },
   {
    "duration": 17,
    "start_time": "2022-10-29T11:00:23.700Z"
   },
   {
    "duration": 9,
    "start_time": "2022-10-29T11:02:48.248Z"
   },
   {
    "duration": 4,
    "start_time": "2022-10-29T11:03:28.046Z"
   },
   {
    "duration": 9,
    "start_time": "2022-10-29T11:03:35.692Z"
   },
   {
    "duration": 4,
    "start_time": "2022-10-29T11:03:37.132Z"
   },
   {
    "duration": 6,
    "start_time": "2022-10-29T11:04:35.397Z"
   },
   {
    "duration": 7,
    "start_time": "2022-10-29T11:07:38.300Z"
   },
   {
    "duration": 33,
    "start_time": "2022-10-29T11:07:47.775Z"
   },
   {
    "duration": 41,
    "start_time": "2022-10-29T11:08:38.192Z"
   },
   {
    "duration": 10,
    "start_time": "2022-10-29T11:11:18.948Z"
   },
   {
    "duration": 4,
    "start_time": "2022-10-29T11:11:31.686Z"
   },
   {
    "duration": 5,
    "start_time": "2022-10-29T11:14:49.529Z"
   },
   {
    "duration": 3,
    "start_time": "2022-10-29T11:17:24.832Z"
   },
   {
    "duration": 181619,
    "start_time": "2022-10-29T11:17:27.150Z"
   },
   {
    "duration": 5,
    "start_time": "2022-10-29T11:47:11.281Z"
   },
   {
    "duration": 193,
    "start_time": "2022-10-29T11:51:43.306Z"
   },
   {
    "duration": 181,
    "start_time": "2022-10-29T11:53:39.511Z"
   },
   {
    "duration": 9,
    "start_time": "2022-10-29T11:53:53.641Z"
   },
   {
    "duration": 11,
    "start_time": "2022-10-29T11:54:02.927Z"
   },
   {
    "duration": 4,
    "start_time": "2022-10-29T11:54:55.749Z"
   },
   {
    "duration": 10,
    "start_time": "2022-10-29T11:54:55.755Z"
   },
   {
    "duration": 38,
    "start_time": "2022-10-29T11:54:55.767Z"
   },
   {
    "duration": 23,
    "start_time": "2022-10-29T11:54:55.807Z"
   },
   {
    "duration": 10,
    "start_time": "2022-10-29T11:54:55.832Z"
   },
   {
    "duration": 138,
    "start_time": "2022-10-29T11:54:55.844Z"
   },
   {
    "duration": 108,
    "start_time": "2022-10-29T11:54:55.984Z"
   },
   {
    "duration": 187,
    "start_time": "2022-10-29T11:54:56.094Z"
   },
   {
    "duration": 159,
    "start_time": "2022-10-29T11:54:56.284Z"
   },
   {
    "duration": 148,
    "start_time": "2022-10-29T11:54:56.445Z"
   },
   {
    "duration": 110,
    "start_time": "2022-10-29T11:54:56.595Z"
   },
   {
    "duration": 220,
    "start_time": "2022-10-29T11:54:56.706Z"
   },
   {
    "duration": 111,
    "start_time": "2022-10-29T11:54:56.928Z"
   },
   {
    "duration": 129,
    "start_time": "2022-10-29T11:54:57.041Z"
   },
   {
    "duration": 18,
    "start_time": "2022-10-29T11:54:57.172Z"
   },
   {
    "duration": 12,
    "start_time": "2022-10-29T11:54:57.192Z"
   },
   {
    "duration": 27,
    "start_time": "2022-10-29T11:54:57.206Z"
   },
   {
    "duration": 4,
    "start_time": "2022-10-29T11:54:57.235Z"
   },
   {
    "duration": 8,
    "start_time": "2022-10-29T11:54:57.242Z"
   },
   {
    "duration": 40,
    "start_time": "2022-10-29T11:54:57.252Z"
   },
   {
    "duration": 10,
    "start_time": "2022-10-29T11:54:57.294Z"
   },
   {
    "duration": 4,
    "start_time": "2022-10-29T11:54:57.334Z"
   },
   {
    "duration": 180010,
    "start_time": "2022-10-29T11:54:57.339Z"
   },
   {
    "duration": 4,
    "start_time": "2022-10-29T11:57:57.351Z"
   },
   {
    "duration": 31,
    "start_time": "2022-10-29T11:59:00.567Z"
   },
   {
    "duration": 29,
    "start_time": "2022-10-29T11:59:27.978Z"
   },
   {
    "duration": 36,
    "start_time": "2022-10-29T12:00:04.965Z"
   },
   {
    "duration": 25,
    "start_time": "2022-10-29T12:00:38.239Z"
   },
   {
    "duration": 10,
    "start_time": "2022-10-29T12:01:01.492Z"
   },
   {
    "duration": 5,
    "start_time": "2022-10-29T12:01:26.833Z"
   },
   {
    "duration": 6,
    "start_time": "2022-10-29T12:01:39.218Z"
   },
   {
    "duration": 23,
    "start_time": "2022-10-29T12:01:46.532Z"
   },
   {
    "duration": 9,
    "start_time": "2022-10-29T12:02:42.883Z"
   },
   {
    "duration": 30,
    "start_time": "2022-10-29T12:26:59.496Z"
   },
   {
    "duration": 28,
    "start_time": "2022-10-29T12:28:04.855Z"
   },
   {
    "duration": 4,
    "start_time": "2022-10-29T12:36:13.678Z"
   },
   {
    "duration": 7,
    "start_time": "2022-10-29T12:45:45.134Z"
   },
   {
    "duration": 1987,
    "start_time": "2022-10-29T13:56:08.881Z"
   },
   {
    "duration": 3,
    "start_time": "2022-10-29T13:56:10.871Z"
   },
   {
    "duration": 47,
    "start_time": "2022-10-29T13:56:10.876Z"
   },
   {
    "duration": 32,
    "start_time": "2022-10-29T13:56:10.926Z"
   },
   {
    "duration": 15,
    "start_time": "2022-10-29T13:56:10.959Z"
   },
   {
    "duration": 147,
    "start_time": "2022-10-29T13:56:10.976Z"
   },
   {
    "duration": 118,
    "start_time": "2022-10-29T13:56:11.126Z"
   },
   {
    "duration": 145,
    "start_time": "2022-10-29T13:56:11.247Z"
   },
   {
    "duration": 228,
    "start_time": "2022-10-29T13:56:11.394Z"
   },
   {
    "duration": 144,
    "start_time": "2022-10-29T13:56:11.626Z"
   },
   {
    "duration": 102,
    "start_time": "2022-10-29T13:56:11.772Z"
   },
   {
    "duration": 135,
    "start_time": "2022-10-29T13:56:11.876Z"
   },
   {
    "duration": 114,
    "start_time": "2022-10-29T13:56:12.012Z"
   },
   {
    "duration": 130,
    "start_time": "2022-10-29T13:56:12.128Z"
   },
   {
    "duration": 85,
    "start_time": "2022-10-29T13:56:12.260Z"
   },
   {
    "duration": 16,
    "start_time": "2022-10-29T13:56:12.347Z"
   },
   {
    "duration": 26,
    "start_time": "2022-10-29T13:56:12.365Z"
   },
   {
    "duration": 7,
    "start_time": "2022-10-29T13:56:12.393Z"
   },
   {
    "duration": 10,
    "start_time": "2022-10-29T13:56:12.406Z"
   },
   {
    "duration": 44,
    "start_time": "2022-10-29T13:56:12.418Z"
   },
   {
    "duration": 35,
    "start_time": "2022-10-29T13:56:12.464Z"
   },
   {
    "duration": 4,
    "start_time": "2022-10-29T13:56:12.502Z"
   },
   {
    "duration": 180254,
    "start_time": "2022-10-29T13:56:12.508Z"
   },
   {
    "duration": 4,
    "start_time": "2022-10-29T13:59:12.764Z"
   },
   {
    "duration": 42,
    "start_time": "2022-10-29T13:59:12.769Z"
   },
   {
    "duration": 11,
    "start_time": "2022-10-29T13:59:12.812Z"
   },
   {
    "duration": 7,
    "start_time": "2022-10-29T13:59:12.824Z"
   },
   {
    "duration": 26,
    "start_time": "2022-10-29T13:59:12.833Z"
   },
   {
    "duration": 36,
    "start_time": "2022-10-29T13:59:12.861Z"
   },
   {
    "duration": 5,
    "start_time": "2022-10-29T13:59:12.899Z"
   },
   {
    "duration": 155,
    "start_time": "2022-10-29T14:00:26.989Z"
   },
   {
    "duration": 41,
    "start_time": "2022-10-29T14:00:41.709Z"
   },
   {
    "duration": 32,
    "start_time": "2022-10-29T14:00:51.383Z"
   }
  ],
  "kernelspec": {
   "display_name": "Python 3 (ipykernel)",
   "language": "python",
   "name": "python3"
  },
  "language_info": {
   "codemirror_mode": {
    "name": "ipython",
    "version": 3
   },
   "file_extension": ".py",
   "mimetype": "text/x-python",
   "name": "python",
   "nbconvert_exporter": "python",
   "pygments_lexer": "ipython3",
   "version": "3.9.12"
  },
  "toc": {
   "base_numbering": 1,
   "nav_menu": {},
   "number_sections": true,
   "sideBar": true,
   "skip_h1_title": true,
   "title_cell": "Table of Contents",
   "title_sidebar": "Contents",
   "toc_cell": false,
   "toc_position": {},
   "toc_section_display": true,
   "toc_window_display": false
  }
 },
 "nbformat": 4,
 "nbformat_minor": 2
}
