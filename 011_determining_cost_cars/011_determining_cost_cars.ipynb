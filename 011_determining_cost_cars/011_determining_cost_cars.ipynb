{
 "cells": [
  {
   "cell_type": "markdown",
   "metadata": {
    "id": "zQ_8-5r3z83Z"
   },
   "source": [
    "# Определение стоимости автомобилей"
   ]
  },
  {
   "cell_type": "markdown",
   "metadata": {
    "id": "BXAn-mMmz83Z"
   },
   "source": [
    "Сервис по продаже автомобилей с пробегом «Не бит, не крашен» разрабатывает приложение для привлечения новых клиентов. В нём можно быстро узнать рыночную стоимость своего автомобиля. В вашем распоряжении исторические данные: технические характеристики, комплектации и цены автомобилей. Вам нужно построить модель для определения стоимости. \n",
    "\n",
    "Заказчику важны:\n",
    "\n",
    "- качество предсказания;\n",
    "- скорость предсказания;\n",
    "- время обучения."
   ]
  },
  {
   "cell_type": "markdown",
   "metadata": {
    "id": "LP1dYO_pz83a"
   },
   "source": [
    "__Описание данных__\n",
    "\n",
    "__Признаки__\n",
    "\n",
    "* DateCrawled — дата скачивания анкеты из базы\n",
    "* VehicleType — тип автомобильного кузова\n",
    "* RegistrationYear — год регистрации автомобиля\n",
    "* Gearbox — тип коробки передач\n",
    "* Power — мощность (л. с.)\n",
    "* Model — модель автомобиля\n",
    "* Kilometer — пробег (км)\n",
    "* RegistrationMonth — месяц регистрации автомобиля\n",
    "* FuelType — тип топлива\n",
    "* Brand — марка автомобиля\n",
    "* Repaired — была машина в ремонте или нет\n",
    "* DateCreated — дата создания анкеты\n",
    "* NumberOfPictures — количество фотографий автомобиля\n",
    "* PostalCode — почтовый индекс владельца анкеты (пользователя)\n",
    "* LastSeen — дата последней активности пользователя\n",
    "\n",
    "__Целевой признак__\n",
    "\n",
    "Price — цена (евро)"
   ]
  },
  {
   "cell_type": "markdown",
   "metadata": {
    "id": "_Pic-Mviz83b"
   },
   "source": [
    "## Подготовка данных"
   ]
  },
  {
   "cell_type": "markdown",
   "metadata": {
    "id": "0kPjGCQ5z83b"
   },
   "source": [
    "### Загрузка библиотек"
   ]
  },
  {
   "cell_type": "code",
   "execution_count": 1,
   "metadata": {
    "colab": {
     "base_uri": "https://localhost:8080/"
    },
    "id": "fGw7aDRK0QNo",
    "outputId": "cdf86370-8396-44ff-e9c7-500751dc193b"
   },
   "outputs": [
    {
     "name": "stdout",
     "output_type": "stream",
     "text": [
      "Defaulting to user installation because normal site-packages is not writeable\n",
      "Requirement already satisfied: catboost in c:\\users\\izara\\appdata\\roaming\\python\\python39\\site-packages (1.1.1)\n",
      "Requirement already satisfied: matplotlib in c:\\programdata\\anaconda3\\lib\\site-packages (from catboost) (3.5.1)\n",
      "Requirement already satisfied: scipy in c:\\programdata\\anaconda3\\lib\\site-packages (from catboost) (1.7.3)\n",
      "Requirement already satisfied: six in c:\\programdata\\anaconda3\\lib\\site-packages (from catboost) (1.16.0)\n",
      "Requirement already satisfied: numpy>=1.16.0 in c:\\programdata\\anaconda3\\lib\\site-packages (from catboost) (1.21.5)\n",
      "Requirement already satisfied: plotly in c:\\programdata\\anaconda3\\lib\\site-packages (from catboost) (5.6.0)\n",
      "Requirement already satisfied: pandas>=0.24.0 in c:\\programdata\\anaconda3\\lib\\site-packages (from catboost) (1.4.2)\n",
      "Requirement already satisfied: graphviz in c:\\users\\izara\\appdata\\roaming\\python\\python39\\site-packages (from catboost) (0.20.1)\n",
      "Requirement already satisfied: python-dateutil>=2.8.1 in c:\\programdata\\anaconda3\\lib\\site-packages (from pandas>=0.24.0->catboost) (2.8.2)\n",
      "Requirement already satisfied: pytz>=2020.1 in c:\\programdata\\anaconda3\\lib\\site-packages (from pandas>=0.24.0->catboost) (2021.3)\n",
      "Requirement already satisfied: fonttools>=4.22.0 in c:\\programdata\\anaconda3\\lib\\site-packages (from matplotlib->catboost) (4.25.0)\n",
      "Requirement already satisfied: pillow>=6.2.0 in c:\\programdata\\anaconda3\\lib\\site-packages (from matplotlib->catboost) (9.0.1)\n",
      "Requirement already satisfied: kiwisolver>=1.0.1 in c:\\programdata\\anaconda3\\lib\\site-packages (from matplotlib->catboost) (1.3.2)\n",
      "Requirement already satisfied: pyparsing>=2.2.1 in c:\\programdata\\anaconda3\\lib\\site-packages (from matplotlib->catboost) (3.0.4)\n",
      "Requirement already satisfied: packaging>=20.0 in c:\\programdata\\anaconda3\\lib\\site-packages (from matplotlib->catboost) (21.3)\n",
      "Requirement already satisfied: cycler>=0.10 in c:\\programdata\\anaconda3\\lib\\site-packages (from matplotlib->catboost) (0.11.0)\n",
      "Requirement already satisfied: tenacity>=6.2.0 in c:\\programdata\\anaconda3\\lib\\site-packages (from plotly->catboost) (8.0.1)\n"
     ]
    }
   ],
   "source": [
    "!pip3 install catboost"
   ]
  },
  {
   "cell_type": "code",
   "execution_count": 2,
   "metadata": {
    "id": "ItDlbC9Wz83b"
   },
   "outputs": [],
   "source": [
    "import os\n",
    "import pandas as pd\n",
    "import matplotlib.pyplot as plt\n",
    "import numpy as np\n",
    "\n",
    "import time\n",
    "from datetime import datetime\n",
    "\n",
    "import seaborn as sns\n",
    "import matplotlib.pyplot as plt\n",
    "\n",
    "from sklearn.model_selection import train_test_split\n",
    "from sklearn.linear_model import LinearRegression\n",
    "from sklearn.metrics import r2_score\n",
    "from sklearn.metrics import accuracy_score\n",
    "from sklearn.preprocessing import StandardScaler\n",
    "\n",
    "from sklearn.metrics import mean_squared_error\n",
    "from math import sqrt\n",
    "\n",
    "\n",
    "from sklearn.ensemble import RandomForestClassifier\n",
    "from sklearn.model_selection import GridSearchCV\n",
    "\n",
    "from catboost import Pool, CatBoostRegressor, cv\n",
    "from lightgbm import LGBMRegressor\n",
    "\n",
    "from sklearn.model_selection import cross_val_score\n",
    "from sklearn.preprocessing import OrdinalEncoder\n",
    "\n",
    "from sklearn.model_selection import GridSearchCV\n",
    "\n",
    "import catboost as ctb\n",
    "\n",
    "from sklearn.preprocessing import (\n",
    "    OneHotEncoder,\n",
    "    OrdinalEncoder,\n",
    "    StandardScaler\n",
    ")"
   ]
  },
  {
   "cell_type": "markdown",
   "metadata": {
    "id": "YIuUJ0q5z83c"
   },
   "source": [
    "и глобальных переменных с настройками:"
   ]
  },
  {
   "cell_type": "code",
   "execution_count": 3,
   "metadata": {
    "id": "5Fb1TrGVz83c"
   },
   "outputs": [],
   "source": [
    "RANDOM_STATE = 42\n",
    "\n",
    "pd.set_option('display.max_rows', 500)"
   ]
  },
  {
   "cell_type": "markdown",
   "metadata": {
    "id": "PteQjglOz83d"
   },
   "source": [
    "### Загрузка файла"
   ]
  },
  {
   "cell_type": "code",
   "execution_count": 4,
   "metadata": {
    "id": "b3jtDB9tz83d"
   },
   "outputs": [],
   "source": [
    "# Загрузка данных\n",
    "url_local = 'datasets/autos.csv'\n",
    "url_global = 'https://code.s3.yandex.net/datasets/autos.csv'\n",
    "\n",
    "if os.path.exists(url_local):\n",
    "    data = pd.read_csv(url_local, sep = ',')\n",
    "elif os.path.exists(url_global):\n",
    "    data = pd.read_csv(url_global, sep = ',')\n",
    "else:\n",
    "    print('OMG! Something is wrong.')"
   ]
  },
  {
   "cell_type": "markdown",
   "metadata": {
    "id": "N3gZ6qm7z83d"
   },
   "source": [
    "Проверим, что загрузилось"
   ]
  },
  {
   "cell_type": "code",
   "execution_count": 5,
   "metadata": {
    "colab": {
     "base_uri": "https://localhost:8080/",
     "height": 206
    },
    "id": "qFrfhdgPz83d",
    "outputId": "7174e438-2798-4e19-ae5f-354d4de17636",
    "scrolled": true
   },
   "outputs": [
    {
     "data": {
      "text/html": [
       "<div>\n",
       "<style scoped>\n",
       "    .dataframe tbody tr th:only-of-type {\n",
       "        vertical-align: middle;\n",
       "    }\n",
       "\n",
       "    .dataframe tbody tr th {\n",
       "        vertical-align: top;\n",
       "    }\n",
       "\n",
       "    .dataframe thead th {\n",
       "        text-align: right;\n",
       "    }\n",
       "</style>\n",
       "<table border=\"1\" class=\"dataframe\">\n",
       "  <thead>\n",
       "    <tr style=\"text-align: right;\">\n",
       "      <th></th>\n",
       "      <th>DateCrawled</th>\n",
       "      <th>Price</th>\n",
       "      <th>VehicleType</th>\n",
       "      <th>RegistrationYear</th>\n",
       "      <th>Gearbox</th>\n",
       "      <th>Power</th>\n",
       "      <th>Model</th>\n",
       "      <th>Kilometer</th>\n",
       "      <th>RegistrationMonth</th>\n",
       "      <th>FuelType</th>\n",
       "      <th>Brand</th>\n",
       "      <th>Repaired</th>\n",
       "      <th>DateCreated</th>\n",
       "      <th>NumberOfPictures</th>\n",
       "      <th>PostalCode</th>\n",
       "      <th>LastSeen</th>\n",
       "    </tr>\n",
       "  </thead>\n",
       "  <tbody>\n",
       "    <tr>\n",
       "      <th>0</th>\n",
       "      <td>2016-03-24 11:52:17</td>\n",
       "      <td>480</td>\n",
       "      <td>NaN</td>\n",
       "      <td>1993</td>\n",
       "      <td>manual</td>\n",
       "      <td>0</td>\n",
       "      <td>golf</td>\n",
       "      <td>150000</td>\n",
       "      <td>0</td>\n",
       "      <td>petrol</td>\n",
       "      <td>volkswagen</td>\n",
       "      <td>NaN</td>\n",
       "      <td>2016-03-24 00:00:00</td>\n",
       "      <td>0</td>\n",
       "      <td>70435</td>\n",
       "      <td>2016-04-07 03:16:57</td>\n",
       "    </tr>\n",
       "    <tr>\n",
       "      <th>1</th>\n",
       "      <td>2016-03-24 10:58:45</td>\n",
       "      <td>18300</td>\n",
       "      <td>coupe</td>\n",
       "      <td>2011</td>\n",
       "      <td>manual</td>\n",
       "      <td>190</td>\n",
       "      <td>NaN</td>\n",
       "      <td>125000</td>\n",
       "      <td>5</td>\n",
       "      <td>gasoline</td>\n",
       "      <td>audi</td>\n",
       "      <td>yes</td>\n",
       "      <td>2016-03-24 00:00:00</td>\n",
       "      <td>0</td>\n",
       "      <td>66954</td>\n",
       "      <td>2016-04-07 01:46:50</td>\n",
       "    </tr>\n",
       "    <tr>\n",
       "      <th>2</th>\n",
       "      <td>2016-03-14 12:52:21</td>\n",
       "      <td>9800</td>\n",
       "      <td>suv</td>\n",
       "      <td>2004</td>\n",
       "      <td>auto</td>\n",
       "      <td>163</td>\n",
       "      <td>grand</td>\n",
       "      <td>125000</td>\n",
       "      <td>8</td>\n",
       "      <td>gasoline</td>\n",
       "      <td>jeep</td>\n",
       "      <td>NaN</td>\n",
       "      <td>2016-03-14 00:00:00</td>\n",
       "      <td>0</td>\n",
       "      <td>90480</td>\n",
       "      <td>2016-04-05 12:47:46</td>\n",
       "    </tr>\n",
       "    <tr>\n",
       "      <th>3</th>\n",
       "      <td>2016-03-17 16:54:04</td>\n",
       "      <td>1500</td>\n",
       "      <td>small</td>\n",
       "      <td>2001</td>\n",
       "      <td>manual</td>\n",
       "      <td>75</td>\n",
       "      <td>golf</td>\n",
       "      <td>150000</td>\n",
       "      <td>6</td>\n",
       "      <td>petrol</td>\n",
       "      <td>volkswagen</td>\n",
       "      <td>no</td>\n",
       "      <td>2016-03-17 00:00:00</td>\n",
       "      <td>0</td>\n",
       "      <td>91074</td>\n",
       "      <td>2016-03-17 17:40:17</td>\n",
       "    </tr>\n",
       "    <tr>\n",
       "      <th>4</th>\n",
       "      <td>2016-03-31 17:25:20</td>\n",
       "      <td>3600</td>\n",
       "      <td>small</td>\n",
       "      <td>2008</td>\n",
       "      <td>manual</td>\n",
       "      <td>69</td>\n",
       "      <td>fabia</td>\n",
       "      <td>90000</td>\n",
       "      <td>7</td>\n",
       "      <td>gasoline</td>\n",
       "      <td>skoda</td>\n",
       "      <td>no</td>\n",
       "      <td>2016-03-31 00:00:00</td>\n",
       "      <td>0</td>\n",
       "      <td>60437</td>\n",
       "      <td>2016-04-06 10:17:21</td>\n",
       "    </tr>\n",
       "  </tbody>\n",
       "</table>\n",
       "</div>"
      ],
      "text/plain": [
       "           DateCrawled  Price VehicleType  RegistrationYear Gearbox  Power  \\\n",
       "0  2016-03-24 11:52:17    480         NaN              1993  manual      0   \n",
       "1  2016-03-24 10:58:45  18300       coupe              2011  manual    190   \n",
       "2  2016-03-14 12:52:21   9800         suv              2004    auto    163   \n",
       "3  2016-03-17 16:54:04   1500       small              2001  manual     75   \n",
       "4  2016-03-31 17:25:20   3600       small              2008  manual     69   \n",
       "\n",
       "   Model  Kilometer  RegistrationMonth  FuelType       Brand Repaired  \\\n",
       "0   golf     150000                  0    petrol  volkswagen      NaN   \n",
       "1    NaN     125000                  5  gasoline        audi      yes   \n",
       "2  grand     125000                  8  gasoline        jeep      NaN   \n",
       "3   golf     150000                  6    petrol  volkswagen       no   \n",
       "4  fabia      90000                  7  gasoline       skoda       no   \n",
       "\n",
       "           DateCreated  NumberOfPictures  PostalCode             LastSeen  \n",
       "0  2016-03-24 00:00:00                 0       70435  2016-04-07 03:16:57  \n",
       "1  2016-03-24 00:00:00                 0       66954  2016-04-07 01:46:50  \n",
       "2  2016-03-14 00:00:00                 0       90480  2016-04-05 12:47:46  \n",
       "3  2016-03-17 00:00:00                 0       91074  2016-03-17 17:40:17  \n",
       "4  2016-03-31 00:00:00                 0       60437  2016-04-06 10:17:21  "
      ]
     },
     "execution_count": 5,
     "metadata": {},
     "output_type": "execute_result"
    }
   ],
   "source": [
    "data.head()"
   ]
  },
  {
   "cell_type": "markdown",
   "metadata": {
    "id": "JnhzqIesz83e"
   },
   "source": [
    "Посмотрим общую информацию о data:"
   ]
  },
  {
   "cell_type": "code",
   "execution_count": 6,
   "metadata": {
    "colab": {
     "base_uri": "https://localhost:8080/",
     "height": 300
    },
    "id": "-yp4mAynz83e",
    "outputId": "80a1a1b7-47a0-4e59-d492-16a2901a034c"
   },
   "outputs": [
    {
     "data": {
      "text/html": [
       "<div>\n",
       "<style scoped>\n",
       "    .dataframe tbody tr th:only-of-type {\n",
       "        vertical-align: middle;\n",
       "    }\n",
       "\n",
       "    .dataframe tbody tr th {\n",
       "        vertical-align: top;\n",
       "    }\n",
       "\n",
       "    .dataframe thead th {\n",
       "        text-align: right;\n",
       "    }\n",
       "</style>\n",
       "<table border=\"1\" class=\"dataframe\">\n",
       "  <thead>\n",
       "    <tr style=\"text-align: right;\">\n",
       "      <th></th>\n",
       "      <th>Price</th>\n",
       "      <th>RegistrationYear</th>\n",
       "      <th>Power</th>\n",
       "      <th>Kilometer</th>\n",
       "      <th>RegistrationMonth</th>\n",
       "      <th>NumberOfPictures</th>\n",
       "      <th>PostalCode</th>\n",
       "    </tr>\n",
       "  </thead>\n",
       "  <tbody>\n",
       "    <tr>\n",
       "      <th>count</th>\n",
       "      <td>354369.000000</td>\n",
       "      <td>354369.000000</td>\n",
       "      <td>354369.000000</td>\n",
       "      <td>354369.000000</td>\n",
       "      <td>354369.000000</td>\n",
       "      <td>354369.0</td>\n",
       "      <td>354369.000000</td>\n",
       "    </tr>\n",
       "    <tr>\n",
       "      <th>mean</th>\n",
       "      <td>4416.656776</td>\n",
       "      <td>2004.234448</td>\n",
       "      <td>110.094337</td>\n",
       "      <td>128211.172535</td>\n",
       "      <td>5.714645</td>\n",
       "      <td>0.0</td>\n",
       "      <td>50508.689087</td>\n",
       "    </tr>\n",
       "    <tr>\n",
       "      <th>std</th>\n",
       "      <td>4514.158514</td>\n",
       "      <td>90.227958</td>\n",
       "      <td>189.850405</td>\n",
       "      <td>37905.341530</td>\n",
       "      <td>3.726421</td>\n",
       "      <td>0.0</td>\n",
       "      <td>25783.096248</td>\n",
       "    </tr>\n",
       "    <tr>\n",
       "      <th>min</th>\n",
       "      <td>0.000000</td>\n",
       "      <td>1000.000000</td>\n",
       "      <td>0.000000</td>\n",
       "      <td>5000.000000</td>\n",
       "      <td>0.000000</td>\n",
       "      <td>0.0</td>\n",
       "      <td>1067.000000</td>\n",
       "    </tr>\n",
       "    <tr>\n",
       "      <th>25%</th>\n",
       "      <td>1050.000000</td>\n",
       "      <td>1999.000000</td>\n",
       "      <td>69.000000</td>\n",
       "      <td>125000.000000</td>\n",
       "      <td>3.000000</td>\n",
       "      <td>0.0</td>\n",
       "      <td>30165.000000</td>\n",
       "    </tr>\n",
       "    <tr>\n",
       "      <th>50%</th>\n",
       "      <td>2700.000000</td>\n",
       "      <td>2003.000000</td>\n",
       "      <td>105.000000</td>\n",
       "      <td>150000.000000</td>\n",
       "      <td>6.000000</td>\n",
       "      <td>0.0</td>\n",
       "      <td>49413.000000</td>\n",
       "    </tr>\n",
       "    <tr>\n",
       "      <th>75%</th>\n",
       "      <td>6400.000000</td>\n",
       "      <td>2008.000000</td>\n",
       "      <td>143.000000</td>\n",
       "      <td>150000.000000</td>\n",
       "      <td>9.000000</td>\n",
       "      <td>0.0</td>\n",
       "      <td>71083.000000</td>\n",
       "    </tr>\n",
       "    <tr>\n",
       "      <th>max</th>\n",
       "      <td>20000.000000</td>\n",
       "      <td>9999.000000</td>\n",
       "      <td>20000.000000</td>\n",
       "      <td>150000.000000</td>\n",
       "      <td>12.000000</td>\n",
       "      <td>0.0</td>\n",
       "      <td>99998.000000</td>\n",
       "    </tr>\n",
       "  </tbody>\n",
       "</table>\n",
       "</div>"
      ],
      "text/plain": [
       "               Price  RegistrationYear          Power      Kilometer  \\\n",
       "count  354369.000000     354369.000000  354369.000000  354369.000000   \n",
       "mean     4416.656776       2004.234448     110.094337  128211.172535   \n",
       "std      4514.158514         90.227958     189.850405   37905.341530   \n",
       "min         0.000000       1000.000000       0.000000    5000.000000   \n",
       "25%      1050.000000       1999.000000      69.000000  125000.000000   \n",
       "50%      2700.000000       2003.000000     105.000000  150000.000000   \n",
       "75%      6400.000000       2008.000000     143.000000  150000.000000   \n",
       "max     20000.000000       9999.000000   20000.000000  150000.000000   \n",
       "\n",
       "       RegistrationMonth  NumberOfPictures     PostalCode  \n",
       "count      354369.000000          354369.0  354369.000000  \n",
       "mean            5.714645               0.0   50508.689087  \n",
       "std             3.726421               0.0   25783.096248  \n",
       "min             0.000000               0.0    1067.000000  \n",
       "25%             3.000000               0.0   30165.000000  \n",
       "50%             6.000000               0.0   49413.000000  \n",
       "75%             9.000000               0.0   71083.000000  \n",
       "max            12.000000               0.0   99998.000000  "
      ]
     },
     "execution_count": 6,
     "metadata": {},
     "output_type": "execute_result"
    }
   ],
   "source": [
    "data.describe()"
   ]
  },
  {
   "cell_type": "markdown",
   "metadata": {
    "id": "3FZxcd37z83e"
   },
   "source": [
    "Проверим типы данных"
   ]
  },
  {
   "cell_type": "code",
   "execution_count": 7,
   "metadata": {
    "colab": {
     "base_uri": "https://localhost:8080/"
    },
    "id": "G4xd8ViQz83e",
    "outputId": "00a525cd-53ff-4bf5-d56e-fb6f10e7bb24"
   },
   "outputs": [
    {
     "name": "stdout",
     "output_type": "stream",
     "text": [
      "<class 'pandas.core.frame.DataFrame'>\n",
      "RangeIndex: 354369 entries, 0 to 354368\n",
      "Data columns (total 16 columns):\n",
      " #   Column             Non-Null Count   Dtype \n",
      "---  ------             --------------   ----- \n",
      " 0   DateCrawled        354369 non-null  object\n",
      " 1   Price              354369 non-null  int64 \n",
      " 2   VehicleType        316879 non-null  object\n",
      " 3   RegistrationYear   354369 non-null  int64 \n",
      " 4   Gearbox            334536 non-null  object\n",
      " 5   Power              354369 non-null  int64 \n",
      " 6   Model              334664 non-null  object\n",
      " 7   Kilometer          354369 non-null  int64 \n",
      " 8   RegistrationMonth  354369 non-null  int64 \n",
      " 9   FuelType           321474 non-null  object\n",
      " 10  Brand              354369 non-null  object\n",
      " 11  Repaired           283215 non-null  object\n",
      " 12  DateCreated        354369 non-null  object\n",
      " 13  NumberOfPictures   354369 non-null  int64 \n",
      " 14  PostalCode         354369 non-null  int64 \n",
      " 15  LastSeen           354369 non-null  object\n",
      "dtypes: int64(7), object(9)\n",
      "memory usage: 43.3+ MB\n"
     ]
    }
   ],
   "source": [
    "data.info()"
   ]
  },
  {
   "cell_type": "markdown",
   "metadata": {
    "id": "cP3JYshIz83e"
   },
   "source": [
    "Посмотрим пропуски в датасете"
   ]
  },
  {
   "cell_type": "code",
   "execution_count": 8,
   "metadata": {
    "colab": {
     "base_uri": "https://localhost:8080/"
    },
    "id": "DYod2kxBz83e",
    "outputId": "8cf415a2-2313-46d0-e250-f6662916e255"
   },
   "outputs": [
    {
     "data": {
      "text/plain": [
       "DateCrawled              0\n",
       "Price                    0\n",
       "VehicleType          37490\n",
       "RegistrationYear         0\n",
       "Gearbox              19833\n",
       "Power                    0\n",
       "Model                19705\n",
       "Kilometer                0\n",
       "RegistrationMonth        0\n",
       "FuelType             32895\n",
       "Brand                    0\n",
       "Repaired             71154\n",
       "DateCreated              0\n",
       "NumberOfPictures         0\n",
       "PostalCode               0\n",
       "LastSeen                 0\n",
       "dtype: int64"
      ]
     },
     "execution_count": 8,
     "metadata": {},
     "output_type": "execute_result"
    }
   ],
   "source": [
    "data.isna().sum()"
   ]
  },
  {
   "cell_type": "markdown",
   "metadata": {
    "id": "YnmtKiKiz83f"
   },
   "source": [
    "удалим дубликаты, если они есть"
   ]
  },
  {
   "cell_type": "code",
   "execution_count": 9,
   "metadata": {
    "colab": {
     "base_uri": "https://localhost:8080/"
    },
    "id": "R6eUtIoWz83f",
    "outputId": "a958b4c5-b13a-4e31-9298-03d53f93842e"
   },
   "outputs": [
    {
     "data": {
      "text/plain": [
       "(354365, 16)"
      ]
     },
     "execution_count": 9,
     "metadata": {},
     "output_type": "execute_result"
    }
   ],
   "source": [
    "data = data.drop_duplicates().reset_index(drop=True)\n",
    "\n",
    "# посмотрим новый размер\n",
    "data.shape"
   ]
  },
  {
   "cell_type": "markdown",
   "metadata": {
    "id": "WNQgjwkrz83g"
   },
   "source": [
    "По анализу общей информации и типов данных видно, что:\n",
    "    \n",
    "* имеются пропуски. Если эти признаки будут сохранены, то необходимо будет их восполнить.\n",
    "* типы данных не соответствуют необходимым и есть категориальные признаки\n",
    "* Имеются аномалии. Например, минимальная цена (Price) равна нулю.\n",
    "\n",
    "\n",
    "Необхоимо произвести Разведочный анализ данных, в тч по каждому признаку."
   ]
  },
  {
   "cell_type": "markdown",
   "metadata": {
    "id": "LV9Y9HORz83g"
   },
   "source": [
    "### Разведочный анализ данных"
   ]
  },
  {
   "cell_type": "markdown",
   "metadata": {
    "id": "QD99YSHRz83g"
   },
   "source": [
    "#### DateCrawled — дата скачивания анкеты из базы "
   ]
  },
  {
   "cell_type": "markdown",
   "metadata": {
    "id": "k75RyDXyz83g"
   },
   "source": [
    "Посмотрим на данные"
   ]
  },
  {
   "cell_type": "code",
   "execution_count": 10,
   "metadata": {
    "colab": {
     "base_uri": "https://localhost:8080/"
    },
    "id": "VVntV7NAz83g",
    "outputId": "3ba0d6f8-7ecd-4eb7-cee1-125618e5b6b1"
   },
   "outputs": [
    {
     "data": {
      "text/plain": [
       "0    2016-03-24 11:52:17\n",
       "1    2016-03-24 10:58:45\n",
       "2    2016-03-14 12:52:21\n",
       "3    2016-03-17 16:54:04\n",
       "4    2016-03-31 17:25:20\n",
       "Name: DateCrawled, dtype: object"
      ]
     },
     "execution_count": 10,
     "metadata": {},
     "output_type": "execute_result"
    }
   ],
   "source": [
    "data.DateCrawled[:5]"
   ]
  },
  {
   "cell_type": "markdown",
   "metadata": {
    "id": "Yx3K3aXjz83g"
   },
   "source": [
    "Посмотрим уникальные дни оценки автомобилей:"
   ]
  },
  {
   "cell_type": "code",
   "execution_count": 11,
   "metadata": {
    "colab": {
     "base_uri": "https://localhost:8080/"
    },
    "id": "9YaU0ZEsz83g",
    "outputId": "4296c362-45ac-4a20-a2d0-e17bddd86588"
   },
   "outputs": [
    {
     "data": {
      "text/plain": [
       "array(['2016-03-24', '2016-03-14', '2016-03-17', '2016-03-31',\n",
       "       '2016-04-04', '2016-04-01', '2016-03-21', '2016-03-26',\n",
       "       '2016-04-07', '2016-03-15', '2016-03-11', '2016-03-20',\n",
       "       '2016-03-23', '2016-03-27', '2016-03-12', '2016-03-13',\n",
       "       '2016-03-18', '2016-03-10', '2016-03-07', '2016-03-09',\n",
       "       '2016-03-08', '2016-04-03', '2016-03-29', '2016-03-25',\n",
       "       '2016-03-28', '2016-03-30', '2016-03-22', '2016-03-05',\n",
       "       '2016-04-02', '2016-03-16', '2016-03-19', '2016-04-05',\n",
       "       '2016-03-06', '2016-04-06'], dtype=object)"
      ]
     },
     "execution_count": 11,
     "metadata": {},
     "output_type": "execute_result"
    }
   ],
   "source": [
    "data['DateCrawled'] = pd.to_datetime(data['DateCrawled'])\n",
    "data['DateCrawled'] = pd.to_datetime(data['DateCrawled']).dt.strftime('%Y-%m-%d')\n",
    "data['DateCrawled'].unique()"
   ]
  },
  {
   "cell_type": "markdown",
   "metadata": {
    "id": "Q8eHzmkvz83h"
   },
   "source": [
    "По датам видно, что анкетные данные были были за уже далекий март-апрель 2016 года.\n",
    "Какие-либо действия в данным полем производить бессмысленно. Не будет использоваться в дальнешем."
   ]
  },
  {
   "cell_type": "markdown",
   "metadata": {
    "id": "KMqcXjqZz83h"
   },
   "source": [
    "#### Price - целевая функция"
   ]
  },
  {
   "cell_type": "markdown",
   "metadata": {
    "id": "hRT1S6Hfz83h"
   },
   "source": [
    "Как ранее упомяналось, минимальная стоимость равна нулю. Необходимо более подробное изучение аномалий. Посмотрим частоту распределения поля Price на гистограмме."
   ]
  },
  {
   "cell_type": "code",
   "execution_count": 12,
   "metadata": {
    "colab": {
     "base_uri": "https://localhost:8080/",
     "height": 295
    },
    "id": "A1ubNCcwz83h",
    "outputId": "acc08275-9cc9-4062-dd32-0a6854c20ddf"
   },
   "outputs": [
    {
     "data": {
      "image/png": "[encoded data removed]",
      "text/plain": [
       "<Figure size 432x288 with 1 Axes>"
      ]
     },
     "metadata": {
      "needs_background": "light"
     },
     "output_type": "display_data"
    }
   ],
   "source": [
    "data.Price.plot(kind=\"hist\",\n",
    "                      title='Распределение по полю \"Price\" ',\n",
    "                      color=\"k\", \n",
    "                      alpha=0.5, \n",
    "                      bins=50)\n",
    "plt.xlabel('Цена')\n",
    "plt.ylabel('Частота')\n",
    "plt.show()"
   ]
  },
  {
   "cell_type": "markdown",
   "metadata": {
    "id": "ZjjsYSl2z83h"
   },
   "source": [
    "и сразу на боксплоте:"
   ]
  },
  {
   "cell_type": "code",
   "execution_count": 13,
   "metadata": {
    "colab": {
     "base_uri": "https://localhost:8080/",
     "height": 350
    },
    "id": "bNgpLjGgz83h",
    "outputId": "d02efcec-6bd6-4756-f0d6-0078d6480274",
    "scrolled": true
   },
   "outputs": [
    {
     "data": {
      "image/png": "[encoded data removed]",
      "text/plain": [
       "<Figure size 432x360 with 1 Axes>"
      ]
     },
     "metadata": {
      "needs_background": "light"
     },
     "output_type": "display_data"
    }
   ],
   "source": [
    "plt.figure(figsize=(6, 5));\n",
    "ax=sns.boxplot(x = data.Price);\n",
    "ax.set()\n",
    "\n",
    "plt.xlabel(\"Price — целевая функция\");\n",
    "plt.title('Распределение Price — целевая функция')\n",
    "plt.show();"
   ]
  },
  {
   "cell_type": "markdown",
   "metadata": {
    "id": "0NoZ-4T3z83h"
   },
   "source": [
    "Посмотрим точное количество значений строк со значением Price интервале принадлежащем [500, 14000]"
   ]
  },
  {
   "cell_type": "code",
   "execution_count": 14,
   "metadata": {
    "colab": {
     "base_uri": "https://localhost:8080/"
    },
    "id": "B9pS6SGLz83h",
    "outputId": "db4f809b-f3dc-4612-f01b-51edf18f328e"
   },
   "outputs": [
    {
     "name": "stdout",
     "output_type": "stream",
     "text": [
      "Количество значений строк со значением Price интервале принадлежащем [500,14000]\n"
     ]
    },
    {
     "data": {
      "text/plain": [
       "292448"
      ]
     },
     "execution_count": 14,
     "metadata": {},
     "output_type": "execute_result"
    }
   ],
   "source": [
    "print('Количество значений строк со значением Price интервале принадлежащем [500,14000]')\n",
    "sum((data['Price']>500) & (data['Price']<14000))"
   ]
  },
  {
   "cell_type": "markdown",
   "metadata": {
    "id": "c9d-lk3Yz83i"
   },
   "source": [
    "Если удалить, выбросы и аномолии (всю строку), то данные будет достаточно для построения моделей, в тч. бустинговых.\n",
    "Удаляем..."
   ]
  },
  {
   "cell_type": "code",
   "execution_count": 15,
   "metadata": {
    "colab": {
     "base_uri": "https://localhost:8080/"
    },
    "id": "j6oC28xbz83i",
    "outputId": "56b602e8-23c0-4281-d8b6-396bf73c7277"
   },
   "outputs": [
    {
     "name": "stdout",
     "output_type": "stream",
     "text": [
      "data исходный : (354365, 16)\n",
      "data после удаления: (292448, 16)\n"
     ]
    }
   ],
   "source": [
    "print('data исходный :', data.shape)\n",
    "\n",
    "data = data[(data['Price']>500) & (data['Price']<14000)]\n",
    "\n",
    "print('data после удаления:', data.shape)"
   ]
  },
  {
   "cell_type": "markdown",
   "metadata": {
    "id": "EDOWs8_ez83i"
   },
   "source": [
    "#### VehicleType — тип автомобильного кузова"
   ]
  },
  {
   "cell_type": "code",
   "execution_count": 16,
   "metadata": {
    "colab": {
     "base_uri": "https://localhost:8080/"
    },
    "id": "drTnvPPKz83i",
    "outputId": "9b894b7b-f4b5-4a83-e152-22bd70b2890d"
   },
   "outputs": [
    {
     "data": {
      "text/plain": [
       "array(['suv', 'small', 'sedan', 'convertible', 'wagon', 'bus', 'coupe',\n",
       "       nan, 'other'], dtype=object)"
      ]
     },
     "execution_count": 16,
     "metadata": {},
     "output_type": "execute_result"
    }
   ],
   "source": [
    "data.VehicleType.unique()"
   ]
  },
  {
   "cell_type": "code",
   "execution_count": 17,
   "metadata": {
    "colab": {
     "base_uri": "https://localhost:8080/"
    },
    "id": "QJv7GPJbz83i",
    "outputId": "2fe48ec8-51d2-4630-b196-93d5f943bd51"
   },
   "outputs": [
    {
     "data": {
      "text/plain": [
       "sedan          78657\n",
       "small          65463\n",
       "wagon          55867\n",
       "bus            25779\n",
       "NaN            25582\n",
       "convertible    16963\n",
       "coupe          12517\n",
       "suv             9016\n",
       "other           2604\n",
       "Name: VehicleType, dtype: int64"
      ]
     },
     "execution_count": 17,
     "metadata": {},
     "output_type": "execute_result"
    }
   ],
   "source": [
    "data.VehicleType.value_counts(dropna=False)"
   ]
  },
  {
   "cell_type": "markdown",
   "metadata": {
    "id": "7pfJYFoXz83i"
   },
   "source": [
    "Имеются пропуски (Nan). Заменим данные пропущенные значения полем о неизвестном типе кузова: 'unknow_VehicleType'"
   ]
  },
  {
   "cell_type": "code",
   "execution_count": 18,
   "metadata": {
    "colab": {
     "base_uri": "https://localhost:8080/"
    },
    "id": "6PUxSZ6Mz83i",
    "outputId": "bfa831bf-c326-434c-8c3b-c9304880511b"
   },
   "outputs": [
    {
     "name": "stdout",
     "output_type": "stream",
     "text": [
      "Количество пропусков VehicleType (тип автомобильного кузова): 0\n"
     ]
    }
   ],
   "source": [
    "data.VehicleType = data.VehicleType.fillna('unknow_VehicleType');\n",
    "\n",
    "# и проверим\n",
    "print('Количество пропусков VehicleType (тип автомобильного кузова):', sum(data.VehicleType.isnull()))"
   ]
  },
  {
   "cell_type": "markdown",
   "metadata": {
    "id": "Zgq0amXIz83j"
   },
   "source": [
    "#### RegistrationYear — год регистрации автомобиля"
   ]
  },
  {
   "cell_type": "code",
   "execution_count": 19,
   "metadata": {
    "colab": {
     "base_uri": "https://localhost:8080/"
    },
    "id": "my89df3pz83j",
    "outputId": "e1bd8108-4ce4-4840-ea95-996477ce38de"
   },
   "outputs": [
    {
     "data": {
      "text/plain": [
       "2    2004\n",
       "3    2001\n",
       "4    2008\n",
       "5    1995\n",
       "6    2004\n",
       "Name: RegistrationYear, dtype: int64"
      ]
     },
     "execution_count": 19,
     "metadata": {},
     "output_type": "execute_result"
    }
   ],
   "source": [
    "data.RegistrationYear[:5]"
   ]
  },
  {
   "cell_type": "markdown",
   "metadata": {
    "id": "CUGqEkRwz83j"
   },
   "source": [
    "Посмотрим боксплот"
   ]
  },
  {
   "cell_type": "code",
   "execution_count": 20,
   "metadata": {
    "colab": {
     "base_uri": "https://localhost:8080/",
     "height": 350
    },
    "id": "Hr_JfEklz83j",
    "outputId": "d5f2e358-c6aa-4993-f2ae-8a477855b573"
   },
   "outputs": [
    {
     "data": {
      "image/png": "[encoded data removed]",
      "text/plain": [
       "<Figure size 432x360 with 1 Axes>"
      ]
     },
     "metadata": {
      "needs_background": "light"
     },
     "output_type": "display_data"
    }
   ],
   "source": [
    "plt.figure(figsize=(6, 5));\n",
    "ax=sns.boxplot(x = data.RegistrationYear);\n",
    "ax.set()\n",
    "\n",
    "plt.xlabel(\"RegistrationYear\");\n",
    "plt.title('Распределение RegistrationYear ')\n",
    "plt.show();"
   ]
  },
  {
   "cell_type": "markdown",
   "metadata": {
    "id": "JdMC3ZuFz83j"
   },
   "source": [
    "Год регистрации автомобиля не может быть позднее года заполнения анкеты (RegistrationMonth) или 2016 года. Посмотрим еще частоту распределения."
   ]
  },
  {
   "cell_type": "code",
   "execution_count": 21,
   "metadata": {
    "colab": {
     "base_uri": "https://localhost:8080/",
     "height": 295
    },
    "id": "LI1-9i90z83j",
    "outputId": "b07e44d9-d2eb-44dd-b068-c82c99f09182"
   },
   "outputs": [
    {
     "data": {
      "image/png": "[encoded data removed]",
      "text/plain": [
       "<Figure size 432x288 with 1 Axes>"
      ]
     },
     "metadata": {
      "needs_background": "light"
     },
     "output_type": "display_data"
    }
   ],
   "source": [
    "data.RegistrationYear.plot(kind=\"hist\",\n",
    "                      title='Распределение по полю \"RegistrationYear\" ',\n",
    "                      color=\"k\", alpha=0.5, bins=50, )\n",
    "plt.xlabel('год регистрации автомобиля')\n",
    "plt.ylabel('Частота')\n",
    "plt.show()"
   ]
  },
  {
   "cell_type": "markdown",
   "metadata": {
    "id": "yK4l1xbvz83j"
   },
   "source": [
    "Минимальное значение 1000 и максимальное 9999 тоже не годится. Данные значения встречаются не часто. Удалим их."
   ]
  },
  {
   "cell_type": "code",
   "execution_count": 22,
   "metadata": {
    "colab": {
     "base_uri": "https://localhost:8080/"
    },
    "id": "T3ui-v1dz83j",
    "outputId": "f2ba3982-d706-4eb7-e4cd-572c837f2b6e"
   },
   "outputs": [
    {
     "name": "stdout",
     "output_type": "stream",
     "text": [
      "data до удаления (292448, 16)\n",
      "data после удаления (279949, 16)\n"
     ]
    }
   ],
   "source": [
    "# Удалим записи, в которых дата заполнения более 2016 года.\n",
    "print('data до удаления', data.shape)\n",
    "\n",
    "data = data[data['RegistrationYear'] <= 2016]\n",
    "\n",
    "print('data после удаления', data.shape)"
   ]
  },
  {
   "cell_type": "markdown",
   "metadata": {
    "id": "scgjdSMYz83k"
   },
   "source": [
    "Посмотрим минимальное значение"
   ]
  },
  {
   "cell_type": "code",
   "execution_count": 23,
   "metadata": {
    "colab": {
     "base_uri": "https://localhost:8080/",
     "height": 295
    },
    "id": "ckQGqyRtz83k",
    "outputId": "e7dbc26a-a36c-43cc-d0f9-4f85c9721c4d"
   },
   "outputs": [
    {
     "data": {
      "image/png": "[encoded data removed]",
      "text/plain": [
       "<Figure size 432x288 with 1 Axes>"
      ]
     },
     "metadata": {
      "needs_background": "light"
     },
     "output_type": "display_data"
    }
   ],
   "source": [
    "data.RegistrationYear[data.RegistrationYear<1950].plot(kind=\"hist\",\n",
    "                      title='Распределение по полю \"RegistrationYear\" ',\n",
    "                      color=\"k\", alpha=0.5, bins=50, )\n",
    "plt.xlabel('год регистрации автомобиля')\n",
    "plt.ylabel('Частота')\n",
    "plt.show()"
   ]
  },
  {
   "cell_type": "markdown",
   "metadata": {
    "id": "i4V5MGvLz83k"
   },
   "source": [
    "Значения по году выпуска автомобиля менее 1950 года незначительное количество. Удалим и эти значения."
   ]
  },
  {
   "cell_type": "code",
   "execution_count": 24,
   "metadata": {
    "colab": {
     "base_uri": "https://localhost:8080/"
    },
    "id": "yIk7cMHaz83k",
    "outputId": "ad493651-e854-4303-bb6e-0daf83ef060e"
   },
   "outputs": [
    {
     "name": "stdout",
     "output_type": "stream",
     "text": [
      "data до удаления (279949, 16)\n",
      "data после удаления (279860, 16)\n"
     ]
    }
   ],
   "source": [
    "# Удалим записи, в которых дата регистрации менее 1950 года.\n",
    "print('data до удаления', data.shape)\n",
    "\n",
    "data = data[data['RegistrationYear'] > 1950]\n",
    "\n",
    "print('data после удаления', data.shape)"
   ]
  },
  {
   "cell_type": "code",
   "execution_count": 25,
   "metadata": {
    "colab": {
     "base_uri": "https://localhost:8080/",
     "height": 295
    },
    "id": "cDT3uzadz83k",
    "outputId": "66dc9d23-7eb9-4bc5-8877-18c9798e6fe7"
   },
   "outputs": [
    {
     "data": {
      "image/png": "[encoded data removed]",
      "text/plain": [
       "<Figure size 432x288 with 1 Axes>"
      ]
     },
     "metadata": {
      "needs_background": "light"
     },
     "output_type": "display_data"
    }
   ],
   "source": [
    "data.RegistrationYear.plot(kind=\"hist\",\n",
    "                      title='Распределение по полю \"RegistrationYear\" ',\n",
    "                      color=\"k\", alpha=0.5, bins=50, )\n",
    "plt.xlabel('год регистрации автомобиля')\n",
    "plt.ylabel('Частота')\n",
    "plt.show()"
   ]
  },
  {
   "cell_type": "markdown",
   "metadata": {
    "id": "VUKraYeiz83k"
   },
   "source": [
    "#### Gearbox — тип коробки передач"
   ]
  },
  {
   "cell_type": "markdown",
   "metadata": {
    "id": "Id04bOOSz83k"
   },
   "source": [
    "Посмотрим на варианты типов коробки передач"
   ]
  },
  {
   "cell_type": "code",
   "execution_count": 26,
   "metadata": {
    "colab": {
     "base_uri": "https://localhost:8080/"
    },
    "id": "D8Rut93Zz83l",
    "outputId": "c7c1553b-46af-4139-e4e0-4da6ae959961"
   },
   "outputs": [
    {
     "data": {
      "text/plain": [
       "array(['auto', 'manual', nan], dtype=object)"
      ]
     },
     "execution_count": 26,
     "metadata": {},
     "output_type": "execute_result"
    }
   ],
   "source": [
    "data.Gearbox.unique()"
   ]
  },
  {
   "cell_type": "markdown",
   "metadata": {
    "id": "ByqjdVUAz83l"
   },
   "source": [
    "Скажем дружное \"нет\" Pie-plot:"
   ]
  },
  {
   "cell_type": "code",
   "execution_count": 27,
   "metadata": {
    "colab": {
     "base_uri": "https://localhost:8080/"
    },
    "id": "_MDbpxyEz83l",
    "outputId": "1d82f541-6329-4692-aa8e-095d9f9ffbe2"
   },
   "outputs": [
    {
     "data": {
      "text/plain": [
       "manual    216530\n",
       "auto       52282\n",
       "NaN        11048\n",
       "Name: Gearbox, dtype: int64"
      ]
     },
     "execution_count": 27,
     "metadata": {},
     "output_type": "execute_result"
    }
   ],
   "source": [
    "data.Gearbox.value_counts(dropna = False)"
   ]
  },
  {
   "cell_type": "markdown",
   "metadata": {
    "id": "YVTHDeywz83l"
   },
   "source": [
    "Действительно на АККП автомобилей до 2016 года при случайной выборке должно быть меньше, чем на МККП.\n",
    "\n",
    "Но есть пропуски. Удалим эти значения."
   ]
  },
  {
   "cell_type": "code",
   "execution_count": 28,
   "metadata": {
    "colab": {
     "base_uri": "https://localhost:8080/"
    },
    "id": "6BJjN3XDz83l",
    "outputId": "d27ca53c-12da-4f14-8415-75ca2066fe93"
   },
   "outputs": [
    {
     "name": "stdout",
     "output_type": "stream",
     "text": [
      "data до удаления (279860, 16)\n",
      "data после удаления (268812, 16)\n"
     ]
    }
   ],
   "source": [
    "# Удалим записи, в которых есть пропуски.\n",
    "print('data до удаления', data.shape)\n",
    "\n",
    "data = data[data.Gearbox.notnull()]\n",
    "\n",
    "print('data после удаления', data.shape)"
   ]
  },
  {
   "cell_type": "markdown",
   "metadata": {
    "id": "dlr9u1cRz83l"
   },
   "source": [
    "Сделаем ручной OHE, учитывая бинарную классификацию и заменим тип данных."
   ]
  },
  {
   "cell_type": "code",
   "execution_count": 29,
   "metadata": {
    "colab": {
     "base_uri": "https://localhost:8080/"
    },
    "id": "GHfOp7Wez83m",
    "outputId": "b77547b9-fdf4-4be1-862b-5c85b0604b08"
   },
   "outputs": [
    {
     "data": {
      "text/plain": [
       "0    216530\n",
       "1     52282\n",
       "Name: Gearbox, dtype: int64"
      ]
     },
     "execution_count": 29,
     "metadata": {},
     "output_type": "execute_result"
    }
   ],
   "source": [
    "# Сделаем ручной OHE\n",
    "data.loc[data.Gearbox == 'auto', 'Gearbox'] = 1\n",
    "data.loc[data.Gearbox != 1, 'Gearbox'] = 0\n",
    "\n",
    "# Заменим тип данных\n",
    "data.Gearbox = data.Gearbox.astype('int64');\n",
    "\n",
    "# Проверим, что получилось\n",
    "data.Gearbox.value_counts(dropna=False)"
   ]
  },
  {
   "cell_type": "markdown",
   "metadata": {
    "id": "FJyD0fjQz83m"
   },
   "source": [
    "#### Power — мощность (л. с.)"
   ]
  },
  {
   "cell_type": "markdown",
   "metadata": {
    "id": "y12udm8zz83m"
   },
   "source": [
    "Посмотрим частоту распределения"
   ]
  },
  {
   "cell_type": "code",
   "execution_count": 30,
   "metadata": {
    "colab": {
     "base_uri": "https://localhost:8080/",
     "height": 295
    },
    "id": "heYVNJOEz83m",
    "outputId": "9112a952-117d-467a-9eb3-6681d70ba50c",
    "scrolled": true
   },
   "outputs": [
    {
     "data": {
      "image/png": "[encoded data removed]",
      "text/plain": [
       "<Figure size 432x288 with 1 Axes>"
      ]
     },
     "metadata": {
      "needs_background": "light"
     },
     "output_type": "display_data"
    }
   ],
   "source": [
    "data.Power.plot(kind=\"hist\",\n",
    "                      title='Распределение по полю \"Power\"',\n",
    "                      color=\"k\", alpha=0.5, bins=50,  )\n",
    "plt.xlabel('Мощность, л.с.')\n",
    "plt.ylabel('Частота')\n",
    "plt.show()"
   ]
  },
  {
   "cell_type": "markdown",
   "metadata": {
    "id": "-GwBm_gMz83n"
   },
   "source": [
    "и бокс-плот"
   ]
  },
  {
   "cell_type": "code",
   "execution_count": 31,
   "metadata": {
    "colab": {
     "base_uri": "https://localhost:8080/",
     "height": 350
    },
    "id": "KSNKa2Qtz83n",
    "outputId": "0b0f445e-a4b0-4da0-9e12-160e03a64bbb"
   },
   "outputs": [
    {
     "data": {
      "image/png": "[encoded data removed]",
      "text/plain": [
       "<Figure size 432x360 with 1 Axes>"
      ]
     },
     "metadata": {
      "needs_background": "light"
     },
     "output_type": "display_data"
    }
   ],
   "source": [
    "plt.figure(figsize=(6, 5));\n",
    "ax=sns.boxplot(x = data.Power);\n",
    "ax.set()\n",
    "\n",
    "plt.xlabel(\"Power\");\n",
    "plt.title('Распределение Power ')\n",
    "plt.show();"
   ]
  },
  {
   "cell_type": "markdown",
   "metadata": {
    "id": "C0o5HaW4z83n"
   },
   "source": [
    "Посмотрим распределение по автомобилям, которые имеют мощность менее 300 лс:"
   ]
  },
  {
   "cell_type": "code",
   "execution_count": 32,
   "metadata": {
    "colab": {
     "base_uri": "https://localhost:8080/",
     "height": 350
    },
    "id": "vk9M5WT-z83n",
    "outputId": "807f3497-ba47-49c4-f916-40f90db2d772"
   },
   "outputs": [
    {
     "data": {
      "image/png": "[encoded data removed]",
      "text/plain": [
       "<Figure size 432x360 with 1 Axes>"
      ]
     },
     "metadata": {
      "needs_background": "light"
     },
     "output_type": "display_data"
    }
   ],
   "source": [
    "plt.figure(figsize=(6, 5));\n",
    "ax=sns.boxplot(x = data[data.Power<300]['Power']);\n",
    "ax.set()\n",
    "\n",
    "plt.xlabel(\"Power\");\n",
    "plt.title('Распределение Power ')\n",
    "plt.show();"
   ]
  },
  {
   "cell_type": "markdown",
   "metadata": {
    "id": "aetL-We9z83n"
   },
   "source": [
    "Удалим записи, в которых есть выбросы и аномально высокая мощность двигателя (более 300 л. с.)."
   ]
  },
  {
   "cell_type": "code",
   "execution_count": 33,
   "metadata": {
    "colab": {
     "base_uri": "https://localhost:8080/"
    },
    "id": "HcIlzL09z83n",
    "outputId": "511b5a9c-6886-4c54-b456-b80891bd3c6f",
    "scrolled": true
   },
   "outputs": [
    {
     "name": "stdout",
     "output_type": "stream",
     "text": [
      "data до удаления (268812, 16)\n",
      "data после удаления (266638, 16)\n"
     ]
    }
   ],
   "source": [
    "print('data до удаления', data.shape)\n",
    "\n",
    "data = data[data.Power<300]\n",
    "\n",
    "print('data после удаления', data.shape)"
   ]
  },
  {
   "cell_type": "markdown",
   "metadata": {
    "id": "Ok4Daq-ez83n"
   },
   "source": [
    "И аномально маловероятные малолитражки, в которых менее 75 л. с. тоже удалим:"
   ]
  },
  {
   "cell_type": "code",
   "execution_count": 34,
   "metadata": {
    "colab": {
     "base_uri": "https://localhost:8080/"
    },
    "id": "7mV1QHZWz83n",
    "outputId": "87b02582-1798-46bf-89ce-b8522fb15a1c"
   },
   "outputs": [
    {
     "name": "stdout",
     "output_type": "stream",
     "text": [
      "data до удаления (266638, 16)\n",
      "data после удаления (189708, 16)\n"
     ]
    }
   ],
   "source": [
    "print('data до удаления', data.shape)\n",
    "\n",
    "data = data[data.Power>75]\n",
    "\n",
    "print('data после удаления', data.shape)"
   ]
  },
  {
   "cell_type": "markdown",
   "metadata": {
    "id": "576bAtCfz83o"
   },
   "source": [
    "#### Model — модель автомобиля"
   ]
  },
  {
   "cell_type": "code",
   "execution_count": 35,
   "metadata": {
    "colab": {
     "base_uri": "https://localhost:8080/"
    },
    "id": "0pR4ZyW9z83o",
    "outputId": "e3921dbb-1b37-4e94-d70a-2b5f824a5f95"
   },
   "outputs": [
    {
     "data": {
      "text/plain": [
       "array(['grand', '3er', '2_reihe', 'golf', '3_reihe', 'passat', 'c_max',\n",
       "       'a_klasse', 'scirocco', '5er', 'civic', 'e_klasse', 'other', 'one',\n",
       "       '1er', 'b_klasse', 'a8', 'jetta', 'c_klasse', 'micra', 'vito',\n",
       "       'sprinter', 'forester', 'xc_reihe', 'fiesta', 'scenic',\n",
       "       'transporter', 'focus', 'a4', 'tt', 'astra', 'a6', 'jazz', 'polo',\n",
       "       'slk', '7er', '80', nan, '147', 'z_reihe', 'sorento', 'eos',\n",
       "       'touran', 'getz', 'insignia', 'almera', 'megane', 'a3', 'mondeo',\n",
       "       'cordoba', 'impreza', 'a1', 'vectra', 'clio', 'tiguan', '6_reihe',\n",
       "       'c4', 'i_reihe', 'ceed', 'yeti', 'fabia', 'octavia', 'zafira',\n",
       "       'rx_reihe', 'corsa', 'beetle', 'rio', 'ibiza', 'spider', 'omega',\n",
       "       's_max', 'modus', 'c3', 'panda', 'sharan', 'avensis', 'viano',\n",
       "       'sl', 'santa', 'leon', 'cooper', '4_reihe', 'sportage', 'caddy',\n",
       "       'laguna', 'ptcruiser', 'clk', 'primera', 'espace', 's_klasse',\n",
       "       'galaxy', '159', 'transit', 'juke', 'x_reihe', 'v40', 'carisma',\n",
       "       'accord', 'corolla', 'lanos', 'phaeton', 'verso', 'rav', 'colt',\n",
       "       'swift', 'punto', 'boxster', 'stilo', 'berlingo', 'alhambra',\n",
       "       'fortwo', 'touareg', 'roadster', 'galant', '90', 'combo', 'signum',\n",
       "       'crossfire', 'duster', 'ka', 'kangoo', 'v50', 'mx_reihe', 'meriva',\n",
       "       'c_reihe', 'v_klasse', 'm_klasse', 'yaris', 'c5', 'cc', 'carnival',\n",
       "       'bora', 'agila', 'tigra', '156', '300c', '100', 'cr_reihe',\n",
       "       '5_reihe', 'ducato', 's_type', 'x_trail', 'toledo', 'altea',\n",
       "       'qashqai', 'escort', 'voyager', 'v70', 'forfour', 'x_type',\n",
       "       'jimny', 'wrangler', 'lybra', 'lancer', 'captiva', 'fusion',\n",
       "       'roomster', 'discovery', 'freelander', 'note', 'kuga', 'navara',\n",
       "       'antara', '900', 'cherokee', 'a2', 'defender', 'sandero', 'legacy',\n",
       "       'pajero', 'auris', 'sirion', 'c2', 'twingo', '500', 's60',\n",
       "       'clubman', 'nubira', 'vivaro', 'tucson', 'kadett', 'lupo',\n",
       "       'g_klasse', 'logan', '850', 'superb', 'serie_2', 'calibra', 'niva',\n",
       "       'exeo', 'charade', 'croma', 'outlander', 'doblo', 'musa', '6er',\n",
       "       'a5', 'cl', '9000', 'kalos', 'v60', 'bravo', 'spark', 'r19', '200',\n",
       "       '145', 'picanto', '1_reihe', 'b_max', 'ypsilon', 'justy', 'kaefer',\n",
       "       'cayenne', 'cx_reihe', 'range_rover_sport', 'aveo', 'range_rover',\n",
       "       'm_reihe', 'rangerover', 'mustang', 'q5', 'q7',\n",
       "       'range_rover_evoque', 'materia', 'terios', 'lodgy', 'glk',\n",
       "       'kalina', 'delta', 'i3', '911', 'move', 'c1', 'kappa', 'amarok',\n",
       "       'up', 'arosa', 'aygo', 'fox', 'q3', 'matiz'], dtype=object)"
      ]
     },
     "execution_count": 35,
     "metadata": {},
     "output_type": "execute_result"
    }
   ],
   "source": [
    "data.Model.unique()"
   ]
  },
  {
   "cell_type": "markdown",
   "metadata": {
    "id": "QzbE5pZwz83o"
   },
   "source": [
    "заменим other на other_Model"
   ]
  },
  {
   "cell_type": "code",
   "execution_count": 36,
   "metadata": {
    "colab": {
     "base_uri": "https://localhost:8080/"
    },
    "id": "zhR_c3Anz83o",
    "outputId": "2f53c0e5-3f6e-4922-a270-3fad24a17b48",
    "scrolled": true
   },
   "outputs": [
    {
     "data": {
      "text/plain": [
       "array(['grand', '3er', '2_reihe', 'golf', '3_reihe', 'passat', 'c_max',\n",
       "       'a_klasse', 'scirocco', '5er', 'civic', 'e_klasse', 'other_Model',\n",
       "       'one', '1er', 'b_klasse', 'a8', 'jetta', 'c_klasse', 'micra',\n",
       "       'vito', 'sprinter', 'forester', 'xc_reihe', 'fiesta', 'scenic',\n",
       "       'transporter', 'focus', 'a4', 'tt', 'astra', 'a6', 'jazz', 'polo',\n",
       "       'slk', '7er', '80', nan, '147', 'z_reihe', 'sorento', 'eos',\n",
       "       'touran', 'getz', 'insignia', 'almera', 'megane', 'a3', 'mondeo',\n",
       "       'cordoba', 'impreza', 'a1', 'vectra', 'clio', 'tiguan', '6_reihe',\n",
       "       'c4', 'i_reihe', 'ceed', 'yeti', 'fabia', 'octavia', 'zafira',\n",
       "       'rx_reihe', 'corsa', 'beetle', 'rio', 'ibiza', 'spider', 'omega',\n",
       "       's_max', 'modus', 'c3', 'panda', 'sharan', 'avensis', 'viano',\n",
       "       'sl', 'santa', 'leon', 'cooper', '4_reihe', 'sportage', 'caddy',\n",
       "       'laguna', 'ptcruiser', 'clk', 'primera', 'espace', 's_klasse',\n",
       "       'galaxy', '159', 'transit', 'juke', 'x_reihe', 'v40', 'carisma',\n",
       "       'accord', 'corolla', 'lanos', 'phaeton', 'verso', 'rav', 'colt',\n",
       "       'swift', 'punto', 'boxster', 'stilo', 'berlingo', 'alhambra',\n",
       "       'fortwo', 'touareg', 'roadster', 'galant', '90', 'combo', 'signum',\n",
       "       'crossfire', 'duster', 'ka', 'kangoo', 'v50', 'mx_reihe', 'meriva',\n",
       "       'c_reihe', 'v_klasse', 'm_klasse', 'yaris', 'c5', 'cc', 'carnival',\n",
       "       'bora', 'agila', 'tigra', '156', '300c', '100', 'cr_reihe',\n",
       "       '5_reihe', 'ducato', 's_type', 'x_trail', 'toledo', 'altea',\n",
       "       'qashqai', 'escort', 'voyager', 'v70', 'forfour', 'x_type',\n",
       "       'jimny', 'wrangler', 'lybra', 'lancer', 'captiva', 'fusion',\n",
       "       'roomster', 'discovery', 'freelander', 'note', 'kuga', 'navara',\n",
       "       'antara', '900', 'cherokee', 'a2', 'defender', 'sandero', 'legacy',\n",
       "       'pajero', 'auris', 'sirion', 'c2', 'twingo', '500', 's60',\n",
       "       'clubman', 'nubira', 'vivaro', 'tucson', 'kadett', 'lupo',\n",
       "       'g_klasse', 'logan', '850', 'superb', 'serie_2', 'calibra', 'niva',\n",
       "       'exeo', 'charade', 'croma', 'outlander', 'doblo', 'musa', '6er',\n",
       "       'a5', 'cl', '9000', 'kalos', 'v60', 'bravo', 'spark', 'r19', '200',\n",
       "       '145', 'picanto', '1_reihe', 'b_max', 'ypsilon', 'justy', 'kaefer',\n",
       "       'cayenne', 'cx_reihe', 'range_rover_sport', 'aveo', 'range_rover',\n",
       "       'm_reihe', 'rangerover', 'mustang', 'q5', 'q7',\n",
       "       'range_rover_evoque', 'materia', 'terios', 'lodgy', 'glk',\n",
       "       'kalina', 'delta', 'i3', '911', 'move', 'c1', 'kappa', 'amarok',\n",
       "       'up', 'arosa', 'aygo', 'fox', 'q3', 'matiz'], dtype=object)"
      ]
     },
     "execution_count": 36,
     "metadata": {},
     "output_type": "execute_result"
    }
   ],
   "source": [
    "data.Model = data.Model.replace('other', 'other_Model');\n",
    "data.Model.unique()"
   ]
  },
  {
   "cell_type": "markdown",
   "metadata": {
    "id": "eO6AKtE5z83o"
   },
   "source": [
    "Посмотрим пропуски"
   ]
  },
  {
   "cell_type": "code",
   "execution_count": 37,
   "metadata": {
    "colab": {
     "base_uri": "https://localhost:8080/"
    },
    "id": "lqG7qHmqz83o",
    "outputId": "a1eb3bd2-ccc0-4c29-ea72-a6d474429616"
   },
   "outputs": [
    {
     "data": {
      "text/plain": [
       "6038"
      ]
     },
     "execution_count": 37,
     "metadata": {},
     "output_type": "execute_result"
    }
   ],
   "source": [
    "sum(data.Model.isnull())"
   ]
  },
  {
   "cell_type": "markdown",
   "metadata": {
    "id": "K5ytAQq-z83o"
   },
   "source": [
    "Заменим эти значения на значение 'unknow'"
   ]
  },
  {
   "cell_type": "code",
   "execution_count": 38,
   "metadata": {
    "colab": {
     "base_uri": "https://localhost:8080/"
    },
    "id": "xj5x4ktEz83o",
    "outputId": "6cb1071e-4b88-4cb7-d028-c29fd424b780"
   },
   "outputs": [
    {
     "data": {
      "text/plain": [
       "0"
      ]
     },
     "execution_count": 38,
     "metadata": {},
     "output_type": "execute_result"
    }
   ],
   "source": [
    "data.Model = data.Model.fillna('unknow_model')\n",
    "\n",
    "# проверим, что получилось\n",
    "sum(data.Model.isnull())"
   ]
  },
  {
   "cell_type": "markdown",
   "metadata": {
    "id": "uQQrUSx8z83o"
   },
   "source": [
    "#### Kilometer — пробег (км)"
   ]
  },
  {
   "cell_type": "markdown",
   "metadata": {
    "id": "kU8hhOJJz83p"
   },
   "source": [
    "Посмотрим бокс-плот"
   ]
  },
  {
   "cell_type": "code",
   "execution_count": 39,
   "metadata": {
    "colab": {
     "base_uri": "https://localhost:8080/",
     "height": 350
    },
    "id": "Qksm7Wq0z83p",
    "outputId": "be58fae6-5129-4883-d5fc-187cab2eade6",
    "scrolled": false
   },
   "outputs": [
    {
     "data": {
      "image/png": "[encoded data removed]",
      "text/plain": [
       "<Figure size 432x360 with 1 Axes>"
      ]
     },
     "metadata": {
      "needs_background": "light"
     },
     "output_type": "display_data"
    }
   ],
   "source": [
    "plt.figure(figsize=(6, 5));\n",
    "ax=sns.boxplot(x = data.Kilometer);\n",
    "ax.set()\n",
    "\n",
    "plt.xlabel(\"Kilometer\");\n",
    "plt.title('Распределение Kilometer')\n",
    "plt.show();"
   ]
  },
  {
   "cell_type": "markdown",
   "metadata": {
    "id": "5SVOzvz_z83p"
   },
   "source": [
    "Удалим записи, в которых машины имеют пробег менее 90 тыс. км."
   ]
  },
  {
   "cell_type": "code",
   "execution_count": 40,
   "metadata": {
    "colab": {
     "base_uri": "https://localhost:8080/"
    },
    "id": "K2wFaiclz83p",
    "outputId": "0f87f6dd-98ba-4d93-fd8b-e96f6b0cada5"
   },
   "outputs": [
    {
     "name": "stdout",
     "output_type": "stream",
     "text": [
      "data до удаления (189708, 16)\n",
      "data после удаления (162122, 16)\n"
     ]
    }
   ],
   "source": [
    "print('data до удаления', data.shape)\n",
    "\n",
    "data = data[data.Kilometer > 90000]\n",
    "\n",
    "print('data после удаления', data.shape)"
   ]
  },
  {
   "cell_type": "markdown",
   "metadata": {
    "id": "pCpxFgbtz83p"
   },
   "source": [
    "#### RegistrationMonth — месяц регистрации автомобиля"
   ]
  },
  {
   "cell_type": "markdown",
   "metadata": {
    "id": "1ngkAtOQz83p"
   },
   "source": [
    "Данный показатель не должен влиять на стоимость автомобиля. Не будем его использовать."
   ]
  },
  {
   "cell_type": "markdown",
   "metadata": {
    "id": "yHK-WsOCz83p"
   },
   "source": [
    "#### FuelType — тип топлива"
   ]
  },
  {
   "cell_type": "code",
   "execution_count": 41,
   "metadata": {
    "colab": {
     "base_uri": "https://localhost:8080/"
    },
    "id": "Hc95c67Wz83p",
    "outputId": "028a14cf-f52d-458c-dc04-8c605e9018f4"
   },
   "outputs": [
    {
     "data": {
      "text/plain": [
       "array(['gasoline', 'petrol', nan, 'lpg', 'other', 'hybrid', 'cng',\n",
       "       'electric'], dtype=object)"
      ]
     },
     "execution_count": 41,
     "metadata": {},
     "output_type": "execute_result"
    }
   ],
   "source": [
    "data.FuelType.unique()"
   ]
  },
  {
   "cell_type": "code",
   "execution_count": 42,
   "metadata": {
    "id": "VvsdIvucz83q"
   },
   "outputs": [],
   "source": [
    "data.FuelType = data.FuelType.replace('other', 'other_FuelType')"
   ]
  },
  {
   "cell_type": "code",
   "execution_count": 43,
   "metadata": {
    "colab": {
     "base_uri": "https://localhost:8080/"
    },
    "id": "DnBxcYV0z83q",
    "outputId": "8cc9a675-51dc-41ec-91c1-b12c2c043cb5"
   },
   "outputs": [
    {
     "data": {
      "text/plain": [
       "7135"
      ]
     },
     "execution_count": 43,
     "metadata": {},
     "output_type": "execute_result"
    }
   ],
   "source": [
    "sum(data.FuelType.isnull())"
   ]
  },
  {
   "cell_type": "code",
   "execution_count": 44,
   "metadata": {
    "colab": {
     "base_uri": "https://localhost:8080/"
    },
    "id": "0khVx9Btz83q",
    "outputId": "78aa89c3-5fad-4cda-c969-821eeeb0fd16"
   },
   "outputs": [
    {
     "data": {
      "text/plain": [
       "0"
      ]
     },
     "execution_count": 44,
     "metadata": {},
     "output_type": "execute_result"
    }
   ],
   "source": [
    "data.FuelType = data.FuelType.fillna('unknow_Fuel')\n",
    "\n",
    "# проверим, что получилось\n",
    "sum(data.FuelType.isnull())"
   ]
  },
  {
   "cell_type": "markdown",
   "metadata": {
    "id": "tBBm1KtTz83q"
   },
   "source": [
    "#### Brand — марка автомобиля"
   ]
  },
  {
   "cell_type": "code",
   "execution_count": 45,
   "metadata": {
    "colab": {
     "base_uri": "https://localhost:8080/"
    },
    "id": "17A0GXrOz83r",
    "outputId": "d37a0c24-7cbd-4a86-bcd8-1b1434339794"
   },
   "outputs": [
    {
     "data": {
      "text/plain": [
       "array(['jeep', 'bmw', 'peugeot', 'volkswagen', 'mazda', 'ford',\n",
       "       'mercedes_benz', 'mini', 'audi', 'honda', 'subaru', 'volvo',\n",
       "       'mitsubishi', 'renault', 'opel', 'alfa_romeo', 'hyundai', 'nissan',\n",
       "       'seat', 'lancia', 'citroen', 'toyota', 'kia', 'skoda', 'suzuki',\n",
       "       'fiat', 'chrysler', 'sonstige_autos', 'jaguar', 'daewoo', 'rover',\n",
       "       'porsche', 'smart', 'saab', 'chevrolet', 'dacia', 'land_rover',\n",
       "       'lada', 'daihatsu'], dtype=object)"
      ]
     },
     "execution_count": 45,
     "metadata": {},
     "output_type": "execute_result"
    }
   ],
   "source": [
    "data.Brand.unique()"
   ]
  },
  {
   "cell_type": "markdown",
   "metadata": {
    "id": "BfjP0ohhz83r"
   },
   "source": [
    "О! Здесь есть лада! Интересно какая?\n",
    "Седан-баклажан, Калина-спорт, или легандарная вишневая девятка? :) "
   ]
  },
  {
   "cell_type": "markdown",
   "metadata": {
    "id": "flIGzIdkz83r"
   },
   "source": [
    "А какая разница, если в столбце нет значений Nan =]"
   ]
  },
  {
   "cell_type": "markdown",
   "metadata": {
    "id": "Yopk-jepz83r"
   },
   "source": [
    "#### Repaired — была машина в ремонте или нет"
   ]
  },
  {
   "cell_type": "markdown",
   "metadata": {
    "id": "WCCtfRoez83r"
   },
   "source": [
    "Посмотрим количество значений"
   ]
  },
  {
   "cell_type": "code",
   "execution_count": 46,
   "metadata": {
    "colab": {
     "base_uri": "https://localhost:8080/"
    },
    "id": "MbFeYXjuz83r",
    "outputId": "4951f49a-73da-4054-cb85-92326503923e"
   },
   "outputs": [
    {
     "data": {
      "text/plain": [
       "no     125885\n",
       "NaN     21451\n",
       "yes     14786\n",
       "Name: Repaired, dtype: int64"
      ]
     },
     "execution_count": 46,
     "metadata": {},
     "output_type": "execute_result"
    }
   ],
   "source": [
    "data.Repaired.value_counts(dropna=False)"
   ]
  },
  {
   "cell_type": "markdown",
   "metadata": {
    "id": "xqnZVZeCz83r"
   },
   "source": [
    "По умолчанию машина \"не бита, не крашена\". Поэтому пропуски заменим дефолтным значением No. Признак бинарный. Поэтому сделаем \"ручной\" ОНЕ."
   ]
  },
  {
   "cell_type": "code",
   "execution_count": 47,
   "metadata": {
    "colab": {
     "base_uri": "https://localhost:8080/"
    },
    "id": "qIqOfwb0z83s",
    "outputId": "5ad85ca4-2f1e-4659-bc9d-9bd3208ff03e"
   },
   "outputs": [
    {
     "data": {
      "text/plain": [
       "0    147336\n",
       "1     14786\n",
       "Name: Repaired, dtype: int64"
      ]
     },
     "execution_count": 47,
     "metadata": {},
     "output_type": "execute_result"
    }
   ],
   "source": [
    "data.loc[data.Repaired == 'yes', 'Repaired'] = 1\n",
    "data.loc[data.Repaired != 1, 'Repaired'] = 0\n",
    "\n",
    "# Заменим тип данных\n",
    "data.Repaired = data.Repaired.astype('int64');\n",
    "\n",
    "# Проверим, что получилось\n",
    "data.Repaired.value_counts(dropna=False)"
   ]
  },
  {
   "cell_type": "markdown",
   "metadata": {
    "id": "oUIuE_pnz83s"
   },
   "source": [
    "#### DateCreated — дата создания анкеты"
   ]
  },
  {
   "cell_type": "code",
   "execution_count": 48,
   "metadata": {
    "colab": {
     "base_uri": "https://localhost:8080/"
    },
    "id": "1DkGJl_8z83s",
    "outputId": "b1baf85d-fdcd-4876-ad00-dd5244ee6b52"
   },
   "outputs": [
    {
     "data": {
      "text/plain": [
       "array(['2016-03-14 00:00:00', '2016-04-04 00:00:00',\n",
       "       '2016-04-01 00:00:00', '2016-03-17 00:00:00',\n",
       "       '2016-03-26 00:00:00', '2016-04-07 00:00:00',\n",
       "       '2016-03-15 00:00:00', '2016-03-21 00:00:00',\n",
       "       '2016-03-23 00:00:00', '2016-03-27 00:00:00',\n",
       "       '2016-03-18 00:00:00', '2016-04-03 00:00:00',\n",
       "       '2016-03-13 00:00:00', '2016-03-29 00:00:00',\n",
       "       '2016-03-31 00:00:00', '2016-03-25 00:00:00',\n",
       "       '2016-03-08 00:00:00', '2016-02-09 00:00:00',\n",
       "       '2016-03-07 00:00:00', '2016-03-22 00:00:00',\n",
       "       '2016-03-11 00:00:00', '2016-03-10 00:00:00',\n",
       "       '2016-03-12 00:00:00', '2016-04-02 00:00:00',\n",
       "       '2016-03-16 00:00:00', '2016-03-20 00:00:00',\n",
       "       '2016-03-09 00:00:00', '2016-03-24 00:00:00',\n",
       "       '2016-03-28 00:00:00', '2016-04-05 00:00:00',\n",
       "       '2016-03-19 00:00:00', '2016-03-06 00:00:00',\n",
       "       '2016-03-05 00:00:00', '2016-03-30 00:00:00',\n",
       "       '2016-03-03 00:00:00', '2016-03-01 00:00:00',\n",
       "       '2016-04-06 00:00:00', '2016-03-04 00:00:00',\n",
       "       '2016-02-15 00:00:00', '2016-02-24 00:00:00',\n",
       "       '2016-02-27 00:00:00', '2015-03-20 00:00:00',\n",
       "       '2016-02-28 00:00:00', '2016-02-20 00:00:00',\n",
       "       '2016-02-10 00:00:00', '2015-11-02 00:00:00',\n",
       "       '2016-02-29 00:00:00', '2016-02-26 00:00:00',\n",
       "       '2016-01-10 00:00:00', '2016-02-06 00:00:00',\n",
       "       '2016-03-02 00:00:00', '2016-02-18 00:00:00',\n",
       "       '2015-12-06 00:00:00', '2016-01-24 00:00:00',\n",
       "       '2016-02-02 00:00:00', '2016-02-21 00:00:00',\n",
       "       '2016-02-13 00:00:00', '2016-02-05 00:00:00',\n",
       "       '2016-02-22 00:00:00', '2016-02-12 00:00:00',\n",
       "       '2016-02-23 00:00:00', '2015-11-17 00:00:00',\n",
       "       '2016-02-07 00:00:00', '2016-01-27 00:00:00',\n",
       "       '2016-01-02 00:00:00', '2016-01-20 00:00:00',\n",
       "       '2016-02-14 00:00:00', '2016-02-19 00:00:00',\n",
       "       '2016-02-03 00:00:00', '2015-12-05 00:00:00',\n",
       "       '2016-02-16 00:00:00', '2016-01-31 00:00:00',\n",
       "       '2016-02-25 00:00:00', '2016-01-07 00:00:00',\n",
       "       '2016-01-18 00:00:00', '2016-01-08 00:00:00',\n",
       "       '2016-01-13 00:00:00', '2016-02-17 00:00:00',\n",
       "       '2016-01-16 00:00:00', '2016-01-19 00:00:00',\n",
       "       '2016-01-30 00:00:00', '2016-01-17 00:00:00',\n",
       "       '2015-12-17 00:00:00', '2016-02-01 00:00:00',\n",
       "       '2016-01-26 00:00:00', '2015-11-23 00:00:00',\n",
       "       '2016-01-06 00:00:00'], dtype=object)"
      ]
     },
     "execution_count": 48,
     "metadata": {},
     "output_type": "execute_result"
    }
   ],
   "source": [
    "data.DateCreated.unique()"
   ]
  },
  {
   "cell_type": "markdown",
   "metadata": {
    "id": "0cxZlZE-z83s"
   },
   "source": [
    "Предиктивной способности у данного признака нет. Не будем использовать в дальнешем."
   ]
  },
  {
   "cell_type": "markdown",
   "metadata": {
    "id": "zI2YWIuAz83s"
   },
   "source": [
    "#### NumberOfPictures — количество фотографий автомобиля"
   ]
  },
  {
   "cell_type": "code",
   "execution_count": 49,
   "metadata": {
    "colab": {
     "base_uri": "https://localhost:8080/"
    },
    "id": "R_c9jaloz83s",
    "outputId": "2fffd446-40f5-4810-98ba-f8918314edbc"
   },
   "outputs": [
    {
     "data": {
      "text/plain": [
       "0    162122\n",
       "Name: NumberOfPictures, dtype: int64"
      ]
     },
     "execution_count": 49,
     "metadata": {},
     "output_type": "execute_result"
    }
   ],
   "source": [
    "data.NumberOfPictures.value_counts()"
   ]
  },
  {
   "cell_type": "markdown",
   "metadata": {
    "id": "l12k_VLCz83t"
   },
   "source": [
    "Предиктивной способности у данного признака нет. Не будем использовать в дальнешем."
   ]
  },
  {
   "cell_type": "markdown",
   "metadata": {
    "id": "ESeBzVS2z83t"
   },
   "source": [
    "#### PostalCode — почтовый индекс владельца анкеты (пользователя)"
   ]
  },
  {
   "cell_type": "code",
   "execution_count": 50,
   "metadata": {
    "colab": {
     "base_uri": "https://localhost:8080/"
    },
    "id": "X6AwPy4Kz83t",
    "outputId": "51277d15-6ab7-4e22-d2ee-14c4bd48ea2f"
   },
   "outputs": [
    {
     "data": {
      "text/plain": [
       "array([90480, 33775, 67112, ..., 97259, 29491, 95691], dtype=int64)"
      ]
     },
     "execution_count": 50,
     "metadata": {},
     "output_type": "execute_result"
    }
   ],
   "source": [
    "data.PostalCode.unique()"
   ]
  },
  {
   "cell_type": "markdown",
   "metadata": {
    "id": "J36mp-Viz83t"
   },
   "source": [
    "По данному признаки возможно определить географию и использовать в качестве признака. Но... \"не сегодня\".\n",
    "\n",
    "Не будем использовать в дальнешем."
   ]
  },
  {
   "cell_type": "markdown",
   "metadata": {
    "id": "VAhQQi7rz83t"
   },
   "source": [
    "#### LastSeen — дата последней активности пользователя"
   ]
  },
  {
   "cell_type": "code",
   "execution_count": 51,
   "metadata": {
    "colab": {
     "base_uri": "https://localhost:8080/"
    },
    "id": "X20ON4mZz83t",
    "outputId": "111bc21b-c839-464c-f914-353d01495dfe"
   },
   "outputs": [
    {
     "data": {
      "text/plain": [
       "array(['2016-04-05 12:47:46', '2016-04-06 19:17:07',\n",
       "       '2016-04-05 18:18:39', ..., '2016-04-02 18:16:20',\n",
       "       '2016-03-13 01:44:13', '2016-03-19 20:44:43'], dtype=object)"
      ]
     },
     "execution_count": 51,
     "metadata": {},
     "output_type": "execute_result"
    }
   ],
   "source": [
    "data.LastSeen.unique()"
   ]
  },
  {
   "cell_type": "markdown",
   "metadata": {
    "id": "8PeFiSuaz83t"
   },
   "source": [
    "Отсутствует предиктивная способность."
   ]
  },
  {
   "cell_type": "markdown",
   "metadata": {
    "id": "TJyUMV_2z83t"
   },
   "source": [
    "#### Создание итогового датасета\n"
   ]
  },
  {
   "cell_type": "markdown",
   "metadata": {
    "id": "sJkv5h2Tz83u"
   },
   "source": [
    "Выберем поля, которые оказывают влияние на стоимость автомобиля (price), и сформируем итоговый дата-сет."
   ]
  },
  {
   "cell_type": "code",
   "execution_count": 52,
   "metadata": {
    "colab": {
     "base_uri": "https://localhost:8080/",
     "height": 206
    },
    "id": "ENFfXwfIz83u",
    "outputId": "7d5f6fd3-4908-4aaf-cf16-7b1b0e5c6875",
    "scrolled": true
   },
   "outputs": [
    {
     "data": {
      "text/html": [
       "<div>\n",
       "<style scoped>\n",
       "    .dataframe tbody tr th:only-of-type {\n",
       "        vertical-align: middle;\n",
       "    }\n",
       "\n",
       "    .dataframe tbody tr th {\n",
       "        vertical-align: top;\n",
       "    }\n",
       "\n",
       "    .dataframe thead th {\n",
       "        text-align: right;\n",
       "    }\n",
       "</style>\n",
       "<table border=\"1\" class=\"dataframe\">\n",
       "  <thead>\n",
       "    <tr style=\"text-align: right;\">\n",
       "      <th></th>\n",
       "      <th>VehicleType</th>\n",
       "      <th>RegistrationYear</th>\n",
       "      <th>Gearbox</th>\n",
       "      <th>Power</th>\n",
       "      <th>Model</th>\n",
       "      <th>Kilometer</th>\n",
       "      <th>FuelType</th>\n",
       "      <th>Brand</th>\n",
       "      <th>Repaired</th>\n",
       "      <th>Price</th>\n",
       "    </tr>\n",
       "  </thead>\n",
       "  <tbody>\n",
       "    <tr>\n",
       "      <th>2</th>\n",
       "      <td>suv</td>\n",
       "      <td>2004</td>\n",
       "      <td>1</td>\n",
       "      <td>163</td>\n",
       "      <td>grand</td>\n",
       "      <td>125000</td>\n",
       "      <td>gasoline</td>\n",
       "      <td>jeep</td>\n",
       "      <td>0</td>\n",
       "      <td>9800</td>\n",
       "    </tr>\n",
       "    <tr>\n",
       "      <th>5</th>\n",
       "      <td>sedan</td>\n",
       "      <td>1995</td>\n",
       "      <td>0</td>\n",
       "      <td>102</td>\n",
       "      <td>3er</td>\n",
       "      <td>150000</td>\n",
       "      <td>petrol</td>\n",
       "      <td>bmw</td>\n",
       "      <td>1</td>\n",
       "      <td>650</td>\n",
       "    </tr>\n",
       "    <tr>\n",
       "      <th>6</th>\n",
       "      <td>convertible</td>\n",
       "      <td>2004</td>\n",
       "      <td>0</td>\n",
       "      <td>109</td>\n",
       "      <td>2_reihe</td>\n",
       "      <td>150000</td>\n",
       "      <td>petrol</td>\n",
       "      <td>peugeot</td>\n",
       "      <td>0</td>\n",
       "      <td>2200</td>\n",
       "    </tr>\n",
       "    <tr>\n",
       "      <th>9</th>\n",
       "      <td>small</td>\n",
       "      <td>1998</td>\n",
       "      <td>0</td>\n",
       "      <td>101</td>\n",
       "      <td>golf</td>\n",
       "      <td>150000</td>\n",
       "      <td>unknow_Fuel</td>\n",
       "      <td>volkswagen</td>\n",
       "      <td>0</td>\n",
       "      <td>999</td>\n",
       "    </tr>\n",
       "    <tr>\n",
       "      <th>10</th>\n",
       "      <td>sedan</td>\n",
       "      <td>2004</td>\n",
       "      <td>0</td>\n",
       "      <td>105</td>\n",
       "      <td>3_reihe</td>\n",
       "      <td>150000</td>\n",
       "      <td>petrol</td>\n",
       "      <td>mazda</td>\n",
       "      <td>0</td>\n",
       "      <td>2000</td>\n",
       "    </tr>\n",
       "  </tbody>\n",
       "</table>\n",
       "</div>"
      ],
      "text/plain": [
       "    VehicleType  RegistrationYear  Gearbox  Power    Model  Kilometer  \\\n",
       "2           suv              2004        1    163    grand     125000   \n",
       "5         sedan              1995        0    102      3er     150000   \n",
       "6   convertible              2004        0    109  2_reihe     150000   \n",
       "9         small              1998        0    101     golf     150000   \n",
       "10        sedan              2004        0    105  3_reihe     150000   \n",
       "\n",
       "       FuelType       Brand  Repaired  Price  \n",
       "2      gasoline        jeep         0   9800  \n",
       "5        petrol         bmw         1    650  \n",
       "6        petrol     peugeot         0   2200  \n",
       "9   unknow_Fuel  volkswagen         0    999  \n",
       "10       petrol       mazda         0   2000  "
      ]
     },
     "execution_count": 52,
     "metadata": {},
     "output_type": "execute_result"
    }
   ],
   "source": [
    "columns_for_predict = ['VehicleType', 'RegistrationYear', 'Gearbox', 'Power', 'Model', 'Kilometer', 'FuelType', 'Brand', 'Repaired', 'Price']\n",
    "data = data[columns_for_predict]\n",
    "data.head()"
   ]
  },
  {
   "cell_type": "markdown",
   "metadata": {
    "id": "JNNfBIF9z83u"
   },
   "source": [
    "Проверим тип данных еще раз."
   ]
  },
  {
   "cell_type": "code",
   "execution_count": 53,
   "metadata": {
    "colab": {
     "base_uri": "https://localhost:8080/"
    },
    "id": "CGmdGHQ9z83u",
    "outputId": "e8cfaaa0-47d2-4051-d2b2-9eaa13eb3801"
   },
   "outputs": [
    {
     "name": "stdout",
     "output_type": "stream",
     "text": [
      "<class 'pandas.core.frame.DataFrame'>\n",
      "Int64Index: 162122 entries, 2 to 354364\n",
      "Data columns (total 10 columns):\n",
      " #   Column            Non-Null Count   Dtype \n",
      "---  ------            --------------   ----- \n",
      " 0   VehicleType       162122 non-null  object\n",
      " 1   RegistrationYear  162122 non-null  int64 \n",
      " 2   Gearbox           162122 non-null  int64 \n",
      " 3   Power             162122 non-null  int64 \n",
      " 4   Model             162122 non-null  object\n",
      " 5   Kilometer         162122 non-null  int64 \n",
      " 6   FuelType          162122 non-null  object\n",
      " 7   Brand             162122 non-null  object\n",
      " 8   Repaired          162122 non-null  int64 \n",
      " 9   Price             162122 non-null  int64 \n",
      "dtypes: int64(6), object(4)\n",
      "memory usage: 13.6+ MB\n"
     ]
    }
   ],
   "source": [
    "data.info()"
   ]
  },
  {
   "cell_type": "code",
   "execution_count": 54,
   "metadata": {
    "colab": {
     "base_uri": "https://localhost:8080/",
     "height": 300
    },
    "id": "zjd-7m3Ez83u",
    "outputId": "de4ebd86-c773-4631-b5ec-d3fa676c788a"
   },
   "outputs": [
    {
     "data": {
      "text/html": [
       "<div>\n",
       "<style scoped>\n",
       "    .dataframe tbody tr th:only-of-type {\n",
       "        vertical-align: middle;\n",
       "    }\n",
       "\n",
       "    .dataframe tbody tr th {\n",
       "        vertical-align: top;\n",
       "    }\n",
       "\n",
       "    .dataframe thead th {\n",
       "        text-align: right;\n",
       "    }\n",
       "</style>\n",
       "<table border=\"1\" class=\"dataframe\">\n",
       "  <thead>\n",
       "    <tr style=\"text-align: right;\">\n",
       "      <th></th>\n",
       "      <th>RegistrationYear</th>\n",
       "      <th>Gearbox</th>\n",
       "      <th>Power</th>\n",
       "      <th>Kilometer</th>\n",
       "      <th>Repaired</th>\n",
       "      <th>Price</th>\n",
       "    </tr>\n",
       "  </thead>\n",
       "  <tbody>\n",
       "    <tr>\n",
       "      <th>count</th>\n",
       "      <td>162122.000000</td>\n",
       "      <td>162122.000000</td>\n",
       "      <td>162122.000000</td>\n",
       "      <td>162122.000000</td>\n",
       "      <td>162122.000000</td>\n",
       "      <td>162122.000000</td>\n",
       "    </tr>\n",
       "    <tr>\n",
       "      <th>mean</th>\n",
       "      <td>2002.496231</td>\n",
       "      <td>0.231801</td>\n",
       "      <td>137.103052</td>\n",
       "      <td>144779.702940</td>\n",
       "      <td>0.091203</td>\n",
       "      <td>4430.443203</td>\n",
       "    </tr>\n",
       "    <tr>\n",
       "      <th>std</th>\n",
       "      <td>5.360605</td>\n",
       "      <td>0.421984</td>\n",
       "      <td>40.445465</td>\n",
       "      <td>12703.717637</td>\n",
       "      <td>0.287898</td>\n",
       "      <td>3272.008608</td>\n",
       "    </tr>\n",
       "    <tr>\n",
       "      <th>min</th>\n",
       "      <td>1955.000000</td>\n",
       "      <td>0.000000</td>\n",
       "      <td>76.000000</td>\n",
       "      <td>100000.000000</td>\n",
       "      <td>0.000000</td>\n",
       "      <td>501.000000</td>\n",
       "    </tr>\n",
       "    <tr>\n",
       "      <th>25%</th>\n",
       "      <td>1999.000000</td>\n",
       "      <td>0.000000</td>\n",
       "      <td>105.000000</td>\n",
       "      <td>150000.000000</td>\n",
       "      <td>0.000000</td>\n",
       "      <td>1800.000000</td>\n",
       "    </tr>\n",
       "    <tr>\n",
       "      <th>50%</th>\n",
       "      <td>2003.000000</td>\n",
       "      <td>0.000000</td>\n",
       "      <td>131.000000</td>\n",
       "      <td>150000.000000</td>\n",
       "      <td>0.000000</td>\n",
       "      <td>3500.000000</td>\n",
       "    </tr>\n",
       "    <tr>\n",
       "      <th>75%</th>\n",
       "      <td>2006.000000</td>\n",
       "      <td>0.000000</td>\n",
       "      <td>160.000000</td>\n",
       "      <td>150000.000000</td>\n",
       "      <td>0.000000</td>\n",
       "      <td>6400.000000</td>\n",
       "    </tr>\n",
       "    <tr>\n",
       "      <th>max</th>\n",
       "      <td>2016.000000</td>\n",
       "      <td>1.000000</td>\n",
       "      <td>299.000000</td>\n",
       "      <td>150000.000000</td>\n",
       "      <td>1.000000</td>\n",
       "      <td>13999.000000</td>\n",
       "    </tr>\n",
       "  </tbody>\n",
       "</table>\n",
       "</div>"
      ],
      "text/plain": [
       "       RegistrationYear        Gearbox          Power      Kilometer  \\\n",
       "count     162122.000000  162122.000000  162122.000000  162122.000000   \n",
       "mean        2002.496231       0.231801     137.103052  144779.702940   \n",
       "std            5.360605       0.421984      40.445465   12703.717637   \n",
       "min         1955.000000       0.000000      76.000000  100000.000000   \n",
       "25%         1999.000000       0.000000     105.000000  150000.000000   \n",
       "50%         2003.000000       0.000000     131.000000  150000.000000   \n",
       "75%         2006.000000       0.000000     160.000000  150000.000000   \n",
       "max         2016.000000       1.000000     299.000000  150000.000000   \n",
       "\n",
       "            Repaired          Price  \n",
       "count  162122.000000  162122.000000  \n",
       "mean        0.091203    4430.443203  \n",
       "std         0.287898    3272.008608  \n",
       "min         0.000000     501.000000  \n",
       "25%         0.000000    1800.000000  \n",
       "50%         0.000000    3500.000000  \n",
       "75%         0.000000    6400.000000  \n",
       "max         1.000000   13999.000000  "
      ]
     },
     "execution_count": 54,
     "metadata": {},
     "output_type": "execute_result"
    }
   ],
   "source": [
    "#КОД РЕВЬЮЕРА\n",
    "\n",
    "data.describe()"
   ]
  },
  {
   "cell_type": "markdown",
   "metadata": {
    "id": "08bSzLQoz83v"
   },
   "source": [
    "## Обучение моделей"
   ]
  },
  {
   "cell_type": "markdown",
   "metadata": {
    "id": "g8Imz2NGz83v"
   },
   "source": [
    "Разделение на категориальные и числовые признаки:"
   ]
  },
  {
   "cell_type": "code",
   "execution_count": 55,
   "metadata": {
    "id": "3R7-YpiTz83v"
   },
   "outputs": [],
   "source": [
    "features_categorical = ['VehicleType', 'Model', 'FuelType', 'Brand']\n",
    "features_quant = ['RegistrationYear', 'Gearbox', 'Power', 'Kilometer', 'Repaired']"
   ]
  },
  {
   "cell_type": "code",
   "execution_count": 56,
   "metadata": {
    "id": "qEbTZomrz83w"
   },
   "outputs": [],
   "source": [
    "X = data.drop(['Price'], axis=1)\n",
    "y = data['Price']"
   ]
  },
  {
   "cell_type": "code",
   "execution_count": 57,
   "metadata": {
    "colab": {
     "base_uri": "https://localhost:8080/"
    },
    "id": "kSEOK6uEz83w",
    "outputId": "5e77c761-16cd-474b-dc23-426cd8b4e020",
    "scrolled": true
   },
   "outputs": [
    {
     "data": {
      "text/plain": [
       "((129697, 9), (32425, 9), (129697,), (32425,))"
      ]
     },
     "execution_count": 57,
     "metadata": {},
     "output_type": "execute_result"
    }
   ],
   "source": [
    "# разделим датасет на тестовую и обучающую выборки\n",
    "features_train, features_test, target_train, target_test = train_test_split(X, y,\n",
    "                                                    test_size=0.2,\n",
    "                                                    random_state=RANDOM_STATE)\n",
    "\n",
    "# проверим, что получилось:\n",
    "features_train.shape, features_test.shape, target_train.shape, target_test.shape"
   ]
  },
  {
   "cell_type": "markdown",
   "metadata": {
    "id": "DHmkAU7Cz83w"
   },
   "source": [
    "Сделаем порядковое кодирование"
   ]
  },
  {
   "cell_type": "code",
   "execution_count": 58,
   "metadata": {
    "id": "9MIZhdMHz83w"
   },
   "outputs": [],
   "source": [
    "encoder = OrdinalEncoder(handle_unknown='use_encoded_value', dtype='int', unknown_value=-1)\n",
    "\n",
    "features_train_oe = features_train.copy()\n",
    "features_test_oe = features_test.copy()\n",
    "\n",
    "features_train_oe[features_categorical] = encoder.fit_transform(features_train[features_categorical])\n",
    "features_test_oe[features_categorical] = encoder.transform(features_test[features_categorical])"
   ]
  },
  {
   "cell_type": "code",
   "execution_count": 59,
   "metadata": {
    "id": "9neDSPsUz83w"
   },
   "outputs": [],
   "source": [
    "features_train_oe = features_train_oe.astype('int64');"
   ]
  },
  {
   "cell_type": "markdown",
   "metadata": {
    "id": "eaIymuTNz83x"
   },
   "source": [
    "Сделаем прямое кодирование"
   ]
  },
  {
   "cell_type": "code",
   "execution_count": 60,
   "metadata": {
    "id": "aJFhBBpPFyZt"
   },
   "outputs": [],
   "source": [
    "X_train_LM = features_train.copy()\n",
    "X_test_LM = target_train.copy()"
   ]
  },
  {
   "cell_type": "code",
   "execution_count": 61,
   "metadata": {
    "id": "OBd3r2_uz83x"
   },
   "outputs": [],
   "source": [
    "encoder_ohe = OneHotEncoder(drop='first', sparse=False)"
   ]
  },
  {
   "cell_type": "code",
   "execution_count": 62,
   "metadata": {
    "colab": {
     "base_uri": "https://localhost:8080/"
    },
    "id": "oF-XhT5iz83x",
    "outputId": "0d2441d2-77d3-4c22-bb85-421bb212aa87"
   },
   "outputs": [
    {
     "data": {
      "text/plain": [
       "OneHotEncoder(drop='first', sparse=False)"
      ]
     },
     "execution_count": 62,
     "metadata": {},
     "output_type": "execute_result"
    }
   ],
   "source": [
    "# обучаем энкодер на заданных категориальных признаках тренировочной выборки\n",
    "encoder_ohe.fit(X_train_LM[features_categorical])"
   ]
  },
  {
   "cell_type": "code",
   "execution_count": 63,
   "metadata": {
    "colab": {
     "base_uri": "https://localhost:8080/"
    },
    "id": "yl0Hm3CEz83x",
    "outputId": "96d666d2-098c-46e0-831e-d32619d6a87e"
   },
   "outputs": [
    {
     "data": {
      "text/plain": [
       "array([[0., 0., 0., ..., 0., 0., 0.],\n",
       "       [0., 0., 0., ..., 0., 0., 0.],\n",
       "       [0., 0., 0., ..., 0., 0., 0.],\n",
       "       ...,\n",
       "       [0., 0., 0., ..., 0., 0., 0.],\n",
       "       [1., 0., 0., ..., 0., 0., 0.],\n",
       "       [0., 0., 0., ..., 0., 0., 0.]])"
      ]
     },
     "execution_count": 63,
     "metadata": {},
     "output_type": "execute_result"
    }
   ],
   "source": [
    "encoder_ohe.transform(features_train[features_categorical])"
   ]
  },
  {
   "cell_type": "code",
   "execution_count": 64,
   "metadata": {
    "colab": {
     "base_uri": "https://localhost:8080/"
    },
    "id": "NDNMDFrbMOLI",
    "outputId": "0b5c1557-dd24-4d75-9369-576ce591e75f"
   },
   "outputs": [
    {
     "name": "stderr",
     "output_type": "stream",
     "text": [
      "C:\\Users\\izara\\AppData\\Local\\Temp\\ipykernel_18356\\739164516.py:3: PerformanceWarning: DataFrame is highly fragmented.  This is usually the result of calling `frame.insert` many times, which has poor performance.  Consider joining all columns at once using pd.concat(axis=1) instead. To get a de-fragmented frame, use `newframe = frame.copy()`\n",
      "  X_train_LM[\n",
      "C:\\Users\\izara\\AppData\\Local\\Temp\\ipykernel_18356\\739164516.py:3: PerformanceWarning: DataFrame is highly fragmented.  This is usually the result of calling `frame.insert` many times, which has poor performance.  Consider joining all columns at once using pd.concat(axis=1) instead. To get a de-fragmented frame, use `newframe = frame.copy()`\n",
      "  X_train_LM[\n",
      "C:\\Users\\izara\\AppData\\Local\\Temp\\ipykernel_18356\\739164516.py:3: PerformanceWarning: DataFrame is highly fragmented.  This is usually the result of calling `frame.insert` many times, which has poor performance.  Consider joining all columns at once using pd.concat(axis=1) instead. To get a de-fragmented frame, use `newframe = frame.copy()`\n",
      "  X_train_LM[\n",
      "C:\\Users\\izara\\AppData\\Local\\Temp\\ipykernel_18356\\739164516.py:3: PerformanceWarning: DataFrame is highly fragmented.  This is usually the result of calling `frame.insert` many times, which has poor performance.  Consider joining all columns at once using pd.concat(axis=1) instead. To get a de-fragmented frame, use `newframe = frame.copy()`\n",
      "  X_train_LM[\n",
      "C:\\Users\\izara\\AppData\\Local\\Temp\\ipykernel_18356\\739164516.py:3: PerformanceWarning: DataFrame is highly fragmented.  This is usually the result of calling `frame.insert` many times, which has poor performance.  Consider joining all columns at once using pd.concat(axis=1) instead. To get a de-fragmented frame, use `newframe = frame.copy()`\n",
      "  X_train_LM[\n",
      "C:\\Users\\izara\\AppData\\Local\\Temp\\ipykernel_18356\\739164516.py:3: PerformanceWarning: DataFrame is highly fragmented.  This is usually the result of calling `frame.insert` many times, which has poor performance.  Consider joining all columns at once using pd.concat(axis=1) instead. To get a de-fragmented frame, use `newframe = frame.copy()`\n",
      "  X_train_LM[\n",
      "C:\\Users\\izara\\AppData\\Local\\Temp\\ipykernel_18356\\739164516.py:3: PerformanceWarning: DataFrame is highly fragmented.  This is usually the result of calling `frame.insert` many times, which has poor performance.  Consider joining all columns at once using pd.concat(axis=1) instead. To get a de-fragmented frame, use `newframe = frame.copy()`\n",
      "  X_train_LM[\n",
      "C:\\Users\\izara\\AppData\\Local\\Temp\\ipykernel_18356\\739164516.py:3: PerformanceWarning: DataFrame is highly fragmented.  This is usually the result of calling `frame.insert` many times, which has poor performance.  Consider joining all columns at once using pd.concat(axis=1) instead. To get a de-fragmented frame, use `newframe = frame.copy()`\n",
      "  X_train_LM[\n",
      "C:\\Users\\izara\\AppData\\Local\\Temp\\ipykernel_18356\\739164516.py:3: PerformanceWarning: DataFrame is highly fragmented.  This is usually the result of calling `frame.insert` many times, which has poor performance.  Consider joining all columns at once using pd.concat(axis=1) instead. To get a de-fragmented frame, use `newframe = frame.copy()`\n",
      "  X_train_LM[\n",
      "C:\\Users\\izara\\AppData\\Local\\Temp\\ipykernel_18356\\739164516.py:3: PerformanceWarning: DataFrame is highly fragmented.  This is usually the result of calling `frame.insert` many times, which has poor performance.  Consider joining all columns at once using pd.concat(axis=1) instead. To get a de-fragmented frame, use `newframe = frame.copy()`\n",
      "  X_train_LM[\n",
      "C:\\Users\\izara\\AppData\\Local\\Temp\\ipykernel_18356\\739164516.py:3: PerformanceWarning: DataFrame is highly fragmented.  This is usually the result of calling `frame.insert` many times, which has poor performance.  Consider joining all columns at once using pd.concat(axis=1) instead. To get a de-fragmented frame, use `newframe = frame.copy()`\n",
      "  X_train_LM[\n",
      "C:\\Users\\izara\\AppData\\Local\\Temp\\ipykernel_18356\\739164516.py:3: PerformanceWarning: DataFrame is highly fragmented.  This is usually the result of calling `frame.insert` many times, which has poor performance.  Consider joining all columns at once using pd.concat(axis=1) instead. To get a de-fragmented frame, use `newframe = frame.copy()`\n",
      "  X_train_LM[\n",
      "C:\\Users\\izara\\AppData\\Local\\Temp\\ipykernel_18356\\739164516.py:3: PerformanceWarning: DataFrame is highly fragmented.  This is usually the result of calling `frame.insert` many times, which has poor performance.  Consider joining all columns at once using pd.concat(axis=1) instead. To get a de-fragmented frame, use `newframe = frame.copy()`\n",
      "  X_train_LM[\n",
      "C:\\Users\\izara\\AppData\\Local\\Temp\\ipykernel_18356\\739164516.py:3: PerformanceWarning: DataFrame is highly fragmented.  This is usually the result of calling `frame.insert` many times, which has poor performance.  Consider joining all columns at once using pd.concat(axis=1) instead. To get a de-fragmented frame, use `newframe = frame.copy()`\n",
      "  X_train_LM[\n",
      "C:\\Users\\izara\\AppData\\Local\\Temp\\ipykernel_18356\\739164516.py:3: PerformanceWarning: DataFrame is highly fragmented.  This is usually the result of calling `frame.insert` many times, which has poor performance.  Consider joining all columns at once using pd.concat(axis=1) instead. To get a de-fragmented frame, use `newframe = frame.copy()`\n",
      "  X_train_LM[\n",
      "C:\\Users\\izara\\AppData\\Local\\Temp\\ipykernel_18356\\739164516.py:3: PerformanceWarning: DataFrame is highly fragmented.  This is usually the result of calling `frame.insert` many times, which has poor performance.  Consider joining all columns at once using pd.concat(axis=1) instead. To get a de-fragmented frame, use `newframe = frame.copy()`\n",
      "  X_train_LM[\n",
      "C:\\Users\\izara\\AppData\\Local\\Temp\\ipykernel_18356\\739164516.py:3: PerformanceWarning: DataFrame is highly fragmented.  This is usually the result of calling `frame.insert` many times, which has poor performance.  Consider joining all columns at once using pd.concat(axis=1) instead. To get a de-fragmented frame, use `newframe = frame.copy()`\n",
      "  X_train_LM[\n",
      "C:\\Users\\izara\\AppData\\Local\\Temp\\ipykernel_18356\\739164516.py:3: PerformanceWarning: DataFrame is highly fragmented.  This is usually the result of calling `frame.insert` many times, which has poor performance.  Consider joining all columns at once using pd.concat(axis=1) instead. To get a de-fragmented frame, use `newframe = frame.copy()`\n",
      "  X_train_LM[\n",
      "C:\\Users\\izara\\AppData\\Local\\Temp\\ipykernel_18356\\739164516.py:3: PerformanceWarning: DataFrame is highly fragmented.  This is usually the result of calling `frame.insert` many times, which has poor performance.  Consider joining all columns at once using pd.concat(axis=1) instead. To get a de-fragmented frame, use `newframe = frame.copy()`\n",
      "  X_train_LM[\n",
      "C:\\Users\\izara\\AppData\\Local\\Temp\\ipykernel_18356\\739164516.py:3: PerformanceWarning: DataFrame is highly fragmented.  This is usually the result of calling `frame.insert` many times, which has poor performance.  Consider joining all columns at once using pd.concat(axis=1) instead. To get a de-fragmented frame, use `newframe = frame.copy()`\n",
      "  X_train_LM[\n",
      "C:\\Users\\izara\\AppData\\Local\\Temp\\ipykernel_18356\\739164516.py:3: PerformanceWarning: DataFrame is highly fragmented.  This is usually the result of calling `frame.insert` many times, which has poor performance.  Consider joining all columns at once using pd.concat(axis=1) instead. To get a de-fragmented frame, use `newframe = frame.copy()`\n",
      "  X_train_LM[\n",
      "C:\\Users\\izara\\AppData\\Local\\Temp\\ipykernel_18356\\739164516.py:3: PerformanceWarning: DataFrame is highly fragmented.  This is usually the result of calling `frame.insert` many times, which has poor performance.  Consider joining all columns at once using pd.concat(axis=1) instead. To get a de-fragmented frame, use `newframe = frame.copy()`\n",
      "  X_train_LM[\n",
      "C:\\Users\\izara\\AppData\\Local\\Temp\\ipykernel_18356\\739164516.py:3: PerformanceWarning: DataFrame is highly fragmented.  This is usually the result of calling `frame.insert` many times, which has poor performance.  Consider joining all columns at once using pd.concat(axis=1) instead. To get a de-fragmented frame, use `newframe = frame.copy()`\n",
      "  X_train_LM[\n",
      "C:\\Users\\izara\\AppData\\Local\\Temp\\ipykernel_18356\\739164516.py:3: PerformanceWarning: DataFrame is highly fragmented.  This is usually the result of calling `frame.insert` many times, which has poor performance.  Consider joining all columns at once using pd.concat(axis=1) instead. To get a de-fragmented frame, use `newframe = frame.copy()`\n",
      "  X_train_LM[\n",
      "C:\\Users\\izara\\AppData\\Local\\Temp\\ipykernel_18356\\739164516.py:3: PerformanceWarning: DataFrame is highly fragmented.  This is usually the result of calling `frame.insert` many times, which has poor performance.  Consider joining all columns at once using pd.concat(axis=1) instead. To get a de-fragmented frame, use `newframe = frame.copy()`\n",
      "  X_train_LM[\n",
      "C:\\Users\\izara\\AppData\\Local\\Temp\\ipykernel_18356\\739164516.py:3: PerformanceWarning: DataFrame is highly fragmented.  This is usually the result of calling `frame.insert` many times, which has poor performance.  Consider joining all columns at once using pd.concat(axis=1) instead. To get a de-fragmented frame, use `newframe = frame.copy()`\n",
      "  X_train_LM[\n"
     ]
    },
    {
     "name": "stderr",
     "output_type": "stream",
     "text": [
      "C:\\Users\\izara\\AppData\\Local\\Temp\\ipykernel_18356\\739164516.py:3: PerformanceWarning: DataFrame is highly fragmented.  This is usually the result of calling `frame.insert` many times, which has poor performance.  Consider joining all columns at once using pd.concat(axis=1) instead. To get a de-fragmented frame, use `newframe = frame.copy()`\n",
      "  X_train_LM[\n",
      "C:\\Users\\izara\\AppData\\Local\\Temp\\ipykernel_18356\\739164516.py:3: PerformanceWarning: DataFrame is highly fragmented.  This is usually the result of calling `frame.insert` many times, which has poor performance.  Consider joining all columns at once using pd.concat(axis=1) instead. To get a de-fragmented frame, use `newframe = frame.copy()`\n",
      "  X_train_LM[\n",
      "C:\\Users\\izara\\AppData\\Local\\Temp\\ipykernel_18356\\739164516.py:3: PerformanceWarning: DataFrame is highly fragmented.  This is usually the result of calling `frame.insert` many times, which has poor performance.  Consider joining all columns at once using pd.concat(axis=1) instead. To get a de-fragmented frame, use `newframe = frame.copy()`\n",
      "  X_train_LM[\n",
      "C:\\Users\\izara\\AppData\\Local\\Temp\\ipykernel_18356\\739164516.py:3: PerformanceWarning: DataFrame is highly fragmented.  This is usually the result of calling `frame.insert` many times, which has poor performance.  Consider joining all columns at once using pd.concat(axis=1) instead. To get a de-fragmented frame, use `newframe = frame.copy()`\n",
      "  X_train_LM[\n",
      "C:\\Users\\izara\\AppData\\Local\\Temp\\ipykernel_18356\\739164516.py:3: PerformanceWarning: DataFrame is highly fragmented.  This is usually the result of calling `frame.insert` many times, which has poor performance.  Consider joining all columns at once using pd.concat(axis=1) instead. To get a de-fragmented frame, use `newframe = frame.copy()`\n",
      "  X_train_LM[\n",
      "C:\\Users\\izara\\AppData\\Local\\Temp\\ipykernel_18356\\739164516.py:3: PerformanceWarning: DataFrame is highly fragmented.  This is usually the result of calling `frame.insert` many times, which has poor performance.  Consider joining all columns at once using pd.concat(axis=1) instead. To get a de-fragmented frame, use `newframe = frame.copy()`\n",
      "  X_train_LM[\n",
      "C:\\Users\\izara\\AppData\\Local\\Temp\\ipykernel_18356\\739164516.py:3: PerformanceWarning: DataFrame is highly fragmented.  This is usually the result of calling `frame.insert` many times, which has poor performance.  Consider joining all columns at once using pd.concat(axis=1) instead. To get a de-fragmented frame, use `newframe = frame.copy()`\n",
      "  X_train_LM[\n",
      "C:\\Users\\izara\\AppData\\Local\\Temp\\ipykernel_18356\\739164516.py:3: PerformanceWarning: DataFrame is highly fragmented.  This is usually the result of calling `frame.insert` many times, which has poor performance.  Consider joining all columns at once using pd.concat(axis=1) instead. To get a de-fragmented frame, use `newframe = frame.copy()`\n",
      "  X_train_LM[\n",
      "C:\\Users\\izara\\AppData\\Local\\Temp\\ipykernel_18356\\739164516.py:3: PerformanceWarning: DataFrame is highly fragmented.  This is usually the result of calling `frame.insert` many times, which has poor performance.  Consider joining all columns at once using pd.concat(axis=1) instead. To get a de-fragmented frame, use `newframe = frame.copy()`\n",
      "  X_train_LM[\n",
      "C:\\Users\\izara\\AppData\\Local\\Temp\\ipykernel_18356\\739164516.py:3: PerformanceWarning: DataFrame is highly fragmented.  This is usually the result of calling `frame.insert` many times, which has poor performance.  Consider joining all columns at once using pd.concat(axis=1) instead. To get a de-fragmented frame, use `newframe = frame.copy()`\n",
      "  X_train_LM[\n",
      "C:\\Users\\izara\\AppData\\Local\\Temp\\ipykernel_18356\\739164516.py:3: PerformanceWarning: DataFrame is highly fragmented.  This is usually the result of calling `frame.insert` many times, which has poor performance.  Consider joining all columns at once using pd.concat(axis=1) instead. To get a de-fragmented frame, use `newframe = frame.copy()`\n",
      "  X_train_LM[\n",
      "C:\\Users\\izara\\AppData\\Local\\Temp\\ipykernel_18356\\739164516.py:3: PerformanceWarning: DataFrame is highly fragmented.  This is usually the result of calling `frame.insert` many times, which has poor performance.  Consider joining all columns at once using pd.concat(axis=1) instead. To get a de-fragmented frame, use `newframe = frame.copy()`\n",
      "  X_train_LM[\n",
      "C:\\Users\\izara\\AppData\\Local\\Temp\\ipykernel_18356\\739164516.py:3: PerformanceWarning: DataFrame is highly fragmented.  This is usually the result of calling `frame.insert` many times, which has poor performance.  Consider joining all columns at once using pd.concat(axis=1) instead. To get a de-fragmented frame, use `newframe = frame.copy()`\n",
      "  X_train_LM[\n",
      "C:\\Users\\izara\\AppData\\Local\\Temp\\ipykernel_18356\\739164516.py:3: PerformanceWarning: DataFrame is highly fragmented.  This is usually the result of calling `frame.insert` many times, which has poor performance.  Consider joining all columns at once using pd.concat(axis=1) instead. To get a de-fragmented frame, use `newframe = frame.copy()`\n",
      "  X_train_LM[\n",
      "C:\\Users\\izara\\AppData\\Local\\Temp\\ipykernel_18356\\739164516.py:3: PerformanceWarning: DataFrame is highly fragmented.  This is usually the result of calling `frame.insert` many times, which has poor performance.  Consider joining all columns at once using pd.concat(axis=1) instead. To get a de-fragmented frame, use `newframe = frame.copy()`\n",
      "  X_train_LM[\n",
      "C:\\Users\\izara\\AppData\\Local\\Temp\\ipykernel_18356\\739164516.py:3: PerformanceWarning: DataFrame is highly fragmented.  This is usually the result of calling `frame.insert` many times, which has poor performance.  Consider joining all columns at once using pd.concat(axis=1) instead. To get a de-fragmented frame, use `newframe = frame.copy()`\n",
      "  X_train_LM[\n",
      "C:\\Users\\izara\\AppData\\Local\\Temp\\ipykernel_18356\\739164516.py:3: PerformanceWarning: DataFrame is highly fragmented.  This is usually the result of calling `frame.insert` many times, which has poor performance.  Consider joining all columns at once using pd.concat(axis=1) instead. To get a de-fragmented frame, use `newframe = frame.copy()`\n",
      "  X_train_LM[\n",
      "C:\\Users\\izara\\AppData\\Local\\Temp\\ipykernel_18356\\739164516.py:3: PerformanceWarning: DataFrame is highly fragmented.  This is usually the result of calling `frame.insert` many times, which has poor performance.  Consider joining all columns at once using pd.concat(axis=1) instead. To get a de-fragmented frame, use `newframe = frame.copy()`\n",
      "  X_train_LM[\n",
      "C:\\Users\\izara\\AppData\\Local\\Temp\\ipykernel_18356\\739164516.py:3: PerformanceWarning: DataFrame is highly fragmented.  This is usually the result of calling `frame.insert` many times, which has poor performance.  Consider joining all columns at once using pd.concat(axis=1) instead. To get a de-fragmented frame, use `newframe = frame.copy()`\n",
      "  X_train_LM[\n",
      "C:\\Users\\izara\\AppData\\Local\\Temp\\ipykernel_18356\\739164516.py:3: PerformanceWarning: DataFrame is highly fragmented.  This is usually the result of calling `frame.insert` many times, which has poor performance.  Consider joining all columns at once using pd.concat(axis=1) instead. To get a de-fragmented frame, use `newframe = frame.copy()`\n",
      "  X_train_LM[\n",
      "C:\\Users\\izara\\AppData\\Local\\Temp\\ipykernel_18356\\739164516.py:3: PerformanceWarning: DataFrame is highly fragmented.  This is usually the result of calling `frame.insert` many times, which has poor performance.  Consider joining all columns at once using pd.concat(axis=1) instead. To get a de-fragmented frame, use `newframe = frame.copy()`\n",
      "  X_train_LM[\n",
      "C:\\Users\\izara\\AppData\\Local\\Temp\\ipykernel_18356\\739164516.py:3: PerformanceWarning: DataFrame is highly fragmented.  This is usually the result of calling `frame.insert` many times, which has poor performance.  Consider joining all columns at once using pd.concat(axis=1) instead. To get a de-fragmented frame, use `newframe = frame.copy()`\n",
      "  X_train_LM[\n",
      "C:\\Users\\izara\\AppData\\Local\\Temp\\ipykernel_18356\\739164516.py:3: PerformanceWarning: DataFrame is highly fragmented.  This is usually the result of calling `frame.insert` many times, which has poor performance.  Consider joining all columns at once using pd.concat(axis=1) instead. To get a de-fragmented frame, use `newframe = frame.copy()`\n",
      "  X_train_LM[\n",
      "C:\\Users\\izara\\AppData\\Local\\Temp\\ipykernel_18356\\739164516.py:3: PerformanceWarning: DataFrame is highly fragmented.  This is usually the result of calling `frame.insert` many times, which has poor performance.  Consider joining all columns at once using pd.concat(axis=1) instead. To get a de-fragmented frame, use `newframe = frame.copy()`\n",
      "  X_train_LM[\n",
      "C:\\Users\\izara\\AppData\\Local\\Temp\\ipykernel_18356\\739164516.py:3: PerformanceWarning: DataFrame is highly fragmented.  This is usually the result of calling `frame.insert` many times, which has poor performance.  Consider joining all columns at once using pd.concat(axis=1) instead. To get a de-fragmented frame, use `newframe = frame.copy()`\n",
      "  X_train_LM[\n",
      "C:\\Users\\izara\\AppData\\Local\\Temp\\ipykernel_18356\\739164516.py:3: PerformanceWarning: DataFrame is highly fragmented.  This is usually the result of calling `frame.insert` many times, which has poor performance.  Consider joining all columns at once using pd.concat(axis=1) instead. To get a de-fragmented frame, use `newframe = frame.copy()`\n",
      "  X_train_LM[\n"
     ]
    },
    {
     "name": "stderr",
     "output_type": "stream",
     "text": [
      "C:\\Users\\izara\\AppData\\Local\\Temp\\ipykernel_18356\\739164516.py:3: PerformanceWarning: DataFrame is highly fragmented.  This is usually the result of calling `frame.insert` many times, which has poor performance.  Consider joining all columns at once using pd.concat(axis=1) instead. To get a de-fragmented frame, use `newframe = frame.copy()`\n",
      "  X_train_LM[\n",
      "C:\\Users\\izara\\AppData\\Local\\Temp\\ipykernel_18356\\739164516.py:3: PerformanceWarning: DataFrame is highly fragmented.  This is usually the result of calling `frame.insert` many times, which has poor performance.  Consider joining all columns at once using pd.concat(axis=1) instead. To get a de-fragmented frame, use `newframe = frame.copy()`\n",
      "  X_train_LM[\n",
      "C:\\Users\\izara\\AppData\\Local\\Temp\\ipykernel_18356\\739164516.py:3: PerformanceWarning: DataFrame is highly fragmented.  This is usually the result of calling `frame.insert` many times, which has poor performance.  Consider joining all columns at once using pd.concat(axis=1) instead. To get a de-fragmented frame, use `newframe = frame.copy()`\n",
      "  X_train_LM[\n",
      "C:\\Users\\izara\\AppData\\Local\\Temp\\ipykernel_18356\\739164516.py:3: PerformanceWarning: DataFrame is highly fragmented.  This is usually the result of calling `frame.insert` many times, which has poor performance.  Consider joining all columns at once using pd.concat(axis=1) instead. To get a de-fragmented frame, use `newframe = frame.copy()`\n",
      "  X_train_LM[\n",
      "C:\\Users\\izara\\AppData\\Local\\Temp\\ipykernel_18356\\739164516.py:3: PerformanceWarning: DataFrame is highly fragmented.  This is usually the result of calling `frame.insert` many times, which has poor performance.  Consider joining all columns at once using pd.concat(axis=1) instead. To get a de-fragmented frame, use `newframe = frame.copy()`\n",
      "  X_train_LM[\n",
      "C:\\Users\\izara\\AppData\\Local\\Temp\\ipykernel_18356\\739164516.py:3: PerformanceWarning: DataFrame is highly fragmented.  This is usually the result of calling `frame.insert` many times, which has poor performance.  Consider joining all columns at once using pd.concat(axis=1) instead. To get a de-fragmented frame, use `newframe = frame.copy()`\n",
      "  X_train_LM[\n",
      "C:\\Users\\izara\\AppData\\Local\\Temp\\ipykernel_18356\\739164516.py:3: PerformanceWarning: DataFrame is highly fragmented.  This is usually the result of calling `frame.insert` many times, which has poor performance.  Consider joining all columns at once using pd.concat(axis=1) instead. To get a de-fragmented frame, use `newframe = frame.copy()`\n",
      "  X_train_LM[\n",
      "C:\\Users\\izara\\AppData\\Local\\Temp\\ipykernel_18356\\739164516.py:3: PerformanceWarning: DataFrame is highly fragmented.  This is usually the result of calling `frame.insert` many times, which has poor performance.  Consider joining all columns at once using pd.concat(axis=1) instead. To get a de-fragmented frame, use `newframe = frame.copy()`\n",
      "  X_train_LM[\n",
      "C:\\Users\\izara\\AppData\\Local\\Temp\\ipykernel_18356\\739164516.py:3: PerformanceWarning: DataFrame is highly fragmented.  This is usually the result of calling `frame.insert` many times, which has poor performance.  Consider joining all columns at once using pd.concat(axis=1) instead. To get a de-fragmented frame, use `newframe = frame.copy()`\n",
      "  X_train_LM[\n",
      "C:\\Users\\izara\\AppData\\Local\\Temp\\ipykernel_18356\\739164516.py:3: PerformanceWarning: DataFrame is highly fragmented.  This is usually the result of calling `frame.insert` many times, which has poor performance.  Consider joining all columns at once using pd.concat(axis=1) instead. To get a de-fragmented frame, use `newframe = frame.copy()`\n",
      "  X_train_LM[\n",
      "C:\\Users\\izara\\AppData\\Local\\Temp\\ipykernel_18356\\739164516.py:3: PerformanceWarning: DataFrame is highly fragmented.  This is usually the result of calling `frame.insert` many times, which has poor performance.  Consider joining all columns at once using pd.concat(axis=1) instead. To get a de-fragmented frame, use `newframe = frame.copy()`\n",
      "  X_train_LM[\n",
      "C:\\Users\\izara\\AppData\\Local\\Temp\\ipykernel_18356\\739164516.py:3: PerformanceWarning: DataFrame is highly fragmented.  This is usually the result of calling `frame.insert` many times, which has poor performance.  Consider joining all columns at once using pd.concat(axis=1) instead. To get a de-fragmented frame, use `newframe = frame.copy()`\n",
      "  X_train_LM[\n",
      "C:\\Users\\izara\\AppData\\Local\\Temp\\ipykernel_18356\\739164516.py:3: PerformanceWarning: DataFrame is highly fragmented.  This is usually the result of calling `frame.insert` many times, which has poor performance.  Consider joining all columns at once using pd.concat(axis=1) instead. To get a de-fragmented frame, use `newframe = frame.copy()`\n",
      "  X_train_LM[\n",
      "C:\\Users\\izara\\AppData\\Local\\Temp\\ipykernel_18356\\739164516.py:3: PerformanceWarning: DataFrame is highly fragmented.  This is usually the result of calling `frame.insert` many times, which has poor performance.  Consider joining all columns at once using pd.concat(axis=1) instead. To get a de-fragmented frame, use `newframe = frame.copy()`\n",
      "  X_train_LM[\n",
      "C:\\Users\\izara\\AppData\\Local\\Temp\\ipykernel_18356\\739164516.py:3: PerformanceWarning: DataFrame is highly fragmented.  This is usually the result of calling `frame.insert` many times, which has poor performance.  Consider joining all columns at once using pd.concat(axis=1) instead. To get a de-fragmented frame, use `newframe = frame.copy()`\n",
      "  X_train_LM[\n",
      "C:\\Users\\izara\\AppData\\Local\\Temp\\ipykernel_18356\\739164516.py:3: PerformanceWarning: DataFrame is highly fragmented.  This is usually the result of calling `frame.insert` many times, which has poor performance.  Consider joining all columns at once using pd.concat(axis=1) instead. To get a de-fragmented frame, use `newframe = frame.copy()`\n",
      "  X_train_LM[\n",
      "C:\\Users\\izara\\AppData\\Local\\Temp\\ipykernel_18356\\739164516.py:3: PerformanceWarning: DataFrame is highly fragmented.  This is usually the result of calling `frame.insert` many times, which has poor performance.  Consider joining all columns at once using pd.concat(axis=1) instead. To get a de-fragmented frame, use `newframe = frame.copy()`\n",
      "  X_train_LM[\n",
      "C:\\Users\\izara\\AppData\\Local\\Temp\\ipykernel_18356\\739164516.py:3: PerformanceWarning: DataFrame is highly fragmented.  This is usually the result of calling `frame.insert` many times, which has poor performance.  Consider joining all columns at once using pd.concat(axis=1) instead. To get a de-fragmented frame, use `newframe = frame.copy()`\n",
      "  X_train_LM[\n",
      "C:\\Users\\izara\\AppData\\Local\\Temp\\ipykernel_18356\\739164516.py:3: PerformanceWarning: DataFrame is highly fragmented.  This is usually the result of calling `frame.insert` many times, which has poor performance.  Consider joining all columns at once using pd.concat(axis=1) instead. To get a de-fragmented frame, use `newframe = frame.copy()`\n",
      "  X_train_LM[\n",
      "C:\\Users\\izara\\AppData\\Local\\Temp\\ipykernel_18356\\739164516.py:3: PerformanceWarning: DataFrame is highly fragmented.  This is usually the result of calling `frame.insert` many times, which has poor performance.  Consider joining all columns at once using pd.concat(axis=1) instead. To get a de-fragmented frame, use `newframe = frame.copy()`\n",
      "  X_train_LM[\n",
      "C:\\Users\\izara\\AppData\\Local\\Temp\\ipykernel_18356\\739164516.py:3: PerformanceWarning: DataFrame is highly fragmented.  This is usually the result of calling `frame.insert` many times, which has poor performance.  Consider joining all columns at once using pd.concat(axis=1) instead. To get a de-fragmented frame, use `newframe = frame.copy()`\n",
      "  X_train_LM[\n",
      "C:\\Users\\izara\\AppData\\Local\\Temp\\ipykernel_18356\\739164516.py:3: PerformanceWarning: DataFrame is highly fragmented.  This is usually the result of calling `frame.insert` many times, which has poor performance.  Consider joining all columns at once using pd.concat(axis=1) instead. To get a de-fragmented frame, use `newframe = frame.copy()`\n",
      "  X_train_LM[\n",
      "C:\\Users\\izara\\AppData\\Local\\Temp\\ipykernel_18356\\739164516.py:3: PerformanceWarning: DataFrame is highly fragmented.  This is usually the result of calling `frame.insert` many times, which has poor performance.  Consider joining all columns at once using pd.concat(axis=1) instead. To get a de-fragmented frame, use `newframe = frame.copy()`\n",
      "  X_train_LM[\n",
      "C:\\Users\\izara\\AppData\\Local\\Temp\\ipykernel_18356\\739164516.py:3: PerformanceWarning: DataFrame is highly fragmented.  This is usually the result of calling `frame.insert` many times, which has poor performance.  Consider joining all columns at once using pd.concat(axis=1) instead. To get a de-fragmented frame, use `newframe = frame.copy()`\n",
      "  X_train_LM[\n",
      "C:\\Users\\izara\\AppData\\Local\\Temp\\ipykernel_18356\\739164516.py:3: PerformanceWarning: DataFrame is highly fragmented.  This is usually the result of calling `frame.insert` many times, which has poor performance.  Consider joining all columns at once using pd.concat(axis=1) instead. To get a de-fragmented frame, use `newframe = frame.copy()`\n",
      "  X_train_LM[\n",
      "C:\\Users\\izara\\AppData\\Local\\Temp\\ipykernel_18356\\739164516.py:3: PerformanceWarning: DataFrame is highly fragmented.  This is usually the result of calling `frame.insert` many times, which has poor performance.  Consider joining all columns at once using pd.concat(axis=1) instead. To get a de-fragmented frame, use `newframe = frame.copy()`\n",
      "  X_train_LM[\n"
     ]
    },
    {
     "name": "stderr",
     "output_type": "stream",
     "text": [
      "C:\\Users\\izara\\AppData\\Local\\Temp\\ipykernel_18356\\739164516.py:3: PerformanceWarning: DataFrame is highly fragmented.  This is usually the result of calling `frame.insert` many times, which has poor performance.  Consider joining all columns at once using pd.concat(axis=1) instead. To get a de-fragmented frame, use `newframe = frame.copy()`\n",
      "  X_train_LM[\n",
      "C:\\Users\\izara\\AppData\\Local\\Temp\\ipykernel_18356\\739164516.py:3: PerformanceWarning: DataFrame is highly fragmented.  This is usually the result of calling `frame.insert` many times, which has poor performance.  Consider joining all columns at once using pd.concat(axis=1) instead. To get a de-fragmented frame, use `newframe = frame.copy()`\n",
      "  X_train_LM[\n",
      "C:\\Users\\izara\\AppData\\Local\\Temp\\ipykernel_18356\\739164516.py:3: PerformanceWarning: DataFrame is highly fragmented.  This is usually the result of calling `frame.insert` many times, which has poor performance.  Consider joining all columns at once using pd.concat(axis=1) instead. To get a de-fragmented frame, use `newframe = frame.copy()`\n",
      "  X_train_LM[\n",
      "C:\\Users\\izara\\AppData\\Local\\Temp\\ipykernel_18356\\739164516.py:3: PerformanceWarning: DataFrame is highly fragmented.  This is usually the result of calling `frame.insert` many times, which has poor performance.  Consider joining all columns at once using pd.concat(axis=1) instead. To get a de-fragmented frame, use `newframe = frame.copy()`\n",
      "  X_train_LM[\n",
      "C:\\Users\\izara\\AppData\\Local\\Temp\\ipykernel_18356\\739164516.py:3: PerformanceWarning: DataFrame is highly fragmented.  This is usually the result of calling `frame.insert` many times, which has poor performance.  Consider joining all columns at once using pd.concat(axis=1) instead. To get a de-fragmented frame, use `newframe = frame.copy()`\n",
      "  X_train_LM[\n",
      "C:\\Users\\izara\\AppData\\Local\\Temp\\ipykernel_18356\\739164516.py:3: PerformanceWarning: DataFrame is highly fragmented.  This is usually the result of calling `frame.insert` many times, which has poor performance.  Consider joining all columns at once using pd.concat(axis=1) instead. To get a de-fragmented frame, use `newframe = frame.copy()`\n",
      "  X_train_LM[\n",
      "C:\\Users\\izara\\AppData\\Local\\Temp\\ipykernel_18356\\739164516.py:3: PerformanceWarning: DataFrame is highly fragmented.  This is usually the result of calling `frame.insert` many times, which has poor performance.  Consider joining all columns at once using pd.concat(axis=1) instead. To get a de-fragmented frame, use `newframe = frame.copy()`\n",
      "  X_train_LM[\n",
      "C:\\Users\\izara\\AppData\\Local\\Temp\\ipykernel_18356\\739164516.py:3: PerformanceWarning: DataFrame is highly fragmented.  This is usually the result of calling `frame.insert` many times, which has poor performance.  Consider joining all columns at once using pd.concat(axis=1) instead. To get a de-fragmented frame, use `newframe = frame.copy()`\n",
      "  X_train_LM[\n",
      "C:\\Users\\izara\\AppData\\Local\\Temp\\ipykernel_18356\\739164516.py:3: PerformanceWarning: DataFrame is highly fragmented.  This is usually the result of calling `frame.insert` many times, which has poor performance.  Consider joining all columns at once using pd.concat(axis=1) instead. To get a de-fragmented frame, use `newframe = frame.copy()`\n",
      "  X_train_LM[\n",
      "C:\\Users\\izara\\AppData\\Local\\Temp\\ipykernel_18356\\739164516.py:3: PerformanceWarning: DataFrame is highly fragmented.  This is usually the result of calling `frame.insert` many times, which has poor performance.  Consider joining all columns at once using pd.concat(axis=1) instead. To get a de-fragmented frame, use `newframe = frame.copy()`\n",
      "  X_train_LM[\n",
      "C:\\Users\\izara\\AppData\\Local\\Temp\\ipykernel_18356\\739164516.py:3: PerformanceWarning: DataFrame is highly fragmented.  This is usually the result of calling `frame.insert` many times, which has poor performance.  Consider joining all columns at once using pd.concat(axis=1) instead. To get a de-fragmented frame, use `newframe = frame.copy()`\n",
      "  X_train_LM[\n",
      "C:\\Users\\izara\\AppData\\Local\\Temp\\ipykernel_18356\\739164516.py:3: PerformanceWarning: DataFrame is highly fragmented.  This is usually the result of calling `frame.insert` many times, which has poor performance.  Consider joining all columns at once using pd.concat(axis=1) instead. To get a de-fragmented frame, use `newframe = frame.copy()`\n",
      "  X_train_LM[\n",
      "C:\\Users\\izara\\AppData\\Local\\Temp\\ipykernel_18356\\739164516.py:3: PerformanceWarning: DataFrame is highly fragmented.  This is usually the result of calling `frame.insert` many times, which has poor performance.  Consider joining all columns at once using pd.concat(axis=1) instead. To get a de-fragmented frame, use `newframe = frame.copy()`\n",
      "  X_train_LM[\n",
      "C:\\Users\\izara\\AppData\\Local\\Temp\\ipykernel_18356\\739164516.py:3: PerformanceWarning: DataFrame is highly fragmented.  This is usually the result of calling `frame.insert` many times, which has poor performance.  Consider joining all columns at once using pd.concat(axis=1) instead. To get a de-fragmented frame, use `newframe = frame.copy()`\n",
      "  X_train_LM[\n",
      "C:\\Users\\izara\\AppData\\Local\\Temp\\ipykernel_18356\\739164516.py:3: PerformanceWarning: DataFrame is highly fragmented.  This is usually the result of calling `frame.insert` many times, which has poor performance.  Consider joining all columns at once using pd.concat(axis=1) instead. To get a de-fragmented frame, use `newframe = frame.copy()`\n",
      "  X_train_LM[\n",
      "C:\\Users\\izara\\AppData\\Local\\Temp\\ipykernel_18356\\739164516.py:3: PerformanceWarning: DataFrame is highly fragmented.  This is usually the result of calling `frame.insert` many times, which has poor performance.  Consider joining all columns at once using pd.concat(axis=1) instead. To get a de-fragmented frame, use `newframe = frame.copy()`\n",
      "  X_train_LM[\n",
      "C:\\Users\\izara\\AppData\\Local\\Temp\\ipykernel_18356\\739164516.py:3: PerformanceWarning: DataFrame is highly fragmented.  This is usually the result of calling `frame.insert` many times, which has poor performance.  Consider joining all columns at once using pd.concat(axis=1) instead. To get a de-fragmented frame, use `newframe = frame.copy()`\n",
      "  X_train_LM[\n",
      "C:\\Users\\izara\\AppData\\Local\\Temp\\ipykernel_18356\\739164516.py:3: PerformanceWarning: DataFrame is highly fragmented.  This is usually the result of calling `frame.insert` many times, which has poor performance.  Consider joining all columns at once using pd.concat(axis=1) instead. To get a de-fragmented frame, use `newframe = frame.copy()`\n",
      "  X_train_LM[\n",
      "C:\\Users\\izara\\AppData\\Local\\Temp\\ipykernel_18356\\739164516.py:3: PerformanceWarning: DataFrame is highly fragmented.  This is usually the result of calling `frame.insert` many times, which has poor performance.  Consider joining all columns at once using pd.concat(axis=1) instead. To get a de-fragmented frame, use `newframe = frame.copy()`\n",
      "  X_train_LM[\n",
      "C:\\Users\\izara\\AppData\\Local\\Temp\\ipykernel_18356\\739164516.py:3: PerformanceWarning: DataFrame is highly fragmented.  This is usually the result of calling `frame.insert` many times, which has poor performance.  Consider joining all columns at once using pd.concat(axis=1) instead. To get a de-fragmented frame, use `newframe = frame.copy()`\n",
      "  X_train_LM[\n",
      "C:\\Users\\izara\\AppData\\Local\\Temp\\ipykernel_18356\\739164516.py:3: PerformanceWarning: DataFrame is highly fragmented.  This is usually the result of calling `frame.insert` many times, which has poor performance.  Consider joining all columns at once using pd.concat(axis=1) instead. To get a de-fragmented frame, use `newframe = frame.copy()`\n",
      "  X_train_LM[\n",
      "C:\\Users\\izara\\AppData\\Local\\Temp\\ipykernel_18356\\739164516.py:3: PerformanceWarning: DataFrame is highly fragmented.  This is usually the result of calling `frame.insert` many times, which has poor performance.  Consider joining all columns at once using pd.concat(axis=1) instead. To get a de-fragmented frame, use `newframe = frame.copy()`\n",
      "  X_train_LM[\n",
      "C:\\Users\\izara\\AppData\\Local\\Temp\\ipykernel_18356\\739164516.py:3: PerformanceWarning: DataFrame is highly fragmented.  This is usually the result of calling `frame.insert` many times, which has poor performance.  Consider joining all columns at once using pd.concat(axis=1) instead. To get a de-fragmented frame, use `newframe = frame.copy()`\n",
      "  X_train_LM[\n",
      "C:\\Users\\izara\\AppData\\Local\\Temp\\ipykernel_18356\\739164516.py:3: PerformanceWarning: DataFrame is highly fragmented.  This is usually the result of calling `frame.insert` many times, which has poor performance.  Consider joining all columns at once using pd.concat(axis=1) instead. To get a de-fragmented frame, use `newframe = frame.copy()`\n",
      "  X_train_LM[\n",
      "C:\\Users\\izara\\AppData\\Local\\Temp\\ipykernel_18356\\739164516.py:3: PerformanceWarning: DataFrame is highly fragmented.  This is usually the result of calling `frame.insert` many times, which has poor performance.  Consider joining all columns at once using pd.concat(axis=1) instead. To get a de-fragmented frame, use `newframe = frame.copy()`\n",
      "  X_train_LM[\n",
      "C:\\Users\\izara\\AppData\\Local\\Temp\\ipykernel_18356\\739164516.py:3: PerformanceWarning: DataFrame is highly fragmented.  This is usually the result of calling `frame.insert` many times, which has poor performance.  Consider joining all columns at once using pd.concat(axis=1) instead. To get a de-fragmented frame, use `newframe = frame.copy()`\n",
      "  X_train_LM[\n",
      "C:\\Users\\izara\\AppData\\Local\\Temp\\ipykernel_18356\\739164516.py:3: PerformanceWarning: DataFrame is highly fragmented.  This is usually the result of calling `frame.insert` many times, which has poor performance.  Consider joining all columns at once using pd.concat(axis=1) instead. To get a de-fragmented frame, use `newframe = frame.copy()`\n",
      "  X_train_LM[\n",
      "C:\\Users\\izara\\AppData\\Local\\Temp\\ipykernel_18356\\739164516.py:3: PerformanceWarning: DataFrame is highly fragmented.  This is usually the result of calling `frame.insert` many times, which has poor performance.  Consider joining all columns at once using pd.concat(axis=1) instead. To get a de-fragmented frame, use `newframe = frame.copy()`\n",
      "  X_train_LM[\n",
      "C:\\Users\\izara\\AppData\\Local\\Temp\\ipykernel_18356\\739164516.py:3: PerformanceWarning: DataFrame is highly fragmented.  This is usually the result of calling `frame.insert` many times, which has poor performance.  Consider joining all columns at once using pd.concat(axis=1) instead. To get a de-fragmented frame, use `newframe = frame.copy()`\n",
      "  X_train_LM[\n"
     ]
    },
    {
     "name": "stderr",
     "output_type": "stream",
     "text": [
      "C:\\Users\\izara\\AppData\\Local\\Temp\\ipykernel_18356\\739164516.py:3: PerformanceWarning: DataFrame is highly fragmented.  This is usually the result of calling `frame.insert` many times, which has poor performance.  Consider joining all columns at once using pd.concat(axis=1) instead. To get a de-fragmented frame, use `newframe = frame.copy()`\n",
      "  X_train_LM[\n",
      "C:\\Users\\izara\\AppData\\Local\\Temp\\ipykernel_18356\\739164516.py:3: PerformanceWarning: DataFrame is highly fragmented.  This is usually the result of calling `frame.insert` many times, which has poor performance.  Consider joining all columns at once using pd.concat(axis=1) instead. To get a de-fragmented frame, use `newframe = frame.copy()`\n",
      "  X_train_LM[\n",
      "C:\\Users\\izara\\AppData\\Local\\Temp\\ipykernel_18356\\739164516.py:3: PerformanceWarning: DataFrame is highly fragmented.  This is usually the result of calling `frame.insert` many times, which has poor performance.  Consider joining all columns at once using pd.concat(axis=1) instead. To get a de-fragmented frame, use `newframe = frame.copy()`\n",
      "  X_train_LM[\n",
      "C:\\Users\\izara\\AppData\\Local\\Temp\\ipykernel_18356\\739164516.py:3: PerformanceWarning: DataFrame is highly fragmented.  This is usually the result of calling `frame.insert` many times, which has poor performance.  Consider joining all columns at once using pd.concat(axis=1) instead. To get a de-fragmented frame, use `newframe = frame.copy()`\n",
      "  X_train_LM[\n",
      "C:\\Users\\izara\\AppData\\Local\\Temp\\ipykernel_18356\\739164516.py:3: PerformanceWarning: DataFrame is highly fragmented.  This is usually the result of calling `frame.insert` many times, which has poor performance.  Consider joining all columns at once using pd.concat(axis=1) instead. To get a de-fragmented frame, use `newframe = frame.copy()`\n",
      "  X_train_LM[\n",
      "C:\\Users\\izara\\AppData\\Local\\Temp\\ipykernel_18356\\739164516.py:3: PerformanceWarning: DataFrame is highly fragmented.  This is usually the result of calling `frame.insert` many times, which has poor performance.  Consider joining all columns at once using pd.concat(axis=1) instead. To get a de-fragmented frame, use `newframe = frame.copy()`\n",
      "  X_train_LM[\n",
      "C:\\Users\\izara\\AppData\\Local\\Temp\\ipykernel_18356\\739164516.py:3: PerformanceWarning: DataFrame is highly fragmented.  This is usually the result of calling `frame.insert` many times, which has poor performance.  Consider joining all columns at once using pd.concat(axis=1) instead. To get a de-fragmented frame, use `newframe = frame.copy()`\n",
      "  X_train_LM[\n",
      "C:\\Users\\izara\\AppData\\Local\\Temp\\ipykernel_18356\\739164516.py:3: PerformanceWarning: DataFrame is highly fragmented.  This is usually the result of calling `frame.insert` many times, which has poor performance.  Consider joining all columns at once using pd.concat(axis=1) instead. To get a de-fragmented frame, use `newframe = frame.copy()`\n",
      "  X_train_LM[\n",
      "C:\\Users\\izara\\AppData\\Local\\Temp\\ipykernel_18356\\739164516.py:3: PerformanceWarning: DataFrame is highly fragmented.  This is usually the result of calling `frame.insert` many times, which has poor performance.  Consider joining all columns at once using pd.concat(axis=1) instead. To get a de-fragmented frame, use `newframe = frame.copy()`\n",
      "  X_train_LM[\n",
      "C:\\Users\\izara\\AppData\\Local\\Temp\\ipykernel_18356\\739164516.py:3: PerformanceWarning: DataFrame is highly fragmented.  This is usually the result of calling `frame.insert` many times, which has poor performance.  Consider joining all columns at once using pd.concat(axis=1) instead. To get a de-fragmented frame, use `newframe = frame.copy()`\n",
      "  X_train_LM[\n",
      "C:\\Users\\izara\\AppData\\Local\\Temp\\ipykernel_18356\\739164516.py:3: PerformanceWarning: DataFrame is highly fragmented.  This is usually the result of calling `frame.insert` many times, which has poor performance.  Consider joining all columns at once using pd.concat(axis=1) instead. To get a de-fragmented frame, use `newframe = frame.copy()`\n",
      "  X_train_LM[\n",
      "C:\\Users\\izara\\AppData\\Local\\Temp\\ipykernel_18356\\739164516.py:3: PerformanceWarning: DataFrame is highly fragmented.  This is usually the result of calling `frame.insert` many times, which has poor performance.  Consider joining all columns at once using pd.concat(axis=1) instead. To get a de-fragmented frame, use `newframe = frame.copy()`\n",
      "  X_train_LM[\n",
      "C:\\Users\\izara\\AppData\\Local\\Temp\\ipykernel_18356\\739164516.py:3: PerformanceWarning: DataFrame is highly fragmented.  This is usually the result of calling `frame.insert` many times, which has poor performance.  Consider joining all columns at once using pd.concat(axis=1) instead. To get a de-fragmented frame, use `newframe = frame.copy()`\n",
      "  X_train_LM[\n",
      "C:\\Users\\izara\\AppData\\Local\\Temp\\ipykernel_18356\\739164516.py:3: PerformanceWarning: DataFrame is highly fragmented.  This is usually the result of calling `frame.insert` many times, which has poor performance.  Consider joining all columns at once using pd.concat(axis=1) instead. To get a de-fragmented frame, use `newframe = frame.copy()`\n",
      "  X_train_LM[\n",
      "C:\\Users\\izara\\AppData\\Local\\Temp\\ipykernel_18356\\739164516.py:3: PerformanceWarning: DataFrame is highly fragmented.  This is usually the result of calling `frame.insert` many times, which has poor performance.  Consider joining all columns at once using pd.concat(axis=1) instead. To get a de-fragmented frame, use `newframe = frame.copy()`\n",
      "  X_train_LM[\n",
      "C:\\Users\\izara\\AppData\\Local\\Temp\\ipykernel_18356\\739164516.py:3: PerformanceWarning: DataFrame is highly fragmented.  This is usually the result of calling `frame.insert` many times, which has poor performance.  Consider joining all columns at once using pd.concat(axis=1) instead. To get a de-fragmented frame, use `newframe = frame.copy()`\n",
      "  X_train_LM[\n",
      "C:\\Users\\izara\\AppData\\Local\\Temp\\ipykernel_18356\\739164516.py:3: PerformanceWarning: DataFrame is highly fragmented.  This is usually the result of calling `frame.insert` many times, which has poor performance.  Consider joining all columns at once using pd.concat(axis=1) instead. To get a de-fragmented frame, use `newframe = frame.copy()`\n",
      "  X_train_LM[\n",
      "C:\\Users\\izara\\AppData\\Local\\Temp\\ipykernel_18356\\739164516.py:3: PerformanceWarning: DataFrame is highly fragmented.  This is usually the result of calling `frame.insert` many times, which has poor performance.  Consider joining all columns at once using pd.concat(axis=1) instead. To get a de-fragmented frame, use `newframe = frame.copy()`\n",
      "  X_train_LM[\n",
      "C:\\Users\\izara\\AppData\\Local\\Temp\\ipykernel_18356\\739164516.py:3: PerformanceWarning: DataFrame is highly fragmented.  This is usually the result of calling `frame.insert` many times, which has poor performance.  Consider joining all columns at once using pd.concat(axis=1) instead. To get a de-fragmented frame, use `newframe = frame.copy()`\n",
      "  X_train_LM[\n",
      "C:\\Users\\izara\\AppData\\Local\\Temp\\ipykernel_18356\\739164516.py:3: PerformanceWarning: DataFrame is highly fragmented.  This is usually the result of calling `frame.insert` many times, which has poor performance.  Consider joining all columns at once using pd.concat(axis=1) instead. To get a de-fragmented frame, use `newframe = frame.copy()`\n",
      "  X_train_LM[\n",
      "C:\\Users\\izara\\AppData\\Local\\Temp\\ipykernel_18356\\739164516.py:3: PerformanceWarning: DataFrame is highly fragmented.  This is usually the result of calling `frame.insert` many times, which has poor performance.  Consider joining all columns at once using pd.concat(axis=1) instead. To get a de-fragmented frame, use `newframe = frame.copy()`\n",
      "  X_train_LM[\n",
      "C:\\Users\\izara\\AppData\\Local\\Temp\\ipykernel_18356\\739164516.py:3: PerformanceWarning: DataFrame is highly fragmented.  This is usually the result of calling `frame.insert` many times, which has poor performance.  Consider joining all columns at once using pd.concat(axis=1) instead. To get a de-fragmented frame, use `newframe = frame.copy()`\n",
      "  X_train_LM[\n",
      "C:\\Users\\izara\\AppData\\Local\\Temp\\ipykernel_18356\\739164516.py:3: PerformanceWarning: DataFrame is highly fragmented.  This is usually the result of calling `frame.insert` many times, which has poor performance.  Consider joining all columns at once using pd.concat(axis=1) instead. To get a de-fragmented frame, use `newframe = frame.copy()`\n",
      "  X_train_LM[\n",
      "C:\\Users\\izara\\AppData\\Local\\Temp\\ipykernel_18356\\739164516.py:3: PerformanceWarning: DataFrame is highly fragmented.  This is usually the result of calling `frame.insert` many times, which has poor performance.  Consider joining all columns at once using pd.concat(axis=1) instead. To get a de-fragmented frame, use `newframe = frame.copy()`\n",
      "  X_train_LM[\n",
      "C:\\Users\\izara\\AppData\\Local\\Temp\\ipykernel_18356\\739164516.py:3: PerformanceWarning: DataFrame is highly fragmented.  This is usually the result of calling `frame.insert` many times, which has poor performance.  Consider joining all columns at once using pd.concat(axis=1) instead. To get a de-fragmented frame, use `newframe = frame.copy()`\n",
      "  X_train_LM[\n",
      "C:\\Users\\izara\\AppData\\Local\\Temp\\ipykernel_18356\\739164516.py:3: PerformanceWarning: DataFrame is highly fragmented.  This is usually the result of calling `frame.insert` many times, which has poor performance.  Consider joining all columns at once using pd.concat(axis=1) instead. To get a de-fragmented frame, use `newframe = frame.copy()`\n",
      "  X_train_LM[\n",
      "C:\\Users\\izara\\AppData\\Local\\Temp\\ipykernel_18356\\739164516.py:3: PerformanceWarning: DataFrame is highly fragmented.  This is usually the result of calling `frame.insert` many times, which has poor performance.  Consider joining all columns at once using pd.concat(axis=1) instead. To get a de-fragmented frame, use `newframe = frame.copy()`\n",
      "  X_train_LM[\n",
      "C:\\Users\\izara\\AppData\\Local\\Temp\\ipykernel_18356\\739164516.py:3: PerformanceWarning: DataFrame is highly fragmented.  This is usually the result of calling `frame.insert` many times, which has poor performance.  Consider joining all columns at once using pd.concat(axis=1) instead. To get a de-fragmented frame, use `newframe = frame.copy()`\n",
      "  X_train_LM[\n",
      "C:\\Users\\izara\\AppData\\Local\\Temp\\ipykernel_18356\\739164516.py:3: PerformanceWarning: DataFrame is highly fragmented.  This is usually the result of calling `frame.insert` many times, which has poor performance.  Consider joining all columns at once using pd.concat(axis=1) instead. To get a de-fragmented frame, use `newframe = frame.copy()`\n",
      "  X_train_LM[\n"
     ]
    },
    {
     "name": "stderr",
     "output_type": "stream",
     "text": [
      "C:\\Users\\izara\\AppData\\Local\\Temp\\ipykernel_18356\\739164516.py:3: PerformanceWarning: DataFrame is highly fragmented.  This is usually the result of calling `frame.insert` many times, which has poor performance.  Consider joining all columns at once using pd.concat(axis=1) instead. To get a de-fragmented frame, use `newframe = frame.copy()`\n",
      "  X_train_LM[\n",
      "C:\\Users\\izara\\AppData\\Local\\Temp\\ipykernel_18356\\739164516.py:3: PerformanceWarning: DataFrame is highly fragmented.  This is usually the result of calling `frame.insert` many times, which has poor performance.  Consider joining all columns at once using pd.concat(axis=1) instead. To get a de-fragmented frame, use `newframe = frame.copy()`\n",
      "  X_train_LM[\n",
      "C:\\Users\\izara\\AppData\\Local\\Temp\\ipykernel_18356\\739164516.py:3: PerformanceWarning: DataFrame is highly fragmented.  This is usually the result of calling `frame.insert` many times, which has poor performance.  Consider joining all columns at once using pd.concat(axis=1) instead. To get a de-fragmented frame, use `newframe = frame.copy()`\n",
      "  X_train_LM[\n",
      "C:\\Users\\izara\\AppData\\Local\\Temp\\ipykernel_18356\\739164516.py:3: PerformanceWarning: DataFrame is highly fragmented.  This is usually the result of calling `frame.insert` many times, which has poor performance.  Consider joining all columns at once using pd.concat(axis=1) instead. To get a de-fragmented frame, use `newframe = frame.copy()`\n",
      "  X_train_LM[\n",
      "C:\\Users\\izara\\AppData\\Local\\Temp\\ipykernel_18356\\739164516.py:3: PerformanceWarning: DataFrame is highly fragmented.  This is usually the result of calling `frame.insert` many times, which has poor performance.  Consider joining all columns at once using pd.concat(axis=1) instead. To get a de-fragmented frame, use `newframe = frame.copy()`\n",
      "  X_train_LM[\n",
      "C:\\Users\\izara\\AppData\\Local\\Temp\\ipykernel_18356\\739164516.py:3: PerformanceWarning: DataFrame is highly fragmented.  This is usually the result of calling `frame.insert` many times, which has poor performance.  Consider joining all columns at once using pd.concat(axis=1) instead. To get a de-fragmented frame, use `newframe = frame.copy()`\n",
      "  X_train_LM[\n",
      "C:\\Users\\izara\\AppData\\Local\\Temp\\ipykernel_18356\\739164516.py:3: PerformanceWarning: DataFrame is highly fragmented.  This is usually the result of calling `frame.insert` many times, which has poor performance.  Consider joining all columns at once using pd.concat(axis=1) instead. To get a de-fragmented frame, use `newframe = frame.copy()`\n",
      "  X_train_LM[\n",
      "C:\\Users\\izara\\AppData\\Local\\Temp\\ipykernel_18356\\739164516.py:3: PerformanceWarning: DataFrame is highly fragmented.  This is usually the result of calling `frame.insert` many times, which has poor performance.  Consider joining all columns at once using pd.concat(axis=1) instead. To get a de-fragmented frame, use `newframe = frame.copy()`\n",
      "  X_train_LM[\n",
      "C:\\Users\\izara\\AppData\\Local\\Temp\\ipykernel_18356\\739164516.py:3: PerformanceWarning: DataFrame is highly fragmented.  This is usually the result of calling `frame.insert` many times, which has poor performance.  Consider joining all columns at once using pd.concat(axis=1) instead. To get a de-fragmented frame, use `newframe = frame.copy()`\n",
      "  X_train_LM[\n",
      "C:\\Users\\izara\\AppData\\Local\\Temp\\ipykernel_18356\\739164516.py:3: PerformanceWarning: DataFrame is highly fragmented.  This is usually the result of calling `frame.insert` many times, which has poor performance.  Consider joining all columns at once using pd.concat(axis=1) instead. To get a de-fragmented frame, use `newframe = frame.copy()`\n",
      "  X_train_LM[\n",
      "C:\\Users\\izara\\AppData\\Local\\Temp\\ipykernel_18356\\739164516.py:3: PerformanceWarning: DataFrame is highly fragmented.  This is usually the result of calling `frame.insert` many times, which has poor performance.  Consider joining all columns at once using pd.concat(axis=1) instead. To get a de-fragmented frame, use `newframe = frame.copy()`\n",
      "  X_train_LM[\n",
      "C:\\Users\\izara\\AppData\\Local\\Temp\\ipykernel_18356\\739164516.py:3: PerformanceWarning: DataFrame is highly fragmented.  This is usually the result of calling `frame.insert` many times, which has poor performance.  Consider joining all columns at once using pd.concat(axis=1) instead. To get a de-fragmented frame, use `newframe = frame.copy()`\n",
      "  X_train_LM[\n",
      "C:\\Users\\izara\\AppData\\Local\\Temp\\ipykernel_18356\\739164516.py:3: PerformanceWarning: DataFrame is highly fragmented.  This is usually the result of calling `frame.insert` many times, which has poor performance.  Consider joining all columns at once using pd.concat(axis=1) instead. To get a de-fragmented frame, use `newframe = frame.copy()`\n",
      "  X_train_LM[\n",
      "C:\\Users\\izara\\AppData\\Local\\Temp\\ipykernel_18356\\739164516.py:3: PerformanceWarning: DataFrame is highly fragmented.  This is usually the result of calling `frame.insert` many times, which has poor performance.  Consider joining all columns at once using pd.concat(axis=1) instead. To get a de-fragmented frame, use `newframe = frame.copy()`\n",
      "  X_train_LM[\n",
      "C:\\Users\\izara\\AppData\\Local\\Temp\\ipykernel_18356\\739164516.py:3: PerformanceWarning: DataFrame is highly fragmented.  This is usually the result of calling `frame.insert` many times, which has poor performance.  Consider joining all columns at once using pd.concat(axis=1) instead. To get a de-fragmented frame, use `newframe = frame.copy()`\n",
      "  X_train_LM[\n",
      "C:\\Users\\izara\\AppData\\Local\\Temp\\ipykernel_18356\\739164516.py:3: PerformanceWarning: DataFrame is highly fragmented.  This is usually the result of calling `frame.insert` many times, which has poor performance.  Consider joining all columns at once using pd.concat(axis=1) instead. To get a de-fragmented frame, use `newframe = frame.copy()`\n",
      "  X_train_LM[\n",
      "C:\\Users\\izara\\AppData\\Local\\Temp\\ipykernel_18356\\739164516.py:3: PerformanceWarning: DataFrame is highly fragmented.  This is usually the result of calling `frame.insert` many times, which has poor performance.  Consider joining all columns at once using pd.concat(axis=1) instead. To get a de-fragmented frame, use `newframe = frame.copy()`\n",
      "  X_train_LM[\n",
      "C:\\Users\\izara\\AppData\\Local\\Temp\\ipykernel_18356\\739164516.py:3: PerformanceWarning: DataFrame is highly fragmented.  This is usually the result of calling `frame.insert` many times, which has poor performance.  Consider joining all columns at once using pd.concat(axis=1) instead. To get a de-fragmented frame, use `newframe = frame.copy()`\n",
      "  X_train_LM[\n",
      "C:\\Users\\izara\\AppData\\Local\\Temp\\ipykernel_18356\\739164516.py:3: PerformanceWarning: DataFrame is highly fragmented.  This is usually the result of calling `frame.insert` many times, which has poor performance.  Consider joining all columns at once using pd.concat(axis=1) instead. To get a de-fragmented frame, use `newframe = frame.copy()`\n",
      "  X_train_LM[\n",
      "C:\\Users\\izara\\AppData\\Local\\Temp\\ipykernel_18356\\739164516.py:3: PerformanceWarning: DataFrame is highly fragmented.  This is usually the result of calling `frame.insert` many times, which has poor performance.  Consider joining all columns at once using pd.concat(axis=1) instead. To get a de-fragmented frame, use `newframe = frame.copy()`\n",
      "  X_train_LM[\n",
      "C:\\Users\\izara\\AppData\\Local\\Temp\\ipykernel_18356\\739164516.py:3: PerformanceWarning: DataFrame is highly fragmented.  This is usually the result of calling `frame.insert` many times, which has poor performance.  Consider joining all columns at once using pd.concat(axis=1) instead. To get a de-fragmented frame, use `newframe = frame.copy()`\n",
      "  X_train_LM[\n",
      "C:\\Users\\izara\\AppData\\Local\\Temp\\ipykernel_18356\\739164516.py:3: PerformanceWarning: DataFrame is highly fragmented.  This is usually the result of calling `frame.insert` many times, which has poor performance.  Consider joining all columns at once using pd.concat(axis=1) instead. To get a de-fragmented frame, use `newframe = frame.copy()`\n",
      "  X_train_LM[\n",
      "C:\\Users\\izara\\AppData\\Local\\Temp\\ipykernel_18356\\739164516.py:3: PerformanceWarning: DataFrame is highly fragmented.  This is usually the result of calling `frame.insert` many times, which has poor performance.  Consider joining all columns at once using pd.concat(axis=1) instead. To get a de-fragmented frame, use `newframe = frame.copy()`\n",
      "  X_train_LM[\n",
      "C:\\Users\\izara\\AppData\\Local\\Temp\\ipykernel_18356\\739164516.py:3: PerformanceWarning: DataFrame is highly fragmented.  This is usually the result of calling `frame.insert` many times, which has poor performance.  Consider joining all columns at once using pd.concat(axis=1) instead. To get a de-fragmented frame, use `newframe = frame.copy()`\n",
      "  X_train_LM[\n",
      "C:\\Users\\izara\\AppData\\Local\\Temp\\ipykernel_18356\\739164516.py:3: PerformanceWarning: DataFrame is highly fragmented.  This is usually the result of calling `frame.insert` many times, which has poor performance.  Consider joining all columns at once using pd.concat(axis=1) instead. To get a de-fragmented frame, use `newframe = frame.copy()`\n",
      "  X_train_LM[\n",
      "C:\\Users\\izara\\AppData\\Local\\Temp\\ipykernel_18356\\739164516.py:3: PerformanceWarning: DataFrame is highly fragmented.  This is usually the result of calling `frame.insert` many times, which has poor performance.  Consider joining all columns at once using pd.concat(axis=1) instead. To get a de-fragmented frame, use `newframe = frame.copy()`\n",
      "  X_train_LM[\n",
      "C:\\Users\\izara\\AppData\\Local\\Temp\\ipykernel_18356\\739164516.py:3: PerformanceWarning: DataFrame is highly fragmented.  This is usually the result of calling `frame.insert` many times, which has poor performance.  Consider joining all columns at once using pd.concat(axis=1) instead. To get a de-fragmented frame, use `newframe = frame.copy()`\n",
      "  X_train_LM[\n"
     ]
    },
    {
     "name": "stderr",
     "output_type": "stream",
     "text": [
      "C:\\Users\\izara\\AppData\\Local\\Temp\\ipykernel_18356\\739164516.py:3: PerformanceWarning: DataFrame is highly fragmented.  This is usually the result of calling `frame.insert` many times, which has poor performance.  Consider joining all columns at once using pd.concat(axis=1) instead. To get a de-fragmented frame, use `newframe = frame.copy()`\n",
      "  X_train_LM[\n",
      "C:\\Users\\izara\\AppData\\Local\\Temp\\ipykernel_18356\\739164516.py:3: PerformanceWarning: DataFrame is highly fragmented.  This is usually the result of calling `frame.insert` many times, which has poor performance.  Consider joining all columns at once using pd.concat(axis=1) instead. To get a de-fragmented frame, use `newframe = frame.copy()`\n",
      "  X_train_LM[\n",
      "C:\\Users\\izara\\AppData\\Local\\Temp\\ipykernel_18356\\739164516.py:3: PerformanceWarning: DataFrame is highly fragmented.  This is usually the result of calling `frame.insert` many times, which has poor performance.  Consider joining all columns at once using pd.concat(axis=1) instead. To get a de-fragmented frame, use `newframe = frame.copy()`\n",
      "  X_train_LM[\n",
      "C:\\Users\\izara\\AppData\\Local\\Temp\\ipykernel_18356\\739164516.py:3: PerformanceWarning: DataFrame is highly fragmented.  This is usually the result of calling `frame.insert` many times, which has poor performance.  Consider joining all columns at once using pd.concat(axis=1) instead. To get a de-fragmented frame, use `newframe = frame.copy()`\n",
      "  X_train_LM[\n",
      "C:\\Users\\izara\\AppData\\Local\\Temp\\ipykernel_18356\\739164516.py:3: PerformanceWarning: DataFrame is highly fragmented.  This is usually the result of calling `frame.insert` many times, which has poor performance.  Consider joining all columns at once using pd.concat(axis=1) instead. To get a de-fragmented frame, use `newframe = frame.copy()`\n",
      "  X_train_LM[\n",
      "C:\\Users\\izara\\AppData\\Local\\Temp\\ipykernel_18356\\739164516.py:3: PerformanceWarning: DataFrame is highly fragmented.  This is usually the result of calling `frame.insert` many times, which has poor performance.  Consider joining all columns at once using pd.concat(axis=1) instead. To get a de-fragmented frame, use `newframe = frame.copy()`\n",
      "  X_train_LM[\n",
      "C:\\Users\\izara\\AppData\\Local\\Temp\\ipykernel_18356\\739164516.py:3: PerformanceWarning: DataFrame is highly fragmented.  This is usually the result of calling `frame.insert` many times, which has poor performance.  Consider joining all columns at once using pd.concat(axis=1) instead. To get a de-fragmented frame, use `newframe = frame.copy()`\n",
      "  X_train_LM[\n",
      "C:\\Users\\izara\\AppData\\Local\\Temp\\ipykernel_18356\\739164516.py:3: PerformanceWarning: DataFrame is highly fragmented.  This is usually the result of calling `frame.insert` many times, which has poor performance.  Consider joining all columns at once using pd.concat(axis=1) instead. To get a de-fragmented frame, use `newframe = frame.copy()`\n",
      "  X_train_LM[\n",
      "C:\\Users\\izara\\AppData\\Local\\Temp\\ipykernel_18356\\739164516.py:3: PerformanceWarning: DataFrame is highly fragmented.  This is usually the result of calling `frame.insert` many times, which has poor performance.  Consider joining all columns at once using pd.concat(axis=1) instead. To get a de-fragmented frame, use `newframe = frame.copy()`\n",
      "  X_train_LM[\n",
      "C:\\Users\\izara\\AppData\\Local\\Temp\\ipykernel_18356\\739164516.py:3: PerformanceWarning: DataFrame is highly fragmented.  This is usually the result of calling `frame.insert` many times, which has poor performance.  Consider joining all columns at once using pd.concat(axis=1) instead. To get a de-fragmented frame, use `newframe = frame.copy()`\n",
      "  X_train_LM[\n",
      "C:\\Users\\izara\\AppData\\Local\\Temp\\ipykernel_18356\\739164516.py:3: PerformanceWarning: DataFrame is highly fragmented.  This is usually the result of calling `frame.insert` many times, which has poor performance.  Consider joining all columns at once using pd.concat(axis=1) instead. To get a de-fragmented frame, use `newframe = frame.copy()`\n",
      "  X_train_LM[\n",
      "C:\\Users\\izara\\AppData\\Local\\Temp\\ipykernel_18356\\739164516.py:3: PerformanceWarning: DataFrame is highly fragmented.  This is usually the result of calling `frame.insert` many times, which has poor performance.  Consider joining all columns at once using pd.concat(axis=1) instead. To get a de-fragmented frame, use `newframe = frame.copy()`\n",
      "  X_train_LM[\n",
      "C:\\Users\\izara\\AppData\\Local\\Temp\\ipykernel_18356\\739164516.py:3: PerformanceWarning: DataFrame is highly fragmented.  This is usually the result of calling `frame.insert` many times, which has poor performance.  Consider joining all columns at once using pd.concat(axis=1) instead. To get a de-fragmented frame, use `newframe = frame.copy()`\n",
      "  X_train_LM[\n",
      "C:\\Users\\izara\\AppData\\Local\\Temp\\ipykernel_18356\\739164516.py:3: PerformanceWarning: DataFrame is highly fragmented.  This is usually the result of calling `frame.insert` many times, which has poor performance.  Consider joining all columns at once using pd.concat(axis=1) instead. To get a de-fragmented frame, use `newframe = frame.copy()`\n",
      "  X_train_LM[\n",
      "C:\\Users\\izara\\AppData\\Local\\Temp\\ipykernel_18356\\739164516.py:3: PerformanceWarning: DataFrame is highly fragmented.  This is usually the result of calling `frame.insert` many times, which has poor performance.  Consider joining all columns at once using pd.concat(axis=1) instead. To get a de-fragmented frame, use `newframe = frame.copy()`\n",
      "  X_train_LM[\n",
      "C:\\Users\\izara\\AppData\\Local\\Temp\\ipykernel_18356\\739164516.py:3: PerformanceWarning: DataFrame is highly fragmented.  This is usually the result of calling `frame.insert` many times, which has poor performance.  Consider joining all columns at once using pd.concat(axis=1) instead. To get a de-fragmented frame, use `newframe = frame.copy()`\n",
      "  X_train_LM[\n",
      "C:\\Users\\izara\\AppData\\Local\\Temp\\ipykernel_18356\\739164516.py:3: PerformanceWarning: DataFrame is highly fragmented.  This is usually the result of calling `frame.insert` many times, which has poor performance.  Consider joining all columns at once using pd.concat(axis=1) instead. To get a de-fragmented frame, use `newframe = frame.copy()`\n",
      "  X_train_LM[\n",
      "C:\\Users\\izara\\AppData\\Local\\Temp\\ipykernel_18356\\739164516.py:3: PerformanceWarning: DataFrame is highly fragmented.  This is usually the result of calling `frame.insert` many times, which has poor performance.  Consider joining all columns at once using pd.concat(axis=1) instead. To get a de-fragmented frame, use `newframe = frame.copy()`\n",
      "  X_train_LM[\n",
      "C:\\Users\\izara\\AppData\\Local\\Temp\\ipykernel_18356\\739164516.py:3: PerformanceWarning: DataFrame is highly fragmented.  This is usually the result of calling `frame.insert` many times, which has poor performance.  Consider joining all columns at once using pd.concat(axis=1) instead. To get a de-fragmented frame, use `newframe = frame.copy()`\n",
      "  X_train_LM[\n",
      "C:\\Users\\izara\\AppData\\Local\\Temp\\ipykernel_18356\\739164516.py:3: PerformanceWarning: DataFrame is highly fragmented.  This is usually the result of calling `frame.insert` many times, which has poor performance.  Consider joining all columns at once using pd.concat(axis=1) instead. To get a de-fragmented frame, use `newframe = frame.copy()`\n",
      "  X_train_LM[\n",
      "C:\\Users\\izara\\AppData\\Local\\Temp\\ipykernel_18356\\739164516.py:3: PerformanceWarning: DataFrame is highly fragmented.  This is usually the result of calling `frame.insert` many times, which has poor performance.  Consider joining all columns at once using pd.concat(axis=1) instead. To get a de-fragmented frame, use `newframe = frame.copy()`\n",
      "  X_train_LM[\n",
      "C:\\Users\\izara\\AppData\\Local\\Temp\\ipykernel_18356\\739164516.py:3: PerformanceWarning: DataFrame is highly fragmented.  This is usually the result of calling `frame.insert` many times, which has poor performance.  Consider joining all columns at once using pd.concat(axis=1) instead. To get a de-fragmented frame, use `newframe = frame.copy()`\n",
      "  X_train_LM[\n",
      "C:\\Users\\izara\\AppData\\Local\\Temp\\ipykernel_18356\\739164516.py:3: PerformanceWarning: DataFrame is highly fragmented.  This is usually the result of calling `frame.insert` many times, which has poor performance.  Consider joining all columns at once using pd.concat(axis=1) instead. To get a de-fragmented frame, use `newframe = frame.copy()`\n",
      "  X_train_LM[\n",
      "C:\\Users\\izara\\AppData\\Local\\Temp\\ipykernel_18356\\739164516.py:3: PerformanceWarning: DataFrame is highly fragmented.  This is usually the result of calling `frame.insert` many times, which has poor performance.  Consider joining all columns at once using pd.concat(axis=1) instead. To get a de-fragmented frame, use `newframe = frame.copy()`\n",
      "  X_train_LM[\n",
      "C:\\Users\\izara\\AppData\\Local\\Temp\\ipykernel_18356\\739164516.py:3: PerformanceWarning: DataFrame is highly fragmented.  This is usually the result of calling `frame.insert` many times, which has poor performance.  Consider joining all columns at once using pd.concat(axis=1) instead. To get a de-fragmented frame, use `newframe = frame.copy()`\n",
      "  X_train_LM[\n",
      "C:\\Users\\izara\\AppData\\Local\\Temp\\ipykernel_18356\\739164516.py:3: PerformanceWarning: DataFrame is highly fragmented.  This is usually the result of calling `frame.insert` many times, which has poor performance.  Consider joining all columns at once using pd.concat(axis=1) instead. To get a de-fragmented frame, use `newframe = frame.copy()`\n",
      "  X_train_LM[\n",
      "C:\\Users\\izara\\AppData\\Local\\Temp\\ipykernel_18356\\739164516.py:3: PerformanceWarning: DataFrame is highly fragmented.  This is usually the result of calling `frame.insert` many times, which has poor performance.  Consider joining all columns at once using pd.concat(axis=1) instead. To get a de-fragmented frame, use `newframe = frame.copy()`\n",
      "  X_train_LM[\n"
     ]
    }
   ],
   "source": [
    "# добавляем закодированные признаки в X_train_ohe\n",
    "# encoder_ohe.get_feature_names_out() позволяет получить названия колонок\n",
    "X_train_LM[\n",
    "    encoder_ohe.get_feature_names_out()\n",
    "] = encoder_ohe.transform(X_train_LM[features_categorical])"
   ]
  },
  {
   "cell_type": "code",
   "execution_count": 65,
   "metadata": {
    "id": "lQQWZKsaMcy0"
   },
   "outputs": [],
   "source": [
    "# удаляем незакодированные категориальные признаки (изначальные колонки)\n",
    "X_train_LM = X_train_LM.drop(features_categorical, axis=1)"
   ]
  },
  {
   "cell_type": "code",
   "execution_count": 66,
   "metadata": {
    "colab": {
     "base_uri": "https://localhost:8080/",
     "height": 300
    },
    "id": "ND6G3EDuMsrl",
    "outputId": "a56b9102-4307-4a3d-ed70-8f2d72e5bbb0"
   },
   "outputs": [
    {
     "data": {
      "text/html": [
       "<div>\n",
       "<style scoped>\n",
       "    .dataframe tbody tr th:only-of-type {\n",
       "        vertical-align: middle;\n",
       "    }\n",
       "\n",
       "    .dataframe tbody tr th {\n",
       "        vertical-align: top;\n",
       "    }\n",
       "\n",
       "    .dataframe thead th {\n",
       "        text-align: right;\n",
       "    }\n",
       "</style>\n",
       "<table border=\"1\" class=\"dataframe\">\n",
       "  <thead>\n",
       "    <tr style=\"text-align: right;\">\n",
       "      <th></th>\n",
       "      <th>RegistrationYear</th>\n",
       "      <th>Gearbox</th>\n",
       "      <th>Power</th>\n",
       "      <th>Kilometer</th>\n",
       "      <th>Repaired</th>\n",
       "      <th>VehicleType_convertible</th>\n",
       "      <th>VehicleType_coupe</th>\n",
       "      <th>VehicleType_other</th>\n",
       "      <th>VehicleType_sedan</th>\n",
       "      <th>VehicleType_small</th>\n",
       "      <th>...</th>\n",
       "      <th>Brand_saab</th>\n",
       "      <th>Brand_seat</th>\n",
       "      <th>Brand_skoda</th>\n",
       "      <th>Brand_smart</th>\n",
       "      <th>Brand_sonstige_autos</th>\n",
       "      <th>Brand_subaru</th>\n",
       "      <th>Brand_suzuki</th>\n",
       "      <th>Brand_toyota</th>\n",
       "      <th>Brand_volkswagen</th>\n",
       "      <th>Brand_volvo</th>\n",
       "    </tr>\n",
       "  </thead>\n",
       "  <tbody>\n",
       "    <tr>\n",
       "      <th>329429</th>\n",
       "      <td>1.025010</td>\n",
       "      <td>-0.549066</td>\n",
       "      <td>-0.523584</td>\n",
       "      <td>0.410892</td>\n",
       "      <td>-0.317088</td>\n",
       "      <td>0.0</td>\n",
       "      <td>0.0</td>\n",
       "      <td>0.0</td>\n",
       "      <td>0.0</td>\n",
       "      <td>0.0</td>\n",
       "      <td>...</td>\n",
       "      <td>0.0</td>\n",
       "      <td>0.0</td>\n",
       "      <td>0.0</td>\n",
       "      <td>0.0</td>\n",
       "      <td>0.0</td>\n",
       "      <td>0.0</td>\n",
       "      <td>0.0</td>\n",
       "      <td>0.0</td>\n",
       "      <td>0.0</td>\n",
       "      <td>0.0</td>\n",
       "    </tr>\n",
       "    <tr>\n",
       "      <th>13248</th>\n",
       "      <td>0.093503</td>\n",
       "      <td>-0.549066</td>\n",
       "      <td>-0.523584</td>\n",
       "      <td>0.410892</td>\n",
       "      <td>-0.317088</td>\n",
       "      <td>0.0</td>\n",
       "      <td>0.0</td>\n",
       "      <td>0.0</td>\n",
       "      <td>0.0</td>\n",
       "      <td>0.0</td>\n",
       "      <td>...</td>\n",
       "      <td>0.0</td>\n",
       "      <td>0.0</td>\n",
       "      <td>0.0</td>\n",
       "      <td>0.0</td>\n",
       "      <td>0.0</td>\n",
       "      <td>0.0</td>\n",
       "      <td>0.0</td>\n",
       "      <td>0.0</td>\n",
       "      <td>0.0</td>\n",
       "      <td>0.0</td>\n",
       "    </tr>\n",
       "    <tr>\n",
       "      <th>58178</th>\n",
       "      <td>-0.465401</td>\n",
       "      <td>-0.549066</td>\n",
       "      <td>-1.413121</td>\n",
       "      <td>0.410892</td>\n",
       "      <td>-0.317088</td>\n",
       "      <td>0.0</td>\n",
       "      <td>0.0</td>\n",
       "      <td>0.0</td>\n",
       "      <td>0.0</td>\n",
       "      <td>1.0</td>\n",
       "      <td>...</td>\n",
       "      <td>0.0</td>\n",
       "      <td>0.0</td>\n",
       "      <td>0.0</td>\n",
       "      <td>0.0</td>\n",
       "      <td>0.0</td>\n",
       "      <td>0.0</td>\n",
       "      <td>0.0</td>\n",
       "      <td>0.0</td>\n",
       "      <td>0.0</td>\n",
       "      <td>0.0</td>\n",
       "    </tr>\n",
       "    <tr>\n",
       "      <th>343762</th>\n",
       "      <td>-0.465401</td>\n",
       "      <td>1.821276</td>\n",
       "      <td>0.810723</td>\n",
       "      <td>0.410892</td>\n",
       "      <td>-0.317088</td>\n",
       "      <td>0.0</td>\n",
       "      <td>0.0</td>\n",
       "      <td>0.0</td>\n",
       "      <td>0.0</td>\n",
       "      <td>0.0</td>\n",
       "      <td>...</td>\n",
       "      <td>0.0</td>\n",
       "      <td>0.0</td>\n",
       "      <td>0.0</td>\n",
       "      <td>0.0</td>\n",
       "      <td>0.0</td>\n",
       "      <td>0.0</td>\n",
       "      <td>0.0</td>\n",
       "      <td>0.0</td>\n",
       "      <td>0.0</td>\n",
       "      <td>0.0</td>\n",
       "    </tr>\n",
       "    <tr>\n",
       "      <th>302191</th>\n",
       "      <td>-0.465401</td>\n",
       "      <td>-0.549066</td>\n",
       "      <td>0.192989</td>\n",
       "      <td>0.410892</td>\n",
       "      <td>3.153699</td>\n",
       "      <td>0.0</td>\n",
       "      <td>0.0</td>\n",
       "      <td>0.0</td>\n",
       "      <td>0.0</td>\n",
       "      <td>0.0</td>\n",
       "      <td>...</td>\n",
       "      <td>0.0</td>\n",
       "      <td>0.0</td>\n",
       "      <td>0.0</td>\n",
       "      <td>0.0</td>\n",
       "      <td>0.0</td>\n",
       "      <td>0.0</td>\n",
       "      <td>0.0</td>\n",
       "      <td>0.0</td>\n",
       "      <td>0.0</td>\n",
       "      <td>0.0</td>\n",
       "    </tr>\n",
       "  </tbody>\n",
       "</table>\n",
       "<p>5 rows × 293 columns</p>\n",
       "</div>"
      ],
      "text/plain": [
       "        RegistrationYear   Gearbox     Power  Kilometer  Repaired  \\\n",
       "329429          1.025010 -0.549066 -0.523584   0.410892 -0.317088   \n",
       "13248           0.093503 -0.549066 -0.523584   0.410892 -0.317088   \n",
       "58178          -0.465401 -0.549066 -1.413121   0.410892 -0.317088   \n",
       "343762         -0.465401  1.821276  0.810723   0.410892 -0.317088   \n",
       "302191         -0.465401 -0.549066  0.192989   0.410892  3.153699   \n",
       "\n",
       "        VehicleType_convertible  VehicleType_coupe  VehicleType_other  \\\n",
       "329429                      0.0                0.0                0.0   \n",
       "13248                       0.0                0.0                0.0   \n",
       "58178                       0.0                0.0                0.0   \n",
       "343762                      0.0                0.0                0.0   \n",
       "302191                      0.0                0.0                0.0   \n",
       "\n",
       "        VehicleType_sedan  VehicleType_small  ...  Brand_saab  Brand_seat  \\\n",
       "329429                0.0                0.0  ...         0.0         0.0   \n",
       "13248                 0.0                0.0  ...         0.0         0.0   \n",
       "58178                 0.0                1.0  ...         0.0         0.0   \n",
       "343762                0.0                0.0  ...         0.0         0.0   \n",
       "302191                0.0                0.0  ...         0.0         0.0   \n",
       "\n",
       "        Brand_skoda  Brand_smart  Brand_sonstige_autos  Brand_subaru  \\\n",
       "329429          0.0          0.0                   0.0           0.0   \n",
       "13248           0.0          0.0                   0.0           0.0   \n",
       "58178           0.0          0.0                   0.0           0.0   \n",
       "343762          0.0          0.0                   0.0           0.0   \n",
       "302191          0.0          0.0                   0.0           0.0   \n",
       "\n",
       "        Brand_suzuki  Brand_toyota  Brand_volkswagen  Brand_volvo  \n",
       "329429           0.0           0.0               0.0          0.0  \n",
       "13248            0.0           0.0               0.0          0.0  \n",
       "58178            0.0           0.0               0.0          0.0  \n",
       "343762           0.0           0.0               0.0          0.0  \n",
       "302191           0.0           0.0               0.0          0.0  \n",
       "\n",
       "[5 rows x 293 columns]"
      ]
     },
     "execution_count": 66,
     "metadata": {},
     "output_type": "execute_result"
    }
   ],
   "source": [
    "# создаём скелер\n",
    "scaler = StandardScaler()\n",
    "\n",
    "# обучаем его на численных признаках тренировочной выборки, трансформируем её же\n",
    "X_train_LM[features_quant] = scaler.fit_transform(X_train_LM[features_quant])\n",
    "\n",
    "# смотрим на результат\n",
    "X_train_LM.head()"
   ]
  },
  {
   "cell_type": "code",
   "execution_count": 67,
   "metadata": {
    "colab": {
     "base_uri": "https://localhost:8080/",
     "height": 49
    },
    "id": "5Vh6Nl0OZfrt",
    "outputId": "bd6c6613-4075-4892-f042-23576a648ca8"
   },
   "outputs": [
    {
     "data": {
      "text/html": [
       "<div>\n",
       "<style scoped>\n",
       "    .dataframe tbody tr th:only-of-type {\n",
       "        vertical-align: middle;\n",
       "    }\n",
       "\n",
       "    .dataframe tbody tr th {\n",
       "        vertical-align: top;\n",
       "    }\n",
       "\n",
       "    .dataframe thead th {\n",
       "        text-align: right;\n",
       "    }\n",
       "</style>\n",
       "<table border=\"1\" class=\"dataframe\">\n",
       "  <thead>\n",
       "    <tr style=\"text-align: right;\">\n",
       "      <th></th>\n",
       "      <th>Model</th>\n",
       "      <th>fit time, sec</th>\n",
       "      <th>predict time, sec</th>\n",
       "      <th>RMSE</th>\n",
       "    </tr>\n",
       "  </thead>\n",
       "  <tbody>\n",
       "  </tbody>\n",
       "</table>\n",
       "</div>"
      ],
      "text/plain": [
       "Empty DataFrame\n",
       "Columns: [Model, fit time, sec, predict time, sec, RMSE]\n",
       "Index: []"
      ]
     },
     "execution_count": 67,
     "metadata": {},
     "output_type": "execute_result"
    }
   ],
   "source": [
    "# Таблица результатов\n",
    "model_rep = pd.DataFrame({\"Model\": [],\n",
    "                          \"fit time, sec\": [],\n",
    "                          \"predict time, sec\": [],\n",
    "                          \"RMSE\": []\n",
    "                          })\n",
    "model_rep"
   ]
  },
  {
   "cell_type": "markdown",
   "metadata": {
    "id": "xQD5l4sez83x"
   },
   "source": [
    "### Линейная модель"
   ]
  },
  {
   "cell_type": "code",
   "execution_count": 68,
   "metadata": {
    "id": "i9F6LBkAz83x"
   },
   "outputs": [],
   "source": [
    "LM = LinearRegression()\n",
    "params = {'fit_intercept':[True, False]}\n",
    "clf = GridSearchCV(LM, params, cv = 3, scoring='neg_root_mean_squared_error', n_jobs=-1)\n",
    "clf.fit(X_train_LM, target_train);"
   ]
  },
  {
   "cell_type": "code",
   "execution_count": 69,
   "metadata": {
    "colab": {
     "base_uri": "https://localhost:8080/",
     "height": 112
    },
    "id": "el88_4W4z83x",
    "outputId": "e1cc3943-a8b2-4ece-d3c0-73eb0d561b06"
   },
   "outputs": [
    {
     "data": {
      "text/html": [
       "<div>\n",
       "<style scoped>\n",
       "    .dataframe tbody tr th:only-of-type {\n",
       "        vertical-align: middle;\n",
       "    }\n",
       "\n",
       "    .dataframe tbody tr th {\n",
       "        vertical-align: top;\n",
       "    }\n",
       "\n",
       "    .dataframe thead th {\n",
       "        text-align: right;\n",
       "    }\n",
       "</style>\n",
       "<table border=\"1\" class=\"dataframe\">\n",
       "  <thead>\n",
       "    <tr style=\"text-align: right;\">\n",
       "      <th></th>\n",
       "      <th>mean_fit_time</th>\n",
       "      <th>std_fit_time</th>\n",
       "      <th>mean_score_time</th>\n",
       "      <th>std_score_time</th>\n",
       "      <th>param_fit_intercept</th>\n",
       "      <th>params</th>\n",
       "      <th>split0_test_score</th>\n",
       "      <th>split1_test_score</th>\n",
       "      <th>split2_test_score</th>\n",
       "      <th>mean_test_score</th>\n",
       "      <th>std_test_score</th>\n",
       "      <th>rank_test_score</th>\n",
       "    </tr>\n",
       "  </thead>\n",
       "  <tbody>\n",
       "    <tr>\n",
       "      <th>0</th>\n",
       "      <td>23.568857</td>\n",
       "      <td>2.709676</td>\n",
       "      <td>0.284704</td>\n",
       "      <td>0.148773</td>\n",
       "      <td>True</td>\n",
       "      <td>{'fit_intercept': True}</td>\n",
       "      <td>-1980.656989</td>\n",
       "      <td>-1999.740511</td>\n",
       "      <td>-2011.505190</td>\n",
       "      <td>-1997.300897</td>\n",
       "      <td>12.711325</td>\n",
       "      <td>1</td>\n",
       "    </tr>\n",
       "    <tr>\n",
       "      <th>1</th>\n",
       "      <td>10.913230</td>\n",
       "      <td>7.772552</td>\n",
       "      <td>0.151571</td>\n",
       "      <td>0.100155</td>\n",
       "      <td>False</td>\n",
       "      <td>{'fit_intercept': False}</td>\n",
       "      <td>-1983.682057</td>\n",
       "      <td>-2001.640092</td>\n",
       "      <td>-2013.582339</td>\n",
       "      <td>-1999.634829</td>\n",
       "      <td>12.288817</td>\n",
       "      <td>2</td>\n",
       "    </tr>\n",
       "  </tbody>\n",
       "</table>\n",
       "</div>"
      ],
      "text/plain": [
       "   mean_fit_time  std_fit_time  mean_score_time  std_score_time  \\\n",
       "0      23.568857      2.709676         0.284704        0.148773   \n",
       "1      10.913230      7.772552         0.151571        0.100155   \n",
       "\n",
       "  param_fit_intercept                    params  split0_test_score  \\\n",
       "0                True   {'fit_intercept': True}       -1980.656989   \n",
       "1               False  {'fit_intercept': False}       -1983.682057   \n",
       "\n",
       "   split1_test_score  split2_test_score  mean_test_score  std_test_score  \\\n",
       "0       -1999.740511       -2011.505190     -1997.300897       12.711325   \n",
       "1       -2001.640092       -2013.582339     -1999.634829       12.288817   \n",
       "\n",
       "   rank_test_score  \n",
       "0                1  \n",
       "1                2  "
      ]
     },
     "execution_count": 69,
     "metadata": {},
     "output_type": "execute_result"
    }
   ],
   "source": [
    "result_ML = pd.DataFrame(clf.cv_results_)\n",
    "result_ML"
   ]
  },
  {
   "cell_type": "code",
   "execution_count": 70,
   "metadata": {
    "colab": {
     "base_uri": "https://localhost:8080/",
     "height": 81
    },
    "id": "hzYoyLWcz83x",
    "outputId": "3bde52c9-cdb1-4612-9053-5f9c78fa6c76",
    "scrolled": true
   },
   "outputs": [
    {
     "name": "stderr",
     "output_type": "stream",
     "text": [
      "C:\\Users\\izara\\AppData\\Local\\Temp\\ipykernel_18356\\2349969958.py:1: FutureWarning: The frame.append method is deprecated and will be removed from pandas in a future version. Use pandas.concat instead.\n",
      "  model_rep = model_rep.append({\"Model\": 'Line Model',\n"
     ]
    },
    {
     "data": {
      "text/html": [
       "<div>\n",
       "<style scoped>\n",
       "    .dataframe tbody tr th:only-of-type {\n",
       "        vertical-align: middle;\n",
       "    }\n",
       "\n",
       "    .dataframe tbody tr th {\n",
       "        vertical-align: top;\n",
       "    }\n",
       "\n",
       "    .dataframe thead th {\n",
       "        text-align: right;\n",
       "    }\n",
       "</style>\n",
       "<table border=\"1\" class=\"dataframe\">\n",
       "  <thead>\n",
       "    <tr style=\"text-align: right;\">\n",
       "      <th></th>\n",
       "      <th>Model</th>\n",
       "      <th>fit time, sec</th>\n",
       "      <th>predict time, sec</th>\n",
       "      <th>RMSE</th>\n",
       "    </tr>\n",
       "  </thead>\n",
       "  <tbody>\n",
       "    <tr>\n",
       "      <th>0</th>\n",
       "      <td>Line Model</td>\n",
       "      <td>23.568857</td>\n",
       "      <td>0.284704</td>\n",
       "      <td>44.69</td>\n",
       "    </tr>\n",
       "  </tbody>\n",
       "</table>\n",
       "</div>"
      ],
      "text/plain": [
       "        Model  fit time, sec  predict time, sec   RMSE\n",
       "0  Line Model      23.568857           0.284704  44.69"
      ]
     },
     "execution_count": 70,
     "metadata": {},
     "output_type": "execute_result"
    }
   ],
   "source": [
    "model_rep = model_rep.append({\"Model\": 'Line Model',\n",
    "                          \"fit time, sec\": result_ML[result_ML['rank_test_score']==1]['mean_fit_time'].values[0],\n",
    "                          \"predict time, sec\": result_ML[result_ML['rank_test_score']==1]['mean_score_time'].values[0],\n",
    "                          \"RMSE\": round((clf.best_score_ * -1)**0.5, 2)\n",
    "                          },\n",
    "                         ignore_index=True)\n",
    "model_rep"
   ]
  },
  {
   "cell_type": "markdown",
   "metadata": {
    "id": "r3ZcnwR4z83y"
   },
   "source": [
    "### CatBoostRegressor"
   ]
  },
  {
   "cell_type": "code",
   "execution_count": 71,
   "metadata": {
    "colab": {
     "base_uri": "https://localhost:8080/"
    },
    "id": "SaSQ7w-6z83y",
    "outputId": "069e373d-a537-4748-f664-72a64487d5c6"
   },
   "outputs": [
    {
     "name": "stdout",
     "output_type": "stream",
     "text": [
      "CPU times: total: 1min 6s\n",
      "Wall time: 1min 4s\n"
     ]
    },
    {
     "data": {
      "text/plain": [
       "GridSearchCV(cv=3,\n",
       "             estimator=<catboost.core.CatBoostRegressor object at 0x000002394C32C760>,\n",
       "             param_grid=[{'learning_rate': [0.1, 0.5, 0.8]}],\n",
       "             scoring='neg_mean_squared_error')"
      ]
     },
     "execution_count": 71,
     "metadata": {},
     "output_type": "execute_result"
    }
   ],
   "source": [
    "%%time\n",
    "model_CBR = ctb.CatBoostRegressor(iterations = 100,\n",
    "                                  random_state=RANDOM_STATE, \n",
    "                                  verbose=False, \n",
    "                                 cat_features = features_categorical)\n",
    "\n",
    "params = [{'learning_rate':[0.1, 0.5, 0.8]}]\n",
    "clf = GridSearchCV(model_CBR, params,\n",
    "                   cv=3,\n",
    "                   scoring='neg_mean_squared_error')\n",
    "clf.fit(features_train, target_train);"
   ]
  },
  {
   "cell_type": "code",
   "execution_count": 72,
   "metadata": {
    "colab": {
     "base_uri": "https://localhost:8080/",
     "height": 143
    },
    "id": "h0ybbXRVz83y",
    "outputId": "4fcf3492-c8a0-41e7-f528-659ec281c1ce"
   },
   "outputs": [
    {
     "data": {
      "text/html": [
       "<div>\n",
       "<style scoped>\n",
       "    .dataframe tbody tr th:only-of-type {\n",
       "        vertical-align: middle;\n",
       "    }\n",
       "\n",
       "    .dataframe tbody tr th {\n",
       "        vertical-align: top;\n",
       "    }\n",
       "\n",
       "    .dataframe thead th {\n",
       "        text-align: right;\n",
       "    }\n",
       "</style>\n",
       "<table border=\"1\" class=\"dataframe\">\n",
       "  <thead>\n",
       "    <tr style=\"text-align: right;\">\n",
       "      <th></th>\n",
       "      <th>mean_fit_time</th>\n",
       "      <th>std_fit_time</th>\n",
       "      <th>mean_score_time</th>\n",
       "      <th>std_score_time</th>\n",
       "      <th>param_learning_rate</th>\n",
       "      <th>params</th>\n",
       "      <th>split0_test_score</th>\n",
       "      <th>split1_test_score</th>\n",
       "      <th>split2_test_score</th>\n",
       "      <th>mean_test_score</th>\n",
       "      <th>std_test_score</th>\n",
       "      <th>rank_test_score</th>\n",
       "    </tr>\n",
       "  </thead>\n",
       "  <tbody>\n",
       "    <tr>\n",
       "      <th>0</th>\n",
       "      <td>6.644301</td>\n",
       "      <td>0.755887</td>\n",
       "      <td>0.086168</td>\n",
       "      <td>0.001542</td>\n",
       "      <td>0.1</td>\n",
       "      <td>{'learning_rate': 0.1}</td>\n",
       "      <td>-2.219956e+06</td>\n",
       "      <td>-2.231702e+06</td>\n",
       "      <td>-2.258689e+06</td>\n",
       "      <td>-2.236782e+06</td>\n",
       "      <td>16215.394248</td>\n",
       "      <td>3</td>\n",
       "    </tr>\n",
       "    <tr>\n",
       "      <th>1</th>\n",
       "      <td>5.983351</td>\n",
       "      <td>0.153204</td>\n",
       "      <td>0.089681</td>\n",
       "      <td>0.004986</td>\n",
       "      <td>0.5</td>\n",
       "      <td>{'learning_rate': 0.5}</td>\n",
       "      <td>-2.015138e+06</td>\n",
       "      <td>-2.020421e+06</td>\n",
       "      <td>-2.031416e+06</td>\n",
       "      <td>-2.022325e+06</td>\n",
       "      <td>6780.446126</td>\n",
       "      <td>1</td>\n",
       "    </tr>\n",
       "    <tr>\n",
       "      <th>2</th>\n",
       "      <td>5.826674</td>\n",
       "      <td>0.039094</td>\n",
       "      <td>0.090013</td>\n",
       "      <td>0.005578</td>\n",
       "      <td>0.8</td>\n",
       "      <td>{'learning_rate': 0.8}</td>\n",
       "      <td>-2.021976e+06</td>\n",
       "      <td>-2.026655e+06</td>\n",
       "      <td>-2.047004e+06</td>\n",
       "      <td>-2.031878e+06</td>\n",
       "      <td>10864.868778</td>\n",
       "      <td>2</td>\n",
       "    </tr>\n",
       "  </tbody>\n",
       "</table>\n",
       "</div>"
      ],
      "text/plain": [
       "   mean_fit_time  std_fit_time  mean_score_time  std_score_time  \\\n",
       "0       6.644301      0.755887         0.086168        0.001542   \n",
       "1       5.983351      0.153204         0.089681        0.004986   \n",
       "2       5.826674      0.039094         0.090013        0.005578   \n",
       "\n",
       "  param_learning_rate                  params  split0_test_score  \\\n",
       "0                 0.1  {'learning_rate': 0.1}      -2.219956e+06   \n",
       "1                 0.5  {'learning_rate': 0.5}      -2.015138e+06   \n",
       "2                 0.8  {'learning_rate': 0.8}      -2.021976e+06   \n",
       "\n",
       "   split1_test_score  split2_test_score  mean_test_score  std_test_score  \\\n",
       "0      -2.231702e+06      -2.258689e+06    -2.236782e+06    16215.394248   \n",
       "1      -2.020421e+06      -2.031416e+06    -2.022325e+06     6780.446126   \n",
       "2      -2.026655e+06      -2.047004e+06    -2.031878e+06    10864.868778   \n",
       "\n",
       "   rank_test_score  \n",
       "0                3  \n",
       "1                1  \n",
       "2                2  "
      ]
     },
     "execution_count": 72,
     "metadata": {},
     "output_type": "execute_result"
    }
   ],
   "source": [
    "result_CBR = pd.DataFrame(clf.cv_results_)\n",
    "result_CBR"
   ]
  },
  {
   "cell_type": "code",
   "execution_count": 73,
   "metadata": {
    "colab": {
     "base_uri": "https://localhost:8080/",
     "height": 112
    },
    "id": "IkBtHpKKz83z",
    "outputId": "127b0ded-3811-4fb9-ef1f-f97688cbf36e",
    "scrolled": true
   },
   "outputs": [
    {
     "name": "stderr",
     "output_type": "stream",
     "text": [
      "C:\\Users\\izara\\AppData\\Local\\Temp\\ipykernel_18356\\2382825269.py:1: FutureWarning: The frame.append method is deprecated and will be removed from pandas in a future version. Use pandas.concat instead.\n",
      "  model_rep = model_rep.append({\"Model\": 'CatBoostRegressor',\n"
     ]
    },
    {
     "data": {
      "text/html": [
       "<div>\n",
       "<style scoped>\n",
       "    .dataframe tbody tr th:only-of-type {\n",
       "        vertical-align: middle;\n",
       "    }\n",
       "\n",
       "    .dataframe tbody tr th {\n",
       "        vertical-align: top;\n",
       "    }\n",
       "\n",
       "    .dataframe thead th {\n",
       "        text-align: right;\n",
       "    }\n",
       "</style>\n",
       "<table border=\"1\" class=\"dataframe\">\n",
       "  <thead>\n",
       "    <tr style=\"text-align: right;\">\n",
       "      <th></th>\n",
       "      <th>Model</th>\n",
       "      <th>fit time, sec</th>\n",
       "      <th>predict time, sec</th>\n",
       "      <th>RMSE</th>\n",
       "    </tr>\n",
       "  </thead>\n",
       "  <tbody>\n",
       "    <tr>\n",
       "      <th>0</th>\n",
       "      <td>Line Model</td>\n",
       "      <td>23.568857</td>\n",
       "      <td>0.284704</td>\n",
       "      <td>44.69</td>\n",
       "    </tr>\n",
       "    <tr>\n",
       "      <th>1</th>\n",
       "      <td>CatBoostRegressor</td>\n",
       "      <td>5.983351</td>\n",
       "      <td>0.089681</td>\n",
       "      <td>1422.08</td>\n",
       "    </tr>\n",
       "  </tbody>\n",
       "</table>\n",
       "</div>"
      ],
      "text/plain": [
       "               Model  fit time, sec  predict time, sec     RMSE\n",
       "0         Line Model      23.568857           0.284704    44.69\n",
       "1  CatBoostRegressor       5.983351           0.089681  1422.08"
      ]
     },
     "execution_count": 73,
     "metadata": {},
     "output_type": "execute_result"
    }
   ],
   "source": [
    "model_rep = model_rep.append({\"Model\": 'CatBoostRegressor',\n",
    "                          \"fit time, sec\": result_CBR[result_CBR['rank_test_score']==1]['mean_fit_time'].values[0],\n",
    "                          \"predict time, sec\": result_CBR[result_CBR['rank_test_score']==1]['mean_score_time'].values[0],\n",
    "                          \"RMSE\": round((clf.best_score_ * -1)**0.5, 2)\n",
    "                          },\n",
    "                         ignore_index=True)\n",
    "model_rep"
   ]
  },
  {
   "cell_type": "markdown",
   "metadata": {
    "id": "x42cdd2dz83z"
   },
   "source": [
    "### LGBMRegressor"
   ]
  },
  {
   "cell_type": "code",
   "execution_count": 74,
   "metadata": {
    "colab": {
     "base_uri": "https://localhost:8080/"
    },
    "id": "QPjHiSyez83z",
    "outputId": "935fdeab-3e96-4e1d-815c-7da9cc7ac460"
   },
   "outputs": [
    {
     "name": "stdout",
     "output_type": "stream",
     "text": [
      "CPU times: total: 8.97 s\n",
      "Wall time: 4.47 s\n"
     ]
    },
    {
     "data": {
      "text/plain": [
       "GridSearchCV(cv=3, estimator=LGBMRegressor(random_state=42),\n",
       "             param_grid=[{'learning_rate': [0.3], 'num_leaves': [11, 50]}],\n",
       "             scoring='neg_mean_squared_error')"
      ]
     },
     "execution_count": 74,
     "metadata": {},
     "output_type": "execute_result"
    }
   ],
   "source": [
    "%%time\n",
    "features_train_2 = features_train.copy()\n",
    "features_train_2[features_categorical] = features_train[features_categorical].astype('category')\n",
    "\n",
    "model_lgbm = LGBMRegressor(random_state=RANDOM_STATE) #, categorical_column=features_categorical)\n",
    "params = [{'num_leaves':[11, 50], \n",
    "                'learning_rate':[0.3]\n",
    "               }]\n",
    "\n",
    "clf = GridSearchCV(model_lgbm, params, scoring='neg_mean_squared_error', cv = 3)\n",
    "clf.fit(features_train_2, target_train);"
   ]
  },
  {
   "cell_type": "code",
   "execution_count": 75,
   "metadata": {
    "colab": {
     "base_uri": "https://localhost:8080/",
     "height": 191
    },
    "id": "49TvHXre-c-A",
    "outputId": "81feacde-180a-4c77-cffc-8499c8ee0f46"
   },
   "outputs": [
    {
     "data": {
      "text/html": [
       "<div>\n",
       "<style scoped>\n",
       "    .dataframe tbody tr th:only-of-type {\n",
       "        vertical-align: middle;\n",
       "    }\n",
       "\n",
       "    .dataframe tbody tr th {\n",
       "        vertical-align: top;\n",
       "    }\n",
       "\n",
       "    .dataframe thead th {\n",
       "        text-align: right;\n",
       "    }\n",
       "</style>\n",
       "<table border=\"1\" class=\"dataframe\">\n",
       "  <thead>\n",
       "    <tr style=\"text-align: right;\">\n",
       "      <th></th>\n",
       "      <th>mean_fit_time</th>\n",
       "      <th>std_fit_time</th>\n",
       "      <th>mean_score_time</th>\n",
       "      <th>std_score_time</th>\n",
       "      <th>param_learning_rate</th>\n",
       "      <th>param_num_leaves</th>\n",
       "      <th>params</th>\n",
       "      <th>split0_test_score</th>\n",
       "      <th>split1_test_score</th>\n",
       "      <th>split2_test_score</th>\n",
       "      <th>mean_test_score</th>\n",
       "      <th>std_test_score</th>\n",
       "      <th>rank_test_score</th>\n",
       "    </tr>\n",
       "  </thead>\n",
       "  <tbody>\n",
       "    <tr>\n",
       "      <th>0</th>\n",
       "      <td>0.387880</td>\n",
       "      <td>0.005377</td>\n",
       "      <td>0.091325</td>\n",
       "      <td>0.015312</td>\n",
       "      <td>0.3</td>\n",
       "      <td>11</td>\n",
       "      <td>{'learning_rate': 0.3, 'num_leaves': 11}</td>\n",
       "      <td>-1.960879e+06</td>\n",
       "      <td>-1.953843e+06</td>\n",
       "      <td>-1.978322e+06</td>\n",
       "      <td>-1.964348e+06</td>\n",
       "      <td>10290.043268</td>\n",
       "      <td>2</td>\n",
       "    </tr>\n",
       "    <tr>\n",
       "      <th>1</th>\n",
       "      <td>0.558508</td>\n",
       "      <td>0.068374</td>\n",
       "      <td>0.114887</td>\n",
       "      <td>0.010063</td>\n",
       "      <td>0.3</td>\n",
       "      <td>50</td>\n",
       "      <td>{'learning_rate': 0.3, 'num_leaves': 50}</td>\n",
       "      <td>-1.869471e+06</td>\n",
       "      <td>-1.851545e+06</td>\n",
       "      <td>-1.889018e+06</td>\n",
       "      <td>-1.870011e+06</td>\n",
       "      <td>15302.843974</td>\n",
       "      <td>1</td>\n",
       "    </tr>\n",
       "  </tbody>\n",
       "</table>\n",
       "</div>"
      ],
      "text/plain": [
       "   mean_fit_time  std_fit_time  mean_score_time  std_score_time  \\\n",
       "0       0.387880      0.005377         0.091325        0.015312   \n",
       "1       0.558508      0.068374         0.114887        0.010063   \n",
       "\n",
       "  param_learning_rate param_num_leaves  \\\n",
       "0                 0.3               11   \n",
       "1                 0.3               50   \n",
       "\n",
       "                                     params  split0_test_score  \\\n",
       "0  {'learning_rate': 0.3, 'num_leaves': 11}      -1.960879e+06   \n",
       "1  {'learning_rate': 0.3, 'num_leaves': 50}      -1.869471e+06   \n",
       "\n",
       "   split1_test_score  split2_test_score  mean_test_score  std_test_score  \\\n",
       "0      -1.953843e+06      -1.978322e+06    -1.964348e+06    10290.043268   \n",
       "1      -1.851545e+06      -1.889018e+06    -1.870011e+06    15302.843974   \n",
       "\n",
       "   rank_test_score  \n",
       "0                2  \n",
       "1                1  "
      ]
     },
     "execution_count": 75,
     "metadata": {},
     "output_type": "execute_result"
    }
   ],
   "source": [
    "result_LGBM = pd.DataFrame(clf.cv_results_)\n",
    "result_LGBM"
   ]
  },
  {
   "cell_type": "code",
   "execution_count": 76,
   "metadata": {
    "colab": {
     "base_uri": "https://localhost:8080/",
     "height": 143
    },
    "id": "oY22oQwlz83z",
    "outputId": "4631e4be-50fd-40ce-9f1f-42434982900f"
   },
   "outputs": [
    {
     "name": "stderr",
     "output_type": "stream",
     "text": [
      "C:\\Users\\izara\\AppData\\Local\\Temp\\ipykernel_18356\\1821377337.py:1: FutureWarning: The frame.append method is deprecated and will be removed from pandas in a future version. Use pandas.concat instead.\n",
      "  model_rep = model_rep.append({\"Model\": 'LGBMRegressor',\n"
     ]
    },
    {
     "data": {
      "text/html": [
       "<div>\n",
       "<style scoped>\n",
       "    .dataframe tbody tr th:only-of-type {\n",
       "        vertical-align: middle;\n",
       "    }\n",
       "\n",
       "    .dataframe tbody tr th {\n",
       "        vertical-align: top;\n",
       "    }\n",
       "\n",
       "    .dataframe thead th {\n",
       "        text-align: right;\n",
       "    }\n",
       "</style>\n",
       "<table border=\"1\" class=\"dataframe\">\n",
       "  <thead>\n",
       "    <tr style=\"text-align: right;\">\n",
       "      <th></th>\n",
       "      <th>Model</th>\n",
       "      <th>fit time, sec</th>\n",
       "      <th>predict time, sec</th>\n",
       "      <th>RMSE</th>\n",
       "    </tr>\n",
       "  </thead>\n",
       "  <tbody>\n",
       "    <tr>\n",
       "      <th>0</th>\n",
       "      <td>Line Model</td>\n",
       "      <td>23.568857</td>\n",
       "      <td>0.284704</td>\n",
       "      <td>44.69</td>\n",
       "    </tr>\n",
       "    <tr>\n",
       "      <th>1</th>\n",
       "      <td>CatBoostRegressor</td>\n",
       "      <td>5.983351</td>\n",
       "      <td>0.089681</td>\n",
       "      <td>1422.08</td>\n",
       "    </tr>\n",
       "    <tr>\n",
       "      <th>2</th>\n",
       "      <td>LGBMRegressor</td>\n",
       "      <td>0.558508</td>\n",
       "      <td>0.114887</td>\n",
       "      <td>1367.48</td>\n",
       "    </tr>\n",
       "  </tbody>\n",
       "</table>\n",
       "</div>"
      ],
      "text/plain": [
       "               Model  fit time, sec  predict time, sec     RMSE\n",
       "0         Line Model      23.568857           0.284704    44.69\n",
       "1  CatBoostRegressor       5.983351           0.089681  1422.08\n",
       "2      LGBMRegressor       0.558508           0.114887  1367.48"
      ]
     },
     "execution_count": 76,
     "metadata": {},
     "output_type": "execute_result"
    }
   ],
   "source": [
    "model_rep = model_rep.append({\"Model\": 'LGBMRegressor',\n",
    "                          \"fit time, sec\": result_LGBM[result_LGBM['rank_test_score']==1]['mean_fit_time'].values[0],\n",
    "                          \"predict time, sec\": result_LGBM[result_LGBM['rank_test_score']==1]['mean_score_time'].values[0],\n",
    "                          \"RMSE\": round((clf.best_score_ * -1)**0.5, 2)\n",
    "                          },\n",
    "                         ignore_index=True)\n",
    "model_rep"
   ]
  },
  {
   "cell_type": "markdown",
   "metadata": {
    "id": "dtxYVpLljc6V"
   },
   "source": [
    "__Выводы__\n",
    " \n",
    "*   Самое долгое обучение в линейной модели. Долгое обучение связано с тем, что размер датасета увеличен за счет OHE. Самое быстрое обучение в LGBM Regressor, в котором использовался кодирование OE.\n",
    "*   Время предсказания наименьшее у LGBMRegressor\n",
    "*  Наибольшая предиктивная способность у LGBM Regressor-а. Эту модель и будем анализировать в дальнешем. В линейной модели был использован метод шкалирования, который сильно занизил сумму ошибок."
   ]
  },
  {
   "cell_type": "markdown",
   "metadata": {
    "id": "3X3T6_Utit2s"
   },
   "source": [
    "## Анализ моделей"
   ]
  },
  {
   "cell_type": "code",
   "execution_count": 77,
   "metadata": {
    "colab": {
     "base_uri": "https://localhost:8080/"
    },
    "id": "QfhoMZ_QiX-g",
    "outputId": "c12b6318-8cc7-4011-c762-f65bf899e2d3"
   },
   "outputs": [
    {
     "data": {
      "text/plain": [
       "{'learning_rate': 0.3, 'num_leaves': 50}"
      ]
     },
     "execution_count": 77,
     "metadata": {},
     "output_type": "execute_result"
    }
   ],
   "source": [
    "# Наилучший гиперпараметр для LGBMRegressor \n",
    "best_param = result_LGBM[result_LGBM['rank_test_score']==1]['params'].values[0]\n",
    "best_param"
   ]
  },
  {
   "cell_type": "code",
   "execution_count": 78,
   "metadata": {
    "id": "CyUQ3iowiwur"
   },
   "outputs": [],
   "source": [
    "features_test_2 = features_test.copy()\n",
    "features_test_2[features_categorical] = features_test[features_categorical].astype('category')\n",
    "\n",
    "model_lgbm = LGBMRegressor(random_state=RANDOM_STATE) # , params = best_param\n"
   ]
  },
  {
   "cell_type": "code",
   "execution_count": 79,
   "metadata": {
    "colab": {
     "base_uri": "https://localhost:8080/"
    },
    "id": "F38tY0qBqwfz",
    "outputId": "e6abe8c2-e894-4bfb-e364-65d4ef373d2a"
   },
   "outputs": [
    {
     "data": {
      "text/plain": [
       "LGBMRegressor(random_state=42)"
      ]
     },
     "execution_count": 79,
     "metadata": {},
     "output_type": "execute_result"
    }
   ],
   "source": [
    "model_lgbm.fit(features_train_2, target_train)"
   ]
  },
  {
   "cell_type": "code",
   "execution_count": 80,
   "metadata": {
    "id": "a16HkchgrK6z"
   },
   "outputs": [],
   "source": [
    "pred = model_lgbm.predict(features_test_2)"
   ]
  },
  {
   "cell_type": "code",
   "execution_count": 81,
   "metadata": {
    "colab": {
     "base_uri": "https://localhost:8080/"
    },
    "id": "o5X7aBHsrO3s",
    "outputId": "c3883b97-283a-490a-ffb5-b3357c2b0f17"
   },
   "outputs": [
    {
     "name": "stdout",
     "output_type": "stream",
     "text": [
      "Полученный PMSE на тестовой выборке: 1368.99\n"
     ]
    }
   ],
   "source": [
    "rms = round(sqrt(mean_squared_error(pred, target_test)),2)\n",
    "print('Полученный PMSE на тестовой выборке:', rms)"
   ]
  },
  {
   "cell_type": "markdown",
   "metadata": {
    "id": "SZnJ8ocssmyP"
   },
   "source": [
    "__Вывод__\n",
    "\n",
    "\n",
    "*   В рамках работы было проанализированы три модели: ML, CatBoost, LGBM. Наилучшу предиктивную способность показала модель LGBM. Также время обучения после OE было минимальным (в районе нескольких секунд).\n",
    "*   Данная работа выполнялась несколько недель на Яндексе и не была реализована по причине обработки несколько часов каждой модели с постоянными \"вылетами\" и ошибками. Продолжение последующих работ целесобразно выполнять в Google.\n",
    "\n"
   ]
  }
 ],
 "metadata": {
  "ExecuteTimeLog": [
   {
    "duration": 3,
    "start_time": "2023-01-07T05:23:06.237Z"
   },
   {
    "duration": 1473,
    "start_time": "2023-01-07T05:24:41.820Z"
   },
   {
    "duration": 4,
    "start_time": "2023-01-07T05:25:30.834Z"
   },
   {
    "duration": 2,
    "start_time": "2023-01-07T05:25:48.385Z"
   },
   {
    "duration": 1073,
    "start_time": "2023-01-07T05:27:04.918Z"
   },
   {
    "duration": 748,
    "start_time": "2023-01-07T05:27:57.757Z"
   },
   {
    "duration": 16,
    "start_time": "2023-01-07T05:28:18.411Z"
   },
   {
    "duration": 89,
    "start_time": "2023-01-07T05:28:55.162Z"
   },
   {
    "duration": 214,
    "start_time": "2023-01-07T05:29:31.585Z"
   },
   {
    "duration": 40,
    "start_time": "2023-01-07T05:33:58.038Z"
   },
   {
    "duration": 2,
    "start_time": "2023-01-07T05:37:10.775Z"
   },
   {
    "duration": 3,
    "start_time": "2023-01-07T05:37:31.509Z"
   },
   {
    "duration": 80,
    "start_time": "2023-01-07T05:38:41.699Z"
   },
   {
    "duration": 98,
    "start_time": "2023-01-07T05:38:47.106Z"
   },
   {
    "duration": 82,
    "start_time": "2023-01-07T05:39:02.033Z"
   },
   {
    "duration": 76,
    "start_time": "2023-01-07T05:39:09.913Z"
   },
   {
    "duration": 4,
    "start_time": "2023-01-08T14:36:28.902Z"
   },
   {
    "duration": 2,
    "start_time": "2023-01-08T14:36:51.544Z"
   },
   {
    "duration": 1627,
    "start_time": "2023-01-09T18:39:06.715Z"
   },
   {
    "duration": 3,
    "start_time": "2023-01-09T18:39:08.344Z"
   },
   {
    "duration": 1687,
    "start_time": "2023-01-09T18:39:08.348Z"
   },
   {
    "duration": 18,
    "start_time": "2023-01-09T18:39:10.037Z"
   },
   {
    "duration": 147,
    "start_time": "2023-01-09T18:39:10.056Z"
   },
   {
    "duration": 165,
    "start_time": "2023-01-09T18:39:10.205Z"
   },
   {
    "duration": 101,
    "start_time": "2023-01-09T18:39:10.372Z"
   },
   {
    "duration": 139,
    "start_time": "2023-01-09T19:12:56.549Z"
   },
   {
    "duration": 8,
    "start_time": "2023-01-09T19:19:39.578Z"
   },
   {
    "duration": 830,
    "start_time": "2023-01-09T19:21:19.028Z"
   },
   {
    "duration": 3,
    "start_time": "2023-01-09T19:21:49.301Z"
   },
   {
    "duration": 790,
    "start_time": "2023-01-09T19:21:54.428Z"
   },
   {
    "duration": 3,
    "start_time": "2023-01-09T19:22:35.825Z"
   },
   {
    "duration": 850,
    "start_time": "2023-01-09T19:22:40.682Z"
   },
   {
    "duration": 103,
    "start_time": "2023-01-09T19:22:57.947Z"
   },
   {
    "duration": 14,
    "start_time": "2023-01-09T19:23:06.489Z"
   },
   {
    "duration": 125,
    "start_time": "2023-01-09T19:23:09.458Z"
   },
   {
    "duration": 1538,
    "start_time": "2023-01-09T19:30:22.313Z"
   },
   {
    "duration": 3,
    "start_time": "2023-01-09T19:30:23.854Z"
   },
   {
    "duration": 1118,
    "start_time": "2023-01-09T19:30:23.858Z"
   },
   {
    "duration": 21,
    "start_time": "2023-01-09T19:30:24.977Z"
   },
   {
    "duration": 147,
    "start_time": "2023-01-09T19:30:25.000Z"
   },
   {
    "duration": 144,
    "start_time": "2023-01-09T19:30:25.149Z"
   },
   {
    "duration": 128,
    "start_time": "2023-01-09T19:30:25.295Z"
   },
   {
    "duration": 92,
    "start_time": "2023-01-09T19:30:25.425Z"
   },
   {
    "duration": 17,
    "start_time": "2023-01-09T19:30:25.519Z"
   },
   {
    "duration": 108,
    "start_time": "2023-01-09T19:30:25.537Z"
   },
   {
    "duration": 115,
    "start_time": "2023-01-09T19:30:25.647Z"
   },
   {
    "duration": 1546,
    "start_time": "2023-01-09T19:30:41.349Z"
   },
   {
    "duration": 1542,
    "start_time": "2023-01-09T19:31:02.247Z"
   },
   {
    "duration": 28,
    "start_time": "2023-01-09T19:31:16.617Z"
   },
   {
    "duration": 1533,
    "start_time": "2023-01-09T19:31:41.069Z"
   },
   {
    "duration": 23,
    "start_time": "2023-01-09T19:31:44.698Z"
   },
   {
    "duration": 1455,
    "start_time": "2023-01-09T19:33:32.846Z"
   },
   {
    "duration": 2,
    "start_time": "2023-01-09T19:35:00.439Z"
   },
   {
    "duration": 22,
    "start_time": "2023-01-09T19:35:32.827Z"
   },
   {
    "duration": 10,
    "start_time": "2023-01-09T19:37:38.639Z"
   },
   {
    "duration": 1119,
    "start_time": "2023-01-09T19:37:46.121Z"
   },
   {
    "duration": 10,
    "start_time": "2023-01-09T19:38:07.031Z"
   },
   {
    "duration": 4,
    "start_time": "2023-01-09T19:38:17.994Z"
   },
   {
    "duration": 23,
    "start_time": "2023-01-09T19:38:18.000Z"
   },
   {
    "duration": 959,
    "start_time": "2023-01-09T19:38:18.025Z"
   },
   {
    "duration": 14,
    "start_time": "2023-01-09T19:38:18.986Z"
   },
   {
    "duration": 126,
    "start_time": "2023-01-09T19:38:19.003Z"
   },
   {
    "duration": 179,
    "start_time": "2023-01-09T19:38:19.131Z"
   },
   {
    "duration": 162,
    "start_time": "2023-01-09T19:38:19.312Z"
   },
   {
    "duration": 104,
    "start_time": "2023-01-09T19:38:19.476Z"
   },
   {
    "duration": 6,
    "start_time": "2023-01-09T19:38:19.581Z"
   },
   {
    "duration": 1632,
    "start_time": "2023-01-09T19:38:19.589Z"
   },
   {
    "duration": 12,
    "start_time": "2023-01-09T19:38:21.223Z"
   },
   {
    "duration": 46,
    "start_time": "2023-01-09T19:38:21.237Z"
   },
   {
    "duration": 11,
    "start_time": "2023-01-09T19:38:21.286Z"
   },
   {
    "duration": 153,
    "start_time": "2023-01-09T19:38:30.125Z"
   },
   {
    "duration": 6,
    "start_time": "2023-01-09T19:40:05.871Z"
   },
   {
    "duration": 264,
    "start_time": "2023-01-09T19:41:14.880Z"
   },
   {
    "duration": 14,
    "start_time": "2023-01-09T19:42:08.760Z"
   },
   {
    "duration": 81,
    "start_time": "2023-01-09T19:42:31.924Z"
   },
   {
    "duration": 122,
    "start_time": "2023-01-09T19:42:38.460Z"
   },
   {
    "duration": 940,
    "start_time": "2023-01-09T19:44:12.539Z"
   },
   {
    "duration": 183,
    "start_time": "2023-01-09T19:44:20.874Z"
   },
   {
    "duration": 182,
    "start_time": "2023-01-09T19:44:43.670Z"
   },
   {
    "duration": 174,
    "start_time": "2023-01-09T19:44:48.192Z"
   },
   {
    "duration": 6,
    "start_time": "2023-01-09T19:50:21.876Z"
   },
   {
    "duration": 131,
    "start_time": "2023-01-09T19:50:34.201Z"
   },
   {
    "duration": 14,
    "start_time": "2023-01-09T19:50:52.076Z"
   },
   {
    "duration": 134,
    "start_time": "2023-01-09T19:50:53.525Z"
   },
   {
    "duration": 30,
    "start_time": "2023-01-09T19:53:08.713Z"
   },
   {
    "duration": 20,
    "start_time": "2023-01-09T19:53:20.289Z"
   },
   {
    "duration": 4,
    "start_time": "2023-01-09T19:53:57.730Z"
   },
   {
    "duration": 35,
    "start_time": "2023-01-09T19:53:57.736Z"
   },
   {
    "duration": 860,
    "start_time": "2023-01-09T19:53:57.772Z"
   },
   {
    "duration": 14,
    "start_time": "2023-01-09T19:53:58.634Z"
   },
   {
    "duration": 104,
    "start_time": "2023-01-09T19:53:58.650Z"
   },
   {
    "duration": 136,
    "start_time": "2023-01-09T19:53:58.755Z"
   },
   {
    "duration": 143,
    "start_time": "2023-01-09T19:53:58.892Z"
   },
   {
    "duration": 78,
    "start_time": "2023-01-09T19:53:59.036Z"
   },
   {
    "duration": 6,
    "start_time": "2023-01-09T19:53:59.115Z"
   },
   {
    "duration": 1469,
    "start_time": "2023-01-09T19:53:59.136Z"
   },
   {
    "duration": 3,
    "start_time": "2023-01-09T19:54:00.608Z"
   },
   {
    "duration": 156,
    "start_time": "2023-01-09T19:54:00.613Z"
   },
   {
    "duration": 165,
    "start_time": "2023-01-09T19:54:00.771Z"
   },
   {
    "duration": 2,
    "start_time": "2023-01-09T19:54:00.940Z"
   },
   {
    "duration": 37,
    "start_time": "2023-01-09T19:54:00.944Z"
   },
   {
    "duration": 152,
    "start_time": "2023-01-09T19:54:00.983Z"
   },
   {
    "duration": 133,
    "start_time": "2023-01-09T19:54:01.137Z"
   },
   {
    "duration": 186,
    "start_time": "2023-01-09T19:54:01.272Z"
   },
   {
    "duration": 6,
    "start_time": "2023-01-09T19:54:08.110Z"
   },
   {
    "duration": 98,
    "start_time": "2023-01-09T19:54:13.791Z"
   },
   {
    "duration": 27,
    "start_time": "2023-01-09T19:54:48.276Z"
   },
   {
    "duration": 51,
    "start_time": "2023-01-09T19:55:43.854Z"
   },
   {
    "duration": 1445,
    "start_time": "2023-01-09T19:55:58.074Z"
   },
   {
    "duration": 3,
    "start_time": "2023-01-09T19:55:59.521Z"
   },
   {
    "duration": 1145,
    "start_time": "2023-01-09T19:55:59.526Z"
   },
   {
    "duration": 17,
    "start_time": "2023-01-09T19:56:00.673Z"
   },
   {
    "duration": 126,
    "start_time": "2023-01-09T19:56:00.692Z"
   },
   {
    "duration": 164,
    "start_time": "2023-01-09T19:56:00.822Z"
   },
   {
    "duration": 166,
    "start_time": "2023-01-09T19:56:00.988Z"
   },
   {
    "duration": 99,
    "start_time": "2023-01-09T19:56:01.156Z"
   },
   {
    "duration": 6,
    "start_time": "2023-01-09T19:56:01.257Z"
   },
   {
    "duration": 1607,
    "start_time": "2023-01-09T19:56:01.264Z"
   },
   {
    "duration": 3,
    "start_time": "2023-01-09T19:56:02.873Z"
   },
   {
    "duration": 32,
    "start_time": "2023-01-09T19:56:02.878Z"
   },
   {
    "duration": 176,
    "start_time": "2023-01-09T19:56:02.911Z"
   },
   {
    "duration": 2,
    "start_time": "2023-01-09T19:56:03.091Z"
   },
   {
    "duration": 15,
    "start_time": "2023-01-09T19:56:03.095Z"
   },
   {
    "duration": 184,
    "start_time": "2023-01-09T19:56:03.112Z"
   },
   {
    "duration": 130,
    "start_time": "2023-01-09T19:56:03.297Z"
   },
   {
    "duration": 185,
    "start_time": "2023-01-09T19:56:03.429Z"
   },
   {
    "duration": 128,
    "start_time": "2023-01-09T19:56:03.616Z"
   },
   {
    "duration": 4,
    "start_time": "2023-01-10T18:23:33.039Z"
   },
   {
    "duration": 58,
    "start_time": "2023-01-10T18:26:00.372Z"
   },
   {
    "duration": 1603,
    "start_time": "2023-01-10T18:26:35.752Z"
   },
   {
    "duration": 3,
    "start_time": "2023-01-10T18:26:53.521Z"
   },
   {
    "duration": 5,
    "start_time": "2023-01-10T18:26:53.527Z"
   },
   {
    "duration": 3177,
    "start_time": "2023-01-10T18:26:53.534Z"
   },
   {
    "duration": 16,
    "start_time": "2023-01-10T18:26:56.713Z"
   },
   {
    "duration": 144,
    "start_time": "2023-01-10T18:26:56.732Z"
   },
   {
    "duration": 163,
    "start_time": "2023-01-10T18:26:56.877Z"
   },
   {
    "duration": 165,
    "start_time": "2023-01-10T18:26:57.044Z"
   },
   {
    "duration": 101,
    "start_time": "2023-01-10T18:26:57.210Z"
   },
   {
    "duration": 6,
    "start_time": "2023-01-10T18:26:57.312Z"
   },
   {
    "duration": 1433,
    "start_time": "2023-01-10T18:26:57.319Z"
   },
   {
    "duration": 2,
    "start_time": "2023-01-10T18:26:58.754Z"
   },
   {
    "duration": 40,
    "start_time": "2023-01-10T18:26:58.758Z"
   },
   {
    "duration": 164,
    "start_time": "2023-01-10T18:26:58.800Z"
   },
   {
    "duration": 312,
    "start_time": "2023-01-10T18:29:19.598Z"
   },
   {
    "duration": 215,
    "start_time": "2023-01-10T18:29:42.030Z"
   },
   {
    "duration": 1663,
    "start_time": "2023-01-15T08:24:50.545Z"
   },
   {
    "duration": 4,
    "start_time": "2023-01-15T08:24:52.210Z"
   },
   {
    "duration": 3059,
    "start_time": "2023-01-15T08:24:52.216Z"
   },
   {
    "duration": 16,
    "start_time": "2023-01-15T08:24:55.277Z"
   },
   {
    "duration": 137,
    "start_time": "2023-01-15T08:24:55.295Z"
   },
   {
    "duration": 147,
    "start_time": "2023-01-15T08:24:55.437Z"
   },
   {
    "duration": 136,
    "start_time": "2023-01-15T08:24:55.586Z"
   },
   {
    "duration": 116,
    "start_time": "2023-01-15T08:24:55.724Z"
   },
   {
    "duration": 10,
    "start_time": "2023-01-15T08:24:55.846Z"
   },
   {
    "duration": 1620,
    "start_time": "2023-01-15T08:24:55.860Z"
   },
   {
    "duration": 2,
    "start_time": "2023-01-15T08:24:57.482Z"
   },
   {
    "duration": 5,
    "start_time": "2023-01-15T08:24:57.486Z"
   },
   {
    "duration": 280,
    "start_time": "2023-01-15T08:24:57.493Z"
   },
   {
    "duration": 175,
    "start_time": "2023-01-15T08:24:57.775Z"
   },
   {
    "duration": 112,
    "start_time": "2023-01-15T08:27:12.042Z"
   },
   {
    "duration": 9,
    "start_time": "2023-01-15T08:27:22.477Z"
   },
   {
    "duration": 7,
    "start_time": "2023-01-15T08:27:26.505Z"
   },
   {
    "duration": 172,
    "start_time": "2023-01-15T08:27:41.109Z"
   },
   {
    "duration": 20,
    "start_time": "2023-01-15T08:28:01.330Z"
   },
   {
    "duration": 64,
    "start_time": "2023-01-15T08:28:11.903Z"
   },
   {
    "duration": 158,
    "start_time": "2023-01-15T08:28:19.414Z"
   },
   {
    "duration": 41,
    "start_time": "2023-01-15T08:28:26.965Z"
   },
   {
    "duration": 6,
    "start_time": "2023-01-15T08:28:44.365Z"
   },
   {
    "duration": 28,
    "start_time": "2023-01-15T08:28:51.287Z"
   },
   {
    "duration": 29,
    "start_time": "2023-01-15T08:29:07.364Z"
   },
   {
    "duration": 31,
    "start_time": "2023-01-15T08:30:38.642Z"
   },
   {
    "duration": 12,
    "start_time": "2023-01-15T08:31:52.396Z"
   },
   {
    "duration": 4,
    "start_time": "2023-01-15T08:31:59.712Z"
   },
   {
    "duration": 20,
    "start_time": "2023-01-15T08:32:36.928Z"
   },
   {
    "duration": 46,
    "start_time": "2023-01-15T08:32:49.418Z"
   },
   {
    "duration": 57,
    "start_time": "2023-01-15T08:33:18.107Z"
   },
   {
    "duration": 27,
    "start_time": "2023-01-15T08:35:01.479Z"
   },
   {
    "duration": 42,
    "start_time": "2023-01-15T08:53:27.262Z"
   },
   {
    "duration": 42,
    "start_time": "2023-01-15T08:53:58.848Z"
   },
   {
    "duration": 55,
    "start_time": "2023-01-15T08:54:07.047Z"
   },
   {
    "duration": 53,
    "start_time": "2023-01-15T08:54:30.686Z"
   },
   {
    "duration": 55,
    "start_time": "2023-01-15T08:54:47.743Z"
   },
   {
    "duration": 34,
    "start_time": "2023-01-15T08:55:11.757Z"
   },
   {
    "duration": 145,
    "start_time": "2023-01-15T08:55:16.242Z"
   },
   {
    "duration": 17,
    "start_time": "2023-01-15T08:57:00.862Z"
   },
   {
    "duration": 33,
    "start_time": "2023-01-15T08:57:07.701Z"
   },
   {
    "duration": 71,
    "start_time": "2023-01-15T08:59:16.886Z"
   },
   {
    "duration": 69,
    "start_time": "2023-01-15T08:59:41.274Z"
   },
   {
    "duration": 31,
    "start_time": "2023-01-15T08:59:50.955Z"
   },
   {
    "duration": 36,
    "start_time": "2023-01-15T08:59:57.659Z"
   },
   {
    "duration": 237,
    "start_time": "2023-01-15T09:04:32.185Z"
   },
   {
    "duration": 6,
    "start_time": "2023-01-15T09:05:55.017Z"
   },
   {
    "duration": 5,
    "start_time": "2023-01-15T09:09:51.979Z"
   },
   {
    "duration": 6,
    "start_time": "2023-01-15T09:09:59.266Z"
   },
   {
    "duration": 1240,
    "start_time": "2023-01-15T09:11:54.009Z"
   },
   {
    "duration": 1195,
    "start_time": "2023-01-15T09:19:26.842Z"
   },
   {
    "duration": 1220,
    "start_time": "2023-01-15T09:20:02.784Z"
   },
   {
    "duration": 6,
    "start_time": "2023-01-15T09:22:22.159Z"
   },
   {
    "duration": 6,
    "start_time": "2023-01-15T09:22:34.319Z"
   },
   {
    "duration": 5,
    "start_time": "2023-01-15T09:22:46.501Z"
   },
   {
    "duration": 20,
    "start_time": "2023-01-15T09:23:36.583Z"
   },
   {
    "duration": 13,
    "start_time": "2023-01-15T09:23:46.861Z"
   },
   {
    "duration": 13,
    "start_time": "2023-01-15T09:24:13.034Z"
   },
   {
    "duration": 4,
    "start_time": "2023-01-15T09:24:23.906Z"
   },
   {
    "duration": 7,
    "start_time": "2023-01-15T09:24:28.211Z"
   },
   {
    "duration": 76,
    "start_time": "2023-01-15T09:24:39.190Z"
   },
   {
    "duration": 4,
    "start_time": "2023-01-15T09:24:41.575Z"
   },
   {
    "duration": 10,
    "start_time": "2023-01-15T09:24:55.106Z"
   },
   {
    "duration": 4,
    "start_time": "2023-01-15T09:25:04.775Z"
   },
   {
    "duration": 100,
    "start_time": "2023-01-15T09:28:09.162Z"
   },
   {
    "duration": 5,
    "start_time": "2023-01-15T09:28:10.306Z"
   },
   {
    "duration": 137,
    "start_time": "2023-01-15T09:28:35.290Z"
   },
   {
    "duration": 196,
    "start_time": "2023-01-15T09:28:46.097Z"
   },
   {
    "duration": 199,
    "start_time": "2023-01-15T09:28:52.785Z"
   },
   {
    "duration": 6,
    "start_time": "2023-01-15T09:31:43.170Z"
   },
   {
    "duration": 1336,
    "start_time": "2023-01-15T09:36:48.650Z"
   },
   {
    "duration": 1182,
    "start_time": "2023-01-15T09:37:01.756Z"
   },
   {
    "duration": 1238,
    "start_time": "2023-01-15T09:37:14.944Z"
   },
   {
    "duration": 2437,
    "start_time": "2023-01-15T09:37:45.526Z"
   },
   {
    "duration": 2275,
    "start_time": "2023-01-15T09:38:01.516Z"
   },
   {
    "duration": 5,
    "start_time": "2023-01-15T09:39:10.790Z"
   },
   {
    "duration": 6,
    "start_time": "2023-01-15T09:39:16.274Z"
   },
   {
    "duration": 8,
    "start_time": "2023-01-15T09:39:24.634Z"
   },
   {
    "duration": 24,
    "start_time": "2023-01-15T09:39:27.790Z"
   },
   {
    "duration": 24,
    "start_time": "2023-01-15T09:40:13.695Z"
   },
   {
    "duration": 7,
    "start_time": "2023-01-15T09:40:28.235Z"
   },
   {
    "duration": 30,
    "start_time": "2023-01-15T09:40:43.156Z"
   },
   {
    "duration": 11,
    "start_time": "2023-01-15T09:40:50.970Z"
   },
   {
    "duration": 9,
    "start_time": "2023-01-15T09:41:48.020Z"
   },
   {
    "duration": 6,
    "start_time": "2023-01-15T09:42:29.693Z"
   },
   {
    "duration": 74,
    "start_time": "2023-01-15T09:42:58.638Z"
   },
   {
    "duration": 11,
    "start_time": "2023-01-15T09:43:39.620Z"
   },
   {
    "duration": 6,
    "start_time": "2023-01-15T09:43:59.373Z"
   },
   {
    "duration": 7,
    "start_time": "2023-01-15T09:45:24.733Z"
   },
   {
    "duration": 5,
    "start_time": "2023-01-15T09:45:32.472Z"
   },
   {
    "duration": 6,
    "start_time": "2023-01-15T09:47:15.447Z"
   },
   {
    "duration": 1430,
    "start_time": "2023-01-15T12:46:52.292Z"
   },
   {
    "duration": 3,
    "start_time": "2023-01-15T12:46:57.265Z"
   },
   {
    "duration": 809,
    "start_time": "2023-01-15T12:46:59.304Z"
   },
   {
    "duration": 17,
    "start_time": "2023-01-15T12:47:02.139Z"
   },
   {
    "duration": 149,
    "start_time": "2023-01-15T12:47:04.824Z"
   },
   {
    "duration": 137,
    "start_time": "2023-01-15T12:47:14.757Z"
   },
   {
    "duration": 124,
    "start_time": "2023-01-15T12:47:16.926Z"
   },
   {
    "duration": 88,
    "start_time": "2023-01-15T12:47:22.903Z"
   },
   {
    "duration": 1458,
    "start_time": "2023-01-15T12:47:30.417Z"
   },
   {
    "duration": 3,
    "start_time": "2023-01-15T12:47:38.625Z"
   },
   {
    "duration": 3,
    "start_time": "2023-01-15T12:47:46.960Z"
   },
   {
    "duration": 253,
    "start_time": "2023-01-15T12:47:54.349Z"
   },
   {
    "duration": 168,
    "start_time": "2023-01-15T12:48:03.577Z"
   },
   {
    "duration": 32,
    "start_time": "2023-01-15T12:48:27.747Z"
   },
   {
    "duration": 160,
    "start_time": "2023-01-15T12:48:36.087Z"
   },
   {
    "duration": 19,
    "start_time": "2023-01-15T12:48:40.626Z"
   },
   {
    "duration": 44,
    "start_time": "2023-01-15T12:48:58.812Z"
   },
   {
    "duration": 5,
    "start_time": "2023-01-15T12:49:03.542Z"
   },
   {
    "duration": 129,
    "start_time": "2023-01-15T12:49:15.394Z"
   },
   {
    "duration": 236,
    "start_time": "2023-01-15T12:49:42.190Z"
   },
   {
    "duration": 45,
    "start_time": "2023-01-15T12:49:59.960Z"
   },
   {
    "duration": 19,
    "start_time": "2023-01-15T12:50:04.631Z"
   },
   {
    "duration": 100,
    "start_time": "2023-01-15T12:50:07.284Z"
   },
   {
    "duration": 27,
    "start_time": "2023-01-15T12:50:12.011Z"
   },
   {
    "duration": 31,
    "start_time": "2023-01-15T12:50:51.572Z"
   },
   {
    "duration": 27,
    "start_time": "2023-01-15T12:51:21.166Z"
   },
   {
    "duration": 8,
    "start_time": "2023-01-15T12:51:37.619Z"
   },
   {
    "duration": 4,
    "start_time": "2023-01-15T12:52:43.011Z"
   },
   {
    "duration": 32,
    "start_time": "2023-01-15T12:52:43.017Z"
   },
   {
    "duration": 830,
    "start_time": "2023-01-15T12:52:43.051Z"
   },
   {
    "duration": 14,
    "start_time": "2023-01-15T12:52:43.883Z"
   },
   {
    "duration": 100,
    "start_time": "2023-01-15T12:52:43.899Z"
   },
   {
    "duration": 137,
    "start_time": "2023-01-15T12:52:44.001Z"
   },
   {
    "duration": 143,
    "start_time": "2023-01-15T12:52:44.140Z"
   },
   {
    "duration": 96,
    "start_time": "2023-01-15T12:52:44.285Z"
   },
   {
    "duration": 6,
    "start_time": "2023-01-15T12:52:44.383Z"
   },
   {
    "duration": 1474,
    "start_time": "2023-01-15T12:52:44.391Z"
   },
   {
    "duration": 3,
    "start_time": "2023-01-15T12:52:45.866Z"
   },
   {
    "duration": 8,
    "start_time": "2023-01-15T12:52:45.873Z"
   },
   {
    "duration": 260,
    "start_time": "2023-01-15T12:52:45.882Z"
   },
   {
    "duration": 162,
    "start_time": "2023-01-15T12:52:46.145Z"
   },
   {
    "duration": 36,
    "start_time": "2023-01-15T12:52:46.309Z"
   },
   {
    "duration": 148,
    "start_time": "2023-01-15T12:52:46.347Z"
   },
   {
    "duration": 18,
    "start_time": "2023-01-15T12:52:46.497Z"
   },
   {
    "duration": 143,
    "start_time": "2023-01-15T12:52:46.517Z"
   },
   {
    "duration": 31,
    "start_time": "2023-01-15T12:52:46.662Z"
   },
   {
    "duration": 4,
    "start_time": "2023-01-15T12:52:46.695Z"
   },
   {
    "duration": 19,
    "start_time": "2023-01-15T12:52:46.700Z"
   },
   {
    "duration": 122,
    "start_time": "2023-01-15T12:52:46.721Z"
   },
   {
    "duration": 172,
    "start_time": "2023-01-15T12:52:46.845Z"
   },
   {
    "duration": 44,
    "start_time": "2023-01-15T12:52:47.019Z"
   },
   {
    "duration": 18,
    "start_time": "2023-01-15T12:52:47.065Z"
   },
   {
    "duration": 120,
    "start_time": "2023-01-15T12:52:47.085Z"
   },
   {
    "duration": 34,
    "start_time": "2023-01-15T12:52:47.207Z"
   },
   {
    "duration": 34,
    "start_time": "2023-01-15T12:52:47.242Z"
   },
   {
    "duration": 64,
    "start_time": "2023-01-15T12:52:47.277Z"
   },
   {
    "duration": 9,
    "start_time": "2023-01-15T12:54:38.934Z"
   },
   {
    "duration": 175,
    "start_time": "2023-01-15T12:55:31.668Z"
   },
   {
    "duration": 274,
    "start_time": "2023-01-15T12:55:56.936Z"
   },
   {
    "duration": 4,
    "start_time": "2023-01-15T12:56:12.519Z"
   },
   {
    "duration": 932,
    "start_time": "2023-01-15T12:59:15.667Z"
   },
   {
    "duration": 779,
    "start_time": "2023-01-15T13:00:14.798Z"
   },
   {
    "duration": 14,
    "start_time": "2023-01-15T13:00:17.461Z"
   },
   {
    "duration": 91,
    "start_time": "2023-01-15T13:00:30.075Z"
   },
   {
    "duration": 4,
    "start_time": "2023-01-15T13:02:22.530Z"
   },
   {
    "duration": 11,
    "start_time": "2023-01-15T13:02:22.536Z"
   },
   {
    "duration": 139,
    "start_time": "2023-01-15T13:02:22.549Z"
   },
   {
    "duration": 0,
    "start_time": "2023-01-15T13:02:22.690Z"
   },
   {
    "duration": 0,
    "start_time": "2023-01-15T13:02:22.691Z"
   },
   {
    "duration": 0,
    "start_time": "2023-01-15T13:02:22.692Z"
   },
   {
    "duration": 0,
    "start_time": "2023-01-15T13:02:22.693Z"
   },
   {
    "duration": 0,
    "start_time": "2023-01-15T13:02:22.695Z"
   },
   {
    "duration": 0,
    "start_time": "2023-01-15T13:02:22.696Z"
   },
   {
    "duration": 0,
    "start_time": "2023-01-15T13:02:22.696Z"
   },
   {
    "duration": 0,
    "start_time": "2023-01-15T13:02:22.697Z"
   },
   {
    "duration": 0,
    "start_time": "2023-01-15T13:02:22.698Z"
   },
   {
    "duration": 0,
    "start_time": "2023-01-15T13:02:22.700Z"
   },
   {
    "duration": 0,
    "start_time": "2023-01-15T13:02:22.701Z"
   },
   {
    "duration": 0,
    "start_time": "2023-01-15T13:02:22.702Z"
   },
   {
    "duration": 0,
    "start_time": "2023-01-15T13:02:22.703Z"
   },
   {
    "duration": 0,
    "start_time": "2023-01-15T13:02:22.704Z"
   },
   {
    "duration": 0,
    "start_time": "2023-01-15T13:02:22.705Z"
   },
   {
    "duration": 0,
    "start_time": "2023-01-15T13:02:22.706Z"
   },
   {
    "duration": 0,
    "start_time": "2023-01-15T13:02:22.707Z"
   },
   {
    "duration": 0,
    "start_time": "2023-01-15T13:02:22.708Z"
   },
   {
    "duration": 0,
    "start_time": "2023-01-15T13:02:22.738Z"
   },
   {
    "duration": 0,
    "start_time": "2023-01-15T13:02:22.739Z"
   },
   {
    "duration": 0,
    "start_time": "2023-01-15T13:02:22.740Z"
   },
   {
    "duration": 0,
    "start_time": "2023-01-15T13:02:22.741Z"
   },
   {
    "duration": 0,
    "start_time": "2023-01-15T13:02:22.742Z"
   },
   {
    "duration": 0,
    "start_time": "2023-01-15T13:02:22.743Z"
   },
   {
    "duration": 0,
    "start_time": "2023-01-15T13:02:22.744Z"
   },
   {
    "duration": 0,
    "start_time": "2023-01-15T13:02:22.745Z"
   },
   {
    "duration": 5,
    "start_time": "2023-01-15T13:04:38.810Z"
   },
   {
    "duration": 7,
    "start_time": "2023-01-15T13:04:38.818Z"
   },
   {
    "duration": 816,
    "start_time": "2023-01-15T13:04:38.827Z"
   },
   {
    "duration": 14,
    "start_time": "2023-01-15T13:04:39.645Z"
   },
   {
    "duration": 104,
    "start_time": "2023-01-15T13:04:39.660Z"
   },
   {
    "duration": 134,
    "start_time": "2023-01-15T13:04:39.766Z"
   },
   {
    "duration": 149,
    "start_time": "2023-01-15T13:04:39.902Z"
   },
   {
    "duration": 105,
    "start_time": "2023-01-15T13:04:40.053Z"
   },
   {
    "duration": 6,
    "start_time": "2023-01-15T13:04:40.160Z"
   },
   {
    "duration": 1432,
    "start_time": "2023-01-15T13:04:40.168Z"
   },
   {
    "duration": 2,
    "start_time": "2023-01-15T13:04:41.602Z"
   },
   {
    "duration": 6,
    "start_time": "2023-01-15T13:04:41.606Z"
   },
   {
    "duration": 248,
    "start_time": "2023-01-15T13:04:41.614Z"
   },
   {
    "duration": 158,
    "start_time": "2023-01-15T13:04:41.864Z"
   },
   {
    "duration": 36,
    "start_time": "2023-01-15T13:04:42.024Z"
   },
   {
    "duration": 127,
    "start_time": "2023-01-15T13:04:42.062Z"
   },
   {
    "duration": 19,
    "start_time": "2023-01-15T13:04:42.191Z"
   },
   {
    "duration": 146,
    "start_time": "2023-01-15T13:04:42.212Z"
   },
   {
    "duration": 33,
    "start_time": "2023-01-15T13:04:42.359Z"
   },
   {
    "duration": 10,
    "start_time": "2023-01-15T13:04:42.394Z"
   },
   {
    "duration": 9,
    "start_time": "2023-01-15T13:04:42.406Z"
   },
   {
    "duration": 127,
    "start_time": "2023-01-15T13:04:42.416Z"
   },
   {
    "duration": 169,
    "start_time": "2023-01-15T13:04:42.545Z"
   },
   {
    "duration": 45,
    "start_time": "2023-01-15T13:04:42.717Z"
   },
   {
    "duration": 17,
    "start_time": "2023-01-15T13:04:42.764Z"
   },
   {
    "duration": 115,
    "start_time": "2023-01-15T13:04:42.783Z"
   },
   {
    "duration": 27,
    "start_time": "2023-01-15T13:04:42.900Z"
   },
   {
    "duration": 32,
    "start_time": "2023-01-15T13:04:42.939Z"
   },
   {
    "duration": 65,
    "start_time": "2023-01-15T13:04:42.972Z"
   },
   {
    "duration": 217,
    "start_time": "2023-01-15T13:04:48.162Z"
   },
   {
    "duration": 131,
    "start_time": "2023-01-15T13:05:33.935Z"
   },
   {
    "duration": 8,
    "start_time": "2023-01-15T13:08:08.987Z"
   },
   {
    "duration": 45,
    "start_time": "2023-01-15T13:08:16.929Z"
   },
   {
    "duration": 51,
    "start_time": "2023-01-15T13:08:25.003Z"
   },
   {
    "duration": 146,
    "start_time": "2023-01-15T13:08:33.877Z"
   },
   {
    "duration": 236,
    "start_time": "2023-01-15T13:08:59.881Z"
   },
   {
    "duration": 43,
    "start_time": "2023-01-15T13:10:15.805Z"
   },
   {
    "duration": 21,
    "start_time": "2023-01-15T13:11:20.766Z"
   },
   {
    "duration": 34,
    "start_time": "2023-01-15T13:14:53.830Z"
   },
   {
    "duration": 40,
    "start_time": "2023-01-15T13:17:07.778Z"
   },
   {
    "duration": 43,
    "start_time": "2023-01-15T13:17:15.914Z"
   },
   {
    "duration": 41,
    "start_time": "2023-01-15T13:17:29.269Z"
   },
   {
    "duration": 200,
    "start_time": "2023-01-15T13:18:18.361Z"
   },
   {
    "duration": 20,
    "start_time": "2023-01-15T13:20:49.820Z"
   },
   {
    "duration": 5,
    "start_time": "2023-01-15T13:21:08.398Z"
   },
   {
    "duration": 4,
    "start_time": "2023-01-15T13:21:18.417Z"
   },
   {
    "duration": 10,
    "start_time": "2023-01-15T13:21:18.423Z"
   },
   {
    "duration": 892,
    "start_time": "2023-01-15T13:21:18.436Z"
   },
   {
    "duration": 19,
    "start_time": "2023-01-15T13:21:19.329Z"
   },
   {
    "duration": 119,
    "start_time": "2023-01-15T13:21:19.350Z"
   },
   {
    "duration": 138,
    "start_time": "2023-01-15T13:21:19.470Z"
   },
   {
    "duration": 134,
    "start_time": "2023-01-15T13:21:19.610Z"
   },
   {
    "duration": 104,
    "start_time": "2023-01-15T13:21:19.746Z"
   },
   {
    "duration": 6,
    "start_time": "2023-01-15T13:21:19.852Z"
   },
   {
    "duration": 1436,
    "start_time": "2023-01-15T13:21:19.860Z"
   },
   {
    "duration": 2,
    "start_time": "2023-01-15T13:21:21.298Z"
   },
   {
    "duration": 7,
    "start_time": "2023-01-15T13:21:21.302Z"
   },
   {
    "duration": 249,
    "start_time": "2023-01-15T13:21:21.311Z"
   },
   {
    "duration": 162,
    "start_time": "2023-01-15T13:21:21.564Z"
   },
   {
    "duration": 35,
    "start_time": "2023-01-15T13:21:21.729Z"
   },
   {
    "duration": 164,
    "start_time": "2023-01-15T13:21:21.766Z"
   },
   {
    "duration": 24,
    "start_time": "2023-01-15T13:21:21.932Z"
   },
   {
    "duration": 147,
    "start_time": "2023-01-15T13:21:21.958Z"
   },
   {
    "duration": 46,
    "start_time": "2023-01-15T13:21:22.107Z"
   },
   {
    "duration": 5,
    "start_time": "2023-01-15T13:21:22.155Z"
   },
   {
    "duration": 7,
    "start_time": "2023-01-15T13:21:22.162Z"
   },
   {
    "duration": 131,
    "start_time": "2023-01-15T13:21:22.171Z"
   },
   {
    "duration": 168,
    "start_time": "2023-01-15T13:21:22.305Z"
   },
   {
    "duration": 38,
    "start_time": "2023-01-15T13:21:22.475Z"
   },
   {
    "duration": 29,
    "start_time": "2023-01-15T13:21:22.515Z"
   },
   {
    "duration": 114,
    "start_time": "2023-01-15T13:21:22.546Z"
   },
   {
    "duration": 29,
    "start_time": "2023-01-15T13:21:22.662Z"
   },
   {
    "duration": 50,
    "start_time": "2023-01-15T13:21:22.693Z"
   },
   {
    "duration": 50,
    "start_time": "2023-01-15T13:21:22.744Z"
   },
   {
    "duration": 235,
    "start_time": "2023-01-15T13:21:22.796Z"
   },
   {
    "duration": 232,
    "start_time": "2023-01-15T13:21:23.037Z"
   },
   {
    "duration": 151,
    "start_time": "2023-01-15T13:21:23.271Z"
   },
   {
    "duration": 43,
    "start_time": "2023-01-15T13:21:23.424Z"
   },
   {
    "duration": 20,
    "start_time": "2023-01-15T13:21:23.469Z"
   },
   {
    "duration": 52,
    "start_time": "2023-01-15T13:21:23.491Z"
   },
   {
    "duration": 5,
    "start_time": "2023-01-15T13:21:23.545Z"
   },
   {
    "duration": 52,
    "start_time": "2023-01-15T13:21:23.552Z"
   },
   {
    "duration": 202,
    "start_time": "2023-01-15T13:21:23.605Z"
   },
   {
    "duration": 50,
    "start_time": "2023-01-15T13:21:23.809Z"
   },
   {
    "duration": 22,
    "start_time": "2023-01-15T13:22:18.803Z"
   },
   {
    "duration": 13,
    "start_time": "2023-01-15T13:23:52.215Z"
   },
   {
    "duration": 26,
    "start_time": "2023-01-15T13:23:59.984Z"
   },
   {
    "duration": 37,
    "start_time": "2023-01-15T13:29:29.655Z"
   },
   {
    "duration": 11,
    "start_time": "2023-01-15T13:30:09.112Z"
   },
   {
    "duration": 17,
    "start_time": "2023-01-15T13:30:12.439Z"
   },
   {
    "duration": 20,
    "start_time": "2023-01-15T13:33:19.539Z"
   },
   {
    "duration": 15,
    "start_time": "2023-01-15T13:33:31.895Z"
   },
   {
    "duration": 22,
    "start_time": "2023-01-15T13:34:42.475Z"
   },
   {
    "duration": 23,
    "start_time": "2023-01-15T13:34:45.449Z"
   },
   {
    "duration": 18,
    "start_time": "2023-01-15T13:39:38.634Z"
   },
   {
    "duration": 39,
    "start_time": "2023-01-15T13:39:47.483Z"
   },
   {
    "duration": 36,
    "start_time": "2023-01-15T13:40:01.264Z"
   },
   {
    "duration": 25,
    "start_time": "2023-01-15T13:40:08.294Z"
   },
   {
    "duration": 37,
    "start_time": "2023-01-15T13:40:13.996Z"
   },
   {
    "duration": 16,
    "start_time": "2023-01-15T13:40:24.879Z"
   },
   {
    "duration": 25,
    "start_time": "2023-01-15T13:40:31.510Z"
   },
   {
    "duration": 48,
    "start_time": "2023-01-15T13:41:10.199Z"
   },
   {
    "duration": 4,
    "start_time": "2023-01-15T13:41:29.921Z"
   },
   {
    "duration": 7,
    "start_time": "2023-01-15T13:41:29.927Z"
   },
   {
    "duration": 722,
    "start_time": "2023-01-15T13:41:29.936Z"
   },
   {
    "duration": 15,
    "start_time": "2023-01-15T13:41:30.661Z"
   },
   {
    "duration": 117,
    "start_time": "2023-01-15T13:41:30.678Z"
   },
   {
    "duration": 146,
    "start_time": "2023-01-15T13:41:30.797Z"
   },
   {
    "duration": 133,
    "start_time": "2023-01-15T13:41:30.945Z"
   },
   {
    "duration": 101,
    "start_time": "2023-01-15T13:41:31.080Z"
   },
   {
    "duration": 7,
    "start_time": "2023-01-15T13:41:31.185Z"
   },
   {
    "duration": 1499,
    "start_time": "2023-01-15T13:41:31.194Z"
   },
   {
    "duration": 2,
    "start_time": "2023-01-15T13:41:32.695Z"
   },
   {
    "duration": 8,
    "start_time": "2023-01-15T13:41:32.698Z"
   },
   {
    "duration": 248,
    "start_time": "2023-01-15T13:41:32.707Z"
   },
   {
    "duration": 150,
    "start_time": "2023-01-15T13:41:32.957Z"
   },
   {
    "duration": 40,
    "start_time": "2023-01-15T13:41:33.109Z"
   },
   {
    "duration": 155,
    "start_time": "2023-01-15T13:41:33.151Z"
   },
   {
    "duration": 30,
    "start_time": "2023-01-15T13:41:33.308Z"
   },
   {
    "duration": 140,
    "start_time": "2023-01-15T13:41:33.339Z"
   },
   {
    "duration": 32,
    "start_time": "2023-01-15T13:41:33.481Z"
   },
   {
    "duration": 4,
    "start_time": "2023-01-15T13:41:33.515Z"
   },
   {
    "duration": 22,
    "start_time": "2023-01-15T13:41:33.520Z"
   },
   {
    "duration": 117,
    "start_time": "2023-01-15T13:41:33.543Z"
   },
   {
    "duration": 166,
    "start_time": "2023-01-15T13:41:33.662Z"
   },
   {
    "duration": 55,
    "start_time": "2023-01-15T13:41:33.836Z"
   },
   {
    "duration": 18,
    "start_time": "2023-01-15T13:41:33.893Z"
   },
   {
    "duration": 119,
    "start_time": "2023-01-15T13:41:33.912Z"
   },
   {
    "duration": 26,
    "start_time": "2023-01-15T13:41:34.033Z"
   },
   {
    "duration": 37,
    "start_time": "2023-01-15T13:41:34.061Z"
   },
   {
    "duration": 59,
    "start_time": "2023-01-15T13:41:34.099Z"
   },
   {
    "duration": 324,
    "start_time": "2023-01-15T13:41:34.160Z"
   },
   {
    "duration": 128,
    "start_time": "2023-01-15T13:41:34.485Z"
   },
   {
    "duration": 148,
    "start_time": "2023-01-15T13:41:34.614Z"
   },
   {
    "duration": 37,
    "start_time": "2023-01-15T13:41:34.764Z"
   },
   {
    "duration": 18,
    "start_time": "2023-01-15T13:41:34.803Z"
   },
   {
    "duration": 29,
    "start_time": "2023-01-15T13:41:34.837Z"
   },
   {
    "duration": 7,
    "start_time": "2023-01-15T13:41:34.868Z"
   },
   {
    "duration": 45,
    "start_time": "2023-01-15T13:41:34.877Z"
   },
   {
    "duration": 166,
    "start_time": "2023-01-15T13:41:34.938Z"
   },
   {
    "duration": 42,
    "start_time": "2023-01-15T13:41:35.105Z"
   },
   {
    "duration": 15,
    "start_time": "2023-01-15T13:41:35.149Z"
   },
   {
    "duration": 36,
    "start_time": "2023-01-15T13:41:35.166Z"
   },
   {
    "duration": 48,
    "start_time": "2023-01-15T13:41:35.204Z"
   },
   {
    "duration": 17,
    "start_time": "2023-01-15T13:41:35.254Z"
   },
   {
    "duration": 25,
    "start_time": "2023-01-15T13:41:35.272Z"
   },
   {
    "duration": 52,
    "start_time": "2023-01-15T13:41:54.631Z"
   },
   {
    "duration": 542,
    "start_time": "2023-01-15T13:43:09.489Z"
   },
   {
    "duration": 6,
    "start_time": "2023-01-15T13:43:14.088Z"
   },
   {
    "duration": 14,
    "start_time": "2023-01-15T13:43:33.215Z"
   },
   {
    "duration": 5,
    "start_time": "2023-01-15T13:43:38.031Z"
   },
   {
    "duration": 5,
    "start_time": "2023-01-15T13:43:51.211Z"
   },
   {
    "duration": 24,
    "start_time": "2023-01-15T13:44:05.013Z"
   },
   {
    "duration": 74,
    "start_time": "2023-01-15T13:44:32.908Z"
   },
   {
    "duration": 8,
    "start_time": "2023-01-15T13:45:13.050Z"
   },
   {
    "duration": 51,
    "start_time": "2023-01-15T13:45:41.952Z"
   },
   {
    "duration": 26,
    "start_time": "2023-01-15T13:58:20.437Z"
   },
   {
    "duration": 23,
    "start_time": "2023-01-15T13:58:35.802Z"
   },
   {
    "duration": 18,
    "start_time": "2023-01-15T13:59:16.228Z"
   },
   {
    "duration": 58,
    "start_time": "2023-01-15T13:59:28.417Z"
   },
   {
    "duration": 73,
    "start_time": "2023-01-15T13:59:38.910Z"
   },
   {
    "duration": 6,
    "start_time": "2023-01-15T14:01:18.036Z"
   },
   {
    "duration": 24,
    "start_time": "2023-01-15T14:49:29.690Z"
   },
   {
    "duration": 16,
    "start_time": "2023-01-15T14:57:16.371Z"
   },
   {
    "duration": 13,
    "start_time": "2023-01-15T14:57:23.954Z"
   },
   {
    "duration": 6,
    "start_time": "2023-01-15T14:57:28.437Z"
   },
   {
    "duration": 10,
    "start_time": "2023-01-15T14:57:28.452Z"
   },
   {
    "duration": 961,
    "start_time": "2023-01-15T14:57:28.464Z"
   },
   {
    "duration": 30,
    "start_time": "2023-01-15T14:57:29.428Z"
   },
   {
    "duration": 102,
    "start_time": "2023-01-15T14:57:29.460Z"
   },
   {
    "duration": 156,
    "start_time": "2023-01-15T14:57:29.564Z"
   },
   {
    "duration": 172,
    "start_time": "2023-01-15T14:57:29.722Z"
   },
   {
    "duration": 108,
    "start_time": "2023-01-15T14:57:29.896Z"
   },
   {
    "duration": 6,
    "start_time": "2023-01-15T14:57:30.005Z"
   },
   {
    "duration": 1637,
    "start_time": "2023-01-15T14:57:30.014Z"
   },
   {
    "duration": 3,
    "start_time": "2023-01-15T14:57:31.653Z"
   },
   {
    "duration": 8,
    "start_time": "2023-01-15T14:57:31.658Z"
   },
   {
    "duration": 303,
    "start_time": "2023-01-15T14:57:31.668Z"
   },
   {
    "duration": 179,
    "start_time": "2023-01-15T14:57:31.973Z"
   },
   {
    "duration": 30,
    "start_time": "2023-01-15T14:57:32.157Z"
   },
   {
    "duration": 183,
    "start_time": "2023-01-15T14:57:32.189Z"
   },
   {
    "duration": 19,
    "start_time": "2023-01-15T14:57:32.374Z"
   },
   {
    "duration": 174,
    "start_time": "2023-01-15T14:57:32.395Z"
   },
   {
    "duration": 32,
    "start_time": "2023-01-15T14:57:32.570Z"
   },
   {
    "duration": 65,
    "start_time": "2023-01-15T14:57:32.604Z"
   },
   {
    "duration": 3,
    "start_time": "2023-01-15T14:57:32.671Z"
   },
   {
    "duration": 10,
    "start_time": "2023-01-15T14:57:32.676Z"
   },
   {
    "duration": 143,
    "start_time": "2023-01-15T14:57:32.688Z"
   },
   {
    "duration": 193,
    "start_time": "2023-01-15T14:57:32.833Z"
   },
   {
    "duration": 51,
    "start_time": "2023-01-15T14:57:33.028Z"
   },
   {
    "duration": 19,
    "start_time": "2023-01-15T14:57:33.082Z"
   },
   {
    "duration": 258,
    "start_time": "2023-01-15T14:57:33.102Z"
   },
   {
    "duration": 30,
    "start_time": "2023-01-15T14:57:33.366Z"
   },
   {
    "duration": 58,
    "start_time": "2023-01-15T14:57:33.397Z"
   },
   {
    "duration": 55,
    "start_time": "2023-01-15T14:57:33.457Z"
   },
   {
    "duration": 274,
    "start_time": "2023-01-15T14:57:33.515Z"
   },
   {
    "duration": 160,
    "start_time": "2023-01-15T14:57:33.792Z"
   },
   {
    "duration": 166,
    "start_time": "2023-01-15T14:57:33.953Z"
   },
   {
    "duration": 66,
    "start_time": "2023-01-15T14:57:34.120Z"
   },
   {
    "duration": 23,
    "start_time": "2023-01-15T14:57:34.188Z"
   },
   {
    "duration": 75,
    "start_time": "2023-01-15T14:57:34.214Z"
   },
   {
    "duration": 2,
    "start_time": "2023-01-15T14:57:34.292Z"
   },
   {
    "duration": 90,
    "start_time": "2023-01-15T14:57:34.296Z"
   },
   {
    "duration": 199,
    "start_time": "2023-01-15T14:57:34.388Z"
   },
   {
    "duration": 78,
    "start_time": "2023-01-15T14:57:34.590Z"
   },
   {
    "duration": 20,
    "start_time": "2023-01-15T14:57:34.670Z"
   },
   {
    "duration": 72,
    "start_time": "2023-01-15T14:57:34.692Z"
   },
   {
    "duration": 44,
    "start_time": "2023-01-15T14:57:34.766Z"
   },
   {
    "duration": 40,
    "start_time": "2023-01-15T14:57:34.812Z"
   },
   {
    "duration": 25,
    "start_time": "2023-01-15T14:57:34.855Z"
   },
   {
    "duration": 73,
    "start_time": "2023-01-15T14:57:34.882Z"
   },
   {
    "duration": 19,
    "start_time": "2023-01-15T14:57:34.957Z"
   },
   {
    "duration": 9,
    "start_time": "2023-01-15T14:57:34.978Z"
   },
   {
    "duration": 7,
    "start_time": "2023-01-15T14:57:34.989Z"
   },
   {
    "duration": 104,
    "start_time": "2023-01-15T14:57:34.997Z"
   },
   {
    "duration": 28,
    "start_time": "2023-01-15T14:57:43.146Z"
   },
   {
    "duration": 19,
    "start_time": "2023-01-15T14:57:50.308Z"
   },
   {
    "duration": 76,
    "start_time": "2023-01-15T14:57:57.225Z"
   },
   {
    "duration": 2,
    "start_time": "2023-01-15T15:00:48.670Z"
   },
   {
    "duration": 103,
    "start_time": "2023-01-15T15:08:44.894Z"
   },
   {
    "duration": 12,
    "start_time": "2023-01-15T15:09:11.251Z"
   },
   {
    "duration": 15,
    "start_time": "2023-01-15T15:09:14.986Z"
   },
   {
    "duration": 11,
    "start_time": "2023-01-15T15:09:21.097Z"
   },
   {
    "duration": 12,
    "start_time": "2023-01-15T15:09:36.189Z"
   },
   {
    "duration": 100,
    "start_time": "2023-01-15T15:09:46.208Z"
   },
   {
    "duration": 32,
    "start_time": "2023-01-15T15:10:24.376Z"
   },
   {
    "duration": 92,
    "start_time": "2023-01-15T15:10:26.343Z"
   },
   {
    "duration": 13,
    "start_time": "2023-01-15T15:11:38.314Z"
   },
   {
    "duration": 29,
    "start_time": "2023-01-15T15:12:23.528Z"
   },
   {
    "duration": 12,
    "start_time": "2023-01-15T15:12:38.669Z"
   },
   {
    "duration": 11,
    "start_time": "2023-01-15T15:28:25.812Z"
   },
   {
    "duration": 34,
    "start_time": "2023-01-15T15:31:54.137Z"
   },
   {
    "duration": 12,
    "start_time": "2023-01-15T15:32:23.080Z"
   },
   {
    "duration": 10,
    "start_time": "2023-01-15T15:32:28.680Z"
   },
   {
    "duration": 9,
    "start_time": "2023-01-15T15:32:37.984Z"
   },
   {
    "duration": 8,
    "start_time": "2023-01-15T15:32:39.971Z"
   },
   {
    "duration": 12,
    "start_time": "2023-01-15T15:32:49.329Z"
   },
   {
    "duration": 33,
    "start_time": "2023-01-15T15:32:54.136Z"
   },
   {
    "duration": 4,
    "start_time": "2023-01-15T15:33:16.602Z"
   },
   {
    "duration": 2,
    "start_time": "2023-01-15T15:33:27.524Z"
   },
   {
    "duration": 17,
    "start_time": "2023-01-15T15:33:29.129Z"
   },
   {
    "duration": 34,
    "start_time": "2023-01-15T15:34:33.686Z"
   },
   {
    "duration": 5,
    "start_time": "2023-01-15T15:34:45.005Z"
   },
   {
    "duration": 18,
    "start_time": "2023-01-15T15:34:45.012Z"
   },
   {
    "duration": 1011,
    "start_time": "2023-01-15T15:34:45.033Z"
   },
   {
    "duration": 22,
    "start_time": "2023-01-15T15:34:46.049Z"
   },
   {
    "duration": 97,
    "start_time": "2023-01-15T15:34:46.072Z"
   },
   {
    "duration": 152,
    "start_time": "2023-01-15T15:34:46.171Z"
   },
   {
    "duration": 172,
    "start_time": "2023-01-15T15:34:46.324Z"
   },
   {
    "duration": 112,
    "start_time": "2023-01-15T15:34:46.498Z"
   },
   {
    "duration": 7,
    "start_time": "2023-01-15T15:34:46.612Z"
   },
   {
    "duration": 1727,
    "start_time": "2023-01-15T15:34:46.622Z"
   },
   {
    "duration": 3,
    "start_time": "2023-01-15T15:34:48.358Z"
   },
   {
    "duration": 9,
    "start_time": "2023-01-15T15:34:48.362Z"
   },
   {
    "duration": 266,
    "start_time": "2023-01-15T15:34:48.373Z"
   },
   {
    "duration": 182,
    "start_time": "2023-01-15T15:34:48.642Z"
   },
   {
    "duration": 57,
    "start_time": "2023-01-15T15:34:48.828Z"
   },
   {
    "duration": 205,
    "start_time": "2023-01-15T15:34:48.889Z"
   },
   {
    "duration": 43,
    "start_time": "2023-01-15T15:34:49.099Z"
   },
   {
    "duration": 251,
    "start_time": "2023-01-15T15:34:49.144Z"
   },
   {
    "duration": 62,
    "start_time": "2023-01-15T15:34:49.397Z"
   },
   {
    "duration": 109,
    "start_time": "2023-01-15T15:34:49.463Z"
   },
   {
    "duration": 3,
    "start_time": "2023-01-15T15:34:49.574Z"
   },
   {
    "duration": 23,
    "start_time": "2023-01-15T15:34:49.579Z"
   },
   {
    "duration": 138,
    "start_time": "2023-01-15T15:34:49.605Z"
   },
   {
    "duration": 315,
    "start_time": "2023-01-15T15:34:49.745Z"
   },
   {
    "duration": 50,
    "start_time": "2023-01-15T15:34:50.062Z"
   },
   {
    "duration": 33,
    "start_time": "2023-01-15T15:34:50.114Z"
   },
   {
    "duration": 144,
    "start_time": "2023-01-15T15:34:50.149Z"
   },
   {
    "duration": 29,
    "start_time": "2023-01-15T15:34:50.297Z"
   },
   {
    "duration": 52,
    "start_time": "2023-01-15T15:34:50.337Z"
   },
   {
    "duration": 63,
    "start_time": "2023-01-15T15:34:50.391Z"
   },
   {
    "duration": 255,
    "start_time": "2023-01-15T15:34:50.460Z"
   },
   {
    "duration": 154,
    "start_time": "2023-01-15T15:34:50.717Z"
   },
   {
    "duration": 181,
    "start_time": "2023-01-15T15:34:50.874Z"
   },
   {
    "duration": 44,
    "start_time": "2023-01-15T15:34:51.057Z"
   },
   {
    "duration": 35,
    "start_time": "2023-01-15T15:34:51.103Z"
   },
   {
    "duration": 48,
    "start_time": "2023-01-15T15:34:51.140Z"
   },
   {
    "duration": 22,
    "start_time": "2023-01-15T15:34:51.190Z"
   },
   {
    "duration": 68,
    "start_time": "2023-01-15T15:34:51.214Z"
   },
   {
    "duration": 187,
    "start_time": "2023-01-15T15:34:51.284Z"
   },
   {
    "duration": 45,
    "start_time": "2023-01-15T15:34:51.473Z"
   },
   {
    "duration": 43,
    "start_time": "2023-01-15T15:34:51.521Z"
   },
   {
    "duration": 38,
    "start_time": "2023-01-15T15:34:51.566Z"
   },
   {
    "duration": 61,
    "start_time": "2023-01-15T15:34:51.606Z"
   },
   {
    "duration": 17,
    "start_time": "2023-01-15T15:34:51.669Z"
   },
   {
    "duration": 44,
    "start_time": "2023-01-15T15:34:51.688Z"
   },
   {
    "duration": 89,
    "start_time": "2023-01-15T15:34:51.740Z"
   },
   {
    "duration": 43,
    "start_time": "2023-01-15T15:34:51.831Z"
   },
   {
    "duration": 27,
    "start_time": "2023-01-15T15:34:51.876Z"
   },
   {
    "duration": 19,
    "start_time": "2023-01-15T15:34:51.905Z"
   },
   {
    "duration": 39,
    "start_time": "2023-01-15T15:34:51.926Z"
   },
   {
    "duration": 89,
    "start_time": "2023-01-15T15:34:51.967Z"
   },
   {
    "duration": 37,
    "start_time": "2023-01-15T15:34:52.058Z"
   },
   {
    "duration": 3,
    "start_time": "2023-01-15T15:34:52.097Z"
   },
   {
    "duration": 22,
    "start_time": "2023-01-15T15:34:52.102Z"
   },
   {
    "duration": 44,
    "start_time": "2023-01-15T15:34:52.126Z"
   },
   {
    "duration": 29,
    "start_time": "2023-01-15T15:34:52.172Z"
   },
   {
    "duration": 4,
    "start_time": "2023-01-15T15:38:01.572Z"
   },
   {
    "duration": 21,
    "start_time": "2023-01-15T15:38:01.578Z"
   },
   {
    "duration": 895,
    "start_time": "2023-01-15T15:38:01.600Z"
   },
   {
    "duration": 13,
    "start_time": "2023-01-15T15:38:02.497Z"
   },
   {
    "duration": 102,
    "start_time": "2023-01-15T15:38:02.512Z"
   },
   {
    "duration": 150,
    "start_time": "2023-01-15T15:38:02.617Z"
   },
   {
    "duration": 154,
    "start_time": "2023-01-15T15:38:02.768Z"
   },
   {
    "duration": 97,
    "start_time": "2023-01-15T15:38:02.924Z"
   },
   {
    "duration": 21,
    "start_time": "2023-01-15T15:38:03.023Z"
   },
   {
    "duration": 1626,
    "start_time": "2023-01-15T15:38:03.049Z"
   },
   {
    "duration": 2,
    "start_time": "2023-01-15T15:38:04.677Z"
   },
   {
    "duration": 7,
    "start_time": "2023-01-15T15:38:04.681Z"
   },
   {
    "duration": 266,
    "start_time": "2023-01-15T15:38:04.691Z"
   },
   {
    "duration": 162,
    "start_time": "2023-01-15T15:38:04.959Z"
   },
   {
    "duration": 47,
    "start_time": "2023-01-15T15:38:05.122Z"
   },
   {
    "duration": 183,
    "start_time": "2023-01-15T15:38:05.170Z"
   },
   {
    "duration": 19,
    "start_time": "2023-01-15T15:38:05.356Z"
   },
   {
    "duration": 261,
    "start_time": "2023-01-15T15:38:05.378Z"
   },
   {
    "duration": 37,
    "start_time": "2023-01-15T15:38:05.646Z"
   },
   {
    "duration": 59,
    "start_time": "2023-01-15T15:38:05.685Z"
   },
   {
    "duration": 3,
    "start_time": "2023-01-15T15:38:05.750Z"
   },
   {
    "duration": 17,
    "start_time": "2023-01-15T15:38:05.755Z"
   },
   {
    "duration": 135,
    "start_time": "2023-01-15T15:38:05.774Z"
   },
   {
    "duration": 179,
    "start_time": "2023-01-15T15:38:05.911Z"
   },
   {
    "duration": 65,
    "start_time": "2023-01-15T15:38:06.092Z"
   },
   {
    "duration": 18,
    "start_time": "2023-01-15T15:38:06.159Z"
   },
   {
    "duration": 136,
    "start_time": "2023-01-15T15:38:06.179Z"
   },
   {
    "duration": 43,
    "start_time": "2023-01-15T15:38:06.320Z"
   },
   {
    "duration": 33,
    "start_time": "2023-01-15T15:38:06.365Z"
   },
   {
    "duration": 81,
    "start_time": "2023-01-15T15:38:06.400Z"
   },
   {
    "duration": 250,
    "start_time": "2023-01-15T15:38:06.483Z"
   },
   {
    "duration": 158,
    "start_time": "2023-01-15T15:38:06.744Z"
   },
   {
    "duration": 187,
    "start_time": "2023-01-15T15:38:06.905Z"
   },
   {
    "duration": 57,
    "start_time": "2023-01-15T15:38:07.094Z"
   },
   {
    "duration": 21,
    "start_time": "2023-01-15T15:38:07.157Z"
   },
   {
    "duration": 37,
    "start_time": "2023-01-15T15:38:07.180Z"
   },
   {
    "duration": 5,
    "start_time": "2023-01-15T15:38:07.219Z"
   },
   {
    "duration": 72,
    "start_time": "2023-01-15T15:38:07.225Z"
   },
   {
    "duration": 195,
    "start_time": "2023-01-15T15:38:07.299Z"
   },
   {
    "duration": 53,
    "start_time": "2023-01-15T15:38:07.496Z"
   },
   {
    "duration": 17,
    "start_time": "2023-01-15T15:38:07.554Z"
   },
   {
    "duration": 29,
    "start_time": "2023-01-15T15:38:07.573Z"
   },
   {
    "duration": 67,
    "start_time": "2023-01-15T15:38:07.604Z"
   },
   {
    "duration": 17,
    "start_time": "2023-01-15T15:38:07.673Z"
   },
   {
    "duration": 55,
    "start_time": "2023-01-15T15:38:07.692Z"
   },
   {
    "duration": 61,
    "start_time": "2023-01-15T15:38:07.748Z"
   },
   {
    "duration": 47,
    "start_time": "2023-01-15T15:38:07.811Z"
   },
   {
    "duration": 22,
    "start_time": "2023-01-15T15:38:07.860Z"
   },
   {
    "duration": 7,
    "start_time": "2023-01-15T15:38:07.883Z"
   },
   {
    "duration": 7,
    "start_time": "2023-01-15T15:38:07.892Z"
   },
   {
    "duration": 83,
    "start_time": "2023-01-15T15:38:07.900Z"
   },
   {
    "duration": 39,
    "start_time": "2023-01-15T15:38:07.985Z"
   },
   {
    "duration": 14,
    "start_time": "2023-01-15T15:38:08.026Z"
   },
   {
    "duration": 19,
    "start_time": "2023-01-15T15:38:08.042Z"
   },
   {
    "duration": 14,
    "start_time": "2023-01-15T15:38:08.062Z"
   },
   {
    "duration": 78,
    "start_time": "2023-01-15T15:38:08.078Z"
   },
   {
    "duration": 5,
    "start_time": "2023-01-15T15:38:46.369Z"
   },
   {
    "duration": 9,
    "start_time": "2023-01-15T15:38:46.376Z"
   },
   {
    "duration": 957,
    "start_time": "2023-01-15T15:38:46.387Z"
   },
   {
    "duration": 13,
    "start_time": "2023-01-15T15:38:47.351Z"
   },
   {
    "duration": 98,
    "start_time": "2023-01-15T15:38:47.365Z"
   },
   {
    "duration": 147,
    "start_time": "2023-01-15T15:38:47.465Z"
   },
   {
    "duration": 148,
    "start_time": "2023-01-15T15:38:47.626Z"
   },
   {
    "duration": 107,
    "start_time": "2023-01-15T15:38:47.776Z"
   },
   {
    "duration": 7,
    "start_time": "2023-01-15T15:38:47.885Z"
   },
   {
    "duration": 1716,
    "start_time": "2023-01-15T15:38:47.894Z"
   },
   {
    "duration": 3,
    "start_time": "2023-01-15T15:38:49.612Z"
   },
   {
    "duration": 27,
    "start_time": "2023-01-15T15:38:49.617Z"
   },
   {
    "duration": 380,
    "start_time": "2023-01-15T15:38:49.650Z"
   },
   {
    "duration": 176,
    "start_time": "2023-01-15T15:38:50.032Z"
   },
   {
    "duration": 47,
    "start_time": "2023-01-15T15:38:50.210Z"
   },
   {
    "duration": 164,
    "start_time": "2023-01-15T15:38:50.260Z"
   },
   {
    "duration": 28,
    "start_time": "2023-01-15T15:38:50.426Z"
   },
   {
    "duration": 200,
    "start_time": "2023-01-15T15:38:50.456Z"
   },
   {
    "duration": 44,
    "start_time": "2023-01-15T15:38:50.659Z"
   },
   {
    "duration": 93,
    "start_time": "2023-01-15T15:38:50.705Z"
   },
   {
    "duration": 2,
    "start_time": "2023-01-15T15:38:50.800Z"
   },
   {
    "duration": 17,
    "start_time": "2023-01-15T15:38:50.803Z"
   },
   {
    "duration": 144,
    "start_time": "2023-01-15T15:38:50.821Z"
   },
   {
    "duration": 183,
    "start_time": "2023-01-15T15:38:50.967Z"
   },
   {
    "duration": 51,
    "start_time": "2023-01-15T15:38:51.153Z"
   },
   {
    "duration": 17,
    "start_time": "2023-01-15T15:38:51.207Z"
   },
   {
    "duration": 164,
    "start_time": "2023-01-15T15:38:51.226Z"
   },
   {
    "duration": 30,
    "start_time": "2023-01-15T15:38:51.394Z"
   },
   {
    "duration": 47,
    "start_time": "2023-01-15T15:38:51.426Z"
   },
   {
    "duration": 72,
    "start_time": "2023-01-15T15:38:51.475Z"
   },
   {
    "duration": 240,
    "start_time": "2023-01-15T15:38:51.550Z"
   },
   {
    "duration": 161,
    "start_time": "2023-01-15T15:38:51.792Z"
   },
   {
    "duration": 163,
    "start_time": "2023-01-15T15:38:51.955Z"
   },
   {
    "duration": 56,
    "start_time": "2023-01-15T15:38:52.119Z"
   },
   {
    "duration": 22,
    "start_time": "2023-01-15T15:38:52.177Z"
   },
   {
    "duration": 65,
    "start_time": "2023-01-15T15:38:52.200Z"
   },
   {
    "duration": 3,
    "start_time": "2023-01-15T15:38:52.267Z"
   },
   {
    "duration": 55,
    "start_time": "2023-01-15T15:38:52.271Z"
   },
   {
    "duration": 187,
    "start_time": "2023-01-15T15:38:52.328Z"
   },
   {
    "duration": 60,
    "start_time": "2023-01-15T15:38:52.517Z"
   },
   {
    "duration": 17,
    "start_time": "2023-01-15T15:38:52.579Z"
   },
   {
    "duration": 36,
    "start_time": "2023-01-15T15:38:52.597Z"
   },
   {
    "duration": 61,
    "start_time": "2023-01-15T15:38:52.635Z"
   },
   {
    "duration": 17,
    "start_time": "2023-01-15T15:38:52.698Z"
   },
   {
    "duration": 23,
    "start_time": "2023-01-15T15:38:52.717Z"
   },
   {
    "duration": 74,
    "start_time": "2023-01-15T15:38:52.741Z"
   },
   {
    "duration": 39,
    "start_time": "2023-01-15T15:38:52.817Z"
   },
   {
    "duration": 20,
    "start_time": "2023-01-15T15:38:52.858Z"
   },
   {
    "duration": 6,
    "start_time": "2023-01-15T15:38:52.880Z"
   },
   {
    "duration": 11,
    "start_time": "2023-01-15T15:38:52.888Z"
   },
   {
    "duration": 76,
    "start_time": "2023-01-15T15:38:52.901Z"
   },
   {
    "duration": 38,
    "start_time": "2023-01-15T15:38:52.978Z"
   },
   {
    "duration": 3,
    "start_time": "2023-01-15T15:38:53.018Z"
   },
   {
    "duration": 11,
    "start_time": "2023-01-15T15:38:53.038Z"
   },
   {
    "duration": 20,
    "start_time": "2023-01-15T15:38:53.050Z"
   },
   {
    "duration": 63,
    "start_time": "2023-01-15T15:38:53.071Z"
   },
   {
    "duration": 4,
    "start_time": "2023-01-15T15:40:32.902Z"
   },
   {
    "duration": 4,
    "start_time": "2023-01-15T15:43:49.386Z"
   },
   {
    "duration": 53,
    "start_time": "2023-01-15T15:44:57.929Z"
   },
   {
    "duration": 35,
    "start_time": "2023-01-15T15:45:48.227Z"
   },
   {
    "duration": 4,
    "start_time": "2023-01-15T15:45:56.103Z"
   },
   {
    "duration": 18,
    "start_time": "2023-01-15T15:45:56.109Z"
   },
   {
    "duration": 926,
    "start_time": "2023-01-15T15:45:56.130Z"
   },
   {
    "duration": 13,
    "start_time": "2023-01-15T15:45:57.059Z"
   },
   {
    "duration": 124,
    "start_time": "2023-01-15T15:45:57.074Z"
   },
   {
    "duration": 153,
    "start_time": "2023-01-15T15:45:57.199Z"
   },
   {
    "duration": 153,
    "start_time": "2023-01-15T15:45:57.354Z"
   },
   {
    "duration": 109,
    "start_time": "2023-01-15T15:45:57.509Z"
   },
   {
    "duration": 6,
    "start_time": "2023-01-15T15:45:57.620Z"
   },
   {
    "duration": 1794,
    "start_time": "2023-01-15T15:45:57.639Z"
   },
   {
    "duration": 3,
    "start_time": "2023-01-15T15:45:59.434Z"
   },
   {
    "duration": 15,
    "start_time": "2023-01-15T15:45:59.440Z"
   },
   {
    "duration": 273,
    "start_time": "2023-01-15T15:45:59.458Z"
   },
   {
    "duration": 179,
    "start_time": "2023-01-15T15:45:59.737Z"
   },
   {
    "duration": 45,
    "start_time": "2023-01-15T15:45:59.917Z"
   },
   {
    "duration": 148,
    "start_time": "2023-01-15T15:45:59.963Z"
   },
   {
    "duration": 35,
    "start_time": "2023-01-15T15:46:00.113Z"
   },
   {
    "duration": 166,
    "start_time": "2023-01-15T15:46:00.150Z"
   },
   {
    "duration": 40,
    "start_time": "2023-01-15T15:46:00.318Z"
   },
   {
    "duration": 52,
    "start_time": "2023-01-15T15:46:00.360Z"
   },
   {
    "duration": 2,
    "start_time": "2023-01-15T15:46:00.414Z"
   },
   {
    "duration": 30,
    "start_time": "2023-01-15T15:46:00.418Z"
   },
   {
    "duration": 126,
    "start_time": "2023-01-15T15:46:00.452Z"
   },
   {
    "duration": 174,
    "start_time": "2023-01-15T15:46:00.580Z"
   },
   {
    "duration": 48,
    "start_time": "2023-01-15T15:46:00.756Z"
   },
   {
    "duration": 42,
    "start_time": "2023-01-15T15:46:00.806Z"
   },
   {
    "duration": 138,
    "start_time": "2023-01-15T15:46:00.852Z"
   },
   {
    "duration": 29,
    "start_time": "2023-01-15T15:46:00.994Z"
   },
   {
    "duration": 60,
    "start_time": "2023-01-15T15:46:01.024Z"
   },
   {
    "duration": 77,
    "start_time": "2023-01-15T15:46:01.086Z"
   },
   {
    "duration": 240,
    "start_time": "2023-01-15T15:46:01.165Z"
   },
   {
    "duration": 142,
    "start_time": "2023-01-15T15:46:01.407Z"
   },
   {
    "duration": 160,
    "start_time": "2023-01-15T15:46:01.556Z"
   },
   {
    "duration": 55,
    "start_time": "2023-01-15T15:46:01.718Z"
   },
   {
    "duration": 21,
    "start_time": "2023-01-15T15:46:01.775Z"
   },
   {
    "duration": 53,
    "start_time": "2023-01-15T15:46:01.798Z"
   },
   {
    "duration": 7,
    "start_time": "2023-01-15T15:46:01.853Z"
   },
   {
    "duration": 45,
    "start_time": "2023-01-15T15:46:01.861Z"
   },
   {
    "duration": 194,
    "start_time": "2023-01-15T15:46:01.908Z"
   },
   {
    "duration": 61,
    "start_time": "2023-01-15T15:46:02.104Z"
   },
   {
    "duration": 17,
    "start_time": "2023-01-15T15:46:02.166Z"
   },
   {
    "duration": 37,
    "start_time": "2023-01-15T15:46:02.184Z"
   },
   {
    "duration": 54,
    "start_time": "2023-01-15T15:46:02.223Z"
   },
   {
    "duration": 16,
    "start_time": "2023-01-15T15:46:02.279Z"
   },
   {
    "duration": 51,
    "start_time": "2023-01-15T15:46:02.297Z"
   },
   {
    "duration": 49,
    "start_time": "2023-01-15T15:46:02.353Z"
   },
   {
    "duration": 46,
    "start_time": "2023-01-15T15:46:02.405Z"
   },
   {
    "duration": 24,
    "start_time": "2023-01-15T15:46:02.453Z"
   },
   {
    "duration": 7,
    "start_time": "2023-01-15T15:46:02.478Z"
   },
   {
    "duration": 7,
    "start_time": "2023-01-15T15:46:02.486Z"
   },
   {
    "duration": 74,
    "start_time": "2023-01-15T15:46:02.495Z"
   },
   {
    "duration": 40,
    "start_time": "2023-01-15T15:46:02.571Z"
   },
   {
    "duration": 3,
    "start_time": "2023-01-15T15:46:02.613Z"
   },
   {
    "duration": 6,
    "start_time": "2023-01-15T15:46:02.638Z"
   },
   {
    "duration": 1187,
    "start_time": "2023-01-15T15:46:02.648Z"
   },
   {
    "duration": 11,
    "start_time": "2023-01-15T15:47:41.073Z"
   },
   {
    "duration": 1181,
    "start_time": "2023-01-15T15:48:02.159Z"
   },
   {
    "duration": 1210,
    "start_time": "2023-01-15T15:48:23.618Z"
   },
   {
    "duration": 13,
    "start_time": "2023-01-15T15:49:11.650Z"
   },
   {
    "duration": 85,
    "start_time": "2023-01-15T15:49:33.066Z"
   },
   {
    "duration": 4,
    "start_time": "2023-01-15T15:50:22.916Z"
   },
   {
    "duration": 1221,
    "start_time": "2023-01-15T15:50:29.938Z"
   },
   {
    "duration": 56,
    "start_time": "2023-01-15T15:51:06.834Z"
   },
   {
    "duration": 11,
    "start_time": "2023-01-15T15:51:41.200Z"
   },
   {
    "duration": 15,
    "start_time": "2023-01-15T15:51:51.368Z"
   },
   {
    "duration": 29,
    "start_time": "2023-01-15T15:53:10.660Z"
   },
   {
    "duration": 97,
    "start_time": "2023-01-15T15:53:58.223Z"
   },
   {
    "duration": 16,
    "start_time": "2023-01-15T15:54:15.692Z"
   },
   {
    "duration": 12,
    "start_time": "2023-01-15T15:57:06.207Z"
   },
   {
    "duration": 9,
    "start_time": "2023-01-15T15:57:10.912Z"
   },
   {
    "duration": 23,
    "start_time": "2023-01-15T15:57:17.701Z"
   },
   {
    "duration": 11,
    "start_time": "2023-01-15T15:57:35.214Z"
   },
   {
    "duration": 20,
    "start_time": "2023-01-15T15:57:37.856Z"
   },
   {
    "duration": 13,
    "start_time": "2023-01-15T15:58:18.537Z"
   },
   {
    "duration": 34,
    "start_time": "2023-01-15T15:58:19.733Z"
   },
   {
    "duration": 24,
    "start_time": "2023-01-15T15:58:23.040Z"
   },
   {
    "duration": 4,
    "start_time": "2023-01-15T15:58:42.753Z"
   },
   {
    "duration": 10,
    "start_time": "2023-01-15T15:58:42.759Z"
   },
   {
    "duration": 851,
    "start_time": "2023-01-15T15:58:42.771Z"
   },
   {
    "duration": 32,
    "start_time": "2023-01-15T15:58:43.623Z"
   },
   {
    "duration": 94,
    "start_time": "2023-01-15T15:58:43.658Z"
   },
   {
    "duration": 153,
    "start_time": "2023-01-15T15:58:43.754Z"
   },
   {
    "duration": 156,
    "start_time": "2023-01-15T15:58:43.908Z"
   },
   {
    "duration": 95,
    "start_time": "2023-01-15T15:58:44.066Z"
   },
   {
    "duration": 6,
    "start_time": "2023-01-15T15:58:44.162Z"
   },
   {
    "duration": 1785,
    "start_time": "2023-01-15T15:58:44.170Z"
   },
   {
    "duration": 3,
    "start_time": "2023-01-15T15:58:45.957Z"
   },
   {
    "duration": 6,
    "start_time": "2023-01-15T15:58:45.961Z"
   },
   {
    "duration": 259,
    "start_time": "2023-01-15T15:58:45.969Z"
   },
   {
    "duration": 165,
    "start_time": "2023-01-15T15:58:46.231Z"
   },
   {
    "duration": 49,
    "start_time": "2023-01-15T15:58:46.398Z"
   },
   {
    "duration": 137,
    "start_time": "2023-01-15T15:58:46.449Z"
   },
   {
    "duration": 21,
    "start_time": "2023-01-15T15:58:46.587Z"
   },
   {
    "duration": 179,
    "start_time": "2023-01-15T15:58:46.609Z"
   },
   {
    "duration": 33,
    "start_time": "2023-01-15T15:58:46.790Z"
   },
   {
    "duration": 63,
    "start_time": "2023-01-15T15:58:46.825Z"
   },
   {
    "duration": 2,
    "start_time": "2023-01-15T15:58:46.890Z"
   },
   {
    "duration": 10,
    "start_time": "2023-01-15T15:58:46.894Z"
   },
   {
    "duration": 139,
    "start_time": "2023-01-15T15:58:46.905Z"
   },
   {
    "duration": 174,
    "start_time": "2023-01-15T15:58:47.046Z"
   },
   {
    "duration": 53,
    "start_time": "2023-01-15T15:58:47.222Z"
   },
   {
    "duration": 16,
    "start_time": "2023-01-15T15:58:47.277Z"
   },
   {
    "duration": 132,
    "start_time": "2023-01-15T15:58:47.294Z"
   },
   {
    "duration": 38,
    "start_time": "2023-01-15T15:58:47.428Z"
   },
   {
    "duration": 34,
    "start_time": "2023-01-15T15:58:47.468Z"
   },
   {
    "duration": 76,
    "start_time": "2023-01-15T15:58:47.504Z"
   },
   {
    "duration": 250,
    "start_time": "2023-01-15T15:58:47.582Z"
   },
   {
    "duration": 148,
    "start_time": "2023-01-15T15:58:47.838Z"
   },
   {
    "duration": 170,
    "start_time": "2023-01-15T15:58:47.988Z"
   },
   {
    "duration": 43,
    "start_time": "2023-01-15T15:58:48.159Z"
   },
   {
    "duration": 37,
    "start_time": "2023-01-15T15:58:48.203Z"
   },
   {
    "duration": 17,
    "start_time": "2023-01-15T15:58:48.242Z"
   },
   {
    "duration": 20,
    "start_time": "2023-01-15T15:58:48.261Z"
   },
   {
    "duration": 32,
    "start_time": "2023-01-15T15:58:48.283Z"
   },
   {
    "duration": 2,
    "start_time": "2023-01-15T15:58:48.343Z"
   },
   {
    "duration": 47,
    "start_time": "2023-01-15T15:58:48.348Z"
   },
   {
    "duration": 204,
    "start_time": "2023-01-15T15:58:48.399Z"
   },
   {
    "duration": 48,
    "start_time": "2023-01-15T15:58:48.605Z"
   },
   {
    "duration": 17,
    "start_time": "2023-01-15T15:58:48.654Z"
   },
   {
    "duration": 13,
    "start_time": "2023-01-15T15:58:48.672Z"
   },
   {
    "duration": 28,
    "start_time": "2023-01-15T15:58:48.687Z"
   },
   {
    "duration": 63,
    "start_time": "2023-01-15T15:58:48.717Z"
   },
   {
    "duration": 19,
    "start_time": "2023-01-15T15:58:48.782Z"
   },
   {
    "duration": 59,
    "start_time": "2023-01-15T15:58:48.803Z"
   },
   {
    "duration": 66,
    "start_time": "2023-01-15T15:58:48.864Z"
   },
   {
    "duration": 45,
    "start_time": "2023-01-15T15:58:48.932Z"
   },
   {
    "duration": 28,
    "start_time": "2023-01-15T15:58:48.979Z"
   },
   {
    "duration": 9,
    "start_time": "2023-01-15T15:58:49.009Z"
   },
   {
    "duration": 43,
    "start_time": "2023-01-15T15:58:49.020Z"
   },
   {
    "duration": 62,
    "start_time": "2023-01-15T15:58:49.065Z"
   },
   {
    "duration": 50,
    "start_time": "2023-01-15T15:58:49.129Z"
   },
   {
    "duration": 3,
    "start_time": "2023-01-15T15:58:49.181Z"
   },
   {
    "duration": 12,
    "start_time": "2023-01-15T15:59:00.670Z"
   },
   {
    "duration": 12,
    "start_time": "2023-01-15T15:59:05.422Z"
   },
   {
    "duration": 1206,
    "start_time": "2023-01-15T15:59:09.296Z"
   },
   {
    "duration": 102,
    "start_time": "2023-01-15T16:00:44.827Z"
   },
   {
    "duration": 1229,
    "start_time": "2023-01-15T16:01:46.526Z"
   },
   {
    "duration": 111,
    "start_time": "2023-01-15T16:03:48.449Z"
   },
   {
    "duration": 12,
    "start_time": "2023-01-15T16:04:20.275Z"
   },
   {
    "duration": 334,
    "start_time": "2023-01-15T16:04:27.695Z"
   },
   {
    "duration": 1103,
    "start_time": "2023-01-15T16:05:09.961Z"
   },
   {
    "duration": 50,
    "start_time": "2023-01-15T16:05:35.537Z"
   },
   {
    "duration": 5,
    "start_time": "2023-01-15T16:05:43.251Z"
   },
   {
    "duration": 24,
    "start_time": "2023-01-15T16:05:43.258Z"
   },
   {
    "duration": 854,
    "start_time": "2023-01-15T16:05:43.284Z"
   },
   {
    "duration": 17,
    "start_time": "2023-01-15T16:05:44.140Z"
   },
   {
    "duration": 118,
    "start_time": "2023-01-15T16:05:44.158Z"
   },
   {
    "duration": 163,
    "start_time": "2023-01-15T16:05:44.279Z"
   },
   {
    "duration": 150,
    "start_time": "2023-01-15T16:05:44.445Z"
   },
   {
    "duration": 107,
    "start_time": "2023-01-15T16:05:44.596Z"
   },
   {
    "duration": 8,
    "start_time": "2023-01-15T16:05:44.704Z"
   },
   {
    "duration": 1666,
    "start_time": "2023-01-15T16:05:44.715Z"
   },
   {
    "duration": 3,
    "start_time": "2023-01-15T16:05:46.385Z"
   },
   {
    "duration": 25,
    "start_time": "2023-01-15T16:05:46.390Z"
   },
   {
    "duration": 273,
    "start_time": "2023-01-15T16:05:46.418Z"
   },
   {
    "duration": 171,
    "start_time": "2023-01-15T16:05:46.693Z"
   },
   {
    "duration": 29,
    "start_time": "2023-01-15T16:05:46.866Z"
   },
   {
    "duration": 159,
    "start_time": "2023-01-15T16:05:46.897Z"
   },
   {
    "duration": 20,
    "start_time": "2023-01-15T16:05:47.058Z"
   },
   {
    "duration": 171,
    "start_time": "2023-01-15T16:05:47.080Z"
   },
   {
    "duration": 32,
    "start_time": "2023-01-15T16:05:47.253Z"
   },
   {
    "duration": 73,
    "start_time": "2023-01-15T16:05:47.287Z"
   },
   {
    "duration": 3,
    "start_time": "2023-01-15T16:05:47.363Z"
   },
   {
    "duration": 26,
    "start_time": "2023-01-15T16:05:47.368Z"
   },
   {
    "duration": 146,
    "start_time": "2023-01-15T16:05:47.396Z"
   },
   {
    "duration": 182,
    "start_time": "2023-01-15T16:05:47.544Z"
   },
   {
    "duration": 54,
    "start_time": "2023-01-15T16:05:47.728Z"
   },
   {
    "duration": 19,
    "start_time": "2023-01-15T16:05:47.784Z"
   },
   {
    "duration": 143,
    "start_time": "2023-01-15T16:05:47.805Z"
   },
   {
    "duration": 29,
    "start_time": "2023-01-15T16:05:47.954Z"
   },
   {
    "duration": 43,
    "start_time": "2023-01-15T16:05:47.985Z"
   },
   {
    "duration": 58,
    "start_time": "2023-01-15T16:05:48.036Z"
   },
   {
    "duration": 245,
    "start_time": "2023-01-15T16:05:48.096Z"
   },
   {
    "duration": 139,
    "start_time": "2023-01-15T16:05:48.343Z"
   },
   {
    "duration": 167,
    "start_time": "2023-01-15T16:05:48.484Z"
   },
   {
    "duration": 44,
    "start_time": "2023-01-15T16:05:48.653Z"
   },
   {
    "duration": 39,
    "start_time": "2023-01-15T16:05:48.699Z"
   },
   {
    "duration": 17,
    "start_time": "2023-01-15T16:05:48.740Z"
   },
   {
    "duration": 25,
    "start_time": "2023-01-15T16:05:48.759Z"
   },
   {
    "duration": 54,
    "start_time": "2023-01-15T16:05:48.786Z"
   },
   {
    "duration": 4,
    "start_time": "2023-01-15T16:05:48.843Z"
   },
   {
    "duration": 92,
    "start_time": "2023-01-15T16:05:48.849Z"
   },
   {
    "duration": 222,
    "start_time": "2023-01-15T16:05:48.944Z"
   },
   {
    "duration": 53,
    "start_time": "2023-01-15T16:05:49.168Z"
   },
   {
    "duration": 19,
    "start_time": "2023-01-15T16:05:49.236Z"
   },
   {
    "duration": 16,
    "start_time": "2023-01-15T16:05:49.257Z"
   },
   {
    "duration": 26,
    "start_time": "2023-01-15T16:05:49.275Z"
   },
   {
    "duration": 58,
    "start_time": "2023-01-15T16:05:49.302Z"
   },
   {
    "duration": 19,
    "start_time": "2023-01-15T16:05:49.362Z"
   },
   {
    "duration": 26,
    "start_time": "2023-01-15T16:05:49.383Z"
   },
   {
    "duration": 79,
    "start_time": "2023-01-15T16:05:49.410Z"
   },
   {
    "duration": 46,
    "start_time": "2023-01-15T16:05:49.491Z"
   },
   {
    "duration": 18,
    "start_time": "2023-01-15T16:05:49.539Z"
   },
   {
    "duration": 25,
    "start_time": "2023-01-15T16:05:49.559Z"
   },
   {
    "duration": 9,
    "start_time": "2023-01-15T16:05:49.586Z"
   },
   {
    "duration": 64,
    "start_time": "2023-01-15T16:05:49.596Z"
   },
   {
    "duration": 39,
    "start_time": "2023-01-15T16:05:49.662Z"
   },
   {
    "duration": 2,
    "start_time": "2023-01-15T16:05:49.703Z"
   },
   {
    "duration": 31,
    "start_time": "2023-01-15T16:05:49.707Z"
   },
   {
    "duration": 12,
    "start_time": "2023-01-15T16:05:49.740Z"
   },
   {
    "duration": 15,
    "start_time": "2023-01-15T16:05:49.754Z"
   },
   {
    "duration": 519,
    "start_time": "2023-01-15T16:05:49.771Z"
   },
   {
    "duration": 49,
    "start_time": "2023-01-15T16:06:33.148Z"
   },
   {
    "duration": 5,
    "start_time": "2023-01-15T16:06:48.156Z"
   },
   {
    "duration": 6,
    "start_time": "2023-01-15T16:06:48.164Z"
   },
   {
    "duration": 890,
    "start_time": "2023-01-15T16:06:48.172Z"
   },
   {
    "duration": 17,
    "start_time": "2023-01-15T16:06:49.065Z"
   },
   {
    "duration": 118,
    "start_time": "2023-01-15T16:06:49.084Z"
   },
   {
    "duration": 147,
    "start_time": "2023-01-15T16:06:49.204Z"
   },
   {
    "duration": 133,
    "start_time": "2023-01-15T16:06:49.353Z"
   },
   {
    "duration": 104,
    "start_time": "2023-01-15T16:06:49.488Z"
   },
   {
    "duration": 6,
    "start_time": "2023-01-15T16:06:49.594Z"
   },
   {
    "duration": 1498,
    "start_time": "2023-01-15T16:06:49.603Z"
   },
   {
    "duration": 3,
    "start_time": "2023-01-15T16:06:51.103Z"
   },
   {
    "duration": 12,
    "start_time": "2023-01-15T16:06:51.108Z"
   },
   {
    "duration": 262,
    "start_time": "2023-01-15T16:06:51.122Z"
   },
   {
    "duration": 166,
    "start_time": "2023-01-15T16:06:51.386Z"
   },
   {
    "duration": 31,
    "start_time": "2023-01-15T16:06:51.554Z"
   },
   {
    "duration": 193,
    "start_time": "2023-01-15T16:06:51.587Z"
   },
   {
    "duration": 21,
    "start_time": "2023-01-15T16:06:51.782Z"
   },
   {
    "duration": 169,
    "start_time": "2023-01-15T16:06:51.805Z"
   },
   {
    "duration": 35,
    "start_time": "2023-01-15T16:06:51.977Z"
   },
   {
    "duration": 67,
    "start_time": "2023-01-15T16:06:52.014Z"
   },
   {
    "duration": 3,
    "start_time": "2023-01-15T16:06:52.083Z"
   },
   {
    "duration": 20,
    "start_time": "2023-01-15T16:06:52.089Z"
   },
   {
    "duration": 137,
    "start_time": "2023-01-15T16:06:52.111Z"
   },
   {
    "duration": 179,
    "start_time": "2023-01-15T16:06:52.251Z"
   },
   {
    "duration": 57,
    "start_time": "2023-01-15T16:06:52.432Z"
   },
   {
    "duration": 18,
    "start_time": "2023-01-15T16:06:52.490Z"
   },
   {
    "duration": 181,
    "start_time": "2023-01-15T16:06:52.510Z"
   },
   {
    "duration": 44,
    "start_time": "2023-01-15T16:06:52.695Z"
   },
   {
    "duration": 37,
    "start_time": "2023-01-15T16:06:52.741Z"
   },
   {
    "duration": 76,
    "start_time": "2023-01-15T16:06:52.779Z"
   },
   {
    "duration": 243,
    "start_time": "2023-01-15T16:06:52.857Z"
   },
   {
    "duration": 137,
    "start_time": "2023-01-15T16:06:53.102Z"
   },
   {
    "duration": 271,
    "start_time": "2023-01-15T16:06:53.241Z"
   },
   {
    "duration": 50,
    "start_time": "2023-01-15T16:06:53.514Z"
   },
   {
    "duration": 20,
    "start_time": "2023-01-15T16:06:53.566Z"
   },
   {
    "duration": 14,
    "start_time": "2023-01-15T16:06:53.588Z"
   },
   {
    "duration": 44,
    "start_time": "2023-01-15T16:06:53.604Z"
   },
   {
    "duration": 47,
    "start_time": "2023-01-15T16:06:53.649Z"
   },
   {
    "duration": 6,
    "start_time": "2023-01-15T16:06:53.697Z"
   },
   {
    "duration": 50,
    "start_time": "2023-01-15T16:06:53.705Z"
   },
   {
    "duration": 193,
    "start_time": "2023-01-15T16:06:53.757Z"
   },
   {
    "duration": 40,
    "start_time": "2023-01-15T16:06:53.952Z"
   },
   {
    "duration": 16,
    "start_time": "2023-01-15T16:06:53.995Z"
   },
   {
    "duration": 35,
    "start_time": "2023-01-15T16:06:54.013Z"
   },
   {
    "duration": 26,
    "start_time": "2023-01-15T16:06:54.050Z"
   },
   {
    "duration": 41,
    "start_time": "2023-01-15T16:06:54.078Z"
   },
   {
    "duration": 21,
    "start_time": "2023-01-15T16:06:54.137Z"
   },
   {
    "duration": 31,
    "start_time": "2023-01-15T16:06:54.161Z"
   },
   {
    "duration": 76,
    "start_time": "2023-01-15T16:06:54.194Z"
   },
   {
    "duration": 32,
    "start_time": "2023-01-15T16:06:54.271Z"
   },
   {
    "duration": 34,
    "start_time": "2023-01-15T16:06:54.305Z"
   },
   {
    "duration": 7,
    "start_time": "2023-01-15T16:06:54.340Z"
   },
   {
    "duration": 10,
    "start_time": "2023-01-15T16:06:54.349Z"
   },
   {
    "duration": 52,
    "start_time": "2023-01-15T16:06:54.360Z"
   },
   {
    "duration": 64,
    "start_time": "2023-01-15T16:06:54.413Z"
   },
   {
    "duration": 3,
    "start_time": "2023-01-15T16:06:54.478Z"
   },
   {
    "duration": 7,
    "start_time": "2023-01-15T16:06:54.482Z"
   },
   {
    "duration": 14,
    "start_time": "2023-01-15T16:06:54.490Z"
   },
   {
    "duration": 39,
    "start_time": "2023-01-15T16:06:54.506Z"
   },
   {
    "duration": 341,
    "start_time": "2023-01-15T16:06:54.548Z"
   },
   {
    "duration": 53,
    "start_time": "2023-01-15T16:07:04.412Z"
   },
   {
    "duration": 48,
    "start_time": "2023-01-15T16:07:22.372Z"
   },
   {
    "duration": 68,
    "start_time": "2023-01-15T16:07:36.330Z"
   },
   {
    "duration": 50,
    "start_time": "2023-01-15T16:07:48.401Z"
   },
   {
    "duration": 49,
    "start_time": "2023-01-15T16:07:53.185Z"
   },
   {
    "duration": 3,
    "start_time": "2023-01-15T16:09:00.150Z"
   },
   {
    "duration": 3,
    "start_time": "2023-01-15T16:16:35.302Z"
   },
   {
    "duration": 266,
    "start_time": "2023-01-15T16:21:10.256Z"
   },
   {
    "duration": 4,
    "start_time": "2023-01-15T16:23:34.698Z"
   },
   {
    "duration": 76,
    "start_time": "2023-01-15T16:27:26.329Z"
   },
   {
    "duration": 4,
    "start_time": "2023-01-15T16:27:31.083Z"
   },
   {
    "duration": 1571,
    "start_time": "2023-01-15T16:27:33.425Z"
   },
   {
    "duration": 23,
    "start_time": "2023-01-15T16:28:20.121Z"
   },
   {
    "duration": 19,
    "start_time": "2023-01-15T16:28:22.207Z"
   },
   {
    "duration": 11,
    "start_time": "2023-01-15T16:28:35.161Z"
   },
   {
    "duration": 32,
    "start_time": "2023-01-15T16:28:55.447Z"
   },
   {
    "duration": 7,
    "start_time": "2023-01-15T16:35:31.030Z"
   },
   {
    "duration": 25,
    "start_time": "2023-01-15T16:35:37.877Z"
   },
   {
    "duration": 302,
    "start_time": "2023-01-15T16:35:48.374Z"
   },
   {
    "duration": 46,
    "start_time": "2023-01-15T16:36:16.348Z"
   },
   {
    "duration": 23,
    "start_time": "2023-01-15T16:36:17.224Z"
   },
   {
    "duration": 16,
    "start_time": "2023-01-15T16:36:20.518Z"
   },
   {
    "duration": 4,
    "start_time": "2023-01-15T16:36:40.149Z"
   },
   {
    "duration": 8,
    "start_time": "2023-01-15T16:36:40.156Z"
   },
   {
    "duration": 1020,
    "start_time": "2023-01-15T16:36:40.166Z"
   },
   {
    "duration": 16,
    "start_time": "2023-01-15T16:36:41.189Z"
   },
   {
    "duration": 111,
    "start_time": "2023-01-15T16:36:41.208Z"
   },
   {
    "duration": 159,
    "start_time": "2023-01-15T16:36:41.321Z"
   },
   {
    "duration": 143,
    "start_time": "2023-01-15T16:36:41.482Z"
   },
   {
    "duration": 90,
    "start_time": "2023-01-15T16:36:41.627Z"
   },
   {
    "duration": 17,
    "start_time": "2023-01-15T16:36:41.720Z"
   },
   {
    "duration": 1489,
    "start_time": "2023-01-15T16:36:41.739Z"
   },
   {
    "duration": 3,
    "start_time": "2023-01-15T16:36:43.238Z"
   },
   {
    "duration": 6,
    "start_time": "2023-01-15T16:36:43.243Z"
   },
   {
    "duration": 249,
    "start_time": "2023-01-15T16:36:43.251Z"
   },
   {
    "duration": 165,
    "start_time": "2023-01-15T16:36:43.502Z"
   },
   {
    "duration": 29,
    "start_time": "2023-01-15T16:36:43.669Z"
   },
   {
    "duration": 188,
    "start_time": "2023-01-15T16:36:43.700Z"
   },
   {
    "duration": 20,
    "start_time": "2023-01-15T16:36:43.890Z"
   },
   {
    "duration": 162,
    "start_time": "2023-01-15T16:36:43.912Z"
   },
   {
    "duration": 35,
    "start_time": "2023-01-15T16:36:44.076Z"
   },
   {
    "duration": 66,
    "start_time": "2023-01-15T16:36:44.113Z"
   },
   {
    "duration": 2,
    "start_time": "2023-01-15T16:36:44.182Z"
   },
   {
    "duration": 9,
    "start_time": "2023-01-15T16:36:44.185Z"
   },
   {
    "duration": 136,
    "start_time": "2023-01-15T16:36:44.196Z"
   },
   {
    "duration": 166,
    "start_time": "2023-01-15T16:36:44.336Z"
   },
   {
    "duration": 48,
    "start_time": "2023-01-15T16:36:44.503Z"
   },
   {
    "duration": 17,
    "start_time": "2023-01-15T16:36:44.553Z"
   },
   {
    "duration": 132,
    "start_time": "2023-01-15T16:36:44.572Z"
   },
   {
    "duration": 33,
    "start_time": "2023-01-15T16:36:44.706Z"
   },
   {
    "duration": 33,
    "start_time": "2023-01-15T16:36:44.741Z"
   },
   {
    "duration": 75,
    "start_time": "2023-01-15T16:36:44.775Z"
   },
   {
    "duration": 39,
    "start_time": "2023-01-15T16:36:44.852Z"
   },
   {
    "duration": 24,
    "start_time": "2023-01-15T16:36:44.893Z"
   },
   {
    "duration": 54,
    "start_time": "2023-01-15T16:36:44.919Z"
   },
   {
    "duration": 245,
    "start_time": "2023-01-15T16:36:44.975Z"
   },
   {
    "duration": 235,
    "start_time": "2023-01-15T16:36:45.222Z"
   },
   {
    "duration": 169,
    "start_time": "2023-01-15T16:36:45.459Z"
   },
   {
    "duration": 45,
    "start_time": "2023-01-15T16:36:45.630Z"
   },
   {
    "duration": 20,
    "start_time": "2023-01-15T16:36:45.676Z"
   },
   {
    "duration": 20,
    "start_time": "2023-01-15T16:36:45.698Z"
   },
   {
    "duration": 48,
    "start_time": "2023-01-15T16:36:45.720Z"
   },
   {
    "duration": 42,
    "start_time": "2023-01-15T16:36:45.770Z"
   },
   {
    "duration": 7,
    "start_time": "2023-01-15T16:36:45.815Z"
   },
   {
    "duration": 90,
    "start_time": "2023-01-15T16:36:45.824Z"
   },
   {
    "duration": 188,
    "start_time": "2023-01-15T16:36:45.916Z"
   },
   {
    "duration": 48,
    "start_time": "2023-01-15T16:36:46.105Z"
   },
   {
    "duration": 15,
    "start_time": "2023-01-15T16:36:46.155Z"
   },
   {
    "duration": 11,
    "start_time": "2023-01-15T16:36:46.172Z"
   },
   {
    "duration": 28,
    "start_time": "2023-01-15T16:36:46.185Z"
   },
   {
    "duration": 60,
    "start_time": "2023-01-15T16:36:46.215Z"
   },
   {
    "duration": 16,
    "start_time": "2023-01-15T16:36:46.277Z"
   },
   {
    "duration": 43,
    "start_time": "2023-01-15T16:36:46.295Z"
   },
   {
    "duration": 52,
    "start_time": "2023-01-15T16:36:46.341Z"
   },
   {
    "duration": 43,
    "start_time": "2023-01-15T16:36:46.395Z"
   },
   {
    "duration": 19,
    "start_time": "2023-01-15T16:36:46.440Z"
   },
   {
    "duration": 7,
    "start_time": "2023-01-15T16:36:46.460Z"
   },
   {
    "duration": 5,
    "start_time": "2023-01-15T16:36:46.469Z"
   },
   {
    "duration": 80,
    "start_time": "2023-01-15T16:36:46.476Z"
   },
   {
    "duration": 36,
    "start_time": "2023-01-15T16:36:46.558Z"
   },
   {
    "duration": 2,
    "start_time": "2023-01-15T16:36:46.596Z"
   },
   {
    "duration": 9,
    "start_time": "2023-01-15T16:36:46.600Z"
   },
   {
    "duration": 36,
    "start_time": "2023-01-15T16:36:46.611Z"
   },
   {
    "duration": 11,
    "start_time": "2023-01-15T16:36:46.649Z"
   },
   {
    "duration": 321,
    "start_time": "2023-01-15T16:36:46.662Z"
   },
   {
    "duration": 52,
    "start_time": "2023-01-15T16:36:46.985Z"
   },
   {
    "duration": 66,
    "start_time": "2023-01-15T16:36:47.039Z"
   },
   {
    "duration": 69,
    "start_time": "2023-01-15T16:36:47.107Z"
   },
   {
    "duration": 34,
    "start_time": "2023-01-15T16:36:47.178Z"
   },
   {
    "duration": 48,
    "start_time": "2023-01-15T16:36:47.214Z"
   },
   {
    "duration": 263,
    "start_time": "2023-01-15T16:36:47.267Z"
   },
   {
    "duration": 3,
    "start_time": "2023-01-15T16:36:47.537Z"
   },
   {
    "duration": 15346,
    "start_time": "2023-01-15T16:37:48.197Z"
   },
   {
    "duration": 3,
    "start_time": "2023-01-15T16:54:22.398Z"
   },
   {
    "duration": 4,
    "start_time": "2023-01-15T17:03:51.926Z"
   },
   {
    "duration": 4,
    "start_time": "2023-01-15T17:03:52.919Z"
   },
   {
    "duration": 74,
    "start_time": "2023-01-15T17:04:03.283Z"
   },
   {
    "duration": 31,
    "start_time": "2023-01-15T17:04:33.580Z"
   },
   {
    "duration": 121,
    "start_time": "2023-01-15T17:04:42.855Z"
   },
   {
    "duration": 4,
    "start_time": "2023-01-15T17:06:27.110Z"
   },
   {
    "duration": 4,
    "start_time": "2023-01-15T17:06:29.820Z"
   },
   {
    "duration": 133,
    "start_time": "2023-01-15T17:06:31.688Z"
   },
   {
    "duration": 141,
    "start_time": "2023-01-15T17:06:45.814Z"
   },
   {
    "duration": 131,
    "start_time": "2023-01-15T17:07:03.594Z"
   },
   {
    "duration": 3,
    "start_time": "2023-01-15T17:08:25.504Z"
   },
   {
    "duration": 4,
    "start_time": "2023-01-15T17:08:29.006Z"
   },
   {
    "duration": 3,
    "start_time": "2023-01-15T17:08:29.727Z"
   },
   {
    "duration": 123,
    "start_time": "2023-01-15T17:08:31.698Z"
   },
   {
    "duration": 4,
    "start_time": "2023-01-15T17:09:01.715Z"
   },
   {
    "duration": 140,
    "start_time": "2023-01-15T17:09:05.777Z"
   },
   {
    "duration": 4,
    "start_time": "2023-01-15T17:11:25.210Z"
   },
   {
    "duration": 4,
    "start_time": "2023-01-15T17:11:28.060Z"
   },
   {
    "duration": 4,
    "start_time": "2023-01-15T17:11:58.763Z"
   },
   {
    "duration": 122,
    "start_time": "2023-01-15T17:12:04.435Z"
   },
   {
    "duration": 5,
    "start_time": "2023-01-15T17:12:53.693Z"
   },
   {
    "duration": 15,
    "start_time": "2023-01-15T17:13:03.576Z"
   },
   {
    "duration": 4,
    "start_time": "2023-01-15T17:14:08.353Z"
   },
   {
    "duration": 51,
    "start_time": "2023-01-15T17:18:22.987Z"
   },
   {
    "duration": 1632,
    "start_time": "2023-01-15T17:18:47.644Z"
   },
   {
    "duration": 2,
    "start_time": "2023-01-15T17:18:49.278Z"
   },
   {
    "duration": 3049,
    "start_time": "2023-01-15T17:18:49.282Z"
   },
   {
    "duration": 19,
    "start_time": "2023-01-15T17:18:52.333Z"
   },
   {
    "duration": 117,
    "start_time": "2023-01-15T17:18:52.354Z"
   },
   {
    "duration": 143,
    "start_time": "2023-01-15T17:18:52.472Z"
   },
   {
    "duration": 137,
    "start_time": "2023-01-15T17:18:52.617Z"
   },
   {
    "duration": 97,
    "start_time": "2023-01-15T17:18:52.756Z"
   },
   {
    "duration": 6,
    "start_time": "2023-01-15T17:18:52.855Z"
   },
   {
    "duration": 1501,
    "start_time": "2023-01-15T17:18:52.862Z"
   },
   {
    "duration": 3,
    "start_time": "2023-01-15T17:18:54.365Z"
   },
   {
    "duration": 6,
    "start_time": "2023-01-15T17:18:54.370Z"
   },
   {
    "duration": 265,
    "start_time": "2023-01-15T17:18:54.378Z"
   },
   {
    "duration": 169,
    "start_time": "2023-01-15T17:18:54.647Z"
   },
   {
    "duration": 50,
    "start_time": "2023-01-15T17:18:54.818Z"
   },
   {
    "duration": 184,
    "start_time": "2023-01-15T17:18:54.870Z"
   },
   {
    "duration": 19,
    "start_time": "2023-01-15T17:18:55.056Z"
   },
   {
    "duration": 224,
    "start_time": "2023-01-15T17:18:55.077Z"
   },
   {
    "duration": 42,
    "start_time": "2023-01-15T17:18:55.303Z"
   },
   {
    "duration": 52,
    "start_time": "2023-01-15T17:18:55.347Z"
   },
   {
    "duration": 3,
    "start_time": "2023-01-15T17:18:55.401Z"
   },
   {
    "duration": 18,
    "start_time": "2023-01-15T17:18:55.406Z"
   },
   {
    "duration": 129,
    "start_time": "2023-01-15T17:18:55.426Z"
   },
   {
    "duration": 168,
    "start_time": "2023-01-15T17:18:55.556Z"
   },
   {
    "duration": 61,
    "start_time": "2023-01-15T17:18:55.726Z"
   },
   {
    "duration": 17,
    "start_time": "2023-01-15T17:18:55.789Z"
   },
   {
    "duration": 122,
    "start_time": "2023-01-15T17:18:55.808Z"
   },
   {
    "duration": 29,
    "start_time": "2023-01-15T17:18:55.932Z"
   },
   {
    "duration": 36,
    "start_time": "2023-01-15T17:18:55.963Z"
   },
   {
    "duration": 77,
    "start_time": "2023-01-15T17:18:56.000Z"
   },
   {
    "duration": 39,
    "start_time": "2023-01-15T17:18:56.079Z"
   },
   {
    "duration": 33,
    "start_time": "2023-01-15T17:18:56.120Z"
   },
   {
    "duration": 37,
    "start_time": "2023-01-15T17:18:56.155Z"
   },
   {
    "duration": 248,
    "start_time": "2023-01-15T17:18:56.194Z"
   },
   {
    "duration": 143,
    "start_time": "2023-01-15T17:18:56.444Z"
   },
   {
    "duration": 171,
    "start_time": "2023-01-15T17:18:56.589Z"
   },
   {
    "duration": 44,
    "start_time": "2023-01-15T17:18:56.762Z"
   },
   {
    "duration": 36,
    "start_time": "2023-01-15T17:18:56.808Z"
   },
   {
    "duration": 14,
    "start_time": "2023-01-15T17:18:56.845Z"
   },
   {
    "duration": 18,
    "start_time": "2023-01-15T17:18:56.861Z"
   },
   {
    "duration": 55,
    "start_time": "2023-01-15T17:18:56.883Z"
   },
   {
    "duration": 3,
    "start_time": "2023-01-15T17:18:56.940Z"
   },
   {
    "duration": 49,
    "start_time": "2023-01-15T17:18:56.944Z"
   },
   {
    "duration": 193,
    "start_time": "2023-01-15T17:18:56.994Z"
   },
   {
    "duration": 36,
    "start_time": "2023-01-15T17:18:57.189Z"
   },
   {
    "duration": 16,
    "start_time": "2023-01-15T17:18:57.237Z"
   },
   {
    "duration": 11,
    "start_time": "2023-01-15T17:18:57.255Z"
   },
   {
    "duration": 27,
    "start_time": "2023-01-15T17:18:57.268Z"
   },
   {
    "duration": 63,
    "start_time": "2023-01-15T17:18:57.297Z"
   },
   {
    "duration": 17,
    "start_time": "2023-01-15T17:18:57.362Z"
   },
   {
    "duration": 25,
    "start_time": "2023-01-15T17:18:57.381Z"
   },
   {
    "duration": 73,
    "start_time": "2023-01-15T17:18:57.407Z"
   },
   {
    "duration": 32,
    "start_time": "2023-01-15T17:18:57.481Z"
   },
   {
    "duration": 31,
    "start_time": "2023-01-15T17:18:57.515Z"
   },
   {
    "duration": 7,
    "start_time": "2023-01-15T17:18:57.547Z"
   },
   {
    "duration": 6,
    "start_time": "2023-01-15T17:18:57.555Z"
   },
   {
    "duration": 79,
    "start_time": "2023-01-15T17:18:57.563Z"
   },
   {
    "duration": 38,
    "start_time": "2023-01-15T17:18:57.644Z"
   },
   {
    "duration": 3,
    "start_time": "2023-01-15T17:18:57.684Z"
   },
   {
    "duration": 6,
    "start_time": "2023-01-15T17:18:57.688Z"
   },
   {
    "duration": 18,
    "start_time": "2023-01-15T17:18:57.696Z"
   },
   {
    "duration": 37,
    "start_time": "2023-01-15T17:18:57.716Z"
   },
   {
    "duration": 340,
    "start_time": "2023-01-15T17:18:57.755Z"
   },
   {
    "duration": 52,
    "start_time": "2023-01-15T17:18:58.097Z"
   },
   {
    "duration": 65,
    "start_time": "2023-01-15T17:18:58.151Z"
   },
   {
    "duration": 62,
    "start_time": "2023-01-15T17:18:58.218Z"
   },
   {
    "duration": 33,
    "start_time": "2023-01-15T17:18:58.282Z"
   },
   {
    "duration": 53,
    "start_time": "2023-01-15T17:18:58.317Z"
   },
   {
    "duration": 272,
    "start_time": "2023-01-15T17:18:58.371Z"
   },
   {
    "duration": 4,
    "start_time": "2023-01-15T17:18:58.645Z"
   },
   {
    "duration": 19495,
    "start_time": "2023-01-15T17:18:58.651Z"
   },
   {
    "duration": 91,
    "start_time": "2023-01-15T17:19:18.148Z"
   },
   {
    "duration": 6,
    "start_time": "2023-01-15T17:19:18.241Z"
   },
   {
    "duration": 173,
    "start_time": "2023-01-15T17:19:18.249Z"
   },
   {
    "duration": 3,
    "start_time": "2023-01-15T17:19:31.554Z"
   },
   {
    "duration": 3,
    "start_time": "2023-01-15T17:26:46.409Z"
   },
   {
    "duration": 1444,
    "start_time": "2023-01-15T17:27:00.883Z"
   },
   {
    "duration": 3,
    "start_time": "2023-01-15T17:27:02.329Z"
   },
   {
    "duration": 3020,
    "start_time": "2023-01-15T17:27:02.334Z"
   },
   {
    "duration": 17,
    "start_time": "2023-01-15T17:27:05.355Z"
   },
   {
    "duration": 147,
    "start_time": "2023-01-15T17:27:05.375Z"
   },
   {
    "duration": 143,
    "start_time": "2023-01-15T17:27:05.523Z"
   },
   {
    "duration": 131,
    "start_time": "2023-01-15T17:27:05.668Z"
   },
   {
    "duration": 105,
    "start_time": "2023-01-15T17:27:05.801Z"
   },
   {
    "duration": 6,
    "start_time": "2023-01-15T17:27:05.907Z"
   },
   {
    "duration": 1450,
    "start_time": "2023-01-15T17:27:05.914Z"
   },
   {
    "duration": 2,
    "start_time": "2023-01-15T17:27:07.366Z"
   },
   {
    "duration": 7,
    "start_time": "2023-01-15T17:27:07.370Z"
   },
   {
    "duration": 266,
    "start_time": "2023-01-15T17:27:07.379Z"
   },
   {
    "duration": 170,
    "start_time": "2023-01-15T17:27:07.648Z"
   },
   {
    "duration": 45,
    "start_time": "2023-01-15T17:27:07.820Z"
   },
   {
    "duration": 183,
    "start_time": "2023-01-15T17:27:07.867Z"
   },
   {
    "duration": 20,
    "start_time": "2023-01-15T17:27:08.051Z"
   },
   {
    "duration": 221,
    "start_time": "2023-01-15T17:27:08.073Z"
   },
   {
    "duration": 32,
    "start_time": "2023-01-15T17:27:08.296Z"
   },
   {
    "duration": 46,
    "start_time": "2023-01-15T17:27:08.338Z"
   },
   {
    "duration": 2,
    "start_time": "2023-01-15T17:27:08.386Z"
   },
   {
    "duration": 10,
    "start_time": "2023-01-15T17:27:08.390Z"
   },
   {
    "duration": 126,
    "start_time": "2023-01-15T17:27:08.402Z"
   },
   {
    "duration": 172,
    "start_time": "2023-01-15T17:27:08.530Z"
   },
   {
    "duration": 55,
    "start_time": "2023-01-15T17:27:08.704Z"
   },
   {
    "duration": 18,
    "start_time": "2023-01-15T17:27:08.760Z"
   },
   {
    "duration": 148,
    "start_time": "2023-01-15T17:27:08.780Z"
   },
   {
    "duration": 36,
    "start_time": "2023-01-15T17:27:08.930Z"
   },
   {
    "duration": 72,
    "start_time": "2023-01-15T17:27:08.968Z"
   },
   {
    "duration": 50,
    "start_time": "2023-01-15T17:27:09.042Z"
   },
   {
    "duration": 54,
    "start_time": "2023-01-15T17:27:09.095Z"
   },
   {
    "duration": 25,
    "start_time": "2023-01-15T17:27:09.151Z"
   },
   {
    "duration": 34,
    "start_time": "2023-01-15T17:27:09.178Z"
   },
   {
    "duration": 228,
    "start_time": "2023-01-15T17:27:09.214Z"
   },
   {
    "duration": 128,
    "start_time": "2023-01-15T17:27:09.444Z"
   },
   {
    "duration": 156,
    "start_time": "2023-01-15T17:27:09.574Z"
   },
   {
    "duration": 35,
    "start_time": "2023-01-15T17:27:09.732Z"
   },
   {
    "duration": 18,
    "start_time": "2023-01-15T17:27:09.769Z"
   },
   {
    "duration": 13,
    "start_time": "2023-01-15T17:27:09.788Z"
   },
   {
    "duration": 38,
    "start_time": "2023-01-15T17:27:09.803Z"
   },
   {
    "duration": 30,
    "start_time": "2023-01-15T17:27:09.845Z"
   },
   {
    "duration": 6,
    "start_time": "2023-01-15T17:27:09.877Z"
   },
   {
    "duration": 56,
    "start_time": "2023-01-15T17:27:09.884Z"
   },
   {
    "duration": 169,
    "start_time": "2023-01-15T17:27:09.942Z"
   },
   {
    "duration": 43,
    "start_time": "2023-01-15T17:27:10.113Z"
   },
   {
    "duration": 15,
    "start_time": "2023-01-15T17:27:10.158Z"
   },
   {
    "duration": 13,
    "start_time": "2023-01-15T17:27:10.174Z"
   },
   {
    "duration": 26,
    "start_time": "2023-01-15T17:27:10.189Z"
   },
   {
    "duration": 56,
    "start_time": "2023-01-15T17:27:10.217Z"
   },
   {
    "duration": 16,
    "start_time": "2023-01-15T17:27:10.275Z"
   },
   {
    "duration": 47,
    "start_time": "2023-01-15T17:27:10.293Z"
   },
   {
    "duration": 49,
    "start_time": "2023-01-15T17:27:10.342Z"
   },
   {
    "duration": 27,
    "start_time": "2023-01-15T17:27:10.393Z"
   },
   {
    "duration": 18,
    "start_time": "2023-01-15T17:27:10.437Z"
   },
   {
    "duration": 7,
    "start_time": "2023-01-15T17:27:10.457Z"
   },
   {
    "duration": 6,
    "start_time": "2023-01-15T17:27:10.466Z"
   },
   {
    "duration": 74,
    "start_time": "2023-01-15T17:27:10.474Z"
   },
   {
    "duration": 34,
    "start_time": "2023-01-15T17:27:10.550Z"
   },
   {
    "duration": 3,
    "start_time": "2023-01-15T17:27:10.586Z"
   },
   {
    "duration": 5,
    "start_time": "2023-01-15T17:27:10.591Z"
   },
   {
    "duration": 41,
    "start_time": "2023-01-15T17:27:10.597Z"
   },
   {
    "duration": 9,
    "start_time": "2023-01-15T17:27:10.640Z"
   },
   {
    "duration": 326,
    "start_time": "2023-01-15T17:27:10.651Z"
   },
   {
    "duration": 45,
    "start_time": "2023-01-15T17:27:10.978Z"
   },
   {
    "duration": 70,
    "start_time": "2023-01-15T17:27:11.025Z"
   },
   {
    "duration": 63,
    "start_time": "2023-01-15T17:27:11.097Z"
   },
   {
    "duration": 31,
    "start_time": "2023-01-15T17:27:11.162Z"
   },
   {
    "duration": 43,
    "start_time": "2023-01-15T17:27:11.195Z"
   },
   {
    "duration": 261,
    "start_time": "2023-01-15T17:27:11.240Z"
   },
   {
    "duration": 3,
    "start_time": "2023-01-15T17:27:11.503Z"
   },
   {
    "duration": 16232,
    "start_time": "2023-01-15T17:27:11.508Z"
   },
   {
    "duration": 116,
    "start_time": "2023-01-15T17:27:44.191Z"
   },
   {
    "duration": 15,
    "start_time": "2023-01-15T17:28:44.419Z"
   },
   {
    "duration": 254,
    "start_time": "2023-01-15T17:29:05.629Z"
   },
   {
    "duration": 22,
    "start_time": "2023-01-15T17:29:11.832Z"
   },
   {
    "duration": 5,
    "start_time": "2023-01-15T17:37:26.947Z"
   },
   {
    "duration": 7,
    "start_time": "2023-01-15T17:37:26.953Z"
   },
   {
    "duration": 848,
    "start_time": "2023-01-15T17:37:26.961Z"
   },
   {
    "duration": 14,
    "start_time": "2023-01-15T17:37:27.811Z"
   },
   {
    "duration": 102,
    "start_time": "2023-01-15T17:37:27.837Z"
   },
   {
    "duration": 145,
    "start_time": "2023-01-15T17:37:27.941Z"
   },
   {
    "duration": 132,
    "start_time": "2023-01-15T17:37:28.088Z"
   },
   {
    "duration": 89,
    "start_time": "2023-01-15T17:37:28.222Z"
   },
   {
    "duration": 5,
    "start_time": "2023-01-15T17:37:28.314Z"
   },
   {
    "duration": 1591,
    "start_time": "2023-01-15T17:37:28.321Z"
   },
   {
    "duration": 2,
    "start_time": "2023-01-15T17:37:29.914Z"
   },
   {
    "duration": 6,
    "start_time": "2023-01-15T17:37:29.918Z"
   },
   {
    "duration": 250,
    "start_time": "2023-01-15T17:37:29.937Z"
   },
   {
    "duration": 168,
    "start_time": "2023-01-15T17:37:30.189Z"
   },
   {
    "duration": 28,
    "start_time": "2023-01-15T17:37:30.360Z"
   },
   {
    "duration": 133,
    "start_time": "2023-01-15T17:37:30.391Z"
   },
   {
    "duration": 23,
    "start_time": "2023-01-15T17:37:30.526Z"
   },
   {
    "duration": 143,
    "start_time": "2023-01-15T17:37:30.551Z"
   },
   {
    "duration": 44,
    "start_time": "2023-01-15T17:37:30.695Z"
   },
   {
    "duration": 51,
    "start_time": "2023-01-15T17:37:30.741Z"
   },
   {
    "duration": 4,
    "start_time": "2023-01-15T17:37:30.794Z"
   },
   {
    "duration": 28,
    "start_time": "2023-01-15T17:37:30.800Z"
   },
   {
    "duration": 129,
    "start_time": "2023-01-15T17:37:30.829Z"
   },
   {
    "duration": 177,
    "start_time": "2023-01-15T17:37:30.962Z"
   },
   {
    "duration": 38,
    "start_time": "2023-01-15T17:37:31.141Z"
   },
   {
    "duration": 18,
    "start_time": "2023-01-15T17:37:31.182Z"
   },
   {
    "duration": 131,
    "start_time": "2023-01-15T17:37:31.202Z"
   },
   {
    "duration": 28,
    "start_time": "2023-01-15T17:37:31.337Z"
   },
   {
    "duration": 42,
    "start_time": "2023-01-15T17:37:31.367Z"
   },
   {
    "duration": 59,
    "start_time": "2023-01-15T17:37:31.411Z"
   },
   {
    "duration": 40,
    "start_time": "2023-01-15T17:37:31.473Z"
   },
   {
    "duration": 41,
    "start_time": "2023-01-15T17:37:31.515Z"
   },
   {
    "duration": 34,
    "start_time": "2023-01-15T17:37:31.558Z"
   },
   {
    "duration": 236,
    "start_time": "2023-01-15T17:37:31.594Z"
   },
   {
    "duration": 129,
    "start_time": "2023-01-15T17:37:31.836Z"
   },
   {
    "duration": 160,
    "start_time": "2023-01-15T17:37:31.966Z"
   },
   {
    "duration": 38,
    "start_time": "2023-01-15T17:37:32.127Z"
   },
   {
    "duration": 19,
    "start_time": "2023-01-15T17:37:32.167Z"
   },
   {
    "duration": 23,
    "start_time": "2023-01-15T17:37:32.187Z"
   },
   {
    "duration": 27,
    "start_time": "2023-01-15T17:37:32.212Z"
   },
   {
    "duration": 31,
    "start_time": "2023-01-15T17:37:32.241Z"
   },
   {
    "duration": 4,
    "start_time": "2023-01-15T17:37:32.274Z"
   },
   {
    "duration": 60,
    "start_time": "2023-01-15T17:37:32.280Z"
   },
   {
    "duration": 177,
    "start_time": "2023-01-15T17:37:32.342Z"
   },
   {
    "duration": 41,
    "start_time": "2023-01-15T17:37:32.521Z"
   },
   {
    "duration": 17,
    "start_time": "2023-01-15T17:37:32.564Z"
   },
   {
    "duration": 11,
    "start_time": "2023-01-15T17:37:32.583Z"
   },
   {
    "duration": 47,
    "start_time": "2023-01-15T17:37:32.596Z"
   },
   {
    "duration": 39,
    "start_time": "2023-01-15T17:37:32.644Z"
   },
   {
    "duration": 17,
    "start_time": "2023-01-15T17:37:32.685Z"
   },
   {
    "duration": 45,
    "start_time": "2023-01-15T17:37:32.703Z"
   },
   {
    "duration": 75,
    "start_time": "2023-01-15T17:37:32.750Z"
   },
   {
    "duration": 27,
    "start_time": "2023-01-15T17:37:32.827Z"
   },
   {
    "duration": 32,
    "start_time": "2023-01-15T17:37:32.856Z"
   },
   {
    "duration": 19,
    "start_time": "2023-01-15T17:37:32.890Z"
   },
   {
    "duration": 15,
    "start_time": "2023-01-15T17:37:32.911Z"
   },
   {
    "duration": 77,
    "start_time": "2023-01-15T17:37:32.928Z"
   },
   {
    "duration": 34,
    "start_time": "2023-01-15T17:37:33.007Z"
   },
   {
    "duration": 2,
    "start_time": "2023-01-15T17:37:33.042Z"
   },
   {
    "duration": 32,
    "start_time": "2023-01-15T17:37:33.046Z"
   },
   {
    "duration": 37,
    "start_time": "2023-01-15T17:37:33.080Z"
   },
   {
    "duration": 41,
    "start_time": "2023-01-15T17:37:33.119Z"
   },
   {
    "duration": 335,
    "start_time": "2023-01-15T17:37:33.161Z"
   },
   {
    "duration": 55,
    "start_time": "2023-01-15T17:37:33.498Z"
   },
   {
    "duration": 63,
    "start_time": "2023-01-15T17:37:33.555Z"
   },
   {
    "duration": 61,
    "start_time": "2023-01-15T17:37:33.620Z"
   },
   {
    "duration": 32,
    "start_time": "2023-01-15T17:37:33.683Z"
   },
   {
    "duration": 47,
    "start_time": "2023-01-15T17:37:33.717Z"
   },
   {
    "duration": 266,
    "start_time": "2023-01-15T17:37:33.769Z"
   },
   {
    "duration": 3,
    "start_time": "2023-01-15T17:37:34.038Z"
   },
   {
    "duration": 15518,
    "start_time": "2023-01-15T17:37:48.926Z"
   },
   {
    "duration": 16,
    "start_time": "2023-01-15T17:39:02.666Z"
   },
   {
    "duration": 9,
    "start_time": "2023-01-15T17:40:27.955Z"
   },
   {
    "duration": 3,
    "start_time": "2023-01-15T17:40:38.571Z"
   },
   {
    "duration": 11,
    "start_time": "2023-01-15T17:40:49.531Z"
   },
   {
    "duration": 10,
    "start_time": "2023-01-15T17:40:59.658Z"
   },
   {
    "duration": 12,
    "start_time": "2023-01-15T17:42:04.957Z"
   },
   {
    "duration": 4,
    "start_time": "2023-01-15T17:42:31.544Z"
   },
   {
    "duration": 22,
    "start_time": "2023-01-15T17:42:43.295Z"
   },
   {
    "duration": 81,
    "start_time": "2023-01-15T17:46:13.958Z"
   },
   {
    "duration": 17,
    "start_time": "2023-01-15T19:03:55.591Z"
   },
   {
    "duration": 3357212,
    "start_time": "2023-01-15T19:04:39.945Z"
   },
   {
    "duration": 1911,
    "start_time": "2023-01-16T18:35:45.056Z"
   },
   {
    "duration": 4,
    "start_time": "2023-01-16T18:35:49.904Z"
   },
   {
    "duration": 118,
    "start_time": "2023-01-16T18:36:21.061Z"
   },
   {
    "duration": 1259,
    "start_time": "2023-01-16T18:36:25.012Z"
   },
   {
    "duration": 20,
    "start_time": "2023-01-16T18:36:27.238Z"
   },
   {
    "duration": 159,
    "start_time": "2023-01-16T18:36:50.260Z"
   },
   {
    "duration": 142,
    "start_time": "2023-01-16T18:37:11.433Z"
   },
   {
    "duration": 145,
    "start_time": "2023-01-16T18:37:49.872Z"
   },
   {
    "duration": 79,
    "start_time": "2023-01-16T18:38:30.044Z"
   },
   {
    "duration": 655,
    "start_time": "2023-01-16T18:38:54.550Z"
   },
   {
    "duration": 5,
    "start_time": "2023-01-16T18:40:08.947Z"
   },
   {
    "duration": 11,
    "start_time": "2023-01-16T18:40:12.124Z"
   },
   {
    "duration": 9,
    "start_time": "2023-01-16T18:40:45.045Z"
   },
   {
    "duration": 1827,
    "start_time": "2023-01-16T18:41:09.323Z"
   },
   {
    "duration": 306,
    "start_time": "2023-01-16T18:44:13.170Z"
   },
   {
    "duration": 232,
    "start_time": "2023-01-16T18:44:58.702Z"
   },
   {
    "duration": 32,
    "start_time": "2023-01-16T18:46:02.714Z"
   },
   {
    "duration": 146,
    "start_time": "2023-01-16T18:47:33.642Z"
   },
   {
    "duration": 32,
    "start_time": "2023-01-16T18:47:54.568Z"
   },
   {
    "duration": 16,
    "start_time": "2023-01-16T18:48:37.632Z"
   },
   {
    "duration": 33,
    "start_time": "2023-01-16T18:49:01.058Z"
   },
   {
    "duration": 34,
    "start_time": "2023-01-16T18:49:23.072Z"
   },
   {
    "duration": 31,
    "start_time": "2023-01-16T18:49:28.469Z"
   },
   {
    "duration": 55,
    "start_time": "2023-01-16T18:51:20.652Z"
   },
   {
    "duration": 6,
    "start_time": "2023-01-16T18:51:49.292Z"
   },
   {
    "duration": 323,
    "start_time": "2023-01-16T18:53:39.755Z"
   },
   {
    "duration": 249,
    "start_time": "2023-01-16T18:53:50.597Z"
   },
   {
    "duration": 35,
    "start_time": "2023-01-16T18:56:32.187Z"
   },
   {
    "duration": 243,
    "start_time": "2023-01-16T18:56:44.999Z"
   },
   {
    "duration": 197,
    "start_time": "2023-01-16T18:57:56.777Z"
   },
   {
    "duration": 9,
    "start_time": "2023-01-16T18:59:00.066Z"
   },
   {
    "duration": 7,
    "start_time": "2023-01-16T18:59:17.340Z"
   },
   {
    "duration": 199,
    "start_time": "2023-01-16T18:59:27.940Z"
   },
   {
    "duration": 196,
    "start_time": "2023-01-16T18:59:44.791Z"
   },
   {
    "duration": 207,
    "start_time": "2023-01-16T18:59:51.837Z"
   },
   {
    "duration": 48,
    "start_time": "2023-01-16T19:01:52.649Z"
   },
   {
    "duration": 243,
    "start_time": "2023-01-16T19:21:22.345Z"
   },
   {
    "duration": 19,
    "start_time": "2023-01-16T20:09:57.121Z"
   },
   {
    "duration": 30,
    "start_time": "2023-01-16T20:11:12.383Z"
   },
   {
    "duration": 78,
    "start_time": "2023-01-16T20:12:44.069Z"
   },
   {
    "duration": 71,
    "start_time": "2023-01-16T20:15:49.922Z"
   },
   {
    "duration": 77,
    "start_time": "2023-01-16T20:16:35.397Z"
   },
   {
    "duration": 373,
    "start_time": "2023-01-16T20:17:28.172Z"
   },
   {
    "duration": 162,
    "start_time": "2023-01-16T20:18:22.015Z"
   },
   {
    "duration": 43,
    "start_time": "2023-01-16T20:18:52.612Z"
   },
   {
    "duration": 28,
    "start_time": "2023-01-16T20:19:05.343Z"
   },
   {
    "duration": 40,
    "start_time": "2023-01-16T20:19:08.451Z"
   },
   {
    "duration": 27,
    "start_time": "2023-01-16T20:19:29.161Z"
   },
   {
    "duration": 14,
    "start_time": "2023-01-16T20:20:03.718Z"
   },
   {
    "duration": 45,
    "start_time": "2023-01-16T20:20:12.518Z"
   },
   {
    "duration": 54,
    "start_time": "2023-01-16T20:20:55.661Z"
   },
   {
    "duration": 71,
    "start_time": "2023-01-16T20:21:18.984Z"
   },
   {
    "duration": 72,
    "start_time": "2023-01-16T20:21:41.061Z"
   },
   {
    "duration": 193,
    "start_time": "2023-01-16T20:21:47.383Z"
   },
   {
    "duration": 41,
    "start_time": "2023-01-16T20:22:15.669Z"
   },
   {
    "duration": 21,
    "start_time": "2023-01-16T20:22:49.723Z"
   },
   {
    "duration": 27,
    "start_time": "2023-01-16T20:23:20.200Z"
   },
   {
    "duration": 72,
    "start_time": "2023-01-16T20:23:41.610Z"
   },
   {
    "duration": 62,
    "start_time": "2023-01-16T20:24:10.755Z"
   },
   {
    "duration": 19,
    "start_time": "2023-01-16T20:24:52.034Z"
   },
   {
    "duration": 7,
    "start_time": "2023-01-16T20:25:12.733Z"
   },
   {
    "duration": 7,
    "start_time": "2023-01-16T20:25:30.524Z"
   },
   {
    "duration": 73,
    "start_time": "2023-01-16T20:27:35.918Z"
   },
   {
    "duration": 38,
    "start_time": "2023-01-16T20:28:50.583Z"
   },
   {
    "duration": 86,
    "start_time": "2023-01-16T20:29:43.650Z"
   },
   {
    "duration": 73,
    "start_time": "2023-01-16T20:32:41.895Z"
   },
   {
    "duration": 16,
    "start_time": "2023-01-16T20:35:12.085Z"
   },
   {
    "duration": 4,
    "start_time": "2023-01-16T20:38:49.174Z"
   },
   {
    "duration": 4,
    "start_time": "2023-01-16T20:41:03.607Z"
   },
   {
    "duration": 14,
    "start_time": "2023-01-16T20:43:30.573Z"
   },
   {
    "duration": 18,
    "start_time": "2023-01-16T20:46:04.372Z"
   },
   {
    "duration": 424,
    "start_time": "2023-01-16T20:50:43.040Z"
   },
   {
    "duration": 493,
    "start_time": "2023-01-16T20:51:03.645Z"
   },
   {
    "duration": 459,
    "start_time": "2023-01-16T20:52:17.009Z"
   },
   {
    "duration": 66,
    "start_time": "2023-01-16T20:53:40.933Z"
   },
   {
    "duration": 12,
    "start_time": "2023-01-16T20:57:07.640Z"
   },
   {
    "duration": 5,
    "start_time": "2023-01-16T20:57:38.164Z"
   },
   {
    "duration": 17,
    "start_time": "2023-01-16T20:57:55.780Z"
   },
   {
    "duration": 1562,
    "start_time": "2023-01-17T04:06:13.371Z"
   },
   {
    "duration": 3,
    "start_time": "2023-01-17T04:06:14.935Z"
   },
   {
    "duration": 2987,
    "start_time": "2023-01-17T04:06:14.940Z"
   },
   {
    "duration": 17,
    "start_time": "2023-01-17T04:06:17.929Z"
   },
   {
    "duration": 85,
    "start_time": "2023-01-17T04:06:17.949Z"
   },
   {
    "duration": 144,
    "start_time": "2023-01-17T04:06:18.035Z"
   },
   {
    "duration": 131,
    "start_time": "2023-01-17T04:06:18.180Z"
   },
   {
    "duration": 580,
    "start_time": "2023-01-17T04:06:18.313Z"
   },
   {
    "duration": 5,
    "start_time": "2023-01-17T04:06:18.895Z"
   },
   {
    "duration": 44,
    "start_time": "2023-01-17T04:06:18.902Z"
   },
   {
    "duration": 0,
    "start_time": "2023-01-17T04:06:18.949Z"
   },
   {
    "duration": 0,
    "start_time": "2023-01-17T04:06:18.950Z"
   },
   {
    "duration": 0,
    "start_time": "2023-01-17T04:06:18.951Z"
   },
   {
    "duration": 0,
    "start_time": "2023-01-17T04:06:18.952Z"
   },
   {
    "duration": 0,
    "start_time": "2023-01-17T04:06:18.953Z"
   },
   {
    "duration": 0,
    "start_time": "2023-01-17T04:06:18.954Z"
   },
   {
    "duration": 0,
    "start_time": "2023-01-17T04:06:18.955Z"
   },
   {
    "duration": 0,
    "start_time": "2023-01-17T04:06:18.957Z"
   },
   {
    "duration": 0,
    "start_time": "2023-01-17T04:06:18.958Z"
   },
   {
    "duration": 0,
    "start_time": "2023-01-17T04:06:18.959Z"
   },
   {
    "duration": 0,
    "start_time": "2023-01-17T04:06:18.959Z"
   },
   {
    "duration": 1,
    "start_time": "2023-01-17T04:06:18.960Z"
   },
   {
    "duration": 0,
    "start_time": "2023-01-17T04:06:18.961Z"
   },
   {
    "duration": 0,
    "start_time": "2023-01-17T04:06:18.962Z"
   },
   {
    "duration": 0,
    "start_time": "2023-01-17T04:06:18.964Z"
   },
   {
    "duration": 0,
    "start_time": "2023-01-17T04:06:18.965Z"
   },
   {
    "duration": 0,
    "start_time": "2023-01-17T04:06:18.966Z"
   },
   {
    "duration": 0,
    "start_time": "2023-01-17T04:06:18.968Z"
   },
   {
    "duration": 0,
    "start_time": "2023-01-17T04:06:18.969Z"
   },
   {
    "duration": 0,
    "start_time": "2023-01-17T04:06:18.970Z"
   },
   {
    "duration": 0,
    "start_time": "2023-01-17T04:06:18.972Z"
   },
   {
    "duration": 0,
    "start_time": "2023-01-17T04:06:18.973Z"
   },
   {
    "duration": 0,
    "start_time": "2023-01-17T04:06:18.975Z"
   },
   {
    "duration": 0,
    "start_time": "2023-01-17T04:06:18.976Z"
   },
   {
    "duration": 0,
    "start_time": "2023-01-17T04:06:18.977Z"
   },
   {
    "duration": 0,
    "start_time": "2023-01-17T04:06:18.979Z"
   },
   {
    "duration": 0,
    "start_time": "2023-01-17T04:06:18.980Z"
   },
   {
    "duration": 0,
    "start_time": "2023-01-17T04:06:18.981Z"
   },
   {
    "duration": 0,
    "start_time": "2023-01-17T04:06:18.982Z"
   },
   {
    "duration": 0,
    "start_time": "2023-01-17T04:06:18.983Z"
   },
   {
    "duration": 0,
    "start_time": "2023-01-17T04:06:18.984Z"
   },
   {
    "duration": 0,
    "start_time": "2023-01-17T04:06:18.984Z"
   },
   {
    "duration": 0,
    "start_time": "2023-01-17T04:06:18.986Z"
   },
   {
    "duration": 0,
    "start_time": "2023-01-17T04:06:18.987Z"
   },
   {
    "duration": 0,
    "start_time": "2023-01-17T04:06:18.988Z"
   },
   {
    "duration": 0,
    "start_time": "2023-01-17T04:06:18.989Z"
   },
   {
    "duration": 0,
    "start_time": "2023-01-17T04:06:18.990Z"
   },
   {
    "duration": 0,
    "start_time": "2023-01-17T04:06:18.991Z"
   },
   {
    "duration": 0,
    "start_time": "2023-01-17T04:06:18.992Z"
   },
   {
    "duration": 0,
    "start_time": "2023-01-17T04:06:19.053Z"
   },
   {
    "duration": 0,
    "start_time": "2023-01-17T04:06:19.054Z"
   },
   {
    "duration": 0,
    "start_time": "2023-01-17T04:06:19.056Z"
   },
   {
    "duration": 0,
    "start_time": "2023-01-17T04:06:19.058Z"
   },
   {
    "duration": 0,
    "start_time": "2023-01-17T04:06:19.059Z"
   },
   {
    "duration": 0,
    "start_time": "2023-01-17T04:06:19.064Z"
   },
   {
    "duration": 5,
    "start_time": "2023-01-17T04:06:48.980Z"
   },
   {
    "duration": 8,
    "start_time": "2023-01-17T04:06:48.987Z"
   },
   {
    "duration": 836,
    "start_time": "2023-01-17T04:06:48.996Z"
   },
   {
    "duration": 18,
    "start_time": "2023-01-17T04:06:49.834Z"
   },
   {
    "duration": 93,
    "start_time": "2023-01-17T04:06:49.855Z"
   },
   {
    "duration": 128,
    "start_time": "2023-01-17T04:06:49.951Z"
   },
   {
    "duration": 130,
    "start_time": "2023-01-17T04:06:50.081Z"
   },
   {
    "duration": 503,
    "start_time": "2023-01-17T04:06:50.213Z"
   },
   {
    "duration": 4,
    "start_time": "2023-01-17T04:06:50.718Z"
   },
   {
    "duration": 1349,
    "start_time": "2023-01-17T04:06:50.723Z"
   },
   {
    "duration": 247,
    "start_time": "2023-01-17T04:06:52.073Z"
   },
   {
    "duration": 227,
    "start_time": "2023-01-17T04:06:52.322Z"
   },
   {
    "duration": 29,
    "start_time": "2023-01-17T04:06:52.551Z"
   },
   {
    "duration": 134,
    "start_time": "2023-01-17T04:06:52.582Z"
   },
   {
    "duration": 17,
    "start_time": "2023-01-17T04:06:52.718Z"
   },
   {
    "duration": 28,
    "start_time": "2023-01-17T04:06:52.748Z"
   },
   {
    "duration": 43,
    "start_time": "2023-01-17T04:06:52.778Z"
   },
   {
    "duration": 4,
    "start_time": "2023-01-17T04:06:52.823Z"
   },
   {
    "duration": 111,
    "start_time": "2023-01-17T04:06:52.849Z"
   },
   {
    "duration": 204,
    "start_time": "2023-01-17T04:06:52.962Z"
   },
   {
    "duration": 37,
    "start_time": "2023-01-17T04:06:53.167Z"
   },
   {
    "duration": 204,
    "start_time": "2023-01-17T04:06:53.206Z"
   },
   {
    "duration": 53,
    "start_time": "2023-01-17T04:06:53.412Z"
   },
   {
    "duration": 225,
    "start_time": "2023-01-17T04:06:53.467Z"
   },
   {
    "duration": 15,
    "start_time": "2023-01-17T04:06:53.694Z"
   },
   {
    "duration": 41,
    "start_time": "2023-01-17T04:06:53.711Z"
   },
   {
    "duration": 51,
    "start_time": "2023-01-17T04:06:53.754Z"
   },
   {
    "duration": 96,
    "start_time": "2023-01-17T04:06:53.807Z"
   },
   {
    "duration": 216,
    "start_time": "2023-01-17T04:06:53.904Z"
   },
   {
    "duration": 120,
    "start_time": "2023-01-17T04:06:54.121Z"
   },
   {
    "duration": 173,
    "start_time": "2023-01-17T04:06:54.243Z"
   },
   {
    "duration": 33,
    "start_time": "2023-01-17T04:06:54.417Z"
   },
   {
    "duration": 18,
    "start_time": "2023-01-17T04:06:54.452Z"
   },
   {
    "duration": 34,
    "start_time": "2023-01-17T04:06:54.472Z"
   },
   {
    "duration": 41,
    "start_time": "2023-01-17T04:06:54.508Z"
   },
   {
    "duration": 45,
    "start_time": "2023-01-17T04:06:54.550Z"
   },
   {
    "duration": 156,
    "start_time": "2023-01-17T04:06:54.599Z"
   },
   {
    "duration": 31,
    "start_time": "2023-01-17T04:06:54.757Z"
   },
   {
    "duration": 14,
    "start_time": "2023-01-17T04:06:54.790Z"
   },
   {
    "duration": 14,
    "start_time": "2023-01-17T04:06:54.806Z"
   },
   {
    "duration": 46,
    "start_time": "2023-01-17T04:06:54.821Z"
   },
   {
    "duration": 34,
    "start_time": "2023-01-17T04:06:54.868Z"
   },
   {
    "duration": 15,
    "start_time": "2023-01-17T04:06:54.904Z"
   },
   {
    "duration": 43,
    "start_time": "2023-01-17T04:06:54.920Z"
   },
   {
    "duration": 58,
    "start_time": "2023-01-17T04:06:54.964Z"
   },
   {
    "duration": 34,
    "start_time": "2023-01-17T04:06:55.025Z"
   },
   {
    "duration": 6,
    "start_time": "2023-01-17T04:06:55.061Z"
   },
   {
    "duration": 6,
    "start_time": "2023-01-17T04:06:55.068Z"
   },
   {
    "duration": 74,
    "start_time": "2023-01-17T04:06:55.076Z"
   },
   {
    "duration": 32,
    "start_time": "2023-01-17T04:06:55.151Z"
   },
   {
    "duration": 42,
    "start_time": "2023-01-17T04:06:55.184Z"
   },
   {
    "duration": 27,
    "start_time": "2023-01-17T04:06:55.228Z"
   },
   {
    "duration": 4,
    "start_time": "2023-01-17T04:06:55.257Z"
   },
   {
    "duration": 387,
    "start_time": "2023-01-17T04:06:55.263Z"
   },
   {
    "duration": 366,
    "start_time": "2023-01-17T04:06:55.652Z"
   },
   {
    "duration": 114,
    "start_time": "2023-01-17T04:08:11.522Z"
   },
   {
    "duration": 4,
    "start_time": "2023-01-17T04:08:36.305Z"
   },
   {
    "duration": 15,
    "start_time": "2023-01-17T04:08:50.094Z"
   },
   {
    "duration": 14,
    "start_time": "2023-01-17T04:26:04.861Z"
   },
   {
    "duration": 14,
    "start_time": "2023-01-17T04:26:10.253Z"
   },
   {
    "duration": 10,
    "start_time": "2023-01-17T04:26:24.669Z"
   },
   {
    "duration": 3,
    "start_time": "2023-01-17T04:26:35.049Z"
   },
   {
    "duration": 13,
    "start_time": "2023-01-17T04:26:47.217Z"
   },
   {
    "duration": 47,
    "start_time": "2023-01-17T04:27:01.774Z"
   },
   {
    "duration": 47,
    "start_time": "2023-01-17T04:27:10.869Z"
   },
   {
    "duration": 404,
    "start_time": "2023-01-17T04:27:37.425Z"
   },
   {
    "duration": 4,
    "start_time": "2023-01-17T04:28:07.193Z"
   },
   {
    "duration": 1700,
    "start_time": "2023-01-17T19:18:34.879Z"
   },
   {
    "duration": 2,
    "start_time": "2023-01-17T19:18:36.582Z"
   },
   {
    "duration": 3381,
    "start_time": "2023-01-17T19:18:36.586Z"
   },
   {
    "duration": 17,
    "start_time": "2023-01-17T19:18:39.969Z"
   },
   {
    "duration": 104,
    "start_time": "2023-01-17T19:18:39.989Z"
   },
   {
    "duration": 127,
    "start_time": "2023-01-17T19:18:40.095Z"
   },
   {
    "duration": 131,
    "start_time": "2023-01-17T19:18:40.224Z"
   },
   {
    "duration": 645,
    "start_time": "2023-01-17T19:18:40.356Z"
   },
   {
    "duration": 6,
    "start_time": "2023-01-17T19:18:41.002Z"
   },
   {
    "duration": 1699,
    "start_time": "2023-01-17T19:18:41.009Z"
   },
   {
    "duration": 280,
    "start_time": "2023-01-17T19:18:42.711Z"
   },
   {
    "duration": 277,
    "start_time": "2023-01-17T19:18:42.993Z"
   },
   {
    "duration": 29,
    "start_time": "2023-01-17T19:18:43.273Z"
   },
   {
    "duration": 172,
    "start_time": "2023-01-17T19:18:43.305Z"
   },
   {
    "duration": 18,
    "start_time": "2023-01-17T19:18:43.478Z"
   },
   {
    "duration": 40,
    "start_time": "2023-01-17T19:18:43.497Z"
   },
   {
    "duration": 50,
    "start_time": "2023-01-17T19:18:43.539Z"
   },
   {
    "duration": 5,
    "start_time": "2023-01-17T19:18:43.591Z"
   },
   {
    "duration": 157,
    "start_time": "2023-01-17T19:18:43.597Z"
   },
   {
    "duration": 241,
    "start_time": "2023-01-17T19:18:43.755Z"
   },
   {
    "duration": 61,
    "start_time": "2023-01-17T19:18:43.998Z"
   },
   {
    "duration": 227,
    "start_time": "2023-01-17T19:18:44.063Z"
   },
   {
    "duration": 51,
    "start_time": "2023-01-17T19:18:44.292Z"
   },
   {
    "duration": 262,
    "start_time": "2023-01-17T19:18:44.345Z"
   },
   {
    "duration": 15,
    "start_time": "2023-01-17T19:18:44.609Z"
   },
   {
    "duration": 47,
    "start_time": "2023-01-17T19:18:44.626Z"
   },
   {
    "duration": 61,
    "start_time": "2023-01-17T19:18:44.675Z"
   },
   {
    "duration": 82,
    "start_time": "2023-01-17T19:18:44.741Z"
   },
   {
    "duration": 253,
    "start_time": "2023-01-17T19:18:44.824Z"
   },
   {
    "duration": 140,
    "start_time": "2023-01-17T19:18:45.079Z"
   },
   {
    "duration": 177,
    "start_time": "2023-01-17T19:18:45.220Z"
   },
   {
    "duration": 61,
    "start_time": "2023-01-17T19:18:45.399Z"
   },
   {
    "duration": 19,
    "start_time": "2023-01-17T19:18:45.461Z"
   },
   {
    "duration": 64,
    "start_time": "2023-01-17T19:18:45.482Z"
   },
   {
    "duration": 41,
    "start_time": "2023-01-17T19:18:45.549Z"
   },
   {
    "duration": 65,
    "start_time": "2023-01-17T19:18:45.593Z"
   },
   {
    "duration": 206,
    "start_time": "2023-01-17T19:18:45.659Z"
   },
   {
    "duration": 41,
    "start_time": "2023-01-17T19:18:45.867Z"
   },
   {
    "duration": 28,
    "start_time": "2023-01-17T19:18:45.910Z"
   },
   {
    "duration": 23,
    "start_time": "2023-01-17T19:18:45.939Z"
   },
   {
    "duration": 42,
    "start_time": "2023-01-17T19:18:45.967Z"
   },
   {
    "duration": 66,
    "start_time": "2023-01-17T19:18:46.011Z"
   },
   {
    "duration": 23,
    "start_time": "2023-01-17T19:18:46.079Z"
   },
   {
    "duration": 57,
    "start_time": "2023-01-17T19:18:46.103Z"
   },
   {
    "duration": 80,
    "start_time": "2023-01-17T19:18:46.162Z"
   },
   {
    "duration": 25,
    "start_time": "2023-01-17T19:18:46.244Z"
   },
   {
    "duration": 12,
    "start_time": "2023-01-17T19:18:46.271Z"
   },
   {
    "duration": 25,
    "start_time": "2023-01-17T19:18:46.284Z"
   },
   {
    "duration": 74,
    "start_time": "2023-01-17T19:18:46.311Z"
   },
   {
    "duration": 38,
    "start_time": "2023-01-17T19:18:46.386Z"
   },
   {
    "duration": 57,
    "start_time": "2023-01-17T19:18:46.425Z"
   },
   {
    "duration": 39,
    "start_time": "2023-01-17T19:18:46.484Z"
   },
   {
    "duration": 38,
    "start_time": "2023-01-17T19:18:46.524Z"
   },
   {
    "duration": 142,
    "start_time": "2023-01-17T19:18:46.563Z"
   },
   {
    "duration": 0,
    "start_time": "2023-01-17T19:18:46.706Z"
   },
   {
    "duration": 0,
    "start_time": "2023-01-17T19:18:46.709Z"
   },
   {
    "duration": 12,
    "start_time": "2023-01-17T19:26:15.106Z"
   },
   {
    "duration": 474,
    "start_time": "2023-01-17T19:28:39.576Z"
   },
   {
    "duration": 3,
    "start_time": "2023-01-17T19:29:12.084Z"
   },
   {
    "duration": 434,
    "start_time": "2023-01-17T19:30:05.247Z"
   },
   {
    "duration": 437,
    "start_time": "2023-01-17T19:30:10.903Z"
   },
   {
    "duration": 5,
    "start_time": "2023-01-17T19:30:38.770Z"
   },
   {
    "duration": 12,
    "start_time": "2023-01-17T19:31:49.017Z"
   },
   {
    "duration": 10,
    "start_time": "2023-01-17T19:31:56.774Z"
   },
   {
    "duration": 3,
    "start_time": "2023-01-17T19:32:12.067Z"
   },
   {
    "duration": 11,
    "start_time": "2023-01-17T19:32:17.756Z"
   },
   {
    "duration": 5,
    "start_time": "2023-01-17T19:33:12.843Z"
   },
   {
    "duration": 4,
    "start_time": "2023-01-17T19:33:29.521Z"
   },
   {
    "duration": 5,
    "start_time": "2023-01-17T19:33:32.031Z"
   },
   {
    "duration": 10,
    "start_time": "2023-01-17T19:33:40.305Z"
   },
   {
    "duration": 427,
    "start_time": "2023-01-17T19:33:53.999Z"
   },
   {
    "duration": 4,
    "start_time": "2023-01-17T19:34:02.784Z"
   },
   {
    "duration": 10,
    "start_time": "2023-01-17T19:34:04.916Z"
   },
   {
    "duration": 13,
    "start_time": "2023-01-17T19:35:01.162Z"
   },
   {
    "duration": 446,
    "start_time": "2023-01-17T19:36:00.556Z"
   },
   {
    "duration": 400,
    "start_time": "2023-01-17T19:36:03.753Z"
   },
   {
    "duration": 434,
    "start_time": "2023-01-17T19:38:25.165Z"
   },
   {
    "duration": 78,
    "start_time": "2023-01-17T19:42:04.296Z"
   },
   {
    "duration": 503,
    "start_time": "2023-01-17T19:45:56.471Z"
   },
   {
    "duration": 65,
    "start_time": "2023-01-17T19:47:08.431Z"
   },
   {
    "duration": 3,
    "start_time": "2023-01-17T19:50:44.095Z"
   },
   {
    "duration": 54,
    "start_time": "2023-01-17T19:52:11.905Z"
   },
   {
    "duration": 46,
    "start_time": "2023-01-17T19:52:34.473Z"
   },
   {
    "duration": 243,
    "start_time": "2023-01-17T19:53:57.967Z"
   },
   {
    "duration": 269,
    "start_time": "2023-01-17T19:55:21.361Z"
   },
   {
    "duration": 10,
    "start_time": "2023-01-17T19:59:02.083Z"
   },
   {
    "duration": 14,
    "start_time": "2023-01-17T19:59:14.037Z"
   },
   {
    "duration": 17,
    "start_time": "2023-01-17T20:00:34.614Z"
   },
   {
    "duration": 77,
    "start_time": "2023-01-17T20:01:43.325Z"
   },
   {
    "duration": 19,
    "start_time": "2023-01-17T20:01:48.463Z"
   },
   {
    "duration": 16,
    "start_time": "2023-01-17T20:02:11.214Z"
   },
   {
    "duration": 61,
    "start_time": "2023-01-17T20:02:30.677Z"
   },
   {
    "duration": 67,
    "start_time": "2023-01-17T20:02:55.317Z"
   },
   {
    "duration": 16,
    "start_time": "2023-01-17T20:03:01.649Z"
   },
   {
    "duration": 12,
    "start_time": "2023-01-17T20:03:12.806Z"
   },
   {
    "duration": 57,
    "start_time": "2023-01-17T20:03:51.102Z"
   },
   {
    "duration": 218,
    "start_time": "2023-01-17T20:04:36.352Z"
   },
   {
    "duration": 215,
    "start_time": "2023-01-17T20:04:43.713Z"
   },
   {
    "duration": 225,
    "start_time": "2023-01-17T20:05:00.336Z"
   },
   {
    "duration": 263,
    "start_time": "2023-01-17T20:06:13.191Z"
   },
   {
    "duration": 292,
    "start_time": "2023-01-17T20:07:10.091Z"
   },
   {
    "duration": 3,
    "start_time": "2023-01-17T20:07:44.712Z"
   },
   {
    "duration": 57,
    "start_time": "2023-01-17T20:07:47.206Z"
   },
   {
    "duration": 239,
    "start_time": "2023-01-17T20:07:51.674Z"
   },
   {
    "duration": 297,
    "start_time": "2023-01-17T20:08:13.063Z"
   },
   {
    "duration": 6,
    "start_time": "2023-01-17T20:08:30.537Z"
   },
   {
    "duration": 272,
    "start_time": "2023-01-17T20:10:18.601Z"
   },
   {
    "duration": 290,
    "start_time": "2023-01-17T20:10:24.761Z"
   },
   {
    "duration": 12,
    "start_time": "2023-01-17T20:16:29.291Z"
   },
   {
    "duration": 3,
    "start_time": "2023-01-17T20:17:44.948Z"
   },
   {
    "duration": 39,
    "start_time": "2023-01-17T20:18:06.408Z"
   },
   {
    "duration": 5,
    "start_time": "2023-01-17T20:19:33.018Z"
   },
   {
    "duration": 4,
    "start_time": "2023-01-17T20:19:45.515Z"
   },
   {
    "duration": 29,
    "start_time": "2023-01-17T20:20:10.163Z"
   },
   {
    "duration": 293,
    "start_time": "2023-01-17T20:20:27.324Z"
   },
   {
    "duration": 212,
    "start_time": "2023-01-17T20:20:40.199Z"
   },
   {
    "duration": 206,
    "start_time": "2023-01-17T20:20:53.995Z"
   },
   {
    "duration": 76,
    "start_time": "2023-01-17T20:21:32.873Z"
   },
   {
    "duration": 228,
    "start_time": "2023-01-17T20:21:39.615Z"
   },
   {
    "duration": 31,
    "start_time": "2023-01-17T20:22:27.062Z"
   },
   {
    "duration": 5,
    "start_time": "2023-01-17T20:22:49.382Z"
   },
   {
    "duration": 7,
    "start_time": "2023-01-17T20:24:09.351Z"
   },
   {
    "duration": 52,
    "start_time": "2023-01-17T20:24:22.560Z"
   },
   {
    "duration": 5,
    "start_time": "2023-01-17T20:24:38.306Z"
   },
   {
    "duration": 14965,
    "start_time": "2023-01-17T20:24:39.373Z"
   },
   {
    "duration": 3,
    "start_time": "2023-01-17T20:27:23.803Z"
   },
   {
    "duration": 3,
    "start_time": "2023-01-17T20:27:26.860Z"
   },
   {
    "duration": 71,
    "start_time": "2023-01-17T20:27:34.240Z"
   },
   {
    "duration": 5,
    "start_time": "2023-01-17T20:27:53.387Z"
   },
   {
    "duration": 74,
    "start_time": "2023-01-17T20:27:55.868Z"
   },
   {
    "duration": 1558,
    "start_time": "2023-01-18T19:15:07.886Z"
   },
   {
    "duration": 4,
    "start_time": "2023-01-18T19:15:09.446Z"
   },
   {
    "duration": 2712,
    "start_time": "2023-01-18T19:15:09.451Z"
   },
   {
    "duration": 17,
    "start_time": "2023-01-18T19:15:12.165Z"
   },
   {
    "duration": 123,
    "start_time": "2023-01-18T19:15:12.184Z"
   },
   {
    "duration": 135,
    "start_time": "2023-01-18T19:15:12.308Z"
   },
   {
    "duration": 123,
    "start_time": "2023-01-18T19:15:12.444Z"
   },
   {
    "duration": 545,
    "start_time": "2023-01-18T19:15:12.569Z"
   },
   {
    "duration": 4,
    "start_time": "2023-01-18T19:15:13.116Z"
   },
   {
    "duration": 1327,
    "start_time": "2023-01-18T19:15:13.123Z"
   },
   {
    "duration": 244,
    "start_time": "2023-01-18T19:15:14.452Z"
   },
   {
    "duration": 217,
    "start_time": "2023-01-18T19:15:14.698Z"
   },
   {
    "duration": 32,
    "start_time": "2023-01-18T19:15:14.917Z"
   },
   {
    "duration": 140,
    "start_time": "2023-01-18T19:15:14.951Z"
   },
   {
    "duration": 18,
    "start_time": "2023-01-18T19:15:15.092Z"
   },
   {
    "duration": 45,
    "start_time": "2023-01-18T19:15:15.112Z"
   },
   {
    "duration": 42,
    "start_time": "2023-01-18T19:15:15.158Z"
   },
   {
    "duration": 6,
    "start_time": "2023-01-18T19:15:15.202Z"
   },
   {
    "duration": 160,
    "start_time": "2023-01-18T19:15:15.210Z"
   },
   {
    "duration": 231,
    "start_time": "2023-01-18T19:15:15.372Z"
   },
   {
    "duration": 47,
    "start_time": "2023-01-18T19:15:15.605Z"
   },
   {
    "duration": 184,
    "start_time": "2023-01-18T19:15:15.653Z"
   },
   {
    "duration": 46,
    "start_time": "2023-01-18T19:15:15.838Z"
   },
   {
    "duration": 253,
    "start_time": "2023-01-18T19:15:15.886Z"
   },
   {
    "duration": 18,
    "start_time": "2023-01-18T19:15:16.141Z"
   },
   {
    "duration": 28,
    "start_time": "2023-01-18T19:15:16.160Z"
   },
   {
    "duration": 48,
    "start_time": "2023-01-18T19:15:16.190Z"
   },
   {
    "duration": 69,
    "start_time": "2023-01-18T19:15:16.251Z"
   },
   {
    "duration": 226,
    "start_time": "2023-01-18T19:15:16.322Z"
   },
   {
    "duration": 135,
    "start_time": "2023-01-18T19:15:16.550Z"
   },
   {
    "duration": 156,
    "start_time": "2023-01-18T19:15:16.687Z"
   },
   {
    "duration": 40,
    "start_time": "2023-01-18T19:15:16.847Z"
   },
   {
    "duration": 20,
    "start_time": "2023-01-18T19:15:16.889Z"
   },
   {
    "duration": 41,
    "start_time": "2023-01-18T19:15:16.911Z"
   },
   {
    "duration": 30,
    "start_time": "2023-01-18T19:15:16.954Z"
   },
   {
    "duration": 46,
    "start_time": "2023-01-18T19:15:16.985Z"
   },
   {
    "duration": 175,
    "start_time": "2023-01-18T19:15:17.033Z"
   },
   {
    "duration": 40,
    "start_time": "2023-01-18T19:15:17.210Z"
   },
   {
    "duration": 17,
    "start_time": "2023-01-18T19:15:17.252Z"
   },
   {
    "duration": 22,
    "start_time": "2023-01-18T19:15:17.271Z"
   },
   {
    "duration": 23,
    "start_time": "2023-01-18T19:15:17.295Z"
   },
   {
    "duration": 45,
    "start_time": "2023-01-18T19:15:17.319Z"
   },
   {
    "duration": 14,
    "start_time": "2023-01-18T19:15:17.366Z"
   },
   {
    "duration": 23,
    "start_time": "2023-01-18T19:15:17.382Z"
   },
   {
    "duration": 78,
    "start_time": "2023-01-18T19:15:17.406Z"
   },
   {
    "duration": 15,
    "start_time": "2023-01-18T19:15:17.486Z"
   },
   {
    "duration": 10,
    "start_time": "2023-01-18T19:15:17.503Z"
   },
   {
    "duration": 8,
    "start_time": "2023-01-18T19:15:17.515Z"
   },
   {
    "duration": 71,
    "start_time": "2023-01-18T19:15:17.524Z"
   },
   {
    "duration": 31,
    "start_time": "2023-01-18T19:15:17.597Z"
   },
   {
    "duration": 53,
    "start_time": "2023-01-18T19:15:17.629Z"
   },
   {
    "duration": 3,
    "start_time": "2023-01-18T19:15:17.684Z"
   },
   {
    "duration": 394,
    "start_time": "2023-01-18T19:15:17.688Z"
   },
   {
    "duration": 253,
    "start_time": "2023-01-18T19:15:18.084Z"
   },
   {
    "duration": 230,
    "start_time": "2023-01-18T19:15:18.338Z"
   },
   {
    "duration": 27,
    "start_time": "2023-01-18T19:15:18.570Z"
   },
   {
    "duration": 4,
    "start_time": "2023-01-18T19:25:30.074Z"
   },
   {
    "duration": 3,
    "start_time": "2023-01-18T19:27:36.433Z"
   },
   {
    "duration": 2,
    "start_time": "2023-01-18T19:27:40.585Z"
   },
   {
    "duration": 158,
    "start_time": "2023-01-18T19:28:25.988Z"
   },
   {
    "duration": 3,
    "start_time": "2023-01-18T19:29:18.783Z"
   },
   {
    "duration": 3,
    "start_time": "2023-01-18T19:29:21.398Z"
   },
   {
    "duration": 53,
    "start_time": "2023-01-18T19:29:22.729Z"
   },
   {
    "duration": 3,
    "start_time": "2023-01-18T19:30:22.747Z"
   },
   {
    "duration": 4,
    "start_time": "2023-01-18T19:30:24.787Z"
   },
   {
    "duration": 2,
    "start_time": "2023-01-18T19:30:25.760Z"
   },
   {
    "duration": 52,
    "start_time": "2023-01-18T19:30:26.827Z"
   },
   {
    "duration": 3,
    "start_time": "2023-01-18T19:30:54.325Z"
   },
   {
    "duration": 3,
    "start_time": "2023-01-18T19:30:55.072Z"
   },
   {
    "duration": 23841,
    "start_time": "2023-01-18T19:30:55.742Z"
   },
   {
    "duration": 3,
    "start_time": "2023-01-18T19:31:42.439Z"
   },
   {
    "duration": 28193,
    "start_time": "2023-01-18T19:31:45.263Z"
   },
   {
    "duration": 2,
    "start_time": "2023-01-18T19:33:10.517Z"
   },
   {
    "duration": 13669,
    "start_time": "2023-01-18T19:33:16.687Z"
   },
   {
    "duration": 14321,
    "start_time": "2023-01-18T19:33:50.688Z"
   },
   {
    "duration": 4,
    "start_time": "2023-01-18T19:35:41.731Z"
   },
   {
    "duration": 3,
    "start_time": "2023-01-18T19:35:56.758Z"
   },
   {
    "duration": 13657,
    "start_time": "2023-01-18T19:36:01.399Z"
   },
   {
    "duration": 3,
    "start_time": "2023-01-18T19:36:39.265Z"
   },
   {
    "duration": 14167,
    "start_time": "2023-01-18T19:36:43.433Z"
   },
   {
    "duration": 5854,
    "start_time": "2023-01-18T19:37:41.702Z"
   },
   {
    "duration": 13288,
    "start_time": "2023-01-18T19:37:54.905Z"
   },
   {
    "duration": 4,
    "start_time": "2023-01-18T19:38:17.705Z"
   },
   {
    "duration": 4,
    "start_time": "2023-01-18T19:38:44.900Z"
   },
   {
    "duration": 3,
    "start_time": "2023-01-18T19:38:47.200Z"
   },
   {
    "duration": 14197,
    "start_time": "2023-01-18T19:38:48.606Z"
   },
   {
    "duration": 1228,
    "start_time": "2023-01-18T19:39:37.577Z"
   },
   {
    "duration": 4,
    "start_time": "2023-01-18T19:39:38.807Z"
   },
   {
    "duration": 825,
    "start_time": "2023-01-18T19:39:38.812Z"
   },
   {
    "duration": 17,
    "start_time": "2023-01-18T19:39:39.639Z"
   },
   {
    "duration": 128,
    "start_time": "2023-01-18T19:39:39.658Z"
   },
   {
    "duration": 125,
    "start_time": "2023-01-18T19:39:39.788Z"
   },
   {
    "duration": 134,
    "start_time": "2023-01-18T19:39:39.915Z"
   },
   {
    "duration": 536,
    "start_time": "2023-01-18T19:39:40.051Z"
   },
   {
    "duration": 5,
    "start_time": "2023-01-18T19:39:40.589Z"
   },
   {
    "duration": 1412,
    "start_time": "2023-01-18T19:39:40.598Z"
   },
   {
    "duration": 267,
    "start_time": "2023-01-18T19:39:42.011Z"
   },
   {
    "duration": 154,
    "start_time": "2023-01-18T19:39:42.280Z"
   },
   {
    "duration": 36,
    "start_time": "2023-01-18T19:39:42.436Z"
   },
   {
    "duration": 133,
    "start_time": "2023-01-18T19:39:42.474Z"
   },
   {
    "duration": 17,
    "start_time": "2023-01-18T19:39:42.608Z"
   },
   {
    "duration": 39,
    "start_time": "2023-01-18T19:39:42.627Z"
   },
   {
    "duration": 44,
    "start_time": "2023-01-18T19:39:42.667Z"
   },
   {
    "duration": 4,
    "start_time": "2023-01-18T19:39:42.713Z"
   },
   {
    "duration": 192,
    "start_time": "2023-01-18T19:39:42.719Z"
   },
   {
    "duration": 198,
    "start_time": "2023-01-18T19:39:42.913Z"
   },
   {
    "duration": 44,
    "start_time": "2023-01-18T19:39:43.113Z"
   },
   {
    "duration": 182,
    "start_time": "2023-01-18T19:39:43.159Z"
   },
   {
    "duration": 43,
    "start_time": "2023-01-18T19:39:43.343Z"
   },
   {
    "duration": 224,
    "start_time": "2023-01-18T19:39:43.388Z"
   },
   {
    "duration": 16,
    "start_time": "2023-01-18T19:39:43.614Z"
   },
   {
    "duration": 37,
    "start_time": "2023-01-18T19:39:43.631Z"
   },
   {
    "duration": 43,
    "start_time": "2023-01-18T19:39:43.670Z"
   },
   {
    "duration": 84,
    "start_time": "2023-01-18T19:39:43.718Z"
   },
   {
    "duration": 221,
    "start_time": "2023-01-18T19:39:43.804Z"
   },
   {
    "duration": 129,
    "start_time": "2023-01-18T19:39:44.027Z"
   },
   {
    "duration": 164,
    "start_time": "2023-01-18T19:39:44.158Z"
   },
   {
    "duration": 45,
    "start_time": "2023-01-18T19:39:44.324Z"
   },
   {
    "duration": 20,
    "start_time": "2023-01-18T19:39:44.371Z"
   },
   {
    "duration": 31,
    "start_time": "2023-01-18T19:39:44.393Z"
   },
   {
    "duration": 39,
    "start_time": "2023-01-18T19:39:44.426Z"
   },
   {
    "duration": 41,
    "start_time": "2023-01-18T19:39:44.467Z"
   },
   {
    "duration": 179,
    "start_time": "2023-01-18T19:39:44.511Z"
   },
   {
    "duration": 30,
    "start_time": "2023-01-18T19:39:44.691Z"
   },
   {
    "duration": 15,
    "start_time": "2023-01-18T19:39:44.722Z"
   },
   {
    "duration": 13,
    "start_time": "2023-01-18T19:39:44.749Z"
   },
   {
    "duration": 38,
    "start_time": "2023-01-18T19:39:44.764Z"
   },
   {
    "duration": 50,
    "start_time": "2023-01-18T19:39:44.804Z"
   },
   {
    "duration": 15,
    "start_time": "2023-01-18T19:39:44.855Z"
   },
   {
    "duration": 22,
    "start_time": "2023-01-18T19:39:44.871Z"
   },
   {
    "duration": 73,
    "start_time": "2023-01-18T19:39:44.895Z"
   },
   {
    "duration": 16,
    "start_time": "2023-01-18T19:39:44.970Z"
   },
   {
    "duration": 7,
    "start_time": "2023-01-18T19:39:44.988Z"
   },
   {
    "duration": 6,
    "start_time": "2023-01-18T19:39:44.997Z"
   },
   {
    "duration": 72,
    "start_time": "2023-01-18T19:39:45.004Z"
   },
   {
    "duration": 33,
    "start_time": "2023-01-18T19:39:45.077Z"
   },
   {
    "duration": 56,
    "start_time": "2023-01-18T19:39:45.112Z"
   },
   {
    "duration": 3,
    "start_time": "2023-01-18T19:39:45.170Z"
   },
   {
    "duration": 439,
    "start_time": "2023-01-18T19:39:45.174Z"
   },
   {
    "duration": 255,
    "start_time": "2023-01-18T19:39:45.614Z"
   },
   {
    "duration": 222,
    "start_time": "2023-01-18T19:39:45.870Z"
   },
   {
    "duration": 29,
    "start_time": "2023-01-18T19:39:46.094Z"
   },
   {
    "duration": 4,
    "start_time": "2023-01-18T19:39:46.124Z"
   },
   {
    "duration": 20,
    "start_time": "2023-01-18T19:39:46.129Z"
   },
   {
    "duration": 21022,
    "start_time": "2023-01-18T19:40:09.318Z"
   },
   {
    "duration": 4,
    "start_time": "2023-01-18T19:41:09.977Z"
   },
   {
    "duration": 8,
    "start_time": "2023-01-18T19:41:09.984Z"
   },
   {
    "duration": 755,
    "start_time": "2023-01-18T19:41:09.994Z"
   },
   {
    "duration": 13,
    "start_time": "2023-01-18T19:41:10.751Z"
   },
   {
    "duration": 91,
    "start_time": "2023-01-18T19:41:10.767Z"
   },
   {
    "duration": 131,
    "start_time": "2023-01-18T19:41:10.860Z"
   },
   {
    "duration": 126,
    "start_time": "2023-01-18T19:41:10.993Z"
   },
   {
    "duration": 471,
    "start_time": "2023-01-18T19:41:11.121Z"
   },
   {
    "duration": 6,
    "start_time": "2023-01-18T19:41:11.593Z"
   },
   {
    "duration": 1446,
    "start_time": "2023-01-18T19:41:11.600Z"
   },
   {
    "duration": 316,
    "start_time": "2023-01-18T19:41:13.049Z"
   },
   {
    "duration": 143,
    "start_time": "2023-01-18T19:41:13.366Z"
   },
   {
    "duration": 37,
    "start_time": "2023-01-18T19:41:13.511Z"
   },
   {
    "duration": 80,
    "start_time": "2023-01-18T19:41:13.549Z"
   },
   {
    "duration": 31,
    "start_time": "2023-01-18T19:41:13.631Z"
   },
   {
    "duration": 35,
    "start_time": "2023-01-18T19:41:13.664Z"
   },
   {
    "duration": 59,
    "start_time": "2023-01-18T19:41:13.701Z"
   },
   {
    "duration": 5,
    "start_time": "2023-01-18T19:41:13.762Z"
   },
   {
    "duration": 120,
    "start_time": "2023-01-18T19:41:13.769Z"
   },
   {
    "duration": 210,
    "start_time": "2023-01-18T19:41:13.891Z"
   },
   {
    "duration": 55,
    "start_time": "2023-01-18T19:41:14.103Z"
   },
   {
    "duration": 195,
    "start_time": "2023-01-18T19:41:14.160Z"
   },
   {
    "duration": 34,
    "start_time": "2023-01-18T19:41:14.357Z"
   },
   {
    "duration": 221,
    "start_time": "2023-01-18T19:41:14.393Z"
   },
   {
    "duration": 16,
    "start_time": "2023-01-18T19:41:14.616Z"
   },
   {
    "duration": 38,
    "start_time": "2023-01-18T19:41:14.633Z"
   },
   {
    "duration": 43,
    "start_time": "2023-01-18T19:41:14.673Z"
   },
   {
    "duration": 80,
    "start_time": "2023-01-18T19:41:14.718Z"
   },
   {
    "duration": 230,
    "start_time": "2023-01-18T19:41:14.803Z"
   },
   {
    "duration": 125,
    "start_time": "2023-01-18T19:41:15.035Z"
   },
   {
    "duration": 190,
    "start_time": "2023-01-18T19:41:15.162Z"
   },
   {
    "duration": 38,
    "start_time": "2023-01-18T19:41:15.354Z"
   },
   {
    "duration": 26,
    "start_time": "2023-01-18T19:41:15.394Z"
   },
   {
    "duration": 70,
    "start_time": "2023-01-18T19:41:15.423Z"
   },
   {
    "duration": 31,
    "start_time": "2023-01-18T19:41:15.495Z"
   },
   {
    "duration": 66,
    "start_time": "2023-01-18T19:41:15.528Z"
   },
   {
    "duration": 163,
    "start_time": "2023-01-18T19:41:15.596Z"
   },
   {
    "duration": 31,
    "start_time": "2023-01-18T19:41:15.761Z"
   },
   {
    "duration": 16,
    "start_time": "2023-01-18T19:41:15.794Z"
   },
   {
    "duration": 11,
    "start_time": "2023-01-18T19:41:15.811Z"
   },
   {
    "duration": 46,
    "start_time": "2023-01-18T19:41:15.824Z"
   },
   {
    "duration": 48,
    "start_time": "2023-01-18T19:41:15.871Z"
   },
   {
    "duration": 28,
    "start_time": "2023-01-18T19:41:15.921Z"
   },
   {
    "duration": 21,
    "start_time": "2023-01-18T19:41:15.950Z"
   },
   {
    "duration": 82,
    "start_time": "2023-01-18T19:41:15.973Z"
   },
   {
    "duration": 16,
    "start_time": "2023-01-18T19:41:16.057Z"
   },
   {
    "duration": 6,
    "start_time": "2023-01-18T19:41:16.074Z"
   },
   {
    "duration": 6,
    "start_time": "2023-01-18T19:41:16.081Z"
   },
   {
    "duration": 82,
    "start_time": "2023-01-18T19:41:16.088Z"
   },
   {
    "duration": 35,
    "start_time": "2023-01-18T19:41:16.171Z"
   },
   {
    "duration": 163,
    "start_time": "2023-01-18T19:41:16.207Z"
   },
   {
    "duration": 3,
    "start_time": "2023-01-18T19:41:16.372Z"
   },
   {
    "duration": 412,
    "start_time": "2023-01-18T19:41:16.376Z"
   },
   {
    "duration": 247,
    "start_time": "2023-01-18T19:41:16.790Z"
   },
   {
    "duration": 209,
    "start_time": "2023-01-18T19:41:17.039Z"
   },
   {
    "duration": 26,
    "start_time": "2023-01-18T19:41:17.250Z"
   },
   {
    "duration": 3,
    "start_time": "2023-01-18T19:41:17.278Z"
   },
   {
    "duration": 6,
    "start_time": "2023-01-18T19:41:17.283Z"
   },
   {
    "duration": 21698,
    "start_time": "2023-01-18T19:41:35.658Z"
   },
   {
    "duration": 4,
    "start_time": "2023-01-18T19:44:29.432Z"
   },
   {
    "duration": 3,
    "start_time": "2023-01-18T19:44:30.739Z"
   },
   {
    "duration": 23122,
    "start_time": "2023-01-18T19:44:31.589Z"
   },
   {
    "duration": 4,
    "start_time": "2023-01-18T19:45:31.306Z"
   },
   {
    "duration": 6,
    "start_time": "2023-01-18T19:45:34.564Z"
   },
   {
    "duration": 2,
    "start_time": "2023-01-18T19:45:37.612Z"
   },
   {
    "duration": 22911,
    "start_time": "2023-01-18T19:45:44.398Z"
   },
   {
    "duration": 3,
    "start_time": "2023-01-18T19:50:16.018Z"
   },
   {
    "duration": 3,
    "start_time": "2023-01-18T19:50:19.025Z"
   },
   {
    "duration": 20358,
    "start_time": "2023-01-18T19:50:20.998Z"
   },
   {
    "duration": 3,
    "start_time": "2023-01-18T19:52:39.152Z"
   },
   {
    "duration": 4,
    "start_time": "2023-01-18T19:52:42.157Z"
   },
   {
    "duration": 3,
    "start_time": "2023-01-18T19:52:42.952Z"
   },
   {
    "duration": 4,
    "start_time": "2023-01-18T20:02:24.800Z"
   },
   {
    "duration": 14,
    "start_time": "2023-01-18T20:02:24.806Z"
   },
   {
    "duration": 820,
    "start_time": "2023-01-18T20:02:24.822Z"
   },
   {
    "duration": 16,
    "start_time": "2023-01-18T20:02:25.643Z"
   },
   {
    "duration": 97,
    "start_time": "2023-01-18T20:02:25.662Z"
   },
   {
    "duration": 131,
    "start_time": "2023-01-18T20:02:25.760Z"
   },
   {
    "duration": 158,
    "start_time": "2023-01-18T20:02:25.893Z"
   },
   {
    "duration": 499,
    "start_time": "2023-01-18T20:02:26.052Z"
   },
   {
    "duration": 5,
    "start_time": "2023-01-18T20:02:26.553Z"
   },
   {
    "duration": 1404,
    "start_time": "2023-01-18T20:02:26.560Z"
   },
   {
    "duration": 222,
    "start_time": "2023-01-18T20:02:27.966Z"
   },
   {
    "duration": 153,
    "start_time": "2023-01-18T20:02:28.190Z"
   },
   {
    "duration": 26,
    "start_time": "2023-01-18T20:02:28.348Z"
   },
   {
    "duration": 115,
    "start_time": "2023-01-18T20:02:28.378Z"
   },
   {
    "duration": 17,
    "start_time": "2023-01-18T20:02:28.495Z"
   },
   {
    "duration": 54,
    "start_time": "2023-01-18T20:02:28.514Z"
   },
   {
    "duration": 43,
    "start_time": "2023-01-18T20:02:28.570Z"
   },
   {
    "duration": 4,
    "start_time": "2023-01-18T20:02:28.615Z"
   },
   {
    "duration": 122,
    "start_time": "2023-01-18T20:02:28.621Z"
   },
   {
    "duration": 200,
    "start_time": "2023-01-18T20:02:28.748Z"
   },
   {
    "duration": 35,
    "start_time": "2023-01-18T20:02:28.950Z"
   },
   {
    "duration": 217,
    "start_time": "2023-01-18T20:02:28.987Z"
   },
   {
    "duration": 45,
    "start_time": "2023-01-18T20:02:29.205Z"
   },
   {
    "duration": 219,
    "start_time": "2023-01-18T20:02:29.252Z"
   },
   {
    "duration": 16,
    "start_time": "2023-01-18T20:02:29.472Z"
   },
   {
    "duration": 27,
    "start_time": "2023-01-18T20:02:29.490Z"
   },
   {
    "duration": 60,
    "start_time": "2023-01-18T20:02:29.519Z"
   },
   {
    "duration": 91,
    "start_time": "2023-01-18T20:02:29.581Z"
   },
   {
    "duration": 223,
    "start_time": "2023-01-18T20:02:29.674Z"
   },
   {
    "duration": 126,
    "start_time": "2023-01-18T20:02:29.899Z"
   },
   {
    "duration": 256,
    "start_time": "2023-01-18T20:02:30.027Z"
   },
   {
    "duration": 38,
    "start_time": "2023-01-18T20:02:30.284Z"
   },
   {
    "duration": 30,
    "start_time": "2023-01-18T20:02:30.324Z"
   },
   {
    "duration": 35,
    "start_time": "2023-01-18T20:02:30.356Z"
   },
   {
    "duration": 28,
    "start_time": "2023-01-18T20:02:30.392Z"
   },
   {
    "duration": 62,
    "start_time": "2023-01-18T20:02:30.421Z"
   },
   {
    "duration": 170,
    "start_time": "2023-01-18T20:02:30.485Z"
   },
   {
    "duration": 39,
    "start_time": "2023-01-18T20:02:30.658Z"
   },
   {
    "duration": 15,
    "start_time": "2023-01-18T20:02:30.698Z"
   },
   {
    "duration": 13,
    "start_time": "2023-01-18T20:02:30.715Z"
   },
   {
    "duration": 25,
    "start_time": "2023-01-18T20:02:30.747Z"
   },
   {
    "duration": 54,
    "start_time": "2023-01-18T20:02:30.774Z"
   },
   {
    "duration": 16,
    "start_time": "2023-01-18T20:02:30.830Z"
   },
   {
    "duration": 32,
    "start_time": "2023-01-18T20:02:30.848Z"
   },
   {
    "duration": 93,
    "start_time": "2023-01-18T20:02:30.882Z"
   },
   {
    "duration": 17,
    "start_time": "2023-01-18T20:02:30.977Z"
   },
   {
    "duration": 8,
    "start_time": "2023-01-18T20:02:30.997Z"
   },
   {
    "duration": 10,
    "start_time": "2023-01-18T20:02:31.007Z"
   },
   {
    "duration": 76,
    "start_time": "2023-01-18T20:02:31.019Z"
   },
   {
    "duration": 34,
    "start_time": "2023-01-18T20:02:31.097Z"
   },
   {
    "duration": 56,
    "start_time": "2023-01-18T20:02:31.133Z"
   },
   {
    "duration": 4,
    "start_time": "2023-01-18T20:02:31.191Z"
   },
   {
    "duration": 440,
    "start_time": "2023-01-18T20:02:31.196Z"
   },
   {
    "duration": 250,
    "start_time": "2023-01-18T20:02:31.638Z"
   },
   {
    "duration": 270,
    "start_time": "2023-01-18T20:02:31.890Z"
   },
   {
    "duration": 40,
    "start_time": "2023-01-18T20:02:32.162Z"
   },
   {
    "duration": 2,
    "start_time": "2023-01-18T20:02:32.205Z"
   },
   {
    "duration": 24,
    "start_time": "2023-01-18T20:02:32.209Z"
   },
   {
    "duration": 13,
    "start_time": "2023-01-18T20:02:32.235Z"
   },
   {
    "duration": 19878,
    "start_time": "2023-01-18T20:02:32.250Z"
   },
   {
    "duration": 3,
    "start_time": "2023-01-18T20:05:18.296Z"
   },
   {
    "duration": 129586,
    "start_time": "2023-01-18T20:05:21.382Z"
   },
   {
    "duration": 3,
    "start_time": "2023-01-18T20:13:27.335Z"
   },
   {
    "duration": 3,
    "start_time": "2023-01-18T20:13:30.128Z"
   },
   {
    "duration": 3,
    "start_time": "2023-01-18T20:15:17.718Z"
   },
   {
    "duration": 52,
    "start_time": "2023-01-18T20:15:31.778Z"
   },
   {
    "duration": 5,
    "start_time": "2023-01-18T20:18:45.705Z"
   },
   {
    "duration": 52,
    "start_time": "2023-01-18T20:18:47.551Z"
   },
   {
    "duration": 4,
    "start_time": "2023-01-18T20:18:53.199Z"
   },
   {
    "duration": 2368,
    "start_time": "2023-01-21T11:29:55.014Z"
   },
   {
    "duration": 9,
    "start_time": "2023-01-21T11:29:57.404Z"
   },
   {
    "duration": 1754,
    "start_time": "2023-01-21T11:29:57.419Z"
   },
   {
    "duration": 46,
    "start_time": "2023-01-21T11:29:59.175Z"
   },
   {
    "duration": 206,
    "start_time": "2023-01-21T11:29:59.225Z"
   },
   {
    "duration": 236,
    "start_time": "2023-01-21T11:29:59.433Z"
   },
   {
    "duration": 231,
    "start_time": "2023-01-21T11:29:59.673Z"
   },
   {
    "duration": 847,
    "start_time": "2023-01-21T11:29:59.919Z"
   },
   {
    "duration": 24,
    "start_time": "2023-01-21T11:30:00.769Z"
   },
   {
    "duration": 2032,
    "start_time": "2023-01-21T11:30:00.798Z"
   },
   {
    "duration": 477,
    "start_time": "2023-01-21T11:30:02.832Z"
   },
   {
    "duration": 253,
    "start_time": "2023-01-21T11:30:03.311Z"
   },
   {
    "duration": 79,
    "start_time": "2023-01-21T11:30:03.567Z"
   },
   {
    "duration": 186,
    "start_time": "2023-01-21T11:30:03.651Z"
   },
   {
    "duration": 34,
    "start_time": "2023-01-21T11:30:03.840Z"
   },
   {
    "duration": 58,
    "start_time": "2023-01-21T11:30:03.885Z"
   },
   {
    "duration": 93,
    "start_time": "2023-01-21T11:30:03.946Z"
   },
   {
    "duration": 7,
    "start_time": "2023-01-21T11:30:04.041Z"
   },
   {
    "duration": 209,
    "start_time": "2023-01-21T11:30:04.051Z"
   },
   {
    "duration": 303,
    "start_time": "2023-01-21T11:30:04.262Z"
   },
   {
    "duration": 66,
    "start_time": "2023-01-21T11:30:04.568Z"
   },
   {
    "duration": 306,
    "start_time": "2023-01-21T11:30:04.636Z"
   },
   {
    "duration": 85,
    "start_time": "2023-01-21T11:30:04.944Z"
   },
   {
    "duration": 478,
    "start_time": "2023-01-21T11:30:05.037Z"
   },
   {
    "duration": 35,
    "start_time": "2023-01-21T11:30:05.518Z"
   },
   {
    "duration": 115,
    "start_time": "2023-01-21T11:30:05.556Z"
   },
   {
    "duration": 166,
    "start_time": "2023-01-21T11:30:05.674Z"
   },
   {
    "duration": 181,
    "start_time": "2023-01-21T11:30:05.846Z"
   },
   {
    "duration": 393,
    "start_time": "2023-01-21T11:30:06.029Z"
   },
   {
    "duration": 226,
    "start_time": "2023-01-21T11:30:06.424Z"
   },
   {
    "duration": 273,
    "start_time": "2023-01-21T11:30:06.652Z"
   },
   {
    "duration": 36,
    "start_time": "2023-01-21T11:30:06.927Z"
   },
   {
    "duration": 49,
    "start_time": "2023-01-21T11:30:06.966Z"
   },
   {
    "duration": 77,
    "start_time": "2023-01-21T11:30:07.025Z"
   },
   {
    "duration": 52,
    "start_time": "2023-01-21T11:30:07.104Z"
   },
   {
    "duration": 91,
    "start_time": "2023-01-21T11:30:07.159Z"
   },
   {
    "duration": 271,
    "start_time": "2023-01-21T11:30:07.253Z"
   },
   {
    "duration": 36,
    "start_time": "2023-01-21T11:30:07.526Z"
   },
   {
    "duration": 32,
    "start_time": "2023-01-21T11:30:07.564Z"
   },
   {
    "duration": 55,
    "start_time": "2023-01-21T11:30:07.599Z"
   },
   {
    "duration": 75,
    "start_time": "2023-01-21T11:30:07.661Z"
   },
   {
    "duration": 91,
    "start_time": "2023-01-21T11:30:07.739Z"
   },
   {
    "duration": 22,
    "start_time": "2023-01-21T11:30:07.832Z"
   },
   {
    "duration": 98,
    "start_time": "2023-01-21T11:30:07.857Z"
   },
   {
    "duration": 112,
    "start_time": "2023-01-21T11:30:07.958Z"
   },
   {
    "duration": 41,
    "start_time": "2023-01-21T11:30:08.072Z"
   },
   {
    "duration": 37,
    "start_time": "2023-01-21T11:30:08.115Z"
   },
   {
    "duration": 12,
    "start_time": "2023-01-21T11:30:08.154Z"
   },
   {
    "duration": 103,
    "start_time": "2023-01-21T11:30:08.168Z"
   },
   {
    "duration": 56,
    "start_time": "2023-01-21T11:30:08.273Z"
   },
   {
    "duration": 65,
    "start_time": "2023-01-21T11:30:08.332Z"
   },
   {
    "duration": 27,
    "start_time": "2023-01-21T11:30:08.399Z"
   },
   {
    "duration": 929,
    "start_time": "2023-01-21T11:30:08.428Z"
   },
   {
    "duration": 368,
    "start_time": "2023-01-21T11:30:09.359Z"
   },
   {
    "duration": 449,
    "start_time": "2023-01-21T11:30:09.730Z"
   },
   {
    "duration": 55,
    "start_time": "2023-01-21T11:30:10.188Z"
   },
   {
    "duration": 14,
    "start_time": "2023-01-21T11:30:10.246Z"
   },
   {
    "duration": 12,
    "start_time": "2023-01-21T11:30:22.207Z"
   },
   {
    "duration": 3,
    "start_time": "2023-01-21T11:30:25.307Z"
   },
   {
    "duration": 251788,
    "start_time": "2023-01-21T11:30:28.311Z"
   },
   {
    "duration": 3,
    "start_time": "2023-01-21T11:52:09.809Z"
   },
   {
    "duration": 16,
    "start_time": "2023-01-21T11:55:11.463Z"
   },
   {
    "duration": 27,
    "start_time": "2023-01-21T12:03:33.085Z"
   },
   {
    "duration": 276,
    "start_time": "2023-01-21T12:03:50.380Z"
   },
   {
    "duration": 13,
    "start_time": "2023-01-21T12:03:54.359Z"
   },
   {
    "duration": 46,
    "start_time": "2023-01-21T12:04:00.906Z"
   },
   {
    "duration": 4,
    "start_time": "2023-01-21T12:04:08.859Z"
   },
   {
    "duration": 7,
    "start_time": "2023-01-21T12:04:22.039Z"
   },
   {
    "duration": 136,
    "start_time": "2023-01-21T12:04:22.049Z"
   },
   {
    "duration": 1775,
    "start_time": "2023-01-21T12:04:22.187Z"
   },
   {
    "duration": 42,
    "start_time": "2023-01-21T12:04:23.965Z"
   },
   {
    "duration": 171,
    "start_time": "2023-01-21T12:04:24.020Z"
   },
   {
    "duration": 298,
    "start_time": "2023-01-21T12:04:24.198Z"
   },
   {
    "duration": 298,
    "start_time": "2023-01-21T12:04:24.500Z"
   },
   {
    "duration": 901,
    "start_time": "2023-01-21T12:04:24.802Z"
   },
   {
    "duration": 9,
    "start_time": "2023-01-21T12:04:25.707Z"
   },
   {
    "duration": 2657,
    "start_time": "2023-01-21T12:04:25.723Z"
   },
   {
    "duration": 446,
    "start_time": "2023-01-21T12:04:28.383Z"
   },
   {
    "duration": 270,
    "start_time": "2023-01-21T12:04:28.840Z"
   },
   {
    "duration": 62,
    "start_time": "2023-01-21T12:04:29.119Z"
   },
   {
    "duration": 300,
    "start_time": "2023-01-21T12:04:29.187Z"
   },
   {
    "duration": 34,
    "start_time": "2023-01-21T12:04:29.498Z"
   },
   {
    "duration": 77,
    "start_time": "2023-01-21T12:04:29.534Z"
   },
   {
    "duration": 92,
    "start_time": "2023-01-21T12:04:29.613Z"
   },
   {
    "duration": 9,
    "start_time": "2023-01-21T12:04:29.708Z"
   },
   {
    "duration": 298,
    "start_time": "2023-01-21T12:04:29.719Z"
   },
   {
    "duration": 369,
    "start_time": "2023-01-21T12:04:30.019Z"
   },
   {
    "duration": 91,
    "start_time": "2023-01-21T12:04:30.393Z"
   },
   {
    "duration": 424,
    "start_time": "2023-01-21T12:04:30.496Z"
   },
   {
    "duration": 78,
    "start_time": "2023-01-21T12:04:30.944Z"
   },
   {
    "duration": 566,
    "start_time": "2023-01-21T12:04:31.028Z"
   },
   {
    "duration": 43,
    "start_time": "2023-01-21T12:04:31.599Z"
   },
   {
    "duration": 178,
    "start_time": "2023-01-21T12:04:31.649Z"
   },
   {
    "duration": 124,
    "start_time": "2023-01-21T12:04:31.832Z"
   },
   {
    "duration": 182,
    "start_time": "2023-01-21T12:04:31.961Z"
   },
   {
    "duration": 435,
    "start_time": "2023-01-21T12:04:32.147Z"
   },
   {
    "duration": 346,
    "start_time": "2023-01-21T12:04:32.586Z"
   },
   {
    "duration": 239,
    "start_time": "2023-01-21T12:04:32.935Z"
   },
   {
    "duration": 59,
    "start_time": "2023-01-21T12:04:33.176Z"
   },
   {
    "duration": 54,
    "start_time": "2023-01-21T12:04:33.239Z"
   },
   {
    "duration": 123,
    "start_time": "2023-01-21T12:04:33.296Z"
   },
   {
    "duration": 68,
    "start_time": "2023-01-21T12:04:33.430Z"
   },
   {
    "duration": 130,
    "start_time": "2023-01-21T12:04:33.507Z"
   },
   {
    "duration": 306,
    "start_time": "2023-01-21T12:04:33.643Z"
   },
   {
    "duration": 72,
    "start_time": "2023-01-21T12:04:33.958Z"
   },
   {
    "duration": 28,
    "start_time": "2023-01-21T12:04:34.037Z"
   },
   {
    "duration": 28,
    "start_time": "2023-01-21T12:04:34.068Z"
   },
   {
    "duration": 142,
    "start_time": "2023-01-21T12:04:34.098Z"
   },
   {
    "duration": 97,
    "start_time": "2023-01-21T12:04:34.242Z"
   },
   {
    "duration": 25,
    "start_time": "2023-01-21T12:04:34.346Z"
   },
   {
    "duration": 42,
    "start_time": "2023-01-21T12:04:34.373Z"
   },
   {
    "duration": 150,
    "start_time": "2023-01-21T12:04:34.417Z"
   },
   {
    "duration": 66,
    "start_time": "2023-01-21T12:04:34.568Z"
   },
   {
    "duration": 117,
    "start_time": "2023-01-21T12:04:34.635Z"
   },
   {
    "duration": 21,
    "start_time": "2023-01-21T12:04:34.756Z"
   },
   {
    "duration": 134,
    "start_time": "2023-01-21T12:04:34.782Z"
   },
   {
    "duration": 63,
    "start_time": "2023-01-21T12:04:34.918Z"
   },
   {
    "duration": 109,
    "start_time": "2023-01-21T12:04:34.983Z"
   },
   {
    "duration": 17,
    "start_time": "2023-01-21T12:04:35.100Z"
   },
   {
    "duration": 805,
    "start_time": "2023-01-21T12:04:35.126Z"
   },
   {
    "duration": 614,
    "start_time": "2023-01-21T12:04:35.942Z"
   },
   {
    "duration": 444,
    "start_time": "2023-01-21T12:04:36.561Z"
   },
   {
    "duration": 55,
    "start_time": "2023-01-21T12:04:37.007Z"
   },
   {
    "duration": 23,
    "start_time": "2023-01-21T12:04:53.457Z"
   },
   {
    "duration": 31,
    "start_time": "2023-01-21T12:04:53.500Z"
   },
   {
    "duration": 1587,
    "start_time": "2023-01-21T12:04:53.534Z"
   },
   {
    "duration": 26,
    "start_time": "2023-01-21T12:04:55.128Z"
   },
   {
    "duration": 181,
    "start_time": "2023-01-21T12:04:55.156Z"
   },
   {
    "duration": 275,
    "start_time": "2023-01-21T12:04:55.339Z"
   },
   {
    "duration": 282,
    "start_time": "2023-01-21T12:04:55.617Z"
   },
   {
    "duration": 863,
    "start_time": "2023-01-21T12:04:55.910Z"
   },
   {
    "duration": 20,
    "start_time": "2023-01-21T12:04:56.775Z"
   },
   {
    "duration": 2792,
    "start_time": "2023-01-21T12:04:56.801Z"
   },
   {
    "duration": 527,
    "start_time": "2023-01-21T12:04:59.602Z"
   },
   {
    "duration": 340,
    "start_time": "2023-01-21T12:05:00.138Z"
   },
   {
    "duration": 81,
    "start_time": "2023-01-21T12:05:00.480Z"
   },
   {
    "duration": 256,
    "start_time": "2023-01-21T12:05:00.563Z"
   },
   {
    "duration": 36,
    "start_time": "2023-01-21T12:05:00.821Z"
   },
   {
    "duration": 86,
    "start_time": "2023-01-21T12:05:00.859Z"
   },
   {
    "duration": 146,
    "start_time": "2023-01-21T12:05:00.948Z"
   },
   {
    "duration": 19,
    "start_time": "2023-01-21T12:05:01.096Z"
   },
   {
    "duration": 335,
    "start_time": "2023-01-21T12:05:01.120Z"
   },
   {
    "duration": 338,
    "start_time": "2023-01-21T12:05:01.468Z"
   },
   {
    "duration": 70,
    "start_time": "2023-01-21T12:05:01.813Z"
   },
   {
    "duration": 425,
    "start_time": "2023-01-21T12:05:01.889Z"
   },
   {
    "duration": 72,
    "start_time": "2023-01-21T12:05:02.316Z"
   },
   {
    "duration": 456,
    "start_time": "2023-01-21T12:05:02.392Z"
   },
   {
    "duration": 38,
    "start_time": "2023-01-21T12:05:02.850Z"
   },
   {
    "duration": 118,
    "start_time": "2023-01-21T12:05:02.894Z"
   },
   {
    "duration": 133,
    "start_time": "2023-01-21T12:05:03.019Z"
   },
   {
    "duration": 135,
    "start_time": "2023-01-21T12:05:03.158Z"
   },
   {
    "duration": 558,
    "start_time": "2023-01-21T12:05:03.297Z"
   },
   {
    "duration": 236,
    "start_time": "2023-01-21T12:05:03.857Z"
   },
   {
    "duration": 278,
    "start_time": "2023-01-21T12:05:04.100Z"
   },
   {
    "duration": 58,
    "start_time": "2023-01-21T12:05:04.381Z"
   },
   {
    "duration": 53,
    "start_time": "2023-01-21T12:05:04.442Z"
   },
   {
    "duration": 106,
    "start_time": "2023-01-21T12:05:04.498Z"
   },
   {
    "duration": 79,
    "start_time": "2023-01-21T12:05:04.606Z"
   },
   {
    "duration": 89,
    "start_time": "2023-01-21T12:05:04.687Z"
   },
   {
    "duration": 254,
    "start_time": "2023-01-21T12:05:04.778Z"
   },
   {
    "duration": 44,
    "start_time": "2023-01-21T12:05:05.034Z"
   },
   {
    "duration": 40,
    "start_time": "2023-01-21T12:05:05.090Z"
   },
   {
    "duration": 28,
    "start_time": "2023-01-21T12:05:05.132Z"
   },
   {
    "duration": 43,
    "start_time": "2023-01-21T12:05:05.163Z"
   },
   {
    "duration": 95,
    "start_time": "2023-01-21T12:05:05.208Z"
   },
   {
    "duration": 44,
    "start_time": "2023-01-21T12:05:05.305Z"
   },
   {
    "duration": 34,
    "start_time": "2023-01-21T12:05:05.352Z"
   },
   {
    "duration": 174,
    "start_time": "2023-01-21T12:05:05.388Z"
   },
   {
    "duration": 59,
    "start_time": "2023-01-21T12:05:05.564Z"
   },
   {
    "duration": 54,
    "start_time": "2023-01-21T12:05:05.626Z"
   },
   {
    "duration": 75,
    "start_time": "2023-01-21T12:05:05.685Z"
   },
   {
    "duration": 130,
    "start_time": "2023-01-21T12:05:05.763Z"
   },
   {
    "duration": 91,
    "start_time": "2023-01-21T12:05:05.902Z"
   },
   {
    "duration": 101,
    "start_time": "2023-01-21T12:05:05.995Z"
   },
   {
    "duration": 8,
    "start_time": "2023-01-21T12:05:06.098Z"
   },
   {
    "duration": 1041,
    "start_time": "2023-01-21T12:05:06.108Z"
   },
   {
    "duration": 17,
    "start_time": "2023-01-21T12:05:54.665Z"
   },
   {
    "duration": 11,
    "start_time": "2023-01-21T12:06:40.046Z"
   },
   {
    "duration": 28,
    "start_time": "2023-01-21T12:06:50.139Z"
   },
   {
    "duration": 13,
    "start_time": "2023-01-21T12:06:56.310Z"
   },
   {
    "duration": 24,
    "start_time": "2023-01-21T12:06:57.922Z"
   },
   {
    "duration": 20,
    "start_time": "2023-01-21T12:07:07.230Z"
   },
   {
    "duration": 24,
    "start_time": "2023-01-21T12:07:16.423Z"
   },
   {
    "duration": 81,
    "start_time": "2023-01-21T12:12:36.501Z"
   },
   {
    "duration": 63,
    "start_time": "2023-01-21T12:13:32.705Z"
   },
   {
    "duration": 101,
    "start_time": "2023-01-21T12:14:12.671Z"
   },
   {
    "duration": 9,
    "start_time": "2023-01-21T12:14:43.007Z"
   },
   {
    "duration": 47223,
    "start_time": "2023-01-21T12:15:00.849Z"
   },
   {
    "duration": 118,
    "start_time": "2023-01-21T12:21:30.746Z"
   },
   {
    "duration": 65,
    "start_time": "2023-01-21T12:23:53.836Z"
   },
   {
    "duration": 55,
    "start_time": "2023-01-21T12:31:45.277Z"
   },
   {
    "duration": 38,
    "start_time": "2023-01-21T12:33:39.043Z"
   },
   {
    "duration": 2558,
    "start_time": "2023-01-21T12:39:11.716Z"
   },
   {
    "duration": 2975,
    "start_time": "2023-01-21T12:48:13.255Z"
   },
   {
    "duration": 11,
    "start_time": "2023-01-21T12:51:45.435Z"
   },
   {
    "duration": 16,
    "start_time": "2023-01-21T12:51:51.413Z"
   },
   {
    "duration": 76,
    "start_time": "2023-01-21T12:52:01.557Z"
   },
   {
    "duration": 81,
    "start_time": "2023-01-21T12:52:07.666Z"
   },
   {
    "duration": 57,
    "start_time": "2023-01-21T12:52:27.513Z"
   },
   {
    "duration": 3102,
    "start_time": "2023-01-21T12:52:47.938Z"
   },
   {
    "duration": 2676,
    "start_time": "2023-01-21T12:53:04.562Z"
   },
   {
    "duration": 85,
    "start_time": "2023-01-21T12:53:20.241Z"
   },
   {
    "duration": 67,
    "start_time": "2023-01-21T12:53:26.081Z"
   },
   {
    "duration": 66,
    "start_time": "2023-01-21T12:53:35.465Z"
   },
   {
    "duration": 247,
    "start_time": "2023-01-21T12:54:28.878Z"
   },
   {
    "duration": 3998,
    "start_time": "2023-01-21T12:54:51.849Z"
   },
   {
    "duration": 18,
    "start_time": "2023-01-21T12:55:02.019Z"
   },
   {
    "duration": 266,
    "start_time": "2023-01-21T12:55:04.756Z"
   },
   {
    "duration": 72,
    "start_time": "2023-01-21T13:04:37.742Z"
   },
   {
    "duration": 26,
    "start_time": "2023-01-21T13:04:40.616Z"
   },
   {
    "duration": 21,
    "start_time": "2023-01-21T13:04:58.094Z"
   },
   {
    "duration": 18,
    "start_time": "2023-01-21T13:05:52.270Z"
   },
   {
    "duration": 6,
    "start_time": "2023-01-21T13:07:34.939Z"
   },
   {
    "duration": 42,
    "start_time": "2023-01-21T13:07:42.066Z"
   },
   {
    "duration": 17,
    "start_time": "2023-01-21T13:07:56.758Z"
   },
   {
    "duration": 5,
    "start_time": "2023-01-21T13:19:28.352Z"
   },
   {
    "duration": 3981,
    "start_time": "2023-01-21T13:19:30.303Z"
   },
   {
    "duration": 11,
    "start_time": "2023-01-21T13:21:44.171Z"
   },
   {
    "duration": 5,
    "start_time": "2023-01-21T13:22:00.552Z"
   },
   {
    "duration": 721,
    "start_time": "2023-01-21T13:22:02.158Z"
   },
   {
    "duration": 7,
    "start_time": "2023-01-21T13:23:29.575Z"
   },
   {
    "duration": 4342,
    "start_time": "2023-01-21T13:23:38.610Z"
   },
   {
    "duration": 18,
    "start_time": "2023-01-21T13:59:55.011Z"
   },
   {
    "duration": 4,
    "start_time": "2023-01-21T14:00:19.176Z"
   },
   {
    "duration": 4144,
    "start_time": "2023-01-21T14:00:23.080Z"
   },
   {
    "duration": 9,
    "start_time": "2023-01-21T14:02:08.888Z"
   },
   {
    "duration": 119,
    "start_time": "2023-01-21T14:02:30.247Z"
   },
   {
    "duration": 8,
    "start_time": "2023-01-21T14:02:37.109Z"
   },
   {
    "duration": 11,
    "start_time": "2023-01-21T14:03:19.282Z"
   },
   {
    "duration": 4393,
    "start_time": "2023-01-21T14:03:22.754Z"
   },
   {
    "duration": 73,
    "start_time": "2023-01-21T14:07:43.307Z"
   },
   {
    "duration": 88,
    "start_time": "2023-01-21T14:08:05.976Z"
   },
   {
    "duration": 5,
    "start_time": "2023-01-21T14:08:25.061Z"
   },
   {
    "duration": 4,
    "start_time": "2023-01-21T14:08:37.919Z"
   },
   {
    "duration": 4,
    "start_time": "2023-01-21T14:12:27.733Z"
   },
   {
    "duration": 3,
    "start_time": "2023-01-21T14:14:59.905Z"
   },
   {
    "duration": 9,
    "start_time": "2023-01-21T14:25:33.158Z"
   },
   {
    "duration": 4216,
    "start_time": "2023-01-21T14:26:33.281Z"
   },
   {
    "duration": 5,
    "start_time": "2023-01-21T14:26:43.235Z"
   },
   {
    "duration": 5,
    "start_time": "2023-01-21T14:26:52.035Z"
   },
   {
    "duration": 8,
    "start_time": "2023-01-21T14:27:59.799Z"
   },
   {
    "duration": 10,
    "start_time": "2023-01-21T14:28:34.818Z"
   },
   {
    "duration": 4000,
    "start_time": "2023-01-21T14:29:27.162Z"
   },
   {
    "duration": 38,
    "start_time": "2023-01-21T14:31:02.112Z"
   },
   {
    "duration": 4137,
    "start_time": "2023-01-21T14:31:23.911Z"
   },
   {
    "duration": 20,
    "start_time": "2023-01-21T14:32:28.747Z"
   },
   {
    "duration": 8,
    "start_time": "2023-01-21T14:36:23.010Z"
   },
   {
    "duration": 4,
    "start_time": "2023-01-21T14:36:28.632Z"
   },
   {
    "duration": 5,
    "start_time": "2023-01-21T14:37:36.705Z"
   },
   {
    "duration": 3,
    "start_time": "2023-01-21T14:41:33.644Z"
   },
   {
    "duration": 101612,
    "start_time": "2023-01-21T14:44:43.580Z"
   },
   {
    "duration": 196380,
    "start_time": "2023-01-21T14:46:27.008Z"
   },
   {
    "duration": 3,
    "start_time": "2023-01-21T14:49:48.724Z"
   },
   {
    "duration": 263206,
    "start_time": "2023-01-21T14:49:52.900Z"
   },
   {
    "duration": 4,
    "start_time": "2023-01-21T14:54:32.514Z"
   },
   {
    "duration": 12,
    "start_time": "2023-01-21T14:55:25.923Z"
   },
   {
    "duration": 9,
    "start_time": "2023-01-21T14:55:33.654Z"
   },
   {
    "duration": 11,
    "start_time": "2023-01-21T14:57:10.344Z"
   },
   {
    "duration": 13,
    "start_time": "2023-01-21T14:57:25.117Z"
   },
   {
    "duration": 72,
    "start_time": "2023-01-21T14:58:49.303Z"
   },
   {
    "duration": 5,
    "start_time": "2023-01-21T14:58:58.779Z"
   },
   {
    "duration": 3839,
    "start_time": "2023-01-21T14:59:34.774Z"
   },
   {
    "duration": 15,
    "start_time": "2023-01-21T14:59:43.500Z"
   },
   {
    "duration": 85,
    "start_time": "2023-01-21T15:04:19.682Z"
   },
   {
    "duration": 5,
    "start_time": "2023-01-21T15:08:53.143Z"
   },
   {
    "duration": 12,
    "start_time": "2023-01-21T15:13:29.259Z"
   },
   {
    "duration": 79536,
    "start_time": "2023-01-21T15:14:23.822Z"
   },
   {
    "duration": 0,
    "start_time": "2023-01-21T15:15:43.361Z"
   },
   {
    "duration": 4,
    "start_time": "2023-01-21T15:15:46.200Z"
   },
   {
    "duration": 51268,
    "start_time": "2023-01-21T15:15:54.664Z"
   },
   {
    "duration": 3,
    "start_time": "2023-01-21T15:17:32.417Z"
   },
   {
    "duration": 7550199,
    "start_time": "2023-01-21T15:17:37.557Z"
   },
   {
    "duration": 7,
    "start_time": "2023-01-21T17:25:20.237Z"
   },
   {
    "duration": 6,
    "start_time": "2023-01-21T17:25:21.711Z"
   },
   {
    "duration": 126,
    "start_time": "2023-01-21T17:25:25.323Z"
   },
   {
    "duration": 2042,
    "start_time": "2023-01-21T17:27:07.803Z"
   },
   {
    "duration": 5,
    "start_time": "2023-01-21T17:27:09.848Z"
   },
   {
    "duration": 1857,
    "start_time": "2023-01-21T17:27:09.856Z"
   },
   {
    "duration": 21,
    "start_time": "2023-01-21T17:27:11.716Z"
   },
   {
    "duration": 139,
    "start_time": "2023-01-21T17:27:11.739Z"
   },
   {
    "duration": 214,
    "start_time": "2023-01-21T17:27:11.881Z"
   },
   {
    "duration": 185,
    "start_time": "2023-01-21T17:27:12.098Z"
   },
   {
    "duration": 794,
    "start_time": "2023-01-21T17:27:12.286Z"
   },
   {
    "duration": 15,
    "start_time": "2023-01-21T17:27:13.084Z"
   },
   {
    "duration": 2033,
    "start_time": "2023-01-21T17:27:13.110Z"
   },
   {
    "duration": 338,
    "start_time": "2023-01-21T17:27:15.145Z"
   },
   {
    "duration": 360,
    "start_time": "2023-01-21T17:27:15.496Z"
   },
   {
    "duration": 58,
    "start_time": "2023-01-21T17:27:15.859Z"
   },
   {
    "duration": 184,
    "start_time": "2023-01-21T17:27:15.922Z"
   },
   {
    "duration": 32,
    "start_time": "2023-01-21T17:27:16.113Z"
   },
   {
    "duration": 66,
    "start_time": "2023-01-21T17:27:16.148Z"
   },
   {
    "duration": 115,
    "start_time": "2023-01-21T17:27:16.216Z"
   },
   {
    "duration": 6,
    "start_time": "2023-01-21T17:27:16.332Z"
   },
   {
    "duration": 140,
    "start_time": "2023-01-21T17:27:16.340Z"
   },
   {
    "duration": 325,
    "start_time": "2023-01-21T17:27:16.492Z"
   },
   {
    "duration": 44,
    "start_time": "2023-01-21T17:27:16.819Z"
   },
   {
    "duration": 277,
    "start_time": "2023-01-21T17:27:16.865Z"
   },
   {
    "duration": 72,
    "start_time": "2023-01-21T17:27:17.144Z"
   },
   {
    "duration": 302,
    "start_time": "2023-01-21T17:27:17.221Z"
   },
   {
    "duration": 20,
    "start_time": "2023-01-21T17:27:17.525Z"
   },
   {
    "duration": 40,
    "start_time": "2023-01-21T17:27:17.547Z"
   },
   {
    "duration": 64,
    "start_time": "2023-01-21T17:27:17.590Z"
   },
   {
    "duration": 122,
    "start_time": "2023-01-21T17:27:17.660Z"
   },
   {
    "duration": 308,
    "start_time": "2023-01-21T17:27:17.791Z"
   },
   {
    "duration": 167,
    "start_time": "2023-01-21T17:27:18.105Z"
   },
   {
    "duration": 216,
    "start_time": "2023-01-21T17:27:18.274Z"
   },
   {
    "duration": 49,
    "start_time": "2023-01-21T17:27:18.494Z"
   },
   {
    "duration": 20,
    "start_time": "2023-01-21T17:27:18.546Z"
   },
   {
    "duration": 64,
    "start_time": "2023-01-21T17:27:18.568Z"
   },
   {
    "duration": 33,
    "start_time": "2023-01-21T17:27:18.634Z"
   },
   {
    "duration": 92,
    "start_time": "2023-01-21T17:27:18.669Z"
   },
   {
    "duration": 212,
    "start_time": "2023-01-21T17:27:18.763Z"
   },
   {
    "duration": 47,
    "start_time": "2023-01-21T17:27:18.984Z"
   },
   {
    "duration": 18,
    "start_time": "2023-01-21T17:27:19.034Z"
   },
   {
    "duration": 30,
    "start_time": "2023-01-21T17:27:19.054Z"
   },
   {
    "duration": 85,
    "start_time": "2023-01-21T17:27:19.085Z"
   },
   {
    "duration": 64,
    "start_time": "2023-01-21T17:27:19.171Z"
   },
   {
    "duration": 17,
    "start_time": "2023-01-21T17:27:19.237Z"
   },
   {
    "duration": 50,
    "start_time": "2023-01-21T17:27:19.256Z"
   },
   {
    "duration": 88,
    "start_time": "2023-01-21T17:27:19.317Z"
   },
   {
    "duration": 28,
    "start_time": "2023-01-21T17:27:19.407Z"
   },
   {
    "duration": 11,
    "start_time": "2023-01-21T17:27:19.437Z"
   },
   {
    "duration": 7,
    "start_time": "2023-01-21T17:27:19.450Z"
   },
   {
    "duration": 97,
    "start_time": "2023-01-21T17:27:19.458Z"
   },
   {
    "duration": 46,
    "start_time": "2023-01-21T17:27:19.557Z"
   },
   {
    "duration": 83,
    "start_time": "2023-01-21T17:27:19.605Z"
   },
   {
    "duration": 45,
    "start_time": "2023-01-21T17:27:19.690Z"
   },
   {
    "duration": 14,
    "start_time": "2023-01-21T17:27:19.739Z"
   },
   {
    "duration": 17,
    "start_time": "2023-01-21T17:27:19.756Z"
   },
   {
    "duration": 658,
    "start_time": "2023-01-21T17:27:19.775Z"
   },
   {
    "duration": 332,
    "start_time": "2023-01-21T17:27:20.438Z"
   },
   {
    "duration": 400,
    "start_time": "2023-01-21T17:27:20.772Z"
   },
   {
    "duration": 63,
    "start_time": "2023-01-21T17:27:21.174Z"
   },
   {
    "duration": 41,
    "start_time": "2023-01-21T17:27:21.239Z"
   },
   {
    "duration": 14,
    "start_time": "2023-01-21T17:27:21.282Z"
   },
   {
    "duration": 20,
    "start_time": "2023-01-21T17:27:21.309Z"
   },
   {
    "duration": 9,
    "start_time": "2023-01-21T17:27:21.331Z"
   },
   {
    "duration": 242982,
    "start_time": "2023-01-21T17:27:21.341Z"
   },
   {
    "duration": 246304,
    "start_time": "2023-01-21T17:31:24.325Z"
   },
   {
    "duration": 165,
    "start_time": "2023-01-21T17:35:30.632Z"
   },
   {
    "duration": 31,
    "start_time": "2023-01-21T17:35:30.799Z"
   },
   {
    "duration": 4046,
    "start_time": "2023-01-21T17:35:30.832Z"
   },
   {
    "duration": 12,
    "start_time": "2023-01-21T17:35:34.880Z"
   },
   {
    "duration": 32,
    "start_time": "2023-01-21T17:35:34.894Z"
   },
   {
    "duration": 104,
    "start_time": "2023-01-21T17:35:34.928Z"
   },
   {
    "duration": 0,
    "start_time": "2023-01-21T17:35:35.033Z"
   },
   {
    "duration": 0,
    "start_time": "2023-01-21T17:35:35.036Z"
   },
   {
    "duration": 3,
    "start_time": "2023-01-21T17:36:11.941Z"
   },
   {
    "duration": 404780,
    "start_time": "2023-01-21T17:36:42.407Z"
   },
   {
    "duration": 17,
    "start_time": "2023-01-21T17:47:50.658Z"
   },
   {
    "duration": 2483,
    "start_time": "2023-01-23T00:16:37.661Z"
   },
   {
    "duration": 3,
    "start_time": "2023-01-23T00:16:41.513Z"
   },
   {
    "duration": 2970,
    "start_time": "2023-01-23T00:16:42.506Z"
   },
   {
    "duration": 26,
    "start_time": "2023-01-23T00:16:46.410Z"
   },
   {
    "duration": 1794,
    "start_time": "2023-01-23T00:20:50.050Z"
   },
   {
    "duration": 2,
    "start_time": "2023-01-23T00:20:51.846Z"
   },
   {
    "duration": 829,
    "start_time": "2023-01-23T00:20:51.850Z"
   },
   {
    "duration": 18,
    "start_time": "2023-01-23T00:20:52.681Z"
   },
   {
    "duration": 127,
    "start_time": "2023-01-23T00:20:52.991Z"
   },
   {
    "duration": 139,
    "start_time": "2023-01-23T00:20:53.588Z"
   },
   {
    "duration": 103,
    "start_time": "2023-01-23T00:20:53.886Z"
   },
   {
    "duration": 552,
    "start_time": "2023-01-23T00:20:54.328Z"
   },
   {
    "duration": 5,
    "start_time": "2023-01-23T00:20:55.339Z"
   },
   {
    "duration": 1626,
    "start_time": "2023-01-23T00:20:55.621Z"
   },
   {
    "duration": 284,
    "start_time": "2023-01-23T00:20:57.250Z"
   },
   {
    "duration": 268,
    "start_time": "2023-01-23T00:20:57.536Z"
   },
   {
    "duration": 48,
    "start_time": "2023-01-23T00:20:57.807Z"
   },
   {
    "duration": 170,
    "start_time": "2023-01-23T00:20:57.857Z"
   },
   {
    "duration": 18,
    "start_time": "2023-01-23T00:20:58.029Z"
   },
   {
    "duration": 59,
    "start_time": "2023-01-23T00:20:58.049Z"
   },
   {
    "duration": 40,
    "start_time": "2023-01-23T00:20:58.111Z"
   },
   {
    "duration": 6,
    "start_time": "2023-01-23T00:20:58.560Z"
   },
   {
    "duration": 156,
    "start_time": "2023-01-23T00:20:58.963Z"
   },
   {
    "duration": 200,
    "start_time": "2023-01-23T00:20:59.274Z"
   },
   {
    "duration": 36,
    "start_time": "2023-01-23T00:20:59.589Z"
   },
   {
    "duration": 192,
    "start_time": "2023-01-23T00:20:59.893Z"
   },
   {
    "duration": 50,
    "start_time": "2023-01-23T00:21:00.362Z"
   },
   {
    "duration": 225,
    "start_time": "2023-01-23T00:21:01.273Z"
   },
   {
    "duration": 22,
    "start_time": "2023-01-23T00:21:01.771Z"
   },
   {
    "duration": 38,
    "start_time": "2023-01-23T00:21:02.108Z"
   },
   {
    "duration": 41,
    "start_time": "2023-01-23T00:21:02.447Z"
   },
   {
    "duration": 68,
    "start_time": "2023-01-23T00:21:02.791Z"
   },
   {
    "duration": 254,
    "start_time": "2023-01-23T00:21:03.338Z"
   },
   {
    "duration": 194,
    "start_time": "2023-01-23T00:21:03.673Z"
   },
   {
    "duration": 157,
    "start_time": "2023-01-23T00:21:04.227Z"
   },
   {
    "duration": 32,
    "start_time": "2023-01-23T00:21:04.818Z"
   },
   {
    "duration": 17,
    "start_time": "2023-01-23T00:21:05.201Z"
   },
   {
    "duration": 35,
    "start_time": "2023-01-23T00:21:05.559Z"
   },
   {
    "duration": 42,
    "start_time": "2023-01-23T00:21:06.117Z"
   },
   {
    "duration": 52,
    "start_time": "2023-01-23T00:21:06.481Z"
   },
   {
    "duration": 187,
    "start_time": "2023-01-23T00:21:07.167Z"
   },
   {
    "duration": 41,
    "start_time": "2023-01-23T00:21:07.675Z"
   },
   {
    "duration": 15,
    "start_time": "2023-01-23T00:21:08.631Z"
   },
   {
    "duration": 13,
    "start_time": "2023-01-23T00:21:08.818Z"
   },
   {
    "duration": 48,
    "start_time": "2023-01-23T00:21:08.978Z"
   },
   {
    "duration": 60,
    "start_time": "2023-01-23T00:21:09.159Z"
   },
   {
    "duration": 25,
    "start_time": "2023-01-23T00:21:09.494Z"
   },
   {
    "duration": 20,
    "start_time": "2023-01-23T00:21:10.553Z"
   },
   {
    "duration": 57,
    "start_time": "2023-01-23T00:21:11.134Z"
   },
   {
    "duration": 17,
    "start_time": "2023-01-23T00:21:11.561Z"
   },
   {
    "duration": 7,
    "start_time": "2023-01-23T00:21:12.800Z"
   },
   {
    "duration": 7,
    "start_time": "2023-01-23T00:21:14.223Z"
   },
   {
    "duration": 50,
    "start_time": "2023-01-23T00:21:14.745Z"
   },
   {
    "duration": 40,
    "start_time": "2023-01-23T00:21:15.784Z"
   },
   {
    "duration": 57,
    "start_time": "2023-01-23T00:21:16.284Z"
   },
   {
    "duration": 58,
    "start_time": "2023-01-23T00:21:16.981Z"
   },
   {
    "duration": 75,
    "start_time": "2023-01-23T20:16:52.597Z"
   },
   {
    "duration": 1707,
    "start_time": "2023-01-23T20:24:53.464Z"
   },
   {
    "duration": 3,
    "start_time": "2023-01-23T20:24:55.174Z"
   },
   {
    "duration": 1132,
    "start_time": "2023-01-23T20:24:55.179Z"
   },
   {
    "duration": 17,
    "start_time": "2023-01-23T20:24:56.313Z"
   },
   {
    "duration": 103,
    "start_time": "2023-01-23T20:24:56.333Z"
   },
   {
    "duration": 149,
    "start_time": "2023-01-23T20:24:56.437Z"
   },
   {
    "duration": 166,
    "start_time": "2023-01-23T20:24:56.588Z"
   },
   {
    "duration": 585,
    "start_time": "2023-01-23T20:24:56.756Z"
   },
   {
    "duration": 5,
    "start_time": "2023-01-23T20:24:57.342Z"
   },
   {
    "duration": 1570,
    "start_time": "2023-01-23T20:24:57.348Z"
   },
   {
    "duration": 329,
    "start_time": "2023-01-23T20:24:58.920Z"
   },
   {
    "duration": 251,
    "start_time": "2023-01-23T20:24:59.251Z"
   },
   {
    "duration": 39,
    "start_time": "2023-01-23T20:24:59.504Z"
   },
   {
    "duration": 149,
    "start_time": "2023-01-23T20:24:59.546Z"
   },
   {
    "duration": 24,
    "start_time": "2023-01-23T20:24:59.697Z"
   },
   {
    "duration": 54,
    "start_time": "2023-01-23T20:24:59.723Z"
   },
   {
    "duration": 62,
    "start_time": "2023-01-23T20:24:59.779Z"
   },
   {
    "duration": 6,
    "start_time": "2023-01-23T20:24:59.843Z"
   },
   {
    "duration": 135,
    "start_time": "2023-01-23T20:24:59.851Z"
   },
   {
    "duration": 239,
    "start_time": "2023-01-23T20:24:59.988Z"
   },
   {
    "duration": 93,
    "start_time": "2023-01-23T20:25:00.229Z"
   },
   {
    "duration": 0,
    "start_time": "2023-01-23T20:25:00.324Z"
   },
   {
    "duration": 0,
    "start_time": "2023-01-23T20:25:00.325Z"
   },
   {
    "duration": 0,
    "start_time": "2023-01-23T20:25:00.326Z"
   },
   {
    "duration": 0,
    "start_time": "2023-01-23T20:25:00.328Z"
   },
   {
    "duration": 0,
    "start_time": "2023-01-23T20:25:00.329Z"
   },
   {
    "duration": 0,
    "start_time": "2023-01-23T20:25:00.330Z"
   },
   {
    "duration": 0,
    "start_time": "2023-01-23T20:25:00.331Z"
   },
   {
    "duration": 0,
    "start_time": "2023-01-23T20:25:00.332Z"
   },
   {
    "duration": 0,
    "start_time": "2023-01-23T20:25:00.334Z"
   },
   {
    "duration": 0,
    "start_time": "2023-01-23T20:25:00.335Z"
   },
   {
    "duration": 0,
    "start_time": "2023-01-23T20:25:00.336Z"
   },
   {
    "duration": 36,
    "start_time": "2023-01-23T20:25:17.867Z"
   },
   {
    "duration": 5,
    "start_time": "2023-01-23T20:25:34.465Z"
   },
   {
    "duration": 22,
    "start_time": "2023-01-23T20:25:34.472Z"
   },
   {
    "duration": 850,
    "start_time": "2023-01-23T20:25:34.496Z"
   },
   {
    "duration": 15,
    "start_time": "2023-01-23T20:25:35.348Z"
   },
   {
    "duration": 111,
    "start_time": "2023-01-23T20:25:35.365Z"
   },
   {
    "duration": 138,
    "start_time": "2023-01-23T20:25:35.478Z"
   },
   {
    "duration": 145,
    "start_time": "2023-01-23T20:25:35.618Z"
   },
   {
    "duration": 475,
    "start_time": "2023-01-23T20:25:35.765Z"
   },
   {
    "duration": 6,
    "start_time": "2023-01-23T20:25:36.242Z"
   },
   {
    "duration": 1487,
    "start_time": "2023-01-23T20:25:36.249Z"
   },
   {
    "duration": 254,
    "start_time": "2023-01-23T20:25:37.738Z"
   },
   {
    "duration": 164,
    "start_time": "2023-01-23T20:25:37.994Z"
   },
   {
    "duration": 31,
    "start_time": "2023-01-23T20:25:38.160Z"
   },
   {
    "duration": 171,
    "start_time": "2023-01-23T20:25:38.194Z"
   },
   {
    "duration": 23,
    "start_time": "2023-01-23T20:25:38.368Z"
   },
   {
    "duration": 48,
    "start_time": "2023-01-23T20:25:38.393Z"
   },
   {
    "duration": 47,
    "start_time": "2023-01-23T20:25:38.443Z"
   },
   {
    "duration": 6,
    "start_time": "2023-01-23T20:25:38.493Z"
   },
   {
    "duration": 142,
    "start_time": "2023-01-23T20:25:38.501Z"
   },
   {
    "duration": 259,
    "start_time": "2023-01-23T20:25:38.644Z"
   },
   {
    "duration": 67,
    "start_time": "2023-01-23T20:25:38.906Z"
   },
   {
    "duration": 237,
    "start_time": "2023-01-23T20:25:38.976Z"
   },
   {
    "duration": 52,
    "start_time": "2023-01-23T20:25:39.214Z"
   },
   {
    "duration": 250,
    "start_time": "2023-01-23T20:25:39.270Z"
   },
   {
    "duration": 25,
    "start_time": "2023-01-23T20:25:39.522Z"
   },
   {
    "duration": 36,
    "start_time": "2023-01-23T20:25:39.550Z"
   },
   {
    "duration": 71,
    "start_time": "2023-01-23T20:25:39.589Z"
   },
   {
    "duration": 123,
    "start_time": "2023-01-23T20:25:39.662Z"
   },
   {
    "duration": 348,
    "start_time": "2023-01-23T20:25:39.787Z"
   },
   {
    "duration": 136,
    "start_time": "2023-01-23T20:25:40.136Z"
   },
   {
    "duration": 173,
    "start_time": "2023-01-23T20:25:40.274Z"
   },
   {
    "duration": 41,
    "start_time": "2023-01-23T20:25:40.449Z"
   },
   {
    "duration": 48,
    "start_time": "2023-01-23T20:25:40.492Z"
   },
   {
    "duration": 71,
    "start_time": "2023-01-23T20:27:01.048Z"
   },
   {
    "duration": 72,
    "start_time": "2023-01-23T20:27:36.599Z"
   },
   {
    "duration": 5,
    "start_time": "2023-01-23T20:28:02.530Z"
   },
   {
    "duration": 25,
    "start_time": "2023-01-23T20:28:02.537Z"
   },
   {
    "duration": 794,
    "start_time": "2023-01-23T20:28:02.564Z"
   },
   {
    "duration": 14,
    "start_time": "2023-01-23T20:28:03.360Z"
   },
   {
    "duration": 101,
    "start_time": "2023-01-23T20:28:03.376Z"
   },
   {
    "duration": 136,
    "start_time": "2023-01-23T20:28:03.478Z"
   },
   {
    "duration": 154,
    "start_time": "2023-01-23T20:28:03.616Z"
   },
   {
    "duration": 541,
    "start_time": "2023-01-23T20:28:03.772Z"
   },
   {
    "duration": 6,
    "start_time": "2023-01-23T20:28:04.314Z"
   },
   {
    "duration": 1496,
    "start_time": "2023-01-23T20:28:04.323Z"
   },
   {
    "duration": 273,
    "start_time": "2023-01-23T20:28:05.821Z"
   },
   {
    "duration": 218,
    "start_time": "2023-01-23T20:28:06.096Z"
   },
   {
    "duration": 37,
    "start_time": "2023-01-23T20:28:06.316Z"
   },
   {
    "duration": 145,
    "start_time": "2023-01-23T20:28:06.355Z"
   },
   {
    "duration": 20,
    "start_time": "2023-01-23T20:28:06.502Z"
   },
   {
    "duration": 58,
    "start_time": "2023-01-23T20:28:06.524Z"
   },
   {
    "duration": 69,
    "start_time": "2023-01-23T20:28:06.584Z"
   },
   {
    "duration": 6,
    "start_time": "2023-01-23T20:28:06.654Z"
   },
   {
    "duration": 130,
    "start_time": "2023-01-23T20:28:06.662Z"
   },
   {
    "duration": 231,
    "start_time": "2023-01-23T20:28:06.794Z"
   },
   {
    "duration": 45,
    "start_time": "2023-01-23T20:28:07.027Z"
   },
   {
    "duration": 216,
    "start_time": "2023-01-23T20:28:07.074Z"
   },
   {
    "duration": 54,
    "start_time": "2023-01-23T20:28:07.292Z"
   },
   {
    "duration": 246,
    "start_time": "2023-01-23T20:28:07.348Z"
   },
   {
    "duration": 20,
    "start_time": "2023-01-23T20:28:07.596Z"
   },
   {
    "duration": 47,
    "start_time": "2023-01-23T20:28:07.618Z"
   },
   {
    "duration": 46,
    "start_time": "2023-01-23T20:28:07.666Z"
   },
   {
    "duration": 88,
    "start_time": "2023-01-23T20:28:07.717Z"
   },
   {
    "duration": 349,
    "start_time": "2023-01-23T20:28:07.807Z"
   },
   {
    "duration": 160,
    "start_time": "2023-01-23T20:28:08.158Z"
   },
   {
    "duration": 165,
    "start_time": "2023-01-23T20:28:08.320Z"
   },
   {
    "duration": 37,
    "start_time": "2023-01-23T20:28:08.486Z"
   },
   {
    "duration": 47,
    "start_time": "2023-01-23T20:28:08.526Z"
   },
   {
    "duration": 19,
    "start_time": "2023-01-23T20:28:08.575Z"
   },
   {
    "duration": 44,
    "start_time": "2023-01-23T20:28:08.597Z"
   },
   {
    "duration": 24,
    "start_time": "2023-01-23T20:28:08.643Z"
   },
   {
    "duration": 72,
    "start_time": "2023-01-23T20:28:08.669Z"
   },
   {
    "duration": 190,
    "start_time": "2023-01-23T20:28:08.743Z"
   },
   {
    "duration": 36,
    "start_time": "2023-01-23T20:28:08.936Z"
   },
   {
    "duration": 24,
    "start_time": "2023-01-23T20:28:08.974Z"
   },
   {
    "duration": 20,
    "start_time": "2023-01-23T20:28:09.001Z"
   },
   {
    "duration": 43,
    "start_time": "2023-01-23T20:28:09.024Z"
   },
   {
    "duration": 42,
    "start_time": "2023-01-23T20:28:09.070Z"
   },
   {
    "duration": 13,
    "start_time": "2023-01-23T20:28:09.114Z"
   },
   {
    "duration": 20,
    "start_time": "2023-01-23T20:28:09.140Z"
   },
   {
    "duration": 50,
    "start_time": "2023-01-23T20:28:09.162Z"
   },
   {
    "duration": 34,
    "start_time": "2023-01-23T20:28:09.214Z"
   },
   {
    "duration": 10,
    "start_time": "2023-01-23T20:28:09.249Z"
   },
   {
    "duration": 10,
    "start_time": "2023-01-23T20:28:09.261Z"
   },
   {
    "duration": 73,
    "start_time": "2023-01-23T20:28:09.273Z"
   },
   {
    "duration": 30,
    "start_time": "2023-01-23T20:28:09.348Z"
   },
   {
    "duration": 60,
    "start_time": "2023-01-23T20:28:09.380Z"
   },
   {
    "duration": 54,
    "start_time": "2023-01-23T20:28:09.443Z"
   },
   {
    "duration": 76,
    "start_time": "2023-01-23T20:43:40.222Z"
   },
   {
    "duration": 1944,
    "start_time": "2023-01-25T19:40:55.217Z"
   },
   {
    "duration": 5,
    "start_time": "2023-01-25T19:40:57.168Z"
   },
   {
    "duration": 3795,
    "start_time": "2023-01-25T19:40:57.176Z"
   },
   {
    "duration": 27,
    "start_time": "2023-01-25T19:41:00.974Z"
   },
   {
    "duration": 222,
    "start_time": "2023-01-25T19:41:01.004Z"
   },
   {
    "duration": 257,
    "start_time": "2023-01-25T19:41:01.229Z"
   },
   {
    "duration": 214,
    "start_time": "2023-01-25T19:41:01.489Z"
   },
   {
    "duration": 759,
    "start_time": "2023-01-25T19:41:01.705Z"
   },
   {
    "duration": 5,
    "start_time": "2023-01-25T19:41:02.467Z"
   },
   {
    "duration": 1938,
    "start_time": "2023-01-25T19:41:02.476Z"
   },
   {
    "duration": 334,
    "start_time": "2023-01-25T19:41:04.416Z"
   },
   {
    "duration": 283,
    "start_time": "2023-01-25T19:41:04.752Z"
   },
   {
    "duration": 44,
    "start_time": "2023-01-25T19:41:05.038Z"
   },
   {
    "duration": 185,
    "start_time": "2023-01-25T19:41:05.085Z"
   },
   {
    "duration": 32,
    "start_time": "2023-01-25T19:41:05.272Z"
   },
   {
    "duration": 75,
    "start_time": "2023-01-25T19:41:05.306Z"
   },
   {
    "duration": 87,
    "start_time": "2023-01-25T19:41:05.383Z"
   },
   {
    "duration": 8,
    "start_time": "2023-01-25T19:41:05.472Z"
   },
   {
    "duration": 147,
    "start_time": "2023-01-25T19:41:05.482Z"
   },
   {
    "duration": 297,
    "start_time": "2023-01-25T19:41:05.631Z"
   },
   {
    "duration": 52,
    "start_time": "2023-01-25T19:41:05.931Z"
   },
   {
    "duration": 263,
    "start_time": "2023-01-25T19:41:05.986Z"
   },
   {
    "duration": 67,
    "start_time": "2023-01-25T19:41:06.252Z"
   },
   {
    "duration": 352,
    "start_time": "2023-01-25T19:41:06.321Z"
   },
   {
    "duration": 26,
    "start_time": "2023-01-25T19:41:06.675Z"
   },
   {
    "duration": 59,
    "start_time": "2023-01-25T19:41:06.703Z"
   },
   {
    "duration": 54,
    "start_time": "2023-01-25T19:41:06.765Z"
   },
   {
    "duration": 92,
    "start_time": "2023-01-25T19:41:06.825Z"
   },
   {
    "duration": 317,
    "start_time": "2023-01-25T19:41:06.920Z"
   },
   {
    "duration": 217,
    "start_time": "2023-01-25T19:41:07.242Z"
   },
   {
    "duration": 205,
    "start_time": "2023-01-25T19:41:07.462Z"
   },
   {
    "duration": 46,
    "start_time": "2023-01-25T19:41:07.669Z"
   },
   {
    "duration": 50,
    "start_time": "2023-01-25T19:41:07.717Z"
   },
   {
    "duration": 21,
    "start_time": "2023-01-25T19:41:07.769Z"
   },
   {
    "duration": 67,
    "start_time": "2023-01-25T19:41:07.792Z"
   },
   {
    "duration": 54,
    "start_time": "2023-01-25T19:41:07.861Z"
   },
   {
    "duration": 66,
    "start_time": "2023-01-25T19:41:07.918Z"
   },
   {
    "duration": 218,
    "start_time": "2023-01-25T19:41:07.987Z"
   },
   {
    "duration": 54,
    "start_time": "2023-01-25T19:41:08.208Z"
   },
   {
    "duration": 26,
    "start_time": "2023-01-25T19:41:08.267Z"
   },
   {
    "duration": 33,
    "start_time": "2023-01-25T19:41:08.295Z"
   },
   {
    "duration": 75,
    "start_time": "2023-01-25T19:41:08.331Z"
   },
   {
    "duration": 64,
    "start_time": "2023-01-25T19:41:08.409Z"
   },
   {
    "duration": 26,
    "start_time": "2023-01-25T19:41:08.480Z"
   },
   {
    "duration": 45,
    "start_time": "2023-01-25T19:41:08.508Z"
   },
   {
    "duration": 78,
    "start_time": "2023-01-25T19:41:08.556Z"
   },
   {
    "duration": 24,
    "start_time": "2023-01-25T19:41:08.643Z"
   },
   {
    "duration": 40,
    "start_time": "2023-01-25T19:41:08.670Z"
   },
   {
    "duration": 14,
    "start_time": "2023-01-25T19:41:08.713Z"
   },
   {
    "duration": 93,
    "start_time": "2023-01-25T19:41:08.729Z"
   },
   {
    "duration": 40,
    "start_time": "2023-01-25T19:41:08.824Z"
   },
   {
    "duration": 68,
    "start_time": "2023-01-25T19:41:08.866Z"
   },
   {
    "duration": 68,
    "start_time": "2023-01-25T19:41:08.936Z"
   },
   {
    "duration": 1717,
    "start_time": "2023-01-26T18:55:35.038Z"
   },
   {
    "duration": 3,
    "start_time": "2023-01-26T18:55:36.757Z"
   },
   {
    "duration": 1285,
    "start_time": "2023-01-26T18:55:36.762Z"
   },
   {
    "duration": 17,
    "start_time": "2023-01-26T18:55:38.048Z"
   },
   {
    "duration": 112,
    "start_time": "2023-01-26T18:55:38.068Z"
   },
   {
    "duration": 146,
    "start_time": "2023-01-26T18:55:38.181Z"
   },
   {
    "duration": 123,
    "start_time": "2023-01-26T18:55:38.336Z"
   },
   {
    "duration": 510,
    "start_time": "2023-01-26T18:55:38.460Z"
   },
   {
    "duration": 5,
    "start_time": "2023-01-26T18:55:38.971Z"
   },
   {
    "duration": 1827,
    "start_time": "2023-01-26T18:55:38.978Z"
   },
   {
    "duration": 254,
    "start_time": "2023-01-26T18:55:40.809Z"
   },
   {
    "duration": 240,
    "start_time": "2023-01-26T18:55:41.065Z"
   },
   {
    "duration": 46,
    "start_time": "2023-01-26T18:55:41.307Z"
   },
   {
    "duration": 146,
    "start_time": "2023-01-26T18:55:41.357Z"
   },
   {
    "duration": 32,
    "start_time": "2023-01-26T18:55:41.509Z"
   },
   {
    "duration": 33,
    "start_time": "2023-01-26T18:55:41.542Z"
   },
   {
    "duration": 66,
    "start_time": "2023-01-26T18:55:41.576Z"
   },
   {
    "duration": 5,
    "start_time": "2023-01-26T18:55:41.643Z"
   },
   {
    "duration": 121,
    "start_time": "2023-01-26T18:55:41.649Z"
   },
   {
    "duration": 208,
    "start_time": "2023-01-26T18:55:41.772Z"
   },
   {
    "duration": 56,
    "start_time": "2023-01-26T18:55:41.983Z"
   },
   {
    "duration": 202,
    "start_time": "2023-01-26T18:55:42.041Z"
   },
   {
    "duration": 42,
    "start_time": "2023-01-26T18:55:42.244Z"
   },
   {
    "duration": 247,
    "start_time": "2023-01-26T18:55:42.288Z"
   },
   {
    "duration": 17,
    "start_time": "2023-01-26T18:55:42.537Z"
   },
   {
    "duration": 28,
    "start_time": "2023-01-26T18:55:42.556Z"
   },
   {
    "duration": 53,
    "start_time": "2023-01-26T18:55:42.585Z"
   },
   {
    "duration": 96,
    "start_time": "2023-01-26T18:55:42.639Z"
   },
   {
    "duration": 220,
    "start_time": "2023-01-26T18:55:42.736Z"
   },
   {
    "duration": 177,
    "start_time": "2023-01-26T18:55:42.958Z"
   },
   {
    "duration": 160,
    "start_time": "2023-01-26T18:55:43.137Z"
   },
   {
    "duration": 46,
    "start_time": "2023-01-26T18:55:43.298Z"
   },
   {
    "duration": 31,
    "start_time": "2023-01-26T18:55:43.346Z"
   },
   {
    "duration": 15,
    "start_time": "2023-01-26T18:55:43.379Z"
   },
   {
    "duration": 50,
    "start_time": "2023-01-26T18:55:43.396Z"
   },
   {
    "duration": 21,
    "start_time": "2023-01-26T18:55:43.448Z"
   },
   {
    "duration": 33,
    "start_time": "2023-01-26T18:55:43.470Z"
   },
   {
    "duration": 186,
    "start_time": "2023-01-26T18:55:43.504Z"
   },
   {
    "duration": 44,
    "start_time": "2023-01-26T18:55:43.692Z"
   },
   {
    "duration": 16,
    "start_time": "2023-01-26T18:55:43.738Z"
   },
   {
    "duration": 14,
    "start_time": "2023-01-26T18:55:43.758Z"
   },
   {
    "duration": 23,
    "start_time": "2023-01-26T18:55:43.774Z"
   },
   {
    "duration": 49,
    "start_time": "2023-01-26T18:55:43.799Z"
   },
   {
    "duration": 15,
    "start_time": "2023-01-26T18:55:43.850Z"
   },
   {
    "duration": 18,
    "start_time": "2023-01-26T18:55:43.866Z"
   },
   {
    "duration": 67,
    "start_time": "2023-01-26T18:55:43.885Z"
   },
   {
    "duration": 16,
    "start_time": "2023-01-26T18:55:43.954Z"
   },
   {
    "duration": 6,
    "start_time": "2023-01-26T18:55:43.972Z"
   },
   {
    "duration": 10,
    "start_time": "2023-01-26T18:55:43.979Z"
   },
   {
    "duration": 52,
    "start_time": "2023-01-26T18:55:43.990Z"
   },
   {
    "duration": 28,
    "start_time": "2023-01-26T18:55:44.045Z"
   },
   {
    "duration": 59,
    "start_time": "2023-01-26T18:55:44.076Z"
   },
   {
    "duration": 63,
    "start_time": "2023-01-26T18:55:44.136Z"
   },
   {
    "duration": 79,
    "start_time": "2023-01-26T19:05:01.049Z"
   },
   {
    "duration": 139,
    "start_time": "2023-01-26T19:09:23.953Z"
   },
   {
    "duration": 13,
    "start_time": "2023-01-26T19:09:40.729Z"
   },
   {
    "duration": 16,
    "start_time": "2023-01-26T19:10:04.172Z"
   },
   {
    "duration": 8,
    "start_time": "2023-01-26T19:12:09.974Z"
   },
   {
    "duration": 39,
    "start_time": "2023-01-26T19:12:11.985Z"
   },
   {
    "duration": 11,
    "start_time": "2023-01-26T19:15:10.629Z"
   },
   {
    "duration": 21,
    "start_time": "2023-01-26T19:20:54.053Z"
   },
   {
    "duration": 17,
    "start_time": "2023-01-26T19:22:18.821Z"
   },
   {
    "duration": 28,
    "start_time": "2023-01-26T19:22:31.635Z"
   },
   {
    "duration": 20,
    "start_time": "2023-01-26T19:22:33.121Z"
   },
   {
    "duration": 19,
    "start_time": "2023-01-26T19:24:17.470Z"
   },
   {
    "duration": 6,
    "start_time": "2023-01-26T19:25:26.257Z"
   },
   {
    "duration": 6,
    "start_time": "2023-01-26T19:25:49.241Z"
   },
   {
    "duration": 16,
    "start_time": "2023-01-26T19:25:56.587Z"
   },
   {
    "duration": 5,
    "start_time": "2023-01-26T19:26:19.932Z"
   },
   {
    "duration": 16,
    "start_time": "2023-01-26T19:26:33.014Z"
   },
   {
    "duration": 17,
    "start_time": "2023-01-26T19:28:55.932Z"
   },
   {
    "duration": 2,
    "start_time": "2023-01-26T19:31:15.117Z"
   },
   {
    "duration": 263,
    "start_time": "2023-01-26T19:31:48.185Z"
   },
   {
    "duration": 17,
    "start_time": "2023-01-26T19:32:10.143Z"
   },
   {
    "duration": 17,
    "start_time": "2023-01-26T19:32:28.391Z"
   },
   {
    "duration": 3,
    "start_time": "2023-01-26T19:34:36.628Z"
   },
   {
    "duration": 35,
    "start_time": "2023-01-26T19:39:51.240Z"
   },
   {
    "duration": 25,
    "start_time": "2023-01-26T19:40:28.646Z"
   },
   {
    "duration": 11,
    "start_time": "2023-01-26T19:41:13.699Z"
   },
   {
    "duration": 9,
    "start_time": "2023-01-26T19:42:09.961Z"
   },
   {
    "duration": 9,
    "start_time": "2023-01-26T19:42:18.641Z"
   },
   {
    "duration": 8,
    "start_time": "2023-01-26T19:42:30.163Z"
   },
   {
    "duration": 283,
    "start_time": "2023-01-26T19:44:55.428Z"
   },
   {
    "duration": 12,
    "start_time": "2023-01-26T19:46:19.371Z"
   },
   {
    "duration": 17,
    "start_time": "2023-01-26T19:46:50.458Z"
   },
   {
    "duration": 1680,
    "start_time": "2023-01-27T17:57:50.303Z"
   },
   {
    "duration": 3,
    "start_time": "2023-01-27T17:57:51.986Z"
   },
   {
    "duration": 1232,
    "start_time": "2023-01-27T17:57:51.991Z"
   },
   {
    "duration": 27,
    "start_time": "2023-01-27T17:57:53.226Z"
   },
   {
    "duration": 140,
    "start_time": "2023-01-27T17:57:53.255Z"
   },
   {
    "duration": 116,
    "start_time": "2023-01-27T17:57:53.396Z"
   },
   {
    "duration": 108,
    "start_time": "2023-01-27T17:57:53.513Z"
   },
   {
    "duration": 573,
    "start_time": "2023-01-27T17:57:53.623Z"
   },
   {
    "duration": 10,
    "start_time": "2023-01-27T17:57:54.198Z"
   },
   {
    "duration": 1505,
    "start_time": "2023-01-27T17:57:54.211Z"
   },
   {
    "duration": 252,
    "start_time": "2023-01-27T17:57:55.717Z"
   },
   {
    "duration": 228,
    "start_time": "2023-01-27T17:57:55.971Z"
   },
   {
    "duration": 37,
    "start_time": "2023-01-27T17:57:56.201Z"
   },
   {
    "duration": 137,
    "start_time": "2023-01-27T17:57:56.239Z"
   },
   {
    "duration": 15,
    "start_time": "2023-01-27T17:57:56.377Z"
   },
   {
    "duration": 26,
    "start_time": "2023-01-27T17:57:56.394Z"
   },
   {
    "duration": 52,
    "start_time": "2023-01-27T17:57:56.421Z"
   },
   {
    "duration": 4,
    "start_time": "2023-01-27T17:57:56.475Z"
   },
   {
    "duration": 112,
    "start_time": "2023-01-27T17:57:56.480Z"
   },
   {
    "duration": 213,
    "start_time": "2023-01-27T17:57:56.593Z"
   },
   {
    "duration": 49,
    "start_time": "2023-01-27T17:57:56.807Z"
   },
   {
    "duration": 193,
    "start_time": "2023-01-27T17:57:56.858Z"
   },
   {
    "duration": 40,
    "start_time": "2023-01-27T17:57:57.054Z"
   },
   {
    "duration": 209,
    "start_time": "2023-01-27T17:57:57.095Z"
   },
   {
    "duration": 14,
    "start_time": "2023-01-27T17:57:57.305Z"
   },
   {
    "duration": 41,
    "start_time": "2023-01-27T17:57:57.321Z"
   },
   {
    "duration": 43,
    "start_time": "2023-01-27T17:57:57.363Z"
   },
   {
    "duration": 81,
    "start_time": "2023-01-27T17:57:57.409Z"
   },
   {
    "duration": 211,
    "start_time": "2023-01-27T17:57:57.492Z"
   },
   {
    "duration": 115,
    "start_time": "2023-01-27T17:57:57.704Z"
   },
   {
    "duration": 153,
    "start_time": "2023-01-27T17:57:57.820Z"
   },
   {
    "duration": 31,
    "start_time": "2023-01-27T17:57:57.975Z"
   },
   {
    "duration": 42,
    "start_time": "2023-01-27T17:57:58.007Z"
   },
   {
    "duration": 12,
    "start_time": "2023-01-27T17:57:58.051Z"
   },
   {
    "duration": 20,
    "start_time": "2023-01-27T17:57:58.065Z"
   },
   {
    "duration": 17,
    "start_time": "2023-01-27T17:57:58.086Z"
   },
   {
    "duration": 52,
    "start_time": "2023-01-27T17:57:58.105Z"
   },
   {
    "duration": 130,
    "start_time": "2023-01-27T17:57:58.159Z"
   },
   {
    "duration": 24,
    "start_time": "2023-01-27T17:57:58.291Z"
   },
   {
    "duration": 35,
    "start_time": "2023-01-27T17:57:58.317Z"
   },
   {
    "duration": 8,
    "start_time": "2023-01-27T17:57:58.353Z"
   },
   {
    "duration": 17,
    "start_time": "2023-01-27T17:57:58.363Z"
   },
   {
    "duration": 23,
    "start_time": "2023-01-27T17:57:58.382Z"
   },
   {
    "duration": 11,
    "start_time": "2023-01-27T17:57:58.407Z"
   },
   {
    "duration": 33,
    "start_time": "2023-01-27T17:57:58.419Z"
   },
   {
    "duration": 40,
    "start_time": "2023-01-27T17:57:58.453Z"
   },
   {
    "duration": 12,
    "start_time": "2023-01-27T17:57:58.494Z"
   },
   {
    "duration": 5,
    "start_time": "2023-01-27T17:57:58.507Z"
   },
   {
    "duration": 38,
    "start_time": "2023-01-27T17:57:58.513Z"
   },
   {
    "duration": 39,
    "start_time": "2023-01-27T17:57:58.552Z"
   },
   {
    "duration": 27,
    "start_time": "2023-01-27T17:57:58.592Z"
   },
   {
    "duration": 44,
    "start_time": "2023-01-27T17:57:58.621Z"
   },
   {
    "duration": 40,
    "start_time": "2023-01-27T17:57:58.667Z"
   },
   {
    "duration": 1868,
    "start_time": "2023-01-27T20:41:15.275Z"
   },
   {
    "duration": 2,
    "start_time": "2023-01-27T20:41:17.148Z"
   },
   {
    "duration": 1293,
    "start_time": "2023-01-27T20:41:17.152Z"
   },
   {
    "duration": 23,
    "start_time": "2023-01-27T20:41:18.449Z"
   },
   {
    "duration": 144,
    "start_time": "2023-01-27T20:41:18.474Z"
   },
   {
    "duration": 143,
    "start_time": "2023-01-27T20:41:18.620Z"
   },
   {
    "duration": 115,
    "start_time": "2023-01-27T20:41:18.764Z"
   },
   {
    "duration": 573,
    "start_time": "2023-01-27T20:41:18.881Z"
   },
   {
    "duration": 6,
    "start_time": "2023-01-27T20:41:19.455Z"
   },
   {
    "duration": 1638,
    "start_time": "2023-01-27T20:41:19.463Z"
   },
   {
    "duration": 345,
    "start_time": "2023-01-27T20:41:21.103Z"
   },
   {
    "duration": 163,
    "start_time": "2023-01-27T20:41:21.450Z"
   },
   {
    "duration": 41,
    "start_time": "2023-01-27T20:41:21.614Z"
   },
   {
    "duration": 146,
    "start_time": "2023-01-27T20:41:21.657Z"
   },
   {
    "duration": 41,
    "start_time": "2023-01-27T20:41:21.805Z"
   },
   {
    "duration": 26,
    "start_time": "2023-01-27T20:41:21.850Z"
   },
   {
    "duration": 66,
    "start_time": "2023-01-27T20:41:21.878Z"
   },
   {
    "duration": 5,
    "start_time": "2023-01-27T20:41:21.946Z"
   },
   {
    "duration": 135,
    "start_time": "2023-01-27T20:41:21.953Z"
   },
   {
    "duration": 233,
    "start_time": "2023-01-27T20:41:22.089Z"
   },
   {
    "duration": 39,
    "start_time": "2023-01-27T20:41:22.324Z"
   },
   {
    "duration": 219,
    "start_time": "2023-01-27T20:41:22.365Z"
   },
   {
    "duration": 52,
    "start_time": "2023-01-27T20:41:22.586Z"
   },
   {
    "duration": 254,
    "start_time": "2023-01-27T20:41:22.641Z"
   },
   {
    "duration": 16,
    "start_time": "2023-01-27T20:41:22.897Z"
   },
   {
    "duration": 33,
    "start_time": "2023-01-27T20:41:22.927Z"
   },
   {
    "duration": 50,
    "start_time": "2023-01-27T20:41:22.962Z"
   },
   {
    "duration": 81,
    "start_time": "2023-01-27T20:41:23.027Z"
   },
   {
    "duration": 242,
    "start_time": "2023-01-27T20:41:23.109Z"
   },
   {
    "duration": 129,
    "start_time": "2023-01-27T20:41:23.353Z"
   },
   {
    "duration": 168,
    "start_time": "2023-01-27T20:41:23.484Z"
   },
   {
    "duration": 33,
    "start_time": "2023-01-27T20:41:23.654Z"
   },
   {
    "duration": 52,
    "start_time": "2023-01-27T20:41:23.689Z"
   },
   {
    "duration": 15,
    "start_time": "2023-01-27T20:41:23.743Z"
   },
   {
    "duration": 24,
    "start_time": "2023-01-27T20:41:23.760Z"
   },
   {
    "duration": 57,
    "start_time": "2023-01-27T20:41:23.785Z"
   },
   {
    "duration": 30,
    "start_time": "2023-01-27T20:41:23.845Z"
   },
   {
    "duration": 154,
    "start_time": "2023-01-27T20:41:23.877Z"
   },
   {
    "duration": 36,
    "start_time": "2023-01-27T20:41:24.032Z"
   },
   {
    "duration": 12,
    "start_time": "2023-01-27T20:41:24.070Z"
   },
   {
    "duration": 11,
    "start_time": "2023-01-27T20:41:24.084Z"
   },
   {
    "duration": 19,
    "start_time": "2023-01-27T20:41:24.096Z"
   },
   {
    "duration": 40,
    "start_time": "2023-01-27T20:41:24.116Z"
   },
   {
    "duration": 21,
    "start_time": "2023-01-27T20:41:24.158Z"
   },
   {
    "duration": 38,
    "start_time": "2023-01-27T20:41:24.181Z"
   },
   {
    "duration": 77,
    "start_time": "2023-01-27T20:41:24.221Z"
   },
   {
    "duration": 19,
    "start_time": "2023-01-27T20:41:24.300Z"
   },
   {
    "duration": 11,
    "start_time": "2023-01-27T20:41:24.330Z"
   },
   {
    "duration": 11,
    "start_time": "2023-01-27T20:41:24.347Z"
   },
   {
    "duration": 42,
    "start_time": "2023-01-27T20:41:24.360Z"
   },
   {
    "duration": 48,
    "start_time": "2023-01-27T20:41:24.403Z"
   },
   {
    "duration": 163,
    "start_time": "2023-01-27T20:41:24.453Z"
   },
   {
    "duration": 71,
    "start_time": "2023-01-27T20:41:24.618Z"
   },
   {
    "duration": 2,
    "start_time": "2023-01-27T20:41:48.392Z"
   },
   {
    "duration": 8,
    "start_time": "2023-01-27T20:41:49.614Z"
   },
   {
    "duration": 163,
    "start_time": "2023-01-27T20:41:51.220Z"
   },
   {
    "duration": 39,
    "start_time": "2023-01-27T20:42:38.670Z"
   },
   {
    "duration": 289,
    "start_time": "2023-01-27T20:42:48.986Z"
   },
   {
    "duration": 13,
    "start_time": "2023-01-27T20:43:14.258Z"
   },
   {
    "duration": 6,
    "start_time": "2023-01-27T20:44:39.718Z"
   },
   {
    "duration": 13,
    "start_time": "2023-01-27T20:44:42.383Z"
   },
   {
    "duration": 38,
    "start_time": "2023-01-27T20:44:55.640Z"
   },
   {
    "duration": 246,
    "start_time": "2023-01-27T20:45:54.467Z"
   },
   {
    "duration": 34,
    "start_time": "2023-01-27T20:46:32.423Z"
   },
   {
    "duration": 1107,
    "start_time": "2023-01-27T20:46:58.041Z"
   },
   {
    "duration": 15,
    "start_time": "2023-01-27T20:47:13.955Z"
   },
   {
    "duration": 1595,
    "start_time": "2023-01-28T08:58:31.746Z"
   },
   {
    "duration": 2,
    "start_time": "2023-01-28T08:58:33.343Z"
   },
   {
    "duration": 970,
    "start_time": "2023-01-28T08:58:33.347Z"
   },
   {
    "duration": 15,
    "start_time": "2023-01-28T08:58:34.319Z"
   },
   {
    "duration": 90,
    "start_time": "2023-01-28T08:58:34.336Z"
   },
   {
    "duration": 111,
    "start_time": "2023-01-28T08:58:34.428Z"
   },
   {
    "duration": 114,
    "start_time": "2023-01-28T08:58:34.541Z"
   },
   {
    "duration": 485,
    "start_time": "2023-01-28T08:58:34.657Z"
   },
   {
    "duration": 5,
    "start_time": "2023-01-28T08:58:35.144Z"
   },
   {
    "duration": 1579,
    "start_time": "2023-01-28T08:58:35.151Z"
   },
   {
    "duration": 262,
    "start_time": "2023-01-28T08:58:36.732Z"
   },
   {
    "duration": 214,
    "start_time": "2023-01-28T08:58:36.996Z"
   },
   {
    "duration": 30,
    "start_time": "2023-01-28T08:58:37.211Z"
   },
   {
    "duration": 148,
    "start_time": "2023-01-28T08:58:37.243Z"
   },
   {
    "duration": 23,
    "start_time": "2023-01-28T08:58:37.393Z"
   },
   {
    "duration": 32,
    "start_time": "2023-01-28T08:58:37.418Z"
   },
   {
    "duration": 45,
    "start_time": "2023-01-28T08:58:37.451Z"
   },
   {
    "duration": 15,
    "start_time": "2023-01-28T08:58:37.498Z"
   },
   {
    "duration": 115,
    "start_time": "2023-01-28T08:58:37.515Z"
   },
   {
    "duration": 199,
    "start_time": "2023-01-28T08:58:37.631Z"
   },
   {
    "duration": 35,
    "start_time": "2023-01-28T08:58:37.832Z"
   },
   {
    "duration": 185,
    "start_time": "2023-01-28T08:58:37.869Z"
   },
   {
    "duration": 42,
    "start_time": "2023-01-28T08:58:38.055Z"
   },
   {
    "duration": 206,
    "start_time": "2023-01-28T08:58:38.110Z"
   },
   {
    "duration": 15,
    "start_time": "2023-01-28T08:58:38.318Z"
   },
   {
    "duration": 26,
    "start_time": "2023-01-28T08:58:38.335Z"
   },
   {
    "duration": 59,
    "start_time": "2023-01-28T08:58:38.363Z"
   },
   {
    "duration": 72,
    "start_time": "2023-01-28T08:58:38.426Z"
   },
   {
    "duration": 214,
    "start_time": "2023-01-28T08:58:38.500Z"
   },
   {
    "duration": 124,
    "start_time": "2023-01-28T08:58:38.716Z"
   },
   {
    "duration": 154,
    "start_time": "2023-01-28T08:58:38.842Z"
   },
   {
    "duration": 39,
    "start_time": "2023-01-28T08:58:38.998Z"
   },
   {
    "duration": 30,
    "start_time": "2023-01-28T08:58:39.039Z"
   },
   {
    "duration": 14,
    "start_time": "2023-01-28T08:58:39.071Z"
   },
   {
    "duration": 22,
    "start_time": "2023-01-28T08:58:39.109Z"
   },
   {
    "duration": 21,
    "start_time": "2023-01-28T08:58:39.133Z"
   },
   {
    "duration": 31,
    "start_time": "2023-01-28T08:58:39.156Z"
   },
   {
    "duration": 151,
    "start_time": "2023-01-28T08:58:39.209Z"
   },
   {
    "duration": 26,
    "start_time": "2023-01-28T08:58:39.362Z"
   },
   {
    "duration": 27,
    "start_time": "2023-01-28T08:58:39.390Z"
   },
   {
    "duration": 11,
    "start_time": "2023-01-28T08:58:39.419Z"
   },
   {
    "duration": 20,
    "start_time": "2023-01-28T08:58:39.431Z"
   },
   {
    "duration": 31,
    "start_time": "2023-01-28T08:58:39.452Z"
   },
   {
    "duration": 33,
    "start_time": "2023-01-28T08:58:39.485Z"
   },
   {
    "duration": 17,
    "start_time": "2023-01-28T08:58:39.520Z"
   },
   {
    "duration": 46,
    "start_time": "2023-01-28T08:58:39.539Z"
   },
   {
    "duration": 34,
    "start_time": "2023-01-28T08:58:39.587Z"
   },
   {
    "duration": 7,
    "start_time": "2023-01-28T08:58:39.623Z"
   },
   {
    "duration": 6,
    "start_time": "2023-01-28T08:58:39.632Z"
   },
   {
    "duration": 35,
    "start_time": "2023-01-28T08:58:39.640Z"
   },
   {
    "duration": 58,
    "start_time": "2023-01-28T08:58:39.677Z"
   },
   {
    "duration": 32,
    "start_time": "2023-01-28T08:58:39.737Z"
   },
   {
    "duration": 67,
    "start_time": "2023-01-28T08:58:39.771Z"
   },
   {
    "duration": 3,
    "start_time": "2023-01-28T08:58:39.839Z"
   },
   {
    "duration": 13,
    "start_time": "2023-01-28T08:58:39.844Z"
   },
   {
    "duration": 20,
    "start_time": "2023-01-28T08:58:39.858Z"
   },
   {
    "duration": 273,
    "start_time": "2023-01-28T08:58:39.880Z"
   },
   {
    "duration": 5,
    "start_time": "2023-01-28T08:58:40.154Z"
   },
   {
    "duration": 11,
    "start_time": "2023-01-28T08:58:40.161Z"
   },
   {
    "duration": 1049,
    "start_time": "2023-01-28T08:58:40.174Z"
   },
   {
    "duration": 5,
    "start_time": "2023-01-28T08:59:36.483Z"
   },
   {
    "duration": 13,
    "start_time": "2023-01-28T08:59:40.575Z"
   },
   {
    "duration": 12,
    "start_time": "2023-01-28T09:17:39.376Z"
   },
   {
    "duration": 126,
    "start_time": "2023-01-28T09:20:58.643Z"
   },
   {
    "duration": 3,
    "start_time": "2023-01-28T09:21:04.816Z"
   },
   {
    "duration": 9,
    "start_time": "2023-01-28T09:28:57.319Z"
   },
   {
    "duration": 5,
    "start_time": "2023-01-28T09:29:31.092Z"
   },
   {
    "duration": 3,
    "start_time": "2023-01-28T09:29:58.020Z"
   },
   {
    "duration": 8,
    "start_time": "2023-01-28T09:32:45.025Z"
   },
   {
    "duration": 13,
    "start_time": "2023-01-28T09:32:59.858Z"
   },
   {
    "duration": 3,
    "start_time": "2023-01-28T09:36:54.544Z"
   },
   {
    "duration": 28,
    "start_time": "2023-01-28T09:36:56.034Z"
   },
   {
    "duration": 2,
    "start_time": "2023-01-28T09:41:26.022Z"
   },
   {
    "duration": 3,
    "start_time": "2023-01-28T09:43:35.523Z"
   },
   {
    "duration": 10,
    "start_time": "2023-01-28T09:43:45.049Z"
   },
   {
    "duration": 2650,
    "start_time": "2023-01-28T09:44:41.892Z"
   },
   {
    "duration": 4,
    "start_time": "2023-01-28T09:48:14.842Z"
   },
   {
    "duration": 4711,
    "start_time": "2023-01-28T09:52:49.949Z"
   },
   {
    "duration": 9,
    "start_time": "2023-01-28T10:04:51.571Z"
   },
   {
    "duration": 8,
    "start_time": "2023-01-28T10:05:10.446Z"
   },
   {
    "duration": 4,
    "start_time": "2023-01-28T10:05:25.444Z"
   },
   {
    "duration": 11,
    "start_time": "2023-01-28T10:07:36.329Z"
   },
   {
    "duration": 3,
    "start_time": "2023-01-28T10:08:14.442Z"
   },
   {
    "duration": 5336,
    "start_time": "2023-01-28T10:08:24.427Z"
   },
   {
    "duration": 3,
    "start_time": "2023-01-28T10:08:42.634Z"
   },
   {
    "duration": 9786,
    "start_time": "2023-01-28T10:09:03.587Z"
   },
   {
    "duration": 4,
    "start_time": "2023-01-28T10:09:45.229Z"
   },
   {
    "duration": 3,
    "start_time": "2023-01-28T10:09:48.763Z"
   },
   {
    "duration": 50498,
    "start_time": "2023-01-28T10:09:51.729Z"
   },
   {
    "duration": 3,
    "start_time": "2023-01-28T10:10:55.654Z"
   },
   {
    "duration": 73875,
    "start_time": "2023-01-28T10:10:57.929Z"
   },
   {
    "duration": 14,
    "start_time": "2023-01-28T10:13:48.664Z"
   },
   {
    "duration": 74413,
    "start_time": "2023-01-28T10:18:17.862Z"
   },
   {
    "duration": 16,
    "start_time": "2023-01-28T10:35:18.132Z"
   },
   {
    "duration": 11,
    "start_time": "2023-01-28T11:01:07.031Z"
   },
   {
    "duration": 4,
    "start_time": "2023-01-28T11:02:49.135Z"
   },
   {
    "duration": 15,
    "start_time": "2023-01-28T11:03:18.185Z"
   },
   {
    "duration": 24,
    "start_time": "2023-01-28T11:03:49.944Z"
   },
   {
    "duration": 8,
    "start_time": "2023-01-28T11:05:13.434Z"
   },
   {
    "duration": 6,
    "start_time": "2023-01-28T11:05:28.888Z"
   },
   {
    "duration": 11,
    "start_time": "2023-01-28T11:06:07.373Z"
   },
   {
    "duration": 15,
    "start_time": "2023-01-28T11:08:01.030Z"
   },
   {
    "duration": 3,
    "start_time": "2023-01-28T11:11:00.952Z"
   },
   {
    "duration": 4,
    "start_time": "2023-01-28T11:12:31.242Z"
   },
   {
    "duration": 4,
    "start_time": "2023-01-28T11:13:07.800Z"
   },
   {
    "duration": 9,
    "start_time": "2023-01-28T11:13:31.172Z"
   },
   {
    "duration": 4,
    "start_time": "2023-01-28T11:15:51.733Z"
   },
   {
    "duration": 4,
    "start_time": "2023-01-28T11:15:59.863Z"
   },
   {
    "duration": 309501,
    "start_time": "2023-01-28T11:16:07.456Z"
   },
   {
    "duration": 302088,
    "start_time": "2023-01-28T11:21:33.732Z"
   },
   {
    "duration": 352282,
    "start_time": "2023-01-28T11:27:20.637Z"
   },
   {
    "duration": 0,
    "start_time": "2023-01-28T11:33:12.938Z"
   },
   {
    "duration": 8,
    "start_time": "2023-01-28T11:33:17.040Z"
   },
   {
    "duration": 42475,
    "start_time": "2023-01-28T11:34:20.340Z"
   },
   {
    "duration": 0,
    "start_time": "2023-01-28T11:35:02.820Z"
   },
   {
    "duration": 133,
    "start_time": "2023-01-28T11:35:20.994Z"
   },
   {
    "duration": 5,
    "start_time": "2023-01-28T11:36:46.656Z"
   },
   {
    "duration": 20,
    "start_time": "2023-01-28T11:37:08.333Z"
   },
   {
    "duration": 5,
    "start_time": "2023-01-28T11:42:56.226Z"
   },
   {
    "duration": 8,
    "start_time": "2023-01-28T11:43:07.728Z"
   },
   {
    "duration": 48,
    "start_time": "2023-01-28T11:43:20.041Z"
   },
   {
    "duration": 17,
    "start_time": "2023-01-28T11:43:26.433Z"
   },
   {
    "duration": 1129653,
    "start_time": "2023-01-28T11:43:48.268Z"
   },
   {
    "duration": 2025,
    "start_time": "2023-01-29T18:53:18.426Z"
   },
   {
    "duration": 3,
    "start_time": "2023-01-29T18:53:23.036Z"
   },
   {
    "duration": 99,
    "start_time": "2023-01-29T18:53:23.557Z"
   },
   {
    "duration": 148,
    "start_time": "2023-01-29T18:53:24.293Z"
   },
   {
    "duration": 10,
    "start_time": "2023-01-29T18:53:24.882Z"
   },
   {
    "duration": 10,
    "start_time": "2023-01-29T18:53:25.235Z"
   },
   {
    "duration": 48,
    "start_time": "2023-01-29T18:54:06.737Z"
   },
   {
    "duration": 1364,
    "start_time": "2023-01-29T18:54:12.930Z"
   },
   {
    "duration": 30,
    "start_time": "2023-01-29T18:54:18.801Z"
   },
   {
    "duration": 133,
    "start_time": "2023-01-29T18:54:19.658Z"
   },
   {
    "duration": 136,
    "start_time": "2023-01-29T18:54:21.763Z"
   },
   {
    "duration": 131,
    "start_time": "2023-01-29T18:54:22.566Z"
   },
   {
    "duration": 615,
    "start_time": "2023-01-29T18:54:23.223Z"
   },
   {
    "duration": 6,
    "start_time": "2023-01-29T18:54:25.367Z"
   },
   {
    "duration": 1631,
    "start_time": "2023-01-29T18:54:26.055Z"
   },
   {
    "duration": 278,
    "start_time": "2023-01-29T18:54:27.688Z"
   },
   {
    "duration": 248,
    "start_time": "2023-01-29T18:54:28.649Z"
   },
   {
    "duration": 35,
    "start_time": "2023-01-29T18:54:29.362Z"
   },
   {
    "duration": 129,
    "start_time": "2023-01-29T18:54:30.556Z"
   },
   {
    "duration": 26,
    "start_time": "2023-01-29T18:54:30.687Z"
   },
   {
    "duration": 30,
    "start_time": "2023-01-29T18:54:30.879Z"
   },
   {
    "duration": 81,
    "start_time": "2023-01-29T18:54:34.240Z"
   },
   {
    "duration": 5,
    "start_time": "2023-01-29T18:54:35.645Z"
   },
   {
    "duration": 115,
    "start_time": "2023-01-29T18:54:36.393Z"
   },
   {
    "duration": 284,
    "start_time": "2023-01-29T18:54:36.935Z"
   },
   {
    "duration": 39,
    "start_time": "2023-01-29T18:54:37.433Z"
   },
   {
    "duration": 200,
    "start_time": "2023-01-29T18:54:38.333Z"
   },
   {
    "duration": 53,
    "start_time": "2023-01-29T18:54:39.079Z"
   },
   {
    "duration": 233,
    "start_time": "2023-01-29T18:54:39.333Z"
   },
   {
    "duration": 14,
    "start_time": "2023-01-29T18:54:40.081Z"
   },
   {
    "duration": 27,
    "start_time": "2023-01-29T18:54:40.571Z"
   },
   {
    "duration": 65,
    "start_time": "2023-01-29T18:54:41.200Z"
   },
   {
    "duration": 86,
    "start_time": "2023-01-29T18:54:41.992Z"
   },
   {
    "duration": 257,
    "start_time": "2023-01-29T18:54:42.739Z"
   },
   {
    "duration": 138,
    "start_time": "2023-01-29T18:54:43.241Z"
   },
   {
    "duration": 166,
    "start_time": "2023-01-29T18:54:43.835Z"
   },
   {
    "duration": 42,
    "start_time": "2023-01-29T18:54:44.443Z"
   },
   {
    "duration": 30,
    "start_time": "2023-01-29T18:54:45.667Z"
   },
   {
    "duration": 13,
    "start_time": "2023-01-29T18:54:46.361Z"
   },
   {
    "duration": 23,
    "start_time": "2023-01-29T18:54:47.235Z"
   },
   {
    "duration": 49,
    "start_time": "2023-01-29T18:54:47.979Z"
   },
   {
    "duration": 51,
    "start_time": "2023-01-29T18:54:49.087Z"
   },
   {
    "duration": 160,
    "start_time": "2023-01-29T18:54:51.661Z"
   },
   {
    "duration": 29,
    "start_time": "2023-01-29T18:54:52.435Z"
   },
   {
    "duration": 22,
    "start_time": "2023-01-29T18:54:53.460Z"
   },
   {
    "duration": 8,
    "start_time": "2023-01-29T18:54:53.689Z"
   },
   {
    "duration": 19,
    "start_time": "2023-01-29T18:54:53.939Z"
   },
   {
    "duration": 60,
    "start_time": "2023-01-29T18:54:54.147Z"
   },
   {
    "duration": 14,
    "start_time": "2023-01-29T18:54:54.546Z"
   },
   {
    "duration": 21,
    "start_time": "2023-01-29T18:54:55.749Z"
   },
   {
    "duration": 46,
    "start_time": "2023-01-29T18:54:56.234Z"
   },
   {
    "duration": 16,
    "start_time": "2023-01-29T18:54:56.651Z"
   },
   {
    "duration": 6,
    "start_time": "2023-01-29T18:55:05.340Z"
   },
   {
    "duration": 9,
    "start_time": "2023-01-29T18:55:05.986Z"
   },
   {
    "duration": 55,
    "start_time": "2023-01-29T18:55:06.874Z"
   },
   {
    "duration": 28,
    "start_time": "2023-01-29T18:55:07.668Z"
   },
   {
    "duration": 43,
    "start_time": "2023-01-29T18:55:08.002Z"
   },
   {
    "duration": 46,
    "start_time": "2023-01-29T18:55:08.932Z"
   },
   {
    "duration": 14,
    "start_time": "2023-02-12T18:17:37.919Z"
   }
  ],
  "colab": {
   "provenance": []
  },
  "kernelspec": {
   "display_name": "Python 3 (ipykernel)",
   "language": "python",
   "name": "python3"
  },
  "language_info": {
   "codemirror_mode": {
    "name": "ipython",
    "version": 3
   },
   "file_extension": ".py",
   "mimetype": "text/x-python",
   "name": "python",
   "nbconvert_exporter": "python",
   "pygments_lexer": "ipython3",
   "version": "3.9.12"
  },
  "toc": {
   "base_numbering": 1,
   "nav_menu": {},
   "number_sections": true,
   "sideBar": true,
   "skip_h1_title": true,
   "title_cell": "Table of Contents",
   "title_sidebar": "Contents",
   "toc_cell": false,
   "toc_position": {},
   "toc_section_display": true,
   "toc_window_display": false
  }
 },
 "nbformat": 4,
 "nbformat_minor": 2
}
