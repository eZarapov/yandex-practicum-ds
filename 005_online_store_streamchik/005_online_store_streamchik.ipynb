{
 "cells": [
  {
   "cell_type": "markdown",
   "metadata": {},
   "source": [
    "# Сборный проект 1 - Стримчик"
   ]
  },
  {
   "cell_type": "markdown",
   "metadata": {},
   "source": [
    "## Открытие файла с данными и изучение общей информации"
   ]
  },
  {
   "cell_type": "markdown",
   "metadata": {},
   "source": [
    "### Описание\n",
    "<br>Вы работаете в интернет-магазине «Стримчик», который продаёт по всему миру компьютерные игры. Из открытых источников доступны исторические данные о продажах игр, оценки пользователей и экспертов, жанры и платформы (например, Xbox или PlayStation). Вам нужно выявить определяющие успешность игры закономерности. Это позволит сделать ставку на потенциально популярный продукт и спланировать рекламные кампании.\n",
    "<br><br>\n",
    "Перед вами данные до 2016 года. Представим, что сейчас декабрь 2016 г., и вы планируете кампанию на 2017-й. Нужно отработать принцип работы с данными. Неважно, прогнозируете ли вы продажи на 2017 год по данным 2016-го или же 2027-й — по данным 2026 года.\n",
    "<br><br>\n",
    "В наборе данных попадается аббревиатура ESRB (Entertainment Software Rating Board) — это ассоциация, определяющая возрастной рейтинг компьютерных игр. ESRB оценивает игровой контент и присваивает ему подходящую возрастную категорию, например, «Для взрослых», «Для детей младшего возраста» или «Для подростков»."
   ]
  },
  {
   "cell_type": "markdown",
   "metadata": {},
   "source": [
    "### Описание данных\n",
    "Name — название игры\n",
    "<br>Platform — платформа\n",
    "<br>Year_of_Release — год выпуска\n",
    "<br>Genre — жанр игры\n",
    "<br>NA_sales — продажи в Северной Америке (миллионы проданных копий)\n",
    "<br>EU_sales — продажи в Европе (миллионы проданных копий)\n",
    "<br>JP_sales — продажи в Японии (миллионы проданных копий)\n",
    "<br>Other_sales — продажи в других странах (миллионы проданных копий)\n",
    "<br>Critic_Score — оценка критиков (максимум 100)\n",
    "<br>User_Score — оценка пользователей (максимум 10)\n",
    "<br>Rating — рейтинг от организации ESRB (англ. Entertainment Software Rating Board). Эта ассоциация определяет рейтинг компьютерных игр и присваивает им подходящую возрастную категорию."
   ]
  },
  {
   "cell_type": "markdown",
   "metadata": {},
   "source": [
    "### Загрузка данных"
   ]
  },
  {
   "cell_type": "code",
   "execution_count": 188,
   "metadata": {},
   "outputs": [],
   "source": [
    "# загружаем используемые библиотеки\n",
    "\n",
    "import pandas as pd\n",
    "import numpy as np\n",
    "import matplotlib.pyplot as plt\n",
    "import seaborn as sns\n",
    "import random\n",
    "import os\n",
    "import scipy\n",
    "from scipy import stats as st"
   ]
  },
  {
   "cell_type": "code",
   "execution_count": 189,
   "metadata": {},
   "outputs": [],
   "source": [
    "# загрузим предоставленные данные\n",
    "\n",
    "pth1 = '/datasets/games.csv'\n",
    "pth2 = 'https://code.s3.yandex.net/datasets/games.csv'\n",
    "\n",
    "if os.path.exists(pth1):\n",
    "    data = pd.read_csv(pth1)\n",
    "elif os.path.exists(pth2):\n",
    "    data = pd.read_csv(pth2)\n",
    "else:\n",
    "    print('Something is wrong')"
   ]
  },
  {
   "cell_type": "code",
   "execution_count": 190,
   "metadata": {
    "scrolled": true
   },
   "outputs": [
    {
     "data": {
      "text/html": [
       "<div>\n",
       "<style scoped>\n",
       "    .dataframe tbody tr th:only-of-type {\n",
       "        vertical-align: middle;\n",
       "    }\n",
       "\n",
       "    .dataframe tbody tr th {\n",
       "        vertical-align: top;\n",
       "    }\n",
       "\n",
       "    .dataframe thead th {\n",
       "        text-align: right;\n",
       "    }\n",
       "</style>\n",
       "<table border=\"1\" class=\"dataframe\">\n",
       "  <thead>\n",
       "    <tr style=\"text-align: right;\">\n",
       "      <th></th>\n",
       "      <th>Name</th>\n",
       "      <th>Platform</th>\n",
       "      <th>Year_of_Release</th>\n",
       "      <th>Genre</th>\n",
       "      <th>NA_sales</th>\n",
       "      <th>EU_sales</th>\n",
       "      <th>JP_sales</th>\n",
       "      <th>Other_sales</th>\n",
       "      <th>Critic_Score</th>\n",
       "      <th>User_Score</th>\n",
       "      <th>Rating</th>\n",
       "    </tr>\n",
       "  </thead>\n",
       "  <tbody>\n",
       "    <tr>\n",
       "      <th>0</th>\n",
       "      <td>Wii Sports</td>\n",
       "      <td>Wii</td>\n",
       "      <td>2006.0</td>\n",
       "      <td>Sports</td>\n",
       "      <td>41.36</td>\n",
       "      <td>28.96</td>\n",
       "      <td>3.77</td>\n",
       "      <td>8.45</td>\n",
       "      <td>76.0</td>\n",
       "      <td>8</td>\n",
       "      <td>E</td>\n",
       "    </tr>\n",
       "    <tr>\n",
       "      <th>1</th>\n",
       "      <td>Super Mario Bros.</td>\n",
       "      <td>NES</td>\n",
       "      <td>1985.0</td>\n",
       "      <td>Platform</td>\n",
       "      <td>29.08</td>\n",
       "      <td>3.58</td>\n",
       "      <td>6.81</td>\n",
       "      <td>0.77</td>\n",
       "      <td>NaN</td>\n",
       "      <td>NaN</td>\n",
       "      <td>NaN</td>\n",
       "    </tr>\n",
       "    <tr>\n",
       "      <th>2</th>\n",
       "      <td>Mario Kart Wii</td>\n",
       "      <td>Wii</td>\n",
       "      <td>2008.0</td>\n",
       "      <td>Racing</td>\n",
       "      <td>15.68</td>\n",
       "      <td>12.76</td>\n",
       "      <td>3.79</td>\n",
       "      <td>3.29</td>\n",
       "      <td>82.0</td>\n",
       "      <td>8.3</td>\n",
       "      <td>E</td>\n",
       "    </tr>\n",
       "    <tr>\n",
       "      <th>3</th>\n",
       "      <td>Wii Sports Resort</td>\n",
       "      <td>Wii</td>\n",
       "      <td>2009.0</td>\n",
       "      <td>Sports</td>\n",
       "      <td>15.61</td>\n",
       "      <td>10.93</td>\n",
       "      <td>3.28</td>\n",
       "      <td>2.95</td>\n",
       "      <td>80.0</td>\n",
       "      <td>8</td>\n",
       "      <td>E</td>\n",
       "    </tr>\n",
       "    <tr>\n",
       "      <th>4</th>\n",
       "      <td>Pokemon Red/Pokemon Blue</td>\n",
       "      <td>GB</td>\n",
       "      <td>1996.0</td>\n",
       "      <td>Role-Playing</td>\n",
       "      <td>11.27</td>\n",
       "      <td>8.89</td>\n",
       "      <td>10.22</td>\n",
       "      <td>1.00</td>\n",
       "      <td>NaN</td>\n",
       "      <td>NaN</td>\n",
       "      <td>NaN</td>\n",
       "    </tr>\n",
       "  </tbody>\n",
       "</table>\n",
       "</div>"
      ],
      "text/plain": [
       "                       Name Platform  Year_of_Release         Genre  NA_sales  \\\n",
       "0                Wii Sports      Wii           2006.0        Sports     41.36   \n",
       "1         Super Mario Bros.      NES           1985.0      Platform     29.08   \n",
       "2            Mario Kart Wii      Wii           2008.0        Racing     15.68   \n",
       "3         Wii Sports Resort      Wii           2009.0        Sports     15.61   \n",
       "4  Pokemon Red/Pokemon Blue       GB           1996.0  Role-Playing     11.27   \n",
       "\n",
       "   EU_sales  JP_sales  Other_sales  Critic_Score User_Score Rating  \n",
       "0     28.96      3.77         8.45          76.0          8      E  \n",
       "1      3.58      6.81         0.77           NaN        NaN    NaN  \n",
       "2     12.76      3.79         3.29          82.0        8.3      E  \n",
       "3     10.93      3.28         2.95          80.0          8      E  \n",
       "4      8.89     10.22         1.00           NaN        NaN    NaN  "
      ]
     },
     "execution_count": 190,
     "metadata": {},
     "output_type": "execute_result"
    }
   ],
   "source": [
    "# Проверим, что получилось\n",
    "data.head()"
   ]
  },
  {
   "cell_type": "markdown",
   "metadata": {},
   "source": [
    "Все отлично. Сразу в глаза бросаются пропуски. \n",
    "<br>Например, отсутствие скора у игры Марио на Денди. \n",
    "<br> Но мы то все знаем, что Марио это \"12 из 10\".\n",
    "\n",
    "<div>\n",
    "<img src=\"https://i.ytimg.com/vi/7aTODAI64lE/maxresdefault.jpg\" width=\"500\"/>\n",
    "</div>\n",
    "\n"
   ]
  },
  {
   "cell_type": "code",
   "execution_count": 191,
   "metadata": {},
   "outputs": [
    {
     "name": "stdout",
     "output_type": "stream",
     "text": [
      "<class 'pandas.core.frame.DataFrame'>\n",
      "RangeIndex: 16715 entries, 0 to 16714\n",
      "Data columns (total 11 columns):\n",
      " #   Column           Non-Null Count  Dtype  \n",
      "---  ------           --------------  -----  \n",
      " 0   Name             16713 non-null  object \n",
      " 1   Platform         16715 non-null  object \n",
      " 2   Year_of_Release  16446 non-null  float64\n",
      " 3   Genre            16713 non-null  object \n",
      " 4   NA_sales         16715 non-null  float64\n",
      " 5   EU_sales         16715 non-null  float64\n",
      " 6   JP_sales         16715 non-null  float64\n",
      " 7   Other_sales      16715 non-null  float64\n",
      " 8   Critic_Score     8137 non-null   float64\n",
      " 9   User_Score       10014 non-null  object \n",
      " 10  Rating           9949 non-null   object \n",
      "dtypes: float64(6), object(5)\n",
      "memory usage: 1.4+ MB\n"
     ]
    }
   ],
   "source": [
    "# посмотрим все данные по датафрейму\n",
    "data.info()"
   ]
  },
  {
   "cell_type": "markdown",
   "metadata": {},
   "source": [
    "## Подготовка данных"
   ]
  },
  {
   "cell_type": "markdown",
   "metadata": {},
   "source": [
    "### Замена названия столбцов"
   ]
  },
  {
   "cell_type": "code",
   "execution_count": 192,
   "metadata": {},
   "outputs": [
    {
     "data": {
      "text/plain": [
       "Index(['Name', 'Platform', 'Year_of_Release', 'Genre', 'NA_sales', 'EU_sales',\n",
       "       'JP_sales', 'Other_sales', 'Critic_Score', 'User_Score', 'Rating'],\n",
       "      dtype='object')"
      ]
     },
     "execution_count": 192,
     "metadata": {},
     "output_type": "execute_result"
    }
   ],
   "source": [
    "# попробуем посмотреть названия столбцов. Приведем их к единому формату.\n",
    "data.columns"
   ]
  },
  {
   "cell_type": "code",
   "execution_count": 193,
   "metadata": {},
   "outputs": [
    {
     "data": {
      "text/plain": [
       "Index(['name', 'platform', 'year_of_release', 'genre', 'na_sales', 'eu_sales',\n",
       "       'jp_sales', 'other_sales', 'critic_score', 'user_score', 'rating'],\n",
       "      dtype='object')"
      ]
     },
     "execution_count": 193,
     "metadata": {},
     "output_type": "execute_result"
    }
   ],
   "source": [
    "# заменим \"верблюжий\" язык на \"змеиный\"\n",
    "data.columns = data.columns.str.lower()\n",
    "\n",
    "# проверим\n",
    "data.columns"
   ]
  },
  {
   "cell_type": "markdown",
   "metadata": {},
   "source": [
    "### Обработка столцов на пропуски"
   ]
  },
  {
   "cell_type": "code",
   "execution_count": 194,
   "metadata": {},
   "outputs": [
    {
     "data": {
      "text/html": [
       "<div>\n",
       "<style scoped>\n",
       "    .dataframe tbody tr th:only-of-type {\n",
       "        vertical-align: middle;\n",
       "    }\n",
       "\n",
       "    .dataframe tbody tr th {\n",
       "        vertical-align: top;\n",
       "    }\n",
       "\n",
       "    .dataframe thead th {\n",
       "        text-align: right;\n",
       "    }\n",
       "</style>\n",
       "<table border=\"1\" class=\"dataframe\">\n",
       "  <thead>\n",
       "    <tr style=\"text-align: right;\">\n",
       "      <th></th>\n",
       "      <th>name</th>\n",
       "      <th>platform</th>\n",
       "      <th>year_of_release</th>\n",
       "      <th>genre</th>\n",
       "      <th>na_sales</th>\n",
       "      <th>eu_sales</th>\n",
       "      <th>jp_sales</th>\n",
       "      <th>other_sales</th>\n",
       "      <th>critic_score</th>\n",
       "      <th>user_score</th>\n",
       "      <th>rating</th>\n",
       "    </tr>\n",
       "  </thead>\n",
       "  <tbody>\n",
       "    <tr>\n",
       "      <th>0</th>\n",
       "      <td>Wii Sports</td>\n",
       "      <td>Wii</td>\n",
       "      <td>2006.0</td>\n",
       "      <td>Sports</td>\n",
       "      <td>41.36</td>\n",
       "      <td>28.96</td>\n",
       "      <td>3.77</td>\n",
       "      <td>8.45</td>\n",
       "      <td>76.0</td>\n",
       "      <td>8</td>\n",
       "      <td>E</td>\n",
       "    </tr>\n",
       "    <tr>\n",
       "      <th>1</th>\n",
       "      <td>Super Mario Bros.</td>\n",
       "      <td>NES</td>\n",
       "      <td>1985.0</td>\n",
       "      <td>Platform</td>\n",
       "      <td>29.08</td>\n",
       "      <td>3.58</td>\n",
       "      <td>6.81</td>\n",
       "      <td>0.77</td>\n",
       "      <td>NaN</td>\n",
       "      <td>NaN</td>\n",
       "      <td>NaN</td>\n",
       "    </tr>\n",
       "    <tr>\n",
       "      <th>2</th>\n",
       "      <td>Mario Kart Wii</td>\n",
       "      <td>Wii</td>\n",
       "      <td>2008.0</td>\n",
       "      <td>Racing</td>\n",
       "      <td>15.68</td>\n",
       "      <td>12.76</td>\n",
       "      <td>3.79</td>\n",
       "      <td>3.29</td>\n",
       "      <td>82.0</td>\n",
       "      <td>8.3</td>\n",
       "      <td>E</td>\n",
       "    </tr>\n",
       "    <tr>\n",
       "      <th>3</th>\n",
       "      <td>Wii Sports Resort</td>\n",
       "      <td>Wii</td>\n",
       "      <td>2009.0</td>\n",
       "      <td>Sports</td>\n",
       "      <td>15.61</td>\n",
       "      <td>10.93</td>\n",
       "      <td>3.28</td>\n",
       "      <td>2.95</td>\n",
       "      <td>80.0</td>\n",
       "      <td>8</td>\n",
       "      <td>E</td>\n",
       "    </tr>\n",
       "    <tr>\n",
       "      <th>4</th>\n",
       "      <td>Pokemon Red/Pokemon Blue</td>\n",
       "      <td>GB</td>\n",
       "      <td>1996.0</td>\n",
       "      <td>Role-Playing</td>\n",
       "      <td>11.27</td>\n",
       "      <td>8.89</td>\n",
       "      <td>10.22</td>\n",
       "      <td>1.00</td>\n",
       "      <td>NaN</td>\n",
       "      <td>NaN</td>\n",
       "      <td>NaN</td>\n",
       "    </tr>\n",
       "  </tbody>\n",
       "</table>\n",
       "</div>"
      ],
      "text/plain": [
       "                       name platform  year_of_release         genre  na_sales  \\\n",
       "0                Wii Sports      Wii           2006.0        Sports     41.36   \n",
       "1         Super Mario Bros.      NES           1985.0      Platform     29.08   \n",
       "2            Mario Kart Wii      Wii           2008.0        Racing     15.68   \n",
       "3         Wii Sports Resort      Wii           2009.0        Sports     15.61   \n",
       "4  Pokemon Red/Pokemon Blue       GB           1996.0  Role-Playing     11.27   \n",
       "\n",
       "   eu_sales  jp_sales  other_sales  critic_score user_score rating  \n",
       "0     28.96      3.77         8.45          76.0          8      E  \n",
       "1      3.58      6.81         0.77           NaN        NaN    NaN  \n",
       "2     12.76      3.79         3.29          82.0        8.3      E  \n",
       "3     10.93      3.28         2.95          80.0          8      E  \n",
       "4      8.89     10.22         1.00           NaN        NaN    NaN  "
      ]
     },
     "execution_count": 194,
     "metadata": {},
     "output_type": "execute_result"
    }
   ],
   "source": [
    "# посмотрим на датасет\n",
    "data.head()"
   ]
  },
  {
   "cell_type": "code",
   "execution_count": 195,
   "metadata": {},
   "outputs": [
    {
     "data": {
      "text/html": [
       "<div>\n",
       "<style scoped>\n",
       "    .dataframe tbody tr th:only-of-type {\n",
       "        vertical-align: middle;\n",
       "    }\n",
       "\n",
       "    .dataframe tbody tr th {\n",
       "        vertical-align: top;\n",
       "    }\n",
       "\n",
       "    .dataframe thead th {\n",
       "        text-align: right;\n",
       "    }\n",
       "</style>\n",
       "<table border=\"1\" class=\"dataframe\">\n",
       "  <thead>\n",
       "    <tr style=\"text-align: right;\">\n",
       "      <th></th>\n",
       "      <th>year_of_release</th>\n",
       "      <th>na_sales</th>\n",
       "      <th>eu_sales</th>\n",
       "      <th>jp_sales</th>\n",
       "      <th>other_sales</th>\n",
       "      <th>critic_score</th>\n",
       "    </tr>\n",
       "  </thead>\n",
       "  <tbody>\n",
       "    <tr>\n",
       "      <th>count</th>\n",
       "      <td>16446.000000</td>\n",
       "      <td>16715.000000</td>\n",
       "      <td>16715.000000</td>\n",
       "      <td>16715.000000</td>\n",
       "      <td>16715.000000</td>\n",
       "      <td>8137.000000</td>\n",
       "    </tr>\n",
       "    <tr>\n",
       "      <th>mean</th>\n",
       "      <td>2006.484616</td>\n",
       "      <td>0.263377</td>\n",
       "      <td>0.145060</td>\n",
       "      <td>0.077617</td>\n",
       "      <td>0.047342</td>\n",
       "      <td>68.967679</td>\n",
       "    </tr>\n",
       "    <tr>\n",
       "      <th>std</th>\n",
       "      <td>5.877050</td>\n",
       "      <td>0.813604</td>\n",
       "      <td>0.503339</td>\n",
       "      <td>0.308853</td>\n",
       "      <td>0.186731</td>\n",
       "      <td>13.938165</td>\n",
       "    </tr>\n",
       "    <tr>\n",
       "      <th>min</th>\n",
       "      <td>1980.000000</td>\n",
       "      <td>0.000000</td>\n",
       "      <td>0.000000</td>\n",
       "      <td>0.000000</td>\n",
       "      <td>0.000000</td>\n",
       "      <td>13.000000</td>\n",
       "    </tr>\n",
       "    <tr>\n",
       "      <th>25%</th>\n",
       "      <td>2003.000000</td>\n",
       "      <td>0.000000</td>\n",
       "      <td>0.000000</td>\n",
       "      <td>0.000000</td>\n",
       "      <td>0.000000</td>\n",
       "      <td>60.000000</td>\n",
       "    </tr>\n",
       "    <tr>\n",
       "      <th>50%</th>\n",
       "      <td>2007.000000</td>\n",
       "      <td>0.080000</td>\n",
       "      <td>0.020000</td>\n",
       "      <td>0.000000</td>\n",
       "      <td>0.010000</td>\n",
       "      <td>71.000000</td>\n",
       "    </tr>\n",
       "    <tr>\n",
       "      <th>75%</th>\n",
       "      <td>2010.000000</td>\n",
       "      <td>0.240000</td>\n",
       "      <td>0.110000</td>\n",
       "      <td>0.040000</td>\n",
       "      <td>0.030000</td>\n",
       "      <td>79.000000</td>\n",
       "    </tr>\n",
       "    <tr>\n",
       "      <th>max</th>\n",
       "      <td>2016.000000</td>\n",
       "      <td>41.360000</td>\n",
       "      <td>28.960000</td>\n",
       "      <td>10.220000</td>\n",
       "      <td>10.570000</td>\n",
       "      <td>98.000000</td>\n",
       "    </tr>\n",
       "  </tbody>\n",
       "</table>\n",
       "</div>"
      ],
      "text/plain": [
       "       year_of_release      na_sales      eu_sales      jp_sales  \\\n",
       "count     16446.000000  16715.000000  16715.000000  16715.000000   \n",
       "mean       2006.484616      0.263377      0.145060      0.077617   \n",
       "std           5.877050      0.813604      0.503339      0.308853   \n",
       "min        1980.000000      0.000000      0.000000      0.000000   \n",
       "25%        2003.000000      0.000000      0.000000      0.000000   \n",
       "50%        2007.000000      0.080000      0.020000      0.000000   \n",
       "75%        2010.000000      0.240000      0.110000      0.040000   \n",
       "max        2016.000000     41.360000     28.960000     10.220000   \n",
       "\n",
       "        other_sales  critic_score  \n",
       "count  16715.000000   8137.000000  \n",
       "mean       0.047342     68.967679  \n",
       "std        0.186731     13.938165  \n",
       "min        0.000000     13.000000  \n",
       "25%        0.000000     60.000000  \n",
       "50%        0.010000     71.000000  \n",
       "75%        0.030000     79.000000  \n",
       "max       10.570000     98.000000  "
      ]
     },
     "execution_count": 195,
     "metadata": {},
     "output_type": "execute_result"
    }
   ],
   "source": [
    "# Посмотрим на данные \"общими мазками\" по числовым данным\n",
    "data.describe()"
   ]
  },
  {
   "cell_type": "code",
   "execution_count": 196,
   "metadata": {},
   "outputs": [
    {
     "data": {
      "text/html": [
       "<style  type=\"text/css\" >\n",
       "#T_d541e_row0_col0,#T_d541e_row1_col0,#T_d541e_row3_col0,#T_d541e_row4_col0,#T_d541e_row5_col0,#T_d541e_row6_col0,#T_d541e_row7_col0{\n",
       "            background-color:  #3b4cc0;\n",
       "            color:  #f1f1f1;\n",
       "        }#T_d541e_row2_col0{\n",
       "            background-color:  #4358cb;\n",
       "            color:  #f1f1f1;\n",
       "        }#T_d541e_row8_col0{\n",
       "            background-color:  #b40426;\n",
       "            color:  #f1f1f1;\n",
       "        }#T_d541e_row9_col0{\n",
       "            background-color:  #f08b6e;\n",
       "            color:  #000000;\n",
       "        }#T_d541e_row10_col0{\n",
       "            background-color:  #ef886b;\n",
       "            color:  #000000;\n",
       "        }</style><table id=\"T_d541e_\" ><thead>    <tr>        <th class=\"blank level0\" ></th>        <th class=\"col_heading level0 col0\" >0</th>    </tr></thead><tbody>\n",
       "                <tr>\n",
       "                        <th id=\"T_d541e_level0_row0\" class=\"row_heading level0 row0\" >name</th>\n",
       "                        <td id=\"T_d541e_row0_col0\" class=\"data row0 col0\" >0.000000</td>\n",
       "            </tr>\n",
       "            <tr>\n",
       "                        <th id=\"T_d541e_level0_row1\" class=\"row_heading level0 row1\" >platform</th>\n",
       "                        <td id=\"T_d541e_row1_col0\" class=\"data row1 col0\" >0.000000</td>\n",
       "            </tr>\n",
       "            <tr>\n",
       "                        <th id=\"T_d541e_level0_row2\" class=\"row_heading level0 row2\" >year_of_release</th>\n",
       "                        <td id=\"T_d541e_row2_col0\" class=\"data row2 col0\" >1.600000</td>\n",
       "            </tr>\n",
       "            <tr>\n",
       "                        <th id=\"T_d541e_level0_row3\" class=\"row_heading level0 row3\" >genre</th>\n",
       "                        <td id=\"T_d541e_row3_col0\" class=\"data row3 col0\" >0.000000</td>\n",
       "            </tr>\n",
       "            <tr>\n",
       "                        <th id=\"T_d541e_level0_row4\" class=\"row_heading level0 row4\" >na_sales</th>\n",
       "                        <td id=\"T_d541e_row4_col0\" class=\"data row4 col0\" >0.000000</td>\n",
       "            </tr>\n",
       "            <tr>\n",
       "                        <th id=\"T_d541e_level0_row5\" class=\"row_heading level0 row5\" >eu_sales</th>\n",
       "                        <td id=\"T_d541e_row5_col0\" class=\"data row5 col0\" >0.000000</td>\n",
       "            </tr>\n",
       "            <tr>\n",
       "                        <th id=\"T_d541e_level0_row6\" class=\"row_heading level0 row6\" >jp_sales</th>\n",
       "                        <td id=\"T_d541e_row6_col0\" class=\"data row6 col0\" >0.000000</td>\n",
       "            </tr>\n",
       "            <tr>\n",
       "                        <th id=\"T_d541e_level0_row7\" class=\"row_heading level0 row7\" >other_sales</th>\n",
       "                        <td id=\"T_d541e_row7_col0\" class=\"data row7 col0\" >0.000000</td>\n",
       "            </tr>\n",
       "            <tr>\n",
       "                        <th id=\"T_d541e_level0_row8\" class=\"row_heading level0 row8\" >critic_score</th>\n",
       "                        <td id=\"T_d541e_row8_col0\" class=\"data row8 col0\" >51.300000</td>\n",
       "            </tr>\n",
       "            <tr>\n",
       "                        <th id=\"T_d541e_level0_row9\" class=\"row_heading level0 row9\" >user_score</th>\n",
       "                        <td id=\"T_d541e_row9_col0\" class=\"data row9 col0\" >40.100000</td>\n",
       "            </tr>\n",
       "            <tr>\n",
       "                        <th id=\"T_d541e_level0_row10\" class=\"row_heading level0 row10\" >rating</th>\n",
       "                        <td id=\"T_d541e_row10_col0\" class=\"data row10 col0\" >40.500000</td>\n",
       "            </tr>\n",
       "    </tbody></table>"
      ],
      "text/plain": [
       "<pandas.io.formats.style.Styler at 0x7fcbb3d8af10>"
      ]
     },
     "execution_count": 196,
     "metadata": {},
     "output_type": "execute_result"
    }
   ],
   "source": [
    "# посмотрим на пропуски\n",
    "pd.DataFrame(round(data.isna().mean()*100, 1)).style.background_gradient('coolwarm')\n",
    "\n"
   ]
  },
  {
   "cell_type": "markdown",
   "metadata": {},
   "source": [
    "Выявлены пропуски в столбцах year_of_release, critic_score, user_score, rating. Ну текущем этапе сложно определить причину пропусков. Необходимо смотреть все столцы в отедльности. Попробуем это сделать."
   ]
  },
  {
   "cell_type": "code",
   "execution_count": 197,
   "metadata": {},
   "outputs": [
    {
     "data": {
      "text/plain": [
       "array(['Wii Sports', 'Super Mario Bros.', 'Mario Kart Wii', ...,\n",
       "       'Woody Woodpecker in Crazy Castle 5', 'LMA Manager 2007',\n",
       "       'Haitaka no Psychedelica'], dtype=object)"
      ]
     },
     "execution_count": 197,
     "metadata": {},
     "output_type": "execute_result"
    }
   ],
   "source": [
    "# изучим поле name\n",
    "data.name.unique()"
   ]
  },
  {
   "cell_type": "code",
   "execution_count": 198,
   "metadata": {},
   "outputs": [
    {
     "name": "stdout",
     "output_type": "stream",
     "text": [
      "11560\n",
      "16715\n"
     ]
    }
   ],
   "source": [
    "# узнаем количество представленных игр и объем игр\n",
    "print(len(data.name.unique()))\n",
    "print(len(data.name))"
   ]
  },
  {
   "cell_type": "markdown",
   "metadata": {},
   "source": [
    "Исходя из различного количества уникальных строк и длины датасета, то в нем есть дубликаты.\n",
    "ПОсмотрим причину и природу данных дубликатов."
   ]
  },
  {
   "cell_type": "markdown",
   "metadata": {},
   "source": [
    "Скорее всего игры выходили на различных платформах и даже на различных поколениях платформ. Поэтому удаление дубликатов необходимо делать уже после изучения других значений."
   ]
  },
  {
   "cell_type": "code",
   "execution_count": 199,
   "metadata": {},
   "outputs": [
    {
     "data": {
      "text/plain": [
       "2"
      ]
     },
     "execution_count": 199,
     "metadata": {},
     "output_type": "execute_result"
    }
   ],
   "source": [
    "# посмотрим пропуски на name\n",
    "data.name.isnull().sum()"
   ]
  },
  {
   "cell_type": "code",
   "execution_count": 200,
   "metadata": {
    "scrolled": true
   },
   "outputs": [
    {
     "data": {
      "text/html": [
       "<div>\n",
       "<style scoped>\n",
       "    .dataframe tbody tr th:only-of-type {\n",
       "        vertical-align: middle;\n",
       "    }\n",
       "\n",
       "    .dataframe tbody tr th {\n",
       "        vertical-align: top;\n",
       "    }\n",
       "\n",
       "    .dataframe thead th {\n",
       "        text-align: right;\n",
       "    }\n",
       "</style>\n",
       "<table border=\"1\" class=\"dataframe\">\n",
       "  <thead>\n",
       "    <tr style=\"text-align: right;\">\n",
       "      <th></th>\n",
       "      <th>name</th>\n",
       "      <th>platform</th>\n",
       "      <th>year_of_release</th>\n",
       "      <th>genre</th>\n",
       "      <th>na_sales</th>\n",
       "      <th>eu_sales</th>\n",
       "      <th>jp_sales</th>\n",
       "      <th>other_sales</th>\n",
       "      <th>critic_score</th>\n",
       "      <th>user_score</th>\n",
       "      <th>rating</th>\n",
       "    </tr>\n",
       "  </thead>\n",
       "  <tbody>\n",
       "    <tr>\n",
       "      <th>659</th>\n",
       "      <td>NaN</td>\n",
       "      <td>GEN</td>\n",
       "      <td>1993.0</td>\n",
       "      <td>NaN</td>\n",
       "      <td>1.78</td>\n",
       "      <td>0.53</td>\n",
       "      <td>0.00</td>\n",
       "      <td>0.08</td>\n",
       "      <td>NaN</td>\n",
       "      <td>NaN</td>\n",
       "      <td>NaN</td>\n",
       "    </tr>\n",
       "    <tr>\n",
       "      <th>14244</th>\n",
       "      <td>NaN</td>\n",
       "      <td>GEN</td>\n",
       "      <td>1993.0</td>\n",
       "      <td>NaN</td>\n",
       "      <td>0.00</td>\n",
       "      <td>0.00</td>\n",
       "      <td>0.03</td>\n",
       "      <td>0.00</td>\n",
       "      <td>NaN</td>\n",
       "      <td>NaN</td>\n",
       "      <td>NaN</td>\n",
       "    </tr>\n",
       "  </tbody>\n",
       "</table>\n",
       "</div>"
      ],
      "text/plain": [
       "      name platform  year_of_release genre  na_sales  eu_sales  jp_sales  \\\n",
       "659    NaN      GEN           1993.0   NaN      1.78      0.53      0.00   \n",
       "14244  NaN      GEN           1993.0   NaN      0.00      0.00      0.03   \n",
       "\n",
       "       other_sales  critic_score user_score rating  \n",
       "659           0.08           NaN        NaN    NaN  \n",
       "14244         0.00           NaN        NaN    NaN  "
      ]
     },
     "execution_count": 200,
     "metadata": {},
     "output_type": "execute_result"
    }
   ],
   "source": [
    "# Что за пропуски:\n",
    "data.query('name.isnull()')"
   ]
  },
  {
   "cell_type": "markdown",
   "metadata": {},
   "source": [
    "Там почти нет данных и возможно удалить эти строки."
   ]
  },
  {
   "cell_type": "markdown",
   "metadata": {},
   "source": [
    "Стоп! Подождите. Игра на Сеге Очень 1993 года. Это же легендарная The Flintstones."
   ]
  },
  {
   "cell_type": "code",
   "execution_count": 201,
   "metadata": {},
   "outputs": [
    {
     "data": {
      "text/html": [
       "<div>\n",
       "<style scoped>\n",
       "    .dataframe tbody tr th:only-of-type {\n",
       "        vertical-align: middle;\n",
       "    }\n",
       "\n",
       "    .dataframe tbody tr th {\n",
       "        vertical-align: top;\n",
       "    }\n",
       "\n",
       "    .dataframe thead th {\n",
       "        text-align: right;\n",
       "    }\n",
       "</style>\n",
       "<table border=\"1\" class=\"dataframe\">\n",
       "  <thead>\n",
       "    <tr style=\"text-align: right;\">\n",
       "      <th></th>\n",
       "      <th>name</th>\n",
       "      <th>platform</th>\n",
       "      <th>year_of_release</th>\n",
       "      <th>genre</th>\n",
       "      <th>na_sales</th>\n",
       "      <th>eu_sales</th>\n",
       "      <th>jp_sales</th>\n",
       "      <th>other_sales</th>\n",
       "      <th>critic_score</th>\n",
       "      <th>user_score</th>\n",
       "      <th>rating</th>\n",
       "    </tr>\n",
       "  </thead>\n",
       "  <tbody>\n",
       "    <tr>\n",
       "      <th>659</th>\n",
       "      <td>NaN</td>\n",
       "      <td>GEN</td>\n",
       "      <td>1993.0</td>\n",
       "      <td>NaN</td>\n",
       "      <td>1.78</td>\n",
       "      <td>0.53</td>\n",
       "      <td>0.00</td>\n",
       "      <td>0.08</td>\n",
       "      <td>NaN</td>\n",
       "      <td>NaN</td>\n",
       "      <td>NaN</td>\n",
       "    </tr>\n",
       "    <tr>\n",
       "      <th>7885</th>\n",
       "      <td>Shining Force II</td>\n",
       "      <td>GEN</td>\n",
       "      <td>1993.0</td>\n",
       "      <td>Strategy</td>\n",
       "      <td>0.00</td>\n",
       "      <td>0.00</td>\n",
       "      <td>0.19</td>\n",
       "      <td>0.00</td>\n",
       "      <td>NaN</td>\n",
       "      <td>NaN</td>\n",
       "      <td>NaN</td>\n",
       "    </tr>\n",
       "    <tr>\n",
       "      <th>8893</th>\n",
       "      <td>Super Street Fighter II</td>\n",
       "      <td>GEN</td>\n",
       "      <td>1993.0</td>\n",
       "      <td>Fighting</td>\n",
       "      <td>0.00</td>\n",
       "      <td>0.00</td>\n",
       "      <td>0.15</td>\n",
       "      <td>0.00</td>\n",
       "      <td>NaN</td>\n",
       "      <td>NaN</td>\n",
       "      <td>NaN</td>\n",
       "    </tr>\n",
       "    <tr>\n",
       "      <th>11986</th>\n",
       "      <td>Ecco: The Tides of Time</td>\n",
       "      <td>GEN</td>\n",
       "      <td>1993.0</td>\n",
       "      <td>Adventure</td>\n",
       "      <td>0.00</td>\n",
       "      <td>0.00</td>\n",
       "      <td>0.07</td>\n",
       "      <td>0.00</td>\n",
       "      <td>NaN</td>\n",
       "      <td>NaN</td>\n",
       "      <td>NaN</td>\n",
       "    </tr>\n",
       "    <tr>\n",
       "      <th>12098</th>\n",
       "      <td>Street Fighter II': Special Champion Edition (...</td>\n",
       "      <td>GEN</td>\n",
       "      <td>1993.0</td>\n",
       "      <td>Action</td>\n",
       "      <td>0.00</td>\n",
       "      <td>0.00</td>\n",
       "      <td>0.07</td>\n",
       "      <td>0.00</td>\n",
       "      <td>NaN</td>\n",
       "      <td>NaN</td>\n",
       "      <td>NaN</td>\n",
       "    </tr>\n",
       "    <tr>\n",
       "      <th>12264</th>\n",
       "      <td>Streets of Rage 3</td>\n",
       "      <td>GEN</td>\n",
       "      <td>1993.0</td>\n",
       "      <td>Action</td>\n",
       "      <td>0.00</td>\n",
       "      <td>0.00</td>\n",
       "      <td>0.07</td>\n",
       "      <td>0.00</td>\n",
       "      <td>NaN</td>\n",
       "      <td>NaN</td>\n",
       "      <td>NaN</td>\n",
       "    </tr>\n",
       "    <tr>\n",
       "      <th>12984</th>\n",
       "      <td>Dynamite Headdy</td>\n",
       "      <td>GEN</td>\n",
       "      <td>1993.0</td>\n",
       "      <td>Platform</td>\n",
       "      <td>0.00</td>\n",
       "      <td>0.00</td>\n",
       "      <td>0.05</td>\n",
       "      <td>0.00</td>\n",
       "      <td>NaN</td>\n",
       "      <td>NaN</td>\n",
       "      <td>NaN</td>\n",
       "    </tr>\n",
       "    <tr>\n",
       "      <th>13343</th>\n",
       "      <td>Beyond Oasis</td>\n",
       "      <td>GEN</td>\n",
       "      <td>1993.0</td>\n",
       "      <td>Role-Playing</td>\n",
       "      <td>0.00</td>\n",
       "      <td>0.00</td>\n",
       "      <td>0.05</td>\n",
       "      <td>0.00</td>\n",
       "      <td>NaN</td>\n",
       "      <td>NaN</td>\n",
       "      <td>NaN</td>\n",
       "    </tr>\n",
       "    <tr>\n",
       "      <th>14244</th>\n",
       "      <td>NaN</td>\n",
       "      <td>GEN</td>\n",
       "      <td>1993.0</td>\n",
       "      <td>NaN</td>\n",
       "      <td>0.00</td>\n",
       "      <td>0.00</td>\n",
       "      <td>0.03</td>\n",
       "      <td>0.00</td>\n",
       "      <td>NaN</td>\n",
       "      <td>NaN</td>\n",
       "      <td>NaN</td>\n",
       "    </tr>\n",
       "  </tbody>\n",
       "</table>\n",
       "</div>"
      ],
      "text/plain": [
       "                                                    name platform  \\\n",
       "659                                                  NaN      GEN   \n",
       "7885                                    Shining Force II      GEN   \n",
       "8893                             Super Street Fighter II      GEN   \n",
       "11986                            Ecco: The Tides of Time      GEN   \n",
       "12098  Street Fighter II': Special Champion Edition (...      GEN   \n",
       "12264                                  Streets of Rage 3      GEN   \n",
       "12984                                    Dynamite Headdy      GEN   \n",
       "13343                                       Beyond Oasis      GEN   \n",
       "14244                                                NaN      GEN   \n",
       "\n",
       "       year_of_release         genre  na_sales  eu_sales  jp_sales  \\\n",
       "659             1993.0           NaN      1.78      0.53      0.00   \n",
       "7885            1993.0      Strategy      0.00      0.00      0.19   \n",
       "8893            1993.0      Fighting      0.00      0.00      0.15   \n",
       "11986           1993.0     Adventure      0.00      0.00      0.07   \n",
       "12098           1993.0        Action      0.00      0.00      0.07   \n",
       "12264           1993.0        Action      0.00      0.00      0.07   \n",
       "12984           1993.0      Platform      0.00      0.00      0.05   \n",
       "13343           1993.0  Role-Playing      0.00      0.00      0.05   \n",
       "14244           1993.0           NaN      0.00      0.00      0.03   \n",
       "\n",
       "       other_sales  critic_score user_score rating  \n",
       "659           0.08           NaN        NaN    NaN  \n",
       "7885          0.00           NaN        NaN    NaN  \n",
       "8893          0.00           NaN        NaN    NaN  \n",
       "11986         0.00           NaN        NaN    NaN  \n",
       "12098         0.00           NaN        NaN    NaN  \n",
       "12264         0.00           NaN        NaN    NaN  \n",
       "12984         0.00           NaN        NaN    NaN  \n",
       "13343         0.00           NaN        NaN    NaN  \n",
       "14244         0.00           NaN        NaN    NaN  "
      ]
     },
     "execution_count": 201,
     "metadata": {},
     "output_type": "execute_result"
    }
   ],
   "source": [
    "# Надо проверить, что ее уже нет.\n",
    "data.query('platform == \"GEN\" and year_of_release==1993')"
   ]
  },
  {
   "cell_type": "code",
   "execution_count": 202,
   "metadata": {},
   "outputs": [
    {
     "data": {
      "text/html": [
       "<div>\n",
       "<style scoped>\n",
       "    .dataframe tbody tr th:only-of-type {\n",
       "        vertical-align: middle;\n",
       "    }\n",
       "\n",
       "    .dataframe tbody tr th {\n",
       "        vertical-align: top;\n",
       "    }\n",
       "\n",
       "    .dataframe thead th {\n",
       "        text-align: right;\n",
       "    }\n",
       "</style>\n",
       "<table border=\"1\" class=\"dataframe\">\n",
       "  <thead>\n",
       "    <tr style=\"text-align: right;\">\n",
       "      <th></th>\n",
       "      <th>name</th>\n",
       "      <th>platform</th>\n",
       "      <th>year_of_release</th>\n",
       "      <th>genre</th>\n",
       "      <th>na_sales</th>\n",
       "      <th>eu_sales</th>\n",
       "      <th>jp_sales</th>\n",
       "      <th>other_sales</th>\n",
       "      <th>critic_score</th>\n",
       "      <th>user_score</th>\n",
       "      <th>rating</th>\n",
       "    </tr>\n",
       "  </thead>\n",
       "  <tbody>\n",
       "    <tr>\n",
       "      <th>9396</th>\n",
       "      <td>The Flintstones: Bedrock Bowling</td>\n",
       "      <td>PS</td>\n",
       "      <td>2000.0</td>\n",
       "      <td>Sports</td>\n",
       "      <td>0.07</td>\n",
       "      <td>0.05</td>\n",
       "      <td>0.0</td>\n",
       "      <td>0.01</td>\n",
       "      <td>NaN</td>\n",
       "      <td>NaN</td>\n",
       "      <td>NaN</td>\n",
       "    </tr>\n",
       "    <tr>\n",
       "      <th>14364</th>\n",
       "      <td>The Flintstones: Big Trouble in Bedrock</td>\n",
       "      <td>GBA</td>\n",
       "      <td>2001.0</td>\n",
       "      <td>Platform</td>\n",
       "      <td>0.02</td>\n",
       "      <td>0.01</td>\n",
       "      <td>0.0</td>\n",
       "      <td>0.00</td>\n",
       "      <td>NaN</td>\n",
       "      <td>NaN</td>\n",
       "      <td>NaN</td>\n",
       "    </tr>\n",
       "  </tbody>\n",
       "</table>\n",
       "</div>"
      ],
      "text/plain": [
       "                                          name platform  year_of_release  \\\n",
       "9396          The Flintstones: Bedrock Bowling       PS           2000.0   \n",
       "14364  The Flintstones: Big Trouble in Bedrock      GBA           2001.0   \n",
       "\n",
       "          genre  na_sales  eu_sales  jp_sales  other_sales  critic_score  \\\n",
       "9396     Sports      0.07      0.05       0.0         0.01           NaN   \n",
       "14364  Platform      0.02      0.01       0.0         0.00           NaN   \n",
       "\n",
       "      user_score rating  \n",
       "9396         NaN    NaN  \n",
       "14364        NaN    NaN  "
      ]
     },
     "execution_count": 202,
     "metadata": {},
     "output_type": "execute_result"
    }
   ],
   "source": [
    "# Найдем, как эта игра пишется в других записях. Одна должна содержать подстроку Flintstones.\n",
    "data.query('name.notnull()').query('name.str.contains(\"Flintstones\")')"
   ]
  },
  {
   "cell_type": "code",
   "execution_count": 203,
   "metadata": {},
   "outputs": [
    {
     "data": {
      "text/html": [
       "<div>\n",
       "<style scoped>\n",
       "    .dataframe tbody tr th:only-of-type {\n",
       "        vertical-align: middle;\n",
       "    }\n",
       "\n",
       "    .dataframe tbody tr th {\n",
       "        vertical-align: top;\n",
       "    }\n",
       "\n",
       "    .dataframe thead th {\n",
       "        text-align: right;\n",
       "    }\n",
       "</style>\n",
       "<table border=\"1\" class=\"dataframe\">\n",
       "  <thead>\n",
       "    <tr style=\"text-align: right;\">\n",
       "      <th></th>\n",
       "      <th>name</th>\n",
       "      <th>platform</th>\n",
       "      <th>year_of_release</th>\n",
       "      <th>genre</th>\n",
       "      <th>na_sales</th>\n",
       "      <th>eu_sales</th>\n",
       "      <th>jp_sales</th>\n",
       "      <th>other_sales</th>\n",
       "      <th>critic_score</th>\n",
       "      <th>user_score</th>\n",
       "      <th>rating</th>\n",
       "    </tr>\n",
       "  </thead>\n",
       "  <tbody>\n",
       "    <tr>\n",
       "      <th>659</th>\n",
       "      <td>NaN</td>\n",
       "      <td>GEN</td>\n",
       "      <td>1993.0</td>\n",
       "      <td>NaN</td>\n",
       "      <td>1.78</td>\n",
       "      <td>0.53</td>\n",
       "      <td>0.00</td>\n",
       "      <td>0.08</td>\n",
       "      <td>NaN</td>\n",
       "      <td>NaN</td>\n",
       "      <td>NaN</td>\n",
       "    </tr>\n",
       "    <tr>\n",
       "      <th>14244</th>\n",
       "      <td>NaN</td>\n",
       "      <td>GEN</td>\n",
       "      <td>1993.0</td>\n",
       "      <td>NaN</td>\n",
       "      <td>0.00</td>\n",
       "      <td>0.00</td>\n",
       "      <td>0.03</td>\n",
       "      <td>0.00</td>\n",
       "      <td>NaN</td>\n",
       "      <td>NaN</td>\n",
       "      <td>NaN</td>\n",
       "    </tr>\n",
       "  </tbody>\n",
       "</table>\n",
       "</div>"
      ],
      "text/plain": [
       "      name platform  year_of_release genre  na_sales  eu_sales  jp_sales  \\\n",
       "659    NaN      GEN           1993.0   NaN      1.78      0.53      0.00   \n",
       "14244  NaN      GEN           1993.0   NaN      0.00      0.00      0.03   \n",
       "\n",
       "       other_sales  critic_score user_score rating  \n",
       "659           0.08           NaN        NaN    NaN  \n",
       "14244         0.00           NaN        NaN    NaN  "
      ]
     },
     "execution_count": 203,
     "metadata": {},
     "output_type": "execute_result"
    }
   ],
   "source": [
    "# можно сделать вывод, что после 1993 выходили только дополнения и возможно их добавить только как \"The Flintstones\".\n",
    "# Для этого объеденим эти две строки (игры) в одну игру. Скорре всего пропуски образовались по причине неидентификации данной игры.\n",
    "data_for_flintstones = data[data.name.isnull()]\n",
    "data_for_flintstones\n"
   ]
  },
  {
   "cell_type": "code",
   "execution_count": 204,
   "metadata": {},
   "outputs": [
    {
     "data": {
      "text/html": [
       "<div>\n",
       "<style scoped>\n",
       "    .dataframe tbody tr th:only-of-type {\n",
       "        vertical-align: middle;\n",
       "    }\n",
       "\n",
       "    .dataframe tbody tr th {\n",
       "        vertical-align: top;\n",
       "    }\n",
       "\n",
       "    .dataframe thead th {\n",
       "        text-align: right;\n",
       "    }\n",
       "</style>\n",
       "<table border=\"1\" class=\"dataframe\">\n",
       "  <thead>\n",
       "    <tr style=\"text-align: right;\">\n",
       "      <th></th>\n",
       "      <th>name</th>\n",
       "      <th>platform</th>\n",
       "      <th>year_of_release</th>\n",
       "      <th>genre</th>\n",
       "      <th>na_sales</th>\n",
       "      <th>eu_sales</th>\n",
       "      <th>jp_sales</th>\n",
       "      <th>other_sales</th>\n",
       "      <th>critic_score</th>\n",
       "      <th>user_score</th>\n",
       "      <th>rating</th>\n",
       "    </tr>\n",
       "  </thead>\n",
       "  <tbody>\n",
       "    <tr>\n",
       "      <th>0</th>\n",
       "      <td>None</td>\n",
       "      <td>GEN</td>\n",
       "      <td>1993.0</td>\n",
       "      <td>None</td>\n",
       "      <td>1.78</td>\n",
       "      <td>0.53</td>\n",
       "      <td>0.03</td>\n",
       "      <td>0.08</td>\n",
       "      <td>NaN</td>\n",
       "      <td>None</td>\n",
       "      <td>None</td>\n",
       "    </tr>\n",
       "  </tbody>\n",
       "</table>\n",
       "</div>"
      ],
      "text/plain": [
       "   name platform year_of_release genre na_sales eu_sales jp_sales other_sales  \\\n",
       "0  None      GEN          1993.0  None     1.78     0.53     0.03        0.08   \n",
       "\n",
       "  critic_score user_score rating  \n",
       "0          NaN       None   None  "
      ]
     },
     "execution_count": 204,
     "metadata": {},
     "output_type": "execute_result"
    }
   ],
   "source": [
    "# объединим данные строки в одну, объединяя только те строки, которые пропущены\n",
    "data_for_flintstones = data_for_flintstones.max().to_frame().T\n",
    "data_for_flintstones"
   ]
  },
  {
   "cell_type": "code",
   "execution_count": 205,
   "metadata": {},
   "outputs": [
    {
     "data": {
      "text/html": [
       "<div>\n",
       "<style scoped>\n",
       "    .dataframe tbody tr th:only-of-type {\n",
       "        vertical-align: middle;\n",
       "    }\n",
       "\n",
       "    .dataframe tbody tr th {\n",
       "        vertical-align: top;\n",
       "    }\n",
       "\n",
       "    .dataframe thead th {\n",
       "        text-align: right;\n",
       "    }\n",
       "</style>\n",
       "<table border=\"1\" class=\"dataframe\">\n",
       "  <thead>\n",
       "    <tr style=\"text-align: right;\">\n",
       "      <th></th>\n",
       "      <th>name</th>\n",
       "      <th>platform</th>\n",
       "      <th>year_of_release</th>\n",
       "      <th>genre</th>\n",
       "      <th>na_sales</th>\n",
       "      <th>eu_sales</th>\n",
       "      <th>jp_sales</th>\n",
       "      <th>other_sales</th>\n",
       "      <th>critic_score</th>\n",
       "      <th>user_score</th>\n",
       "      <th>rating</th>\n",
       "    </tr>\n",
       "  </thead>\n",
       "  <tbody>\n",
       "    <tr>\n",
       "      <th>0</th>\n",
       "      <td>The Flintstones</td>\n",
       "      <td>GEN</td>\n",
       "      <td>1993.0</td>\n",
       "      <td>None</td>\n",
       "      <td>1.78</td>\n",
       "      <td>0.53</td>\n",
       "      <td>0.03</td>\n",
       "      <td>0.08</td>\n",
       "      <td>NaN</td>\n",
       "      <td>None</td>\n",
       "      <td>None</td>\n",
       "    </tr>\n",
       "  </tbody>\n",
       "</table>\n",
       "</div>"
      ],
      "text/plain": [
       "              name platform year_of_release genre na_sales eu_sales jp_sales  \\\n",
       "0  The Flintstones      GEN          1993.0  None     1.78     0.53     0.03   \n",
       "\n",
       "  other_sales critic_score user_score rating  \n",
       "0        0.08          NaN       None   None  "
      ]
     },
     "execution_count": 205,
     "metadata": {},
     "output_type": "execute_result"
    }
   ],
   "source": [
    "# присвоим name\n",
    "data_for_flintstones.loc[data_for_flintstones.name.isnull(), 'name'] = 'The Flintstones'\n",
    "data_for_flintstones"
   ]
  },
  {
   "cell_type": "code",
   "execution_count": 206,
   "metadata": {},
   "outputs": [
    {
     "data": {
      "text/html": [
       "<div>\n",
       "<style scoped>\n",
       "    .dataframe tbody tr th:only-of-type {\n",
       "        vertical-align: middle;\n",
       "    }\n",
       "\n",
       "    .dataframe tbody tr th {\n",
       "        vertical-align: top;\n",
       "    }\n",
       "\n",
       "    .dataframe thead th {\n",
       "        text-align: right;\n",
       "    }\n",
       "</style>\n",
       "<table border=\"1\" class=\"dataframe\">\n",
       "  <thead>\n",
       "    <tr style=\"text-align: right;\">\n",
       "      <th></th>\n",
       "      <th>name</th>\n",
       "      <th>platform</th>\n",
       "      <th>year_of_release</th>\n",
       "      <th>genre</th>\n",
       "      <th>na_sales</th>\n",
       "      <th>eu_sales</th>\n",
       "      <th>jp_sales</th>\n",
       "      <th>other_sales</th>\n",
       "      <th>critic_score</th>\n",
       "      <th>user_score</th>\n",
       "      <th>rating</th>\n",
       "    </tr>\n",
       "  </thead>\n",
       "  <tbody>\n",
       "    <tr>\n",
       "      <th>16711</th>\n",
       "      <td>LMA Manager 2007</td>\n",
       "      <td>X360</td>\n",
       "      <td>2006.0</td>\n",
       "      <td>Sports</td>\n",
       "      <td>0.0</td>\n",
       "      <td>0.01</td>\n",
       "      <td>0.0</td>\n",
       "      <td>0.0</td>\n",
       "      <td>NaN</td>\n",
       "      <td>NaN</td>\n",
       "      <td>NaN</td>\n",
       "    </tr>\n",
       "    <tr>\n",
       "      <th>16712</th>\n",
       "      <td>Haitaka no Psychedelica</td>\n",
       "      <td>PSV</td>\n",
       "      <td>2016.0</td>\n",
       "      <td>Adventure</td>\n",
       "      <td>0.0</td>\n",
       "      <td>0.0</td>\n",
       "      <td>0.01</td>\n",
       "      <td>0.0</td>\n",
       "      <td>NaN</td>\n",
       "      <td>NaN</td>\n",
       "      <td>NaN</td>\n",
       "    </tr>\n",
       "    <tr>\n",
       "      <th>16713</th>\n",
       "      <td>Spirits &amp; Spells</td>\n",
       "      <td>GBA</td>\n",
       "      <td>2003.0</td>\n",
       "      <td>Platform</td>\n",
       "      <td>0.01</td>\n",
       "      <td>0.0</td>\n",
       "      <td>0.0</td>\n",
       "      <td>0.0</td>\n",
       "      <td>NaN</td>\n",
       "      <td>NaN</td>\n",
       "      <td>NaN</td>\n",
       "    </tr>\n",
       "    <tr>\n",
       "      <th>16714</th>\n",
       "      <td>Winning Post 8 2016</td>\n",
       "      <td>PSV</td>\n",
       "      <td>2016.0</td>\n",
       "      <td>Simulation</td>\n",
       "      <td>0.0</td>\n",
       "      <td>0.0</td>\n",
       "      <td>0.01</td>\n",
       "      <td>0.0</td>\n",
       "      <td>NaN</td>\n",
       "      <td>NaN</td>\n",
       "      <td>NaN</td>\n",
       "    </tr>\n",
       "    <tr>\n",
       "      <th>16715</th>\n",
       "      <td>The Flintstones</td>\n",
       "      <td>GEN</td>\n",
       "      <td>1993.0</td>\n",
       "      <td>None</td>\n",
       "      <td>1.78</td>\n",
       "      <td>0.53</td>\n",
       "      <td>0.03</td>\n",
       "      <td>0.08</td>\n",
       "      <td>NaN</td>\n",
       "      <td>None</td>\n",
       "      <td>None</td>\n",
       "    </tr>\n",
       "  </tbody>\n",
       "</table>\n",
       "</div>"
      ],
      "text/plain": [
       "                          name platform year_of_release       genre na_sales  \\\n",
       "16711         LMA Manager 2007     X360          2006.0      Sports      0.0   \n",
       "16712  Haitaka no Psychedelica      PSV          2016.0   Adventure      0.0   \n",
       "16713         Spirits & Spells      GBA          2003.0    Platform     0.01   \n",
       "16714      Winning Post 8 2016      PSV          2016.0  Simulation      0.0   \n",
       "16715          The Flintstones      GEN          1993.0        None     1.78   \n",
       "\n",
       "      eu_sales jp_sales other_sales critic_score user_score rating  \n",
       "16711     0.01      0.0         0.0          NaN        NaN    NaN  \n",
       "16712      0.0     0.01         0.0          NaN        NaN    NaN  \n",
       "16713      0.0      0.0         0.0          NaN        NaN    NaN  \n",
       "16714      0.0     0.01         0.0          NaN        NaN    NaN  \n",
       "16715     0.53     0.03        0.08          NaN       None   None  "
      ]
     },
     "execution_count": 206,
     "metadata": {},
     "output_type": "execute_result"
    }
   ],
   "source": [
    "# добавим данную строку в исходый датафрейм\n",
    "data = data.append(data_for_flintstones, ignore_index=True)\n",
    "data.tail()"
   ]
  },
  {
   "cell_type": "code",
   "execution_count": 207,
   "metadata": {},
   "outputs": [
    {
     "data": {
      "text/plain": [
       "(16714, 11)"
      ]
     },
     "execution_count": 207,
     "metadata": {},
     "output_type": "execute_result"
    }
   ],
   "source": [
    "# удалим лишние name\n",
    "data = data.query('name.notnull()')\n",
    "\n",
    "# и проверим\n",
    "data.shape"
   ]
  },
  {
   "cell_type": "code",
   "execution_count": 208,
   "metadata": {},
   "outputs": [
    {
     "data": {
      "text/plain": [
       "array(['Wii', 'NES', 'GB', 'DS', 'X360', 'PS3', 'PS2', 'SNES', 'GBA',\n",
       "       'PS4', '3DS', 'N64', 'PS', 'XB', 'PC', '2600', 'PSP', 'XOne',\n",
       "       'WiiU', 'GC', 'GEN', 'DC', 'PSV', 'SAT', 'SCD', 'WS', 'NG', 'TG16',\n",
       "       '3DO', 'GG', 'PCFX'], dtype=object)"
      ]
     },
     "execution_count": 208,
     "metadata": {},
     "output_type": "execute_result"
    }
   ],
   "source": [
    "# изучим поле platform\n",
    "data.platform.unique()"
   ]
  },
  {
   "cell_type": "code",
   "execution_count": 209,
   "metadata": {},
   "outputs": [
    {
     "data": {
      "text/plain": [
       "0"
      ]
     },
     "execution_count": 209,
     "metadata": {},
     "output_type": "execute_result"
    }
   ],
   "source": [
    "data.platform.isnull().sum()"
   ]
  },
  {
   "cell_type": "markdown",
   "metadata": {},
   "source": [
    "Смутила платформа 2600. Но после изучения платформ, оказалось, что это легендарная Atari. В этих столбцах все отлично."
   ]
  },
  {
   "cell_type": "code",
   "execution_count": 210,
   "metadata": {},
   "outputs": [
    {
     "data": {
      "text/plain": [
       "array([2006.0, 1985.0, 2008.0, 2009.0, 1996.0, 1989.0, 1984.0, 2005.0,\n",
       "       1999.0, 2007.0, 2010.0, 2013.0, 2004.0, 1990.0, 1988.0, 2002.0,\n",
       "       2001.0, 2011.0, 1998.0, 2015.0, 2012.0, 2014.0, 1992.0, 1997.0,\n",
       "       1993.0, 1994.0, 1982.0, 2016.0, 2003.0, 1986.0, 2000.0, nan,\n",
       "       1995.0, 1991.0, 1981.0, 1987.0, 1980.0, 1983.0], dtype=object)"
      ]
     },
     "execution_count": 210,
     "metadata": {},
     "output_type": "execute_result"
    }
   ],
   "source": [
    "# изучим поле year_of_release\n",
    "data.year_of_release.unique()"
   ]
  },
  {
   "cell_type": "code",
   "execution_count": 211,
   "metadata": {},
   "outputs": [
    {
     "data": {
      "text/plain": [
       "269"
      ]
     },
     "execution_count": 211,
     "metadata": {},
     "output_type": "execute_result"
    }
   ],
   "source": [
    "# тоже есть Nun. Сколько их?\n",
    "data.year_of_release.isnull().sum()"
   ]
  },
  {
   "cell_type": "markdown",
   "metadata": {},
   "source": [
    "Такое огромное количество значений невозможно в разумные сроки обработать. Придется делать с определенными допущениями."
   ]
  },
  {
   "cell_type": "code",
   "execution_count": 212,
   "metadata": {
    "scrolled": false
   },
   "outputs": [
    {
     "data": {
      "text/html": [
       "<div>\n",
       "<style scoped>\n",
       "    .dataframe tbody tr th:only-of-type {\n",
       "        vertical-align: middle;\n",
       "    }\n",
       "\n",
       "    .dataframe tbody tr th {\n",
       "        vertical-align: top;\n",
       "    }\n",
       "\n",
       "    .dataframe thead th {\n",
       "        text-align: right;\n",
       "    }\n",
       "</style>\n",
       "<table border=\"1\" class=\"dataframe\">\n",
       "  <thead>\n",
       "    <tr style=\"text-align: right;\">\n",
       "      <th></th>\n",
       "      <th>name</th>\n",
       "      <th>platform</th>\n",
       "      <th>year_of_release</th>\n",
       "      <th>genre</th>\n",
       "      <th>na_sales</th>\n",
       "      <th>eu_sales</th>\n",
       "      <th>jp_sales</th>\n",
       "      <th>other_sales</th>\n",
       "      <th>critic_score</th>\n",
       "      <th>user_score</th>\n",
       "      <th>rating</th>\n",
       "    </tr>\n",
       "  </thead>\n",
       "  <tbody>\n",
       "    <tr>\n",
       "      <th>183</th>\n",
       "      <td>Madden NFL 2004</td>\n",
       "      <td>PS2</td>\n",
       "      <td>NaN</td>\n",
       "      <td>Sports</td>\n",
       "      <td>4.26</td>\n",
       "      <td>0.26</td>\n",
       "      <td>0.01</td>\n",
       "      <td>0.71</td>\n",
       "      <td>94.0</td>\n",
       "      <td>8.5</td>\n",
       "      <td>E</td>\n",
       "    </tr>\n",
       "    <tr>\n",
       "      <th>377</th>\n",
       "      <td>FIFA Soccer 2004</td>\n",
       "      <td>PS2</td>\n",
       "      <td>NaN</td>\n",
       "      <td>Sports</td>\n",
       "      <td>0.59</td>\n",
       "      <td>2.36</td>\n",
       "      <td>0.04</td>\n",
       "      <td>0.51</td>\n",
       "      <td>84.0</td>\n",
       "      <td>6.4</td>\n",
       "      <td>E</td>\n",
       "    </tr>\n",
       "    <tr>\n",
       "      <th>456</th>\n",
       "      <td>LEGO Batman: The Videogame</td>\n",
       "      <td>Wii</td>\n",
       "      <td>NaN</td>\n",
       "      <td>Action</td>\n",
       "      <td>1.8</td>\n",
       "      <td>0.97</td>\n",
       "      <td>0.0</td>\n",
       "      <td>0.29</td>\n",
       "      <td>74.0</td>\n",
       "      <td>7.9</td>\n",
       "      <td>E10+</td>\n",
       "    </tr>\n",
       "    <tr>\n",
       "      <th>475</th>\n",
       "      <td>wwe Smackdown vs. Raw 2006</td>\n",
       "      <td>PS2</td>\n",
       "      <td>NaN</td>\n",
       "      <td>Fighting</td>\n",
       "      <td>1.57</td>\n",
       "      <td>1.02</td>\n",
       "      <td>0.0</td>\n",
       "      <td>0.41</td>\n",
       "      <td>NaN</td>\n",
       "      <td>NaN</td>\n",
       "      <td>NaN</td>\n",
       "    </tr>\n",
       "    <tr>\n",
       "      <th>609</th>\n",
       "      <td>Space Invaders</td>\n",
       "      <td>2600</td>\n",
       "      <td>NaN</td>\n",
       "      <td>Shooter</td>\n",
       "      <td>2.36</td>\n",
       "      <td>0.14</td>\n",
       "      <td>0.0</td>\n",
       "      <td>0.03</td>\n",
       "      <td>NaN</td>\n",
       "      <td>NaN</td>\n",
       "      <td>NaN</td>\n",
       "    </tr>\n",
       "    <tr>\n",
       "      <th>...</th>\n",
       "      <td>...</td>\n",
       "      <td>...</td>\n",
       "      <td>...</td>\n",
       "      <td>...</td>\n",
       "      <td>...</td>\n",
       "      <td>...</td>\n",
       "      <td>...</td>\n",
       "      <td>...</td>\n",
       "      <td>...</td>\n",
       "      <td>...</td>\n",
       "      <td>...</td>\n",
       "    </tr>\n",
       "    <tr>\n",
       "      <th>16373</th>\n",
       "      <td>PDC World Championship Darts 2008</td>\n",
       "      <td>PSP</td>\n",
       "      <td>NaN</td>\n",
       "      <td>Sports</td>\n",
       "      <td>0.01</td>\n",
       "      <td>0.0</td>\n",
       "      <td>0.0</td>\n",
       "      <td>0.0</td>\n",
       "      <td>43.0</td>\n",
       "      <td>tbd</td>\n",
       "      <td>E10+</td>\n",
       "    </tr>\n",
       "    <tr>\n",
       "      <th>16405</th>\n",
       "      <td>Freaky Flyers</td>\n",
       "      <td>GC</td>\n",
       "      <td>NaN</td>\n",
       "      <td>Racing</td>\n",
       "      <td>0.01</td>\n",
       "      <td>0.0</td>\n",
       "      <td>0.0</td>\n",
       "      <td>0.0</td>\n",
       "      <td>69.0</td>\n",
       "      <td>6.5</td>\n",
       "      <td>T</td>\n",
       "    </tr>\n",
       "    <tr>\n",
       "      <th>16448</th>\n",
       "      <td>Inversion</td>\n",
       "      <td>PC</td>\n",
       "      <td>NaN</td>\n",
       "      <td>Shooter</td>\n",
       "      <td>0.01</td>\n",
       "      <td>0.0</td>\n",
       "      <td>0.0</td>\n",
       "      <td>0.0</td>\n",
       "      <td>59.0</td>\n",
       "      <td>6.7</td>\n",
       "      <td>M</td>\n",
       "    </tr>\n",
       "    <tr>\n",
       "      <th>16458</th>\n",
       "      <td>Hakuouki: Shinsengumi Kitan</td>\n",
       "      <td>PS3</td>\n",
       "      <td>NaN</td>\n",
       "      <td>Adventure</td>\n",
       "      <td>0.01</td>\n",
       "      <td>0.0</td>\n",
       "      <td>0.0</td>\n",
       "      <td>0.0</td>\n",
       "      <td>NaN</td>\n",
       "      <td>NaN</td>\n",
       "      <td>NaN</td>\n",
       "    </tr>\n",
       "    <tr>\n",
       "      <th>16522</th>\n",
       "      <td>Virtua Quest</td>\n",
       "      <td>GC</td>\n",
       "      <td>NaN</td>\n",
       "      <td>Role-Playing</td>\n",
       "      <td>0.01</td>\n",
       "      <td>0.0</td>\n",
       "      <td>0.0</td>\n",
       "      <td>0.0</td>\n",
       "      <td>55.0</td>\n",
       "      <td>5.5</td>\n",
       "      <td>T</td>\n",
       "    </tr>\n",
       "  </tbody>\n",
       "</table>\n",
       "<p>269 rows × 11 columns</p>\n",
       "</div>"
      ],
      "text/plain": [
       "                                    name platform year_of_release  \\\n",
       "183                      Madden NFL 2004      PS2             NaN   \n",
       "377                     FIFA Soccer 2004      PS2             NaN   \n",
       "456           LEGO Batman: The Videogame      Wii             NaN   \n",
       "475           wwe Smackdown vs. Raw 2006      PS2             NaN   \n",
       "609                       Space Invaders     2600             NaN   \n",
       "...                                  ...      ...             ...   \n",
       "16373  PDC World Championship Darts 2008      PSP             NaN   \n",
       "16405                      Freaky Flyers       GC             NaN   \n",
       "16448                          Inversion       PC             NaN   \n",
       "16458        Hakuouki: Shinsengumi Kitan      PS3             NaN   \n",
       "16522                       Virtua Quest       GC             NaN   \n",
       "\n",
       "              genre na_sales eu_sales jp_sales other_sales critic_score  \\\n",
       "183          Sports     4.26     0.26     0.01        0.71         94.0   \n",
       "377          Sports     0.59     2.36     0.04        0.51         84.0   \n",
       "456          Action      1.8     0.97      0.0        0.29         74.0   \n",
       "475        Fighting     1.57     1.02      0.0        0.41          NaN   \n",
       "609         Shooter     2.36     0.14      0.0        0.03          NaN   \n",
       "...             ...      ...      ...      ...         ...          ...   \n",
       "16373        Sports     0.01      0.0      0.0         0.0         43.0   \n",
       "16405        Racing     0.01      0.0      0.0         0.0         69.0   \n",
       "16448       Shooter     0.01      0.0      0.0         0.0         59.0   \n",
       "16458     Adventure     0.01      0.0      0.0         0.0          NaN   \n",
       "16522  Role-Playing     0.01      0.0      0.0         0.0         55.0   \n",
       "\n",
       "      user_score rating  \n",
       "183          8.5      E  \n",
       "377          6.4      E  \n",
       "456          7.9   E10+  \n",
       "475          NaN    NaN  \n",
       "609          NaN    NaN  \n",
       "...          ...    ...  \n",
       "16373        tbd   E10+  \n",
       "16405        6.5      T  \n",
       "16448        6.7      M  \n",
       "16458        NaN    NaN  \n",
       "16522        5.5      T  \n",
       "\n",
       "[269 rows x 11 columns]"
      ]
     },
     "execution_count": 212,
     "metadata": {},
     "output_type": "execute_result"
    }
   ],
   "source": [
    "# Посмотрим на эти данные\n",
    "data.query('year_of_release.isnull()')"
   ]
  },
  {
   "cell_type": "code",
   "execution_count": 213,
   "metadata": {
    "scrolled": true
   },
   "outputs": [
    {
     "name": "stdout",
     "output_type": "stream",
     "text": [
      "<class 'pandas.core.frame.DataFrame'>\n",
      "Int64Index: 16714 entries, 0 to 16715\n",
      "Data columns (total 11 columns):\n",
      " #   Column           Non-Null Count  Dtype \n",
      "---  ------           --------------  ----- \n",
      " 0   name             16714 non-null  object\n",
      " 1   platform         16714 non-null  object\n",
      " 2   year_of_release  16445 non-null  object\n",
      " 3   genre            16713 non-null  object\n",
      " 4   na_sales         16714 non-null  object\n",
      " 5   eu_sales         16714 non-null  object\n",
      " 6   jp_sales         16714 non-null  object\n",
      " 7   other_sales      16714 non-null  object\n",
      " 8   critic_score     8137 non-null   object\n",
      " 9   user_score       10014 non-null  object\n",
      " 10  rating           9949 non-null   object\n",
      "dtypes: object(11)\n",
      "memory usage: 1.5+ MB\n"
     ]
    }
   ],
   "source": [
    "# посмотрим типы данных.\n",
    "data.info()"
   ]
  },
  {
   "cell_type": "code",
   "execution_count": 214,
   "metadata": {
    "scrolled": true
   },
   "outputs": [
    {
     "name": "stderr",
     "output_type": "stream",
     "text": [
      "/opt/conda/lib/python3.9/site-packages/pandas/core/generic.py:5494: SettingWithCopyWarning: \n",
      "A value is trying to be set on a copy of a slice from a DataFrame.\n",
      "Try using .loc[row_indexer,col_indexer] = value instead\n",
      "\n",
      "See the caveats in the documentation: https://pandas.pydata.org/pandas-docs/stable/user_guide/indexing.html#returning-a-view-versus-a-copy\n",
      "  self[name] = value\n"
     ]
    },
    {
     "data": {
      "text/html": [
       "<div>\n",
       "<style scoped>\n",
       "    .dataframe tbody tr th:only-of-type {\n",
       "        vertical-align: middle;\n",
       "    }\n",
       "\n",
       "    .dataframe tbody tr th {\n",
       "        vertical-align: top;\n",
       "    }\n",
       "\n",
       "    .dataframe thead th {\n",
       "        text-align: right;\n",
       "    }\n",
       "</style>\n",
       "<table border=\"1\" class=\"dataframe\">\n",
       "  <thead>\n",
       "    <tr style=\"text-align: right;\">\n",
       "      <th></th>\n",
       "      <th>min</th>\n",
       "      <th>max</th>\n",
       "      <th>mean</th>\n",
       "    </tr>\n",
       "    <tr>\n",
       "      <th>platform</th>\n",
       "      <th></th>\n",
       "      <th></th>\n",
       "      <th></th>\n",
       "    </tr>\n",
       "  </thead>\n",
       "  <tbody>\n",
       "    <tr>\n",
       "      <th>2600</th>\n",
       "      <td>1980</td>\n",
       "      <td>1989</td>\n",
       "      <td>1982.137931</td>\n",
       "    </tr>\n",
       "    <tr>\n",
       "      <th>3DO</th>\n",
       "      <td>1994</td>\n",
       "      <td>1995</td>\n",
       "      <td>1994.666667</td>\n",
       "    </tr>\n",
       "    <tr>\n",
       "      <th>3DS</th>\n",
       "      <td>2011</td>\n",
       "      <td>2016</td>\n",
       "      <td>2013.126953</td>\n",
       "    </tr>\n",
       "    <tr>\n",
       "      <th>DC</th>\n",
       "      <td>1998</td>\n",
       "      <td>2008</td>\n",
       "      <td>1999.942308</td>\n",
       "    </tr>\n",
       "    <tr>\n",
       "      <th>DS</th>\n",
       "      <td>1985</td>\n",
       "      <td>2013</td>\n",
       "      <td>2008.185290</td>\n",
       "    </tr>\n",
       "  </tbody>\n",
       "</table>\n",
       "</div>"
      ],
      "text/plain": [
       "           min   max         mean\n",
       "platform                         \n",
       "2600      1980  1989  1982.137931\n",
       "3DO       1994  1995  1994.666667\n",
       "3DS       2011  2016  2013.126953\n",
       "DC        1998  2008  1999.942308\n",
       "DS        1985  2013  2008.185290"
      ]
     },
     "execution_count": 214,
     "metadata": {},
     "output_type": "execute_result"
    }
   ],
   "source": [
    "# какие есть вараинты для возможной замены, но перед этим сделаем тип данных int\n",
    "data_year_of_release = data.query('year_of_release.notnull()')\n",
    "data_year_of_release.year_of_release = data_year_of_release.year_of_release.astype('int')\n",
    "pivot_year = data_year_of_release.pivot_table(index='platform', values='year_of_release', aggfunc=['min', 'max', 'mean'])\n",
    "pivot_year.columns = ['min', 'max', 'mean']\n",
    "#pivot_year.mean.astype(int)\n",
    "pivot_year.head()"
   ]
  },
  {
   "cell_type": "code",
   "execution_count": 215,
   "metadata": {},
   "outputs": [
    {
     "data": {
      "text/html": [
       "<div>\n",
       "<style scoped>\n",
       "    .dataframe tbody tr th:only-of-type {\n",
       "        vertical-align: middle;\n",
       "    }\n",
       "\n",
       "    .dataframe tbody tr th {\n",
       "        vertical-align: top;\n",
       "    }\n",
       "\n",
       "    .dataframe thead th {\n",
       "        text-align: right;\n",
       "    }\n",
       "</style>\n",
       "<table border=\"1\" class=\"dataframe\">\n",
       "  <thead>\n",
       "    <tr style=\"text-align: right;\">\n",
       "      <th></th>\n",
       "      <th>name</th>\n",
       "      <th>platform</th>\n",
       "      <th>year_of_release</th>\n",
       "      <th>genre</th>\n",
       "      <th>na_sales</th>\n",
       "      <th>eu_sales</th>\n",
       "      <th>jp_sales</th>\n",
       "      <th>other_sales</th>\n",
       "      <th>critic_score</th>\n",
       "      <th>user_score</th>\n",
       "      <th>rating</th>\n",
       "    </tr>\n",
       "  </thead>\n",
       "  <tbody>\n",
       "  </tbody>\n",
       "</table>\n",
       "</div>"
      ],
      "text/plain": [
       "Empty DataFrame\n",
       "Columns: [name, platform, year_of_release, genre, na_sales, eu_sales, jp_sales, other_sales, critic_score, user_score, rating]\n",
       "Index: []"
      ]
     },
     "execution_count": 215,
     "metadata": {},
     "output_type": "execute_result"
    }
   ],
   "source": [
    "# заменим Nan на нулевые значения в data и проверим, что из этого получилось\n",
    "data.year_of_release = data.year_of_release.fillna('0')\n",
    "data.query('year_of_release.isnull()')"
   ]
  },
  {
   "cell_type": "code",
   "execution_count": 216,
   "metadata": {},
   "outputs": [
    {
     "name": "stdout",
     "output_type": "stream",
     "text": [
      "<class 'pandas.core.frame.DataFrame'>\n",
      "Int64Index: 16714 entries, 0 to 16715\n",
      "Data columns (total 11 columns):\n",
      " #   Column           Non-Null Count  Dtype \n",
      "---  ------           --------------  ----- \n",
      " 0   name             16714 non-null  object\n",
      " 1   platform         16714 non-null  object\n",
      " 2   year_of_release  16714 non-null  int64 \n",
      " 3   genre            16713 non-null  object\n",
      " 4   na_sales         16714 non-null  object\n",
      " 5   eu_sales         16714 non-null  object\n",
      " 6   jp_sales         16714 non-null  object\n",
      " 7   other_sales      16714 non-null  object\n",
      " 8   critic_score     8137 non-null   object\n",
      " 9   user_score       10014 non-null  object\n",
      " 10  rating           9949 non-null   object\n",
      "dtypes: int64(1), object(10)\n",
      "memory usage: 1.5+ MB\n"
     ]
    }
   ],
   "source": [
    "# все отлично. Переведем год релиза теперь и в data.\n",
    "data.year_of_release = data.year_of_release.astype(int)\n",
    "\n",
    "# и проверим это\n",
    "data.info()"
   ]
  },
  {
   "cell_type": "code",
   "execution_count": 217,
   "metadata": {},
   "outputs": [],
   "source": [
    "# Все получилось. Супер!\n",
    "# Здесь можно заменить минимальным значением по каждой платформе из ранее созданной таблицы pivot_year\n",
    "for i in data.index:\n",
    "    if data.loc[i, 'year_of_release'] == 0:\n",
    "        #print(i, data.loc[i, 'platform'], data.loc[i, 'year_of_release'])\n",
    "        #print(pivot_year.loc[data.loc[i, 'platform'], 'mean'])\n",
    "        #print('-----')\n",
    "        data.loc[i, 'year_of_release'] = pivot_year.loc[data.loc[i, 'platform'], 'mean']"
   ]
  },
  {
   "cell_type": "code",
   "execution_count": 218,
   "metadata": {},
   "outputs": [
    {
     "data": {
      "text/html": [
       "<div>\n",
       "<style scoped>\n",
       "    .dataframe tbody tr th:only-of-type {\n",
       "        vertical-align: middle;\n",
       "    }\n",
       "\n",
       "    .dataframe tbody tr th {\n",
       "        vertical-align: top;\n",
       "    }\n",
       "\n",
       "    .dataframe thead th {\n",
       "        text-align: right;\n",
       "    }\n",
       "</style>\n",
       "<table border=\"1\" class=\"dataframe\">\n",
       "  <thead>\n",
       "    <tr style=\"text-align: right;\">\n",
       "      <th></th>\n",
       "      <th>name</th>\n",
       "      <th>platform</th>\n",
       "      <th>year_of_release</th>\n",
       "      <th>genre</th>\n",
       "      <th>na_sales</th>\n",
       "      <th>eu_sales</th>\n",
       "      <th>jp_sales</th>\n",
       "      <th>other_sales</th>\n",
       "      <th>critic_score</th>\n",
       "      <th>user_score</th>\n",
       "      <th>rating</th>\n",
       "    </tr>\n",
       "  </thead>\n",
       "  <tbody>\n",
       "  </tbody>\n",
       "</table>\n",
       "</div>"
      ],
      "text/plain": [
       "Empty DataFrame\n",
       "Columns: [name, platform, year_of_release, genre, na_sales, eu_sales, jp_sales, other_sales, critic_score, user_score, rating]\n",
       "Index: []"
      ]
     },
     "execution_count": 218,
     "metadata": {},
     "output_type": "execute_result"
    }
   ],
   "source": [
    "# Проверем корректность замены\n",
    "data.query('year_of_release == 0')"
   ]
  },
  {
   "cell_type": "markdown",
   "metadata": {},
   "source": [
    "Все отлично заменилось. Идем дальше."
   ]
  },
  {
   "cell_type": "code",
   "execution_count": 219,
   "metadata": {},
   "outputs": [
    {
     "data": {
      "text/plain": [
       "array(['E', nan, 'M', 'T', 'E10+', 'K-A', 'AO', 'EC', 'RP', None],\n",
       "      dtype=object)"
      ]
     },
     "execution_count": 219,
     "metadata": {},
     "output_type": "execute_result"
    }
   ],
   "source": [
    "# посмотрим на уникальные значения в столбце \"rating\"\n",
    "data.rating.unique()"
   ]
  },
  {
   "cell_type": "code",
   "execution_count": 220,
   "metadata": {},
   "outputs": [
    {
     "data": {
      "text/plain": [
       "0"
      ]
     },
     "execution_count": 220,
     "metadata": {},
     "output_type": "execute_result"
    }
   ],
   "source": [
    "# Сразу бросается в глаза то, что есть Nan и None. Также есть дублирующиеся возрастные рейтинги.\n",
    "# Заменим тождественные рейтинги K-A и E.\n",
    "data.rating = data.rating.fillna('na')\n",
    "data.rating = data['rating'].replace('K-A','E')\n",
    "\n",
    "# и проверим\n",
    "data.rating.isna().sum()"
   ]
  },
  {
   "cell_type": "code",
   "execution_count": 221,
   "metadata": {},
   "outputs": [
    {
     "data": {
      "text/plain": [
       "rating\n",
       "AO         1\n",
       "E       3993\n",
       "E10+    1420\n",
       "EC         8\n",
       "M       1563\n",
       "RP         3\n",
       "T       2961\n",
       "na      6765\n",
       "Name: rating, dtype: int64"
      ]
     },
     "execution_count": 221,
     "metadata": {},
     "output_type": "execute_result"
    }
   ],
   "source": [
    "# Давайте посмотрим распределение всех рейтингов в таблице.\n",
    "data.groupby('rating')['rating'].count()"
   ]
  },
  {
   "cell_type": "code",
   "execution_count": 222,
   "metadata": {},
   "outputs": [
    {
     "data": {
      "text/html": [
       "<div>\n",
       "<style scoped>\n",
       "    .dataframe tbody tr th:only-of-type {\n",
       "        vertical-align: middle;\n",
       "    }\n",
       "\n",
       "    .dataframe tbody tr th {\n",
       "        vertical-align: top;\n",
       "    }\n",
       "\n",
       "    .dataframe thead th {\n",
       "        text-align: right;\n",
       "    }\n",
       "</style>\n",
       "<table border=\"1\" class=\"dataframe\">\n",
       "  <thead>\n",
       "    <tr style=\"text-align: right;\">\n",
       "      <th></th>\n",
       "      <th>name</th>\n",
       "      <th>platform</th>\n",
       "      <th>year_of_release</th>\n",
       "      <th>genre</th>\n",
       "      <th>na_sales</th>\n",
       "      <th>eu_sales</th>\n",
       "      <th>jp_sales</th>\n",
       "      <th>other_sales</th>\n",
       "      <th>critic_score</th>\n",
       "      <th>user_score</th>\n",
       "      <th>rating</th>\n",
       "    </tr>\n",
       "  </thead>\n",
       "  <tbody>\n",
       "    <tr>\n",
       "      <th>875</th>\n",
       "      <td>Grand Theft Auto: San Andreas</td>\n",
       "      <td>XB</td>\n",
       "      <td>2005.000000</td>\n",
       "      <td>Action</td>\n",
       "      <td>1.26</td>\n",
       "      <td>0.61</td>\n",
       "      <td>0.0</td>\n",
       "      <td>0.09</td>\n",
       "      <td>93.0</td>\n",
       "      <td>8.6</td>\n",
       "      <td>AO</td>\n",
       "    </tr>\n",
       "    <tr>\n",
       "      <th>4297</th>\n",
       "      <td>Nickelodeon Team Umizoomi</td>\n",
       "      <td>DS</td>\n",
       "      <td>2011.000000</td>\n",
       "      <td>Action</td>\n",
       "      <td>0.42</td>\n",
       "      <td>0.0</td>\n",
       "      <td>0.0</td>\n",
       "      <td>0.03</td>\n",
       "      <td>NaN</td>\n",
       "      <td>tbd</td>\n",
       "      <td>EC</td>\n",
       "    </tr>\n",
       "    <tr>\n",
       "      <th>5034</th>\n",
       "      <td>Sesame Street: Elmo's A-to-Zoo Adventure</td>\n",
       "      <td>Wii</td>\n",
       "      <td>2010.000000</td>\n",
       "      <td>Misc</td>\n",
       "      <td>0.35</td>\n",
       "      <td>0.0</td>\n",
       "      <td>0.0</td>\n",
       "      <td>0.02</td>\n",
       "      <td>NaN</td>\n",
       "      <td>tbd</td>\n",
       "      <td>EC</td>\n",
       "    </tr>\n",
       "    <tr>\n",
       "      <th>6046</th>\n",
       "      <td>Sesame Street: Cookie's Counting Carnival</td>\n",
       "      <td>Wii</td>\n",
       "      <td>2010.000000</td>\n",
       "      <td>Misc</td>\n",
       "      <td>0.27</td>\n",
       "      <td>0.0</td>\n",
       "      <td>0.0</td>\n",
       "      <td>0.02</td>\n",
       "      <td>NaN</td>\n",
       "      <td>tbd</td>\n",
       "      <td>EC</td>\n",
       "    </tr>\n",
       "    <tr>\n",
       "      <th>6764</th>\n",
       "      <td>Dora the Explorer: Journey to the Purple Planet</td>\n",
       "      <td>PS2</td>\n",
       "      <td>2005.000000</td>\n",
       "      <td>Adventure</td>\n",
       "      <td>0.12</td>\n",
       "      <td>0.09</td>\n",
       "      <td>0.0</td>\n",
       "      <td>0.03</td>\n",
       "      <td>NaN</td>\n",
       "      <td>7</td>\n",
       "      <td>EC</td>\n",
       "    </tr>\n",
       "    <tr>\n",
       "      <th>7586</th>\n",
       "      <td>Ni Hao, Kai-lan: New Year's Celebration</td>\n",
       "      <td>DS</td>\n",
       "      <td>2009.000000</td>\n",
       "      <td>Misc</td>\n",
       "      <td>0.19</td>\n",
       "      <td>0.0</td>\n",
       "      <td>0.0</td>\n",
       "      <td>0.01</td>\n",
       "      <td>NaN</td>\n",
       "      <td>tbd</td>\n",
       "      <td>EC</td>\n",
       "    </tr>\n",
       "    <tr>\n",
       "      <th>9960</th>\n",
       "      <td>Dora the Explorer: Journey to the Purple Planet</td>\n",
       "      <td>GC</td>\n",
       "      <td>2005.000000</td>\n",
       "      <td>Adventure</td>\n",
       "      <td>0.09</td>\n",
       "      <td>0.02</td>\n",
       "      <td>0.0</td>\n",
       "      <td>0.0</td>\n",
       "      <td>NaN</td>\n",
       "      <td>tbd</td>\n",
       "      <td>EC</td>\n",
       "    </tr>\n",
       "    <tr>\n",
       "      <th>13065</th>\n",
       "      <td>Sesame Street: Cookie's Counting Carnival</td>\n",
       "      <td>PC</td>\n",
       "      <td>2010.000000</td>\n",
       "      <td>Misc</td>\n",
       "      <td>0.05</td>\n",
       "      <td>0.0</td>\n",
       "      <td>0.0</td>\n",
       "      <td>0.0</td>\n",
       "      <td>NaN</td>\n",
       "      <td>tbd</td>\n",
       "      <td>EC</td>\n",
       "    </tr>\n",
       "    <tr>\n",
       "      <th>13455</th>\n",
       "      <td>Sesame Street: Elmo's A-to-Zoo Adventure</td>\n",
       "      <td>PC</td>\n",
       "      <td>2010.000000</td>\n",
       "      <td>Misc</td>\n",
       "      <td>0.04</td>\n",
       "      <td>0.0</td>\n",
       "      <td>0.0</td>\n",
       "      <td>0.0</td>\n",
       "      <td>NaN</td>\n",
       "      <td>tbd</td>\n",
       "      <td>EC</td>\n",
       "    </tr>\n",
       "    <tr>\n",
       "      <th>13672</th>\n",
       "      <td>Clockwork Empires</td>\n",
       "      <td>PC</td>\n",
       "      <td>2008.914316</td>\n",
       "      <td>Strategy</td>\n",
       "      <td>0.0</td>\n",
       "      <td>0.04</td>\n",
       "      <td>0.0</td>\n",
       "      <td>0.0</td>\n",
       "      <td>58.0</td>\n",
       "      <td>3.8</td>\n",
       "      <td>RP</td>\n",
       "    </tr>\n",
       "    <tr>\n",
       "      <th>14270</th>\n",
       "      <td>Supreme Ruler: Cold War</td>\n",
       "      <td>PC</td>\n",
       "      <td>2011.000000</td>\n",
       "      <td>Strategy</td>\n",
       "      <td>0.0</td>\n",
       "      <td>0.03</td>\n",
       "      <td>0.0</td>\n",
       "      <td>0.01</td>\n",
       "      <td>63.0</td>\n",
       "      <td>6.8</td>\n",
       "      <td>RP</td>\n",
       "    </tr>\n",
       "    <tr>\n",
       "      <th>16180</th>\n",
       "      <td>WRC: FIA World Rally Championship</td>\n",
       "      <td>PC</td>\n",
       "      <td>2008.914316</td>\n",
       "      <td>Racing</td>\n",
       "      <td>0.0</td>\n",
       "      <td>0.01</td>\n",
       "      <td>0.0</td>\n",
       "      <td>0.0</td>\n",
       "      <td>65.0</td>\n",
       "      <td>NaN</td>\n",
       "      <td>RP</td>\n",
       "    </tr>\n",
       "  </tbody>\n",
       "</table>\n",
       "</div>"
      ],
      "text/plain": [
       "                                                  name platform  \\\n",
       "875                      Grand Theft Auto: San Andreas       XB   \n",
       "4297                         Nickelodeon Team Umizoomi       DS   \n",
       "5034          Sesame Street: Elmo's A-to-Zoo Adventure      Wii   \n",
       "6046         Sesame Street: Cookie's Counting Carnival      Wii   \n",
       "6764   Dora the Explorer: Journey to the Purple Planet      PS2   \n",
       "7586           Ni Hao, Kai-lan: New Year's Celebration       DS   \n",
       "9960   Dora the Explorer: Journey to the Purple Planet       GC   \n",
       "13065        Sesame Street: Cookie's Counting Carnival       PC   \n",
       "13455         Sesame Street: Elmo's A-to-Zoo Adventure       PC   \n",
       "13672                                Clockwork Empires       PC   \n",
       "14270                          Supreme Ruler: Cold War       PC   \n",
       "16180                WRC: FIA World Rally Championship       PC   \n",
       "\n",
       "       year_of_release      genre na_sales eu_sales jp_sales other_sales  \\\n",
       "875        2005.000000     Action     1.26     0.61      0.0        0.09   \n",
       "4297       2011.000000     Action     0.42      0.0      0.0        0.03   \n",
       "5034       2010.000000       Misc     0.35      0.0      0.0        0.02   \n",
       "6046       2010.000000       Misc     0.27      0.0      0.0        0.02   \n",
       "6764       2005.000000  Adventure     0.12     0.09      0.0        0.03   \n",
       "7586       2009.000000       Misc     0.19      0.0      0.0        0.01   \n",
       "9960       2005.000000  Adventure     0.09     0.02      0.0         0.0   \n",
       "13065      2010.000000       Misc     0.05      0.0      0.0         0.0   \n",
       "13455      2010.000000       Misc     0.04      0.0      0.0         0.0   \n",
       "13672      2008.914316   Strategy      0.0     0.04      0.0         0.0   \n",
       "14270      2011.000000   Strategy      0.0     0.03      0.0        0.01   \n",
       "16180      2008.914316     Racing      0.0     0.01      0.0         0.0   \n",
       "\n",
       "      critic_score user_score rating  \n",
       "875           93.0        8.6     AO  \n",
       "4297           NaN        tbd     EC  \n",
       "5034           NaN        tbd     EC  \n",
       "6046           NaN        tbd     EC  \n",
       "6764           NaN          7     EC  \n",
       "7586           NaN        tbd     EC  \n",
       "9960           NaN        tbd     EC  \n",
       "13065          NaN        tbd     EC  \n",
       "13455          NaN        tbd     EC  \n",
       "13672         58.0        3.8     RP  \n",
       "14270         63.0        6.8     RP  \n",
       "16180         65.0        NaN     RP  "
      ]
     },
     "execution_count": 222,
     "metadata": {},
     "output_type": "execute_result"
    }
   ],
   "source": [
    "# очень мало данных по группам \"AO\", \"RP\", \"EC\". Посмотрим на эти данные\n",
    "data.query('rating in (\"AO\", \"RP\", \"EC\")')"
   ]
  },
  {
   "cell_type": "code",
   "execution_count": 223,
   "metadata": {
    "scrolled": false
   },
   "outputs": [
    {
     "data": {
      "text/plain": [
       "rating\n",
       "AO         1\n",
       "E       3993\n",
       "E10+    1420\n",
       "EC         8\n",
       "M       1563\n",
       "RP         3\n",
       "T       2961\n",
       "na      6765\n",
       "Name: rating, dtype: int64"
      ]
     },
     "execution_count": 223,
     "metadata": {},
     "output_type": "execute_result"
    }
   ],
   "source": [
    "data.groupby('rating')['rating'].count()"
   ]
  },
  {
   "cell_type": "markdown",
   "metadata": {},
   "source": [
    "Классификация рейтингов по ESRB:\n",
    "    <br>- EC — Early Childhood\n",
    "    <br>- E — Everyone\n",
    "    <br>- E10+ — Everyone 10+\n",
    "    <br>- T — Teen\n",
    "    <br>- M — Mature\n",
    "    <br>- AO — Adults Only\n",
    "    <br>- RP — Rating Pending\n",
    "<br>Попробуем заменить Adults Only на Mature, Early Childhood на Everyone, Rating Pending на na"
   ]
  },
  {
   "cell_type": "code",
   "execution_count": 224,
   "metadata": {},
   "outputs": [
    {
     "data": {
      "text/plain": [
       "rating\n",
       "E       4001\n",
       "E10+    1420\n",
       "M       1564\n",
       "T       2961\n",
       "na      6768\n",
       "Name: rating, dtype: int64"
      ]
     },
     "execution_count": 224,
     "metadata": {},
     "output_type": "execute_result"
    }
   ],
   "source": [
    "data.rating = data.rating.replace('AO', 'M')\n",
    "data.rating = data.rating.replace('EC', 'E')\n",
    "data.rating = data.rating.replace('RP', 'na')\n",
    "\n",
    "# проверим, что из этого получилось\n",
    "data.groupby('rating')['rating'].count()"
   ]
  },
  {
   "cell_type": "markdown",
   "metadata": {},
   "source": [
    "Все отлично заменилось. Идем дальше..."
   ]
  },
  {
   "cell_type": "code",
   "execution_count": 225,
   "metadata": {},
   "outputs": [
    {
     "data": {
      "text/plain": [
       "array(['8', nan, '8.3', '8.5', '6.6', '8.4', '8.6', '7.7', '6.3', '7.4',\n",
       "       '8.2', '9', '7.9', '8.1', '8.7', '7.1', '3.4', '5.3', '4.8', '3.2',\n",
       "       '8.9', '6.4', '7.8', '7.5', '2.6', '7.2', '9.2', '7', '7.3', '4.3',\n",
       "       '7.6', '5.7', '5', '9.1', '6.5', 'tbd', '8.8', '6.9', '9.4', '6.8',\n",
       "       '6.1', '6.7', '5.4', '4', '4.9', '4.5', '9.3', '6.2', '4.2', '6',\n",
       "       '3.7', '4.1', '5.8', '5.6', '5.5', '4.4', '4.6', '5.9', '3.9',\n",
       "       '3.1', '2.9', '5.2', '3.3', '4.7', '5.1', '3.5', '2.5', '1.9', '3',\n",
       "       '2.7', '2.2', '2', '9.5', '2.1', '3.6', '2.8', '1.8', '3.8', '0',\n",
       "       '1.6', '9.6', '2.4', '1.7', '1.1', '0.3', '1.5', '0.7', '1.2',\n",
       "       '2.3', '0.5', '1.3', '0.2', '0.6', '1.4', '0.9', '1', '9.7', None],\n",
       "      dtype=object)"
      ]
     },
     "execution_count": 225,
     "metadata": {},
     "output_type": "execute_result"
    }
   ],
   "source": [
    "# посмотрим на user_score\n",
    "data.user_score.unique()"
   ]
  },
  {
   "cell_type": "code",
   "execution_count": 226,
   "metadata": {},
   "outputs": [
    {
     "data": {
      "text/plain": [
       "array(['8', 'na', '8.3', '8.5', '6.6', '8.4', '8.6', '7.7', '6.3', '7.4',\n",
       "       '8.2', '9', '7.9', '8.1', '8.7', '7.1', '3.4', '5.3', '4.8', '3.2',\n",
       "       '8.9', '6.4', '7.8', '7.5', '2.6', '7.2', '9.2', '7', '7.3', '4.3',\n",
       "       '7.6', '5.7', '5', '9.1', '6.5', '8.8', '6.9', '9.4', '6.8', '6.1',\n",
       "       '6.7', '5.4', '4', '4.9', '4.5', '9.3', '6.2', '4.2', '6', '3.7',\n",
       "       '4.1', '5.8', '5.6', '5.5', '4.4', '4.6', '5.9', '3.9', '3.1',\n",
       "       '2.9', '5.2', '3.3', '4.7', '5.1', '3.5', '2.5', '1.9', '3', '2.7',\n",
       "       '2.2', '2', '9.5', '2.1', '3.6', '2.8', '1.8', '3.8', '0', '1.6',\n",
       "       '9.6', '2.4', '1.7', '1.1', '0.3', '1.5', '0.7', '1.2', '2.3',\n",
       "       '0.5', '1.3', '0.2', '0.6', '1.4', '0.9', '1', '9.7'], dtype=object)"
      ]
     },
     "execution_count": 226,
     "metadata": {},
     "output_type": "execute_result"
    }
   ],
   "source": [
    "# заменим tbd и nan на значение NA. По свой сути они очень похожи. Это игроки непожелавшие оставить мнение об игре по различным причинам\n",
    "data['user_score'] = data['user_score'].replace('tbd', 'na')\n",
    "data['user_score'] = data['user_score'].fillna('na')\n",
    "\n",
    "# и проверим\n",
    "data['user_score'].unique()"
   ]
  },
  {
   "cell_type": "code",
   "execution_count": 227,
   "metadata": {},
   "outputs": [
    {
     "data": {
      "text/plain": [
       "array(['8', nan, '8.3', '8.5', '6.6', '8.4', '8.6', '7.7', '6.3', '7.4',\n",
       "       '8.2', '9', '7.9', '8.1', '8.7', '7.1', '3.4', '5.3', '4.8', '3.2',\n",
       "       '8.9', '6.4', '7.8', '7.5', '2.6', '7.2', '9.2', '7', '7.3', '4.3',\n",
       "       '7.6', '5.7', '5', '9.1', '6.5', '8.8', '6.9', '9.4', '6.8', '6.1',\n",
       "       '6.7', '5.4', '4', '4.9', '4.5', '9.3', '6.2', '4.2', '6', '3.7',\n",
       "       '4.1', '5.8', '5.6', '5.5', '4.4', '4.6', '5.9', '3.9', '3.1',\n",
       "       '2.9', '5.2', '3.3', '4.7', '5.1', '3.5', '2.5', '1.9', '3', '2.7',\n",
       "       '2.2', '2', '9.5', '2.1', '3.6', '2.8', '1.8', '3.8', '0', '1.6',\n",
       "       '9.6', '2.4', '1.7', '1.1', '0.3', '1.5', '0.7', '1.2', '2.3',\n",
       "       '0.5', '1.3', '0.2', '0.6', '1.4', '0.9', '1', '9.7'], dtype=object)"
      ]
     },
     "execution_count": 227,
     "metadata": {},
     "output_type": "execute_result"
    }
   ],
   "source": [
    "# теперь заменим пропуски на Nan\n",
    "data['user_score'] = data['user_score'].replace('na', np.NaN)\n",
    "\n",
    "# и проверим\n",
    "data.user_score.unique()"
   ]
  },
  {
   "cell_type": "code",
   "execution_count": 228,
   "metadata": {
    "scrolled": true
   },
   "outputs": [
    {
     "data": {
      "text/plain": [
       "array([8. , nan, 8.3, 8.5, 6.6, 8.4, 8.6, 7.7, 6.3, 7.4, 8.2, 9. , 7.9,\n",
       "       8.1, 8.7, 7.1, 3.4, 5.3, 4.8, 3.2, 8.9, 6.4, 7.8, 7.5, 2.6, 7.2,\n",
       "       9.2, 7. , 7.3, 4.3, 7.6, 5.7, 5. , 9.1, 6.5, 8.8, 6.9, 9.4, 6.8,\n",
       "       6.1, 6.7, 5.4, 4. , 4.9, 4.5, 9.3, 6.2, 4.2, 6. , 3.7, 4.1, 5.8,\n",
       "       5.6, 5.5, 4.4, 4.6, 5.9, 3.9, 3.1, 2.9, 5.2, 3.3, 4.7, 5.1, 3.5,\n",
       "       2.5, 1.9, 3. , 2.7, 2.2, 2. , 9.5, 2.1, 3.6, 2.8, 1.8, 3.8, 0. ,\n",
       "       1.6, 9.6, 2.4, 1.7, 1.1, 0.3, 1.5, 0.7, 1.2, 2.3, 0.5, 1.3, 0.2,\n",
       "       0.6, 1.4, 0.9, 1. , 9.7])"
      ]
     },
     "execution_count": 228,
     "metadata": {},
     "output_type": "execute_result"
    }
   ],
   "source": [
    "# заменим тип на числовой\n",
    "data=data.astype({'user_score':'float64'})\n",
    "data.user_score.unique()"
   ]
  },
  {
   "cell_type": "markdown",
   "metadata": {},
   "source": [
    "Все заменилось. Идем дальше..."
   ]
  },
  {
   "cell_type": "code",
   "execution_count": 229,
   "metadata": {},
   "outputs": [
    {
     "data": {
      "text/plain": [
       "array([76.0, nan, 82.0, 80.0, 89.0, 58.0, 87.0, 91.0, 61.0, 97.0, 95.0,\n",
       "       77.0, 88.0, 83.0, 94.0, 93.0, 85.0, 86.0, 98.0, 96.0, 90.0, 84.0,\n",
       "       73.0, 74.0, 78.0, 92.0, 71.0, 72.0, 68.0, 62.0, 49.0, 67.0, 81.0,\n",
       "       66.0, 56.0, 79.0, 70.0, 59.0, 64.0, 75.0, 60.0, 63.0, 69.0, 50.0,\n",
       "       25.0, 42.0, 44.0, 55.0, 48.0, 57.0, 29.0, 47.0, 65.0, 54.0, 20.0,\n",
       "       53.0, 37.0, 38.0, 33.0, 52.0, 30.0, 32.0, 43.0, 45.0, 51.0, 40.0,\n",
       "       46.0, 39.0, 34.0, 35.0, 41.0, 36.0, 28.0, 31.0, 27.0, 26.0, 19.0,\n",
       "       23.0, 24.0, 21.0, 17.0, 22.0, 13.0, nan], dtype=object)"
      ]
     },
     "execution_count": 229,
     "metadata": {},
     "output_type": "execute_result"
    }
   ],
   "source": [
    "# изучение скоров критиков - critic_score\n",
    "\n",
    "data['critic_score'].unique()"
   ]
  },
  {
   "cell_type": "markdown",
   "metadata": {},
   "source": [
    "Выводы:\n",
    "Причиной пропусков стало фактическое отсутствие анализа рейтингов по определенным играм. Также возможно отсутствие желания устанвки рейтинга.\n",
    "В данном дата-сете очень старые игры. Поэтому часть информации возможно могла и не логироваться."
   ]
  },
  {
   "cell_type": "code",
   "execution_count": 230,
   "metadata": {},
   "outputs": [
    {
     "data": {
      "text/html": [
       "<div>\n",
       "<style scoped>\n",
       "    .dataframe tbody tr th:only-of-type {\n",
       "        vertical-align: middle;\n",
       "    }\n",
       "\n",
       "    .dataframe tbody tr th {\n",
       "        vertical-align: top;\n",
       "    }\n",
       "\n",
       "    .dataframe thead th {\n",
       "        text-align: right;\n",
       "    }\n",
       "</style>\n",
       "<table border=\"1\" class=\"dataframe\">\n",
       "  <thead>\n",
       "    <tr style=\"text-align: right;\">\n",
       "      <th></th>\n",
       "      <th>name</th>\n",
       "      <th>platform</th>\n",
       "      <th>year_of_release</th>\n",
       "      <th>genre</th>\n",
       "      <th>na_sales</th>\n",
       "      <th>eu_sales</th>\n",
       "      <th>jp_sales</th>\n",
       "      <th>other_sales</th>\n",
       "      <th>critic_score</th>\n",
       "      <th>user_score</th>\n",
       "      <th>rating</th>\n",
       "      <th>total_sales</th>\n",
       "    </tr>\n",
       "  </thead>\n",
       "  <tbody>\n",
       "    <tr>\n",
       "      <th>0</th>\n",
       "      <td>Wii Sports</td>\n",
       "      <td>Wii</td>\n",
       "      <td>2006.0</td>\n",
       "      <td>Sports</td>\n",
       "      <td>41.36</td>\n",
       "      <td>28.96</td>\n",
       "      <td>3.77</td>\n",
       "      <td>8.45</td>\n",
       "      <td>76.0</td>\n",
       "      <td>8.0</td>\n",
       "      <td>E</td>\n",
       "      <td>82.54</td>\n",
       "    </tr>\n",
       "    <tr>\n",
       "      <th>1</th>\n",
       "      <td>Super Mario Bros.</td>\n",
       "      <td>NES</td>\n",
       "      <td>1985.0</td>\n",
       "      <td>Platform</td>\n",
       "      <td>29.08</td>\n",
       "      <td>3.58</td>\n",
       "      <td>6.81</td>\n",
       "      <td>0.77</td>\n",
       "      <td>NaN</td>\n",
       "      <td>NaN</td>\n",
       "      <td>na</td>\n",
       "      <td>40.24</td>\n",
       "    </tr>\n",
       "    <tr>\n",
       "      <th>2</th>\n",
       "      <td>Mario Kart Wii</td>\n",
       "      <td>Wii</td>\n",
       "      <td>2008.0</td>\n",
       "      <td>Racing</td>\n",
       "      <td>15.68</td>\n",
       "      <td>12.76</td>\n",
       "      <td>3.79</td>\n",
       "      <td>3.29</td>\n",
       "      <td>82.0</td>\n",
       "      <td>8.3</td>\n",
       "      <td>E</td>\n",
       "      <td>35.52</td>\n",
       "    </tr>\n",
       "    <tr>\n",
       "      <th>3</th>\n",
       "      <td>Wii Sports Resort</td>\n",
       "      <td>Wii</td>\n",
       "      <td>2009.0</td>\n",
       "      <td>Sports</td>\n",
       "      <td>15.61</td>\n",
       "      <td>10.93</td>\n",
       "      <td>3.28</td>\n",
       "      <td>2.95</td>\n",
       "      <td>80.0</td>\n",
       "      <td>8.0</td>\n",
       "      <td>E</td>\n",
       "      <td>32.77</td>\n",
       "    </tr>\n",
       "    <tr>\n",
       "      <th>4</th>\n",
       "      <td>Pokemon Red/Pokemon Blue</td>\n",
       "      <td>GB</td>\n",
       "      <td>1996.0</td>\n",
       "      <td>Role-Playing</td>\n",
       "      <td>11.27</td>\n",
       "      <td>8.89</td>\n",
       "      <td>10.22</td>\n",
       "      <td>1.0</td>\n",
       "      <td>NaN</td>\n",
       "      <td>NaN</td>\n",
       "      <td>na</td>\n",
       "      <td>31.38</td>\n",
       "    </tr>\n",
       "  </tbody>\n",
       "</table>\n",
       "</div>"
      ],
      "text/plain": [
       "                       name platform  year_of_release         genre na_sales  \\\n",
       "0                Wii Sports      Wii           2006.0        Sports    41.36   \n",
       "1         Super Mario Bros.      NES           1985.0      Platform    29.08   \n",
       "2            Mario Kart Wii      Wii           2008.0        Racing    15.68   \n",
       "3         Wii Sports Resort      Wii           2009.0        Sports    15.61   \n",
       "4  Pokemon Red/Pokemon Blue       GB           1996.0  Role-Playing    11.27   \n",
       "\n",
       "  eu_sales jp_sales other_sales critic_score  user_score rating  total_sales  \n",
       "0    28.96     3.77        8.45         76.0         8.0      E        82.54  \n",
       "1     3.58     6.81        0.77          NaN         NaN     na        40.24  \n",
       "2    12.76     3.79        3.29         82.0         8.3      E        35.52  \n",
       "3    10.93     3.28        2.95         80.0         8.0      E        32.77  \n",
       "4     8.89    10.22         1.0          NaN         NaN     na        31.38  "
      ]
     },
     "execution_count": 230,
     "metadata": {},
     "output_type": "execute_result"
    }
   ],
   "source": [
    "# Подсчет суммарных продаж по всем регионам\n",
    "col_list = ['na_sales', 'eu_sales', 'jp_sales', 'other_sales']\n",
    "data['total_sales'] = data[col_list].sum(axis=1)\n",
    "data.head()"
   ]
  },
  {
   "cell_type": "markdown",
   "metadata": {},
   "source": [
    "Вывод:\n",
    "<br>В датасете имелись пропуски. По незначительным пропускам (например, Название игры) проупски были восстановлены. По значительным пропускам (например, скоры пользователей и скоры критиков) не восстанавливались. Пропуске по возрастному ограничение были объединены в ближайшие возрастные категории."
   ]
  },
  {
   "cell_type": "markdown",
   "metadata": {},
   "source": [
    "### Замена типов данных"
   ]
  },
  {
   "cell_type": "code",
   "execution_count": 231,
   "metadata": {
    "scrolled": true
   },
   "outputs": [
    {
     "name": "stdout",
     "output_type": "stream",
     "text": [
      "<class 'pandas.core.frame.DataFrame'>\n",
      "Int64Index: 16714 entries, 0 to 16715\n",
      "Data columns (total 12 columns):\n",
      " #   Column           Non-Null Count  Dtype  \n",
      "---  ------           --------------  -----  \n",
      " 0   name             16714 non-null  object \n",
      " 1   platform         16714 non-null  object \n",
      " 2   year_of_release  16714 non-null  float64\n",
      " 3   genre            16713 non-null  object \n",
      " 4   na_sales         16714 non-null  object \n",
      " 5   eu_sales         16714 non-null  object \n",
      " 6   jp_sales         16714 non-null  object \n",
      " 7   other_sales      16714 non-null  object \n",
      " 8   critic_score     8137 non-null   object \n",
      " 9   user_score       7590 non-null   float64\n",
      " 10  rating           16714 non-null  object \n",
      " 11  total_sales      16714 non-null  float64\n",
      "dtypes: float64(3), object(9)\n",
      "memory usage: 2.2+ MB\n"
     ]
    }
   ],
   "source": [
    "# Посмотрим какие типы данных есть\n",
    "data.info()"
   ]
  },
  {
   "cell_type": "code",
   "execution_count": 232,
   "metadata": {},
   "outputs": [],
   "source": [
    "# обработаем столбцев \n",
    "data.year_of_release = data.year_of_release.round()\n",
    "data = data.astype({'year_of_release':'int'})"
   ]
  },
  {
   "cell_type": "code",
   "execution_count": 233,
   "metadata": {},
   "outputs": [
    {
     "name": "stdout",
     "output_type": "stream",
     "text": [
      "<class 'pandas.core.frame.DataFrame'>\n",
      "Int64Index: 16714 entries, 0 to 16715\n",
      "Data columns (total 12 columns):\n",
      " #   Column           Non-Null Count  Dtype  \n",
      "---  ------           --------------  -----  \n",
      " 0   name             16714 non-null  object \n",
      " 1   platform         16714 non-null  object \n",
      " 2   year_of_release  16714 non-null  int64  \n",
      " 3   genre            16713 non-null  object \n",
      " 4   na_sales         16714 non-null  float64\n",
      " 5   eu_sales         16714 non-null  float64\n",
      " 6   jp_sales         16714 non-null  float64\n",
      " 7   other_sales      16714 non-null  float64\n",
      " 8   critic_score     8137 non-null   float64\n",
      " 9   user_score       7590 non-null   float64\n",
      " 10  rating           16714 non-null  object \n",
      " 11  total_sales      16714 non-null  float64\n",
      "dtypes: float64(7), int64(1), object(4)\n",
      "memory usage: 2.2+ MB\n"
     ]
    }
   ],
   "source": [
    "data = data.astype({'na_sales':'float64',\n",
    "                  'eu_sales':'float64',\n",
    "                  'jp_sales':'float64',\n",
    "                  'other_sales':'float64',\n",
    "                  'critic_score':'float64',\n",
    "                 }\n",
    "                )\n",
    "data.info()"
   ]
  },
  {
   "cell_type": "markdown",
   "metadata": {},
   "source": [
    "## Исследовательский анализ данных"
   ]
  },
  {
   "cell_type": "markdown",
   "metadata": {},
   "source": [
    "### Зависимость количества игр от года выпуска"
   ]
  },
  {
   "cell_type": "code",
   "execution_count": 234,
   "metadata": {},
   "outputs": [
    {
     "data": {
      "image/png": "[encoded data removed]",
      "text/plain": [
       "<Figure size 1080x648 with 1 Axes>"
      ]
     },
     "metadata": {
      "needs_background": "light"
     },
     "output_type": "display_data"
    }
   ],
   "source": [
    "data_year = data.groupby('year_of_release').agg(games=('name', 'count')).reset_index()\n",
    "plt.figure(figsize=(15, 9));\n",
    "plt.grid();\n",
    "plt.fill_between(data_year['year_of_release'], data_year['games']);\n",
    "plt.xticks(np.arange(data_year['year_of_release'].min(), data_year['year_of_release'].max()+1, 1));\n",
    "plt.xticks(rotation = 60);\n",
    "plt.xlabel(\"Годы\");\n",
    "plt.ylabel(\"Количество вышедших игр\");\n",
    "plt.title('Зависимость количества игр от года выпуска');\n",
    "\n",
    "plt.show()"
   ]
  },
  {
   "cell_type": "markdown",
   "metadata": {},
   "source": [
    "Данные не за все годы важны в данном случае.ПРимерно 400 игр было в 1998 году."
   ]
  },
  {
   "cell_type": "markdown",
   "metadata": {},
   "source": [
    "### Зависимость объемов продаж от года релиза"
   ]
  },
  {
   "cell_type": "code",
   "execution_count": 235,
   "metadata": {},
   "outputs": [
    {
     "data": {
      "image/png": "[encoded data removed]",
      "text/plain": [
       "<Figure size 1080x648 with 1 Axes>"
      ]
     },
     "metadata": {
      "needs_background": "light"
     },
     "output_type": "display_data"
    }
   ],
   "source": [
    "# Посмотрим разбивку по платформам\n",
    "data_sales = data.groupby('year_of_release').agg(sales=('total_sales', 'sum')).reset_index()\n",
    "\n",
    "plt.figure(figsize=(15, 9));\n",
    "plt.title('Динамика объемов продаж по всем платформам\\n');\n",
    "plt.xticks(np.arange(data_sales['year_of_release'].min(), data_sales['year_of_release'].max()+1, 1));\n",
    "sns.barplot(data=data_sales, x='year_of_release', y='sales', color='teal');\n",
    "plt.xticks(rotation = 60);\n",
    "plt.xlabel(\"Годы\");\n",
    "plt.ylabel(\"Суммарный объем продаж\");\n",
    "plt.grid(True)\n",
    "plt.show();"
   ]
  },
  {
   "cell_type": "markdown",
   "metadata": {},
   "source": [
    "На графике видны провалы. Возможно они сязаны с кризисными годами, в которые мало покупались игры."
   ]
  },
  {
   "cell_type": "code",
   "execution_count": 236,
   "metadata": {},
   "outputs": [
    {
     "data": {
      "text/html": [
       "<div>\n",
       "<style scoped>\n",
       "    .dataframe tbody tr th:only-of-type {\n",
       "        vertical-align: middle;\n",
       "    }\n",
       "\n",
       "    .dataframe tbody tr th {\n",
       "        vertical-align: top;\n",
       "    }\n",
       "\n",
       "    .dataframe thead th {\n",
       "        text-align: right;\n",
       "    }\n",
       "</style>\n",
       "<table border=\"1\" class=\"dataframe\">\n",
       "  <thead>\n",
       "    <tr style=\"text-align: right;\">\n",
       "      <th></th>\n",
       "      <th>platform</th>\n",
       "      <th>sales</th>\n",
       "    </tr>\n",
       "  </thead>\n",
       "  <tbody>\n",
       "    <tr>\n",
       "      <th>0</th>\n",
       "      <td>PS2</td>\n",
       "      <td>1255.77</td>\n",
       "    </tr>\n",
       "    <tr>\n",
       "      <th>1</th>\n",
       "      <td>X360</td>\n",
       "      <td>971.42</td>\n",
       "    </tr>\n",
       "    <tr>\n",
       "      <th>2</th>\n",
       "      <td>PS3</td>\n",
       "      <td>939.65</td>\n",
       "    </tr>\n",
       "    <tr>\n",
       "      <th>3</th>\n",
       "      <td>Wii</td>\n",
       "      <td>907.51</td>\n",
       "    </tr>\n",
       "    <tr>\n",
       "      <th>4</th>\n",
       "      <td>DS</td>\n",
       "      <td>806.12</td>\n",
       "    </tr>\n",
       "    <tr>\n",
       "      <th>5</th>\n",
       "      <td>PS</td>\n",
       "      <td>730.86</td>\n",
       "    </tr>\n",
       "    <tr>\n",
       "      <th>6</th>\n",
       "      <td>GBA</td>\n",
       "      <td>317.85</td>\n",
       "    </tr>\n",
       "    <tr>\n",
       "      <th>7</th>\n",
       "      <td>PS4</td>\n",
       "      <td>314.14</td>\n",
       "    </tr>\n",
       "    <tr>\n",
       "      <th>8</th>\n",
       "      <td>PSP</td>\n",
       "      <td>294.05</td>\n",
       "    </tr>\n",
       "    <tr>\n",
       "      <th>9</th>\n",
       "      <td>PC</td>\n",
       "      <td>259.52</td>\n",
       "    </tr>\n",
       "  </tbody>\n",
       "</table>\n",
       "</div>"
      ],
      "text/plain": [
       "  platform    sales\n",
       "0      PS2  1255.77\n",
       "1     X360   971.42\n",
       "2      PS3   939.65\n",
       "3      Wii   907.51\n",
       "4       DS   806.12\n",
       "5       PS   730.86\n",
       "6      GBA   317.85\n",
       "7      PS4   314.14\n",
       "8      PSP   294.05\n",
       "9       PC   259.52"
      ]
     },
     "execution_count": 236,
     "metadata": {},
     "output_type": "execute_result"
    }
   ],
   "source": [
    "# Какие платформы были наиболее успешными:\n",
    "data_platform_top = data.groupby('platform').agg(sales=('total_sales', 'sum')).\\\n",
    "                    sort_values(by='sales',ascending=False).reset_index()\n",
    "data_platform_top[:10]"
   ]
  },
  {
   "cell_type": "markdown",
   "metadata": {},
   "source": [
    "По датафрейму видно, на какий платформе больше всего выпускалось игр. И почему вторая плойка стала легендой."
   ]
  },
  {
   "cell_type": "markdown",
   "metadata": {},
   "source": [
    "### Прибыльность платформ"
   ]
  },
  {
   "cell_type": "code",
   "execution_count": 237,
   "metadata": {},
   "outputs": [
    {
     "data": {
      "text/html": [
       "<div>\n",
       "<style scoped>\n",
       "    .dataframe tbody tr th:only-of-type {\n",
       "        vertical-align: middle;\n",
       "    }\n",
       "\n",
       "    .dataframe tbody tr th {\n",
       "        vertical-align: top;\n",
       "    }\n",
       "\n",
       "    .dataframe thead th {\n",
       "        text-align: right;\n",
       "    }\n",
       "</style>\n",
       "<table border=\"1\" class=\"dataframe\">\n",
       "  <thead>\n",
       "    <tr style=\"text-align: right;\">\n",
       "      <th></th>\n",
       "      <th>platform</th>\n",
       "      <th>sales</th>\n",
       "    </tr>\n",
       "  </thead>\n",
       "  <tbody>\n",
       "    <tr>\n",
       "      <th>0</th>\n",
       "      <td>PS4</td>\n",
       "      <td>314.14</td>\n",
       "    </tr>\n",
       "    <tr>\n",
       "      <th>1</th>\n",
       "      <td>PS3</td>\n",
       "      <td>288.79</td>\n",
       "    </tr>\n",
       "    <tr>\n",
       "      <th>2</th>\n",
       "      <td>X360</td>\n",
       "      <td>236.54</td>\n",
       "    </tr>\n",
       "    <tr>\n",
       "      <th>3</th>\n",
       "      <td>3DS</td>\n",
       "      <td>195.80</td>\n",
       "    </tr>\n",
       "    <tr>\n",
       "      <th>4</th>\n",
       "      <td>XOne</td>\n",
       "      <td>159.32</td>\n",
       "    </tr>\n",
       "    <tr>\n",
       "      <th>5</th>\n",
       "      <td>WiiU</td>\n",
       "      <td>82.19</td>\n",
       "    </tr>\n",
       "    <tr>\n",
       "      <th>6</th>\n",
       "      <td>PC</td>\n",
       "      <td>62.65</td>\n",
       "    </tr>\n",
       "    <tr>\n",
       "      <th>7</th>\n",
       "      <td>PSV</td>\n",
       "      <td>49.44</td>\n",
       "    </tr>\n",
       "    <tr>\n",
       "      <th>8</th>\n",
       "      <td>Wii</td>\n",
       "      <td>35.37</td>\n",
       "    </tr>\n",
       "    <tr>\n",
       "      <th>9</th>\n",
       "      <td>DS</td>\n",
       "      <td>12.55</td>\n",
       "    </tr>\n",
       "  </tbody>\n",
       "</table>\n",
       "</div>"
      ],
      "text/plain": [
       "  platform   sales\n",
       "0      PS4  314.14\n",
       "1      PS3  288.79\n",
       "2     X360  236.54\n",
       "3      3DS  195.80\n",
       "4     XOne  159.32\n",
       "5     WiiU   82.19\n",
       "6       PC   62.65\n",
       "7      PSV   49.44\n",
       "8      Wii   35.37\n",
       "9       DS   12.55"
      ]
     },
     "execution_count": 237,
     "metadata": {},
     "output_type": "execute_result"
    }
   ],
   "source": [
    "# Выберем наиболее прибыльные платформы. Прибыльность будем определять по тотал-сале. \n",
    "\n",
    "#оставляем данныетолько за 2012-2016 годы\n",
    "data_new = data.query('year_of_release > 2011')\n",
    "\n",
    "data_new_sales = data_new.groupby('platform').agg(sales=('total_sales', 'sum')).\\\n",
    "                sort_values(by='sales',ascending=False).reset_index()\n",
    "data_new_sales[:10]"
   ]
  },
  {
   "cell_type": "markdown",
   "metadata": {},
   "source": [
    "Здесь видно, что платформы от Sony находятся в авангарде."
   ]
  },
  {
   "cell_type": "code",
   "execution_count": 238,
   "metadata": {},
   "outputs": [
    {
     "name": "stdout",
     "output_type": "stream",
     "text": [
      "PS4\n",
      "    year_of_release   sales\n",
      "17             2013   25.99\n",
      "18             2014  100.00\n",
      "19             2015  118.90\n",
      "20             2016   69.25\n",
      "---------------------------\n",
      "PS3\n",
      "    year_of_release   sales\n",
      "12             2012  107.36\n",
      "13             2013  113.25\n",
      "14             2014   47.76\n",
      "15             2015   16.82\n",
      "16             2016    3.60\n",
      "---------------------------\n",
      "X360\n",
      "    year_of_release  sales\n",
      "40             2012  99.74\n",
      "41             2013  88.58\n",
      "42             2014  34.74\n",
      "43             2015  11.96\n",
      "44             2016   1.52\n",
      "---------------------------\n",
      "3DS\n",
      "   year_of_release  sales\n",
      "0             2012  51.36\n",
      "1             2013  57.76\n",
      "2             2014  43.76\n",
      "3             2015  27.78\n",
      "4             2016  15.14\n",
      "---------------------------\n",
      "XOne\n",
      "    year_of_release  sales\n",
      "45             2013  18.96\n",
      "46             2014  54.07\n",
      "47             2015  60.14\n",
      "48             2016  26.15\n",
      "---------------------------\n",
      "WiiU\n",
      "    year_of_release  sales\n",
      "35             2012  17.56\n",
      "36             2013  21.65\n",
      "37             2014  22.03\n",
      "38             2015  16.35\n",
      "39             2016   4.60\n",
      "---------------------------\n",
      "PC\n",
      "    year_of_release  sales\n",
      "7              2012  23.22\n",
      "8              2013  12.38\n",
      "9              2014  13.28\n",
      "10             2015   8.52\n",
      "11             2016   5.25\n",
      "---------------------------\n",
      "PSV\n",
      "    year_of_release  sales\n",
      "25             2012  16.19\n",
      "26             2013  10.59\n",
      "27             2014  12.16\n",
      "28             2015   6.25\n",
      "29             2016   4.25\n",
      "---------------------------\n",
      "Wii\n",
      "    year_of_release  sales\n",
      "30             2012  21.71\n",
      "31             2013   8.59\n",
      "32             2014   3.75\n",
      "33             2015   1.14\n",
      "34             2016   0.18\n",
      "---------------------------\n",
      "DS\n",
      "   year_of_release  sales\n",
      "5             2012  11.01\n",
      "6             2013   1.54\n",
      "---------------------------\n",
      "PSP\n",
      "    year_of_release  sales\n",
      "21             2012   7.69\n",
      "22             2013   3.14\n",
      "23             2014   0.24\n",
      "24             2015   0.12\n",
      "---------------------------\n"
     ]
    }
   ],
   "source": [
    "# посмотрим, какие платформы являются перспективными из авангардных\n",
    "\n",
    "data_new_platform=data_new.groupby(['platform','year_of_release']).agg(sales=('total_sales', 'sum')).reset_index()\n",
    "data_new_top=data_new_sales[:11]\n",
    "\n",
    "for platform in data_new_top['platform'].unique():\n",
    "    data_plat=data_new_platform[data_new_platform['platform'] == platform].drop('platform', axis=1)\n",
    "    print(platform)\n",
    "    print(data_plat)\n",
    "    print('---------------------------')"
   ]
  },
  {
   "cell_type": "markdown",
   "metadata": {},
   "source": [
    "Очевидно, что потенциальный рост возможен у платформ последнего поколения (без ПК-бояр). С таким относится четвертая плойка и Экс-уан.\n",
    "Очень расстраивает ПК =("
   ]
  },
  {
   "cell_type": "markdown",
   "metadata": {},
   "source": [
    "### Ящики с усами по глобальным продажам игр в разбивке по платформам"
   ]
  },
  {
   "cell_type": "code",
   "execution_count": 239,
   "metadata": {
    "scrolled": true
   },
   "outputs": [
    {
     "data": {
      "image/png": "[encoded data removed]",
      "text/plain": [
       "<Figure size 864x720 with 1 Axes>"
      ]
     },
     "metadata": {
      "needs_background": "light"
     },
     "output_type": "display_data"
    }
   ],
   "source": [
    "# Построим ящик с усами и проанализируем его:\n",
    "data_new.head()\n",
    "data_platform_sales=data_new.groupby(['platform','name']).agg(sales=('total_sales','sum')).reset_index()\n",
    "\n",
    "plt.figure(figsize=(12, 10));\n",
    "ax=sns.boxplot(x = data_platform_sales[\"platform\"], y = data_platform_sales[\"sales\"] )\n",
    "ax.set(ylim=(0,1))\n",
    "\n",
    "plt.xlabel(\"Платформы\");\n",
    "plt.ylabel(\"Объем продаж по играм, млн. копий\");\n",
    "plt.title('Распределение продаж игр по платформам')\n",
    "plt.show();"
   ]
  },
  {
   "cell_type": "markdown",
   "metadata": {},
   "source": [
    "Вывоод: по 75% квантилю видно, что наиболее дорогой является платформа x360. \n",
    "Приимерно одинаковые показатели получаются у XOne, Wii, PS4. Очень дорогие тайтлы есть у многих платформ."
   ]
  },
  {
   "cell_type": "code",
   "execution_count": 240,
   "metadata": {},
   "outputs": [
    {
     "data": {
      "image/png": "[encoded data removed]",
      "text/plain": [
       "<Figure size 864x720 with 1 Axes>"
      ]
     },
     "metadata": {
      "needs_background": "light"
     },
     "output_type": "display_data"
    }
   ],
   "source": [
    "# Построим боксплот, чтобы посмотреть максимальные значения суммы. Будет плохо видно, что получем представление.\n",
    "data_new.head()\n",
    "data_platform_sales=data_new.groupby(['platform','name']).agg(sales=('total_sales','sum')).reset_index()\n",
    "\n",
    "plt.figure(figsize=(12, 10));\n",
    "ax=sns.boxplot(x = data_platform_sales[\"platform\"], y = data_platform_sales[\"sales\"] )\n",
    "ax.set()\n",
    "\n",
    "plt.xlabel(\"Платформы\");\n",
    "plt.ylabel(\"Объем продаж по играм, млн. копий\");\n",
    "plt.title('Распределение продаж игр по платформам')\n",
    "plt.show();"
   ]
  },
  {
   "cell_type": "markdown",
   "metadata": {},
   "source": [
    "### Влияение на продажи внутри одной популярной платформы отзывы пользователей и критиков."
   ]
  },
  {
   "cell_type": "markdown",
   "metadata": {},
   "source": [
    "Рассмотрим продажи на примере платформы MS XOne."
   ]
  },
  {
   "cell_type": "code",
   "execution_count": 241,
   "metadata": {
    "scrolled": true
   },
   "outputs": [
    {
     "data": {
      "text/html": [
       "<div>\n",
       "<style scoped>\n",
       "    .dataframe tbody tr th:only-of-type {\n",
       "        vertical-align: middle;\n",
       "    }\n",
       "\n",
       "    .dataframe tbody tr th {\n",
       "        vertical-align: top;\n",
       "    }\n",
       "\n",
       "    .dataframe thead th {\n",
       "        text-align: right;\n",
       "    }\n",
       "</style>\n",
       "<table border=\"1\" class=\"dataframe\">\n",
       "  <thead>\n",
       "    <tr style=\"text-align: right;\">\n",
       "      <th></th>\n",
       "      <th>name</th>\n",
       "      <th>platform</th>\n",
       "      <th>year_of_release</th>\n",
       "      <th>genre</th>\n",
       "      <th>na_sales</th>\n",
       "      <th>eu_sales</th>\n",
       "      <th>jp_sales</th>\n",
       "      <th>other_sales</th>\n",
       "      <th>critic_score</th>\n",
       "      <th>user_score</th>\n",
       "      <th>rating</th>\n",
       "      <th>total_sales</th>\n",
       "    </tr>\n",
       "  </thead>\n",
       "  <tbody>\n",
       "    <tr>\n",
       "      <th>99</th>\n",
       "      <td>Call of Duty: Black Ops 3</td>\n",
       "      <td>XOne</td>\n",
       "      <td>2015</td>\n",
       "      <td>Shooter</td>\n",
       "      <td>4.59</td>\n",
       "      <td>2.11</td>\n",
       "      <td>0.01</td>\n",
       "      <td>0.68</td>\n",
       "      <td>NaN</td>\n",
       "      <td>NaN</td>\n",
       "      <td>na</td>\n",
       "      <td>7.39</td>\n",
       "    </tr>\n",
       "    <tr>\n",
       "      <th>165</th>\n",
       "      <td>Grand Theft Auto V</td>\n",
       "      <td>XOne</td>\n",
       "      <td>2014</td>\n",
       "      <td>Action</td>\n",
       "      <td>2.81</td>\n",
       "      <td>2.19</td>\n",
       "      <td>0.00</td>\n",
       "      <td>0.47</td>\n",
       "      <td>97.0</td>\n",
       "      <td>7.9</td>\n",
       "      <td>M</td>\n",
       "      <td>5.47</td>\n",
       "    </tr>\n",
       "    <tr>\n",
       "      <th>179</th>\n",
       "      <td>Call of Duty: Advanced Warfare</td>\n",
       "      <td>XOne</td>\n",
       "      <td>2014</td>\n",
       "      <td>Shooter</td>\n",
       "      <td>3.22</td>\n",
       "      <td>1.55</td>\n",
       "      <td>0.01</td>\n",
       "      <td>0.48</td>\n",
       "      <td>81.0</td>\n",
       "      <td>5.4</td>\n",
       "      <td>M</td>\n",
       "      <td>5.26</td>\n",
       "    </tr>\n",
       "    <tr>\n",
       "      <th>242</th>\n",
       "      <td>Halo 5: Guardians</td>\n",
       "      <td>XOne</td>\n",
       "      <td>2015</td>\n",
       "      <td>Shooter</td>\n",
       "      <td>2.78</td>\n",
       "      <td>1.27</td>\n",
       "      <td>0.03</td>\n",
       "      <td>0.41</td>\n",
       "      <td>84.0</td>\n",
       "      <td>6.4</td>\n",
       "      <td>T</td>\n",
       "      <td>4.49</td>\n",
       "    </tr>\n",
       "    <tr>\n",
       "      <th>270</th>\n",
       "      <td>Fallout 4</td>\n",
       "      <td>XOne</td>\n",
       "      <td>2015</td>\n",
       "      <td>Role-Playing</td>\n",
       "      <td>2.51</td>\n",
       "      <td>1.32</td>\n",
       "      <td>0.01</td>\n",
       "      <td>0.38</td>\n",
       "      <td>88.0</td>\n",
       "      <td>6.2</td>\n",
       "      <td>M</td>\n",
       "      <td>4.22</td>\n",
       "    </tr>\n",
       "  </tbody>\n",
       "</table>\n",
       "</div>"
      ],
      "text/plain": [
       "                               name platform  year_of_release         genre  \\\n",
       "99        Call of Duty: Black Ops 3     XOne             2015       Shooter   \n",
       "165              Grand Theft Auto V     XOne             2014        Action   \n",
       "179  Call of Duty: Advanced Warfare     XOne             2014       Shooter   \n",
       "242               Halo 5: Guardians     XOne             2015       Shooter   \n",
       "270                       Fallout 4     XOne             2015  Role-Playing   \n",
       "\n",
       "     na_sales  eu_sales  jp_sales  other_sales  critic_score  user_score  \\\n",
       "99       4.59      2.11      0.01         0.68           NaN         NaN   \n",
       "165      2.81      2.19      0.00         0.47          97.0         7.9   \n",
       "179      3.22      1.55      0.01         0.48          81.0         5.4   \n",
       "242      2.78      1.27      0.03         0.41          84.0         6.4   \n",
       "270      2.51      1.32      0.01         0.38          88.0         6.2   \n",
       "\n",
       "    rating  total_sales  \n",
       "99      na         7.39  \n",
       "165      M         5.47  \n",
       "179      M         5.26  \n",
       "242      T         4.49  \n",
       "270      M         4.22  "
      ]
     },
     "execution_count": 241,
     "metadata": {},
     "output_type": "execute_result"
    }
   ],
   "source": [
    "#делаем срез по платформе XOne\n",
    "data_one = data_new.query('platform == \"XOne\"')\n",
    "data_one.head()"
   ]
  },
  {
   "cell_type": "code",
   "execution_count": 242,
   "metadata": {},
   "outputs": [
    {
     "name": "stdout",
     "output_type": "stream",
     "text": [
      "Корреляция глобальных продаж и отзывов критиков: 0.42\n"
     ]
    }
   ],
   "source": [
    "# Посмотрим корреляцию общих продаж и отзывов купленных критиков\n",
    "print('Корреляция глобальных продаж и отзывов критиков:', \n",
    "      '{:.2f}'\n",
    "      .format(data_one['total_sales']\n",
    "    .corr(data_one['critic_score'])))"
   ]
  },
  {
   "cell_type": "code",
   "execution_count": 243,
   "metadata": {},
   "outputs": [
    {
     "data": {
      "image/png": "[encoded data removed]",
      "text/plain": [
       "<Figure size 432x288 with 1 Axes>"
      ]
     },
     "metadata": {
      "needs_background": "light"
     },
     "output_type": "display_data"
    }
   ],
   "source": [
    "data_one.plot(x='critic_score', \n",
    "              y='total_sales',\n",
    "              kind='scatter',\n",
    "              alpha=0.3,\n",
    "              c = 'b',\n",
    "              s = 20);\n",
    "plt.xlabel('Оценка критиков'); \n",
    "plt.ylabel('Глобальные продажи, млн. копий');\n",
    "plt.title('Зависимость продаж от отзывов критиков\\n');\n",
    "plt.show();"
   ]
  },
  {
   "cell_type": "code",
   "execution_count": 244,
   "metadata": {},
   "outputs": [
    {
     "name": "stdout",
     "output_type": "stream",
     "text": [
      "\n",
      "Корреляция глобальных продаж и отзывов пользователей: -0.07\n"
     ]
    }
   ],
   "source": [
    "#смотрим взаимосвязть продаж и оценок пользователей\n",
    "print('\\nКорреляция глобальных продаж и отзывов пользователей:', \n",
    "      '{:.2f}'.format(data_one['total_sales'].corr(data_one['user_score'])))"
   ]
  },
  {
   "cell_type": "code",
   "execution_count": 245,
   "metadata": {},
   "outputs": [
    {
     "data": {
      "image/png": "[encoded data removed]",
      "text/plain": [
       "<Figure size 432x288 with 1 Axes>"
      ]
     },
     "metadata": {
      "needs_background": "light"
     },
     "output_type": "display_data"
    }
   ],
   "source": [
    "data_one.plot(x='user_score', y='total_sales', kind='scatter', alpha=0.3, c = 'b', s = 20);\n",
    "plt.xlabel('Оценка пользователей');\n",
    "plt.ylabel('Глобальные продажи, млн. копий');\n",
    "plt.title('Зависимость продаж от отзывов пользователей\\n');"
   ]
  },
  {
   "cell_type": "markdown",
   "metadata": {},
   "source": [
    "Выводы: "
   ]
  },
  {
   "cell_type": "code",
   "execution_count": 246,
   "metadata": {
    "scrolled": true
   },
   "outputs": [
    {
     "data": {
      "text/html": [
       "<style  type=\"text/css\" >\n",
       "</style><table id=\"T_56a14_\" ><thead>    <tr>        <th class=\"blank level0\" ></th>        <th class=\"col_heading level0 col0\" >critic_corr</th>        <th class=\"col_heading level0 col1\" >user_corr</th>        <th class=\"col_heading level0 col2\" >critic_count</th>        <th class=\"col_heading level0 col3\" >user_count</th>    </tr>    <tr>        <th class=\"index_name level0\" >platform</th>        <th class=\"blank\" ></th>        <th class=\"blank\" ></th>        <th class=\"blank\" ></th>        <th class=\"blank\" ></th>    </tr></thead><tbody>\n",
       "                <tr>\n",
       "                        <th id=\"T_56a14_level0_row0\" class=\"row_heading level0 row0\" >3DS</th>\n",
       "                        <td id=\"T_56a14_row0_col0\" class=\"data row0 col0\" >0.32</td>\n",
       "                        <td id=\"T_56a14_row0_col1\" class=\"data row0 col1\" >0.20</td>\n",
       "                        <td id=\"T_56a14_row0_col2\" class=\"data row0 col2\" >106</td>\n",
       "                        <td id=\"T_56a14_row0_col3\" class=\"data row0 col3\" >117</td>\n",
       "            </tr>\n",
       "            <tr>\n",
       "                        <th id=\"T_56a14_level0_row1\" class=\"row_heading level0 row1\" >DS</th>\n",
       "                        <td id=\"T_56a14_row1_col0\" class=\"data row1 col0\" >nan</td>\n",
       "                        <td id=\"T_56a14_row1_col1\" class=\"data row1 col1\" >0.88</td>\n",
       "                        <td id=\"T_56a14_row1_col2\" class=\"data row1 col2\" >1</td>\n",
       "                        <td id=\"T_56a14_row1_col3\" class=\"data row1 col3\" >3</td>\n",
       "            </tr>\n",
       "            <tr>\n",
       "                        <th id=\"T_56a14_level0_row2\" class=\"row_heading level0 row2\" >PC</th>\n",
       "                        <td id=\"T_56a14_row2_col0\" class=\"data row2 col0\" >0.24</td>\n",
       "                        <td id=\"T_56a14_row2_col1\" class=\"data row2 col1\" >-0.12</td>\n",
       "                        <td id=\"T_56a14_row2_col2\" class=\"data row2 col2\" >198</td>\n",
       "                        <td id=\"T_56a14_row2_col3\" class=\"data row2 col3\" >206</td>\n",
       "            </tr>\n",
       "            <tr>\n",
       "                        <th id=\"T_56a14_level0_row3\" class=\"row_heading level0 row3\" >PS3</th>\n",
       "                        <td id=\"T_56a14_row3_col0\" class=\"data row3 col0\" >0.33</td>\n",
       "                        <td id=\"T_56a14_row3_col1\" class=\"data row3 col1\" >-0.01</td>\n",
       "                        <td id=\"T_56a14_row3_col2\" class=\"data row3 col2\" >214</td>\n",
       "                        <td id=\"T_56a14_row3_col3\" class=\"data row3 col3\" >283</td>\n",
       "            </tr>\n",
       "            <tr>\n",
       "                        <th id=\"T_56a14_level0_row4\" class=\"row_heading level0 row4\" >PS4</th>\n",
       "                        <td id=\"T_56a14_row4_col0\" class=\"data row4 col0\" >0.41</td>\n",
       "                        <td id=\"T_56a14_row4_col1\" class=\"data row4 col1\" >-0.03</td>\n",
       "                        <td id=\"T_56a14_row4_col2\" class=\"data row4 col2\" >252</td>\n",
       "                        <td id=\"T_56a14_row4_col3\" class=\"data row4 col3\" >257</td>\n",
       "            </tr>\n",
       "            <tr>\n",
       "                        <th id=\"T_56a14_level0_row5\" class=\"row_heading level0 row5\" >PSP</th>\n",
       "                        <td id=\"T_56a14_row5_col0\" class=\"data row5 col0\" >nan</td>\n",
       "                        <td id=\"T_56a14_row5_col1\" class=\"data row5 col1\" >-0.80</td>\n",
       "                        <td id=\"T_56a14_row5_col2\" class=\"data row5 col2\" >1</td>\n",
       "                        <td id=\"T_56a14_row5_col3\" class=\"data row5 col3\" >4</td>\n",
       "            </tr>\n",
       "            <tr>\n",
       "                        <th id=\"T_56a14_level0_row6\" class=\"row_heading level0 row6\" >PSV</th>\n",
       "                        <td id=\"T_56a14_row6_col0\" class=\"data row6 col0\" >0.09</td>\n",
       "                        <td id=\"T_56a14_row6_col1\" class=\"data row6 col1\" >-0.00</td>\n",
       "                        <td id=\"T_56a14_row6_col2\" class=\"data row6 col2\" >108</td>\n",
       "                        <td id=\"T_56a14_row6_col3\" class=\"data row6 col3\" >131</td>\n",
       "            </tr>\n",
       "            <tr>\n",
       "                        <th id=\"T_56a14_level0_row7\" class=\"row_heading level0 row7\" >Wii</th>\n",
       "                        <td id=\"T_56a14_row7_col0\" class=\"data row7 col0\" >-0.42</td>\n",
       "                        <td id=\"T_56a14_row7_col1\" class=\"data row7 col1\" >0.30</td>\n",
       "                        <td id=\"T_56a14_row7_col2\" class=\"data row7 col2\" >5</td>\n",
       "                        <td id=\"T_56a14_row7_col3\" class=\"data row7 col3\" >17</td>\n",
       "            </tr>\n",
       "            <tr>\n",
       "                        <th id=\"T_56a14_level0_row8\" class=\"row_heading level0 row8\" >WiiU</th>\n",
       "                        <td id=\"T_56a14_row8_col0\" class=\"data row8 col0\" >0.35</td>\n",
       "                        <td id=\"T_56a14_row8_col1\" class=\"data row8 col1\" >0.40</td>\n",
       "                        <td id=\"T_56a14_row8_col2\" class=\"data row8 col2\" >90</td>\n",
       "                        <td id=\"T_56a14_row8_col3\" class=\"data row8 col3\" >100</td>\n",
       "            </tr>\n",
       "            <tr>\n",
       "                        <th id=\"T_56a14_level0_row9\" class=\"row_heading level0 row9\" >X360</th>\n",
       "                        <td id=\"T_56a14_row9_col0\" class=\"data row9 col0\" >0.36</td>\n",
       "                        <td id=\"T_56a14_row9_col1\" class=\"data row9 col1\" >0.01</td>\n",
       "                        <td id=\"T_56a14_row9_col2\" class=\"data row9 col2\" >171</td>\n",
       "                        <td id=\"T_56a14_row9_col3\" class=\"data row9 col3\" >235</td>\n",
       "            </tr>\n",
       "            <tr>\n",
       "                        <th id=\"T_56a14_level0_row10\" class=\"row_heading level0 row10\" >XOne</th>\n",
       "                        <td id=\"T_56a14_row10_col0\" class=\"data row10 col0\" >0.42</td>\n",
       "                        <td id=\"T_56a14_row10_col1\" class=\"data row10 col1\" >-0.07</td>\n",
       "                        <td id=\"T_56a14_row10_col2\" class=\"data row10 col2\" >169</td>\n",
       "                        <td id=\"T_56a14_row10_col3\" class=\"data row10 col3\" >182</td>\n",
       "            </tr>\n",
       "    </tbody></table>"
      ],
      "text/plain": [
       "<pandas.io.formats.style.Styler at 0x7fcc3a3c61f0>"
      ]
     },
     "metadata": {},
     "output_type": "display_data"
    }
   ],
   "source": [
    "data_platform_user=data_new.groupby('platform')['user_score'].count()\n",
    "data_platform_critic=data_new.groupby('platform')['critic_score'].count()\n",
    "data_platform=data_new.groupby('platform')[['critic_score', 'user_score', 'total_sales']].corr()\n",
    "\n",
    "data_platform = data_platform.rename_axis((\"platform\", \"corr_type\"))\n",
    "data_platform=data_platform.query('corr_type != \"critic_score\" & corr_type != \"user_score\"')\n",
    "data_platform=data_platform.drop(['total_sales'],axis=1)\n",
    "data_platform=data_platform.droplevel('corr_type')\n",
    "data_platform=data_platform.rename(columns={'critic_score':'critic_corr', 'user_score':'user_corr'})\n",
    "\n",
    "data_platform=data_platform.merge(data_platform_critic, on='platform',how='left')\n",
    "data_platform=data_platform.merge(data_platform_user, on='platform',how='left')\n",
    "data_platform=data_platform.rename(columns={'critic_score':'critic_count', 'user_score':'user_count'})\n",
    "\n",
    "display(data_platform.style.format({'critic_corr':'{:.2f}','user_corr':'{:.2f}'}))"
   ]
  },
  {
   "cell_type": "markdown",
   "metadata": {},
   "source": [
    "Не стоит рассматривать корреляцию с низкими количеством оценок (DS, PSP, Wii). Высокая / очень высокая корреляция отсутствуют"
   ]
  },
  {
   "cell_type": "markdown",
   "metadata": {},
   "source": [
    "### Общее распределение игр по жанрам. Что можно сказать о самых прибыльных жанрах? Выделяются ли жанры с высокими и низкими продажами?"
   ]
  },
  {
   "cell_type": "code",
   "execution_count": 247,
   "metadata": {},
   "outputs": [
    {
     "data": {
      "image/png": "[encoded data removed]",
      "text/plain": [
       "<Figure size 864x360 with 1 Axes>"
      ]
     },
     "metadata": {
      "needs_background": "light"
     },
     "output_type": "display_data"
    },
    {
     "data": {
      "image/png": "[encoded data removed]",
      "text/plain": [
       "<Figure size 864x360 with 1 Axes>"
      ]
     },
     "metadata": {
      "needs_background": "light"
     },
     "output_type": "display_data"
    },
    {
     "data": {
      "image/png": "[encoded data removed]",
      "text/plain": [
       "<Figure size 864x360 with 1 Axes>"
      ]
     },
     "metadata": {
      "needs_background": "light"
     },
     "output_type": "display_data"
    },
    {
     "data": {
      "image/png": "[encoded data removed]",
      "text/plain": [
       "<Figure size 864x360 with 1 Axes>"
      ]
     },
     "metadata": {
      "needs_background": "light"
     },
     "output_type": "display_data"
    }
   ],
   "source": [
    "func_list=['count','sum','max']\n",
    "title_list=['Распределение игр по жанрам\\n','Суммарные объемы продаж по жанрам\\n','Максимальные продажи по жанрам\\n']\n",
    "color_list=['lightsteelblue','thistle','lightcoral']\n",
    "for i in range(3):\n",
    "    data_genre=data_new.groupby('genre')['total_sales'].agg(func_list[i]).reset_index().sort_values('total_sales', ascending=False)\n",
    "    plt.figure(figsize=(12, 5));\n",
    "    sns.barplot(x=data_genre['genre'], y=data_genre['total_sales'], color=color_list[i])\n",
    "    plt.xlabel('Жанры');\n",
    "    plt.ylabel('Глобальные продажи, млн. копий');\n",
    "    plt.title(title_list[i]);\n",
    "    plt.xticks(rotation = 60);\n",
    "    plt.show();\n",
    "\n",
    "    \n",
    "# построим бокс-плот по жанрам    \n",
    "data_genre=data_new.groupby('genre')['total_sales'].median().reset_index().sort_values('total_sales', ascending=False)\n",
    "plt.figure(figsize=(12, 5));\n",
    "ax=sns.boxplot(x=data_new['genre'], y=data_new['total_sales'], color='red', )\n",
    "ax.set(ylim=(0,1.5))\n",
    "plt.xlabel('Жанры');\n",
    "plt.ylabel('Глобальные продажи, млн. копий');\n",
    "plt.title('Распределение объемов продаж по жанрам\\n');\n",
    "plt.xticks(rotation = 60);\n",
    "plt.show();"
   ]
  },
  {
   "cell_type": "markdown",
   "metadata": {},
   "source": [
    "Выводы:\n",
    "<br> Максимальные продажи приходится на Action. Елси брать медианное значение, то здесь максимум пришелся на Шутеры. "
   ]
  },
  {
   "cell_type": "markdown",
   "metadata": {},
   "source": [
    "## Портрет пользователя каждого региона"
   ]
  },
  {
   "cell_type": "markdown",
   "metadata": {},
   "source": [
    "### Топ платфом для определенных регионов"
   ]
  },
  {
   "cell_type": "markdown",
   "metadata": {},
   "source": [
    "#### Северная Америка"
   ]
  },
  {
   "cell_type": "code",
   "execution_count": 248,
   "metadata": {},
   "outputs": [
    {
     "data": {
      "text/html": [
       "<div>\n",
       "<style scoped>\n",
       "    .dataframe tbody tr th:only-of-type {\n",
       "        vertical-align: middle;\n",
       "    }\n",
       "\n",
       "    .dataframe tbody tr th {\n",
       "        vertical-align: top;\n",
       "    }\n",
       "\n",
       "    .dataframe thead th {\n",
       "        text-align: right;\n",
       "    }\n",
       "</style>\n",
       "<table border=\"1\" class=\"dataframe\">\n",
       "  <thead>\n",
       "    <tr style=\"text-align: right;\">\n",
       "      <th></th>\n",
       "      <th>platform</th>\n",
       "      <th>na_sales</th>\n",
       "    </tr>\n",
       "  </thead>\n",
       "  <tbody>\n",
       "    <tr>\n",
       "      <th>0</th>\n",
       "      <td>X360</td>\n",
       "      <td>140.05</td>\n",
       "    </tr>\n",
       "    <tr>\n",
       "      <th>1</th>\n",
       "      <td>PS4</td>\n",
       "      <td>108.74</td>\n",
       "    </tr>\n",
       "    <tr>\n",
       "      <th>2</th>\n",
       "      <td>PS3</td>\n",
       "      <td>103.38</td>\n",
       "    </tr>\n",
       "    <tr>\n",
       "      <th>3</th>\n",
       "      <td>XOne</td>\n",
       "      <td>93.12</td>\n",
       "    </tr>\n",
       "    <tr>\n",
       "      <th>4</th>\n",
       "      <td>3DS</td>\n",
       "      <td>56.15</td>\n",
       "    </tr>\n",
       "    <tr>\n",
       "      <th>11</th>\n",
       "      <td>другие</td>\n",
       "      <td>90.48</td>\n",
       "    </tr>\n",
       "  </tbody>\n",
       "</table>\n",
       "</div>"
      ],
      "text/plain": [
       "   platform  na_sales\n",
       "0      X360    140.05\n",
       "1       PS4    108.74\n",
       "2       PS3    103.38\n",
       "3      XOne     93.12\n",
       "4       3DS     56.15\n",
       "11   другие     90.48"
      ]
     },
     "execution_count": 248,
     "metadata": {},
     "output_type": "execute_result"
    }
   ],
   "source": [
    "data_na = data_new.groupby('platform')['na_sales'].sum().reset_index().\\\n",
    "                            sort_values('na_sales', ascending=False).reset_index(drop=True)\n",
    "data_na = data_na.append({'platform':'другие','na_sales': sum(data_na.loc[5:10,'na_sales'])}, ignore_index=True)\\\n",
    "                        .drop(index=[5,6,7,8,9,10])\n",
    "data_na"
   ]
  },
  {
   "cell_type": "markdown",
   "metadata": {},
   "source": [
    "#### Япония"
   ]
  },
  {
   "cell_type": "code",
   "execution_count": 249,
   "metadata": {},
   "outputs": [
    {
     "data": {
      "text/html": [
       "<div>\n",
       "<style scoped>\n",
       "    .dataframe tbody tr th:only-of-type {\n",
       "        vertical-align: middle;\n",
       "    }\n",
       "\n",
       "    .dataframe tbody tr th {\n",
       "        vertical-align: top;\n",
       "    }\n",
       "\n",
       "    .dataframe thead th {\n",
       "        text-align: right;\n",
       "    }\n",
       "</style>\n",
       "<table border=\"1\" class=\"dataframe\">\n",
       "  <thead>\n",
       "    <tr style=\"text-align: right;\">\n",
       "      <th></th>\n",
       "      <th>platform</th>\n",
       "      <th>jp_sales</th>\n",
       "    </tr>\n",
       "  </thead>\n",
       "  <tbody>\n",
       "    <tr>\n",
       "      <th>0</th>\n",
       "      <td>3DS</td>\n",
       "      <td>87.84</td>\n",
       "    </tr>\n",
       "    <tr>\n",
       "      <th>1</th>\n",
       "      <td>PS3</td>\n",
       "      <td>35.29</td>\n",
       "    </tr>\n",
       "    <tr>\n",
       "      <th>2</th>\n",
       "      <td>PSV</td>\n",
       "      <td>21.11</td>\n",
       "    </tr>\n",
       "    <tr>\n",
       "      <th>3</th>\n",
       "      <td>PS4</td>\n",
       "      <td>15.96</td>\n",
       "    </tr>\n",
       "    <tr>\n",
       "      <th>4</th>\n",
       "      <td>WiiU</td>\n",
       "      <td>13.01</td>\n",
       "    </tr>\n",
       "    <tr>\n",
       "      <th>11</th>\n",
       "      <td>другие</td>\n",
       "      <td>19.49</td>\n",
       "    </tr>\n",
       "  </tbody>\n",
       "</table>\n",
       "</div>"
      ],
      "text/plain": [
       "   platform  jp_sales\n",
       "0       3DS     87.84\n",
       "1       PS3     35.29\n",
       "2       PSV     21.11\n",
       "3       PS4     15.96\n",
       "4      WiiU     13.01\n",
       "11   другие     19.49"
      ]
     },
     "execution_count": 249,
     "metadata": {},
     "output_type": "execute_result"
    }
   ],
   "source": [
    "data_jp=data_new.groupby('platform')['jp_sales'].sum().reset_index().\\\n",
    "                            sort_values('jp_sales', ascending=False).reset_index(drop=True)\n",
    "data_jp=data_jp.append({'platform':'другие','jp_sales': sum(data_jp.loc[5:10,'jp_sales'])}, ignore_index=True)\\\n",
    "                        .drop(index=[5,6,7,8,9,10])\n",
    "\n",
    "data_jp"
   ]
  },
  {
   "cell_type": "markdown",
   "metadata": {},
   "source": [
    "#### Европа"
   ]
  },
  {
   "cell_type": "code",
   "execution_count": 250,
   "metadata": {},
   "outputs": [
    {
     "data": {
      "text/html": [
       "<div>\n",
       "<style scoped>\n",
       "    .dataframe tbody tr th:only-of-type {\n",
       "        vertical-align: middle;\n",
       "    }\n",
       "\n",
       "    .dataframe tbody tr th {\n",
       "        vertical-align: top;\n",
       "    }\n",
       "\n",
       "    .dataframe thead th {\n",
       "        text-align: right;\n",
       "    }\n",
       "</style>\n",
       "<table border=\"1\" class=\"dataframe\">\n",
       "  <thead>\n",
       "    <tr style=\"text-align: right;\">\n",
       "      <th></th>\n",
       "      <th>platform</th>\n",
       "      <th>eu_sales</th>\n",
       "    </tr>\n",
       "  </thead>\n",
       "  <tbody>\n",
       "    <tr>\n",
       "      <th>0</th>\n",
       "      <td>PS4</td>\n",
       "      <td>141.09</td>\n",
       "    </tr>\n",
       "    <tr>\n",
       "      <th>1</th>\n",
       "      <td>PS3</td>\n",
       "      <td>106.86</td>\n",
       "    </tr>\n",
       "    <tr>\n",
       "      <th>2</th>\n",
       "      <td>X360</td>\n",
       "      <td>74.52</td>\n",
       "    </tr>\n",
       "    <tr>\n",
       "      <th>3</th>\n",
       "      <td>XOne</td>\n",
       "      <td>51.59</td>\n",
       "    </tr>\n",
       "    <tr>\n",
       "      <th>4</th>\n",
       "      <td>3DS</td>\n",
       "      <td>42.85</td>\n",
       "    </tr>\n",
       "    <tr>\n",
       "      <th>11</th>\n",
       "      <td>другие</td>\n",
       "      <td>90.17</td>\n",
       "    </tr>\n",
       "  </tbody>\n",
       "</table>\n",
       "</div>"
      ],
      "text/plain": [
       "   platform  eu_sales\n",
       "0       PS4    141.09\n",
       "1       PS3    106.86\n",
       "2      X360     74.52\n",
       "3      XOne     51.59\n",
       "4       3DS     42.85\n",
       "11   другие     90.17"
      ]
     },
     "execution_count": 250,
     "metadata": {},
     "output_type": "execute_result"
    }
   ],
   "source": [
    "data_eu=data_new.groupby('platform')['eu_sales'].sum().reset_index().\\\n",
    "                            sort_values('eu_sales', ascending=False).reset_index(drop=True)\n",
    "data_eu=data_eu.append({'platform':'другие','eu_sales': sum(data_eu.loc[5:10,'eu_sales'])}, ignore_index=True)\\\n",
    "                        .drop(index=[5,6,7,8,9,10])\n",
    "data_eu"
   ]
  },
  {
   "cell_type": "markdown",
   "metadata": {},
   "source": [
    "Выводы:\n",
    "<br> Для указанных в задании стран топовые платформы отличаются по продажам.\n",
    "<br> Здесь все логично и не надо выдумывать. Япония любит Ниндендо 3ДС. Тут популярность связана с менталитетом и любовью к маленьким консолям.\n",
    "<br> Европа и Северная Америка. Там места много в квартирах - Майкрософт и Сони. Но благодаря ценовой политике Майкрософт обошла в продажах Сони. В Европе лидирует Сони."
   ]
  },
  {
   "cell_type": "markdown",
   "metadata": {},
   "source": [
    "### Топ5 популярных жанров"
   ]
  },
  {
   "cell_type": "markdown",
   "metadata": {},
   "source": [
    "#### Северная Америка"
   ]
  },
  {
   "cell_type": "code",
   "execution_count": 251,
   "metadata": {},
   "outputs": [
    {
     "data": {
      "text/html": [
       "<div>\n",
       "<style scoped>\n",
       "    .dataframe tbody tr th:only-of-type {\n",
       "        vertical-align: middle;\n",
       "    }\n",
       "\n",
       "    .dataframe tbody tr th {\n",
       "        vertical-align: top;\n",
       "    }\n",
       "\n",
       "    .dataframe thead th {\n",
       "        text-align: right;\n",
       "    }\n",
       "</style>\n",
       "<table border=\"1\" class=\"dataframe\">\n",
       "  <thead>\n",
       "    <tr style=\"text-align: right;\">\n",
       "      <th></th>\n",
       "      <th>genre</th>\n",
       "      <th>na_sales</th>\n",
       "    </tr>\n",
       "  </thead>\n",
       "  <tbody>\n",
       "    <tr>\n",
       "      <th>0</th>\n",
       "      <td>Action</td>\n",
       "      <td>178.02</td>\n",
       "    </tr>\n",
       "    <tr>\n",
       "      <th>1</th>\n",
       "      <td>Shooter</td>\n",
       "      <td>144.81</td>\n",
       "    </tr>\n",
       "    <tr>\n",
       "      <th>2</th>\n",
       "      <td>Sports</td>\n",
       "      <td>81.53</td>\n",
       "    </tr>\n",
       "    <tr>\n",
       "      <th>3</th>\n",
       "      <td>Role-Playing</td>\n",
       "      <td>64.11</td>\n",
       "    </tr>\n",
       "    <tr>\n",
       "      <th>4</th>\n",
       "      <td>Misc</td>\n",
       "      <td>38.19</td>\n",
       "    </tr>\n",
       "    <tr>\n",
       "      <th>12</th>\n",
       "      <td>другие</td>\n",
       "      <td>84.13</td>\n",
       "    </tr>\n",
       "  </tbody>\n",
       "</table>\n",
       "</div>"
      ],
      "text/plain": [
       "           genre  na_sales\n",
       "0         Action    178.02\n",
       "1        Shooter    144.81\n",
       "2         Sports     81.53\n",
       "3   Role-Playing     64.11\n",
       "4           Misc     38.19\n",
       "12        другие     84.13"
      ]
     },
     "execution_count": 251,
     "metadata": {},
     "output_type": "execute_result"
    }
   ],
   "source": [
    "data_na=data_new.groupby('genre')['na_sales'].sum().reset_index().\\\n",
    "                            sort_values('na_sales', ascending=False).reset_index(drop=True)\n",
    "data_na=data_na.append({'genre':'другие','na_sales': sum(data_na.loc[5:10,'na_sales'])}, ignore_index=True)\\\n",
    "                        .drop(index=[5,6,7,8,9,10,11])\n",
    "data_na"
   ]
  },
  {
   "cell_type": "markdown",
   "metadata": {},
   "source": [
    "#### Япония"
   ]
  },
  {
   "cell_type": "code",
   "execution_count": 252,
   "metadata": {},
   "outputs": [
    {
     "data": {
      "text/html": [
       "<div>\n",
       "<style scoped>\n",
       "    .dataframe tbody tr th:only-of-type {\n",
       "        vertical-align: middle;\n",
       "    }\n",
       "\n",
       "    .dataframe tbody tr th {\n",
       "        vertical-align: top;\n",
       "    }\n",
       "\n",
       "    .dataframe thead th {\n",
       "        text-align: right;\n",
       "    }\n",
       "</style>\n",
       "<table border=\"1\" class=\"dataframe\">\n",
       "  <thead>\n",
       "    <tr style=\"text-align: right;\">\n",
       "      <th></th>\n",
       "      <th>genre</th>\n",
       "      <th>jp_sales</th>\n",
       "    </tr>\n",
       "  </thead>\n",
       "  <tbody>\n",
       "    <tr>\n",
       "      <th>0</th>\n",
       "      <td>Role-Playing</td>\n",
       "      <td>65.54</td>\n",
       "    </tr>\n",
       "    <tr>\n",
       "      <th>1</th>\n",
       "      <td>Action</td>\n",
       "      <td>52.80</td>\n",
       "    </tr>\n",
       "    <tr>\n",
       "      <th>2</th>\n",
       "      <td>Misc</td>\n",
       "      <td>12.86</td>\n",
       "    </tr>\n",
       "    <tr>\n",
       "      <th>3</th>\n",
       "      <td>Simulation</td>\n",
       "      <td>10.41</td>\n",
       "    </tr>\n",
       "    <tr>\n",
       "      <th>4</th>\n",
       "      <td>Fighting</td>\n",
       "      <td>9.44</td>\n",
       "    </tr>\n",
       "    <tr>\n",
       "      <th>12</th>\n",
       "      <td>другие</td>\n",
       "      <td>39.51</td>\n",
       "    </tr>\n",
       "  </tbody>\n",
       "</table>\n",
       "</div>"
      ],
      "text/plain": [
       "           genre  jp_sales\n",
       "0   Role-Playing     65.54\n",
       "1         Action     52.80\n",
       "2           Misc     12.86\n",
       "3     Simulation     10.41\n",
       "4       Fighting      9.44\n",
       "12        другие     39.51"
      ]
     },
     "execution_count": 252,
     "metadata": {},
     "output_type": "execute_result"
    }
   ],
   "source": [
    "data_jp=data_new.groupby('genre')['jp_sales'].sum().reset_index().\\\n",
    "                            sort_values('jp_sales', ascending=False).reset_index(drop=True)\n",
    "data_jp=data_jp.append({'genre':'другие','jp_sales': sum(data_jp.loc[5:10,'jp_sales'])}, ignore_index=True)\\\n",
    "                        .drop(index=[5,6,7,8,9,10,11])\n",
    "data_jp"
   ]
  },
  {
   "cell_type": "markdown",
   "metadata": {},
   "source": [
    "#### Европа"
   ]
  },
  {
   "cell_type": "code",
   "execution_count": 253,
   "metadata": {},
   "outputs": [
    {
     "data": {
      "text/html": [
       "<div>\n",
       "<style scoped>\n",
       "    .dataframe tbody tr th:only-of-type {\n",
       "        vertical-align: middle;\n",
       "    }\n",
       "\n",
       "    .dataframe tbody tr th {\n",
       "        vertical-align: top;\n",
       "    }\n",
       "\n",
       "    .dataframe thead th {\n",
       "        text-align: right;\n",
       "    }\n",
       "</style>\n",
       "<table border=\"1\" class=\"dataframe\">\n",
       "  <thead>\n",
       "    <tr style=\"text-align: right;\">\n",
       "      <th></th>\n",
       "      <th>genre</th>\n",
       "      <th>eu_sales</th>\n",
       "    </tr>\n",
       "  </thead>\n",
       "  <tbody>\n",
       "    <tr>\n",
       "      <th>0</th>\n",
       "      <td>Action</td>\n",
       "      <td>159.53</td>\n",
       "    </tr>\n",
       "    <tr>\n",
       "      <th>1</th>\n",
       "      <td>Shooter</td>\n",
       "      <td>113.49</td>\n",
       "    </tr>\n",
       "    <tr>\n",
       "      <th>2</th>\n",
       "      <td>Sports</td>\n",
       "      <td>69.09</td>\n",
       "    </tr>\n",
       "    <tr>\n",
       "      <th>3</th>\n",
       "      <td>Role-Playing</td>\n",
       "      <td>48.58</td>\n",
       "    </tr>\n",
       "    <tr>\n",
       "      <th>4</th>\n",
       "      <td>Racing</td>\n",
       "      <td>27.29</td>\n",
       "    </tr>\n",
       "    <tr>\n",
       "      <th>12</th>\n",
       "      <td>другие</td>\n",
       "      <td>87.70</td>\n",
       "    </tr>\n",
       "  </tbody>\n",
       "</table>\n",
       "</div>"
      ],
      "text/plain": [
       "           genre  eu_sales\n",
       "0         Action    159.53\n",
       "1        Shooter    113.49\n",
       "2         Sports     69.09\n",
       "3   Role-Playing     48.58\n",
       "4         Racing     27.29\n",
       "12        другие     87.70"
      ]
     },
     "execution_count": 253,
     "metadata": {},
     "output_type": "execute_result"
    }
   ],
   "source": [
    "data_eu=data_new.groupby('genre')['eu_sales'].sum().reset_index().\\\n",
    "                            sort_values('eu_sales', ascending=False).reset_index(drop=True)\n",
    "data_eu=data_eu.append({'genre':'другие','eu_sales': sum(data_eu.loc[5:10,'eu_sales'])}, ignore_index=True)\\\n",
    "                        .drop(index=[5,6,7,8,9,10,11])\n",
    "data_eu"
   ]
  },
  {
   "cell_type": "markdown",
   "metadata": {},
   "source": [
    "Выводы\n",
    "<br>\n",
    "В Японии больше продаются именно RPG. Скорре всего в эту групп попадают как RPG, так и JRPG. Прохождение и подход к игре объясняется поговоркой - У самурая нет цели, есть только путь.\n",
    "<br> Америках и Европах все гораздо проще - Action!"
   ]
  },
  {
   "cell_type": "markdown",
   "metadata": {},
   "source": [
    "### Влияние рейтинга на продажи"
   ]
  },
  {
   "cell_type": "code",
   "execution_count": 254,
   "metadata": {},
   "outputs": [
    {
     "name": "stderr",
     "output_type": "stream",
     "text": [
      "/tmp/ipykernel_32/446216880.py:2: FutureWarning: Indexing with multiple keys (implicitly converted to a tuple of keys) will be deprecated, use a list instead.\n",
      "  data_esrb=data_new.groupby('rating')['na_sales','jp_sales','eu_sales'].sum().reset_index()\n"
     ]
    },
    {
     "data": {
      "image/png": "[encoded data removed]",
      "text/plain": [
       "<Figure size 1440x504 with 3 Axes>"
      ]
     },
     "metadata": {
      "needs_background": "light"
     },
     "output_type": "display_data"
    }
   ],
   "source": [
    "fig, ax= plt.subplots(1,3, figsize =(20, 7));\n",
    "data_esrb=data_new.groupby('rating')['na_sales','jp_sales','eu_sales'].sum().reset_index()\n",
    "\n",
    "sns.barplot(data=data_esrb,x='rating',y='na_sales',ax=ax[0])\n",
    "ax[0].set_title('Северная Америка\\n', fontsize=16);\n",
    "sns.barplot(data=data_esrb,x='rating',y='jp_sales',ax=ax[1])\n",
    "ax[1].set_title('Япония\\n', fontsize=16);\n",
    "sns.barplot(data=data_esrb,x='rating',y='eu_sales',ax=ax[2])\n",
    "ax[2].set_title('Европа\\n', fontsize=16);\n",
    "plt.show();"
   ]
  },
  {
   "cell_type": "markdown",
   "metadata": {},
   "source": [
    "По Японии сложно определить влияние рейтинга и продажи. По данному рейтингу данные отсутствуют. Если брать Европу и Америку, то здесь значительное преобладание рейтинга от 18 лет. Распраделение одинаковое."
   ]
  },
  {
   "cell_type": "markdown",
   "metadata": {},
   "source": [
    "## Проверка гипотез"
   ]
  },
  {
   "cell_type": "markdown",
   "metadata": {},
   "source": [
    "### Средние пользовательские рейтинги платформ Xbox One и PC одинаковые"
   ]
  },
  {
   "cell_type": "code",
   "execution_count": 255,
   "metadata": {},
   "outputs": [
    {
     "name": "stdout",
     "output_type": "stream",
     "text": [
      "\n",
      "Размер выборки по Xbox One: 182\n",
      "Размер выборки по PC: 206 \n",
      "\n",
      "\n",
      "p-значение: 0.5489537965134912\n",
      "Не получилось отвергнуть нулевую гипотезу\n",
      "\n"
     ]
    }
   ],
   "source": [
    "data_xone=data_new.query('platform == \"XOne\"')['user_score'].dropna()\n",
    "data_pc=data_new.query('platform == \"PC\"')['user_score'].dropna()\n",
    "\n",
    "print(\"\\nРазмер выборки по Xbox One:\", len(data_xone))\n",
    "print(\"Размер выборки по PC:\", len(data_pc), \"\\n\\n\")\n",
    "\n",
    "alpha = .05 # критический уровень статистической значимости\n",
    "\n",
    "results = scipy.stats.ttest_ind(data_xone, data_pc, equal_var=False)\n",
    "\n",
    "print('p-значение:', results.pvalue)\n",
    "\n",
    "if results.pvalue < alpha:\n",
    "    print(\"Отвергаем нулевую гипотезу\\n\")\n",
    "else:\n",
    "    print(\"Не получилось отвергнуть нулевую гипотезу\\n\") "
   ]
  },
  {
   "cell_type": "markdown",
   "metadata": {},
   "source": [
    "H0 -  средний пользовательский рейтинг платформы Xbox One равен среднему пользовательскому рейтингу платформы PC.\n",
    "<br>H1 - средний пользовательский рейтинг платформы Xbox One не равен среднему пользовательскому рейтингу платформы PC.\n",
    "<br>p-value взяли здесь 0,05. Учитывая, что не равно, то сохраняем значение равное 0,05.\n",
    "<br>ЗНачение получилось значительным. Значит нулевая гипотеза не отвергается (средний пользовательский рейтинг на платформе XOne равен ПК).           "
   ]
  },
  {
   "cell_type": "markdown",
   "metadata": {},
   "source": [
    "### Средние пользовательские рейтинги жанров Action (англ. «действие», экшен-игры) и Sports (англ. «спортивные соревнования») разные."
   ]
  },
  {
   "cell_type": "code",
   "execution_count": 256,
   "metadata": {},
   "outputs": [
    {
     "name": "stdout",
     "output_type": "stream",
     "text": [
      "\n",
      "Размер выборки по жанру Action: 524\n",
      "Размер выборки по жанру Sports: 195 \n",
      "\n",
      "\n",
      "p-значение: 4.305337670692197e-20\n",
      "Отвергаем нулевую гипотезу\n",
      "\n"
     ]
    }
   ],
   "source": [
    "data_action=data_new.query('genre == \"Action\"')['user_score'].dropna()\n",
    "data_sports=data_new.query('genre == \"Sports\"')['user_score'].dropna()\n",
    "\n",
    "print(\"\\nРазмер выборки по жанру Action:\", len(data_action))\n",
    "print(\"Размер выборки по жанру Sports:\", len(data_sports), \"\\n\\n\")\n",
    "\n",
    "alpha = .05 # критический уровень статистической значимости\n",
    "\n",
    "results =scipy.stats.ttest_ind(data_action, data_sports, equal_var=False)\n",
    "\n",
    "print('p-значение:', results.pvalue)\n",
    "\n",
    "if results.pvalue < alpha:\n",
    "    print(\"Отвергаем нулевую гипотезу\\n\")\n",
    "else:\n",
    "    print(\"Не получилось отвергнуть нулевую гипотезу\\n\") "
   ]
  },
  {
   "cell_type": "markdown",
   "metadata": {},
   "source": [
    "H0 -  средний пользовательский рейтинг жанра Action равен среднему пользовательскому рейтингу жанра Sports.\n",
    "<br> H1 - средний пользовательский рейтинг жанра Action не равен среднему пользовательскому рейтингу жанра Sports.\n",
    "<br>Значение p-value получилось очень низким (ниже заданного). Отвергаем нулевую гипотезу. Средний пользовательский рейтинг жанра Экшн не равер среднему по Спортсу."
   ]
  },
  {
   "cell_type": "markdown",
   "metadata": {},
   "source": [
    "## Выводы"
   ]
  },
  {
   "cell_type": "markdown",
   "metadata": {},
   "source": [
    "* Развитие игровой индустриии началось больше с 98 года. Рост игр был до кризисного 2008 год. \n",
    "* Лидерами по продажам являются консоли. Лидерами в впоследние годы являются PS и Xbox.\n",
    "* Переод жизни консоли примерно 5 лет. После этого выходят новые консоли от этих же производителей. В ПК ситуация иная.\n",
    "* Лидерами среди консолей являются флагманские коробки PS4 и XOne. Следующее поколение еще неуспело продать большой объем.\n",
    "* Отсутствует связть между скорами (как критиков, так и пользователей) с объемом продаж.\n",
    "* Портреты проданных игр в Америке и Европе похожи. В Японии отличаются.\n",
    "* На Японском рынке любили консоли Ниндендо в то время как Америке и Европе Сони и Майкрософт.\n",
    "* Средний пользовательский рейтинг платформы Xbox One равен среднему пользовательскому рейтингу платформы PC\n",
    "* Средний пользовательский рейтинг жанра Экшн не равер среднему по Спортсу."
   ]
  }
 ],
 "metadata": {
  "ExecuteTimeLog": [
   {
    "duration": 4,
    "start_time": "2022-10-01T13:08:15.195Z"
   },
   {
    "duration": 48,
    "start_time": "2022-10-01T13:08:35.952Z"
   },
   {
    "duration": 3,
    "start_time": "2022-10-01T13:08:42.137Z"
   },
   {
    "duration": 3,
    "start_time": "2022-10-01T13:09:53.350Z"
   },
   {
    "duration": 1400,
    "start_time": "2022-10-01T13:11:46.721Z"
   },
   {
    "duration": 2,
    "start_time": "2022-10-01T13:12:06.472Z"
   },
   {
    "duration": 76,
    "start_time": "2022-10-02T13:44:30.538Z"
   },
   {
    "duration": 92,
    "start_time": "2022-10-02T14:21:05.303Z"
   },
   {
    "duration": 39,
    "start_time": "2022-10-02T14:21:13.875Z"
   },
   {
    "duration": 1304,
    "start_time": "2022-10-02T14:21:21.230Z"
   },
   {
    "duration": 105,
    "start_time": "2022-10-02T14:21:24.645Z"
   },
   {
    "duration": 19,
    "start_time": "2022-10-02T14:21:54.816Z"
   },
   {
    "duration": 15,
    "start_time": "2022-10-02T14:22:52.867Z"
   },
   {
    "duration": 21,
    "start_time": "2022-10-02T14:41:21.200Z"
   },
   {
    "duration": 4,
    "start_time": "2022-10-02T14:47:26.509Z"
   },
   {
    "duration": 5,
    "start_time": "2022-10-02T14:49:50.572Z"
   },
   {
    "duration": 27,
    "start_time": "2022-10-02T14:51:42.554Z"
   },
   {
    "duration": 26,
    "start_time": "2022-10-02T14:52:57.974Z"
   },
   {
    "duration": 67,
    "start_time": "2022-10-02T14:58:38.066Z"
   },
   {
    "duration": 9,
    "start_time": "2022-10-02T14:59:15.719Z"
   },
   {
    "duration": 18,
    "start_time": "2022-10-02T14:59:45.811Z"
   },
   {
    "duration": 10,
    "start_time": "2022-10-02T14:59:59.343Z"
   },
   {
    "duration": 12,
    "start_time": "2022-10-02T15:00:11.522Z"
   },
   {
    "duration": 92,
    "start_time": "2022-10-02T15:00:32.524Z"
   },
   {
    "duration": 55,
    "start_time": "2022-10-02T15:01:38.270Z"
   },
   {
    "duration": 11,
    "start_time": "2022-10-02T15:02:41.125Z"
   },
   {
    "duration": 9,
    "start_time": "2022-10-02T15:03:12.548Z"
   },
   {
    "duration": 11,
    "start_time": "2022-10-02T15:04:13.113Z"
   },
   {
    "duration": 55,
    "start_time": "2022-10-02T15:04:20.372Z"
   },
   {
    "duration": 53,
    "start_time": "2022-10-02T15:04:30.348Z"
   },
   {
    "duration": 10,
    "start_time": "2022-10-02T15:12:32.728Z"
   },
   {
    "duration": 8,
    "start_time": "2022-10-02T15:12:38.746Z"
   },
   {
    "duration": 5,
    "start_time": "2022-10-02T15:15:00.088Z"
   },
   {
    "duration": 7,
    "start_time": "2022-10-02T15:15:15.194Z"
   },
   {
    "duration": 15,
    "start_time": "2022-10-02T15:15:34.152Z"
   },
   {
    "duration": 117,
    "start_time": "2022-10-02T15:15:37.555Z"
   },
   {
    "duration": 5,
    "start_time": "2022-10-02T15:15:41.665Z"
   },
   {
    "duration": 6,
    "start_time": "2022-10-02T15:16:17.343Z"
   },
   {
    "duration": 8,
    "start_time": "2022-10-02T15:19:52.489Z"
   },
   {
    "duration": 11,
    "start_time": "2022-10-02T15:20:11.616Z"
   },
   {
    "duration": 24,
    "start_time": "2022-10-02T15:20:25.166Z"
   },
   {
    "duration": 13,
    "start_time": "2022-10-02T15:21:01.794Z"
   },
   {
    "duration": 27,
    "start_time": "2022-10-02T15:21:31.170Z"
   },
   {
    "duration": 3,
    "start_time": "2022-10-02T18:33:33.342Z"
   },
   {
    "duration": 58,
    "start_time": "2022-10-02T18:33:33.346Z"
   },
   {
    "duration": 12,
    "start_time": "2022-10-02T18:33:33.406Z"
   },
   {
    "duration": 15,
    "start_time": "2022-10-02T18:33:33.420Z"
   },
   {
    "duration": 3,
    "start_time": "2022-10-02T18:33:33.437Z"
   },
   {
    "duration": 10,
    "start_time": "2022-10-02T18:33:33.442Z"
   },
   {
    "duration": 50,
    "start_time": "2022-10-02T18:33:33.453Z"
   },
   {
    "duration": 12,
    "start_time": "2022-10-02T18:33:33.506Z"
   },
   {
    "duration": 6,
    "start_time": "2022-10-02T18:33:33.520Z"
   },
   {
    "duration": 7,
    "start_time": "2022-10-02T18:33:33.539Z"
   },
   {
    "duration": 32,
    "start_time": "2022-10-02T18:33:33.548Z"
   },
   {
    "duration": 6,
    "start_time": "2022-10-02T18:40:17.450Z"
   },
   {
    "duration": 6,
    "start_time": "2022-10-02T18:46:39.396Z"
   },
   {
    "duration": 5,
    "start_time": "2022-10-02T18:46:47.567Z"
   },
   {
    "duration": 14,
    "start_time": "2022-10-02T18:47:46.180Z"
   },
   {
    "duration": 22,
    "start_time": "2022-10-02T18:52:37.613Z"
   },
   {
    "duration": 17,
    "start_time": "2022-10-02T18:53:18.931Z"
   },
   {
    "duration": 15,
    "start_time": "2022-10-02T18:57:57.606Z"
   },
   {
    "duration": 8,
    "start_time": "2022-10-02T18:59:45.586Z"
   },
   {
    "duration": 20,
    "start_time": "2022-10-02T18:59:59.668Z"
   },
   {
    "duration": 16,
    "start_time": "2022-10-02T19:00:29.210Z"
   },
   {
    "duration": 14,
    "start_time": "2022-10-02T19:00:41.570Z"
   },
   {
    "duration": 27,
    "start_time": "2022-10-02T19:02:59.042Z"
   },
   {
    "duration": 17,
    "start_time": "2022-10-02T19:03:15.777Z"
   },
   {
    "duration": 8,
    "start_time": "2022-10-02T19:03:43.678Z"
   },
   {
    "duration": 22,
    "start_time": "2022-10-02T19:03:50.255Z"
   },
   {
    "duration": 11,
    "start_time": "2022-10-02T19:05:54.688Z"
   },
   {
    "duration": 20,
    "start_time": "2022-10-02T19:05:59.948Z"
   },
   {
    "duration": 9,
    "start_time": "2022-10-02T19:06:09.225Z"
   },
   {
    "duration": 687,
    "start_time": "2022-10-02T19:08:01.431Z"
   },
   {
    "duration": 8,
    "start_time": "2022-10-02T19:08:40.454Z"
   },
   {
    "duration": 13,
    "start_time": "2022-10-02T19:08:57.840Z"
   },
   {
    "duration": 8,
    "start_time": "2022-10-02T19:09:05.881Z"
   },
   {
    "duration": 11,
    "start_time": "2022-10-02T19:09:14.846Z"
   },
   {
    "duration": 10,
    "start_time": "2022-10-02T19:09:23.680Z"
   },
   {
    "duration": 8,
    "start_time": "2022-10-02T19:09:37.884Z"
   },
   {
    "duration": 14,
    "start_time": "2022-10-02T19:10:33.756Z"
   },
   {
    "duration": 22,
    "start_time": "2022-10-02T19:11:07.098Z"
   },
   {
    "duration": 15,
    "start_time": "2022-10-02T19:11:14.671Z"
   },
   {
    "duration": 8,
    "start_time": "2022-10-02T19:14:01.717Z"
   },
   {
    "duration": 8,
    "start_time": "2022-10-02T19:14:55.603Z"
   },
   {
    "duration": 12,
    "start_time": "2022-10-02T19:15:44.928Z"
   },
   {
    "duration": 25,
    "start_time": "2022-10-02T19:17:51.325Z"
   },
   {
    "duration": 27,
    "start_time": "2022-10-02T19:18:00.369Z"
   },
   {
    "duration": 29,
    "start_time": "2022-10-02T19:18:05.529Z"
   },
   {
    "duration": 23,
    "start_time": "2022-10-02T19:18:18.391Z"
   },
   {
    "duration": 12,
    "start_time": "2022-10-02T19:19:17.776Z"
   },
   {
    "duration": 25,
    "start_time": "2022-10-02T19:20:14.072Z"
   },
   {
    "duration": 22,
    "start_time": "2022-10-02T19:20:23.281Z"
   },
   {
    "duration": 24,
    "start_time": "2022-10-02T19:21:45.501Z"
   },
   {
    "duration": 27,
    "start_time": "2022-10-02T19:21:56.157Z"
   },
   {
    "duration": 29,
    "start_time": "2022-10-02T19:22:41.703Z"
   },
   {
    "duration": 24,
    "start_time": "2022-10-02T19:22:54.403Z"
   },
   {
    "duration": 24,
    "start_time": "2022-10-02T19:23:17.810Z"
   },
   {
    "duration": 4,
    "start_time": "2022-10-02T19:25:27.807Z"
   },
   {
    "duration": 23,
    "start_time": "2022-10-02T19:30:13.347Z"
   },
   {
    "duration": 15,
    "start_time": "2022-10-02T19:41:58.231Z"
   },
   {
    "duration": 6,
    "start_time": "2022-10-02T19:42:46.915Z"
   },
   {
    "duration": 23,
    "start_time": "2022-10-02T19:48:56.443Z"
   },
   {
    "duration": 20,
    "start_time": "2022-10-02T19:49:42.337Z"
   },
   {
    "duration": 17,
    "start_time": "2022-10-02T19:51:05.987Z"
   },
   {
    "duration": 18,
    "start_time": "2022-10-02T19:52:27.146Z"
   },
   {
    "duration": 14,
    "start_time": "2022-10-02T19:54:31.712Z"
   },
   {
    "duration": 12,
    "start_time": "2022-10-02T19:55:39.419Z"
   },
   {
    "duration": 45,
    "start_time": "2022-10-02T19:55:44.155Z"
   },
   {
    "duration": 57,
    "start_time": "2022-10-02T19:55:56.983Z"
   },
   {
    "duration": 13,
    "start_time": "2022-10-02T19:56:04.253Z"
   },
   {
    "duration": 19,
    "start_time": "2022-10-02T19:58:36.036Z"
   },
   {
    "duration": 7,
    "start_time": "2022-10-02T20:02:15.896Z"
   },
   {
    "duration": 4,
    "start_time": "2022-10-02T20:02:19.160Z"
   },
   {
    "duration": 21,
    "start_time": "2022-10-02T20:02:26.499Z"
   },
   {
    "duration": 13,
    "start_time": "2022-10-02T20:03:24.156Z"
   },
   {
    "duration": 3,
    "start_time": "2022-10-02T20:03:32.357Z"
   },
   {
    "duration": 11,
    "start_time": "2022-10-02T20:04:02.369Z"
   },
   {
    "duration": 6,
    "start_time": "2022-10-02T20:04:55.938Z"
   },
   {
    "duration": 5,
    "start_time": "2022-10-02T20:05:02.440Z"
   },
   {
    "duration": 5,
    "start_time": "2022-10-02T20:05:24.557Z"
   },
   {
    "duration": 5,
    "start_time": "2022-10-02T20:06:22.535Z"
   },
   {
    "duration": 18,
    "start_time": "2022-10-02T20:07:11.934Z"
   },
   {
    "duration": 22,
    "start_time": "2022-10-02T20:10:07.281Z"
   },
   {
    "duration": 4,
    "start_time": "2022-10-02T20:15:03.464Z"
   },
   {
    "duration": 4,
    "start_time": "2022-10-02T20:16:26.298Z"
   },
   {
    "duration": 15,
    "start_time": "2022-10-02T20:16:53.772Z"
   },
   {
    "duration": 15,
    "start_time": "2022-10-02T20:17:49.486Z"
   },
   {
    "duration": 100,
    "start_time": "2022-10-02T20:19:11.791Z"
   },
   {
    "duration": 96,
    "start_time": "2022-10-02T20:19:47.013Z"
   },
   {
    "duration": 22,
    "start_time": "2022-10-02T20:21:07.884Z"
   },
   {
    "duration": 21,
    "start_time": "2022-10-02T20:21:28.396Z"
   },
   {
    "duration": 21,
    "start_time": "2022-10-02T20:21:37.784Z"
   },
   {
    "duration": 41,
    "start_time": "2022-10-02T20:22:02.760Z"
   },
   {
    "duration": 37,
    "start_time": "2022-10-02T20:22:22.492Z"
   },
   {
    "duration": 35,
    "start_time": "2022-10-02T20:22:31.533Z"
   },
   {
    "duration": 34,
    "start_time": "2022-10-02T20:22:47.320Z"
   },
   {
    "duration": 32,
    "start_time": "2022-10-02T20:22:53.765Z"
   },
   {
    "duration": 33,
    "start_time": "2022-10-02T20:23:32.514Z"
   },
   {
    "duration": 8,
    "start_time": "2022-10-02T20:23:41.727Z"
   },
   {
    "duration": 19,
    "start_time": "2022-10-02T20:23:46.813Z"
   },
   {
    "duration": 32,
    "start_time": "2022-10-02T20:23:56.916Z"
   },
   {
    "duration": 33,
    "start_time": "2022-10-02T20:24:06.532Z"
   },
   {
    "duration": 8,
    "start_time": "2022-10-02T20:24:13.065Z"
   },
   {
    "duration": 31,
    "start_time": "2022-10-02T20:25:05.587Z"
   },
   {
    "duration": 818,
    "start_time": "2022-10-02T20:26:02.175Z"
   },
   {
    "duration": 31,
    "start_time": "2022-10-02T20:26:07.595Z"
   },
   {
    "duration": 1264,
    "start_time": "2022-10-03T18:06:14.973Z"
   },
   {
    "duration": 468,
    "start_time": "2022-10-03T18:06:16.241Z"
   },
   {
    "duration": 20,
    "start_time": "2022-10-03T18:06:16.711Z"
   },
   {
    "duration": 15,
    "start_time": "2022-10-03T18:06:16.734Z"
   },
   {
    "duration": 4,
    "start_time": "2022-10-03T18:06:16.751Z"
   },
   {
    "duration": 6,
    "start_time": "2022-10-03T18:06:16.757Z"
   },
   {
    "duration": 14,
    "start_time": "2022-10-03T18:06:16.765Z"
   },
   {
    "duration": 60,
    "start_time": "2022-10-03T18:06:16.780Z"
   },
   {
    "duration": 78,
    "start_time": "2022-10-03T18:06:16.845Z"
   },
   {
    "duration": 6,
    "start_time": "2022-10-03T18:06:16.926Z"
   },
   {
    "duration": 13,
    "start_time": "2022-10-03T18:06:16.934Z"
   },
   {
    "duration": 35,
    "start_time": "2022-10-03T18:06:16.949Z"
   },
   {
    "duration": 5,
    "start_time": "2022-10-03T18:06:16.986Z"
   },
   {
    "duration": 32,
    "start_time": "2022-10-03T18:06:16.992Z"
   },
   {
    "duration": 18,
    "start_time": "2022-10-03T18:06:17.025Z"
   },
   {
    "duration": 38,
    "start_time": "2022-10-03T18:06:17.045Z"
   },
   {
    "duration": 38,
    "start_time": "2022-10-03T18:06:17.085Z"
   },
   {
    "duration": 25,
    "start_time": "2022-10-03T18:06:17.125Z"
   },
   {
    "duration": 15,
    "start_time": "2022-10-03T18:06:17.152Z"
   },
   {
    "duration": 29,
    "start_time": "2022-10-03T18:06:17.168Z"
   },
   {
    "duration": 29,
    "start_time": "2022-10-03T18:06:17.199Z"
   },
   {
    "duration": 6,
    "start_time": "2022-10-03T18:06:17.231Z"
   },
   {
    "duration": 14,
    "start_time": "2022-10-03T18:06:17.239Z"
   },
   {
    "duration": 9,
    "start_time": "2022-10-03T18:06:17.255Z"
   },
   {
    "duration": 7,
    "start_time": "2022-10-03T18:06:17.265Z"
   },
   {
    "duration": 19,
    "start_time": "2022-10-03T18:06:17.273Z"
   },
   {
    "duration": 31,
    "start_time": "2022-10-03T18:06:17.293Z"
   },
   {
    "duration": 46,
    "start_time": "2022-10-03T18:06:17.327Z"
   },
   {
    "duration": 91,
    "start_time": "2022-10-03T18:51:25.057Z"
   },
   {
    "duration": 13,
    "start_time": "2022-10-03T18:53:58.983Z"
   },
   {
    "duration": 13,
    "start_time": "2022-10-03T18:54:05.106Z"
   },
   {
    "duration": 17,
    "start_time": "2022-10-03T18:55:32.804Z"
   },
   {
    "duration": 3,
    "start_time": "2022-10-03T18:55:41.610Z"
   },
   {
    "duration": 17,
    "start_time": "2022-10-03T18:55:59.003Z"
   },
   {
    "duration": 24,
    "start_time": "2022-10-03T18:56:09.469Z"
   },
   {
    "duration": 14,
    "start_time": "2022-10-03T18:56:22.829Z"
   },
   {
    "duration": 13,
    "start_time": "2022-10-03T18:59:25.224Z"
   },
   {
    "duration": 40,
    "start_time": "2022-10-03T19:10:45.974Z"
   },
   {
    "duration": 31,
    "start_time": "2022-10-03T19:15:18.292Z"
   },
   {
    "duration": 29,
    "start_time": "2022-10-03T19:15:31.988Z"
   },
   {
    "duration": 29,
    "start_time": "2022-10-03T19:18:07.033Z"
   },
   {
    "duration": 27,
    "start_time": "2022-10-03T19:18:16.283Z"
   },
   {
    "duration": 29,
    "start_time": "2022-10-03T19:18:39.231Z"
   },
   {
    "duration": 29,
    "start_time": "2022-10-03T19:18:44.561Z"
   },
   {
    "duration": 31,
    "start_time": "2022-10-03T19:20:17.506Z"
   },
   {
    "duration": 28,
    "start_time": "2022-10-03T19:20:42.683Z"
   },
   {
    "duration": 15,
    "start_time": "2022-10-03T19:21:30.126Z"
   },
   {
    "duration": 14,
    "start_time": "2022-10-03T19:22:06.057Z"
   },
   {
    "duration": 1816,
    "start_time": "2022-10-03T19:23:12.732Z"
   },
   {
    "duration": 8,
    "start_time": "2022-10-03T19:24:05.574Z"
   },
   {
    "duration": 4,
    "start_time": "2022-10-03T19:25:44.997Z"
   },
   {
    "duration": 4,
    "start_time": "2022-10-03T19:26:32.551Z"
   },
   {
    "duration": 10,
    "start_time": "2022-10-03T19:28:16.978Z"
   },
   {
    "duration": 1808,
    "start_time": "2022-10-03T19:29:17.216Z"
   },
   {
    "duration": 8,
    "start_time": "2022-10-03T19:30:06.288Z"
   },
   {
    "duration": 1122,
    "start_time": "2022-10-03T19:30:11.754Z"
   },
   {
    "duration": 2103,
    "start_time": "2022-10-03T19:30:44.621Z"
   },
   {
    "duration": 8,
    "start_time": "2022-10-03T19:33:43.611Z"
   },
   {
    "duration": 97,
    "start_time": "2022-10-03T19:33:58.384Z"
   },
   {
    "duration": 99,
    "start_time": "2022-10-03T19:34:04.827Z"
   },
   {
    "duration": 9,
    "start_time": "2022-10-03T19:35:43.902Z"
   },
   {
    "duration": 107,
    "start_time": "2022-10-03T19:40:54.730Z"
   },
   {
    "duration": 19,
    "start_time": "2022-10-03T19:41:48.039Z"
   },
   {
    "duration": 5,
    "start_time": "2022-10-03T20:13:57.334Z"
   },
   {
    "duration": 53,
    "start_time": "2022-10-03T20:26:25.715Z"
   },
   {
    "duration": 50,
    "start_time": "2022-10-03T20:26:57.872Z"
   },
   {
    "duration": 5,
    "start_time": "2022-10-03T20:27:55.881Z"
   },
   {
    "duration": 15,
    "start_time": "2022-10-03T20:28:28.665Z"
   },
   {
    "duration": 317,
    "start_time": "2022-10-03T20:29:02.089Z"
   },
   {
    "duration": 11,
    "start_time": "2022-10-03T20:29:11.264Z"
   },
   {
    "duration": 305,
    "start_time": "2022-10-03T20:29:14.553Z"
   },
   {
    "duration": 18,
    "start_time": "2022-10-03T20:30:26.551Z"
   },
   {
    "duration": 9,
    "start_time": "2022-10-03T20:32:39.219Z"
   },
   {
    "duration": 9,
    "start_time": "2022-10-03T20:32:50.985Z"
   },
   {
    "duration": 16,
    "start_time": "2022-10-03T20:33:10.180Z"
   },
   {
    "duration": 45,
    "start_time": "2022-10-03T20:33:40.544Z"
   },
   {
    "duration": 287,
    "start_time": "2022-10-03T20:34:42.644Z"
   },
   {
    "duration": 317,
    "start_time": "2022-10-03T20:34:53.373Z"
   },
   {
    "duration": 42,
    "start_time": "2022-10-03T20:35:25.297Z"
   },
   {
    "duration": 34,
    "start_time": "2022-10-03T20:36:14.370Z"
   },
   {
    "duration": 102,
    "start_time": "2022-10-03T20:38:32.531Z"
   },
   {
    "duration": 19,
    "start_time": "2022-10-03T20:38:50.013Z"
   },
   {
    "duration": 9,
    "start_time": "2022-10-03T20:39:08.407Z"
   },
   {
    "duration": 1397,
    "start_time": "2022-10-04T18:32:17.364Z"
   },
   {
    "duration": 116,
    "start_time": "2022-10-04T18:32:18.763Z"
   },
   {
    "duration": 24,
    "start_time": "2022-10-04T18:32:18.882Z"
   },
   {
    "duration": 17,
    "start_time": "2022-10-04T18:32:18.908Z"
   },
   {
    "duration": 6,
    "start_time": "2022-10-04T18:32:18.929Z"
   },
   {
    "duration": 32,
    "start_time": "2022-10-04T18:32:18.937Z"
   },
   {
    "duration": 21,
    "start_time": "2022-10-04T18:32:18.971Z"
   },
   {
    "duration": 52,
    "start_time": "2022-10-04T18:32:18.994Z"
   },
   {
    "duration": 76,
    "start_time": "2022-10-04T18:32:19.048Z"
   },
   {
    "duration": 8,
    "start_time": "2022-10-04T18:32:19.127Z"
   },
   {
    "duration": 18,
    "start_time": "2022-10-04T18:32:19.138Z"
   },
   {
    "duration": 47,
    "start_time": "2022-10-04T18:32:19.158Z"
   },
   {
    "duration": 14,
    "start_time": "2022-10-04T18:32:19.207Z"
   },
   {
    "duration": 37,
    "start_time": "2022-10-04T18:32:19.224Z"
   },
   {
    "duration": 21,
    "start_time": "2022-10-04T18:32:19.263Z"
   },
   {
    "duration": 36,
    "start_time": "2022-10-04T18:32:19.285Z"
   },
   {
    "duration": 16,
    "start_time": "2022-10-04T18:32:19.323Z"
   },
   {
    "duration": 24,
    "start_time": "2022-10-04T18:32:19.340Z"
   },
   {
    "duration": 14,
    "start_time": "2022-10-04T18:32:19.366Z"
   },
   {
    "duration": 41,
    "start_time": "2022-10-04T18:32:19.382Z"
   },
   {
    "duration": 19,
    "start_time": "2022-10-04T18:32:19.425Z"
   },
   {
    "duration": 6,
    "start_time": "2022-10-04T18:32:19.446Z"
   },
   {
    "duration": 5,
    "start_time": "2022-10-04T18:32:19.454Z"
   },
   {
    "duration": 42,
    "start_time": "2022-10-04T18:40:21.390Z"
   },
   {
    "duration": 38,
    "start_time": "2022-10-04T18:41:11.428Z"
   },
   {
    "duration": 15,
    "start_time": "2022-10-04T18:59:19.364Z"
   },
   {
    "duration": 13,
    "start_time": "2022-10-04T18:59:29.057Z"
   },
   {
    "duration": 6,
    "start_time": "2022-10-04T19:02:28.900Z"
   },
   {
    "duration": 16,
    "start_time": "2022-10-04T19:02:50.893Z"
   },
   {
    "duration": 114,
    "start_time": "2022-10-04T19:02:57.521Z"
   },
   {
    "duration": 15,
    "start_time": "2022-10-04T19:03:02.092Z"
   },
   {
    "duration": 16,
    "start_time": "2022-10-04T19:03:10.452Z"
   },
   {
    "duration": 18,
    "start_time": "2022-10-04T19:03:33.736Z"
   },
   {
    "duration": 140,
    "start_time": "2022-10-04T19:04:26.139Z"
   },
   {
    "duration": 142,
    "start_time": "2022-10-04T19:04:41.079Z"
   },
   {
    "duration": 145,
    "start_time": "2022-10-04T19:04:45.975Z"
   },
   {
    "duration": 12,
    "start_time": "2022-10-04T19:05:08.373Z"
   },
   {
    "duration": 19,
    "start_time": "2022-10-04T19:05:24.325Z"
   },
   {
    "duration": 144,
    "start_time": "2022-10-04T19:05:33.530Z"
   },
   {
    "duration": 184,
    "start_time": "2022-10-04T19:09:04.873Z"
   },
   {
    "duration": 209,
    "start_time": "2022-10-04T19:09:25.941Z"
   },
   {
    "duration": 626,
    "start_time": "2022-10-04T19:11:50.805Z"
   },
   {
    "duration": 603,
    "start_time": "2022-10-04T19:12:58.570Z"
   },
   {
    "duration": 580,
    "start_time": "2022-10-04T19:13:19.735Z"
   },
   {
    "duration": 846,
    "start_time": "2022-10-04T19:13:27.914Z"
   },
   {
    "duration": 12,
    "start_time": "2022-10-04T19:14:33.507Z"
   },
   {
    "duration": 45,
    "start_time": "2022-10-04T19:16:08.919Z"
   },
   {
    "duration": 9,
    "start_time": "2022-10-04T19:16:14.059Z"
   },
   {
    "duration": 557,
    "start_time": "2022-10-04T19:16:26.924Z"
   },
   {
    "duration": 8,
    "start_time": "2022-10-04T19:16:34.424Z"
   },
   {
    "duration": 617,
    "start_time": "2022-10-04T19:17:16.032Z"
   },
   {
    "duration": 40,
    "start_time": "2022-10-04T19:19:17.683Z"
   },
   {
    "duration": 258,
    "start_time": "2022-10-04T19:19:22.664Z"
   },
   {
    "duration": 191,
    "start_time": "2022-10-04T19:19:48.064Z"
   },
   {
    "duration": 13,
    "start_time": "2022-10-04T19:21:35.416Z"
   },
   {
    "duration": 40,
    "start_time": "2022-10-04T19:22:39.545Z"
   },
   {
    "duration": 36,
    "start_time": "2022-10-04T19:23:39.630Z"
   },
   {
    "duration": 4,
    "start_time": "2022-10-04T19:23:57.975Z"
   },
   {
    "duration": 65,
    "start_time": "2022-10-04T19:23:57.982Z"
   },
   {
    "duration": 14,
    "start_time": "2022-10-04T19:23:58.049Z"
   },
   {
    "duration": 28,
    "start_time": "2022-10-04T19:23:58.065Z"
   },
   {
    "duration": 8,
    "start_time": "2022-10-04T19:23:58.096Z"
   },
   {
    "duration": 19,
    "start_time": "2022-10-04T19:23:58.105Z"
   },
   {
    "duration": 16,
    "start_time": "2022-10-04T19:23:58.126Z"
   },
   {
    "duration": 34,
    "start_time": "2022-10-04T19:23:58.144Z"
   },
   {
    "duration": 16,
    "start_time": "2022-10-04T19:23:58.180Z"
   },
   {
    "duration": 26,
    "start_time": "2022-10-04T19:23:58.197Z"
   },
   {
    "duration": 11,
    "start_time": "2022-10-04T19:23:58.224Z"
   },
   {
    "duration": 32,
    "start_time": "2022-10-04T19:23:58.237Z"
   },
   {
    "duration": 6,
    "start_time": "2022-10-04T19:23:58.271Z"
   },
   {
    "duration": 42,
    "start_time": "2022-10-04T19:23:58.280Z"
   },
   {
    "duration": 19,
    "start_time": "2022-10-04T19:23:58.324Z"
   },
   {
    "duration": 33,
    "start_time": "2022-10-04T19:23:58.344Z"
   },
   {
    "duration": 14,
    "start_time": "2022-10-04T19:23:58.379Z"
   },
   {
    "duration": 43,
    "start_time": "2022-10-04T19:23:58.395Z"
   },
   {
    "duration": 14,
    "start_time": "2022-10-04T19:23:58.440Z"
   },
   {
    "duration": 22,
    "start_time": "2022-10-04T19:23:58.456Z"
   },
   {
    "duration": 17,
    "start_time": "2022-10-04T19:23:58.480Z"
   },
   {
    "duration": 27,
    "start_time": "2022-10-04T19:23:58.498Z"
   },
   {
    "duration": 8,
    "start_time": "2022-10-04T19:23:58.526Z"
   },
   {
    "duration": 29,
    "start_time": "2022-10-04T19:23:58.535Z"
   },
   {
    "duration": 32,
    "start_time": "2022-10-04T19:23:58.566Z"
   },
   {
    "duration": 19,
    "start_time": "2022-10-04T19:25:15.382Z"
   },
   {
    "duration": 15,
    "start_time": "2022-10-04T19:25:24.564Z"
   },
   {
    "duration": 41,
    "start_time": "2022-10-04T19:26:00.358Z"
   },
   {
    "duration": 14,
    "start_time": "2022-10-04T19:27:17.313Z"
   },
   {
    "duration": 20,
    "start_time": "2022-10-04T19:27:48.219Z"
   },
   {
    "duration": 274,
    "start_time": "2022-10-04T19:29:19.774Z"
   },
   {
    "duration": 315,
    "start_time": "2022-10-04T19:29:49.021Z"
   },
   {
    "duration": 9,
    "start_time": "2022-10-04T19:30:39.669Z"
   },
   {
    "duration": 8,
    "start_time": "2022-10-04T19:30:49.296Z"
   },
   {
    "duration": 10,
    "start_time": "2022-10-04T19:30:59.352Z"
   },
   {
    "duration": 36,
    "start_time": "2022-10-04T19:31:54.691Z"
   },
   {
    "duration": 37,
    "start_time": "2022-10-04T19:32:11.720Z"
   },
   {
    "duration": 1259,
    "start_time": "2022-10-05T18:48:47.520Z"
   },
   {
    "duration": 191,
    "start_time": "2022-10-05T18:48:48.781Z"
   },
   {
    "duration": 17,
    "start_time": "2022-10-05T18:48:48.973Z"
   },
   {
    "duration": 13,
    "start_time": "2022-10-05T18:48:48.992Z"
   },
   {
    "duration": 4,
    "start_time": "2022-10-05T18:48:49.006Z"
   },
   {
    "duration": 6,
    "start_time": "2022-10-05T18:48:49.012Z"
   },
   {
    "duration": 14,
    "start_time": "2022-10-05T18:48:49.020Z"
   },
   {
    "duration": 27,
    "start_time": "2022-10-05T18:48:49.035Z"
   },
   {
    "duration": 77,
    "start_time": "2022-10-05T18:48:49.064Z"
   },
   {
    "duration": 6,
    "start_time": "2022-10-05T18:48:49.144Z"
   },
   {
    "duration": 9,
    "start_time": "2022-10-05T18:48:49.152Z"
   },
   {
    "duration": 45,
    "start_time": "2022-10-05T18:48:49.163Z"
   },
   {
    "duration": 5,
    "start_time": "2022-10-05T18:48:49.209Z"
   },
   {
    "duration": 17,
    "start_time": "2022-10-05T18:48:49.215Z"
   },
   {
    "duration": 17,
    "start_time": "2022-10-05T18:48:49.233Z"
   },
   {
    "duration": 47,
    "start_time": "2022-10-05T18:48:49.252Z"
   },
   {
    "duration": 13,
    "start_time": "2022-10-05T18:48:49.300Z"
   },
   {
    "duration": 15,
    "start_time": "2022-10-05T18:48:49.314Z"
   },
   {
    "duration": 12,
    "start_time": "2022-10-05T18:48:49.331Z"
   },
   {
    "duration": 20,
    "start_time": "2022-10-05T18:48:49.345Z"
   },
   {
    "duration": 40,
    "start_time": "2022-10-05T18:48:49.366Z"
   },
   {
    "duration": 5,
    "start_time": "2022-10-05T18:48:49.407Z"
   },
   {
    "duration": 6,
    "start_time": "2022-10-05T18:48:49.413Z"
   },
   {
    "duration": 7,
    "start_time": "2022-10-05T18:48:49.420Z"
   },
   {
    "duration": 5,
    "start_time": "2022-10-05T18:48:49.428Z"
   },
   {
    "duration": 17,
    "start_time": "2022-10-05T18:48:49.435Z"
   },
   {
    "duration": 45,
    "start_time": "2022-10-05T18:48:49.454Z"
   },
   {
    "duration": 121,
    "start_time": "2022-10-05T18:48:58.266Z"
   },
   {
    "duration": 38,
    "start_time": "2022-10-05T18:49:10.324Z"
   },
   {
    "duration": 13,
    "start_time": "2022-10-05T18:49:25.908Z"
   },
   {
    "duration": 11,
    "start_time": "2022-10-05T18:52:13.240Z"
   },
   {
    "duration": 3,
    "start_time": "2022-10-05T18:53:05.790Z"
   },
   {
    "duration": 69,
    "start_time": "2022-10-05T18:53:05.795Z"
   },
   {
    "duration": 13,
    "start_time": "2022-10-05T18:53:05.866Z"
   },
   {
    "duration": 33,
    "start_time": "2022-10-05T18:53:05.880Z"
   },
   {
    "duration": 16,
    "start_time": "2022-10-05T18:53:05.914Z"
   },
   {
    "duration": 19,
    "start_time": "2022-10-05T18:53:05.932Z"
   },
   {
    "duration": 16,
    "start_time": "2022-10-05T18:53:05.953Z"
   },
   {
    "duration": 31,
    "start_time": "2022-10-05T18:53:05.970Z"
   },
   {
    "duration": 15,
    "start_time": "2022-10-05T18:53:06.002Z"
   },
   {
    "duration": 5,
    "start_time": "2022-10-05T18:53:06.020Z"
   },
   {
    "duration": 7,
    "start_time": "2022-10-05T18:53:06.027Z"
   },
   {
    "duration": 28,
    "start_time": "2022-10-05T18:53:06.036Z"
   },
   {
    "duration": 31,
    "start_time": "2022-10-05T18:53:06.066Z"
   },
   {
    "duration": 17,
    "start_time": "2022-10-05T18:53:06.099Z"
   },
   {
    "duration": 16,
    "start_time": "2022-10-05T18:53:06.118Z"
   },
   {
    "duration": 27,
    "start_time": "2022-10-05T18:53:06.136Z"
   },
   {
    "duration": 32,
    "start_time": "2022-10-05T18:53:06.164Z"
   },
   {
    "duration": 16,
    "start_time": "2022-10-05T18:53:06.198Z"
   },
   {
    "duration": 19,
    "start_time": "2022-10-05T18:53:06.216Z"
   },
   {
    "duration": 20,
    "start_time": "2022-10-05T18:53:06.236Z"
   },
   {
    "duration": 14,
    "start_time": "2022-10-05T18:53:06.258Z"
   },
   {
    "duration": 23,
    "start_time": "2022-10-05T18:53:06.274Z"
   },
   {
    "duration": 8,
    "start_time": "2022-10-05T18:53:06.298Z"
   },
   {
    "duration": 10,
    "start_time": "2022-10-05T18:53:06.308Z"
   },
   {
    "duration": 12,
    "start_time": "2022-10-05T18:53:06.319Z"
   },
   {
    "duration": 25,
    "start_time": "2022-10-05T18:53:06.332Z"
   },
   {
    "duration": 16,
    "start_time": "2022-10-05T18:53:06.359Z"
   },
   {
    "duration": 48,
    "start_time": "2022-10-05T18:53:06.378Z"
   },
   {
    "duration": 13,
    "start_time": "2022-10-05T18:53:06.428Z"
   },
   {
    "duration": 4,
    "start_time": "2022-10-05T18:53:54.114Z"
   },
   {
    "duration": 73,
    "start_time": "2022-10-05T18:53:54.119Z"
   },
   {
    "duration": 14,
    "start_time": "2022-10-05T18:53:54.194Z"
   },
   {
    "duration": 23,
    "start_time": "2022-10-05T18:53:54.211Z"
   },
   {
    "duration": 5,
    "start_time": "2022-10-05T18:53:54.236Z"
   },
   {
    "duration": 7,
    "start_time": "2022-10-05T18:53:54.242Z"
   },
   {
    "duration": 46,
    "start_time": "2022-10-05T18:53:54.251Z"
   },
   {
    "duration": 34,
    "start_time": "2022-10-05T18:53:54.299Z"
   },
   {
    "duration": 18,
    "start_time": "2022-10-05T18:53:54.335Z"
   },
   {
    "duration": 39,
    "start_time": "2022-10-05T18:53:54.356Z"
   },
   {
    "duration": 5,
    "start_time": "2022-10-05T18:53:54.397Z"
   },
   {
    "duration": 40,
    "start_time": "2022-10-05T18:53:54.404Z"
   },
   {
    "duration": 5,
    "start_time": "2022-10-05T18:53:54.446Z"
   },
   {
    "duration": 17,
    "start_time": "2022-10-05T18:53:54.452Z"
   },
   {
    "duration": 35,
    "start_time": "2022-10-05T18:53:54.471Z"
   },
   {
    "duration": 24,
    "start_time": "2022-10-05T18:53:54.508Z"
   },
   {
    "duration": 13,
    "start_time": "2022-10-05T18:53:54.534Z"
   },
   {
    "duration": 18,
    "start_time": "2022-10-05T18:53:54.548Z"
   },
   {
    "duration": 33,
    "start_time": "2022-10-05T18:53:54.567Z"
   },
   {
    "duration": 25,
    "start_time": "2022-10-05T18:53:54.602Z"
   },
   {
    "duration": 16,
    "start_time": "2022-10-05T18:53:54.628Z"
   },
   {
    "duration": 5,
    "start_time": "2022-10-05T18:53:54.646Z"
   },
   {
    "duration": 6,
    "start_time": "2022-10-05T18:53:54.652Z"
   },
   {
    "duration": 7,
    "start_time": "2022-10-05T18:53:54.659Z"
   },
   {
    "duration": 32,
    "start_time": "2022-10-05T18:53:54.667Z"
   },
   {
    "duration": 25,
    "start_time": "2022-10-05T18:53:54.701Z"
   },
   {
    "duration": 17,
    "start_time": "2022-10-05T18:53:54.728Z"
   },
   {
    "duration": 42,
    "start_time": "2022-10-05T18:54:06.589Z"
   },
   {
    "duration": 12,
    "start_time": "2022-10-05T18:54:12.738Z"
   },
   {
    "duration": 17,
    "start_time": "2022-10-05T18:54:15.446Z"
   },
   {
    "duration": 17,
    "start_time": "2022-10-05T18:54:25.796Z"
   },
   {
    "duration": 1249,
    "start_time": "2022-10-05T18:54:35.749Z"
   },
   {
    "duration": 455,
    "start_time": "2022-10-05T18:57:30.186Z"
   },
   {
    "duration": 11,
    "start_time": "2022-10-05T18:57:36.090Z"
   },
   {
    "duration": 105,
    "start_time": "2022-10-05T18:59:06.072Z"
   },
   {
    "duration": 2,
    "start_time": "2022-10-05T18:59:12.869Z"
   },
   {
    "duration": 56,
    "start_time": "2022-10-05T18:59:12.873Z"
   },
   {
    "duration": 13,
    "start_time": "2022-10-05T18:59:12.931Z"
   },
   {
    "duration": 14,
    "start_time": "2022-10-05T18:59:12.946Z"
   },
   {
    "duration": 5,
    "start_time": "2022-10-05T18:59:12.962Z"
   },
   {
    "duration": 8,
    "start_time": "2022-10-05T18:59:12.969Z"
   },
   {
    "duration": 24,
    "start_time": "2022-10-05T18:59:12.978Z"
   },
   {
    "duration": 33,
    "start_time": "2022-10-05T18:59:13.004Z"
   },
   {
    "duration": 14,
    "start_time": "2022-10-05T18:59:13.039Z"
   },
   {
    "duration": 6,
    "start_time": "2022-10-05T18:59:13.055Z"
   },
   {
    "duration": 7,
    "start_time": "2022-10-05T18:59:13.063Z"
   },
   {
    "duration": 44,
    "start_time": "2022-10-05T18:59:13.072Z"
   },
   {
    "duration": 6,
    "start_time": "2022-10-05T18:59:13.117Z"
   },
   {
    "duration": 16,
    "start_time": "2022-10-05T18:59:13.125Z"
   },
   {
    "duration": 19,
    "start_time": "2022-10-05T18:59:13.143Z"
   },
   {
    "duration": 53,
    "start_time": "2022-10-05T18:59:13.164Z"
   },
   {
    "duration": 13,
    "start_time": "2022-10-05T18:59:13.218Z"
   },
   {
    "duration": 15,
    "start_time": "2022-10-05T18:59:13.233Z"
   },
   {
    "duration": 13,
    "start_time": "2022-10-05T18:59:13.250Z"
   },
   {
    "duration": 44,
    "start_time": "2022-10-05T18:59:13.265Z"
   },
   {
    "duration": 15,
    "start_time": "2022-10-05T18:59:13.311Z"
   },
   {
    "duration": 4,
    "start_time": "2022-10-05T18:59:13.328Z"
   },
   {
    "duration": 6,
    "start_time": "2022-10-05T18:59:13.334Z"
   },
   {
    "duration": 7,
    "start_time": "2022-10-05T18:59:13.342Z"
   },
   {
    "duration": 7,
    "start_time": "2022-10-05T18:59:13.350Z"
   },
   {
    "duration": 44,
    "start_time": "2022-10-05T18:59:13.358Z"
   },
   {
    "duration": 15,
    "start_time": "2022-10-05T18:59:13.403Z"
   },
   {
    "duration": 37,
    "start_time": "2022-10-05T18:59:13.419Z"
   },
   {
    "duration": 12,
    "start_time": "2022-10-05T18:59:13.458Z"
   },
   {
    "duration": 20,
    "start_time": "2022-10-05T18:59:13.495Z"
   },
   {
    "duration": 209,
    "start_time": "2022-10-05T18:59:13.517Z"
   },
   {
    "duration": 10,
    "start_time": "2022-10-05T18:59:13.728Z"
   },
   {
    "duration": 77,
    "start_time": "2022-10-05T19:00:46.772Z"
   },
   {
    "duration": 5,
    "start_time": "2022-10-05T19:00:52.172Z"
   },
   {
    "duration": 14,
    "start_time": "2022-10-05T19:05:21.896Z"
   },
   {
    "duration": 8,
    "start_time": "2022-10-05T19:05:31.212Z"
   },
   {
    "duration": 5,
    "start_time": "2022-10-05T19:06:50.508Z"
   },
   {
    "duration": 11,
    "start_time": "2022-10-05T19:16:37.115Z"
   },
   {
    "duration": 8,
    "start_time": "2022-10-05T19:16:53.254Z"
   },
   {
    "duration": 5,
    "start_time": "2022-10-05T19:18:14.434Z"
   },
   {
    "duration": 359,
    "start_time": "2022-10-05T19:19:35.049Z"
   },
   {
    "duration": 399,
    "start_time": "2022-10-05T19:19:39.039Z"
   },
   {
    "duration": 3,
    "start_time": "2022-10-05T19:20:37.665Z"
   },
   {
    "duration": 5,
    "start_time": "2022-10-05T19:21:05.142Z"
   },
   {
    "duration": 77,
    "start_time": "2022-10-05T19:21:41.435Z"
   },
   {
    "duration": 12,
    "start_time": "2022-10-05T19:21:58.508Z"
   },
   {
    "duration": 96,
    "start_time": "2022-10-05T19:23:55.479Z"
   },
   {
    "duration": 16,
    "start_time": "2022-10-05T19:24:25.524Z"
   },
   {
    "duration": 10,
    "start_time": "2022-10-05T19:28:52.809Z"
   },
   {
    "duration": 20,
    "start_time": "2022-10-05T19:29:00.461Z"
   },
   {
    "duration": 344,
    "start_time": "2022-10-05T19:31:24.622Z"
   },
   {
    "duration": 335,
    "start_time": "2022-10-05T19:32:36.576Z"
   },
   {
    "duration": 1292,
    "start_time": "2022-10-06T17:57:04.574Z"
   },
   {
    "duration": 99,
    "start_time": "2022-10-06T17:57:05.868Z"
   },
   {
    "duration": 16,
    "start_time": "2022-10-06T17:57:05.969Z"
   },
   {
    "duration": 15,
    "start_time": "2022-10-06T17:57:05.987Z"
   },
   {
    "duration": 9,
    "start_time": "2022-10-06T17:57:06.003Z"
   },
   {
    "duration": 11,
    "start_time": "2022-10-06T17:57:06.014Z"
   },
   {
    "duration": 18,
    "start_time": "2022-10-06T17:57:06.038Z"
   },
   {
    "duration": 33,
    "start_time": "2022-10-06T17:57:06.058Z"
   },
   {
    "duration": 67,
    "start_time": "2022-10-06T17:57:06.093Z"
   },
   {
    "duration": 7,
    "start_time": "2022-10-06T17:57:06.162Z"
   },
   {
    "duration": 7,
    "start_time": "2022-10-06T17:57:06.171Z"
   },
   {
    "duration": 32,
    "start_time": "2022-10-06T17:57:06.180Z"
   },
   {
    "duration": 5,
    "start_time": "2022-10-06T17:57:06.238Z"
   },
   {
    "duration": 27,
    "start_time": "2022-10-06T17:57:06.245Z"
   },
   {
    "duration": 23,
    "start_time": "2022-10-06T17:57:06.274Z"
   },
   {
    "duration": 48,
    "start_time": "2022-10-06T17:57:06.298Z"
   },
   {
    "duration": 16,
    "start_time": "2022-10-06T17:57:06.348Z"
   },
   {
    "duration": 35,
    "start_time": "2022-10-06T17:57:06.365Z"
   },
   {
    "duration": 14,
    "start_time": "2022-10-06T17:57:06.401Z"
   },
   {
    "duration": 37,
    "start_time": "2022-10-06T17:57:06.417Z"
   },
   {
    "duration": 19,
    "start_time": "2022-10-06T17:57:06.456Z"
   },
   {
    "duration": 5,
    "start_time": "2022-10-06T17:57:06.477Z"
   },
   {
    "duration": 8,
    "start_time": "2022-10-06T17:57:06.483Z"
   },
   {
    "duration": 9,
    "start_time": "2022-10-06T17:57:06.492Z"
   },
   {
    "duration": 38,
    "start_time": "2022-10-06T17:57:06.502Z"
   },
   {
    "duration": 18,
    "start_time": "2022-10-06T17:57:06.542Z"
   },
   {
    "duration": 17,
    "start_time": "2022-10-06T17:57:06.561Z"
   },
   {
    "duration": 70,
    "start_time": "2022-10-06T17:57:06.581Z"
   },
   {
    "duration": 12,
    "start_time": "2022-10-06T17:57:06.653Z"
   },
   {
    "duration": 30,
    "start_time": "2022-10-06T17:57:06.667Z"
   },
   {
    "duration": 231,
    "start_time": "2022-10-06T17:57:06.699Z"
   },
   {
    "duration": 13,
    "start_time": "2022-10-06T17:57:06.934Z"
   },
   {
    "duration": 14,
    "start_time": "2022-10-06T17:57:06.949Z"
   },
   {
    "duration": 19,
    "start_time": "2022-10-06T17:57:06.965Z"
   },
   {
    "duration": 29,
    "start_time": "2022-10-06T17:57:06.985Z"
   },
   {
    "duration": 30,
    "start_time": "2022-10-06T17:57:07.016Z"
   },
   {
    "duration": 14,
    "start_time": "2022-10-06T17:57:07.049Z"
   },
   {
    "duration": 25,
    "start_time": "2022-10-06T17:57:07.066Z"
   },
   {
    "duration": 37,
    "start_time": "2022-10-06T17:57:07.094Z"
   },
   {
    "duration": 43,
    "start_time": "2022-10-06T17:57:07.133Z"
   },
   {
    "duration": 471,
    "start_time": "2022-10-06T17:57:07.177Z"
   },
   {
    "duration": 3,
    "start_time": "2022-10-06T18:24:07.728Z"
   },
   {
    "duration": 77,
    "start_time": "2022-10-06T18:24:07.733Z"
   },
   {
    "duration": 20,
    "start_time": "2022-10-06T18:24:07.813Z"
   },
   {
    "duration": 15,
    "start_time": "2022-10-06T18:24:07.836Z"
   },
   {
    "duration": 4,
    "start_time": "2022-10-06T18:24:07.852Z"
   },
   {
    "duration": 8,
    "start_time": "2022-10-06T18:24:07.858Z"
   },
   {
    "duration": 15,
    "start_time": "2022-10-06T18:24:07.868Z"
   },
   {
    "duration": 73,
    "start_time": "2022-10-06T18:24:07.885Z"
   },
   {
    "duration": 14,
    "start_time": "2022-10-06T18:24:07.960Z"
   },
   {
    "duration": 7,
    "start_time": "2022-10-06T18:24:07.976Z"
   },
   {
    "duration": 11,
    "start_time": "2022-10-06T18:24:07.985Z"
   },
   {
    "duration": 57,
    "start_time": "2022-10-06T18:24:07.998Z"
   },
   {
    "duration": 6,
    "start_time": "2022-10-06T18:24:08.057Z"
   },
   {
    "duration": 21,
    "start_time": "2022-10-06T18:24:08.065Z"
   },
   {
    "duration": 17,
    "start_time": "2022-10-06T18:24:08.088Z"
   },
   {
    "duration": 66,
    "start_time": "2022-10-06T18:24:08.108Z"
   },
   {
    "duration": 13,
    "start_time": "2022-10-06T18:24:08.176Z"
   },
   {
    "duration": 19,
    "start_time": "2022-10-06T18:24:08.191Z"
   },
   {
    "duration": 30,
    "start_time": "2022-10-06T18:24:08.213Z"
   },
   {
    "duration": 22,
    "start_time": "2022-10-06T18:24:08.245Z"
   },
   {
    "duration": 15,
    "start_time": "2022-10-06T18:24:08.269Z"
   },
   {
    "duration": 5,
    "start_time": "2022-10-06T18:24:08.286Z"
   },
   {
    "duration": 12,
    "start_time": "2022-10-06T18:24:08.293Z"
   },
   {
    "duration": 7,
    "start_time": "2022-10-06T18:24:08.338Z"
   },
   {
    "duration": 9,
    "start_time": "2022-10-06T18:24:08.347Z"
   },
   {
    "duration": 32,
    "start_time": "2022-10-06T18:24:08.359Z"
   },
   {
    "duration": 18,
    "start_time": "2022-10-06T18:24:08.393Z"
   },
   {
    "duration": 63,
    "start_time": "2022-10-06T18:24:08.413Z"
   },
   {
    "duration": 13,
    "start_time": "2022-10-06T18:24:08.478Z"
   },
   {
    "duration": 51,
    "start_time": "2022-10-06T18:24:08.493Z"
   },
   {
    "duration": 230,
    "start_time": "2022-10-06T18:24:08.546Z"
   },
   {
    "duration": 10,
    "start_time": "2022-10-06T18:24:08.778Z"
   },
   {
    "duration": 10,
    "start_time": "2022-10-06T18:24:08.791Z"
   },
   {
    "duration": 10,
    "start_time": "2022-10-06T18:24:08.803Z"
   },
   {
    "duration": 25,
    "start_time": "2022-10-06T18:24:08.814Z"
   },
   {
    "duration": 11,
    "start_time": "2022-10-06T18:24:08.841Z"
   },
   {
    "duration": 6,
    "start_time": "2022-10-06T18:24:08.854Z"
   },
   {
    "duration": 7,
    "start_time": "2022-10-06T18:24:08.863Z"
   },
   {
    "duration": 18,
    "start_time": "2022-10-06T18:24:08.872Z"
   },
   {
    "duration": 20,
    "start_time": "2022-10-06T18:24:08.892Z"
   },
   {
    "duration": 343,
    "start_time": "2022-10-06T18:24:08.913Z"
   },
   {
    "duration": 62,
    "start_time": "2022-10-06T18:24:09.257Z"
   },
   {
    "duration": 2,
    "start_time": "2022-10-06T18:24:21.259Z"
   },
   {
    "duration": 4,
    "start_time": "2022-10-06T18:24:31.671Z"
   },
   {
    "duration": 64,
    "start_time": "2022-10-06T18:24:31.678Z"
   },
   {
    "duration": 19,
    "start_time": "2022-10-06T18:24:31.744Z"
   },
   {
    "duration": 36,
    "start_time": "2022-10-06T18:24:31.766Z"
   },
   {
    "duration": 8,
    "start_time": "2022-10-06T18:24:31.804Z"
   },
   {
    "duration": 24,
    "start_time": "2022-10-06T18:24:31.814Z"
   },
   {
    "duration": 28,
    "start_time": "2022-10-06T18:24:31.840Z"
   },
   {
    "duration": 46,
    "start_time": "2022-10-06T18:24:31.870Z"
   },
   {
    "duration": 16,
    "start_time": "2022-10-06T18:24:31.917Z"
   },
   {
    "duration": 10,
    "start_time": "2022-10-06T18:24:31.938Z"
   },
   {
    "duration": 11,
    "start_time": "2022-10-06T18:24:31.950Z"
   },
   {
    "duration": 45,
    "start_time": "2022-10-06T18:24:31.963Z"
   },
   {
    "duration": 7,
    "start_time": "2022-10-06T18:24:32.010Z"
   },
   {
    "duration": 39,
    "start_time": "2022-10-06T18:24:32.018Z"
   },
   {
    "duration": 33,
    "start_time": "2022-10-06T18:24:32.059Z"
   },
   {
    "duration": 50,
    "start_time": "2022-10-06T18:24:32.094Z"
   },
   {
    "duration": 20,
    "start_time": "2022-10-06T18:24:32.146Z"
   },
   {
    "duration": 21,
    "start_time": "2022-10-06T18:24:32.168Z"
   },
   {
    "duration": 26,
    "start_time": "2022-10-06T18:24:32.192Z"
   },
   {
    "duration": 41,
    "start_time": "2022-10-06T18:24:32.220Z"
   },
   {
    "duration": 16,
    "start_time": "2022-10-06T18:24:32.263Z"
   },
   {
    "duration": 9,
    "start_time": "2022-10-06T18:24:32.281Z"
   },
   {
    "duration": 10,
    "start_time": "2022-10-06T18:24:32.292Z"
   },
   {
    "duration": 33,
    "start_time": "2022-10-06T18:24:32.305Z"
   },
   {
    "duration": 9,
    "start_time": "2022-10-06T18:24:32.341Z"
   },
   {
    "duration": 33,
    "start_time": "2022-10-06T18:24:32.352Z"
   },
   {
    "duration": 19,
    "start_time": "2022-10-06T18:24:32.387Z"
   },
   {
    "duration": 62,
    "start_time": "2022-10-06T18:24:32.409Z"
   },
   {
    "duration": 13,
    "start_time": "2022-10-06T18:24:32.473Z"
   },
   {
    "duration": 22,
    "start_time": "2022-10-06T18:24:32.488Z"
   },
   {
    "duration": 246,
    "start_time": "2022-10-06T18:24:32.512Z"
   },
   {
    "duration": 11,
    "start_time": "2022-10-06T18:24:32.759Z"
   },
   {
    "duration": 10,
    "start_time": "2022-10-06T18:24:32.772Z"
   },
   {
    "duration": 13,
    "start_time": "2022-10-06T18:24:32.784Z"
   },
   {
    "duration": 12,
    "start_time": "2022-10-06T18:24:32.799Z"
   },
   {
    "duration": 37,
    "start_time": "2022-10-06T18:24:32.813Z"
   },
   {
    "duration": 9,
    "start_time": "2022-10-06T18:24:32.852Z"
   },
   {
    "duration": 6,
    "start_time": "2022-10-06T18:24:32.862Z"
   },
   {
    "duration": 21,
    "start_time": "2022-10-06T18:24:32.869Z"
   },
   {
    "duration": 51,
    "start_time": "2022-10-06T18:24:32.892Z"
   },
   {
    "duration": 355,
    "start_time": "2022-10-06T18:24:32.945Z"
   },
   {
    "duration": 3,
    "start_time": "2022-10-06T18:24:33.301Z"
   },
   {
    "duration": 25,
    "start_time": "2022-10-06T19:07:36.427Z"
   },
   {
    "duration": 1076,
    "start_time": "2022-10-06T19:15:55.824Z"
   },
   {
    "duration": 95,
    "start_time": "2022-10-06T19:20:02.003Z"
   },
   {
    "duration": 2,
    "start_time": "2022-10-06T19:20:08.460Z"
   },
   {
    "duration": 17,
    "start_time": "2022-10-06T19:21:51.962Z"
   },
   {
    "duration": 3,
    "start_time": "2022-10-06T19:23:27.508Z"
   },
   {
    "duration": 189,
    "start_time": "2022-10-06T19:26:48.569Z"
   },
   {
    "duration": 13,
    "start_time": "2022-10-06T19:27:20.828Z"
   },
   {
    "duration": 18,
    "start_time": "2022-10-06T19:27:28.383Z"
   },
   {
    "duration": 3,
    "start_time": "2022-10-06T19:30:34.608Z"
   },
   {
    "duration": 114,
    "start_time": "2022-10-06T19:34:04.152Z"
   },
   {
    "duration": 33,
    "start_time": "2022-10-06T19:34:18.136Z"
   },
   {
    "duration": 39,
    "start_time": "2022-10-06T19:34:26.978Z"
   },
   {
    "duration": 44,
    "start_time": "2022-10-06T19:35:08.677Z"
   },
   {
    "duration": 39,
    "start_time": "2022-10-06T19:35:18.176Z"
   },
   {
    "duration": 42,
    "start_time": "2022-10-06T19:35:23.682Z"
   },
   {
    "duration": 42,
    "start_time": "2022-10-06T19:35:27.087Z"
   },
   {
    "duration": 3,
    "start_time": "2022-10-06T19:38:49.580Z"
   },
   {
    "duration": 554,
    "start_time": "2022-10-06T19:40:24.852Z"
   },
   {
    "duration": 300,
    "start_time": "2022-10-06T19:43:09.567Z"
   },
   {
    "duration": 4,
    "start_time": "2022-10-06T19:48:34.648Z"
   },
   {
    "duration": 1292,
    "start_time": "2022-10-07T06:09:26.899Z"
   },
   {
    "duration": 186,
    "start_time": "2022-10-07T06:09:28.193Z"
   },
   {
    "duration": 17,
    "start_time": "2022-10-07T06:09:28.380Z"
   },
   {
    "duration": 20,
    "start_time": "2022-10-07T06:09:28.398Z"
   },
   {
    "duration": 4,
    "start_time": "2022-10-07T06:09:28.420Z"
   },
   {
    "duration": 6,
    "start_time": "2022-10-07T06:09:28.425Z"
   },
   {
    "duration": 17,
    "start_time": "2022-10-07T06:09:28.433Z"
   },
   {
    "duration": 27,
    "start_time": "2022-10-07T06:09:28.452Z"
   },
   {
    "duration": 66,
    "start_time": "2022-10-07T06:09:28.480Z"
   },
   {
    "duration": 8,
    "start_time": "2022-10-07T06:09:28.548Z"
   },
   {
    "duration": 8,
    "start_time": "2022-10-07T06:09:28.558Z"
   },
   {
    "duration": 33,
    "start_time": "2022-10-07T06:09:28.568Z"
   },
   {
    "duration": 5,
    "start_time": "2022-10-07T06:09:28.622Z"
   },
   {
    "duration": 16,
    "start_time": "2022-10-07T06:09:28.631Z"
   },
   {
    "duration": 22,
    "start_time": "2022-10-07T06:09:28.649Z"
   },
   {
    "duration": 50,
    "start_time": "2022-10-07T06:09:28.673Z"
   },
   {
    "duration": 13,
    "start_time": "2022-10-07T06:09:28.724Z"
   },
   {
    "duration": 26,
    "start_time": "2022-10-07T06:09:28.738Z"
   },
   {
    "duration": 17,
    "start_time": "2022-10-07T06:09:28.765Z"
   },
   {
    "duration": 19,
    "start_time": "2022-10-07T06:09:28.784Z"
   },
   {
    "duration": 27,
    "start_time": "2022-10-07T06:09:28.804Z"
   },
   {
    "duration": 4,
    "start_time": "2022-10-07T06:09:28.833Z"
   },
   {
    "duration": 8,
    "start_time": "2022-10-07T06:09:28.839Z"
   },
   {
    "duration": 9,
    "start_time": "2022-10-07T06:09:28.848Z"
   },
   {
    "duration": 15,
    "start_time": "2022-10-07T06:09:28.859Z"
   },
   {
    "duration": 22,
    "start_time": "2022-10-07T06:09:28.875Z"
   },
   {
    "duration": 28,
    "start_time": "2022-10-07T06:09:28.899Z"
   },
   {
    "duration": 36,
    "start_time": "2022-10-07T06:09:28.928Z"
   },
   {
    "duration": 11,
    "start_time": "2022-10-07T06:09:28.966Z"
   },
   {
    "duration": 29,
    "start_time": "2022-10-07T06:09:28.979Z"
   },
   {
    "duration": 192,
    "start_time": "2022-10-07T06:09:29.009Z"
   },
   {
    "duration": 9,
    "start_time": "2022-10-07T06:09:29.203Z"
   },
   {
    "duration": 5,
    "start_time": "2022-10-07T06:09:29.221Z"
   },
   {
    "duration": 11,
    "start_time": "2022-10-07T06:09:29.227Z"
   },
   {
    "duration": 8,
    "start_time": "2022-10-07T06:09:29.240Z"
   },
   {
    "duration": 16,
    "start_time": "2022-10-07T06:09:29.249Z"
   },
   {
    "duration": 12,
    "start_time": "2022-10-07T06:09:29.266Z"
   },
   {
    "duration": 7,
    "start_time": "2022-10-07T06:09:29.279Z"
   },
   {
    "duration": 18,
    "start_time": "2022-10-07T06:09:29.288Z"
   },
   {
    "duration": 20,
    "start_time": "2022-10-07T06:09:29.307Z"
   },
   {
    "duration": 295,
    "start_time": "2022-10-07T06:09:29.329Z"
   },
   {
    "duration": 2,
    "start_time": "2022-10-07T06:09:29.626Z"
   },
   {
    "duration": 967,
    "start_time": "2022-10-07T06:09:29.629Z"
   },
   {
    "duration": 2,
    "start_time": "2022-10-07T06:09:30.598Z"
   },
   {
    "duration": 50,
    "start_time": "2022-10-07T06:09:30.602Z"
   },
   {
    "duration": 59,
    "start_time": "2022-10-07T06:09:30.654Z"
   },
   {
    "duration": 41,
    "start_time": "2022-10-07T06:09:30.715Z"
   },
   {
    "duration": 38,
    "start_time": "2022-10-07T06:09:30.758Z"
   },
   {
    "duration": 60,
    "start_time": "2022-10-07T06:09:30.798Z"
   },
   {
    "duration": 17,
    "start_time": "2022-10-07T06:09:30.860Z"
   },
   {
    "duration": 113,
    "start_time": "2022-10-07T06:09:30.879Z"
   },
   {
    "duration": 0,
    "start_time": "2022-10-07T06:09:30.994Z"
   },
   {
    "duration": 10,
    "start_time": "2022-10-07T07:06:37.600Z"
   },
   {
    "duration": 9,
    "start_time": "2022-10-07T07:06:52.256Z"
   },
   {
    "duration": 42,
    "start_time": "2022-10-07T07:14:06.217Z"
   },
   {
    "duration": 98,
    "start_time": "2022-10-08T07:15:47.160Z"
   },
   {
    "duration": 1313,
    "start_time": "2022-10-08T07:30:05.410Z"
   },
   {
    "duration": 185,
    "start_time": "2022-10-08T07:30:06.724Z"
   },
   {
    "duration": 17,
    "start_time": "2022-10-08T07:30:06.911Z"
   },
   {
    "duration": 14,
    "start_time": "2022-10-08T07:30:06.930Z"
   },
   {
    "duration": 3,
    "start_time": "2022-10-08T07:32:02.452Z"
   },
   {
    "duration": 55,
    "start_time": "2022-10-08T07:32:02.457Z"
   },
   {
    "duration": 14,
    "start_time": "2022-10-08T07:32:02.514Z"
   },
   {
    "duration": 24,
    "start_time": "2022-10-08T07:32:02.529Z"
   },
   {
    "duration": 3,
    "start_time": "2022-10-08T07:34:34.520Z"
   },
   {
    "duration": 56,
    "start_time": "2022-10-08T07:34:34.524Z"
   },
   {
    "duration": 14,
    "start_time": "2022-10-08T07:34:34.582Z"
   },
   {
    "duration": 15,
    "start_time": "2022-10-08T07:34:34.597Z"
   },
   {
    "duration": 6,
    "start_time": "2022-10-08T07:34:34.614Z"
   },
   {
    "duration": 7,
    "start_time": "2022-10-08T07:34:34.621Z"
   },
   {
    "duration": 18,
    "start_time": "2022-10-08T07:34:34.629Z"
   },
   {
    "duration": 54,
    "start_time": "2022-10-08T07:34:34.649Z"
   },
   {
    "duration": 47,
    "start_time": "2022-10-08T07:34:34.704Z"
   },
   {
    "duration": 5,
    "start_time": "2022-10-08T07:34:34.752Z"
   },
   {
    "duration": 9,
    "start_time": "2022-10-08T07:34:34.760Z"
   },
   {
    "duration": 47,
    "start_time": "2022-10-08T07:34:34.770Z"
   },
   {
    "duration": 6,
    "start_time": "2022-10-08T07:34:34.818Z"
   },
   {
    "duration": 22,
    "start_time": "2022-10-08T07:34:34.825Z"
   },
   {
    "duration": 17,
    "start_time": "2022-10-08T07:34:34.849Z"
   },
   {
    "duration": 24,
    "start_time": "2022-10-08T07:34:34.896Z"
   },
   {
    "duration": 12,
    "start_time": "2022-10-08T07:34:34.922Z"
   },
   {
    "duration": 19,
    "start_time": "2022-10-08T07:34:34.936Z"
   },
   {
    "duration": 14,
    "start_time": "2022-10-08T07:34:34.957Z"
   },
   {
    "duration": 37,
    "start_time": "2022-10-08T07:34:34.972Z"
   },
   {
    "duration": 16,
    "start_time": "2022-10-08T07:34:35.011Z"
   },
   {
    "duration": 6,
    "start_time": "2022-10-08T07:34:35.029Z"
   },
   {
    "duration": 5,
    "start_time": "2022-10-08T07:34:35.037Z"
   },
   {
    "duration": 8,
    "start_time": "2022-10-08T07:34:35.044Z"
   },
   {
    "duration": 6,
    "start_time": "2022-10-08T07:34:35.054Z"
   },
   {
    "duration": 20,
    "start_time": "2022-10-08T07:34:35.094Z"
   },
   {
    "duration": 3,
    "start_time": "2022-10-08T07:34:35.116Z"
   },
   {
    "duration": 15,
    "start_time": "2022-10-08T07:34:35.120Z"
   },
   {
    "duration": 8,
    "start_time": "2022-10-08T07:35:46.063Z"
   },
   {
    "duration": 13,
    "start_time": "2022-10-08T07:35:52.951Z"
   },
   {
    "duration": 11,
    "start_time": "2022-10-08T07:36:32.482Z"
   },
   {
    "duration": 11,
    "start_time": "2022-10-08T07:36:52.579Z"
   },
   {
    "duration": 17,
    "start_time": "2022-10-08T07:37:11.086Z"
   },
   {
    "duration": 102,
    "start_time": "2022-10-08T07:37:23.763Z"
   },
   {
    "duration": 983,
    "start_time": "2022-10-08T07:38:03.253Z"
   },
   {
    "duration": 15,
    "start_time": "2022-10-08T07:38:18.565Z"
   },
   {
    "duration": 52,
    "start_time": "2022-10-08T07:38:32.973Z"
   },
   {
    "duration": 16,
    "start_time": "2022-10-08T07:38:51.876Z"
   },
   {
    "duration": 3,
    "start_time": "2022-10-08T07:41:34.459Z"
   },
   {
    "duration": 58,
    "start_time": "2022-10-08T07:41:34.464Z"
   },
   {
    "duration": 15,
    "start_time": "2022-10-08T07:41:34.523Z"
   },
   {
    "duration": 13,
    "start_time": "2022-10-08T07:41:34.539Z"
   },
   {
    "duration": 4,
    "start_time": "2022-10-08T07:41:34.554Z"
   },
   {
    "duration": 6,
    "start_time": "2022-10-08T07:41:34.560Z"
   },
   {
    "duration": 35,
    "start_time": "2022-10-08T07:41:34.568Z"
   },
   {
    "duration": 29,
    "start_time": "2022-10-08T07:41:34.604Z"
   },
   {
    "duration": 14,
    "start_time": "2022-10-08T07:41:34.634Z"
   },
   {
    "duration": 5,
    "start_time": "2022-10-08T07:41:34.650Z"
   },
   {
    "duration": 8,
    "start_time": "2022-10-08T07:41:34.657Z"
   },
   {
    "duration": 53,
    "start_time": "2022-10-08T07:41:34.666Z"
   },
   {
    "duration": 4,
    "start_time": "2022-10-08T07:41:34.720Z"
   },
   {
    "duration": 15,
    "start_time": "2022-10-08T07:41:34.726Z"
   },
   {
    "duration": 19,
    "start_time": "2022-10-08T07:41:34.742Z"
   },
   {
    "duration": 42,
    "start_time": "2022-10-08T07:41:34.763Z"
   },
   {
    "duration": 16,
    "start_time": "2022-10-08T07:41:34.807Z"
   },
   {
    "duration": 16,
    "start_time": "2022-10-08T07:41:34.825Z"
   },
   {
    "duration": 12,
    "start_time": "2022-10-08T07:41:34.842Z"
   },
   {
    "duration": 43,
    "start_time": "2022-10-08T07:41:34.856Z"
   },
   {
    "duration": 15,
    "start_time": "2022-10-08T07:41:34.901Z"
   },
   {
    "duration": 5,
    "start_time": "2022-10-08T07:41:34.917Z"
   },
   {
    "duration": 6,
    "start_time": "2022-10-08T07:41:34.923Z"
   },
   {
    "duration": 6,
    "start_time": "2022-10-08T07:41:34.930Z"
   },
   {
    "duration": 5,
    "start_time": "2022-10-08T07:41:34.938Z"
   },
   {
    "duration": 16,
    "start_time": "2022-10-08T07:41:34.945Z"
   },
   {
    "duration": 34,
    "start_time": "2022-10-08T07:41:34.962Z"
   },
   {
    "duration": 16,
    "start_time": "2022-10-08T07:41:34.997Z"
   },
   {
    "duration": 13,
    "start_time": "2022-10-08T07:43:51.723Z"
   },
   {
    "duration": 3,
    "start_time": "2022-10-08T07:44:01.806Z"
   },
   {
    "duration": 84,
    "start_time": "2022-10-08T07:44:01.812Z"
   },
   {
    "duration": 14,
    "start_time": "2022-10-08T07:44:01.898Z"
   },
   {
    "duration": 23,
    "start_time": "2022-10-08T07:44:01.914Z"
   },
   {
    "duration": 8,
    "start_time": "2022-10-08T07:44:01.938Z"
   },
   {
    "duration": 15,
    "start_time": "2022-10-08T07:44:01.948Z"
   },
   {
    "duration": 31,
    "start_time": "2022-10-08T07:44:01.965Z"
   },
   {
    "duration": 37,
    "start_time": "2022-10-08T07:44:01.998Z"
   },
   {
    "duration": 17,
    "start_time": "2022-10-08T07:44:02.037Z"
   },
   {
    "duration": 8,
    "start_time": "2022-10-08T07:44:02.057Z"
   },
   {
    "duration": 21,
    "start_time": "2022-10-08T07:44:02.067Z"
   },
   {
    "duration": 49,
    "start_time": "2022-10-08T07:44:02.094Z"
   },
   {
    "duration": 5,
    "start_time": "2022-10-08T07:44:02.145Z"
   },
   {
    "duration": 37,
    "start_time": "2022-10-08T07:44:02.152Z"
   },
   {
    "duration": 25,
    "start_time": "2022-10-08T07:44:02.191Z"
   },
   {
    "duration": 26,
    "start_time": "2022-10-08T07:44:02.217Z"
   },
   {
    "duration": 14,
    "start_time": "2022-10-08T07:44:02.244Z"
   },
   {
    "duration": 43,
    "start_time": "2022-10-08T07:44:02.260Z"
   },
   {
    "duration": 29,
    "start_time": "2022-10-08T07:44:02.304Z"
   },
   {
    "duration": 42,
    "start_time": "2022-10-08T07:44:02.335Z"
   },
   {
    "duration": 13,
    "start_time": "2022-10-08T07:44:02.379Z"
   },
   {
    "duration": 15,
    "start_time": "2022-10-08T07:44:02.394Z"
   },
   {
    "duration": 18,
    "start_time": "2022-10-08T07:44:02.411Z"
   },
   {
    "duration": 18,
    "start_time": "2022-10-08T07:44:02.431Z"
   },
   {
    "duration": 9,
    "start_time": "2022-10-08T07:44:02.451Z"
   },
   {
    "duration": 30,
    "start_time": "2022-10-08T07:44:02.461Z"
   },
   {
    "duration": 7,
    "start_time": "2022-10-08T07:44:02.493Z"
   },
   {
    "duration": 11,
    "start_time": "2022-10-08T07:45:03.122Z"
   },
   {
    "duration": 7,
    "start_time": "2022-10-08T07:45:05.929Z"
   },
   {
    "duration": 3,
    "start_time": "2022-10-08T07:45:59.452Z"
   },
   {
    "duration": 53,
    "start_time": "2022-10-08T07:45:59.457Z"
   },
   {
    "duration": 13,
    "start_time": "2022-10-08T07:45:59.512Z"
   },
   {
    "duration": 16,
    "start_time": "2022-10-08T07:45:59.526Z"
   },
   {
    "duration": 4,
    "start_time": "2022-10-08T07:45:59.543Z"
   },
   {
    "duration": 7,
    "start_time": "2022-10-08T07:45:59.548Z"
   },
   {
    "duration": 15,
    "start_time": "2022-10-08T07:45:59.556Z"
   },
   {
    "duration": 44,
    "start_time": "2022-10-08T07:45:59.572Z"
   },
   {
    "duration": 13,
    "start_time": "2022-10-08T07:45:59.618Z"
   },
   {
    "duration": 6,
    "start_time": "2022-10-08T07:45:59.632Z"
   },
   {
    "duration": 6,
    "start_time": "2022-10-08T07:45:59.640Z"
   },
   {
    "duration": 51,
    "start_time": "2022-10-08T07:45:59.647Z"
   },
   {
    "duration": 6,
    "start_time": "2022-10-08T07:45:59.699Z"
   },
   {
    "duration": 17,
    "start_time": "2022-10-08T07:45:59.708Z"
   },
   {
    "duration": 17,
    "start_time": "2022-10-08T07:45:59.726Z"
   },
   {
    "duration": 52,
    "start_time": "2022-10-08T07:45:59.744Z"
   },
   {
    "duration": 14,
    "start_time": "2022-10-08T07:45:59.798Z"
   },
   {
    "duration": 13,
    "start_time": "2022-10-08T07:45:59.814Z"
   },
   {
    "duration": 11,
    "start_time": "2022-10-08T07:45:59.829Z"
   },
   {
    "duration": 16,
    "start_time": "2022-10-08T07:45:59.842Z"
   },
   {
    "duration": 42,
    "start_time": "2022-10-08T07:45:59.860Z"
   },
   {
    "duration": 5,
    "start_time": "2022-10-08T07:45:59.904Z"
   },
   {
    "duration": 6,
    "start_time": "2022-10-08T07:45:59.911Z"
   },
   {
    "duration": 6,
    "start_time": "2022-10-08T07:45:59.918Z"
   },
   {
    "duration": 6,
    "start_time": "2022-10-08T07:45:59.926Z"
   },
   {
    "duration": 18,
    "start_time": "2022-10-08T07:45:59.933Z"
   },
   {
    "duration": 2,
    "start_time": "2022-10-08T07:45:59.952Z"
   },
   {
    "duration": 12,
    "start_time": "2022-10-08T07:46:12.119Z"
   },
   {
    "duration": 14,
    "start_time": "2022-10-08T07:49:16.989Z"
   },
   {
    "duration": 3,
    "start_time": "2022-10-08T08:23:26.345Z"
   },
   {
    "duration": 58,
    "start_time": "2022-10-08T08:23:26.350Z"
   },
   {
    "duration": 16,
    "start_time": "2022-10-08T08:23:26.409Z"
   },
   {
    "duration": 16,
    "start_time": "2022-10-08T08:23:26.428Z"
   },
   {
    "duration": 5,
    "start_time": "2022-10-08T08:23:26.445Z"
   },
   {
    "duration": 11,
    "start_time": "2022-10-08T08:23:26.452Z"
   },
   {
    "duration": 39,
    "start_time": "2022-10-08T08:23:26.465Z"
   },
   {
    "duration": 35,
    "start_time": "2022-10-08T08:23:26.506Z"
   },
   {
    "duration": 20,
    "start_time": "2022-10-08T08:23:26.545Z"
   },
   {
    "duration": 30,
    "start_time": "2022-10-08T08:23:26.567Z"
   },
   {
    "duration": 25,
    "start_time": "2022-10-08T08:23:26.599Z"
   },
   {
    "duration": 46,
    "start_time": "2022-10-08T08:23:26.626Z"
   },
   {
    "duration": 7,
    "start_time": "2022-10-08T08:23:26.674Z"
   },
   {
    "duration": 24,
    "start_time": "2022-10-08T08:23:26.683Z"
   },
   {
    "duration": 26,
    "start_time": "2022-10-08T08:23:26.709Z"
   },
   {
    "duration": 34,
    "start_time": "2022-10-08T08:23:26.737Z"
   },
   {
    "duration": 25,
    "start_time": "2022-10-08T08:23:26.772Z"
   },
   {
    "duration": 17,
    "start_time": "2022-10-08T08:23:26.798Z"
   },
   {
    "duration": 12,
    "start_time": "2022-10-08T08:23:26.817Z"
   },
   {
    "duration": 26,
    "start_time": "2022-10-08T08:23:26.830Z"
   },
   {
    "duration": 42,
    "start_time": "2022-10-08T08:23:26.858Z"
   },
   {
    "duration": 5,
    "start_time": "2022-10-08T08:23:26.901Z"
   },
   {
    "duration": 6,
    "start_time": "2022-10-08T08:23:26.908Z"
   },
   {
    "duration": 5,
    "start_time": "2022-10-08T08:23:26.917Z"
   },
   {
    "duration": 5,
    "start_time": "2022-10-08T08:23:26.924Z"
   },
   {
    "duration": 20,
    "start_time": "2022-10-08T08:23:26.931Z"
   },
   {
    "duration": 2,
    "start_time": "2022-10-08T08:23:26.952Z"
   },
   {
    "duration": 45,
    "start_time": "2022-10-08T08:23:26.955Z"
   },
   {
    "duration": 34,
    "start_time": "2022-10-08T08:23:27.001Z"
   },
   {
    "duration": 11,
    "start_time": "2022-10-08T08:23:27.036Z"
   },
   {
    "duration": 18,
    "start_time": "2022-10-08T08:23:27.049Z"
   },
   {
    "duration": 215,
    "start_time": "2022-10-08T08:23:27.068Z"
   },
   {
    "duration": 12,
    "start_time": "2022-10-08T08:23:27.285Z"
   },
   {
    "duration": 8,
    "start_time": "2022-10-08T08:23:27.299Z"
   },
   {
    "duration": 11,
    "start_time": "2022-10-08T08:23:27.308Z"
   },
   {
    "duration": 5,
    "start_time": "2022-10-08T08:25:00.606Z"
   },
   {
    "duration": 9,
    "start_time": "2022-10-08T08:25:32.464Z"
   },
   {
    "duration": 9,
    "start_time": "2022-10-08T08:25:39.902Z"
   },
   {
    "duration": 10,
    "start_time": "2022-10-08T08:25:44.826Z"
   },
   {
    "duration": 4,
    "start_time": "2022-10-08T08:26:03.057Z"
   },
   {
    "duration": 4,
    "start_time": "2022-10-08T08:28:27.075Z"
   },
   {
    "duration": 6,
    "start_time": "2022-10-08T08:28:32.034Z"
   },
   {
    "duration": 4,
    "start_time": "2022-10-08T08:28:47.550Z"
   },
   {
    "duration": 17,
    "start_time": "2022-10-08T08:28:59.166Z"
   },
   {
    "duration": 4,
    "start_time": "2022-10-08T08:29:03.985Z"
   },
   {
    "duration": 24,
    "start_time": "2022-10-08T08:29:15.431Z"
   },
   {
    "duration": 37,
    "start_time": "2022-10-08T08:53:25.809Z"
   },
   {
    "duration": 19,
    "start_time": "2022-10-08T08:56:49.215Z"
   },
   {
    "duration": 18,
    "start_time": "2022-10-08T08:56:58.172Z"
   },
   {
    "duration": 24,
    "start_time": "2022-10-08T08:57:17.185Z"
   },
   {
    "duration": 7,
    "start_time": "2022-10-08T08:57:39.683Z"
   },
   {
    "duration": 10,
    "start_time": "2022-10-08T08:58:29.176Z"
   },
   {
    "duration": 7,
    "start_time": "2022-10-08T08:58:39.432Z"
   },
   {
    "duration": 9,
    "start_time": "2022-10-08T08:58:51.504Z"
   },
   {
    "duration": 53,
    "start_time": "2022-10-08T08:58:59.587Z"
   },
   {
    "duration": 7,
    "start_time": "2022-10-08T08:59:10.004Z"
   },
   {
    "duration": 15,
    "start_time": "2022-10-08T09:00:07.567Z"
   },
   {
    "duration": 14,
    "start_time": "2022-10-08T09:00:28.960Z"
   },
   {
    "duration": 17,
    "start_time": "2022-10-08T09:00:42.562Z"
   },
   {
    "duration": 16,
    "start_time": "2022-10-08T09:02:50.835Z"
   },
   {
    "duration": 51,
    "start_time": "2022-10-09T11:51:10.119Z"
   },
   {
    "duration": 6,
    "start_time": "2022-10-09T11:51:18.943Z"
   },
   {
    "duration": 1312,
    "start_time": "2022-10-09T11:51:39.070Z"
   },
   {
    "duration": 98,
    "start_time": "2022-10-09T11:51:40.384Z"
   },
   {
    "duration": 21,
    "start_time": "2022-10-09T11:51:40.484Z"
   },
   {
    "duration": 20,
    "start_time": "2022-10-09T11:51:40.507Z"
   },
   {
    "duration": 4,
    "start_time": "2022-10-09T11:51:40.529Z"
   },
   {
    "duration": 8,
    "start_time": "2022-10-09T11:51:40.535Z"
   },
   {
    "duration": 16,
    "start_time": "2022-10-09T11:51:40.545Z"
   },
   {
    "duration": 35,
    "start_time": "2022-10-09T11:51:40.562Z"
   },
   {
    "duration": 68,
    "start_time": "2022-10-09T11:51:40.598Z"
   },
   {
    "duration": 9,
    "start_time": "2022-10-09T11:51:40.670Z"
   },
   {
    "duration": 8,
    "start_time": "2022-10-09T11:51:40.681Z"
   },
   {
    "duration": 31,
    "start_time": "2022-10-09T11:51:40.690Z"
   },
   {
    "duration": 5,
    "start_time": "2022-10-09T11:51:40.723Z"
   },
   {
    "duration": 49,
    "start_time": "2022-10-09T11:51:40.729Z"
   },
   {
    "duration": 21,
    "start_time": "2022-10-09T11:51:40.780Z"
   },
   {
    "duration": 36,
    "start_time": "2022-10-09T11:51:40.803Z"
   },
   {
    "duration": 15,
    "start_time": "2022-10-09T11:51:40.854Z"
   },
   {
    "duration": 18,
    "start_time": "2022-10-09T11:51:40.870Z"
   },
   {
    "duration": 15,
    "start_time": "2022-10-09T11:51:40.890Z"
   },
   {
    "duration": 26,
    "start_time": "2022-10-09T11:51:40.906Z"
   },
   {
    "duration": 36,
    "start_time": "2022-10-09T11:51:40.934Z"
   },
   {
    "duration": 4,
    "start_time": "2022-10-09T11:51:40.972Z"
   },
   {
    "duration": 8,
    "start_time": "2022-10-09T11:51:40.978Z"
   },
   {
    "duration": 19,
    "start_time": "2022-10-09T11:51:40.988Z"
   },
   {
    "duration": 7,
    "start_time": "2022-10-09T11:51:41.009Z"
   },
   {
    "duration": 44,
    "start_time": "2022-10-09T11:51:41.017Z"
   },
   {
    "duration": 2,
    "start_time": "2022-10-09T11:51:41.064Z"
   },
   {
    "duration": 18,
    "start_time": "2022-10-09T11:51:41.069Z"
   },
   {
    "duration": 39,
    "start_time": "2022-10-09T11:51:41.089Z"
   },
   {
    "duration": 35,
    "start_time": "2022-10-09T11:51:41.130Z"
   },
   {
    "duration": 19,
    "start_time": "2022-10-09T11:51:41.167Z"
   },
   {
    "duration": 224,
    "start_time": "2022-10-09T11:51:41.188Z"
   },
   {
    "duration": 10,
    "start_time": "2022-10-09T11:51:41.414Z"
   },
   {
    "duration": 12,
    "start_time": "2022-10-09T11:51:41.426Z"
   },
   {
    "duration": 24,
    "start_time": "2022-10-09T11:51:41.440Z"
   },
   {
    "duration": 14,
    "start_time": "2022-10-09T11:51:41.466Z"
   },
   {
    "duration": 36,
    "start_time": "2022-10-09T11:51:41.482Z"
   },
   {
    "duration": 20,
    "start_time": "2022-10-09T11:51:41.520Z"
   },
   {
    "duration": 6,
    "start_time": "2022-10-09T11:52:02.690Z"
   },
   {
    "duration": 9,
    "start_time": "2022-10-09T11:52:34.271Z"
   },
   {
    "duration": 4,
    "start_time": "2022-10-09T11:52:52.273Z"
   },
   {
    "duration": 8,
    "start_time": "2022-10-09T11:52:56.352Z"
   },
   {
    "duration": 12,
    "start_time": "2022-10-09T11:54:00.777Z"
   },
   {
    "duration": 6,
    "start_time": "2022-10-09T11:54:18.080Z"
   },
   {
    "duration": 9,
    "start_time": "2022-10-09T11:54:25.091Z"
   },
   {
    "duration": 73,
    "start_time": "2022-10-09T11:58:33.720Z"
   },
   {
    "duration": 75,
    "start_time": "2022-10-09T11:59:39.217Z"
   },
   {
    "duration": 8,
    "start_time": "2022-10-09T12:18:55.913Z"
   },
   {
    "duration": 277,
    "start_time": "2022-10-09T12:20:48.124Z"
   },
   {
    "duration": 299,
    "start_time": "2022-10-09T12:23:36.781Z"
   },
   {
    "duration": 239,
    "start_time": "2022-10-09T12:23:47.376Z"
   },
   {
    "duration": 251,
    "start_time": "2022-10-09T12:24:21.214Z"
   },
   {
    "duration": 204,
    "start_time": "2022-10-09T12:25:33.107Z"
   },
   {
    "duration": 478,
    "start_time": "2022-10-09T12:25:42.529Z"
   },
   {
    "duration": 281,
    "start_time": "2022-10-09T12:25:54.952Z"
   },
   {
    "duration": 505,
    "start_time": "2022-10-09T12:26:40.493Z"
   },
   {
    "duration": 333,
    "start_time": "2022-10-09T12:26:46.823Z"
   },
   {
    "duration": 20,
    "start_time": "2022-10-09T12:27:01.141Z"
   },
   {
    "duration": 222,
    "start_time": "2022-10-09T12:28:25.267Z"
   },
   {
    "duration": 210,
    "start_time": "2022-10-09T12:29:07.222Z"
   },
   {
    "duration": 285,
    "start_time": "2022-10-09T12:29:14.370Z"
   },
   {
    "duration": 13,
    "start_time": "2022-10-09T12:32:46.643Z"
   },
   {
    "duration": 10,
    "start_time": "2022-10-09T12:32:58.984Z"
   },
   {
    "duration": 11,
    "start_time": "2022-10-09T12:33:36.486Z"
   },
   {
    "duration": 258,
    "start_time": "2022-10-09T12:39:12.956Z"
   },
   {
    "duration": 14,
    "start_time": "2022-10-09T12:42:37.012Z"
   },
   {
    "duration": 14,
    "start_time": "2022-10-09T12:43:05.414Z"
   },
   {
    "duration": 2,
    "start_time": "2022-10-09T12:46:17.736Z"
   },
   {
    "duration": 3,
    "start_time": "2022-10-09T12:47:01.032Z"
   },
   {
    "duration": 3,
    "start_time": "2022-10-09T12:51:13.255Z"
   },
   {
    "duration": 98,
    "start_time": "2022-10-09T13:05:55.916Z"
   },
   {
    "duration": 18,
    "start_time": "2022-10-09T13:39:24.514Z"
   },
   {
    "duration": 3,
    "start_time": "2022-10-09T13:39:37.528Z"
   },
   {
    "duration": 55,
    "start_time": "2022-10-09T13:39:37.534Z"
   },
   {
    "duration": 14,
    "start_time": "2022-10-09T13:39:37.591Z"
   },
   {
    "duration": 19,
    "start_time": "2022-10-09T13:39:37.607Z"
   },
   {
    "duration": 4,
    "start_time": "2022-10-09T13:39:37.628Z"
   },
   {
    "duration": 11,
    "start_time": "2022-10-09T13:39:37.655Z"
   },
   {
    "duration": 23,
    "start_time": "2022-10-09T13:39:37.668Z"
   },
   {
    "duration": 34,
    "start_time": "2022-10-09T13:39:37.693Z"
   },
   {
    "duration": 26,
    "start_time": "2022-10-09T13:39:37.729Z"
   },
   {
    "duration": 7,
    "start_time": "2022-10-09T13:39:37.756Z"
   },
   {
    "duration": 7,
    "start_time": "2022-10-09T13:39:37.764Z"
   },
   {
    "duration": 30,
    "start_time": "2022-10-09T13:39:37.773Z"
   },
   {
    "duration": 5,
    "start_time": "2022-10-09T13:39:37.805Z"
   },
   {
    "duration": 47,
    "start_time": "2022-10-09T13:39:37.812Z"
   },
   {
    "duration": 18,
    "start_time": "2022-10-09T13:39:37.861Z"
   },
   {
    "duration": 27,
    "start_time": "2022-10-09T13:39:37.881Z"
   },
   {
    "duration": 14,
    "start_time": "2022-10-09T13:39:37.910Z"
   },
   {
    "duration": 38,
    "start_time": "2022-10-09T13:39:37.925Z"
   },
   {
    "duration": 13,
    "start_time": "2022-10-09T13:39:37.965Z"
   },
   {
    "duration": 25,
    "start_time": "2022-10-09T13:39:37.980Z"
   },
   {
    "duration": 18,
    "start_time": "2022-10-09T13:39:38.007Z"
   },
   {
    "duration": 5,
    "start_time": "2022-10-09T13:39:38.054Z"
   },
   {
    "duration": 8,
    "start_time": "2022-10-09T13:39:38.060Z"
   },
   {
    "duration": 7,
    "start_time": "2022-10-09T13:39:38.071Z"
   },
   {
    "duration": 8,
    "start_time": "2022-10-09T13:39:38.079Z"
   },
   {
    "duration": 24,
    "start_time": "2022-10-09T13:39:38.089Z"
   },
   {
    "duration": 3,
    "start_time": "2022-10-09T13:39:38.114Z"
   },
   {
    "duration": 43,
    "start_time": "2022-10-09T13:39:38.119Z"
   },
   {
    "duration": 39,
    "start_time": "2022-10-09T13:39:38.165Z"
   },
   {
    "duration": 13,
    "start_time": "2022-10-09T13:39:38.205Z"
   },
   {
    "duration": 49,
    "start_time": "2022-10-09T13:39:38.220Z"
   },
   {
    "duration": 212,
    "start_time": "2022-10-09T13:39:38.271Z"
   },
   {
    "duration": 10,
    "start_time": "2022-10-09T13:39:38.485Z"
   },
   {
    "duration": 9,
    "start_time": "2022-10-09T13:39:38.497Z"
   },
   {
    "duration": 14,
    "start_time": "2022-10-09T13:39:38.508Z"
   },
   {
    "duration": 7,
    "start_time": "2022-10-09T13:39:38.523Z"
   },
   {
    "duration": 34,
    "start_time": "2022-10-09T13:39:38.532Z"
   },
   {
    "duration": 9,
    "start_time": "2022-10-09T13:39:38.568Z"
   },
   {
    "duration": 16,
    "start_time": "2022-10-09T13:39:38.579Z"
   },
   {
    "duration": 5,
    "start_time": "2022-10-09T13:39:38.597Z"
   },
   {
    "duration": 10,
    "start_time": "2022-10-09T13:39:38.603Z"
   },
   {
    "duration": 21,
    "start_time": "2022-10-09T13:39:38.615Z"
   },
   {
    "duration": 26,
    "start_time": "2022-10-09T13:39:38.637Z"
   },
   {
    "duration": 8,
    "start_time": "2022-10-09T13:39:38.672Z"
   },
   {
    "duration": 20,
    "start_time": "2022-10-09T13:39:38.681Z"
   },
   {
    "duration": 24,
    "start_time": "2022-10-09T13:39:38.704Z"
   },
   {
    "duration": 16,
    "start_time": "2022-10-09T13:39:55.090Z"
   },
   {
    "duration": 6,
    "start_time": "2022-10-09T13:44:13.755Z"
   },
   {
    "duration": 7,
    "start_time": "2022-10-09T13:44:31.639Z"
   },
   {
    "duration": 14,
    "start_time": "2022-10-09T13:44:43.731Z"
   },
   {
    "duration": 16,
    "start_time": "2022-10-09T13:50:09.567Z"
   },
   {
    "duration": 15,
    "start_time": "2022-10-09T13:50:15.509Z"
   },
   {
    "duration": 16,
    "start_time": "2022-10-09T13:51:06.073Z"
   },
   {
    "duration": 12,
    "start_time": "2022-10-09T13:51:38.813Z"
   },
   {
    "duration": 11,
    "start_time": "2022-10-09T13:52:35.630Z"
   },
   {
    "duration": 11,
    "start_time": "2022-10-09T13:52:56.850Z"
   },
   {
    "duration": 18,
    "start_time": "2022-10-09T13:54:18.480Z"
   },
   {
    "duration": 3,
    "start_time": "2022-10-09T13:58:30.091Z"
   },
   {
    "duration": 105,
    "start_time": "2022-10-09T13:58:30.097Z"
   },
   {
    "duration": 14,
    "start_time": "2022-10-09T13:58:30.204Z"
   },
   {
    "duration": 32,
    "start_time": "2022-10-09T13:58:30.220Z"
   },
   {
    "duration": 25,
    "start_time": "2022-10-09T13:58:30.254Z"
   },
   {
    "duration": 22,
    "start_time": "2022-10-09T13:58:30.281Z"
   },
   {
    "duration": 38,
    "start_time": "2022-10-09T13:58:30.304Z"
   },
   {
    "duration": 71,
    "start_time": "2022-10-09T13:58:30.344Z"
   },
   {
    "duration": 17,
    "start_time": "2022-10-09T13:58:30.417Z"
   },
   {
    "duration": 21,
    "start_time": "2022-10-09T13:58:30.437Z"
   },
   {
    "duration": 38,
    "start_time": "2022-10-09T13:58:30.460Z"
   },
   {
    "duration": 63,
    "start_time": "2022-10-09T13:58:30.501Z"
   },
   {
    "duration": 15,
    "start_time": "2022-10-09T13:58:30.566Z"
   },
   {
    "duration": 41,
    "start_time": "2022-10-09T13:58:30.585Z"
   },
   {
    "duration": 40,
    "start_time": "2022-10-09T13:58:30.627Z"
   },
   {
    "duration": 44,
    "start_time": "2022-10-09T13:58:30.670Z"
   },
   {
    "duration": 14,
    "start_time": "2022-10-09T13:58:30.716Z"
   },
   {
    "duration": 43,
    "start_time": "2022-10-09T13:58:30.732Z"
   },
   {
    "duration": 39,
    "start_time": "2022-10-09T13:58:30.777Z"
   },
   {
    "duration": 35,
    "start_time": "2022-10-09T13:58:30.818Z"
   },
   {
    "duration": 49,
    "start_time": "2022-10-09T13:58:30.855Z"
   },
   {
    "duration": 29,
    "start_time": "2022-10-09T13:58:30.906Z"
   },
   {
    "duration": 25,
    "start_time": "2022-10-09T13:58:30.937Z"
   },
   {
    "duration": 52,
    "start_time": "2022-10-09T13:58:30.964Z"
   },
   {
    "duration": 30,
    "start_time": "2022-10-09T13:58:31.018Z"
   },
   {
    "duration": 56,
    "start_time": "2022-10-09T13:58:31.050Z"
   },
   {
    "duration": 33,
    "start_time": "2022-10-09T13:58:31.109Z"
   },
   {
    "duration": 51,
    "start_time": "2022-10-09T13:58:31.144Z"
   },
   {
    "duration": 44,
    "start_time": "2022-10-09T13:58:31.197Z"
   },
   {
    "duration": 13,
    "start_time": "2022-10-09T13:58:31.243Z"
   },
   {
    "duration": 28,
    "start_time": "2022-10-09T13:58:31.258Z"
   },
   {
    "duration": 291,
    "start_time": "2022-10-09T13:58:31.288Z"
   },
   {
    "duration": 14,
    "start_time": "2022-10-09T13:58:31.581Z"
   },
   {
    "duration": 22,
    "start_time": "2022-10-09T13:58:31.597Z"
   },
   {
    "duration": 36,
    "start_time": "2022-10-09T13:58:31.623Z"
   },
   {
    "duration": 37,
    "start_time": "2022-10-09T13:58:31.661Z"
   },
   {
    "duration": 39,
    "start_time": "2022-10-09T13:58:31.700Z"
   },
   {
    "duration": 25,
    "start_time": "2022-10-09T13:58:31.741Z"
   },
   {
    "duration": 18,
    "start_time": "2022-10-09T13:58:31.768Z"
   },
   {
    "duration": 10,
    "start_time": "2022-10-09T13:58:31.788Z"
   },
   {
    "duration": 51,
    "start_time": "2022-10-09T13:58:31.803Z"
   },
   {
    "duration": 20,
    "start_time": "2022-10-09T13:58:31.856Z"
   },
   {
    "duration": 43,
    "start_time": "2022-10-09T13:58:31.878Z"
   },
   {
    "duration": 7,
    "start_time": "2022-10-09T13:58:31.923Z"
   },
   {
    "duration": 26,
    "start_time": "2022-10-09T13:58:31.931Z"
   },
   {
    "duration": 37,
    "start_time": "2022-10-09T13:58:31.959Z"
   },
   {
    "duration": 16,
    "start_time": "2022-10-09T13:58:31.998Z"
   },
   {
    "duration": 23,
    "start_time": "2022-10-09T13:58:32.015Z"
   },
   {
    "duration": 350,
    "start_time": "2022-10-09T14:00:46.562Z"
   },
   {
    "duration": 3,
    "start_time": "2022-10-09T14:00:58.573Z"
   },
   {
    "duration": 1077,
    "start_time": "2022-10-09T14:01:12.476Z"
   },
   {
    "duration": 4,
    "start_time": "2022-10-09T14:07:16.785Z"
   },
   {
    "duration": 8,
    "start_time": "2022-10-09T14:10:05.731Z"
   },
   {
    "duration": 9,
    "start_time": "2022-10-09T14:11:28.218Z"
   },
   {
    "duration": 3,
    "start_time": "2022-10-09T14:11:49.157Z"
   },
   {
    "duration": 54,
    "start_time": "2022-10-09T14:11:49.162Z"
   },
   {
    "duration": 14,
    "start_time": "2022-10-09T14:11:49.217Z"
   },
   {
    "duration": 31,
    "start_time": "2022-10-09T14:11:49.234Z"
   },
   {
    "duration": 4,
    "start_time": "2022-10-09T14:11:49.267Z"
   },
   {
    "duration": 9,
    "start_time": "2022-10-09T14:11:49.273Z"
   },
   {
    "duration": 17,
    "start_time": "2022-10-09T14:11:49.284Z"
   },
   {
    "duration": 57,
    "start_time": "2022-10-09T14:11:49.303Z"
   },
   {
    "duration": 18,
    "start_time": "2022-10-09T14:11:49.362Z"
   },
   {
    "duration": 9,
    "start_time": "2022-10-09T14:11:49.382Z"
   },
   {
    "duration": 10,
    "start_time": "2022-10-09T14:11:49.392Z"
   },
   {
    "duration": 52,
    "start_time": "2022-10-09T14:11:49.404Z"
   },
   {
    "duration": 7,
    "start_time": "2022-10-09T14:11:49.457Z"
   },
   {
    "duration": 18,
    "start_time": "2022-10-09T14:11:49.465Z"
   },
   {
    "duration": 23,
    "start_time": "2022-10-09T14:11:49.484Z"
   },
   {
    "duration": 49,
    "start_time": "2022-10-09T14:11:49.509Z"
   },
   {
    "duration": 13,
    "start_time": "2022-10-09T14:11:49.560Z"
   },
   {
    "duration": 19,
    "start_time": "2022-10-09T14:11:49.575Z"
   },
   {
    "duration": 21,
    "start_time": "2022-10-09T14:11:49.596Z"
   },
   {
    "duration": 20,
    "start_time": "2022-10-09T14:11:49.619Z"
   },
   {
    "duration": 14,
    "start_time": "2022-10-09T14:11:49.655Z"
   },
   {
    "duration": 5,
    "start_time": "2022-10-09T14:11:49.670Z"
   },
   {
    "duration": 8,
    "start_time": "2022-10-09T14:11:49.677Z"
   },
   {
    "duration": 9,
    "start_time": "2022-10-09T14:11:49.688Z"
   },
   {
    "duration": 8,
    "start_time": "2022-10-09T14:11:49.699Z"
   },
   {
    "duration": 46,
    "start_time": "2022-10-09T14:11:49.709Z"
   },
   {
    "duration": 3,
    "start_time": "2022-10-09T14:11:49.757Z"
   },
   {
    "duration": 20,
    "start_time": "2022-10-09T14:11:49.761Z"
   },
   {
    "duration": 38,
    "start_time": "2022-10-09T14:11:49.783Z"
   },
   {
    "duration": 35,
    "start_time": "2022-10-09T14:11:49.823Z"
   },
   {
    "duration": 34,
    "start_time": "2022-10-09T14:11:49.860Z"
   },
   {
    "duration": 205,
    "start_time": "2022-10-09T14:11:49.896Z"
   },
   {
    "duration": 10,
    "start_time": "2022-10-09T14:11:50.103Z"
   },
   {
    "duration": 13,
    "start_time": "2022-10-09T14:11:50.115Z"
   },
   {
    "duration": 13,
    "start_time": "2022-10-09T14:11:50.129Z"
   },
   {
    "duration": 10,
    "start_time": "2022-10-09T14:11:50.154Z"
   },
   {
    "duration": 19,
    "start_time": "2022-10-09T14:11:50.166Z"
   },
   {
    "duration": 7,
    "start_time": "2022-10-09T14:11:50.186Z"
   },
   {
    "duration": 17,
    "start_time": "2022-10-09T14:11:50.195Z"
   },
   {
    "duration": 5,
    "start_time": "2022-10-09T14:11:50.213Z"
   },
   {
    "duration": 36,
    "start_time": "2022-10-09T14:11:50.220Z"
   },
   {
    "duration": 7,
    "start_time": "2022-10-09T14:11:50.258Z"
   },
   {
    "duration": 19,
    "start_time": "2022-10-09T14:11:50.267Z"
   },
   {
    "duration": 7,
    "start_time": "2022-10-09T14:11:50.288Z"
   },
   {
    "duration": 4,
    "start_time": "2022-10-09T14:11:50.298Z"
   },
   {
    "duration": 52,
    "start_time": "2022-10-09T14:11:50.304Z"
   },
   {
    "duration": 17,
    "start_time": "2022-10-09T14:11:50.358Z"
   },
   {
    "duration": 10,
    "start_time": "2022-10-09T14:11:50.377Z"
   },
   {
    "duration": 22,
    "start_time": "2022-10-09T14:12:10.708Z"
   },
   {
    "duration": 4,
    "start_time": "2022-10-09T14:13:10.410Z"
   },
   {
    "duration": 56,
    "start_time": "2022-10-09T14:13:10.416Z"
   },
   {
    "duration": 16,
    "start_time": "2022-10-09T14:13:10.474Z"
   },
   {
    "duration": 15,
    "start_time": "2022-10-09T14:13:10.492Z"
   },
   {
    "duration": 12,
    "start_time": "2022-10-09T14:13:10.509Z"
   },
   {
    "duration": 32,
    "start_time": "2022-10-09T14:13:10.522Z"
   },
   {
    "duration": 17,
    "start_time": "2022-10-09T14:13:10.556Z"
   },
   {
    "duration": 34,
    "start_time": "2022-10-09T14:13:10.575Z"
   },
   {
    "duration": 16,
    "start_time": "2022-10-09T14:13:10.612Z"
   },
   {
    "duration": 31,
    "start_time": "2022-10-09T14:13:10.630Z"
   },
   {
    "duration": 27,
    "start_time": "2022-10-09T14:13:10.664Z"
   },
   {
    "duration": 31,
    "start_time": "2022-10-09T14:13:10.693Z"
   },
   {
    "duration": 6,
    "start_time": "2022-10-09T14:13:10.726Z"
   },
   {
    "duration": 33,
    "start_time": "2022-10-09T14:13:10.734Z"
   },
   {
    "duration": 29,
    "start_time": "2022-10-09T14:13:10.769Z"
   },
   {
    "duration": 24,
    "start_time": "2022-10-09T14:13:10.800Z"
   },
   {
    "duration": 30,
    "start_time": "2022-10-09T14:13:10.826Z"
   },
   {
    "duration": 21,
    "start_time": "2022-10-09T14:13:10.858Z"
   },
   {
    "duration": 20,
    "start_time": "2022-10-09T14:13:10.881Z"
   },
   {
    "duration": 30,
    "start_time": "2022-10-09T14:13:10.903Z"
   },
   {
    "duration": 35,
    "start_time": "2022-10-09T14:13:10.935Z"
   },
   {
    "duration": 5,
    "start_time": "2022-10-09T14:13:10.972Z"
   },
   {
    "duration": 11,
    "start_time": "2022-10-09T14:13:10.979Z"
   },
   {
    "duration": 14,
    "start_time": "2022-10-09T14:13:10.991Z"
   },
   {
    "duration": 18,
    "start_time": "2022-10-09T14:13:11.006Z"
   },
   {
    "duration": 30,
    "start_time": "2022-10-09T14:13:11.026Z"
   },
   {
    "duration": 3,
    "start_time": "2022-10-09T14:13:11.058Z"
   },
   {
    "duration": 25,
    "start_time": "2022-10-09T14:13:11.062Z"
   },
   {
    "duration": 63,
    "start_time": "2022-10-09T14:13:11.091Z"
   },
   {
    "duration": 17,
    "start_time": "2022-10-09T14:13:11.156Z"
   },
   {
    "duration": 31,
    "start_time": "2022-10-09T14:13:11.175Z"
   },
   {
    "duration": 244,
    "start_time": "2022-10-09T14:13:11.208Z"
   },
   {
    "duration": 14,
    "start_time": "2022-10-09T14:13:11.455Z"
   },
   {
    "duration": 39,
    "start_time": "2022-10-09T14:13:11.470Z"
   },
   {
    "duration": 13,
    "start_time": "2022-10-09T14:13:11.511Z"
   },
   {
    "duration": 20,
    "start_time": "2022-10-09T14:13:11.526Z"
   },
   {
    "duration": 55,
    "start_time": "2022-10-09T14:13:11.549Z"
   },
   {
    "duration": 12,
    "start_time": "2022-10-09T14:13:11.606Z"
   },
   {
    "duration": 36,
    "start_time": "2022-10-09T14:13:11.620Z"
   },
   {
    "duration": 17,
    "start_time": "2022-10-09T14:13:11.658Z"
   },
   {
    "duration": 21,
    "start_time": "2022-10-09T14:13:11.679Z"
   },
   {
    "duration": 19,
    "start_time": "2022-10-09T14:13:11.702Z"
   },
   {
    "duration": 23,
    "start_time": "2022-10-09T14:13:11.722Z"
   },
   {
    "duration": 7,
    "start_time": "2022-10-09T14:13:11.747Z"
   },
   {
    "duration": 24,
    "start_time": "2022-10-09T14:13:11.756Z"
   },
   {
    "duration": 37,
    "start_time": "2022-10-09T14:13:11.783Z"
   },
   {
    "duration": 20,
    "start_time": "2022-10-09T14:13:11.822Z"
   },
   {
    "duration": 15,
    "start_time": "2022-10-09T14:13:11.844Z"
   },
   {
    "duration": 23,
    "start_time": "2022-10-09T14:13:11.861Z"
   },
   {
    "duration": 358,
    "start_time": "2022-10-09T14:13:11.886Z"
   },
   {
    "duration": 559,
    "start_time": "2022-10-09T14:13:12.247Z"
   },
   {
    "duration": 3,
    "start_time": "2022-10-09T14:13:27.977Z"
   },
   {
    "duration": 64,
    "start_time": "2022-10-09T14:20:01.651Z"
   },
   {
    "duration": 21,
    "start_time": "2022-10-09T14:22:31.778Z"
   },
   {
    "duration": 17,
    "start_time": "2022-10-09T14:22:55.714Z"
   },
   {
    "duration": 45,
    "start_time": "2022-10-09T14:26:20.534Z"
   },
   {
    "duration": 19,
    "start_time": "2022-10-09T14:27:11.033Z"
   },
   {
    "duration": 21,
    "start_time": "2022-10-09T14:27:31.163Z"
   },
   {
    "duration": 19,
    "start_time": "2022-10-09T14:32:04.304Z"
   },
   {
    "duration": 2,
    "start_time": "2022-10-09T14:42:39.289Z"
   },
   {
    "duration": 20,
    "start_time": "2022-10-09T14:42:52.650Z"
   },
   {
    "duration": 52,
    "start_time": "2022-10-09T14:43:26.727Z"
   },
   {
    "duration": 3,
    "start_time": "2022-10-09T14:44:07.186Z"
   },
   {
    "duration": 16,
    "start_time": "2022-10-09T15:01:19.650Z"
   },
   {
    "duration": 295,
    "start_time": "2022-10-09T15:07:46.131Z"
   },
   {
    "duration": 3,
    "start_time": "2022-10-09T15:10:18.152Z"
   },
   {
    "duration": 2,
    "start_time": "2022-10-09T15:14:49.928Z"
   },
   {
    "duration": 83,
    "start_time": "2022-10-09T16:45:42.061Z"
   },
   {
    "duration": 93,
    "start_time": "2022-10-09T16:46:49.224Z"
   },
   {
    "duration": 18,
    "start_time": "2022-10-09T16:47:48.445Z"
   },
   {
    "duration": 5,
    "start_time": "2022-10-09T16:48:42.196Z"
   },
   {
    "duration": 5,
    "start_time": "2022-10-09T16:48:48.714Z"
   },
   {
    "duration": 304,
    "start_time": "2022-10-09T16:48:52.330Z"
   },
   {
    "duration": 5,
    "start_time": "2022-10-09T16:49:13.971Z"
   },
   {
    "duration": 5,
    "start_time": "2022-10-09T16:49:32.762Z"
   },
   {
    "duration": 5,
    "start_time": "2022-10-09T16:49:44.644Z"
   },
   {
    "duration": 166,
    "start_time": "2022-10-09T16:53:14.864Z"
   },
   {
    "duration": 148,
    "start_time": "2022-10-09T16:53:27.766Z"
   },
   {
    "duration": 5,
    "start_time": "2022-10-09T16:54:05.150Z"
   },
   {
    "duration": 152,
    "start_time": "2022-10-09T16:54:10.181Z"
   },
   {
    "duration": 3,
    "start_time": "2022-10-09T17:00:42.263Z"
   },
   {
    "duration": 1136,
    "start_time": "2022-10-09T17:03:41.483Z"
   },
   {
    "duration": 1015,
    "start_time": "2022-10-09T17:03:59.742Z"
   },
   {
    "duration": 2,
    "start_time": "2022-10-09T17:09:28.290Z"
   },
   {
    "duration": 3,
    "start_time": "2022-10-09T17:16:15.381Z"
   },
   {
    "duration": 11,
    "start_time": "2022-10-09T17:17:49.422Z"
   },
   {
    "duration": 16,
    "start_time": "2022-10-09T17:18:00.726Z"
   },
   {
    "duration": 3,
    "start_time": "2022-10-09T17:20:13.358Z"
   },
   {
    "duration": 3,
    "start_time": "2022-10-09T17:21:40.843Z"
   },
   {
    "duration": 18,
    "start_time": "2022-10-09T17:22:12.385Z"
   },
   {
    "duration": 27,
    "start_time": "2022-10-09T17:22:39.677Z"
   },
   {
    "duration": 22,
    "start_time": "2022-10-09T17:23:44.158Z"
   },
   {
    "duration": 46,
    "start_time": "2022-10-09T17:23:52.969Z"
   },
   {
    "duration": 15,
    "start_time": "2022-10-09T17:24:00.391Z"
   },
   {
    "duration": 22,
    "start_time": "2022-10-09T17:24:36.526Z"
   },
   {
    "duration": 16,
    "start_time": "2022-10-09T17:25:11.382Z"
   },
   {
    "duration": 16,
    "start_time": "2022-10-09T17:26:21.973Z"
   },
   {
    "duration": 58,
    "start_time": "2022-10-09T17:27:27.413Z"
   },
   {
    "duration": 3,
    "start_time": "2022-10-09T17:48:30.223Z"
   },
   {
    "duration": 3,
    "start_time": "2022-10-09T17:49:24.959Z"
   },
   {
    "duration": 3,
    "start_time": "2022-10-09T17:50:17.426Z"
   },
   {
    "duration": 3,
    "start_time": "2022-10-09T17:50:36.392Z"
   },
   {
    "duration": 18,
    "start_time": "2022-10-09T17:51:01.807Z"
   },
   {
    "duration": 17,
    "start_time": "2022-10-09T17:51:50.059Z"
   },
   {
    "duration": 22,
    "start_time": "2022-10-09T17:52:29.306Z"
   },
   {
    "duration": 485,
    "start_time": "2022-10-09T17:59:17.877Z"
   },
   {
    "duration": 3,
    "start_time": "2022-10-09T18:06:10.555Z"
   },
   {
    "duration": 2,
    "start_time": "2022-10-09T18:07:22.546Z"
   },
   {
    "duration": 4,
    "start_time": "2022-10-09T18:08:12.217Z"
   },
   {
    "duration": 13,
    "start_time": "2022-10-09T18:09:05.805Z"
   },
   {
    "duration": 13,
    "start_time": "2022-10-09T18:12:10.312Z"
   },
   {
    "duration": 72,
    "start_time": "2022-10-09T18:12:17.261Z"
   },
   {
    "duration": 12,
    "start_time": "2022-10-09T18:12:51.028Z"
   },
   {
    "duration": 15,
    "start_time": "2022-10-09T18:18:10.661Z"
   },
   {
    "duration": 2,
    "start_time": "2022-10-09T18:21:28.934Z"
   },
   {
    "duration": 3,
    "start_time": "2022-10-09T18:58:22.551Z"
   },
   {
    "duration": 56,
    "start_time": "2022-10-09T18:58:22.557Z"
   },
   {
    "duration": 15,
    "start_time": "2022-10-09T18:58:22.615Z"
   },
   {
    "duration": 24,
    "start_time": "2022-10-09T18:58:22.632Z"
   },
   {
    "duration": 5,
    "start_time": "2022-10-09T18:58:22.659Z"
   },
   {
    "duration": 8,
    "start_time": "2022-10-09T18:58:22.665Z"
   },
   {
    "duration": 17,
    "start_time": "2022-10-09T18:58:22.674Z"
   },
   {
    "duration": 63,
    "start_time": "2022-10-09T18:58:22.692Z"
   },
   {
    "duration": 17,
    "start_time": "2022-10-09T18:58:22.757Z"
   },
   {
    "duration": 8,
    "start_time": "2022-10-09T18:58:22.776Z"
   },
   {
    "duration": 9,
    "start_time": "2022-10-09T18:58:22.785Z"
   },
   {
    "duration": 58,
    "start_time": "2022-10-09T18:58:22.796Z"
   },
   {
    "duration": 7,
    "start_time": "2022-10-09T18:58:22.857Z"
   },
   {
    "duration": 27,
    "start_time": "2022-10-09T18:58:22.865Z"
   },
   {
    "duration": 25,
    "start_time": "2022-10-09T18:58:22.894Z"
   },
   {
    "duration": 34,
    "start_time": "2022-10-09T18:58:22.921Z"
   },
   {
    "duration": 15,
    "start_time": "2022-10-09T18:58:22.956Z"
   },
   {
    "duration": 21,
    "start_time": "2022-10-09T18:58:22.974Z"
   },
   {
    "duration": 21,
    "start_time": "2022-10-09T18:58:22.997Z"
   },
   {
    "duration": 35,
    "start_time": "2022-10-09T18:58:23.020Z"
   },
   {
    "duration": 14,
    "start_time": "2022-10-09T18:58:23.056Z"
   },
   {
    "duration": 8,
    "start_time": "2022-10-09T18:58:23.072Z"
   },
   {
    "duration": 12,
    "start_time": "2022-10-09T18:58:23.082Z"
   },
   {
    "duration": 11,
    "start_time": "2022-10-09T18:58:23.096Z"
   },
   {
    "duration": 14,
    "start_time": "2022-10-09T18:58:23.109Z"
   },
   {
    "duration": 18,
    "start_time": "2022-10-09T18:58:23.125Z"
   },
   {
    "duration": 12,
    "start_time": "2022-10-09T18:58:23.154Z"
   },
   {
    "duration": 19,
    "start_time": "2022-10-09T18:58:23.168Z"
   },
   {
    "duration": 37,
    "start_time": "2022-10-09T18:58:23.188Z"
   },
   {
    "duration": 28,
    "start_time": "2022-10-09T18:58:23.227Z"
   },
   {
    "duration": 28,
    "start_time": "2022-10-09T18:58:23.257Z"
   },
   {
    "duration": 211,
    "start_time": "2022-10-09T18:58:23.286Z"
   },
   {
    "duration": 10,
    "start_time": "2022-10-09T18:58:23.499Z"
   },
   {
    "duration": 8,
    "start_time": "2022-10-09T18:58:23.511Z"
   },
   {
    "duration": 10,
    "start_time": "2022-10-09T18:58:23.520Z"
   },
   {
    "duration": 8,
    "start_time": "2022-10-09T18:58:23.554Z"
   },
   {
    "duration": 17,
    "start_time": "2022-10-09T18:58:23.566Z"
   },
   {
    "duration": 10,
    "start_time": "2022-10-09T18:58:23.585Z"
   },
   {
    "duration": 12,
    "start_time": "2022-10-09T18:58:23.597Z"
   },
   {
    "duration": 5,
    "start_time": "2022-10-09T18:58:23.611Z"
   },
   {
    "duration": 11,
    "start_time": "2022-10-09T18:58:23.654Z"
   },
   {
    "duration": 16,
    "start_time": "2022-10-09T18:58:23.668Z"
   },
   {
    "duration": 21,
    "start_time": "2022-10-09T18:58:23.686Z"
   },
   {
    "duration": 6,
    "start_time": "2022-10-09T18:58:23.709Z"
   },
   {
    "duration": 40,
    "start_time": "2022-10-09T18:58:23.717Z"
   },
   {
    "duration": 21,
    "start_time": "2022-10-09T18:58:23.758Z"
   },
   {
    "duration": 12,
    "start_time": "2022-10-09T18:58:23.781Z"
   },
   {
    "duration": 22,
    "start_time": "2022-10-09T18:58:23.795Z"
   },
   {
    "duration": 383,
    "start_time": "2022-10-09T18:58:23.819Z"
   },
   {
    "duration": 460,
    "start_time": "2022-10-09T18:58:24.203Z"
   },
   {
    "duration": 18,
    "start_time": "2022-10-09T18:58:24.665Z"
   },
   {
    "duration": 24,
    "start_time": "2022-10-09T18:58:24.685Z"
   },
   {
    "duration": 64,
    "start_time": "2022-10-09T18:58:24.710Z"
   },
   {
    "duration": 301,
    "start_time": "2022-10-09T18:58:24.776Z"
   },
   {
    "duration": 19,
    "start_time": "2022-10-09T18:58:25.079Z"
   },
   {
    "duration": 9,
    "start_time": "2022-10-09T18:58:25.101Z"
   },
   {
    "duration": 169,
    "start_time": "2022-10-09T18:58:25.112Z"
   },
   {
    "duration": 5,
    "start_time": "2022-10-09T18:58:25.283Z"
   },
   {
    "duration": 165,
    "start_time": "2022-10-09T18:58:25.289Z"
   },
   {
    "duration": 1052,
    "start_time": "2022-10-09T18:58:25.456Z"
   },
   {
    "duration": 17,
    "start_time": "2022-10-09T18:58:26.510Z"
   },
   {
    "duration": 32,
    "start_time": "2022-10-09T18:58:26.529Z"
   },
   {
    "duration": 17,
    "start_time": "2022-10-09T18:58:26.563Z"
   },
   {
    "duration": 17,
    "start_time": "2022-10-09T18:58:26.581Z"
   },
   {
    "duration": 16,
    "start_time": "2022-10-09T18:58:26.600Z"
   },
   {
    "duration": 44,
    "start_time": "2022-10-09T18:58:26.618Z"
   },
   {
    "duration": 356,
    "start_time": "2022-10-09T18:58:26.664Z"
   },
   {
    "duration": 12,
    "start_time": "2022-10-09T18:58:27.022Z"
   },
   {
    "duration": 29,
    "start_time": "2022-10-09T18:58:27.036Z"
   },
   {
    "duration": 1340,
    "start_time": "2022-10-10T04:07:32.741Z"
   },
   {
    "duration": 93,
    "start_time": "2022-10-10T04:07:34.084Z"
   },
   {
    "duration": 19,
    "start_time": "2022-10-10T04:07:34.179Z"
   },
   {
    "duration": 15,
    "start_time": "2022-10-10T04:07:34.200Z"
   },
   {
    "duration": 4,
    "start_time": "2022-10-10T04:07:34.217Z"
   },
   {
    "duration": 10,
    "start_time": "2022-10-10T04:07:34.222Z"
   },
   {
    "duration": 29,
    "start_time": "2022-10-10T04:07:34.234Z"
   },
   {
    "duration": 41,
    "start_time": "2022-10-10T04:07:34.265Z"
   },
   {
    "duration": 55,
    "start_time": "2022-10-10T04:07:34.308Z"
   },
   {
    "duration": 6,
    "start_time": "2022-10-10T04:07:34.365Z"
   },
   {
    "duration": 7,
    "start_time": "2022-10-10T04:07:34.373Z"
   },
   {
    "duration": 32,
    "start_time": "2022-10-10T04:07:34.382Z"
   },
   {
    "duration": 5,
    "start_time": "2022-10-10T04:07:34.416Z"
   },
   {
    "duration": 41,
    "start_time": "2022-10-10T04:07:34.423Z"
   },
   {
    "duration": 20,
    "start_time": "2022-10-10T04:07:34.466Z"
   },
   {
    "duration": 26,
    "start_time": "2022-10-10T04:07:34.488Z"
   },
   {
    "duration": 40,
    "start_time": "2022-10-10T04:07:34.515Z"
   },
   {
    "duration": 16,
    "start_time": "2022-10-10T04:07:34.557Z"
   },
   {
    "duration": 15,
    "start_time": "2022-10-10T04:07:34.575Z"
   },
   {
    "duration": 26,
    "start_time": "2022-10-10T04:07:34.591Z"
   },
   {
    "duration": 40,
    "start_time": "2022-10-10T04:07:34.619Z"
   },
   {
    "duration": 4,
    "start_time": "2022-10-10T04:07:34.662Z"
   },
   {
    "duration": 9,
    "start_time": "2022-10-10T04:07:34.668Z"
   },
   {
    "duration": 12,
    "start_time": "2022-10-10T04:07:34.679Z"
   },
   {
    "duration": 12,
    "start_time": "2022-10-10T04:07:34.693Z"
   },
   {
    "duration": 21,
    "start_time": "2022-10-10T04:07:34.707Z"
   },
   {
    "duration": 24,
    "start_time": "2022-10-10T04:07:34.730Z"
   },
   {
    "duration": 15,
    "start_time": "2022-10-10T04:07:34.758Z"
   },
   {
    "duration": 40,
    "start_time": "2022-10-10T04:07:34.774Z"
   },
   {
    "duration": 13,
    "start_time": "2022-10-10T04:07:34.816Z"
   },
   {
    "duration": 45,
    "start_time": "2022-10-10T04:07:34.830Z"
   },
   {
    "duration": 225,
    "start_time": "2022-10-10T04:07:34.877Z"
   },
   {
    "duration": 11,
    "start_time": "2022-10-10T04:07:35.104Z"
   },
   {
    "duration": 11,
    "start_time": "2022-10-10T04:07:35.116Z"
   },
   {
    "duration": 30,
    "start_time": "2022-10-10T04:07:35.129Z"
   },
   {
    "duration": 8,
    "start_time": "2022-10-10T04:07:35.161Z"
   },
   {
    "duration": 28,
    "start_time": "2022-10-10T04:07:35.171Z"
   },
   {
    "duration": 10,
    "start_time": "2022-10-10T04:07:35.201Z"
   },
   {
    "duration": 16,
    "start_time": "2022-10-10T04:07:35.213Z"
   },
   {
    "duration": 32,
    "start_time": "2022-10-10T04:07:35.230Z"
   },
   {
    "duration": 17,
    "start_time": "2022-10-10T04:07:35.265Z"
   },
   {
    "duration": 8,
    "start_time": "2022-10-10T04:07:35.286Z"
   },
   {
    "duration": 19,
    "start_time": "2022-10-10T04:07:35.295Z"
   },
   {
    "duration": 7,
    "start_time": "2022-10-10T04:07:35.316Z"
   },
   {
    "duration": 22,
    "start_time": "2022-10-10T04:07:35.355Z"
   },
   {
    "duration": 26,
    "start_time": "2022-10-10T04:07:35.380Z"
   },
   {
    "duration": 11,
    "start_time": "2022-10-10T04:07:35.408Z"
   },
   {
    "duration": 34,
    "start_time": "2022-10-10T04:07:35.420Z"
   },
   {
    "duration": 367,
    "start_time": "2022-10-10T04:07:35.456Z"
   },
   {
    "duration": 450,
    "start_time": "2022-10-10T04:07:35.825Z"
   },
   {
    "duration": 17,
    "start_time": "2022-10-10T04:07:36.276Z"
   },
   {
    "duration": 29,
    "start_time": "2022-10-10T04:07:36.295Z"
   },
   {
    "duration": 56,
    "start_time": "2022-10-10T04:07:36.326Z"
   },
   {
    "duration": 324,
    "start_time": "2022-10-10T04:07:36.384Z"
   },
   {
    "duration": 20,
    "start_time": "2022-10-10T04:07:36.709Z"
   },
   {
    "duration": 23,
    "start_time": "2022-10-10T04:07:36.731Z"
   },
   {
    "duration": 172,
    "start_time": "2022-10-10T04:07:36.756Z"
   },
   {
    "duration": 5,
    "start_time": "2022-10-10T04:07:36.930Z"
   },
   {
    "duration": 252,
    "start_time": "2022-10-10T04:07:36.938Z"
   },
   {
    "duration": 906,
    "start_time": "2022-10-10T04:07:37.192Z"
   },
   {
    "duration": 16,
    "start_time": "2022-10-10T04:07:38.100Z"
   },
   {
    "duration": 16,
    "start_time": "2022-10-10T04:07:38.118Z"
   },
   {
    "duration": 32,
    "start_time": "2022-10-10T04:07:38.135Z"
   },
   {
    "duration": 19,
    "start_time": "2022-10-10T04:07:38.168Z"
   },
   {
    "duration": 15,
    "start_time": "2022-10-10T04:07:38.189Z"
   },
   {
    "duration": 15,
    "start_time": "2022-10-10T04:07:38.205Z"
   },
   {
    "duration": 382,
    "start_time": "2022-10-10T04:07:38.222Z"
   },
   {
    "duration": 13,
    "start_time": "2022-10-10T04:07:38.606Z"
   },
   {
    "duration": 20,
    "start_time": "2022-10-10T04:07:38.620Z"
   },
   {
    "duration": 13,
    "start_time": "2022-10-10T04:08:20.220Z"
   },
   {
    "duration": 1542,
    "start_time": "2022-10-10T04:10:08.123Z"
   },
   {
    "duration": 22,
    "start_time": "2022-10-10T04:10:15.250Z"
   },
   {
    "duration": 250,
    "start_time": "2022-10-10T04:10:38.388Z"
   },
   {
    "duration": 381,
    "start_time": "2022-10-10T04:11:02.170Z"
   },
   {
    "duration": 267,
    "start_time": "2022-10-10T04:11:38.817Z"
   },
   {
    "duration": 1255,
    "start_time": "2022-10-10T04:39:06.853Z"
   },
   {
    "duration": 56,
    "start_time": "2022-10-10T04:39:08.110Z"
   },
   {
    "duration": 26,
    "start_time": "2022-10-10T04:39:08.168Z"
   },
   {
    "duration": 20,
    "start_time": "2022-10-10T04:39:08.197Z"
   },
   {
    "duration": 7,
    "start_time": "2022-10-10T04:39:08.220Z"
   },
   {
    "duration": 27,
    "start_time": "2022-10-10T04:39:08.229Z"
   },
   {
    "duration": 21,
    "start_time": "2022-10-10T04:39:08.258Z"
   },
   {
    "duration": 39,
    "start_time": "2022-10-10T04:39:08.281Z"
   },
   {
    "duration": 83,
    "start_time": "2022-10-10T04:39:08.321Z"
   },
   {
    "duration": 7,
    "start_time": "2022-10-10T04:39:08.407Z"
   },
   {
    "duration": 9,
    "start_time": "2022-10-10T04:39:08.416Z"
   },
   {
    "duration": 45,
    "start_time": "2022-10-10T04:39:08.427Z"
   },
   {
    "duration": 6,
    "start_time": "2022-10-10T04:39:08.474Z"
   },
   {
    "duration": 19,
    "start_time": "2022-10-10T04:39:08.481Z"
   },
   {
    "duration": 19,
    "start_time": "2022-10-10T04:39:08.502Z"
   },
   {
    "duration": 52,
    "start_time": "2022-10-10T04:39:08.522Z"
   },
   {
    "duration": 14,
    "start_time": "2022-10-10T04:39:08.576Z"
   },
   {
    "duration": 23,
    "start_time": "2022-10-10T04:39:08.592Z"
   },
   {
    "duration": 47,
    "start_time": "2022-10-10T04:39:08.618Z"
   },
   {
    "duration": 34,
    "start_time": "2022-10-10T04:39:08.667Z"
   },
   {
    "duration": 21,
    "start_time": "2022-10-10T04:39:08.703Z"
   },
   {
    "duration": 6,
    "start_time": "2022-10-10T04:39:08.727Z"
   },
   {
    "duration": 25,
    "start_time": "2022-10-10T04:39:08.734Z"
   },
   {
    "duration": 11,
    "start_time": "2022-10-10T04:39:08.761Z"
   },
   {
    "duration": 10,
    "start_time": "2022-10-10T04:39:08.774Z"
   },
   {
    "duration": 26,
    "start_time": "2022-10-10T04:39:08.786Z"
   },
   {
    "duration": 3,
    "start_time": "2022-10-10T04:39:08.813Z"
   },
   {
    "duration": 52,
    "start_time": "2022-10-10T04:39:08.821Z"
   },
   {
    "duration": 53,
    "start_time": "2022-10-10T04:39:08.875Z"
   },
   {
    "duration": 32,
    "start_time": "2022-10-10T04:39:08.930Z"
   },
   {
    "duration": 25,
    "start_time": "2022-10-10T04:39:08.964Z"
   },
   {
    "duration": 227,
    "start_time": "2022-10-10T04:39:08.991Z"
   },
   {
    "duration": 12,
    "start_time": "2022-10-10T04:39:09.220Z"
   },
   {
    "duration": 22,
    "start_time": "2022-10-10T04:39:09.234Z"
   },
   {
    "duration": 17,
    "start_time": "2022-10-10T04:39:09.259Z"
   },
   {
    "duration": 8,
    "start_time": "2022-10-10T04:39:09.278Z"
   },
   {
    "duration": 19,
    "start_time": "2022-10-10T04:39:09.288Z"
   },
   {
    "duration": 9,
    "start_time": "2022-10-10T04:39:09.309Z"
   },
   {
    "duration": 43,
    "start_time": "2022-10-10T04:39:09.321Z"
   },
   {
    "duration": 6,
    "start_time": "2022-10-10T04:39:09.365Z"
   },
   {
    "duration": 178,
    "start_time": "2022-10-10T04:39:09.373Z"
   },
   {
    "duration": 21,
    "start_time": "2022-10-10T04:39:09.554Z"
   },
   {
    "duration": 27,
    "start_time": "2022-10-10T04:39:09.578Z"
   },
   {
    "duration": 8,
    "start_time": "2022-10-10T04:39:09.608Z"
   },
   {
    "duration": 29,
    "start_time": "2022-10-10T04:39:09.618Z"
   },
   {
    "duration": 24,
    "start_time": "2022-10-10T04:39:09.649Z"
   },
   {
    "duration": 18,
    "start_time": "2022-10-10T04:39:09.676Z"
   },
   {
    "duration": 23,
    "start_time": "2022-10-10T04:39:09.696Z"
   },
   {
    "duration": 371,
    "start_time": "2022-10-10T04:39:09.723Z"
   },
   {
    "duration": 518,
    "start_time": "2022-10-10T04:39:10.097Z"
   },
   {
    "duration": 23,
    "start_time": "2022-10-10T04:39:10.617Z"
   },
   {
    "duration": 36,
    "start_time": "2022-10-10T04:39:10.642Z"
   },
   {
    "duration": 81,
    "start_time": "2022-10-10T04:39:10.680Z"
   },
   {
    "duration": 339,
    "start_time": "2022-10-10T04:39:10.763Z"
   },
   {
    "duration": 27,
    "start_time": "2022-10-10T04:39:11.105Z"
   },
   {
    "duration": 20,
    "start_time": "2022-10-10T04:39:11.134Z"
   },
   {
    "duration": 179,
    "start_time": "2022-10-10T04:39:11.156Z"
   },
   {
    "duration": 5,
    "start_time": "2022-10-10T04:39:11.337Z"
   },
   {
    "duration": 342,
    "start_time": "2022-10-10T04:39:11.353Z"
   },
   {
    "duration": 998,
    "start_time": "2022-10-10T04:39:11.697Z"
   },
   {
    "duration": 16,
    "start_time": "2022-10-10T04:39:12.697Z"
   },
   {
    "duration": 20,
    "start_time": "2022-10-10T04:39:12.715Z"
   },
   {
    "duration": 39,
    "start_time": "2022-10-10T04:39:12.737Z"
   },
   {
    "duration": 52,
    "start_time": "2022-10-10T04:39:12.778Z"
   },
   {
    "duration": 30,
    "start_time": "2022-10-10T04:39:12.832Z"
   },
   {
    "duration": 21,
    "start_time": "2022-10-10T04:39:12.864Z"
   },
   {
    "duration": 382,
    "start_time": "2022-10-10T04:39:12.887Z"
   },
   {
    "duration": 12,
    "start_time": "2022-10-10T04:39:13.271Z"
   },
   {
    "duration": 19,
    "start_time": "2022-10-10T04:39:13.284Z"
   },
   {
    "duration": 288,
    "start_time": "2022-10-10T04:58:23.277Z"
   },
   {
    "duration": 356,
    "start_time": "2022-10-10T04:58:32.837Z"
   },
   {
    "duration": 471,
    "start_time": "2022-10-10T04:58:44.340Z"
   },
   {
    "duration": 57,
    "start_time": "2022-10-10T15:26:39.721Z"
   },
   {
    "duration": 1340,
    "start_time": "2022-10-10T15:34:47.421Z"
   },
   {
    "duration": 101,
    "start_time": "2022-10-10T15:34:48.764Z"
   },
   {
    "duration": 18,
    "start_time": "2022-10-10T15:34:48.867Z"
   },
   {
    "duration": 16,
    "start_time": "2022-10-10T15:34:48.887Z"
   },
   {
    "duration": 4,
    "start_time": "2022-10-10T15:34:48.905Z"
   },
   {
    "duration": 9,
    "start_time": "2022-10-10T15:34:48.911Z"
   },
   {
    "duration": 22,
    "start_time": "2022-10-10T15:34:48.922Z"
   },
   {
    "duration": 40,
    "start_time": "2022-10-10T15:34:48.946Z"
   },
   {
    "duration": 65,
    "start_time": "2022-10-10T15:34:48.987Z"
   },
   {
    "duration": 8,
    "start_time": "2022-10-10T15:34:49.056Z"
   },
   {
    "duration": 11,
    "start_time": "2022-10-10T15:34:49.065Z"
   },
   {
    "duration": 23,
    "start_time": "2022-10-10T15:34:49.077Z"
   },
   {
    "duration": 22,
    "start_time": "2022-10-10T15:34:49.102Z"
   },
   {
    "duration": 16,
    "start_time": "2022-10-10T15:34:49.126Z"
   },
   {
    "duration": 23,
    "start_time": "2022-10-10T15:34:49.143Z"
   },
   {
    "duration": 11,
    "start_time": "2022-10-10T15:34:49.168Z"
   },
   {
    "duration": 16,
    "start_time": "2022-10-10T15:34:49.181Z"
   },
   {
    "duration": 33,
    "start_time": "2022-10-10T15:34:49.198Z"
   },
   {
    "duration": 24,
    "start_time": "2022-10-10T15:34:49.232Z"
   },
   {
    "duration": 15,
    "start_time": "2022-10-10T15:34:49.257Z"
   },
   {
    "duration": 5,
    "start_time": "2022-10-10T15:34:49.273Z"
   },
   {
    "duration": 7,
    "start_time": "2022-10-10T15:34:49.279Z"
   },
   {
    "duration": 18,
    "start_time": "2022-10-10T15:34:49.287Z"
   },
   {
    "duration": 18,
    "start_time": "2022-10-10T15:34:49.307Z"
   },
   {
    "duration": 35,
    "start_time": "2022-10-10T15:34:49.327Z"
   },
   {
    "duration": 25,
    "start_time": "2022-10-10T15:34:49.364Z"
   },
   {
    "duration": 38,
    "start_time": "2022-10-10T15:34:49.391Z"
   },
   {
    "duration": 11,
    "start_time": "2022-10-10T15:34:49.432Z"
   },
   {
    "duration": 18,
    "start_time": "2022-10-10T15:34:49.445Z"
   },
   {
    "duration": 194,
    "start_time": "2022-10-10T15:34:49.464Z"
   },
   {
    "duration": 10,
    "start_time": "2022-10-10T15:34:49.661Z"
   },
   {
    "duration": 4,
    "start_time": "2022-10-10T15:34:49.673Z"
   },
   {
    "duration": 10,
    "start_time": "2022-10-10T15:34:49.678Z"
   },
   {
    "duration": 9,
    "start_time": "2022-10-10T15:34:49.690Z"
   },
   {
    "duration": 34,
    "start_time": "2022-10-10T15:34:49.701Z"
   },
   {
    "duration": 12,
    "start_time": "2022-10-10T15:34:49.737Z"
   },
   {
    "duration": 11,
    "start_time": "2022-10-10T15:34:49.751Z"
   },
   {
    "duration": 5,
    "start_time": "2022-10-10T15:34:49.763Z"
   },
   {
    "duration": 11,
    "start_time": "2022-10-10T15:34:49.769Z"
   },
   {
    "duration": 8,
    "start_time": "2022-10-10T15:34:49.781Z"
   },
   {
    "duration": 40,
    "start_time": "2022-10-10T15:34:49.791Z"
   },
   {
    "duration": 4,
    "start_time": "2022-10-10T15:34:49.833Z"
   },
   {
    "duration": 23,
    "start_time": "2022-10-10T15:34:49.839Z"
   },
   {
    "duration": 15,
    "start_time": "2022-10-10T15:34:49.864Z"
   },
   {
    "duration": 10,
    "start_time": "2022-10-10T15:34:49.880Z"
   },
   {
    "duration": 47,
    "start_time": "2022-10-10T15:34:49.892Z"
   },
   {
    "duration": 313,
    "start_time": "2022-10-10T15:34:49.941Z"
   },
   {
    "duration": 394,
    "start_time": "2022-10-10T15:34:50.256Z"
   },
   {
    "duration": 14,
    "start_time": "2022-10-10T15:34:50.652Z"
   },
   {
    "duration": 15,
    "start_time": "2022-10-10T15:34:50.668Z"
   },
   {
    "duration": 58,
    "start_time": "2022-10-10T15:34:50.684Z"
   },
   {
    "duration": 254,
    "start_time": "2022-10-10T15:34:50.743Z"
   },
   {
    "duration": 330,
    "start_time": "2022-10-10T15:35:04.887Z"
   },
   {
    "duration": 249,
    "start_time": "2022-10-10T15:35:13.090Z"
   },
   {
    "duration": 248,
    "start_time": "2022-10-10T15:35:43.084Z"
   },
   {
    "duration": 242,
    "start_time": "2022-10-10T15:38:31.104Z"
   },
   {
    "duration": 84,
    "start_time": "2022-10-10T15:39:00.578Z"
   },
   {
    "duration": 4,
    "start_time": "2022-10-10T15:57:48.750Z"
   },
   {
    "duration": 54,
    "start_time": "2022-10-10T15:57:48.755Z"
   },
   {
    "duration": 13,
    "start_time": "2022-10-10T15:57:48.811Z"
   },
   {
    "duration": 15,
    "start_time": "2022-10-10T15:57:48.825Z"
   },
   {
    "duration": 3,
    "start_time": "2022-10-10T15:57:48.842Z"
   },
   {
    "duration": 8,
    "start_time": "2022-10-10T15:57:48.846Z"
   },
   {
    "duration": 14,
    "start_time": "2022-10-10T15:57:48.855Z"
   },
   {
    "duration": 55,
    "start_time": "2022-10-10T15:57:48.870Z"
   },
   {
    "duration": 15,
    "start_time": "2022-10-10T15:57:48.926Z"
   },
   {
    "duration": 18,
    "start_time": "2022-10-10T15:57:48.943Z"
   },
   {
    "duration": 9,
    "start_time": "2022-10-10T15:57:48.964Z"
   },
   {
    "duration": 25,
    "start_time": "2022-10-10T15:57:48.974Z"
   },
   {
    "duration": 29,
    "start_time": "2022-10-10T15:57:49.001Z"
   },
   {
    "duration": 26,
    "start_time": "2022-10-10T15:57:49.032Z"
   },
   {
    "duration": 30,
    "start_time": "2022-10-10T15:57:49.060Z"
   },
   {
    "duration": 33,
    "start_time": "2022-10-10T15:57:49.092Z"
   },
   {
    "duration": 19,
    "start_time": "2022-10-10T15:57:49.127Z"
   },
   {
    "duration": 25,
    "start_time": "2022-10-10T15:57:49.149Z"
   },
   {
    "duration": 25,
    "start_time": "2022-10-10T15:57:49.176Z"
   },
   {
    "duration": 19,
    "start_time": "2022-10-10T15:57:49.203Z"
   },
   {
    "duration": 4,
    "start_time": "2022-10-10T15:57:49.224Z"
   },
   {
    "duration": 9,
    "start_time": "2022-10-10T15:57:49.230Z"
   },
   {
    "duration": 7,
    "start_time": "2022-10-10T15:57:49.240Z"
   },
   {
    "duration": 6,
    "start_time": "2022-10-10T15:57:49.249Z"
   },
   {
    "duration": 19,
    "start_time": "2022-10-10T15:57:49.256Z"
   },
   {
    "duration": 13,
    "start_time": "2022-10-10T15:57:49.277Z"
   },
   {
    "duration": 54,
    "start_time": "2022-10-10T15:57:49.291Z"
   },
   {
    "duration": 12,
    "start_time": "2022-10-10T15:57:49.346Z"
   },
   {
    "duration": 18,
    "start_time": "2022-10-10T15:57:49.361Z"
   },
   {
    "duration": 198,
    "start_time": "2022-10-10T15:57:49.380Z"
   },
   {
    "duration": 9,
    "start_time": "2022-10-10T15:57:49.580Z"
   },
   {
    "duration": 6,
    "start_time": "2022-10-10T15:57:49.590Z"
   },
   {
    "duration": 11,
    "start_time": "2022-10-10T15:57:49.597Z"
   },
   {
    "duration": 13,
    "start_time": "2022-10-10T15:57:49.609Z"
   },
   {
    "duration": 15,
    "start_time": "2022-10-10T15:57:49.624Z"
   },
   {
    "duration": 8,
    "start_time": "2022-10-10T15:57:49.640Z"
   },
   {
    "duration": 10,
    "start_time": "2022-10-10T15:57:49.650Z"
   },
   {
    "duration": 6,
    "start_time": "2022-10-10T15:57:49.661Z"
   },
   {
    "duration": 10,
    "start_time": "2022-10-10T15:57:49.668Z"
   },
   {
    "duration": 6,
    "start_time": "2022-10-10T15:57:49.679Z"
   },
   {
    "duration": 14,
    "start_time": "2022-10-10T15:57:49.686Z"
   },
   {
    "duration": 5,
    "start_time": "2022-10-10T15:57:49.701Z"
   },
   {
    "duration": 26,
    "start_time": "2022-10-10T15:57:49.707Z"
   },
   {
    "duration": 15,
    "start_time": "2022-10-10T15:57:49.735Z"
   },
   {
    "duration": 7,
    "start_time": "2022-10-10T15:57:49.752Z"
   },
   {
    "duration": 19,
    "start_time": "2022-10-10T15:57:49.761Z"
   },
   {
    "duration": 454,
    "start_time": "2022-10-10T15:57:49.781Z"
   },
   {
    "duration": 377,
    "start_time": "2022-10-10T15:57:50.237Z"
   },
   {
    "duration": 15,
    "start_time": "2022-10-10T15:57:50.621Z"
   },
   {
    "duration": 16,
    "start_time": "2022-10-10T15:57:50.637Z"
   },
   {
    "duration": 39,
    "start_time": "2022-10-10T15:57:50.655Z"
   },
   {
    "duration": 361,
    "start_time": "2022-10-10T15:57:50.695Z"
   },
   {
    "duration": 270,
    "start_time": "2022-10-10T15:57:51.058Z"
   },
   {
    "duration": 18,
    "start_time": "2022-10-10T15:57:51.330Z"
   },
   {
    "duration": 8,
    "start_time": "2022-10-10T15:57:51.350Z"
   },
   {
    "duration": 167,
    "start_time": "2022-10-10T15:57:51.360Z"
   },
   {
    "duration": 4,
    "start_time": "2022-10-10T15:57:51.529Z"
   },
   {
    "duration": 149,
    "start_time": "2022-10-10T15:57:51.534Z"
   },
   {
    "duration": 27,
    "start_time": "2022-10-10T15:57:54.407Z"
   },
   {
    "duration": 87,
    "start_time": "2022-10-10T16:17:23.820Z"
   },
   {
    "duration": 4,
    "start_time": "2022-10-10T16:18:45.362Z"
   },
   {
    "duration": 61,
    "start_time": "2022-10-10T16:18:45.368Z"
   },
   {
    "duration": 17,
    "start_time": "2022-10-10T16:18:45.431Z"
   },
   {
    "duration": 25,
    "start_time": "2022-10-10T16:18:45.450Z"
   },
   {
    "duration": 18,
    "start_time": "2022-10-10T16:18:45.477Z"
   },
   {
    "duration": 25,
    "start_time": "2022-10-10T16:18:45.497Z"
   },
   {
    "duration": 20,
    "start_time": "2022-10-10T16:18:45.524Z"
   },
   {
    "duration": 32,
    "start_time": "2022-10-10T16:18:45.546Z"
   },
   {
    "duration": 44,
    "start_time": "2022-10-10T16:18:45.582Z"
   },
   {
    "duration": 8,
    "start_time": "2022-10-10T16:18:45.628Z"
   },
   {
    "duration": 11,
    "start_time": "2022-10-10T16:18:45.638Z"
   },
   {
    "duration": 36,
    "start_time": "2022-10-10T16:18:45.651Z"
   },
   {
    "duration": 55,
    "start_time": "2022-10-10T16:18:45.690Z"
   },
   {
    "duration": 27,
    "start_time": "2022-10-10T16:18:45.747Z"
   },
   {
    "duration": 26,
    "start_time": "2022-10-10T16:18:45.777Z"
   },
   {
    "duration": 19,
    "start_time": "2022-10-10T16:18:45.805Z"
   },
   {
    "duration": 18,
    "start_time": "2022-10-10T16:18:45.826Z"
   },
   {
    "duration": 12,
    "start_time": "2022-10-10T16:18:45.845Z"
   },
   {
    "duration": 17,
    "start_time": "2022-10-10T16:18:45.859Z"
   },
   {
    "duration": 13,
    "start_time": "2022-10-10T16:18:45.878Z"
   },
   {
    "duration": 5,
    "start_time": "2022-10-10T16:18:45.923Z"
   },
   {
    "duration": 9,
    "start_time": "2022-10-10T16:18:45.930Z"
   },
   {
    "duration": 6,
    "start_time": "2022-10-10T16:18:45.941Z"
   },
   {
    "duration": 8,
    "start_time": "2022-10-10T16:18:45.950Z"
   },
   {
    "duration": 18,
    "start_time": "2022-10-10T16:18:45.959Z"
   },
   {
    "duration": 45,
    "start_time": "2022-10-10T16:18:45.979Z"
   },
   {
    "duration": 37,
    "start_time": "2022-10-10T16:18:46.026Z"
   },
   {
    "duration": 12,
    "start_time": "2022-10-10T16:18:46.065Z"
   },
   {
    "duration": 18,
    "start_time": "2022-10-10T16:18:46.079Z"
   },
   {
    "duration": 194,
    "start_time": "2022-10-10T16:18:46.122Z"
   },
   {
    "duration": 11,
    "start_time": "2022-10-10T16:18:46.318Z"
   },
   {
    "duration": 14,
    "start_time": "2022-10-10T16:18:46.330Z"
   },
   {
    "duration": 9,
    "start_time": "2022-10-10T16:18:46.346Z"
   },
   {
    "duration": 14,
    "start_time": "2022-10-10T16:18:46.357Z"
   },
   {
    "duration": 16,
    "start_time": "2022-10-10T16:18:46.372Z"
   },
   {
    "duration": 6,
    "start_time": "2022-10-10T16:18:46.389Z"
   },
   {
    "duration": 27,
    "start_time": "2022-10-10T16:18:46.396Z"
   },
   {
    "duration": 5,
    "start_time": "2022-10-10T16:18:46.424Z"
   },
   {
    "duration": 9,
    "start_time": "2022-10-10T16:18:46.430Z"
   },
   {
    "duration": 7,
    "start_time": "2022-10-10T16:18:46.440Z"
   },
   {
    "duration": 12,
    "start_time": "2022-10-10T16:18:46.448Z"
   },
   {
    "duration": 5,
    "start_time": "2022-10-10T16:18:46.461Z"
   },
   {
    "duration": 18,
    "start_time": "2022-10-10T16:18:46.468Z"
   },
   {
    "duration": 15,
    "start_time": "2022-10-10T16:18:46.522Z"
   },
   {
    "duration": 8,
    "start_time": "2022-10-10T16:18:46.538Z"
   },
   {
    "duration": 18,
    "start_time": "2022-10-10T16:18:46.548Z"
   },
   {
    "duration": 315,
    "start_time": "2022-10-10T16:18:46.567Z"
   },
   {
    "duration": 394,
    "start_time": "2022-10-10T16:18:46.884Z"
   },
   {
    "duration": 16,
    "start_time": "2022-10-10T16:18:47.280Z"
   },
   {
    "duration": 30,
    "start_time": "2022-10-10T16:18:47.298Z"
   },
   {
    "duration": 45,
    "start_time": "2022-10-10T16:18:47.330Z"
   },
   {
    "duration": 369,
    "start_time": "2022-10-10T16:18:47.376Z"
   },
   {
    "duration": 248,
    "start_time": "2022-10-10T16:18:47.746Z"
   },
   {
    "duration": 16,
    "start_time": "2022-10-10T16:18:47.996Z"
   },
   {
    "duration": 5,
    "start_time": "2022-10-10T16:18:48.022Z"
   },
   {
    "duration": 153,
    "start_time": "2022-10-10T16:18:48.028Z"
   },
   {
    "duration": 5,
    "start_time": "2022-10-10T16:18:48.183Z"
   },
   {
    "duration": 141,
    "start_time": "2022-10-10T16:18:48.189Z"
   },
   {
    "duration": 26,
    "start_time": "2022-10-10T16:18:48.332Z"
   },
   {
    "duration": 904,
    "start_time": "2022-10-10T16:18:48.359Z"
   },
   {
    "duration": 14,
    "start_time": "2022-10-10T16:18:49.265Z"
   },
   {
    "duration": 19,
    "start_time": "2022-10-10T16:18:49.280Z"
   },
   {
    "duration": 31,
    "start_time": "2022-10-10T16:18:49.301Z"
   },
   {
    "duration": 36,
    "start_time": "2022-10-10T16:18:49.334Z"
   },
   {
    "duration": 23,
    "start_time": "2022-10-10T16:18:49.371Z"
   },
   {
    "duration": 16,
    "start_time": "2022-10-10T16:18:49.396Z"
   },
   {
    "duration": 394,
    "start_time": "2022-10-10T16:18:49.413Z"
   },
   {
    "duration": 17,
    "start_time": "2022-10-10T16:18:49.808Z"
   },
   {
    "duration": 41,
    "start_time": "2022-10-10T16:18:49.829Z"
   },
   {
    "duration": 3,
    "start_time": "2022-10-10T16:21:20.248Z"
   },
   {
    "duration": 56,
    "start_time": "2022-10-10T16:21:20.253Z"
   },
   {
    "duration": 14,
    "start_time": "2022-10-10T16:21:20.311Z"
   },
   {
    "duration": 16,
    "start_time": "2022-10-10T16:21:20.326Z"
   },
   {
    "duration": 3,
    "start_time": "2022-10-10T16:21:20.344Z"
   },
   {
    "duration": 6,
    "start_time": "2022-10-10T16:21:20.349Z"
   },
   {
    "duration": 15,
    "start_time": "2022-10-10T16:21:20.357Z"
   },
   {
    "duration": 54,
    "start_time": "2022-10-10T16:21:20.373Z"
   },
   {
    "duration": 16,
    "start_time": "2022-10-10T16:21:20.429Z"
   },
   {
    "duration": 8,
    "start_time": "2022-10-10T16:21:20.446Z"
   },
   {
    "duration": 6,
    "start_time": "2022-10-10T16:21:20.457Z"
   },
   {
    "duration": 11,
    "start_time": "2022-10-10T16:21:20.465Z"
   },
   {
    "duration": 45,
    "start_time": "2022-10-10T16:21:20.478Z"
   },
   {
    "duration": 16,
    "start_time": "2022-10-10T16:21:20.525Z"
   },
   {
    "duration": 25,
    "start_time": "2022-10-10T16:21:20.542Z"
   },
   {
    "duration": 12,
    "start_time": "2022-10-10T16:21:20.568Z"
   },
   {
    "duration": 13,
    "start_time": "2022-10-10T16:21:20.582Z"
   },
   {
    "duration": 34,
    "start_time": "2022-10-10T16:21:20.596Z"
   },
   {
    "duration": 16,
    "start_time": "2022-10-10T16:21:20.632Z"
   },
   {
    "duration": 11,
    "start_time": "2022-10-10T16:21:20.649Z"
   },
   {
    "duration": 4,
    "start_time": "2022-10-10T16:21:20.662Z"
   },
   {
    "duration": 8,
    "start_time": "2022-10-10T16:21:20.667Z"
   },
   {
    "duration": 7,
    "start_time": "2022-10-10T16:21:20.676Z"
   },
   {
    "duration": 13,
    "start_time": "2022-10-10T16:21:20.685Z"
   },
   {
    "duration": 37,
    "start_time": "2022-10-10T16:21:20.699Z"
   },
   {
    "duration": 14,
    "start_time": "2022-10-10T16:21:20.737Z"
   },
   {
    "duration": 32,
    "start_time": "2022-10-10T16:21:20.752Z"
   },
   {
    "duration": 10,
    "start_time": "2022-10-10T16:21:20.786Z"
   },
   {
    "duration": 16,
    "start_time": "2022-10-10T16:21:20.822Z"
   },
   {
    "duration": 188,
    "start_time": "2022-10-10T16:21:20.840Z"
   },
   {
    "duration": 9,
    "start_time": "2022-10-10T16:21:21.030Z"
   },
   {
    "duration": 6,
    "start_time": "2022-10-10T16:21:21.041Z"
   },
   {
    "duration": 10,
    "start_time": "2022-10-10T16:21:21.048Z"
   },
   {
    "duration": 8,
    "start_time": "2022-10-10T16:21:21.059Z"
   },
   {
    "duration": 15,
    "start_time": "2022-10-10T16:21:21.068Z"
   },
   {
    "duration": 38,
    "start_time": "2022-10-10T16:21:21.085Z"
   },
   {
    "duration": 9,
    "start_time": "2022-10-10T16:21:21.125Z"
   },
   {
    "duration": 9,
    "start_time": "2022-10-10T16:21:21.136Z"
   },
   {
    "duration": 13,
    "start_time": "2022-10-10T16:21:21.146Z"
   },
   {
    "duration": 24,
    "start_time": "2022-10-10T16:21:21.160Z"
   },
   {
    "duration": 30,
    "start_time": "2022-10-10T16:21:21.185Z"
   },
   {
    "duration": 18,
    "start_time": "2022-10-10T16:21:21.216Z"
   },
   {
    "duration": 32,
    "start_time": "2022-10-10T16:21:21.235Z"
   },
   {
    "duration": 14,
    "start_time": "2022-10-10T16:21:21.269Z"
   },
   {
    "duration": 21,
    "start_time": "2022-10-10T16:21:21.284Z"
   },
   {
    "duration": 39,
    "start_time": "2022-10-10T16:21:21.306Z"
   },
   {
    "duration": 290,
    "start_time": "2022-10-10T16:21:21.347Z"
   },
   {
    "duration": 372,
    "start_time": "2022-10-10T16:21:21.639Z"
   },
   {
    "duration": 20,
    "start_time": "2022-10-10T16:21:22.013Z"
   },
   {
    "duration": 16,
    "start_time": "2022-10-10T16:21:22.035Z"
   },
   {
    "duration": 57,
    "start_time": "2022-10-10T16:21:22.052Z"
   },
   {
    "duration": 255,
    "start_time": "2022-10-10T16:21:22.111Z"
   },
   {
    "duration": 256,
    "start_time": "2022-10-10T16:21:22.368Z"
   },
   {
    "duration": 16,
    "start_time": "2022-10-10T16:21:22.625Z"
   },
   {
    "duration": 20,
    "start_time": "2022-10-10T16:21:22.642Z"
   },
   {
    "duration": 154,
    "start_time": "2022-10-10T16:21:22.663Z"
   },
   {
    "duration": 5,
    "start_time": "2022-10-10T16:21:22.818Z"
   },
   {
    "duration": 153,
    "start_time": "2022-10-10T16:21:22.824Z"
   },
   {
    "duration": 116,
    "start_time": "2022-10-10T16:21:22.979Z"
   },
   {
    "duration": 781,
    "start_time": "2022-10-10T16:21:23.097Z"
   },
   {
    "duration": 13,
    "start_time": "2022-10-10T16:21:23.879Z"
   },
   {
    "duration": 27,
    "start_time": "2022-10-10T16:21:23.894Z"
   },
   {
    "duration": 27,
    "start_time": "2022-10-10T16:21:23.923Z"
   },
   {
    "duration": 31,
    "start_time": "2022-10-10T16:21:23.951Z"
   },
   {
    "duration": 28,
    "start_time": "2022-10-10T16:21:23.984Z"
   },
   {
    "duration": 48,
    "start_time": "2022-10-10T16:21:24.013Z"
   },
   {
    "duration": 313,
    "start_time": "2022-10-10T16:21:24.063Z"
   },
   {
    "duration": 11,
    "start_time": "2022-10-10T16:21:24.378Z"
   },
   {
    "duration": 31,
    "start_time": "2022-10-10T16:21:24.391Z"
   }
  ],
  "kernelspec": {
   "display_name": "Python 3 (ipykernel)",
   "language": "python",
   "name": "python3"
  },
  "language_info": {
   "codemirror_mode": {
    "name": "ipython",
    "version": 3
   },
   "file_extension": ".py",
   "mimetype": "text/x-python",
   "name": "python",
   "nbconvert_exporter": "python",
   "pygments_lexer": "ipython3",
   "version": "3.9.12"
  },
  "toc": {
   "base_numbering": 1,
   "nav_menu": {},
   "number_sections": true,
   "sideBar": true,
   "skip_h1_title": true,
   "title_cell": "Table of Contents",
   "title_sidebar": "Contents",
   "toc_cell": false,
   "toc_position": {
    "height": "calc(100% - 180px)",
    "left": "10px",
    "top": "150px",
    "width": "286.075px"
   },
   "toc_section_display": true,
   "toc_window_display": true
  }
 },
 "nbformat": 4,
 "nbformat_minor": 2
}
