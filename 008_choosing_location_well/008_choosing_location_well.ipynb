{
 "cells": [
  {
   "cell_type": "markdown",
   "metadata": {},
   "source": [
    "# Выбор локации для скважины"
   ]
  },
  {
   "cell_type": "markdown",
   "metadata": {},
   "source": [
    "Допустим, вы работаете в добывающей компании «ГлавРосГосНефть». Нужно решить, где бурить новую скважину.\n",
    "\n",
    "Вам предоставлены пробы нефти в трёх регионах: в каждом 10 000 месторождений, где измерили качество нефти и объём её запасов. Постройте модель машинного обучения, которая поможет определить регион, где добыча принесёт наибольшую прибыль. Проанализируйте возможную прибыль и риски техникой *Bootstrap.*\n",
    "\n",
    "Шаги для выбора локации:\n",
    "\n",
    "- В избранном регионе ищут месторождения, для каждого определяют значения признаков;\n",
    "- Строят модель и оценивают объём запасов;\n",
    "- Выбирают месторождения с самым высокими оценками значений. Количество месторождений зависит от бюджета компании и стоимости разработки одной скважины;\n",
    "- Прибыль равна суммарной прибыли отобранных месторождений."
   ]
  },
  {
   "cell_type": "markdown",
   "metadata": {},
   "source": [
    "## Загрузка и подготовка данных"
   ]
  },
  {
   "cell_type": "markdown",
   "metadata": {},
   "source": [
    "### Описание данных"
   ]
  },
  {
   "cell_type": "markdown",
   "metadata": {},
   "source": [
    "- id — уникальный идентификатор скважины;\n",
    "- f0, f1, f2 — три признака точек (неважно, что они означают, но сами признаки значимы);\n",
    "- product — объём запасов в скважине (тыс. баррелей)."
   ]
  },
  {
   "cell_type": "markdown",
   "metadata": {},
   "source": [
    "### Библиотеки"
   ]
  },
  {
   "cell_type": "code",
   "execution_count": 1,
   "metadata": {},
   "outputs": [],
   "source": [
    "# загружаем используемые библиотеки\n",
    "\n",
    "import pandas as pd\n",
    "import numpy as np\n",
    "import matplotlib.pyplot as plt\n",
    "import seaborn as sns\n",
    "import os\n",
    "\n",
    "from sklearn.linear_model import LogisticRegression\n",
    "from sklearn.model_selection import train_test_split\n",
    "from sklearn.metrics import accuracy_score\n",
    "\n",
    "from sklearn.ensemble import RandomForestClassifier\n",
    "from sklearn.model_selection import GridSearchCV\n",
    "\n",
    "from sklearn.dummy import DummyClassifier\n",
    "\n",
    "import matplotlib.pyplot as plt\n",
    "\n",
    "from sklearn.metrics import f1_score\n",
    "from sklearn.metrics import roc_auc_score\n",
    "from sklearn.metrics import precision_score, recall_score\n",
    "from sklearn.utils import shuffle\n",
    "\n",
    "from sklearn.preprocessing import StandardScaler \n",
    "\n",
    "import numpy as np\n",
    "\n",
    "from sklearn.linear_model import LinearRegression\n",
    "\n",
    "from sklearn.metrics import mean_squared_error"
   ]
  },
  {
   "cell_type": "code",
   "execution_count": 2,
   "metadata": {},
   "outputs": [],
   "source": [
    "# немного переменных и настроек\n",
    "RANDOM_STATE = 42"
   ]
  },
  {
   "cell_type": "markdown",
   "metadata": {},
   "source": [
    "### Загружаем данные"
   ]
  },
  {
   "cell_type": "code",
   "execution_count": 3,
   "metadata": {},
   "outputs": [],
   "source": [
    "pth0 = 'datasets/geo_data_0.csv'\n",
    "pth1 = 'datasets/geo_data_1.csv'\n",
    "pth2 = 'datasets/geo_data_2.csv'\n",
    "\n",
    "if os.path.exists(pth0) and os.path.exists(pth1) and os.path.exists(pth2):\n",
    "    data0 = pd.read_csv(pth0)\n",
    "    data1 = pd.read_csv(pth1)\n",
    "    data2 = pd.read_csv(pth2)\n",
    "else:\n",
    "    print('Something is wrong')"
   ]
  },
  {
   "cell_type": "code",
   "execution_count": 4,
   "metadata": {
    "scrolled": false
   },
   "outputs": [
    {
     "data": {
      "text/html": [
       "<div>\n",
       "<style scoped>\n",
       "    .dataframe tbody tr th:only-of-type {\n",
       "        vertical-align: middle;\n",
       "    }\n",
       "\n",
       "    .dataframe tbody tr th {\n",
       "        vertical-align: top;\n",
       "    }\n",
       "\n",
       "    .dataframe thead th {\n",
       "        text-align: right;\n",
       "    }\n",
       "</style>\n",
       "<table border=\"1\" class=\"dataframe\">\n",
       "  <thead>\n",
       "    <tr style=\"text-align: right;\">\n",
       "      <th></th>\n",
       "      <th>id</th>\n",
       "      <th>f0</th>\n",
       "      <th>f1</th>\n",
       "      <th>f2</th>\n",
       "      <th>product</th>\n",
       "    </tr>\n",
       "  </thead>\n",
       "  <tbody>\n",
       "    <tr>\n",
       "      <th>0</th>\n",
       "      <td>txEyH</td>\n",
       "      <td>0.705745</td>\n",
       "      <td>-0.497823</td>\n",
       "      <td>1.221170</td>\n",
       "      <td>105.280062</td>\n",
       "    </tr>\n",
       "    <tr>\n",
       "      <th>1</th>\n",
       "      <td>2acmU</td>\n",
       "      <td>1.334711</td>\n",
       "      <td>-0.340164</td>\n",
       "      <td>4.365080</td>\n",
       "      <td>73.037750</td>\n",
       "    </tr>\n",
       "    <tr>\n",
       "      <th>2</th>\n",
       "      <td>409Wp</td>\n",
       "      <td>1.022732</td>\n",
       "      <td>0.151990</td>\n",
       "      <td>1.419926</td>\n",
       "      <td>85.265647</td>\n",
       "    </tr>\n",
       "    <tr>\n",
       "      <th>3</th>\n",
       "      <td>iJLyR</td>\n",
       "      <td>-0.032172</td>\n",
       "      <td>0.139033</td>\n",
       "      <td>2.978566</td>\n",
       "      <td>168.620776</td>\n",
       "    </tr>\n",
       "    <tr>\n",
       "      <th>4</th>\n",
       "      <td>Xdl7t</td>\n",
       "      <td>1.988431</td>\n",
       "      <td>0.155413</td>\n",
       "      <td>4.751769</td>\n",
       "      <td>154.036647</td>\n",
       "    </tr>\n",
       "  </tbody>\n",
       "</table>\n",
       "</div>"
      ],
      "text/plain": [
       "      id        f0        f1        f2     product\n",
       "0  txEyH  0.705745 -0.497823  1.221170  105.280062\n",
       "1  2acmU  1.334711 -0.340164  4.365080   73.037750\n",
       "2  409Wp  1.022732  0.151990  1.419926   85.265647\n",
       "3  iJLyR -0.032172  0.139033  2.978566  168.620776\n",
       "4  Xdl7t  1.988431  0.155413  4.751769  154.036647"
      ]
     },
     "metadata": {},
     "output_type": "display_data"
    },
    {
     "data": {
      "text/html": [
       "<div>\n",
       "<style scoped>\n",
       "    .dataframe tbody tr th:only-of-type {\n",
       "        vertical-align: middle;\n",
       "    }\n",
       "\n",
       "    .dataframe tbody tr th {\n",
       "        vertical-align: top;\n",
       "    }\n",
       "\n",
       "    .dataframe thead th {\n",
       "        text-align: right;\n",
       "    }\n",
       "</style>\n",
       "<table border=\"1\" class=\"dataframe\">\n",
       "  <thead>\n",
       "    <tr style=\"text-align: right;\">\n",
       "      <th></th>\n",
       "      <th>id</th>\n",
       "      <th>f0</th>\n",
       "      <th>f1</th>\n",
       "      <th>f2</th>\n",
       "      <th>product</th>\n",
       "    </tr>\n",
       "  </thead>\n",
       "  <tbody>\n",
       "    <tr>\n",
       "      <th>0</th>\n",
       "      <td>kBEdx</td>\n",
       "      <td>-15.001348</td>\n",
       "      <td>-8.276000</td>\n",
       "      <td>-0.005876</td>\n",
       "      <td>3.179103</td>\n",
       "    </tr>\n",
       "    <tr>\n",
       "      <th>1</th>\n",
       "      <td>62mP7</td>\n",
       "      <td>14.272088</td>\n",
       "      <td>-3.475083</td>\n",
       "      <td>0.999183</td>\n",
       "      <td>26.953261</td>\n",
       "    </tr>\n",
       "    <tr>\n",
       "      <th>2</th>\n",
       "      <td>vyE1P</td>\n",
       "      <td>6.263187</td>\n",
       "      <td>-5.948386</td>\n",
       "      <td>5.001160</td>\n",
       "      <td>134.766305</td>\n",
       "    </tr>\n",
       "    <tr>\n",
       "      <th>3</th>\n",
       "      <td>KcrkZ</td>\n",
       "      <td>-13.081196</td>\n",
       "      <td>-11.506057</td>\n",
       "      <td>4.999415</td>\n",
       "      <td>137.945408</td>\n",
       "    </tr>\n",
       "    <tr>\n",
       "      <th>4</th>\n",
       "      <td>AHL4O</td>\n",
       "      <td>12.702195</td>\n",
       "      <td>-8.147433</td>\n",
       "      <td>5.004363</td>\n",
       "      <td>134.766305</td>\n",
       "    </tr>\n",
       "  </tbody>\n",
       "</table>\n",
       "</div>"
      ],
      "text/plain": [
       "      id         f0         f1        f2     product\n",
       "0  kBEdx -15.001348  -8.276000 -0.005876    3.179103\n",
       "1  62mP7  14.272088  -3.475083  0.999183   26.953261\n",
       "2  vyE1P   6.263187  -5.948386  5.001160  134.766305\n",
       "3  KcrkZ -13.081196 -11.506057  4.999415  137.945408\n",
       "4  AHL4O  12.702195  -8.147433  5.004363  134.766305"
      ]
     },
     "metadata": {},
     "output_type": "display_data"
    },
    {
     "data": {
      "text/html": [
       "<div>\n",
       "<style scoped>\n",
       "    .dataframe tbody tr th:only-of-type {\n",
       "        vertical-align: middle;\n",
       "    }\n",
       "\n",
       "    .dataframe tbody tr th {\n",
       "        vertical-align: top;\n",
       "    }\n",
       "\n",
       "    .dataframe thead th {\n",
       "        text-align: right;\n",
       "    }\n",
       "</style>\n",
       "<table border=\"1\" class=\"dataframe\">\n",
       "  <thead>\n",
       "    <tr style=\"text-align: right;\">\n",
       "      <th></th>\n",
       "      <th>id</th>\n",
       "      <th>f0</th>\n",
       "      <th>f1</th>\n",
       "      <th>f2</th>\n",
       "      <th>product</th>\n",
       "    </tr>\n",
       "  </thead>\n",
       "  <tbody>\n",
       "    <tr>\n",
       "      <th>0</th>\n",
       "      <td>fwXo0</td>\n",
       "      <td>-1.146987</td>\n",
       "      <td>0.963328</td>\n",
       "      <td>-0.828965</td>\n",
       "      <td>27.758673</td>\n",
       "    </tr>\n",
       "    <tr>\n",
       "      <th>1</th>\n",
       "      <td>WJtFt</td>\n",
       "      <td>0.262778</td>\n",
       "      <td>0.269839</td>\n",
       "      <td>-2.530187</td>\n",
       "      <td>56.069697</td>\n",
       "    </tr>\n",
       "    <tr>\n",
       "      <th>2</th>\n",
       "      <td>ovLUW</td>\n",
       "      <td>0.194587</td>\n",
       "      <td>0.289035</td>\n",
       "      <td>-5.586433</td>\n",
       "      <td>62.871910</td>\n",
       "    </tr>\n",
       "    <tr>\n",
       "      <th>3</th>\n",
       "      <td>q6cA6</td>\n",
       "      <td>2.236060</td>\n",
       "      <td>-0.553760</td>\n",
       "      <td>0.930038</td>\n",
       "      <td>114.572842</td>\n",
       "    </tr>\n",
       "    <tr>\n",
       "      <th>4</th>\n",
       "      <td>WPMUX</td>\n",
       "      <td>-0.515993</td>\n",
       "      <td>1.716266</td>\n",
       "      <td>5.899011</td>\n",
       "      <td>149.600746</td>\n",
       "    </tr>\n",
       "  </tbody>\n",
       "</table>\n",
       "</div>"
      ],
      "text/plain": [
       "      id        f0        f1        f2     product\n",
       "0  fwXo0 -1.146987  0.963328 -0.828965   27.758673\n",
       "1  WJtFt  0.262778  0.269839 -2.530187   56.069697\n",
       "2  ovLUW  0.194587  0.289035 -5.586433   62.871910\n",
       "3  q6cA6  2.236060 -0.553760  0.930038  114.572842\n",
       "4  WPMUX -0.515993  1.716266  5.899011  149.600746"
      ]
     },
     "metadata": {},
     "output_type": "display_data"
    }
   ],
   "source": [
    "# использую метод пристального взгляда посмотрим на данные\n",
    "display(data0.head(), data1.head(), data2.head())"
   ]
  },
  {
   "cell_type": "code",
   "execution_count": 5,
   "metadata": {},
   "outputs": [
    {
     "data": {
      "text/plain": [
       "(id         0\n",
       " f0         0\n",
       " f1         0\n",
       " f2         0\n",
       " product    0\n",
       " dtype: int64,\n",
       " id         0\n",
       " f0         0\n",
       " f1         0\n",
       " f2         0\n",
       " product    0\n",
       " dtype: int64,\n",
       " id         0\n",
       " f0         0\n",
       " f1         0\n",
       " f2         0\n",
       " product    0\n",
       " dtype: int64)"
      ]
     },
     "execution_count": 5,
     "metadata": {},
     "output_type": "execute_result"
    }
   ],
   "source": [
    "#На первый взгляд, данные скачались и \"зашли\" в df хорошо. Плохо, что уже видны пропуски. Изучим их.\n",
    "data0.isna().sum(), data1.isna().sum(), data2.isna().sum()"
   ]
  },
  {
   "cell_type": "code",
   "execution_count": 6,
   "metadata": {
    "scrolled": false
   },
   "outputs": [
    {
     "data": {
      "text/html": [
       "<div>\n",
       "<style scoped>\n",
       "    .dataframe tbody tr th:only-of-type {\n",
       "        vertical-align: middle;\n",
       "    }\n",
       "\n",
       "    .dataframe tbody tr th {\n",
       "        vertical-align: top;\n",
       "    }\n",
       "\n",
       "    .dataframe thead th {\n",
       "        text-align: right;\n",
       "    }\n",
       "</style>\n",
       "<table border=\"1\" class=\"dataframe\">\n",
       "  <thead>\n",
       "    <tr style=\"text-align: right;\">\n",
       "      <th></th>\n",
       "      <th>f0</th>\n",
       "      <th>f1</th>\n",
       "      <th>f2</th>\n",
       "      <th>product</th>\n",
       "    </tr>\n",
       "  </thead>\n",
       "  <tbody>\n",
       "    <tr>\n",
       "      <th>count</th>\n",
       "      <td>100000.000000</td>\n",
       "      <td>100000.000000</td>\n",
       "      <td>100000.000000</td>\n",
       "      <td>100000.000000</td>\n",
       "    </tr>\n",
       "    <tr>\n",
       "      <th>mean</th>\n",
       "      <td>0.500419</td>\n",
       "      <td>0.250143</td>\n",
       "      <td>2.502647</td>\n",
       "      <td>92.500000</td>\n",
       "    </tr>\n",
       "    <tr>\n",
       "      <th>std</th>\n",
       "      <td>0.871832</td>\n",
       "      <td>0.504433</td>\n",
       "      <td>3.248248</td>\n",
       "      <td>44.288691</td>\n",
       "    </tr>\n",
       "    <tr>\n",
       "      <th>min</th>\n",
       "      <td>-1.408605</td>\n",
       "      <td>-0.848218</td>\n",
       "      <td>-12.088328</td>\n",
       "      <td>0.000000</td>\n",
       "    </tr>\n",
       "    <tr>\n",
       "      <th>25%</th>\n",
       "      <td>-0.072580</td>\n",
       "      <td>-0.200881</td>\n",
       "      <td>0.287748</td>\n",
       "      <td>56.497507</td>\n",
       "    </tr>\n",
       "    <tr>\n",
       "      <th>50%</th>\n",
       "      <td>0.502360</td>\n",
       "      <td>0.250252</td>\n",
       "      <td>2.515969</td>\n",
       "      <td>91.849972</td>\n",
       "    </tr>\n",
       "    <tr>\n",
       "      <th>75%</th>\n",
       "      <td>1.073581</td>\n",
       "      <td>0.700646</td>\n",
       "      <td>4.715088</td>\n",
       "      <td>128.564089</td>\n",
       "    </tr>\n",
       "    <tr>\n",
       "      <th>max</th>\n",
       "      <td>2.362331</td>\n",
       "      <td>1.343769</td>\n",
       "      <td>16.003790</td>\n",
       "      <td>185.364347</td>\n",
       "    </tr>\n",
       "  </tbody>\n",
       "</table>\n",
       "</div>"
      ],
      "text/plain": [
       "                  f0             f1             f2        product\n",
       "count  100000.000000  100000.000000  100000.000000  100000.000000\n",
       "mean        0.500419       0.250143       2.502647      92.500000\n",
       "std         0.871832       0.504433       3.248248      44.288691\n",
       "min        -1.408605      -0.848218     -12.088328       0.000000\n",
       "25%        -0.072580      -0.200881       0.287748      56.497507\n",
       "50%         0.502360       0.250252       2.515969      91.849972\n",
       "75%         1.073581       0.700646       4.715088     128.564089\n",
       "max         2.362331       1.343769      16.003790     185.364347"
      ]
     },
     "metadata": {},
     "output_type": "display_data"
    },
    {
     "data": {
      "text/html": [
       "<div>\n",
       "<style scoped>\n",
       "    .dataframe tbody tr th:only-of-type {\n",
       "        vertical-align: middle;\n",
       "    }\n",
       "\n",
       "    .dataframe tbody tr th {\n",
       "        vertical-align: top;\n",
       "    }\n",
       "\n",
       "    .dataframe thead th {\n",
       "        text-align: right;\n",
       "    }\n",
       "</style>\n",
       "<table border=\"1\" class=\"dataframe\">\n",
       "  <thead>\n",
       "    <tr style=\"text-align: right;\">\n",
       "      <th></th>\n",
       "      <th>f0</th>\n",
       "      <th>f1</th>\n",
       "      <th>f2</th>\n",
       "      <th>product</th>\n",
       "    </tr>\n",
       "  </thead>\n",
       "  <tbody>\n",
       "    <tr>\n",
       "      <th>count</th>\n",
       "      <td>100000.000000</td>\n",
       "      <td>100000.000000</td>\n",
       "      <td>100000.000000</td>\n",
       "      <td>100000.000000</td>\n",
       "    </tr>\n",
       "    <tr>\n",
       "      <th>mean</th>\n",
       "      <td>1.141296</td>\n",
       "      <td>-4.796579</td>\n",
       "      <td>2.494541</td>\n",
       "      <td>68.825000</td>\n",
       "    </tr>\n",
       "    <tr>\n",
       "      <th>std</th>\n",
       "      <td>8.965932</td>\n",
       "      <td>5.119872</td>\n",
       "      <td>1.703572</td>\n",
       "      <td>45.944423</td>\n",
       "    </tr>\n",
       "    <tr>\n",
       "      <th>min</th>\n",
       "      <td>-31.609576</td>\n",
       "      <td>-26.358598</td>\n",
       "      <td>-0.018144</td>\n",
       "      <td>0.000000</td>\n",
       "    </tr>\n",
       "    <tr>\n",
       "      <th>25%</th>\n",
       "      <td>-6.298551</td>\n",
       "      <td>-8.267985</td>\n",
       "      <td>1.000021</td>\n",
       "      <td>26.953261</td>\n",
       "    </tr>\n",
       "    <tr>\n",
       "      <th>50%</th>\n",
       "      <td>1.153055</td>\n",
       "      <td>-4.813172</td>\n",
       "      <td>2.011479</td>\n",
       "      <td>57.085625</td>\n",
       "    </tr>\n",
       "    <tr>\n",
       "      <th>75%</th>\n",
       "      <td>8.621015</td>\n",
       "      <td>-1.332816</td>\n",
       "      <td>3.999904</td>\n",
       "      <td>107.813044</td>\n",
       "    </tr>\n",
       "    <tr>\n",
       "      <th>max</th>\n",
       "      <td>29.421755</td>\n",
       "      <td>18.734063</td>\n",
       "      <td>5.019721</td>\n",
       "      <td>137.945408</td>\n",
       "    </tr>\n",
       "  </tbody>\n",
       "</table>\n",
       "</div>"
      ],
      "text/plain": [
       "                  f0             f1             f2        product\n",
       "count  100000.000000  100000.000000  100000.000000  100000.000000\n",
       "mean        1.141296      -4.796579       2.494541      68.825000\n",
       "std         8.965932       5.119872       1.703572      45.944423\n",
       "min       -31.609576     -26.358598      -0.018144       0.000000\n",
       "25%        -6.298551      -8.267985       1.000021      26.953261\n",
       "50%         1.153055      -4.813172       2.011479      57.085625\n",
       "75%         8.621015      -1.332816       3.999904     107.813044\n",
       "max        29.421755      18.734063       5.019721     137.945408"
      ]
     },
     "metadata": {},
     "output_type": "display_data"
    },
    {
     "data": {
      "text/html": [
       "<div>\n",
       "<style scoped>\n",
       "    .dataframe tbody tr th:only-of-type {\n",
       "        vertical-align: middle;\n",
       "    }\n",
       "\n",
       "    .dataframe tbody tr th {\n",
       "        vertical-align: top;\n",
       "    }\n",
       "\n",
       "    .dataframe thead th {\n",
       "        text-align: right;\n",
       "    }\n",
       "</style>\n",
       "<table border=\"1\" class=\"dataframe\">\n",
       "  <thead>\n",
       "    <tr style=\"text-align: right;\">\n",
       "      <th></th>\n",
       "      <th>f0</th>\n",
       "      <th>f1</th>\n",
       "      <th>f2</th>\n",
       "      <th>product</th>\n",
       "    </tr>\n",
       "  </thead>\n",
       "  <tbody>\n",
       "    <tr>\n",
       "      <th>count</th>\n",
       "      <td>100000.000000</td>\n",
       "      <td>100000.000000</td>\n",
       "      <td>100000.000000</td>\n",
       "      <td>100000.000000</td>\n",
       "    </tr>\n",
       "    <tr>\n",
       "      <th>mean</th>\n",
       "      <td>0.002023</td>\n",
       "      <td>-0.002081</td>\n",
       "      <td>2.495128</td>\n",
       "      <td>95.000000</td>\n",
       "    </tr>\n",
       "    <tr>\n",
       "      <th>std</th>\n",
       "      <td>1.732045</td>\n",
       "      <td>1.730417</td>\n",
       "      <td>3.473445</td>\n",
       "      <td>44.749921</td>\n",
       "    </tr>\n",
       "    <tr>\n",
       "      <th>min</th>\n",
       "      <td>-8.760004</td>\n",
       "      <td>-7.084020</td>\n",
       "      <td>-11.970335</td>\n",
       "      <td>0.000000</td>\n",
       "    </tr>\n",
       "    <tr>\n",
       "      <th>25%</th>\n",
       "      <td>-1.162288</td>\n",
       "      <td>-1.174820</td>\n",
       "      <td>0.130359</td>\n",
       "      <td>59.450441</td>\n",
       "    </tr>\n",
       "    <tr>\n",
       "      <th>50%</th>\n",
       "      <td>0.009424</td>\n",
       "      <td>-0.009482</td>\n",
       "      <td>2.484236</td>\n",
       "      <td>94.925613</td>\n",
       "    </tr>\n",
       "    <tr>\n",
       "      <th>75%</th>\n",
       "      <td>1.158535</td>\n",
       "      <td>1.163678</td>\n",
       "      <td>4.858794</td>\n",
       "      <td>130.595027</td>\n",
       "    </tr>\n",
       "    <tr>\n",
       "      <th>max</th>\n",
       "      <td>7.238262</td>\n",
       "      <td>7.844801</td>\n",
       "      <td>16.739402</td>\n",
       "      <td>190.029838</td>\n",
       "    </tr>\n",
       "  </tbody>\n",
       "</table>\n",
       "</div>"
      ],
      "text/plain": [
       "                  f0             f1             f2        product\n",
       "count  100000.000000  100000.000000  100000.000000  100000.000000\n",
       "mean        0.002023      -0.002081       2.495128      95.000000\n",
       "std         1.732045       1.730417       3.473445      44.749921\n",
       "min        -8.760004      -7.084020     -11.970335       0.000000\n",
       "25%        -1.162288      -1.174820       0.130359      59.450441\n",
       "50%         0.009424      -0.009482       2.484236      94.925613\n",
       "75%         1.158535       1.163678       4.858794     130.595027\n",
       "max         7.238262       7.844801      16.739402     190.029838"
      ]
     },
     "metadata": {},
     "output_type": "display_data"
    }
   ],
   "source": [
    "# Пропуской нет. Посмотрим на данные \"общими мазками\"\n",
    "display(data0.describe(), data1.describe(), data2.describe())"
   ]
  },
  {
   "cell_type": "code",
   "execution_count": 7,
   "metadata": {},
   "outputs": [
    {
     "name": "stdout",
     "output_type": "stream",
     "text": [
      "<class 'pandas.core.frame.DataFrame'>\n",
      "RangeIndex: 100000 entries, 0 to 99999\n",
      "Data columns (total 5 columns):\n",
      " #   Column   Non-Null Count   Dtype  \n",
      "---  ------   --------------   -----  \n",
      " 0   id       100000 non-null  object \n",
      " 1   f0       100000 non-null  float64\n",
      " 2   f1       100000 non-null  float64\n",
      " 3   f2       100000 non-null  float64\n",
      " 4   product  100000 non-null  float64\n",
      "dtypes: float64(4), object(1)\n",
      "memory usage: 3.8+ MB\n",
      "<class 'pandas.core.frame.DataFrame'>\n",
      "RangeIndex: 100000 entries, 0 to 99999\n",
      "Data columns (total 5 columns):\n",
      " #   Column   Non-Null Count   Dtype  \n",
      "---  ------   --------------   -----  \n",
      " 0   id       100000 non-null  object \n",
      " 1   f0       100000 non-null  float64\n",
      " 2   f1       100000 non-null  float64\n",
      " 3   f2       100000 non-null  float64\n",
      " 4   product  100000 non-null  float64\n",
      "dtypes: float64(4), object(1)\n",
      "memory usage: 3.8+ MB\n",
      "<class 'pandas.core.frame.DataFrame'>\n",
      "RangeIndex: 100000 entries, 0 to 99999\n",
      "Data columns (total 5 columns):\n",
      " #   Column   Non-Null Count   Dtype  \n",
      "---  ------   --------------   -----  \n",
      " 0   id       100000 non-null  object \n",
      " 1   f0       100000 non-null  float64\n",
      " 2   f1       100000 non-null  float64\n",
      " 3   f2       100000 non-null  float64\n",
      " 4   product  100000 non-null  float64\n",
      "dtypes: float64(4), object(1)\n",
      "memory usage: 3.8+ MB\n"
     ]
    },
    {
     "data": {
      "text/plain": [
       "(None, None, None)"
      ]
     },
     "execution_count": 7,
     "metadata": {},
     "output_type": "execute_result"
    }
   ],
   "source": [
    "# Проверим типы данных:\n",
    "data0.info(), data1.info(), data2.info()"
   ]
  },
  {
   "cell_type": "code",
   "execution_count": 8,
   "metadata": {},
   "outputs": [],
   "source": [
    "# Посмотрим распределение по каждому региону:\n",
    "def data_distribution(data):\n",
    "    data.hist(figsize=(10,7),\n",
    "              bins=100,\n",
    "              color = 'blue')\n",
    "    plt.show()"
   ]
  },
  {
   "cell_type": "code",
   "execution_count": 9,
   "metadata": {},
   "outputs": [
    {
     "data": {
      "image/png": "[encoded data removed]",
      "text/plain": [
       "<Figure size 720x504 with 4 Axes>"
      ]
     },
     "metadata": {
      "needs_background": "light"
     },
     "output_type": "display_data"
    }
   ],
   "source": [
    "data_distribution(data0)\n"
   ]
  },
  {
   "cell_type": "markdown",
   "metadata": {},
   "source": [
    "Нормальное распределение с разивкой на 1000 корзин отмечается только у произнака f2. Остальные не относятся в нормальному распределению."
   ]
  },
  {
   "cell_type": "code",
   "execution_count": 10,
   "metadata": {},
   "outputs": [
    {
     "data": {
      "image/png": "[encoded data removed]",
      "text/plain": [
       "<Figure size 720x504 with 4 Axes>"
      ]
     },
     "metadata": {
      "needs_background": "light"
     },
     "output_type": "display_data"
    }
   ],
   "source": [
    "data_distribution(data1)\n"
   ]
  },
  {
   "cell_type": "markdown",
   "metadata": {},
   "source": [
    "Во втором регионе имеет нормальное распределение признак F1. F0 - распределение с изолированным пиком. Целевая функция (product) - равномерное."
   ]
  },
  {
   "cell_type": "code",
   "execution_count": 11,
   "metadata": {},
   "outputs": [
    {
     "data": {
      "image/png": "[encoded data removed]",
      "text/plain": [
       "<Figure size 720x504 with 4 Axes>"
      ]
     },
     "metadata": {
      "needs_background": "light"
     },
     "output_type": "display_data"
    }
   ],
   "source": [
    "data_distribution(data2)"
   ]
  },
  {
   "cell_type": "markdown",
   "metadata": {},
   "source": [
    "### Проверка корреляции признаков"
   ]
  },
  {
   "cell_type": "code",
   "execution_count": 12,
   "metadata": {},
   "outputs": [
    {
     "data": {
      "text/html": [
       "<style type=\"text/css\">\n",
       "#T_1c962_row0_col0, #T_1c962_row1_col1, #T_1c962_row2_col2, #T_1c962_row3_col3 {\n",
       "  background-color: #b40426;\n",
       "  color: #f1f1f1;\n",
       "}\n",
       "#T_1c962_row0_col1, #T_1c962_row0_col2, #T_1c962_row1_col0, #T_1c962_row1_col3 {\n",
       "  background-color: #3b4cc0;\n",
       "  color: #f1f1f1;\n",
       "}\n",
       "#T_1c962_row0_col3 {\n",
       "  background-color: #98b9ff;\n",
       "  color: #000000;\n",
       "}\n",
       "#T_1c962_row1_col2 {\n",
       "  background-color: #3c4ec2;\n",
       "  color: #f1f1f1;\n",
       "}\n",
       "#T_1c962_row2_col0 {\n",
       "  background-color: #9fbfff;\n",
       "  color: #000000;\n",
       "}\n",
       "#T_1c962_row2_col1 {\n",
       "  background-color: #a1c0ff;\n",
       "  color: #000000;\n",
       "}\n",
       "#T_1c962_row2_col3 {\n",
       "  background-color: #edd2c3;\n",
       "  color: #000000;\n",
       "}\n",
       "#T_1c962_row3_col0 {\n",
       "  background-color: #c1d4f4;\n",
       "  color: #000000;\n",
       "}\n",
       "#T_1c962_row3_col1 {\n",
       "  background-color: #7295f4;\n",
       "  color: #f1f1f1;\n",
       "}\n",
       "#T_1c962_row3_col2 {\n",
       "  background-color: #d9dce1;\n",
       "  color: #000000;\n",
       "}\n",
       "</style>\n",
       "<table id=\"T_1c962\">\n",
       "  <thead>\n",
       "    <tr>\n",
       "      <th class=\"blank level0\" >&nbsp;</th>\n",
       "      <th id=\"T_1c962_level0_col0\" class=\"col_heading level0 col0\" >f0</th>\n",
       "      <th id=\"T_1c962_level0_col1\" class=\"col_heading level0 col1\" >f1</th>\n",
       "      <th id=\"T_1c962_level0_col2\" class=\"col_heading level0 col2\" >f2</th>\n",
       "      <th id=\"T_1c962_level0_col3\" class=\"col_heading level0 col3\" >product</th>\n",
       "    </tr>\n",
       "  </thead>\n",
       "  <tbody>\n",
       "    <tr>\n",
       "      <th id=\"T_1c962_level0_row0\" class=\"row_heading level0 row0\" >f0</th>\n",
       "      <td id=\"T_1c962_row0_col0\" class=\"data row0 col0\" >1.000000</td>\n",
       "      <td id=\"T_1c962_row0_col1\" class=\"data row0 col1\" >-0.440723</td>\n",
       "      <td id=\"T_1c962_row0_col2\" class=\"data row0 col2\" >-0.003153</td>\n",
       "      <td id=\"T_1c962_row0_col3\" class=\"data row0 col3\" >0.143536</td>\n",
       "    </tr>\n",
       "    <tr>\n",
       "      <th id=\"T_1c962_level0_row1\" class=\"row_heading level0 row1\" >f1</th>\n",
       "      <td id=\"T_1c962_row1_col0\" class=\"data row1 col0\" >-0.440723</td>\n",
       "      <td id=\"T_1c962_row1_col1\" class=\"data row1 col1\" >1.000000</td>\n",
       "      <td id=\"T_1c962_row1_col2\" class=\"data row1 col2\" >0.001724</td>\n",
       "      <td id=\"T_1c962_row1_col3\" class=\"data row1 col3\" >-0.192356</td>\n",
       "    </tr>\n",
       "    <tr>\n",
       "      <th id=\"T_1c962_level0_row2\" class=\"row_heading level0 row2\" >f2</th>\n",
       "      <td id=\"T_1c962_row2_col0\" class=\"data row2 col0\" >-0.003153</td>\n",
       "      <td id=\"T_1c962_row2_col1\" class=\"data row2 col1\" >0.001724</td>\n",
       "      <td id=\"T_1c962_row2_col2\" class=\"data row2 col2\" >1.000000</td>\n",
       "      <td id=\"T_1c962_row2_col3\" class=\"data row2 col3\" >0.483663</td>\n",
       "    </tr>\n",
       "    <tr>\n",
       "      <th id=\"T_1c962_level0_row3\" class=\"row_heading level0 row3\" >product</th>\n",
       "      <td id=\"T_1c962_row3_col0\" class=\"data row3 col0\" >0.143536</td>\n",
       "      <td id=\"T_1c962_row3_col1\" class=\"data row3 col1\" >-0.192356</td>\n",
       "      <td id=\"T_1c962_row3_col2\" class=\"data row3 col2\" >0.483663</td>\n",
       "      <td id=\"T_1c962_row3_col3\" class=\"data row3 col3\" >1.000000</td>\n",
       "    </tr>\n",
       "  </tbody>\n",
       "</table>\n"
      ],
      "text/plain": [
       "<pandas.io.formats.style.Styler at 0x157349876a0>"
      ]
     },
     "execution_count": 12,
     "metadata": {},
     "output_type": "execute_result"
    }
   ],
   "source": [
    "corr = data0.corr()\n",
    "corr.style.background_gradient(cmap='coolwarm')\n"
   ]
  },
  {
   "cell_type": "code",
   "execution_count": 13,
   "metadata": {},
   "outputs": [
    {
     "data": {
      "text/html": [
       "<style type=\"text/css\">\n",
       "#T_28250_row0_col0, #T_28250_row1_col1, #T_28250_row2_col2, #T_28250_row2_col3, #T_28250_row3_col2, #T_28250_row3_col3 {\n",
       "  background-color: #b40426;\n",
       "  color: #f1f1f1;\n",
       "}\n",
       "#T_28250_row0_col1 {\n",
       "  background-color: #779af7;\n",
       "  color: #f1f1f1;\n",
       "}\n",
       "#T_28250_row0_col2, #T_28250_row0_col3, #T_28250_row1_col2, #T_28250_row3_col0, #T_28250_row3_col1 {\n",
       "  background-color: #3b4cc0;\n",
       "  color: #f1f1f1;\n",
       "}\n",
       "#T_28250_row1_col0 {\n",
       "  background-color: #7da0f9;\n",
       "  color: #f1f1f1;\n",
       "}\n",
       "#T_28250_row1_col3 {\n",
       "  background-color: #4055c8;\n",
       "  color: #f1f1f1;\n",
       "}\n",
       "#T_28250_row2_col0 {\n",
       "  background-color: #4358cb;\n",
       "  color: #f1f1f1;\n",
       "}\n",
       "#T_28250_row2_col1 {\n",
       "  background-color: #3c4ec2;\n",
       "  color: #f1f1f1;\n",
       "}\n",
       "</style>\n",
       "<table id=\"T_28250\">\n",
       "  <thead>\n",
       "    <tr>\n",
       "      <th class=\"blank level0\" >&nbsp;</th>\n",
       "      <th id=\"T_28250_level0_col0\" class=\"col_heading level0 col0\" >f0</th>\n",
       "      <th id=\"T_28250_level0_col1\" class=\"col_heading level0 col1\" >f1</th>\n",
       "      <th id=\"T_28250_level0_col2\" class=\"col_heading level0 col2\" >f2</th>\n",
       "      <th id=\"T_28250_level0_col3\" class=\"col_heading level0 col3\" >product</th>\n",
       "    </tr>\n",
       "  </thead>\n",
       "  <tbody>\n",
       "    <tr>\n",
       "      <th id=\"T_28250_level0_row0\" class=\"row_heading level0 row0\" >f0</th>\n",
       "      <td id=\"T_28250_row0_col0\" class=\"data row0 col0\" >1.000000</td>\n",
       "      <td id=\"T_28250_row0_col1\" class=\"data row0 col1\" >0.182287</td>\n",
       "      <td id=\"T_28250_row0_col2\" class=\"data row0 col2\" >-0.001777</td>\n",
       "      <td id=\"T_28250_row0_col3\" class=\"data row0 col3\" >-0.030491</td>\n",
       "    </tr>\n",
       "    <tr>\n",
       "      <th id=\"T_28250_level0_row1\" class=\"row_heading level0 row1\" >f1</th>\n",
       "      <td id=\"T_28250_row1_col0\" class=\"data row1 col0\" >0.182287</td>\n",
       "      <td id=\"T_28250_row1_col1\" class=\"data row1 col1\" >1.000000</td>\n",
       "      <td id=\"T_28250_row1_col2\" class=\"data row1 col2\" >-0.002595</td>\n",
       "      <td id=\"T_28250_row1_col3\" class=\"data row1 col3\" >-0.010155</td>\n",
       "    </tr>\n",
       "    <tr>\n",
       "      <th id=\"T_28250_level0_row2\" class=\"row_heading level0 row2\" >f2</th>\n",
       "      <td id=\"T_28250_row2_col0\" class=\"data row2 col0\" >-0.001777</td>\n",
       "      <td id=\"T_28250_row2_col1\" class=\"data row2 col1\" >-0.002595</td>\n",
       "      <td id=\"T_28250_row2_col2\" class=\"data row2 col2\" >1.000000</td>\n",
       "      <td id=\"T_28250_row2_col3\" class=\"data row2 col3\" >0.999397</td>\n",
       "    </tr>\n",
       "    <tr>\n",
       "      <th id=\"T_28250_level0_row3\" class=\"row_heading level0 row3\" >product</th>\n",
       "      <td id=\"T_28250_row3_col0\" class=\"data row3 col0\" >-0.030491</td>\n",
       "      <td id=\"T_28250_row3_col1\" class=\"data row3 col1\" >-0.010155</td>\n",
       "      <td id=\"T_28250_row3_col2\" class=\"data row3 col2\" >0.999397</td>\n",
       "      <td id=\"T_28250_row3_col3\" class=\"data row3 col3\" >1.000000</td>\n",
       "    </tr>\n",
       "  </tbody>\n",
       "</table>\n"
      ],
      "text/plain": [
       "<pandas.io.formats.style.Styler at 0x157327fb8b0>"
      ]
     },
     "execution_count": 13,
     "metadata": {},
     "output_type": "execute_result"
    }
   ],
   "source": [
    "corr = data1.corr()\n",
    "corr.style.background_gradient(cmap='coolwarm')"
   ]
  },
  {
   "cell_type": "code",
   "execution_count": 14,
   "metadata": {},
   "outputs": [
    {
     "data": {
      "text/html": [
       "<style type=\"text/css\">\n",
       "#T_b08d0_row0_col0, #T_b08d0_row1_col1, #T_b08d0_row2_col2, #T_b08d0_row3_col3 {\n",
       "  background-color: #b40426;\n",
       "  color: #f1f1f1;\n",
       "}\n",
       "#T_b08d0_row0_col1, #T_b08d0_row0_col2, #T_b08d0_row0_col3, #T_b08d0_row1_col0, #T_b08d0_row1_col2, #T_b08d0_row1_col3, #T_b08d0_row2_col0, #T_b08d0_row2_col1, #T_b08d0_row3_col0, #T_b08d0_row3_col1 {\n",
       "  background-color: #3b4cc0;\n",
       "  color: #f1f1f1;\n",
       "}\n",
       "#T_b08d0_row2_col3, #T_b08d0_row3_col2 {\n",
       "  background-color: #cedaeb;\n",
       "  color: #000000;\n",
       "}\n",
       "</style>\n",
       "<table id=\"T_b08d0\">\n",
       "  <thead>\n",
       "    <tr>\n",
       "      <th class=\"blank level0\" >&nbsp;</th>\n",
       "      <th id=\"T_b08d0_level0_col0\" class=\"col_heading level0 col0\" >f0</th>\n",
       "      <th id=\"T_b08d0_level0_col1\" class=\"col_heading level0 col1\" >f1</th>\n",
       "      <th id=\"T_b08d0_level0_col2\" class=\"col_heading level0 col2\" >f2</th>\n",
       "      <th id=\"T_b08d0_level0_col3\" class=\"col_heading level0 col3\" >product</th>\n",
       "    </tr>\n",
       "  </thead>\n",
       "  <tbody>\n",
       "    <tr>\n",
       "      <th id=\"T_b08d0_level0_row0\" class=\"row_heading level0 row0\" >f0</th>\n",
       "      <td id=\"T_b08d0_row0_col0\" class=\"data row0 col0\" >1.000000</td>\n",
       "      <td id=\"T_b08d0_row0_col1\" class=\"data row0 col1\" >0.000528</td>\n",
       "      <td id=\"T_b08d0_row0_col2\" class=\"data row0 col2\" >-0.000448</td>\n",
       "      <td id=\"T_b08d0_row0_col3\" class=\"data row0 col3\" >-0.001987</td>\n",
       "    </tr>\n",
       "    <tr>\n",
       "      <th id=\"T_b08d0_level0_row1\" class=\"row_heading level0 row1\" >f1</th>\n",
       "      <td id=\"T_b08d0_row1_col0\" class=\"data row1 col0\" >0.000528</td>\n",
       "      <td id=\"T_b08d0_row1_col1\" class=\"data row1 col1\" >1.000000</td>\n",
       "      <td id=\"T_b08d0_row1_col2\" class=\"data row1 col2\" >0.000779</td>\n",
       "      <td id=\"T_b08d0_row1_col3\" class=\"data row1 col3\" >-0.001012</td>\n",
       "    </tr>\n",
       "    <tr>\n",
       "      <th id=\"T_b08d0_level0_row2\" class=\"row_heading level0 row2\" >f2</th>\n",
       "      <td id=\"T_b08d0_row2_col0\" class=\"data row2 col0\" >-0.000448</td>\n",
       "      <td id=\"T_b08d0_row2_col1\" class=\"data row2 col1\" >0.000779</td>\n",
       "      <td id=\"T_b08d0_row2_col2\" class=\"data row2 col2\" >1.000000</td>\n",
       "      <td id=\"T_b08d0_row2_col3\" class=\"data row2 col3\" >0.445871</td>\n",
       "    </tr>\n",
       "    <tr>\n",
       "      <th id=\"T_b08d0_level0_row3\" class=\"row_heading level0 row3\" >product</th>\n",
       "      <td id=\"T_b08d0_row3_col0\" class=\"data row3 col0\" >-0.001987</td>\n",
       "      <td id=\"T_b08d0_row3_col1\" class=\"data row3 col1\" >-0.001012</td>\n",
       "      <td id=\"T_b08d0_row3_col2\" class=\"data row3 col2\" >0.445871</td>\n",
       "      <td id=\"T_b08d0_row3_col3\" class=\"data row3 col3\" >1.000000</td>\n",
       "    </tr>\n",
       "  </tbody>\n",
       "</table>\n"
      ],
      "text/plain": [
       "<pandas.io.formats.style.Styler at 0x1572c580910>"
      ]
     },
     "execution_count": 14,
     "metadata": {},
     "output_type": "execute_result"
    }
   ],
   "source": [
    "corr = data2.corr()\n",
    "corr.style.background_gradient(cmap='coolwarm')"
   ]
  },
  {
   "cell_type": "markdown",
   "metadata": {},
   "source": [
    "На данных третьего региона отмечается по признакам f0, f1, f2 нормальное распределение. Все три региона очень разные."
   ]
  },
  {
   "cell_type": "code",
   "execution_count": 15,
   "metadata": {},
   "outputs": [
    {
     "name": "stdout",
     "output_type": "stream",
     "text": [
      "(100000, 4) (100000, 4) (100000, 4)\n"
     ]
    }
   ],
   "source": [
    "# Удалим столбцы ID, которые не будум использоваться при обучении.\n",
    "data0 = data0.drop('id', axis=1)\n",
    "data1 = data1.drop('id', axis=1)\n",
    "data2 = data2.drop('id', axis=1)\n",
    "print(data0.shape, data1.shape, data2.shape)"
   ]
  },
  {
   "cell_type": "markdown",
   "metadata": {},
   "source": [
    "Данные загружены и подготовлены. Ура!"
   ]
  },
  {
   "cell_type": "markdown",
   "metadata": {},
   "source": [
    "## Обучение и проверка модели"
   ]
  },
  {
   "cell_type": "markdown",
   "metadata": {},
   "source": [
    "Рассмотрим первую модель"
   ]
  },
  {
   "cell_type": "code",
   "execution_count": 16,
   "metadata": {},
   "outputs": [],
   "source": [
    "y = data0['product']\n",
    "X = data0.drop('product', axis=1)"
   ]
  },
  {
   "cell_type": "code",
   "execution_count": 17,
   "metadata": {},
   "outputs": [],
   "source": [
    "def split_data(X, y): #--> X_train, X_val, X_test, y_train, у_val, y_test\n",
    "    X_train, X_val, y_train, y_val = train_test_split(X, y,\n",
    "                                                      test_size = 0.25,\n",
    "                                                      train_size = 0.75,\n",
    "                                                        random_state=RANDOM_STATE)\n",
    "    return X_train, X_val, y_train, y_val\n",
    "\n",
    "X_train, X_val, y_train, y_val = split_data(X, y)"
   ]
  },
  {
   "cell_type": "code",
   "execution_count": 18,
   "metadata": {},
   "outputs": [],
   "source": [
    "def LM_model_and_StandardScaler(data, name_region):\n",
    "    \n",
    "    # Разделение на фичи и целевую функцию\n",
    "    y = data['product']\n",
    "    X = data.drop('product', axis=1)\n",
    "    \n",
    "    # Разбиение на выборки датасета\n",
    "    X_train, X_val, y_train, y_val = split_data(X, y)  \n",
    "    \n",
    "    # Стандартизация диапазон\n",
    "    scaler = StandardScaler()\n",
    "    scaler.fit(X_train) \n",
    "    X_train = scaler.transform(X_train)\n",
    "    X_val = scaler.transform(X_val)\n",
    "    \n",
    "    # Обучение модели предскажем значение функции на валидационных данных\n",
    "    LM = LinearRegression()\n",
    "    LM.fit(X_train, y_train)\n",
    "    y_pred = LM.predict(X_val)\n",
    "    \n",
    "    # Найдем среднее по предсазанию на валидачинной выборке\n",
    "    mean_y_val = y_val.mean()\n",
    "    \n",
    "    # Найдем среднее по предсазанию на предсказанной выборке\n",
    "    mean_y_pred = y_pred.mean()\n",
    "    \n",
    "    # посчитаем RMSE\n",
    "    rmse = mean_squared_error(y_val, y_pred)**0.5\n",
    "    \n",
    "    return name_region, mean_y_val, mean_y_pred, rmse, y_pred, y_val"
   ]
  },
  {
   "cell_type": "code",
   "execution_count": 19,
   "metadata": {},
   "outputs": [
    {
     "data": {
      "text/html": [
       "<div>\n",
       "<style scoped>\n",
       "    .dataframe tbody tr th:only-of-type {\n",
       "        vertical-align: middle;\n",
       "    }\n",
       "\n",
       "    .dataframe tbody tr th {\n",
       "        vertical-align: top;\n",
       "    }\n",
       "\n",
       "    .dataframe thead th {\n",
       "        text-align: right;\n",
       "    }\n",
       "</style>\n",
       "<table border=\"1\" class=\"dataframe\">\n",
       "  <thead>\n",
       "    <tr style=\"text-align: right;\">\n",
       "      <th></th>\n",
       "      <th>Регион</th>\n",
       "      <th>Фактический объем</th>\n",
       "      <th>Предсказанный объем</th>\n",
       "      <th>RMSE</th>\n",
       "    </tr>\n",
       "  </thead>\n",
       "  <tbody>\n",
       "  </tbody>\n",
       "</table>\n",
       "</div>"
      ],
      "text/plain": [
       "Empty DataFrame\n",
       "Columns: [Регион, Фактический объем, Предсказанный объем, RMSE]\n",
       "Index: []"
      ]
     },
     "execution_count": 19,
     "metadata": {},
     "output_type": "execute_result"
    }
   ],
   "source": [
    "# создадим df для исследований\n",
    "model_rep = pd.DataFrame({\"Регион\": [],\n",
    "                          \"Фактический объем\": [],\n",
    "                          \"Предсказанный объем\": [],\n",
    "                          \"RMSE\": []})\n",
    "model_rep"
   ]
  },
  {
   "cell_type": "markdown",
   "metadata": {},
   "source": [
    "\n"
   ]
  },
  {
   "cell_type": "code",
   "execution_count": 20,
   "metadata": {},
   "outputs": [
    {
     "name": "stderr",
     "output_type": "stream",
     "text": [
      "C:\\Users\\izara\\AppData\\Local\\Temp\\ipykernel_1992\\3590826368.py:4: FutureWarning: The frame.append method is deprecated and will be removed from pandas in a future version. Use pandas.concat instead.\n",
      "  model_rep = model_rep.append({\"Регион\": name_region,\n"
     ]
    },
    {
     "data": {
      "text/html": [
       "<div>\n",
       "<style scoped>\n",
       "    .dataframe tbody tr th:only-of-type {\n",
       "        vertical-align: middle;\n",
       "    }\n",
       "\n",
       "    .dataframe tbody tr th {\n",
       "        vertical-align: top;\n",
       "    }\n",
       "\n",
       "    .dataframe thead th {\n",
       "        text-align: right;\n",
       "    }\n",
       "</style>\n",
       "<table border=\"1\" class=\"dataframe\">\n",
       "  <thead>\n",
       "    <tr style=\"text-align: right;\">\n",
       "      <th></th>\n",
       "      <th>Регион</th>\n",
       "      <th>Фактический объем</th>\n",
       "      <th>Предсказанный объем</th>\n",
       "      <th>RMSE</th>\n",
       "    </tr>\n",
       "  </thead>\n",
       "  <tbody>\n",
       "    <tr>\n",
       "      <th>0</th>\n",
       "      <td>Первый</td>\n",
       "      <td>92.325956</td>\n",
       "      <td>92.3988</td>\n",
       "      <td>37.7566</td>\n",
       "    </tr>\n",
       "  </tbody>\n",
       "</table>\n",
       "</div>"
      ],
      "text/plain": [
       "   Регион  Фактический объем  Предсказанный объем     RMSE\n",
       "0  Первый          92.325956              92.3988  37.7566"
      ]
     },
     "execution_count": 20,
     "metadata": {},
     "output_type": "execute_result"
    }
   ],
   "source": [
    "# Посмотрим данные по первому региону.\n",
    "name_region, mean_y_val, mean_y_pred, rmse, y_pred0, y_val0 = LM_model_and_StandardScaler(data0, 'Первый')    \n",
    "\n",
    "model_rep = model_rep.append({\"Регион\": name_region,\n",
    "                          \"Фактический объем\": mean_y_val,\n",
    "                          \"Предсказанный объем\": mean_y_pred,\n",
    "                          \"RMSE\": rmse},\n",
    "                         ignore_index=True)\n",
    "model_rep"
   ]
  },
  {
   "cell_type": "code",
   "execution_count": 21,
   "metadata": {},
   "outputs": [
    {
     "name": "stderr",
     "output_type": "stream",
     "text": [
      "C:\\Users\\izara\\AppData\\Local\\Temp\\ipykernel_1992\\142545914.py:4: FutureWarning: The frame.append method is deprecated and will be removed from pandas in a future version. Use pandas.concat instead.\n",
      "  model_rep = model_rep.append({\"Регион\": name_region,\n"
     ]
    },
    {
     "data": {
      "text/html": [
       "<div>\n",
       "<style scoped>\n",
       "    .dataframe tbody tr th:only-of-type {\n",
       "        vertical-align: middle;\n",
       "    }\n",
       "\n",
       "    .dataframe tbody tr th {\n",
       "        vertical-align: top;\n",
       "    }\n",
       "\n",
       "    .dataframe thead th {\n",
       "        text-align: right;\n",
       "    }\n",
       "</style>\n",
       "<table border=\"1\" class=\"dataframe\">\n",
       "  <thead>\n",
       "    <tr style=\"text-align: right;\">\n",
       "      <th></th>\n",
       "      <th>Регион</th>\n",
       "      <th>Фактический объем</th>\n",
       "      <th>Предсказанный объем</th>\n",
       "      <th>RMSE</th>\n",
       "    </tr>\n",
       "  </thead>\n",
       "  <tbody>\n",
       "    <tr>\n",
       "      <th>0</th>\n",
       "      <td>Первый</td>\n",
       "      <td>92.325956</td>\n",
       "      <td>92.398800</td>\n",
       "      <td>37.75660</td>\n",
       "    </tr>\n",
       "    <tr>\n",
       "      <th>1</th>\n",
       "      <td>Второй</td>\n",
       "      <td>68.725381</td>\n",
       "      <td>68.712878</td>\n",
       "      <td>0.89028</td>\n",
       "    </tr>\n",
       "  </tbody>\n",
       "</table>\n",
       "</div>"
      ],
      "text/plain": [
       "   Регион  Фактический объем  Предсказанный объем      RMSE\n",
       "0  Первый          92.325956            92.398800  37.75660\n",
       "1  Второй          68.725381            68.712878   0.89028"
      ]
     },
     "execution_count": 21,
     "metadata": {},
     "output_type": "execute_result"
    }
   ],
   "source": [
    "# Посмотрим данные по второму региону.\n",
    "name_region, sum_y_val, sum_y_pred, rmse, y_pred1, y_val1 = LM_model_and_StandardScaler(data1, 'Второй')    \n",
    "\n",
    "model_rep = model_rep.append({\"Регион\": name_region,\n",
    "                          \"Фактический объем\": sum_y_val,\n",
    "                          \"Предсказанный объем\": sum_y_pred,\n",
    "                          \"RMSE\": rmse},\n",
    "                         ignore_index=True)\n",
    "model_rep"
   ]
  },
  {
   "cell_type": "code",
   "execution_count": 22,
   "metadata": {
    "scrolled": true
   },
   "outputs": [
    {
     "name": "stderr",
     "output_type": "stream",
     "text": [
      "C:\\Users\\izara\\AppData\\Local\\Temp\\ipykernel_1992\\2055860774.py:4: FutureWarning: The frame.append method is deprecated and will be removed from pandas in a future version. Use pandas.concat instead.\n",
      "  model_rep = model_rep.append({\"Регион\": name_region,\n"
     ]
    },
    {
     "data": {
      "text/html": [
       "<div>\n",
       "<style scoped>\n",
       "    .dataframe tbody tr th:only-of-type {\n",
       "        vertical-align: middle;\n",
       "    }\n",
       "\n",
       "    .dataframe tbody tr th {\n",
       "        vertical-align: top;\n",
       "    }\n",
       "\n",
       "    .dataframe thead th {\n",
       "        text-align: right;\n",
       "    }\n",
       "</style>\n",
       "<table border=\"1\" class=\"dataframe\">\n",
       "  <thead>\n",
       "    <tr style=\"text-align: right;\">\n",
       "      <th></th>\n",
       "      <th>Регион</th>\n",
       "      <th>Фактический объем</th>\n",
       "      <th>Предсказанный объем</th>\n",
       "      <th>RMSE</th>\n",
       "    </tr>\n",
       "  </thead>\n",
       "  <tbody>\n",
       "    <tr>\n",
       "      <th>0</th>\n",
       "      <td>Первый</td>\n",
       "      <td>92.325956</td>\n",
       "      <td>92.398800</td>\n",
       "      <td>37.756600</td>\n",
       "    </tr>\n",
       "    <tr>\n",
       "      <th>1</th>\n",
       "      <td>Второй</td>\n",
       "      <td>68.725381</td>\n",
       "      <td>68.712878</td>\n",
       "      <td>0.890280</td>\n",
       "    </tr>\n",
       "    <tr>\n",
       "      <th>2</th>\n",
       "      <td>Третий</td>\n",
       "      <td>95.150999</td>\n",
       "      <td>94.771024</td>\n",
       "      <td>40.145872</td>\n",
       "    </tr>\n",
       "  </tbody>\n",
       "</table>\n",
       "</div>"
      ],
      "text/plain": [
       "   Регион  Фактический объем  Предсказанный объем       RMSE\n",
       "0  Первый          92.325956            92.398800  37.756600\n",
       "1  Второй          68.725381            68.712878   0.890280\n",
       "2  Третий          95.150999            94.771024  40.145872"
      ]
     },
     "execution_count": 22,
     "metadata": {},
     "output_type": "execute_result"
    }
   ],
   "source": [
    "# Посмотрим данные по третьему региону.\n",
    "name_region, sum_y_val, sum_y_pred, rmse, y_pred2, y_val2 = LM_model_and_StandardScaler(data2, 'Третий')    \n",
    "\n",
    "model_rep = model_rep.append({\"Регион\": name_region,\n",
    "                          \"Фактический объем\": sum_y_val,\n",
    "                          \"Предсказанный объем\": sum_y_pred,\n",
    "                          \"RMSE\": rmse},\n",
    "                         ignore_index=True)\n",
    "model_rep"
   ]
  },
  {
   "cell_type": "markdown",
   "metadata": {},
   "source": [
    "Вывод: Отмечается, что во втором регионе наименьшая ошибка (RMSE). Также важным фактором является наименьший объем (относительно первого и второ регионов)."
   ]
  },
  {
   "cell_type": "markdown",
   "metadata": {},
   "source": [
    "## Подготовка к расчёту прибыли"
   ]
  },
  {
   "cell_type": "code",
   "execution_count": 23,
   "metadata": {},
   "outputs": [],
   "source": [
    "# цена единицы продукта (тысячи баррелей)\n",
    "BARREL_PRICE = 450_000 \n",
    "\n",
    "# бюджет на разработку скважин в каждом регионе\n",
    "BUDGET = 100_00_000_000 \n",
    "\n",
    "# количество скважин для разработки в регионе\n",
    "POINT_QNT = 200 \n",
    "\n",
    "# количество исследуемых скважин\n",
    "POINT_SAMPLE_SIZE = 500 "
   ]
  },
  {
   "cell_type": "code",
   "execution_count": 24,
   "metadata": {},
   "outputs": [
    {
     "data": {
      "text/plain": [
       "111.11111111111111"
      ]
     },
     "execution_count": 24,
     "metadata": {},
     "output_type": "execute_result"
    }
   ],
   "source": [
    "# Минимальное количество тысяч баррелей из скважины для безубыточности\n",
    "min_barrels = BUDGET / POINT_QNT / BARREL_PRICE\n",
    "min_barrels"
   ]
  },
  {
   "cell_type": "markdown",
   "metadata": {},
   "source": [
    "__Вывод:__\n",
    "* Достаточное количество тысяч баррелей из скважины для безубыточности:  112\n",
    "* Средний запас в каждом регионе ниже достаточного объёма для безубыточности. Для достижения этого условия следует рассматривать скважины с запасом более 112 тыс. баррелей."
   ]
  },
  {
   "cell_type": "markdown",
   "metadata": {},
   "source": []
  },
  {
   "cell_type": "markdown",
   "metadata": {},
   "source": [
    "## Расчёт прибыли и рисков "
   ]
  },
  {
   "cell_type": "markdown",
   "metadata": {},
   "source": [
    "Напишите функцию для расчёта прибыли по выбранным скважинам и предсказаниям модели:\n",
    "- 4.1. Выберите скважины с максимальными значениями предсказаний.\n",
    "- 4.2. Просуммируйте целевое значение объёма сырья, соответствующее этим предсказаниям.\n",
    "- 4.3. Рассчитайте прибыль для полученного объёма сырья."
   ]
  },
  {
   "cell_type": "code",
   "execution_count": 25,
   "metadata": {},
   "outputs": [],
   "source": [
    "# Напишем функцию, которая будет находить скважены с максимальным количеством предсказаний\n",
    "def calc_income(y_pred, y, count):\n",
    "    #y_pred = pd.Series(y_pred)\n",
    "    y_pred = pd.Series(y_pred, index=y.index)\n",
    "    predictions_max = y_pred.sort_values(ascending=False)[:count].index\n",
    "    y_val = y[predictions_max].sum()                           # y_val - Просуммируйте целевое значение объёма сырья, соответствующее этим предсказаниям.\n",
    "    income_value = y_val * BARREL_PRICE - BUDGET               # income_value - Рассчитайте прибыль для полученного объёма сырья\n",
    "    return y_val, income_value\n"
   ]
  },
  {
   "cell_type": "code",
   "execution_count": 26,
   "metadata": {},
   "outputs": [
    {
     "data": {
      "text/html": [
       "<div>\n",
       "<style scoped>\n",
       "    .dataframe tbody tr th:only-of-type {\n",
       "        vertical-align: middle;\n",
       "    }\n",
       "\n",
       "    .dataframe tbody tr th {\n",
       "        vertical-align: top;\n",
       "    }\n",
       "\n",
       "    .dataframe thead th {\n",
       "        text-align: right;\n",
       "    }\n",
       "</style>\n",
       "<table border=\"1\" class=\"dataframe\">\n",
       "  <thead>\n",
       "    <tr style=\"text-align: right;\">\n",
       "      <th></th>\n",
       "      <th>Регион</th>\n",
       "      <th>Фактический объем</th>\n",
       "      <th>Предсказанный объем</th>\n",
       "      <th>RMSE</th>\n",
       "      <th>Цель</th>\n",
       "      <th>Прибыль</th>\n",
       "    </tr>\n",
       "  </thead>\n",
       "  <tbody>\n",
       "    <tr>\n",
       "      <th>0</th>\n",
       "      <td>Первый</td>\n",
       "      <td>92.325956</td>\n",
       "      <td>92.398800</td>\n",
       "      <td>37.756600</td>\n",
       "      <td>29686.980254</td>\n",
       "      <td>3.359141</td>\n",
       "    </tr>\n",
       "    <tr>\n",
       "      <th>1</th>\n",
       "      <td>Второй</td>\n",
       "      <td>68.725381</td>\n",
       "      <td>68.712878</td>\n",
       "      <td>0.890280</td>\n",
       "      <td>NaN</td>\n",
       "      <td>NaN</td>\n",
       "    </tr>\n",
       "    <tr>\n",
       "      <th>2</th>\n",
       "      <td>Третий</td>\n",
       "      <td>95.150999</td>\n",
       "      <td>94.771024</td>\n",
       "      <td>40.145872</td>\n",
       "      <td>NaN</td>\n",
       "      <td>NaN</td>\n",
       "    </tr>\n",
       "  </tbody>\n",
       "</table>\n",
       "</div>"
      ],
      "text/plain": [
       "   Регион  Фактический объем  Предсказанный объем       RMSE          Цель  \\\n",
       "0  Первый          92.325956            92.398800  37.756600  29686.980254   \n",
       "1  Второй          68.725381            68.712878   0.890280           NaN   \n",
       "2  Третий          95.150999            94.771024  40.145872           NaN   \n",
       "\n",
       "    Прибыль  \n",
       "0  3.359141  \n",
       "1       NaN  \n",
       "2       NaN  "
      ]
     },
     "execution_count": 26,
     "metadata": {},
     "output_type": "execute_result"
    }
   ],
   "source": [
    "# Превый регион\n",
    "target_value, income_value = calc_income(y_pred0, y_val0, POINT_QNT)\n",
    "model_rep.loc[model_rep['Регион']=='Первый', 'Цель'] = target_value\n",
    "model_rep.loc[model_rep['Регион']=='Первый', 'Прибыль'] = income_value/10**9\n",
    "model_rep"
   ]
  },
  {
   "cell_type": "code",
   "execution_count": 27,
   "metadata": {},
   "outputs": [
    {
     "data": {
      "text/html": [
       "<div>\n",
       "<style scoped>\n",
       "    .dataframe tbody tr th:only-of-type {\n",
       "        vertical-align: middle;\n",
       "    }\n",
       "\n",
       "    .dataframe tbody tr th {\n",
       "        vertical-align: top;\n",
       "    }\n",
       "\n",
       "    .dataframe thead th {\n",
       "        text-align: right;\n",
       "    }\n",
       "</style>\n",
       "<table border=\"1\" class=\"dataframe\">\n",
       "  <thead>\n",
       "    <tr style=\"text-align: right;\">\n",
       "      <th></th>\n",
       "      <th>Регион</th>\n",
       "      <th>Фактический объем</th>\n",
       "      <th>Предсказанный объем</th>\n",
       "      <th>RMSE</th>\n",
       "      <th>Цель</th>\n",
       "      <th>Прибыль</th>\n",
       "    </tr>\n",
       "  </thead>\n",
       "  <tbody>\n",
       "    <tr>\n",
       "      <th>0</th>\n",
       "      <td>Первый</td>\n",
       "      <td>92.325956</td>\n",
       "      <td>92.398800</td>\n",
       "      <td>37.756600</td>\n",
       "      <td>29686.980254</td>\n",
       "      <td>3.359141</td>\n",
       "    </tr>\n",
       "    <tr>\n",
       "      <th>1</th>\n",
       "      <td>Второй</td>\n",
       "      <td>68.725381</td>\n",
       "      <td>68.712878</td>\n",
       "      <td>0.890280</td>\n",
       "      <td>27589.081548</td>\n",
       "      <td>2.415087</td>\n",
       "    </tr>\n",
       "    <tr>\n",
       "      <th>2</th>\n",
       "      <td>Третий</td>\n",
       "      <td>95.150999</td>\n",
       "      <td>94.771024</td>\n",
       "      <td>40.145872</td>\n",
       "      <td>NaN</td>\n",
       "      <td>NaN</td>\n",
       "    </tr>\n",
       "  </tbody>\n",
       "</table>\n",
       "</div>"
      ],
      "text/plain": [
       "   Регион  Фактический объем  Предсказанный объем       RMSE          Цель  \\\n",
       "0  Первый          92.325956            92.398800  37.756600  29686.980254   \n",
       "1  Второй          68.725381            68.712878   0.890280  27589.081548   \n",
       "2  Третий          95.150999            94.771024  40.145872           NaN   \n",
       "\n",
       "    Прибыль  \n",
       "0  3.359141  \n",
       "1  2.415087  \n",
       "2       NaN  "
      ]
     },
     "execution_count": 27,
     "metadata": {},
     "output_type": "execute_result"
    }
   ],
   "source": [
    "# Второй регион\n",
    "target_value, income_value = calc_income(y_pred1, y_val1, POINT_QNT)\n",
    "model_rep.loc[model_rep['Регион']=='Второй', 'Цель'] = target_value\n",
    "model_rep.loc[model_rep['Регион']=='Второй', 'Прибыль'] = income_value/10**9\n",
    "model_rep"
   ]
  },
  {
   "cell_type": "code",
   "execution_count": 28,
   "metadata": {},
   "outputs": [
    {
     "data": {
      "text/html": [
       "<div>\n",
       "<style scoped>\n",
       "    .dataframe tbody tr th:only-of-type {\n",
       "        vertical-align: middle;\n",
       "    }\n",
       "\n",
       "    .dataframe tbody tr th {\n",
       "        vertical-align: top;\n",
       "    }\n",
       "\n",
       "    .dataframe thead th {\n",
       "        text-align: right;\n",
       "    }\n",
       "</style>\n",
       "<table border=\"1\" class=\"dataframe\">\n",
       "  <thead>\n",
       "    <tr style=\"text-align: right;\">\n",
       "      <th></th>\n",
       "      <th>Регион</th>\n",
       "      <th>Фактический объем</th>\n",
       "      <th>Предсказанный объем</th>\n",
       "      <th>RMSE</th>\n",
       "      <th>Цель</th>\n",
       "      <th>Прибыль</th>\n",
       "    </tr>\n",
       "  </thead>\n",
       "  <tbody>\n",
       "    <tr>\n",
       "      <th>0</th>\n",
       "      <td>Первый</td>\n",
       "      <td>92.325956</td>\n",
       "      <td>92.398800</td>\n",
       "      <td>37.756600</td>\n",
       "      <td>29686.980254</td>\n",
       "      <td>3.359141</td>\n",
       "    </tr>\n",
       "    <tr>\n",
       "      <th>1</th>\n",
       "      <td>Второй</td>\n",
       "      <td>68.725381</td>\n",
       "      <td>68.712878</td>\n",
       "      <td>0.890280</td>\n",
       "      <td>27589.081548</td>\n",
       "      <td>2.415087</td>\n",
       "    </tr>\n",
       "    <tr>\n",
       "      <th>2</th>\n",
       "      <td>Третий</td>\n",
       "      <td>95.150999</td>\n",
       "      <td>94.771024</td>\n",
       "      <td>40.145872</td>\n",
       "      <td>27996.826132</td>\n",
       "      <td>2.598572</td>\n",
       "    </tr>\n",
       "  </tbody>\n",
       "</table>\n",
       "</div>"
      ],
      "text/plain": [
       "   Регион  Фактический объем  Предсказанный объем       RMSE          Цель  \\\n",
       "0  Первый          92.325956            92.398800  37.756600  29686.980254   \n",
       "1  Второй          68.725381            68.712878   0.890280  27589.081548   \n",
       "2  Третий          95.150999            94.771024  40.145872  27996.826132   \n",
       "\n",
       "    Прибыль  \n",
       "0  3.359141  \n",
       "1  2.415087  \n",
       "2  2.598572  "
      ]
     },
     "execution_count": 28,
     "metadata": {},
     "output_type": "execute_result"
    }
   ],
   "source": [
    "# Третий регион\n",
    "target_value, income_value = calc_income(y_pred2, y_val2, POINT_QNT)\n",
    "model_rep.loc[model_rep['Регион']=='Третий', 'Цель'] = target_value\n",
    "model_rep.loc[model_rep['Регион']=='Третий', 'Прибыль'] = income_value/10**9\n",
    "model_rep"
   ]
  },
  {
   "cell_type": "markdown",
   "metadata": {},
   "source": [
    "Вывод: <br>\n",
    "Все регионы указались прибыльными. Самый прибыльный регион оказывается \"Первый\". "
   ]
  },
  {
   "cell_type": "markdown",
   "metadata": {},
   "source": [
    "## Посчитайте риски и прибыль для каждого региона"
   ]
  },
  {
   "cell_type": "markdown",
   "metadata": {},
   "source": [
    "Посчитайте риски и прибыль для каждого региона:\n",
    "- 5.1. Примените технику Bootstrap с 1000 выборок, чтобы найти распределение прибыли.\n",
    "- 5.2. Найдите среднюю прибыль, 95%-й доверительный интервал и риск убытков. Убыток — это отрицательная прибыль.\n",
    "- 5.3. Напишите выводы: предложите регион для разработки скважин и обоснуйте выбор."
   ]
  },
  {
   "cell_type": "code",
   "execution_count": 29,
   "metadata": {},
   "outputs": [
    {
     "data": {
      "text/html": [
       "<div>\n",
       "<style scoped>\n",
       "    .dataframe tbody tr th:only-of-type {\n",
       "        vertical-align: middle;\n",
       "    }\n",
       "\n",
       "    .dataframe tbody tr th {\n",
       "        vertical-align: top;\n",
       "    }\n",
       "\n",
       "    .dataframe thead th {\n",
       "        text-align: right;\n",
       "    }\n",
       "</style>\n",
       "<table border=\"1\" class=\"dataframe\">\n",
       "  <thead>\n",
       "    <tr style=\"text-align: right;\">\n",
       "      <th></th>\n",
       "      <th>Регион</th>\n",
       "      <th>Фактический объем</th>\n",
       "      <th>Предсказанный объем</th>\n",
       "      <th>RMSE</th>\n",
       "      <th>Цель</th>\n",
       "      <th>Прибыль</th>\n",
       "      <th>Средняя прибыль</th>\n",
       "      <th>Дов. интервал - 2.5%</th>\n",
       "      <th>Дов. интервал + 2.5%</th>\n",
       "      <th>Вероятность убыточности</th>\n",
       "    </tr>\n",
       "  </thead>\n",
       "  <tbody>\n",
       "    <tr>\n",
       "      <th>0</th>\n",
       "      <td>Первый</td>\n",
       "      <td>92.325956</td>\n",
       "      <td>92.398800</td>\n",
       "      <td>37.756600</td>\n",
       "      <td>29686.980254</td>\n",
       "      <td>3.359141</td>\n",
       "      <td>619.237053</td>\n",
       "      <td>45.43</td>\n",
       "      <td>1275.89</td>\n",
       "      <td>2.0</td>\n",
       "    </tr>\n",
       "    <tr>\n",
       "      <th>1</th>\n",
       "      <td>Второй</td>\n",
       "      <td>68.725381</td>\n",
       "      <td>68.712878</td>\n",
       "      <td>0.890280</td>\n",
       "      <td>27589.081548</td>\n",
       "      <td>2.415087</td>\n",
       "      <td>NaN</td>\n",
       "      <td>NaN</td>\n",
       "      <td>NaN</td>\n",
       "      <td>NaN</td>\n",
       "    </tr>\n",
       "    <tr>\n",
       "      <th>2</th>\n",
       "      <td>Третий</td>\n",
       "      <td>95.150999</td>\n",
       "      <td>94.771024</td>\n",
       "      <td>40.145872</td>\n",
       "      <td>27996.826132</td>\n",
       "      <td>2.598572</td>\n",
       "      <td>NaN</td>\n",
       "      <td>NaN</td>\n",
       "      <td>NaN</td>\n",
       "      <td>NaN</td>\n",
       "    </tr>\n",
       "  </tbody>\n",
       "</table>\n",
       "</div>"
      ],
      "text/plain": [
       "   Регион  Фактический объем  Предсказанный объем       RMSE          Цель  \\\n",
       "0  Первый          92.325956            92.398800  37.756600  29686.980254   \n",
       "1  Второй          68.725381            68.712878   0.890280  27589.081548   \n",
       "2  Третий          95.150999            94.771024  40.145872  27996.826132   \n",
       "\n",
       "    Прибыль  Средняя прибыль  Дов. интервал - 2.5%  Дов. интервал + 2.5%  \\\n",
       "0  3.359141       619.237053                 45.43               1275.89   \n",
       "1  2.415087              NaN                   NaN                   NaN   \n",
       "2  2.598572              NaN                   NaN                   NaN   \n",
       "\n",
       "   Вероятность убыточности  \n",
       "0                      2.0  \n",
       "1                      NaN  \n",
       "2                      NaN  "
      ]
     },
     "execution_count": 29,
     "metadata": {},
     "output_type": "execute_result"
    }
   ],
   "source": [
    "# Бутстрап по первому региону\n",
    "y_val0 = y_val0.reset_index(drop=True)\n",
    "values = []\n",
    "\n",
    "rs = np.random.RandomState(153456)\n",
    "\n",
    "for i in range(1000):\n",
    "    target_subsample = y_val0.sample(n=POINT_SAMPLE_SIZE,\n",
    "                                                     replace=True,\n",
    "                                                     random_state=rs)\n",
    "    predictions_subsample = y_pred0[target_subsample.index] \n",
    "    target_value, income_value = calc_income(predictions_subsample, target_subsample, POINT_QNT)\n",
    "    values.append(income_value)\n",
    "    \n",
    "values = pd.Series(values)\n",
    "confidence_interval = (round(values.quantile(0.025)/pow(10,6),2), round(values.quantile(0.975)/pow(10,6),2))\n",
    "mean_profit = values.mean()\n",
    "negative_profit_chance = (values < 0).mean()*100   \n",
    "\n",
    "#print(mean_profit, list(confidence_interval), negative_profit_chance)\n",
    "\n",
    "model_rep.loc[model_rep['Регион']=='Первый', 'Средняя прибыль'] = mean_profit/10**6\n",
    "model_rep.loc[model_rep['Регион']=='Первый', 'Дов. интервал - 2.5%'] = confidence_interval[0]\n",
    "model_rep.loc[model_rep['Регион']=='Первый', 'Дов. интервал + 2.5%'] = confidence_interval[1] \n",
    "model_rep.loc[model_rep['Регион']=='Первый', 'Вероятность убыточности'] = negative_profit_chance\n",
    "model_rep"
   ]
  },
  {
   "cell_type": "code",
   "execution_count": 30,
   "metadata": {},
   "outputs": [
    {
     "data": {
      "text/html": [
       "<div>\n",
       "<style scoped>\n",
       "    .dataframe tbody tr th:only-of-type {\n",
       "        vertical-align: middle;\n",
       "    }\n",
       "\n",
       "    .dataframe tbody tr th {\n",
       "        vertical-align: top;\n",
       "    }\n",
       "\n",
       "    .dataframe thead th {\n",
       "        text-align: right;\n",
       "    }\n",
       "</style>\n",
       "<table border=\"1\" class=\"dataframe\">\n",
       "  <thead>\n",
       "    <tr style=\"text-align: right;\">\n",
       "      <th></th>\n",
       "      <th>Регион</th>\n",
       "      <th>Фактический объем</th>\n",
       "      <th>Предсказанный объем</th>\n",
       "      <th>RMSE</th>\n",
       "      <th>Цель</th>\n",
       "      <th>Прибыль</th>\n",
       "      <th>Средняя прибыль</th>\n",
       "      <th>Дов. интервал - 2.5%</th>\n",
       "      <th>Дов. интервал + 2.5%</th>\n",
       "      <th>Вероятность убыточности</th>\n",
       "    </tr>\n",
       "  </thead>\n",
       "  <tbody>\n",
       "    <tr>\n",
       "      <th>0</th>\n",
       "      <td>Первый</td>\n",
       "      <td>92.325956</td>\n",
       "      <td>92.398800</td>\n",
       "      <td>37.756600</td>\n",
       "      <td>29686.980254</td>\n",
       "      <td>3.359141</td>\n",
       "      <td>619.237053</td>\n",
       "      <td>45.43</td>\n",
       "      <td>1275.89</td>\n",
       "      <td>2.0</td>\n",
       "    </tr>\n",
       "    <tr>\n",
       "      <th>1</th>\n",
       "      <td>Второй</td>\n",
       "      <td>68.725381</td>\n",
       "      <td>68.712878</td>\n",
       "      <td>0.890280</td>\n",
       "      <td>27589.081548</td>\n",
       "      <td>2.415087</td>\n",
       "      <td>638.969217</td>\n",
       "      <td>146.25</td>\n",
       "      <td>1205.51</td>\n",
       "      <td>0.4</td>\n",
       "    </tr>\n",
       "    <tr>\n",
       "      <th>2</th>\n",
       "      <td>Третий</td>\n",
       "      <td>95.150999</td>\n",
       "      <td>94.771024</td>\n",
       "      <td>40.145872</td>\n",
       "      <td>27996.826132</td>\n",
       "      <td>2.598572</td>\n",
       "      <td>NaN</td>\n",
       "      <td>NaN</td>\n",
       "      <td>NaN</td>\n",
       "      <td>NaN</td>\n",
       "    </tr>\n",
       "  </tbody>\n",
       "</table>\n",
       "</div>"
      ],
      "text/plain": [
       "   Регион  Фактический объем  Предсказанный объем       RMSE          Цель  \\\n",
       "0  Первый          92.325956            92.398800  37.756600  29686.980254   \n",
       "1  Второй          68.725381            68.712878   0.890280  27589.081548   \n",
       "2  Третий          95.150999            94.771024  40.145872  27996.826132   \n",
       "\n",
       "    Прибыль  Средняя прибыль  Дов. интервал - 2.5%  Дов. интервал + 2.5%  \\\n",
       "0  3.359141       619.237053                 45.43               1275.89   \n",
       "1  2.415087       638.969217                146.25               1205.51   \n",
       "2  2.598572              NaN                   NaN                   NaN   \n",
       "\n",
       "   Вероятность убыточности  \n",
       "0                      2.0  \n",
       "1                      0.4  \n",
       "2                      NaN  "
      ]
     },
     "execution_count": 30,
     "metadata": {},
     "output_type": "execute_result"
    }
   ],
   "source": [
    "# Бутстрап по второму региону\n",
    "y_val1 = y_val1.reset_index(drop=True)\n",
    "values = []\n",
    "for i in range(1000):\n",
    "    target_subsample = y_val1.sample(n=POINT_SAMPLE_SIZE,\n",
    "                                                     replace=True,\n",
    "                                                     random_state=rs)\n",
    "    predictions_subsample = y_pred1[target_subsample.index] \n",
    "    target_value, income_value = calc_income(predictions_subsample, target_subsample, POINT_QNT)\n",
    "    values.append(income_value)\n",
    "    \n",
    "values = pd.Series(values)\n",
    "confidence_interval = (round(values.quantile(0.025)/pow(10,6),2), round(values.quantile(0.975)/pow(10,6),2))\n",
    "mean_profit = values.mean()\n",
    "negative_profit_chance = (values < 0).mean()*100   \n",
    "\n",
    "#print(mean_profit, list(confidence_interval), negative_profit_chance)\n",
    "\n",
    "model_rep.loc[model_rep['Регион']=='Второй', 'Средняя прибыль'] = mean_profit/10**6\n",
    "model_rep.loc[model_rep['Регион']=='Второй', 'Дов. интервал - 2.5%'] = confidence_interval[0]\n",
    "model_rep.loc[model_rep['Регион']=='Второй', 'Дов. интервал + 2.5%'] = confidence_interval[1] \n",
    "model_rep.loc[model_rep['Регион']=='Второй', 'Вероятность убыточности'] = negative_profit_chance\n",
    "model_rep"
   ]
  },
  {
   "cell_type": "code",
   "execution_count": 31,
   "metadata": {},
   "outputs": [
    {
     "data": {
      "text/html": [
       "<div>\n",
       "<style scoped>\n",
       "    .dataframe tbody tr th:only-of-type {\n",
       "        vertical-align: middle;\n",
       "    }\n",
       "\n",
       "    .dataframe tbody tr th {\n",
       "        vertical-align: top;\n",
       "    }\n",
       "\n",
       "    .dataframe thead th {\n",
       "        text-align: right;\n",
       "    }\n",
       "</style>\n",
       "<table border=\"1\" class=\"dataframe\">\n",
       "  <thead>\n",
       "    <tr style=\"text-align: right;\">\n",
       "      <th></th>\n",
       "      <th>Регион</th>\n",
       "      <th>Фактический объем</th>\n",
       "      <th>Предсказанный объем</th>\n",
       "      <th>RMSE</th>\n",
       "      <th>Цель</th>\n",
       "      <th>Прибыль</th>\n",
       "      <th>Средняя прибыль</th>\n",
       "      <th>Дов. интервал - 2.5%</th>\n",
       "      <th>Дов. интервал + 2.5%</th>\n",
       "      <th>Вероятность убыточности</th>\n",
       "    </tr>\n",
       "  </thead>\n",
       "  <tbody>\n",
       "    <tr>\n",
       "      <th>0</th>\n",
       "      <td>Первый</td>\n",
       "      <td>92.325956</td>\n",
       "      <td>92.398800</td>\n",
       "      <td>37.756600</td>\n",
       "      <td>29686.980254</td>\n",
       "      <td>3.359141</td>\n",
       "      <td>619.237053</td>\n",
       "      <td>45.43</td>\n",
       "      <td>1275.89</td>\n",
       "      <td>2.0</td>\n",
       "    </tr>\n",
       "    <tr>\n",
       "      <th>1</th>\n",
       "      <td>Второй</td>\n",
       "      <td>68.725381</td>\n",
       "      <td>68.712878</td>\n",
       "      <td>0.890280</td>\n",
       "      <td>27589.081548</td>\n",
       "      <td>2.415087</td>\n",
       "      <td>638.969217</td>\n",
       "      <td>146.25</td>\n",
       "      <td>1205.51</td>\n",
       "      <td>0.4</td>\n",
       "    </tr>\n",
       "    <tr>\n",
       "      <th>2</th>\n",
       "      <td>Третий</td>\n",
       "      <td>95.150999</td>\n",
       "      <td>94.771024</td>\n",
       "      <td>40.145872</td>\n",
       "      <td>27996.826132</td>\n",
       "      <td>2.598572</td>\n",
       "      <td>585.032105</td>\n",
       "      <td>25.00</td>\n",
       "      <td>1223.48</td>\n",
       "      <td>2.1</td>\n",
       "    </tr>\n",
       "  </tbody>\n",
       "</table>\n",
       "</div>"
      ],
      "text/plain": [
       "   Регион  Фактический объем  Предсказанный объем       RMSE          Цель  \\\n",
       "0  Первый          92.325956            92.398800  37.756600  29686.980254   \n",
       "1  Второй          68.725381            68.712878   0.890280  27589.081548   \n",
       "2  Третий          95.150999            94.771024  40.145872  27996.826132   \n",
       "\n",
       "    Прибыль  Средняя прибыль  Дов. интервал - 2.5%  Дов. интервал + 2.5%  \\\n",
       "0  3.359141       619.237053                 45.43               1275.89   \n",
       "1  2.415087       638.969217                146.25               1205.51   \n",
       "2  2.598572       585.032105                 25.00               1223.48   \n",
       "\n",
       "   Вероятность убыточности  \n",
       "0                      2.0  \n",
       "1                      0.4  \n",
       "2                      2.1  "
      ]
     },
     "execution_count": 31,
     "metadata": {},
     "output_type": "execute_result"
    }
   ],
   "source": [
    "# Бутстрап по второму региону\n",
    "y_val2 = y_val2.reset_index(drop=True)\n",
    "values = []\n",
    "for i in range(1000):\n",
    "    target_subsample = y_val2.sample(n=POINT_SAMPLE_SIZE,\n",
    "                                                     replace=True,\n",
    "                                                     random_state=rs)\n",
    "    predictions_subsample = y_pred2[target_subsample.index] \n",
    "    target_value, income_value = calc_income(predictions_subsample, target_subsample, POINT_QNT)\n",
    "    values.append(income_value)\n",
    "    \n",
    "values = pd.Series(values)\n",
    "confidence_interval = (round(values.quantile(0.025)/pow(10,6),2), round(values.quantile(0.975)/pow(10,6),2))\n",
    "mean_profit = values.mean()\n",
    "negative_profit_chance = (values < 0).mean()*100   \n",
    "\n",
    "#print(mean_profit, list(confidence_interval), negative_profit_chance)\n",
    "\n",
    "model_rep.loc[model_rep['Регион']=='Третий', 'Средняя прибыль'] = mean_profit/10**6\n",
    "model_rep.loc[model_rep['Регион']=='Третий', 'Дов. интервал - 2.5%'] = confidence_interval[0]\n",
    "model_rep.loc[model_rep['Регион']=='Третий', 'Дов. интервал + 2.5%'] = confidence_interval[1] \n",
    "model_rep.loc[model_rep['Регион']=='Третий', 'Вероятность убыточности'] = negative_profit_chance\n",
    "model_rep"
   ]
  },
  {
   "cell_type": "markdown",
   "metadata": {},
   "source": [
    "__Выводы:__\n",
    "Поосле использования Бутстрапа изменилось предложение по целесообразности выбора региона. Наиболее целесообразным регионом является регион \"Второй\". При распредлении во Втором регионе даже при негативном сценарии при квантили 5% деятельность будет прибыльной (146.25 млн. руб.). Вероятность убыточности во Втором случае является наиболее низкой 0.4% "
   ]
  }
 ],
 "metadata": {
  "ExecuteTimeLog": [
   {
    "duration": 3,
    "start_time": "2022-11-27T16:48:57.528Z"
   },
   {
    "duration": 3,
    "start_time": "2022-11-28T19:19:59.663Z"
   },
   {
    "duration": 1558,
    "start_time": "2022-11-28T19:20:11.545Z"
   },
   {
    "duration": 100,
    "start_time": "2022-11-28T19:25:22.729Z"
   },
   {
    "duration": 10,
    "start_time": "2022-11-28T19:25:43.187Z"
   },
   {
    "duration": 1090,
    "start_time": "2022-11-28T19:25:49.373Z"
   },
   {
    "duration": 1208,
    "start_time": "2022-11-28T19:26:29.783Z"
   },
   {
    "duration": 349,
    "start_time": "2022-11-28T19:26:36.040Z"
   },
   {
    "duration": 19,
    "start_time": "2022-11-28T19:27:49.568Z"
   },
   {
    "duration": 10,
    "start_time": "2022-11-28T19:28:03.832Z"
   },
   {
    "duration": 9,
    "start_time": "2022-11-28T19:28:17.786Z"
   },
   {
    "duration": 17,
    "start_time": "2022-11-28T19:28:29.948Z"
   },
   {
    "duration": 21,
    "start_time": "2022-11-28T19:28:40.800Z"
   },
   {
    "duration": 10,
    "start_time": "2022-11-28T19:33:08.026Z"
   },
   {
    "duration": 19,
    "start_time": "2022-11-28T19:33:28.693Z"
   },
   {
    "duration": 22,
    "start_time": "2022-11-28T19:34:01.693Z"
   },
   {
    "duration": 35,
    "start_time": "2022-11-28T19:34:51.324Z"
   },
   {
    "duration": 96,
    "start_time": "2022-11-28T19:37:01.680Z"
   },
   {
    "duration": 17,
    "start_time": "2022-11-28T19:38:20.376Z"
   },
   {
    "duration": 33,
    "start_time": "2022-11-28T19:38:36.803Z"
   },
   {
    "duration": 17,
    "start_time": "2022-11-28T19:39:10.289Z"
   },
   {
    "duration": 33,
    "start_time": "2022-11-28T19:39:17.891Z"
   },
   {
    "duration": 20,
    "start_time": "2022-11-28T19:39:40.604Z"
   },
   {
    "duration": 34,
    "start_time": "2022-11-28T19:39:53.915Z"
   },
   {
    "duration": 29,
    "start_time": "2022-11-28T19:44:25.403Z"
   },
   {
    "duration": 4,
    "start_time": "2022-11-28T19:44:36.411Z"
   },
   {
    "duration": 431,
    "start_time": "2022-11-28T19:45:00.481Z"
   },
   {
    "duration": 905,
    "start_time": "2022-11-28T19:46:09.070Z"
   },
   {
    "duration": 331,
    "start_time": "2022-11-28T19:47:08.128Z"
   },
   {
    "duration": 981,
    "start_time": "2022-11-28T19:47:17.446Z"
   },
   {
    "duration": 812,
    "start_time": "2022-11-28T19:48:17.397Z"
   },
   {
    "duration": 4,
    "start_time": "2022-11-28T19:49:35.514Z"
   },
   {
    "duration": 332,
    "start_time": "2022-11-28T19:49:54.210Z"
   },
   {
    "duration": 14,
    "start_time": "2022-11-28T19:51:17.072Z"
   },
   {
    "duration": 997,
    "start_time": "2022-11-28T19:51:29.402Z"
   },
   {
    "duration": 71,
    "start_time": "2022-11-28T19:51:44.434Z"
   },
   {
    "duration": 858,
    "start_time": "2022-11-28T19:51:48.395Z"
   },
   {
    "duration": 2875,
    "start_time": "2022-11-28T19:52:05.132Z"
   },
   {
    "duration": 3,
    "start_time": "2022-11-28T19:52:20.836Z"
   },
   {
    "duration": 974,
    "start_time": "2022-11-28T19:52:32.737Z"
   },
   {
    "duration": 873,
    "start_time": "2022-11-28T19:54:32.363Z"
   },
   {
    "duration": 1186,
    "start_time": "2022-11-28T19:54:42.457Z"
   },
   {
    "duration": 72,
    "start_time": "2022-11-28T19:59:33.740Z"
   },
   {
    "duration": 15,
    "start_time": "2022-11-28T20:01:41.011Z"
   },
   {
    "duration": 9,
    "start_time": "2022-11-28T20:02:30.075Z"
   },
   {
    "duration": 64,
    "start_time": "2022-11-28T20:02:36.907Z"
   },
   {
    "duration": 3,
    "start_time": "2022-11-28T20:03:31.176Z"
   },
   {
    "duration": 10,
    "start_time": "2022-11-28T20:04:12.977Z"
   },
   {
    "duration": 3,
    "start_time": "2022-11-28T20:04:17.967Z"
   },
   {
    "duration": 10,
    "start_time": "2022-11-28T20:04:21.612Z"
   },
   {
    "duration": 2,
    "start_time": "2022-11-28T20:04:59.042Z"
   },
   {
    "duration": 11,
    "start_time": "2022-11-28T20:05:00.086Z"
   },
   {
    "duration": 11,
    "start_time": "2022-11-28T20:05:09.529Z"
   },
   {
    "duration": 19,
    "start_time": "2022-11-28T20:05:15.123Z"
   },
   {
    "duration": 11,
    "start_time": "2022-11-28T20:05:59.921Z"
   },
   {
    "duration": 11,
    "start_time": "2022-11-28T20:06:02.569Z"
   },
   {
    "duration": 20,
    "start_time": "2022-11-28T20:06:20.488Z"
   },
   {
    "duration": 2,
    "start_time": "2022-11-28T20:06:29.026Z"
   },
   {
    "duration": 21,
    "start_time": "2022-11-28T20:06:48.626Z"
   },
   {
    "duration": 19,
    "start_time": "2022-11-28T20:06:53.700Z"
   },
   {
    "duration": 3,
    "start_time": "2022-11-28T20:10:49.394Z"
   },
   {
    "duration": 2,
    "start_time": "2022-11-28T20:11:08.169Z"
   },
   {
    "duration": 1551,
    "start_time": "2022-12-04T10:49:13.002Z"
   },
   {
    "duration": 3,
    "start_time": "2022-12-04T10:49:14.556Z"
   },
   {
    "duration": 608,
    "start_time": "2022-12-04T10:49:14.561Z"
   },
   {
    "duration": 23,
    "start_time": "2022-12-04T10:49:15.171Z"
   },
   {
    "duration": 25,
    "start_time": "2022-12-04T10:49:15.196Z"
   },
   {
    "duration": 109,
    "start_time": "2022-12-04T10:49:15.223Z"
   },
   {
    "duration": 36,
    "start_time": "2022-12-04T10:49:15.334Z"
   },
   {
    "duration": 4,
    "start_time": "2022-12-04T10:49:15.372Z"
   },
   {
    "duration": 992,
    "start_time": "2022-12-04T10:49:15.377Z"
   },
   {
    "duration": 863,
    "start_time": "2022-12-04T10:49:16.371Z"
   },
   {
    "duration": 931,
    "start_time": "2022-12-04T10:49:17.236Z"
   },
   {
    "duration": 6,
    "start_time": "2022-12-04T10:49:18.168Z"
   },
   {
    "duration": 113,
    "start_time": "2022-12-04T10:49:18.176Z"
   },
   {
    "duration": 0,
    "start_time": "2022-12-04T10:49:18.291Z"
   },
   {
    "duration": 0,
    "start_time": "2022-12-04T10:49:18.292Z"
   },
   {
    "duration": 0,
    "start_time": "2022-12-04T10:49:18.293Z"
   },
   {
    "duration": 67,
    "start_time": "2022-12-04T10:59:25.708Z"
   },
   {
    "duration": 18,
    "start_time": "2022-12-04T10:59:27.274Z"
   },
   {
    "duration": 19,
    "start_time": "2022-12-04T10:59:28.335Z"
   },
   {
    "duration": 13,
    "start_time": "2022-12-04T11:03:35.235Z"
   },
   {
    "duration": 12,
    "start_time": "2022-12-04T11:04:09.862Z"
   },
   {
    "duration": 9,
    "start_time": "2022-12-04T11:04:12.308Z"
   },
   {
    "duration": 9,
    "start_time": "2022-12-04T11:04:29.680Z"
   },
   {
    "duration": 12,
    "start_time": "2022-12-04T11:04:48.653Z"
   },
   {
    "duration": 10,
    "start_time": "2022-12-04T11:04:56.486Z"
   },
   {
    "duration": 8,
    "start_time": "2022-12-04T11:04:58.536Z"
   },
   {
    "duration": 10,
    "start_time": "2022-12-04T11:06:46.511Z"
   },
   {
    "duration": 8,
    "start_time": "2022-12-04T11:07:40.418Z"
   },
   {
    "duration": 20,
    "start_time": "2022-12-04T11:07:51.035Z"
   },
   {
    "duration": 18,
    "start_time": "2022-12-04T11:08:29.956Z"
   },
   {
    "duration": 14,
    "start_time": "2022-12-04T11:08:32.820Z"
   },
   {
    "duration": 10,
    "start_time": "2022-12-04T11:57:32.734Z"
   },
   {
    "duration": 10,
    "start_time": "2022-12-04T11:58:33.746Z"
   },
   {
    "duration": 9,
    "start_time": "2022-12-04T11:58:41.238Z"
   },
   {
    "duration": 13,
    "start_time": "2022-12-04T11:58:58.869Z"
   },
   {
    "duration": 14,
    "start_time": "2022-12-04T11:59:02.395Z"
   },
   {
    "duration": 9,
    "start_time": "2022-12-04T11:59:24.498Z"
   },
   {
    "duration": 11,
    "start_time": "2022-12-04T11:59:37.598Z"
   },
   {
    "duration": 8,
    "start_time": "2022-12-04T11:59:47.165Z"
   },
   {
    "duration": 13,
    "start_time": "2022-12-04T12:00:23.795Z"
   },
   {
    "duration": 5,
    "start_time": "2022-12-04T12:00:37.614Z"
   },
   {
    "duration": 9,
    "start_time": "2022-12-04T12:00:59.708Z"
   },
   {
    "duration": 4,
    "start_time": "2022-12-04T12:01:04.087Z"
   },
   {
    "duration": 15,
    "start_time": "2022-12-04T12:01:06.588Z"
   },
   {
    "duration": 14,
    "start_time": "2022-12-04T12:03:15.894Z"
   },
   {
    "duration": 4,
    "start_time": "2022-12-04T12:03:20.860Z"
   },
   {
    "duration": 6,
    "start_time": "2022-12-04T12:03:20.866Z"
   },
   {
    "duration": 365,
    "start_time": "2022-12-04T12:03:20.873Z"
   },
   {
    "duration": 20,
    "start_time": "2022-12-04T12:03:21.240Z"
   },
   {
    "duration": 26,
    "start_time": "2022-12-04T12:03:21.261Z"
   },
   {
    "duration": 109,
    "start_time": "2022-12-04T12:03:21.289Z"
   },
   {
    "duration": 42,
    "start_time": "2022-12-04T12:03:21.400Z"
   },
   {
    "duration": 3,
    "start_time": "2022-12-04T12:03:21.444Z"
   },
   {
    "duration": 851,
    "start_time": "2022-12-04T12:03:21.449Z"
   },
   {
    "duration": 999,
    "start_time": "2022-12-04T12:03:22.303Z"
   },
   {
    "duration": 927,
    "start_time": "2022-12-04T12:03:23.304Z"
   },
   {
    "duration": 20,
    "start_time": "2022-12-04T12:03:24.232Z"
   },
   {
    "duration": 19,
    "start_time": "2022-12-04T12:03:24.254Z"
   },
   {
    "duration": 41,
    "start_time": "2022-12-04T12:03:24.275Z"
   },
   {
    "duration": 14,
    "start_time": "2022-12-04T12:03:24.318Z"
   },
   {
    "duration": 8,
    "start_time": "2022-12-04T12:03:24.334Z"
   },
   {
    "duration": 5,
    "start_time": "2022-12-04T12:03:24.344Z"
   },
   {
    "duration": 17,
    "start_time": "2022-12-04T12:03:31.972Z"
   },
   {
    "duration": 3,
    "start_time": "2022-12-04T12:03:48.556Z"
   },
   {
    "duration": 5,
    "start_time": "2022-12-04T12:03:55.663Z"
   },
   {
    "duration": 4,
    "start_time": "2022-12-04T12:04:16.982Z"
   },
   {
    "duration": 5,
    "start_time": "2022-12-04T12:04:19.243Z"
   },
   {
    "duration": 12,
    "start_time": "2022-12-04T12:04:22.339Z"
   },
   {
    "duration": 11,
    "start_time": "2022-12-04T12:04:34.659Z"
   },
   {
    "duration": 14,
    "start_time": "2022-12-04T12:04:39.242Z"
   },
   {
    "duration": 13,
    "start_time": "2022-12-04T12:05:12.438Z"
   },
   {
    "duration": 7,
    "start_time": "2022-12-04T12:05:17.335Z"
   },
   {
    "duration": 3,
    "start_time": "2022-12-04T12:06:18.299Z"
   },
   {
    "duration": 3,
    "start_time": "2022-12-04T12:06:21.885Z"
   },
   {
    "duration": 11,
    "start_time": "2022-12-04T12:06:40.087Z"
   },
   {
    "duration": 7,
    "start_time": "2022-12-04T12:06:47.349Z"
   },
   {
    "duration": 3,
    "start_time": "2022-12-04T12:06:50.274Z"
   },
   {
    "duration": 5,
    "start_time": "2022-12-04T12:06:52.267Z"
   },
   {
    "duration": 4,
    "start_time": "2022-12-04T12:07:11.279Z"
   },
   {
    "duration": 4,
    "start_time": "2022-12-04T12:07:42.052Z"
   },
   {
    "duration": 5,
    "start_time": "2022-12-04T12:07:44.568Z"
   },
   {
    "duration": 13,
    "start_time": "2022-12-04T12:07:47.858Z"
   },
   {
    "duration": 15,
    "start_time": "2022-12-04T12:07:53.247Z"
   },
   {
    "duration": 50,
    "start_time": "2022-12-04T12:08:40.174Z"
   },
   {
    "duration": 4,
    "start_time": "2022-12-04T12:08:49.253Z"
   },
   {
    "duration": 9,
    "start_time": "2022-12-04T12:09:03.329Z"
   },
   {
    "duration": 17,
    "start_time": "2022-12-04T12:09:56.442Z"
   },
   {
    "duration": 13,
    "start_time": "2022-12-04T12:10:12.998Z"
   },
   {
    "duration": 5,
    "start_time": "2022-12-04T12:10:27.891Z"
   },
   {
    "duration": 12,
    "start_time": "2022-12-04T12:10:55.569Z"
   },
   {
    "duration": 10,
    "start_time": "2022-12-04T12:11:07.617Z"
   },
   {
    "duration": 28,
    "start_time": "2022-12-04T12:11:26.143Z"
   },
   {
    "duration": 20,
    "start_time": "2022-12-04T12:11:38.830Z"
   },
   {
    "duration": 9,
    "start_time": "2022-12-04T12:11:50.816Z"
   },
   {
    "duration": 14,
    "start_time": "2022-12-04T12:12:24.023Z"
   },
   {
    "duration": 4,
    "start_time": "2022-12-04T12:12:53.087Z"
   },
   {
    "duration": 5,
    "start_time": "2022-12-04T12:12:53.862Z"
   },
   {
    "duration": 12,
    "start_time": "2022-12-04T12:12:55.359Z"
   },
   {
    "duration": 13,
    "start_time": "2022-12-04T12:12:57.183Z"
   },
   {
    "duration": 4,
    "start_time": "2022-12-04T12:15:00.678Z"
   },
   {
    "duration": 13,
    "start_time": "2022-12-04T12:15:07.042Z"
   },
   {
    "duration": 6,
    "start_time": "2022-12-04T12:16:44.159Z"
   },
   {
    "duration": 24,
    "start_time": "2022-12-04T12:17:17.565Z"
   },
   {
    "duration": 21,
    "start_time": "2022-12-04T12:17:32.762Z"
   },
   {
    "duration": 31,
    "start_time": "2022-12-04T12:18:35.290Z"
   },
   {
    "duration": 22,
    "start_time": "2022-12-04T12:18:41.939Z"
   },
   {
    "duration": 8,
    "start_time": "2022-12-04T12:22:20.161Z"
   },
   {
    "duration": 7,
    "start_time": "2022-12-04T12:25:07.562Z"
   },
   {
    "duration": 9,
    "start_time": "2022-12-04T12:25:13.532Z"
   },
   {
    "duration": 5,
    "start_time": "2022-12-04T12:25:44.089Z"
   },
   {
    "duration": 10,
    "start_time": "2022-12-04T12:25:53.182Z"
   },
   {
    "duration": 11,
    "start_time": "2022-12-04T12:26:21.819Z"
   },
   {
    "duration": 14,
    "start_time": "2022-12-04T12:26:38.644Z"
   },
   {
    "duration": 13,
    "start_time": "2022-12-04T12:26:44.268Z"
   },
   {
    "duration": 9,
    "start_time": "2022-12-04T12:31:15.912Z"
   },
   {
    "duration": 1267,
    "start_time": "2022-12-04T12:33:17.662Z"
   },
   {
    "duration": 3,
    "start_time": "2022-12-04T12:33:18.931Z"
   },
   {
    "duration": 376,
    "start_time": "2022-12-04T12:33:18.935Z"
   },
   {
    "duration": 22,
    "start_time": "2022-12-04T12:33:19.313Z"
   },
   {
    "duration": 19,
    "start_time": "2022-12-04T12:33:19.337Z"
   },
   {
    "duration": 105,
    "start_time": "2022-12-04T12:33:19.358Z"
   },
   {
    "duration": 32,
    "start_time": "2022-12-04T12:33:19.465Z"
   },
   {
    "duration": 3,
    "start_time": "2022-12-04T12:33:19.515Z"
   },
   {
    "duration": 896,
    "start_time": "2022-12-04T12:33:19.519Z"
   },
   {
    "duration": 869,
    "start_time": "2022-12-04T12:33:20.417Z"
   },
   {
    "duration": 936,
    "start_time": "2022-12-04T12:33:21.287Z"
   },
   {
    "duration": 52,
    "start_time": "2022-12-04T12:33:22.224Z"
   },
   {
    "duration": 18,
    "start_time": "2022-12-04T12:33:22.277Z"
   },
   {
    "duration": 37,
    "start_time": "2022-12-04T12:33:22.296Z"
   },
   {
    "duration": 15,
    "start_time": "2022-12-04T12:33:22.334Z"
   },
   {
    "duration": 9,
    "start_time": "2022-12-04T12:33:22.351Z"
   },
   {
    "duration": 140,
    "start_time": "2022-12-04T12:33:22.361Z"
   },
   {
    "duration": 0,
    "start_time": "2022-12-04T12:33:22.503Z"
   },
   {
    "duration": 0,
    "start_time": "2022-12-04T12:33:22.504Z"
   },
   {
    "duration": 0,
    "start_time": "2022-12-04T12:33:22.515Z"
   },
   {
    "duration": 0,
    "start_time": "2022-12-04T12:33:22.516Z"
   },
   {
    "duration": 0,
    "start_time": "2022-12-04T12:33:22.517Z"
   },
   {
    "duration": 5,
    "start_time": "2022-12-04T12:34:54.929Z"
   },
   {
    "duration": 15,
    "start_time": "2022-12-04T12:34:57.158Z"
   },
   {
    "duration": 1285,
    "start_time": "2022-12-04T12:35:08.079Z"
   },
   {
    "duration": 2,
    "start_time": "2022-12-04T12:35:09.366Z"
   },
   {
    "duration": 360,
    "start_time": "2022-12-04T12:35:09.369Z"
   },
   {
    "duration": 24,
    "start_time": "2022-12-04T12:35:09.731Z"
   },
   {
    "duration": 19,
    "start_time": "2022-12-04T12:35:09.756Z"
   },
   {
    "duration": 109,
    "start_time": "2022-12-04T12:35:09.776Z"
   },
   {
    "duration": 46,
    "start_time": "2022-12-04T12:35:09.887Z"
   },
   {
    "duration": 3,
    "start_time": "2022-12-04T12:35:09.935Z"
   },
   {
    "duration": 924,
    "start_time": "2022-12-04T12:35:09.940Z"
   },
   {
    "duration": 831,
    "start_time": "2022-12-04T12:35:10.866Z"
   },
   {
    "duration": 975,
    "start_time": "2022-12-04T12:35:11.699Z"
   },
   {
    "duration": 60,
    "start_time": "2022-12-04T12:35:12.676Z"
   },
   {
    "duration": 17,
    "start_time": "2022-12-04T12:35:12.738Z"
   },
   {
    "duration": 17,
    "start_time": "2022-12-04T12:35:12.758Z"
   },
   {
    "duration": 15,
    "start_time": "2022-12-04T12:35:12.777Z"
   },
   {
    "duration": 27,
    "start_time": "2022-12-04T12:35:12.793Z"
   },
   {
    "duration": 21,
    "start_time": "2022-12-04T12:35:12.821Z"
   },
   {
    "duration": 12,
    "start_time": "2022-12-04T12:35:12.844Z"
   },
   {
    "duration": 11,
    "start_time": "2022-12-04T12:35:12.858Z"
   },
   {
    "duration": 24,
    "start_time": "2022-12-04T12:35:12.871Z"
   },
   {
    "duration": 15,
    "start_time": "2022-12-04T12:35:12.896Z"
   },
   {
    "duration": 16,
    "start_time": "2022-12-04T12:35:19.648Z"
   },
   {
    "duration": 106,
    "start_time": "2022-12-04T12:39:01.732Z"
   },
   {
    "duration": 5,
    "start_time": "2022-12-04T12:39:07.518Z"
   },
   {
    "duration": 1716,
    "start_time": "2022-12-04T14:44:52.987Z"
   },
   {
    "duration": 3,
    "start_time": "2022-12-04T14:44:54.705Z"
   },
   {
    "duration": 714,
    "start_time": "2022-12-04T14:44:54.711Z"
   },
   {
    "duration": 40,
    "start_time": "2022-12-04T14:44:55.428Z"
   },
   {
    "duration": 27,
    "start_time": "2022-12-04T14:44:55.470Z"
   },
   {
    "duration": 139,
    "start_time": "2022-12-04T14:44:55.498Z"
   },
   {
    "duration": 58,
    "start_time": "2022-12-04T14:44:55.639Z"
   },
   {
    "duration": 4,
    "start_time": "2022-12-04T14:44:55.712Z"
   },
   {
    "duration": 1183,
    "start_time": "2022-12-04T14:44:55.719Z"
   },
   {
    "duration": 1024,
    "start_time": "2022-12-04T14:44:56.904Z"
   },
   {
    "duration": 1135,
    "start_time": "2022-12-04T14:44:57.931Z"
   },
   {
    "duration": 70,
    "start_time": "2022-12-04T14:44:59.068Z"
   },
   {
    "duration": 28,
    "start_time": "2022-12-04T14:44:59.140Z"
   },
   {
    "duration": 45,
    "start_time": "2022-12-04T14:44:59.170Z"
   },
   {
    "duration": 19,
    "start_time": "2022-12-04T14:44:59.217Z"
   },
   {
    "duration": 10,
    "start_time": "2022-12-04T14:44:59.238Z"
   },
   {
    "duration": 12,
    "start_time": "2022-12-04T14:44:59.250Z"
   },
   {
    "duration": 27,
    "start_time": "2022-12-04T14:44:59.264Z"
   },
   {
    "duration": 17,
    "start_time": "2022-12-04T14:44:59.313Z"
   },
   {
    "duration": 25,
    "start_time": "2022-12-04T14:44:59.332Z"
   },
   {
    "duration": 13,
    "start_time": "2022-12-04T14:44:59.359Z"
   },
   {
    "duration": 49,
    "start_time": "2022-12-04T14:44:59.373Z"
   },
   {
    "duration": 86,
    "start_time": "2022-12-04T14:44:59.428Z"
   },
   {
    "duration": 4,
    "start_time": "2022-12-04T14:44:59.517Z"
   },
   {
    "duration": 5,
    "start_time": "2022-12-04T15:20:47.005Z"
   },
   {
    "duration": 5,
    "start_time": "2022-12-04T15:21:59.007Z"
   },
   {
    "duration": 5,
    "start_time": "2022-12-04T15:23:12.852Z"
   },
   {
    "duration": 123,
    "start_time": "2022-12-04T15:42:44.742Z"
   },
   {
    "duration": 4,
    "start_time": "2022-12-04T15:43:39.833Z"
   },
   {
    "duration": 10,
    "start_time": "2022-12-04T15:43:46.651Z"
   },
   {
    "duration": 14,
    "start_time": "2022-12-04T15:43:54.113Z"
   },
   {
    "duration": 6,
    "start_time": "2022-12-04T15:44:53.472Z"
   },
   {
    "duration": 6,
    "start_time": "2022-12-04T15:45:19.138Z"
   },
   {
    "duration": 3,
    "start_time": "2022-12-04T15:45:24.425Z"
   },
   {
    "duration": 5,
    "start_time": "2022-12-04T15:45:34.632Z"
   },
   {
    "duration": 4,
    "start_time": "2022-12-04T15:46:14.397Z"
   },
   {
    "duration": 5,
    "start_time": "2022-12-04T15:48:57.799Z"
   },
   {
    "duration": 5,
    "start_time": "2022-12-04T15:49:51.360Z"
   },
   {
    "duration": 21,
    "start_time": "2022-12-04T15:49:51.367Z"
   },
   {
    "duration": 395,
    "start_time": "2022-12-04T15:49:51.390Z"
   },
   {
    "duration": 33,
    "start_time": "2022-12-04T15:49:51.788Z"
   },
   {
    "duration": 28,
    "start_time": "2022-12-04T15:49:51.823Z"
   },
   {
    "duration": 126,
    "start_time": "2022-12-04T15:49:51.853Z"
   },
   {
    "duration": 52,
    "start_time": "2022-12-04T15:49:51.981Z"
   },
   {
    "duration": 3,
    "start_time": "2022-12-04T15:49:52.035Z"
   },
   {
    "duration": 984,
    "start_time": "2022-12-04T15:49:52.040Z"
   },
   {
    "duration": 1132,
    "start_time": "2022-12-04T15:49:53.027Z"
   },
   {
    "duration": 1138,
    "start_time": "2022-12-04T15:49:54.162Z"
   },
   {
    "duration": 30,
    "start_time": "2022-12-04T15:49:55.301Z"
   },
   {
    "duration": 66,
    "start_time": "2022-12-04T15:49:55.332Z"
   },
   {
    "duration": 40,
    "start_time": "2022-12-04T15:49:55.400Z"
   },
   {
    "duration": 94,
    "start_time": "2022-12-04T15:49:55.443Z"
   },
   {
    "duration": 19,
    "start_time": "2022-12-04T15:49:55.539Z"
   },
   {
    "duration": 69,
    "start_time": "2022-12-04T15:49:55.560Z"
   },
   {
    "duration": 43,
    "start_time": "2022-12-04T15:49:55.631Z"
   },
   {
    "duration": 38,
    "start_time": "2022-12-04T15:49:55.676Z"
   },
   {
    "duration": 5,
    "start_time": "2022-12-04T15:50:09.039Z"
   },
   {
    "duration": 4,
    "start_time": "2022-12-04T15:50:16.276Z"
   },
   {
    "duration": 4,
    "start_time": "2022-12-04T15:50:23.103Z"
   },
   {
    "duration": 4,
    "start_time": "2022-12-04T15:50:33.182Z"
   },
   {
    "duration": 14,
    "start_time": "2022-12-04T15:54:28.068Z"
   },
   {
    "duration": 11,
    "start_time": "2022-12-04T15:54:34.664Z"
   },
   {
    "duration": 11,
    "start_time": "2022-12-04T15:55:37.531Z"
   },
   {
    "duration": 11,
    "start_time": "2022-12-04T15:55:45.375Z"
   },
   {
    "duration": 12,
    "start_time": "2022-12-04T15:57:10.010Z"
   },
   {
    "duration": 11,
    "start_time": "2022-12-04T15:57:16.219Z"
   },
   {
    "duration": 3,
    "start_time": "2022-12-04T15:57:38.859Z"
   },
   {
    "duration": 4,
    "start_time": "2022-12-04T15:58:37.333Z"
   },
   {
    "duration": 68,
    "start_time": "2022-12-04T16:00:04.469Z"
   },
   {
    "duration": 16,
    "start_time": "2022-12-04T16:00:13.059Z"
   },
   {
    "duration": 6,
    "start_time": "2022-12-04T16:00:59.335Z"
   },
   {
    "duration": 28,
    "start_time": "2022-12-04T16:00:59.344Z"
   },
   {
    "duration": 394,
    "start_time": "2022-12-04T16:00:59.373Z"
   },
   {
    "duration": 23,
    "start_time": "2022-12-04T16:00:59.769Z"
   },
   {
    "duration": 39,
    "start_time": "2022-12-04T16:00:59.794Z"
   },
   {
    "duration": 121,
    "start_time": "2022-12-04T16:00:59.835Z"
   },
   {
    "duration": 54,
    "start_time": "2022-12-04T16:00:59.958Z"
   },
   {
    "duration": 3,
    "start_time": "2022-12-04T16:01:00.014Z"
   },
   {
    "duration": 974,
    "start_time": "2022-12-04T16:01:00.019Z"
   },
   {
    "duration": 1102,
    "start_time": "2022-12-04T16:01:00.995Z"
   },
   {
    "duration": 952,
    "start_time": "2022-12-04T16:01:02.098Z"
   },
   {
    "duration": 21,
    "start_time": "2022-12-04T16:01:03.051Z"
   },
   {
    "duration": 37,
    "start_time": "2022-12-04T16:01:03.073Z"
   },
   {
    "duration": 22,
    "start_time": "2022-12-04T16:01:03.113Z"
   },
   {
    "duration": 12,
    "start_time": "2022-12-04T16:01:03.137Z"
   },
   {
    "duration": 9,
    "start_time": "2022-12-04T16:01:03.151Z"
   },
   {
    "duration": 7,
    "start_time": "2022-12-04T16:01:03.161Z"
   },
   {
    "duration": 16,
    "start_time": "2022-12-04T16:01:03.169Z"
   },
   {
    "duration": 34,
    "start_time": "2022-12-04T16:01:03.187Z"
   },
   {
    "duration": 7,
    "start_time": "2022-12-04T16:01:03.223Z"
   },
   {
    "duration": 12,
    "start_time": "2022-12-04T16:01:03.232Z"
   },
   {
    "duration": 5,
    "start_time": "2022-12-04T16:01:03.314Z"
   },
   {
    "duration": 94,
    "start_time": "2022-12-04T16:01:03.321Z"
   },
   {
    "duration": 8,
    "start_time": "2022-12-04T16:01:03.417Z"
   },
   {
    "duration": 16,
    "start_time": "2022-12-04T16:01:03.427Z"
   },
   {
    "duration": 14,
    "start_time": "2022-12-04T16:01:08.930Z"
   },
   {
    "duration": 8,
    "start_time": "2022-12-04T16:01:41.788Z"
   },
   {
    "duration": 15,
    "start_time": "2022-12-04T16:01:43.776Z"
   },
   {
    "duration": 1456,
    "start_time": "2022-12-04T16:02:38.426Z"
   },
   {
    "duration": 3,
    "start_time": "2022-12-04T16:02:39.887Z"
   },
   {
    "duration": 390,
    "start_time": "2022-12-04T16:02:39.892Z"
   },
   {
    "duration": 33,
    "start_time": "2022-12-04T16:02:40.283Z"
   },
   {
    "duration": 21,
    "start_time": "2022-12-04T16:02:40.319Z"
   },
   {
    "duration": 130,
    "start_time": "2022-12-04T16:02:40.341Z"
   },
   {
    "duration": 52,
    "start_time": "2022-12-04T16:02:40.473Z"
   },
   {
    "duration": 3,
    "start_time": "2022-12-04T16:02:40.527Z"
   },
   {
    "duration": 1005,
    "start_time": "2022-12-04T16:02:40.533Z"
   },
   {
    "duration": 954,
    "start_time": "2022-12-04T16:02:41.540Z"
   },
   {
    "duration": 1077,
    "start_time": "2022-12-04T16:02:42.496Z"
   },
   {
    "duration": 67,
    "start_time": "2022-12-04T16:02:43.575Z"
   },
   {
    "duration": 22,
    "start_time": "2022-12-04T16:02:43.643Z"
   },
   {
    "duration": 22,
    "start_time": "2022-12-04T16:02:43.668Z"
   },
   {
    "duration": 16,
    "start_time": "2022-12-04T16:02:43.713Z"
   },
   {
    "duration": 9,
    "start_time": "2022-12-04T16:02:43.731Z"
   },
   {
    "duration": 8,
    "start_time": "2022-12-04T16:02:43.743Z"
   },
   {
    "duration": 19,
    "start_time": "2022-12-04T16:02:43.752Z"
   },
   {
    "duration": 13,
    "start_time": "2022-12-04T16:02:43.773Z"
   },
   {
    "duration": 135,
    "start_time": "2022-12-04T16:02:43.788Z"
   },
   {
    "duration": 0,
    "start_time": "2022-12-04T16:02:43.924Z"
   },
   {
    "duration": 0,
    "start_time": "2022-12-04T16:02:43.926Z"
   },
   {
    "duration": 0,
    "start_time": "2022-12-04T16:02:43.927Z"
   },
   {
    "duration": 0,
    "start_time": "2022-12-04T16:02:43.928Z"
   },
   {
    "duration": 0,
    "start_time": "2022-12-04T16:02:43.930Z"
   },
   {
    "duration": 5,
    "start_time": "2022-12-04T16:03:27.232Z"
   },
   {
    "duration": 17,
    "start_time": "2022-12-04T16:03:27.239Z"
   },
   {
    "duration": 382,
    "start_time": "2022-12-04T16:03:27.258Z"
   },
   {
    "duration": 24,
    "start_time": "2022-12-04T16:03:27.641Z"
   },
   {
    "duration": 20,
    "start_time": "2022-12-04T16:03:27.667Z"
   },
   {
    "duration": 115,
    "start_time": "2022-12-04T16:03:27.688Z"
   },
   {
    "duration": 40,
    "start_time": "2022-12-04T16:03:27.805Z"
   },
   {
    "duration": 3,
    "start_time": "2022-12-04T16:03:27.847Z"
   },
   {
    "duration": 949,
    "start_time": "2022-12-04T16:03:27.851Z"
   },
   {
    "duration": 1081,
    "start_time": "2022-12-04T16:03:28.802Z"
   },
   {
    "duration": 1053,
    "start_time": "2022-12-04T16:03:29.885Z"
   },
   {
    "duration": 22,
    "start_time": "2022-12-04T16:03:30.940Z"
   },
   {
    "duration": 21,
    "start_time": "2022-12-04T16:03:30.964Z"
   },
   {
    "duration": 44,
    "start_time": "2022-12-04T16:03:30.988Z"
   },
   {
    "duration": 16,
    "start_time": "2022-12-04T16:03:31.033Z"
   },
   {
    "duration": 13,
    "start_time": "2022-12-04T16:03:31.050Z"
   },
   {
    "duration": 13,
    "start_time": "2022-12-04T16:03:31.065Z"
   },
   {
    "duration": 16,
    "start_time": "2022-12-04T16:03:31.080Z"
   },
   {
    "duration": 11,
    "start_time": "2022-12-04T16:03:31.112Z"
   },
   {
    "duration": 15,
    "start_time": "2022-12-04T16:03:31.125Z"
   },
   {
    "duration": 173,
    "start_time": "2022-12-04T16:03:31.141Z"
   },
   {
    "duration": 13,
    "start_time": "2022-12-04T16:03:31.316Z"
   },
   {
    "duration": 8,
    "start_time": "2022-12-04T16:03:31.331Z"
   },
   {
    "duration": 16,
    "start_time": "2022-12-04T16:03:31.341Z"
   },
   {
    "duration": 38,
    "start_time": "2022-12-04T16:03:31.358Z"
   },
   {
    "duration": 5,
    "start_time": "2022-12-04T16:04:06.049Z"
   },
   {
    "duration": 6,
    "start_time": "2022-12-04T16:04:06.056Z"
   },
   {
    "duration": 365,
    "start_time": "2022-12-04T16:04:06.064Z"
   },
   {
    "duration": 24,
    "start_time": "2022-12-04T16:04:06.431Z"
   },
   {
    "duration": 23,
    "start_time": "2022-12-04T16:04:06.457Z"
   },
   {
    "duration": 122,
    "start_time": "2022-12-04T16:04:06.482Z"
   },
   {
    "duration": 39,
    "start_time": "2022-12-04T16:04:06.612Z"
   },
   {
    "duration": 4,
    "start_time": "2022-12-04T16:04:06.652Z"
   },
   {
    "duration": 999,
    "start_time": "2022-12-04T16:04:06.658Z"
   },
   {
    "duration": 1080,
    "start_time": "2022-12-04T16:04:07.659Z"
   },
   {
    "duration": 943,
    "start_time": "2022-12-04T16:04:08.741Z"
   },
   {
    "duration": 33,
    "start_time": "2022-12-04T16:04:09.686Z"
   },
   {
    "duration": 24,
    "start_time": "2022-12-04T16:04:09.721Z"
   },
   {
    "duration": 26,
    "start_time": "2022-12-04T16:04:09.748Z"
   },
   {
    "duration": 42,
    "start_time": "2022-12-04T16:04:09.776Z"
   },
   {
    "duration": 12,
    "start_time": "2022-12-04T16:04:09.820Z"
   },
   {
    "duration": 14,
    "start_time": "2022-12-04T16:04:09.834Z"
   },
   {
    "duration": 18,
    "start_time": "2022-12-04T16:04:09.850Z"
   },
   {
    "duration": 12,
    "start_time": "2022-12-04T16:04:09.869Z"
   },
   {
    "duration": 33,
    "start_time": "2022-12-04T16:04:09.883Z"
   },
   {
    "duration": 99,
    "start_time": "2022-12-04T16:04:09.917Z"
   },
   {
    "duration": 108,
    "start_time": "2022-12-04T16:04:10.018Z"
   },
   {
    "duration": 9,
    "start_time": "2022-12-04T16:04:10.128Z"
   },
   {
    "duration": 14,
    "start_time": "2022-12-04T16:04:10.139Z"
   },
   {
    "duration": 19,
    "start_time": "2022-12-04T16:04:10.154Z"
   },
   {
    "duration": 5,
    "start_time": "2022-12-04T16:04:37.566Z"
   },
   {
    "duration": 8,
    "start_time": "2022-12-04T16:04:37.574Z"
   },
   {
    "duration": 365,
    "start_time": "2022-12-04T16:04:37.584Z"
   },
   {
    "duration": 23,
    "start_time": "2022-12-04T16:04:37.950Z"
   },
   {
    "duration": 37,
    "start_time": "2022-12-04T16:04:37.976Z"
   },
   {
    "duration": 111,
    "start_time": "2022-12-04T16:04:38.015Z"
   },
   {
    "duration": 39,
    "start_time": "2022-12-04T16:04:38.128Z"
   },
   {
    "duration": 4,
    "start_time": "2022-12-04T16:04:38.169Z"
   },
   {
    "duration": 1081,
    "start_time": "2022-12-04T16:04:38.175Z"
   },
   {
    "duration": 924,
    "start_time": "2022-12-04T16:04:39.257Z"
   },
   {
    "duration": 1097,
    "start_time": "2022-12-04T16:04:40.183Z"
   },
   {
    "duration": 31,
    "start_time": "2022-12-04T16:04:41.282Z"
   },
   {
    "duration": 22,
    "start_time": "2022-12-04T16:04:41.315Z"
   },
   {
    "duration": 22,
    "start_time": "2022-12-04T16:04:41.339Z"
   },
   {
    "duration": 14,
    "start_time": "2022-12-04T16:04:41.363Z"
   },
   {
    "duration": 34,
    "start_time": "2022-12-04T16:04:41.379Z"
   },
   {
    "duration": 6,
    "start_time": "2022-12-04T16:04:41.415Z"
   },
   {
    "duration": 16,
    "start_time": "2022-12-04T16:04:41.422Z"
   },
   {
    "duration": 18,
    "start_time": "2022-12-04T16:04:41.440Z"
   },
   {
    "duration": 61,
    "start_time": "2022-12-04T16:04:41.459Z"
   },
   {
    "duration": 95,
    "start_time": "2022-12-04T16:04:41.521Z"
   },
   {
    "duration": 9,
    "start_time": "2022-12-04T16:04:41.618Z"
   },
   {
    "duration": 7,
    "start_time": "2022-12-04T16:04:41.628Z"
   },
   {
    "duration": 10,
    "start_time": "2022-12-04T16:04:41.637Z"
   },
   {
    "duration": 12,
    "start_time": "2022-12-04T16:05:13.557Z"
   },
   {
    "duration": 92,
    "start_time": "2022-12-04T16:19:51.929Z"
   },
   {
    "duration": 56,
    "start_time": "2022-12-04T16:22:36.463Z"
   },
   {
    "duration": 109,
    "start_time": "2022-12-04T16:24:53.004Z"
   },
   {
    "duration": 203,
    "start_time": "2022-12-04T16:25:34.309Z"
   },
   {
    "duration": 54,
    "start_time": "2022-12-04T16:26:10.666Z"
   },
   {
    "duration": 82,
    "start_time": "2022-12-04T16:26:37.633Z"
   },
   {
    "duration": 5,
    "start_time": "2022-12-04T16:29:44.996Z"
   },
   {
    "duration": 24,
    "start_time": "2022-12-04T16:29:45.003Z"
   },
   {
    "duration": 369,
    "start_time": "2022-12-04T16:29:45.029Z"
   },
   {
    "duration": 27,
    "start_time": "2022-12-04T16:29:45.400Z"
   },
   {
    "duration": 23,
    "start_time": "2022-12-04T16:29:45.429Z"
   },
   {
    "duration": 126,
    "start_time": "2022-12-04T16:29:45.454Z"
   },
   {
    "duration": 50,
    "start_time": "2022-12-04T16:29:45.582Z"
   },
   {
    "duration": 3,
    "start_time": "2022-12-04T16:29:45.633Z"
   },
   {
    "duration": 981,
    "start_time": "2022-12-04T16:29:45.638Z"
   },
   {
    "duration": 1041,
    "start_time": "2022-12-04T16:29:46.621Z"
   },
   {
    "duration": 907,
    "start_time": "2022-12-04T16:29:47.664Z"
   },
   {
    "duration": 20,
    "start_time": "2022-12-04T16:29:48.573Z"
   },
   {
    "duration": 166,
    "start_time": "2022-12-04T16:29:48.595Z"
   },
   {
    "duration": 20,
    "start_time": "2022-12-04T16:29:48.764Z"
   },
   {
    "duration": 29,
    "start_time": "2022-12-04T16:29:48.785Z"
   },
   {
    "duration": 13,
    "start_time": "2022-12-04T16:29:48.816Z"
   },
   {
    "duration": 17,
    "start_time": "2022-12-04T16:29:48.831Z"
   },
   {
    "duration": 6,
    "start_time": "2022-12-04T16:29:48.850Z"
   },
   {
    "duration": 61,
    "start_time": "2022-12-04T16:29:48.858Z"
   },
   {
    "duration": 296,
    "start_time": "2022-12-04T16:29:48.921Z"
   },
   {
    "duration": 205,
    "start_time": "2022-12-04T16:29:49.219Z"
   },
   {
    "duration": 1556,
    "start_time": "2022-12-04T16:30:20.983Z"
   },
   {
    "duration": 3,
    "start_time": "2022-12-04T16:30:22.542Z"
   },
   {
    "duration": 386,
    "start_time": "2022-12-04T16:30:22.547Z"
   },
   {
    "duration": 29,
    "start_time": "2022-12-04T16:30:22.936Z"
   },
   {
    "duration": 45,
    "start_time": "2022-12-04T16:30:22.968Z"
   },
   {
    "duration": 113,
    "start_time": "2022-12-04T16:30:23.015Z"
   },
   {
    "duration": 38,
    "start_time": "2022-12-04T16:30:23.130Z"
   },
   {
    "duration": 3,
    "start_time": "2022-12-04T16:30:23.170Z"
   },
   {
    "duration": 1120,
    "start_time": "2022-12-04T16:30:23.175Z"
   },
   {
    "duration": 1138,
    "start_time": "2022-12-04T16:30:24.297Z"
   },
   {
    "duration": 1206,
    "start_time": "2022-12-04T16:30:25.437Z"
   },
   {
    "duration": 69,
    "start_time": "2022-12-04T16:30:26.645Z"
   },
   {
    "duration": 20,
    "start_time": "2022-12-04T16:30:26.716Z"
   },
   {
    "duration": 22,
    "start_time": "2022-12-04T16:30:26.740Z"
   },
   {
    "duration": 18,
    "start_time": "2022-12-04T16:30:26.763Z"
   },
   {
    "duration": 44,
    "start_time": "2022-12-04T16:30:26.782Z"
   },
   {
    "duration": 28,
    "start_time": "2022-12-04T16:30:26.828Z"
   },
   {
    "duration": 12,
    "start_time": "2022-12-04T16:30:26.859Z"
   },
   {
    "duration": 363,
    "start_time": "2022-12-04T16:30:26.873Z"
   },
   {
    "duration": 0,
    "start_time": "2022-12-04T16:30:27.239Z"
   },
   {
    "duration": 0,
    "start_time": "2022-12-04T16:30:27.240Z"
   },
   {
    "duration": 1507,
    "start_time": "2022-12-04T16:32:29.487Z"
   },
   {
    "duration": 3,
    "start_time": "2022-12-04T16:32:30.996Z"
   },
   {
    "duration": 408,
    "start_time": "2022-12-04T16:32:31.001Z"
   },
   {
    "duration": 28,
    "start_time": "2022-12-04T16:32:31.411Z"
   },
   {
    "duration": 67,
    "start_time": "2022-12-04T16:32:31.441Z"
   },
   {
    "duration": 178,
    "start_time": "2022-12-04T16:32:31.510Z"
   },
   {
    "duration": 49,
    "start_time": "2022-12-04T16:32:31.690Z"
   },
   {
    "duration": 3,
    "start_time": "2022-12-04T16:32:31.741Z"
   },
   {
    "duration": 1093,
    "start_time": "2022-12-04T16:32:31.745Z"
   },
   {
    "duration": 984,
    "start_time": "2022-12-04T16:32:32.840Z"
   },
   {
    "duration": 1148,
    "start_time": "2022-12-04T16:32:33.826Z"
   },
   {
    "duration": 72,
    "start_time": "2022-12-04T16:32:34.976Z"
   },
   {
    "duration": 22,
    "start_time": "2022-12-04T16:32:35.050Z"
   },
   {
    "duration": 40,
    "start_time": "2022-12-04T16:32:35.075Z"
   },
   {
    "duration": 18,
    "start_time": "2022-12-04T16:32:35.117Z"
   },
   {
    "duration": 11,
    "start_time": "2022-12-04T16:32:35.137Z"
   },
   {
    "duration": 27,
    "start_time": "2022-12-04T16:32:35.150Z"
   },
   {
    "duration": 7,
    "start_time": "2022-12-04T16:32:35.180Z"
   },
   {
    "duration": 330,
    "start_time": "2022-12-04T16:32:35.188Z"
   },
   {
    "duration": 0,
    "start_time": "2022-12-04T16:32:35.519Z"
   },
   {
    "duration": 0,
    "start_time": "2022-12-04T16:32:35.521Z"
   },
   {
    "duration": 1584,
    "start_time": "2022-12-04T16:34:18.698Z"
   },
   {
    "duration": 3,
    "start_time": "2022-12-04T16:34:20.285Z"
   },
   {
    "duration": 405,
    "start_time": "2022-12-04T16:34:20.290Z"
   },
   {
    "duration": 29,
    "start_time": "2022-12-04T16:34:20.697Z"
   },
   {
    "duration": 60,
    "start_time": "2022-12-04T16:34:20.729Z"
   },
   {
    "duration": 115,
    "start_time": "2022-12-04T16:34:20.791Z"
   },
   {
    "duration": 49,
    "start_time": "2022-12-04T16:34:20.911Z"
   },
   {
    "duration": 4,
    "start_time": "2022-12-04T16:34:20.963Z"
   },
   {
    "duration": 1095,
    "start_time": "2022-12-04T16:34:20.968Z"
   },
   {
    "duration": 980,
    "start_time": "2022-12-04T16:34:22.065Z"
   },
   {
    "duration": 1136,
    "start_time": "2022-12-04T16:34:23.047Z"
   },
   {
    "duration": 72,
    "start_time": "2022-12-04T16:34:24.184Z"
   },
   {
    "duration": 22,
    "start_time": "2022-12-04T16:34:24.258Z"
   },
   {
    "duration": 41,
    "start_time": "2022-12-04T16:34:24.283Z"
   },
   {
    "duration": 18,
    "start_time": "2022-12-04T16:34:24.326Z"
   },
   {
    "duration": 13,
    "start_time": "2022-12-04T16:34:24.346Z"
   },
   {
    "duration": 16,
    "start_time": "2022-12-04T16:34:24.361Z"
   },
   {
    "duration": 8,
    "start_time": "2022-12-04T16:34:24.379Z"
   },
   {
    "duration": 30,
    "start_time": "2022-12-04T16:34:24.389Z"
   },
   {
    "duration": 332,
    "start_time": "2022-12-04T16:34:24.421Z"
   },
   {
    "duration": 0,
    "start_time": "2022-12-04T16:34:24.755Z"
   },
   {
    "duration": 0,
    "start_time": "2022-12-04T16:34:24.756Z"
   },
   {
    "duration": 1962,
    "start_time": "2022-12-04T16:35:02.670Z"
   },
   {
    "duration": 3,
    "start_time": "2022-12-04T16:35:04.635Z"
   },
   {
    "duration": 459,
    "start_time": "2022-12-04T16:35:04.640Z"
   },
   {
    "duration": 42,
    "start_time": "2022-12-04T16:35:05.100Z"
   },
   {
    "duration": 21,
    "start_time": "2022-12-04T16:35:05.145Z"
   },
   {
    "duration": 126,
    "start_time": "2022-12-04T16:35:05.168Z"
   },
   {
    "duration": 48,
    "start_time": "2022-12-04T16:35:05.295Z"
   },
   {
    "duration": 3,
    "start_time": "2022-12-04T16:35:05.345Z"
   },
   {
    "duration": 1096,
    "start_time": "2022-12-04T16:35:05.350Z"
   },
   {
    "duration": 1017,
    "start_time": "2022-12-04T16:35:06.448Z"
   },
   {
    "duration": 1133,
    "start_time": "2022-12-04T16:35:07.467Z"
   },
   {
    "duration": 68,
    "start_time": "2022-12-04T16:35:08.602Z"
   },
   {
    "duration": 23,
    "start_time": "2022-12-04T16:35:08.672Z"
   },
   {
    "duration": 38,
    "start_time": "2022-12-04T16:35:08.697Z"
   },
   {
    "duration": 20,
    "start_time": "2022-12-04T16:35:08.737Z"
   },
   {
    "duration": 20,
    "start_time": "2022-12-04T16:35:08.759Z"
   },
   {
    "duration": 33,
    "start_time": "2022-12-04T16:35:08.782Z"
   },
   {
    "duration": 6,
    "start_time": "2022-12-04T16:35:08.817Z"
   },
   {
    "duration": 53,
    "start_time": "2022-12-04T16:35:08.825Z"
   },
   {
    "duration": 144,
    "start_time": "2022-12-04T16:35:08.880Z"
   },
   {
    "duration": 194,
    "start_time": "2022-12-04T16:35:09.026Z"
   },
   {
    "duration": 197,
    "start_time": "2022-12-04T16:35:09.222Z"
   },
   {
    "duration": 4,
    "start_time": "2022-12-04T16:43:12.940Z"
   },
   {
    "duration": 4,
    "start_time": "2022-12-04T16:44:57.046Z"
   },
   {
    "duration": 5,
    "start_time": "2022-12-04T16:45:37.815Z"
   },
   {
    "duration": 125,
    "start_time": "2022-12-04T17:41:24.752Z"
   },
   {
    "duration": 3,
    "start_time": "2022-12-04T17:50:16.279Z"
   },
   {
    "duration": 14,
    "start_time": "2022-12-04T18:03:24.058Z"
   },
   {
    "duration": 1528,
    "start_time": "2022-12-04T18:04:23.403Z"
   },
   {
    "duration": 3,
    "start_time": "2022-12-04T18:04:24.936Z"
   },
   {
    "duration": 411,
    "start_time": "2022-12-04T18:04:24.941Z"
   },
   {
    "duration": 33,
    "start_time": "2022-12-04T18:04:25.354Z"
   },
   {
    "duration": 49,
    "start_time": "2022-12-04T18:04:25.390Z"
   },
   {
    "duration": 116,
    "start_time": "2022-12-04T18:04:25.442Z"
   },
   {
    "duration": 53,
    "start_time": "2022-12-04T18:04:25.560Z"
   },
   {
    "duration": 3,
    "start_time": "2022-12-04T18:04:25.615Z"
   },
   {
    "duration": 1182,
    "start_time": "2022-12-04T18:04:25.619Z"
   },
   {
    "duration": 971,
    "start_time": "2022-12-04T18:04:26.803Z"
   },
   {
    "duration": 1163,
    "start_time": "2022-12-04T18:04:27.776Z"
   },
   {
    "duration": 74,
    "start_time": "2022-12-04T18:04:28.941Z"
   },
   {
    "duration": 22,
    "start_time": "2022-12-04T18:04:29.016Z"
   },
   {
    "duration": 22,
    "start_time": "2022-12-04T18:04:29.041Z"
   },
   {
    "duration": 19,
    "start_time": "2022-12-04T18:04:29.065Z"
   },
   {
    "duration": 11,
    "start_time": "2022-12-04T18:04:29.111Z"
   },
   {
    "duration": 17,
    "start_time": "2022-12-04T18:04:29.124Z"
   },
   {
    "duration": 6,
    "start_time": "2022-12-04T18:04:29.143Z"
   },
   {
    "duration": 15,
    "start_time": "2022-12-04T18:04:29.151Z"
   },
   {
    "duration": 154,
    "start_time": "2022-12-04T18:04:29.168Z"
   },
   {
    "duration": 189,
    "start_time": "2022-12-04T18:04:29.324Z"
   },
   {
    "duration": 198,
    "start_time": "2022-12-04T18:04:29.515Z"
   },
   {
    "duration": 3,
    "start_time": "2022-12-04T18:04:29.715Z"
   },
   {
    "duration": 101,
    "start_time": "2022-12-04T18:04:29.720Z"
   },
   {
    "duration": 6,
    "start_time": "2022-12-04T18:04:29.823Z"
   },
   {
    "duration": 126,
    "start_time": "2022-12-04T18:04:29.831Z"
   },
   {
    "duration": 0,
    "start_time": "2022-12-04T18:04:29.958Z"
   },
   {
    "duration": 1525,
    "start_time": "2022-12-04T18:05:42.516Z"
   },
   {
    "duration": 3,
    "start_time": "2022-12-04T18:05:44.043Z"
   },
   {
    "duration": 411,
    "start_time": "2022-12-04T18:05:44.047Z"
   },
   {
    "duration": 26,
    "start_time": "2022-12-04T18:05:44.460Z"
   },
   {
    "duration": 34,
    "start_time": "2022-12-04T18:05:44.488Z"
   },
   {
    "duration": 117,
    "start_time": "2022-12-04T18:05:44.523Z"
   },
   {
    "duration": 37,
    "start_time": "2022-12-04T18:05:44.641Z"
   },
   {
    "duration": 4,
    "start_time": "2022-12-04T18:05:44.680Z"
   },
   {
    "duration": 1066,
    "start_time": "2022-12-04T18:05:44.686Z"
   },
   {
    "duration": 1076,
    "start_time": "2022-12-04T18:05:45.755Z"
   },
   {
    "duration": 1153,
    "start_time": "2022-12-04T18:05:46.833Z"
   },
   {
    "duration": 64,
    "start_time": "2022-12-04T18:05:47.988Z"
   },
   {
    "duration": 23,
    "start_time": "2022-12-04T18:05:48.053Z"
   },
   {
    "duration": 41,
    "start_time": "2022-12-04T18:05:48.077Z"
   },
   {
    "duration": 18,
    "start_time": "2022-12-04T18:05:48.120Z"
   },
   {
    "duration": 8,
    "start_time": "2022-12-04T18:05:48.140Z"
   },
   {
    "duration": 14,
    "start_time": "2022-12-04T18:05:48.149Z"
   },
   {
    "duration": 7,
    "start_time": "2022-12-04T18:05:48.165Z"
   },
   {
    "duration": 39,
    "start_time": "2022-12-04T18:05:48.174Z"
   },
   {
    "duration": 104,
    "start_time": "2022-12-04T18:05:48.216Z"
   },
   {
    "duration": 191,
    "start_time": "2022-12-04T18:05:48.322Z"
   },
   {
    "duration": 199,
    "start_time": "2022-12-04T18:05:48.515Z"
   },
   {
    "duration": 6,
    "start_time": "2022-12-04T18:05:48.716Z"
   },
   {
    "duration": 8,
    "start_time": "2022-12-04T18:05:48.812Z"
   },
   {
    "duration": 8,
    "start_time": "2022-12-04T18:05:48.821Z"
   },
   {
    "duration": 135,
    "start_time": "2022-12-04T18:05:48.831Z"
   },
   {
    "duration": 11,
    "start_time": "2022-12-04T18:07:50.063Z"
   },
   {
    "duration": 10,
    "start_time": "2022-12-04T18:08:16.862Z"
   },
   {
    "duration": 5,
    "start_time": "2022-12-04T18:08:27.384Z"
   },
   {
    "duration": 10,
    "start_time": "2022-12-04T18:08:43.007Z"
   },
   {
    "duration": 14,
    "start_time": "2022-12-04T18:11:44.173Z"
   },
   {
    "duration": 9,
    "start_time": "2022-12-04T18:12:05.922Z"
   },
   {
    "duration": 6,
    "start_time": "2022-12-04T18:12:36.430Z"
   },
   {
    "duration": 17,
    "start_time": "2022-12-04T18:12:39.728Z"
   },
   {
    "duration": 4,
    "start_time": "2022-12-04T18:12:59.029Z"
   },
   {
    "duration": 12,
    "start_time": "2022-12-04T18:13:35.349Z"
   },
   {
    "duration": 10,
    "start_time": "2022-12-04T18:13:59.537Z"
   },
   {
    "duration": 9,
    "start_time": "2022-12-04T18:14:04.950Z"
   },
   {
    "duration": 9,
    "start_time": "2022-12-04T18:14:14.979Z"
   },
   {
    "duration": 7,
    "start_time": "2022-12-04T18:14:25.554Z"
   },
   {
    "duration": 8,
    "start_time": "2022-12-04T18:14:31.876Z"
   },
   {
    "duration": 3,
    "start_time": "2022-12-04T18:15:22.012Z"
   },
   {
    "duration": 15,
    "start_time": "2022-12-04T18:15:25.424Z"
   },
   {
    "duration": 8,
    "start_time": "2022-12-04T18:15:31.517Z"
   },
   {
    "duration": 3,
    "start_time": "2022-12-04T18:15:41.481Z"
   },
   {
    "duration": 16,
    "start_time": "2022-12-04T18:15:44.496Z"
   },
   {
    "duration": 3,
    "start_time": "2022-12-04T18:17:23.463Z"
   },
   {
    "duration": 5,
    "start_time": "2022-12-04T18:17:47.417Z"
   },
   {
    "duration": 19,
    "start_time": "2022-12-04T18:17:48.323Z"
   },
   {
    "duration": 6,
    "start_time": "2022-12-04T18:18:56.760Z"
   },
   {
    "duration": 10,
    "start_time": "2022-12-04T18:19:10.072Z"
   },
   {
    "duration": 14,
    "start_time": "2022-12-04T18:20:11.781Z"
   },
   {
    "duration": 7,
    "start_time": "2022-12-04T18:20:27.356Z"
   },
   {
    "duration": 8,
    "start_time": "2022-12-04T18:20:29.139Z"
   },
   {
    "duration": 14,
    "start_time": "2022-12-04T18:22:59.771Z"
   },
   {
    "duration": 5,
    "start_time": "2022-12-04T18:25:27.933Z"
   },
   {
    "duration": 3,
    "start_time": "2022-12-04T18:27:44.321Z"
   },
   {
    "duration": 20,
    "start_time": "2022-12-04T18:27:53.118Z"
   },
   {
    "duration": 4,
    "start_time": "2022-12-04T18:28:12.074Z"
   },
   {
    "duration": 4,
    "start_time": "2022-12-04T18:28:13.641Z"
   },
   {
    "duration": 25,
    "start_time": "2022-12-04T18:28:15.272Z"
   },
   {
    "duration": 4,
    "start_time": "2022-12-04T18:28:43.642Z"
   },
   {
    "duration": 25,
    "start_time": "2022-12-04T18:28:45.809Z"
   },
   {
    "duration": 5,
    "start_time": "2022-12-04T18:28:49.243Z"
   },
   {
    "duration": 25,
    "start_time": "2022-12-04T18:28:50.112Z"
   },
   {
    "duration": 5,
    "start_time": "2022-12-04T18:28:53.057Z"
   },
   {
    "duration": 19,
    "start_time": "2022-12-04T18:28:55.491Z"
   },
   {
    "duration": 14,
    "start_time": "2022-12-04T18:29:44.937Z"
   },
   {
    "duration": 8,
    "start_time": "2022-12-04T18:29:54.563Z"
   },
   {
    "duration": 10,
    "start_time": "2022-12-04T18:30:00.918Z"
   },
   {
    "duration": 4,
    "start_time": "2022-12-04T18:30:43.641Z"
   },
   {
    "duration": 20,
    "start_time": "2022-12-04T18:30:45.125Z"
   },
   {
    "duration": 7,
    "start_time": "2022-12-04T18:31:33.513Z"
   },
   {
    "duration": 20,
    "start_time": "2022-12-04T18:31:38.269Z"
   },
   {
    "duration": 4,
    "start_time": "2022-12-04T18:31:55.870Z"
   },
   {
    "duration": 15,
    "start_time": "2022-12-04T18:31:57.188Z"
   },
   {
    "duration": 7,
    "start_time": "2022-12-04T18:32:05.091Z"
   },
   {
    "duration": 17,
    "start_time": "2022-12-04T18:32:13.069Z"
   },
   {
    "duration": 13,
    "start_time": "2022-12-04T18:32:19.969Z"
   },
   {
    "duration": 6,
    "start_time": "2022-12-04T18:32:37.131Z"
   },
   {
    "duration": 18,
    "start_time": "2022-12-04T18:32:41.071Z"
   },
   {
    "duration": 1636,
    "start_time": "2022-12-05T03:55:17.477Z"
   },
   {
    "duration": 5,
    "start_time": "2022-12-05T03:55:19.116Z"
   },
   {
    "duration": 660,
    "start_time": "2022-12-05T03:55:19.124Z"
   },
   {
    "duration": 24,
    "start_time": "2022-12-05T03:55:19.786Z"
   },
   {
    "duration": 32,
    "start_time": "2022-12-05T03:55:19.812Z"
   },
   {
    "duration": 108,
    "start_time": "2022-12-05T03:55:19.846Z"
   },
   {
    "duration": 33,
    "start_time": "2022-12-05T03:55:19.955Z"
   },
   {
    "duration": 3,
    "start_time": "2022-12-05T03:55:19.989Z"
   },
   {
    "duration": 1019,
    "start_time": "2022-12-05T03:55:19.994Z"
   },
   {
    "duration": 893,
    "start_time": "2022-12-05T03:55:21.015Z"
   },
   {
    "duration": 980,
    "start_time": "2022-12-05T03:55:21.910Z"
   },
   {
    "duration": 61,
    "start_time": "2022-12-05T03:55:22.892Z"
   },
   {
    "duration": 19,
    "start_time": "2022-12-05T03:55:22.955Z"
   },
   {
    "duration": 40,
    "start_time": "2022-12-05T03:55:22.976Z"
   },
   {
    "duration": 18,
    "start_time": "2022-12-05T03:55:23.018Z"
   },
   {
    "duration": 12,
    "start_time": "2022-12-05T03:55:23.038Z"
   },
   {
    "duration": 14,
    "start_time": "2022-12-05T03:55:23.051Z"
   },
   {
    "duration": 5,
    "start_time": "2022-12-05T03:55:23.067Z"
   },
   {
    "duration": 15,
    "start_time": "2022-12-05T03:55:23.073Z"
   },
   {
    "duration": 129,
    "start_time": "2022-12-05T03:55:23.090Z"
   },
   {
    "duration": 125,
    "start_time": "2022-12-05T03:55:23.221Z"
   },
   {
    "duration": 200,
    "start_time": "2022-12-05T03:55:23.417Z"
   },
   {
    "duration": 11,
    "start_time": "2022-12-05T03:55:23.619Z"
   },
   {
    "duration": 18,
    "start_time": "2022-12-05T03:55:23.716Z"
   },
   {
    "duration": 22,
    "start_time": "2022-12-05T03:55:23.735Z"
   },
   {
    "duration": 15,
    "start_time": "2022-12-05T07:57:49.766Z"
   },
   {
    "duration": 1794,
    "start_time": "2022-12-07T20:00:17.721Z"
   },
   {
    "duration": 3,
    "start_time": "2022-12-07T20:00:19.517Z"
   },
   {
    "duration": 1694,
    "start_time": "2022-12-07T20:00:19.521Z"
   },
   {
    "duration": 26,
    "start_time": "2022-12-07T20:00:21.216Z"
   },
   {
    "duration": 21,
    "start_time": "2022-12-07T20:00:21.244Z"
   },
   {
    "duration": 106,
    "start_time": "2022-12-07T20:00:21.267Z"
   },
   {
    "duration": 38,
    "start_time": "2022-12-07T20:00:21.375Z"
   },
   {
    "duration": 3,
    "start_time": "2022-12-07T20:00:21.414Z"
   },
   {
    "duration": 1036,
    "start_time": "2022-12-07T20:00:21.419Z"
   },
   {
    "duration": 919,
    "start_time": "2022-12-07T20:00:22.456Z"
   },
   {
    "duration": 1073,
    "start_time": "2022-12-07T20:00:23.377Z"
   },
   {
    "duration": 64,
    "start_time": "2022-12-07T20:00:24.455Z"
   },
   {
    "duration": 46,
    "start_time": "2022-12-07T20:00:24.521Z"
   },
   {
    "duration": 20,
    "start_time": "2022-12-07T20:00:24.570Z"
   },
   {
    "duration": 17,
    "start_time": "2022-12-07T20:00:24.592Z"
   },
   {
    "duration": 8,
    "start_time": "2022-12-07T20:00:24.610Z"
   },
   {
    "duration": 12,
    "start_time": "2022-12-07T20:00:24.620Z"
   },
   {
    "duration": 6,
    "start_time": "2022-12-07T20:00:24.655Z"
   },
   {
    "duration": 14,
    "start_time": "2022-12-07T20:00:24.663Z"
   },
   {
    "duration": 86,
    "start_time": "2022-12-07T20:00:24.679Z"
   },
   {
    "duration": 190,
    "start_time": "2022-12-07T20:00:24.768Z"
   },
   {
    "duration": 199,
    "start_time": "2022-12-07T20:00:24.960Z"
   },
   {
    "duration": 4,
    "start_time": "2022-12-07T20:00:25.251Z"
   },
   {
    "duration": 19,
    "start_time": "2022-12-07T20:00:25.256Z"
   },
   {
    "duration": 10,
    "start_time": "2022-12-07T20:00:25.277Z"
   },
   {
    "duration": 1393,
    "start_time": "2022-12-10T11:49:42.445Z"
   },
   {
    "duration": 2,
    "start_time": "2022-12-10T11:49:43.840Z"
   },
   {
    "duration": 596,
    "start_time": "2022-12-10T11:49:43.844Z"
   },
   {
    "duration": 23,
    "start_time": "2022-12-10T11:49:44.442Z"
   },
   {
    "duration": 19,
    "start_time": "2022-12-10T11:49:44.467Z"
   },
   {
    "duration": 115,
    "start_time": "2022-12-10T11:49:44.487Z"
   },
   {
    "duration": 42,
    "start_time": "2022-12-10T11:49:44.604Z"
   },
   {
    "duration": 4,
    "start_time": "2022-12-10T11:49:44.647Z"
   },
   {
    "duration": 917,
    "start_time": "2022-12-10T11:49:44.652Z"
   },
   {
    "duration": 820,
    "start_time": "2022-12-10T11:49:45.571Z"
   },
   {
    "duration": 924,
    "start_time": "2022-12-10T11:49:46.393Z"
   },
   {
    "duration": 50,
    "start_time": "2022-12-10T11:49:47.319Z"
   },
   {
    "duration": 36,
    "start_time": "2022-12-10T11:49:47.371Z"
   },
   {
    "duration": 17,
    "start_time": "2022-12-10T11:49:47.410Z"
   },
   {
    "duration": 13,
    "start_time": "2022-12-10T11:49:47.428Z"
   },
   {
    "duration": 7,
    "start_time": "2022-12-10T11:49:47.443Z"
   },
   {
    "duration": 12,
    "start_time": "2022-12-10T11:49:47.452Z"
   },
   {
    "duration": 3,
    "start_time": "2022-12-10T11:49:47.465Z"
   },
   {
    "duration": 28,
    "start_time": "2022-12-10T11:49:47.470Z"
   },
   {
    "duration": 98,
    "start_time": "2022-12-10T11:49:47.499Z"
   },
   {
    "duration": 205,
    "start_time": "2022-12-10T11:49:47.600Z"
   },
   {
    "duration": 128,
    "start_time": "2022-12-10T11:49:47.807Z"
   },
   {
    "duration": 64,
    "start_time": "2022-12-10T11:49:47.936Z"
   },
   {
    "duration": 97,
    "start_time": "2022-12-10T11:49:48.005Z"
   },
   {
    "duration": 8,
    "start_time": "2022-12-10T11:49:48.103Z"
   },
   {
    "duration": 119,
    "start_time": "2022-12-10T11:49:48.112Z"
   },
   {
    "duration": 9,
    "start_time": "2022-12-10T12:06:59.255Z"
   },
   {
    "duration": 4,
    "start_time": "2022-12-10T12:07:09.487Z"
   },
   {
    "duration": 5,
    "start_time": "2022-12-10T12:07:24.742Z"
   },
   {
    "duration": 8,
    "start_time": "2022-12-10T12:07:28.090Z"
   },
   {
    "duration": 9,
    "start_time": "2022-12-10T12:14:47.946Z"
   },
   {
    "duration": 6,
    "start_time": "2022-12-10T12:15:18.855Z"
   },
   {
    "duration": 8,
    "start_time": "2022-12-10T12:15:35.045Z"
   },
   {
    "duration": 23,
    "start_time": "2022-12-10T12:20:23.615Z"
   },
   {
    "duration": 19,
    "start_time": "2022-12-10T12:20:47.348Z"
   },
   {
    "duration": 5,
    "start_time": "2022-12-10T12:21:09.111Z"
   },
   {
    "duration": 3,
    "start_time": "2022-12-10T12:21:21.412Z"
   },
   {
    "duration": 59,
    "start_time": "2022-12-10T12:27:17.925Z"
   },
   {
    "duration": 5,
    "start_time": "2022-12-10T12:27:20.918Z"
   },
   {
    "duration": 20,
    "start_time": "2022-12-10T12:27:41.520Z"
   },
   {
    "duration": 8,
    "start_time": "2022-12-10T12:28:17.132Z"
   },
   {
    "duration": 4,
    "start_time": "2022-12-10T12:28:24.298Z"
   },
   {
    "duration": 4,
    "start_time": "2022-12-10T12:28:38.631Z"
   },
   {
    "duration": 3,
    "start_time": "2022-12-10T12:29:53.068Z"
   },
   {
    "duration": 3,
    "start_time": "2022-12-10T12:29:59.433Z"
   },
   {
    "duration": 3,
    "start_time": "2022-12-10T12:30:11.024Z"
   },
   {
    "duration": 10,
    "start_time": "2022-12-10T12:30:40.433Z"
   },
   {
    "duration": 4,
    "start_time": "2022-12-10T12:30:47.002Z"
   },
   {
    "duration": 9,
    "start_time": "2022-12-10T12:49:39.808Z"
   },
   {
    "duration": 6,
    "start_time": "2022-12-10T12:50:19.605Z"
   },
   {
    "duration": 5,
    "start_time": "2022-12-10T12:50:39.509Z"
   },
   {
    "duration": 19,
    "start_time": "2022-12-10T12:50:46.310Z"
   },
   {
    "duration": 10,
    "start_time": "2022-12-10T12:51:51.802Z"
   },
   {
    "duration": 4,
    "start_time": "2022-12-10T12:52:19.636Z"
   },
   {
    "duration": 18,
    "start_time": "2022-12-10T12:53:02.443Z"
   },
   {
    "duration": 5,
    "start_time": "2022-12-10T12:53:43.395Z"
   },
   {
    "duration": 4,
    "start_time": "2022-12-10T12:53:49.224Z"
   },
   {
    "duration": 9,
    "start_time": "2022-12-10T12:54:29.048Z"
   },
   {
    "duration": 10,
    "start_time": "2022-12-10T12:54:34.677Z"
   },
   {
    "duration": 22,
    "start_time": "2022-12-10T12:54:40.792Z"
   },
   {
    "duration": 20,
    "start_time": "2022-12-10T12:57:14.201Z"
   },
   {
    "duration": 3,
    "start_time": "2022-12-10T13:00:36.877Z"
   },
   {
    "duration": 11,
    "start_time": "2022-12-10T13:00:55.805Z"
   },
   {
    "duration": 5,
    "start_time": "2022-12-10T13:01:16.834Z"
   },
   {
    "duration": 10,
    "start_time": "2022-12-10T13:02:40.250Z"
   },
   {
    "duration": 9,
    "start_time": "2022-12-10T13:04:01.042Z"
   },
   {
    "duration": 13,
    "start_time": "2022-12-10T13:04:19.909Z"
   },
   {
    "duration": 13,
    "start_time": "2022-12-10T13:04:50.802Z"
   },
   {
    "duration": 5,
    "start_time": "2022-12-10T13:07:54.786Z"
   },
   {
    "duration": 4,
    "start_time": "2022-12-10T13:09:13.676Z"
   },
   {
    "duration": 4,
    "start_time": "2022-12-10T13:10:16.686Z"
   },
   {
    "duration": 8,
    "start_time": "2022-12-10T13:10:16.692Z"
   },
   {
    "duration": 371,
    "start_time": "2022-12-10T13:10:16.702Z"
   },
   {
    "duration": 27,
    "start_time": "2022-12-10T13:10:17.075Z"
   },
   {
    "duration": 19,
    "start_time": "2022-12-10T13:10:17.104Z"
   },
   {
    "duration": 100,
    "start_time": "2022-12-10T13:10:17.124Z"
   },
   {
    "duration": 33,
    "start_time": "2022-12-10T13:10:17.226Z"
   },
   {
    "duration": 3,
    "start_time": "2022-12-10T13:10:17.260Z"
   },
   {
    "duration": 791,
    "start_time": "2022-12-10T13:10:17.264Z"
   },
   {
    "duration": 908,
    "start_time": "2022-12-10T13:10:18.058Z"
   },
   {
    "duration": 953,
    "start_time": "2022-12-10T13:10:18.967Z"
   },
   {
    "duration": 20,
    "start_time": "2022-12-10T13:10:19.922Z"
   },
   {
    "duration": 22,
    "start_time": "2022-12-10T13:10:19.944Z"
   },
   {
    "duration": 50,
    "start_time": "2022-12-10T13:10:19.967Z"
   },
   {
    "duration": 15,
    "start_time": "2022-12-10T13:10:20.019Z"
   },
   {
    "duration": 13,
    "start_time": "2022-12-10T13:10:20.036Z"
   },
   {
    "duration": 21,
    "start_time": "2022-12-10T13:10:20.051Z"
   },
   {
    "duration": 6,
    "start_time": "2022-12-10T13:10:20.074Z"
   },
   {
    "duration": 18,
    "start_time": "2022-12-10T13:10:20.097Z"
   },
   {
    "duration": 183,
    "start_time": "2022-12-10T13:10:20.116Z"
   },
   {
    "duration": 98,
    "start_time": "2022-12-10T13:10:20.301Z"
   },
   {
    "duration": 199,
    "start_time": "2022-12-10T13:10:20.400Z"
   },
   {
    "duration": 7,
    "start_time": "2022-12-10T13:10:20.601Z"
   },
   {
    "duration": 6,
    "start_time": "2022-12-10T13:10:20.698Z"
   },
   {
    "duration": 6,
    "start_time": "2022-12-10T13:10:20.705Z"
   },
   {
    "duration": 24,
    "start_time": "2022-12-10T13:10:20.712Z"
   },
   {
    "duration": 0,
    "start_time": "2022-12-10T13:10:20.737Z"
   },
   {
    "duration": 7,
    "start_time": "2022-12-10T13:10:33.685Z"
   },
   {
    "duration": 4,
    "start_time": "2022-12-10T13:10:39.710Z"
   },
   {
    "duration": 4,
    "start_time": "2022-12-10T13:11:23.563Z"
   },
   {
    "duration": 4,
    "start_time": "2022-12-10T13:12:06.879Z"
   },
   {
    "duration": 5,
    "start_time": "2022-12-10T13:12:44.458Z"
   },
   {
    "duration": 5,
    "start_time": "2022-12-10T13:14:27.365Z"
   },
   {
    "duration": 3,
    "start_time": "2022-12-10T13:14:32.435Z"
   },
   {
    "duration": 7,
    "start_time": "2022-12-10T13:17:43.009Z"
   },
   {
    "duration": 4,
    "start_time": "2022-12-10T13:18:05.297Z"
   },
   {
    "duration": 7,
    "start_time": "2022-12-10T13:20:44.271Z"
   },
   {
    "duration": 8,
    "start_time": "2022-12-10T13:20:59.758Z"
   },
   {
    "duration": 8,
    "start_time": "2022-12-10T13:21:29.043Z"
   },
   {
    "duration": 40,
    "start_time": "2022-12-10T13:26:35.285Z"
   },
   {
    "duration": 44,
    "start_time": "2022-12-10T13:30:31.333Z"
   },
   {
    "duration": 5,
    "start_time": "2022-12-10T13:31:31.164Z"
   },
   {
    "duration": 13,
    "start_time": "2022-12-10T13:31:31.171Z"
   },
   {
    "duration": 332,
    "start_time": "2022-12-10T13:31:31.186Z"
   },
   {
    "duration": 19,
    "start_time": "2022-12-10T13:31:31.520Z"
   },
   {
    "duration": 20,
    "start_time": "2022-12-10T13:31:31.541Z"
   },
   {
    "duration": 107,
    "start_time": "2022-12-10T13:31:31.562Z"
   },
   {
    "duration": 45,
    "start_time": "2022-12-10T13:31:31.670Z"
   },
   {
    "duration": 3,
    "start_time": "2022-12-10T13:31:31.716Z"
   },
   {
    "duration": 771,
    "start_time": "2022-12-10T13:31:31.721Z"
   },
   {
    "duration": 867,
    "start_time": "2022-12-10T13:31:32.498Z"
   },
   {
    "duration": 779,
    "start_time": "2022-12-10T13:31:33.367Z"
   },
   {
    "duration": 18,
    "start_time": "2022-12-10T13:31:34.148Z"
   },
   {
    "duration": 33,
    "start_time": "2022-12-10T13:31:34.168Z"
   },
   {
    "duration": 18,
    "start_time": "2022-12-10T13:31:34.203Z"
   },
   {
    "duration": 11,
    "start_time": "2022-12-10T13:31:34.223Z"
   },
   {
    "duration": 6,
    "start_time": "2022-12-10T13:31:34.235Z"
   },
   {
    "duration": 12,
    "start_time": "2022-12-10T13:31:34.243Z"
   },
   {
    "duration": 4,
    "start_time": "2022-12-10T13:31:34.256Z"
   },
   {
    "duration": 36,
    "start_time": "2022-12-10T13:31:34.261Z"
   },
   {
    "duration": 106,
    "start_time": "2022-12-10T13:31:34.299Z"
   },
   {
    "duration": 197,
    "start_time": "2022-12-10T13:31:34.407Z"
   },
   {
    "duration": 192,
    "start_time": "2022-12-10T13:31:34.607Z"
   },
   {
    "duration": 4,
    "start_time": "2022-12-10T13:31:34.800Z"
   },
   {
    "duration": 93,
    "start_time": "2022-12-10T13:31:34.806Z"
   },
   {
    "duration": 6,
    "start_time": "2022-12-10T13:31:34.900Z"
   },
   {
    "duration": 14,
    "start_time": "2022-12-10T13:31:34.907Z"
   },
   {
    "duration": 6,
    "start_time": "2022-12-10T13:31:34.923Z"
   },
   {
    "duration": 9,
    "start_time": "2022-12-10T13:31:34.932Z"
   },
   {
    "duration": 3601,
    "start_time": "2022-12-10T16:03:06.703Z"
   },
   {
    "duration": 4,
    "start_time": "2022-12-10T16:03:10.306Z"
   },
   {
    "duration": 811,
    "start_time": "2022-12-10T16:03:10.311Z"
   },
   {
    "duration": 39,
    "start_time": "2022-12-10T16:03:11.125Z"
   },
   {
    "duration": 26,
    "start_time": "2022-12-10T16:03:11.167Z"
   },
   {
    "duration": 131,
    "start_time": "2022-12-10T16:03:11.195Z"
   },
   {
    "duration": 63,
    "start_time": "2022-12-10T16:03:11.328Z"
   },
   {
    "duration": 3,
    "start_time": "2022-12-10T16:03:11.392Z"
   },
   {
    "duration": 1100,
    "start_time": "2022-12-10T16:03:11.397Z"
   },
   {
    "duration": 1247,
    "start_time": "2022-12-10T16:03:12.499Z"
   },
   {
    "duration": 1458,
    "start_time": "2022-12-10T16:03:13.749Z"
   },
   {
    "duration": 85,
    "start_time": "2022-12-10T16:03:15.209Z"
   },
   {
    "duration": 23,
    "start_time": "2022-12-10T16:03:15.296Z"
   },
   {
    "duration": 46,
    "start_time": "2022-12-10T16:03:15.322Z"
   },
   {
    "duration": 21,
    "start_time": "2022-12-10T16:03:15.370Z"
   },
   {
    "duration": 12,
    "start_time": "2022-12-10T16:03:15.393Z"
   },
   {
    "duration": 17,
    "start_time": "2022-12-10T16:03:15.408Z"
   },
   {
    "duration": 5,
    "start_time": "2022-12-10T16:03:15.427Z"
   },
   {
    "duration": 39,
    "start_time": "2022-12-10T16:03:15.433Z"
   },
   {
    "duration": 99,
    "start_time": "2022-12-10T16:03:15.475Z"
   },
   {
    "duration": 198,
    "start_time": "2022-12-10T16:03:15.576Z"
   },
   {
    "duration": 195,
    "start_time": "2022-12-10T16:03:15.779Z"
   },
   {
    "duration": 4,
    "start_time": "2022-12-10T16:03:16.059Z"
   },
   {
    "duration": 17,
    "start_time": "2022-12-10T16:03:16.065Z"
   },
   {
    "duration": 5,
    "start_time": "2022-12-10T16:03:16.084Z"
   },
   {
    "duration": 13,
    "start_time": "2022-12-10T16:03:16.092Z"
   },
   {
    "duration": 13,
    "start_time": "2022-12-10T16:03:16.107Z"
   },
   {
    "duration": 33,
    "start_time": "2022-12-10T16:03:16.122Z"
   },
   {
    "duration": 5,
    "start_time": "2022-12-10T16:03:38.875Z"
   },
   {
    "duration": 6,
    "start_time": "2022-12-10T16:03:41.913Z"
   },
   {
    "duration": 8,
    "start_time": "2022-12-10T16:03:49.655Z"
   },
   {
    "duration": 130,
    "start_time": "2022-12-10T16:05:42.115Z"
   },
   {
    "duration": 24,
    "start_time": "2022-12-10T16:05:45.094Z"
   },
   {
    "duration": 7,
    "start_time": "2022-12-10T16:05:50.015Z"
   },
   {
    "duration": 7,
    "start_time": "2022-12-10T16:05:52.924Z"
   },
   {
    "duration": 8,
    "start_time": "2022-12-10T16:06:02.775Z"
   },
   {
    "duration": 9,
    "start_time": "2022-12-10T16:06:08.315Z"
   },
   {
    "duration": 9,
    "start_time": "2022-12-10T16:06:11.975Z"
   },
   {
    "duration": 9,
    "start_time": "2022-12-10T16:06:17.551Z"
   },
   {
    "duration": 5,
    "start_time": "2022-12-10T16:06:31.074Z"
   },
   {
    "duration": 4,
    "start_time": "2022-12-10T16:06:36.515Z"
   },
   {
    "duration": 6,
    "start_time": "2022-12-10T16:06:42.070Z"
   },
   {
    "duration": 5,
    "start_time": "2022-12-10T16:06:54.794Z"
   },
   {
    "duration": 10,
    "start_time": "2022-12-10T16:07:02.949Z"
   },
   {
    "duration": 9,
    "start_time": "2022-12-10T16:07:21.024Z"
   },
   {
    "duration": 8,
    "start_time": "2022-12-10T16:07:41.884Z"
   },
   {
    "duration": 9,
    "start_time": "2022-12-10T16:07:44.370Z"
   },
   {
    "duration": 10,
    "start_time": "2022-12-10T16:07:46.084Z"
   },
   {
    "duration": 8,
    "start_time": "2022-12-10T16:07:47.986Z"
   },
   {
    "duration": 9,
    "start_time": "2022-12-10T16:07:50.185Z"
   },
   {
    "duration": 4,
    "start_time": "2022-12-10T16:08:00.894Z"
   },
   {
    "duration": 9,
    "start_time": "2022-12-10T16:08:07.968Z"
   },
   {
    "duration": 3,
    "start_time": "2022-12-10T16:11:46.479Z"
   },
   {
    "duration": 9,
    "start_time": "2022-12-10T16:11:46.924Z"
   },
   {
    "duration": 9,
    "start_time": "2022-12-10T16:11:47.094Z"
   },
   {
    "duration": 8,
    "start_time": "2022-12-10T16:11:47.280Z"
   },
   {
    "duration": 1691,
    "start_time": "2022-12-10T17:58:19.362Z"
   },
   {
    "duration": 3,
    "start_time": "2022-12-10T17:58:21.056Z"
   },
   {
    "duration": 696,
    "start_time": "2022-12-10T17:58:21.062Z"
   },
   {
    "duration": 41,
    "start_time": "2022-12-10T17:58:21.760Z"
   },
   {
    "duration": 21,
    "start_time": "2022-12-10T17:58:21.803Z"
   },
   {
    "duration": 117,
    "start_time": "2022-12-10T17:58:21.826Z"
   },
   {
    "duration": 59,
    "start_time": "2022-12-10T17:58:21.945Z"
   },
   {
    "duration": 4,
    "start_time": "2022-12-10T17:58:22.006Z"
   },
   {
    "duration": 1119,
    "start_time": "2022-12-10T17:58:22.013Z"
   },
   {
    "duration": 1039,
    "start_time": "2022-12-10T17:58:23.134Z"
   },
   {
    "duration": 1134,
    "start_time": "2022-12-10T17:58:24.175Z"
   },
   {
    "duration": 68,
    "start_time": "2022-12-10T17:58:25.311Z"
   },
   {
    "duration": 22,
    "start_time": "2022-12-10T17:58:25.391Z"
   },
   {
    "duration": 19,
    "start_time": "2022-12-10T17:58:25.416Z"
   },
   {
    "duration": 16,
    "start_time": "2022-12-10T17:58:25.437Z"
   },
   {
    "duration": 28,
    "start_time": "2022-12-10T17:58:25.455Z"
   },
   {
    "duration": 27,
    "start_time": "2022-12-10T17:58:25.486Z"
   },
   {
    "duration": 7,
    "start_time": "2022-12-10T17:58:25.515Z"
   },
   {
    "duration": 21,
    "start_time": "2022-12-10T17:58:25.523Z"
   },
   {
    "duration": 62,
    "start_time": "2022-12-10T17:58:25.546Z"
   },
   {
    "duration": 275,
    "start_time": "2022-12-10T17:58:25.610Z"
   },
   {
    "duration": 209,
    "start_time": "2022-12-10T17:58:25.888Z"
   },
   {
    "duration": 82,
    "start_time": "2022-12-10T17:58:26.099Z"
   },
   {
    "duration": 18,
    "start_time": "2022-12-10T17:58:26.183Z"
   },
   {
    "duration": 9,
    "start_time": "2022-12-10T17:58:26.203Z"
   },
   {
    "duration": 132,
    "start_time": "2022-12-10T17:59:27.843Z"
   },
   {
    "duration": 4,
    "start_time": "2022-12-10T18:00:52.393Z"
   },
   {
    "duration": 4,
    "start_time": "2022-12-10T18:04:40.459Z"
   },
   {
    "duration": 5,
    "start_time": "2022-12-10T18:05:29.046Z"
   },
   {
    "duration": 4,
    "start_time": "2022-12-10T18:05:36.635Z"
   },
   {
    "duration": 4,
    "start_time": "2022-12-10T18:05:41.132Z"
   },
   {
    "duration": 57,
    "start_time": "2022-12-10T18:05:46.045Z"
   },
   {
    "duration": 8,
    "start_time": "2022-12-10T18:05:51.260Z"
   },
   {
    "duration": 9,
    "start_time": "2022-12-10T18:12:08.045Z"
   },
   {
    "duration": 11,
    "start_time": "2022-12-10T18:17:56.359Z"
   },
   {
    "duration": 8,
    "start_time": "2022-12-10T18:19:01.729Z"
   },
   {
    "duration": 758,
    "start_time": "2022-12-10T18:19:56.037Z"
   },
   {
    "duration": 22,
    "start_time": "2022-12-10T18:20:03.408Z"
   },
   {
    "duration": 27,
    "start_time": "2022-12-10T18:20:16.968Z"
   },
   {
    "duration": 16,
    "start_time": "2022-12-10T18:20:49.932Z"
   },
   {
    "duration": 11,
    "start_time": "2022-12-10T18:21:34.632Z"
   },
   {
    "duration": 12,
    "start_time": "2022-12-10T18:21:43.799Z"
   },
   {
    "duration": 25,
    "start_time": "2022-12-10T18:21:51.845Z"
   },
   {
    "duration": 14,
    "start_time": "2022-12-10T18:21:57.062Z"
   },
   {
    "duration": 11,
    "start_time": "2022-12-10T18:27:07.451Z"
   },
   {
    "duration": 14,
    "start_time": "2022-12-10T18:27:17.986Z"
   },
   {
    "duration": 11,
    "start_time": "2022-12-10T18:27:41.325Z"
   },
   {
    "duration": 13,
    "start_time": "2022-12-10T18:27:53.011Z"
   },
   {
    "duration": 20,
    "start_time": "2022-12-10T18:30:11.536Z"
   },
   {
    "duration": 62,
    "start_time": "2022-12-10T18:30:32.578Z"
   },
   {
    "duration": 13,
    "start_time": "2022-12-10T18:31:23.934Z"
   },
   {
    "duration": 23,
    "start_time": "2022-12-10T18:31:35.240Z"
   },
   {
    "duration": 16,
    "start_time": "2022-12-10T18:31:49.851Z"
   },
   {
    "duration": 16,
    "start_time": "2022-12-10T18:32:47.291Z"
   },
   {
    "duration": 22,
    "start_time": "2022-12-10T18:34:28.303Z"
   },
   {
    "duration": 6,
    "start_time": "2022-12-10T18:34:38.042Z"
   },
   {
    "duration": 16,
    "start_time": "2022-12-10T18:34:51.918Z"
   },
   {
    "duration": 11,
    "start_time": "2022-12-10T18:35:08.064Z"
   },
   {
    "duration": 20,
    "start_time": "2022-12-10T18:35:46.243Z"
   },
   {
    "duration": 13,
    "start_time": "2022-12-10T18:35:53.915Z"
   },
   {
    "duration": 14,
    "start_time": "2022-12-10T18:35:58.094Z"
   },
   {
    "duration": 164,
    "start_time": "2022-12-10T18:36:19.065Z"
   },
   {
    "duration": 20,
    "start_time": "2022-12-10T18:36:25.829Z"
   },
   {
    "duration": 12,
    "start_time": "2022-12-10T18:36:33.317Z"
   },
   {
    "duration": 12,
    "start_time": "2022-12-10T18:37:22.899Z"
   },
   {
    "duration": 19,
    "start_time": "2022-12-10T18:37:35.783Z"
   },
   {
    "duration": 11,
    "start_time": "2022-12-10T18:38:14.032Z"
   },
   {
    "duration": 11,
    "start_time": "2022-12-10T18:38:17.162Z"
   },
   {
    "duration": 12,
    "start_time": "2022-12-10T18:38:30.831Z"
   },
   {
    "duration": 8,
    "start_time": "2022-12-10T18:39:53.295Z"
   },
   {
    "duration": 32,
    "start_time": "2022-12-10T18:40:44.665Z"
   },
   {
    "duration": 17,
    "start_time": "2022-12-10T18:41:37.531Z"
   },
   {
    "duration": 17,
    "start_time": "2022-12-10T18:42:34.142Z"
   },
   {
    "duration": 25,
    "start_time": "2022-12-10T18:43:19.057Z"
   },
   {
    "duration": 5,
    "start_time": "2022-12-10T18:44:35.645Z"
   },
   {
    "duration": 11,
    "start_time": "2022-12-10T18:44:35.652Z"
   },
   {
    "duration": 454,
    "start_time": "2022-12-10T18:44:35.665Z"
   },
   {
    "duration": 24,
    "start_time": "2022-12-10T18:44:36.121Z"
   },
   {
    "duration": 52,
    "start_time": "2022-12-10T18:44:36.147Z"
   },
   {
    "duration": 112,
    "start_time": "2022-12-10T18:44:36.200Z"
   },
   {
    "duration": 38,
    "start_time": "2022-12-10T18:44:36.314Z"
   },
   {
    "duration": 34,
    "start_time": "2022-12-10T18:44:36.354Z"
   },
   {
    "duration": 1006,
    "start_time": "2022-12-10T18:44:36.394Z"
   },
   {
    "duration": 1279,
    "start_time": "2022-12-10T18:44:37.402Z"
   },
   {
    "duration": 1280,
    "start_time": "2022-12-10T18:44:38.684Z"
   },
   {
    "duration": 38,
    "start_time": "2022-12-10T18:44:39.966Z"
   },
   {
    "duration": 32,
    "start_time": "2022-12-10T18:44:40.006Z"
   },
   {
    "duration": 51,
    "start_time": "2022-12-10T18:44:40.044Z"
   },
   {
    "duration": 16,
    "start_time": "2022-12-10T18:44:40.097Z"
   },
   {
    "duration": 6,
    "start_time": "2022-12-10T18:44:40.116Z"
   },
   {
    "duration": 16,
    "start_time": "2022-12-10T18:44:40.124Z"
   },
   {
    "duration": 6,
    "start_time": "2022-12-10T18:44:40.142Z"
   },
   {
    "duration": 39,
    "start_time": "2022-12-10T18:44:40.150Z"
   },
   {
    "duration": 93,
    "start_time": "2022-12-10T18:44:40.194Z"
   },
   {
    "duration": 212,
    "start_time": "2022-12-10T18:44:40.289Z"
   },
   {
    "duration": 273,
    "start_time": "2022-12-10T18:44:40.504Z"
   },
   {
    "duration": 4,
    "start_time": "2022-12-10T18:44:40.779Z"
   },
   {
    "duration": 21,
    "start_time": "2022-12-10T18:44:40.792Z"
   },
   {
    "duration": 16,
    "start_time": "2022-12-10T18:44:40.815Z"
   },
   {
    "duration": 26,
    "start_time": "2022-12-10T18:44:40.832Z"
   },
   {
    "duration": 30,
    "start_time": "2022-12-10T18:44:40.860Z"
   },
   {
    "duration": 19,
    "start_time": "2022-12-10T18:44:40.892Z"
   },
   {
    "duration": 48,
    "start_time": "2022-12-10T18:48:19.230Z"
   },
   {
    "duration": 14,
    "start_time": "2022-12-10T19:01:14.603Z"
   },
   {
    "duration": 862,
    "start_time": "2022-12-10T19:02:35.806Z"
   },
   {
    "duration": 12,
    "start_time": "2022-12-10T19:29:04.754Z"
   },
   {
    "duration": 2161,
    "start_time": "2022-12-10T19:30:00.747Z"
   },
   {
    "duration": 2549,
    "start_time": "2022-12-10T19:30:56.505Z"
   },
   {
    "duration": 36,
    "start_time": "2022-12-10T19:31:23.650Z"
   },
   {
    "duration": 8,
    "start_time": "2022-12-10T19:31:44.104Z"
   },
   {
    "duration": 30,
    "start_time": "2022-12-10T19:32:01.507Z"
   },
   {
    "duration": 15,
    "start_time": "2022-12-10T19:32:09.472Z"
   },
   {
    "duration": 14,
    "start_time": "2022-12-10T19:32:24.888Z"
   },
   {
    "duration": 22,
    "start_time": "2022-12-10T19:35:05.751Z"
   },
   {
    "duration": 19,
    "start_time": "2022-12-10T19:36:23.393Z"
   },
   {
    "duration": 16,
    "start_time": "2022-12-10T19:38:39.764Z"
   },
   {
    "duration": 13,
    "start_time": "2022-12-10T19:40:59.041Z"
   },
   {
    "duration": 13,
    "start_time": "2022-12-10T19:49:49.560Z"
   },
   {
    "duration": 11,
    "start_time": "2022-12-10T19:49:52.849Z"
   },
   {
    "duration": 16,
    "start_time": "2022-12-10T19:53:10.205Z"
   },
   {
    "duration": 18,
    "start_time": "2022-12-10T19:53:21.005Z"
   },
   {
    "duration": 13,
    "start_time": "2022-12-10T19:54:49.043Z"
   },
   {
    "duration": 23,
    "start_time": "2022-12-10T19:55:05.415Z"
   },
   {
    "duration": 17,
    "start_time": "2022-12-10T19:56:57.239Z"
   },
   {
    "duration": 12,
    "start_time": "2022-12-10T19:58:20.297Z"
   },
   {
    "duration": 8,
    "start_time": "2022-12-10T19:58:36.389Z"
   },
   {
    "duration": 5,
    "start_time": "2022-12-10T19:58:46.898Z"
   },
   {
    "duration": 22,
    "start_time": "2022-12-10T20:00:29.475Z"
   },
   {
    "duration": 12,
    "start_time": "2022-12-10T20:00:38.134Z"
   },
   {
    "duration": 19,
    "start_time": "2022-12-10T20:00:43.664Z"
   },
   {
    "duration": 27,
    "start_time": "2022-12-10T20:01:01.062Z"
   },
   {
    "duration": 1561,
    "start_time": "2022-12-10T20:01:12.061Z"
   },
   {
    "duration": 1509,
    "start_time": "2022-12-10T20:01:54.237Z"
   },
   {
    "duration": 1581,
    "start_time": "2022-12-10T20:02:00.662Z"
   },
   {
    "duration": 14,
    "start_time": "2022-12-10T20:23:20.447Z"
   },
   {
    "duration": 1631,
    "start_time": "2022-12-10T20:23:40.639Z"
   },
   {
    "duration": 19,
    "start_time": "2022-12-10T20:23:58.248Z"
   },
   {
    "duration": 14,
    "start_time": "2022-12-10T20:25:26.342Z"
   },
   {
    "duration": 5,
    "start_time": "2022-12-10T20:27:03.150Z"
   },
   {
    "duration": 7,
    "start_time": "2022-12-10T20:27:38.189Z"
   },
   {
    "duration": 5,
    "start_time": "2022-12-10T20:28:30.571Z"
   },
   {
    "duration": 1479,
    "start_time": "2022-12-10T20:29:26.346Z"
   },
   {
    "duration": 1535,
    "start_time": "2022-12-10T20:31:12.510Z"
   },
   {
    "duration": 1546,
    "start_time": "2022-12-10T20:31:19.005Z"
   },
   {
    "duration": 1584,
    "start_time": "2022-12-10T20:31:21.420Z"
   },
   {
    "duration": 48,
    "start_time": "2022-12-10T20:31:32.027Z"
   },
   {
    "duration": 5,
    "start_time": "2022-12-11T06:58:05.621Z"
   },
   {
    "duration": 7,
    "start_time": "2022-12-11T06:58:05.628Z"
   },
   {
    "duration": 381,
    "start_time": "2022-12-11T06:58:05.637Z"
   },
   {
    "duration": 21,
    "start_time": "2022-12-11T06:58:06.020Z"
   },
   {
    "duration": 39,
    "start_time": "2022-12-11T06:58:06.044Z"
   },
   {
    "duration": 100,
    "start_time": "2022-12-11T06:58:06.085Z"
   },
   {
    "duration": 33,
    "start_time": "2022-12-11T06:58:06.187Z"
   },
   {
    "duration": 3,
    "start_time": "2022-12-11T06:58:06.222Z"
   },
   {
    "duration": 900,
    "start_time": "2022-12-11T06:58:06.226Z"
   },
   {
    "duration": 1049,
    "start_time": "2022-12-11T06:58:07.128Z"
   },
   {
    "duration": 903,
    "start_time": "2022-12-11T06:58:08.179Z"
   },
   {
    "duration": 21,
    "start_time": "2022-12-11T06:58:09.084Z"
   },
   {
    "duration": 21,
    "start_time": "2022-12-11T06:58:09.109Z"
   },
   {
    "duration": 19,
    "start_time": "2022-12-11T06:58:09.132Z"
   },
   {
    "duration": 39,
    "start_time": "2022-12-11T06:58:09.153Z"
   },
   {
    "duration": 15,
    "start_time": "2022-12-11T06:58:09.194Z"
   },
   {
    "duration": 26,
    "start_time": "2022-12-11T06:58:09.210Z"
   },
   {
    "duration": 29,
    "start_time": "2022-12-11T06:58:09.237Z"
   },
   {
    "duration": 23,
    "start_time": "2022-12-11T06:58:09.268Z"
   },
   {
    "duration": 89,
    "start_time": "2022-12-11T06:58:09.293Z"
   },
   {
    "duration": 199,
    "start_time": "2022-12-11T06:58:09.384Z"
   },
   {
    "duration": 200,
    "start_time": "2022-12-11T06:58:09.584Z"
   },
   {
    "duration": 94,
    "start_time": "2022-12-11T06:58:09.785Z"
   },
   {
    "duration": 7,
    "start_time": "2022-12-11T06:58:09.881Z"
   },
   {
    "duration": 13,
    "start_time": "2022-12-11T06:58:09.889Z"
   },
   {
    "duration": 34,
    "start_time": "2022-12-11T06:58:09.904Z"
   },
   {
    "duration": 15,
    "start_time": "2022-12-11T06:58:09.940Z"
   },
   {
    "duration": 22,
    "start_time": "2022-12-11T06:58:09.956Z"
   },
   {
    "duration": 1380,
    "start_time": "2022-12-11T06:58:09.980Z"
   },
   {
    "duration": 1364,
    "start_time": "2022-12-11T06:58:11.362Z"
   },
   {
    "duration": 1367,
    "start_time": "2022-12-11T06:58:12.728Z"
   },
   {
    "duration": 1388,
    "start_time": "2022-12-11T07:14:29.615Z"
   },
   {
    "duration": 1383,
    "start_time": "2022-12-11T07:15:57.808Z"
   },
   {
    "duration": 1374,
    "start_time": "2022-12-11T07:17:04.897Z"
   },
   {
    "duration": 1361,
    "start_time": "2022-12-11T07:19:45.959Z"
   },
   {
    "duration": 1409,
    "start_time": "2022-12-11T07:20:05.337Z"
   },
   {
    "duration": 1388,
    "start_time": "2022-12-11T07:20:12.289Z"
   },
   {
    "duration": 1415,
    "start_time": "2022-12-11T07:20:18.067Z"
   },
   {
    "duration": 1384,
    "start_time": "2022-12-11T07:20:28.054Z"
   },
   {
    "duration": 1422,
    "start_time": "2022-12-11T07:21:04.150Z"
   },
   {
    "duration": 1412,
    "start_time": "2022-12-11T07:24:18.821Z"
   },
   {
    "duration": 1361,
    "start_time": "2022-12-11T07:24:39.323Z"
   },
   {
    "duration": 1362,
    "start_time": "2022-12-11T07:25:22.369Z"
   },
   {
    "duration": 1428,
    "start_time": "2022-12-11T07:26:07.352Z"
   },
   {
    "duration": 1422,
    "start_time": "2022-12-11T07:27:03.751Z"
   },
   {
    "duration": 6,
    "start_time": "2022-12-11T07:28:30.893Z"
   },
   {
    "duration": 5,
    "start_time": "2022-12-11T07:28:58.321Z"
   },
   {
    "duration": 6,
    "start_time": "2022-12-11T07:29:28.721Z"
   },
   {
    "duration": 1372,
    "start_time": "2022-12-11T07:39:38.305Z"
   },
   {
    "duration": 1356,
    "start_time": "2022-12-11T07:39:58.261Z"
   },
   {
    "duration": 1416,
    "start_time": "2022-12-11T07:40:41.320Z"
   },
   {
    "duration": 1342,
    "start_time": "2022-12-11T07:41:34.285Z"
   },
   {
    "duration": 1367,
    "start_time": "2022-12-11T07:42:03.995Z"
   },
   {
    "duration": 1362,
    "start_time": "2022-12-11T07:42:34.175Z"
   },
   {
    "duration": 1393,
    "start_time": "2022-12-11T07:43:10.755Z"
   },
   {
    "duration": 41,
    "start_time": "2022-12-11T07:50:38.778Z"
   },
   {
    "duration": 41,
    "start_time": "2022-12-11T07:54:04.804Z"
   },
   {
    "duration": 5,
    "start_time": "2022-12-11T07:54:37.142Z"
   },
   {
    "duration": 9,
    "start_time": "2022-12-11T07:54:37.148Z"
   },
   {
    "duration": 383,
    "start_time": "2022-12-11T07:54:37.159Z"
   },
   {
    "duration": 22,
    "start_time": "2022-12-11T07:54:37.544Z"
   },
   {
    "duration": 29,
    "start_time": "2022-12-11T07:54:37.568Z"
   },
   {
    "duration": 117,
    "start_time": "2022-12-11T07:54:37.599Z"
   },
   {
    "duration": 35,
    "start_time": "2022-12-11T07:54:37.718Z"
   },
   {
    "duration": 22,
    "start_time": "2022-12-11T07:54:37.755Z"
   },
   {
    "duration": 1088,
    "start_time": "2022-12-11T07:54:37.779Z"
   },
   {
    "duration": 912,
    "start_time": "2022-12-11T07:54:38.870Z"
   },
   {
    "duration": 1061,
    "start_time": "2022-12-11T07:54:39.784Z"
   },
   {
    "duration": 32,
    "start_time": "2022-12-11T07:54:40.847Z"
   },
   {
    "duration": 22,
    "start_time": "2022-12-11T07:54:40.880Z"
   },
   {
    "duration": 22,
    "start_time": "2022-12-11T07:54:40.903Z"
   },
   {
    "duration": 19,
    "start_time": "2022-12-11T07:54:40.927Z"
   },
   {
    "duration": 33,
    "start_time": "2022-12-11T07:54:40.948Z"
   },
   {
    "duration": 15,
    "start_time": "2022-12-11T07:54:40.983Z"
   },
   {
    "duration": 5,
    "start_time": "2022-12-11T07:54:41.000Z"
   },
   {
    "duration": 18,
    "start_time": "2022-12-11T07:54:41.007Z"
   },
   {
    "duration": 59,
    "start_time": "2022-12-11T07:54:41.027Z"
   },
   {
    "duration": 107,
    "start_time": "2022-12-11T07:54:41.178Z"
   },
   {
    "duration": 102,
    "start_time": "2022-12-11T07:54:41.377Z"
   },
   {
    "duration": 4,
    "start_time": "2022-12-11T07:54:41.481Z"
   },
   {
    "duration": 97,
    "start_time": "2022-12-11T07:54:41.486Z"
   },
   {
    "duration": 8,
    "start_time": "2022-12-11T07:54:41.585Z"
   },
   {
    "duration": 21,
    "start_time": "2022-12-11T07:54:41.595Z"
   },
   {
    "duration": 16,
    "start_time": "2022-12-11T07:54:41.618Z"
   },
   {
    "duration": 42,
    "start_time": "2022-12-11T07:54:41.637Z"
   },
   {
    "duration": 1407,
    "start_time": "2022-12-11T07:54:41.680Z"
   },
   {
    "duration": 1413,
    "start_time": "2022-12-11T07:54:43.089Z"
   },
   {
    "duration": 1436,
    "start_time": "2022-12-11T07:54:44.504Z"
   },
   {
    "duration": 1311,
    "start_time": "2022-12-11T07:55:44.420Z"
   },
   {
    "duration": 3,
    "start_time": "2022-12-11T07:55:45.733Z"
   },
   {
    "duration": 390,
    "start_time": "2022-12-11T07:55:45.738Z"
   },
   {
    "duration": 27,
    "start_time": "2022-12-11T07:55:46.130Z"
   },
   {
    "duration": 37,
    "start_time": "2022-12-11T07:55:46.159Z"
   },
   {
    "duration": 121,
    "start_time": "2022-12-11T07:55:46.197Z"
   },
   {
    "duration": 36,
    "start_time": "2022-12-11T07:55:46.320Z"
   },
   {
    "duration": 3,
    "start_time": "2022-12-11T07:55:46.377Z"
   },
   {
    "duration": 971,
    "start_time": "2022-12-11T07:55:46.382Z"
   },
   {
    "duration": 932,
    "start_time": "2022-12-11T07:55:47.357Z"
   },
   {
    "duration": 1062,
    "start_time": "2022-12-11T07:55:48.291Z"
   },
   {
    "duration": 66,
    "start_time": "2022-12-11T07:55:49.355Z"
   },
   {
    "duration": 21,
    "start_time": "2022-12-11T07:55:49.423Z"
   },
   {
    "duration": 38,
    "start_time": "2022-12-11T07:55:49.445Z"
   },
   {
    "duration": 19,
    "start_time": "2022-12-11T07:55:49.485Z"
   },
   {
    "duration": 7,
    "start_time": "2022-12-11T07:55:49.505Z"
   },
   {
    "duration": 15,
    "start_time": "2022-12-11T07:55:49.513Z"
   },
   {
    "duration": 5,
    "start_time": "2022-12-11T07:55:49.529Z"
   },
   {
    "duration": 11,
    "start_time": "2022-12-11T07:55:49.535Z"
   },
   {
    "duration": 138,
    "start_time": "2022-12-11T07:55:49.547Z"
   },
   {
    "duration": 107,
    "start_time": "2022-12-11T07:55:49.777Z"
   },
   {
    "duration": 192,
    "start_time": "2022-12-11T07:55:49.887Z"
   },
   {
    "duration": 2,
    "start_time": "2022-12-11T07:55:50.081Z"
   },
   {
    "duration": 100,
    "start_time": "2022-12-11T07:55:50.085Z"
   },
   {
    "duration": 10,
    "start_time": "2022-12-11T07:55:50.187Z"
   },
   {
    "duration": 24,
    "start_time": "2022-12-11T07:55:50.198Z"
   },
   {
    "duration": 16,
    "start_time": "2022-12-11T07:55:50.224Z"
   },
   {
    "duration": 15,
    "start_time": "2022-12-11T07:55:50.243Z"
   },
   {
    "duration": 1400,
    "start_time": "2022-12-11T07:55:50.259Z"
   },
   {
    "duration": 1364,
    "start_time": "2022-12-11T07:55:51.661Z"
   },
   {
    "duration": 1377,
    "start_time": "2022-12-11T07:55:53.027Z"
   },
   {
    "duration": 3055,
    "start_time": "2022-12-11T09:04:33.816Z"
   },
   {
    "duration": 3,
    "start_time": "2022-12-11T09:04:36.873Z"
   },
   {
    "duration": 750,
    "start_time": "2022-12-11T09:04:36.877Z"
   },
   {
    "duration": 24,
    "start_time": "2022-12-11T09:04:37.628Z"
   },
   {
    "duration": 25,
    "start_time": "2022-12-11T09:04:37.654Z"
   },
   {
    "duration": 102,
    "start_time": "2022-12-11T09:04:37.681Z"
   },
   {
    "duration": 50,
    "start_time": "2022-12-11T09:04:37.784Z"
   },
   {
    "duration": 2,
    "start_time": "2022-12-11T09:04:37.836Z"
   },
   {
    "duration": 1050,
    "start_time": "2022-12-11T09:04:37.839Z"
   },
   {
    "duration": 884,
    "start_time": "2022-12-11T09:04:38.891Z"
   },
   {
    "duration": 997,
    "start_time": "2022-12-11T09:04:39.777Z"
   },
   {
    "duration": 70,
    "start_time": "2022-12-11T09:04:40.776Z"
   },
   {
    "duration": 16,
    "start_time": "2022-12-11T09:04:40.848Z"
   },
   {
    "duration": 46,
    "start_time": "2022-12-11T09:04:40.866Z"
   },
   {
    "duration": 27,
    "start_time": "2022-12-11T09:04:40.919Z"
   },
   {
    "duration": 35,
    "start_time": "2022-12-11T09:04:40.948Z"
   },
   {
    "duration": 28,
    "start_time": "2022-12-11T09:04:40.984Z"
   },
   {
    "duration": 24,
    "start_time": "2022-12-11T09:04:41.014Z"
   },
   {
    "duration": 48,
    "start_time": "2022-12-11T09:04:41.040Z"
   },
   {
    "duration": 110,
    "start_time": "2022-12-11T09:04:41.090Z"
   },
   {
    "duration": 203,
    "start_time": "2022-12-11T09:04:41.202Z"
   },
   {
    "duration": 196,
    "start_time": "2022-12-11T09:04:41.406Z"
   },
   {
    "duration": 95,
    "start_time": "2022-12-11T09:04:41.605Z"
   },
   {
    "duration": 28,
    "start_time": "2022-12-11T09:04:41.705Z"
   },
   {
    "duration": 7,
    "start_time": "2022-12-11T09:04:41.734Z"
   },
   {
    "duration": 20,
    "start_time": "2022-12-11T09:04:41.742Z"
   },
   {
    "duration": 13,
    "start_time": "2022-12-11T09:04:41.764Z"
   },
   {
    "duration": 12,
    "start_time": "2022-12-11T09:04:41.778Z"
   },
   {
    "duration": 1328,
    "start_time": "2022-12-11T09:04:41.792Z"
   },
   {
    "duration": 1303,
    "start_time": "2022-12-11T09:04:43.122Z"
   },
   {
    "duration": 1388,
    "start_time": "2022-12-11T09:04:44.426Z"
   },
   {
    "duration": 1335,
    "start_time": "2022-12-11T09:08:13.688Z"
   },
   {
    "duration": 1379,
    "start_time": "2022-12-11T09:08:26.078Z"
   },
   {
    "duration": 1458,
    "start_time": "2022-12-11T09:08:27.459Z"
   },
   {
    "duration": 16,
    "start_time": "2022-12-11T09:10:01.697Z"
   },
   {
    "duration": 34,
    "start_time": "2022-12-11T09:10:01.717Z"
   },
   {
    "duration": 409,
    "start_time": "2022-12-11T09:10:01.752Z"
   },
   {
    "duration": 20,
    "start_time": "2022-12-11T09:10:02.162Z"
   },
   {
    "duration": 35,
    "start_time": "2022-12-11T09:10:02.198Z"
   },
   {
    "duration": 99,
    "start_time": "2022-12-11T09:10:02.235Z"
   },
   {
    "duration": 37,
    "start_time": "2022-12-11T09:10:02.335Z"
   },
   {
    "duration": 3,
    "start_time": "2022-12-11T09:10:02.374Z"
   },
   {
    "duration": 931,
    "start_time": "2022-12-11T09:10:02.401Z"
   },
   {
    "duration": 1038,
    "start_time": "2022-12-11T09:10:03.334Z"
   },
   {
    "duration": 1051,
    "start_time": "2022-12-11T09:10:04.374Z"
   },
   {
    "duration": 18,
    "start_time": "2022-12-11T09:10:05.427Z"
   },
   {
    "duration": 18,
    "start_time": "2022-12-11T09:10:05.447Z"
   },
   {
    "duration": 40,
    "start_time": "2022-12-11T09:10:05.468Z"
   },
   {
    "duration": 19,
    "start_time": "2022-12-11T09:10:05.513Z"
   },
   {
    "duration": 7,
    "start_time": "2022-12-11T09:10:05.534Z"
   },
   {
    "duration": 16,
    "start_time": "2022-12-11T09:10:05.542Z"
   },
   {
    "duration": 7,
    "start_time": "2022-12-11T09:10:05.559Z"
   },
   {
    "duration": 15,
    "start_time": "2022-12-11T09:10:05.568Z"
   },
   {
    "duration": 128,
    "start_time": "2022-12-11T09:10:05.585Z"
   },
   {
    "duration": 186,
    "start_time": "2022-12-11T09:10:05.717Z"
   },
   {
    "duration": 196,
    "start_time": "2022-12-11T09:10:05.908Z"
   },
   {
    "duration": 8,
    "start_time": "2022-12-11T09:10:06.106Z"
   },
   {
    "duration": 94,
    "start_time": "2022-12-11T09:10:06.116Z"
   },
   {
    "duration": 10,
    "start_time": "2022-12-11T09:10:06.215Z"
   },
   {
    "duration": 19,
    "start_time": "2022-12-11T09:10:06.226Z"
   },
   {
    "duration": 12,
    "start_time": "2022-12-11T09:10:06.246Z"
   },
   {
    "duration": 13,
    "start_time": "2022-12-11T09:10:06.259Z"
   },
   {
    "duration": 1386,
    "start_time": "2022-12-11T09:10:06.273Z"
   },
   {
    "duration": 5,
    "start_time": "2022-12-11T09:10:07.662Z"
   },
   {
    "duration": 4,
    "start_time": "2022-12-11T09:10:16.724Z"
   },
   {
    "duration": 29,
    "start_time": "2022-12-11T09:10:29.777Z"
   },
   {
    "duration": 1293,
    "start_time": "2022-12-11T09:10:50.086Z"
   },
   {
    "duration": 1377,
    "start_time": "2022-12-11T09:10:59.697Z"
   },
   {
    "duration": 1305,
    "start_time": "2022-12-11T09:11:01.677Z"
   },
   {
    "duration": 39,
    "start_time": "2022-12-11T09:11:04.687Z"
   },
   {
    "duration": 6,
    "start_time": "2022-12-11T09:11:15.400Z"
   },
   {
    "duration": 1646,
    "start_time": "2022-12-11T09:11:17.610Z"
   },
   {
    "duration": 1366,
    "start_time": "2022-12-11T09:11:21.496Z"
   },
   {
    "duration": 6,
    "start_time": "2022-12-11T09:11:25.857Z"
   },
   {
    "duration": 8,
    "start_time": "2022-12-11T09:11:32.158Z"
   },
   {
    "duration": 5,
    "start_time": "2022-12-11T09:11:37.134Z"
   },
   {
    "duration": 1135,
    "start_time": "2022-12-11T09:12:13.467Z"
   },
   {
    "duration": 1340,
    "start_time": "2022-12-11T09:12:15.738Z"
   },
   {
    "duration": 1336,
    "start_time": "2022-12-11T09:12:27.811Z"
   },
   {
    "duration": 1328,
    "start_time": "2022-12-11T09:12:29.149Z"
   },
   {
    "duration": 1293,
    "start_time": "2022-12-11T09:12:30.479Z"
   },
   {
    "duration": 2366,
    "start_time": "2022-12-11T10:47:34.442Z"
   },
   {
    "duration": 5,
    "start_time": "2022-12-11T10:47:36.812Z"
   },
   {
    "duration": 852,
    "start_time": "2022-12-11T10:47:36.819Z"
   },
   {
    "duration": 46,
    "start_time": "2022-12-11T10:47:37.675Z"
   },
   {
    "duration": 54,
    "start_time": "2022-12-11T10:47:37.724Z"
   },
   {
    "duration": 150,
    "start_time": "2022-12-11T10:47:37.780Z"
   },
   {
    "duration": 92,
    "start_time": "2022-12-11T10:47:37.933Z"
   },
   {
    "duration": 6,
    "start_time": "2022-12-11T10:47:38.028Z"
   },
   {
    "duration": 1537,
    "start_time": "2022-12-11T10:47:38.037Z"
   },
   {
    "duration": 1390,
    "start_time": "2022-12-11T10:47:39.578Z"
   },
   {
    "duration": 2374,
    "start_time": "2022-12-11T10:47:40.972Z"
   },
   {
    "duration": 134,
    "start_time": "2022-12-11T10:47:43.349Z"
   },
   {
    "duration": 35,
    "start_time": "2022-12-11T10:47:43.485Z"
   },
   {
    "duration": 50,
    "start_time": "2022-12-11T10:47:43.528Z"
   },
   {
    "duration": 27,
    "start_time": "2022-12-11T10:47:43.580Z"
   },
   {
    "duration": 14,
    "start_time": "2022-12-11T10:47:43.609Z"
   },
   {
    "duration": 23,
    "start_time": "2022-12-11T10:47:43.625Z"
   },
   {
    "duration": 31,
    "start_time": "2022-12-11T10:47:43.650Z"
   },
   {
    "duration": 24,
    "start_time": "2022-12-11T10:47:43.684Z"
   },
   {
    "duration": 183,
    "start_time": "2022-12-11T10:47:43.711Z"
   },
   {
    "duration": 189,
    "start_time": "2022-12-11T10:47:43.897Z"
   },
   {
    "duration": 290,
    "start_time": "2022-12-11T10:47:44.095Z"
   },
   {
    "duration": 4,
    "start_time": "2022-12-11T10:47:44.388Z"
   },
   {
    "duration": 18,
    "start_time": "2022-12-11T10:47:44.394Z"
   },
   {
    "duration": 11,
    "start_time": "2022-12-11T10:47:44.415Z"
   },
   {
    "duration": 63,
    "start_time": "2022-12-11T10:47:44.429Z"
   },
   {
    "duration": 33,
    "start_time": "2022-12-11T10:47:44.495Z"
   },
   {
    "duration": 48,
    "start_time": "2022-12-11T10:47:44.533Z"
   },
   {
    "duration": 2357,
    "start_time": "2022-12-11T10:47:54.280Z"
   },
   {
    "duration": 1875,
    "start_time": "2022-12-11T10:51:21.333Z"
   },
   {
    "duration": 1835,
    "start_time": "2022-12-11T10:51:54.197Z"
   },
   {
    "duration": 1686,
    "start_time": "2022-12-11T10:52:13.729Z"
   },
   {
    "duration": 2294,
    "start_time": "2022-12-11T10:52:34.424Z"
   },
   {
    "duration": 2138,
    "start_time": "2022-12-11T10:52:41.942Z"
   },
   {
    "duration": 2395,
    "start_time": "2022-12-11T10:54:24.102Z"
   },
   {
    "duration": 11,
    "start_time": "2022-12-11T10:54:44.596Z"
   },
   {
    "duration": 27,
    "start_time": "2022-12-11T10:54:44.609Z"
   },
   {
    "duration": 649,
    "start_time": "2022-12-11T10:54:44.641Z"
   },
   {
    "duration": 41,
    "start_time": "2022-12-11T10:54:45.294Z"
   },
   {
    "duration": 59,
    "start_time": "2022-12-11T10:54:45.341Z"
   },
   {
    "duration": 152,
    "start_time": "2022-12-11T10:54:45.403Z"
   },
   {
    "duration": 64,
    "start_time": "2022-12-11T10:54:45.557Z"
   },
   {
    "duration": 9,
    "start_time": "2022-12-11T10:54:45.623Z"
   },
   {
    "duration": 1616,
    "start_time": "2022-12-11T10:54:45.635Z"
   },
   {
    "duration": 1472,
    "start_time": "2022-12-11T10:54:47.254Z"
   },
   {
    "duration": 2221,
    "start_time": "2022-12-11T10:54:48.733Z"
   },
   {
    "duration": 52,
    "start_time": "2022-12-11T10:54:50.957Z"
   },
   {
    "duration": 152,
    "start_time": "2022-12-11T10:54:51.019Z"
   },
   {
    "duration": 88,
    "start_time": "2022-12-11T10:54:51.190Z"
   },
   {
    "duration": 77,
    "start_time": "2022-12-11T10:54:51.298Z"
   },
   {
    "duration": 30,
    "start_time": "2022-12-11T10:54:51.377Z"
   },
   {
    "duration": 44,
    "start_time": "2022-12-11T10:54:51.410Z"
   },
   {
    "duration": 20,
    "start_time": "2022-12-11T10:54:51.456Z"
   },
   {
    "duration": 40,
    "start_time": "2022-12-11T10:54:51.479Z"
   },
   {
    "duration": 195,
    "start_time": "2022-12-11T10:54:51.522Z"
   },
   {
    "duration": 263,
    "start_time": "2022-12-11T10:54:51.725Z"
   },
   {
    "duration": 205,
    "start_time": "2022-12-11T10:54:51.990Z"
   },
   {
    "duration": 10,
    "start_time": "2022-12-11T10:54:52.203Z"
   },
   {
    "duration": 67,
    "start_time": "2022-12-11T10:54:52.221Z"
   },
   {
    "duration": 17,
    "start_time": "2022-12-11T10:54:52.290Z"
   },
   {
    "duration": 30,
    "start_time": "2022-12-11T10:54:52.313Z"
   },
   {
    "duration": 36,
    "start_time": "2022-12-11T10:54:52.345Z"
   },
   {
    "duration": 47,
    "start_time": "2022-12-11T10:54:52.383Z"
   },
   {
    "duration": 2408,
    "start_time": "2022-12-11T10:54:52.436Z"
   },
   {
    "duration": 2205,
    "start_time": "2022-12-11T10:56:46.995Z"
   },
   {
    "duration": 1835,
    "start_time": "2022-12-11T10:57:00.848Z"
   },
   {
    "duration": 1896,
    "start_time": "2022-12-11T10:57:35.906Z"
   },
   {
    "duration": 2252,
    "start_time": "2022-12-11T10:59:31.461Z"
   },
   {
    "duration": 1980,
    "start_time": "2022-12-11T11:00:26.542Z"
   },
   {
    "duration": 78,
    "start_time": "2022-12-11T11:04:18.034Z"
   },
   {
    "duration": 48,
    "start_time": "2022-12-11T11:17:12.080Z"
   },
   {
    "duration": 5,
    "start_time": "2022-12-11T11:42:16.384Z"
   },
   {
    "duration": 6,
    "start_time": "2022-12-11T11:42:16.392Z"
   },
   {
    "duration": 357,
    "start_time": "2022-12-11T11:42:16.400Z"
   },
   {
    "duration": 18,
    "start_time": "2022-12-11T11:42:16.758Z"
   },
   {
    "duration": 37,
    "start_time": "2022-12-11T11:42:16.778Z"
   },
   {
    "duration": 104,
    "start_time": "2022-12-11T11:42:16.816Z"
   },
   {
    "duration": 35,
    "start_time": "2022-12-11T11:42:16.922Z"
   },
   {
    "duration": 3,
    "start_time": "2022-12-11T11:42:16.960Z"
   },
   {
    "duration": 849,
    "start_time": "2022-12-11T11:42:16.965Z"
   },
   {
    "duration": 986,
    "start_time": "2022-12-11T11:42:17.816Z"
   },
   {
    "duration": 872,
    "start_time": "2022-12-11T11:42:18.805Z"
   },
   {
    "duration": 32,
    "start_time": "2022-12-11T11:42:19.679Z"
   },
   {
    "duration": 23,
    "start_time": "2022-12-11T11:42:19.712Z"
   },
   {
    "duration": 18,
    "start_time": "2022-12-11T11:42:19.737Z"
   },
   {
    "duration": 13,
    "start_time": "2022-12-11T11:42:19.757Z"
   },
   {
    "duration": 5,
    "start_time": "2022-12-11T11:42:19.799Z"
   },
   {
    "duration": 17,
    "start_time": "2022-12-11T11:42:19.806Z"
   },
   {
    "duration": 7,
    "start_time": "2022-12-11T11:42:19.825Z"
   },
   {
    "duration": 15,
    "start_time": "2022-12-11T11:42:19.835Z"
   },
   {
    "duration": 65,
    "start_time": "2022-12-11T11:42:19.852Z"
   },
   {
    "duration": 281,
    "start_time": "2022-12-11T11:42:19.918Z"
   },
   {
    "duration": 198,
    "start_time": "2022-12-11T11:42:20.201Z"
   },
   {
    "duration": 4,
    "start_time": "2022-12-11T11:42:20.401Z"
   },
   {
    "duration": 93,
    "start_time": "2022-12-11T11:42:20.411Z"
   },
   {
    "duration": 12,
    "start_time": "2022-12-11T11:42:20.505Z"
   },
   {
    "duration": 17,
    "start_time": "2022-12-11T11:42:20.519Z"
   },
   {
    "duration": 19,
    "start_time": "2022-12-11T11:42:20.538Z"
   },
   {
    "duration": 14,
    "start_time": "2022-12-11T11:42:20.559Z"
   },
   {
    "duration": 1091,
    "start_time": "2022-12-11T11:42:20.575Z"
   },
   {
    "duration": 1109,
    "start_time": "2022-12-11T11:42:21.669Z"
   },
   {
    "duration": 1084,
    "start_time": "2022-12-11T11:42:22.779Z"
   },
   {
    "duration": 1068,
    "start_time": "2022-12-11T12:06:07.778Z"
   },
   {
    "duration": 1063,
    "start_time": "2022-12-11T12:06:46.961Z"
   },
   {
    "duration": 1035,
    "start_time": "2022-12-11T12:06:52.636Z"
   },
   {
    "duration": 5,
    "start_time": "2022-12-11T12:07:22.973Z"
   },
   {
    "duration": 16,
    "start_time": "2022-12-11T12:07:22.981Z"
   },
   {
    "duration": 380,
    "start_time": "2022-12-11T12:07:22.999Z"
   },
   {
    "duration": 23,
    "start_time": "2022-12-11T12:07:23.381Z"
   },
   {
    "duration": 23,
    "start_time": "2022-12-11T12:07:23.406Z"
   },
   {
    "duration": 123,
    "start_time": "2022-12-11T12:07:23.430Z"
   },
   {
    "duration": 49,
    "start_time": "2022-12-11T12:07:23.555Z"
   },
   {
    "duration": 4,
    "start_time": "2022-12-11T12:07:23.606Z"
   },
   {
    "duration": 956,
    "start_time": "2022-12-11T12:07:23.612Z"
   },
   {
    "duration": 1119,
    "start_time": "2022-12-11T12:07:24.570Z"
   },
   {
    "duration": 938,
    "start_time": "2022-12-11T12:07:25.691Z"
   },
   {
    "duration": 22,
    "start_time": "2022-12-11T12:07:26.630Z"
   },
   {
    "duration": 172,
    "start_time": "2022-12-11T12:07:26.654Z"
   },
   {
    "duration": 21,
    "start_time": "2022-12-11T12:07:26.829Z"
   },
   {
    "duration": 30,
    "start_time": "2022-12-11T12:07:26.852Z"
   },
   {
    "duration": 8,
    "start_time": "2022-12-11T12:07:26.884Z"
   },
   {
    "duration": 14,
    "start_time": "2022-12-11T12:07:26.893Z"
   },
   {
    "duration": 4,
    "start_time": "2022-12-11T12:07:26.909Z"
   },
   {
    "duration": 20,
    "start_time": "2022-12-11T12:07:26.915Z"
   },
   {
    "duration": 55,
    "start_time": "2022-12-11T12:07:26.937Z"
   },
   {
    "duration": 288,
    "start_time": "2022-12-11T12:07:26.993Z"
   },
   {
    "duration": 192,
    "start_time": "2022-12-11T12:07:27.287Z"
   },
   {
    "duration": 5,
    "start_time": "2022-12-11T12:07:27.481Z"
   },
   {
    "duration": 99,
    "start_time": "2022-12-11T12:07:27.487Z"
   },
   {
    "duration": 6,
    "start_time": "2022-12-11T12:07:27.587Z"
   },
   {
    "duration": 22,
    "start_time": "2022-12-11T12:07:27.594Z"
   },
   {
    "duration": 15,
    "start_time": "2022-12-11T12:07:27.618Z"
   },
   {
    "duration": 14,
    "start_time": "2022-12-11T12:07:27.635Z"
   },
   {
    "duration": 1119,
    "start_time": "2022-12-11T12:07:27.651Z"
   },
   {
    "duration": 1036,
    "start_time": "2022-12-11T12:07:28.773Z"
   },
   {
    "duration": 1091,
    "start_time": "2022-12-11T12:07:29.811Z"
   },
   {
    "duration": 44,
    "start_time": "2022-12-11T12:08:43.665Z"
   },
   {
    "duration": 54,
    "start_time": "2022-12-11T12:12:35.668Z"
   },
   {
    "duration": 48,
    "start_time": "2022-12-11T12:14:11.954Z"
   },
   {
    "duration": 1538,
    "start_time": "2022-12-11T12:14:49.037Z"
   },
   {
    "duration": 3,
    "start_time": "2022-12-11T12:14:50.580Z"
   },
   {
    "duration": 420,
    "start_time": "2022-12-11T12:14:50.584Z"
   },
   {
    "duration": 29,
    "start_time": "2022-12-11T12:14:51.006Z"
   },
   {
    "duration": 19,
    "start_time": "2022-12-11T12:14:51.037Z"
   },
   {
    "duration": 136,
    "start_time": "2022-12-11T12:14:51.059Z"
   },
   {
    "duration": 41,
    "start_time": "2022-12-11T12:14:51.196Z"
   },
   {
    "duration": 3,
    "start_time": "2022-12-11T12:14:51.239Z"
   },
   {
    "duration": 1057,
    "start_time": "2022-12-11T12:14:51.243Z"
   },
   {
    "duration": 1017,
    "start_time": "2022-12-11T12:14:52.302Z"
   },
   {
    "duration": 1160,
    "start_time": "2022-12-11T12:14:53.321Z"
   },
   {
    "duration": 61,
    "start_time": "2022-12-11T12:14:54.483Z"
   },
   {
    "duration": 41,
    "start_time": "2022-12-11T12:14:54.548Z"
   },
   {
    "duration": 24,
    "start_time": "2022-12-11T12:14:54.591Z"
   },
   {
    "duration": 23,
    "start_time": "2022-12-11T12:14:54.617Z"
   },
   {
    "duration": 37,
    "start_time": "2022-12-11T12:14:54.641Z"
   },
   {
    "duration": 20,
    "start_time": "2022-12-11T12:14:54.680Z"
   },
   {
    "duration": 6,
    "start_time": "2022-12-11T12:14:54.702Z"
   },
   {
    "duration": 24,
    "start_time": "2022-12-11T12:14:54.710Z"
   },
   {
    "duration": 152,
    "start_time": "2022-12-11T12:14:54.736Z"
   },
   {
    "duration": 188,
    "start_time": "2022-12-11T12:14:54.891Z"
   },
   {
    "duration": 198,
    "start_time": "2022-12-11T12:14:55.081Z"
   },
   {
    "duration": 3,
    "start_time": "2022-12-11T12:14:55.281Z"
   },
   {
    "duration": 99,
    "start_time": "2022-12-11T12:14:55.286Z"
   },
   {
    "duration": 5,
    "start_time": "2022-12-11T12:14:55.388Z"
   },
   {
    "duration": 32,
    "start_time": "2022-12-11T12:14:55.396Z"
   },
   {
    "duration": 22,
    "start_time": "2022-12-11T12:14:55.431Z"
   },
   {
    "duration": 40,
    "start_time": "2022-12-11T12:14:55.456Z"
   },
   {
    "duration": 1107,
    "start_time": "2022-12-11T12:14:55.498Z"
   },
   {
    "duration": 1053,
    "start_time": "2022-12-11T12:14:56.607Z"
   },
   {
    "duration": 1122,
    "start_time": "2022-12-11T12:14:57.663Z"
   }
  ],
  "kernelspec": {
   "display_name": "Python 3 (ipykernel)",
   "language": "python",
   "name": "python3"
  },
  "language_info": {
   "codemirror_mode": {
    "name": "ipython",
    "version": 3
   },
   "file_extension": ".py",
   "mimetype": "text/x-python",
   "name": "python",
   "nbconvert_exporter": "python",
   "pygments_lexer": "ipython3",
   "version": "3.9.12"
  },
  "toc": {
   "base_numbering": 1,
   "nav_menu": {},
   "number_sections": true,
   "sideBar": true,
   "skip_h1_title": true,
   "title_cell": "Table of Contents",
   "title_sidebar": "Contents",
   "toc_cell": false,
   "toc_position": {},
   "toc_section_display": true,
   "toc_window_display": false
  }
 },
 "nbformat": 4,
 "nbformat_minor": 2
}
