{
 "cells": [
  {
   "cell_type": "markdown",
   "metadata": {
    "toc": true
   },
   "source": [
    "<h1>Содержание<span class=\"tocSkip\"></span></h1>\n",
    "<div class=\"toc\"><ul class=\"toc-item\"><li><span><a href=\"#Подготовка-данных\" data-toc-modified-id=\"Подготовка-данных-1\"><span class=\"toc-item-num\">1&nbsp;&nbsp;</span>Подготовка данных</a></span><ul class=\"toc-item\"><li><span><a href=\"#Описание-проекта\" data-toc-modified-id=\"Описание-проекта-1.1\"><span class=\"toc-item-num\">1.1&nbsp;&nbsp;</span>Описание проекта</a></span></li><li><span><a href=\"#Проверьте,-что-эффективность-обогащения-рассчитана-правильно.-Вычислите-её-на-обучающей-выборке-для-признака-rougher.output.recovery.-Найдите-MAE-между-вашими-расчётами-и-значением-признака.-Опишите-выводы.\" data-toc-modified-id=\"Проверьте,-что-эффективность-обогащения-рассчитана-правильно.-Вычислите-её-на-обучающей-выборке-для-признака-rougher.output.recovery.-Найдите-MAE-между-вашими-расчётами-и-значением-признака.-Опишите-выводы.-1.2\"><span class=\"toc-item-num\">1.2&nbsp;&nbsp;</span>Проверьте, что эффективность обогащения рассчитана правильно. Вычислите её на обучающей выборке для признака rougher.output.recovery. Найдите MAE между вашими расчётами и значением признака. Опишите выводы.</a></span></li><li><span><a href=\"#Проанализируйте-признаки,-недоступные-в-тестовой-выборке.-Что-это-за-параметры?-К-какому-типу-относятся?\" data-toc-modified-id=\"Проанализируйте-признаки,-недоступные-в-тестовой-выборке.-Что-это-за-параметры?-К-какому-типу-относятся?-1.3\"><span class=\"toc-item-num\">1.3&nbsp;&nbsp;</span>Проанализируйте признаки, недоступные в тестовой выборке. Что это за параметры? К какому типу относятся?</a></span></li><li><span><a href=\"#Проведите-предобработку-данных\" data-toc-modified-id=\"Проведите-предобработку-данных-1.4\"><span class=\"toc-item-num\">1.4&nbsp;&nbsp;</span>Проведите предобработку данных</a></span></li></ul></li><li><span><a href=\"#Анализ-данных\" data-toc-modified-id=\"Анализ-данных-2\"><span class=\"toc-item-num\">2&nbsp;&nbsp;</span>Анализ данных</a></span><ul class=\"toc-item\"><li><span><a href=\"#2.1-Посмотрите,-как-меняется-концентрация-металлов-(Au,-Ag,-Pb)-на-различных-этапах-очистки.-Опишите-выводы.\" data-toc-modified-id=\"2.1-Посмотрите,-как-меняется-концентрация-металлов-(Au,-Ag,-Pb)-на-различных-этапах-очистки.-Опишите-выводы.-2.1\"><span class=\"toc-item-num\">2.1&nbsp;&nbsp;</span>2.1 Посмотрите, как меняется концентрация металлов (Au, Ag, Pb) на различных этапах очистки. Опишите выводы.</a></span></li><li><span><a href=\"#Сравните-распределения-размеров-гранул-сырья-на-обучающей-и-тестовой-выборках.-Если-распределения-сильно-отличаются-друг-от-друга,-оценка-модели-будет-неправильной.\" data-toc-modified-id=\"Сравните-распределения-размеров-гранул-сырья-на-обучающей-и-тестовой-выборках.-Если-распределения-сильно-отличаются-друг-от-друга,-оценка-модели-будет-неправильной.-2.2\"><span class=\"toc-item-num\">2.2&nbsp;&nbsp;</span>Сравните распределения размеров гранул сырья на обучающей и тестовой выборках. Если распределения сильно отличаются друг от друга, оценка модели будет неправильной.</a></span></li><li><span><a href=\"#Исследуйте-суммарную-концентрацию-всех-веществ-на-разных-стадиях:-в-сырье,-в-черновом-и-финальном-концентратах.\" data-toc-modified-id=\"Исследуйте-суммарную-концентрацию-всех-веществ-на-разных-стадиях:-в-сырье,-в-черновом-и-финальном-концентратах.-2.3\"><span class=\"toc-item-num\">2.3&nbsp;&nbsp;</span>Исследуйте суммарную концентрацию всех веществ на разных стадиях: в сырье, в черновом и финальном концентратах.</a></span></li></ul></li><li><span><a href=\"#Модель\" data-toc-modified-id=\"Модель-3\"><span class=\"toc-item-num\">3&nbsp;&nbsp;</span>Модель</a></span><ul class=\"toc-item\"><li><span><a href=\"#Напишите-функцию-для-вычисления-итоговой-sMAPE\" data-toc-modified-id=\"Напишите-функцию-для-вычисления-итоговой-sMAPE-3.1\"><span class=\"toc-item-num\">3.1&nbsp;&nbsp;</span>Напишите функцию для вычисления итоговой sMAPE</a></span></li><li><span><a href=\"#Обучите-разные-модели-и-оцените-их-качество-кросс-валидацией.-Выберите-лучшую-модель-и-проверьте-её-на-тестовой-выборке.-Опишите-выводы.\" data-toc-modified-id=\"Обучите-разные-модели-и-оцените-их-качество-кросс-валидацией.-Выберите-лучшую-модель-и-проверьте-её-на-тестовой-выборке.-Опишите-выводы.-3.2\"><span class=\"toc-item-num\">3.2&nbsp;&nbsp;</span>Обучите разные модели и оцените их качество кросс-валидацией. Выберите лучшую модель и проверьте её на тестовой выборке. Опишите выводы.</a></span></li></ul></li><li><span><a href=\"#Чек-лист-готовности-проекта\" data-toc-modified-id=\"Чек-лист-готовности-проекта-4\"><span class=\"toc-item-num\">4&nbsp;&nbsp;</span>Чек-лист готовности проекта</a></span></li></ul></div>"
   ]
  },
  {
   "cell_type": "markdown",
   "metadata": {},
   "source": [
    "# Восстановление золота из руды"
   ]
  },
  {
   "cell_type": "markdown",
   "metadata": {},
   "source": [
    "Подготовьте прототип модели машинного обучения для «Цифры». Компания разрабатывает решения для эффективной работы промышленных предприятий.\n",
    "\n",
    "Модель должна предсказать коэффициент восстановления золота из золотосодержащей руды. Используйте данные с параметрами добычи и очистки. \n",
    "\n",
    "Модель поможет оптимизировать производство, чтобы не запускать предприятие с убыточными характеристиками.\n",
    "\n",
    "Вам нужно:\n",
    "\n",
    "1. Подготовить данные;\n",
    "2. Провести исследовательский анализ данных;\n",
    "3. Построить и обучить модель.\n",
    "\n",
    "Чтобы выполнить проект, обращайтесь к библиотекам *pandas*, *matplotlib* и *sklearn.* Вам поможет их документация."
   ]
  },
  {
   "cell_type": "markdown",
   "metadata": {},
   "source": [
    "## Подготовка данных"
   ]
  },
  {
   "cell_type": "markdown",
   "metadata": {},
   "source": [
    "### Описание проекта"
   ]
  },
  {
   "cell_type": "markdown",
   "metadata": {},
   "source": [
    "Данные находятся в трёх файлах:\n",
    "* gold_recovery_train_new.csv — обучающая выборка;\n",
    "* gold_recovery_test_new.csv — тестовая выборка;\n",
    "* gold_recovery_full_new.csv — исходные данные.\n",
    "\n",
    "Данные индексируются датой и временем получения информации (признак date). Соседние по времени параметры часто похожи.\n",
    "Исходный датасет содержит обучающую и тестовую выборки со всеми признаками.<br>\n",
    "Некоторые параметры недоступны, потому что замеряются и/или рассчитываются значительно позже. Из-за этого в тестовой выборке отсутствуют некоторые признаки, которые могут быть в обучающей. Также в тестовом наборе нет целевых признаков.\n",
    "Исходный датасет содержит обучающую и тестовую выборки со всеми признаками.<br>\n",
    "В вашем распоряжении сырые данные: их просто выгрузили из хранилища. Прежде чем приступить к построению модели, проверьте по нашей инструкции их на корректность."
   ]
  },
  {
   "cell_type": "markdown",
   "metadata": {},
   "source": [
    "Для ознакомления неоходимо посмотреть видео: <br>\n",
    "<iframe width=\"560\" height=\"315\" src=\"https://www.youtube.com/embed/BY9d1MC6qLs\" title=\"YouTube video player\" frameborder=\"0\" allow=\"accelerometer; autoplay; clipboard-write; encrypted-media; gyroscope; picture-in-picture\" allowfullscreen></iframe>"
   ]
  },
  {
   "cell_type": "code",
   "execution_count": 1,
   "metadata": {},
   "outputs": [],
   "source": [
    "# Загрузим необходимые библиотеки\n",
    "import pandas as pd\n",
    "import numpy as np\n",
    "import matplotlib.pyplot as plt\n",
    "import seaborn as sns\n",
    "import os\n",
    "\n",
    "from sklearn.preprocessing import StandardScaler\n",
    "from sklearn.metrics import mean_absolute_error, make_scorer\n",
    "from sklearn.model_selection import GridSearchCV, KFold\n",
    "\n",
    "from sklearn.tree import DecisionTreeRegressor\n",
    "from sklearn.ensemble import RandomForestRegressor\n",
    "from sklearn.linear_model import LinearRegression \n",
    "from sklearn.dummy import DummyRegressor \n",
    "\n",
    "from tqdm import tqdm\n",
    "import warnings\n",
    "warnings.filterwarnings('ignore')"
   ]
  },
  {
   "cell_type": "code",
   "execution_count": 2,
   "metadata": {},
   "outputs": [],
   "source": [
    "# Добавим глобальных переменных\n",
    "RS = 42 # random_state=42"
   ]
  },
  {
   "cell_type": "code",
   "execution_count": 3,
   "metadata": {},
   "outputs": [],
   "source": [
    "# загрузим данные в датасреймы\n",
    "\n",
    "# относительные адреса\n",
    "pth_local_full = '/datasets/gold_recovery_train_new.csv'\n",
    "pth_local_train = '/datasets/gold_recovery_test_new.csv'\n",
    "pth_local_test = '/datasets/gold_recovery_full_new.csv'\n",
    "\n",
    "# Локальные адреса\n",
    "pth_abs_full = 'https://code.s3.yandex.net/datasets/gold_recovery_full_new.csv'\n",
    "pth_abs_train = 'https://code.s3.yandex.net/datasets/gold_recovery_train_new.csv'\n",
    "pth_abs_test = 'https://code.s3.yandex.net/datasets/gold_recovery_test_new.csv'\n"
   ]
  },
  {
   "cell_type": "code",
   "execution_count": 4,
   "metadata": {},
   "outputs": [],
   "source": [
    "if os.path.exists(pth_local_full):\n",
    "    data_full = pd.read_csv(pth_local_full)\n",
    "elif os.path.exists(pth_abs_full):\n",
    "    data_full = pd.read_csv(pth_abs_full)\n",
    "else:\n",
    "    print('Something is wrong1')\n",
    "\n",
    "\n",
    "if os.path.exists(pth_local_train):\n",
    "    data_train = pd.read_csv(pth_local_train)\n",
    "elif os.path.exists(pth_abs_train):\n",
    "    data_train = pd.read_csv(pth_abs_train)\n",
    "else:\n",
    "    print('Something is wrong2')\n",
    "       \n",
    "    \n",
    "if os.path.exists(pth_local_test):\n",
    "    data_test = pd.read_csv(pth_local_test)\n",
    "elif os.path.exists(pth_abs_test):\n",
    "    data_test = pd.read_csv(pth_abs_test)\n",
    "else:\n",
    "    print('Something is wrong3')"
   ]
  },
  {
   "cell_type": "code",
   "execution_count": 5,
   "metadata": {},
   "outputs": [],
   "source": [
    "data_train = pd.read_csv('https://code.s3.yandex.net/datasets/gold_recovery_train_new.csv')\n",
    "data_full = pd.read_csv('https://code.s3.yandex.net/datasets/gold_recovery_full_new.csv')\n",
    "data_test = pd.read_csv('https://code.s3.yandex.net/datasets/gold_recovery_test_new.csv')"
   ]
  },
  {
   "cell_type": "code",
   "execution_count": 6,
   "metadata": {},
   "outputs": [
    {
     "data": {
      "text/html": [
       "<div>\n",
       "<style scoped>\n",
       "    .dataframe tbody tr th:only-of-type {\n",
       "        vertical-align: middle;\n",
       "    }\n",
       "\n",
       "    .dataframe tbody tr th {\n",
       "        vertical-align: top;\n",
       "    }\n",
       "\n",
       "    .dataframe thead th {\n",
       "        text-align: right;\n",
       "    }\n",
       "</style>\n",
       "<table border=\"1\" class=\"dataframe\">\n",
       "  <thead>\n",
       "    <tr style=\"text-align: right;\">\n",
       "      <th></th>\n",
       "      <th>date</th>\n",
       "      <th>final.output.concentrate_ag</th>\n",
       "      <th>final.output.concentrate_pb</th>\n",
       "      <th>final.output.concentrate_sol</th>\n",
       "      <th>final.output.concentrate_au</th>\n",
       "      <th>final.output.recovery</th>\n",
       "      <th>final.output.tail_ag</th>\n",
       "      <th>final.output.tail_pb</th>\n",
       "      <th>final.output.tail_sol</th>\n",
       "      <th>final.output.tail_au</th>\n",
       "      <th>...</th>\n",
       "      <th>secondary_cleaner.state.floatbank4_a_air</th>\n",
       "      <th>secondary_cleaner.state.floatbank4_a_level</th>\n",
       "      <th>secondary_cleaner.state.floatbank4_b_air</th>\n",
       "      <th>secondary_cleaner.state.floatbank4_b_level</th>\n",
       "      <th>secondary_cleaner.state.floatbank5_a_air</th>\n",
       "      <th>secondary_cleaner.state.floatbank5_a_level</th>\n",
       "      <th>secondary_cleaner.state.floatbank5_b_air</th>\n",
       "      <th>secondary_cleaner.state.floatbank5_b_level</th>\n",
       "      <th>secondary_cleaner.state.floatbank6_a_air</th>\n",
       "      <th>secondary_cleaner.state.floatbank6_a_level</th>\n",
       "    </tr>\n",
       "  </thead>\n",
       "  <tbody>\n",
       "    <tr>\n",
       "      <th>0</th>\n",
       "      <td>2016-01-15 00:00:00</td>\n",
       "      <td>6.055403</td>\n",
       "      <td>9.889648</td>\n",
       "      <td>5.507324</td>\n",
       "      <td>42.192020</td>\n",
       "      <td>70.541216</td>\n",
       "      <td>10.411962</td>\n",
       "      <td>0.895447</td>\n",
       "      <td>16.904297</td>\n",
       "      <td>2.143149</td>\n",
       "      <td>...</td>\n",
       "      <td>14.016835</td>\n",
       "      <td>-502.488007</td>\n",
       "      <td>12.099931</td>\n",
       "      <td>-504.715942</td>\n",
       "      <td>9.925633</td>\n",
       "      <td>-498.310211</td>\n",
       "      <td>8.079666</td>\n",
       "      <td>-500.470978</td>\n",
       "      <td>14.151341</td>\n",
       "      <td>-605.841980</td>\n",
       "    </tr>\n",
       "    <tr>\n",
       "      <th>1</th>\n",
       "      <td>2016-01-15 01:00:00</td>\n",
       "      <td>6.029369</td>\n",
       "      <td>9.968944</td>\n",
       "      <td>5.257781</td>\n",
       "      <td>42.701629</td>\n",
       "      <td>69.266198</td>\n",
       "      <td>10.462676</td>\n",
       "      <td>0.927452</td>\n",
       "      <td>16.634514</td>\n",
       "      <td>2.224930</td>\n",
       "      <td>...</td>\n",
       "      <td>13.992281</td>\n",
       "      <td>-505.503262</td>\n",
       "      <td>11.950531</td>\n",
       "      <td>-501.331529</td>\n",
       "      <td>10.039245</td>\n",
       "      <td>-500.169983</td>\n",
       "      <td>7.984757</td>\n",
       "      <td>-500.582168</td>\n",
       "      <td>13.998353</td>\n",
       "      <td>-599.787184</td>\n",
       "    </tr>\n",
       "    <tr>\n",
       "      <th>2</th>\n",
       "      <td>2016-01-15 02:00:00</td>\n",
       "      <td>6.055926</td>\n",
       "      <td>10.213995</td>\n",
       "      <td>5.383759</td>\n",
       "      <td>42.657501</td>\n",
       "      <td>68.116445</td>\n",
       "      <td>10.507046</td>\n",
       "      <td>0.953716</td>\n",
       "      <td>16.208849</td>\n",
       "      <td>2.257889</td>\n",
       "      <td>...</td>\n",
       "      <td>14.015015</td>\n",
       "      <td>-502.520901</td>\n",
       "      <td>11.912783</td>\n",
       "      <td>-501.133383</td>\n",
       "      <td>10.070913</td>\n",
       "      <td>-500.129135</td>\n",
       "      <td>8.013877</td>\n",
       "      <td>-500.517572</td>\n",
       "      <td>14.028663</td>\n",
       "      <td>-601.427363</td>\n",
       "    </tr>\n",
       "    <tr>\n",
       "      <th>3</th>\n",
       "      <td>2016-01-15 03:00:00</td>\n",
       "      <td>6.047977</td>\n",
       "      <td>9.977019</td>\n",
       "      <td>4.858634</td>\n",
       "      <td>42.689819</td>\n",
       "      <td>68.347543</td>\n",
       "      <td>10.422762</td>\n",
       "      <td>0.883763</td>\n",
       "      <td>16.532835</td>\n",
       "      <td>2.146849</td>\n",
       "      <td>...</td>\n",
       "      <td>14.036510</td>\n",
       "      <td>-500.857308</td>\n",
       "      <td>11.999550</td>\n",
       "      <td>-501.193686</td>\n",
       "      <td>9.970366</td>\n",
       "      <td>-499.201640</td>\n",
       "      <td>7.977324</td>\n",
       "      <td>-500.255908</td>\n",
       "      <td>14.005551</td>\n",
       "      <td>-599.996129</td>\n",
       "    </tr>\n",
       "    <tr>\n",
       "      <th>4</th>\n",
       "      <td>2016-01-15 04:00:00</td>\n",
       "      <td>6.148599</td>\n",
       "      <td>10.142511</td>\n",
       "      <td>4.939416</td>\n",
       "      <td>42.774141</td>\n",
       "      <td>66.927016</td>\n",
       "      <td>10.360302</td>\n",
       "      <td>0.792826</td>\n",
       "      <td>16.525686</td>\n",
       "      <td>2.055292</td>\n",
       "      <td>...</td>\n",
       "      <td>14.027298</td>\n",
       "      <td>-499.838632</td>\n",
       "      <td>11.953070</td>\n",
       "      <td>-501.053894</td>\n",
       "      <td>9.925709</td>\n",
       "      <td>-501.686727</td>\n",
       "      <td>7.894242</td>\n",
       "      <td>-500.356035</td>\n",
       "      <td>13.996647</td>\n",
       "      <td>-601.496691</td>\n",
       "    </tr>\n",
       "  </tbody>\n",
       "</table>\n",
       "<p>5 rows × 87 columns</p>\n",
       "</div>"
      ],
      "text/plain": [
       "                  date  final.output.concentrate_ag  \\\n",
       "0  2016-01-15 00:00:00                     6.055403   \n",
       "1  2016-01-15 01:00:00                     6.029369   \n",
       "2  2016-01-15 02:00:00                     6.055926   \n",
       "3  2016-01-15 03:00:00                     6.047977   \n",
       "4  2016-01-15 04:00:00                     6.148599   \n",
       "\n",
       "   final.output.concentrate_pb  final.output.concentrate_sol  \\\n",
       "0                     9.889648                      5.507324   \n",
       "1                     9.968944                      5.257781   \n",
       "2                    10.213995                      5.383759   \n",
       "3                     9.977019                      4.858634   \n",
       "4                    10.142511                      4.939416   \n",
       "\n",
       "   final.output.concentrate_au  final.output.recovery  final.output.tail_ag  \\\n",
       "0                    42.192020              70.541216             10.411962   \n",
       "1                    42.701629              69.266198             10.462676   \n",
       "2                    42.657501              68.116445             10.507046   \n",
       "3                    42.689819              68.347543             10.422762   \n",
       "4                    42.774141              66.927016             10.360302   \n",
       "\n",
       "   final.output.tail_pb  final.output.tail_sol  final.output.tail_au  ...  \\\n",
       "0              0.895447              16.904297              2.143149  ...   \n",
       "1              0.927452              16.634514              2.224930  ...   \n",
       "2              0.953716              16.208849              2.257889  ...   \n",
       "3              0.883763              16.532835              2.146849  ...   \n",
       "4              0.792826              16.525686              2.055292  ...   \n",
       "\n",
       "   secondary_cleaner.state.floatbank4_a_air  \\\n",
       "0                                 14.016835   \n",
       "1                                 13.992281   \n",
       "2                                 14.015015   \n",
       "3                                 14.036510   \n",
       "4                                 14.027298   \n",
       "\n",
       "   secondary_cleaner.state.floatbank4_a_level  \\\n",
       "0                                 -502.488007   \n",
       "1                                 -505.503262   \n",
       "2                                 -502.520901   \n",
       "3                                 -500.857308   \n",
       "4                                 -499.838632   \n",
       "\n",
       "   secondary_cleaner.state.floatbank4_b_air  \\\n",
       "0                                 12.099931   \n",
       "1                                 11.950531   \n",
       "2                                 11.912783   \n",
       "3                                 11.999550   \n",
       "4                                 11.953070   \n",
       "\n",
       "   secondary_cleaner.state.floatbank4_b_level  \\\n",
       "0                                 -504.715942   \n",
       "1                                 -501.331529   \n",
       "2                                 -501.133383   \n",
       "3                                 -501.193686   \n",
       "4                                 -501.053894   \n",
       "\n",
       "   secondary_cleaner.state.floatbank5_a_air  \\\n",
       "0                                  9.925633   \n",
       "1                                 10.039245   \n",
       "2                                 10.070913   \n",
       "3                                  9.970366   \n",
       "4                                  9.925709   \n",
       "\n",
       "   secondary_cleaner.state.floatbank5_a_level  \\\n",
       "0                                 -498.310211   \n",
       "1                                 -500.169983   \n",
       "2                                 -500.129135   \n",
       "3                                 -499.201640   \n",
       "4                                 -501.686727   \n",
       "\n",
       "   secondary_cleaner.state.floatbank5_b_air  \\\n",
       "0                                  8.079666   \n",
       "1                                  7.984757   \n",
       "2                                  8.013877   \n",
       "3                                  7.977324   \n",
       "4                                  7.894242   \n",
       "\n",
       "   secondary_cleaner.state.floatbank5_b_level  \\\n",
       "0                                 -500.470978   \n",
       "1                                 -500.582168   \n",
       "2                                 -500.517572   \n",
       "3                                 -500.255908   \n",
       "4                                 -500.356035   \n",
       "\n",
       "   secondary_cleaner.state.floatbank6_a_air  \\\n",
       "0                                 14.151341   \n",
       "1                                 13.998353   \n",
       "2                                 14.028663   \n",
       "3                                 14.005551   \n",
       "4                                 13.996647   \n",
       "\n",
       "   secondary_cleaner.state.floatbank6_a_level  \n",
       "0                                 -605.841980  \n",
       "1                                 -599.787184  \n",
       "2                                 -601.427363  \n",
       "3                                 -599.996129  \n",
       "4                                 -601.496691  \n",
       "\n",
       "[5 rows x 87 columns]"
      ]
     },
     "metadata": {},
     "output_type": "display_data"
    },
    {
     "data": {
      "text/plain": [
       "'Количество пропусков в датасете: '"
      ]
     },
     "metadata": {},
     "output_type": "display_data"
    },
    {
     "data": {
      "text/plain": [
       "4481"
      ]
     },
     "metadata": {},
     "output_type": "display_data"
    },
    {
     "data": {
      "text/html": [
       "<div>\n",
       "<style scoped>\n",
       "    .dataframe tbody tr th:only-of-type {\n",
       "        vertical-align: middle;\n",
       "    }\n",
       "\n",
       "    .dataframe tbody tr th {\n",
       "        vertical-align: top;\n",
       "    }\n",
       "\n",
       "    .dataframe thead th {\n",
       "        text-align: right;\n",
       "    }\n",
       "</style>\n",
       "<table border=\"1\" class=\"dataframe\">\n",
       "  <thead>\n",
       "    <tr style=\"text-align: right;\">\n",
       "      <th></th>\n",
       "      <th>date</th>\n",
       "      <th>final.output.concentrate_ag</th>\n",
       "      <th>final.output.concentrate_pb</th>\n",
       "      <th>final.output.concentrate_sol</th>\n",
       "      <th>final.output.concentrate_au</th>\n",
       "      <th>final.output.recovery</th>\n",
       "      <th>final.output.tail_ag</th>\n",
       "      <th>final.output.tail_pb</th>\n",
       "      <th>final.output.tail_sol</th>\n",
       "      <th>final.output.tail_au</th>\n",
       "      <th>...</th>\n",
       "      <th>secondary_cleaner.state.floatbank4_a_air</th>\n",
       "      <th>secondary_cleaner.state.floatbank4_a_level</th>\n",
       "      <th>secondary_cleaner.state.floatbank4_b_air</th>\n",
       "      <th>secondary_cleaner.state.floatbank4_b_level</th>\n",
       "      <th>secondary_cleaner.state.floatbank5_a_air</th>\n",
       "      <th>secondary_cleaner.state.floatbank5_a_level</th>\n",
       "      <th>secondary_cleaner.state.floatbank5_b_air</th>\n",
       "      <th>secondary_cleaner.state.floatbank5_b_level</th>\n",
       "      <th>secondary_cleaner.state.floatbank6_a_air</th>\n",
       "      <th>secondary_cleaner.state.floatbank6_a_level</th>\n",
       "    </tr>\n",
       "  </thead>\n",
       "  <tbody>\n",
       "    <tr>\n",
       "      <th>0</th>\n",
       "      <td>2016-01-15 00:00:00</td>\n",
       "      <td>6.055403</td>\n",
       "      <td>9.889648</td>\n",
       "      <td>5.507324</td>\n",
       "      <td>42.192020</td>\n",
       "      <td>70.541216</td>\n",
       "      <td>10.411962</td>\n",
       "      <td>0.895447</td>\n",
       "      <td>16.904297</td>\n",
       "      <td>2.143149</td>\n",
       "      <td>...</td>\n",
       "      <td>14.016835</td>\n",
       "      <td>-502.488007</td>\n",
       "      <td>12.099931</td>\n",
       "      <td>-504.715942</td>\n",
       "      <td>9.925633</td>\n",
       "      <td>-498.310211</td>\n",
       "      <td>8.079666</td>\n",
       "      <td>-500.470978</td>\n",
       "      <td>14.151341</td>\n",
       "      <td>-605.841980</td>\n",
       "    </tr>\n",
       "    <tr>\n",
       "      <th>1</th>\n",
       "      <td>2016-01-15 01:00:00</td>\n",
       "      <td>6.029369</td>\n",
       "      <td>9.968944</td>\n",
       "      <td>5.257781</td>\n",
       "      <td>42.701629</td>\n",
       "      <td>69.266198</td>\n",
       "      <td>10.462676</td>\n",
       "      <td>0.927452</td>\n",
       "      <td>16.634514</td>\n",
       "      <td>2.224930</td>\n",
       "      <td>...</td>\n",
       "      <td>13.992281</td>\n",
       "      <td>-505.503262</td>\n",
       "      <td>11.950531</td>\n",
       "      <td>-501.331529</td>\n",
       "      <td>10.039245</td>\n",
       "      <td>-500.169983</td>\n",
       "      <td>7.984757</td>\n",
       "      <td>-500.582168</td>\n",
       "      <td>13.998353</td>\n",
       "      <td>-599.787184</td>\n",
       "    </tr>\n",
       "    <tr>\n",
       "      <th>2</th>\n",
       "      <td>2016-01-15 02:00:00</td>\n",
       "      <td>6.055926</td>\n",
       "      <td>10.213995</td>\n",
       "      <td>5.383759</td>\n",
       "      <td>42.657501</td>\n",
       "      <td>68.116445</td>\n",
       "      <td>10.507046</td>\n",
       "      <td>0.953716</td>\n",
       "      <td>16.208849</td>\n",
       "      <td>2.257889</td>\n",
       "      <td>...</td>\n",
       "      <td>14.015015</td>\n",
       "      <td>-502.520901</td>\n",
       "      <td>11.912783</td>\n",
       "      <td>-501.133383</td>\n",
       "      <td>10.070913</td>\n",
       "      <td>-500.129135</td>\n",
       "      <td>8.013877</td>\n",
       "      <td>-500.517572</td>\n",
       "      <td>14.028663</td>\n",
       "      <td>-601.427363</td>\n",
       "    </tr>\n",
       "    <tr>\n",
       "      <th>3</th>\n",
       "      <td>2016-01-15 03:00:00</td>\n",
       "      <td>6.047977</td>\n",
       "      <td>9.977019</td>\n",
       "      <td>4.858634</td>\n",
       "      <td>42.689819</td>\n",
       "      <td>68.347543</td>\n",
       "      <td>10.422762</td>\n",
       "      <td>0.883763</td>\n",
       "      <td>16.532835</td>\n",
       "      <td>2.146849</td>\n",
       "      <td>...</td>\n",
       "      <td>14.036510</td>\n",
       "      <td>-500.857308</td>\n",
       "      <td>11.999550</td>\n",
       "      <td>-501.193686</td>\n",
       "      <td>9.970366</td>\n",
       "      <td>-499.201640</td>\n",
       "      <td>7.977324</td>\n",
       "      <td>-500.255908</td>\n",
       "      <td>14.005551</td>\n",
       "      <td>-599.996129</td>\n",
       "    </tr>\n",
       "    <tr>\n",
       "      <th>4</th>\n",
       "      <td>2016-01-15 04:00:00</td>\n",
       "      <td>6.148599</td>\n",
       "      <td>10.142511</td>\n",
       "      <td>4.939416</td>\n",
       "      <td>42.774141</td>\n",
       "      <td>66.927016</td>\n",
       "      <td>10.360302</td>\n",
       "      <td>0.792826</td>\n",
       "      <td>16.525686</td>\n",
       "      <td>2.055292</td>\n",
       "      <td>...</td>\n",
       "      <td>14.027298</td>\n",
       "      <td>-499.838632</td>\n",
       "      <td>11.953070</td>\n",
       "      <td>-501.053894</td>\n",
       "      <td>9.925709</td>\n",
       "      <td>-501.686727</td>\n",
       "      <td>7.894242</td>\n",
       "      <td>-500.356035</td>\n",
       "      <td>13.996647</td>\n",
       "      <td>-601.496691</td>\n",
       "    </tr>\n",
       "  </tbody>\n",
       "</table>\n",
       "<p>5 rows × 87 columns</p>\n",
       "</div>"
      ],
      "text/plain": [
       "                  date  final.output.concentrate_ag  \\\n",
       "0  2016-01-15 00:00:00                     6.055403   \n",
       "1  2016-01-15 01:00:00                     6.029369   \n",
       "2  2016-01-15 02:00:00                     6.055926   \n",
       "3  2016-01-15 03:00:00                     6.047977   \n",
       "4  2016-01-15 04:00:00                     6.148599   \n",
       "\n",
       "   final.output.concentrate_pb  final.output.concentrate_sol  \\\n",
       "0                     9.889648                      5.507324   \n",
       "1                     9.968944                      5.257781   \n",
       "2                    10.213995                      5.383759   \n",
       "3                     9.977019                      4.858634   \n",
       "4                    10.142511                      4.939416   \n",
       "\n",
       "   final.output.concentrate_au  final.output.recovery  final.output.tail_ag  \\\n",
       "0                    42.192020              70.541216             10.411962   \n",
       "1                    42.701629              69.266198             10.462676   \n",
       "2                    42.657501              68.116445             10.507046   \n",
       "3                    42.689819              68.347543             10.422762   \n",
       "4                    42.774141              66.927016             10.360302   \n",
       "\n",
       "   final.output.tail_pb  final.output.tail_sol  final.output.tail_au  ...  \\\n",
       "0              0.895447              16.904297              2.143149  ...   \n",
       "1              0.927452              16.634514              2.224930  ...   \n",
       "2              0.953716              16.208849              2.257889  ...   \n",
       "3              0.883763              16.532835              2.146849  ...   \n",
       "4              0.792826              16.525686              2.055292  ...   \n",
       "\n",
       "   secondary_cleaner.state.floatbank4_a_air  \\\n",
       "0                                 14.016835   \n",
       "1                                 13.992281   \n",
       "2                                 14.015015   \n",
       "3                                 14.036510   \n",
       "4                                 14.027298   \n",
       "\n",
       "   secondary_cleaner.state.floatbank4_a_level  \\\n",
       "0                                 -502.488007   \n",
       "1                                 -505.503262   \n",
       "2                                 -502.520901   \n",
       "3                                 -500.857308   \n",
       "4                                 -499.838632   \n",
       "\n",
       "   secondary_cleaner.state.floatbank4_b_air  \\\n",
       "0                                 12.099931   \n",
       "1                                 11.950531   \n",
       "2                                 11.912783   \n",
       "3                                 11.999550   \n",
       "4                                 11.953070   \n",
       "\n",
       "   secondary_cleaner.state.floatbank4_b_level  \\\n",
       "0                                 -504.715942   \n",
       "1                                 -501.331529   \n",
       "2                                 -501.133383   \n",
       "3                                 -501.193686   \n",
       "4                                 -501.053894   \n",
       "\n",
       "   secondary_cleaner.state.floatbank5_a_air  \\\n",
       "0                                  9.925633   \n",
       "1                                 10.039245   \n",
       "2                                 10.070913   \n",
       "3                                  9.970366   \n",
       "4                                  9.925709   \n",
       "\n",
       "   secondary_cleaner.state.floatbank5_a_level  \\\n",
       "0                                 -498.310211   \n",
       "1                                 -500.169983   \n",
       "2                                 -500.129135   \n",
       "3                                 -499.201640   \n",
       "4                                 -501.686727   \n",
       "\n",
       "   secondary_cleaner.state.floatbank5_b_air  \\\n",
       "0                                  8.079666   \n",
       "1                                  7.984757   \n",
       "2                                  8.013877   \n",
       "3                                  7.977324   \n",
       "4                                  7.894242   \n",
       "\n",
       "   secondary_cleaner.state.floatbank5_b_level  \\\n",
       "0                                 -500.470978   \n",
       "1                                 -500.582168   \n",
       "2                                 -500.517572   \n",
       "3                                 -500.255908   \n",
       "4                                 -500.356035   \n",
       "\n",
       "   secondary_cleaner.state.floatbank6_a_air  \\\n",
       "0                                 14.151341   \n",
       "1                                 13.998353   \n",
       "2                                 14.028663   \n",
       "3                                 14.005551   \n",
       "4                                 13.996647   \n",
       "\n",
       "   secondary_cleaner.state.floatbank6_a_level  \n",
       "0                                 -605.841980  \n",
       "1                                 -599.787184  \n",
       "2                                 -601.427363  \n",
       "3                                 -599.996129  \n",
       "4                                 -601.496691  \n",
       "\n",
       "[5 rows x 87 columns]"
      ]
     },
     "metadata": {},
     "output_type": "display_data"
    },
    {
     "data": {
      "text/plain": [
       "'Количество пропусков в датасете: '"
      ]
     },
     "metadata": {},
     "output_type": "display_data"
    },
    {
     "data": {
      "text/plain": [
       "4100"
      ]
     },
     "metadata": {},
     "output_type": "display_data"
    },
    {
     "data": {
      "text/html": [
       "<div>\n",
       "<style scoped>\n",
       "    .dataframe tbody tr th:only-of-type {\n",
       "        vertical-align: middle;\n",
       "    }\n",
       "\n",
       "    .dataframe tbody tr th {\n",
       "        vertical-align: top;\n",
       "    }\n",
       "\n",
       "    .dataframe thead th {\n",
       "        text-align: right;\n",
       "    }\n",
       "</style>\n",
       "<table border=\"1\" class=\"dataframe\">\n",
       "  <thead>\n",
       "    <tr style=\"text-align: right;\">\n",
       "      <th></th>\n",
       "      <th>date</th>\n",
       "      <th>primary_cleaner.input.sulfate</th>\n",
       "      <th>primary_cleaner.input.depressant</th>\n",
       "      <th>primary_cleaner.input.feed_size</th>\n",
       "      <th>primary_cleaner.input.xanthate</th>\n",
       "      <th>primary_cleaner.state.floatbank8_a_air</th>\n",
       "      <th>primary_cleaner.state.floatbank8_a_level</th>\n",
       "      <th>primary_cleaner.state.floatbank8_b_air</th>\n",
       "      <th>primary_cleaner.state.floatbank8_b_level</th>\n",
       "      <th>primary_cleaner.state.floatbank8_c_air</th>\n",
       "      <th>...</th>\n",
       "      <th>secondary_cleaner.state.floatbank4_a_air</th>\n",
       "      <th>secondary_cleaner.state.floatbank4_a_level</th>\n",
       "      <th>secondary_cleaner.state.floatbank4_b_air</th>\n",
       "      <th>secondary_cleaner.state.floatbank4_b_level</th>\n",
       "      <th>secondary_cleaner.state.floatbank5_a_air</th>\n",
       "      <th>secondary_cleaner.state.floatbank5_a_level</th>\n",
       "      <th>secondary_cleaner.state.floatbank5_b_air</th>\n",
       "      <th>secondary_cleaner.state.floatbank5_b_level</th>\n",
       "      <th>secondary_cleaner.state.floatbank6_a_air</th>\n",
       "      <th>secondary_cleaner.state.floatbank6_a_level</th>\n",
       "    </tr>\n",
       "  </thead>\n",
       "  <tbody>\n",
       "    <tr>\n",
       "      <th>0</th>\n",
       "      <td>2016-09-01 00:59:59</td>\n",
       "      <td>210.800909</td>\n",
       "      <td>14.993118</td>\n",
       "      <td>8.080000</td>\n",
       "      <td>1.005021</td>\n",
       "      <td>1398.981301</td>\n",
       "      <td>-500.225577</td>\n",
       "      <td>1399.144926</td>\n",
       "      <td>-499.919735</td>\n",
       "      <td>1400.102998</td>\n",
       "      <td>...</td>\n",
       "      <td>12.023554</td>\n",
       "      <td>-497.795834</td>\n",
       "      <td>8.016656</td>\n",
       "      <td>-501.289139</td>\n",
       "      <td>7.946562</td>\n",
       "      <td>-432.317850</td>\n",
       "      <td>4.872511</td>\n",
       "      <td>-500.037437</td>\n",
       "      <td>26.705889</td>\n",
       "      <td>-499.709414</td>\n",
       "    </tr>\n",
       "    <tr>\n",
       "      <th>1</th>\n",
       "      <td>2016-09-01 01:59:59</td>\n",
       "      <td>215.392455</td>\n",
       "      <td>14.987471</td>\n",
       "      <td>8.080000</td>\n",
       "      <td>0.990469</td>\n",
       "      <td>1398.777912</td>\n",
       "      <td>-500.057435</td>\n",
       "      <td>1398.055362</td>\n",
       "      <td>-499.778182</td>\n",
       "      <td>1396.151033</td>\n",
       "      <td>...</td>\n",
       "      <td>12.058140</td>\n",
       "      <td>-498.695773</td>\n",
       "      <td>8.130979</td>\n",
       "      <td>-499.634209</td>\n",
       "      <td>7.958270</td>\n",
       "      <td>-525.839648</td>\n",
       "      <td>4.878850</td>\n",
       "      <td>-500.162375</td>\n",
       "      <td>25.019940</td>\n",
       "      <td>-499.819438</td>\n",
       "    </tr>\n",
       "    <tr>\n",
       "      <th>2</th>\n",
       "      <td>2016-09-01 02:59:59</td>\n",
       "      <td>215.259946</td>\n",
       "      <td>12.884934</td>\n",
       "      <td>7.786667</td>\n",
       "      <td>0.996043</td>\n",
       "      <td>1398.493666</td>\n",
       "      <td>-500.868360</td>\n",
       "      <td>1398.860436</td>\n",
       "      <td>-499.764529</td>\n",
       "      <td>1398.075709</td>\n",
       "      <td>...</td>\n",
       "      <td>11.962366</td>\n",
       "      <td>-498.767484</td>\n",
       "      <td>8.096893</td>\n",
       "      <td>-500.827423</td>\n",
       "      <td>8.071056</td>\n",
       "      <td>-500.801673</td>\n",
       "      <td>4.905125</td>\n",
       "      <td>-499.828510</td>\n",
       "      <td>24.994862</td>\n",
       "      <td>-500.622559</td>\n",
       "    </tr>\n",
       "    <tr>\n",
       "      <th>3</th>\n",
       "      <td>2016-09-01 03:59:59</td>\n",
       "      <td>215.336236</td>\n",
       "      <td>12.006805</td>\n",
       "      <td>7.640000</td>\n",
       "      <td>0.863514</td>\n",
       "      <td>1399.618111</td>\n",
       "      <td>-498.863574</td>\n",
       "      <td>1397.440120</td>\n",
       "      <td>-499.211024</td>\n",
       "      <td>1400.129303</td>\n",
       "      <td>...</td>\n",
       "      <td>12.033091</td>\n",
       "      <td>-498.350935</td>\n",
       "      <td>8.074946</td>\n",
       "      <td>-499.474407</td>\n",
       "      <td>7.897085</td>\n",
       "      <td>-500.868509</td>\n",
       "      <td>4.931400</td>\n",
       "      <td>-499.963623</td>\n",
       "      <td>24.948919</td>\n",
       "      <td>-498.709987</td>\n",
       "    </tr>\n",
       "    <tr>\n",
       "      <th>4</th>\n",
       "      <td>2016-09-01 04:59:59</td>\n",
       "      <td>199.099327</td>\n",
       "      <td>10.682530</td>\n",
       "      <td>7.530000</td>\n",
       "      <td>0.805575</td>\n",
       "      <td>1401.268123</td>\n",
       "      <td>-500.808305</td>\n",
       "      <td>1398.128818</td>\n",
       "      <td>-499.504543</td>\n",
       "      <td>1402.172226</td>\n",
       "      <td>...</td>\n",
       "      <td>12.025367</td>\n",
       "      <td>-500.786497</td>\n",
       "      <td>8.054678</td>\n",
       "      <td>-500.397500</td>\n",
       "      <td>8.107890</td>\n",
       "      <td>-509.526725</td>\n",
       "      <td>4.957674</td>\n",
       "      <td>-500.360026</td>\n",
       "      <td>25.003331</td>\n",
       "      <td>-500.856333</td>\n",
       "    </tr>\n",
       "  </tbody>\n",
       "</table>\n",
       "<p>5 rows × 53 columns</p>\n",
       "</div>"
      ],
      "text/plain": [
       "                  date  primary_cleaner.input.sulfate  \\\n",
       "0  2016-09-01 00:59:59                     210.800909   \n",
       "1  2016-09-01 01:59:59                     215.392455   \n",
       "2  2016-09-01 02:59:59                     215.259946   \n",
       "3  2016-09-01 03:59:59                     215.336236   \n",
       "4  2016-09-01 04:59:59                     199.099327   \n",
       "\n",
       "   primary_cleaner.input.depressant  primary_cleaner.input.feed_size  \\\n",
       "0                         14.993118                         8.080000   \n",
       "1                         14.987471                         8.080000   \n",
       "2                         12.884934                         7.786667   \n",
       "3                         12.006805                         7.640000   \n",
       "4                         10.682530                         7.530000   \n",
       "\n",
       "   primary_cleaner.input.xanthate  primary_cleaner.state.floatbank8_a_air  \\\n",
       "0                        1.005021                             1398.981301   \n",
       "1                        0.990469                             1398.777912   \n",
       "2                        0.996043                             1398.493666   \n",
       "3                        0.863514                             1399.618111   \n",
       "4                        0.805575                             1401.268123   \n",
       "\n",
       "   primary_cleaner.state.floatbank8_a_level  \\\n",
       "0                               -500.225577   \n",
       "1                               -500.057435   \n",
       "2                               -500.868360   \n",
       "3                               -498.863574   \n",
       "4                               -500.808305   \n",
       "\n",
       "   primary_cleaner.state.floatbank8_b_air  \\\n",
       "0                             1399.144926   \n",
       "1                             1398.055362   \n",
       "2                             1398.860436   \n",
       "3                             1397.440120   \n",
       "4                             1398.128818   \n",
       "\n",
       "   primary_cleaner.state.floatbank8_b_level  \\\n",
       "0                               -499.919735   \n",
       "1                               -499.778182   \n",
       "2                               -499.764529   \n",
       "3                               -499.211024   \n",
       "4                               -499.504543   \n",
       "\n",
       "   primary_cleaner.state.floatbank8_c_air  ...  \\\n",
       "0                             1400.102998  ...   \n",
       "1                             1396.151033  ...   \n",
       "2                             1398.075709  ...   \n",
       "3                             1400.129303  ...   \n",
       "4                             1402.172226  ...   \n",
       "\n",
       "   secondary_cleaner.state.floatbank4_a_air  \\\n",
       "0                                 12.023554   \n",
       "1                                 12.058140   \n",
       "2                                 11.962366   \n",
       "3                                 12.033091   \n",
       "4                                 12.025367   \n",
       "\n",
       "   secondary_cleaner.state.floatbank4_a_level  \\\n",
       "0                                 -497.795834   \n",
       "1                                 -498.695773   \n",
       "2                                 -498.767484   \n",
       "3                                 -498.350935   \n",
       "4                                 -500.786497   \n",
       "\n",
       "   secondary_cleaner.state.floatbank4_b_air  \\\n",
       "0                                  8.016656   \n",
       "1                                  8.130979   \n",
       "2                                  8.096893   \n",
       "3                                  8.074946   \n",
       "4                                  8.054678   \n",
       "\n",
       "   secondary_cleaner.state.floatbank4_b_level  \\\n",
       "0                                 -501.289139   \n",
       "1                                 -499.634209   \n",
       "2                                 -500.827423   \n",
       "3                                 -499.474407   \n",
       "4                                 -500.397500   \n",
       "\n",
       "   secondary_cleaner.state.floatbank5_a_air  \\\n",
       "0                                  7.946562   \n",
       "1                                  7.958270   \n",
       "2                                  8.071056   \n",
       "3                                  7.897085   \n",
       "4                                  8.107890   \n",
       "\n",
       "   secondary_cleaner.state.floatbank5_a_level  \\\n",
       "0                                 -432.317850   \n",
       "1                                 -525.839648   \n",
       "2                                 -500.801673   \n",
       "3                                 -500.868509   \n",
       "4                                 -509.526725   \n",
       "\n",
       "   secondary_cleaner.state.floatbank5_b_air  \\\n",
       "0                                  4.872511   \n",
       "1                                  4.878850   \n",
       "2                                  4.905125   \n",
       "3                                  4.931400   \n",
       "4                                  4.957674   \n",
       "\n",
       "   secondary_cleaner.state.floatbank5_b_level  \\\n",
       "0                                 -500.037437   \n",
       "1                                 -500.162375   \n",
       "2                                 -499.828510   \n",
       "3                                 -499.963623   \n",
       "4                                 -500.360026   \n",
       "\n",
       "   secondary_cleaner.state.floatbank6_a_air  \\\n",
       "0                                 26.705889   \n",
       "1                                 25.019940   \n",
       "2                                 24.994862   \n",
       "3                                 24.948919   \n",
       "4                                 25.003331   \n",
       "\n",
       "   secondary_cleaner.state.floatbank6_a_level  \n",
       "0                                 -499.709414  \n",
       "1                                 -499.819438  \n",
       "2                                 -500.622559  \n",
       "3                                 -498.709987  \n",
       "4                                 -500.856333  \n",
       "\n",
       "[5 rows x 53 columns]"
      ]
     },
     "metadata": {},
     "output_type": "display_data"
    },
    {
     "data": {
      "text/plain": [
       "'Количество пропусков в датасете: '"
      ]
     },
     "metadata": {},
     "output_type": "display_data"
    },
    {
     "data": {
      "text/plain": [
       "90"
      ]
     },
     "metadata": {},
     "output_type": "display_data"
    }
   ],
   "source": [
    "#Проверим пропуски и типы данных по всем датафреймам:\n",
    "\n",
    "for data in (data_full, data_train, data_test):\n",
    "    display(data.head())                             # исследуем загруженные файлы методом пристального влзгляда\n",
    "    #display(data.info())\n",
    "    display('Количество пропусков в датасете: ', data.isna().sum().sum())"
   ]
  },
  {
   "cell_type": "markdown",
   "metadata": {},
   "source": [
    "Во всех датасетах различное кличество признаков и пропусков. Необходимо изучить это дополнительно."
   ]
  },
  {
   "cell_type": "markdown",
   "metadata": {},
   "source": [
    "### Проверьте, что эффективность обогащения рассчитана правильно. Вычислите её на обучающей выборке для признака rougher.output.recovery. Найдите MAE между вашими расчётами и значением признака. Опишите выводы."
   ]
  },
  {
   "cell_type": "markdown",
   "metadata": {},
   "source": [
    "Эффективность обогащения рассчитывается по формуле recovery = (C*(F-T)/F*(C-T))*100:\n",
    "- C — доля золота в концентрате после флотации/очистки;\n",
    "- F — доля золота в сырье/концентрате до флотации/очистки;\n",
    "- T — доля золота в отвальных хвостах после флотации/очистки."
   ]
  },
  {
   "cell_type": "code",
   "execution_count": 7,
   "metadata": {},
   "outputs": [
    {
     "data": {
      "text/plain": [
       "Index(['date', 'final.output.concentrate_ag', 'final.output.concentrate_pb',\n",
       "       'final.output.concentrate_sol', 'final.output.concentrate_au',\n",
       "       'final.output.recovery', 'final.output.tail_ag', 'final.output.tail_pb',\n",
       "       'final.output.tail_sol', 'final.output.tail_au',\n",
       "       'primary_cleaner.input.sulfate', 'primary_cleaner.input.depressant',\n",
       "       'primary_cleaner.input.feed_size', 'primary_cleaner.input.xanthate',\n",
       "       'primary_cleaner.output.concentrate_ag',\n",
       "       'primary_cleaner.output.concentrate_pb',\n",
       "       'primary_cleaner.output.concentrate_sol',\n",
       "       'primary_cleaner.output.concentrate_au',\n",
       "       'primary_cleaner.output.tail_ag', 'primary_cleaner.output.tail_pb',\n",
       "       'primary_cleaner.output.tail_sol', 'primary_cleaner.output.tail_au',\n",
       "       'primary_cleaner.state.floatbank8_a_air',\n",
       "       'primary_cleaner.state.floatbank8_a_level',\n",
       "       'primary_cleaner.state.floatbank8_b_air',\n",
       "       'primary_cleaner.state.floatbank8_b_level',\n",
       "       'primary_cleaner.state.floatbank8_c_air',\n",
       "       'primary_cleaner.state.floatbank8_c_level',\n",
       "       'primary_cleaner.state.floatbank8_d_air',\n",
       "       'primary_cleaner.state.floatbank8_d_level',\n",
       "       'rougher.calculation.sulfate_to_au_concentrate',\n",
       "       'rougher.calculation.floatbank10_sulfate_to_au_feed',\n",
       "       'rougher.calculation.floatbank11_sulfate_to_au_feed',\n",
       "       'rougher.calculation.au_pb_ratio', 'rougher.input.feed_ag',\n",
       "       'rougher.input.feed_pb', 'rougher.input.feed_rate',\n",
       "       'rougher.input.feed_size', 'rougher.input.feed_sol',\n",
       "       'rougher.input.feed_au', 'rougher.input.floatbank10_sulfate',\n",
       "       'rougher.input.floatbank10_xanthate',\n",
       "       'rougher.input.floatbank11_sulfate',\n",
       "       'rougher.input.floatbank11_xanthate', 'rougher.output.concentrate_ag',\n",
       "       'rougher.output.concentrate_pb', 'rougher.output.concentrate_sol',\n",
       "       'rougher.output.concentrate_au', 'rougher.output.recovery',\n",
       "       'rougher.output.tail_ag', 'rougher.output.tail_pb',\n",
       "       'rougher.output.tail_sol', 'rougher.output.tail_au',\n",
       "       'rougher.state.floatbank10_a_air', 'rougher.state.floatbank10_a_level',\n",
       "       'rougher.state.floatbank10_b_air', 'rougher.state.floatbank10_b_level',\n",
       "       'rougher.state.floatbank10_c_air', 'rougher.state.floatbank10_c_level',\n",
       "       'rougher.state.floatbank10_d_air', 'rougher.state.floatbank10_d_level',\n",
       "       'rougher.state.floatbank10_e_air', 'rougher.state.floatbank10_e_level',\n",
       "       'rougher.state.floatbank10_f_air', 'rougher.state.floatbank10_f_level',\n",
       "       'secondary_cleaner.output.tail_ag', 'secondary_cleaner.output.tail_pb',\n",
       "       'secondary_cleaner.output.tail_sol', 'secondary_cleaner.output.tail_au',\n",
       "       'secondary_cleaner.state.floatbank2_a_air',\n",
       "       'secondary_cleaner.state.floatbank2_a_level',\n",
       "       'secondary_cleaner.state.floatbank2_b_air',\n",
       "       'secondary_cleaner.state.floatbank2_b_level',\n",
       "       'secondary_cleaner.state.floatbank3_a_air',\n",
       "       'secondary_cleaner.state.floatbank3_a_level',\n",
       "       'secondary_cleaner.state.floatbank3_b_air',\n",
       "       'secondary_cleaner.state.floatbank3_b_level',\n",
       "       'secondary_cleaner.state.floatbank4_a_air',\n",
       "       'secondary_cleaner.state.floatbank4_a_level',\n",
       "       'secondary_cleaner.state.floatbank4_b_air',\n",
       "       'secondary_cleaner.state.floatbank4_b_level',\n",
       "       'secondary_cleaner.state.floatbank5_a_air',\n",
       "       'secondary_cleaner.state.floatbank5_a_level',\n",
       "       'secondary_cleaner.state.floatbank5_b_air',\n",
       "       'secondary_cleaner.state.floatbank5_b_level',\n",
       "       'secondary_cleaner.state.floatbank6_a_air',\n",
       "       'secondary_cleaner.state.floatbank6_a_level'],\n",
       "      dtype='object')"
      ]
     },
     "execution_count": 7,
     "metadata": {},
     "output_type": "execute_result"
    }
   ],
   "source": [
    "data_train.columns"
   ]
  },
  {
   "cell_type": "code",
   "execution_count": 8,
   "metadata": {},
   "outputs": [
    {
     "name": "stdout",
     "output_type": "stream",
     "text": [
      "0.00\n"
     ]
    }
   ],
   "source": [
    "C = data_train['rougher.output.concentrate_au']\n",
    "F = data_train['rougher.input.feed_au']\n",
    "T = data_train['rougher.output.tail_au']\n",
    "\n",
    "recovery_rougher_output = ((C*(F-T))/(F*(C-T)))*100\n",
    "\n",
    "print(f\"{mean_absolute_error(data_train['rougher.output.recovery'], recovery_rougher_output):.2f}\")"
   ]
  },
  {
   "cell_type": "markdown",
   "metadata": {},
   "source": [
    "### Проанализируйте признаки, недоступные в тестовой выборке. Что это за параметры? К какому типу относятся?"
   ]
  },
  {
   "cell_type": "code",
   "execution_count": 9,
   "metadata": {},
   "outputs": [
    {
     "data": {
      "text/plain": [
       "Index(['final.output.concentrate_ag', 'final.output.concentrate_au',\n",
       "       'final.output.concentrate_pb', 'final.output.concentrate_sol',\n",
       "       'final.output.recovery', 'final.output.tail_ag', 'final.output.tail_au',\n",
       "       'final.output.tail_pb', 'final.output.tail_sol',\n",
       "       'primary_cleaner.output.concentrate_ag',\n",
       "       'primary_cleaner.output.concentrate_au',\n",
       "       'primary_cleaner.output.concentrate_pb',\n",
       "       'primary_cleaner.output.concentrate_sol',\n",
       "       'primary_cleaner.output.tail_ag', 'primary_cleaner.output.tail_au',\n",
       "       'primary_cleaner.output.tail_pb', 'primary_cleaner.output.tail_sol',\n",
       "       'rougher.calculation.au_pb_ratio',\n",
       "       'rougher.calculation.floatbank10_sulfate_to_au_feed',\n",
       "       'rougher.calculation.floatbank11_sulfate_to_au_feed',\n",
       "       'rougher.calculation.sulfate_to_au_concentrate',\n",
       "       'rougher.output.concentrate_ag', 'rougher.output.concentrate_au',\n",
       "       'rougher.output.concentrate_pb', 'rougher.output.concentrate_sol',\n",
       "       'rougher.output.recovery', 'rougher.output.tail_ag',\n",
       "       'rougher.output.tail_au', 'rougher.output.tail_pb',\n",
       "       'rougher.output.tail_sol', 'secondary_cleaner.output.tail_ag',\n",
       "       'secondary_cleaner.output.tail_au', 'secondary_cleaner.output.tail_pb',\n",
       "       'secondary_cleaner.output.tail_sol'],\n",
       "      dtype='object')"
      ]
     },
     "execution_count": 9,
     "metadata": {},
     "output_type": "execute_result"
    }
   ],
   "source": [
    "# составим лист, в котором будут содержаться значения столбов отсутствующие в тестовой выборке\n",
    "ls_train_diff_train = data_train.columns.difference(data_test.columns)\n",
    "ls_train_diff_train"
   ]
  },
  {
   "cell_type": "markdown",
   "metadata": {},
   "source": [
    "__Вывод:__ отсутствые\n",
    "\n",
    "- целевые признаки, \n",
    "\n",
    "- финальные концентраты final.output;\n",
    "- концентраты металлов и их отвальне хвосты после первичной очистки primary_cleaner.output;\n",
    "- рейтинг после проведенной флотации rougher.calculation;\n",
    "- концентрацты металлов после флотации rougher.output;\n",
    "- вторая очистка и концентраты secondary_cleaner.output\n",
    "\n",
    "С помощю этих признаков могут быть видны промежуточные итоги по каждому этапу в целях повышения качества и уменьшению отвальных хвостов."
   ]
  },
  {
   "cell_type": "markdown",
   "metadata": {},
   "source": [
    "### Проведите предобработку данных"
   ]
  },
  {
   "cell_type": "markdown",
   "metadata": {},
   "source": [
    "На трейне и на тесте необходимо обработать пропуски"
   ]
  },
  {
   "cell_type": "code",
   "execution_count": 10,
   "metadata": {},
   "outputs": [],
   "source": [
    "for data in (data_full, data_train, data_test):\n",
    "    data = data.fillna(method='ffill', inplace=True)"
   ]
  },
  {
   "cell_type": "code",
   "execution_count": 11,
   "metadata": {
    "scrolled": true
   },
   "outputs": [
    {
     "data": {
      "text/plain": [
       "(0, 0)"
      ]
     },
     "execution_count": 11,
     "metadata": {},
     "output_type": "execute_result"
    }
   ],
   "source": [
    "# количество пропусков в train и test\n",
    "data_train.isna().sum().sum(), data_test.isna().sum().sum()\n"
   ]
  },
  {
   "cell_type": "markdown",
   "metadata": {},
   "source": [
    "## Анализ данных"
   ]
  },
  {
   "cell_type": "markdown",
   "metadata": {},
   "source": [
    "### 2.1 Посмотрите, как меняется концентрация металлов (Au, Ag, Pb) на различных этапах очистки. Опишите выводы. "
   ]
  },
  {
   "cell_type": "code",
   "execution_count": 12,
   "metadata": {},
   "outputs": [],
   "source": [
    "# Напишем функцию, которая в разрезе видов металла будет тражать распределении концентрации на этапах\n",
    "\n",
    "def concentrate_stages_metalls():\n",
    "    for metall, metall_name in zip(('au','ag','pb'),\n",
    "                   ('золота', 'серебра', 'свинца')):    \n",
    "\n",
    "        plt.figure(figsize=(10,5))\n",
    "        \n",
    "        sns.kdeplot(x = data_train['rougher.input.feed_' + metall], label='rougher.input.feed')\n",
    "        sns.kdeplot(x = data_train['rougher.output.concentrate_' + metall], label='rougher.output')\n",
    "        sns.kdeplot(x = data_train['primary_cleaner.output.concentrate_' + metall], label='primary_cleaner.output')\n",
    "        sns.kdeplot(x = data_train['final.output.concentrate_' + metall], label='final.output')\n",
    "\n",
    "        plt.legend()\n",
    "        plt.grid()\n",
    "        plt.title(f'Концентрация {metall_name} на разных этапах очистки')\n",
    "        plt.xlabel('масса металла')\n",
    "        plt.ylabel('концентрация металла')\n",
    "        plt.show()"
   ]
  },
  {
   "cell_type": "code",
   "execution_count": 13,
   "metadata": {
    "scrolled": true
   },
   "outputs": [
    {
     "data": {
      "image/png": "[encoded data removed]",
      "text/plain": [
       "<Figure size 720x360 with 1 Axes>"
      ]
     },
     "metadata": {
      "needs_background": "light"
     },
     "output_type": "display_data"
    },
    {
     "data": {
      "image/png": "[encoded data removed]",
      "text/plain": [
       "<Figure size 720x360 with 1 Axes>"
      ]
     },
     "metadata": {
      "needs_background": "light"
     },
     "output_type": "display_data"
    },
    {
     "data": {
      "image/png": "[encoded data removed]",
      "text/plain": [
       "<Figure size 720x360 with 1 Axes>"
      ]
     },
     "metadata": {
      "needs_background": "light"
     },
     "output_type": "display_data"
    }
   ],
   "source": [
    "concentrate_stages_metalls()"
   ]
  },
  {
   "cell_type": "markdown",
   "metadata": {},
   "source": [
    "На первом этапе очистки значительно снижается концентрация все необходимых для очистки металлов. На финальном этапе снижается концентрация серебра.\n",
    "В разрезе каждогов металла:\n",
    "- Золото: увеличивается концентрация, что говорит о достижении целей очистки\n",
    "- Серебро: снижается концентрация серебра\n",
    "- Свинец: по аналогии с серебром идет снижение на финальном этапе."
   ]
  },
  {
   "cell_type": "markdown",
   "metadata": {},
   "source": [
    "### Сравните распределения размеров гранул сырья на обучающей и тестовой выборках. Если распределения сильно отличаются друг от друга, оценка модели будет неправильной. "
   ]
  },
  {
   "cell_type": "code",
   "execution_count": 14,
   "metadata": {
    "scrolled": false
   },
   "outputs": [
    {
     "data": {
      "image/png": "[encoded data removed]",
      "text/plain": [
       "<Figure size 720x360 with 1 Axes>"
      ]
     },
     "metadata": {
      "needs_background": "light"
     },
     "output_type": "display_data"
    },
    {
     "data": {
      "image/png": "[encoded data removed]",
      "text/plain": [
       "<Figure size 720x360 with 1 Axes>"
      ]
     },
     "metadata": {
      "needs_background": "light"
     },
     "output_type": "display_data"
    }
   ],
   "source": [
    "# сделаем графики по полям размеров гранул rougher.input.feed_size и primary_cleaner.input.feed_size на обучающей и тестовой выборках.\n",
    "\n",
    "for feed_size, name_ in zip(('rougher.input.feed_size','primary_cleaner.input.feed_size'),\n",
    "               ('rougher input','primary cleaner input')): \n",
    "    \n",
    "    plt.figure(figsize=(10, 5))\n",
    "\n",
    "    sns.kdeplot(x=data_train[feed_size], label='feed size train')\n",
    "    sns.kdeplot(x=data_test[feed_size], label='feed size test')\n",
    "\n",
    "    plt.legend()\n",
    "    plt.grid()\n",
    "    plt.xlabel('Количество гранул')\n",
    "    plt.ylabel('Размер гранулы')\n",
    "    plt.title('Распределение размеров гранул на train и test на этапе ' + name_);"
   ]
  },
  {
   "cell_type": "markdown",
   "metadata": {},
   "source": [
    "Распределение размера гранут на тестовой и обучающей выборках совпадают."
   ]
  },
  {
   "cell_type": "markdown",
   "metadata": {},
   "source": [
    "### Исследуйте суммарную концентрацию всех веществ на разных стадиях: в сырье, в черновом и финальном концентратах. "
   ]
  },
  {
   "cell_type": "code",
   "execution_count": 15,
   "metadata": {
    "scrolled": true
   },
   "outputs": [
    {
     "data": {
      "image/png": "[encoded data removed]",
      "text/plain": [
       "<Figure size 720x360 with 1 Axes>"
      ]
     },
     "metadata": {
      "needs_background": "light"
     },
     "output_type": "display_data"
    }
   ],
   "source": [
    "# По аналогии сделаем функции, Которая будет по каждому металлу определять коцентрацию веществ на разных стадицях\n",
    "\n",
    "def concentrate_metalls_all_stages():\n",
    "\n",
    "    plt.figure(figsize=(10, 5))\n",
    "\n",
    "    for i,j in zip(('rougher.input.feed_', \n",
    "                    'rougher.output.concentrate_', \n",
    "                    'primary_cleaner.output.concentrate_', \n",
    "                    'final.output.concentrate_'),\n",
    "                   \n",
    "                    ('сырьё',\n",
    "                     'черновой концентрат на входе',\n",
    "                     'черновой концентрат на выходе',\n",
    "                     'финальный концентрат')):\n",
    "\n",
    "        sns.distplot(data_train[[i + 'au', i + 'ag', i + 'pb', i + 'sol']].sum(axis=1), label=j)\n",
    "\n",
    "        plt.grid(True)\n",
    "        plt.legend()\n",
    "        plt.xlabel('суммарная масса металлов')\n",
    "        plt.ylabel('суммарная концентрация металлов')\n",
    "        plt.title('Суммарная концентрация на разных этапах')\n",
    "        \n",
    "concentrate_metalls_all_stages()"
   ]
  },
  {
   "cell_type": "code",
   "execution_count": 16,
   "metadata": {},
   "outputs": [
    {
     "data": {
      "image/png": "[encoded data removed]",
      "text/plain": [
       "<Figure size 720x360 with 1 Axes>"
      ]
     },
     "metadata": {
      "needs_background": "light"
     },
     "output_type": "display_data"
    }
   ],
   "source": [
    "# избавимся от аномальных значений в обучающей выборке:\n",
    "for i in ('rougher.output.concentrate_',\n",
    "          'primary_cleaner.output.concentrate_',\n",
    "          'final.output.concentrate_'):\n",
    "    \n",
    "    for j in ('au', 'ag', 'pb', 'sol'):\n",
    "        data_train = data_train[data_train[i+j] >= 1]\n",
    "    \n",
    "concentrate_metalls_all_stages()"
   ]
  },
  {
   "cell_type": "code",
   "execution_count": 17,
   "metadata": {},
   "outputs": [
    {
     "data": {
      "image/png": "[encoded data removed]",
      "text/plain": [
       "<Figure size 720x360 with 1 Axes>"
      ]
     },
     "metadata": {
      "needs_background": "light"
     },
     "output_type": "display_data"
    },
    {
     "data": {
      "image/png": "[encoded data removed]",
      "text/plain": [
       "<Figure size 720x360 with 1 Axes>"
      ]
     },
     "metadata": {
      "needs_background": "light"
     },
     "output_type": "display_data"
    },
    {
     "data": {
      "image/png": "[encoded data removed]",
      "text/plain": [
       "<Figure size 720x360 with 1 Axes>"
      ]
     },
     "metadata": {
      "needs_background": "light"
     },
     "output_type": "display_data"
    }
   ],
   "source": [
    "# концентрация на новом train\n",
    "concentrate_stages_metalls()"
   ]
  },
  {
   "cell_type": "markdown",
   "metadata": {},
   "source": [
    "Подготовлены графики кнцентрации на трейне без аномальных данных."
   ]
  },
  {
   "cell_type": "markdown",
   "metadata": {},
   "source": [
    "## Модель"
   ]
  },
  {
   "cell_type": "markdown",
   "metadata": {},
   "source": [
    "### Напишите функцию для вычисления итоговой sMAPE"
   ]
  },
  {
   "cell_type": "markdown",
   "metadata": {},
   "source": [
    "<div>\n",
    "<img src=\"https://pictures.s3.yandex.net/resources/smape_1576239058.jpg\" width=\"500\"/>\n",
    "</div>\n",
    "<div>\n",
    "<img src=\"https://pictures.s3.yandex.net/resources/_smape_1576239054.jpg\" width=\"500\"/>\n",
    "</div>"
   ]
  },
  {
   "cell_type": "code",
   "execution_count": 18,
   "metadata": {},
   "outputs": [],
   "source": [
    "def sMAPE(y, pred):\n",
    "    y = y.to_numpy()\n",
    "    \n",
    "    sums = 0    \n",
    "    for i in range(len(y)):\n",
    "        sums += abs(y[i, 0] - pred[i, 0]) / (abs(y[i, 0]) + abs(pred[i, 0]) / 2)\n",
    "        sMAPE_rougher = sums/len(y)*100\n",
    "        \n",
    "    sums = 0\n",
    "    for i in range(len(y)):\n",
    "        sums += abs(y[i, 1] - pred[i, 1]) / (abs(y[i, 1] + pred[i, 1]) / 2)\n",
    "        sMAPE_final = sums/len(y)*100\n",
    "    \n",
    "    return 0.25 * sMAPE_rougher + 0.75 * sMAPE_final"
   ]
  },
  {
   "cell_type": "markdown",
   "metadata": {},
   "source": [
    "### Обучите разные модели и оцените их качество кросс-валидацией. Выберите лучшую модель и проверьте её на тестовой выборке. Опишите выводы."
   ]
  },
  {
   "cell_type": "code",
   "execution_count": 36,
   "metadata": {},
   "outputs": [],
   "source": [
    "# Сделаем индексом датафрейма поле date\n",
    "data_full.set_index(data_full['date'], drop=True, inplace=True)\n",
    "data_train.set_index(data_train['date'], drop=True, inplace=True)\n",
    "data_test.set_index(data_test['date'], drop=True, inplace=True)"
   ]
  },
  {
   "cell_type": "markdown",
   "metadata": {},
   "source": [
    "<font color='blue'><b>Комментарий ревьюера: </b></font> ✔️\\\n",
    "<font color='green'> Верно, нужно привязаться ко времени.</font>"
   ]
  },
  {
   "cell_type": "code",
   "execution_count": 37,
   "metadata": {},
   "outputs": [],
   "source": [
    "# значение целевой функции на обучающей выборке:\n",
    "y = data_train[['rougher.output.recovery','final.output.recovery']]\n",
    "\n",
    "# значения фичей на обучающей выборке\n",
    "X = data_train.drop(ls_train_diff_train, axis=1).drop('date', axis=1)"
   ]
  },
  {
   "cell_type": "code",
   "execution_count": 38,
   "metadata": {},
   "outputs": [],
   "source": [
    "# имеется разброс в данных. ЦЕлесообразно произвести масштабирование фичей\n",
    "scaler = StandardScaler()\n",
    "scaler.fit(X) \n",
    "X = scaler.transform(X)"
   ]
  },
  {
   "cell_type": "code",
   "execution_count": 39,
   "metadata": {},
   "outputs": [],
   "source": [
    "# Подключим свою метрику для поиска оптимального решения\n",
    "scorer = make_scorer(sMAPE, greater_is_better=False)"
   ]
  },
  {
   "cell_type": "markdown",
   "metadata": {},
   "source": [
    "<font color='blue'><b>Комментарий ревьюера : </b></font> ✔️ <br>\n",
    "<font color='green'>Верно, что не забываешь указать greater_is_better=False, Это пригодится для SearchCV. SMAPE — ошибка, её минимизируем.</font>"
   ]
  },
  {
   "cell_type": "code",
   "execution_count": 40,
   "metadata": {},
   "outputs": [],
   "source": [
    "# разобьем на фолды\n",
    "cv = cv = KFold(3, shuffle=True, random_state=17)"
   ]
  },
  {
   "cell_type": "code",
   "execution_count": 41,
   "metadata": {},
   "outputs": [
    {
     "name": "stdout",
     "output_type": "stream",
     "text": [
      "Fitting 3 folds for each of 1 candidates, totalling 3 fits\n",
      "[CV 1/3; 1/1] START ............................................................\n",
      "[CV 1/3; 1/1] END ........................................... total time=   0.3s\n",
      "[CV 2/3; 1/1] START ............................................................\n",
      "[CV 2/3; 1/1] END ........................................... total time=   0.3s\n",
      "[CV 3/3; 1/1] START ............................................................\n",
      "[CV 3/3; 1/1] END ........................................... total time=   0.2s\n",
      "Регрессия 6.68\n"
     ]
    }
   ],
   "source": [
    "# обучим линейную модель\n",
    "ML = GridSearchCV(\n",
    "                    LinearRegression(), \n",
    "                    {},\n",
    "                    cv = cv,\n",
    "                    n_jobs=-1,\n",
    "                    scoring=scorer,\n",
    "                    verbose=10)\n",
    "\n",
    "ML.fit(X, y)\n",
    "print(f'Регрессия {(-1*ML.best_score_):.2f}')"
   ]
  },
  {
   "cell_type": "markdown",
   "metadata": {},
   "source": [
    "<font color='blue'><b>Комментарий ревьюера : </b></font> ✔️\\\n",
    "<font color='green'>Подбор гиперпараметров проведён верно. Использована целевая метрика, направление отбора верное ).</font>"
   ]
  },
  {
   "cell_type": "code",
   "execution_count": 57,
   "metadata": {},
   "outputs": [
    {
     "name": "stdout",
     "output_type": "stream",
     "text": [
      "Fitting 3 folds for each of 6 candidates, totalling 18 fits\n",
      "[CV 1/3; 1/6] START max_depth=1.................................................\n",
      "[CV 1/3; 1/6] END ...............................max_depth=1; total time=   0.1s\n",
      "[CV 2/3; 1/6] START max_depth=1.................................................\n",
      "[CV 2/3; 1/6] END ...............................max_depth=1; total time=   0.1s\n",
      "[CV 3/3; 1/6] START max_depth=1.................................................\n",
      "[CV 3/3; 1/6] END ...............................max_depth=1; total time=   0.1s\n",
      "[CV 1/3; 2/6] START max_depth=2.................................................\n",
      "[CV 1/3; 2/6] END ...............................max_depth=2; total time=   0.1s\n",
      "[CV 2/3; 2/6] START max_depth=2.................................................\n",
      "[CV 2/3; 2/6] END ...............................max_depth=2; total time=   0.1s\n",
      "[CV 3/3; 2/6] START max_depth=2.................................................\n",
      "[CV 3/3; 2/6] END ...............................max_depth=2; total time=   0.1s\n",
      "[CV 1/3; 3/6] START max_depth=4.................................................\n",
      "[CV 1/3; 3/6] END ...............................max_depth=4; total time=   0.2s\n",
      "[CV 2/3; 3/6] START max_depth=4.................................................\n",
      "[CV 2/3; 3/6] END ...............................max_depth=4; total time=   0.2s\n",
      "[CV 3/3; 3/6] START max_depth=4.................................................\n",
      "[CV 3/3; 3/6] END ...............................max_depth=4; total time=   0.2s\n",
      "[CV 1/3; 4/6] START max_depth=6.................................................\n",
      "[CV 1/3; 4/6] END ...............................max_depth=6; total time=   0.3s\n",
      "[CV 2/3; 4/6] START max_depth=6.................................................\n",
      "[CV 2/3; 4/6] END ...............................max_depth=6; total time=   0.3s\n",
      "[CV 3/3; 4/6] START max_depth=6.................................................\n",
      "[CV 3/3; 4/6] END ...............................max_depth=6; total time=   0.3s\n",
      "[CV 1/3; 5/6] START max_depth=8.................................................\n",
      "[CV 1/3; 5/6] END ...............................max_depth=8; total time=   0.4s\n",
      "[CV 2/3; 5/6] START max_depth=8.................................................\n",
      "[CV 2/3; 5/6] END ...............................max_depth=8; total time=   0.4s\n",
      "[CV 3/3; 5/6] START max_depth=8.................................................\n",
      "[CV 3/3; 5/6] END ...............................max_depth=8; total time=   0.4s\n",
      "[CV 1/3; 6/6] START max_depth=10................................................\n",
      "[CV 1/3; 6/6] END ..............................max_depth=10; total time=   0.4s\n",
      "[CV 2/3; 6/6] START max_depth=10................................................\n",
      "[CV 2/3; 6/6] END ..............................max_depth=10; total time=   0.5s\n",
      "[CV 3/3; 6/6] START max_depth=10................................................\n",
      "[CV 3/3; 6/6] END ..............................max_depth=10; total time=   0.4s\n",
      "Дерево 6.11\n"
     ]
    }
   ],
   "source": [
    "# Дерево решений\n",
    "DTR = GridSearchCV(\n",
    "                    DecisionTreeRegressor(random_state=17), \n",
    "                    {'max_depth':[2,4,6,8,10]}, \n",
    "                    cv = cv,\n",
    "                    n_jobs=-1,\n",
    "                    scoring=scorer,\n",
    "                    verbose=10)\n",
    "\n",
    "DTR.fit(X, y)\n",
    "print(f'Дерево {(-1*DTR.best_score_):.2f}')# Дерево решений"
   ]
  },
  {
   "cell_type": "markdown",
   "metadata": {},
   "source": [
    "БОлее лучший результат показала DTR. Ее и будем использовать в дальнешем."
   ]
  },
  {
   "cell_type": "code",
   "execution_count": 43,
   "metadata": {},
   "outputs": [],
   "source": [
    "# Подготовим по аналогии тестовую выборку\n",
    "X_test = data_test.drop('date',axis=1)\n",
    "y_test = data_full.loc[data_test.index][['rougher.output.recovery','final.output.recovery']]\n",
    "\n",
    "# стандартизируемx\n",
    "X_test = scaler.transform(X_test)"
   ]
  },
  {
   "cell_type": "code",
   "execution_count": 59,
   "metadata": {},
   "outputs": [
    {
     "name": "stdout",
     "output_type": "stream",
     "text": [
      "DTR sMAPE 8.90\n"
     ]
    }
   ],
   "source": [
    "# протестируем получившуюся \n",
    "DTR = DecisionTreeRegressor(random_state=17, max_depth = 1)\n",
    "DTR.fit(X, y)\n",
    "print(f'DTR sMAPE {(sMAPE(y_test, DTR.predict(X_test))):.2f}')"
   ]
  },
  {
   "cell_type": "code",
   "execution_count": 35,
   "metadata": {},
   "outputs": [
    {
     "data": {
      "text/plain": [
       "9.332624294534291"
      ]
     },
     "execution_count": 35,
     "metadata": {},
     "output_type": "execute_result"
    }
   ],
   "source": [
    "# проверим адекватность на дамми:\n",
    "model=DummyRegressor()\n",
    "model.fit(X, y)\n",
    "sMAPE(y_test, model.predict(X_test))"
   ]
  },
  {
   "cell_type": "markdown",
   "metadata": {},
   "source": [
    "__Общий вывод:__\n",
    "В рамках проекта:\n",
    "- исследовано много видео на по флотации и очистке;\n",
    "- произведен первичный анализ данных и произведена предобработка данных\n",
    "- произведена проверка корректности эффективности обогащения\n",
    "- исследовано изменение концентрации в разрезе каждого металла по стадиям\n",
    "- сравнение распределение гранул на тесте и трайне\n",
    "- лучий результат показала модель основанная на дереве решений\n",
    "- произведена проверка модели на адеквартность\n"
   ]
  }
 ],
 "metadata": {
  "ExecuteTimeLog": [
   {
    "duration": 1594,
    "start_time": "2022-12-18T11:22:22.105Z"
   },
   {
    "duration": 2,
    "start_time": "2022-12-18T11:24:00.478Z"
   },
   {
    "duration": 149,
    "start_time": "2022-12-18T11:37:15.908Z"
   },
   {
    "duration": 6,
    "start_time": "2022-12-18T11:37:35.021Z"
   },
   {
    "duration": 5,
    "start_time": "2022-12-18T11:37:51.340Z"
   },
   {
    "duration": 2556,
    "start_time": "2022-12-18T11:37:55.340Z"
   },
   {
    "duration": 11,
    "start_time": "2022-12-18T11:39:11.359Z"
   },
   {
    "duration": 27,
    "start_time": "2022-12-18T11:39:14.729Z"
   },
   {
    "duration": 35,
    "start_time": "2022-12-18T11:39:56.921Z"
   },
   {
    "duration": 64,
    "start_time": "2022-12-18T11:40:06.012Z"
   },
   {
    "duration": 42,
    "start_time": "2022-12-18T11:45:18.409Z"
   },
   {
    "duration": 49,
    "start_time": "2022-12-18T11:45:21.647Z"
   },
   {
    "duration": 49,
    "start_time": "2022-12-18T11:45:57.265Z"
   },
   {
    "duration": 106,
    "start_time": "2022-12-18T11:46:11.571Z"
   },
   {
    "duration": 93,
    "start_time": "2022-12-18T11:46:21.006Z"
   },
   {
    "duration": 29,
    "start_time": "2022-12-18T12:06:55.307Z"
   },
   {
    "duration": 24,
    "start_time": "2022-12-18T12:07:02.052Z"
   },
   {
    "duration": 28,
    "start_time": "2022-12-18T12:07:30.042Z"
   },
   {
    "duration": 19,
    "start_time": "2022-12-18T12:07:57.236Z"
   },
   {
    "duration": 29,
    "start_time": "2022-12-18T12:08:06.736Z"
   },
   {
    "duration": 73,
    "start_time": "2022-12-18T12:16:00.614Z"
   },
   {
    "duration": 758,
    "start_time": "2022-12-18T12:19:20.529Z"
   },
   {
    "duration": 690,
    "start_time": "2022-12-18T12:19:51.810Z"
   },
   {
    "duration": 727,
    "start_time": "2022-12-18T12:20:59.911Z"
   },
   {
    "duration": 26,
    "start_time": "2022-12-18T12:21:13.612Z"
   },
   {
    "duration": 668,
    "start_time": "2022-12-18T12:21:25.213Z"
   },
   {
    "duration": 4,
    "start_time": "2022-12-18T12:21:38.126Z"
   },
   {
    "duration": 4,
    "start_time": "2022-12-18T12:31:20.534Z"
   },
   {
    "duration": 10,
    "start_time": "2022-12-18T12:31:20.540Z"
   },
   {
    "duration": 695,
    "start_time": "2022-12-18T12:31:20.551Z"
   },
   {
    "duration": 48,
    "start_time": "2022-12-18T12:31:21.248Z"
   },
   {
    "duration": 79,
    "start_time": "2022-12-18T12:31:21.297Z"
   },
   {
    "duration": 5,
    "start_time": "2022-12-18T12:31:29.035Z"
   },
   {
    "duration": 736,
    "start_time": "2022-12-18T12:31:35.279Z"
   },
   {
    "duration": 4,
    "start_time": "2022-12-18T12:33:41.927Z"
   },
   {
    "duration": 7,
    "start_time": "2022-12-18T12:33:41.934Z"
   },
   {
    "duration": 694,
    "start_time": "2022-12-18T12:33:41.943Z"
   },
   {
    "duration": 61,
    "start_time": "2022-12-18T12:33:42.639Z"
   },
   {
    "duration": 101,
    "start_time": "2022-12-18T12:33:42.701Z"
   },
   {
    "duration": 5,
    "start_time": "2022-12-18T12:33:42.821Z"
   },
   {
    "duration": 648,
    "start_time": "2022-12-18T12:33:49.620Z"
   },
   {
    "duration": 693,
    "start_time": "2022-12-18T12:35:40.714Z"
   },
   {
    "duration": 675,
    "start_time": "2022-12-18T12:36:03.554Z"
   },
   {
    "duration": 656,
    "start_time": "2022-12-18T12:36:33.115Z"
   },
   {
    "duration": 679,
    "start_time": "2022-12-18T12:36:58.122Z"
   },
   {
    "duration": 626,
    "start_time": "2022-12-18T12:37:08.969Z"
   },
   {
    "duration": 4,
    "start_time": "2022-12-18T12:37:25.047Z"
   },
   {
    "duration": 519,
    "start_time": "2022-12-18T12:37:55.118Z"
   },
   {
    "duration": 5,
    "start_time": "2022-12-18T12:38:04.666Z"
   },
   {
    "duration": 1550,
    "start_time": "2022-12-18T12:38:34.675Z"
   },
   {
    "duration": 107,
    "start_time": "2022-12-18T12:38:56.255Z"
   },
   {
    "duration": 9,
    "start_time": "2022-12-18T12:41:21.338Z"
   },
   {
    "duration": 11,
    "start_time": "2022-12-18T12:52:44.510Z"
   },
   {
    "duration": 8,
    "start_time": "2022-12-18T12:52:55.682Z"
   },
   {
    "duration": 3,
    "start_time": "2022-12-18T13:29:55.202Z"
   },
   {
    "duration": 3,
    "start_time": "2022-12-18T13:30:01.618Z"
   },
   {
    "duration": 21,
    "start_time": "2022-12-18T15:11:18.912Z"
   },
   {
    "duration": 4,
    "start_time": "2022-12-18T15:15:27.371Z"
   },
   {
    "duration": 11,
    "start_time": "2022-12-18T15:15:27.376Z"
   },
   {
    "duration": 608,
    "start_time": "2022-12-18T15:15:27.388Z"
   },
   {
    "duration": 4,
    "start_time": "2022-12-18T15:15:27.997Z"
   },
   {
    "duration": 1590,
    "start_time": "2022-12-18T15:15:28.003Z"
   },
   {
    "duration": 72,
    "start_time": "2022-12-18T15:15:29.594Z"
   },
   {
    "duration": 4,
    "start_time": "2022-12-18T15:15:29.667Z"
   },
   {
    "duration": 8,
    "start_time": "2022-12-18T15:15:29.672Z"
   },
   {
    "duration": 7,
    "start_time": "2022-12-18T15:15:29.682Z"
   },
   {
    "duration": 14,
    "start_time": "2022-12-18T15:15:36.563Z"
   },
   {
    "duration": 12,
    "start_time": "2022-12-18T15:16:04.459Z"
   },
   {
    "duration": 21,
    "start_time": "2022-12-18T15:16:31.116Z"
   },
   {
    "duration": 20,
    "start_time": "2022-12-18T15:16:42.181Z"
   },
   {
    "duration": 19,
    "start_time": "2022-12-18T15:17:02.333Z"
   },
   {
    "duration": 12,
    "start_time": "2022-12-18T15:17:10.186Z"
   },
   {
    "duration": 9,
    "start_time": "2022-12-18T15:17:45.000Z"
   },
   {
    "duration": 5,
    "start_time": "2022-12-18T15:34:41.867Z"
   },
   {
    "duration": 3,
    "start_time": "2022-12-18T15:34:44.135Z"
   },
   {
    "duration": 3232,
    "start_time": "2022-12-18T15:34:48.185Z"
   },
   {
    "duration": 4,
    "start_time": "2022-12-18T15:42:19.256Z"
   },
   {
    "duration": 3099,
    "start_time": "2022-12-18T15:42:22.283Z"
   },
   {
    "duration": 13,
    "start_time": "2022-12-18T16:09:56.726Z"
   },
   {
    "duration": 937,
    "start_time": "2022-12-18T16:10:17.089Z"
   },
   {
    "duration": 889,
    "start_time": "2022-12-18T16:10:31.663Z"
   },
   {
    "duration": 847,
    "start_time": "2022-12-18T16:21:16.112Z"
   },
   {
    "duration": 47,
    "start_time": "2022-12-18T16:22:15.048Z"
   },
   {
    "duration": 4,
    "start_time": "2022-12-18T16:32:43.063Z"
   },
   {
    "duration": 6,
    "start_time": "2022-12-18T16:36:16.398Z"
   },
   {
    "duration": 10,
    "start_time": "2022-12-18T16:45:19.227Z"
   },
   {
    "duration": 8,
    "start_time": "2022-12-18T16:45:24.611Z"
   },
   {
    "duration": 7,
    "start_time": "2022-12-18T16:58:17.519Z"
   },
   {
    "duration": 17,
    "start_time": "2022-12-18T17:02:03.596Z"
   },
   {
    "duration": 3,
    "start_time": "2022-12-18T17:08:10.553Z"
   },
   {
    "duration": 10,
    "start_time": "2022-12-18T17:11:01.257Z"
   },
   {
    "duration": 4,
    "start_time": "2022-12-18T17:12:36.820Z"
   },
   {
    "duration": 1531,
    "start_time": "2022-12-18T17:12:48.600Z"
   },
   {
    "duration": 1109,
    "start_time": "2022-12-18T17:13:51.933Z"
   },
   {
    "duration": 44,
    "start_time": "2022-12-18T17:15:38.978Z"
   },
   {
    "duration": 54,
    "start_time": "2022-12-18T17:15:59.898Z"
   },
   {
    "duration": 4830,
    "start_time": "2022-12-18T17:16:16.439Z"
   },
   {
    "duration": 15,
    "start_time": "2022-12-18T17:32:32.574Z"
   },
   {
    "duration": 18,
    "start_time": "2022-12-18T17:38:11.375Z"
   },
   {
    "duration": 39,
    "start_time": "2022-12-18T17:41:13.778Z"
   },
   {
    "duration": 689,
    "start_time": "2022-12-18T17:45:26.158Z"
   },
   {
    "duration": 661,
    "start_time": "2022-12-18T17:45:44.519Z"
   },
   {
    "duration": 3,
    "start_time": "2022-12-18T17:47:31.205Z"
   },
   {
    "duration": 3,
    "start_time": "2022-12-18T17:47:58.093Z"
   },
   {
    "duration": 598,
    "start_time": "2022-12-18T17:47:59.381Z"
   },
   {
    "duration": 1672,
    "start_time": "2022-12-18T17:48:05.074Z"
   },
   {
    "duration": 1318,
    "start_time": "2022-12-18T17:50:13.009Z"
   },
   {
    "duration": 3,
    "start_time": "2022-12-18T17:50:14.328Z"
   },
   {
    "duration": 13,
    "start_time": "2022-12-18T17:50:14.335Z"
   },
   {
    "duration": 662,
    "start_time": "2022-12-18T17:50:14.349Z"
   },
   {
    "duration": 1173,
    "start_time": "2022-12-18T17:50:15.013Z"
   },
   {
    "duration": 73,
    "start_time": "2022-12-18T17:50:16.188Z"
   },
   {
    "duration": 4,
    "start_time": "2022-12-18T17:50:16.262Z"
   },
   {
    "duration": 10,
    "start_time": "2022-12-18T17:50:16.268Z"
   },
   {
    "duration": 6,
    "start_time": "2022-12-18T17:50:16.280Z"
   },
   {
    "duration": 34,
    "start_time": "2022-12-18T17:50:16.287Z"
   },
   {
    "duration": 9,
    "start_time": "2022-12-18T17:50:16.322Z"
   },
   {
    "duration": 4,
    "start_time": "2022-12-18T17:50:16.333Z"
   },
   {
    "duration": 2986,
    "start_time": "2022-12-18T17:50:16.338Z"
   },
   {
    "duration": 913,
    "start_time": "2022-12-18T17:50:19.325Z"
   },
   {
    "duration": 4,
    "start_time": "2022-12-18T17:50:20.240Z"
   },
   {
    "duration": 8,
    "start_time": "2022-12-18T17:50:20.245Z"
   },
   {
    "duration": 17,
    "start_time": "2022-12-18T17:50:20.255Z"
   },
   {
    "duration": 20,
    "start_time": "2022-12-18T17:50:20.274Z"
   },
   {
    "duration": 3,
    "start_time": "2022-12-18T17:50:20.295Z"
   },
   {
    "duration": 16,
    "start_time": "2022-12-18T17:50:20.299Z"
   },
   {
    "duration": 1104,
    "start_time": "2022-12-18T17:50:20.317Z"
   },
   {
    "duration": 4929,
    "start_time": "2022-12-18T17:50:21.423Z"
   },
   {
    "duration": 13,
    "start_time": "2022-12-18T17:50:26.354Z"
   },
   {
    "duration": 28,
    "start_time": "2022-12-18T17:50:26.368Z"
   },
   {
    "duration": 2104,
    "start_time": "2022-12-19T10:06:35.149Z"
   },
   {
    "duration": 2,
    "start_time": "2022-12-19T10:06:37.255Z"
   },
   {
    "duration": 8,
    "start_time": "2022-12-19T10:06:37.260Z"
   },
   {
    "duration": 697,
    "start_time": "2022-12-19T10:06:37.270Z"
   },
   {
    "duration": 1219,
    "start_time": "2022-12-19T10:06:37.969Z"
   },
   {
    "duration": 94,
    "start_time": "2022-12-19T10:06:39.189Z"
   },
   {
    "duration": 13,
    "start_time": "2022-12-19T10:06:39.311Z"
   },
   {
    "duration": 20,
    "start_time": "2022-12-19T10:06:39.327Z"
   },
   {
    "duration": 26,
    "start_time": "2022-12-19T10:06:39.349Z"
   },
   {
    "duration": 17,
    "start_time": "2022-12-19T10:06:39.377Z"
   },
   {
    "duration": 9,
    "start_time": "2022-12-19T10:06:39.396Z"
   },
   {
    "duration": 5,
    "start_time": "2022-12-19T10:06:39.407Z"
   },
   {
    "duration": 3023,
    "start_time": "2022-12-19T10:06:39.415Z"
   },
   {
    "duration": 1056,
    "start_time": "2022-12-19T10:06:42.441Z"
   },
   {
    "duration": 5,
    "start_time": "2022-12-19T10:06:43.498Z"
   },
   {
    "duration": 27,
    "start_time": "2022-12-19T10:06:43.504Z"
   },
   {
    "duration": 37,
    "start_time": "2022-12-19T10:06:43.533Z"
   },
   {
    "duration": 54,
    "start_time": "2022-12-19T10:06:43.572Z"
   },
   {
    "duration": 89,
    "start_time": "2022-12-19T19:35:44.596Z"
   },
   {
    "duration": 93,
    "start_time": "2022-12-19T19:36:14.735Z"
   },
   {
    "duration": 87,
    "start_time": "2022-12-19T19:37:36.201Z"
   },
   {
    "duration": 88,
    "start_time": "2022-12-19T19:37:57.831Z"
   },
   {
    "duration": 73,
    "start_time": "2022-12-19T19:38:24.307Z"
   },
   {
    "duration": 68,
    "start_time": "2022-12-19T19:38:37.867Z"
   },
   {
    "duration": 71,
    "start_time": "2022-12-19T19:39:12.316Z"
   },
   {
    "duration": 5,
    "start_time": "2022-12-19T20:00:59.097Z"
   },
   {
    "duration": 68,
    "start_time": "2022-12-19T20:13:58.644Z"
   },
   {
    "duration": 46,
    "start_time": "2022-12-19T20:14:10.745Z"
   },
   {
    "duration": 1659,
    "start_time": "2022-12-19T20:14:19.094Z"
   },
   {
    "duration": 3,
    "start_time": "2022-12-19T20:14:20.755Z"
   },
   {
    "duration": 30,
    "start_time": "2022-12-19T20:14:20.760Z"
   },
   {
    "duration": 2375,
    "start_time": "2022-12-19T20:14:20.792Z"
   },
   {
    "duration": 1558,
    "start_time": "2022-12-19T20:14:23.168Z"
   },
   {
    "duration": 112,
    "start_time": "2022-12-19T20:14:24.728Z"
   },
   {
    "duration": 4,
    "start_time": "2022-12-19T20:14:24.842Z"
   },
   {
    "duration": 20,
    "start_time": "2022-12-19T20:14:24.848Z"
   },
   {
    "duration": 39,
    "start_time": "2022-12-19T20:14:24.870Z"
   },
   {
    "duration": 34,
    "start_time": "2022-12-19T20:14:24.911Z"
   },
   {
    "duration": 26,
    "start_time": "2022-12-19T20:14:24.947Z"
   },
   {
    "duration": 13,
    "start_time": "2022-12-19T20:14:24.975Z"
   },
   {
    "duration": 3086,
    "start_time": "2022-12-19T20:14:24.990Z"
   },
   {
    "duration": 992,
    "start_time": "2022-12-19T20:14:28.077Z"
   },
   {
    "duration": 4,
    "start_time": "2022-12-19T20:14:29.071Z"
   },
   {
    "duration": 42,
    "start_time": "2022-12-19T20:14:29.077Z"
   },
   {
    "duration": 45,
    "start_time": "2022-12-19T20:14:29.121Z"
   },
   {
    "duration": 44,
    "start_time": "2022-12-19T20:14:29.167Z"
   },
   {
    "duration": 31,
    "start_time": "2022-12-19T20:14:29.212Z"
   },
   {
    "duration": 45,
    "start_time": "2022-12-19T20:14:29.244Z"
   },
   {
    "duration": 952,
    "start_time": "2022-12-19T20:14:29.291Z"
   },
   {
    "duration": 5424,
    "start_time": "2022-12-19T20:14:30.245Z"
   },
   {
    "duration": 18,
    "start_time": "2022-12-19T20:14:35.671Z"
   },
   {
    "duration": 34,
    "start_time": "2022-12-19T20:14:35.690Z"
   },
   {
    "duration": 22,
    "start_time": "2022-12-19T20:14:35.737Z"
   },
   {
    "duration": 3,
    "start_time": "2022-12-19T20:18:12.383Z"
   },
   {
    "duration": 89,
    "start_time": "2022-12-19T20:20:25.187Z"
   },
   {
    "duration": 1536,
    "start_time": "2022-12-19T20:20:36.947Z"
   },
   {
    "duration": 1602,
    "start_time": "2022-12-19T20:20:47.411Z"
   },
   {
    "duration": 1446,
    "start_time": "2022-12-19T20:22:41.756Z"
   },
   {
    "duration": 2,
    "start_time": "2022-12-19T20:22:43.204Z"
   },
   {
    "duration": 5,
    "start_time": "2022-12-19T20:22:43.207Z"
   },
   {
    "duration": 741,
    "start_time": "2022-12-19T20:22:43.214Z"
   },
   {
    "duration": 1344,
    "start_time": "2022-12-19T20:22:43.956Z"
   },
   {
    "duration": 89,
    "start_time": "2022-12-19T20:22:45.302Z"
   },
   {
    "duration": 5,
    "start_time": "2022-12-19T20:22:45.392Z"
   },
   {
    "duration": 52,
    "start_time": "2022-12-19T20:22:45.399Z"
   },
   {
    "duration": 24,
    "start_time": "2022-12-19T20:22:45.452Z"
   },
   {
    "duration": 32,
    "start_time": "2022-12-19T20:22:45.479Z"
   },
   {
    "duration": 10,
    "start_time": "2022-12-19T20:22:45.513Z"
   },
   {
    "duration": 5,
    "start_time": "2022-12-19T20:22:45.525Z"
   },
   {
    "duration": 3007,
    "start_time": "2022-12-19T20:22:45.531Z"
   },
   {
    "duration": 967,
    "start_time": "2022-12-19T20:22:48.539Z"
   },
   {
    "duration": 1549,
    "start_time": "2022-12-19T20:22:49.508Z"
   },
   {
    "duration": 5,
    "start_time": "2022-12-19T20:22:51.058Z"
   },
   {
    "duration": 13,
    "start_time": "2022-12-19T20:22:51.064Z"
   },
   {
    "duration": 14,
    "start_time": "2022-12-19T20:22:51.079Z"
   },
   {
    "duration": 23,
    "start_time": "2022-12-19T20:22:51.095Z"
   },
   {
    "duration": 19,
    "start_time": "2022-12-19T20:22:51.120Z"
   },
   {
    "duration": 7,
    "start_time": "2022-12-19T20:22:51.141Z"
   },
   {
    "duration": 792,
    "start_time": "2022-12-19T20:22:51.150Z"
   },
   {
    "duration": 5325,
    "start_time": "2022-12-19T20:22:51.945Z"
   },
   {
    "duration": 14,
    "start_time": "2022-12-19T20:22:57.272Z"
   },
   {
    "duration": 43,
    "start_time": "2022-12-19T20:22:57.288Z"
   },
   {
    "duration": 27,
    "start_time": "2022-12-19T20:22:57.333Z"
   },
   {
    "duration": 55,
    "start_time": "2022-12-20T19:11:23.870Z"
   },
   {
    "duration": 45,
    "start_time": "2022-12-20T19:13:04.342Z"
   },
   {
    "duration": 1461,
    "start_time": "2022-12-20T19:13:56.452Z"
   },
   {
    "duration": 2,
    "start_time": "2022-12-20T19:13:57.915Z"
   },
   {
    "duration": 15,
    "start_time": "2022-12-20T19:13:57.919Z"
   },
   {
    "duration": 3657,
    "start_time": "2022-12-20T19:13:57.936Z"
   },
   {
    "duration": 1670,
    "start_time": "2022-12-20T19:14:01.594Z"
   },
   {
    "duration": 84,
    "start_time": "2022-12-20T19:14:03.265Z"
   },
   {
    "duration": 5,
    "start_time": "2022-12-20T19:14:03.350Z"
   },
   {
    "duration": 25,
    "start_time": "2022-12-20T19:14:03.356Z"
   },
   {
    "duration": 8,
    "start_time": "2022-12-20T19:14:03.382Z"
   },
   {
    "duration": 24,
    "start_time": "2022-12-20T19:14:03.393Z"
   },
   {
    "duration": 19,
    "start_time": "2022-12-20T19:14:03.421Z"
   },
   {
    "duration": 19,
    "start_time": "2022-12-20T19:14:03.442Z"
   },
   {
    "duration": 3180,
    "start_time": "2022-12-20T19:14:03.463Z"
   },
   {
    "duration": 811,
    "start_time": "2022-12-20T19:14:06.645Z"
   },
   {
    "duration": 1539,
    "start_time": "2022-12-20T19:14:07.459Z"
   },
   {
    "duration": 19,
    "start_time": "2022-12-20T19:15:19.782Z"
   },
   {
    "duration": 1428,
    "start_time": "2022-12-20T19:18:53.472Z"
   },
   {
    "duration": 1479,
    "start_time": "2022-12-20T19:19:02.329Z"
   },
   {
    "duration": 3,
    "start_time": "2022-12-20T19:22:16.705Z"
   },
   {
    "duration": 103,
    "start_time": "2022-12-21T05:39:50.429Z"
   },
   {
    "duration": 2970,
    "start_time": "2022-12-21T05:40:17.231Z"
   },
   {
    "duration": 79,
    "start_time": "2022-12-21T05:40:39.160Z"
   },
   {
    "duration": 1644,
    "start_time": "2022-12-21T07:10:15.490Z"
   },
   {
    "duration": 4,
    "start_time": "2022-12-21T07:10:50.150Z"
   },
   {
    "duration": 16,
    "start_time": "2022-12-21T07:10:50.157Z"
   },
   {
    "duration": 6,
    "start_time": "2022-12-21T07:10:50.176Z"
   },
   {
    "duration": 747,
    "start_time": "2022-12-21T07:10:50.185Z"
   },
   {
    "duration": 1498,
    "start_time": "2022-12-21T07:10:50.934Z"
   },
   {
    "duration": 70,
    "start_time": "2022-12-21T07:10:52.434Z"
   },
   {
    "duration": 32,
    "start_time": "2022-12-21T07:10:52.505Z"
   },
   {
    "duration": 31,
    "start_time": "2022-12-21T07:10:52.540Z"
   },
   {
    "duration": 28,
    "start_time": "2022-12-21T07:10:52.574Z"
   },
   {
    "duration": 49,
    "start_time": "2022-12-21T07:10:52.604Z"
   },
   {
    "duration": 21,
    "start_time": "2022-12-21T07:10:52.655Z"
   },
   {
    "duration": 16,
    "start_time": "2022-12-21T07:10:52.677Z"
   },
   {
    "duration": 3322,
    "start_time": "2022-12-21T07:10:52.695Z"
   },
   {
    "duration": 847,
    "start_time": "2022-12-21T07:10:56.022Z"
   },
   {
    "duration": 1446,
    "start_time": "2022-12-21T07:10:56.870Z"
   },
   {
    "duration": 1559,
    "start_time": "2022-12-21T07:10:58.318Z"
   },
   {
    "duration": 3249,
    "start_time": "2022-12-21T07:10:59.878Z"
   },
   {
    "duration": 7,
    "start_time": "2022-12-21T09:25:51.228Z"
   },
   {
    "duration": 5,
    "start_time": "2022-12-21T09:25:51.240Z"
   },
   {
    "duration": 10,
    "start_time": "2022-12-21T09:25:51.246Z"
   },
   {
    "duration": 686,
    "start_time": "2022-12-21T09:25:51.257Z"
   },
   {
    "duration": 1539,
    "start_time": "2022-12-21T09:25:51.944Z"
   },
   {
    "duration": 74,
    "start_time": "2022-12-21T09:25:53.486Z"
   },
   {
    "duration": 4,
    "start_time": "2022-12-21T09:25:53.562Z"
   },
   {
    "duration": 12,
    "start_time": "2022-12-21T09:25:53.567Z"
   },
   {
    "duration": 5,
    "start_time": "2022-12-21T09:25:53.581Z"
   },
   {
    "duration": 35,
    "start_time": "2022-12-21T09:25:53.587Z"
   },
   {
    "duration": 16,
    "start_time": "2022-12-21T09:25:53.625Z"
   },
   {
    "duration": 6,
    "start_time": "2022-12-21T09:25:53.642Z"
   },
   {
    "duration": 3209,
    "start_time": "2022-12-21T09:25:53.650Z"
   },
   {
    "duration": 912,
    "start_time": "2022-12-21T09:25:56.860Z"
   },
   {
    "duration": 1465,
    "start_time": "2022-12-21T09:25:57.776Z"
   },
   {
    "duration": 1615,
    "start_time": "2022-12-21T09:25:59.243Z"
   },
   {
    "duration": 2981,
    "start_time": "2022-12-21T09:26:00.860Z"
   },
   {
    "duration": 4,
    "start_time": "2022-12-21T20:18:26.290Z"
   },
   {
    "duration": 15,
    "start_time": "2022-12-21T20:18:26.296Z"
   },
   {
    "duration": 6,
    "start_time": "2022-12-21T20:18:26.312Z"
   },
   {
    "duration": 2628,
    "start_time": "2022-12-21T20:18:26.320Z"
   },
   {
    "duration": 1205,
    "start_time": "2022-12-21T20:18:28.949Z"
   },
   {
    "duration": 96,
    "start_time": "2022-12-21T20:18:30.156Z"
   },
   {
    "duration": 5,
    "start_time": "2022-12-21T20:18:30.254Z"
   },
   {
    "duration": 14,
    "start_time": "2022-12-21T20:18:30.260Z"
   },
   {
    "duration": 11,
    "start_time": "2022-12-21T20:18:30.276Z"
   },
   {
    "duration": 54,
    "start_time": "2022-12-21T20:18:30.288Z"
   },
   {
    "duration": 12,
    "start_time": "2022-12-21T20:18:30.344Z"
   },
   {
    "duration": 4,
    "start_time": "2022-12-21T20:18:30.359Z"
   },
   {
    "duration": 3350,
    "start_time": "2022-12-21T20:18:30.365Z"
   },
   {
    "duration": 845,
    "start_time": "2022-12-21T20:18:33.723Z"
   },
   {
    "duration": 1656,
    "start_time": "2022-12-21T20:18:43.711Z"
   },
   {
    "duration": 1448,
    "start_time": "2022-12-21T20:19:47.278Z"
   },
   {
    "duration": 1780,
    "start_time": "2022-12-21T20:21:21.790Z"
   },
   {
    "duration": 1330,
    "start_time": "2022-12-21T20:22:59.427Z"
   },
   {
    "duration": 3,
    "start_time": "2022-12-21T20:23:00.759Z"
   },
   {
    "duration": 25,
    "start_time": "2022-12-21T20:23:00.763Z"
   },
   {
    "duration": 743,
    "start_time": "2022-12-21T20:23:00.790Z"
   },
   {
    "duration": 1544,
    "start_time": "2022-12-21T20:23:01.540Z"
   },
   {
    "duration": 86,
    "start_time": "2022-12-21T20:23:03.086Z"
   },
   {
    "duration": 4,
    "start_time": "2022-12-21T20:23:03.174Z"
   },
   {
    "duration": 46,
    "start_time": "2022-12-21T20:23:03.180Z"
   },
   {
    "duration": 5,
    "start_time": "2022-12-21T20:23:03.228Z"
   },
   {
    "duration": 23,
    "start_time": "2022-12-21T20:23:03.235Z"
   },
   {
    "duration": 11,
    "start_time": "2022-12-21T20:23:03.260Z"
   },
   {
    "duration": 49,
    "start_time": "2022-12-21T20:23:03.273Z"
   },
   {
    "duration": 3088,
    "start_time": "2022-12-21T20:23:03.324Z"
   },
   {
    "duration": 1047,
    "start_time": "2022-12-21T20:23:06.416Z"
   },
   {
    "duration": 1547,
    "start_time": "2022-12-21T20:23:07.465Z"
   },
   {
    "duration": 1383,
    "start_time": "2022-12-21T20:23:09.015Z"
   },
   {
    "duration": 3213,
    "start_time": "2022-12-21T20:23:10.400Z"
   },
   {
    "duration": 122,
    "start_time": "2022-12-21T20:23:13.615Z"
   },
   {
    "duration": 0,
    "start_time": "2022-12-21T20:23:13.738Z"
   },
   {
    "duration": 0,
    "start_time": "2022-12-21T20:23:13.739Z"
   },
   {
    "duration": 0,
    "start_time": "2022-12-21T20:23:13.740Z"
   },
   {
    "duration": 0,
    "start_time": "2022-12-21T20:23:13.741Z"
   },
   {
    "duration": 0,
    "start_time": "2022-12-21T20:23:13.742Z"
   },
   {
    "duration": 0,
    "start_time": "2022-12-21T20:23:13.743Z"
   },
   {
    "duration": 0,
    "start_time": "2022-12-21T20:23:13.744Z"
   },
   {
    "duration": 0,
    "start_time": "2022-12-21T20:23:13.745Z"
   },
   {
    "duration": 0,
    "start_time": "2022-12-21T20:23:13.746Z"
   },
   {
    "duration": 0,
    "start_time": "2022-12-21T20:23:13.747Z"
   },
   {
    "duration": 0,
    "start_time": "2022-12-21T20:23:13.748Z"
   },
   {
    "duration": 10,
    "start_time": "2022-12-21T20:24:23.093Z"
   },
   {
    "duration": 3304,
    "start_time": "2022-12-21T20:25:22.237Z"
   },
   {
    "duration": 1275,
    "start_time": "2022-12-21T20:27:49.571Z"
   },
   {
    "duration": 4,
    "start_time": "2022-12-21T20:27:50.847Z"
   },
   {
    "duration": 14,
    "start_time": "2022-12-21T20:27:50.852Z"
   },
   {
    "duration": 689,
    "start_time": "2022-12-21T20:27:50.868Z"
   },
   {
    "duration": 1254,
    "start_time": "2022-12-21T20:27:51.560Z"
   },
   {
    "duration": 112,
    "start_time": "2022-12-21T20:27:52.816Z"
   },
   {
    "duration": 5,
    "start_time": "2022-12-21T20:27:52.929Z"
   },
   {
    "duration": 9,
    "start_time": "2022-12-21T20:27:52.935Z"
   },
   {
    "duration": 8,
    "start_time": "2022-12-21T20:27:52.945Z"
   },
   {
    "duration": 15,
    "start_time": "2022-12-21T20:27:52.954Z"
   },
   {
    "duration": 56,
    "start_time": "2022-12-21T20:27:52.971Z"
   },
   {
    "duration": 5,
    "start_time": "2022-12-21T20:27:53.028Z"
   },
   {
    "duration": 2974,
    "start_time": "2022-12-21T20:27:53.034Z"
   },
   {
    "duration": 937,
    "start_time": "2022-12-21T20:27:56.011Z"
   },
   {
    "duration": 1456,
    "start_time": "2022-12-21T20:27:56.950Z"
   },
   {
    "duration": 1387,
    "start_time": "2022-12-21T20:27:58.408Z"
   },
   {
    "duration": 3125,
    "start_time": "2022-12-21T20:27:59.797Z"
   },
   {
    "duration": 4,
    "start_time": "2022-12-21T20:28:02.924Z"
   },
   {
    "duration": 49,
    "start_time": "2022-12-21T20:28:02.930Z"
   },
   {
    "duration": 27,
    "start_time": "2022-12-21T20:28:02.981Z"
   },
   {
    "duration": 50,
    "start_time": "2022-12-21T20:28:03.009Z"
   },
   {
    "duration": 10,
    "start_time": "2022-12-21T20:28:03.060Z"
   },
   {
    "duration": 27,
    "start_time": "2022-12-21T20:28:03.071Z"
   },
   {
    "duration": 1229,
    "start_time": "2022-12-21T20:28:03.100Z"
   },
   {
    "duration": 4820,
    "start_time": "2022-12-21T20:28:04.423Z"
   },
   {
    "duration": 13,
    "start_time": "2022-12-21T20:28:09.245Z"
   },
   {
    "duration": 20,
    "start_time": "2022-12-21T20:28:09.260Z"
   },
   {
    "duration": 47,
    "start_time": "2022-12-21T20:28:09.282Z"
   },
   {
    "duration": 1914,
    "start_time": "2022-12-22T14:27:57.878Z"
   },
   {
    "duration": 2,
    "start_time": "2022-12-22T14:27:59.794Z"
   },
   {
    "duration": 6,
    "start_time": "2022-12-22T14:27:59.797Z"
   },
   {
    "duration": 804,
    "start_time": "2022-12-22T14:27:59.805Z"
   },
   {
    "duration": 1511,
    "start_time": "2022-12-22T14:28:00.610Z"
   },
   {
    "duration": 82,
    "start_time": "2022-12-22T14:28:02.123Z"
   },
   {
    "duration": 4,
    "start_time": "2022-12-22T14:28:02.206Z"
   },
   {
    "duration": 44,
    "start_time": "2022-12-22T14:28:02.212Z"
   },
   {
    "duration": 54,
    "start_time": "2022-12-22T14:28:02.258Z"
   },
   {
    "duration": 34,
    "start_time": "2022-12-22T14:28:02.314Z"
   },
   {
    "duration": 29,
    "start_time": "2022-12-22T14:28:02.350Z"
   },
   {
    "duration": 17,
    "start_time": "2022-12-22T14:28:02.381Z"
   },
   {
    "duration": 3005,
    "start_time": "2022-12-22T14:28:02.399Z"
   },
   {
    "duration": 951,
    "start_time": "2022-12-22T14:28:05.405Z"
   },
   {
    "duration": 1544,
    "start_time": "2022-12-22T14:28:06.359Z"
   },
   {
    "duration": 1613,
    "start_time": "2022-12-22T14:28:07.904Z"
   },
   {
    "duration": 3257,
    "start_time": "2022-12-22T14:28:09.519Z"
   },
   {
    "duration": 5,
    "start_time": "2022-12-22T14:28:12.777Z"
   },
   {
    "duration": 9,
    "start_time": "2022-12-22T14:28:12.784Z"
   },
   {
    "duration": 14,
    "start_time": "2022-12-22T14:28:12.795Z"
   },
   {
    "duration": 58,
    "start_time": "2022-12-22T14:28:24.903Z"
   },
   {
    "duration": 123,
    "start_time": "2022-12-22T14:28:35.457Z"
   },
   {
    "duration": 9,
    "start_time": "2022-12-22T14:28:52.402Z"
   },
   {
    "duration": 5,
    "start_time": "2022-12-22T14:28:53.548Z"
   },
   {
    "duration": 22,
    "start_time": "2022-12-22T14:30:23.727Z"
   },
   {
    "duration": 7,
    "start_time": "2022-12-22T14:30:44.681Z"
   },
   {
    "duration": 19,
    "start_time": "2022-12-22T14:30:58.657Z"
   },
   {
    "duration": 17,
    "start_time": "2022-12-22T14:32:09.300Z"
   },
   {
    "duration": 2,
    "start_time": "2022-12-22T14:32:13.968Z"
   },
   {
    "duration": 2,
    "start_time": "2022-12-22T14:32:14.932Z"
   },
   {
    "duration": 974,
    "start_time": "2022-12-22T14:32:15.612Z"
   },
   {
    "duration": 4777,
    "start_time": "2022-12-22T14:32:20.097Z"
   },
   {
    "duration": 11,
    "start_time": "2022-12-22T14:32:27.347Z"
   },
   {
    "duration": 19,
    "start_time": "2022-12-22T14:32:31.259Z"
   },
   {
    "duration": 19,
    "start_time": "2022-12-22T14:32:55.912Z"
   },
   {
    "duration": 6,
    "start_time": "2022-12-22T14:34:16.681Z"
   },
   {
    "duration": 7,
    "start_time": "2022-12-22T14:34:17.683Z"
   },
   {
    "duration": 2,
    "start_time": "2022-12-22T14:34:18.162Z"
   },
   {
    "duration": 4,
    "start_time": "2022-12-22T14:34:19.629Z"
   },
   {
    "duration": 2,
    "start_time": "2022-12-22T14:34:20.147Z"
   },
   {
    "duration": 988,
    "start_time": "2022-12-22T14:34:20.689Z"
   },
   {
    "duration": 5069,
    "start_time": "2022-12-22T14:34:24.988Z"
   },
   {
    "duration": 10,
    "start_time": "2022-12-22T14:34:31.713Z"
   },
   {
    "duration": 20,
    "start_time": "2022-12-22T14:34:33.204Z"
   },
   {
    "duration": 22,
    "start_time": "2022-12-22T14:35:38.773Z"
   },
   {
    "duration": 9,
    "start_time": "2022-12-22T14:36:39.489Z"
   },
   {
    "duration": 10,
    "start_time": "2022-12-22T14:37:01.750Z"
   },
   {
    "duration": 8,
    "start_time": "2022-12-22T14:37:23.854Z"
   },
   {
    "duration": 26,
    "start_time": "2022-12-22T14:37:50.165Z"
   },
   {
    "duration": 30,
    "start_time": "2022-12-22T14:37:59.520Z"
   },
   {
    "duration": 25,
    "start_time": "2022-12-22T14:38:16.655Z"
   },
   {
    "duration": 20,
    "start_time": "2022-12-22T14:40:18.461Z"
   },
   {
    "duration": 8,
    "start_time": "2022-12-22T14:42:49.498Z"
   },
   {
    "duration": 14,
    "start_time": "2022-12-22T15:01:30.577Z"
   },
   {
    "duration": 22,
    "start_time": "2022-12-22T15:02:29.127Z"
   },
   {
    "duration": 4,
    "start_time": "2022-12-22T15:03:19.298Z"
   },
   {
    "duration": 5358,
    "start_time": "2022-12-22T15:04:47.057Z"
   },
   {
    "duration": 22,
    "start_time": "2022-12-22T15:05:04.487Z"
   },
   {
    "duration": 100,
    "start_time": "2022-12-22T15:06:47.642Z"
   }
  ],
  "kernelspec": {
   "display_name": "Python 3 (ipykernel)",
   "language": "python",
   "name": "python3"
  },
  "language_info": {
   "codemirror_mode": {
    "name": "ipython",
    "version": 3
   },
   "file_extension": ".py",
   "mimetype": "text/x-python",
   "name": "python",
   "nbconvert_exporter": "python",
   "pygments_lexer": "ipython3",
   "version": "3.9.12"
  },
  "toc": {
   "base_numbering": 1,
   "nav_menu": {},
   "number_sections": true,
   "sideBar": true,
   "skip_h1_title": true,
   "title_cell": "Содержание",
   "title_sidebar": "Contents",
   "toc_cell": true,
   "toc_position": {
    "height": "calc(100% - 180px)",
    "left": "10px",
    "top": "150px",
    "width": "272.259px"
   },
   "toc_section_display": true,
   "toc_window_display": true
  }
 },
 "nbformat": 4,
 "nbformat_minor": 2
}
