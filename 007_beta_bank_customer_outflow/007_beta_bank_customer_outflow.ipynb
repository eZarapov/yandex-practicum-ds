{
  "cells": [
    {
      "cell_type": "markdown",
      "metadata": {
        "toc": true,
        "id": "sB05Or4IWlfP"
      },
      "source": [
        "<h1>Содержание<span class=\"tocSkip\"></span></h1>\n",
        "<div class=\"toc\"><ul class=\"toc-item\"><li><span><a href=\"#Подготовка-данных\" data-toc-modified-id=\"Подготовка-данных-1\"><span class=\"toc-item-num\">1&nbsp;&nbsp;</span>Подготовка данных</a></span><ul class=\"toc-item\"><li><span><a href=\"#Анализ-CustomerId-(уникальный-идентификатор-клиента)\" data-toc-modified-id=\"Анализ-CustomerId-(уникальный-идентификатор-клиента)-1.1\"><span class=\"toc-item-num\">1.1&nbsp;&nbsp;</span>Анализ CustomerId (уникальный идентификатор клиента)</a></span></li><li><span><a href=\"#Анализ-Surname-—-фамилия\" data-toc-modified-id=\"Анализ-Surname-—-фамилия-1.2\"><span class=\"toc-item-num\">1.2&nbsp;&nbsp;</span>Анализ Surname — фамилия</a></span></li><li><span><a href=\"#CreditScore-—-кредитный-рейтинг\" data-toc-modified-id=\"CreditScore-—-кредитный-рейтинг-1.3\"><span class=\"toc-item-num\">1.3&nbsp;&nbsp;</span>CreditScore — кредитный рейтинг</a></span></li><li><span><a href=\"#Анализ-Geography-—-страна-проживания\" data-toc-modified-id=\"Анализ-Geography-—-страна-проживания-1.4\"><span class=\"toc-item-num\">1.4&nbsp;&nbsp;</span>Анализ Geography — страна проживания</a></span></li><li><span><a href=\"#Анализ-Gender-—-пол\" data-toc-modified-id=\"Анализ-Gender-—-пол-1.5\"><span class=\"toc-item-num\">1.5&nbsp;&nbsp;</span>Анализ Gender — пол</a></span></li><li><span><a href=\"#Анализ-Tenure-—-сколько-лет-человек-является-клиентом-банка\" data-toc-modified-id=\"Анализ-Tenure-—-сколько-лет-человек-является-клиентом-банка-1.6\"><span class=\"toc-item-num\">1.6&nbsp;&nbsp;</span>Анализ Tenure — сколько лет человек является клиентом банка</a></span></li><li><span><a href=\"#Анализ-Age-—-возраст\" data-toc-modified-id=\"Анализ-Age-—-возраст-1.7\"><span class=\"toc-item-num\">1.7&nbsp;&nbsp;</span>Анализ Age — возраст</a></span></li><li><span><a href=\"#Анализ-Balance-—-баланс-на-счёте\" data-toc-modified-id=\"Анализ-Balance-—-баланс-на-счёте-1.8\"><span class=\"toc-item-num\">1.8&nbsp;&nbsp;</span>Анализ Balance — баланс на счёте</a></span></li><li><span><a href=\"#Анализ-NumOfProducts-—-количество-продуктов-банка,-используемых-клиентом\" data-toc-modified-id=\"Анализ-NumOfProducts-—-количество-продуктов-банка,-используемых-клиентом-1.9\"><span class=\"toc-item-num\">1.9&nbsp;&nbsp;</span>Анализ NumOfProducts — количество продуктов банка, используемых клиентом</a></span></li><li><span><a href=\"#Анализ-HasCrCard-—-наличие-кредитной-карты\" data-toc-modified-id=\"Анализ-HasCrCard-—-наличие-кредитной-карты-1.10\"><span class=\"toc-item-num\">1.10&nbsp;&nbsp;</span>Анализ HasCrCard — наличие кредитной карты</a></span></li><li><span><a href=\"#Анализ-IsActiveMember-—-активность-клиента\" data-toc-modified-id=\"Анализ-IsActiveMember-—-активность-клиента-1.11\"><span class=\"toc-item-num\">1.11&nbsp;&nbsp;</span>Анализ IsActiveMember — активность клиента</a></span></li><li><span><a href=\"#Анализ-EstimatedSalary-—-предполагаемая-зарплата\" data-toc-modified-id=\"Анализ-EstimatedSalary-—-предполагаемая-зарплата-1.12\"><span class=\"toc-item-num\">1.12&nbsp;&nbsp;</span>Анализ EstimatedSalary — предполагаемая зарплата</a></span></li><li><span><a href=\"#Корреляция-признаков\" data-toc-modified-id=\"Корреляция-признаков-1.13\"><span class=\"toc-item-num\">1.13&nbsp;&nbsp;</span>Корреляция признаков</a></span></li><li><span><a href=\"#Анализ-Exited-—-факт-ухода-клиента\" data-toc-modified-id=\"Анализ-Exited-—-факт-ухода-клиента-1.14\"><span class=\"toc-item-num\">1.14&nbsp;&nbsp;</span>Анализ Exited — факт ухода клиента</a></span></li><li><span><a href=\"#Удалим-ненужные-данные\" data-toc-modified-id=\"Удалим-ненужные-данные-1.15\"><span class=\"toc-item-num\">1.15&nbsp;&nbsp;</span>Удалим ненужные данные</a></span></li></ul></li><li><span><a href=\"#Исследование-задачи\" data-toc-modified-id=\"Исследование-задачи-2\"><span class=\"toc-item-num\">2&nbsp;&nbsp;</span>Исследование задачи</a></span><ul class=\"toc-item\"><li><span><a href=\"#Подготовка-данных-для-исследования-задачи\" data-toc-modified-id=\"Подготовка-данных-для-исследования-задачи-2.1\"><span class=\"toc-item-num\">2.1&nbsp;&nbsp;</span>Подготовка данных для исследования задачи</a></span></li><li><span><a href=\"#Логистическая-регрессия\" data-toc-modified-id=\"Логистическая-регрессия-2.2\"><span class=\"toc-item-num\">2.2&nbsp;&nbsp;</span>Логистическая регрессия</a></span></li><li><span><a href=\"#Случайный-лес\" data-toc-modified-id=\"Случайный-лес-2.3\"><span class=\"toc-item-num\">2.3&nbsp;&nbsp;</span>Случайный лес</a></span></li><li><span><a href=\"#Выводы\" data-toc-modified-id=\"Выводы-2.4\"><span class=\"toc-item-num\">2.4&nbsp;&nbsp;</span>Выводы</a></span></li></ul></li><li><span><a href=\"#Борьба-с-дисбалансом-(увеличение-выбоки)\" data-toc-modified-id=\"Борьба-с-дисбалансом-(увеличение-выбоки)-3\"><span class=\"toc-item-num\">3&nbsp;&nbsp;</span>Борьба с дисбалансом (увеличение выбоки)</a></span><ul class=\"toc-item\"><li><span><a href=\"#Подготовка-данных-для-исследования\" data-toc-modified-id=\"Подготовка-данных-для-исследования-3.1\"><span class=\"toc-item-num\">3.1&nbsp;&nbsp;</span>Подготовка данных для исследования</a></span></li><li><span><a href=\"#Логистичческая-регрессия\" data-toc-modified-id=\"Логистичческая-регрессия-3.2\"><span class=\"toc-item-num\">3.2&nbsp;&nbsp;</span>Логистичческая регрессия</a></span></li><li><span><a href=\"#Случайный-лес\" data-toc-modified-id=\"Случайный-лес-3.3\"><span class=\"toc-item-num\">3.3&nbsp;&nbsp;</span>Случайный лес</a></span></li><li><span><a href=\"#Выводы\" data-toc-modified-id=\"Выводы-3.4\"><span class=\"toc-item-num\">3.4&nbsp;&nbsp;</span>Выводы</a></span></li></ul></li><li><span><a href=\"#Борьба-в-дисбанасов-(классовая-балансировка)\" data-toc-modified-id=\"Борьба-в-дисбанасов-(классовая-балансировка)-4\"><span class=\"toc-item-num\">4&nbsp;&nbsp;</span>Борьба в дисбанасов (классовая балансировка)</a></span><ul class=\"toc-item\"><li><span><a href=\"#Подготовка-данных-для-исследования\" data-toc-modified-id=\"Подготовка-данных-для-исследования-4.1\"><span class=\"toc-item-num\">4.1&nbsp;&nbsp;</span>Подготовка данных для исследования</a></span></li><li><span><a href=\"#Логистическая-регрессия\" data-toc-modified-id=\"Логистическая-регрессия-4.2\"><span class=\"toc-item-num\">4.2&nbsp;&nbsp;</span>Логистическая регрессия</a></span></li><li><span><a href=\"#Случайный-лес\" data-toc-modified-id=\"Случайный-лес-4.3\"><span class=\"toc-item-num\">4.3&nbsp;&nbsp;</span>Случайный лес</a></span></li><li><span><a href=\"#Выводы\" data-toc-modified-id=\"Выводы-4.4\"><span class=\"toc-item-num\">4.4&nbsp;&nbsp;</span>Выводы</a></span></li></ul></li><li><span><a href=\"#Тестирование-модели\" data-toc-modified-id=\"Тестирование-модели-5\"><span class=\"toc-item-num\">5&nbsp;&nbsp;</span>Тестирование модели</a></span></li><li><span><a href=\"#Выводы-по-проекту\" data-toc-modified-id=\"Выводы-по-проекту-6\"><span class=\"toc-item-num\">6&nbsp;&nbsp;</span>Выводы по проекту</a></span></li><li><span><a href=\"#Чек-лист-готовности-проекта\" data-toc-modified-id=\"Чек-лист-готовности-проекта-7\"><span class=\"toc-item-num\">7&nbsp;&nbsp;</span>Чек-лист готовности проекта</a></span></li></ul></div>"
      ]
    },
    {
      "cell_type": "markdown",
      "metadata": {
        "id": "mNxJNVf9WlfT"
      },
      "source": [
        "# Отток клиентов"
      ]
    },
    {
      "cell_type": "markdown",
      "metadata": {
        "id": "tsMgG8yKWlfU"
      },
      "source": [
        "Из «Бета-Банка» стали уходить клиенты. Каждый месяц. Немного, но заметно. Банковские маркетологи посчитали: сохранять текущих клиентов дешевле, чем привлекать новых.\n",
        "\n",
        "Нужно спрогнозировать, уйдёт клиент из банка в ближайшее время или нет. Вам предоставлены исторические данные о поведении клиентов и расторжении договоров с банком. \n",
        "\n",
        "Постройте модель с предельно большим значением *F1*-меры. Чтобы сдать проект успешно, нужно довести метрику до 0.59. Проверьте *F1*-меру на тестовой выборке самостоятельно.\n",
        "\n",
        "Дополнительно измеряйте *AUC-ROC*, сравнивайте её значение с *F1*-мерой.\n",
        "\n",
        "Источник данных: [https://www.kaggle.com/barelydedicated/bank-customer-churn-modeling](https://www.kaggle.com/barelydedicated/bank-customer-churn-modeling)"
      ]
    },
    {
      "cell_type": "markdown",
      "metadata": {
        "id": "-wGcf0TTWlfU"
      },
      "source": [
        "## Подготовка данных"
      ]
    },
    {
      "cell_type": "markdown",
      "metadata": {
        "id": "Yeh-id3qWlfU"
      },
      "source": [
        "__Признаки__\n",
        "+ RowNumber — индекс строки в данных\n",
        "+ CustomerId — уникальный идентификатор клиента\n",
        "+ Surname — фамилия\n",
        "+ CreditScore — кредитный рейтинг\n",
        "+ Geography — страна проживания\n",
        "+ Gender — пол\n",
        "+ Age — возраст\n",
        "+ Tenure — сколько лет человек является клиентом банка\n",
        "+ Balance — баланс на счёте\n",
        "+ NumOfProducts — количество продуктов банка, используемых клиентом\n",
        "+ HasCrCard — наличие кредитной карты\n",
        "+ IsActiveMember — активность клиента\n",
        "+ EstimatedSalary — предполагаемая зарплата\n",
        "\n",
        "__Целевой признак__\n",
        "+ Exited — факт ухода клиента"
      ]
    },
    {
      "cell_type": "code",
      "execution_count": 1,
      "metadata": {
        "id": "bBeHCQoPWlfV"
      },
      "outputs": [],
      "source": [
        "# загружаем используемые библиотеки\n",
        "\n",
        "import pandas as pd\n",
        "import numpy as np\n",
        "import matplotlib.pyplot as plt\n",
        "import seaborn as sns\n",
        "import os\n",
        "\n",
        "from sklearn.linear_model import LogisticRegression\n",
        "from sklearn.model_selection import train_test_split\n",
        "from sklearn.metrics import accuracy_score\n",
        "\n",
        "from sklearn.ensemble import RandomForestClassifier\n",
        "from sklearn.model_selection import GridSearchCV\n",
        "\n",
        "from sklearn.dummy import DummyClassifier\n",
        "\n",
        "import matplotlib.pyplot as plt\n",
        "\n",
        "from sklearn.metrics import f1_score\n",
        "from sklearn.metrics import roc_auc_score\n",
        "from sklearn.metrics import precision_score, recall_score\n",
        "from sklearn.utils import shuffle"
      ]
    },
    {
      "cell_type": "code",
      "execution_count": 2,
      "metadata": {
        "id": "YQ5nTlgkWlfa"
      },
      "outputs": [],
      "source": [
        "# зададим параметры\n",
        "rs = 42 # random_state=42"
      ]
    },
    {
      "cell_type": "code",
      "execution_count": 3,
      "metadata": {
        "id": "J-7UPV-EWlfa"
      },
      "outputs": [],
      "source": [
        "# загрузим предоставленные данные\n",
        "\n",
        "pth1 = 'datasets/Churn.csv'\n",
        "pth2 = 'https://www.kaggle.com/barelydedicated/bank-customer-churn-modeling'\n",
        "\n",
        "if os.path.exists(pth1):\n",
        "    data = pd.read_csv(pth1)\n",
        "elif os.path.exists(pth2):\n",
        "    data = pd.read_csv(pth2)\n",
        "else:\n",
        "    print('Something is wrong')"
      ]
    },
    {
      "cell_type": "code",
      "execution_count": 4,
      "metadata": {
        "scrolled": true,
        "colab": {
          "base_uri": "https://localhost:8080/",
          "height": 424
        },
        "id": "qKT-fZ8zWlfa",
        "outputId": "b2aeec95-fac8-4ed8-efe8-519fdbf6e085"
      },
      "outputs": [
        {
          "output_type": "execute_result",
          "data": {
            "text/plain": [
              "      RowNumber  CustomerId    Surname  CreditScore Geography  Gender  Age  \\\n",
              "0             1    15634602   Hargrave          619    France  Female   42   \n",
              "1             2    15647311       Hill          608     Spain  Female   41   \n",
              "2             3    15619304       Onio          502    France  Female   42   \n",
              "3             4    15701354       Boni          699    France  Female   39   \n",
              "4             5    15737888   Mitchell          850     Spain  Female   43   \n",
              "...         ...         ...        ...          ...       ...     ...  ...   \n",
              "9995       9996    15606229   Obijiaku          771    France    Male   39   \n",
              "9996       9997    15569892  Johnstone          516    France    Male   35   \n",
              "9997       9998    15584532        Liu          709    France  Female   36   \n",
              "9998       9999    15682355  Sabbatini          772   Germany    Male   42   \n",
              "9999      10000    15628319     Walker          792    France  Female   28   \n",
              "\n",
              "      Tenure    Balance  NumOfProducts  HasCrCard  IsActiveMember  \\\n",
              "0        2.0       0.00              1          1               1   \n",
              "1        1.0   83807.86              1          0               1   \n",
              "2        8.0  159660.80              3          1               0   \n",
              "3        1.0       0.00              2          0               0   \n",
              "4        2.0  125510.82              1          1               1   \n",
              "...      ...        ...            ...        ...             ...   \n",
              "9995     5.0       0.00              2          1               0   \n",
              "9996    10.0   57369.61              1          1               1   \n",
              "9997     7.0       0.00              1          0               1   \n",
              "9998     3.0   75075.31              2          1               0   \n",
              "9999     NaN  130142.79              1          1               0   \n",
              "\n",
              "      EstimatedSalary  Exited  \n",
              "0           101348.88       1  \n",
              "1           112542.58       0  \n",
              "2           113931.57       1  \n",
              "3            93826.63       0  \n",
              "4            79084.10       0  \n",
              "...               ...     ...  \n",
              "9995         96270.64       0  \n",
              "9996        101699.77       0  \n",
              "9997         42085.58       1  \n",
              "9998         92888.52       1  \n",
              "9999         38190.78       0  \n",
              "\n",
              "[10000 rows x 14 columns]"
            ],
            "text/html": [
              "\n",
              "  <div id=\"df-b837b8c7-9de9-4a3e-b0ad-58bc77bcedaa\">\n",
              "    <div class=\"colab-df-container\">\n",
              "      <div>\n",
              "<style scoped>\n",
              "    .dataframe tbody tr th:only-of-type {\n",
              "        vertical-align: middle;\n",
              "    }\n",
              "\n",
              "    .dataframe tbody tr th {\n",
              "        vertical-align: top;\n",
              "    }\n",
              "\n",
              "    .dataframe thead th {\n",
              "        text-align: right;\n",
              "    }\n",
              "</style>\n",
              "<table border=\"1\" class=\"dataframe\">\n",
              "  <thead>\n",
              "    <tr style=\"text-align: right;\">\n",
              "      <th></th>\n",
              "      <th>RowNumber</th>\n",
              "      <th>CustomerId</th>\n",
              "      <th>Surname</th>\n",
              "      <th>CreditScore</th>\n",
              "      <th>Geography</th>\n",
              "      <th>Gender</th>\n",
              "      <th>Age</th>\n",
              "      <th>Tenure</th>\n",
              "      <th>Balance</th>\n",
              "      <th>NumOfProducts</th>\n",
              "      <th>HasCrCard</th>\n",
              "      <th>IsActiveMember</th>\n",
              "      <th>EstimatedSalary</th>\n",
              "      <th>Exited</th>\n",
              "    </tr>\n",
              "  </thead>\n",
              "  <tbody>\n",
              "    <tr>\n",
              "      <th>0</th>\n",
              "      <td>1</td>\n",
              "      <td>15634602</td>\n",
              "      <td>Hargrave</td>\n",
              "      <td>619</td>\n",
              "      <td>France</td>\n",
              "      <td>Female</td>\n",
              "      <td>42</td>\n",
              "      <td>2.0</td>\n",
              "      <td>0.00</td>\n",
              "      <td>1</td>\n",
              "      <td>1</td>\n",
              "      <td>1</td>\n",
              "      <td>101348.88</td>\n",
              "      <td>1</td>\n",
              "    </tr>\n",
              "    <tr>\n",
              "      <th>1</th>\n",
              "      <td>2</td>\n",
              "      <td>15647311</td>\n",
              "      <td>Hill</td>\n",
              "      <td>608</td>\n",
              "      <td>Spain</td>\n",
              "      <td>Female</td>\n",
              "      <td>41</td>\n",
              "      <td>1.0</td>\n",
              "      <td>83807.86</td>\n",
              "      <td>1</td>\n",
              "      <td>0</td>\n",
              "      <td>1</td>\n",
              "      <td>112542.58</td>\n",
              "      <td>0</td>\n",
              "    </tr>\n",
              "    <tr>\n",
              "      <th>2</th>\n",
              "      <td>3</td>\n",
              "      <td>15619304</td>\n",
              "      <td>Onio</td>\n",
              "      <td>502</td>\n",
              "      <td>France</td>\n",
              "      <td>Female</td>\n",
              "      <td>42</td>\n",
              "      <td>8.0</td>\n",
              "      <td>159660.80</td>\n",
              "      <td>3</td>\n",
              "      <td>1</td>\n",
              "      <td>0</td>\n",
              "      <td>113931.57</td>\n",
              "      <td>1</td>\n",
              "    </tr>\n",
              "    <tr>\n",
              "      <th>3</th>\n",
              "      <td>4</td>\n",
              "      <td>15701354</td>\n",
              "      <td>Boni</td>\n",
              "      <td>699</td>\n",
              "      <td>France</td>\n",
              "      <td>Female</td>\n",
              "      <td>39</td>\n",
              "      <td>1.0</td>\n",
              "      <td>0.00</td>\n",
              "      <td>2</td>\n",
              "      <td>0</td>\n",
              "      <td>0</td>\n",
              "      <td>93826.63</td>\n",
              "      <td>0</td>\n",
              "    </tr>\n",
              "    <tr>\n",
              "      <th>4</th>\n",
              "      <td>5</td>\n",
              "      <td>15737888</td>\n",
              "      <td>Mitchell</td>\n",
              "      <td>850</td>\n",
              "      <td>Spain</td>\n",
              "      <td>Female</td>\n",
              "      <td>43</td>\n",
              "      <td>2.0</td>\n",
              "      <td>125510.82</td>\n",
              "      <td>1</td>\n",
              "      <td>1</td>\n",
              "      <td>1</td>\n",
              "      <td>79084.10</td>\n",
              "      <td>0</td>\n",
              "    </tr>\n",
              "    <tr>\n",
              "      <th>...</th>\n",
              "      <td>...</td>\n",
              "      <td>...</td>\n",
              "      <td>...</td>\n",
              "      <td>...</td>\n",
              "      <td>...</td>\n",
              "      <td>...</td>\n",
              "      <td>...</td>\n",
              "      <td>...</td>\n",
              "      <td>...</td>\n",
              "      <td>...</td>\n",
              "      <td>...</td>\n",
              "      <td>...</td>\n",
              "      <td>...</td>\n",
              "      <td>...</td>\n",
              "    </tr>\n",
              "    <tr>\n",
              "      <th>9995</th>\n",
              "      <td>9996</td>\n",
              "      <td>15606229</td>\n",
              "      <td>Obijiaku</td>\n",
              "      <td>771</td>\n",
              "      <td>France</td>\n",
              "      <td>Male</td>\n",
              "      <td>39</td>\n",
              "      <td>5.0</td>\n",
              "      <td>0.00</td>\n",
              "      <td>2</td>\n",
              "      <td>1</td>\n",
              "      <td>0</td>\n",
              "      <td>96270.64</td>\n",
              "      <td>0</td>\n",
              "    </tr>\n",
              "    <tr>\n",
              "      <th>9996</th>\n",
              "      <td>9997</td>\n",
              "      <td>15569892</td>\n",
              "      <td>Johnstone</td>\n",
              "      <td>516</td>\n",
              "      <td>France</td>\n",
              "      <td>Male</td>\n",
              "      <td>35</td>\n",
              "      <td>10.0</td>\n",
              "      <td>57369.61</td>\n",
              "      <td>1</td>\n",
              "      <td>1</td>\n",
              "      <td>1</td>\n",
              "      <td>101699.77</td>\n",
              "      <td>0</td>\n",
              "    </tr>\n",
              "    <tr>\n",
              "      <th>9997</th>\n",
              "      <td>9998</td>\n",
              "      <td>15584532</td>\n",
              "      <td>Liu</td>\n",
              "      <td>709</td>\n",
              "      <td>France</td>\n",
              "      <td>Female</td>\n",
              "      <td>36</td>\n",
              "      <td>7.0</td>\n",
              "      <td>0.00</td>\n",
              "      <td>1</td>\n",
              "      <td>0</td>\n",
              "      <td>1</td>\n",
              "      <td>42085.58</td>\n",
              "      <td>1</td>\n",
              "    </tr>\n",
              "    <tr>\n",
              "      <th>9998</th>\n",
              "      <td>9999</td>\n",
              "      <td>15682355</td>\n",
              "      <td>Sabbatini</td>\n",
              "      <td>772</td>\n",
              "      <td>Germany</td>\n",
              "      <td>Male</td>\n",
              "      <td>42</td>\n",
              "      <td>3.0</td>\n",
              "      <td>75075.31</td>\n",
              "      <td>2</td>\n",
              "      <td>1</td>\n",
              "      <td>0</td>\n",
              "      <td>92888.52</td>\n",
              "      <td>1</td>\n",
              "    </tr>\n",
              "    <tr>\n",
              "      <th>9999</th>\n",
              "      <td>10000</td>\n",
              "      <td>15628319</td>\n",
              "      <td>Walker</td>\n",
              "      <td>792</td>\n",
              "      <td>France</td>\n",
              "      <td>Female</td>\n",
              "      <td>28</td>\n",
              "      <td>NaN</td>\n",
              "      <td>130142.79</td>\n",
              "      <td>1</td>\n",
              "      <td>1</td>\n",
              "      <td>0</td>\n",
              "      <td>38190.78</td>\n",
              "      <td>0</td>\n",
              "    </tr>\n",
              "  </tbody>\n",
              "</table>\n",
              "<p>10000 rows × 14 columns</p>\n",
              "</div>\n",
              "      <button class=\"colab-df-convert\" onclick=\"convertToInteractive('df-b837b8c7-9de9-4a3e-b0ad-58bc77bcedaa')\"\n",
              "              title=\"Convert this dataframe to an interactive table.\"\n",
              "              style=\"display:none;\">\n",
              "        \n",
              "  <svg xmlns=\"http://www.w3.org/2000/svg\" height=\"24px\"viewBox=\"0 0 24 24\"\n",
              "       width=\"24px\">\n",
              "    <path d=\"M0 0h24v24H0V0z\" fill=\"none\"/>\n",
              "    <path d=\"M18.56 5.44l.94 2.06.94-2.06 2.06-.94-2.06-.94-.94-2.06-.94 2.06-2.06.94zm-11 1L8.5 8.5l.94-2.06 2.06-.94-2.06-.94L8.5 2.5l-.94 2.06-2.06.94zm10 10l.94 2.06.94-2.06 2.06-.94-2.06-.94-.94-2.06-.94 2.06-2.06.94z\"/><path d=\"M17.41 7.96l-1.37-1.37c-.4-.4-.92-.59-1.43-.59-.52 0-1.04.2-1.43.59L10.3 9.45l-7.72 7.72c-.78.78-.78 2.05 0 2.83L4 21.41c.39.39.9.59 1.41.59.51 0 1.02-.2 1.41-.59l7.78-7.78 2.81-2.81c.8-.78.8-2.07 0-2.86zM5.41 20L4 18.59l7.72-7.72 1.47 1.35L5.41 20z\"/>\n",
              "  </svg>\n",
              "      </button>\n",
              "      \n",
              "  <style>\n",
              "    .colab-df-container {\n",
              "      display:flex;\n",
              "      flex-wrap:wrap;\n",
              "      gap: 12px;\n",
              "    }\n",
              "\n",
              "    .colab-df-convert {\n",
              "      background-color: #E8F0FE;\n",
              "      border: none;\n",
              "      border-radius: 50%;\n",
              "      cursor: pointer;\n",
              "      display: none;\n",
              "      fill: #1967D2;\n",
              "      height: 32px;\n",
              "      padding: 0 0 0 0;\n",
              "      width: 32px;\n",
              "    }\n",
              "\n",
              "    .colab-df-convert:hover {\n",
              "      background-color: #E2EBFA;\n",
              "      box-shadow: 0px 1px 2px rgba(60, 64, 67, 0.3), 0px 1px 3px 1px rgba(60, 64, 67, 0.15);\n",
              "      fill: #174EA6;\n",
              "    }\n",
              "\n",
              "    [theme=dark] .colab-df-convert {\n",
              "      background-color: #3B4455;\n",
              "      fill: #D2E3FC;\n",
              "    }\n",
              "\n",
              "    [theme=dark] .colab-df-convert:hover {\n",
              "      background-color: #434B5C;\n",
              "      box-shadow: 0px 1px 3px 1px rgba(0, 0, 0, 0.15);\n",
              "      filter: drop-shadow(0px 1px 2px rgba(0, 0, 0, 0.3));\n",
              "      fill: #FFFFFF;\n",
              "    }\n",
              "  </style>\n",
              "\n",
              "      <script>\n",
              "        const buttonEl =\n",
              "          document.querySelector('#df-b837b8c7-9de9-4a3e-b0ad-58bc77bcedaa button.colab-df-convert');\n",
              "        buttonEl.style.display =\n",
              "          google.colab.kernel.accessAllowed ? 'block' : 'none';\n",
              "\n",
              "        async function convertToInteractive(key) {\n",
              "          const element = document.querySelector('#df-b837b8c7-9de9-4a3e-b0ad-58bc77bcedaa');\n",
              "          const dataTable =\n",
              "            await google.colab.kernel.invokeFunction('convertToInteractive',\n",
              "                                                     [key], {});\n",
              "          if (!dataTable) return;\n",
              "\n",
              "          const docLinkHtml = 'Like what you see? Visit the ' +\n",
              "            '<a target=\"_blank\" href=https://colab.research.google.com/notebooks/data_table.ipynb>data table notebook</a>'\n",
              "            + ' to learn more about interactive tables.';\n",
              "          element.innerHTML = '';\n",
              "          dataTable['output_type'] = 'display_data';\n",
              "          await google.colab.output.renderOutput(dataTable, element);\n",
              "          const docLink = document.createElement('div');\n",
              "          docLink.innerHTML = docLinkHtml;\n",
              "          element.appendChild(docLink);\n",
              "        }\n",
              "      </script>\n",
              "    </div>\n",
              "  </div>\n",
              "  "
            ]
          },
          "metadata": {},
          "execution_count": 4
        }
      ],
      "source": [
        "# использую метод пристального взгляда посмотрим на данные\n",
        "data"
      ]
    },
    {
      "cell_type": "markdown",
      "metadata": {
        "id": "_zuma7F1Wlff"
      },
      "source": [
        "На первый взгляд, данные скачались и \"зашли\" в df хорошо. Плохо, что уже видны пропуски. Изучим их."
      ]
    },
    {
      "cell_type": "code",
      "execution_count": 5,
      "metadata": {
        "colab": {
          "base_uri": "https://localhost:8080/"
        },
        "id": "oEqwKJAmWlff",
        "outputId": "f6cf0ca6-de57-4902-86f1-964852e942ac"
      },
      "outputs": [
        {
          "output_type": "execute_result",
          "data": {
            "text/plain": [
              "RowNumber            0\n",
              "CustomerId           0\n",
              "Surname              0\n",
              "CreditScore          0\n",
              "Geography            0\n",
              "Gender               0\n",
              "Age                  0\n",
              "Tenure             909\n",
              "Balance              0\n",
              "NumOfProducts        0\n",
              "HasCrCard            0\n",
              "IsActiveMember       0\n",
              "EstimatedSalary      0\n",
              "Exited               0\n",
              "dtype: int64"
            ]
          },
          "metadata": {},
          "execution_count": 5
        }
      ],
      "source": [
        "data.isna().sum()"
      ]
    },
    {
      "cell_type": "markdown",
      "metadata": {
        "id": "eTSrJIxRWlff"
      },
      "source": [
        "Имеются пропуски в данных по столбцу. Посмотрим этот дата сет на каггле. По ссылке в описании нет пропущенных данных. Проверим это.\n",
        "Так как нет возможности подключиться по api kaggle в practicum.yandex.ru, то зальем их датасет на google."
      ]
    },
    {
      "cell_type": "code",
      "execution_count": 6,
      "metadata": {
        "id": "OJ-5WljrWlfg"
      },
      "outputs": [],
      "source": [
        "#Скачаем файл с Google.disk\n",
        "url = 'https://drive.google.com/file/d/1F2mLwt9yuPjTUb2kSMGIh-koVciPo-t3/view?usp=share_link'\n",
        "path = 'https://drive.google.com/uc?export=download&id='+url.split('/')[-2]\n",
        "data = pd.read_csv(path, sep = ',')"
      ]
    },
    {
      "cell_type": "code",
      "execution_count": 7,
      "metadata": {
        "colab": {
          "base_uri": "https://localhost:8080/",
          "height": 424
        },
        "id": "qryxXTa0Wlfg",
        "outputId": "21fbbd39-ff6d-48d3-e64b-5e0327dec3e5"
      },
      "outputs": [
        {
          "output_type": "execute_result",
          "data": {
            "text/plain": [
              "      RowNumber  CustomerId    Surname  CreditScore Geography  Gender  Age  \\\n",
              "0             1    15634602   Hargrave          619    France  Female   42   \n",
              "1             2    15647311       Hill          608     Spain  Female   41   \n",
              "2             3    15619304       Onio          502    France  Female   42   \n",
              "3             4    15701354       Boni          699    France  Female   39   \n",
              "4             5    15737888   Mitchell          850     Spain  Female   43   \n",
              "...         ...         ...        ...          ...       ...     ...  ...   \n",
              "9995       9996    15606229   Obijiaku          771    France    Male   39   \n",
              "9996       9997    15569892  Johnstone          516    France    Male   35   \n",
              "9997       9998    15584532        Liu          709    France  Female   36   \n",
              "9998       9999    15682355  Sabbatini          772   Germany    Male   42   \n",
              "9999      10000    15628319     Walker          792    France  Female   28   \n",
              "\n",
              "      Tenure    Balance  NumOfProducts  HasCrCard  IsActiveMember  \\\n",
              "0          2       0.00              1          1               1   \n",
              "1          1   83807.86              1          0               1   \n",
              "2          8  159660.80              3          1               0   \n",
              "3          1       0.00              2          0               0   \n",
              "4          2  125510.82              1          1               1   \n",
              "...      ...        ...            ...        ...             ...   \n",
              "9995       5       0.00              2          1               0   \n",
              "9996      10   57369.61              1          1               1   \n",
              "9997       7       0.00              1          0               1   \n",
              "9998       3   75075.31              2          1               0   \n",
              "9999       4  130142.79              1          1               0   \n",
              "\n",
              "      EstimatedSalary  Exited  \n",
              "0           101348.88       1  \n",
              "1           112542.58       0  \n",
              "2           113931.57       1  \n",
              "3            93826.63       0  \n",
              "4            79084.10       0  \n",
              "...               ...     ...  \n",
              "9995         96270.64       0  \n",
              "9996        101699.77       0  \n",
              "9997         42085.58       1  \n",
              "9998         92888.52       1  \n",
              "9999         38190.78       0  \n",
              "\n",
              "[10000 rows x 14 columns]"
            ],
            "text/html": [
              "\n",
              "  <div id=\"df-e3a6391c-b06e-4af9-9f97-b7cd47f8eea2\">\n",
              "    <div class=\"colab-df-container\">\n",
              "      <div>\n",
              "<style scoped>\n",
              "    .dataframe tbody tr th:only-of-type {\n",
              "        vertical-align: middle;\n",
              "    }\n",
              "\n",
              "    .dataframe tbody tr th {\n",
              "        vertical-align: top;\n",
              "    }\n",
              "\n",
              "    .dataframe thead th {\n",
              "        text-align: right;\n",
              "    }\n",
              "</style>\n",
              "<table border=\"1\" class=\"dataframe\">\n",
              "  <thead>\n",
              "    <tr style=\"text-align: right;\">\n",
              "      <th></th>\n",
              "      <th>RowNumber</th>\n",
              "      <th>CustomerId</th>\n",
              "      <th>Surname</th>\n",
              "      <th>CreditScore</th>\n",
              "      <th>Geography</th>\n",
              "      <th>Gender</th>\n",
              "      <th>Age</th>\n",
              "      <th>Tenure</th>\n",
              "      <th>Balance</th>\n",
              "      <th>NumOfProducts</th>\n",
              "      <th>HasCrCard</th>\n",
              "      <th>IsActiveMember</th>\n",
              "      <th>EstimatedSalary</th>\n",
              "      <th>Exited</th>\n",
              "    </tr>\n",
              "  </thead>\n",
              "  <tbody>\n",
              "    <tr>\n",
              "      <th>0</th>\n",
              "      <td>1</td>\n",
              "      <td>15634602</td>\n",
              "      <td>Hargrave</td>\n",
              "      <td>619</td>\n",
              "      <td>France</td>\n",
              "      <td>Female</td>\n",
              "      <td>42</td>\n",
              "      <td>2</td>\n",
              "      <td>0.00</td>\n",
              "      <td>1</td>\n",
              "      <td>1</td>\n",
              "      <td>1</td>\n",
              "      <td>101348.88</td>\n",
              "      <td>1</td>\n",
              "    </tr>\n",
              "    <tr>\n",
              "      <th>1</th>\n",
              "      <td>2</td>\n",
              "      <td>15647311</td>\n",
              "      <td>Hill</td>\n",
              "      <td>608</td>\n",
              "      <td>Spain</td>\n",
              "      <td>Female</td>\n",
              "      <td>41</td>\n",
              "      <td>1</td>\n",
              "      <td>83807.86</td>\n",
              "      <td>1</td>\n",
              "      <td>0</td>\n",
              "      <td>1</td>\n",
              "      <td>112542.58</td>\n",
              "      <td>0</td>\n",
              "    </tr>\n",
              "    <tr>\n",
              "      <th>2</th>\n",
              "      <td>3</td>\n",
              "      <td>15619304</td>\n",
              "      <td>Onio</td>\n",
              "      <td>502</td>\n",
              "      <td>France</td>\n",
              "      <td>Female</td>\n",
              "      <td>42</td>\n",
              "      <td>8</td>\n",
              "      <td>159660.80</td>\n",
              "      <td>3</td>\n",
              "      <td>1</td>\n",
              "      <td>0</td>\n",
              "      <td>113931.57</td>\n",
              "      <td>1</td>\n",
              "    </tr>\n",
              "    <tr>\n",
              "      <th>3</th>\n",
              "      <td>4</td>\n",
              "      <td>15701354</td>\n",
              "      <td>Boni</td>\n",
              "      <td>699</td>\n",
              "      <td>France</td>\n",
              "      <td>Female</td>\n",
              "      <td>39</td>\n",
              "      <td>1</td>\n",
              "      <td>0.00</td>\n",
              "      <td>2</td>\n",
              "      <td>0</td>\n",
              "      <td>0</td>\n",
              "      <td>93826.63</td>\n",
              "      <td>0</td>\n",
              "    </tr>\n",
              "    <tr>\n",
              "      <th>4</th>\n",
              "      <td>5</td>\n",
              "      <td>15737888</td>\n",
              "      <td>Mitchell</td>\n",
              "      <td>850</td>\n",
              "      <td>Spain</td>\n",
              "      <td>Female</td>\n",
              "      <td>43</td>\n",
              "      <td>2</td>\n",
              "      <td>125510.82</td>\n",
              "      <td>1</td>\n",
              "      <td>1</td>\n",
              "      <td>1</td>\n",
              "      <td>79084.10</td>\n",
              "      <td>0</td>\n",
              "    </tr>\n",
              "    <tr>\n",
              "      <th>...</th>\n",
              "      <td>...</td>\n",
              "      <td>...</td>\n",
              "      <td>...</td>\n",
              "      <td>...</td>\n",
              "      <td>...</td>\n",
              "      <td>...</td>\n",
              "      <td>...</td>\n",
              "      <td>...</td>\n",
              "      <td>...</td>\n",
              "      <td>...</td>\n",
              "      <td>...</td>\n",
              "      <td>...</td>\n",
              "      <td>...</td>\n",
              "      <td>...</td>\n",
              "    </tr>\n",
              "    <tr>\n",
              "      <th>9995</th>\n",
              "      <td>9996</td>\n",
              "      <td>15606229</td>\n",
              "      <td>Obijiaku</td>\n",
              "      <td>771</td>\n",
              "      <td>France</td>\n",
              "      <td>Male</td>\n",
              "      <td>39</td>\n",
              "      <td>5</td>\n",
              "      <td>0.00</td>\n",
              "      <td>2</td>\n",
              "      <td>1</td>\n",
              "      <td>0</td>\n",
              "      <td>96270.64</td>\n",
              "      <td>0</td>\n",
              "    </tr>\n",
              "    <tr>\n",
              "      <th>9996</th>\n",
              "      <td>9997</td>\n",
              "      <td>15569892</td>\n",
              "      <td>Johnstone</td>\n",
              "      <td>516</td>\n",
              "      <td>France</td>\n",
              "      <td>Male</td>\n",
              "      <td>35</td>\n",
              "      <td>10</td>\n",
              "      <td>57369.61</td>\n",
              "      <td>1</td>\n",
              "      <td>1</td>\n",
              "      <td>1</td>\n",
              "      <td>101699.77</td>\n",
              "      <td>0</td>\n",
              "    </tr>\n",
              "    <tr>\n",
              "      <th>9997</th>\n",
              "      <td>9998</td>\n",
              "      <td>15584532</td>\n",
              "      <td>Liu</td>\n",
              "      <td>709</td>\n",
              "      <td>France</td>\n",
              "      <td>Female</td>\n",
              "      <td>36</td>\n",
              "      <td>7</td>\n",
              "      <td>0.00</td>\n",
              "      <td>1</td>\n",
              "      <td>0</td>\n",
              "      <td>1</td>\n",
              "      <td>42085.58</td>\n",
              "      <td>1</td>\n",
              "    </tr>\n",
              "    <tr>\n",
              "      <th>9998</th>\n",
              "      <td>9999</td>\n",
              "      <td>15682355</td>\n",
              "      <td>Sabbatini</td>\n",
              "      <td>772</td>\n",
              "      <td>Germany</td>\n",
              "      <td>Male</td>\n",
              "      <td>42</td>\n",
              "      <td>3</td>\n",
              "      <td>75075.31</td>\n",
              "      <td>2</td>\n",
              "      <td>1</td>\n",
              "      <td>0</td>\n",
              "      <td>92888.52</td>\n",
              "      <td>1</td>\n",
              "    </tr>\n",
              "    <tr>\n",
              "      <th>9999</th>\n",
              "      <td>10000</td>\n",
              "      <td>15628319</td>\n",
              "      <td>Walker</td>\n",
              "      <td>792</td>\n",
              "      <td>France</td>\n",
              "      <td>Female</td>\n",
              "      <td>28</td>\n",
              "      <td>4</td>\n",
              "      <td>130142.79</td>\n",
              "      <td>1</td>\n",
              "      <td>1</td>\n",
              "      <td>0</td>\n",
              "      <td>38190.78</td>\n",
              "      <td>0</td>\n",
              "    </tr>\n",
              "  </tbody>\n",
              "</table>\n",
              "<p>10000 rows × 14 columns</p>\n",
              "</div>\n",
              "      <button class=\"colab-df-convert\" onclick=\"convertToInteractive('df-e3a6391c-b06e-4af9-9f97-b7cd47f8eea2')\"\n",
              "              title=\"Convert this dataframe to an interactive table.\"\n",
              "              style=\"display:none;\">\n",
              "        \n",
              "  <svg xmlns=\"http://www.w3.org/2000/svg\" height=\"24px\"viewBox=\"0 0 24 24\"\n",
              "       width=\"24px\">\n",
              "    <path d=\"M0 0h24v24H0V0z\" fill=\"none\"/>\n",
              "    <path d=\"M18.56 5.44l.94 2.06.94-2.06 2.06-.94-2.06-.94-.94-2.06-.94 2.06-2.06.94zm-11 1L8.5 8.5l.94-2.06 2.06-.94-2.06-.94L8.5 2.5l-.94 2.06-2.06.94zm10 10l.94 2.06.94-2.06 2.06-.94-2.06-.94-.94-2.06-.94 2.06-2.06.94z\"/><path d=\"M17.41 7.96l-1.37-1.37c-.4-.4-.92-.59-1.43-.59-.52 0-1.04.2-1.43.59L10.3 9.45l-7.72 7.72c-.78.78-.78 2.05 0 2.83L4 21.41c.39.39.9.59 1.41.59.51 0 1.02-.2 1.41-.59l7.78-7.78 2.81-2.81c.8-.78.8-2.07 0-2.86zM5.41 20L4 18.59l7.72-7.72 1.47 1.35L5.41 20z\"/>\n",
              "  </svg>\n",
              "      </button>\n",
              "      \n",
              "  <style>\n",
              "    .colab-df-container {\n",
              "      display:flex;\n",
              "      flex-wrap:wrap;\n",
              "      gap: 12px;\n",
              "    }\n",
              "\n",
              "    .colab-df-convert {\n",
              "      background-color: #E8F0FE;\n",
              "      border: none;\n",
              "      border-radius: 50%;\n",
              "      cursor: pointer;\n",
              "      display: none;\n",
              "      fill: #1967D2;\n",
              "      height: 32px;\n",
              "      padding: 0 0 0 0;\n",
              "      width: 32px;\n",
              "    }\n",
              "\n",
              "    .colab-df-convert:hover {\n",
              "      background-color: #E2EBFA;\n",
              "      box-shadow: 0px 1px 2px rgba(60, 64, 67, 0.3), 0px 1px 3px 1px rgba(60, 64, 67, 0.15);\n",
              "      fill: #174EA6;\n",
              "    }\n",
              "\n",
              "    [theme=dark] .colab-df-convert {\n",
              "      background-color: #3B4455;\n",
              "      fill: #D2E3FC;\n",
              "    }\n",
              "\n",
              "    [theme=dark] .colab-df-convert:hover {\n",
              "      background-color: #434B5C;\n",
              "      box-shadow: 0px 1px 3px 1px rgba(0, 0, 0, 0.15);\n",
              "      filter: drop-shadow(0px 1px 2px rgba(0, 0, 0, 0.3));\n",
              "      fill: #FFFFFF;\n",
              "    }\n",
              "  </style>\n",
              "\n",
              "      <script>\n",
              "        const buttonEl =\n",
              "          document.querySelector('#df-e3a6391c-b06e-4af9-9f97-b7cd47f8eea2 button.colab-df-convert');\n",
              "        buttonEl.style.display =\n",
              "          google.colab.kernel.accessAllowed ? 'block' : 'none';\n",
              "\n",
              "        async function convertToInteractive(key) {\n",
              "          const element = document.querySelector('#df-e3a6391c-b06e-4af9-9f97-b7cd47f8eea2');\n",
              "          const dataTable =\n",
              "            await google.colab.kernel.invokeFunction('convertToInteractive',\n",
              "                                                     [key], {});\n",
              "          if (!dataTable) return;\n",
              "\n",
              "          const docLinkHtml = 'Like what you see? Visit the ' +\n",
              "            '<a target=\"_blank\" href=https://colab.research.google.com/notebooks/data_table.ipynb>data table notebook</a>'\n",
              "            + ' to learn more about interactive tables.';\n",
              "          element.innerHTML = '';\n",
              "          dataTable['output_type'] = 'display_data';\n",
              "          await google.colab.output.renderOutput(dataTable, element);\n",
              "          const docLink = document.createElement('div');\n",
              "          docLink.innerHTML = docLinkHtml;\n",
              "          element.appendChild(docLink);\n",
              "        }\n",
              "      </script>\n",
              "    </div>\n",
              "  </div>\n",
              "  "
            ]
          },
          "metadata": {},
          "execution_count": 7
        }
      ],
      "source": [
        "data"
      ]
    },
    {
      "cell_type": "code",
      "execution_count": 8,
      "metadata": {
        "colab": {
          "base_uri": "https://localhost:8080/"
        },
        "id": "S3GskQTrWlfg",
        "outputId": "e285121d-2d22-4e8f-a359-efedc142999c"
      },
      "outputs": [
        {
          "output_type": "execute_result",
          "data": {
            "text/plain": [
              "RowNumber          0\n",
              "CustomerId         0\n",
              "Surname            0\n",
              "CreditScore        0\n",
              "Geography          0\n",
              "Gender             0\n",
              "Age                0\n",
              "Tenure             0\n",
              "Balance            0\n",
              "NumOfProducts      0\n",
              "HasCrCard          0\n",
              "IsActiveMember     0\n",
              "EstimatedSalary    0\n",
              "Exited             0\n",
              "dtype: int64"
            ]
          },
          "metadata": {},
          "execution_count": 8
        }
      ],
      "source": [
        "data.isna().sum()"
      ]
    },
    {
      "cell_type": "markdown",
      "metadata": {
        "id": "SrryJbATWlfg"
      },
      "source": [
        "Отлично! Избавились от пропусков в столбце Tenure. Ура!"
      ]
    },
    {
      "cell_type": "code",
      "execution_count": 9,
      "metadata": {
        "colab": {
          "base_uri": "https://localhost:8080/",
          "height": 300
        },
        "id": "WdogMqZxWlfg",
        "outputId": "c8f87143-698f-437b-d922-ba85e0e243e4"
      },
      "outputs": [
        {
          "output_type": "execute_result",
          "data": {
            "text/plain": [
              "         RowNumber    CustomerId   CreditScore           Age        Tenure  \\\n",
              "count  10000.00000  1.000000e+04  10000.000000  10000.000000  10000.000000   \n",
              "mean    5000.50000  1.569094e+07    650.528800     38.921800      5.012800   \n",
              "std     2886.89568  7.193619e+04     96.653299     10.487806      2.892174   \n",
              "min        1.00000  1.556570e+07    350.000000     18.000000      0.000000   \n",
              "25%     2500.75000  1.562853e+07    584.000000     32.000000      3.000000   \n",
              "50%     5000.50000  1.569074e+07    652.000000     37.000000      5.000000   \n",
              "75%     7500.25000  1.575323e+07    718.000000     44.000000      7.000000   \n",
              "max    10000.00000  1.581569e+07    850.000000     92.000000     10.000000   \n",
              "\n",
              "             Balance  NumOfProducts    HasCrCard  IsActiveMember  \\\n",
              "count   10000.000000   10000.000000  10000.00000    10000.000000   \n",
              "mean    76485.889288       1.530200      0.70550        0.515100   \n",
              "std     62397.405202       0.581654      0.45584        0.499797   \n",
              "min         0.000000       1.000000      0.00000        0.000000   \n",
              "25%         0.000000       1.000000      0.00000        0.000000   \n",
              "50%     97198.540000       1.000000      1.00000        1.000000   \n",
              "75%    127644.240000       2.000000      1.00000        1.000000   \n",
              "max    250898.090000       4.000000      1.00000        1.000000   \n",
              "\n",
              "       EstimatedSalary        Exited  \n",
              "count     10000.000000  10000.000000  \n",
              "mean     100090.239881      0.203700  \n",
              "std       57510.492818      0.402769  \n",
              "min          11.580000      0.000000  \n",
              "25%       51002.110000      0.000000  \n",
              "50%      100193.915000      0.000000  \n",
              "75%      149388.247500      0.000000  \n",
              "max      199992.480000      1.000000  "
            ],
            "text/html": [
              "\n",
              "  <div id=\"df-261bb127-84c8-4e3d-a4db-59bcb8193824\">\n",
              "    <div class=\"colab-df-container\">\n",
              "      <div>\n",
              "<style scoped>\n",
              "    .dataframe tbody tr th:only-of-type {\n",
              "        vertical-align: middle;\n",
              "    }\n",
              "\n",
              "    .dataframe tbody tr th {\n",
              "        vertical-align: top;\n",
              "    }\n",
              "\n",
              "    .dataframe thead th {\n",
              "        text-align: right;\n",
              "    }\n",
              "</style>\n",
              "<table border=\"1\" class=\"dataframe\">\n",
              "  <thead>\n",
              "    <tr style=\"text-align: right;\">\n",
              "      <th></th>\n",
              "      <th>RowNumber</th>\n",
              "      <th>CustomerId</th>\n",
              "      <th>CreditScore</th>\n",
              "      <th>Age</th>\n",
              "      <th>Tenure</th>\n",
              "      <th>Balance</th>\n",
              "      <th>NumOfProducts</th>\n",
              "      <th>HasCrCard</th>\n",
              "      <th>IsActiveMember</th>\n",
              "      <th>EstimatedSalary</th>\n",
              "      <th>Exited</th>\n",
              "    </tr>\n",
              "  </thead>\n",
              "  <tbody>\n",
              "    <tr>\n",
              "      <th>count</th>\n",
              "      <td>10000.00000</td>\n",
              "      <td>1.000000e+04</td>\n",
              "      <td>10000.000000</td>\n",
              "      <td>10000.000000</td>\n",
              "      <td>10000.000000</td>\n",
              "      <td>10000.000000</td>\n",
              "      <td>10000.000000</td>\n",
              "      <td>10000.00000</td>\n",
              "      <td>10000.000000</td>\n",
              "      <td>10000.000000</td>\n",
              "      <td>10000.000000</td>\n",
              "    </tr>\n",
              "    <tr>\n",
              "      <th>mean</th>\n",
              "      <td>5000.50000</td>\n",
              "      <td>1.569094e+07</td>\n",
              "      <td>650.528800</td>\n",
              "      <td>38.921800</td>\n",
              "      <td>5.012800</td>\n",
              "      <td>76485.889288</td>\n",
              "      <td>1.530200</td>\n",
              "      <td>0.70550</td>\n",
              "      <td>0.515100</td>\n",
              "      <td>100090.239881</td>\n",
              "      <td>0.203700</td>\n",
              "    </tr>\n",
              "    <tr>\n",
              "      <th>std</th>\n",
              "      <td>2886.89568</td>\n",
              "      <td>7.193619e+04</td>\n",
              "      <td>96.653299</td>\n",
              "      <td>10.487806</td>\n",
              "      <td>2.892174</td>\n",
              "      <td>62397.405202</td>\n",
              "      <td>0.581654</td>\n",
              "      <td>0.45584</td>\n",
              "      <td>0.499797</td>\n",
              "      <td>57510.492818</td>\n",
              "      <td>0.402769</td>\n",
              "    </tr>\n",
              "    <tr>\n",
              "      <th>min</th>\n",
              "      <td>1.00000</td>\n",
              "      <td>1.556570e+07</td>\n",
              "      <td>350.000000</td>\n",
              "      <td>18.000000</td>\n",
              "      <td>0.000000</td>\n",
              "      <td>0.000000</td>\n",
              "      <td>1.000000</td>\n",
              "      <td>0.00000</td>\n",
              "      <td>0.000000</td>\n",
              "      <td>11.580000</td>\n",
              "      <td>0.000000</td>\n",
              "    </tr>\n",
              "    <tr>\n",
              "      <th>25%</th>\n",
              "      <td>2500.75000</td>\n",
              "      <td>1.562853e+07</td>\n",
              "      <td>584.000000</td>\n",
              "      <td>32.000000</td>\n",
              "      <td>3.000000</td>\n",
              "      <td>0.000000</td>\n",
              "      <td>1.000000</td>\n",
              "      <td>0.00000</td>\n",
              "      <td>0.000000</td>\n",
              "      <td>51002.110000</td>\n",
              "      <td>0.000000</td>\n",
              "    </tr>\n",
              "    <tr>\n",
              "      <th>50%</th>\n",
              "      <td>5000.50000</td>\n",
              "      <td>1.569074e+07</td>\n",
              "      <td>652.000000</td>\n",
              "      <td>37.000000</td>\n",
              "      <td>5.000000</td>\n",
              "      <td>97198.540000</td>\n",
              "      <td>1.000000</td>\n",
              "      <td>1.00000</td>\n",
              "      <td>1.000000</td>\n",
              "      <td>100193.915000</td>\n",
              "      <td>0.000000</td>\n",
              "    </tr>\n",
              "    <tr>\n",
              "      <th>75%</th>\n",
              "      <td>7500.25000</td>\n",
              "      <td>1.575323e+07</td>\n",
              "      <td>718.000000</td>\n",
              "      <td>44.000000</td>\n",
              "      <td>7.000000</td>\n",
              "      <td>127644.240000</td>\n",
              "      <td>2.000000</td>\n",
              "      <td>1.00000</td>\n",
              "      <td>1.000000</td>\n",
              "      <td>149388.247500</td>\n",
              "      <td>0.000000</td>\n",
              "    </tr>\n",
              "    <tr>\n",
              "      <th>max</th>\n",
              "      <td>10000.00000</td>\n",
              "      <td>1.581569e+07</td>\n",
              "      <td>850.000000</td>\n",
              "      <td>92.000000</td>\n",
              "      <td>10.000000</td>\n",
              "      <td>250898.090000</td>\n",
              "      <td>4.000000</td>\n",
              "      <td>1.00000</td>\n",
              "      <td>1.000000</td>\n",
              "      <td>199992.480000</td>\n",
              "      <td>1.000000</td>\n",
              "    </tr>\n",
              "  </tbody>\n",
              "</table>\n",
              "</div>\n",
              "      <button class=\"colab-df-convert\" onclick=\"convertToInteractive('df-261bb127-84c8-4e3d-a4db-59bcb8193824')\"\n",
              "              title=\"Convert this dataframe to an interactive table.\"\n",
              "              style=\"display:none;\">\n",
              "        \n",
              "  <svg xmlns=\"http://www.w3.org/2000/svg\" height=\"24px\"viewBox=\"0 0 24 24\"\n",
              "       width=\"24px\">\n",
              "    <path d=\"M0 0h24v24H0V0z\" fill=\"none\"/>\n",
              "    <path d=\"M18.56 5.44l.94 2.06.94-2.06 2.06-.94-2.06-.94-.94-2.06-.94 2.06-2.06.94zm-11 1L8.5 8.5l.94-2.06 2.06-.94-2.06-.94L8.5 2.5l-.94 2.06-2.06.94zm10 10l.94 2.06.94-2.06 2.06-.94-2.06-.94-.94-2.06-.94 2.06-2.06.94z\"/><path d=\"M17.41 7.96l-1.37-1.37c-.4-.4-.92-.59-1.43-.59-.52 0-1.04.2-1.43.59L10.3 9.45l-7.72 7.72c-.78.78-.78 2.05 0 2.83L4 21.41c.39.39.9.59 1.41.59.51 0 1.02-.2 1.41-.59l7.78-7.78 2.81-2.81c.8-.78.8-2.07 0-2.86zM5.41 20L4 18.59l7.72-7.72 1.47 1.35L5.41 20z\"/>\n",
              "  </svg>\n",
              "      </button>\n",
              "      \n",
              "  <style>\n",
              "    .colab-df-container {\n",
              "      display:flex;\n",
              "      flex-wrap:wrap;\n",
              "      gap: 12px;\n",
              "    }\n",
              "\n",
              "    .colab-df-convert {\n",
              "      background-color: #E8F0FE;\n",
              "      border: none;\n",
              "      border-radius: 50%;\n",
              "      cursor: pointer;\n",
              "      display: none;\n",
              "      fill: #1967D2;\n",
              "      height: 32px;\n",
              "      padding: 0 0 0 0;\n",
              "      width: 32px;\n",
              "    }\n",
              "\n",
              "    .colab-df-convert:hover {\n",
              "      background-color: #E2EBFA;\n",
              "      box-shadow: 0px 1px 2px rgba(60, 64, 67, 0.3), 0px 1px 3px 1px rgba(60, 64, 67, 0.15);\n",
              "      fill: #174EA6;\n",
              "    }\n",
              "\n",
              "    [theme=dark] .colab-df-convert {\n",
              "      background-color: #3B4455;\n",
              "      fill: #D2E3FC;\n",
              "    }\n",
              "\n",
              "    [theme=dark] .colab-df-convert:hover {\n",
              "      background-color: #434B5C;\n",
              "      box-shadow: 0px 1px 3px 1px rgba(0, 0, 0, 0.15);\n",
              "      filter: drop-shadow(0px 1px 2px rgba(0, 0, 0, 0.3));\n",
              "      fill: #FFFFFF;\n",
              "    }\n",
              "  </style>\n",
              "\n",
              "      <script>\n",
              "        const buttonEl =\n",
              "          document.querySelector('#df-261bb127-84c8-4e3d-a4db-59bcb8193824 button.colab-df-convert');\n",
              "        buttonEl.style.display =\n",
              "          google.colab.kernel.accessAllowed ? 'block' : 'none';\n",
              "\n",
              "        async function convertToInteractive(key) {\n",
              "          const element = document.querySelector('#df-261bb127-84c8-4e3d-a4db-59bcb8193824');\n",
              "          const dataTable =\n",
              "            await google.colab.kernel.invokeFunction('convertToInteractive',\n",
              "                                                     [key], {});\n",
              "          if (!dataTable) return;\n",
              "\n",
              "          const docLinkHtml = 'Like what you see? Visit the ' +\n",
              "            '<a target=\"_blank\" href=https://colab.research.google.com/notebooks/data_table.ipynb>data table notebook</a>'\n",
              "            + ' to learn more about interactive tables.';\n",
              "          element.innerHTML = '';\n",
              "          dataTable['output_type'] = 'display_data';\n",
              "          await google.colab.output.renderOutput(dataTable, element);\n",
              "          const docLink = document.createElement('div');\n",
              "          docLink.innerHTML = docLinkHtml;\n",
              "          element.appendChild(docLink);\n",
              "        }\n",
              "      </script>\n",
              "    </div>\n",
              "  </div>\n",
              "  "
            ]
          },
          "metadata": {},
          "execution_count": 9
        }
      ],
      "source": [
        "# Посмотрим на данные \"общими мазками\" по числовым данным\n",
        "data.describe()"
      ]
    },
    {
      "cell_type": "markdown",
      "metadata": {
        "id": "60Sjd6vbWlfg"
      },
      "source": [
        "Здесь уже более интереснее. Видно, что Score находится в интервале [350; 850]. Значит это FICO-скор. А возраст клиентов может достигать 92 лет. Такие уходят по естественным причинам? ) Модель это все учтет сама :)"
      ]
    },
    {
      "cell_type": "code",
      "execution_count": 10,
      "metadata": {
        "scrolled": false,
        "colab": {
          "base_uri": "https://localhost:8080/"
        },
        "id": "tBqyXNsxWlfg",
        "outputId": "bea4c4a7-4e39-4ae0-99b9-44c178665cfc"
      },
      "outputs": [
        {
          "output_type": "stream",
          "name": "stdout",
          "text": [
            "<class 'pandas.core.frame.DataFrame'>\n",
            "RangeIndex: 10000 entries, 0 to 9999\n",
            "Data columns (total 14 columns):\n",
            " #   Column           Non-Null Count  Dtype  \n",
            "---  ------           --------------  -----  \n",
            " 0   RowNumber        10000 non-null  int64  \n",
            " 1   CustomerId       10000 non-null  int64  \n",
            " 2   Surname          10000 non-null  object \n",
            " 3   CreditScore      10000 non-null  int64  \n",
            " 4   Geography        10000 non-null  object \n",
            " 5   Gender           10000 non-null  object \n",
            " 6   Age              10000 non-null  int64  \n",
            " 7   Tenure           10000 non-null  int64  \n",
            " 8   Balance          10000 non-null  float64\n",
            " 9   NumOfProducts    10000 non-null  int64  \n",
            " 10  HasCrCard        10000 non-null  int64  \n",
            " 11  IsActiveMember   10000 non-null  int64  \n",
            " 12  EstimatedSalary  10000 non-null  float64\n",
            " 13  Exited           10000 non-null  int64  \n",
            "dtypes: float64(2), int64(9), object(3)\n",
            "memory usage: 1.1+ MB\n"
          ]
        }
      ],
      "source": [
        "# Посмотрим типы данных\n",
        "data.info()"
      ]
    },
    {
      "cell_type": "markdown",
      "metadata": {
        "id": "yI7ZUtK0Wlfh"
      },
      "source": [
        "Выводы по __info()__\n",
        "+ пропуски в данных отсутствуют\n",
        "+ типы данных соответствуют необходимым."
      ]
    },
    {
      "cell_type": "markdown",
      "metadata": {
        "id": "JAXYgpdfWlfh"
      },
      "source": [
        "### Анализ CustomerId (уникальный идентификатор клиента)"
      ]
    },
    {
      "cell_type": "code",
      "execution_count": 11,
      "metadata": {
        "colab": {
          "base_uri": "https://localhost:8080/"
        },
        "id": "ZsiD2AW-Wlfh",
        "outputId": "419da7a0-c992-4720-ba7f-0d86bb06abb6"
      },
      "outputs": [
        {
          "output_type": "execute_result",
          "data": {
            "text/plain": [
              "True"
            ]
          },
          "metadata": {},
          "execution_count": 11
        }
      ],
      "source": [
        "# Сколько уникальных значений?\n",
        "len(data) == len(data.CustomerId.unique())"
      ]
    },
    {
      "cell_type": "markdown",
      "metadata": {
        "id": "yPqjfhINWlfh"
      },
      "source": [
        "### Анализ Surname — фамилия"
      ]
    },
    {
      "cell_type": "code",
      "execution_count": 12,
      "metadata": {
        "colab": {
          "base_uri": "https://localhost:8080/"
        },
        "id": "1uT-GDt5Wlfh",
        "outputId": "ca2fa0da-d4ee-4998-e77a-b8b3d805f4ca"
      },
      "outputs": [
        {
          "output_type": "execute_result",
          "data": {
            "text/plain": [
              "array(['Hargrave', 'Hill', 'Onio', ..., 'Kashiwagi', 'Aldridge',\n",
              "       'Burbidge'], dtype=object)"
            ]
          },
          "metadata": {},
          "execution_count": 12
        }
      ],
      "source": [
        "data.Surname.unique()"
      ]
    },
    {
      "cell_type": "markdown",
      "metadata": {
        "id": "PMs5w1diWlfi"
      },
      "source": [
        "Они давали согласие на хранение и обработку персональных данных?"
      ]
    },
    {
      "cell_type": "markdown",
      "metadata": {
        "id": "8ciQDwmvWlfi"
      },
      "source": [
        "Данный признак не будем использовать."
      ]
    },
    {
      "cell_type": "markdown",
      "metadata": {
        "id": "nVsPU2F0Wlfi"
      },
      "source": [
        "### CreditScore — кредитный рейтинг"
      ]
    },
    {
      "cell_type": "code",
      "execution_count": 13,
      "metadata": {
        "colab": {
          "base_uri": "https://localhost:8080/",
          "height": 295
        },
        "id": "eDnJD3eyWlfi",
        "outputId": "0f8742c9-daea-434e-8315-78cd179b8570"
      },
      "outputs": [
        {
          "output_type": "display_data",
          "data": {
            "text/plain": [
              "<Figure size 432x288 with 1 Axes>"
            ],
            "image/png": "[encoded data removed]"
          },
          "metadata": {
            "needs_background": "light"
          }
        }
      ],
      "source": [
        "# Посмотрим частоту\n",
        "data.CreditScore.plot(kind=\"hist\",\n",
        "                      title='Распределение по полю \"CreditScore\" ',\n",
        "                      color=\"k\", alpha=0.5, bins=50, )\n",
        "plt.xlabel('Кредитный рейтинг, балл')\n",
        "plt.ylabel('Частота')\n",
        "plt.show()"
      ]
    },
    {
      "cell_type": "markdown",
      "metadata": {
        "id": "KBCj2jv1Wlfi"
      },
      "source": [
        "Значение 850 здесь принимается очень часто (чаще, чем 800 или даже 700). \n",
        "Явно идеальных заемщиков (по мнение Score) очень много. Это может путать определенные модели."
      ]
    },
    {
      "cell_type": "code",
      "execution_count": 14,
      "metadata": {
        "scrolled": true,
        "colab": {
          "base_uri": "https://localhost:8080/",
          "height": 350
        },
        "id": "r33mQqh1Wlfi",
        "outputId": "20071f40-47fc-44a0-aca8-8df395fad0f0"
      },
      "outputs": [
        {
          "output_type": "display_data",
          "data": {
            "text/plain": [
              "<Figure size 432x360 with 1 Axes>"
            ],
            "image/png": "[encoded data removed]"
          },
          "metadata": {
            "needs_background": "light"
          }
        }
      ],
      "source": [
        "plt.figure(figsize=(6, 5));\n",
        "ax=sns.boxplot(x = data.CreditScore);\n",
        "ax.set()\n",
        "\n",
        "plt.xlabel(\"CreditScore — кредитный рейтинг\");\n",
        "plt.title('Распределение CreditScore — кредитный рейтинг')\n",
        "plt.show();"
      ]
    },
    {
      "cell_type": "markdown",
      "metadata": {
        "id": "FY8Fzz8dWlfi"
      },
      "source": [
        "Здесь же видны выбросы в интервале до 370 баллов."
      ]
    },
    {
      "cell_type": "markdown",
      "metadata": {
        "id": "r5jSH3ukWlfj"
      },
      "source": [
        "### Анализ Geography — страна проживания"
      ]
    },
    {
      "cell_type": "code",
      "execution_count": 15,
      "metadata": {
        "colab": {
          "base_uri": "https://localhost:8080/",
          "height": 248
        },
        "id": "b8Fh9O5fWlfj",
        "outputId": "0c077242-657a-414c-b78e-2d7edc9a9dc0"
      },
      "outputs": [
        {
          "output_type": "display_data",
          "data": {
            "text/plain": [
              "<Figure size 432x288 with 1 Axes>"
            ],
            "image/png": "[encoded data removed]"
          },
          "metadata": {}
        }
      ],
      "source": [
        "# Посмотрим частоту\n",
        "data.groupby(['Geography'])['RowNumber'].count().plot(kind='pie', y='points');"
      ]
    },
    {
      "cell_type": "markdown",
      "metadata": {
        "id": "cilyw2g-Wlfj"
      },
      "source": [
        "Всего три страны. В каждой стране достаточно данных для анализа. Придется в данном случае транспонировать признаки OHE."
      ]
    },
    {
      "cell_type": "code",
      "execution_count": 16,
      "metadata": {
        "colab": {
          "base_uri": "https://localhost:8080/",
          "height": 206
        },
        "id": "yfIuzhb0Wlfj",
        "outputId": "4e4bba20-1c99-4c7b-dcbc-912489e8a295"
      },
      "outputs": [
        {
          "output_type": "execute_result",
          "data": {
            "text/plain": [
              "   RowNumber  CustomerId   Surname  CreditScore  Gender  Age  Tenure  \\\n",
              "0          1    15634602  Hargrave          619  Female   42       2   \n",
              "1          2    15647311      Hill          608  Female   41       1   \n",
              "2          3    15619304      Onio          502  Female   42       8   \n",
              "3          4    15701354      Boni          699  Female   39       1   \n",
              "4          5    15737888  Mitchell          850  Female   43       2   \n",
              "\n",
              "     Balance  NumOfProducts  HasCrCard  IsActiveMember  EstimatedSalary  \\\n",
              "0       0.00              1          1               1        101348.88   \n",
              "1   83807.86              1          0               1        112542.58   \n",
              "2  159660.80              3          1               0        113931.57   \n",
              "3       0.00              2          0               0         93826.63   \n",
              "4  125510.82              1          1               1         79084.10   \n",
              "\n",
              "   Exited  dmy_Germany  dmy_Spain  \n",
              "0       1            0          0  \n",
              "1       0            0          1  \n",
              "2       1            0          0  \n",
              "3       0            0          0  \n",
              "4       0            0          1  "
            ],
            "text/html": [
              "\n",
              "  <div id=\"df-1a23def5-9375-4d90-a3c0-922e4d686d3f\">\n",
              "    <div class=\"colab-df-container\">\n",
              "      <div>\n",
              "<style scoped>\n",
              "    .dataframe tbody tr th:only-of-type {\n",
              "        vertical-align: middle;\n",
              "    }\n",
              "\n",
              "    .dataframe tbody tr th {\n",
              "        vertical-align: top;\n",
              "    }\n",
              "\n",
              "    .dataframe thead th {\n",
              "        text-align: right;\n",
              "    }\n",
              "</style>\n",
              "<table border=\"1\" class=\"dataframe\">\n",
              "  <thead>\n",
              "    <tr style=\"text-align: right;\">\n",
              "      <th></th>\n",
              "      <th>RowNumber</th>\n",
              "      <th>CustomerId</th>\n",
              "      <th>Surname</th>\n",
              "      <th>CreditScore</th>\n",
              "      <th>Gender</th>\n",
              "      <th>Age</th>\n",
              "      <th>Tenure</th>\n",
              "      <th>Balance</th>\n",
              "      <th>NumOfProducts</th>\n",
              "      <th>HasCrCard</th>\n",
              "      <th>IsActiveMember</th>\n",
              "      <th>EstimatedSalary</th>\n",
              "      <th>Exited</th>\n",
              "      <th>dmy_Germany</th>\n",
              "      <th>dmy_Spain</th>\n",
              "    </tr>\n",
              "  </thead>\n",
              "  <tbody>\n",
              "    <tr>\n",
              "      <th>0</th>\n",
              "      <td>1</td>\n",
              "      <td>15634602</td>\n",
              "      <td>Hargrave</td>\n",
              "      <td>619</td>\n",
              "      <td>Female</td>\n",
              "      <td>42</td>\n",
              "      <td>2</td>\n",
              "      <td>0.00</td>\n",
              "      <td>1</td>\n",
              "      <td>1</td>\n",
              "      <td>1</td>\n",
              "      <td>101348.88</td>\n",
              "      <td>1</td>\n",
              "      <td>0</td>\n",
              "      <td>0</td>\n",
              "    </tr>\n",
              "    <tr>\n",
              "      <th>1</th>\n",
              "      <td>2</td>\n",
              "      <td>15647311</td>\n",
              "      <td>Hill</td>\n",
              "      <td>608</td>\n",
              "      <td>Female</td>\n",
              "      <td>41</td>\n",
              "      <td>1</td>\n",
              "      <td>83807.86</td>\n",
              "      <td>1</td>\n",
              "      <td>0</td>\n",
              "      <td>1</td>\n",
              "      <td>112542.58</td>\n",
              "      <td>0</td>\n",
              "      <td>0</td>\n",
              "      <td>1</td>\n",
              "    </tr>\n",
              "    <tr>\n",
              "      <th>2</th>\n",
              "      <td>3</td>\n",
              "      <td>15619304</td>\n",
              "      <td>Onio</td>\n",
              "      <td>502</td>\n",
              "      <td>Female</td>\n",
              "      <td>42</td>\n",
              "      <td>8</td>\n",
              "      <td>159660.80</td>\n",
              "      <td>3</td>\n",
              "      <td>1</td>\n",
              "      <td>0</td>\n",
              "      <td>113931.57</td>\n",
              "      <td>1</td>\n",
              "      <td>0</td>\n",
              "      <td>0</td>\n",
              "    </tr>\n",
              "    <tr>\n",
              "      <th>3</th>\n",
              "      <td>4</td>\n",
              "      <td>15701354</td>\n",
              "      <td>Boni</td>\n",
              "      <td>699</td>\n",
              "      <td>Female</td>\n",
              "      <td>39</td>\n",
              "      <td>1</td>\n",
              "      <td>0.00</td>\n",
              "      <td>2</td>\n",
              "      <td>0</td>\n",
              "      <td>0</td>\n",
              "      <td>93826.63</td>\n",
              "      <td>0</td>\n",
              "      <td>0</td>\n",
              "      <td>0</td>\n",
              "    </tr>\n",
              "    <tr>\n",
              "      <th>4</th>\n",
              "      <td>5</td>\n",
              "      <td>15737888</td>\n",
              "      <td>Mitchell</td>\n",
              "      <td>850</td>\n",
              "      <td>Female</td>\n",
              "      <td>43</td>\n",
              "      <td>2</td>\n",
              "      <td>125510.82</td>\n",
              "      <td>1</td>\n",
              "      <td>1</td>\n",
              "      <td>1</td>\n",
              "      <td>79084.10</td>\n",
              "      <td>0</td>\n",
              "      <td>0</td>\n",
              "      <td>1</td>\n",
              "    </tr>\n",
              "  </tbody>\n",
              "</table>\n",
              "</div>\n",
              "      <button class=\"colab-df-convert\" onclick=\"convertToInteractive('df-1a23def5-9375-4d90-a3c0-922e4d686d3f')\"\n",
              "              title=\"Convert this dataframe to an interactive table.\"\n",
              "              style=\"display:none;\">\n",
              "        \n",
              "  <svg xmlns=\"http://www.w3.org/2000/svg\" height=\"24px\"viewBox=\"0 0 24 24\"\n",
              "       width=\"24px\">\n",
              "    <path d=\"M0 0h24v24H0V0z\" fill=\"none\"/>\n",
              "    <path d=\"M18.56 5.44l.94 2.06.94-2.06 2.06-.94-2.06-.94-.94-2.06-.94 2.06-2.06.94zm-11 1L8.5 8.5l.94-2.06 2.06-.94-2.06-.94L8.5 2.5l-.94 2.06-2.06.94zm10 10l.94 2.06.94-2.06 2.06-.94-2.06-.94-.94-2.06-.94 2.06-2.06.94z\"/><path d=\"M17.41 7.96l-1.37-1.37c-.4-.4-.92-.59-1.43-.59-.52 0-1.04.2-1.43.59L10.3 9.45l-7.72 7.72c-.78.78-.78 2.05 0 2.83L4 21.41c.39.39.9.59 1.41.59.51 0 1.02-.2 1.41-.59l7.78-7.78 2.81-2.81c.8-.78.8-2.07 0-2.86zM5.41 20L4 18.59l7.72-7.72 1.47 1.35L5.41 20z\"/>\n",
              "  </svg>\n",
              "      </button>\n",
              "      \n",
              "  <style>\n",
              "    .colab-df-container {\n",
              "      display:flex;\n",
              "      flex-wrap:wrap;\n",
              "      gap: 12px;\n",
              "    }\n",
              "\n",
              "    .colab-df-convert {\n",
              "      background-color: #E8F0FE;\n",
              "      border: none;\n",
              "      border-radius: 50%;\n",
              "      cursor: pointer;\n",
              "      display: none;\n",
              "      fill: #1967D2;\n",
              "      height: 32px;\n",
              "      padding: 0 0 0 0;\n",
              "      width: 32px;\n",
              "    }\n",
              "\n",
              "    .colab-df-convert:hover {\n",
              "      background-color: #E2EBFA;\n",
              "      box-shadow: 0px 1px 2px rgba(60, 64, 67, 0.3), 0px 1px 3px 1px rgba(60, 64, 67, 0.15);\n",
              "      fill: #174EA6;\n",
              "    }\n",
              "\n",
              "    [theme=dark] .colab-df-convert {\n",
              "      background-color: #3B4455;\n",
              "      fill: #D2E3FC;\n",
              "    }\n",
              "\n",
              "    [theme=dark] .colab-df-convert:hover {\n",
              "      background-color: #434B5C;\n",
              "      box-shadow: 0px 1px 3px 1px rgba(0, 0, 0, 0.15);\n",
              "      filter: drop-shadow(0px 1px 2px rgba(0, 0, 0, 0.3));\n",
              "      fill: #FFFFFF;\n",
              "    }\n",
              "  </style>\n",
              "\n",
              "      <script>\n",
              "        const buttonEl =\n",
              "          document.querySelector('#df-1a23def5-9375-4d90-a3c0-922e4d686d3f button.colab-df-convert');\n",
              "        buttonEl.style.display =\n",
              "          google.colab.kernel.accessAllowed ? 'block' : 'none';\n",
              "\n",
              "        async function convertToInteractive(key) {\n",
              "          const element = document.querySelector('#df-1a23def5-9375-4d90-a3c0-922e4d686d3f');\n",
              "          const dataTable =\n",
              "            await google.colab.kernel.invokeFunction('convertToInteractive',\n",
              "                                                     [key], {});\n",
              "          if (!dataTable) return;\n",
              "\n",
              "          const docLinkHtml = 'Like what you see? Visit the ' +\n",
              "            '<a target=\"_blank\" href=https://colab.research.google.com/notebooks/data_table.ipynb>data table notebook</a>'\n",
              "            + ' to learn more about interactive tables.';\n",
              "          element.innerHTML = '';\n",
              "          dataTable['output_type'] = 'display_data';\n",
              "          await google.colab.output.renderOutput(dataTable, element);\n",
              "          const docLink = document.createElement('div');\n",
              "          docLink.innerHTML = docLinkHtml;\n",
              "          element.appendChild(docLink);\n",
              "        }\n",
              "      </script>\n",
              "    </div>\n",
              "  </div>\n",
              "  "
            ]
          },
          "metadata": {},
          "execution_count": 16
        }
      ],
      "source": [
        "data = pd.get_dummies(data, \n",
        "                          columns=['Geography'],\n",
        "                          drop_first=True, \n",
        "                          prefix=\"dmy\" )\n",
        "\n",
        "# проверим, что получилось\n",
        "data.head()"
      ]
    },
    {
      "cell_type": "markdown",
      "metadata": {
        "id": "cImjd-iPWlfj"
      },
      "source": [
        "Все корректно. Идем дальше."
      ]
    },
    {
      "cell_type": "markdown",
      "metadata": {
        "id": "FWPqSHoOWlfj"
      },
      "source": [
        "### Анализ Gender — пол"
      ]
    },
    {
      "cell_type": "code",
      "execution_count": 17,
      "metadata": {
        "colab": {
          "base_uri": "https://localhost:8080/",
          "height": 248
        },
        "id": "5Sum3VyTWlfj",
        "outputId": "7b8e86c8-27f5-405c-ed66-1d1e5d4ee91a"
      },
      "outputs": [
        {
          "output_type": "display_data",
          "data": {
            "text/plain": [
              "<Figure size 432x288 with 1 Axes>"
            ],
            "image/png": "[encoded data removed]"
          },
          "metadata": {}
        }
      ],
      "source": [
        "# Посмотрим частоту\n",
        "data.groupby(['Gender'])['RowNumber'].count().plot(kind='pie', y='points');"
      ]
    },
    {
      "cell_type": "markdown",
      "metadata": {
        "id": "v94JToJ9Wlfj"
      },
      "source": [
        "Не будем делать по OHE. Сделаем по-детски."
      ]
    },
    {
      "cell_type": "code",
      "execution_count": 18,
      "metadata": {
        "id": "Jw04CT30Wlfj"
      },
      "outputs": [],
      "source": [
        "data['Gender'].replace({'Female':1,'Male':0},inplace=True)"
      ]
    },
    {
      "cell_type": "code",
      "execution_count": 19,
      "metadata": {
        "colab": {
          "base_uri": "https://localhost:8080/"
        },
        "id": "nduhuns9Wlfk",
        "outputId": "f417e30a-eb83-4137-a99d-abb1ae9b1a55"
      },
      "outputs": [
        {
          "output_type": "execute_result",
          "data": {
            "text/plain": [
              "array([1, 0])"
            ]
          },
          "metadata": {},
          "execution_count": 19
        }
      ],
      "source": [
        "# проверим\n",
        "data['Gender'].unique()"
      ]
    },
    {
      "cell_type": "markdown",
      "metadata": {
        "id": "JUqhTjARWlfk"
      },
      "source": [
        "### Анализ Tenure — сколько лет человек является клиентом банка"
      ]
    },
    {
      "cell_type": "code",
      "execution_count": 20,
      "metadata": {
        "colab": {
          "base_uri": "https://localhost:8080/",
          "height": 248
        },
        "id": "ErSX5nB0Wlfk",
        "outputId": "317eb194-9725-4bd4-c4f0-5dfd5195c20f"
      },
      "outputs": [
        {
          "output_type": "display_data",
          "data": {
            "text/plain": [
              "<Figure size 432x288 with 1 Axes>"
            ],
            "image/png": "[encoded data removed]"
          },
          "metadata": {}
        }
      ],
      "source": [
        "# Посмотрим частоту\n",
        "data.groupby(['Tenure'])['RowNumber'].count().plot(kind='pie', y='points');"
      ]
    },
    {
      "cell_type": "markdown",
      "metadata": {
        "id": "PPRVzzG3Wlfk"
      },
      "source": [
        "### Анализ Age — возраст"
      ]
    },
    {
      "cell_type": "code",
      "execution_count": 21,
      "metadata": {
        "colab": {
          "base_uri": "https://localhost:8080/",
          "height": 295
        },
        "id": "htF39RvkWlfk",
        "outputId": "a04d49c2-9bb8-47c1-c5a4-76cd984291ee"
      },
      "outputs": [
        {
          "output_type": "display_data",
          "data": {
            "text/plain": [
              "<Figure size 432x288 with 1 Axes>"
            ],
            "image/png": "[encoded data removed]"
          },
          "metadata": {
            "needs_background": "light"
          }
        }
      ],
      "source": [
        "# Посмотрим частоту\n",
        "data.Age.plot(kind=\"hist\", color=\"k\", alpha=0.5, bins=70, title='Распределение по полю \"Age\" ',)\n",
        "plt.xlabel('Возраст, лет')\n",
        "plt.ylabel('Частота')\n",
        "plt.show()"
      ]
    },
    {
      "cell_type": "code",
      "execution_count": 22,
      "metadata": {
        "colab": {
          "base_uri": "https://localhost:8080/",
          "height": 350
        },
        "id": "h2xgG8S_Wlfk",
        "outputId": "3b83619b-226f-4cad-b4c7-aa8611aca202"
      },
      "outputs": [
        {
          "output_type": "display_data",
          "data": {
            "text/plain": [
              "<Figure size 432x360 with 1 Axes>"
            ],
            "image/png": "[encoded data removed]"
          },
          "metadata": {
            "needs_background": "light"
          }
        }
      ],
      "source": [
        "plt.figure(figsize=(6, 5));\n",
        "ax=sns.boxplot(x = data.Age);\n",
        "ax.set()\n",
        "\n",
        "plt.xlabel(\"Age — возраст\");\n",
        "plt.title('Распределение Age — возраст')\n",
        "plt.show();"
      ]
    },
    {
      "cell_type": "markdown",
      "metadata": {
        "id": "wYldsNo4Wlfk"
      },
      "source": [
        "Примерно после 65-лет отмечаются выбросы."
      ]
    },
    {
      "cell_type": "markdown",
      "metadata": {
        "id": "qjw3KdGJWlfk"
      },
      "source": [
        "### Анализ Balance — баланс на счёте"
      ]
    },
    {
      "cell_type": "code",
      "execution_count": 23,
      "metadata": {
        "colab": {
          "base_uri": "https://localhost:8080/",
          "height": 295
        },
        "id": "jlboXKK-Wlfk",
        "outputId": "d0477b55-38e5-402b-9170-bc3dcaf46bb6"
      },
      "outputs": [
        {
          "output_type": "display_data",
          "data": {
            "text/plain": [
              "<Figure size 432x288 with 1 Axes>"
            ],
            "image/png": "[encoded data removed]"
          },
          "metadata": {
            "needs_background": "light"
          }
        }
      ],
      "source": [
        "# Посмотрим частоту\n",
        "data.Balance.plot(kind=\"hist\", color=\"k\", alpha=0.5, bins=70, title='Распределение по полю \"Balance\" ',)\n",
        "plt.xlabel('Баланс на счете, руб.')\n",
        "plt.ylabel('Частота')\n",
        "plt.show()"
      ]
    },
    {
      "cell_type": "markdown",
      "metadata": {
        "id": "AlFo9kX8Wlfl"
      },
      "source": [
        "Интересное распределение.Треть клиентов не имеет баланса на счете. Посмотрим, как это выглядит на ящике с усами."
      ]
    },
    {
      "cell_type": "code",
      "execution_count": 24,
      "metadata": {
        "colab": {
          "base_uri": "https://localhost:8080/",
          "height": 350
        },
        "id": "NUNNh77iWlfl",
        "outputId": "28c1a38c-6561-4e4e-a199-0839dc23c3e3"
      },
      "outputs": [
        {
          "output_type": "display_data",
          "data": {
            "text/plain": [
              "<Figure size 432x360 with 1 Axes>"
            ],
            "image/png": "[encoded data removed]"
          },
          "metadata": {
            "needs_background": "light"
          }
        }
      ],
      "source": [
        "plt.figure(figsize=(6, 5));\n",
        "ax=sns.boxplot(x = data.Balance);\n",
        "ax.set()\n",
        "\n",
        "plt.xlabel(\"Balance — баланс на счёте\");\n",
        "plt.title('Распределение Balance — баланс на счёте')\n",
        "plt.show();"
      ]
    },
    {
      "cell_type": "code",
      "execution_count": 25,
      "metadata": {
        "colab": {
          "base_uri": "https://localhost:8080/",
          "height": 350
        },
        "id": "MIQFKOfQWlfl",
        "outputId": "6d28892d-4d46-478d-c29d-def027a9fcb4"
      },
      "outputs": [
        {
          "output_type": "display_data",
          "data": {
            "text/plain": [
              "<Figure size 432x360 with 1 Axes>"
            ],
            "image/png": "[encoded data removed]"
          },
          "metadata": {
            "needs_background": "light"
          }
        }
      ],
      "source": [
        "# Посмотрим, как будет выглядеть этот ящик, клиентам со счетом.\n",
        "plt.figure(figsize=(6, 5));\n",
        "ax=sns.boxplot(x = data[data['Balance'] > 0]['Balance']);\n",
        "ax.set()\n",
        "\n",
        "plt.xlabel(\"Balance — баланс на счёте\");\n",
        "plt.title('Распределение Balance — баланс на счёте')\n",
        "plt.show();"
      ]
    },
    {
      "cell_type": "markdown",
      "metadata": {
        "id": "WwoSKj-aWlfl"
      },
      "source": [
        "Здесь видно, что нормальное распределение."
      ]
    },
    {
      "cell_type": "markdown",
      "metadata": {
        "id": "3iCNMhPaWlfl"
      },
      "source": [
        "### Анализ NumOfProducts — количество продуктов банка, используемых клиентом"
      ]
    },
    {
      "cell_type": "code",
      "execution_count": 26,
      "metadata": {
        "colab": {
          "base_uri": "https://localhost:8080/",
          "height": 248
        },
        "id": "r_9hts1nWlfl",
        "outputId": "f32944f5-07a9-40b1-df7e-27f8fb48d85c"
      },
      "outputs": [
        {
          "output_type": "display_data",
          "data": {
            "text/plain": [
              "<Figure size 432x288 with 1 Axes>"
            ],
            "image/png": "[encoded data removed]"
          },
          "metadata": {}
        }
      ],
      "source": [
        "# Посмотрим частоту\n",
        "data.groupby(['NumOfProducts'])['RowNumber'].count().plot(kind='pie', y='points');"
      ]
    },
    {
      "cell_type": "markdown",
      "metadata": {
        "id": "2LyB3NgEWlfl"
      },
      "source": [
        "Здесь тоже все хорошо. Идем дальше."
      ]
    },
    {
      "cell_type": "markdown",
      "metadata": {
        "id": "Se4Phs7gWlfl"
      },
      "source": [
        "### Анализ HasCrCard — наличие кредитной карты"
      ]
    },
    {
      "cell_type": "code",
      "execution_count": 27,
      "metadata": {
        "colab": {
          "base_uri": "https://localhost:8080/",
          "height": 248
        },
        "id": "HDJxzIwnWlfl",
        "outputId": "6cdcee02-95c3-4c1f-8865-2c8c9f81e917"
      },
      "outputs": [
        {
          "output_type": "display_data",
          "data": {
            "text/plain": [
              "<Figure size 432x288 with 1 Axes>"
            ],
            "image/png": "[encoded data removed]"
          },
          "metadata": {}
        }
      ],
      "source": [
        "# Посмотрим частоту\n",
        "data.groupby(['HasCrCard'])['RowNumber'].count().plot(kind='pie', y='points');"
      ]
    },
    {
      "cell_type": "markdown",
      "metadata": {
        "id": "KY_yRDvpWlfl"
      },
      "source": [
        "Здесь тоже все хорошо. Идем дальше."
      ]
    },
    {
      "cell_type": "markdown",
      "metadata": {
        "id": "OYQNoJ4SWlfm"
      },
      "source": [
        "### Анализ IsActiveMember — активность клиента"
      ]
    },
    {
      "cell_type": "code",
      "execution_count": 28,
      "metadata": {
        "colab": {
          "base_uri": "https://localhost:8080/",
          "height": 248
        },
        "id": "jET5xFr-Wlfm",
        "outputId": "7678c8fc-c374-44f3-c366-9103d87d2e96"
      },
      "outputs": [
        {
          "output_type": "display_data",
          "data": {
            "text/plain": [
              "<Figure size 432x288 with 1 Axes>"
            ],
            "image/png": "[encoded data removed]"
          },
          "metadata": {}
        }
      ],
      "source": [
        "# Посмотрим частоту\n",
        "data.groupby(['IsActiveMember'])['RowNumber'].count().plot(kind='pie', y='points');"
      ]
    },
    {
      "cell_type": "markdown",
      "metadata": {
        "id": "tU1hJaRXWlfm"
      },
      "source": [
        "Здесь тоже все хорошо. Идем дальше."
      ]
    },
    {
      "cell_type": "markdown",
      "metadata": {
        "id": "D3oREeozWlfm"
      },
      "source": [
        "### Анализ EstimatedSalary — предполагаемая зарплата"
      ]
    },
    {
      "cell_type": "code",
      "execution_count": 29,
      "metadata": {
        "scrolled": true,
        "colab": {
          "base_uri": "https://localhost:8080/",
          "height": 295
        },
        "id": "QbN_8ojlWlfu",
        "outputId": "48e28b97-cb19-4d70-b3ab-11e0dda3d8d8"
      },
      "outputs": [
        {
          "output_type": "display_data",
          "data": {
            "text/plain": [
              "<Figure size 432x288 with 1 Axes>"
            ],
            "image/png": "[encoded data removed]"
          },
          "metadata": {
            "needs_background": "light"
          }
        }
      ],
      "source": [
        "# Посмотрим частоту\n",
        "data.EstimatedSalary.plot(kind=\"hist\", color=\"k\", alpha=0.5, bins=500, title='Распределение по полю \"EstimatedSalary\" ')\n",
        "plt.xlabel('Предполагаемая зарплата, руб.')\n",
        "plt.ylabel('Частота')\n",
        "plt.show()"
      ]
    },
    {
      "cell_type": "markdown",
      "metadata": {
        "id": "5A86wMNFWlfv"
      },
      "source": [
        "Равномерное распределение. Очень странное для предполагаемой зарплаты."
      ]
    },
    {
      "cell_type": "markdown",
      "metadata": {
        "id": "pjX7GQMvWlfv"
      },
      "source": [
        "### Корреляция признаков"
      ]
    },
    {
      "cell_type": "code",
      "execution_count": 30,
      "metadata": {
        "colab": {
          "base_uri": "https://localhost:8080/",
          "height": 488
        },
        "id": "J8Lu4m6fWlfv",
        "outputId": "a96d6b22-213e-4910-a48d-1a215d4cc141"
      },
      "outputs": [
        {
          "output_type": "execute_result",
          "data": {
            "text/plain": [
              "<pandas.io.formats.style.Styler at 0x7f658c6bcbe0>"
            ],
            "text/html": [
              "<style type=\"text/css\">\n",
              "#T_debec_row0_col0, #T_debec_row1_col1, #T_debec_row2_col2, #T_debec_row3_col3, #T_debec_row4_col4, #T_debec_row5_col5, #T_debec_row6_col6, #T_debec_row7_col7, #T_debec_row8_col8, #T_debec_row9_col9, #T_debec_row10_col10, #T_debec_row11_col11, #T_debec_row12_col12, #T_debec_row13_col13 {\n",
              "  background-color: #b40426;\n",
              "  color: #f1f1f1;\n",
              "}\n",
              "#T_debec_row0_col1, #T_debec_row3_col1, #T_debec_row3_col10, #T_debec_row4_col0, #T_debec_row4_col5, #T_debec_row5_col10, #T_debec_row6_col5, #T_debec_row7_col8, #T_debec_row8_col0, #T_debec_row8_col3, #T_debec_row8_col4, #T_debec_row9_col1, #T_debec_row12_col0 {\n",
              "  background-color: #3f53c6;\n",
              "  color: #f1f1f1;\n",
              "}\n",
              "#T_debec_row0_col2, #T_debec_row1_col2, #T_debec_row6_col2, #T_debec_row7_col1, #T_debec_row10_col5, #T_debec_row12_col2, #T_debec_row13_col5 {\n",
              "  background-color: #445acc;\n",
              "  color: #f1f1f1;\n",
              "}\n",
              "#T_debec_row0_col3, #T_debec_row0_col10, #T_debec_row4_col10, #T_debec_row5_col3, #T_debec_row10_col8, #T_debec_row11_col8, #T_debec_row13_col3, #T_debec_row13_col10 {\n",
              "  background-color: #3c4ec2;\n",
              "  color: #f1f1f1;\n",
              "}\n",
              "#T_debec_row0_col4, #T_debec_row2_col5, #T_debec_row3_col2, #T_debec_row9_col0, #T_debec_row10_col1, #T_debec_row10_col3, #T_debec_row13_col2, #T_debec_row13_col4 {\n",
              "  background-color: #4358cb;\n",
              "  color: #f1f1f1;\n",
              "}\n",
              "#T_debec_row0_col5, #T_debec_row1_col0, #T_debec_row2_col1, #T_debec_row4_col2, #T_debec_row5_col4, #T_debec_row8_col2, #T_debec_row10_col4, #T_debec_row11_col10, #T_debec_row12_col10, #T_debec_row13_col1 {\n",
              "  background-color: #4055c8;\n",
              "  color: #f1f1f1;\n",
              "}\n",
              "#T_debec_row0_col6, #T_debec_row1_col6, #T_debec_row3_col6, #T_debec_row5_col6, #T_debec_row9_col6, #T_debec_row12_col7 {\n",
              "  background-color: #84a7fc;\n",
              "  color: #f1f1f1;\n",
              "}\n",
              "#T_debec_row0_col7, #T_debec_row0_col13, #T_debec_row7_col12, #T_debec_row8_col13, #T_debec_row9_col7, #T_debec_row13_col7 {\n",
              "  background-color: #89acfd;\n",
              "  color: #000000;\n",
              "}\n",
              "#T_debec_row0_col8, #T_debec_row1_col5, #T_debec_row3_col5, #T_debec_row10_col0, #T_debec_row11_col5 {\n",
              "  background-color: #3e51c5;\n",
              "  color: #f1f1f1;\n",
              "}\n",
              "#T_debec_row0_col9, #T_debec_row6_col13, #T_debec_row10_col11 {\n",
              "  background-color: #688aef;\n",
              "  color: #f1f1f1;\n",
              "}\n",
              "#T_debec_row0_col11, #T_debec_row12_col9 {\n",
              "  background-color: #5f7fe8;\n",
              "  color: #f1f1f1;\n",
              "}\n",
              "#T_debec_row0_col12, #T_debec_row1_col7, #T_debec_row1_col12, #T_debec_row3_col7, #T_debec_row4_col13, #T_debec_row5_col12 {\n",
              "  background-color: #8caffe;\n",
              "  color: #000000;\n",
              "}\n",
              "#T_debec_row1_col3, #T_debec_row1_col10, #T_debec_row2_col0, #T_debec_row2_col3, #T_debec_row2_col4, #T_debec_row4_col1, #T_debec_row5_col2, #T_debec_row6_col10, #T_debec_row7_col0, #T_debec_row7_col10, #T_debec_row10_col2, #T_debec_row12_col5, #T_debec_row12_col8 {\n",
              "  background-color: #4257c9;\n",
              "  color: #f1f1f1;\n",
              "}\n",
              "#T_debec_row1_col4, #T_debec_row5_col8, #T_debec_row7_col2 {\n",
              "  background-color: #455cce;\n",
              "  color: #f1f1f1;\n",
              "}\n",
              "#T_debec_row1_col8, #T_debec_row3_col0, #T_debec_row4_col8, #T_debec_row5_col1, #T_debec_row6_col1, #T_debec_row6_col7, #T_debec_row6_col8, #T_debec_row7_col4, #T_debec_row7_col6, #T_debec_row8_col1, #T_debec_row8_col10, #T_debec_row9_col3, #T_debec_row9_col5, #T_debec_row9_col8, #T_debec_row9_col10, #T_debec_row9_col11, #T_debec_row11_col0, #T_debec_row11_col2, #T_debec_row11_col9, #T_debec_row12_col13, #T_debec_row13_col8, #T_debec_row13_col12 {\n",
              "  background-color: #3b4cc0;\n",
              "  color: #f1f1f1;\n",
              "}\n",
              "#T_debec_row1_col9 {\n",
              "  background-color: #6485ec;\n",
              "  color: #f1f1f1;\n",
              "}\n",
              "#T_debec_row1_col11, #T_debec_row13_col6 {\n",
              "  background-color: #6384eb;\n",
              "  color: #f1f1f1;\n",
              "}\n",
              "#T_debec_row1_col13, #T_debec_row4_col6, #T_debec_row7_col13, #T_debec_row8_col12, #T_debec_row10_col12 {\n",
              "  background-color: #8fb1fe;\n",
              "  color: #000000;\n",
              "}\n",
              "#T_debec_row2_col6, #T_debec_row3_col13, #T_debec_row6_col11, #T_debec_row8_col7 {\n",
              "  background-color: #88abfd;\n",
              "  color: #000000;\n",
              "}\n",
              "#T_debec_row2_col7, #T_debec_row5_col7, #T_debec_row10_col6, #T_debec_row10_col7, #T_debec_row10_col13 {\n",
              "  background-color: #8badfd;\n",
              "  color: #000000;\n",
              "}\n",
              "#T_debec_row2_col8, #T_debec_row2_col10, #T_debec_row3_col8, #T_debec_row5_col0, #T_debec_row6_col0, #T_debec_row6_col3, #T_debec_row11_col1, #T_debec_row12_col1, #T_debec_row13_col0 {\n",
              "  background-color: #3d50c3;\n",
              "  color: #f1f1f1;\n",
              "}\n",
              "#T_debec_row2_col9 {\n",
              "  background-color: #6c8ff1;\n",
              "  color: #f1f1f1;\n",
              "}\n",
              "#T_debec_row2_col11, #T_debec_row5_col9, #T_debec_row9_col4 {\n",
              "  background-color: #5d7ce6;\n",
              "  color: #f1f1f1;\n",
              "}\n",
              "#T_debec_row2_col12, #T_debec_row2_col13, #T_debec_row5_col13 {\n",
              "  background-color: #8db0fe;\n",
              "  color: #000000;\n",
              "}\n",
              "#T_debec_row3_col4, #T_debec_row6_col4 {\n",
              "  background-color: #4b64d5;\n",
              "  color: #f1f1f1;\n",
              "}\n",
              "#T_debec_row3_col9 {\n",
              "  background-color: #5e7de7;\n",
              "  color: #f1f1f1;\n",
              "}\n",
              "#T_debec_row3_col11 {\n",
              "  background-color: #85a8fc;\n",
              "  color: #f1f1f1;\n",
              "}\n",
              "#T_debec_row3_col12 {\n",
              "  background-color: #93b5fe;\n",
              "  color: #000000;\n",
              "}\n",
              "#T_debec_row4_col3, #T_debec_row8_col5 {\n",
              "  background-color: #4961d2;\n",
              "  color: #f1f1f1;\n",
              "}\n",
              "#T_debec_row4_col7, #T_debec_row4_col9, #T_debec_row11_col13 {\n",
              "  background-color: #7ea1fa;\n",
              "  color: #f1f1f1;\n",
              "}\n",
              "#T_debec_row4_col11, #T_debec_row11_col12 {\n",
              "  background-color: #bad0f8;\n",
              "  color: #000000;\n",
              "}\n",
              "#T_debec_row4_col12, #T_debec_row12_col11 {\n",
              "  background-color: #98b9ff;\n",
              "  color: #000000;\n",
              "}\n",
              "#T_debec_row5_col11, #T_debec_row8_col9 {\n",
              "  background-color: #6180e9;\n",
              "  color: #f1f1f1;\n",
              "}\n",
              "#T_debec_row6_col9, #T_debec_row8_col11, #T_debec_row10_col9, #T_debec_row11_col3 {\n",
              "  background-color: #6282ea;\n",
              "  color: #f1f1f1;\n",
              "}\n",
              "#T_debec_row6_col12 {\n",
              "  background-color: #e9d5cb;\n",
              "  color: #000000;\n",
              "}\n",
              "#T_debec_row7_col3, #T_debec_row12_col3 {\n",
              "  background-color: #485fd1;\n",
              "  color: #f1f1f1;\n",
              "}\n",
              "#T_debec_row7_col5 {\n",
              "  background-color: #465ecf;\n",
              "  color: #f1f1f1;\n",
              "}\n",
              "#T_debec_row7_col9 {\n",
              "  background-color: #6788ee;\n",
              "  color: #f1f1f1;\n",
              "}\n",
              "#T_debec_row7_col11 {\n",
              "  background-color: #5673e0;\n",
              "  color: #f1f1f1;\n",
              "}\n",
              "#T_debec_row8_col6 {\n",
              "  background-color: #82a6fb;\n",
              "  color: #f1f1f1;\n",
              "}\n",
              "#T_debec_row9_col2 {\n",
              "  background-color: #4a63d3;\n",
              "  color: #f1f1f1;\n",
              "}\n",
              "#T_debec_row9_col12 {\n",
              "  background-color: #86a9fc;\n",
              "  color: #f1f1f1;\n",
              "}\n",
              "#T_debec_row9_col13 {\n",
              "  background-color: #92b4fe;\n",
              "  color: #000000;\n",
              "}\n",
              "#T_debec_row11_col4 {\n",
              "  background-color: #a1c0ff;\n",
              "  color: #000000;\n",
              "}\n",
              "#T_debec_row11_col6 {\n",
              "  background-color: #a6c4fe;\n",
              "  color: #000000;\n",
              "}\n",
              "#T_debec_row11_col7 {\n",
              "  background-color: #7a9df8;\n",
              "  color: #f1f1f1;\n",
              "}\n",
              "#T_debec_row12_col4 {\n",
              "  background-color: #516ddb;\n",
              "  color: #f1f1f1;\n",
              "}\n",
              "#T_debec_row12_col6 {\n",
              "  background-color: #e7d7ce;\n",
              "  color: #000000;\n",
              "}\n",
              "#T_debec_row13_col9 {\n",
              "  background-color: #6a8bef;\n",
              "  color: #f1f1f1;\n",
              "}\n",
              "#T_debec_row13_col11 {\n",
              "  background-color: #5572df;\n",
              "  color: #f1f1f1;\n",
              "}\n",
              "</style>\n",
              "<table id=\"T_debec\" class=\"dataframe\">\n",
              "  <thead>\n",
              "    <tr>\n",
              "      <th class=\"blank level0\" >&nbsp;</th>\n",
              "      <th id=\"T_debec_level0_col0\" class=\"col_heading level0 col0\" >RowNumber</th>\n",
              "      <th id=\"T_debec_level0_col1\" class=\"col_heading level0 col1\" >CustomerId</th>\n",
              "      <th id=\"T_debec_level0_col2\" class=\"col_heading level0 col2\" >CreditScore</th>\n",
              "      <th id=\"T_debec_level0_col3\" class=\"col_heading level0 col3\" >Gender</th>\n",
              "      <th id=\"T_debec_level0_col4\" class=\"col_heading level0 col4\" >Age</th>\n",
              "      <th id=\"T_debec_level0_col5\" class=\"col_heading level0 col5\" >Tenure</th>\n",
              "      <th id=\"T_debec_level0_col6\" class=\"col_heading level0 col6\" >Balance</th>\n",
              "      <th id=\"T_debec_level0_col7\" class=\"col_heading level0 col7\" >NumOfProducts</th>\n",
              "      <th id=\"T_debec_level0_col8\" class=\"col_heading level0 col8\" >HasCrCard</th>\n",
              "      <th id=\"T_debec_level0_col9\" class=\"col_heading level0 col9\" >IsActiveMember</th>\n",
              "      <th id=\"T_debec_level0_col10\" class=\"col_heading level0 col10\" >EstimatedSalary</th>\n",
              "      <th id=\"T_debec_level0_col11\" class=\"col_heading level0 col11\" >Exited</th>\n",
              "      <th id=\"T_debec_level0_col12\" class=\"col_heading level0 col12\" >dmy_Germany</th>\n",
              "      <th id=\"T_debec_level0_col13\" class=\"col_heading level0 col13\" >dmy_Spain</th>\n",
              "    </tr>\n",
              "  </thead>\n",
              "  <tbody>\n",
              "    <tr>\n",
              "      <th id=\"T_debec_level0_row0\" class=\"row_heading level0 row0\" >RowNumber</th>\n",
              "      <td id=\"T_debec_row0_col0\" class=\"data row0 col0\" >1.000000</td>\n",
              "      <td id=\"T_debec_row0_col1\" class=\"data row0 col1\" >0.004202</td>\n",
              "      <td id=\"T_debec_row0_col2\" class=\"data row0 col2\" >0.005840</td>\n",
              "      <td id=\"T_debec_row0_col3\" class=\"data row0 col3\" >-0.018196</td>\n",
              "      <td id=\"T_debec_row0_col4\" class=\"data row0 col4\" >0.000783</td>\n",
              "      <td id=\"T_debec_row0_col5\" class=\"data row0 col5\" >-0.006495</td>\n",
              "      <td id=\"T_debec_row0_col6\" class=\"data row0 col6\" >-0.009067</td>\n",
              "      <td id=\"T_debec_row0_col7\" class=\"data row0 col7\" >0.007246</td>\n",
              "      <td id=\"T_debec_row0_col8\" class=\"data row0 col8\" >0.000599</td>\n",
              "      <td id=\"T_debec_row0_col9\" class=\"data row0 col9\" >0.012044</td>\n",
              "      <td id=\"T_debec_row0_col10\" class=\"data row0 col10\" >-0.005988</td>\n",
              "      <td id=\"T_debec_row0_col11\" class=\"data row0 col11\" >-0.016571</td>\n",
              "      <td id=\"T_debec_row0_col12\" class=\"data row0 col12\" >-0.000044</td>\n",
              "      <td id=\"T_debec_row0_col13\" class=\"data row0 col13\" >-0.009905</td>\n",
              "    </tr>\n",
              "    <tr>\n",
              "      <th id=\"T_debec_level0_row1\" class=\"row_heading level0 row1\" >CustomerId</th>\n",
              "      <td id=\"T_debec_row1_col0\" class=\"data row1 col0\" >0.004202</td>\n",
              "      <td id=\"T_debec_row1_col1\" class=\"data row1 col1\" >1.000000</td>\n",
              "      <td id=\"T_debec_row1_col2\" class=\"data row1 col2\" >0.005308</td>\n",
              "      <td id=\"T_debec_row1_col3\" class=\"data row1 col3\" >0.002641</td>\n",
              "      <td id=\"T_debec_row1_col4\" class=\"data row1 col4\" >0.009497</td>\n",
              "      <td id=\"T_debec_row1_col5\" class=\"data row1 col5\" >-0.014883</td>\n",
              "      <td id=\"T_debec_row1_col6\" class=\"data row1 col6\" >-0.012419</td>\n",
              "      <td id=\"T_debec_row1_col7\" class=\"data row1 col7\" >0.016972</td>\n",
              "      <td id=\"T_debec_row1_col8\" class=\"data row1 col8\" >-0.014025</td>\n",
              "      <td id=\"T_debec_row1_col9\" class=\"data row1 col9\" >0.001665</td>\n",
              "      <td id=\"T_debec_row1_col10\" class=\"data row1 col10\" >0.015271</td>\n",
              "      <td id=\"T_debec_row1_col11\" class=\"data row1 col11\" >-0.006248</td>\n",
              "      <td id=\"T_debec_row1_col12\" class=\"data row1 col12\" >-0.003097</td>\n",
              "      <td id=\"T_debec_row1_col13\" class=\"data row1 col13\" >0.007800</td>\n",
              "    </tr>\n",
              "    <tr>\n",
              "      <th id=\"T_debec_level0_row2\" class=\"row_heading level0 row2\" >CreditScore</th>\n",
              "      <td id=\"T_debec_row2_col0\" class=\"data row2 col0\" >0.005840</td>\n",
              "      <td id=\"T_debec_row2_col1\" class=\"data row2 col1\" >0.005308</td>\n",
              "      <td id=\"T_debec_row2_col2\" class=\"data row2 col2\" >1.000000</td>\n",
              "      <td id=\"T_debec_row2_col3\" class=\"data row2 col3\" >0.002857</td>\n",
              "      <td id=\"T_debec_row2_col4\" class=\"data row2 col4\" >-0.003965</td>\n",
              "      <td id=\"T_debec_row2_col5\" class=\"data row2 col5\" >0.000842</td>\n",
              "      <td id=\"T_debec_row2_col6\" class=\"data row2 col6\" >0.006268</td>\n",
              "      <td id=\"T_debec_row2_col7\" class=\"data row2 col7\" >0.012238</td>\n",
              "      <td id=\"T_debec_row2_col8\" class=\"data row2 col8\" >-0.005458</td>\n",
              "      <td id=\"T_debec_row2_col9\" class=\"data row2 col9\" >0.025651</td>\n",
              "      <td id=\"T_debec_row2_col10\" class=\"data row2 col10\" >-0.001384</td>\n",
              "      <td id=\"T_debec_row2_col11\" class=\"data row2 col11\" >-0.027094</td>\n",
              "      <td id=\"T_debec_row2_col12\" class=\"data row2 col12\" >0.005538</td>\n",
              "      <td id=\"T_debec_row2_col13\" class=\"data row2 col13\" >0.004780</td>\n",
              "    </tr>\n",
              "    <tr>\n",
              "      <th id=\"T_debec_level0_row3\" class=\"row_heading level0 row3\" >Gender</th>\n",
              "      <td id=\"T_debec_row3_col0\" class=\"data row3 col0\" >-0.018196</td>\n",
              "      <td id=\"T_debec_row3_col1\" class=\"data row3 col1\" >0.002641</td>\n",
              "      <td id=\"T_debec_row3_col2\" class=\"data row3 col2\" >0.002857</td>\n",
              "      <td id=\"T_debec_row3_col3\" class=\"data row3 col3\" >1.000000</td>\n",
              "      <td id=\"T_debec_row3_col4\" class=\"data row3 col4\" >0.027544</td>\n",
              "      <td id=\"T_debec_row3_col5\" class=\"data row3 col5\" >-0.014733</td>\n",
              "      <td id=\"T_debec_row3_col6\" class=\"data row3 col6\" >-0.012087</td>\n",
              "      <td id=\"T_debec_row3_col7\" class=\"data row3 col7\" >0.021859</td>\n",
              "      <td id=\"T_debec_row3_col8\" class=\"data row3 col8\" >-0.005766</td>\n",
              "      <td id=\"T_debec_row3_col9\" class=\"data row3 col9\" >-0.022544</td>\n",
              "      <td id=\"T_debec_row3_col10\" class=\"data row3 col10\" >0.008112</td>\n",
              "      <td id=\"T_debec_row3_col11\" class=\"data row3 col11\" >0.106512</td>\n",
              "      <td id=\"T_debec_row3_col12\" class=\"data row3 col12\" >0.024628</td>\n",
              "      <td id=\"T_debec_row3_col13\" class=\"data row3 col13\" >-0.016889</td>\n",
              "    </tr>\n",
              "    <tr>\n",
              "      <th id=\"T_debec_level0_row4\" class=\"row_heading level0 row4\" >Age</th>\n",
              "      <td id=\"T_debec_row4_col0\" class=\"data row4 col0\" >0.000783</td>\n",
              "      <td id=\"T_debec_row4_col1\" class=\"data row4 col1\" >0.009497</td>\n",
              "      <td id=\"T_debec_row4_col2\" class=\"data row4 col2\" >-0.003965</td>\n",
              "      <td id=\"T_debec_row4_col3\" class=\"data row4 col3\" >0.027544</td>\n",
              "      <td id=\"T_debec_row4_col4\" class=\"data row4 col4\" >1.000000</td>\n",
              "      <td id=\"T_debec_row4_col5\" class=\"data row4 col5\" >-0.009997</td>\n",
              "      <td id=\"T_debec_row4_col6\" class=\"data row4 col6\" >0.028308</td>\n",
              "      <td id=\"T_debec_row4_col7\" class=\"data row4 col7\" >-0.030680</td>\n",
              "      <td id=\"T_debec_row4_col8\" class=\"data row4 col8\" >-0.011721</td>\n",
              "      <td id=\"T_debec_row4_col9\" class=\"data row4 col9\" >0.085472</td>\n",
              "      <td id=\"T_debec_row4_col10\" class=\"data row4 col10\" >-0.007201</td>\n",
              "      <td id=\"T_debec_row4_col11\" class=\"data row4 col11\" >0.285323</td>\n",
              "      <td id=\"T_debec_row4_col12\" class=\"data row4 col12\" >0.046897</td>\n",
              "      <td id=\"T_debec_row4_col13\" class=\"data row4 col13\" >-0.001685</td>\n",
              "    </tr>\n",
              "    <tr>\n",
              "      <th id=\"T_debec_level0_row5\" class=\"row_heading level0 row5\" >Tenure</th>\n",
              "      <td id=\"T_debec_row5_col0\" class=\"data row5 col0\" >-0.006495</td>\n",
              "      <td id=\"T_debec_row5_col1\" class=\"data row5 col1\" >-0.014883</td>\n",
              "      <td id=\"T_debec_row5_col2\" class=\"data row5 col2\" >0.000842</td>\n",
              "      <td id=\"T_debec_row5_col3\" class=\"data row5 col3\" >-0.014733</td>\n",
              "      <td id=\"T_debec_row5_col4\" class=\"data row5 col4\" >-0.009997</td>\n",
              "      <td id=\"T_debec_row5_col5\" class=\"data row5 col5\" >1.000000</td>\n",
              "      <td id=\"T_debec_row5_col6\" class=\"data row5 col6\" >-0.012254</td>\n",
              "      <td id=\"T_debec_row5_col7\" class=\"data row5 col7\" >0.013444</td>\n",
              "      <td id=\"T_debec_row5_col8\" class=\"data row5 col8\" >0.022583</td>\n",
              "      <td id=\"T_debec_row5_col9\" class=\"data row5 col9\" >-0.028362</td>\n",
              "      <td id=\"T_debec_row5_col10\" class=\"data row5 col10\" >0.007784</td>\n",
              "      <td id=\"T_debec_row5_col11\" class=\"data row5 col11\" >-0.014001</td>\n",
              "      <td id=\"T_debec_row5_col12\" class=\"data row5 col12\" >-0.000567</td>\n",
              "      <td id=\"T_debec_row5_col13\" class=\"data row5 col13\" >0.003868</td>\n",
              "    </tr>\n",
              "    <tr>\n",
              "      <th id=\"T_debec_level0_row6\" class=\"row_heading level0 row6\" >Balance</th>\n",
              "      <td id=\"T_debec_row6_col0\" class=\"data row6 col0\" >-0.009067</td>\n",
              "      <td id=\"T_debec_row6_col1\" class=\"data row6 col1\" >-0.012419</td>\n",
              "      <td id=\"T_debec_row6_col2\" class=\"data row6 col2\" >0.006268</td>\n",
              "      <td id=\"T_debec_row6_col3\" class=\"data row6 col3\" >-0.012087</td>\n",
              "      <td id=\"T_debec_row6_col4\" class=\"data row6 col4\" >0.028308</td>\n",
              "      <td id=\"T_debec_row6_col5\" class=\"data row6 col5\" >-0.012254</td>\n",
              "      <td id=\"T_debec_row6_col6\" class=\"data row6 col6\" >1.000000</td>\n",
              "      <td id=\"T_debec_row6_col7\" class=\"data row6 col7\" >-0.304180</td>\n",
              "      <td id=\"T_debec_row6_col8\" class=\"data row6 col8\" >-0.014858</td>\n",
              "      <td id=\"T_debec_row6_col9\" class=\"data row6 col9\" >-0.010084</td>\n",
              "      <td id=\"T_debec_row6_col10\" class=\"data row6 col10\" >0.012797</td>\n",
              "      <td id=\"T_debec_row6_col11\" class=\"data row6 col11\" >0.118533</td>\n",
              "      <td id=\"T_debec_row6_col12\" class=\"data row6 col12\" >0.401110</td>\n",
              "      <td id=\"T_debec_row6_col13\" class=\"data row6 col13\" >-0.134892</td>\n",
              "    </tr>\n",
              "    <tr>\n",
              "      <th id=\"T_debec_level0_row7\" class=\"row_heading level0 row7\" >NumOfProducts</th>\n",
              "      <td id=\"T_debec_row7_col0\" class=\"data row7 col0\" >0.007246</td>\n",
              "      <td id=\"T_debec_row7_col1\" class=\"data row7 col1\" >0.016972</td>\n",
              "      <td id=\"T_debec_row7_col2\" class=\"data row7 col2\" >0.012238</td>\n",
              "      <td id=\"T_debec_row7_col3\" class=\"data row7 col3\" >0.021859</td>\n",
              "      <td id=\"T_debec_row7_col4\" class=\"data row7 col4\" >-0.030680</td>\n",
              "      <td id=\"T_debec_row7_col5\" class=\"data row7 col5\" >0.013444</td>\n",
              "      <td id=\"T_debec_row7_col6\" class=\"data row7 col6\" >-0.304180</td>\n",
              "      <td id=\"T_debec_row7_col7\" class=\"data row7 col7\" >1.000000</td>\n",
              "      <td id=\"T_debec_row7_col8\" class=\"data row7 col8\" >0.003183</td>\n",
              "      <td id=\"T_debec_row7_col9\" class=\"data row7 col9\" >0.009612</td>\n",
              "      <td id=\"T_debec_row7_col10\" class=\"data row7 col10\" >0.014204</td>\n",
              "      <td id=\"T_debec_row7_col11\" class=\"data row7 col11\" >-0.047820</td>\n",
              "      <td id=\"T_debec_row7_col12\" class=\"data row7 col12\" >-0.010419</td>\n",
              "      <td id=\"T_debec_row7_col13\" class=\"data row7 col13\" >0.009039</td>\n",
              "    </tr>\n",
              "    <tr>\n",
              "      <th id=\"T_debec_level0_row8\" class=\"row_heading level0 row8\" >HasCrCard</th>\n",
              "      <td id=\"T_debec_row8_col0\" class=\"data row8 col0\" >0.000599</td>\n",
              "      <td id=\"T_debec_row8_col1\" class=\"data row8 col1\" >-0.014025</td>\n",
              "      <td id=\"T_debec_row8_col2\" class=\"data row8 col2\" >-0.005458</td>\n",
              "      <td id=\"T_debec_row8_col3\" class=\"data row8 col3\" >-0.005766</td>\n",
              "      <td id=\"T_debec_row8_col4\" class=\"data row8 col4\" >-0.011721</td>\n",
              "      <td id=\"T_debec_row8_col5\" class=\"data row8 col5\" >0.022583</td>\n",
              "      <td id=\"T_debec_row8_col6\" class=\"data row8 col6\" >-0.014858</td>\n",
              "      <td id=\"T_debec_row8_col7\" class=\"data row8 col7\" >0.003183</td>\n",
              "      <td id=\"T_debec_row8_col8\" class=\"data row8 col8\" >1.000000</td>\n",
              "      <td id=\"T_debec_row8_col9\" class=\"data row8 col9\" >-0.011866</td>\n",
              "      <td id=\"T_debec_row8_col10\" class=\"data row8 col10\" >-0.009933</td>\n",
              "      <td id=\"T_debec_row8_col11\" class=\"data row8 col11\" >-0.007138</td>\n",
              "      <td id=\"T_debec_row8_col12\" class=\"data row8 col12\" >0.010577</td>\n",
              "      <td id=\"T_debec_row8_col13\" class=\"data row8 col13\" >-0.013480</td>\n",
              "    </tr>\n",
              "    <tr>\n",
              "      <th id=\"T_debec_level0_row9\" class=\"row_heading level0 row9\" >IsActiveMember</th>\n",
              "      <td id=\"T_debec_row9_col0\" class=\"data row9 col0\" >0.012044</td>\n",
              "      <td id=\"T_debec_row9_col1\" class=\"data row9 col1\" >0.001665</td>\n",
              "      <td id=\"T_debec_row9_col2\" class=\"data row9 col2\" >0.025651</td>\n",
              "      <td id=\"T_debec_row9_col3\" class=\"data row9 col3\" >-0.022544</td>\n",
              "      <td id=\"T_debec_row9_col4\" class=\"data row9 col4\" >0.085472</td>\n",
              "      <td id=\"T_debec_row9_col5\" class=\"data row9 col5\" >-0.028362</td>\n",
              "      <td id=\"T_debec_row9_col6\" class=\"data row9 col6\" >-0.010084</td>\n",
              "      <td id=\"T_debec_row9_col7\" class=\"data row9 col7\" >0.009612</td>\n",
              "      <td id=\"T_debec_row9_col8\" class=\"data row9 col8\" >-0.011866</td>\n",
              "      <td id=\"T_debec_row9_col9\" class=\"data row9 col9\" >1.000000</td>\n",
              "      <td id=\"T_debec_row9_col10\" class=\"data row9 col10\" >-0.011421</td>\n",
              "      <td id=\"T_debec_row9_col11\" class=\"data row9 col11\" >-0.156128</td>\n",
              "      <td id=\"T_debec_row9_col12\" class=\"data row9 col12\" >-0.020486</td>\n",
              "      <td id=\"T_debec_row9_col13\" class=\"data row9 col13\" >0.016732</td>\n",
              "    </tr>\n",
              "    <tr>\n",
              "      <th id=\"T_debec_level0_row10\" class=\"row_heading level0 row10\" >EstimatedSalary</th>\n",
              "      <td id=\"T_debec_row10_col0\" class=\"data row10 col0\" >-0.005988</td>\n",
              "      <td id=\"T_debec_row10_col1\" class=\"data row10 col1\" >0.015271</td>\n",
              "      <td id=\"T_debec_row10_col2\" class=\"data row10 col2\" >-0.001384</td>\n",
              "      <td id=\"T_debec_row10_col3\" class=\"data row10 col3\" >0.008112</td>\n",
              "      <td id=\"T_debec_row10_col4\" class=\"data row10 col4\" >-0.007201</td>\n",
              "      <td id=\"T_debec_row10_col5\" class=\"data row10 col5\" >0.007784</td>\n",
              "      <td id=\"T_debec_row10_col6\" class=\"data row10 col6\" >0.012797</td>\n",
              "      <td id=\"T_debec_row10_col7\" class=\"data row10 col7\" >0.014204</td>\n",
              "      <td id=\"T_debec_row10_col8\" class=\"data row10 col8\" >-0.009933</td>\n",
              "      <td id=\"T_debec_row10_col9\" class=\"data row10 col9\" >-0.011421</td>\n",
              "      <td id=\"T_debec_row10_col10\" class=\"data row10 col10\" >1.000000</td>\n",
              "      <td id=\"T_debec_row10_col11\" class=\"data row10 col11\" >0.012097</td>\n",
              "      <td id=\"T_debec_row10_col12\" class=\"data row10 col12\" >0.010297</td>\n",
              "      <td id=\"T_debec_row10_col13\" class=\"data row10 col13\" >-0.006482</td>\n",
              "    </tr>\n",
              "    <tr>\n",
              "      <th id=\"T_debec_level0_row11\" class=\"row_heading level0 row11\" >Exited</th>\n",
              "      <td id=\"T_debec_row11_col0\" class=\"data row11 col0\" >-0.016571</td>\n",
              "      <td id=\"T_debec_row11_col1\" class=\"data row11 col1\" >-0.006248</td>\n",
              "      <td id=\"T_debec_row11_col2\" class=\"data row11 col2\" >-0.027094</td>\n",
              "      <td id=\"T_debec_row11_col3\" class=\"data row11 col3\" >0.106512</td>\n",
              "      <td id=\"T_debec_row11_col4\" class=\"data row11 col4\" >0.285323</td>\n",
              "      <td id=\"T_debec_row11_col5\" class=\"data row11 col5\" >-0.014001</td>\n",
              "      <td id=\"T_debec_row11_col6\" class=\"data row11 col6\" >0.118533</td>\n",
              "      <td id=\"T_debec_row11_col7\" class=\"data row11 col7\" >-0.047820</td>\n",
              "      <td id=\"T_debec_row11_col8\" class=\"data row11 col8\" >-0.007138</td>\n",
              "      <td id=\"T_debec_row11_col9\" class=\"data row11 col9\" >-0.156128</td>\n",
              "      <td id=\"T_debec_row11_col10\" class=\"data row11 col10\" >0.012097</td>\n",
              "      <td id=\"T_debec_row11_col11\" class=\"data row11 col11\" >1.000000</td>\n",
              "      <td id=\"T_debec_row11_col12\" class=\"data row11 col12\" >0.173488</td>\n",
              "      <td id=\"T_debec_row11_col13\" class=\"data row11 col13\" >-0.052667</td>\n",
              "    </tr>\n",
              "    <tr>\n",
              "      <th id=\"T_debec_level0_row12\" class=\"row_heading level0 row12\" >dmy_Germany</th>\n",
              "      <td id=\"T_debec_row12_col0\" class=\"data row12 col0\" >-0.000044</td>\n",
              "      <td id=\"T_debec_row12_col1\" class=\"data row12 col1\" >-0.003097</td>\n",
              "      <td id=\"T_debec_row12_col2\" class=\"data row12 col2\" >0.005538</td>\n",
              "      <td id=\"T_debec_row12_col3\" class=\"data row12 col3\" >0.024628</td>\n",
              "      <td id=\"T_debec_row12_col4\" class=\"data row12 col4\" >0.046897</td>\n",
              "      <td id=\"T_debec_row12_col5\" class=\"data row12 col5\" >-0.000567</td>\n",
              "      <td id=\"T_debec_row12_col6\" class=\"data row12 col6\" >0.401110</td>\n",
              "      <td id=\"T_debec_row12_col7\" class=\"data row12 col7\" >-0.010419</td>\n",
              "      <td id=\"T_debec_row12_col8\" class=\"data row12 col8\" >0.010577</td>\n",
              "      <td id=\"T_debec_row12_col9\" class=\"data row12 col9\" >-0.020486</td>\n",
              "      <td id=\"T_debec_row12_col10\" class=\"data row12 col10\" >0.010297</td>\n",
              "      <td id=\"T_debec_row12_col11\" class=\"data row12 col11\" >0.173488</td>\n",
              "      <td id=\"T_debec_row12_col12\" class=\"data row12 col12\" >1.000000</td>\n",
              "      <td id=\"T_debec_row12_col13\" class=\"data row12 col13\" >-0.332084</td>\n",
              "    </tr>\n",
              "    <tr>\n",
              "      <th id=\"T_debec_level0_row13\" class=\"row_heading level0 row13\" >dmy_Spain</th>\n",
              "      <td id=\"T_debec_row13_col0\" class=\"data row13 col0\" >-0.009905</td>\n",
              "      <td id=\"T_debec_row13_col1\" class=\"data row13 col1\" >0.007800</td>\n",
              "      <td id=\"T_debec_row13_col2\" class=\"data row13 col2\" >0.004780</td>\n",
              "      <td id=\"T_debec_row13_col3\" class=\"data row13 col3\" >-0.016889</td>\n",
              "      <td id=\"T_debec_row13_col4\" class=\"data row13 col4\" >-0.001685</td>\n",
              "      <td id=\"T_debec_row13_col5\" class=\"data row13 col5\" >0.003868</td>\n",
              "      <td id=\"T_debec_row13_col6\" class=\"data row13 col6\" >-0.134892</td>\n",
              "      <td id=\"T_debec_row13_col7\" class=\"data row13 col7\" >0.009039</td>\n",
              "      <td id=\"T_debec_row13_col8\" class=\"data row13 col8\" >-0.013480</td>\n",
              "      <td id=\"T_debec_row13_col9\" class=\"data row13 col9\" >0.016732</td>\n",
              "      <td id=\"T_debec_row13_col10\" class=\"data row13 col10\" >-0.006482</td>\n",
              "      <td id=\"T_debec_row13_col11\" class=\"data row13 col11\" >-0.052667</td>\n",
              "      <td id=\"T_debec_row13_col12\" class=\"data row13 col12\" >-0.332084</td>\n",
              "      <td id=\"T_debec_row13_col13\" class=\"data row13 col13\" >1.000000</td>\n",
              "    </tr>\n",
              "  </tbody>\n",
              "</table>\n"
            ]
          },
          "metadata": {},
          "execution_count": 30
        }
      ],
      "source": [
        "corr = data.corr()\n",
        "corr.style.background_gradient(cmap='coolwarm')"
      ]
    },
    {
      "cell_type": "markdown",
      "metadata": {
        "id": "WqEjqlJcWlfw"
      },
      "source": [
        "Сильной корреляции не выявлено."
      ]
    },
    {
      "cell_type": "markdown",
      "metadata": {
        "id": "FJ6jXIdhWlfw"
      },
      "source": [
        "### Анализ Exited — факт ухода клиента"
      ]
    },
    {
      "cell_type": "code",
      "execution_count": 31,
      "metadata": {
        "colab": {
          "base_uri": "https://localhost:8080/",
          "height": 248
        },
        "id": "FQHwRNICWlfw",
        "outputId": "3f20faf6-3a32-4fed-969a-7cda71f72ebf"
      },
      "outputs": [
        {
          "output_type": "display_data",
          "data": {
            "text/plain": [
              "<Figure size 432x288 with 1 Axes>"
            ],
            "image/png": "[encoded data removed]"
          },
          "metadata": {}
        }
      ],
      "source": [
        "# Посмотрим частоту\n",
        "data.groupby(['Exited'])['RowNumber'].count().plot(kind='pie', y='points');"
      ]
    },
    {
      "cell_type": "code",
      "execution_count": 32,
      "metadata": {
        "colab": {
          "base_uri": "https://localhost:8080/"
        },
        "id": "eSxdOGlYWlfx",
        "outputId": "9788f678-bd1b-4d0a-a3f3-53a2ec84e2bb"
      },
      "outputs": [
        {
          "output_type": "execute_result",
          "data": {
            "text/plain": [
              "0    0.7963\n",
              "1    0.2037\n",
              "Name: Exited, dtype: float64"
            ]
          },
          "metadata": {},
          "execution_count": 32
        }
      ],
      "source": [
        "data.Exited.value_counts(normalize=True)"
      ]
    },
    {
      "cell_type": "markdown",
      "metadata": {
        "id": "dUdlf7haWlfx"
      },
      "source": [
        "### Удалим ненужные данные"
      ]
    },
    {
      "cell_type": "code",
      "execution_count": 33,
      "metadata": {
        "colab": {
          "base_uri": "https://localhost:8080/"
        },
        "id": "e5KqD30IWlfx",
        "outputId": "26c40b91-834f-4aa0-850e-ea29c4e97858"
      },
      "outputs": [
        {
          "output_type": "execute_result",
          "data": {
            "text/plain": [
              "Index(['CreditScore', 'Gender', 'Age', 'Tenure', 'Balance', 'NumOfProducts',\n",
              "       'HasCrCard', 'IsActiveMember', 'EstimatedSalary', 'Exited',\n",
              "       'dmy_Germany', 'dmy_Spain'],\n",
              "      dtype='object')"
            ]
          },
          "metadata": {},
          "execution_count": 33
        }
      ],
      "source": [
        "''' Старый код\n",
        "data = data.drop(['CustomerId', 'Surname', 'RowNumber', 'EstimatedSalary', 'HasCrCard'], axis=1)\n",
        "'''\n",
        "\n",
        "data = data.drop(['CustomerId', 'Surname', 'RowNumber'], axis=1)\n",
        "\n",
        "# проверка\n",
        "data.columns"
      ]
    },
    {
      "cell_type": "markdown",
      "metadata": {
        "id": "5vbgb9ioWlfx"
      },
      "source": [
        "## Исследование задачи"
      ]
    },
    {
      "cell_type": "markdown",
      "metadata": {
        "id": "bJh8yaveWlfy"
      },
      "source": [
        "Предоположим, что имелось ввиду построить модель без \"борьбы с дисбалансом\"."
      ]
    },
    {
      "cell_type": "markdown",
      "metadata": {
        "id": "BC16pA6sWlfy"
      },
      "source": [
        "### Подготовка данных для исследования задачи"
      ]
    },
    {
      "cell_type": "code",
      "execution_count": 34,
      "metadata": {
        "colab": {
          "base_uri": "https://localhost:8080/",
          "height": 206
        },
        "id": "P1t0OWeqWlfy",
        "outputId": "85d0cf95-e3cd-46ba-c9bf-bdc41bf0e33b"
      },
      "outputs": [
        {
          "output_type": "execute_result",
          "data": {
            "text/plain": [
              "   CreditScore  Gender  Age  Tenure    Balance  NumOfProducts  HasCrCard  \\\n",
              "0          619       1   42       2       0.00              1          1   \n",
              "1          608       1   41       1   83807.86              1          0   \n",
              "2          502       1   42       8  159660.80              3          1   \n",
              "3          699       1   39       1       0.00              2          0   \n",
              "4          850       1   43       2  125510.82              1          1   \n",
              "\n",
              "   IsActiveMember  EstimatedSalary  dmy_Germany  dmy_Spain  \n",
              "0               1        101348.88            0          0  \n",
              "1               1        112542.58            0          1  \n",
              "2               0        113931.57            0          0  \n",
              "3               0         93826.63            0          0  \n",
              "4               1         79084.10            0          1  "
            ],
            "text/html": [
              "\n",
              "  <div id=\"df-209cf103-5c93-4752-90ad-fb5f86ccb6ff\">\n",
              "    <div class=\"colab-df-container\">\n",
              "      <div>\n",
              "<style scoped>\n",
              "    .dataframe tbody tr th:only-of-type {\n",
              "        vertical-align: middle;\n",
              "    }\n",
              "\n",
              "    .dataframe tbody tr th {\n",
              "        vertical-align: top;\n",
              "    }\n",
              "\n",
              "    .dataframe thead th {\n",
              "        text-align: right;\n",
              "    }\n",
              "</style>\n",
              "<table border=\"1\" class=\"dataframe\">\n",
              "  <thead>\n",
              "    <tr style=\"text-align: right;\">\n",
              "      <th></th>\n",
              "      <th>CreditScore</th>\n",
              "      <th>Gender</th>\n",
              "      <th>Age</th>\n",
              "      <th>Tenure</th>\n",
              "      <th>Balance</th>\n",
              "      <th>NumOfProducts</th>\n",
              "      <th>HasCrCard</th>\n",
              "      <th>IsActiveMember</th>\n",
              "      <th>EstimatedSalary</th>\n",
              "      <th>dmy_Germany</th>\n",
              "      <th>dmy_Spain</th>\n",
              "    </tr>\n",
              "  </thead>\n",
              "  <tbody>\n",
              "    <tr>\n",
              "      <th>0</th>\n",
              "      <td>619</td>\n",
              "      <td>1</td>\n",
              "      <td>42</td>\n",
              "      <td>2</td>\n",
              "      <td>0.00</td>\n",
              "      <td>1</td>\n",
              "      <td>1</td>\n",
              "      <td>1</td>\n",
              "      <td>101348.88</td>\n",
              "      <td>0</td>\n",
              "      <td>0</td>\n",
              "    </tr>\n",
              "    <tr>\n",
              "      <th>1</th>\n",
              "      <td>608</td>\n",
              "      <td>1</td>\n",
              "      <td>41</td>\n",
              "      <td>1</td>\n",
              "      <td>83807.86</td>\n",
              "      <td>1</td>\n",
              "      <td>0</td>\n",
              "      <td>1</td>\n",
              "      <td>112542.58</td>\n",
              "      <td>0</td>\n",
              "      <td>1</td>\n",
              "    </tr>\n",
              "    <tr>\n",
              "      <th>2</th>\n",
              "      <td>502</td>\n",
              "      <td>1</td>\n",
              "      <td>42</td>\n",
              "      <td>8</td>\n",
              "      <td>159660.80</td>\n",
              "      <td>3</td>\n",
              "      <td>1</td>\n",
              "      <td>0</td>\n",
              "      <td>113931.57</td>\n",
              "      <td>0</td>\n",
              "      <td>0</td>\n",
              "    </tr>\n",
              "    <tr>\n",
              "      <th>3</th>\n",
              "      <td>699</td>\n",
              "      <td>1</td>\n",
              "      <td>39</td>\n",
              "      <td>1</td>\n",
              "      <td>0.00</td>\n",
              "      <td>2</td>\n",
              "      <td>0</td>\n",
              "      <td>0</td>\n",
              "      <td>93826.63</td>\n",
              "      <td>0</td>\n",
              "      <td>0</td>\n",
              "    </tr>\n",
              "    <tr>\n",
              "      <th>4</th>\n",
              "      <td>850</td>\n",
              "      <td>1</td>\n",
              "      <td>43</td>\n",
              "      <td>2</td>\n",
              "      <td>125510.82</td>\n",
              "      <td>1</td>\n",
              "      <td>1</td>\n",
              "      <td>1</td>\n",
              "      <td>79084.10</td>\n",
              "      <td>0</td>\n",
              "      <td>1</td>\n",
              "    </tr>\n",
              "  </tbody>\n",
              "</table>\n",
              "</div>\n",
              "      <button class=\"colab-df-convert\" onclick=\"convertToInteractive('df-209cf103-5c93-4752-90ad-fb5f86ccb6ff')\"\n",
              "              title=\"Convert this dataframe to an interactive table.\"\n",
              "              style=\"display:none;\">\n",
              "        \n",
              "  <svg xmlns=\"http://www.w3.org/2000/svg\" height=\"24px\"viewBox=\"0 0 24 24\"\n",
              "       width=\"24px\">\n",
              "    <path d=\"M0 0h24v24H0V0z\" fill=\"none\"/>\n",
              "    <path d=\"M18.56 5.44l.94 2.06.94-2.06 2.06-.94-2.06-.94-.94-2.06-.94 2.06-2.06.94zm-11 1L8.5 8.5l.94-2.06 2.06-.94-2.06-.94L8.5 2.5l-.94 2.06-2.06.94zm10 10l.94 2.06.94-2.06 2.06-.94-2.06-.94-.94-2.06-.94 2.06-2.06.94z\"/><path d=\"M17.41 7.96l-1.37-1.37c-.4-.4-.92-.59-1.43-.59-.52 0-1.04.2-1.43.59L10.3 9.45l-7.72 7.72c-.78.78-.78 2.05 0 2.83L4 21.41c.39.39.9.59 1.41.59.51 0 1.02-.2 1.41-.59l7.78-7.78 2.81-2.81c.8-.78.8-2.07 0-2.86zM5.41 20L4 18.59l7.72-7.72 1.47 1.35L5.41 20z\"/>\n",
              "  </svg>\n",
              "      </button>\n",
              "      \n",
              "  <style>\n",
              "    .colab-df-container {\n",
              "      display:flex;\n",
              "      flex-wrap:wrap;\n",
              "      gap: 12px;\n",
              "    }\n",
              "\n",
              "    .colab-df-convert {\n",
              "      background-color: #E8F0FE;\n",
              "      border: none;\n",
              "      border-radius: 50%;\n",
              "      cursor: pointer;\n",
              "      display: none;\n",
              "      fill: #1967D2;\n",
              "      height: 32px;\n",
              "      padding: 0 0 0 0;\n",
              "      width: 32px;\n",
              "    }\n",
              "\n",
              "    .colab-df-convert:hover {\n",
              "      background-color: #E2EBFA;\n",
              "      box-shadow: 0px 1px 2px rgba(60, 64, 67, 0.3), 0px 1px 3px 1px rgba(60, 64, 67, 0.15);\n",
              "      fill: #174EA6;\n",
              "    }\n",
              "\n",
              "    [theme=dark] .colab-df-convert {\n",
              "      background-color: #3B4455;\n",
              "      fill: #D2E3FC;\n",
              "    }\n",
              "\n",
              "    [theme=dark] .colab-df-convert:hover {\n",
              "      background-color: #434B5C;\n",
              "      box-shadow: 0px 1px 3px 1px rgba(0, 0, 0, 0.15);\n",
              "      filter: drop-shadow(0px 1px 2px rgba(0, 0, 0, 0.3));\n",
              "      fill: #FFFFFF;\n",
              "    }\n",
              "  </style>\n",
              "\n",
              "      <script>\n",
              "        const buttonEl =\n",
              "          document.querySelector('#df-209cf103-5c93-4752-90ad-fb5f86ccb6ff button.colab-df-convert');\n",
              "        buttonEl.style.display =\n",
              "          google.colab.kernel.accessAllowed ? 'block' : 'none';\n",
              "\n",
              "        async function convertToInteractive(key) {\n",
              "          const element = document.querySelector('#df-209cf103-5c93-4752-90ad-fb5f86ccb6ff');\n",
              "          const dataTable =\n",
              "            await google.colab.kernel.invokeFunction('convertToInteractive',\n",
              "                                                     [key], {});\n",
              "          if (!dataTable) return;\n",
              "\n",
              "          const docLinkHtml = 'Like what you see? Visit the ' +\n",
              "            '<a target=\"_blank\" href=https://colab.research.google.com/notebooks/data_table.ipynb>data table notebook</a>'\n",
              "            + ' to learn more about interactive tables.';\n",
              "          element.innerHTML = '';\n",
              "          dataTable['output_type'] = 'display_data';\n",
              "          await google.colab.output.renderOutput(dataTable, element);\n",
              "          const docLink = document.createElement('div');\n",
              "          docLink.innerHTML = docLinkHtml;\n",
              "          element.appendChild(docLink);\n",
              "        }\n",
              "      </script>\n",
              "    </div>\n",
              "  </div>\n",
              "  "
            ]
          },
          "metadata": {},
          "execution_count": 34
        }
      ],
      "source": [
        "# фичи X\n",
        "X = data.copy()\n",
        "X = X.drop(['Exited'], axis=1)\n",
        "X.head()"
      ]
    },
    {
      "cell_type": "code",
      "execution_count": 35,
      "metadata": {
        "colab": {
          "base_uri": "https://localhost:8080/"
        },
        "id": "C19rTf0ZWlfy",
        "outputId": "7366a716-5501-41f4-e6f7-45448acc5b7e"
      },
      "outputs": [
        {
          "output_type": "execute_result",
          "data": {
            "text/plain": [
              "0       1\n",
              "1       0\n",
              "2       1\n",
              "3       0\n",
              "4       0\n",
              "       ..\n",
              "9995    0\n",
              "9996    0\n",
              "9997    1\n",
              "9998    1\n",
              "9999    0\n",
              "Name: Exited, Length: 10000, dtype: int64"
            ]
          },
          "metadata": {},
          "execution_count": 35
        }
      ],
      "source": [
        "# значение функции\n",
        "у = data.Exited\n",
        "у"
      ]
    },
    {
      "cell_type": "code",
      "execution_count": 36,
      "metadata": {
        "id": "hp4l2yIzWlfy"
      },
      "outputs": [],
      "source": [
        "# Функция для разбиения дата-сета на обучающую, валидационную и тестовую\n",
        "\n",
        "def split_data(X, y): #--> X_train, X_val, X_test, y_train, у_val, y_test\n",
        "    X_temp, X_val, у_temp, у_val = train_test_split(X, у, \n",
        "                                                    test_size=0.2, train_size=0.8, \n",
        "                                                    random_state=rs,\n",
        "                                                   stratify=у)\n",
        "\n",
        "    X_train, X_test, y_train, y_test = train_test_split(X_temp, у_temp, \n",
        "                                                        test_size = 0.25, train_size =0.75,\n",
        "                                                        random_state=rs, \n",
        "                                                        stratify=у_temp)\n",
        "    return X_train, X_val, X_test, y_train, у_val, y_test"
      ]
    },
    {
      "cell_type": "code",
      "execution_count": 37,
      "metadata": {
        "id": "whrCgRbCWlfy"
      },
      "outputs": [],
      "source": [
        "# Функция для лог-регрессии \n",
        "\n",
        "def LogReg(X_train, X_val, y_train, у_val, LR_grid_param): #--> LR_accuracy\n",
        "    LR_model = LogisticRegression()\n",
        "    LR_grid = GridSearchCV(LR_model, param_grid=LR_grid_param, cv=3, scoring='f1')\n",
        "    LR_grid.fit(X_train, y_train)                                  \n",
        "    pred_y_val = LR_grid.predict(X_val) \n",
        "    probabilities_valid = LR_grid.predict_proba(X_val) # мстрица вероятностей\n",
        "    \n",
        "    return f1_score(у_val, pred_y_val), accuracy_score(у_val, pred_y_val), recall_score(у_val, pred_y_val), precision_score(у_val, pred_y_val), roc_auc_score(у_val, probabilities_valid[:, 1]), LR_grid.best_params_ #, LR_grid.best_params_ "
      ]
    },
    {
      "cell_type": "code",
      "execution_count": 38,
      "metadata": {
        "id": "sqO0rjmbWlfy"
      },
      "outputs": [],
      "source": [
        "def RFC(X_train, X_val, y_train, у_val, RFC_params):\n",
        "    RFC_model = RandomForestClassifier() # инициализация LR\n",
        "    RFC_model.fit(X_train, y_train)                                   # тренировка \n",
        "    pred_y_val = RFC_model.predict(X_val)                           # предсказание функции на тесте      \n",
        "    RFC_grid = GridSearchCV(RFC_model, RFC_params, cv=5, scoring='f1')\n",
        "    RFC_grid.fit(X_train, y_train)\n",
        "    probabilities_valid = RFC_grid.predict_proba(X_val) # мстрица вероятностей\n",
        "    \n",
        "    return f1_score(у_val, pred_y_val) , accuracy_score(у_val, pred_y_val), recall_score(у_val, pred_y_val), precision_score(у_val, pred_y_val), roc_auc_score(у_val, probabilities_valid[:, 1]), RFC_grid.best_params_\n"
      ]
    },
    {
      "cell_type": "code",
      "execution_count": 39,
      "metadata": {
        "colab": {
          "base_uri": "https://localhost:8080/",
          "height": 49
        },
        "id": "NJyIkjIgWlfy",
        "outputId": "46cbaabe-d1a8-439d-fb4d-ad058f291181"
      },
      "outputs": [
        {
          "output_type": "execute_result",
          "data": {
            "text/plain": [
              "Empty DataFrame\n",
              "Columns: [model, data, F1, accuracy, recall, precision, roc_auc, best_estimator]\n",
              "Index: []"
            ],
            "text/html": [
              "\n",
              "  <div id=\"df-3353823a-027b-4577-8f41-ce217bad2b82\">\n",
              "    <div class=\"colab-df-container\">\n",
              "      <div>\n",
              "<style scoped>\n",
              "    .dataframe tbody tr th:only-of-type {\n",
              "        vertical-align: middle;\n",
              "    }\n",
              "\n",
              "    .dataframe tbody tr th {\n",
              "        vertical-align: top;\n",
              "    }\n",
              "\n",
              "    .dataframe thead th {\n",
              "        text-align: right;\n",
              "    }\n",
              "</style>\n",
              "<table border=\"1\" class=\"dataframe\">\n",
              "  <thead>\n",
              "    <tr style=\"text-align: right;\">\n",
              "      <th></th>\n",
              "      <th>model</th>\n",
              "      <th>data</th>\n",
              "      <th>F1</th>\n",
              "      <th>accuracy</th>\n",
              "      <th>recall</th>\n",
              "      <th>precision</th>\n",
              "      <th>roc_auc</th>\n",
              "      <th>best_estimator</th>\n",
              "    </tr>\n",
              "  </thead>\n",
              "  <tbody>\n",
              "  </tbody>\n",
              "</table>\n",
              "</div>\n",
              "      <button class=\"colab-df-convert\" onclick=\"convertToInteractive('df-3353823a-027b-4577-8f41-ce217bad2b82')\"\n",
              "              title=\"Convert this dataframe to an interactive table.\"\n",
              "              style=\"display:none;\">\n",
              "        \n",
              "  <svg xmlns=\"http://www.w3.org/2000/svg\" height=\"24px\"viewBox=\"0 0 24 24\"\n",
              "       width=\"24px\">\n",
              "    <path d=\"M0 0h24v24H0V0z\" fill=\"none\"/>\n",
              "    <path d=\"M18.56 5.44l.94 2.06.94-2.06 2.06-.94-2.06-.94-.94-2.06-.94 2.06-2.06.94zm-11 1L8.5 8.5l.94-2.06 2.06-.94-2.06-.94L8.5 2.5l-.94 2.06-2.06.94zm10 10l.94 2.06.94-2.06 2.06-.94-2.06-.94-.94-2.06-.94 2.06-2.06.94z\"/><path d=\"M17.41 7.96l-1.37-1.37c-.4-.4-.92-.59-1.43-.59-.52 0-1.04.2-1.43.59L10.3 9.45l-7.72 7.72c-.78.78-.78 2.05 0 2.83L4 21.41c.39.39.9.59 1.41.59.51 0 1.02-.2 1.41-.59l7.78-7.78 2.81-2.81c.8-.78.8-2.07 0-2.86zM5.41 20L4 18.59l7.72-7.72 1.47 1.35L5.41 20z\"/>\n",
              "  </svg>\n",
              "      </button>\n",
              "      \n",
              "  <style>\n",
              "    .colab-df-container {\n",
              "      display:flex;\n",
              "      flex-wrap:wrap;\n",
              "      gap: 12px;\n",
              "    }\n",
              "\n",
              "    .colab-df-convert {\n",
              "      background-color: #E8F0FE;\n",
              "      border: none;\n",
              "      border-radius: 50%;\n",
              "      cursor: pointer;\n",
              "      display: none;\n",
              "      fill: #1967D2;\n",
              "      height: 32px;\n",
              "      padding: 0 0 0 0;\n",
              "      width: 32px;\n",
              "    }\n",
              "\n",
              "    .colab-df-convert:hover {\n",
              "      background-color: #E2EBFA;\n",
              "      box-shadow: 0px 1px 2px rgba(60, 64, 67, 0.3), 0px 1px 3px 1px rgba(60, 64, 67, 0.15);\n",
              "      fill: #174EA6;\n",
              "    }\n",
              "\n",
              "    [theme=dark] .colab-df-convert {\n",
              "      background-color: #3B4455;\n",
              "      fill: #D2E3FC;\n",
              "    }\n",
              "\n",
              "    [theme=dark] .colab-df-convert:hover {\n",
              "      background-color: #434B5C;\n",
              "      box-shadow: 0px 1px 3px 1px rgba(0, 0, 0, 0.15);\n",
              "      filter: drop-shadow(0px 1px 2px rgba(0, 0, 0, 0.3));\n",
              "      fill: #FFFFFF;\n",
              "    }\n",
              "  </style>\n",
              "\n",
              "      <script>\n",
              "        const buttonEl =\n",
              "          document.querySelector('#df-3353823a-027b-4577-8f41-ce217bad2b82 button.colab-df-convert');\n",
              "        buttonEl.style.display =\n",
              "          google.colab.kernel.accessAllowed ? 'block' : 'none';\n",
              "\n",
              "        async function convertToInteractive(key) {\n",
              "          const element = document.querySelector('#df-3353823a-027b-4577-8f41-ce217bad2b82');\n",
              "          const dataTable =\n",
              "            await google.colab.kernel.invokeFunction('convertToInteractive',\n",
              "                                                     [key], {});\n",
              "          if (!dataTable) return;\n",
              "\n",
              "          const docLinkHtml = 'Like what you see? Visit the ' +\n",
              "            '<a target=\"_blank\" href=https://colab.research.google.com/notebooks/data_table.ipynb>data table notebook</a>'\n",
              "            + ' to learn more about interactive tables.';\n",
              "          element.innerHTML = '';\n",
              "          dataTable['output_type'] = 'display_data';\n",
              "          await google.colab.output.renderOutput(dataTable, element);\n",
              "          const docLink = document.createElement('div');\n",
              "          docLink.innerHTML = docLinkHtml;\n",
              "          element.appendChild(docLink);\n",
              "        }\n",
              "      </script>\n",
              "    </div>\n",
              "  </div>\n",
              "  "
            ]
          },
          "metadata": {},
          "execution_count": 39
        }
      ],
      "source": [
        "# создадим df для исследований\n",
        "model_rep = pd.DataFrame({\"model\": [],\n",
        "                          \"data\": [],\n",
        "                          \"F1\": [],\n",
        "                          \"accuracy\": [],\n",
        "                          \"recall\": [],\n",
        "                          \"precision\": [],\n",
        "                          \"roc_auc\": [],\n",
        "                          \"best_estimator\": []})\n",
        "model_rep"
      ]
    },
    {
      "cell_type": "code",
      "execution_count": 40,
      "metadata": {
        "colab": {
          "base_uri": "https://localhost:8080/"
        },
        "id": "Ci2s9-XQWlfy",
        "outputId": "0826765a-c783-4ff4-fe4c-c8cdb63c7f82"
      },
      "outputs": [
        {
          "output_type": "execute_result",
          "data": {
            "text/plain": [
              "((6000, 11), (2000, 11), (2000, 11), (6000,), (2000,), (2000,))"
            ]
          },
          "metadata": {},
          "execution_count": 40
        }
      ],
      "source": [
        "# Разобьем имеюющийся датасет с функцией split_data \n",
        "X_train, X_val, X_test, y_train, у_val, y_test = split_data(X, у)\n",
        "\n",
        "# проверим:\n",
        "X_train.shape, X_val.shape, X_test.shape, y_train.shape, у_val.shape, y_test.shape"
      ]
    },
    {
      "cell_type": "markdown",
      "metadata": {
        "id": "4E6R-Jv8Wlfy"
      },
      "source": [
        "### Логистическая регрессия"
      ]
    },
    {
      "cell_type": "markdown",
      "metadata": {
        "id": "RRZJNPT3Wlfz"
      },
      "source": [
        "Обучим логистическую регрессию и подберем гиперпараметры для нее"
      ]
    },
    {
      "cell_type": "code",
      "execution_count": 41,
      "metadata": {
        "colab": {
          "base_uri": "https://localhost:8080/"
        },
        "id": "oUIJ-fVPWlfz",
        "outputId": "53ae228a-4ffe-4180-d7d8-c790a7be5f4a"
      },
      "outputs": [
        {
          "output_type": "execute_result",
          "data": {
            "text/plain": [
              "[{'penalty': ['l1', 'l2'],\n",
              "  'solver': ['liblinear'],\n",
              "  'max_iter': [100, 1000, 2500],\n",
              "  'random_state': [42]}]"
            ]
          },
          "metadata": {},
          "execution_count": 41
        }
      ],
      "source": [
        "LR_grid_param = [\n",
        "    {'penalty': ['l1', 'l2'],\n",
        "     #'C': np.logspace(-4, 4, 20),\n",
        "     'solver': ['liblinear'],\n",
        "     'max_iter': [100, 1000, 2500],\n",
        "     'random_state': [rs]\n",
        "    }\n",
        "]\n",
        "LR_grid_param"
      ]
    },
    {
      "cell_type": "code",
      "execution_count": 42,
      "metadata": {
        "colab": {
          "base_uri": "https://localhost:8080/"
        },
        "id": "QKF6WWwIWlfz",
        "outputId": "a3a68c6c-9ffb-4ebf-f030-46a5cb5d3371"
      },
      "outputs": [
        {
          "output_type": "stream",
          "name": "stdout",
          "text": [
            "0.29213483146067415 0.811 0.19164619164619165 0.6141732283464567 0.7741069266492995 {'max_iter': 100, 'penalty': 'l1', 'random_state': 42, 'solver': 'liblinear'}\n"
          ]
        }
      ],
      "source": [
        "# Подберем параметры\n",
        "LR_f1, LR_acc, LR_recall, LR_precision, LR_roc_auc, LR_best_estimator = LogReg(X_train, X_val, y_train, у_val, LR_grid_param)\n",
        "print(LR_f1, LR_acc, LR_recall, LR_precision, LR_roc_auc, LR_best_estimator)"
      ]
    },
    {
      "cell_type": "code",
      "execution_count": 43,
      "metadata": {
        "scrolled": true,
        "colab": {
          "base_uri": "https://localhost:8080/",
          "height": 115
        },
        "id": "YsrKMuhgWlfz",
        "outputId": "f8c5664d-8087-46b2-ecbc-84eed8275b37"
      },
      "outputs": [
        {
          "output_type": "stream",
          "name": "stderr",
          "text": [
            "<ipython-input-43-3a054ed53329>:2: FutureWarning: The frame.append method is deprecated and will be removed from pandas in a future version. Use pandas.concat instead.\n",
            "  model_rep = model_rep.append({\"model\": 'LogisticRegression',\n"
          ]
        },
        {
          "output_type": "execute_result",
          "data": {
            "text/plain": [
              "                model      data        F1  accuracy    recall  precision  \\\n",
              "0  LogisticRegression  original  0.292135     0.811  0.191646   0.614173   \n",
              "\n",
              "    roc_auc                                     best_estimator  \n",
              "0  0.774107  {'max_iter': 100, 'penalty': 'l1', 'random_sta...  "
            ],
            "text/html": [
              "\n",
              "  <div id=\"df-4b45ff71-d046-4378-b910-9bf2a40cca6f\">\n",
              "    <div class=\"colab-df-container\">\n",
              "      <div>\n",
              "<style scoped>\n",
              "    .dataframe tbody tr th:only-of-type {\n",
              "        vertical-align: middle;\n",
              "    }\n",
              "\n",
              "    .dataframe tbody tr th {\n",
              "        vertical-align: top;\n",
              "    }\n",
              "\n",
              "    .dataframe thead th {\n",
              "        text-align: right;\n",
              "    }\n",
              "</style>\n",
              "<table border=\"1\" class=\"dataframe\">\n",
              "  <thead>\n",
              "    <tr style=\"text-align: right;\">\n",
              "      <th></th>\n",
              "      <th>model</th>\n",
              "      <th>data</th>\n",
              "      <th>F1</th>\n",
              "      <th>accuracy</th>\n",
              "      <th>recall</th>\n",
              "      <th>precision</th>\n",
              "      <th>roc_auc</th>\n",
              "      <th>best_estimator</th>\n",
              "    </tr>\n",
              "  </thead>\n",
              "  <tbody>\n",
              "    <tr>\n",
              "      <th>0</th>\n",
              "      <td>LogisticRegression</td>\n",
              "      <td>original</td>\n",
              "      <td>0.292135</td>\n",
              "      <td>0.811</td>\n",
              "      <td>0.191646</td>\n",
              "      <td>0.614173</td>\n",
              "      <td>0.774107</td>\n",
              "      <td>{'max_iter': 100, 'penalty': 'l1', 'random_sta...</td>\n",
              "    </tr>\n",
              "  </tbody>\n",
              "</table>\n",
              "</div>\n",
              "      <button class=\"colab-df-convert\" onclick=\"convertToInteractive('df-4b45ff71-d046-4378-b910-9bf2a40cca6f')\"\n",
              "              title=\"Convert this dataframe to an interactive table.\"\n",
              "              style=\"display:none;\">\n",
              "        \n",
              "  <svg xmlns=\"http://www.w3.org/2000/svg\" height=\"24px\"viewBox=\"0 0 24 24\"\n",
              "       width=\"24px\">\n",
              "    <path d=\"M0 0h24v24H0V0z\" fill=\"none\"/>\n",
              "    <path d=\"M18.56 5.44l.94 2.06.94-2.06 2.06-.94-2.06-.94-.94-2.06-.94 2.06-2.06.94zm-11 1L8.5 8.5l.94-2.06 2.06-.94-2.06-.94L8.5 2.5l-.94 2.06-2.06.94zm10 10l.94 2.06.94-2.06 2.06-.94-2.06-.94-.94-2.06-.94 2.06-2.06.94z\"/><path d=\"M17.41 7.96l-1.37-1.37c-.4-.4-.92-.59-1.43-.59-.52 0-1.04.2-1.43.59L10.3 9.45l-7.72 7.72c-.78.78-.78 2.05 0 2.83L4 21.41c.39.39.9.59 1.41.59.51 0 1.02-.2 1.41-.59l7.78-7.78 2.81-2.81c.8-.78.8-2.07 0-2.86zM5.41 20L4 18.59l7.72-7.72 1.47 1.35L5.41 20z\"/>\n",
              "  </svg>\n",
              "      </button>\n",
              "      \n",
              "  <style>\n",
              "    .colab-df-container {\n",
              "      display:flex;\n",
              "      flex-wrap:wrap;\n",
              "      gap: 12px;\n",
              "    }\n",
              "\n",
              "    .colab-df-convert {\n",
              "      background-color: #E8F0FE;\n",
              "      border: none;\n",
              "      border-radius: 50%;\n",
              "      cursor: pointer;\n",
              "      display: none;\n",
              "      fill: #1967D2;\n",
              "      height: 32px;\n",
              "      padding: 0 0 0 0;\n",
              "      width: 32px;\n",
              "    }\n",
              "\n",
              "    .colab-df-convert:hover {\n",
              "      background-color: #E2EBFA;\n",
              "      box-shadow: 0px 1px 2px rgba(60, 64, 67, 0.3), 0px 1px 3px 1px rgba(60, 64, 67, 0.15);\n",
              "      fill: #174EA6;\n",
              "    }\n",
              "\n",
              "    [theme=dark] .colab-df-convert {\n",
              "      background-color: #3B4455;\n",
              "      fill: #D2E3FC;\n",
              "    }\n",
              "\n",
              "    [theme=dark] .colab-df-convert:hover {\n",
              "      background-color: #434B5C;\n",
              "      box-shadow: 0px 1px 3px 1px rgba(0, 0, 0, 0.15);\n",
              "      filter: drop-shadow(0px 1px 2px rgba(0, 0, 0, 0.3));\n",
              "      fill: #FFFFFF;\n",
              "    }\n",
              "  </style>\n",
              "\n",
              "      <script>\n",
              "        const buttonEl =\n",
              "          document.querySelector('#df-4b45ff71-d046-4378-b910-9bf2a40cca6f button.colab-df-convert');\n",
              "        buttonEl.style.display =\n",
              "          google.colab.kernel.accessAllowed ? 'block' : 'none';\n",
              "\n",
              "        async function convertToInteractive(key) {\n",
              "          const element = document.querySelector('#df-4b45ff71-d046-4378-b910-9bf2a40cca6f');\n",
              "          const dataTable =\n",
              "            await google.colab.kernel.invokeFunction('convertToInteractive',\n",
              "                                                     [key], {});\n",
              "          if (!dataTable) return;\n",
              "\n",
              "          const docLinkHtml = 'Like what you see? Visit the ' +\n",
              "            '<a target=\"_blank\" href=https://colab.research.google.com/notebooks/data_table.ipynb>data table notebook</a>'\n",
              "            + ' to learn more about interactive tables.';\n",
              "          element.innerHTML = '';\n",
              "          dataTable['output_type'] = 'display_data';\n",
              "          await google.colab.output.renderOutput(dataTable, element);\n",
              "          const docLink = document.createElement('div');\n",
              "          docLink.innerHTML = docLinkHtml;\n",
              "          element.appendChild(docLink);\n",
              "        }\n",
              "      </script>\n",
              "    </div>\n",
              "  </div>\n",
              "  "
            ]
          },
          "metadata": {},
          "execution_count": 43
        }
      ],
      "source": [
        "# Добавим данные в таблицу\n",
        "model_rep = model_rep.append({\"model\": 'LogisticRegression',\n",
        "                              \"data\": 'original',\n",
        "                              \"F1\": LR_f1,\n",
        "                              \"accuracy\": LR_acc,\n",
        "                              \"recall\": LR_recall,\n",
        "                              \"precision\": LR_precision,\n",
        "                              \"roc_auc\": LR_roc_auc,\n",
        "                              \n",
        "                              \"best_estimator\": LR_best_estimator},\n",
        "                             ignore_index=True)\n",
        "model_rep"
      ]
    },
    {
      "cell_type": "markdown",
      "metadata": {
        "id": "elqenqJSWlfz"
      },
      "source": [
        "### Случайный лес"
      ]
    },
    {
      "cell_type": "code",
      "execution_count": 44,
      "metadata": {
        "id": "hH0XU5H5Wlfz"
      },
      "outputs": [],
      "source": [
        "RFC_params = {\n",
        "    \"n_estimators\": [100, 1500],\n",
        "    \"max_features\": ['sqrt'],\n",
        "    \"max_depth\": [11],\n",
        "    \"min_samples_split\": [2, 4],\n",
        "    \"min_samples_leaf\": [1, 2],\n",
        "    \"bootstrap\": [False],\n",
        "}"
      ]
    },
    {
      "cell_type": "code",
      "execution_count": 45,
      "metadata": {
        "colab": {
          "base_uri": "https://localhost:8080/"
        },
        "id": "1qled5ZMWlfz",
        "outputId": "acea860c-8389-4736-f940-116fe5e0fe4b"
      },
      "outputs": [
        {
          "output_type": "stream",
          "name": "stdout",
          "text": [
            "0.5669291338582676 0.8625 0.44226044226044225 0.7894736842105263 0.8599878769370294 {'bootstrap': False, 'max_depth': 11, 'max_features': 'sqrt', 'min_samples_leaf': 2, 'min_samples_split': 2, 'n_estimators': 100}\n"
          ]
        }
      ],
      "source": [
        "# Подберем параметры\n",
        "RFC_f1, RFC_acc, RFC_recall, RFC_precision, RFC_roc_auc, RFC_best_estimator = RFC(X_train, X_val, y_train, у_val, RFC_params)\n",
        "print(RFC_f1, RFC_acc, RFC_recall, RFC_precision, RFC_roc_auc, RFC_best_estimator)"
      ]
    },
    {
      "cell_type": "code",
      "execution_count": 46,
      "metadata": {
        "colab": {
          "base_uri": "https://localhost:8080/",
          "height": 147
        },
        "id": "enflbxMpWlfz",
        "outputId": "3e9b122e-5a49-45a6-8c20-801d2a6abebe"
      },
      "outputs": [
        {
          "output_type": "stream",
          "name": "stderr",
          "text": [
            "<ipython-input-46-bbfdb454ef04>:1: FutureWarning: The frame.append method is deprecated and will be removed from pandas in a future version. Use pandas.concat instead.\n",
            "  model_rep = model_rep.append({\"model\": 'RandomForestClassifier',\n"
          ]
        },
        {
          "output_type": "execute_result",
          "data": {
            "text/plain": [
              "                    model      data        F1  accuracy    recall  precision  \\\n",
              "0      LogisticRegression  original  0.292135    0.8110  0.191646   0.614173   \n",
              "1  RandomForestClassifier  original  0.566929    0.8625  0.442260   0.789474   \n",
              "\n",
              "    roc_auc                                     best_estimator  \n",
              "0  0.774107  {'max_iter': 100, 'penalty': 'l1', 'random_sta...  \n",
              "1  0.859988  {'bootstrap': False, 'max_depth': 11, 'max_fea...  "
            ],
            "text/html": [
              "\n",
              "  <div id=\"df-76b11a3a-7f00-4e0d-8f26-7f6249a33f98\">\n",
              "    <div class=\"colab-df-container\">\n",
              "      <div>\n",
              "<style scoped>\n",
              "    .dataframe tbody tr th:only-of-type {\n",
              "        vertical-align: middle;\n",
              "    }\n",
              "\n",
              "    .dataframe tbody tr th {\n",
              "        vertical-align: top;\n",
              "    }\n",
              "\n",
              "    .dataframe thead th {\n",
              "        text-align: right;\n",
              "    }\n",
              "</style>\n",
              "<table border=\"1\" class=\"dataframe\">\n",
              "  <thead>\n",
              "    <tr style=\"text-align: right;\">\n",
              "      <th></th>\n",
              "      <th>model</th>\n",
              "      <th>data</th>\n",
              "      <th>F1</th>\n",
              "      <th>accuracy</th>\n",
              "      <th>recall</th>\n",
              "      <th>precision</th>\n",
              "      <th>roc_auc</th>\n",
              "      <th>best_estimator</th>\n",
              "    </tr>\n",
              "  </thead>\n",
              "  <tbody>\n",
              "    <tr>\n",
              "      <th>0</th>\n",
              "      <td>LogisticRegression</td>\n",
              "      <td>original</td>\n",
              "      <td>0.292135</td>\n",
              "      <td>0.8110</td>\n",
              "      <td>0.191646</td>\n",
              "      <td>0.614173</td>\n",
              "      <td>0.774107</td>\n",
              "      <td>{'max_iter': 100, 'penalty': 'l1', 'random_sta...</td>\n",
              "    </tr>\n",
              "    <tr>\n",
              "      <th>1</th>\n",
              "      <td>RandomForestClassifier</td>\n",
              "      <td>original</td>\n",
              "      <td>0.566929</td>\n",
              "      <td>0.8625</td>\n",
              "      <td>0.442260</td>\n",
              "      <td>0.789474</td>\n",
              "      <td>0.859988</td>\n",
              "      <td>{'bootstrap': False, 'max_depth': 11, 'max_fea...</td>\n",
              "    </tr>\n",
              "  </tbody>\n",
              "</table>\n",
              "</div>\n",
              "      <button class=\"colab-df-convert\" onclick=\"convertToInteractive('df-76b11a3a-7f00-4e0d-8f26-7f6249a33f98')\"\n",
              "              title=\"Convert this dataframe to an interactive table.\"\n",
              "              style=\"display:none;\">\n",
              "        \n",
              "  <svg xmlns=\"http://www.w3.org/2000/svg\" height=\"24px\"viewBox=\"0 0 24 24\"\n",
              "       width=\"24px\">\n",
              "    <path d=\"M0 0h24v24H0V0z\" fill=\"none\"/>\n",
              "    <path d=\"M18.56 5.44l.94 2.06.94-2.06 2.06-.94-2.06-.94-.94-2.06-.94 2.06-2.06.94zm-11 1L8.5 8.5l.94-2.06 2.06-.94-2.06-.94L8.5 2.5l-.94 2.06-2.06.94zm10 10l.94 2.06.94-2.06 2.06-.94-2.06-.94-.94-2.06-.94 2.06-2.06.94z\"/><path d=\"M17.41 7.96l-1.37-1.37c-.4-.4-.92-.59-1.43-.59-.52 0-1.04.2-1.43.59L10.3 9.45l-7.72 7.72c-.78.78-.78 2.05 0 2.83L4 21.41c.39.39.9.59 1.41.59.51 0 1.02-.2 1.41-.59l7.78-7.78 2.81-2.81c.8-.78.8-2.07 0-2.86zM5.41 20L4 18.59l7.72-7.72 1.47 1.35L5.41 20z\"/>\n",
              "  </svg>\n",
              "      </button>\n",
              "      \n",
              "  <style>\n",
              "    .colab-df-container {\n",
              "      display:flex;\n",
              "      flex-wrap:wrap;\n",
              "      gap: 12px;\n",
              "    }\n",
              "\n",
              "    .colab-df-convert {\n",
              "      background-color: #E8F0FE;\n",
              "      border: none;\n",
              "      border-radius: 50%;\n",
              "      cursor: pointer;\n",
              "      display: none;\n",
              "      fill: #1967D2;\n",
              "      height: 32px;\n",
              "      padding: 0 0 0 0;\n",
              "      width: 32px;\n",
              "    }\n",
              "\n",
              "    .colab-df-convert:hover {\n",
              "      background-color: #E2EBFA;\n",
              "      box-shadow: 0px 1px 2px rgba(60, 64, 67, 0.3), 0px 1px 3px 1px rgba(60, 64, 67, 0.15);\n",
              "      fill: #174EA6;\n",
              "    }\n",
              "\n",
              "    [theme=dark] .colab-df-convert {\n",
              "      background-color: #3B4455;\n",
              "      fill: #D2E3FC;\n",
              "    }\n",
              "\n",
              "    [theme=dark] .colab-df-convert:hover {\n",
              "      background-color: #434B5C;\n",
              "      box-shadow: 0px 1px 3px 1px rgba(0, 0, 0, 0.15);\n",
              "      filter: drop-shadow(0px 1px 2px rgba(0, 0, 0, 0.3));\n",
              "      fill: #FFFFFF;\n",
              "    }\n",
              "  </style>\n",
              "\n",
              "      <script>\n",
              "        const buttonEl =\n",
              "          document.querySelector('#df-76b11a3a-7f00-4e0d-8f26-7f6249a33f98 button.colab-df-convert');\n",
              "        buttonEl.style.display =\n",
              "          google.colab.kernel.accessAllowed ? 'block' : 'none';\n",
              "\n",
              "        async function convertToInteractive(key) {\n",
              "          const element = document.querySelector('#df-76b11a3a-7f00-4e0d-8f26-7f6249a33f98');\n",
              "          const dataTable =\n",
              "            await google.colab.kernel.invokeFunction('convertToInteractive',\n",
              "                                                     [key], {});\n",
              "          if (!dataTable) return;\n",
              "\n",
              "          const docLinkHtml = 'Like what you see? Visit the ' +\n",
              "            '<a target=\"_blank\" href=https://colab.research.google.com/notebooks/data_table.ipynb>data table notebook</a>'\n",
              "            + ' to learn more about interactive tables.';\n",
              "          element.innerHTML = '';\n",
              "          dataTable['output_type'] = 'display_data';\n",
              "          await google.colab.output.renderOutput(dataTable, element);\n",
              "          const docLink = document.createElement('div');\n",
              "          docLink.innerHTML = docLinkHtml;\n",
              "          element.appendChild(docLink);\n",
              "        }\n",
              "      </script>\n",
              "    </div>\n",
              "  </div>\n",
              "  "
            ]
          },
          "metadata": {},
          "execution_count": 46
        }
      ],
      "source": [
        "model_rep = model_rep.append({\"model\": 'RandomForestClassifier',\n",
        "                              \"data\": 'original',\n",
        "                              \"F1\": RFC_f1,\n",
        "                              \"accuracy\": RFC_acc,\n",
        "                              \"recall\": RFC_recall,\n",
        "                              \"precision\": RFC_precision,\n",
        "                              \"roc_auc\": RFC_roc_auc,\n",
        "                              \"best_estimator\": RFC_best_estimator},\n",
        "                             ignore_index=True)\n",
        "model_rep"
      ]
    },
    {
      "cell_type": "markdown",
      "metadata": {
        "id": "NZdylqQ4Wlf0"
      },
      "source": [
        "### Выводы"
      ]
    },
    {
      "cell_type": "markdown",
      "metadata": {
        "id": "IPOSXhxGWlf0"
      },
      "source": [
        "По оригинальному датасету наилучший результат по метрике F1 и accuracy показала модель RandomForestClassifier."
      ]
    },
    {
      "cell_type": "markdown",
      "metadata": {
        "id": "g37TNYOdWlf0"
      },
      "source": [
        "## Борьба с дисбалансом (увеличение выбоки)"
      ]
    },
    {
      "cell_type": "markdown",
      "metadata": {
        "id": "wECQZNgBWlf0"
      },
      "source": [
        "В данном случае сталкиваемся с дисбалансом целевой функции Exited. Значение \"0\" превозсходит  количество значения \"1\" примерно в 5 раз. Сделаем upsampled для значения \"1\"."
      ]
    },
    {
      "cell_type": "markdown",
      "metadata": {
        "id": "5RD3SawdWlf0"
      },
      "source": [
        "### Подготовка данных для исследования"
      ]
    },
    {
      "cell_type": "code",
      "execution_count": 47,
      "metadata": {
        "colab": {
          "base_uri": "https://localhost:8080/"
        },
        "id": "_ejm_TNaWlf0",
        "outputId": "38389358-4d26-40b9-b5b5-111d21511a18"
      },
      "outputs": [
        {
          "output_type": "execute_result",
          "data": {
            "text/plain": [
              "(6000, 12)"
            ]
          },
          "metadata": {},
          "execution_count": 47
        }
      ],
      "source": [
        "# объединяем X_train + y_train\n",
        "X_train['y'] = y_train\n",
        "X_train.shape"
      ]
    },
    {
      "cell_type": "code",
      "execution_count": 48,
      "metadata": {
        "colab": {
          "base_uri": "https://localhost:8080/"
        },
        "id": "Dv1kdlwtWlf0",
        "outputId": "61f832e1-4884-445c-e7f9-f36dcc547531"
      },
      "outputs": [
        {
          "output_type": "execute_result",
          "data": {
            "text/plain": [
              "1223"
            ]
          },
          "metadata": {},
          "execution_count": 48
        }
      ],
      "source": [
        "# узнаем количество строк со значением функции = 1\n",
        "len(X_train.query('y == 1'))"
      ]
    },
    {
      "cell_type": "code",
      "execution_count": 49,
      "metadata": {
        "colab": {
          "base_uri": "https://localhost:8080/"
        },
        "id": "JJAuWkqlWlf1",
        "outputId": "85f91f6e-fed0-4882-88d1-a35bf425afc0"
      },
      "outputs": [
        {
          "output_type": "stream",
          "name": "stderr",
          "text": [
            "<ipython-input-49-aadcd50ec411>:5: FutureWarning: The frame.append method is deprecated and will be removed from pandas in a future version. Use pandas.concat instead.\n",
            "  X_train = X_train.append(X_for_append, ignore_index=True)\n"
          ]
        },
        {
          "output_type": "execute_result",
          "data": {
            "text/plain": [
              "(12115, 12)"
            ]
          },
          "metadata": {},
          "execution_count": 49
        }
      ],
      "source": [
        "# увеличиваем количество строк со значением Exited =1 в 4 раза.\n",
        "X_for_append = X_train.query('y == 1')\n",
        "\n",
        "for repeat in range(5):\n",
        "    X_train = X_train.append(X_for_append, ignore_index=True)\n",
        "X_train = shuffle(X_train, random_state=rs)\n",
        "X_train.shape"
      ]
    },
    {
      "cell_type": "code",
      "execution_count": 50,
      "metadata": {
        "colab": {
          "base_uri": "https://localhost:8080/"
        },
        "id": "I4a4GV_FWlf1",
        "outputId": "0b639364-d43d-4211-84c8-8756607d5d82"
      },
      "outputs": [
        {
          "output_type": "execute_result",
          "data": {
            "text/plain": [
              "3784     1\n",
              "5706     0\n",
              "724      0\n",
              "8030     1\n",
              "468      1\n",
              "        ..\n",
              "11964    1\n",
              "5191     0\n",
              "5390     0\n",
              "860      0\n",
              "7270     1\n",
              "Name: y, Length: 12115, dtype: int64"
            ]
          },
          "metadata": {},
          "execution_count": 50
        }
      ],
      "source": [
        "# Получим увеличенный y_train\n",
        "y_train = X_train['y']\n",
        "y_train"
      ]
    },
    {
      "cell_type": "code",
      "execution_count": 51,
      "metadata": {
        "colab": {
          "base_uri": "https://localhost:8080/",
          "height": 206
        },
        "id": "0OpB5Z9iWlf1",
        "outputId": "5bc7d08b-5355-4875-d5ef-26d7992b1a07"
      },
      "outputs": [
        {
          "output_type": "execute_result",
          "data": {
            "text/plain": [
              "      CreditScore  Gender  Age  Tenure    Balance  NumOfProducts  HasCrCard  \\\n",
              "3784          617       1   39       5   83348.89              3          1   \n",
              "5706          584       0   38       1  115341.55              1          0   \n",
              "724           558       0   38       8  113000.92              1          1   \n",
              "8030          637       1   55       1  123378.20              1          1   \n",
              "468           545       1   39       6       0.00              1          0   \n",
              "\n",
              "      IsActiveMember  EstimatedSalary  dmy_Germany  dmy_Spain  \n",
              "3784               0          7953.62            1          0  \n",
              "5706               1        173632.92            0          0  \n",
              "724                1        152872.39            0          0  \n",
              "8030               0         81431.99            1          0  \n",
              "468                0         38410.74            0          1  "
            ],
            "text/html": [
              "\n",
              "  <div id=\"df-a1be897c-f9cc-4e35-8c91-048549976832\">\n",
              "    <div class=\"colab-df-container\">\n",
              "      <div>\n",
              "<style scoped>\n",
              "    .dataframe tbody tr th:only-of-type {\n",
              "        vertical-align: middle;\n",
              "    }\n",
              "\n",
              "    .dataframe tbody tr th {\n",
              "        vertical-align: top;\n",
              "    }\n",
              "\n",
              "    .dataframe thead th {\n",
              "        text-align: right;\n",
              "    }\n",
              "</style>\n",
              "<table border=\"1\" class=\"dataframe\">\n",
              "  <thead>\n",
              "    <tr style=\"text-align: right;\">\n",
              "      <th></th>\n",
              "      <th>CreditScore</th>\n",
              "      <th>Gender</th>\n",
              "      <th>Age</th>\n",
              "      <th>Tenure</th>\n",
              "      <th>Balance</th>\n",
              "      <th>NumOfProducts</th>\n",
              "      <th>HasCrCard</th>\n",
              "      <th>IsActiveMember</th>\n",
              "      <th>EstimatedSalary</th>\n",
              "      <th>dmy_Germany</th>\n",
              "      <th>dmy_Spain</th>\n",
              "    </tr>\n",
              "  </thead>\n",
              "  <tbody>\n",
              "    <tr>\n",
              "      <th>3784</th>\n",
              "      <td>617</td>\n",
              "      <td>1</td>\n",
              "      <td>39</td>\n",
              "      <td>5</td>\n",
              "      <td>83348.89</td>\n",
              "      <td>3</td>\n",
              "      <td>1</td>\n",
              "      <td>0</td>\n",
              "      <td>7953.62</td>\n",
              "      <td>1</td>\n",
              "      <td>0</td>\n",
              "    </tr>\n",
              "    <tr>\n",
              "      <th>5706</th>\n",
              "      <td>584</td>\n",
              "      <td>0</td>\n",
              "      <td>38</td>\n",
              "      <td>1</td>\n",
              "      <td>115341.55</td>\n",
              "      <td>1</td>\n",
              "      <td>0</td>\n",
              "      <td>1</td>\n",
              "      <td>173632.92</td>\n",
              "      <td>0</td>\n",
              "      <td>0</td>\n",
              "    </tr>\n",
              "    <tr>\n",
              "      <th>724</th>\n",
              "      <td>558</td>\n",
              "      <td>0</td>\n",
              "      <td>38</td>\n",
              "      <td>8</td>\n",
              "      <td>113000.92</td>\n",
              "      <td>1</td>\n",
              "      <td>1</td>\n",
              "      <td>1</td>\n",
              "      <td>152872.39</td>\n",
              "      <td>0</td>\n",
              "      <td>0</td>\n",
              "    </tr>\n",
              "    <tr>\n",
              "      <th>8030</th>\n",
              "      <td>637</td>\n",
              "      <td>1</td>\n",
              "      <td>55</td>\n",
              "      <td>1</td>\n",
              "      <td>123378.20</td>\n",
              "      <td>1</td>\n",
              "      <td>1</td>\n",
              "      <td>0</td>\n",
              "      <td>81431.99</td>\n",
              "      <td>1</td>\n",
              "      <td>0</td>\n",
              "    </tr>\n",
              "    <tr>\n",
              "      <th>468</th>\n",
              "      <td>545</td>\n",
              "      <td>1</td>\n",
              "      <td>39</td>\n",
              "      <td>6</td>\n",
              "      <td>0.00</td>\n",
              "      <td>1</td>\n",
              "      <td>0</td>\n",
              "      <td>0</td>\n",
              "      <td>38410.74</td>\n",
              "      <td>0</td>\n",
              "      <td>1</td>\n",
              "    </tr>\n",
              "  </tbody>\n",
              "</table>\n",
              "</div>\n",
              "      <button class=\"colab-df-convert\" onclick=\"convertToInteractive('df-a1be897c-f9cc-4e35-8c91-048549976832')\"\n",
              "              title=\"Convert this dataframe to an interactive table.\"\n",
              "              style=\"display:none;\">\n",
              "        \n",
              "  <svg xmlns=\"http://www.w3.org/2000/svg\" height=\"24px\"viewBox=\"0 0 24 24\"\n",
              "       width=\"24px\">\n",
              "    <path d=\"M0 0h24v24H0V0z\" fill=\"none\"/>\n",
              "    <path d=\"M18.56 5.44l.94 2.06.94-2.06 2.06-.94-2.06-.94-.94-2.06-.94 2.06-2.06.94zm-11 1L8.5 8.5l.94-2.06 2.06-.94-2.06-.94L8.5 2.5l-.94 2.06-2.06.94zm10 10l.94 2.06.94-2.06 2.06-.94-2.06-.94-.94-2.06-.94 2.06-2.06.94z\"/><path d=\"M17.41 7.96l-1.37-1.37c-.4-.4-.92-.59-1.43-.59-.52 0-1.04.2-1.43.59L10.3 9.45l-7.72 7.72c-.78.78-.78 2.05 0 2.83L4 21.41c.39.39.9.59 1.41.59.51 0 1.02-.2 1.41-.59l7.78-7.78 2.81-2.81c.8-.78.8-2.07 0-2.86zM5.41 20L4 18.59l7.72-7.72 1.47 1.35L5.41 20z\"/>\n",
              "  </svg>\n",
              "      </button>\n",
              "      \n",
              "  <style>\n",
              "    .colab-df-container {\n",
              "      display:flex;\n",
              "      flex-wrap:wrap;\n",
              "      gap: 12px;\n",
              "    }\n",
              "\n",
              "    .colab-df-convert {\n",
              "      background-color: #E8F0FE;\n",
              "      border: none;\n",
              "      border-radius: 50%;\n",
              "      cursor: pointer;\n",
              "      display: none;\n",
              "      fill: #1967D2;\n",
              "      height: 32px;\n",
              "      padding: 0 0 0 0;\n",
              "      width: 32px;\n",
              "    }\n",
              "\n",
              "    .colab-df-convert:hover {\n",
              "      background-color: #E2EBFA;\n",
              "      box-shadow: 0px 1px 2px rgba(60, 64, 67, 0.3), 0px 1px 3px 1px rgba(60, 64, 67, 0.15);\n",
              "      fill: #174EA6;\n",
              "    }\n",
              "\n",
              "    [theme=dark] .colab-df-convert {\n",
              "      background-color: #3B4455;\n",
              "      fill: #D2E3FC;\n",
              "    }\n",
              "\n",
              "    [theme=dark] .colab-df-convert:hover {\n",
              "      background-color: #434B5C;\n",
              "      box-shadow: 0px 1px 3px 1px rgba(0, 0, 0, 0.15);\n",
              "      filter: drop-shadow(0px 1px 2px rgba(0, 0, 0, 0.3));\n",
              "      fill: #FFFFFF;\n",
              "    }\n",
              "  </style>\n",
              "\n",
              "      <script>\n",
              "        const buttonEl =\n",
              "          document.querySelector('#df-a1be897c-f9cc-4e35-8c91-048549976832 button.colab-df-convert');\n",
              "        buttonEl.style.display =\n",
              "          google.colab.kernel.accessAllowed ? 'block' : 'none';\n",
              "\n",
              "        async function convertToInteractive(key) {\n",
              "          const element = document.querySelector('#df-a1be897c-f9cc-4e35-8c91-048549976832');\n",
              "          const dataTable =\n",
              "            await google.colab.kernel.invokeFunction('convertToInteractive',\n",
              "                                                     [key], {});\n",
              "          if (!dataTable) return;\n",
              "\n",
              "          const docLinkHtml = 'Like what you see? Visit the ' +\n",
              "            '<a target=\"_blank\" href=https://colab.research.google.com/notebooks/data_table.ipynb>data table notebook</a>'\n",
              "            + ' to learn more about interactive tables.';\n",
              "          element.innerHTML = '';\n",
              "          dataTable['output_type'] = 'display_data';\n",
              "          await google.colab.output.renderOutput(dataTable, element);\n",
              "          const docLink = document.createElement('div');\n",
              "          docLink.innerHTML = docLinkHtml;\n",
              "          element.appendChild(docLink);\n",
              "        }\n",
              "      </script>\n",
              "    </div>\n",
              "  </div>\n",
              "  "
            ]
          },
          "metadata": {},
          "execution_count": 51
        }
      ],
      "source": [
        "X_train = X_train.drop(['y'], axis=1)\n",
        "X_train.head()"
      ]
    },
    {
      "cell_type": "markdown",
      "metadata": {
        "id": "t7C7xar5Wlf1"
      },
      "source": [
        "### Логистичческая регрессия"
      ]
    },
    {
      "cell_type": "code",
      "execution_count": 52,
      "metadata": {
        "colab": {
          "base_uri": "https://localhost:8080/"
        },
        "id": "kSiEvp75Wlf1",
        "outputId": "010fa097-aaf5-458c-de05-28ef9cfa143e"
      },
      "outputs": [
        {
          "output_type": "stream",
          "name": "stdout",
          "text": [
            "0.47178789938817123 0.6115 0.8525798525798526 0.32612781954887216 0.7777808625266251 {'max_iter': 100, 'penalty': 'l1', 'random_state': 42, 'solver': 'liblinear'}\n"
          ]
        }
      ],
      "source": [
        "# Подберем параметры\n",
        "LR_f1, LR_acc, LR_recall, LR_precision, LR_roc_auc, LR_best_estimator = LogReg(X_train, X_val, y_train, у_val, LR_grid_param)\n",
        "print(LR_f1, LR_acc, LR_recall, LR_precision, LR_roc_auc, LR_best_estimator)"
      ]
    },
    {
      "cell_type": "code",
      "execution_count": 53,
      "metadata": {
        "scrolled": false,
        "colab": {
          "base_uri": "https://localhost:8080/",
          "height": 178
        },
        "id": "uA4KP6kdWlf1",
        "outputId": "99b46fe4-3044-43de-df4d-f4a7a9613ec2"
      },
      "outputs": [
        {
          "output_type": "stream",
          "name": "stderr",
          "text": [
            "<ipython-input-53-f7a3d199f355>:2: FutureWarning: The frame.append method is deprecated and will be removed from pandas in a future version. Use pandas.concat instead.\n",
            "  model_rep = model_rep.append({\"model\": 'LogisticRegression',\n"
          ]
        },
        {
          "output_type": "execute_result",
          "data": {
            "text/plain": [
              "                    model       data        F1  accuracy    recall  precision  \\\n",
              "0      LogisticRegression   original  0.292135    0.8110  0.191646   0.614173   \n",
              "1  RandomForestClassifier   original  0.566929    0.8625  0.442260   0.789474   \n",
              "2      LogisticRegression  upsampled  0.471788    0.6115  0.852580   0.326128   \n",
              "\n",
              "    roc_auc                                     best_estimator  \n",
              "0  0.774107  {'max_iter': 100, 'penalty': 'l1', 'random_sta...  \n",
              "1  0.859988  {'bootstrap': False, 'max_depth': 11, 'max_fea...  \n",
              "2  0.777781  {'max_iter': 100, 'penalty': 'l1', 'random_sta...  "
            ],
            "text/html": [
              "\n",
              "  <div id=\"df-d0219eab-3957-4827-9cd6-65e09379ee49\">\n",
              "    <div class=\"colab-df-container\">\n",
              "      <div>\n",
              "<style scoped>\n",
              "    .dataframe tbody tr th:only-of-type {\n",
              "        vertical-align: middle;\n",
              "    }\n",
              "\n",
              "    .dataframe tbody tr th {\n",
              "        vertical-align: top;\n",
              "    }\n",
              "\n",
              "    .dataframe thead th {\n",
              "        text-align: right;\n",
              "    }\n",
              "</style>\n",
              "<table border=\"1\" class=\"dataframe\">\n",
              "  <thead>\n",
              "    <tr style=\"text-align: right;\">\n",
              "      <th></th>\n",
              "      <th>model</th>\n",
              "      <th>data</th>\n",
              "      <th>F1</th>\n",
              "      <th>accuracy</th>\n",
              "      <th>recall</th>\n",
              "      <th>precision</th>\n",
              "      <th>roc_auc</th>\n",
              "      <th>best_estimator</th>\n",
              "    </tr>\n",
              "  </thead>\n",
              "  <tbody>\n",
              "    <tr>\n",
              "      <th>0</th>\n",
              "      <td>LogisticRegression</td>\n",
              "      <td>original</td>\n",
              "      <td>0.292135</td>\n",
              "      <td>0.8110</td>\n",
              "      <td>0.191646</td>\n",
              "      <td>0.614173</td>\n",
              "      <td>0.774107</td>\n",
              "      <td>{'max_iter': 100, 'penalty': 'l1', 'random_sta...</td>\n",
              "    </tr>\n",
              "    <tr>\n",
              "      <th>1</th>\n",
              "      <td>RandomForestClassifier</td>\n",
              "      <td>original</td>\n",
              "      <td>0.566929</td>\n",
              "      <td>0.8625</td>\n",
              "      <td>0.442260</td>\n",
              "      <td>0.789474</td>\n",
              "      <td>0.859988</td>\n",
              "      <td>{'bootstrap': False, 'max_depth': 11, 'max_fea...</td>\n",
              "    </tr>\n",
              "    <tr>\n",
              "      <th>2</th>\n",
              "      <td>LogisticRegression</td>\n",
              "      <td>upsampled</td>\n",
              "      <td>0.471788</td>\n",
              "      <td>0.6115</td>\n",
              "      <td>0.852580</td>\n",
              "      <td>0.326128</td>\n",
              "      <td>0.777781</td>\n",
              "      <td>{'max_iter': 100, 'penalty': 'l1', 'random_sta...</td>\n",
              "    </tr>\n",
              "  </tbody>\n",
              "</table>\n",
              "</div>\n",
              "      <button class=\"colab-df-convert\" onclick=\"convertToInteractive('df-d0219eab-3957-4827-9cd6-65e09379ee49')\"\n",
              "              title=\"Convert this dataframe to an interactive table.\"\n",
              "              style=\"display:none;\">\n",
              "        \n",
              "  <svg xmlns=\"http://www.w3.org/2000/svg\" height=\"24px\"viewBox=\"0 0 24 24\"\n",
              "       width=\"24px\">\n",
              "    <path d=\"M0 0h24v24H0V0z\" fill=\"none\"/>\n",
              "    <path d=\"M18.56 5.44l.94 2.06.94-2.06 2.06-.94-2.06-.94-.94-2.06-.94 2.06-2.06.94zm-11 1L8.5 8.5l.94-2.06 2.06-.94-2.06-.94L8.5 2.5l-.94 2.06-2.06.94zm10 10l.94 2.06.94-2.06 2.06-.94-2.06-.94-.94-2.06-.94 2.06-2.06.94z\"/><path d=\"M17.41 7.96l-1.37-1.37c-.4-.4-.92-.59-1.43-.59-.52 0-1.04.2-1.43.59L10.3 9.45l-7.72 7.72c-.78.78-.78 2.05 0 2.83L4 21.41c.39.39.9.59 1.41.59.51 0 1.02-.2 1.41-.59l7.78-7.78 2.81-2.81c.8-.78.8-2.07 0-2.86zM5.41 20L4 18.59l7.72-7.72 1.47 1.35L5.41 20z\"/>\n",
              "  </svg>\n",
              "      </button>\n",
              "      \n",
              "  <style>\n",
              "    .colab-df-container {\n",
              "      display:flex;\n",
              "      flex-wrap:wrap;\n",
              "      gap: 12px;\n",
              "    }\n",
              "\n",
              "    .colab-df-convert {\n",
              "      background-color: #E8F0FE;\n",
              "      border: none;\n",
              "      border-radius: 50%;\n",
              "      cursor: pointer;\n",
              "      display: none;\n",
              "      fill: #1967D2;\n",
              "      height: 32px;\n",
              "      padding: 0 0 0 0;\n",
              "      width: 32px;\n",
              "    }\n",
              "\n",
              "    .colab-df-convert:hover {\n",
              "      background-color: #E2EBFA;\n",
              "      box-shadow: 0px 1px 2px rgba(60, 64, 67, 0.3), 0px 1px 3px 1px rgba(60, 64, 67, 0.15);\n",
              "      fill: #174EA6;\n",
              "    }\n",
              "\n",
              "    [theme=dark] .colab-df-convert {\n",
              "      background-color: #3B4455;\n",
              "      fill: #D2E3FC;\n",
              "    }\n",
              "\n",
              "    [theme=dark] .colab-df-convert:hover {\n",
              "      background-color: #434B5C;\n",
              "      box-shadow: 0px 1px 3px 1px rgba(0, 0, 0, 0.15);\n",
              "      filter: drop-shadow(0px 1px 2px rgba(0, 0, 0, 0.3));\n",
              "      fill: #FFFFFF;\n",
              "    }\n",
              "  </style>\n",
              "\n",
              "      <script>\n",
              "        const buttonEl =\n",
              "          document.querySelector('#df-d0219eab-3957-4827-9cd6-65e09379ee49 button.colab-df-convert');\n",
              "        buttonEl.style.display =\n",
              "          google.colab.kernel.accessAllowed ? 'block' : 'none';\n",
              "\n",
              "        async function convertToInteractive(key) {\n",
              "          const element = document.querySelector('#df-d0219eab-3957-4827-9cd6-65e09379ee49');\n",
              "          const dataTable =\n",
              "            await google.colab.kernel.invokeFunction('convertToInteractive',\n",
              "                                                     [key], {});\n",
              "          if (!dataTable) return;\n",
              "\n",
              "          const docLinkHtml = 'Like what you see? Visit the ' +\n",
              "            '<a target=\"_blank\" href=https://colab.research.google.com/notebooks/data_table.ipynb>data table notebook</a>'\n",
              "            + ' to learn more about interactive tables.';\n",
              "          element.innerHTML = '';\n",
              "          dataTable['output_type'] = 'display_data';\n",
              "          await google.colab.output.renderOutput(dataTable, element);\n",
              "          const docLink = document.createElement('div');\n",
              "          docLink.innerHTML = docLinkHtml;\n",
              "          element.appendChild(docLink);\n",
              "        }\n",
              "      </script>\n",
              "    </div>\n",
              "  </div>\n",
              "  "
            ]
          },
          "metadata": {},
          "execution_count": 53
        }
      ],
      "source": [
        "# Добавим данные в таблицу\n",
        "model_rep = model_rep.append({\"model\": 'LogisticRegression',\n",
        "                              \"data\": 'upsampled',\n",
        "                              \"F1\": LR_f1,\n",
        "                              \"accuracy\": LR_acc,\n",
        "                              \"recall\": LR_recall,\n",
        "                              \"precision\": LR_precision,\n",
        "                              \"roc_auc\": LR_roc_auc,\n",
        "                              \n",
        "                              \"best_estimator\": LR_best_estimator},\n",
        "                             ignore_index=True)\n",
        "model_rep"
      ]
    },
    {
      "cell_type": "markdown",
      "metadata": {
        "id": "0nEHqXg-Wlf2"
      },
      "source": [
        "### Случайный лес"
      ]
    },
    {
      "cell_type": "code",
      "execution_count": 54,
      "metadata": {
        "colab": {
          "base_uri": "https://localhost:8080/"
        },
        "id": "d-IObCGbWlf2",
        "outputId": "5521ec49-b5aa-4b7f-fd8b-64ad0b259f2e"
      },
      "outputs": [
        {
          "output_type": "stream",
          "name": "stdout",
          "text": [
            "0.598105548037889 0.8515 0.542997542997543 0.6656626506024096 0.8556106183224828 {'bootstrap': False, 'max_depth': 11, 'max_features': 'sqrt', 'min_samples_leaf': 1, 'min_samples_split': 2, 'n_estimators': 1500}\n"
          ]
        }
      ],
      "source": [
        "# Подберем параметры\n",
        "RFC_f1, RFC_acc, RFC_recall, RFC_precision, RFC_roc_auc, RFC_best_estimator = RFC(X_train, X_val, y_train, у_val, RFC_params)\n",
        "print(RFC_f1, RFC_acc, RFC_recall, RFC_precision, RFC_roc_auc, RFC_best_estimator)"
      ]
    },
    {
      "cell_type": "code",
      "execution_count": 55,
      "metadata": {
        "colab": {
          "base_uri": "https://localhost:8080/",
          "height": 210
        },
        "id": "jZN_Bkj7Wlf2",
        "outputId": "de7a5bcf-cafd-4585-bc3a-0b54acaf3824"
      },
      "outputs": [
        {
          "output_type": "stream",
          "name": "stderr",
          "text": [
            "<ipython-input-55-288fb299381b>:1: FutureWarning: The frame.append method is deprecated and will be removed from pandas in a future version. Use pandas.concat instead.\n",
            "  model_rep = model_rep.append({\"model\": 'RandomForestClassifier',\n"
          ]
        },
        {
          "output_type": "execute_result",
          "data": {
            "text/plain": [
              "                    model       data        F1  accuracy    recall  precision  \\\n",
              "0      LogisticRegression   original  0.292135    0.8110  0.191646   0.614173   \n",
              "1  RandomForestClassifier   original  0.566929    0.8625  0.442260   0.789474   \n",
              "2      LogisticRegression  upsampled  0.471788    0.6115  0.852580   0.326128   \n",
              "3  RandomForestClassifier  upsampled  0.598106    0.8515  0.542998   0.665663   \n",
              "\n",
              "    roc_auc                                     best_estimator  \n",
              "0  0.774107  {'max_iter': 100, 'penalty': 'l1', 'random_sta...  \n",
              "1  0.859988  {'bootstrap': False, 'max_depth': 11, 'max_fea...  \n",
              "2  0.777781  {'max_iter': 100, 'penalty': 'l1', 'random_sta...  \n",
              "3  0.855611  {'bootstrap': False, 'max_depth': 11, 'max_fea...  "
            ],
            "text/html": [
              "\n",
              "  <div id=\"df-bf9137e6-f253-475c-b5ed-47c1980a0c5a\">\n",
              "    <div class=\"colab-df-container\">\n",
              "      <div>\n",
              "<style scoped>\n",
              "    .dataframe tbody tr th:only-of-type {\n",
              "        vertical-align: middle;\n",
              "    }\n",
              "\n",
              "    .dataframe tbody tr th {\n",
              "        vertical-align: top;\n",
              "    }\n",
              "\n",
              "    .dataframe thead th {\n",
              "        text-align: right;\n",
              "    }\n",
              "</style>\n",
              "<table border=\"1\" class=\"dataframe\">\n",
              "  <thead>\n",
              "    <tr style=\"text-align: right;\">\n",
              "      <th></th>\n",
              "      <th>model</th>\n",
              "      <th>data</th>\n",
              "      <th>F1</th>\n",
              "      <th>accuracy</th>\n",
              "      <th>recall</th>\n",
              "      <th>precision</th>\n",
              "      <th>roc_auc</th>\n",
              "      <th>best_estimator</th>\n",
              "    </tr>\n",
              "  </thead>\n",
              "  <tbody>\n",
              "    <tr>\n",
              "      <th>0</th>\n",
              "      <td>LogisticRegression</td>\n",
              "      <td>original</td>\n",
              "      <td>0.292135</td>\n",
              "      <td>0.8110</td>\n",
              "      <td>0.191646</td>\n",
              "      <td>0.614173</td>\n",
              "      <td>0.774107</td>\n",
              "      <td>{'max_iter': 100, 'penalty': 'l1', 'random_sta...</td>\n",
              "    </tr>\n",
              "    <tr>\n",
              "      <th>1</th>\n",
              "      <td>RandomForestClassifier</td>\n",
              "      <td>original</td>\n",
              "      <td>0.566929</td>\n",
              "      <td>0.8625</td>\n",
              "      <td>0.442260</td>\n",
              "      <td>0.789474</td>\n",
              "      <td>0.859988</td>\n",
              "      <td>{'bootstrap': False, 'max_depth': 11, 'max_fea...</td>\n",
              "    </tr>\n",
              "    <tr>\n",
              "      <th>2</th>\n",
              "      <td>LogisticRegression</td>\n",
              "      <td>upsampled</td>\n",
              "      <td>0.471788</td>\n",
              "      <td>0.6115</td>\n",
              "      <td>0.852580</td>\n",
              "      <td>0.326128</td>\n",
              "      <td>0.777781</td>\n",
              "      <td>{'max_iter': 100, 'penalty': 'l1', 'random_sta...</td>\n",
              "    </tr>\n",
              "    <tr>\n",
              "      <th>3</th>\n",
              "      <td>RandomForestClassifier</td>\n",
              "      <td>upsampled</td>\n",
              "      <td>0.598106</td>\n",
              "      <td>0.8515</td>\n",
              "      <td>0.542998</td>\n",
              "      <td>0.665663</td>\n",
              "      <td>0.855611</td>\n",
              "      <td>{'bootstrap': False, 'max_depth': 11, 'max_fea...</td>\n",
              "    </tr>\n",
              "  </tbody>\n",
              "</table>\n",
              "</div>\n",
              "      <button class=\"colab-df-convert\" onclick=\"convertToInteractive('df-bf9137e6-f253-475c-b5ed-47c1980a0c5a')\"\n",
              "              title=\"Convert this dataframe to an interactive table.\"\n",
              "              style=\"display:none;\">\n",
              "        \n",
              "  <svg xmlns=\"http://www.w3.org/2000/svg\" height=\"24px\"viewBox=\"0 0 24 24\"\n",
              "       width=\"24px\">\n",
              "    <path d=\"M0 0h24v24H0V0z\" fill=\"none\"/>\n",
              "    <path d=\"M18.56 5.44l.94 2.06.94-2.06 2.06-.94-2.06-.94-.94-2.06-.94 2.06-2.06.94zm-11 1L8.5 8.5l.94-2.06 2.06-.94-2.06-.94L8.5 2.5l-.94 2.06-2.06.94zm10 10l.94 2.06.94-2.06 2.06-.94-2.06-.94-.94-2.06-.94 2.06-2.06.94z\"/><path d=\"M17.41 7.96l-1.37-1.37c-.4-.4-.92-.59-1.43-.59-.52 0-1.04.2-1.43.59L10.3 9.45l-7.72 7.72c-.78.78-.78 2.05 0 2.83L4 21.41c.39.39.9.59 1.41.59.51 0 1.02-.2 1.41-.59l7.78-7.78 2.81-2.81c.8-.78.8-2.07 0-2.86zM5.41 20L4 18.59l7.72-7.72 1.47 1.35L5.41 20z\"/>\n",
              "  </svg>\n",
              "      </button>\n",
              "      \n",
              "  <style>\n",
              "    .colab-df-container {\n",
              "      display:flex;\n",
              "      flex-wrap:wrap;\n",
              "      gap: 12px;\n",
              "    }\n",
              "\n",
              "    .colab-df-convert {\n",
              "      background-color: #E8F0FE;\n",
              "      border: none;\n",
              "      border-radius: 50%;\n",
              "      cursor: pointer;\n",
              "      display: none;\n",
              "      fill: #1967D2;\n",
              "      height: 32px;\n",
              "      padding: 0 0 0 0;\n",
              "      width: 32px;\n",
              "    }\n",
              "\n",
              "    .colab-df-convert:hover {\n",
              "      background-color: #E2EBFA;\n",
              "      box-shadow: 0px 1px 2px rgba(60, 64, 67, 0.3), 0px 1px 3px 1px rgba(60, 64, 67, 0.15);\n",
              "      fill: #174EA6;\n",
              "    }\n",
              "\n",
              "    [theme=dark] .colab-df-convert {\n",
              "      background-color: #3B4455;\n",
              "      fill: #D2E3FC;\n",
              "    }\n",
              "\n",
              "    [theme=dark] .colab-df-convert:hover {\n",
              "      background-color: #434B5C;\n",
              "      box-shadow: 0px 1px 3px 1px rgba(0, 0, 0, 0.15);\n",
              "      filter: drop-shadow(0px 1px 2px rgba(0, 0, 0, 0.3));\n",
              "      fill: #FFFFFF;\n",
              "    }\n",
              "  </style>\n",
              "\n",
              "      <script>\n",
              "        const buttonEl =\n",
              "          document.querySelector('#df-bf9137e6-f253-475c-b5ed-47c1980a0c5a button.colab-df-convert');\n",
              "        buttonEl.style.display =\n",
              "          google.colab.kernel.accessAllowed ? 'block' : 'none';\n",
              "\n",
              "        async function convertToInteractive(key) {\n",
              "          const element = document.querySelector('#df-bf9137e6-f253-475c-b5ed-47c1980a0c5a');\n",
              "          const dataTable =\n",
              "            await google.colab.kernel.invokeFunction('convertToInteractive',\n",
              "                                                     [key], {});\n",
              "          if (!dataTable) return;\n",
              "\n",
              "          const docLinkHtml = 'Like what you see? Visit the ' +\n",
              "            '<a target=\"_blank\" href=https://colab.research.google.com/notebooks/data_table.ipynb>data table notebook</a>'\n",
              "            + ' to learn more about interactive tables.';\n",
              "          element.innerHTML = '';\n",
              "          dataTable['output_type'] = 'display_data';\n",
              "          await google.colab.output.renderOutput(dataTable, element);\n",
              "          const docLink = document.createElement('div');\n",
              "          docLink.innerHTML = docLinkHtml;\n",
              "          element.appendChild(docLink);\n",
              "        }\n",
              "      </script>\n",
              "    </div>\n",
              "  </div>\n",
              "  "
            ]
          },
          "metadata": {},
          "execution_count": 55
        }
      ],
      "source": [
        "model_rep = model_rep.append({\"model\": 'RandomForestClassifier',\n",
        "                              \"data\": 'upsampled',\n",
        "                              \"F1\": RFC_f1,\n",
        "                              \"accuracy\": RFC_acc,\n",
        "                              \"recall\": RFC_recall,\n",
        "                              \"precision\": RFC_precision,\n",
        "                              \"roc_auc\": RFC_roc_auc,\n",
        "                              \"best_estimator\": RFC_best_estimator},\n",
        "                             ignore_index=True)\n",
        "model_rep"
      ]
    },
    {
      "cell_type": "markdown",
      "metadata": {
        "id": "-zF22IStWlf2"
      },
      "source": [
        "### Выводы"
      ]
    },
    {
      "cell_type": "markdown",
      "metadata": {
        "id": "UbblH0xdWlf2"
      },
      "source": [
        "После борьбы с дисбалансом (upsampled) получилось значительное увеличение показателей как в логистической регрессии, так и в случайном лесе.\n",
        "Наилучая модель осталась RFC."
      ]
    },
    {
      "cell_type": "markdown",
      "metadata": {
        "id": "SVRSvM61Wlf2"
      },
      "source": [
        "## Борьба в дисбанасов (классовая балансировка)"
      ]
    },
    {
      "cell_type": "markdown",
      "metadata": {
        "id": "9G_OlDZvWlf2"
      },
      "source": [
        "### Подготовка данных для исследования"
      ]
    },
    {
      "cell_type": "code",
      "execution_count": 56,
      "metadata": {
        "id": "mRt5swoSWlf2"
      },
      "outputs": [],
      "source": [
        "data_balanced = data.copy()"
      ]
    },
    {
      "cell_type": "code",
      "execution_count": 57,
      "metadata": {
        "colab": {
          "base_uri": "https://localhost:8080/",
          "height": 206
        },
        "id": "65guJa4RWlf3",
        "outputId": "f813a590-d35d-408c-dda7-5643c0125659"
      },
      "outputs": [
        {
          "output_type": "execute_result",
          "data": {
            "text/plain": [
              "   CreditScore  Gender  Age  Tenure    Balance  NumOfProducts  HasCrCard  \\\n",
              "0          619       1   42       2       0.00              1          1   \n",
              "1          608       1   41       1   83807.86              1          0   \n",
              "2          502       1   42       8  159660.80              3          1   \n",
              "3          699       1   39       1       0.00              2          0   \n",
              "4          850       1   43       2  125510.82              1          1   \n",
              "\n",
              "   IsActiveMember  EstimatedSalary  dmy_Germany  dmy_Spain  \n",
              "0               1        101348.88            0          0  \n",
              "1               1        112542.58            0          1  \n",
              "2               0        113931.57            0          0  \n",
              "3               0         93826.63            0          0  \n",
              "4               1         79084.10            0          1  "
            ],
            "text/html": [
              "\n",
              "  <div id=\"df-52844c64-ea71-409d-aae7-617d0eadc618\">\n",
              "    <div class=\"colab-df-container\">\n",
              "      <div>\n",
              "<style scoped>\n",
              "    .dataframe tbody tr th:only-of-type {\n",
              "        vertical-align: middle;\n",
              "    }\n",
              "\n",
              "    .dataframe tbody tr th {\n",
              "        vertical-align: top;\n",
              "    }\n",
              "\n",
              "    .dataframe thead th {\n",
              "        text-align: right;\n",
              "    }\n",
              "</style>\n",
              "<table border=\"1\" class=\"dataframe\">\n",
              "  <thead>\n",
              "    <tr style=\"text-align: right;\">\n",
              "      <th></th>\n",
              "      <th>CreditScore</th>\n",
              "      <th>Gender</th>\n",
              "      <th>Age</th>\n",
              "      <th>Tenure</th>\n",
              "      <th>Balance</th>\n",
              "      <th>NumOfProducts</th>\n",
              "      <th>HasCrCard</th>\n",
              "      <th>IsActiveMember</th>\n",
              "      <th>EstimatedSalary</th>\n",
              "      <th>dmy_Germany</th>\n",
              "      <th>dmy_Spain</th>\n",
              "    </tr>\n",
              "  </thead>\n",
              "  <tbody>\n",
              "    <tr>\n",
              "      <th>0</th>\n",
              "      <td>619</td>\n",
              "      <td>1</td>\n",
              "      <td>42</td>\n",
              "      <td>2</td>\n",
              "      <td>0.00</td>\n",
              "      <td>1</td>\n",
              "      <td>1</td>\n",
              "      <td>1</td>\n",
              "      <td>101348.88</td>\n",
              "      <td>0</td>\n",
              "      <td>0</td>\n",
              "    </tr>\n",
              "    <tr>\n",
              "      <th>1</th>\n",
              "      <td>608</td>\n",
              "      <td>1</td>\n",
              "      <td>41</td>\n",
              "      <td>1</td>\n",
              "      <td>83807.86</td>\n",
              "      <td>1</td>\n",
              "      <td>0</td>\n",
              "      <td>1</td>\n",
              "      <td>112542.58</td>\n",
              "      <td>0</td>\n",
              "      <td>1</td>\n",
              "    </tr>\n",
              "    <tr>\n",
              "      <th>2</th>\n",
              "      <td>502</td>\n",
              "      <td>1</td>\n",
              "      <td>42</td>\n",
              "      <td>8</td>\n",
              "      <td>159660.80</td>\n",
              "      <td>3</td>\n",
              "      <td>1</td>\n",
              "      <td>0</td>\n",
              "      <td>113931.57</td>\n",
              "      <td>0</td>\n",
              "      <td>0</td>\n",
              "    </tr>\n",
              "    <tr>\n",
              "      <th>3</th>\n",
              "      <td>699</td>\n",
              "      <td>1</td>\n",
              "      <td>39</td>\n",
              "      <td>1</td>\n",
              "      <td>0.00</td>\n",
              "      <td>2</td>\n",
              "      <td>0</td>\n",
              "      <td>0</td>\n",
              "      <td>93826.63</td>\n",
              "      <td>0</td>\n",
              "      <td>0</td>\n",
              "    </tr>\n",
              "    <tr>\n",
              "      <th>4</th>\n",
              "      <td>850</td>\n",
              "      <td>1</td>\n",
              "      <td>43</td>\n",
              "      <td>2</td>\n",
              "      <td>125510.82</td>\n",
              "      <td>1</td>\n",
              "      <td>1</td>\n",
              "      <td>1</td>\n",
              "      <td>79084.10</td>\n",
              "      <td>0</td>\n",
              "      <td>1</td>\n",
              "    </tr>\n",
              "  </tbody>\n",
              "</table>\n",
              "</div>\n",
              "      <button class=\"colab-df-convert\" onclick=\"convertToInteractive('df-52844c64-ea71-409d-aae7-617d0eadc618')\"\n",
              "              title=\"Convert this dataframe to an interactive table.\"\n",
              "              style=\"display:none;\">\n",
              "        \n",
              "  <svg xmlns=\"http://www.w3.org/2000/svg\" height=\"24px\"viewBox=\"0 0 24 24\"\n",
              "       width=\"24px\">\n",
              "    <path d=\"M0 0h24v24H0V0z\" fill=\"none\"/>\n",
              "    <path d=\"M18.56 5.44l.94 2.06.94-2.06 2.06-.94-2.06-.94-.94-2.06-.94 2.06-2.06.94zm-11 1L8.5 8.5l.94-2.06 2.06-.94-2.06-.94L8.5 2.5l-.94 2.06-2.06.94zm10 10l.94 2.06.94-2.06 2.06-.94-2.06-.94-.94-2.06-.94 2.06-2.06.94z\"/><path d=\"M17.41 7.96l-1.37-1.37c-.4-.4-.92-.59-1.43-.59-.52 0-1.04.2-1.43.59L10.3 9.45l-7.72 7.72c-.78.78-.78 2.05 0 2.83L4 21.41c.39.39.9.59 1.41.59.51 0 1.02-.2 1.41-.59l7.78-7.78 2.81-2.81c.8-.78.8-2.07 0-2.86zM5.41 20L4 18.59l7.72-7.72 1.47 1.35L5.41 20z\"/>\n",
              "  </svg>\n",
              "      </button>\n",
              "      \n",
              "  <style>\n",
              "    .colab-df-container {\n",
              "      display:flex;\n",
              "      flex-wrap:wrap;\n",
              "      gap: 12px;\n",
              "    }\n",
              "\n",
              "    .colab-df-convert {\n",
              "      background-color: #E8F0FE;\n",
              "      border: none;\n",
              "      border-radius: 50%;\n",
              "      cursor: pointer;\n",
              "      display: none;\n",
              "      fill: #1967D2;\n",
              "      height: 32px;\n",
              "      padding: 0 0 0 0;\n",
              "      width: 32px;\n",
              "    }\n",
              "\n",
              "    .colab-df-convert:hover {\n",
              "      background-color: #E2EBFA;\n",
              "      box-shadow: 0px 1px 2px rgba(60, 64, 67, 0.3), 0px 1px 3px 1px rgba(60, 64, 67, 0.15);\n",
              "      fill: #174EA6;\n",
              "    }\n",
              "\n",
              "    [theme=dark] .colab-df-convert {\n",
              "      background-color: #3B4455;\n",
              "      fill: #D2E3FC;\n",
              "    }\n",
              "\n",
              "    [theme=dark] .colab-df-convert:hover {\n",
              "      background-color: #434B5C;\n",
              "      box-shadow: 0px 1px 3px 1px rgba(0, 0, 0, 0.15);\n",
              "      filter: drop-shadow(0px 1px 2px rgba(0, 0, 0, 0.3));\n",
              "      fill: #FFFFFF;\n",
              "    }\n",
              "  </style>\n",
              "\n",
              "      <script>\n",
              "        const buttonEl =\n",
              "          document.querySelector('#df-52844c64-ea71-409d-aae7-617d0eadc618 button.colab-df-convert');\n",
              "        buttonEl.style.display =\n",
              "          google.colab.kernel.accessAllowed ? 'block' : 'none';\n",
              "\n",
              "        async function convertToInteractive(key) {\n",
              "          const element = document.querySelector('#df-52844c64-ea71-409d-aae7-617d0eadc618');\n",
              "          const dataTable =\n",
              "            await google.colab.kernel.invokeFunction('convertToInteractive',\n",
              "                                                     [key], {});\n",
              "          if (!dataTable) return;\n",
              "\n",
              "          const docLinkHtml = 'Like what you see? Visit the ' +\n",
              "            '<a target=\"_blank\" href=https://colab.research.google.com/notebooks/data_table.ipynb>data table notebook</a>'\n",
              "            + ' to learn more about interactive tables.';\n",
              "          element.innerHTML = '';\n",
              "          dataTable['output_type'] = 'display_data';\n",
              "          await google.colab.output.renderOutput(dataTable, element);\n",
              "          const docLink = document.createElement('div');\n",
              "          docLink.innerHTML = docLinkHtml;\n",
              "          element.appendChild(docLink);\n",
              "        }\n",
              "      </script>\n",
              "    </div>\n",
              "  </div>\n",
              "  "
            ]
          },
          "metadata": {},
          "execution_count": 57
        }
      ],
      "source": [
        "# фичи X\n",
        "X = data_balanced.copy()\n",
        "X = X.drop(['Exited'], axis=1)\n",
        "X.head()"
      ]
    },
    {
      "cell_type": "code",
      "execution_count": 58,
      "metadata": {
        "colab": {
          "base_uri": "https://localhost:8080/"
        },
        "id": "ox_973UmWlf3",
        "outputId": "ebf56bd3-a20c-455d-e3b3-243722a400c4"
      },
      "outputs": [
        {
          "output_type": "execute_result",
          "data": {
            "text/plain": [
              "0       1\n",
              "1       0\n",
              "2       1\n",
              "3       0\n",
              "4       0\n",
              "       ..\n",
              "9995    0\n",
              "9996    0\n",
              "9997    1\n",
              "9998    1\n",
              "9999    0\n",
              "Name: Exited, Length: 10000, dtype: int64"
            ]
          },
          "metadata": {},
          "execution_count": 58
        }
      ],
      "source": [
        "# значение функции\n",
        "у = data_balanced.Exited\n",
        "у"
      ]
    },
    {
      "cell_type": "code",
      "execution_count": 59,
      "metadata": {
        "colab": {
          "base_uri": "https://localhost:8080/"
        },
        "id": "5KkXWooIWlf3",
        "outputId": "47ed43b5-56fb-4404-bdab-b6b5b1b293ee"
      },
      "outputs": [
        {
          "output_type": "execute_result",
          "data": {
            "text/plain": [
              "((6000, 11), (2000, 11), (2000, 11), (6000,), (2000,), (2000,))"
            ]
          },
          "metadata": {},
          "execution_count": 59
        }
      ],
      "source": [
        "# Разобьем имеюющийся датасет с функцией split_data \n",
        "X_train, X_val, X_test, y_train, у_val, y_test = split_data(X, у)\n",
        "\n",
        "# проверим:\n",
        "X_train.shape, X_val.shape, X_test.shape, y_train.shape, у_val.shape, y_test.shape"
      ]
    },
    {
      "cell_type": "markdown",
      "metadata": {
        "id": "_81lndmTWlf3"
      },
      "source": [
        "### Логистическая регрессия"
      ]
    },
    {
      "cell_type": "code",
      "execution_count": 60,
      "metadata": {
        "colab": {
          "base_uri": "https://localhost:8080/"
        },
        "id": "lj-EEKeBWlf6",
        "outputId": "7c7ae3b0-8ab0-420a-bc13-d05b3643b2f5"
      },
      "outputs": [
        {
          "output_type": "execute_result",
          "data": {
            "text/plain": [
              "[{'penalty': ['l1', 'l2'],\n",
              "  'solver': ['liblinear'],\n",
              "  'max_iter': [100, 1000, 2500],\n",
              "  'random_state': [42],\n",
              "  'class_weight': ['balanced']}]"
            ]
          },
          "metadata": {},
          "execution_count": 60
        }
      ],
      "source": [
        "# добавим параметр class_weight для балансировки классов\n",
        "LR_grid_param = [\n",
        "    {'penalty': ['l1', 'l2'],\n",
        "     #'C': np.logspace(-4, 4, 20),\n",
        "     'solver': ['liblinear'],\n",
        "     'max_iter': [100, 1000, 2500],\n",
        "     'random_state': [rs],\n",
        "     'class_weight': ['balanced']\n",
        "    }\n",
        "]\n",
        "LR_grid_param"
      ]
    },
    {
      "cell_type": "code",
      "execution_count": 61,
      "metadata": {
        "colab": {
          "base_uri": "https://localhost:8080/"
        },
        "id": "vt1ovND7Wlf7",
        "outputId": "e4ced750-20da-4c3f-a569-3dd70b7743fe"
      },
      "outputs": [
        {
          "output_type": "stream",
          "name": "stdout",
          "text": [
            "0.4978241949521323 0.7115 0.7027027027027027 0.38544474393531 0.7774615910209131 {'class_weight': 'balanced', 'max_iter': 100, 'penalty': 'l1', 'random_state': 42, 'solver': 'liblinear'}\n"
          ]
        }
      ],
      "source": [
        "# Подберем параметры\n",
        "LR_f1, LR_acc, LR_recall, LR_precision, LR_roc_auc, LR_best_estimator = LogReg(X_train, X_val, y_train, у_val, LR_grid_param)\n",
        "print(LR_f1, LR_acc, LR_recall, LR_precision, LR_roc_auc, LR_best_estimator)"
      ]
    },
    {
      "cell_type": "code",
      "execution_count": 62,
      "metadata": {
        "colab": {
          "base_uri": "https://localhost:8080/",
          "height": 241
        },
        "id": "MaTAXXzXWlf7",
        "outputId": "3b30f157-d1f7-421e-caa5-43ec3a698416"
      },
      "outputs": [
        {
          "output_type": "stream",
          "name": "stderr",
          "text": [
            "<ipython-input-62-cdc9d6bc4579>:2: FutureWarning: The frame.append method is deprecated and will be removed from pandas in a future version. Use pandas.concat instead.\n",
            "  model_rep = model_rep.append({\"model\": 'LogisticRegression',\n"
          ]
        },
        {
          "output_type": "execute_result",
          "data": {
            "text/plain": [
              "                    model       data        F1  accuracy    recall  precision  \\\n",
              "0      LogisticRegression   original  0.292135    0.8110  0.191646   0.614173   \n",
              "1  RandomForestClassifier   original  0.566929    0.8625  0.442260   0.789474   \n",
              "2      LogisticRegression  upsampled  0.471788    0.6115  0.852580   0.326128   \n",
              "3  RandomForestClassifier  upsampled  0.598106    0.8515  0.542998   0.665663   \n",
              "4      LogisticRegression   balanced  0.497824    0.7115  0.702703   0.385445   \n",
              "\n",
              "    roc_auc                                     best_estimator  \n",
              "0  0.774107  {'max_iter': 100, 'penalty': 'l1', 'random_sta...  \n",
              "1  0.859988  {'bootstrap': False, 'max_depth': 11, 'max_fea...  \n",
              "2  0.777781  {'max_iter': 100, 'penalty': 'l1', 'random_sta...  \n",
              "3  0.855611  {'bootstrap': False, 'max_depth': 11, 'max_fea...  \n",
              "4  0.777462  {'class_weight': 'balanced', 'max_iter': 100, ...  "
            ],
            "text/html": [
              "\n",
              "  <div id=\"df-27ebaa1b-c97e-48d2-9550-8b2c119f1f2e\">\n",
              "    <div class=\"colab-df-container\">\n",
              "      <div>\n",
              "<style scoped>\n",
              "    .dataframe tbody tr th:only-of-type {\n",
              "        vertical-align: middle;\n",
              "    }\n",
              "\n",
              "    .dataframe tbody tr th {\n",
              "        vertical-align: top;\n",
              "    }\n",
              "\n",
              "    .dataframe thead th {\n",
              "        text-align: right;\n",
              "    }\n",
              "</style>\n",
              "<table border=\"1\" class=\"dataframe\">\n",
              "  <thead>\n",
              "    <tr style=\"text-align: right;\">\n",
              "      <th></th>\n",
              "      <th>model</th>\n",
              "      <th>data</th>\n",
              "      <th>F1</th>\n",
              "      <th>accuracy</th>\n",
              "      <th>recall</th>\n",
              "      <th>precision</th>\n",
              "      <th>roc_auc</th>\n",
              "      <th>best_estimator</th>\n",
              "    </tr>\n",
              "  </thead>\n",
              "  <tbody>\n",
              "    <tr>\n",
              "      <th>0</th>\n",
              "      <td>LogisticRegression</td>\n",
              "      <td>original</td>\n",
              "      <td>0.292135</td>\n",
              "      <td>0.8110</td>\n",
              "      <td>0.191646</td>\n",
              "      <td>0.614173</td>\n",
              "      <td>0.774107</td>\n",
              "      <td>{'max_iter': 100, 'penalty': 'l1', 'random_sta...</td>\n",
              "    </tr>\n",
              "    <tr>\n",
              "      <th>1</th>\n",
              "      <td>RandomForestClassifier</td>\n",
              "      <td>original</td>\n",
              "      <td>0.566929</td>\n",
              "      <td>0.8625</td>\n",
              "      <td>0.442260</td>\n",
              "      <td>0.789474</td>\n",
              "      <td>0.859988</td>\n",
              "      <td>{'bootstrap': False, 'max_depth': 11, 'max_fea...</td>\n",
              "    </tr>\n",
              "    <tr>\n",
              "      <th>2</th>\n",
              "      <td>LogisticRegression</td>\n",
              "      <td>upsampled</td>\n",
              "      <td>0.471788</td>\n",
              "      <td>0.6115</td>\n",
              "      <td>0.852580</td>\n",
              "      <td>0.326128</td>\n",
              "      <td>0.777781</td>\n",
              "      <td>{'max_iter': 100, 'penalty': 'l1', 'random_sta...</td>\n",
              "    </tr>\n",
              "    <tr>\n",
              "      <th>3</th>\n",
              "      <td>RandomForestClassifier</td>\n",
              "      <td>upsampled</td>\n",
              "      <td>0.598106</td>\n",
              "      <td>0.8515</td>\n",
              "      <td>0.542998</td>\n",
              "      <td>0.665663</td>\n",
              "      <td>0.855611</td>\n",
              "      <td>{'bootstrap': False, 'max_depth': 11, 'max_fea...</td>\n",
              "    </tr>\n",
              "    <tr>\n",
              "      <th>4</th>\n",
              "      <td>LogisticRegression</td>\n",
              "      <td>balanced</td>\n",
              "      <td>0.497824</td>\n",
              "      <td>0.7115</td>\n",
              "      <td>0.702703</td>\n",
              "      <td>0.385445</td>\n",
              "      <td>0.777462</td>\n",
              "      <td>{'class_weight': 'balanced', 'max_iter': 100, ...</td>\n",
              "    </tr>\n",
              "  </tbody>\n",
              "</table>\n",
              "</div>\n",
              "      <button class=\"colab-df-convert\" onclick=\"convertToInteractive('df-27ebaa1b-c97e-48d2-9550-8b2c119f1f2e')\"\n",
              "              title=\"Convert this dataframe to an interactive table.\"\n",
              "              style=\"display:none;\">\n",
              "        \n",
              "  <svg xmlns=\"http://www.w3.org/2000/svg\" height=\"24px\"viewBox=\"0 0 24 24\"\n",
              "       width=\"24px\">\n",
              "    <path d=\"M0 0h24v24H0V0z\" fill=\"none\"/>\n",
              "    <path d=\"M18.56 5.44l.94 2.06.94-2.06 2.06-.94-2.06-.94-.94-2.06-.94 2.06-2.06.94zm-11 1L8.5 8.5l.94-2.06 2.06-.94-2.06-.94L8.5 2.5l-.94 2.06-2.06.94zm10 10l.94 2.06.94-2.06 2.06-.94-2.06-.94-.94-2.06-.94 2.06-2.06.94z\"/><path d=\"M17.41 7.96l-1.37-1.37c-.4-.4-.92-.59-1.43-.59-.52 0-1.04.2-1.43.59L10.3 9.45l-7.72 7.72c-.78.78-.78 2.05 0 2.83L4 21.41c.39.39.9.59 1.41.59.51 0 1.02-.2 1.41-.59l7.78-7.78 2.81-2.81c.8-.78.8-2.07 0-2.86zM5.41 20L4 18.59l7.72-7.72 1.47 1.35L5.41 20z\"/>\n",
              "  </svg>\n",
              "      </button>\n",
              "      \n",
              "  <style>\n",
              "    .colab-df-container {\n",
              "      display:flex;\n",
              "      flex-wrap:wrap;\n",
              "      gap: 12px;\n",
              "    }\n",
              "\n",
              "    .colab-df-convert {\n",
              "      background-color: #E8F0FE;\n",
              "      border: none;\n",
              "      border-radius: 50%;\n",
              "      cursor: pointer;\n",
              "      display: none;\n",
              "      fill: #1967D2;\n",
              "      height: 32px;\n",
              "      padding: 0 0 0 0;\n",
              "      width: 32px;\n",
              "    }\n",
              "\n",
              "    .colab-df-convert:hover {\n",
              "      background-color: #E2EBFA;\n",
              "      box-shadow: 0px 1px 2px rgba(60, 64, 67, 0.3), 0px 1px 3px 1px rgba(60, 64, 67, 0.15);\n",
              "      fill: #174EA6;\n",
              "    }\n",
              "\n",
              "    [theme=dark] .colab-df-convert {\n",
              "      background-color: #3B4455;\n",
              "      fill: #D2E3FC;\n",
              "    }\n",
              "\n",
              "    [theme=dark] .colab-df-convert:hover {\n",
              "      background-color: #434B5C;\n",
              "      box-shadow: 0px 1px 3px 1px rgba(0, 0, 0, 0.15);\n",
              "      filter: drop-shadow(0px 1px 2px rgba(0, 0, 0, 0.3));\n",
              "      fill: #FFFFFF;\n",
              "    }\n",
              "  </style>\n",
              "\n",
              "      <script>\n",
              "        const buttonEl =\n",
              "          document.querySelector('#df-27ebaa1b-c97e-48d2-9550-8b2c119f1f2e button.colab-df-convert');\n",
              "        buttonEl.style.display =\n",
              "          google.colab.kernel.accessAllowed ? 'block' : 'none';\n",
              "\n",
              "        async function convertToInteractive(key) {\n",
              "          const element = document.querySelector('#df-27ebaa1b-c97e-48d2-9550-8b2c119f1f2e');\n",
              "          const dataTable =\n",
              "            await google.colab.kernel.invokeFunction('convertToInteractive',\n",
              "                                                     [key], {});\n",
              "          if (!dataTable) return;\n",
              "\n",
              "          const docLinkHtml = 'Like what you see? Visit the ' +\n",
              "            '<a target=\"_blank\" href=https://colab.research.google.com/notebooks/data_table.ipynb>data table notebook</a>'\n",
              "            + ' to learn more about interactive tables.';\n",
              "          element.innerHTML = '';\n",
              "          dataTable['output_type'] = 'display_data';\n",
              "          await google.colab.output.renderOutput(dataTable, element);\n",
              "          const docLink = document.createElement('div');\n",
              "          docLink.innerHTML = docLinkHtml;\n",
              "          element.appendChild(docLink);\n",
              "        }\n",
              "      </script>\n",
              "    </div>\n",
              "  </div>\n",
              "  "
            ]
          },
          "metadata": {},
          "execution_count": 62
        }
      ],
      "source": [
        "# Добавим данные в таблицу\n",
        "model_rep = model_rep.append({\"model\": 'LogisticRegression',\n",
        "                              \"data\": 'balanced',\n",
        "                              \"F1\": LR_f1,\n",
        "                              \"accuracy\": LR_acc,\n",
        "                              \"recall\": LR_recall,\n",
        "                              \"precision\": LR_precision,\n",
        "                              \"roc_auc\": LR_roc_auc,\n",
        "                              \n",
        "                              \"best_estimator\": LR_best_estimator},\n",
        "                             ignore_index=True)\n",
        "model_rep"
      ]
    },
    {
      "cell_type": "markdown",
      "metadata": {
        "id": "yv3HZjRaWlf7"
      },
      "source": [
        "### Случайный лес"
      ]
    },
    {
      "cell_type": "code",
      "execution_count": 63,
      "metadata": {
        "id": "zLo8WO3PWlf7"
      },
      "outputs": [],
      "source": [
        "# добавим параметр class_weight для балансировки классов\n",
        "RFC_params = {\n",
        "    \"n_estimators\": [100, 1500],\n",
        "    \"max_features\": ['sqrt'],\n",
        "    \"max_depth\": [11],\n",
        "    \"min_samples_split\": [2, 4],\n",
        "    \"min_samples_leaf\": [1, 2],\n",
        "    \"bootstrap\": [False],\n",
        "    \"class_weight\": ['balanced']    \n",
        "}"
      ]
    },
    {
      "cell_type": "code",
      "execution_count": 64,
      "metadata": {
        "colab": {
          "base_uri": "https://localhost:8080/"
        },
        "id": "X1q3mRjfWlf7",
        "outputId": "94f2c1cc-988f-470b-f3d1-e51397e5c346"
      },
      "outputs": [
        {
          "output_type": "stream",
          "name": "stdout",
          "text": [
            "0.5829457364341085 0.8655 0.4619164619164619 0.7899159663865546 0.8611138102663526 {'bootstrap': False, 'class_weight': 'balanced', 'max_depth': 11, 'max_features': 'sqrt', 'min_samples_leaf': 2, 'min_samples_split': 2, 'n_estimators': 1500}\n"
          ]
        }
      ],
      "source": [
        "# Подберем параметры\n",
        "RFC_f1, RFC_acc, RFC_recall, RFC_precision, RFC_roc_auc, RFC_best_estimator = RFC(X_train, X_val, y_train, у_val, RFC_params)\n",
        "print(RFC_f1, RFC_acc, RFC_recall, RFC_precision, RFC_roc_auc, RFC_best_estimator)"
      ]
    },
    {
      "cell_type": "code",
      "execution_count": 65,
      "metadata": {
        "colab": {
          "base_uri": "https://localhost:8080/",
          "height": 272
        },
        "id": "i9DD0o-JWlf8",
        "outputId": "28a8b2d2-0dea-49ca-dd2c-f01e815853aa"
      },
      "outputs": [
        {
          "output_type": "stream",
          "name": "stderr",
          "text": [
            "<ipython-input-65-ef806439fd38>:1: FutureWarning: The frame.append method is deprecated and will be removed from pandas in a future version. Use pandas.concat instead.\n",
            "  model_rep = model_rep.append({\"model\": 'RandomForestClassifier',\n"
          ]
        },
        {
          "output_type": "execute_result",
          "data": {
            "text/plain": [
              "                    model       data        F1  accuracy    recall  precision  \\\n",
              "0      LogisticRegression   original  0.292135    0.8110  0.191646   0.614173   \n",
              "1  RandomForestClassifier   original  0.566929    0.8625  0.442260   0.789474   \n",
              "2      LogisticRegression  upsampled  0.471788    0.6115  0.852580   0.326128   \n",
              "3  RandomForestClassifier  upsampled  0.598106    0.8515  0.542998   0.665663   \n",
              "4      LogisticRegression   balanced  0.497824    0.7115  0.702703   0.385445   \n",
              "5  RandomForestClassifier   balanced  0.582946    0.8655  0.461916   0.789916   \n",
              "\n",
              "    roc_auc                                     best_estimator  \n",
              "0  0.774107  {'max_iter': 100, 'penalty': 'l1', 'random_sta...  \n",
              "1  0.859988  {'bootstrap': False, 'max_depth': 11, 'max_fea...  \n",
              "2  0.777781  {'max_iter': 100, 'penalty': 'l1', 'random_sta...  \n",
              "3  0.855611  {'bootstrap': False, 'max_depth': 11, 'max_fea...  \n",
              "4  0.777462  {'class_weight': 'balanced', 'max_iter': 100, ...  \n",
              "5  0.861114  {'bootstrap': False, 'class_weight': 'balanced...  "
            ],
            "text/html": [
              "\n",
              "  <div id=\"df-210e168c-04e1-4645-964c-f6cb05b7845a\">\n",
              "    <div class=\"colab-df-container\">\n",
              "      <div>\n",
              "<style scoped>\n",
              "    .dataframe tbody tr th:only-of-type {\n",
              "        vertical-align: middle;\n",
              "    }\n",
              "\n",
              "    .dataframe tbody tr th {\n",
              "        vertical-align: top;\n",
              "    }\n",
              "\n",
              "    .dataframe thead th {\n",
              "        text-align: right;\n",
              "    }\n",
              "</style>\n",
              "<table border=\"1\" class=\"dataframe\">\n",
              "  <thead>\n",
              "    <tr style=\"text-align: right;\">\n",
              "      <th></th>\n",
              "      <th>model</th>\n",
              "      <th>data</th>\n",
              "      <th>F1</th>\n",
              "      <th>accuracy</th>\n",
              "      <th>recall</th>\n",
              "      <th>precision</th>\n",
              "      <th>roc_auc</th>\n",
              "      <th>best_estimator</th>\n",
              "    </tr>\n",
              "  </thead>\n",
              "  <tbody>\n",
              "    <tr>\n",
              "      <th>0</th>\n",
              "      <td>LogisticRegression</td>\n",
              "      <td>original</td>\n",
              "      <td>0.292135</td>\n",
              "      <td>0.8110</td>\n",
              "      <td>0.191646</td>\n",
              "      <td>0.614173</td>\n",
              "      <td>0.774107</td>\n",
              "      <td>{'max_iter': 100, 'penalty': 'l1', 'random_sta...</td>\n",
              "    </tr>\n",
              "    <tr>\n",
              "      <th>1</th>\n",
              "      <td>RandomForestClassifier</td>\n",
              "      <td>original</td>\n",
              "      <td>0.566929</td>\n",
              "      <td>0.8625</td>\n",
              "      <td>0.442260</td>\n",
              "      <td>0.789474</td>\n",
              "      <td>0.859988</td>\n",
              "      <td>{'bootstrap': False, 'max_depth': 11, 'max_fea...</td>\n",
              "    </tr>\n",
              "    <tr>\n",
              "      <th>2</th>\n",
              "      <td>LogisticRegression</td>\n",
              "      <td>upsampled</td>\n",
              "      <td>0.471788</td>\n",
              "      <td>0.6115</td>\n",
              "      <td>0.852580</td>\n",
              "      <td>0.326128</td>\n",
              "      <td>0.777781</td>\n",
              "      <td>{'max_iter': 100, 'penalty': 'l1', 'random_sta...</td>\n",
              "    </tr>\n",
              "    <tr>\n",
              "      <th>3</th>\n",
              "      <td>RandomForestClassifier</td>\n",
              "      <td>upsampled</td>\n",
              "      <td>0.598106</td>\n",
              "      <td>0.8515</td>\n",
              "      <td>0.542998</td>\n",
              "      <td>0.665663</td>\n",
              "      <td>0.855611</td>\n",
              "      <td>{'bootstrap': False, 'max_depth': 11, 'max_fea...</td>\n",
              "    </tr>\n",
              "    <tr>\n",
              "      <th>4</th>\n",
              "      <td>LogisticRegression</td>\n",
              "      <td>balanced</td>\n",
              "      <td>0.497824</td>\n",
              "      <td>0.7115</td>\n",
              "      <td>0.702703</td>\n",
              "      <td>0.385445</td>\n",
              "      <td>0.777462</td>\n",
              "      <td>{'class_weight': 'balanced', 'max_iter': 100, ...</td>\n",
              "    </tr>\n",
              "    <tr>\n",
              "      <th>5</th>\n",
              "      <td>RandomForestClassifier</td>\n",
              "      <td>balanced</td>\n",
              "      <td>0.582946</td>\n",
              "      <td>0.8655</td>\n",
              "      <td>0.461916</td>\n",
              "      <td>0.789916</td>\n",
              "      <td>0.861114</td>\n",
              "      <td>{'bootstrap': False, 'class_weight': 'balanced...</td>\n",
              "    </tr>\n",
              "  </tbody>\n",
              "</table>\n",
              "</div>\n",
              "      <button class=\"colab-df-convert\" onclick=\"convertToInteractive('df-210e168c-04e1-4645-964c-f6cb05b7845a')\"\n",
              "              title=\"Convert this dataframe to an interactive table.\"\n",
              "              style=\"display:none;\">\n",
              "        \n",
              "  <svg xmlns=\"http://www.w3.org/2000/svg\" height=\"24px\"viewBox=\"0 0 24 24\"\n",
              "       width=\"24px\">\n",
              "    <path d=\"M0 0h24v24H0V0z\" fill=\"none\"/>\n",
              "    <path d=\"M18.56 5.44l.94 2.06.94-2.06 2.06-.94-2.06-.94-.94-2.06-.94 2.06-2.06.94zm-11 1L8.5 8.5l.94-2.06 2.06-.94-2.06-.94L8.5 2.5l-.94 2.06-2.06.94zm10 10l.94 2.06.94-2.06 2.06-.94-2.06-.94-.94-2.06-.94 2.06-2.06.94z\"/><path d=\"M17.41 7.96l-1.37-1.37c-.4-.4-.92-.59-1.43-.59-.52 0-1.04.2-1.43.59L10.3 9.45l-7.72 7.72c-.78.78-.78 2.05 0 2.83L4 21.41c.39.39.9.59 1.41.59.51 0 1.02-.2 1.41-.59l7.78-7.78 2.81-2.81c.8-.78.8-2.07 0-2.86zM5.41 20L4 18.59l7.72-7.72 1.47 1.35L5.41 20z\"/>\n",
              "  </svg>\n",
              "      </button>\n",
              "      \n",
              "  <style>\n",
              "    .colab-df-container {\n",
              "      display:flex;\n",
              "      flex-wrap:wrap;\n",
              "      gap: 12px;\n",
              "    }\n",
              "\n",
              "    .colab-df-convert {\n",
              "      background-color: #E8F0FE;\n",
              "      border: none;\n",
              "      border-radius: 50%;\n",
              "      cursor: pointer;\n",
              "      display: none;\n",
              "      fill: #1967D2;\n",
              "      height: 32px;\n",
              "      padding: 0 0 0 0;\n",
              "      width: 32px;\n",
              "    }\n",
              "\n",
              "    .colab-df-convert:hover {\n",
              "      background-color: #E2EBFA;\n",
              "      box-shadow: 0px 1px 2px rgba(60, 64, 67, 0.3), 0px 1px 3px 1px rgba(60, 64, 67, 0.15);\n",
              "      fill: #174EA6;\n",
              "    }\n",
              "\n",
              "    [theme=dark] .colab-df-convert {\n",
              "      background-color: #3B4455;\n",
              "      fill: #D2E3FC;\n",
              "    }\n",
              "\n",
              "    [theme=dark] .colab-df-convert:hover {\n",
              "      background-color: #434B5C;\n",
              "      box-shadow: 0px 1px 3px 1px rgba(0, 0, 0, 0.15);\n",
              "      filter: drop-shadow(0px 1px 2px rgba(0, 0, 0, 0.3));\n",
              "      fill: #FFFFFF;\n",
              "    }\n",
              "  </style>\n",
              "\n",
              "      <script>\n",
              "        const buttonEl =\n",
              "          document.querySelector('#df-210e168c-04e1-4645-964c-f6cb05b7845a button.colab-df-convert');\n",
              "        buttonEl.style.display =\n",
              "          google.colab.kernel.accessAllowed ? 'block' : 'none';\n",
              "\n",
              "        async function convertToInteractive(key) {\n",
              "          const element = document.querySelector('#df-210e168c-04e1-4645-964c-f6cb05b7845a');\n",
              "          const dataTable =\n",
              "            await google.colab.kernel.invokeFunction('convertToInteractive',\n",
              "                                                     [key], {});\n",
              "          if (!dataTable) return;\n",
              "\n",
              "          const docLinkHtml = 'Like what you see? Visit the ' +\n",
              "            '<a target=\"_blank\" href=https://colab.research.google.com/notebooks/data_table.ipynb>data table notebook</a>'\n",
              "            + ' to learn more about interactive tables.';\n",
              "          element.innerHTML = '';\n",
              "          dataTable['output_type'] = 'display_data';\n",
              "          await google.colab.output.renderOutput(dataTable, element);\n",
              "          const docLink = document.createElement('div');\n",
              "          docLink.innerHTML = docLinkHtml;\n",
              "          element.appendChild(docLink);\n",
              "        }\n",
              "      </script>\n",
              "    </div>\n",
              "  </div>\n",
              "  "
            ]
          },
          "metadata": {},
          "execution_count": 65
        }
      ],
      "source": [
        "model_rep = model_rep.append({\"model\": 'RandomForestClassifier',\n",
        "                              \"data\": 'balanced',\n",
        "                              \"F1\": RFC_f1,\n",
        "                              \"accuracy\": RFC_acc,\n",
        "                              \"recall\": RFC_recall,\n",
        "                              \"precision\": RFC_precision,\n",
        "                              \"roc_auc\": RFC_roc_auc,\n",
        "                              \"best_estimator\": RFC_best_estimator},\n",
        "                             ignore_index=True)\n",
        "model_rep"
      ]
    },
    {
      "cell_type": "markdown",
      "metadata": {
        "id": "QYH60JUGWlf8"
      },
      "source": [
        "### Выводы"
      ]
    },
    {
      "cell_type": "markdown",
      "metadata": {
        "id": "ONpDbrT4Wlf8"
      },
      "source": [
        "После борьбы с дисбалансом (balanced) получилось значительное увеличение показателей логистической регрессии. В слуйчайном лесе тоже имеется прирост, но не такой существенный.\n",
        "Наилучая модель осталась RFC."
      ]
    },
    {
      "cell_type": "markdown",
      "metadata": {
        "id": "o6DCovT8Wlf8"
      },
      "source": [
        "## Тестирование модели"
      ]
    },
    {
      "cell_type": "markdown",
      "metadata": {
        "id": "wusdT6oIWlf8"
      },
      "source": [
        "Ддя определения модели необходимо определиться с выбранной моделью. Метрикой оценки явялется F1-мера. Посмотрим, какая из моделей дает наилуйчий результат."
      ]
    },
    {
      "cell_type": "code",
      "execution_count": 66,
      "metadata": {
        "scrolled": false,
        "colab": {
          "base_uri": "https://localhost:8080/",
          "height": 238
        },
        "id": "qM5iUIQWWlf8",
        "outputId": "c74a791c-5243-4152-d15a-4a47518c2637"
      },
      "outputs": [
        {
          "output_type": "execute_result",
          "data": {
            "text/plain": [
              "                    model       data        F1  accuracy    recall  precision  \\\n",
              "3  RandomForestClassifier  upsampled  0.598106    0.8515  0.542998   0.665663   \n",
              "5  RandomForestClassifier   balanced  0.582946    0.8655  0.461916   0.789916   \n",
              "1  RandomForestClassifier   original  0.566929    0.8625  0.442260   0.789474   \n",
              "4      LogisticRegression   balanced  0.497824    0.7115  0.702703   0.385445   \n",
              "2      LogisticRegression  upsampled  0.471788    0.6115  0.852580   0.326128   \n",
              "0      LogisticRegression   original  0.292135    0.8110  0.191646   0.614173   \n",
              "\n",
              "    roc_auc                                     best_estimator  \n",
              "3  0.855611  {'bootstrap': False, 'max_depth': 11, 'max_fea...  \n",
              "5  0.861114  {'bootstrap': False, 'class_weight': 'balanced...  \n",
              "1  0.859988  {'bootstrap': False, 'max_depth': 11, 'max_fea...  \n",
              "4  0.777462  {'class_weight': 'balanced', 'max_iter': 100, ...  \n",
              "2  0.777781  {'max_iter': 100, 'penalty': 'l1', 'random_sta...  \n",
              "0  0.774107  {'max_iter': 100, 'penalty': 'l1', 'random_sta...  "
            ],
            "text/html": [
              "\n",
              "  <div id=\"df-8f12556e-6b5d-46f6-a37e-2fe58f137d47\">\n",
              "    <div class=\"colab-df-container\">\n",
              "      <div>\n",
              "<style scoped>\n",
              "    .dataframe tbody tr th:only-of-type {\n",
              "        vertical-align: middle;\n",
              "    }\n",
              "\n",
              "    .dataframe tbody tr th {\n",
              "        vertical-align: top;\n",
              "    }\n",
              "\n",
              "    .dataframe thead th {\n",
              "        text-align: right;\n",
              "    }\n",
              "</style>\n",
              "<table border=\"1\" class=\"dataframe\">\n",
              "  <thead>\n",
              "    <tr style=\"text-align: right;\">\n",
              "      <th></th>\n",
              "      <th>model</th>\n",
              "      <th>data</th>\n",
              "      <th>F1</th>\n",
              "      <th>accuracy</th>\n",
              "      <th>recall</th>\n",
              "      <th>precision</th>\n",
              "      <th>roc_auc</th>\n",
              "      <th>best_estimator</th>\n",
              "    </tr>\n",
              "  </thead>\n",
              "  <tbody>\n",
              "    <tr>\n",
              "      <th>3</th>\n",
              "      <td>RandomForestClassifier</td>\n",
              "      <td>upsampled</td>\n",
              "      <td>0.598106</td>\n",
              "      <td>0.8515</td>\n",
              "      <td>0.542998</td>\n",
              "      <td>0.665663</td>\n",
              "      <td>0.855611</td>\n",
              "      <td>{'bootstrap': False, 'max_depth': 11, 'max_fea...</td>\n",
              "    </tr>\n",
              "    <tr>\n",
              "      <th>5</th>\n",
              "      <td>RandomForestClassifier</td>\n",
              "      <td>balanced</td>\n",
              "      <td>0.582946</td>\n",
              "      <td>0.8655</td>\n",
              "      <td>0.461916</td>\n",
              "      <td>0.789916</td>\n",
              "      <td>0.861114</td>\n",
              "      <td>{'bootstrap': False, 'class_weight': 'balanced...</td>\n",
              "    </tr>\n",
              "    <tr>\n",
              "      <th>1</th>\n",
              "      <td>RandomForestClassifier</td>\n",
              "      <td>original</td>\n",
              "      <td>0.566929</td>\n",
              "      <td>0.8625</td>\n",
              "      <td>0.442260</td>\n",
              "      <td>0.789474</td>\n",
              "      <td>0.859988</td>\n",
              "      <td>{'bootstrap': False, 'max_depth': 11, 'max_fea...</td>\n",
              "    </tr>\n",
              "    <tr>\n",
              "      <th>4</th>\n",
              "      <td>LogisticRegression</td>\n",
              "      <td>balanced</td>\n",
              "      <td>0.497824</td>\n",
              "      <td>0.7115</td>\n",
              "      <td>0.702703</td>\n",
              "      <td>0.385445</td>\n",
              "      <td>0.777462</td>\n",
              "      <td>{'class_weight': 'balanced', 'max_iter': 100, ...</td>\n",
              "    </tr>\n",
              "    <tr>\n",
              "      <th>2</th>\n",
              "      <td>LogisticRegression</td>\n",
              "      <td>upsampled</td>\n",
              "      <td>0.471788</td>\n",
              "      <td>0.6115</td>\n",
              "      <td>0.852580</td>\n",
              "      <td>0.326128</td>\n",
              "      <td>0.777781</td>\n",
              "      <td>{'max_iter': 100, 'penalty': 'l1', 'random_sta...</td>\n",
              "    </tr>\n",
              "    <tr>\n",
              "      <th>0</th>\n",
              "      <td>LogisticRegression</td>\n",
              "      <td>original</td>\n",
              "      <td>0.292135</td>\n",
              "      <td>0.8110</td>\n",
              "      <td>0.191646</td>\n",
              "      <td>0.614173</td>\n",
              "      <td>0.774107</td>\n",
              "      <td>{'max_iter': 100, 'penalty': 'l1', 'random_sta...</td>\n",
              "    </tr>\n",
              "  </tbody>\n",
              "</table>\n",
              "</div>\n",
              "      <button class=\"colab-df-convert\" onclick=\"convertToInteractive('df-8f12556e-6b5d-46f6-a37e-2fe58f137d47')\"\n",
              "              title=\"Convert this dataframe to an interactive table.\"\n",
              "              style=\"display:none;\">\n",
              "        \n",
              "  <svg xmlns=\"http://www.w3.org/2000/svg\" height=\"24px\"viewBox=\"0 0 24 24\"\n",
              "       width=\"24px\">\n",
              "    <path d=\"M0 0h24v24H0V0z\" fill=\"none\"/>\n",
              "    <path d=\"M18.56 5.44l.94 2.06.94-2.06 2.06-.94-2.06-.94-.94-2.06-.94 2.06-2.06.94zm-11 1L8.5 8.5l.94-2.06 2.06-.94-2.06-.94L8.5 2.5l-.94 2.06-2.06.94zm10 10l.94 2.06.94-2.06 2.06-.94-2.06-.94-.94-2.06-.94 2.06-2.06.94z\"/><path d=\"M17.41 7.96l-1.37-1.37c-.4-.4-.92-.59-1.43-.59-.52 0-1.04.2-1.43.59L10.3 9.45l-7.72 7.72c-.78.78-.78 2.05 0 2.83L4 21.41c.39.39.9.59 1.41.59.51 0 1.02-.2 1.41-.59l7.78-7.78 2.81-2.81c.8-.78.8-2.07 0-2.86zM5.41 20L4 18.59l7.72-7.72 1.47 1.35L5.41 20z\"/>\n",
              "  </svg>\n",
              "      </button>\n",
              "      \n",
              "  <style>\n",
              "    .colab-df-container {\n",
              "      display:flex;\n",
              "      flex-wrap:wrap;\n",
              "      gap: 12px;\n",
              "    }\n",
              "\n",
              "    .colab-df-convert {\n",
              "      background-color: #E8F0FE;\n",
              "      border: none;\n",
              "      border-radius: 50%;\n",
              "      cursor: pointer;\n",
              "      display: none;\n",
              "      fill: #1967D2;\n",
              "      height: 32px;\n",
              "      padding: 0 0 0 0;\n",
              "      width: 32px;\n",
              "    }\n",
              "\n",
              "    .colab-df-convert:hover {\n",
              "      background-color: #E2EBFA;\n",
              "      box-shadow: 0px 1px 2px rgba(60, 64, 67, 0.3), 0px 1px 3px 1px rgba(60, 64, 67, 0.15);\n",
              "      fill: #174EA6;\n",
              "    }\n",
              "\n",
              "    [theme=dark] .colab-df-convert {\n",
              "      background-color: #3B4455;\n",
              "      fill: #D2E3FC;\n",
              "    }\n",
              "\n",
              "    [theme=dark] .colab-df-convert:hover {\n",
              "      background-color: #434B5C;\n",
              "      box-shadow: 0px 1px 3px 1px rgba(0, 0, 0, 0.15);\n",
              "      filter: drop-shadow(0px 1px 2px rgba(0, 0, 0, 0.3));\n",
              "      fill: #FFFFFF;\n",
              "    }\n",
              "  </style>\n",
              "\n",
              "      <script>\n",
              "        const buttonEl =\n",
              "          document.querySelector('#df-8f12556e-6b5d-46f6-a37e-2fe58f137d47 button.colab-df-convert');\n",
              "        buttonEl.style.display =\n",
              "          google.colab.kernel.accessAllowed ? 'block' : 'none';\n",
              "\n",
              "        async function convertToInteractive(key) {\n",
              "          const element = document.querySelector('#df-8f12556e-6b5d-46f6-a37e-2fe58f137d47');\n",
              "          const dataTable =\n",
              "            await google.colab.kernel.invokeFunction('convertToInteractive',\n",
              "                                                     [key], {});\n",
              "          if (!dataTable) return;\n",
              "\n",
              "          const docLinkHtml = 'Like what you see? Visit the ' +\n",
              "            '<a target=\"_blank\" href=https://colab.research.google.com/notebooks/data_table.ipynb>data table notebook</a>'\n",
              "            + ' to learn more about interactive tables.';\n",
              "          element.innerHTML = '';\n",
              "          dataTable['output_type'] = 'display_data';\n",
              "          await google.colab.output.renderOutput(dataTable, element);\n",
              "          const docLink = document.createElement('div');\n",
              "          docLink.innerHTML = docLinkHtml;\n",
              "          element.appendChild(docLink);\n",
              "        }\n",
              "      </script>\n",
              "    </div>\n",
              "  </div>\n",
              "  "
            ]
          },
          "metadata": {},
          "execution_count": 66
        }
      ],
      "source": [
        "model_rep.sort_values('F1', ascending=False)"
      ]
    },
    {
      "cell_type": "code",
      "execution_count": 67,
      "metadata": {
        "colab": {
          "base_uri": "https://localhost:8080/"
        },
        "id": "g4KLmZ8KWlf8",
        "outputId": "bf42b3de-e428-4b0c-cfcd-0fea688ad69e"
      },
      "outputs": [
        {
          "output_type": "stream",
          "name": "stdout",
          "text": [
            "F1 Значение не тестовой выборке 0.569620253164557\n",
            "F1 Лучшее значение на валидационной выборке 0.598105548037889\n",
            "-------------------------------\n",
            "ROC-AUC Значение не тестовой выборке 0.5417528468375926\n",
            "ROC-AUC Лучшее значение на валидационной выборке 0.8611138102663526\n"
          ]
        }
      ],
      "source": [
        "RFC_model = RandomForestClassifier(bootstrap=False, max_depth=11, max_features='sqrt', min_samples_leaf=1, min_samples_split=2, n_estimators=1500)\n",
        "\n",
        "RFC_model.fit(X_train, y_train)\n",
        "y_pred = RFC_model.predict(X_test)\n",
        "\n",
        "probabilities_valid = RFC_model.predict_proba(X_test) # мстрица вероятностей\n",
        "    \n",
        "f1_test = f1_score(y_test, y_pred)\n",
        "f1_max_val = model_rep.F1.max()\n",
        "\n",
        "print('F1 Значение не тестовой выборке', f1_test)\n",
        "print('F1 Лучшее значение на валидационной выборке', f1_max_val)\n",
        "\n",
        "roc_auc_test = roc_auc_score(у_val, probabilities_valid[:, 1])\n",
        "roc_auc_max_val = model_rep.roc_auc.max()\n",
        "\n",
        "print ('-------------------------------')\n",
        "print('ROC-AUC Значение не тестовой выборке', roc_auc_score(у_val, probabilities_valid[:, 1])\n",
        ")\n",
        "print('ROC-AUC Лучшее значение на валидационной выборке', roc_auc_max_val)"
      ]
    },
    {
      "cell_type": "markdown",
      "metadata": {
        "id": "AJTLgmDxWlf_"
      },
      "source": [
        "## Выводы по проекту"
      ]
    },
    {
      "cell_type": "markdown",
      "metadata": {
        "id": "ZkHN8fTnWlf_"
      },
      "source": [
        "+ Данном дата сете наилучшую предиктивную способность показала модель RandomForestClassifier. Максимальная F1-мера составляет 0.5732.\n",
        "+ В борьбе дисбалансов значений функции (факта закрытия счета) лучше показало увеличение выборки наименьшего класса.\n",
        "+ Проанализирована метрика RUC-AUC. По аналогии с F1 лучший показатель был в RandomForestClassifier с применением upsampled.\n",
        "+ На данном датасебе лучше себя показывают модели RFC, чем LR."
      ]
    }
  ],
  "metadata": {
    "ExecuteTimeLog": [
      {
        "duration": 1759,
        "start_time": "2022-11-13T11:03:58.671Z"
      },
      {
        "duration": 2,
        "start_time": "2022-11-13T11:05:08.906Z"
      },
      {
        "duration": 81,
        "start_time": "2022-11-13T11:07:44.653Z"
      },
      {
        "duration": 25,
        "start_time": "2022-11-13T11:07:52.782Z"
      },
      {
        "duration": 21,
        "start_time": "2022-11-13T11:09:55.227Z"
      },
      {
        "duration": 42,
        "start_time": "2022-11-13T11:10:23.444Z"
      },
      {
        "duration": 42,
        "start_time": "2022-11-13T11:12:03.034Z"
      },
      {
        "duration": 16,
        "start_time": "2022-11-13T11:18:28.251Z"
      },
      {
        "duration": 5,
        "start_time": "2022-11-13T11:30:28.876Z"
      },
      {
        "duration": 4,
        "start_time": "2022-11-13T11:31:12.732Z"
      },
      {
        "duration": 3,
        "start_time": "2022-11-13T11:32:28.478Z"
      },
      {
        "duration": 6,
        "start_time": "2022-11-13T11:32:55.427Z"
      },
      {
        "duration": 3,
        "start_time": "2022-11-13T11:34:13.223Z"
      },
      {
        "duration": 157,
        "start_time": "2022-11-13T11:34:51.968Z"
      },
      {
        "duration": 201,
        "start_time": "2022-11-13T11:36:43.675Z"
      },
      {
        "duration": 76,
        "start_time": "2022-11-13T11:40:41.900Z"
      },
      {
        "duration": 72,
        "start_time": "2022-11-13T11:41:48.604Z"
      },
      {
        "duration": 253,
        "start_time": "2022-11-13T11:42:08.029Z"
      },
      {
        "duration": 111,
        "start_time": "2022-11-13T11:42:35.605Z"
      },
      {
        "duration": 125,
        "start_time": "2022-11-13T11:45:17.147Z"
      },
      {
        "duration": 107,
        "start_time": "2022-11-13T11:45:30.177Z"
      },
      {
        "duration": 195,
        "start_time": "2022-11-13T11:46:31.791Z"
      },
      {
        "duration": 17,
        "start_time": "2022-11-13T11:46:42.888Z"
      },
      {
        "duration": 284,
        "start_time": "2022-11-13T11:46:56.003Z"
      },
      {
        "duration": 315,
        "start_time": "2022-11-13T11:47:10.213Z"
      },
      {
        "duration": 74,
        "start_time": "2022-11-13T11:47:47.912Z"
      },
      {
        "duration": 4,
        "start_time": "2022-11-13T11:48:02.079Z"
      },
      {
        "duration": 304,
        "start_time": "2022-11-13T11:48:59.643Z"
      },
      {
        "duration": 1180,
        "start_time": "2022-11-13T11:50:27.212Z"
      },
      {
        "duration": 16,
        "start_time": "2022-11-13T11:51:12.419Z"
      },
      {
        "duration": 1270,
        "start_time": "2022-11-13T11:51:23.719Z"
      },
      {
        "duration": 15,
        "start_time": "2022-11-13T11:51:29.738Z"
      },
      {
        "duration": 8,
        "start_time": "2022-11-13T11:52:01.921Z"
      },
      {
        "duration": 95,
        "start_time": "2022-11-13T11:52:11.169Z"
      },
      {
        "duration": 324,
        "start_time": "2022-11-13T11:52:34.366Z"
      },
      {
        "duration": 80,
        "start_time": "2022-11-13T11:52:55.475Z"
      },
      {
        "duration": 83,
        "start_time": "2022-11-13T11:55:31.785Z"
      },
      {
        "duration": 98,
        "start_time": "2022-11-13T11:55:40.981Z"
      },
      {
        "duration": 89,
        "start_time": "2022-11-13T11:55:56.482Z"
      },
      {
        "duration": 8,
        "start_time": "2022-11-13T12:03:39.396Z"
      },
      {
        "duration": 9,
        "start_time": "2022-11-13T12:04:33.977Z"
      },
      {
        "duration": 2,
        "start_time": "2022-11-13T12:06:02.573Z"
      },
      {
        "duration": 79,
        "start_time": "2022-11-13T12:09:09.383Z"
      },
      {
        "duration": 7,
        "start_time": "2022-11-13T12:20:19.345Z"
      },
      {
        "duration": 19,
        "start_time": "2022-11-13T12:44:50.587Z"
      },
      {
        "duration": 7,
        "start_time": "2022-11-13T12:44:55.306Z"
      },
      {
        "duration": 75,
        "start_time": "2022-11-13T12:46:54.199Z"
      },
      {
        "duration": 78,
        "start_time": "2022-11-13T12:47:24.559Z"
      },
      {
        "duration": 1368,
        "start_time": "2022-11-13T12:48:25.355Z"
      },
      {
        "duration": 34,
        "start_time": "2022-11-13T12:48:30.697Z"
      },
      {
        "duration": 970,
        "start_time": "2022-11-13T12:49:05.963Z"
      },
      {
        "duration": 2031,
        "start_time": "2022-11-13T12:50:20.649Z"
      },
      {
        "duration": 21,
        "start_time": "2022-11-13T12:50:24.578Z"
      },
      {
        "duration": 7,
        "start_time": "2022-11-13T12:50:42.725Z"
      },
      {
        "duration": 70,
        "start_time": "2022-11-13T12:51:19.122Z"
      },
      {
        "duration": 40,
        "start_time": "2022-11-13T12:51:27.050Z"
      },
      {
        "duration": 14,
        "start_time": "2022-11-13T12:51:36.318Z"
      },
      {
        "duration": 16,
        "start_time": "2022-11-13T12:51:48.801Z"
      },
      {
        "duration": 118,
        "start_time": "2022-11-13T13:34:17.905Z"
      },
      {
        "duration": 185,
        "start_time": "2022-11-13T13:39:29.002Z"
      },
      {
        "duration": 375,
        "start_time": "2022-11-13T13:39:37.170Z"
      },
      {
        "duration": 210,
        "start_time": "2022-11-13T13:40:01.362Z"
      },
      {
        "duration": 245,
        "start_time": "2022-11-13T13:40:07.353Z"
      },
      {
        "duration": 99,
        "start_time": "2022-11-13T13:41:49.374Z"
      },
      {
        "duration": 193,
        "start_time": "2022-11-13T13:44:16.921Z"
      },
      {
        "duration": 202,
        "start_time": "2022-11-13T13:44:25.881Z"
      },
      {
        "duration": 106,
        "start_time": "2022-11-13T13:47:14.109Z"
      },
      {
        "duration": 5,
        "start_time": "2022-11-13T13:49:48.781Z"
      },
      {
        "duration": 28,
        "start_time": "2022-11-13T13:50:02.928Z"
      },
      {
        "duration": 548,
        "start_time": "2022-11-13T13:50:15.301Z"
      },
      {
        "duration": 8,
        "start_time": "2022-11-13T13:50:26.400Z"
      },
      {
        "duration": 6,
        "start_time": "2022-11-13T13:50:47.352Z"
      },
      {
        "duration": 196,
        "start_time": "2022-11-13T13:51:16.152Z"
      },
      {
        "duration": 117,
        "start_time": "2022-11-13T13:53:11.505Z"
      },
      {
        "duration": 83,
        "start_time": "2022-11-13T13:54:35.312Z"
      },
      {
        "duration": 71,
        "start_time": "2022-11-13T13:56:49.608Z"
      },
      {
        "duration": 265,
        "start_time": "2022-11-13T13:59:09.558Z"
      },
      {
        "duration": 287,
        "start_time": "2022-11-13T13:59:16.741Z"
      },
      {
        "duration": 147,
        "start_time": "2022-11-13T13:59:39.442Z"
      },
      {
        "duration": 1553,
        "start_time": "2022-11-13T13:59:44.500Z"
      },
      {
        "duration": 970,
        "start_time": "2022-11-13T13:59:51.545Z"
      },
      {
        "duration": 4,
        "start_time": "2022-11-13T14:07:40.684Z"
      },
      {
        "duration": 2,
        "start_time": "2022-11-13T14:07:44.125Z"
      },
      {
        "duration": 77,
        "start_time": "2022-11-13T14:07:45.727Z"
      },
      {
        "duration": 3,
        "start_time": "2022-11-13T14:07:52.845Z"
      },
      {
        "duration": 2,
        "start_time": "2022-11-13T14:07:54.156Z"
      },
      {
        "duration": 38,
        "start_time": "2022-11-13T14:08:01.211Z"
      },
      {
        "duration": 25,
        "start_time": "2022-11-13T14:08:03.912Z"
      },
      {
        "duration": 967,
        "start_time": "2022-11-13T14:09:13.137Z"
      },
      {
        "duration": 19,
        "start_time": "2022-11-13T14:09:15.360Z"
      },
      {
        "duration": 9,
        "start_time": "2022-11-13T14:09:23.337Z"
      },
      {
        "duration": 46,
        "start_time": "2022-11-13T14:09:40.141Z"
      },
      {
        "duration": 14,
        "start_time": "2022-11-13T14:09:46.467Z"
      },
      {
        "duration": 6,
        "start_time": "2022-11-13T14:11:43.482Z"
      },
      {
        "duration": 5,
        "start_time": "2022-11-13T14:12:29.873Z"
      },
      {
        "duration": 5,
        "start_time": "2022-11-13T14:13:42.864Z"
      },
      {
        "duration": 4,
        "start_time": "2022-11-13T14:14:24.667Z"
      },
      {
        "duration": 69,
        "start_time": "2022-11-13T14:15:01.366Z"
      },
      {
        "duration": 8,
        "start_time": "2022-11-13T14:15:27.018Z"
      },
      {
        "duration": 207,
        "start_time": "2022-11-13T14:17:36.391Z"
      },
      {
        "duration": 98,
        "start_time": "2022-11-13T14:19:31.770Z"
      },
      {
        "duration": 70,
        "start_time": "2022-11-13T14:20:19.800Z"
      },
      {
        "duration": 79,
        "start_time": "2022-11-13T14:20:35.695Z"
      },
      {
        "duration": 9,
        "start_time": "2022-11-13T14:21:36.703Z"
      },
      {
        "duration": 9,
        "start_time": "2022-11-13T14:23:34.037Z"
      },
      {
        "duration": 73,
        "start_time": "2022-11-13T14:26:11.137Z"
      },
      {
        "duration": 18,
        "start_time": "2022-11-13T14:26:17.182Z"
      },
      {
        "duration": 66,
        "start_time": "2022-11-13T14:27:03.658Z"
      },
      {
        "duration": 84,
        "start_time": "2022-11-13T14:27:12.436Z"
      },
      {
        "duration": 8,
        "start_time": "2022-11-13T14:27:33.964Z"
      },
      {
        "duration": 7,
        "start_time": "2022-11-13T14:28:02.469Z"
      },
      {
        "duration": 6,
        "start_time": "2022-11-13T14:28:05.751Z"
      },
      {
        "duration": 130,
        "start_time": "2022-11-13T14:28:26.642Z"
      },
      {
        "duration": 333,
        "start_time": "2022-11-13T14:28:53.462Z"
      },
      {
        "duration": 112,
        "start_time": "2022-11-13T14:29:13.958Z"
      },
      {
        "duration": 112,
        "start_time": "2022-11-13T14:29:24.661Z"
      },
      {
        "duration": 73,
        "start_time": "2022-11-13T14:30:02.605Z"
      },
      {
        "duration": 198,
        "start_time": "2022-11-13T14:30:17.749Z"
      },
      {
        "duration": 103,
        "start_time": "2022-11-13T14:30:30.076Z"
      },
      {
        "duration": 143,
        "start_time": "2022-11-13T14:30:39.278Z"
      },
      {
        "duration": 83,
        "start_time": "2022-11-13T14:30:49.644Z"
      },
      {
        "duration": 72,
        "start_time": "2022-11-13T14:30:53.082Z"
      },
      {
        "duration": 91,
        "start_time": "2022-11-13T14:30:59.341Z"
      },
      {
        "duration": 1043,
        "start_time": "2022-11-13T14:31:02.019Z"
      },
      {
        "duration": 5,
        "start_time": "2022-11-13T14:31:42.457Z"
      },
      {
        "duration": 2,
        "start_time": "2022-11-13T14:32:33.810Z"
      },
      {
        "duration": 8,
        "start_time": "2022-11-13T14:49:15.322Z"
      },
      {
        "duration": 87,
        "start_time": "2022-11-13T14:52:12.564Z"
      },
      {
        "duration": 81,
        "start_time": "2022-11-13T14:54:56.486Z"
      },
      {
        "duration": 94,
        "start_time": "2022-11-13T14:55:50.668Z"
      },
      {
        "duration": 15,
        "start_time": "2022-11-13T14:57:38.155Z"
      },
      {
        "duration": 4,
        "start_time": "2022-11-13T14:59:20.567Z"
      },
      {
        "duration": 19,
        "start_time": "2022-11-13T14:59:20.573Z"
      },
      {
        "duration": 62,
        "start_time": "2022-11-13T14:59:20.594Z"
      },
      {
        "duration": 20,
        "start_time": "2022-11-13T14:59:20.658Z"
      },
      {
        "duration": 11,
        "start_time": "2022-11-13T14:59:20.680Z"
      },
      {
        "duration": 1966,
        "start_time": "2022-11-13T14:59:20.693Z"
      },
      {
        "duration": 21,
        "start_time": "2022-11-13T14:59:22.661Z"
      },
      {
        "duration": 7,
        "start_time": "2022-11-13T14:59:22.684Z"
      },
      {
        "duration": 42,
        "start_time": "2022-11-13T14:59:22.694Z"
      },
      {
        "duration": 12,
        "start_time": "2022-11-13T14:59:22.737Z"
      },
      {
        "duration": 4,
        "start_time": "2022-11-13T14:59:22.751Z"
      },
      {
        "duration": 18,
        "start_time": "2022-11-13T14:59:22.757Z"
      },
      {
        "duration": 7,
        "start_time": "2022-11-13T14:59:22.777Z"
      },
      {
        "duration": 23,
        "start_time": "2022-11-13T14:59:22.786Z"
      },
      {
        "duration": 193,
        "start_time": "2022-11-13T14:59:22.811Z"
      },
      {
        "duration": 107,
        "start_time": "2022-11-13T14:59:23.006Z"
      },
      {
        "duration": 74,
        "start_time": "2022-11-13T14:59:23.114Z"
      },
      {
        "duration": 30,
        "start_time": "2022-11-13T14:59:23.190Z"
      },
      {
        "duration": 66,
        "start_time": "2022-11-13T14:59:23.222Z"
      },
      {
        "duration": 9,
        "start_time": "2022-11-13T14:59:23.304Z"
      },
      {
        "duration": 9,
        "start_time": "2022-11-13T14:59:23.315Z"
      },
      {
        "duration": 155,
        "start_time": "2022-11-13T14:59:23.326Z"
      },
      {
        "duration": 315,
        "start_time": "2022-11-13T14:59:23.482Z"
      },
      {
        "duration": 104,
        "start_time": "2022-11-13T14:59:23.804Z"
      },
      {
        "duration": 206,
        "start_time": "2022-11-13T14:59:23.910Z"
      },
      {
        "duration": 114,
        "start_time": "2022-11-13T14:59:24.118Z"
      },
      {
        "duration": 113,
        "start_time": "2022-11-13T14:59:24.234Z"
      },
      {
        "duration": 89,
        "start_time": "2022-11-13T14:59:24.349Z"
      },
      {
        "duration": 76,
        "start_time": "2022-11-13T14:59:24.440Z"
      },
      {
        "duration": 63,
        "start_time": "2022-11-13T14:59:24.518Z"
      },
      {
        "duration": 813,
        "start_time": "2022-11-13T14:59:24.583Z"
      },
      {
        "duration": 7,
        "start_time": "2022-11-13T14:59:25.398Z"
      },
      {
        "duration": 34,
        "start_time": "2022-11-13T14:59:25.407Z"
      },
      {
        "duration": 5,
        "start_time": "2022-11-13T14:59:31.238Z"
      },
      {
        "duration": 2,
        "start_time": "2022-11-13T15:04:25.031Z"
      },
      {
        "duration": 17,
        "start_time": "2022-11-13T15:05:48.944Z"
      },
      {
        "duration": 76,
        "start_time": "2022-11-13T15:09:13.773Z"
      },
      {
        "duration": 20,
        "start_time": "2022-11-13T15:10:02.478Z"
      },
      {
        "duration": 4,
        "start_time": "2022-11-13T15:10:07.718Z"
      },
      {
        "duration": 8,
        "start_time": "2022-11-13T15:10:07.725Z"
      },
      {
        "duration": 40,
        "start_time": "2022-11-13T15:10:07.735Z"
      },
      {
        "duration": 22,
        "start_time": "2022-11-13T15:10:07.777Z"
      },
      {
        "duration": 8,
        "start_time": "2022-11-13T15:10:07.804Z"
      },
      {
        "duration": 1296,
        "start_time": "2022-11-13T15:10:07.814Z"
      },
      {
        "duration": 23,
        "start_time": "2022-11-13T15:10:09.112Z"
      },
      {
        "duration": 8,
        "start_time": "2022-11-13T15:10:09.137Z"
      },
      {
        "duration": 64,
        "start_time": "2022-11-13T15:10:09.147Z"
      },
      {
        "duration": 14,
        "start_time": "2022-11-13T15:10:09.212Z"
      },
      {
        "duration": 6,
        "start_time": "2022-11-13T15:10:09.228Z"
      },
      {
        "duration": 12,
        "start_time": "2022-11-13T15:10:09.236Z"
      },
      {
        "duration": 218,
        "start_time": "2022-11-13T15:10:09.250Z"
      },
      {
        "duration": 118,
        "start_time": "2022-11-13T15:10:09.473Z"
      },
      {
        "duration": 81,
        "start_time": "2022-11-13T15:10:09.606Z"
      },
      {
        "duration": 37,
        "start_time": "2022-11-13T15:10:09.689Z"
      },
      {
        "duration": 85,
        "start_time": "2022-11-13T15:10:09.728Z"
      },
      {
        "duration": 7,
        "start_time": "2022-11-13T15:10:09.815Z"
      },
      {
        "duration": 10,
        "start_time": "2022-11-13T15:10:09.824Z"
      },
      {
        "duration": 130,
        "start_time": "2022-11-13T15:10:09.835Z"
      },
      {
        "duration": 369,
        "start_time": "2022-11-13T15:10:09.967Z"
      },
      {
        "duration": 128,
        "start_time": "2022-11-13T15:10:10.338Z"
      },
      {
        "duration": 231,
        "start_time": "2022-11-13T15:10:10.468Z"
      },
      {
        "duration": 127,
        "start_time": "2022-11-13T15:10:10.700Z"
      },
      {
        "duration": 135,
        "start_time": "2022-11-13T15:10:10.829Z"
      },
      {
        "duration": 107,
        "start_time": "2022-11-13T15:10:10.966Z"
      },
      {
        "duration": 80,
        "start_time": "2022-11-13T15:10:11.075Z"
      },
      {
        "duration": 75,
        "start_time": "2022-11-13T15:10:11.157Z"
      },
      {
        "duration": 877,
        "start_time": "2022-11-13T15:10:11.234Z"
      },
      {
        "duration": 46,
        "start_time": "2022-11-13T15:10:12.113Z"
      },
      {
        "duration": 6,
        "start_time": "2022-11-13T15:10:19.776Z"
      },
      {
        "duration": 13,
        "start_time": "2022-11-13T15:10:35.120Z"
      },
      {
        "duration": 4,
        "start_time": "2022-11-13T15:11:27.462Z"
      },
      {
        "duration": 12,
        "start_time": "2022-11-13T15:11:27.469Z"
      },
      {
        "duration": 49,
        "start_time": "2022-11-13T15:11:27.483Z"
      },
      {
        "duration": 28,
        "start_time": "2022-11-13T15:11:27.535Z"
      },
      {
        "duration": 22,
        "start_time": "2022-11-13T15:11:27.565Z"
      },
      {
        "duration": 1659,
        "start_time": "2022-11-13T15:11:27.590Z"
      },
      {
        "duration": 22,
        "start_time": "2022-11-13T15:11:29.251Z"
      },
      {
        "duration": 7,
        "start_time": "2022-11-13T15:11:29.275Z"
      },
      {
        "duration": 42,
        "start_time": "2022-11-13T15:11:29.284Z"
      },
      {
        "duration": 12,
        "start_time": "2022-11-13T15:11:29.328Z"
      },
      {
        "duration": 27,
        "start_time": "2022-11-13T15:11:29.341Z"
      },
      {
        "duration": 6,
        "start_time": "2022-11-13T15:11:29.369Z"
      },
      {
        "duration": 209,
        "start_time": "2022-11-13T15:11:29.377Z"
      },
      {
        "duration": 110,
        "start_time": "2022-11-13T15:11:29.589Z"
      },
      {
        "duration": 74,
        "start_time": "2022-11-13T15:11:29.704Z"
      },
      {
        "duration": 31,
        "start_time": "2022-11-13T15:11:29.779Z"
      },
      {
        "duration": 67,
        "start_time": "2022-11-13T15:11:29.812Z"
      },
      {
        "duration": 24,
        "start_time": "2022-11-13T15:11:29.881Z"
      },
      {
        "duration": 7,
        "start_time": "2022-11-13T15:11:29.907Z"
      },
      {
        "duration": 121,
        "start_time": "2022-11-13T15:11:29.916Z"
      },
      {
        "duration": 233,
        "start_time": "2022-11-13T15:11:30.038Z"
      },
      {
        "duration": 277,
        "start_time": "2022-11-13T15:11:30.273Z"
      },
      {
        "duration": 228,
        "start_time": "2022-11-13T15:11:30.552Z"
      },
      {
        "duration": 112,
        "start_time": "2022-11-13T15:11:30.782Z"
      },
      {
        "duration": 118,
        "start_time": "2022-11-13T15:11:30.896Z"
      },
      {
        "duration": 90,
        "start_time": "2022-11-13T15:11:31.016Z"
      },
      {
        "duration": 70,
        "start_time": "2022-11-13T15:11:31.108Z"
      },
      {
        "duration": 80,
        "start_time": "2022-11-13T15:11:31.179Z"
      },
      {
        "duration": 918,
        "start_time": "2022-11-13T15:11:31.261Z"
      },
      {
        "duration": 56,
        "start_time": "2022-11-13T15:11:32.181Z"
      },
      {
        "duration": 89,
        "start_time": "2022-11-13T15:11:32.239Z"
      },
      {
        "duration": 6,
        "start_time": "2022-11-13T15:11:35.373Z"
      },
      {
        "duration": 1515,
        "start_time": "2022-11-17T19:16:54.148Z"
      },
      {
        "duration": 2,
        "start_time": "2022-11-17T19:16:55.665Z"
      },
      {
        "duration": 187,
        "start_time": "2022-11-17T19:16:55.669Z"
      },
      {
        "duration": 25,
        "start_time": "2022-11-17T19:16:55.859Z"
      },
      {
        "duration": 6,
        "start_time": "2022-11-17T19:16:55.885Z"
      },
      {
        "duration": 1084,
        "start_time": "2022-11-17T19:16:55.893Z"
      },
      {
        "duration": 20,
        "start_time": "2022-11-17T19:16:56.979Z"
      },
      {
        "duration": 8,
        "start_time": "2022-11-17T19:16:57.001Z"
      },
      {
        "duration": 43,
        "start_time": "2022-11-17T19:16:57.011Z"
      },
      {
        "duration": 12,
        "start_time": "2022-11-17T19:16:57.056Z"
      },
      {
        "duration": 4,
        "start_time": "2022-11-17T19:16:57.070Z"
      },
      {
        "duration": 6,
        "start_time": "2022-11-17T19:16:57.075Z"
      },
      {
        "duration": 217,
        "start_time": "2022-11-17T19:16:57.083Z"
      },
      {
        "duration": 104,
        "start_time": "2022-11-17T19:16:57.302Z"
      },
      {
        "duration": 76,
        "start_time": "2022-11-17T19:16:57.408Z"
      },
      {
        "duration": 31,
        "start_time": "2022-11-17T19:16:57.485Z"
      },
      {
        "duration": 145,
        "start_time": "2022-11-17T19:16:57.518Z"
      },
      {
        "duration": 8,
        "start_time": "2022-11-17T19:16:57.664Z"
      },
      {
        "duration": 9,
        "start_time": "2022-11-17T19:16:57.674Z"
      },
      {
        "duration": 110,
        "start_time": "2022-11-17T19:16:57.685Z"
      },
      {
        "duration": 192,
        "start_time": "2022-11-17T19:16:57.797Z"
      },
      {
        "duration": 116,
        "start_time": "2022-11-17T19:16:57.991Z"
      },
      {
        "duration": 210,
        "start_time": "2022-11-17T19:16:58.108Z"
      },
      {
        "duration": 105,
        "start_time": "2022-11-17T19:16:58.320Z"
      },
      {
        "duration": 112,
        "start_time": "2022-11-17T19:16:58.426Z"
      },
      {
        "duration": 91,
        "start_time": "2022-11-17T19:16:58.539Z"
      },
      {
        "duration": 60,
        "start_time": "2022-11-17T19:16:58.632Z"
      },
      {
        "duration": 73,
        "start_time": "2022-11-17T19:16:58.696Z"
      },
      {
        "duration": 805,
        "start_time": "2022-11-17T19:16:58.771Z"
      },
      {
        "duration": 84,
        "start_time": "2022-11-17T19:16:59.578Z"
      },
      {
        "duration": 77,
        "start_time": "2022-11-17T19:16:59.664Z"
      },
      {
        "duration": 5,
        "start_time": "2022-11-17T19:16:59.743Z"
      },
      {
        "duration": 78,
        "start_time": "2022-11-17T19:21:00.173Z"
      },
      {
        "duration": 45,
        "start_time": "2022-11-17T19:22:37.454Z"
      },
      {
        "duration": 8,
        "start_time": "2022-11-17T19:31:51.780Z"
      },
      {
        "duration": 7,
        "start_time": "2022-11-17T19:32:49.898Z"
      },
      {
        "duration": 117,
        "start_time": "2022-11-17T20:18:23.990Z"
      },
      {
        "duration": 11,
        "start_time": "2022-11-17T20:21:39.229Z"
      },
      {
        "duration": 3,
        "start_time": "2022-11-17T20:22:15.157Z"
      },
      {
        "duration": 2,
        "start_time": "2022-11-17T20:22:25.167Z"
      },
      {
        "duration": 10,
        "start_time": "2022-11-17T20:22:31.117Z"
      },
      {
        "duration": 9,
        "start_time": "2022-11-17T20:22:54.018Z"
      },
      {
        "duration": 2,
        "start_time": "2022-11-17T20:22:59.156Z"
      },
      {
        "duration": 3,
        "start_time": "2022-11-17T20:23:08.229Z"
      },
      {
        "duration": 5,
        "start_time": "2022-11-17T20:23:10.046Z"
      },
      {
        "duration": 13,
        "start_time": "2022-11-17T20:23:14.662Z"
      },
      {
        "duration": 74,
        "start_time": "2022-11-17T20:34:32.181Z"
      },
      {
        "duration": 60,
        "start_time": "2022-11-17T20:34:37.214Z"
      },
      {
        "duration": 5,
        "start_time": "2022-11-17T20:34:46.097Z"
      },
      {
        "duration": 5,
        "start_time": "2022-11-17T20:35:01.680Z"
      },
      {
        "duration": 19,
        "start_time": "2022-11-17T20:35:23.129Z"
      },
      {
        "duration": 2,
        "start_time": "2022-11-17T20:35:46.193Z"
      },
      {
        "duration": 6,
        "start_time": "2022-11-17T20:35:56.102Z"
      },
      {
        "duration": 5,
        "start_time": "2022-11-17T20:36:01.231Z"
      },
      {
        "duration": 2,
        "start_time": "2022-11-17T20:36:13.443Z"
      },
      {
        "duration": 4,
        "start_time": "2022-11-17T20:36:39.396Z"
      },
      {
        "duration": 4,
        "start_time": "2022-11-17T20:36:51.093Z"
      },
      {
        "duration": 123,
        "start_time": "2022-11-17T20:36:53.396Z"
      },
      {
        "duration": 4,
        "start_time": "2022-11-17T20:37:14.653Z"
      },
      {
        "duration": 60,
        "start_time": "2022-11-17T20:37:23.356Z"
      },
      {
        "duration": 3,
        "start_time": "2022-11-17T20:42:48.561Z"
      },
      {
        "duration": 59,
        "start_time": "2022-11-17T20:42:55.356Z"
      },
      {
        "duration": 10,
        "start_time": "2022-11-17T20:43:05.316Z"
      },
      {
        "duration": 1553,
        "start_time": "2022-11-18T20:26:23.575Z"
      },
      {
        "duration": 2,
        "start_time": "2022-11-18T20:26:25.130Z"
      },
      {
        "duration": 173,
        "start_time": "2022-11-18T20:26:25.133Z"
      },
      {
        "duration": 30,
        "start_time": "2022-11-18T20:26:25.308Z"
      },
      {
        "duration": 8,
        "start_time": "2022-11-18T20:26:25.341Z"
      },
      {
        "duration": 1400,
        "start_time": "2022-11-18T20:26:25.350Z"
      },
      {
        "duration": 17,
        "start_time": "2022-11-18T20:26:26.752Z"
      },
      {
        "duration": 6,
        "start_time": "2022-11-18T20:26:26.771Z"
      },
      {
        "duration": 37,
        "start_time": "2022-11-18T20:26:26.778Z"
      },
      {
        "duration": 10,
        "start_time": "2022-11-18T20:26:26.817Z"
      },
      {
        "duration": 3,
        "start_time": "2022-11-18T20:26:26.829Z"
      },
      {
        "duration": 5,
        "start_time": "2022-11-18T20:26:26.834Z"
      },
      {
        "duration": 199,
        "start_time": "2022-11-18T20:26:26.840Z"
      },
      {
        "duration": 94,
        "start_time": "2022-11-18T20:26:27.042Z"
      },
      {
        "duration": 76,
        "start_time": "2022-11-18T20:26:27.137Z"
      },
      {
        "duration": 17,
        "start_time": "2022-11-18T20:26:27.214Z"
      },
      {
        "duration": 143,
        "start_time": "2022-11-18T20:26:27.232Z"
      },
      {
        "duration": 7,
        "start_time": "2022-11-18T20:26:27.377Z"
      },
      {
        "duration": 8,
        "start_time": "2022-11-18T20:26:27.385Z"
      },
      {
        "duration": 127,
        "start_time": "2022-11-18T20:26:27.394Z"
      },
      {
        "duration": 200,
        "start_time": "2022-11-18T20:26:27.523Z"
      },
      {
        "duration": 97,
        "start_time": "2022-11-18T20:26:27.725Z"
      },
      {
        "duration": 197,
        "start_time": "2022-11-18T20:26:27.823Z"
      },
      {
        "duration": 94,
        "start_time": "2022-11-18T20:26:28.022Z"
      },
      {
        "duration": 95,
        "start_time": "2022-11-18T20:26:28.118Z"
      },
      {
        "duration": 67,
        "start_time": "2022-11-18T20:26:28.214Z"
      },
      {
        "duration": 73,
        "start_time": "2022-11-18T20:26:28.282Z"
      },
      {
        "duration": 66,
        "start_time": "2022-11-18T20:26:28.357Z"
      },
      {
        "duration": 744,
        "start_time": "2022-11-18T20:26:28.424Z"
      },
      {
        "duration": 72,
        "start_time": "2022-11-18T20:26:29.169Z"
      },
      {
        "duration": 70,
        "start_time": "2022-11-18T20:26:29.242Z"
      },
      {
        "duration": 5,
        "start_time": "2022-11-18T20:26:29.314Z"
      },
      {
        "duration": 12,
        "start_time": "2022-11-18T20:26:29.321Z"
      },
      {
        "duration": 2,
        "start_time": "2022-11-18T20:26:29.334Z"
      },
      {
        "duration": 115,
        "start_time": "2022-11-18T20:26:29.338Z"
      },
      {
        "duration": 0,
        "start_time": "2022-11-18T20:26:29.455Z"
      },
      {
        "duration": 0,
        "start_time": "2022-11-18T20:26:29.456Z"
      },
      {
        "duration": 16,
        "start_time": "2022-11-18T20:27:01.271Z"
      },
      {
        "duration": 3,
        "start_time": "2022-11-18T20:27:05.493Z"
      },
      {
        "duration": 81,
        "start_time": "2022-11-18T20:27:07.432Z"
      },
      {
        "duration": 9,
        "start_time": "2022-11-18T20:27:10.737Z"
      },
      {
        "duration": 8,
        "start_time": "2022-11-18T20:29:32.966Z"
      },
      {
        "duration": 13,
        "start_time": "2022-11-18T20:29:35.954Z"
      },
      {
        "duration": 3,
        "start_time": "2022-11-18T20:34:58.428Z"
      },
      {
        "duration": 3,
        "start_time": "2022-11-18T20:35:06.758Z"
      },
      {
        "duration": 249845,
        "start_time": "2022-11-18T20:36:21.020Z"
      },
      {
        "duration": 2790,
        "start_time": "2022-11-18T20:42:22.238Z"
      },
      {
        "duration": 254952,
        "start_time": "2022-11-18T20:42:32.877Z"
      },
      {
        "duration": 4,
        "start_time": "2022-11-18T20:47:34.973Z"
      },
      {
        "duration": 10,
        "start_time": "2022-11-18T20:48:35.239Z"
      },
      {
        "duration": 2,
        "start_time": "2022-11-18T20:50:57.904Z"
      },
      {
        "duration": 4,
        "start_time": "2022-11-18T21:02:48.156Z"
      },
      {
        "duration": 75,
        "start_time": "2022-11-18T21:08:01.480Z"
      },
      {
        "duration": 71,
        "start_time": "2022-11-18T21:08:06.668Z"
      },
      {
        "duration": 5,
        "start_time": "2022-11-18T21:08:36.192Z"
      },
      {
        "duration": 9,
        "start_time": "2022-11-18T21:08:54.807Z"
      },
      {
        "duration": 13,
        "start_time": "2022-11-18T21:09:12.542Z"
      },
      {
        "duration": 13,
        "start_time": "2022-11-18T21:09:24.329Z"
      },
      {
        "duration": 10,
        "start_time": "2022-11-18T21:10:33.154Z"
      },
      {
        "duration": 4,
        "start_time": "2022-11-18T21:10:54.070Z"
      },
      {
        "duration": 11,
        "start_time": "2022-11-18T21:11:49.908Z"
      },
      {
        "duration": 4,
        "start_time": "2022-11-18T21:12:07.488Z"
      },
      {
        "duration": 11,
        "start_time": "2022-11-18T21:12:09.965Z"
      },
      {
        "duration": 4,
        "start_time": "2022-11-18T21:12:12.603Z"
      },
      {
        "duration": 5,
        "start_time": "2022-11-18T21:12:57.391Z"
      },
      {
        "duration": 3,
        "start_time": "2022-11-18T21:14:15.728Z"
      },
      {
        "duration": 10,
        "start_time": "2022-11-18T21:14:24.170Z"
      },
      {
        "duration": 4,
        "start_time": "2022-11-18T21:14:27.050Z"
      },
      {
        "duration": 4,
        "start_time": "2022-11-18T21:14:54.014Z"
      },
      {
        "duration": 58,
        "start_time": "2022-11-18T21:14:56.356Z"
      },
      {
        "duration": 1610,
        "start_time": "2022-11-19T08:33:41.402Z"
      },
      {
        "duration": 2,
        "start_time": "2022-11-19T08:33:43.015Z"
      },
      {
        "duration": 176,
        "start_time": "2022-11-19T08:33:43.023Z"
      },
      {
        "duration": 24,
        "start_time": "2022-11-19T08:33:43.201Z"
      },
      {
        "duration": 7,
        "start_time": "2022-11-19T08:33:43.226Z"
      },
      {
        "duration": 1152,
        "start_time": "2022-11-19T08:33:43.235Z"
      },
      {
        "duration": 21,
        "start_time": "2022-11-19T08:33:44.389Z"
      },
      {
        "duration": 9,
        "start_time": "2022-11-19T08:33:44.411Z"
      },
      {
        "duration": 40,
        "start_time": "2022-11-19T08:33:44.421Z"
      },
      {
        "duration": 12,
        "start_time": "2022-11-19T08:33:44.464Z"
      },
      {
        "duration": 12,
        "start_time": "2022-11-19T08:33:44.478Z"
      },
      {
        "duration": 5,
        "start_time": "2022-11-19T08:33:44.492Z"
      },
      {
        "duration": 202,
        "start_time": "2022-11-19T08:33:44.498Z"
      },
      {
        "duration": 98,
        "start_time": "2022-11-19T08:33:44.702Z"
      },
      {
        "duration": 151,
        "start_time": "2022-11-19T08:33:44.802Z"
      },
      {
        "duration": 19,
        "start_time": "2022-11-19T08:33:44.954Z"
      },
      {
        "duration": 80,
        "start_time": "2022-11-19T08:33:44.975Z"
      },
      {
        "duration": 7,
        "start_time": "2022-11-19T08:33:45.056Z"
      },
      {
        "duration": 8,
        "start_time": "2022-11-19T08:33:45.065Z"
      },
      {
        "duration": 139,
        "start_time": "2022-11-19T08:33:45.075Z"
      },
      {
        "duration": 213,
        "start_time": "2022-11-19T08:33:45.222Z"
      },
      {
        "duration": 117,
        "start_time": "2022-11-19T08:33:45.436Z"
      },
      {
        "duration": 225,
        "start_time": "2022-11-19T08:33:45.556Z"
      },
      {
        "duration": 122,
        "start_time": "2022-11-19T08:33:45.783Z"
      },
      {
        "duration": 102,
        "start_time": "2022-11-19T08:33:45.907Z"
      },
      {
        "duration": 84,
        "start_time": "2022-11-19T08:33:46.010Z"
      },
      {
        "duration": 93,
        "start_time": "2022-11-19T08:33:46.095Z"
      },
      {
        "duration": 168,
        "start_time": "2022-11-19T08:33:46.191Z"
      },
      {
        "duration": 832,
        "start_time": "2022-11-19T08:33:46.361Z"
      },
      {
        "duration": 98,
        "start_time": "2022-11-19T08:33:47.195Z"
      },
      {
        "duration": 78,
        "start_time": "2022-11-19T08:33:47.294Z"
      },
      {
        "duration": 6,
        "start_time": "2022-11-19T08:33:47.374Z"
      },
      {
        "duration": 11,
        "start_time": "2022-11-19T08:35:40.648Z"
      },
      {
        "duration": 136,
        "start_time": "2022-11-19T08:36:11.200Z"
      },
      {
        "duration": 9,
        "start_time": "2022-11-19T08:38:13.060Z"
      },
      {
        "duration": 6,
        "start_time": "2022-11-19T08:38:20.259Z"
      },
      {
        "duration": 10,
        "start_time": "2022-11-19T08:48:04.392Z"
      },
      {
        "duration": 3,
        "start_time": "2022-11-19T08:48:09.817Z"
      },
      {
        "duration": 11,
        "start_time": "2022-11-19T08:48:10.604Z"
      },
      {
        "duration": 13,
        "start_time": "2022-11-19T08:50:00.285Z"
      },
      {
        "duration": 3,
        "start_time": "2022-11-19T09:01:23.411Z"
      },
      {
        "duration": 3,
        "start_time": "2022-11-19T09:01:25.337Z"
      },
      {
        "duration": 82,
        "start_time": "2022-11-19T09:03:08.763Z"
      },
      {
        "duration": 145,
        "start_time": "2022-11-19T09:03:45.413Z"
      },
      {
        "duration": 32426,
        "start_time": "2022-11-19T09:03:49.812Z"
      },
      {
        "duration": 4,
        "start_time": "2022-11-19T09:16:01.009Z"
      },
      {
        "duration": 3,
        "start_time": "2022-11-19T09:16:03.834Z"
      },
      {
        "duration": 3,
        "start_time": "2022-11-19T09:16:20.715Z"
      },
      {
        "duration": 2877,
        "start_time": "2022-11-19T09:16:21.990Z"
      },
      {
        "duration": 3,
        "start_time": "2022-11-19T09:16:52.826Z"
      },
      {
        "duration": 2904,
        "start_time": "2022-11-19T09:16:55.941Z"
      },
      {
        "duration": 3,
        "start_time": "2022-11-19T09:17:26.262Z"
      },
      {
        "duration": 6,
        "start_time": "2022-11-19T09:17:30.878Z"
      },
      {
        "duration": 487,
        "start_time": "2022-11-19T09:17:33.740Z"
      },
      {
        "duration": 5,
        "start_time": "2022-11-19T09:17:46.792Z"
      },
      {
        "duration": 1357,
        "start_time": "2022-11-19T09:17:48.567Z"
      },
      {
        "duration": 7,
        "start_time": "2022-11-19T09:18:02.823Z"
      },
      {
        "duration": 6,
        "start_time": "2022-11-19T09:18:06.279Z"
      },
      {
        "duration": 569,
        "start_time": "2022-11-19T09:18:08.187Z"
      },
      {
        "duration": 81,
        "start_time": "2022-11-19T09:18:23.505Z"
      },
      {
        "duration": 5,
        "start_time": "2022-11-19T09:18:31.101Z"
      },
      {
        "duration": 885,
        "start_time": "2022-11-19T09:18:33.638Z"
      },
      {
        "duration": 1034,
        "start_time": "2022-11-19T09:18:37.105Z"
      },
      {
        "duration": 850,
        "start_time": "2022-11-19T09:19:10.577Z"
      },
      {
        "duration": 81,
        "start_time": "2022-11-19T09:19:34.030Z"
      },
      {
        "duration": 78,
        "start_time": "2022-11-19T09:19:47.821Z"
      },
      {
        "duration": 74,
        "start_time": "2022-11-19T09:19:52.662Z"
      },
      {
        "duration": 6,
        "start_time": "2022-11-19T09:20:07.527Z"
      },
      {
        "duration": 994,
        "start_time": "2022-11-19T09:20:10.665Z"
      },
      {
        "duration": 1013,
        "start_time": "2022-11-19T09:20:17.367Z"
      },
      {
        "duration": 5,
        "start_time": "2022-11-19T09:20:33.197Z"
      },
      {
        "duration": 6,
        "start_time": "2022-11-19T09:20:36.548Z"
      },
      {
        "duration": 877,
        "start_time": "2022-11-19T09:20:41.751Z"
      },
      {
        "duration": 943,
        "start_time": "2022-11-19T09:20:43.988Z"
      },
      {
        "duration": 901,
        "start_time": "2022-11-19T09:20:46.441Z"
      },
      {
        "duration": 6,
        "start_time": "2022-11-19T09:20:51.402Z"
      },
      {
        "duration": 1084,
        "start_time": "2022-11-19T09:20:55.947Z"
      },
      {
        "duration": 957,
        "start_time": "2022-11-19T09:21:01.492Z"
      },
      {
        "duration": 5,
        "start_time": "2022-11-19T09:21:35.071Z"
      },
      {
        "duration": 1789,
        "start_time": "2022-11-19T09:21:40.437Z"
      },
      {
        "duration": 1885,
        "start_time": "2022-11-19T09:21:47.742Z"
      },
      {
        "duration": 6,
        "start_time": "2022-11-19T09:23:07.468Z"
      },
      {
        "duration": 2147,
        "start_time": "2022-11-19T09:23:12.694Z"
      },
      {
        "duration": 5,
        "start_time": "2022-11-19T09:23:55.423Z"
      },
      {
        "duration": 7,
        "start_time": "2022-11-19T09:24:08.813Z"
      },
      {
        "duration": 4158,
        "start_time": "2022-11-19T09:24:11.982Z"
      },
      {
        "duration": 6,
        "start_time": "2022-11-19T09:24:19.010Z"
      },
      {
        "duration": 7840,
        "start_time": "2022-11-19T09:24:21.389Z"
      },
      {
        "duration": 5,
        "start_time": "2022-11-19T09:24:56.842Z"
      },
      {
        "duration": 7,
        "start_time": "2022-11-19T09:25:42.014Z"
      },
      {
        "duration": 52485,
        "start_time": "2022-11-19T09:25:47.438Z"
      },
      {
        "duration": 4,
        "start_time": "2022-11-19T09:39:57.688Z"
      },
      {
        "duration": 3,
        "start_time": "2022-11-19T09:40:14.034Z"
      },
      {
        "duration": 6,
        "start_time": "2022-11-19T09:40:18.539Z"
      },
      {
        "duration": 4,
        "start_time": "2022-11-19T09:41:56.053Z"
      },
      {
        "duration": 5,
        "start_time": "2022-11-19T09:41:57.567Z"
      },
      {
        "duration": 10206,
        "start_time": "2022-11-19T09:42:08.252Z"
      },
      {
        "duration": 5,
        "start_time": "2022-11-19T09:42:23.124Z"
      },
      {
        "duration": 2470,
        "start_time": "2022-11-19T09:42:25.057Z"
      },
      {
        "duration": 4,
        "start_time": "2022-11-19T09:42:36.948Z"
      },
      {
        "duration": 4,
        "start_time": "2022-11-19T09:42:50.309Z"
      },
      {
        "duration": 2858,
        "start_time": "2022-11-19T09:43:06.076Z"
      },
      {
        "duration": 4,
        "start_time": "2022-11-19T09:43:10.350Z"
      },
      {
        "duration": 4,
        "start_time": "2022-11-19T09:43:11.610Z"
      },
      {
        "duration": 5,
        "start_time": "2022-11-19T09:43:15.668Z"
      },
      {
        "duration": 8,
        "start_time": "2022-11-19T09:45:15.588Z"
      },
      {
        "duration": 2235,
        "start_time": "2022-11-19T09:48:23.305Z"
      },
      {
        "duration": 14,
        "start_time": "2022-11-19T09:49:07.590Z"
      },
      {
        "duration": 3,
        "start_time": "2022-11-19T09:51:34.366Z"
      },
      {
        "duration": 76,
        "start_time": "2022-11-19T09:51:37.592Z"
      },
      {
        "duration": 74,
        "start_time": "2022-11-19T09:51:48.838Z"
      },
      {
        "duration": 3,
        "start_time": "2022-11-19T09:52:09.928Z"
      },
      {
        "duration": 813,
        "start_time": "2022-11-19T09:52:44.830Z"
      },
      {
        "duration": 840,
        "start_time": "2022-11-19T09:52:55.653Z"
      },
      {
        "duration": 17,
        "start_time": "2022-11-19T09:54:35.187Z"
      },
      {
        "duration": 3,
        "start_time": "2022-11-19T10:08:41.595Z"
      },
      {
        "duration": 13,
        "start_time": "2022-11-19T10:10:35.887Z"
      },
      {
        "duration": 10,
        "start_time": "2022-11-19T10:11:30.445Z"
      },
      {
        "duration": 6,
        "start_time": "2022-11-19T10:11:36.861Z"
      },
      {
        "duration": 4,
        "start_time": "2022-11-19T10:11:38.792Z"
      },
      {
        "duration": 4,
        "start_time": "2022-11-19T10:11:40.515Z"
      },
      {
        "duration": 10,
        "start_time": "2022-11-19T10:11:42.848Z"
      },
      {
        "duration": 18,
        "start_time": "2022-11-19T10:11:45.291Z"
      },
      {
        "duration": 5,
        "start_time": "2022-11-19T10:11:55.893Z"
      },
      {
        "duration": 3096,
        "start_time": "2022-11-19T10:13:32.344Z"
      },
      {
        "duration": 14,
        "start_time": "2022-11-19T10:14:22.784Z"
      },
      {
        "duration": 2,
        "start_time": "2022-11-19T10:14:59.322Z"
      },
      {
        "duration": 1000,
        "start_time": "2022-11-19T10:15:41.853Z"
      },
      {
        "duration": 25,
        "start_time": "2022-11-19T10:15:53.083Z"
      },
      {
        "duration": 92,
        "start_time": "2022-11-19T10:23:31.186Z"
      },
      {
        "duration": 13,
        "start_time": "2022-11-19T10:28:03.176Z"
      },
      {
        "duration": 20,
        "start_time": "2022-11-19T10:29:44.454Z"
      },
      {
        "duration": 19,
        "start_time": "2022-11-19T10:29:53.588Z"
      },
      {
        "duration": 20,
        "start_time": "2022-11-19T10:30:50.648Z"
      },
      {
        "duration": 21,
        "start_time": "2022-11-19T10:30:57.581Z"
      },
      {
        "duration": 97,
        "start_time": "2022-11-19T10:31:28.971Z"
      },
      {
        "duration": 4,
        "start_time": "2022-11-19T10:56:23.746Z"
      },
      {
        "duration": 7,
        "start_time": "2022-11-19T10:57:27.183Z"
      },
      {
        "duration": 17,
        "start_time": "2022-11-19T10:58:23.655Z"
      },
      {
        "duration": 12,
        "start_time": "2022-11-19T10:58:29.979Z"
      },
      {
        "duration": 18,
        "start_time": "2022-11-19T10:58:36.216Z"
      },
      {
        "duration": 10,
        "start_time": "2022-11-19T10:59:11.279Z"
      },
      {
        "duration": 15,
        "start_time": "2022-11-19T10:59:33.712Z"
      },
      {
        "duration": 9,
        "start_time": "2022-11-19T11:01:41.243Z"
      },
      {
        "duration": 8,
        "start_time": "2022-11-19T11:01:55.740Z"
      },
      {
        "duration": 9,
        "start_time": "2022-11-19T11:04:00.078Z"
      },
      {
        "duration": 9,
        "start_time": "2022-11-19T11:05:37.540Z"
      },
      {
        "duration": 23,
        "start_time": "2022-11-19T11:07:37.309Z"
      },
      {
        "duration": 20,
        "start_time": "2022-11-19T11:08:10.987Z"
      },
      {
        "duration": 91,
        "start_time": "2022-11-19T11:13:27.574Z"
      },
      {
        "duration": 25,
        "start_time": "2022-11-19T11:13:31.789Z"
      },
      {
        "duration": 4,
        "start_time": "2022-11-19T11:13:45.571Z"
      },
      {
        "duration": 26,
        "start_time": "2022-11-19T11:13:54.510Z"
      },
      {
        "duration": 37,
        "start_time": "2022-11-19T11:14:00.730Z"
      },
      {
        "duration": 14,
        "start_time": "2022-11-19T11:15:15.745Z"
      },
      {
        "duration": 11,
        "start_time": "2022-11-19T11:15:23.321Z"
      },
      {
        "duration": 9,
        "start_time": "2022-11-19T11:15:26.881Z"
      },
      {
        "duration": 13,
        "start_time": "2022-11-19T11:15:34.583Z"
      },
      {
        "duration": 95,
        "start_time": "2022-11-19T11:16:29.985Z"
      },
      {
        "duration": 76,
        "start_time": "2022-11-19T11:16:37.911Z"
      },
      {
        "duration": 20,
        "start_time": "2022-11-19T11:19:27.284Z"
      },
      {
        "duration": 75,
        "start_time": "2022-11-19T11:19:29.854Z"
      },
      {
        "duration": 15,
        "start_time": "2022-11-19T11:20:09.604Z"
      },
      {
        "duration": 21,
        "start_time": "2022-11-19T11:20:26.496Z"
      },
      {
        "duration": 26,
        "start_time": "2022-11-19T11:20:48.550Z"
      },
      {
        "duration": 72,
        "start_time": "2022-11-19T11:22:45.811Z"
      },
      {
        "duration": 2,
        "start_time": "2022-11-19T11:23:48.149Z"
      },
      {
        "duration": 2,
        "start_time": "2022-11-19T11:23:53.601Z"
      },
      {
        "duration": 12,
        "start_time": "2022-11-19T11:25:08.292Z"
      },
      {
        "duration": 5,
        "start_time": "2022-11-19T11:25:25.575Z"
      },
      {
        "duration": 13,
        "start_time": "2022-11-19T11:26:15.005Z"
      },
      {
        "duration": 7,
        "start_time": "2022-11-19T11:26:17.210Z"
      },
      {
        "duration": 11,
        "start_time": "2022-11-19T11:27:33.247Z"
      },
      {
        "duration": 5,
        "start_time": "2022-11-19T11:27:36.571Z"
      },
      {
        "duration": 10,
        "start_time": "2022-11-19T11:27:57.744Z"
      },
      {
        "duration": 6,
        "start_time": "2022-11-19T11:28:03.740Z"
      },
      {
        "duration": 5,
        "start_time": "2022-11-19T11:28:43.176Z"
      },
      {
        "duration": 27,
        "start_time": "2022-11-19T11:29:00.949Z"
      },
      {
        "duration": 15,
        "start_time": "2022-11-19T11:29:06.883Z"
      },
      {
        "duration": 17,
        "start_time": "2022-11-19T11:29:09.914Z"
      },
      {
        "duration": 7,
        "start_time": "2022-11-19T11:29:11.765Z"
      },
      {
        "duration": 29,
        "start_time": "2022-11-19T11:30:51.504Z"
      },
      {
        "duration": 3615,
        "start_time": "2022-11-19T11:31:14.310Z"
      },
      {
        "duration": 28,
        "start_time": "2022-11-19T11:33:14.920Z"
      },
      {
        "duration": 2,
        "start_time": "2022-11-19T11:34:05.079Z"
      },
      {
        "duration": 1507,
        "start_time": "2022-11-19T11:34:43.233Z"
      },
      {
        "duration": 24,
        "start_time": "2022-11-19T11:38:19.421Z"
      },
      {
        "duration": 89,
        "start_time": "2022-11-19T11:42:55.452Z"
      },
      {
        "duration": 74,
        "start_time": "2022-11-19T11:43:00.771Z"
      },
      {
        "duration": 10,
        "start_time": "2022-11-19T12:05:46.686Z"
      },
      {
        "duration": 17,
        "start_time": "2022-11-19T12:06:46.438Z"
      },
      {
        "duration": 3639,
        "start_time": "2022-11-19T12:09:07.105Z"
      },
      {
        "duration": 73,
        "start_time": "2022-11-19T12:09:24.244Z"
      },
      {
        "duration": 5,
        "start_time": "2022-11-19T12:10:00.314Z"
      },
      {
        "duration": 85,
        "start_time": "2022-11-19T12:10:37.251Z"
      },
      {
        "duration": 79,
        "start_time": "2022-11-19T12:11:03.087Z"
      },
      {
        "duration": 73,
        "start_time": "2022-11-19T12:11:55.946Z"
      },
      {
        "duration": 80,
        "start_time": "2022-11-19T12:12:05.779Z"
      },
      {
        "duration": 4,
        "start_time": "2022-11-19T12:12:26.140Z"
      },
      {
        "duration": 5,
        "start_time": "2022-11-19T12:12:59.877Z"
      },
      {
        "duration": 4,
        "start_time": "2022-11-19T12:13:03.044Z"
      },
      {
        "duration": 10,
        "start_time": "2022-11-19T12:13:16.605Z"
      },
      {
        "duration": 19,
        "start_time": "2022-11-19T12:13:18.754Z"
      },
      {
        "duration": 5,
        "start_time": "2022-11-19T12:13:21.795Z"
      },
      {
        "duration": 3440,
        "start_time": "2022-11-19T12:13:37.000Z"
      },
      {
        "duration": 6,
        "start_time": "2022-11-19T12:14:01.889Z"
      },
      {
        "duration": 3251,
        "start_time": "2022-11-19T12:14:10.392Z"
      },
      {
        "duration": 3407,
        "start_time": "2022-11-19T12:14:46.416Z"
      },
      {
        "duration": 3,
        "start_time": "2022-11-19T12:15:21.206Z"
      },
      {
        "duration": 3330,
        "start_time": "2022-11-19T12:15:37.699Z"
      },
      {
        "duration": 4,
        "start_time": "2022-11-19T12:16:23.187Z"
      },
      {
        "duration": 3446,
        "start_time": "2022-11-19T12:16:26.283Z"
      },
      {
        "duration": 4,
        "start_time": "2022-11-19T12:16:45.546Z"
      },
      {
        "duration": 4,
        "start_time": "2022-11-19T12:17:03.687Z"
      },
      {
        "duration": 3420,
        "start_time": "2022-11-19T12:17:06.208Z"
      },
      {
        "duration": 5,
        "start_time": "2022-11-19T12:17:23.297Z"
      },
      {
        "duration": 5,
        "start_time": "2022-11-19T12:17:34.435Z"
      },
      {
        "duration": 3235,
        "start_time": "2022-11-19T12:17:35.695Z"
      },
      {
        "duration": 6,
        "start_time": "2022-11-19T12:17:48.007Z"
      },
      {
        "duration": 3400,
        "start_time": "2022-11-19T12:17:50.137Z"
      },
      {
        "duration": 4,
        "start_time": "2022-11-19T12:20:52.304Z"
      },
      {
        "duration": 3911,
        "start_time": "2022-11-19T12:20:53.812Z"
      },
      {
        "duration": 3803,
        "start_time": "2022-11-19T12:22:05.428Z"
      },
      {
        "duration": 3926,
        "start_time": "2022-11-19T12:22:54.296Z"
      },
      {
        "duration": 4,
        "start_time": "2022-11-19T12:23:31.714Z"
      },
      {
        "duration": 3744,
        "start_time": "2022-11-19T12:23:44.883Z"
      },
      {
        "duration": 3691,
        "start_time": "2022-11-19T12:23:54.537Z"
      },
      {
        "duration": 3783,
        "start_time": "2022-11-19T12:24:04.246Z"
      },
      {
        "duration": 3687,
        "start_time": "2022-11-19T12:24:27.546Z"
      },
      {
        "duration": 3723,
        "start_time": "2022-11-19T12:24:42.101Z"
      },
      {
        "duration": 3686,
        "start_time": "2022-11-19T12:24:53.050Z"
      },
      {
        "duration": 3546,
        "start_time": "2022-11-19T12:25:21.790Z"
      },
      {
        "duration": 4,
        "start_time": "2022-11-19T12:25:32.384Z"
      },
      {
        "duration": 6,
        "start_time": "2022-11-19T12:26:44.142Z"
      },
      {
        "duration": 3643,
        "start_time": "2022-11-19T12:26:48.699Z"
      },
      {
        "duration": 9,
        "start_time": "2022-11-19T12:29:00.035Z"
      },
      {
        "duration": 19,
        "start_time": "2022-11-19T12:29:02.451Z"
      },
      {
        "duration": 9,
        "start_time": "2022-11-19T12:29:04.136Z"
      },
      {
        "duration": 3444,
        "start_time": "2022-11-19T12:29:06.995Z"
      },
      {
        "duration": 19,
        "start_time": "2022-11-19T12:29:13.019Z"
      },
      {
        "duration": 4,
        "start_time": "2022-11-19T12:30:12.347Z"
      },
      {
        "duration": 7,
        "start_time": "2022-11-19T12:31:14.930Z"
      },
      {
        "duration": 10,
        "start_time": "2022-11-19T12:31:19.050Z"
      },
      {
        "duration": 23,
        "start_time": "2022-11-19T12:31:20.209Z"
      },
      {
        "duration": 5,
        "start_time": "2022-11-19T12:31:22.499Z"
      },
      {
        "duration": 3404,
        "start_time": "2022-11-19T12:31:25.535Z"
      },
      {
        "duration": 16,
        "start_time": "2022-11-19T12:31:34.987Z"
      },
      {
        "duration": 4,
        "start_time": "2022-11-19T12:31:54.342Z"
      },
      {
        "duration": 1505,
        "start_time": "2022-11-19T12:32:41.653Z"
      },
      {
        "duration": 1454,
        "start_time": "2022-11-19T12:33:39.082Z"
      },
      {
        "duration": 30,
        "start_time": "2022-11-19T12:33:44.079Z"
      },
      {
        "duration": 29,
        "start_time": "2022-11-19T12:34:48.418Z"
      },
      {
        "duration": 13,
        "start_time": "2022-11-19T12:34:54.509Z"
      },
      {
        "duration": 6,
        "start_time": "2022-11-19T12:34:59.079Z"
      },
      {
        "duration": 21,
        "start_time": "2022-11-19T12:35:04.936Z"
      },
      {
        "duration": 3207,
        "start_time": "2022-11-19T12:35:36.334Z"
      },
      {
        "duration": 20,
        "start_time": "2022-11-19T12:35:53.687Z"
      },
      {
        "duration": 4,
        "start_time": "2022-11-19T12:38:04.870Z"
      },
      {
        "duration": 6,
        "start_time": "2022-11-19T12:38:04.876Z"
      },
      {
        "duration": 43,
        "start_time": "2022-11-19T12:38:04.883Z"
      },
      {
        "duration": 25,
        "start_time": "2022-11-19T12:38:04.928Z"
      },
      {
        "duration": 7,
        "start_time": "2022-11-19T12:38:04.954Z"
      },
      {
        "duration": 1289,
        "start_time": "2022-11-19T12:38:04.962Z"
      },
      {
        "duration": 24,
        "start_time": "2022-11-19T12:38:06.252Z"
      },
      {
        "duration": 11,
        "start_time": "2022-11-19T12:38:06.278Z"
      },
      {
        "duration": 47,
        "start_time": "2022-11-19T12:38:06.290Z"
      },
      {
        "duration": 12,
        "start_time": "2022-11-19T12:38:06.340Z"
      },
      {
        "duration": 8,
        "start_time": "2022-11-19T12:38:06.353Z"
      },
      {
        "duration": 7,
        "start_time": "2022-11-19T12:38:06.362Z"
      },
      {
        "duration": 310,
        "start_time": "2022-11-19T12:38:06.370Z"
      },
      {
        "duration": 103,
        "start_time": "2022-11-19T12:38:06.681Z"
      },
      {
        "duration": 83,
        "start_time": "2022-11-19T12:38:06.786Z"
      },
      {
        "duration": 18,
        "start_time": "2022-11-19T12:38:06.870Z"
      },
      {
        "duration": 76,
        "start_time": "2022-11-19T12:38:06.890Z"
      },
      {
        "duration": 7,
        "start_time": "2022-11-19T12:38:06.968Z"
      },
      {
        "duration": 14,
        "start_time": "2022-11-19T12:38:06.976Z"
      },
      {
        "duration": 119,
        "start_time": "2022-11-19T12:38:06.991Z"
      },
      {
        "duration": 200,
        "start_time": "2022-11-19T12:38:07.112Z"
      },
      {
        "duration": 116,
        "start_time": "2022-11-19T12:38:07.314Z"
      },
      {
        "duration": 205,
        "start_time": "2022-11-19T12:38:07.432Z"
      },
      {
        "duration": 101,
        "start_time": "2022-11-19T12:38:07.639Z"
      },
      {
        "duration": 207,
        "start_time": "2022-11-19T12:38:07.742Z"
      },
      {
        "duration": 85,
        "start_time": "2022-11-19T12:38:07.951Z"
      },
      {
        "duration": 63,
        "start_time": "2022-11-19T12:38:08.037Z"
      },
      {
        "duration": 81,
        "start_time": "2022-11-19T12:38:08.105Z"
      },
      {
        "duration": 766,
        "start_time": "2022-11-19T12:38:08.187Z"
      },
      {
        "duration": 45,
        "start_time": "2022-11-19T12:38:08.955Z"
      },
      {
        "duration": 96,
        "start_time": "2022-11-19T12:38:09.001Z"
      },
      {
        "duration": 6,
        "start_time": "2022-11-19T12:38:09.098Z"
      },
      {
        "duration": 12,
        "start_time": "2022-11-19T12:38:22.405Z"
      },
      {
        "duration": 6,
        "start_time": "2022-11-19T12:38:25.585Z"
      },
      {
        "duration": 4,
        "start_time": "2022-11-19T12:38:38.622Z"
      },
      {
        "duration": 4,
        "start_time": "2022-11-19T12:38:40.606Z"
      },
      {
        "duration": 5,
        "start_time": "2022-11-19T12:38:42.185Z"
      },
      {
        "duration": 11,
        "start_time": "2022-11-19T12:38:44.142Z"
      },
      {
        "duration": 13,
        "start_time": "2022-11-19T12:38:49.108Z"
      },
      {
        "duration": 5,
        "start_time": "2022-11-19T12:38:59.710Z"
      },
      {
        "duration": 2984,
        "start_time": "2022-11-19T12:39:03.740Z"
      },
      {
        "duration": 16,
        "start_time": "2022-11-19T12:39:11.490Z"
      },
      {
        "duration": 3,
        "start_time": "2022-11-19T12:40:56.066Z"
      },
      {
        "duration": 939,
        "start_time": "2022-11-19T12:40:59.238Z"
      },
      {
        "duration": 25,
        "start_time": "2022-11-19T12:41:04.813Z"
      },
      {
        "duration": 25,
        "start_time": "2022-11-19T12:41:27.987Z"
      },
      {
        "duration": 12,
        "start_time": "2022-11-19T12:41:33.479Z"
      },
      {
        "duration": 6,
        "start_time": "2022-11-19T12:41:36.094Z"
      },
      {
        "duration": 21,
        "start_time": "2022-11-19T12:41:39.872Z"
      },
      {
        "duration": 3366,
        "start_time": "2022-11-19T12:42:25.977Z"
      },
      {
        "duration": 21,
        "start_time": "2022-11-19T12:42:33.232Z"
      },
      {
        "duration": 1497,
        "start_time": "2022-11-19T12:44:14.135Z"
      },
      {
        "duration": 29,
        "start_time": "2022-11-19T12:44:18.854Z"
      },
      {
        "duration": 5,
        "start_time": "2022-11-19T12:45:24.434Z"
      },
      {
        "duration": 33,
        "start_time": "2022-11-19T12:45:24.441Z"
      },
      {
        "duration": 61,
        "start_time": "2022-11-19T12:45:24.475Z"
      },
      {
        "duration": 20,
        "start_time": "2022-11-19T12:45:24.539Z"
      },
      {
        "duration": 11,
        "start_time": "2022-11-19T12:45:24.560Z"
      },
      {
        "duration": 1027,
        "start_time": "2022-11-19T12:45:24.573Z"
      },
      {
        "duration": 19,
        "start_time": "2022-11-19T12:45:25.601Z"
      },
      {
        "duration": 12,
        "start_time": "2022-11-19T12:45:25.626Z"
      },
      {
        "duration": 61,
        "start_time": "2022-11-19T12:45:25.641Z"
      },
      {
        "duration": 11,
        "start_time": "2022-11-19T12:45:25.704Z"
      },
      {
        "duration": 10,
        "start_time": "2022-11-19T12:45:25.716Z"
      },
      {
        "duration": 14,
        "start_time": "2022-11-19T12:45:25.727Z"
      },
      {
        "duration": 201,
        "start_time": "2022-11-19T12:45:25.742Z"
      },
      {
        "duration": 106,
        "start_time": "2022-11-19T12:45:25.945Z"
      },
      {
        "duration": 83,
        "start_time": "2022-11-19T12:45:26.053Z"
      },
      {
        "duration": 19,
        "start_time": "2022-11-19T12:45:26.138Z"
      },
      {
        "duration": 80,
        "start_time": "2022-11-19T12:45:26.159Z"
      },
      {
        "duration": 6,
        "start_time": "2022-11-19T12:45:26.240Z"
      },
      {
        "duration": 7,
        "start_time": "2022-11-19T12:45:26.248Z"
      },
      {
        "duration": 116,
        "start_time": "2022-11-19T12:45:26.257Z"
      },
      {
        "duration": 220,
        "start_time": "2022-11-19T12:45:26.375Z"
      },
      {
        "duration": 111,
        "start_time": "2022-11-19T12:45:26.596Z"
      },
      {
        "duration": 238,
        "start_time": "2022-11-19T12:45:26.709Z"
      },
      {
        "duration": 204,
        "start_time": "2022-11-19T12:45:26.949Z"
      },
      {
        "duration": 114,
        "start_time": "2022-11-19T12:45:27.155Z"
      },
      {
        "duration": 93,
        "start_time": "2022-11-19T12:45:27.271Z"
      },
      {
        "duration": 76,
        "start_time": "2022-11-19T12:45:27.365Z"
      },
      {
        "duration": 65,
        "start_time": "2022-11-19T12:45:27.445Z"
      },
      {
        "duration": 743,
        "start_time": "2022-11-19T12:45:27.527Z"
      },
      {
        "duration": 163,
        "start_time": "2022-11-19T12:45:28.271Z"
      },
      {
        "duration": 67,
        "start_time": "2022-11-19T12:45:28.436Z"
      },
      {
        "duration": 5,
        "start_time": "2022-11-19T12:45:28.505Z"
      },
      {
        "duration": 16,
        "start_time": "2022-11-19T12:45:28.524Z"
      },
      {
        "duration": 8,
        "start_time": "2022-11-19T12:45:28.543Z"
      },
      {
        "duration": 7,
        "start_time": "2022-11-19T12:45:28.552Z"
      },
      {
        "duration": 6,
        "start_time": "2022-11-19T12:45:28.561Z"
      },
      {
        "duration": 9,
        "start_time": "2022-11-19T12:45:28.568Z"
      },
      {
        "duration": 11,
        "start_time": "2022-11-19T12:45:28.578Z"
      },
      {
        "duration": 15,
        "start_time": "2022-11-19T12:45:28.591Z"
      },
      {
        "duration": 21,
        "start_time": "2022-11-19T12:45:28.607Z"
      },
      {
        "duration": 2615,
        "start_time": "2022-11-19T12:45:28.629Z"
      },
      {
        "duration": 20,
        "start_time": "2022-11-19T12:45:31.323Z"
      },
      {
        "duration": 41,
        "start_time": "2022-11-19T12:45:31.345Z"
      },
      {
        "duration": 1011,
        "start_time": "2022-11-19T12:45:31.388Z"
      },
      {
        "duration": 32,
        "start_time": "2022-11-19T12:45:32.400Z"
      },
      {
        "duration": 25,
        "start_time": "2022-11-19T12:45:32.433Z"
      },
      {
        "duration": 10,
        "start_time": "2022-11-19T12:45:32.460Z"
      },
      {
        "duration": 15,
        "start_time": "2022-11-19T12:45:32.472Z"
      },
      {
        "duration": 48,
        "start_time": "2022-11-19T12:45:32.489Z"
      },
      {
        "duration": 3199,
        "start_time": "2022-11-19T12:45:32.539Z"
      },
      {
        "duration": 196,
        "start_time": "2022-11-19T12:45:35.739Z"
      },
      {
        "duration": 1471,
        "start_time": "2022-11-19T12:45:35.937Z"
      },
      {
        "duration": 38,
        "start_time": "2022-11-19T12:45:37.409Z"
      },
      {
        "duration": 2,
        "start_time": "2022-11-19T12:48:53.858Z"
      },
      {
        "duration": 2,
        "start_time": "2022-11-19T12:50:12.310Z"
      },
      {
        "duration": 2,
        "start_time": "2022-11-19T12:51:16.585Z"
      },
      {
        "duration": 11,
        "start_time": "2022-11-19T12:51:53.346Z"
      },
      {
        "duration": 6,
        "start_time": "2022-11-19T12:52:07.608Z"
      },
      {
        "duration": 16,
        "start_time": "2022-11-19T12:52:45.502Z"
      },
      {
        "duration": 6,
        "start_time": "2022-11-19T12:53:09.274Z"
      },
      {
        "duration": 15,
        "start_time": "2022-11-19T12:53:12.996Z"
      },
      {
        "duration": 2,
        "start_time": "2022-11-19T12:56:58.300Z"
      },
      {
        "duration": 4,
        "start_time": "2022-11-19T12:58:05.475Z"
      },
      {
        "duration": 5,
        "start_time": "2022-11-19T12:58:14.199Z"
      },
      {
        "duration": 5,
        "start_time": "2022-11-19T12:58:26.312Z"
      },
      {
        "duration": 3245,
        "start_time": "2022-11-19T12:58:55.181Z"
      },
      {
        "duration": 29,
        "start_time": "2022-11-19T13:00:13.994Z"
      },
      {
        "duration": 28,
        "start_time": "2022-11-19T13:00:41.515Z"
      },
      {
        "duration": 2,
        "start_time": "2022-11-19T13:03:42.520Z"
      },
      {
        "duration": 3,
        "start_time": "2022-11-19T13:04:27.541Z"
      },
      {
        "duration": 853,
        "start_time": "2022-11-19T13:04:58.396Z"
      },
      {
        "duration": 31,
        "start_time": "2022-11-19T13:05:47.949Z"
      },
      {
        "duration": 82,
        "start_time": "2022-11-19T13:10:03.375Z"
      },
      {
        "duration": 11,
        "start_time": "2022-11-19T13:10:40.750Z"
      },
      {
        "duration": 29,
        "start_time": "2022-11-19T13:11:07.422Z"
      },
      {
        "duration": 27,
        "start_time": "2022-11-19T13:11:27.995Z"
      },
      {
        "duration": 27,
        "start_time": "2022-11-19T13:11:37.155Z"
      },
      {
        "duration": 3,
        "start_time": "2022-11-19T13:18:24.743Z"
      },
      {
        "duration": 11,
        "start_time": "2022-11-19T13:18:41.887Z"
      },
      {
        "duration": 10,
        "start_time": "2022-11-19T13:18:48.244Z"
      },
      {
        "duration": 5,
        "start_time": "2022-11-19T13:18:55.500Z"
      },
      {
        "duration": 16,
        "start_time": "2022-11-19T13:19:14.697Z"
      },
      {
        "duration": 8,
        "start_time": "2022-11-19T13:19:27.923Z"
      },
      {
        "duration": 8,
        "start_time": "2022-11-19T13:19:47.849Z"
      },
      {
        "duration": 9,
        "start_time": "2022-11-19T13:20:01.129Z"
      },
      {
        "duration": 12,
        "start_time": "2022-11-19T13:20:07.297Z"
      },
      {
        "duration": 16,
        "start_time": "2022-11-19T13:20:45.106Z"
      },
      {
        "duration": 12,
        "start_time": "2022-11-19T13:25:06.766Z"
      },
      {
        "duration": 4,
        "start_time": "2022-11-19T13:27:12.819Z"
      },
      {
        "duration": 8,
        "start_time": "2022-11-19T13:27:12.825Z"
      },
      {
        "duration": 43,
        "start_time": "2022-11-19T13:27:12.835Z"
      },
      {
        "duration": 20,
        "start_time": "2022-11-19T13:27:12.880Z"
      },
      {
        "duration": 23,
        "start_time": "2022-11-19T13:27:12.902Z"
      },
      {
        "duration": 1242,
        "start_time": "2022-11-19T13:27:12.927Z"
      },
      {
        "duration": 27,
        "start_time": "2022-11-19T13:27:14.171Z"
      },
      {
        "duration": 11,
        "start_time": "2022-11-19T13:27:14.200Z"
      },
      {
        "duration": 48,
        "start_time": "2022-11-19T13:27:14.215Z"
      },
      {
        "duration": 12,
        "start_time": "2022-11-19T13:27:14.265Z"
      },
      {
        "duration": 5,
        "start_time": "2022-11-19T13:27:14.278Z"
      },
      {
        "duration": 5,
        "start_time": "2022-11-19T13:27:14.284Z"
      },
      {
        "duration": 217,
        "start_time": "2022-11-19T13:27:14.291Z"
      },
      {
        "duration": 100,
        "start_time": "2022-11-19T13:27:14.510Z"
      },
      {
        "duration": 78,
        "start_time": "2022-11-19T13:27:14.612Z"
      },
      {
        "duration": 34,
        "start_time": "2022-11-19T13:27:14.692Z"
      },
      {
        "duration": 62,
        "start_time": "2022-11-19T13:27:14.729Z"
      },
      {
        "duration": 6,
        "start_time": "2022-11-19T13:27:14.793Z"
      },
      {
        "duration": 23,
        "start_time": "2022-11-19T13:27:14.801Z"
      },
      {
        "duration": 118,
        "start_time": "2022-11-19T13:27:14.827Z"
      },
      {
        "duration": 216,
        "start_time": "2022-11-19T13:27:14.947Z"
      },
      {
        "duration": 110,
        "start_time": "2022-11-19T13:27:15.165Z"
      },
      {
        "duration": 302,
        "start_time": "2022-11-19T13:27:15.277Z"
      },
      {
        "duration": 103,
        "start_time": "2022-11-19T13:27:15.582Z"
      },
      {
        "duration": 112,
        "start_time": "2022-11-19T13:27:15.687Z"
      },
      {
        "duration": 97,
        "start_time": "2022-11-19T13:27:15.801Z"
      },
      {
        "duration": 71,
        "start_time": "2022-11-19T13:27:15.900Z"
      },
      {
        "duration": 74,
        "start_time": "2022-11-19T13:27:15.973Z"
      },
      {
        "duration": 810,
        "start_time": "2022-11-19T13:27:16.049Z"
      },
      {
        "duration": 40,
        "start_time": "2022-11-19T13:27:16.861Z"
      },
      {
        "duration": 76,
        "start_time": "2022-11-19T13:27:16.903Z"
      },
      {
        "duration": 6,
        "start_time": "2022-11-19T13:27:16.981Z"
      },
      {
        "duration": 15,
        "start_time": "2022-11-19T13:27:16.989Z"
      },
      {
        "duration": 24,
        "start_time": "2022-11-19T13:27:17.006Z"
      },
      {
        "duration": 23,
        "start_time": "2022-11-19T13:27:17.031Z"
      },
      {
        "duration": 21,
        "start_time": "2022-11-19T13:27:17.056Z"
      },
      {
        "duration": 3448,
        "start_time": "2022-11-19T13:27:17.079Z"
      },
      {
        "duration": 4,
        "start_time": "2022-11-19T13:27:39.845Z"
      },
      {
        "duration": 9,
        "start_time": "2022-11-19T13:27:39.851Z"
      },
      {
        "duration": 43,
        "start_time": "2022-11-19T13:27:39.862Z"
      },
      {
        "duration": 21,
        "start_time": "2022-11-19T13:27:39.908Z"
      },
      {
        "duration": 6,
        "start_time": "2022-11-19T13:27:39.931Z"
      },
      {
        "duration": 981,
        "start_time": "2022-11-19T13:27:39.939Z"
      },
      {
        "duration": 20,
        "start_time": "2022-11-19T13:27:40.922Z"
      },
      {
        "duration": 12,
        "start_time": "2022-11-19T13:27:40.944Z"
      },
      {
        "duration": 56,
        "start_time": "2022-11-19T13:27:40.957Z"
      },
      {
        "duration": 14,
        "start_time": "2022-11-19T13:27:41.016Z"
      },
      {
        "duration": 5,
        "start_time": "2022-11-19T13:27:41.032Z"
      },
      {
        "duration": 24,
        "start_time": "2022-11-19T13:27:41.039Z"
      },
      {
        "duration": 196,
        "start_time": "2022-11-19T13:27:41.065Z"
      },
      {
        "duration": 111,
        "start_time": "2022-11-19T13:27:41.262Z"
      },
      {
        "duration": 77,
        "start_time": "2022-11-19T13:27:41.375Z"
      },
      {
        "duration": 18,
        "start_time": "2022-11-19T13:27:41.454Z"
      },
      {
        "duration": 80,
        "start_time": "2022-11-19T13:27:41.473Z"
      },
      {
        "duration": 7,
        "start_time": "2022-11-19T13:27:41.555Z"
      },
      {
        "duration": 6,
        "start_time": "2022-11-19T13:27:41.563Z"
      },
      {
        "duration": 130,
        "start_time": "2022-11-19T13:27:41.570Z"
      },
      {
        "duration": 211,
        "start_time": "2022-11-19T13:27:41.702Z"
      },
      {
        "duration": 107,
        "start_time": "2022-11-19T13:27:41.915Z"
      },
      {
        "duration": 333,
        "start_time": "2022-11-19T13:27:42.023Z"
      },
      {
        "duration": 103,
        "start_time": "2022-11-19T13:27:42.357Z"
      },
      {
        "duration": 113,
        "start_time": "2022-11-19T13:27:42.462Z"
      },
      {
        "duration": 97,
        "start_time": "2022-11-19T13:27:42.577Z"
      },
      {
        "duration": 76,
        "start_time": "2022-11-19T13:27:42.677Z"
      },
      {
        "duration": 71,
        "start_time": "2022-11-19T13:27:42.756Z"
      },
      {
        "duration": 829,
        "start_time": "2022-11-19T13:27:42.829Z"
      },
      {
        "duration": 43,
        "start_time": "2022-11-19T13:27:43.660Z"
      },
      {
        "duration": 84,
        "start_time": "2022-11-19T13:27:43.705Z"
      },
      {
        "duration": 6,
        "start_time": "2022-11-19T13:27:43.791Z"
      },
      {
        "duration": 32,
        "start_time": "2022-11-19T13:27:43.798Z"
      },
      {
        "duration": 9,
        "start_time": "2022-11-19T13:27:43.832Z"
      },
      {
        "duration": 26,
        "start_time": "2022-11-19T13:27:43.842Z"
      },
      {
        "duration": 3256,
        "start_time": "2022-11-19T13:27:43.870Z"
      },
      {
        "duration": 4,
        "start_time": "2022-11-19T13:29:19.001Z"
      },
      {
        "duration": 20,
        "start_time": "2022-11-19T13:29:19.007Z"
      },
      {
        "duration": 44,
        "start_time": "2022-11-19T13:29:19.029Z"
      },
      {
        "duration": 27,
        "start_time": "2022-11-19T13:29:19.075Z"
      },
      {
        "duration": 29,
        "start_time": "2022-11-19T13:29:19.105Z"
      },
      {
        "duration": 894,
        "start_time": "2022-11-19T13:29:19.136Z"
      },
      {
        "duration": 20,
        "start_time": "2022-11-19T13:29:20.032Z"
      },
      {
        "duration": 16,
        "start_time": "2022-11-19T13:29:20.053Z"
      },
      {
        "duration": 54,
        "start_time": "2022-11-19T13:29:20.070Z"
      },
      {
        "duration": 11,
        "start_time": "2022-11-19T13:29:20.126Z"
      },
      {
        "duration": 4,
        "start_time": "2022-11-19T13:29:20.139Z"
      },
      {
        "duration": 6,
        "start_time": "2022-11-19T13:29:20.145Z"
      },
      {
        "duration": 200,
        "start_time": "2022-11-19T13:29:20.153Z"
      },
      {
        "duration": 110,
        "start_time": "2022-11-19T13:29:20.356Z"
      },
      {
        "duration": 79,
        "start_time": "2022-11-19T13:29:20.467Z"
      },
      {
        "duration": 19,
        "start_time": "2022-11-19T13:29:20.548Z"
      },
      {
        "duration": 83,
        "start_time": "2022-11-19T13:29:20.568Z"
      },
      {
        "duration": 7,
        "start_time": "2022-11-19T13:29:20.653Z"
      },
      {
        "duration": 10,
        "start_time": "2022-11-19T13:29:20.661Z"
      },
      {
        "duration": 121,
        "start_time": "2022-11-19T13:29:20.672Z"
      },
      {
        "duration": 199,
        "start_time": "2022-11-19T13:29:20.794Z"
      },
      {
        "duration": 110,
        "start_time": "2022-11-19T13:29:20.994Z"
      },
      {
        "duration": 338,
        "start_time": "2022-11-19T13:29:21.106Z"
      },
      {
        "duration": 106,
        "start_time": "2022-11-19T13:29:21.446Z"
      },
      {
        "duration": 120,
        "start_time": "2022-11-19T13:29:21.554Z"
      },
      {
        "duration": 86,
        "start_time": "2022-11-19T13:29:21.676Z"
      },
      {
        "duration": 75,
        "start_time": "2022-11-19T13:29:21.764Z"
      },
      {
        "duration": 84,
        "start_time": "2022-11-19T13:29:21.841Z"
      },
      {
        "duration": 850,
        "start_time": "2022-11-19T13:29:21.927Z"
      },
      {
        "duration": 58,
        "start_time": "2022-11-19T13:29:22.779Z"
      },
      {
        "duration": 71,
        "start_time": "2022-11-19T13:29:22.839Z"
      },
      {
        "duration": 7,
        "start_time": "2022-11-19T13:29:22.921Z"
      },
      {
        "duration": 13,
        "start_time": "2022-11-19T13:29:22.930Z"
      },
      {
        "duration": 6,
        "start_time": "2022-11-19T13:29:22.945Z"
      },
      {
        "duration": 5,
        "start_time": "2022-11-19T13:29:22.953Z"
      },
      {
        "duration": 3167,
        "start_time": "2022-11-19T13:29:22.960Z"
      },
      {
        "duration": 5,
        "start_time": "2022-11-19T13:36:26.340Z"
      },
      {
        "duration": 364,
        "start_time": "2022-11-19T13:36:26.347Z"
      },
      {
        "duration": 61,
        "start_time": "2022-11-19T13:36:26.712Z"
      },
      {
        "duration": 21,
        "start_time": "2022-11-19T13:36:26.775Z"
      },
      {
        "duration": 22,
        "start_time": "2022-11-19T13:36:26.797Z"
      },
      {
        "duration": 930,
        "start_time": "2022-11-19T13:36:26.821Z"
      },
      {
        "duration": 20,
        "start_time": "2022-11-19T13:36:27.753Z"
      },
      {
        "duration": 11,
        "start_time": "2022-11-19T13:36:27.774Z"
      },
      {
        "duration": 52,
        "start_time": "2022-11-19T13:36:27.786Z"
      },
      {
        "duration": 14,
        "start_time": "2022-11-19T13:36:27.840Z"
      },
      {
        "duration": 10,
        "start_time": "2022-11-19T13:36:27.856Z"
      },
      {
        "duration": 7,
        "start_time": "2022-11-19T13:36:27.868Z"
      },
      {
        "duration": 206,
        "start_time": "2022-11-19T13:36:27.877Z"
      },
      {
        "duration": 107,
        "start_time": "2022-11-19T13:36:28.085Z"
      },
      {
        "duration": 82,
        "start_time": "2022-11-19T13:36:28.194Z"
      },
      {
        "duration": 19,
        "start_time": "2022-11-19T13:36:28.278Z"
      },
      {
        "duration": 82,
        "start_time": "2022-11-19T13:36:28.299Z"
      },
      {
        "duration": 8,
        "start_time": "2022-11-19T13:36:28.383Z"
      },
      {
        "duration": 8,
        "start_time": "2022-11-19T13:36:28.393Z"
      },
      {
        "duration": 130,
        "start_time": "2022-11-19T13:36:28.402Z"
      },
      {
        "duration": 205,
        "start_time": "2022-11-19T13:36:28.533Z"
      },
      {
        "duration": 109,
        "start_time": "2022-11-19T13:36:28.739Z"
      },
      {
        "duration": 361,
        "start_time": "2022-11-19T13:36:28.850Z"
      },
      {
        "duration": 112,
        "start_time": "2022-11-19T13:36:29.212Z"
      },
      {
        "duration": 126,
        "start_time": "2022-11-19T13:36:29.327Z"
      },
      {
        "duration": 115,
        "start_time": "2022-11-19T13:36:29.455Z"
      },
      {
        "duration": 76,
        "start_time": "2022-11-19T13:36:29.572Z"
      },
      {
        "duration": 72,
        "start_time": "2022-11-19T13:36:29.652Z"
      },
      {
        "duration": 866,
        "start_time": "2022-11-19T13:36:29.726Z"
      },
      {
        "duration": 51,
        "start_time": "2022-11-19T13:36:30.594Z"
      },
      {
        "duration": 83,
        "start_time": "2022-11-19T13:36:30.647Z"
      },
      {
        "duration": 7,
        "start_time": "2022-11-19T13:36:30.731Z"
      },
      {
        "duration": 41,
        "start_time": "2022-11-19T13:36:30.739Z"
      },
      {
        "duration": 26,
        "start_time": "2022-11-19T13:36:30.782Z"
      },
      {
        "duration": 38,
        "start_time": "2022-11-19T13:36:30.810Z"
      },
      {
        "duration": 34,
        "start_time": "2022-11-19T13:36:30.850Z"
      },
      {
        "duration": 42,
        "start_time": "2022-11-19T13:36:30.886Z"
      },
      {
        "duration": 26,
        "start_time": "2022-11-19T13:36:30.929Z"
      },
      {
        "duration": 40,
        "start_time": "2022-11-19T13:36:30.957Z"
      },
      {
        "duration": 46,
        "start_time": "2022-11-19T13:36:30.998Z"
      },
      {
        "duration": 2578,
        "start_time": "2022-11-19T13:36:31.046Z"
      },
      {
        "duration": 99,
        "start_time": "2022-11-19T13:36:33.626Z"
      },
      {
        "duration": 3,
        "start_time": "2022-11-19T13:36:33.727Z"
      },
      {
        "duration": 0,
        "start_time": "2022-11-19T13:36:33.732Z"
      },
      {
        "duration": 0,
        "start_time": "2022-11-19T13:36:33.733Z"
      },
      {
        "duration": 0,
        "start_time": "2022-11-19T13:36:33.734Z"
      },
      {
        "duration": 0,
        "start_time": "2022-11-19T13:36:33.735Z"
      },
      {
        "duration": 0,
        "start_time": "2022-11-19T13:36:33.737Z"
      },
      {
        "duration": 0,
        "start_time": "2022-11-19T13:36:33.738Z"
      },
      {
        "duration": 0,
        "start_time": "2022-11-19T13:36:33.738Z"
      },
      {
        "duration": 0,
        "start_time": "2022-11-19T13:36:33.739Z"
      },
      {
        "duration": 0,
        "start_time": "2022-11-19T13:36:33.741Z"
      },
      {
        "duration": 0,
        "start_time": "2022-11-19T13:36:33.741Z"
      },
      {
        "duration": 0,
        "start_time": "2022-11-19T13:36:33.743Z"
      },
      {
        "duration": 0,
        "start_time": "2022-11-19T13:36:33.744Z"
      },
      {
        "duration": 0,
        "start_time": "2022-11-19T13:36:33.745Z"
      },
      {
        "duration": 0,
        "start_time": "2022-11-19T13:36:33.746Z"
      },
      {
        "duration": 0,
        "start_time": "2022-11-19T13:36:33.747Z"
      },
      {
        "duration": 0,
        "start_time": "2022-11-19T13:36:33.749Z"
      },
      {
        "duration": 0,
        "start_time": "2022-11-19T13:36:33.749Z"
      },
      {
        "duration": 0,
        "start_time": "2022-11-19T13:36:33.750Z"
      },
      {
        "duration": 0,
        "start_time": "2022-11-19T13:36:33.751Z"
      },
      {
        "duration": 0,
        "start_time": "2022-11-19T13:36:33.752Z"
      },
      {
        "duration": 4,
        "start_time": "2022-11-19T13:37:26.205Z"
      },
      {
        "duration": 10,
        "start_time": "2022-11-19T13:37:26.212Z"
      },
      {
        "duration": 58,
        "start_time": "2022-11-19T13:37:26.223Z"
      },
      {
        "duration": 22,
        "start_time": "2022-11-19T13:37:26.283Z"
      },
      {
        "duration": 11,
        "start_time": "2022-11-19T13:37:26.307Z"
      },
      {
        "duration": 1078,
        "start_time": "2022-11-19T13:37:26.320Z"
      },
      {
        "duration": 22,
        "start_time": "2022-11-19T13:37:27.400Z"
      },
      {
        "duration": 9,
        "start_time": "2022-11-19T13:37:27.424Z"
      },
      {
        "duration": 42,
        "start_time": "2022-11-19T13:37:27.435Z"
      },
      {
        "duration": 13,
        "start_time": "2022-11-19T13:37:27.478Z"
      },
      {
        "duration": 29,
        "start_time": "2022-11-19T13:37:27.494Z"
      },
      {
        "duration": 8,
        "start_time": "2022-11-19T13:37:27.525Z"
      },
      {
        "duration": 194,
        "start_time": "2022-11-19T13:37:27.534Z"
      },
      {
        "duration": 101,
        "start_time": "2022-11-19T13:37:27.730Z"
      },
      {
        "duration": 95,
        "start_time": "2022-11-19T13:37:27.833Z"
      },
      {
        "duration": 23,
        "start_time": "2022-11-19T13:37:27.930Z"
      },
      {
        "duration": 97,
        "start_time": "2022-11-19T13:37:27.955Z"
      },
      {
        "duration": 8,
        "start_time": "2022-11-19T13:37:28.054Z"
      },
      {
        "duration": 16,
        "start_time": "2022-11-19T13:37:28.063Z"
      },
      {
        "duration": 152,
        "start_time": "2022-11-19T13:37:28.081Z"
      },
      {
        "duration": 217,
        "start_time": "2022-11-19T13:37:28.236Z"
      },
      {
        "duration": 114,
        "start_time": "2022-11-19T13:37:28.455Z"
      },
      {
        "duration": 364,
        "start_time": "2022-11-19T13:37:28.570Z"
      },
      {
        "duration": 107,
        "start_time": "2022-11-19T13:37:28.935Z"
      },
      {
        "duration": 120,
        "start_time": "2022-11-19T13:37:29.043Z"
      },
      {
        "duration": 88,
        "start_time": "2022-11-19T13:37:29.165Z"
      },
      {
        "duration": 76,
        "start_time": "2022-11-19T13:37:29.255Z"
      },
      {
        "duration": 66,
        "start_time": "2022-11-19T13:37:29.333Z"
      },
      {
        "duration": 854,
        "start_time": "2022-11-19T13:37:29.403Z"
      },
      {
        "duration": 44,
        "start_time": "2022-11-19T13:37:30.258Z"
      },
      {
        "duration": 95,
        "start_time": "2022-11-19T13:37:30.304Z"
      },
      {
        "duration": 7,
        "start_time": "2022-11-19T13:37:30.401Z"
      },
      {
        "duration": 64,
        "start_time": "2022-11-19T13:37:30.421Z"
      },
      {
        "duration": 33,
        "start_time": "2022-11-19T13:37:30.487Z"
      },
      {
        "duration": 78,
        "start_time": "2022-11-19T13:37:30.523Z"
      },
      {
        "duration": 13,
        "start_time": "2022-11-19T13:37:30.603Z"
      },
      {
        "duration": 21,
        "start_time": "2022-11-19T13:37:30.618Z"
      },
      {
        "duration": 14,
        "start_time": "2022-11-19T13:37:30.641Z"
      },
      {
        "duration": 26,
        "start_time": "2022-11-19T13:37:30.657Z"
      },
      {
        "duration": 21,
        "start_time": "2022-11-19T13:37:30.685Z"
      },
      {
        "duration": 3213,
        "start_time": "2022-11-19T13:37:30.708Z"
      },
      {
        "duration": 15,
        "start_time": "2022-11-19T13:37:33.923Z"
      },
      {
        "duration": 9,
        "start_time": "2022-11-19T13:37:33.940Z"
      },
      {
        "duration": 3526,
        "start_time": "2022-11-19T13:37:33.950Z"
      },
      {
        "duration": 22,
        "start_time": "2022-11-19T13:37:37.478Z"
      },
      {
        "duration": 36,
        "start_time": "2022-11-19T13:37:37.501Z"
      },
      {
        "duration": 12,
        "start_time": "2022-11-19T13:37:37.539Z"
      },
      {
        "duration": 14,
        "start_time": "2022-11-19T13:37:37.553Z"
      },
      {
        "duration": 30,
        "start_time": "2022-11-19T13:37:37.569Z"
      },
      {
        "duration": 3823,
        "start_time": "2022-11-19T13:37:37.601Z"
      },
      {
        "duration": 109,
        "start_time": "2022-11-19T13:37:41.427Z"
      },
      {
        "duration": 5887,
        "start_time": "2022-11-19T13:37:41.538Z"
      },
      {
        "duration": 27,
        "start_time": "2022-11-19T13:37:47.427Z"
      },
      {
        "duration": 3,
        "start_time": "2022-11-19T13:37:47.456Z"
      },
      {
        "duration": 17,
        "start_time": "2022-11-19T13:37:47.460Z"
      },
      {
        "duration": 13,
        "start_time": "2022-11-19T13:37:47.479Z"
      },
      {
        "duration": 36,
        "start_time": "2022-11-19T13:37:47.494Z"
      },
      {
        "duration": 5,
        "start_time": "2022-11-19T13:37:47.531Z"
      },
      {
        "duration": 3490,
        "start_time": "2022-11-19T13:37:47.537Z"
      },
      {
        "duration": 113,
        "start_time": "2022-11-19T13:37:51.030Z"
      },
      {
        "duration": 76,
        "start_time": "2022-11-19T13:37:51.145Z"
      },
      {
        "duration": 0,
        "start_time": "2022-11-19T13:37:51.223Z"
      },
      {
        "duration": 0,
        "start_time": "2022-11-19T13:37:51.224Z"
      },
      {
        "duration": 0,
        "start_time": "2022-11-19T13:37:51.226Z"
      },
      {
        "duration": 73,
        "start_time": "2022-11-19T13:39:31.198Z"
      },
      {
        "duration": 4,
        "start_time": "2022-11-19T13:40:29.083Z"
      },
      {
        "duration": 16,
        "start_time": "2022-11-19T13:40:29.089Z"
      },
      {
        "duration": 52,
        "start_time": "2022-11-19T13:40:29.107Z"
      },
      {
        "duration": 23,
        "start_time": "2022-11-19T13:40:29.162Z"
      },
      {
        "duration": 7,
        "start_time": "2022-11-19T13:40:29.187Z"
      },
      {
        "duration": 33509,
        "start_time": "2022-11-19T13:40:29.195Z"
      },
      {
        "duration": 0,
        "start_time": "2022-11-19T13:41:02.707Z"
      },
      {
        "duration": 0,
        "start_time": "2022-11-19T13:41:02.709Z"
      },
      {
        "duration": 0,
        "start_time": "2022-11-19T13:41:02.709Z"
      },
      {
        "duration": 0,
        "start_time": "2022-11-19T13:41:02.710Z"
      },
      {
        "duration": 0,
        "start_time": "2022-11-19T13:41:02.711Z"
      },
      {
        "duration": 0,
        "start_time": "2022-11-19T13:41:02.712Z"
      },
      {
        "duration": 0,
        "start_time": "2022-11-19T13:41:02.714Z"
      },
      {
        "duration": 0,
        "start_time": "2022-11-19T13:41:02.714Z"
      },
      {
        "duration": 0,
        "start_time": "2022-11-19T13:41:02.715Z"
      },
      {
        "duration": 0,
        "start_time": "2022-11-19T13:41:02.716Z"
      },
      {
        "duration": 0,
        "start_time": "2022-11-19T13:41:02.717Z"
      },
      {
        "duration": 0,
        "start_time": "2022-11-19T13:41:02.718Z"
      },
      {
        "duration": 0,
        "start_time": "2022-11-19T13:41:02.719Z"
      },
      {
        "duration": 0,
        "start_time": "2022-11-19T13:41:02.720Z"
      },
      {
        "duration": 0,
        "start_time": "2022-11-19T13:41:02.721Z"
      },
      {
        "duration": 0,
        "start_time": "2022-11-19T13:41:02.722Z"
      },
      {
        "duration": 0,
        "start_time": "2022-11-19T13:41:02.723Z"
      },
      {
        "duration": 0,
        "start_time": "2022-11-19T13:41:02.724Z"
      },
      {
        "duration": 0,
        "start_time": "2022-11-19T13:41:02.725Z"
      },
      {
        "duration": 0,
        "start_time": "2022-11-19T13:41:02.726Z"
      },
      {
        "duration": 0,
        "start_time": "2022-11-19T13:41:02.727Z"
      },
      {
        "duration": 0,
        "start_time": "2022-11-19T13:41:02.728Z"
      },
      {
        "duration": 0,
        "start_time": "2022-11-19T13:41:02.729Z"
      },
      {
        "duration": 0,
        "start_time": "2022-11-19T13:41:02.730Z"
      },
      {
        "duration": 0,
        "start_time": "2022-11-19T13:41:02.731Z"
      },
      {
        "duration": 0,
        "start_time": "2022-11-19T13:41:02.732Z"
      },
      {
        "duration": 0,
        "start_time": "2022-11-19T13:41:02.733Z"
      },
      {
        "duration": 0,
        "start_time": "2022-11-19T13:41:02.733Z"
      },
      {
        "duration": 0,
        "start_time": "2022-11-19T13:41:02.735Z"
      },
      {
        "duration": 0,
        "start_time": "2022-11-19T13:41:02.736Z"
      },
      {
        "duration": 0,
        "start_time": "2022-11-19T13:41:02.736Z"
      },
      {
        "duration": 0,
        "start_time": "2022-11-19T13:41:02.737Z"
      },
      {
        "duration": 0,
        "start_time": "2022-11-19T13:41:02.738Z"
      },
      {
        "duration": 0,
        "start_time": "2022-11-19T13:41:02.739Z"
      },
      {
        "duration": 0,
        "start_time": "2022-11-19T13:41:02.740Z"
      },
      {
        "duration": 0,
        "start_time": "2022-11-19T13:41:02.741Z"
      },
      {
        "duration": 0,
        "start_time": "2022-11-19T13:41:02.742Z"
      },
      {
        "duration": 0,
        "start_time": "2022-11-19T13:41:02.743Z"
      },
      {
        "duration": 0,
        "start_time": "2022-11-19T13:41:02.744Z"
      },
      {
        "duration": 0,
        "start_time": "2022-11-19T13:41:02.745Z"
      },
      {
        "duration": 0,
        "start_time": "2022-11-19T13:41:02.746Z"
      },
      {
        "duration": 0,
        "start_time": "2022-11-19T13:41:02.748Z"
      },
      {
        "duration": 0,
        "start_time": "2022-11-19T13:41:02.748Z"
      },
      {
        "duration": 0,
        "start_time": "2022-11-19T13:41:02.749Z"
      },
      {
        "duration": 0,
        "start_time": "2022-11-19T13:41:02.750Z"
      },
      {
        "duration": 0,
        "start_time": "2022-11-19T13:41:02.752Z"
      },
      {
        "duration": 0,
        "start_time": "2022-11-19T13:41:02.753Z"
      },
      {
        "duration": 0,
        "start_time": "2022-11-19T13:41:02.754Z"
      },
      {
        "duration": 0,
        "start_time": "2022-11-19T13:41:02.755Z"
      },
      {
        "duration": 0,
        "start_time": "2022-11-19T13:41:02.756Z"
      },
      {
        "duration": 0,
        "start_time": "2022-11-19T13:41:02.757Z"
      },
      {
        "duration": 0,
        "start_time": "2022-11-19T13:41:02.758Z"
      },
      {
        "duration": 0,
        "start_time": "2022-11-19T13:41:02.759Z"
      },
      {
        "duration": 0,
        "start_time": "2022-11-19T13:41:02.822Z"
      },
      {
        "duration": 0,
        "start_time": "2022-11-19T13:41:02.824Z"
      },
      {
        "duration": 0,
        "start_time": "2022-11-19T13:41:02.825Z"
      },
      {
        "duration": 0,
        "start_time": "2022-11-19T13:41:02.826Z"
      },
      {
        "duration": 0,
        "start_time": "2022-11-19T13:41:02.827Z"
      },
      {
        "duration": 5,
        "start_time": "2022-11-19T13:41:37.304Z"
      },
      {
        "duration": 8,
        "start_time": "2022-11-19T13:41:37.311Z"
      },
      {
        "duration": 44,
        "start_time": "2022-11-19T13:41:37.321Z"
      },
      {
        "duration": 21,
        "start_time": "2022-11-19T13:41:37.366Z"
      },
      {
        "duration": 10,
        "start_time": "2022-11-19T13:41:37.389Z"
      },
      {
        "duration": 776,
        "start_time": "2022-11-19T13:41:37.400Z"
      },
      {
        "duration": 21,
        "start_time": "2022-11-19T13:41:38.177Z"
      },
      {
        "duration": 10,
        "start_time": "2022-11-19T13:41:38.200Z"
      },
      {
        "duration": 46,
        "start_time": "2022-11-19T13:41:38.212Z"
      },
      {
        "duration": 12,
        "start_time": "2022-11-19T13:41:38.260Z"
      },
      {
        "duration": 4,
        "start_time": "2022-11-19T13:41:38.275Z"
      },
      {
        "duration": 11,
        "start_time": "2022-11-19T13:41:38.280Z"
      },
      {
        "duration": 195,
        "start_time": "2022-11-19T13:41:38.293Z"
      },
      {
        "duration": 106,
        "start_time": "2022-11-19T13:41:38.490Z"
      },
      {
        "duration": 83,
        "start_time": "2022-11-19T13:41:38.598Z"
      },
      {
        "duration": 20,
        "start_time": "2022-11-19T13:41:38.682Z"
      },
      {
        "duration": 77,
        "start_time": "2022-11-19T13:41:38.703Z"
      },
      {
        "duration": 7,
        "start_time": "2022-11-19T13:41:38.781Z"
      },
      {
        "duration": 13,
        "start_time": "2022-11-19T13:41:38.790Z"
      },
      {
        "duration": 121,
        "start_time": "2022-11-19T13:41:38.804Z"
      },
      {
        "duration": 208,
        "start_time": "2022-11-19T13:41:38.927Z"
      },
      {
        "duration": 115,
        "start_time": "2022-11-19T13:41:39.137Z"
      },
      {
        "duration": 367,
        "start_time": "2022-11-19T13:41:39.254Z"
      },
      {
        "duration": 109,
        "start_time": "2022-11-19T13:41:39.623Z"
      },
      {
        "duration": 104,
        "start_time": "2022-11-19T13:41:39.733Z"
      },
      {
        "duration": 97,
        "start_time": "2022-11-19T13:41:39.839Z"
      },
      {
        "duration": 65,
        "start_time": "2022-11-19T13:41:39.938Z"
      },
      {
        "duration": 76,
        "start_time": "2022-11-19T13:41:40.005Z"
      },
      {
        "duration": 829,
        "start_time": "2022-11-19T13:41:40.085Z"
      },
      {
        "duration": 46,
        "start_time": "2022-11-19T13:41:40.916Z"
      },
      {
        "duration": 85,
        "start_time": "2022-11-19T13:41:40.964Z"
      },
      {
        "duration": 6,
        "start_time": "2022-11-19T13:41:41.051Z"
      },
      {
        "duration": 17,
        "start_time": "2022-11-19T13:41:41.058Z"
      },
      {
        "duration": 9,
        "start_time": "2022-11-19T13:41:41.077Z"
      },
      {
        "duration": 6,
        "start_time": "2022-11-19T13:41:41.087Z"
      },
      {
        "duration": 17,
        "start_time": "2022-11-19T13:41:41.095Z"
      },
      {
        "duration": 17,
        "start_time": "2022-11-19T13:41:41.113Z"
      },
      {
        "duration": 21,
        "start_time": "2022-11-19T13:41:41.132Z"
      },
      {
        "duration": 28,
        "start_time": "2022-11-19T13:41:41.155Z"
      },
      {
        "duration": 10,
        "start_time": "2022-11-19T13:41:41.184Z"
      },
      {
        "duration": 2838,
        "start_time": "2022-11-19T13:41:41.195Z"
      },
      {
        "duration": 105,
        "start_time": "2022-11-19T13:41:44.036Z"
      },
      {
        "duration": 10,
        "start_time": "2022-11-19T13:41:44.143Z"
      },
      {
        "duration": 193312,
        "start_time": "2022-11-19T13:41:44.155Z"
      },
      {
        "duration": 0,
        "start_time": "2022-11-19T13:44:57.469Z"
      },
      {
        "duration": 0,
        "start_time": "2022-11-19T13:44:57.471Z"
      },
      {
        "duration": 0,
        "start_time": "2022-11-19T13:44:57.472Z"
      },
      {
        "duration": 0,
        "start_time": "2022-11-19T13:44:57.472Z"
      },
      {
        "duration": 0,
        "start_time": "2022-11-19T13:44:57.474Z"
      },
      {
        "duration": 0,
        "start_time": "2022-11-19T13:44:57.475Z"
      },
      {
        "duration": 0,
        "start_time": "2022-11-19T13:44:57.475Z"
      },
      {
        "duration": 0,
        "start_time": "2022-11-19T13:44:57.476Z"
      },
      {
        "duration": 0,
        "start_time": "2022-11-19T13:44:57.477Z"
      },
      {
        "duration": 0,
        "start_time": "2022-11-19T13:44:57.478Z"
      },
      {
        "duration": 0,
        "start_time": "2022-11-19T13:44:57.479Z"
      },
      {
        "duration": 0,
        "start_time": "2022-11-19T13:44:57.480Z"
      },
      {
        "duration": 0,
        "start_time": "2022-11-19T13:44:57.481Z"
      },
      {
        "duration": 0,
        "start_time": "2022-11-19T13:44:57.482Z"
      },
      {
        "duration": 0,
        "start_time": "2022-11-19T13:44:57.483Z"
      },
      {
        "duration": 0,
        "start_time": "2022-11-19T13:44:57.484Z"
      },
      {
        "duration": 0,
        "start_time": "2022-11-19T13:44:57.485Z"
      },
      {
        "duration": 0,
        "start_time": "2022-11-19T13:44:57.486Z"
      },
      {
        "duration": 0,
        "start_time": "2022-11-19T13:44:57.487Z"
      },
      {
        "duration": 4,
        "start_time": "2022-11-19T13:46:44.362Z"
      },
      {
        "duration": 7,
        "start_time": "2022-11-19T13:46:44.369Z"
      },
      {
        "duration": 41,
        "start_time": "2022-11-19T13:46:44.378Z"
      },
      {
        "duration": 21,
        "start_time": "2022-11-19T13:46:44.421Z"
      },
      {
        "duration": 13,
        "start_time": "2022-11-19T13:46:44.443Z"
      },
      {
        "duration": 990,
        "start_time": "2022-11-19T13:46:44.457Z"
      },
      {
        "duration": 19,
        "start_time": "2022-11-19T13:46:45.448Z"
      },
      {
        "duration": 22,
        "start_time": "2022-11-19T13:46:45.469Z"
      },
      {
        "duration": 51,
        "start_time": "2022-11-19T13:46:45.493Z"
      },
      {
        "duration": 12,
        "start_time": "2022-11-19T13:46:45.547Z"
      },
      {
        "duration": 4,
        "start_time": "2022-11-19T13:46:45.561Z"
      },
      {
        "duration": 19,
        "start_time": "2022-11-19T13:46:45.567Z"
      },
      {
        "duration": 206,
        "start_time": "2022-11-19T13:46:45.587Z"
      },
      {
        "duration": 138,
        "start_time": "2022-11-19T13:46:45.794Z"
      },
      {
        "duration": 74,
        "start_time": "2022-11-19T13:46:45.933Z"
      },
      {
        "duration": 29,
        "start_time": "2022-11-19T13:46:46.009Z"
      },
      {
        "duration": 82,
        "start_time": "2022-11-19T13:46:46.040Z"
      },
      {
        "duration": 7,
        "start_time": "2022-11-19T13:46:46.124Z"
      },
      {
        "duration": 14,
        "start_time": "2022-11-19T13:46:46.132Z"
      },
      {
        "duration": 211,
        "start_time": "2022-11-19T13:46:46.148Z"
      },
      {
        "duration": 205,
        "start_time": "2022-11-19T13:46:46.361Z"
      },
      {
        "duration": 114,
        "start_time": "2022-11-19T13:46:46.568Z"
      },
      {
        "duration": 212,
        "start_time": "2022-11-19T13:46:46.685Z"
      },
      {
        "duration": 103,
        "start_time": "2022-11-19T13:46:46.899Z"
      },
      {
        "duration": 112,
        "start_time": "2022-11-19T13:46:47.003Z"
      },
      {
        "duration": 76,
        "start_time": "2022-11-19T13:46:47.116Z"
      },
      {
        "duration": 74,
        "start_time": "2022-11-19T13:46:47.193Z"
      },
      {
        "duration": 80,
        "start_time": "2022-11-19T13:46:47.272Z"
      },
      {
        "duration": 842,
        "start_time": "2022-11-19T13:46:47.354Z"
      },
      {
        "duration": 46,
        "start_time": "2022-11-19T13:46:48.197Z"
      },
      {
        "duration": 86,
        "start_time": "2022-11-19T13:46:48.244Z"
      },
      {
        "duration": 5,
        "start_time": "2022-11-19T13:46:48.332Z"
      },
      {
        "duration": 12,
        "start_time": "2022-11-19T13:46:48.339Z"
      },
      {
        "duration": 6,
        "start_time": "2022-11-19T13:46:48.353Z"
      },
      {
        "duration": 6,
        "start_time": "2022-11-19T13:46:48.360Z"
      },
      {
        "duration": 6,
        "start_time": "2022-11-19T13:46:48.367Z"
      },
      {
        "duration": 8,
        "start_time": "2022-11-19T13:46:48.375Z"
      },
      {
        "duration": 42,
        "start_time": "2022-11-19T13:46:48.385Z"
      },
      {
        "duration": 16,
        "start_time": "2022-11-19T13:46:48.429Z"
      },
      {
        "duration": 4,
        "start_time": "2022-11-19T13:46:48.446Z"
      },
      {
        "duration": 3074,
        "start_time": "2022-11-19T13:46:48.452Z"
      },
      {
        "duration": 17,
        "start_time": "2022-11-19T13:46:51.528Z"
      },
      {
        "duration": 76,
        "start_time": "2022-11-19T13:46:51.547Z"
      },
      {
        "duration": 16522,
        "start_time": "2022-11-19T13:46:51.625Z"
      },
      {
        "duration": 80,
        "start_time": "2022-11-19T13:47:08.149Z"
      },
      {
        "duration": 27,
        "start_time": "2022-11-19T13:47:08.231Z"
      },
      {
        "duration": 12,
        "start_time": "2022-11-19T13:47:08.259Z"
      },
      {
        "duration": 10,
        "start_time": "2022-11-19T13:47:08.272Z"
      },
      {
        "duration": 45,
        "start_time": "2022-11-19T13:47:08.284Z"
      },
      {
        "duration": 3893,
        "start_time": "2022-11-19T13:47:08.330Z"
      },
      {
        "duration": 158,
        "start_time": "2022-11-19T13:47:12.225Z"
      },
      {
        "duration": 27892,
        "start_time": "2022-11-19T13:47:12.385Z"
      },
      {
        "duration": 129,
        "start_time": "2022-11-19T13:47:40.279Z"
      },
      {
        "duration": 4,
        "start_time": "2022-11-19T13:47:40.410Z"
      },
      {
        "duration": 18,
        "start_time": "2022-11-19T13:47:40.415Z"
      },
      {
        "duration": 5,
        "start_time": "2022-11-19T13:47:40.434Z"
      },
      {
        "duration": 25,
        "start_time": "2022-11-19T13:47:40.441Z"
      },
      {
        "duration": 5,
        "start_time": "2022-11-19T13:47:40.467Z"
      },
      {
        "duration": 3349,
        "start_time": "2022-11-19T13:47:40.474Z"
      },
      {
        "duration": 200,
        "start_time": "2022-11-19T13:47:43.825Z"
      },
      {
        "duration": 3,
        "start_time": "2022-11-19T13:47:44.027Z"
      },
      {
        "duration": 17307,
        "start_time": "2022-11-19T13:47:44.031Z"
      },
      {
        "duration": 175,
        "start_time": "2022-11-19T13:48:01.339Z"
      },
      {
        "duration": 169,
        "start_time": "2022-11-19T13:48:17.703Z"
      },
      {
        "duration": 4,
        "start_time": "2022-11-19T13:52:11.067Z"
      },
      {
        "duration": 7,
        "start_time": "2022-11-19T13:52:11.073Z"
      },
      {
        "duration": 46,
        "start_time": "2022-11-19T13:52:11.081Z"
      },
      {
        "duration": 21,
        "start_time": "2022-11-19T13:52:11.130Z"
      },
      {
        "duration": 7,
        "start_time": "2022-11-19T13:52:11.153Z"
      },
      {
        "duration": 984,
        "start_time": "2022-11-19T13:52:11.162Z"
      },
      {
        "duration": 27,
        "start_time": "2022-11-19T13:52:12.148Z"
      },
      {
        "duration": 9,
        "start_time": "2022-11-19T13:52:12.177Z"
      },
      {
        "duration": 68,
        "start_time": "2022-11-19T13:52:12.188Z"
      },
      {
        "duration": 13,
        "start_time": "2022-11-19T13:52:12.259Z"
      },
      {
        "duration": 5,
        "start_time": "2022-11-19T13:52:12.273Z"
      },
      {
        "duration": 7,
        "start_time": "2022-11-19T13:52:12.280Z"
      },
      {
        "duration": 336,
        "start_time": "2022-11-19T13:52:12.288Z"
      },
      {
        "duration": 109,
        "start_time": "2022-11-19T13:52:12.626Z"
      },
      {
        "duration": 85,
        "start_time": "2022-11-19T13:52:12.737Z"
      },
      {
        "duration": 17,
        "start_time": "2022-11-19T13:52:12.824Z"
      },
      {
        "duration": 81,
        "start_time": "2022-11-19T13:52:12.843Z"
      },
      {
        "duration": 7,
        "start_time": "2022-11-19T13:52:12.925Z"
      },
      {
        "duration": 7,
        "start_time": "2022-11-19T13:52:12.934Z"
      },
      {
        "duration": 130,
        "start_time": "2022-11-19T13:52:12.943Z"
      },
      {
        "duration": 211,
        "start_time": "2022-11-19T13:52:13.074Z"
      },
      {
        "duration": 115,
        "start_time": "2022-11-19T13:52:13.286Z"
      },
      {
        "duration": 213,
        "start_time": "2022-11-19T13:52:13.404Z"
      },
      {
        "duration": 103,
        "start_time": "2022-11-19T13:52:13.622Z"
      },
      {
        "duration": 124,
        "start_time": "2022-11-19T13:52:13.727Z"
      },
      {
        "duration": 90,
        "start_time": "2022-11-19T13:52:13.853Z"
      },
      {
        "duration": 216,
        "start_time": "2022-11-19T13:52:13.945Z"
      },
      {
        "duration": 97,
        "start_time": "2022-11-19T13:52:14.166Z"
      },
      {
        "duration": 771,
        "start_time": "2022-11-19T13:52:14.265Z"
      },
      {
        "duration": 46,
        "start_time": "2022-11-19T13:52:15.037Z"
      },
      {
        "duration": 89,
        "start_time": "2022-11-19T13:52:15.085Z"
      },
      {
        "duration": 6,
        "start_time": "2022-11-19T13:52:15.176Z"
      },
      {
        "duration": 15,
        "start_time": "2022-11-19T13:52:15.183Z"
      },
      {
        "duration": 22,
        "start_time": "2022-11-19T13:52:15.200Z"
      },
      {
        "duration": 5,
        "start_time": "2022-11-19T13:52:15.224Z"
      },
      {
        "duration": 13,
        "start_time": "2022-11-19T13:52:15.231Z"
      },
      {
        "duration": 6,
        "start_time": "2022-11-19T13:52:15.246Z"
      },
      {
        "duration": 15,
        "start_time": "2022-11-19T13:52:15.253Z"
      },
      {
        "duration": 34,
        "start_time": "2022-11-19T13:52:15.270Z"
      },
      {
        "duration": 6,
        "start_time": "2022-11-19T13:52:15.306Z"
      },
      {
        "duration": 2902,
        "start_time": "2022-11-19T13:52:15.321Z"
      },
      {
        "duration": 101,
        "start_time": "2022-11-19T13:52:18.225Z"
      },
      {
        "duration": 24,
        "start_time": "2022-11-19T13:52:18.328Z"
      },
      {
        "duration": 16883,
        "start_time": "2022-11-19T13:52:18.354Z"
      },
      {
        "duration": 83,
        "start_time": "2022-11-19T13:52:35.240Z"
      },
      {
        "duration": 32,
        "start_time": "2022-11-19T13:52:35.325Z"
      },
      {
        "duration": 12,
        "start_time": "2022-11-19T13:52:35.359Z"
      },
      {
        "duration": 8,
        "start_time": "2022-11-19T13:52:35.373Z"
      },
      {
        "duration": 46,
        "start_time": "2022-11-19T13:52:35.383Z"
      },
      {
        "duration": 3892,
        "start_time": "2022-11-19T13:52:35.431Z"
      },
      {
        "duration": 153,
        "start_time": "2022-11-19T13:52:39.325Z"
      },
      {
        "duration": 27989,
        "start_time": "2022-11-19T13:52:39.480Z"
      },
      {
        "duration": 140,
        "start_time": "2022-11-19T13:53:07.471Z"
      },
      {
        "duration": 3,
        "start_time": "2022-11-19T13:53:07.613Z"
      },
      {
        "duration": 11,
        "start_time": "2022-11-19T13:53:07.622Z"
      },
      {
        "duration": 32,
        "start_time": "2022-11-19T13:53:07.635Z"
      },
      {
        "duration": 15,
        "start_time": "2022-11-19T13:53:07.668Z"
      },
      {
        "duration": 8,
        "start_time": "2022-11-19T13:53:07.685Z"
      },
      {
        "duration": 3229,
        "start_time": "2022-11-19T13:53:07.695Z"
      },
      {
        "duration": 227,
        "start_time": "2022-11-19T13:53:10.926Z"
      },
      {
        "duration": 4,
        "start_time": "2022-11-19T13:53:11.154Z"
      },
      {
        "duration": 17613,
        "start_time": "2022-11-19T13:53:11.160Z"
      },
      {
        "duration": 229,
        "start_time": "2022-11-19T13:53:28.775Z"
      },
      {
        "duration": 188,
        "start_time": "2022-11-19T13:53:29.005Z"
      },
      {
        "duration": 3,
        "start_time": "2022-11-19T13:56:20.674Z"
      },
      {
        "duration": 461,
        "start_time": "2022-11-19T14:03:22.420Z"
      },
      {
        "duration": 442,
        "start_time": "2022-11-19T14:03:56.582Z"
      },
      {
        "duration": 447,
        "start_time": "2022-11-19T14:04:09.675Z"
      },
      {
        "duration": 447,
        "start_time": "2022-11-19T14:06:38.676Z"
      },
      {
        "duration": 5,
        "start_time": "2022-11-19T14:09:17.650Z"
      },
      {
        "duration": 11,
        "start_time": "2022-11-19T14:09:17.657Z"
      },
      {
        "duration": 45,
        "start_time": "2022-11-19T14:09:17.669Z"
      },
      {
        "duration": 25,
        "start_time": "2022-11-19T14:09:17.716Z"
      },
      {
        "duration": 9,
        "start_time": "2022-11-19T14:09:17.743Z"
      },
      {
        "duration": 1160,
        "start_time": "2022-11-19T14:09:17.754Z"
      },
      {
        "duration": 26,
        "start_time": "2022-11-19T14:09:18.916Z"
      },
      {
        "duration": 18,
        "start_time": "2022-11-19T14:09:18.944Z"
      },
      {
        "duration": 60,
        "start_time": "2022-11-19T14:09:18.965Z"
      },
      {
        "duration": 15,
        "start_time": "2022-11-19T14:09:19.028Z"
      },
      {
        "duration": 6,
        "start_time": "2022-11-19T14:09:19.045Z"
      },
      {
        "duration": 13,
        "start_time": "2022-11-19T14:09:19.052Z"
      },
      {
        "duration": 224,
        "start_time": "2022-11-19T14:09:19.067Z"
      },
      {
        "duration": 116,
        "start_time": "2022-11-19T14:09:19.293Z"
      },
      {
        "duration": 77,
        "start_time": "2022-11-19T14:09:19.410Z"
      },
      {
        "duration": 18,
        "start_time": "2022-11-19T14:09:19.488Z"
      },
      {
        "duration": 66,
        "start_time": "2022-11-19T14:09:19.522Z"
      },
      {
        "duration": 7,
        "start_time": "2022-11-19T14:09:19.590Z"
      },
      {
        "duration": 24,
        "start_time": "2022-11-19T14:09:19.599Z"
      },
      {
        "duration": 126,
        "start_time": "2022-11-19T14:09:19.625Z"
      },
      {
        "duration": 214,
        "start_time": "2022-11-19T14:09:19.753Z"
      },
      {
        "duration": 118,
        "start_time": "2022-11-19T14:09:19.969Z"
      },
      {
        "duration": 206,
        "start_time": "2022-11-19T14:09:20.088Z"
      },
      {
        "duration": 219,
        "start_time": "2022-11-19T14:09:20.295Z"
      },
      {
        "duration": 122,
        "start_time": "2022-11-19T14:09:20.521Z"
      },
      {
        "duration": 99,
        "start_time": "2022-11-19T14:09:20.645Z"
      },
      {
        "duration": 65,
        "start_time": "2022-11-19T14:09:20.745Z"
      },
      {
        "duration": 83,
        "start_time": "2022-11-19T14:09:20.814Z"
      },
      {
        "duration": 949,
        "start_time": "2022-11-19T14:09:20.898Z"
      },
      {
        "duration": 181,
        "start_time": "2022-11-19T14:09:21.849Z"
      },
      {
        "duration": 73,
        "start_time": "2022-11-19T14:09:22.033Z"
      },
      {
        "duration": 19,
        "start_time": "2022-11-19T14:09:22.108Z"
      },
      {
        "duration": 17,
        "start_time": "2022-11-19T14:09:22.129Z"
      },
      {
        "duration": 6,
        "start_time": "2022-11-19T14:09:22.147Z"
      },
      {
        "duration": 7,
        "start_time": "2022-11-19T14:09:22.154Z"
      },
      {
        "duration": 9,
        "start_time": "2022-11-19T14:09:22.163Z"
      },
      {
        "duration": 12,
        "start_time": "2022-11-19T14:09:22.173Z"
      },
      {
        "duration": 20,
        "start_time": "2022-11-19T14:09:22.187Z"
      },
      {
        "duration": 25,
        "start_time": "2022-11-19T14:09:22.209Z"
      },
      {
        "duration": 4,
        "start_time": "2022-11-19T14:09:22.236Z"
      },
      {
        "duration": 3080,
        "start_time": "2022-11-19T14:09:22.242Z"
      },
      {
        "duration": 107,
        "start_time": "2022-11-19T14:09:25.329Z"
      },
      {
        "duration": 8,
        "start_time": "2022-11-19T14:09:25.438Z"
      },
      {
        "duration": 28777,
        "start_time": "2022-11-19T14:09:25.448Z"
      },
      {
        "duration": 73,
        "start_time": "2022-11-19T14:09:54.227Z"
      },
      {
        "duration": 44,
        "start_time": "2022-11-19T14:09:54.302Z"
      },
      {
        "duration": 10,
        "start_time": "2022-11-19T14:09:54.348Z"
      },
      {
        "duration": 13,
        "start_time": "2022-11-19T14:09:54.360Z"
      },
      {
        "duration": 27,
        "start_time": "2022-11-19T14:09:54.375Z"
      },
      {
        "duration": 3725,
        "start_time": "2022-11-19T14:09:54.404Z"
      },
      {
        "duration": 140,
        "start_time": "2022-11-19T14:09:58.133Z"
      },
      {
        "duration": 49090,
        "start_time": "2022-11-19T14:09:58.275Z"
      },
      {
        "duration": 132,
        "start_time": "2022-11-19T14:10:47.367Z"
      },
      {
        "duration": 4,
        "start_time": "2022-11-19T14:10:47.501Z"
      },
      {
        "duration": 26,
        "start_time": "2022-11-19T14:10:47.506Z"
      },
      {
        "duration": 8,
        "start_time": "2022-11-19T14:10:47.533Z"
      },
      {
        "duration": 17,
        "start_time": "2022-11-19T14:10:47.542Z"
      },
      {
        "duration": 5,
        "start_time": "2022-11-19T14:10:47.561Z"
      },
      {
        "duration": 3156,
        "start_time": "2022-11-19T14:10:47.568Z"
      },
      {
        "duration": 206,
        "start_time": "2022-11-19T14:10:50.726Z"
      },
      {
        "duration": 3,
        "start_time": "2022-11-19T14:10:50.934Z"
      },
      {
        "duration": 29966,
        "start_time": "2022-11-19T14:10:50.939Z"
      },
      {
        "duration": 227,
        "start_time": "2022-11-19T14:11:20.907Z"
      },
      {
        "duration": 296,
        "start_time": "2022-11-19T14:11:21.136Z"
      },
      {
        "duration": 566,
        "start_time": "2022-11-19T14:12:07.779Z"
      },
      {
        "duration": 4,
        "start_time": "2022-11-19T14:12:53.680Z"
      },
      {
        "duration": 4,
        "start_time": "2022-11-19T14:14:18.325Z"
      },
      {
        "duration": 6,
        "start_time": "2022-11-19T14:14:18.331Z"
      },
      {
        "duration": 43,
        "start_time": "2022-11-19T14:14:18.339Z"
      },
      {
        "duration": 21,
        "start_time": "2022-11-19T14:14:18.384Z"
      },
      {
        "duration": 17,
        "start_time": "2022-11-19T14:14:18.406Z"
      },
      {
        "duration": 922,
        "start_time": "2022-11-19T14:14:18.424Z"
      },
      {
        "duration": 21,
        "start_time": "2022-11-19T14:14:19.348Z"
      },
      {
        "duration": 7,
        "start_time": "2022-11-19T14:14:19.371Z"
      },
      {
        "duration": 52,
        "start_time": "2022-11-19T14:14:19.381Z"
      },
      {
        "duration": 17,
        "start_time": "2022-11-19T14:14:19.434Z"
      },
      {
        "duration": 5,
        "start_time": "2022-11-19T14:14:19.453Z"
      },
      {
        "duration": 11,
        "start_time": "2022-11-19T14:14:19.460Z"
      },
      {
        "duration": 208,
        "start_time": "2022-11-19T14:14:19.472Z"
      },
      {
        "duration": 110,
        "start_time": "2022-11-19T14:14:19.681Z"
      },
      {
        "duration": 91,
        "start_time": "2022-11-19T14:14:19.792Z"
      },
      {
        "duration": 19,
        "start_time": "2022-11-19T14:14:19.885Z"
      },
      {
        "duration": 92,
        "start_time": "2022-11-19T14:14:19.905Z"
      },
      {
        "duration": 7,
        "start_time": "2022-11-19T14:14:19.999Z"
      },
      {
        "duration": 5,
        "start_time": "2022-11-19T14:14:20.022Z"
      },
      {
        "duration": 124,
        "start_time": "2022-11-19T14:14:20.028Z"
      },
      {
        "duration": 210,
        "start_time": "2022-11-19T14:14:20.154Z"
      },
      {
        "duration": 112,
        "start_time": "2022-11-19T14:14:20.366Z"
      },
      {
        "duration": 333,
        "start_time": "2022-11-19T14:14:20.480Z"
      },
      {
        "duration": 102,
        "start_time": "2022-11-19T14:14:20.824Z"
      },
      {
        "duration": 112,
        "start_time": "2022-11-19T14:14:20.927Z"
      },
      {
        "duration": 84,
        "start_time": "2022-11-19T14:14:21.041Z"
      },
      {
        "duration": 64,
        "start_time": "2022-11-19T14:14:21.126Z"
      },
      {
        "duration": 80,
        "start_time": "2022-11-19T14:14:21.192Z"
      },
      {
        "duration": 885,
        "start_time": "2022-11-19T14:14:21.274Z"
      },
      {
        "duration": 43,
        "start_time": "2022-11-19T14:14:22.161Z"
      },
      {
        "duration": 83,
        "start_time": "2022-11-19T14:14:22.206Z"
      },
      {
        "duration": 7,
        "start_time": "2022-11-19T14:14:22.291Z"
      },
      {
        "duration": 13,
        "start_time": "2022-11-19T14:14:22.322Z"
      },
      {
        "duration": 5,
        "start_time": "2022-11-19T14:14:22.337Z"
      },
      {
        "duration": 6,
        "start_time": "2022-11-19T14:14:22.344Z"
      },
      {
        "duration": 5,
        "start_time": "2022-11-19T14:14:22.351Z"
      },
      {
        "duration": 5,
        "start_time": "2022-11-19T14:14:22.358Z"
      },
      {
        "duration": 13,
        "start_time": "2022-11-19T14:14:22.364Z"
      },
      {
        "duration": 44,
        "start_time": "2022-11-19T14:14:22.378Z"
      },
      {
        "duration": 5,
        "start_time": "2022-11-19T14:14:22.424Z"
      },
      {
        "duration": 2892,
        "start_time": "2022-11-19T14:14:22.430Z"
      },
      {
        "duration": 109,
        "start_time": "2022-11-19T14:14:25.325Z"
      },
      {
        "duration": 37,
        "start_time": "2022-11-19T14:14:25.435Z"
      },
      {
        "duration": 30630,
        "start_time": "2022-11-19T14:14:25.474Z"
      },
      {
        "duration": 78,
        "start_time": "2022-11-19T14:14:56.106Z"
      },
      {
        "duration": 41,
        "start_time": "2022-11-19T14:14:56.186Z"
      },
      {
        "duration": 11,
        "start_time": "2022-11-19T14:14:56.229Z"
      },
      {
        "duration": 10,
        "start_time": "2022-11-19T14:14:56.242Z"
      },
      {
        "duration": 40,
        "start_time": "2022-11-19T14:14:56.254Z"
      },
      {
        "duration": 3628,
        "start_time": "2022-11-19T14:14:56.295Z"
      },
      {
        "duration": 157,
        "start_time": "2022-11-19T14:14:59.926Z"
      },
      {
        "duration": 52031,
        "start_time": "2022-11-19T14:15:00.085Z"
      },
      {
        "duration": 128,
        "start_time": "2022-11-19T14:15:52.117Z"
      },
      {
        "duration": 3,
        "start_time": "2022-11-19T14:15:52.247Z"
      },
      {
        "duration": 15,
        "start_time": "2022-11-19T14:15:52.251Z"
      },
      {
        "duration": 9,
        "start_time": "2022-11-19T14:15:52.268Z"
      },
      {
        "duration": 18,
        "start_time": "2022-11-19T14:15:52.279Z"
      },
      {
        "duration": 24,
        "start_time": "2022-11-19T14:15:52.299Z"
      },
      {
        "duration": 3298,
        "start_time": "2022-11-19T14:15:52.325Z"
      },
      {
        "duration": 234,
        "start_time": "2022-11-19T14:15:55.627Z"
      },
      {
        "duration": 4,
        "start_time": "2022-11-19T14:15:55.865Z"
      },
      {
        "duration": 32976,
        "start_time": "2022-11-19T14:15:55.871Z"
      },
      {
        "duration": 181,
        "start_time": "2022-11-19T14:16:28.849Z"
      },
      {
        "duration": 177,
        "start_time": "2022-11-19T14:16:29.032Z"
      },
      {
        "duration": 622,
        "start_time": "2022-11-19T14:16:29.211Z"
      },
      {
        "duration": 88,
        "start_time": "2022-11-19T14:24:35.335Z"
      },
      {
        "duration": 631,
        "start_time": "2022-11-19T14:31:12.098Z"
      },
      {
        "duration": 702,
        "start_time": "2022-11-19T14:31:31.737Z"
      },
      {
        "duration": 4,
        "start_time": "2022-11-19T14:32:07.287Z"
      },
      {
        "duration": 5,
        "start_time": "2022-11-19T14:32:11.073Z"
      },
      {
        "duration": 651,
        "start_time": "2022-11-19T14:32:40.845Z"
      },
      {
        "duration": 5,
        "start_time": "2022-11-19T14:40:15.777Z"
      },
      {
        "duration": 10,
        "start_time": "2022-11-19T14:40:15.785Z"
      },
      {
        "duration": 56,
        "start_time": "2022-11-19T14:40:15.798Z"
      },
      {
        "duration": 25,
        "start_time": "2022-11-19T14:40:15.856Z"
      },
      {
        "duration": 24,
        "start_time": "2022-11-19T14:40:15.883Z"
      },
      {
        "duration": 1084,
        "start_time": "2022-11-19T14:40:15.921Z"
      },
      {
        "duration": 21,
        "start_time": "2022-11-19T14:40:17.007Z"
      },
      {
        "duration": 10,
        "start_time": "2022-11-19T14:40:17.029Z"
      },
      {
        "duration": 48,
        "start_time": "2022-11-19T14:40:17.041Z"
      },
      {
        "duration": 12,
        "start_time": "2022-11-19T14:40:17.091Z"
      },
      {
        "duration": 5,
        "start_time": "2022-11-19T14:40:17.124Z"
      },
      {
        "duration": 6,
        "start_time": "2022-11-19T14:40:17.130Z"
      },
      {
        "duration": 217,
        "start_time": "2022-11-19T14:40:17.137Z"
      },
      {
        "duration": 112,
        "start_time": "2022-11-19T14:40:17.356Z"
      },
      {
        "duration": 90,
        "start_time": "2022-11-19T14:40:17.469Z"
      },
      {
        "duration": 19,
        "start_time": "2022-11-19T14:40:17.561Z"
      },
      {
        "duration": 91,
        "start_time": "2022-11-19T14:40:17.582Z"
      },
      {
        "duration": 10,
        "start_time": "2022-11-19T14:40:17.675Z"
      },
      {
        "duration": 6,
        "start_time": "2022-11-19T14:40:17.687Z"
      },
      {
        "duration": 139,
        "start_time": "2022-11-19T14:40:17.694Z"
      },
      {
        "duration": 228,
        "start_time": "2022-11-19T14:40:17.835Z"
      },
      {
        "duration": 289,
        "start_time": "2022-11-19T14:40:18.065Z"
      },
      {
        "duration": 227,
        "start_time": "2022-11-19T14:40:18.356Z"
      },
      {
        "duration": 119,
        "start_time": "2022-11-19T14:40:18.585Z"
      },
      {
        "duration": 118,
        "start_time": "2022-11-19T14:40:18.706Z"
      },
      {
        "duration": 76,
        "start_time": "2022-11-19T14:40:18.826Z"
      },
      {
        "duration": 85,
        "start_time": "2022-11-19T14:40:18.903Z"
      },
      {
        "duration": 87,
        "start_time": "2022-11-19T14:40:18.991Z"
      },
      {
        "duration": 956,
        "start_time": "2022-11-19T14:40:19.082Z"
      },
      {
        "duration": 48,
        "start_time": "2022-11-19T14:40:20.040Z"
      },
      {
        "duration": 89,
        "start_time": "2022-11-19T14:40:20.089Z"
      },
      {
        "duration": 6,
        "start_time": "2022-11-19T14:40:20.180Z"
      },
      {
        "duration": 12,
        "start_time": "2022-11-19T14:40:20.188Z"
      },
      {
        "duration": 6,
        "start_time": "2022-11-19T14:40:20.222Z"
      },
      {
        "duration": 6,
        "start_time": "2022-11-19T14:40:20.230Z"
      },
      {
        "duration": 7,
        "start_time": "2022-11-19T14:40:20.238Z"
      },
      {
        "duration": 5,
        "start_time": "2022-11-19T14:40:20.247Z"
      },
      {
        "duration": 15,
        "start_time": "2022-11-19T14:40:20.254Z"
      },
      {
        "duration": 32,
        "start_time": "2022-11-19T14:40:20.273Z"
      },
      {
        "duration": 15,
        "start_time": "2022-11-19T14:40:20.307Z"
      },
      {
        "duration": 2900,
        "start_time": "2022-11-19T14:40:20.323Z"
      },
      {
        "duration": 100,
        "start_time": "2022-11-19T14:40:23.227Z"
      },
      {
        "duration": 5,
        "start_time": "2022-11-19T14:40:23.329Z"
      },
      {
        "duration": 31859,
        "start_time": "2022-11-19T14:40:23.336Z"
      },
      {
        "duration": 77,
        "start_time": "2022-11-19T14:40:55.197Z"
      },
      {
        "duration": 28,
        "start_time": "2022-11-19T14:40:55.276Z"
      },
      {
        "duration": 28,
        "start_time": "2022-11-19T14:40:55.305Z"
      },
      {
        "duration": 14,
        "start_time": "2022-11-19T14:40:55.336Z"
      },
      {
        "duration": 29,
        "start_time": "2022-11-19T14:40:55.351Z"
      },
      {
        "duration": 3941,
        "start_time": "2022-11-19T14:40:55.382Z"
      },
      {
        "duration": 156,
        "start_time": "2022-11-19T14:40:59.328Z"
      },
      {
        "duration": 53343,
        "start_time": "2022-11-19T14:40:59.485Z"
      },
      {
        "duration": 132,
        "start_time": "2022-11-19T14:41:52.830Z"
      },
      {
        "duration": 3,
        "start_time": "2022-11-19T14:41:52.963Z"
      },
      {
        "duration": 22,
        "start_time": "2022-11-19T14:41:52.968Z"
      },
      {
        "duration": 16,
        "start_time": "2022-11-19T14:41:52.991Z"
      },
      {
        "duration": 29,
        "start_time": "2022-11-19T14:41:53.009Z"
      },
      {
        "duration": 15,
        "start_time": "2022-11-19T14:41:53.040Z"
      },
      {
        "duration": 3268,
        "start_time": "2022-11-19T14:41:53.057Z"
      },
      {
        "duration": 231,
        "start_time": "2022-11-19T14:41:56.327Z"
      },
      {
        "duration": 3,
        "start_time": "2022-11-19T14:41:56.560Z"
      },
      {
        "duration": 33551,
        "start_time": "2022-11-19T14:41:56.564Z"
      },
      {
        "duration": 228,
        "start_time": "2022-11-19T14:42:30.121Z"
      },
      {
        "duration": 198,
        "start_time": "2022-11-19T14:42:30.351Z"
      },
      {
        "duration": 700,
        "start_time": "2022-11-19T14:42:30.551Z"
      },
      {
        "duration": 1238,
        "start_time": "2022-11-20T09:54:52.624Z"
      },
      {
        "duration": 2,
        "start_time": "2022-11-20T09:54:53.864Z"
      },
      {
        "duration": 62,
        "start_time": "2022-11-20T09:54:53.868Z"
      },
      {
        "duration": 21,
        "start_time": "2022-11-20T09:54:53.932Z"
      },
      {
        "duration": 6,
        "start_time": "2022-11-20T09:54:53.955Z"
      },
      {
        "duration": 1290,
        "start_time": "2022-11-20T09:54:53.963Z"
      },
      {
        "duration": 18,
        "start_time": "2022-11-20T09:54:55.255Z"
      },
      {
        "duration": 6,
        "start_time": "2022-11-20T09:54:55.275Z"
      },
      {
        "duration": 37,
        "start_time": "2022-11-20T09:54:55.283Z"
      },
      {
        "duration": 12,
        "start_time": "2022-11-20T09:54:55.323Z"
      },
      {
        "duration": 4,
        "start_time": "2022-11-20T09:54:55.337Z"
      },
      {
        "duration": 4,
        "start_time": "2022-11-20T09:54:55.343Z"
      },
      {
        "duration": 211,
        "start_time": "2022-11-20T09:54:55.349Z"
      },
      {
        "duration": 102,
        "start_time": "2022-11-20T09:54:55.562Z"
      },
      {
        "duration": 72,
        "start_time": "2022-11-20T09:54:55.666Z"
      },
      {
        "duration": 19,
        "start_time": "2022-11-20T09:54:55.739Z"
      },
      {
        "duration": 71,
        "start_time": "2022-11-20T09:54:55.759Z"
      },
      {
        "duration": 6,
        "start_time": "2022-11-20T09:54:55.832Z"
      },
      {
        "duration": 6,
        "start_time": "2022-11-20T09:54:55.839Z"
      },
      {
        "duration": 114,
        "start_time": "2022-11-20T09:54:55.846Z"
      },
      {
        "duration": 253,
        "start_time": "2022-11-20T09:54:55.962Z"
      },
      {
        "duration": 97,
        "start_time": "2022-11-20T09:54:56.217Z"
      },
      {
        "duration": 202,
        "start_time": "2022-11-20T09:54:56.316Z"
      },
      {
        "duration": 103,
        "start_time": "2022-11-20T09:54:56.519Z"
      },
      {
        "duration": 101,
        "start_time": "2022-11-20T09:54:56.624Z"
      },
      {
        "duration": 86,
        "start_time": "2022-11-20T09:54:56.727Z"
      },
      {
        "duration": 64,
        "start_time": "2022-11-20T09:54:56.815Z"
      },
      {
        "duration": 87,
        "start_time": "2022-11-20T09:54:56.882Z"
      },
      {
        "duration": 749,
        "start_time": "2022-11-20T09:54:56.971Z"
      },
      {
        "duration": 70,
        "start_time": "2022-11-20T09:54:57.722Z"
      },
      {
        "duration": 74,
        "start_time": "2022-11-20T09:54:57.793Z"
      },
      {
        "duration": 5,
        "start_time": "2022-11-20T09:54:57.869Z"
      },
      {
        "duration": 12,
        "start_time": "2022-11-20T09:54:57.875Z"
      },
      {
        "duration": 6,
        "start_time": "2022-11-20T09:54:57.888Z"
      },
      {
        "duration": 19,
        "start_time": "2022-11-20T09:54:57.895Z"
      },
      {
        "duration": 9,
        "start_time": "2022-11-20T09:54:57.916Z"
      },
      {
        "duration": 6,
        "start_time": "2022-11-20T09:54:57.927Z"
      },
      {
        "duration": 16,
        "start_time": "2022-11-20T09:54:57.936Z"
      },
      {
        "duration": 16,
        "start_time": "2022-11-20T09:54:57.954Z"
      },
      {
        "duration": 3,
        "start_time": "2022-11-20T09:54:57.972Z"
      },
      {
        "duration": 2937,
        "start_time": "2022-11-20T09:54:57.977Z"
      },
      {
        "duration": 102,
        "start_time": "2022-11-20T09:55:00.916Z"
      },
      {
        "duration": 4,
        "start_time": "2022-11-20T09:55:01.020Z"
      },
      {
        "duration": 28496,
        "start_time": "2022-11-20T09:55:01.026Z"
      },
      {
        "duration": 53,
        "start_time": "2022-11-20T09:55:29.523Z"
      },
      {
        "duration": 36,
        "start_time": "2022-11-20T09:55:29.578Z"
      },
      {
        "duration": 10,
        "start_time": "2022-11-20T09:55:29.616Z"
      },
      {
        "duration": 4,
        "start_time": "2022-11-20T09:55:29.627Z"
      },
      {
        "duration": 18,
        "start_time": "2022-11-20T09:55:29.633Z"
      },
      {
        "duration": 4062,
        "start_time": "2022-11-20T09:55:29.652Z"
      },
      {
        "duration": 140,
        "start_time": "2022-11-20T09:55:33.717Z"
      },
      {
        "duration": 46493,
        "start_time": "2022-11-20T09:55:33.858Z"
      },
      {
        "duration": 110,
        "start_time": "2022-11-20T09:56:20.352Z"
      },
      {
        "duration": 3,
        "start_time": "2022-11-20T09:56:20.463Z"
      },
      {
        "duration": 18,
        "start_time": "2022-11-20T09:56:20.468Z"
      },
      {
        "duration": 19,
        "start_time": "2022-11-20T09:56:20.488Z"
      },
      {
        "duration": 15,
        "start_time": "2022-11-20T09:56:20.513Z"
      },
      {
        "duration": 4,
        "start_time": "2022-11-20T09:56:20.530Z"
      },
      {
        "duration": 3081,
        "start_time": "2022-11-20T09:56:20.536Z"
      },
      {
        "duration": 189,
        "start_time": "2022-11-20T09:56:23.619Z"
      },
      {
        "duration": 3,
        "start_time": "2022-11-20T09:56:23.813Z"
      },
      {
        "duration": 29360,
        "start_time": "2022-11-20T09:56:23.818Z"
      },
      {
        "duration": 139,
        "start_time": "2022-11-20T09:56:53.180Z"
      },
      {
        "duration": 135,
        "start_time": "2022-11-20T09:56:53.321Z"
      },
      {
        "duration": 613,
        "start_time": "2022-11-20T09:56:53.458Z"
      },
      {
        "duration": 84,
        "start_time": "2022-11-20T12:56:51.331Z"
      },
      {
        "duration": 1377,
        "start_time": "2022-11-20T12:57:18.703Z"
      },
      {
        "duration": 3,
        "start_time": "2022-11-20T12:57:20.082Z"
      },
      {
        "duration": 81,
        "start_time": "2022-11-20T12:57:20.086Z"
      },
      {
        "duration": 22,
        "start_time": "2022-11-20T12:57:20.168Z"
      },
      {
        "duration": 6,
        "start_time": "2022-11-20T12:57:20.192Z"
      },
      {
        "duration": 1077,
        "start_time": "2022-11-20T12:57:20.199Z"
      },
      {
        "duration": 18,
        "start_time": "2022-11-20T12:57:21.278Z"
      },
      {
        "duration": 14,
        "start_time": "2022-11-20T12:57:21.297Z"
      },
      {
        "duration": 42,
        "start_time": "2022-11-20T12:57:21.312Z"
      },
      {
        "duration": 10,
        "start_time": "2022-11-20T12:57:21.356Z"
      },
      {
        "duration": 3,
        "start_time": "2022-11-20T12:57:21.376Z"
      },
      {
        "duration": 14,
        "start_time": "2022-11-20T12:57:21.381Z"
      },
      {
        "duration": 299,
        "start_time": "2022-11-20T13:00:11.994Z"
      },
      {
        "duration": 187,
        "start_time": "2022-11-20T13:00:15.994Z"
      },
      {
        "duration": 251,
        "start_time": "2022-11-20T13:02:53.279Z"
      },
      {
        "duration": 192,
        "start_time": "2022-11-20T13:03:21.021Z"
      },
      {
        "duration": 173,
        "start_time": "2022-11-20T13:03:29.397Z"
      },
      {
        "duration": 184,
        "start_time": "2022-11-20T13:03:48.855Z"
      },
      {
        "duration": 165,
        "start_time": "2022-11-20T13:05:44.165Z"
      },
      {
        "duration": 184,
        "start_time": "2022-11-20T13:06:23.030Z"
      },
      {
        "duration": 178,
        "start_time": "2022-11-20T13:08:32.820Z"
      },
      {
        "duration": 186,
        "start_time": "2022-11-20T13:09:19.576Z"
      },
      {
        "duration": 185,
        "start_time": "2022-11-20T13:09:54.995Z"
      },
      {
        "duration": 171,
        "start_time": "2022-11-20T13:10:09.293Z"
      },
      {
        "duration": 179,
        "start_time": "2022-11-20T13:10:24.405Z"
      },
      {
        "duration": 309,
        "start_time": "2022-11-20T13:11:13.045Z"
      },
      {
        "duration": 191,
        "start_time": "2022-11-20T13:14:01.302Z"
      },
      {
        "duration": 198,
        "start_time": "2022-11-20T13:14:08.307Z"
      },
      {
        "duration": 179,
        "start_time": "2022-11-20T13:14:56.401Z"
      },
      {
        "duration": 196,
        "start_time": "2022-11-20T13:15:16.037Z"
      },
      {
        "duration": 201,
        "start_time": "2022-11-20T13:15:30.507Z"
      },
      {
        "duration": 902,
        "start_time": "2022-11-20T13:17:03.609Z"
      },
      {
        "duration": 6,
        "start_time": "2022-11-20T13:19:49.993Z"
      },
      {
        "duration": 58,
        "start_time": "2022-11-20T13:20:56.811Z"
      },
      {
        "duration": 50,
        "start_time": "2022-11-20T13:22:18.379Z"
      },
      {
        "duration": 4,
        "start_time": "2022-11-20T13:25:45.094Z"
      },
      {
        "duration": 60,
        "start_time": "2022-11-20T13:25:45.100Z"
      },
      {
        "duration": 87,
        "start_time": "2022-11-20T13:25:45.161Z"
      },
      {
        "duration": 20,
        "start_time": "2022-11-20T13:25:45.251Z"
      },
      {
        "duration": 37,
        "start_time": "2022-11-20T13:25:45.272Z"
      },
      {
        "duration": 1183,
        "start_time": "2022-11-20T13:25:45.311Z"
      },
      {
        "duration": 19,
        "start_time": "2022-11-20T13:25:46.496Z"
      },
      {
        "duration": 33,
        "start_time": "2022-11-20T13:25:46.517Z"
      },
      {
        "duration": 47,
        "start_time": "2022-11-20T13:25:46.554Z"
      },
      {
        "duration": 12,
        "start_time": "2022-11-20T13:25:46.603Z"
      },
      {
        "duration": 19,
        "start_time": "2022-11-20T13:25:46.617Z"
      },
      {
        "duration": 23,
        "start_time": "2022-11-20T13:25:46.638Z"
      },
      {
        "duration": 201,
        "start_time": "2022-11-20T13:25:46.663Z"
      },
      {
        "duration": 90,
        "start_time": "2022-11-20T13:25:46.866Z"
      },
      {
        "duration": 76,
        "start_time": "2022-11-20T13:25:46.958Z"
      },
      {
        "duration": 17,
        "start_time": "2022-11-20T13:25:47.037Z"
      },
      {
        "duration": 69,
        "start_time": "2022-11-20T13:25:47.055Z"
      },
      {
        "duration": 7,
        "start_time": "2022-11-20T13:25:47.126Z"
      },
      {
        "duration": 12,
        "start_time": "2022-11-20T13:25:47.134Z"
      },
      {
        "duration": 200,
        "start_time": "2022-11-20T13:25:47.147Z"
      },
      {
        "duration": 192,
        "start_time": "2022-11-20T13:25:47.349Z"
      },
      {
        "duration": 102,
        "start_time": "2022-11-20T13:25:47.542Z"
      },
      {
        "duration": 190,
        "start_time": "2022-11-20T13:25:47.646Z"
      },
      {
        "duration": 97,
        "start_time": "2022-11-20T13:25:47.839Z"
      },
      {
        "duration": 106,
        "start_time": "2022-11-20T13:25:47.938Z"
      },
      {
        "duration": 91,
        "start_time": "2022-11-20T13:25:48.046Z"
      },
      {
        "duration": 69,
        "start_time": "2022-11-20T13:25:48.139Z"
      },
      {
        "duration": 69,
        "start_time": "2022-11-20T13:25:48.210Z"
      },
      {
        "duration": 768,
        "start_time": "2022-11-20T13:25:48.281Z"
      },
      {
        "duration": 87,
        "start_time": "2022-11-20T13:25:49.051Z"
      },
      {
        "duration": 81,
        "start_time": "2022-11-20T13:25:49.140Z"
      },
      {
        "duration": 6,
        "start_time": "2022-11-20T13:25:49.223Z"
      },
      {
        "duration": 16,
        "start_time": "2022-11-20T13:25:49.231Z"
      },
      {
        "duration": 7,
        "start_time": "2022-11-20T13:25:49.249Z"
      },
      {
        "duration": 21,
        "start_time": "2022-11-20T13:25:49.257Z"
      },
      {
        "duration": 22,
        "start_time": "2022-11-20T13:25:49.280Z"
      },
      {
        "duration": 6,
        "start_time": "2022-11-20T13:27:01.729Z"
      },
      {
        "duration": 48,
        "start_time": "2022-11-20T13:28:31.995Z"
      },
      {
        "duration": 4,
        "start_time": "2022-11-20T13:33:44.610Z"
      },
      {
        "duration": 11,
        "start_time": "2022-11-20T13:33:52.394Z"
      },
      {
        "duration": 40,
        "start_time": "2022-11-20T13:39:33.675Z"
      },
      {
        "duration": 42,
        "start_time": "2022-11-20T13:48:37.854Z"
      },
      {
        "duration": 12,
        "start_time": "2022-11-20T13:48:49.620Z"
      },
      {
        "duration": 3,
        "start_time": "2022-11-20T13:48:58.600Z"
      },
      {
        "duration": 10,
        "start_time": "2022-11-20T13:48:58.605Z"
      },
      {
        "duration": 42,
        "start_time": "2022-11-20T13:48:58.616Z"
      },
      {
        "duration": 21,
        "start_time": "2022-11-20T13:48:58.660Z"
      },
      {
        "duration": 28,
        "start_time": "2022-11-20T13:48:58.683Z"
      },
      {
        "duration": 1050,
        "start_time": "2022-11-20T13:48:58.713Z"
      },
      {
        "duration": 18,
        "start_time": "2022-11-20T13:48:59.765Z"
      },
      {
        "duration": 7,
        "start_time": "2022-11-20T13:48:59.785Z"
      },
      {
        "duration": 36,
        "start_time": "2022-11-20T13:48:59.794Z"
      },
      {
        "duration": 11,
        "start_time": "2022-11-20T13:48:59.831Z"
      },
      {
        "duration": 4,
        "start_time": "2022-11-20T13:48:59.843Z"
      },
      {
        "duration": 32,
        "start_time": "2022-11-20T13:48:59.849Z"
      },
      {
        "duration": 179,
        "start_time": "2022-11-20T13:48:59.882Z"
      },
      {
        "duration": 99,
        "start_time": "2022-11-20T13:49:00.063Z"
      },
      {
        "duration": 77,
        "start_time": "2022-11-20T13:49:00.163Z"
      },
      {
        "duration": 16,
        "start_time": "2022-11-20T13:49:00.242Z"
      },
      {
        "duration": 177,
        "start_time": "2022-11-20T13:49:00.260Z"
      },
      {
        "duration": 6,
        "start_time": "2022-11-20T13:49:00.439Z"
      },
      {
        "duration": 40,
        "start_time": "2022-11-20T13:49:00.446Z"
      },
      {
        "duration": 120,
        "start_time": "2022-11-20T13:49:00.487Z"
      },
      {
        "duration": 198,
        "start_time": "2022-11-20T13:49:00.609Z"
      },
      {
        "duration": 103,
        "start_time": "2022-11-20T13:49:00.808Z"
      },
      {
        "duration": 205,
        "start_time": "2022-11-20T13:49:00.912Z"
      },
      {
        "duration": 99,
        "start_time": "2022-11-20T13:49:01.120Z"
      },
      {
        "duration": 98,
        "start_time": "2022-11-20T13:49:01.220Z"
      },
      {
        "duration": 84,
        "start_time": "2022-11-20T13:49:01.320Z"
      },
      {
        "duration": 59,
        "start_time": "2022-11-20T13:49:01.405Z"
      },
      {
        "duration": 59,
        "start_time": "2022-11-20T13:49:01.476Z"
      },
      {
        "duration": 767,
        "start_time": "2022-11-20T13:49:01.537Z"
      },
      {
        "duration": 40,
        "start_time": "2022-11-20T13:49:02.306Z"
      },
      {
        "duration": 84,
        "start_time": "2022-11-20T13:49:02.348Z"
      },
      {
        "duration": 6,
        "start_time": "2022-11-20T13:49:02.434Z"
      },
      {
        "duration": 23,
        "start_time": "2022-11-20T13:49:02.442Z"
      },
      {
        "duration": 13,
        "start_time": "2022-11-20T13:49:02.466Z"
      },
      {
        "duration": 23,
        "start_time": "2022-11-20T13:49:02.481Z"
      },
      {
        "duration": 18,
        "start_time": "2022-11-20T13:49:02.505Z"
      },
      {
        "duration": 31,
        "start_time": "2022-11-20T13:49:02.525Z"
      },
      {
        "duration": 24,
        "start_time": "2022-11-20T13:49:02.557Z"
      },
      {
        "duration": 27,
        "start_time": "2022-11-20T13:49:02.583Z"
      },
      {
        "duration": 26,
        "start_time": "2022-11-20T13:49:02.612Z"
      },
      {
        "duration": 14,
        "start_time": "2022-11-20T13:49:08.975Z"
      },
      {
        "duration": 4,
        "start_time": "2022-11-20T13:53:09.275Z"
      },
      {
        "duration": 13,
        "start_time": "2022-11-20T13:53:16.198Z"
      },
      {
        "duration": 15,
        "start_time": "2022-11-20T13:54:20.577Z"
      },
      {
        "duration": 706,
        "start_time": "2022-11-20T13:55:35.176Z"
      },
      {
        "duration": 3457,
        "start_time": "2022-11-20T13:56:25.721Z"
      },
      {
        "duration": 4,
        "start_time": "2022-11-20T13:56:52.475Z"
      },
      {
        "duration": 5,
        "start_time": "2022-11-20T13:56:57.093Z"
      },
      {
        "duration": 9,
        "start_time": "2022-11-20T13:56:57.903Z"
      },
      {
        "duration": 13,
        "start_time": "2022-11-20T13:57:01.276Z"
      },
      {
        "duration": 4,
        "start_time": "2022-11-20T13:57:07.769Z"
      },
      {
        "duration": 3637,
        "start_time": "2022-11-20T13:57:11.642Z"
      },
      {
        "duration": 16,
        "start_time": "2022-11-20T13:57:17.144Z"
      },
      {
        "duration": 3,
        "start_time": "2022-11-20T13:57:20.907Z"
      },
      {
        "duration": 37028,
        "start_time": "2022-11-20T13:57:23.241Z"
      },
      {
        "duration": 8,
        "start_time": "2022-11-20T14:12:19.294Z"
      },
      {
        "duration": 10,
        "start_time": "2022-11-20T14:12:33.947Z"
      },
      {
        "duration": 16,
        "start_time": "2022-11-20T14:12:39.393Z"
      },
      {
        "duration": 8,
        "start_time": "2022-11-20T14:12:49.279Z"
      },
      {
        "duration": 18,
        "start_time": "2022-11-20T14:13:07.455Z"
      },
      {
        "duration": 75,
        "start_time": "2022-11-20T14:17:40.327Z"
      },
      {
        "duration": 4,
        "start_time": "2022-11-20T14:17:57.620Z"
      },
      {
        "duration": 3,
        "start_time": "2022-11-20T14:17:57.632Z"
      },
      {
        "duration": 47,
        "start_time": "2022-11-20T14:17:57.637Z"
      },
      {
        "duration": 23,
        "start_time": "2022-11-20T14:17:57.685Z"
      },
      {
        "duration": 7,
        "start_time": "2022-11-20T14:17:57.710Z"
      },
      {
        "duration": 1206,
        "start_time": "2022-11-20T14:17:57.719Z"
      },
      {
        "duration": 19,
        "start_time": "2022-11-20T14:17:58.926Z"
      },
      {
        "duration": 7,
        "start_time": "2022-11-20T14:17:58.946Z"
      },
      {
        "duration": 43,
        "start_time": "2022-11-20T14:17:58.955Z"
      },
      {
        "duration": 11,
        "start_time": "2022-11-20T14:17:59.000Z"
      },
      {
        "duration": 4,
        "start_time": "2022-11-20T14:17:59.013Z"
      },
      {
        "duration": 10,
        "start_time": "2022-11-20T14:17:59.019Z"
      },
      {
        "duration": 200,
        "start_time": "2022-11-20T14:17:59.031Z"
      },
      {
        "duration": 98,
        "start_time": "2022-11-20T14:17:59.233Z"
      },
      {
        "duration": 170,
        "start_time": "2022-11-20T14:17:59.334Z"
      },
      {
        "duration": 21,
        "start_time": "2022-11-20T14:17:59.505Z"
      },
      {
        "duration": 83,
        "start_time": "2022-11-20T14:17:59.527Z"
      },
      {
        "duration": 6,
        "start_time": "2022-11-20T14:17:59.611Z"
      },
      {
        "duration": 6,
        "start_time": "2022-11-20T14:17:59.619Z"
      },
      {
        "duration": 107,
        "start_time": "2022-11-20T14:17:59.627Z"
      },
      {
        "duration": 200,
        "start_time": "2022-11-20T14:17:59.736Z"
      },
      {
        "duration": 104,
        "start_time": "2022-11-20T14:17:59.938Z"
      },
      {
        "duration": 222,
        "start_time": "2022-11-20T14:18:00.043Z"
      },
      {
        "duration": 111,
        "start_time": "2022-11-20T14:18:00.267Z"
      },
      {
        "duration": 110,
        "start_time": "2022-11-20T14:18:00.380Z"
      },
      {
        "duration": 71,
        "start_time": "2022-11-20T14:18:00.491Z"
      },
      {
        "duration": 59,
        "start_time": "2022-11-20T14:18:00.575Z"
      },
      {
        "duration": 72,
        "start_time": "2022-11-20T14:18:00.636Z"
      },
      {
        "duration": 783,
        "start_time": "2022-11-20T14:18:00.709Z"
      },
      {
        "duration": 47,
        "start_time": "2022-11-20T14:18:01.494Z"
      },
      {
        "duration": 81,
        "start_time": "2022-11-20T14:18:01.543Z"
      },
      {
        "duration": 5,
        "start_time": "2022-11-20T14:18:01.626Z"
      },
      {
        "duration": 38,
        "start_time": "2022-11-20T14:18:01.633Z"
      },
      {
        "duration": 18,
        "start_time": "2022-11-20T14:18:01.673Z"
      },
      {
        "duration": 34,
        "start_time": "2022-11-20T14:18:01.692Z"
      },
      {
        "duration": 34,
        "start_time": "2022-11-20T14:18:01.727Z"
      },
      {
        "duration": 7,
        "start_time": "2022-11-20T14:18:01.762Z"
      },
      {
        "duration": 16,
        "start_time": "2022-11-20T14:18:01.770Z"
      },
      {
        "duration": 21,
        "start_time": "2022-11-20T14:18:01.788Z"
      },
      {
        "duration": 3,
        "start_time": "2022-11-20T14:18:01.811Z"
      },
      {
        "duration": 3668,
        "start_time": "2022-11-20T14:18:01.816Z"
      },
      {
        "duration": 15,
        "start_time": "2022-11-20T14:18:05.578Z"
      },
      {
        "duration": 7,
        "start_time": "2022-11-20T14:18:05.595Z"
      },
      {
        "duration": 33076,
        "start_time": "2022-11-20T14:18:05.604Z"
      },
      {
        "duration": 69,
        "start_time": "2022-11-20T14:18:38.681Z"
      },
      {
        "duration": 81,
        "start_time": "2022-11-20T14:18:38.752Z"
      },
      {
        "duration": 4,
        "start_time": "2022-11-20T14:19:30.690Z"
      },
      {
        "duration": 28,
        "start_time": "2022-11-20T14:19:30.696Z"
      },
      {
        "duration": 62,
        "start_time": "2022-11-20T14:19:30.726Z"
      },
      {
        "duration": 20,
        "start_time": "2022-11-20T14:19:30.790Z"
      },
      {
        "duration": 11,
        "start_time": "2022-11-20T14:19:30.812Z"
      },
      {
        "duration": 1199,
        "start_time": "2022-11-20T14:19:30.824Z"
      },
      {
        "duration": 18,
        "start_time": "2022-11-20T14:19:32.025Z"
      },
      {
        "duration": 9,
        "start_time": "2022-11-20T14:19:32.044Z"
      },
      {
        "duration": 38,
        "start_time": "2022-11-20T14:19:32.054Z"
      },
      {
        "duration": 11,
        "start_time": "2022-11-20T14:19:32.094Z"
      },
      {
        "duration": 11,
        "start_time": "2022-11-20T14:19:32.106Z"
      },
      {
        "duration": 5,
        "start_time": "2022-11-20T14:19:32.118Z"
      },
      {
        "duration": 168,
        "start_time": "2022-11-20T14:19:32.124Z"
      },
      {
        "duration": 175,
        "start_time": "2022-11-20T14:19:32.293Z"
      },
      {
        "duration": 68,
        "start_time": "2022-11-20T14:19:32.469Z"
      },
      {
        "duration": 18,
        "start_time": "2022-11-20T14:19:32.538Z"
      },
      {
        "duration": 79,
        "start_time": "2022-11-20T14:19:32.557Z"
      },
      {
        "duration": 7,
        "start_time": "2022-11-20T14:19:32.638Z"
      },
      {
        "duration": 6,
        "start_time": "2022-11-20T14:19:32.646Z"
      },
      {
        "duration": 110,
        "start_time": "2022-11-20T14:19:32.654Z"
      },
      {
        "duration": 210,
        "start_time": "2022-11-20T14:19:32.766Z"
      },
      {
        "duration": 100,
        "start_time": "2022-11-20T14:19:32.978Z"
      },
      {
        "duration": 188,
        "start_time": "2022-11-20T14:19:33.079Z"
      },
      {
        "duration": 80,
        "start_time": "2022-11-20T14:19:33.269Z"
      },
      {
        "duration": 95,
        "start_time": "2022-11-20T14:19:33.351Z"
      },
      {
        "duration": 69,
        "start_time": "2022-11-20T14:19:33.448Z"
      },
      {
        "duration": 70,
        "start_time": "2022-11-20T14:19:33.519Z"
      },
      {
        "duration": 153,
        "start_time": "2022-11-20T14:19:33.593Z"
      },
      {
        "duration": 717,
        "start_time": "2022-11-20T14:19:33.747Z"
      },
      {
        "duration": 46,
        "start_time": "2022-11-20T14:19:34.466Z"
      },
      {
        "duration": 85,
        "start_time": "2022-11-20T14:19:34.514Z"
      },
      {
        "duration": 6,
        "start_time": "2022-11-20T14:19:34.601Z"
      },
      {
        "duration": 14,
        "start_time": "2022-11-20T14:19:34.609Z"
      },
      {
        "duration": 6,
        "start_time": "2022-11-20T14:19:34.625Z"
      },
      {
        "duration": 9,
        "start_time": "2022-11-20T14:19:34.632Z"
      },
      {
        "duration": 9,
        "start_time": "2022-11-20T14:19:34.643Z"
      },
      {
        "duration": 25,
        "start_time": "2022-11-20T14:19:34.653Z"
      },
      {
        "duration": 12,
        "start_time": "2022-11-20T14:19:34.680Z"
      },
      {
        "duration": 15,
        "start_time": "2022-11-20T14:19:34.694Z"
      },
      {
        "duration": 4,
        "start_time": "2022-11-20T14:19:34.710Z"
      },
      {
        "duration": 3463,
        "start_time": "2022-11-20T14:19:34.716Z"
      },
      {
        "duration": 105,
        "start_time": "2022-11-20T14:19:38.182Z"
      },
      {
        "duration": 9,
        "start_time": "2022-11-20T14:19:38.289Z"
      },
      {
        "duration": 33742,
        "start_time": "2022-11-20T14:19:38.300Z"
      },
      {
        "duration": 61,
        "start_time": "2022-11-20T14:20:12.043Z"
      },
      {
        "duration": 39,
        "start_time": "2022-11-20T14:20:12.106Z"
      },
      {
        "duration": 7,
        "start_time": "2022-11-20T14:22:32.037Z"
      },
      {
        "duration": 4,
        "start_time": "2022-11-20T14:23:18.108Z"
      },
      {
        "duration": 13,
        "start_time": "2022-11-20T14:23:18.113Z"
      },
      {
        "duration": 39,
        "start_time": "2022-11-20T14:23:18.127Z"
      },
      {
        "duration": 18,
        "start_time": "2022-11-20T14:23:18.168Z"
      },
      {
        "duration": 23,
        "start_time": "2022-11-20T14:23:18.188Z"
      },
      {
        "duration": 995,
        "start_time": "2022-11-20T14:23:18.213Z"
      },
      {
        "duration": 17,
        "start_time": "2022-11-20T14:23:19.210Z"
      },
      {
        "duration": 13,
        "start_time": "2022-11-20T14:23:19.228Z"
      },
      {
        "duration": 35,
        "start_time": "2022-11-20T14:23:19.242Z"
      },
      {
        "duration": 9,
        "start_time": "2022-11-20T14:23:19.279Z"
      },
      {
        "duration": 3,
        "start_time": "2022-11-20T14:23:19.290Z"
      },
      {
        "duration": 11,
        "start_time": "2022-11-20T14:23:19.295Z"
      },
      {
        "duration": 281,
        "start_time": "2022-11-20T14:23:19.307Z"
      },
      {
        "duration": 91,
        "start_time": "2022-11-20T14:23:19.590Z"
      },
      {
        "duration": 60,
        "start_time": "2022-11-20T14:23:19.683Z"
      },
      {
        "duration": 31,
        "start_time": "2022-11-20T14:23:19.745Z"
      },
      {
        "duration": 54,
        "start_time": "2022-11-20T14:23:19.778Z"
      },
      {
        "duration": 6,
        "start_time": "2022-11-20T14:23:19.833Z"
      },
      {
        "duration": 17,
        "start_time": "2022-11-20T14:23:19.841Z"
      },
      {
        "duration": 111,
        "start_time": "2022-11-20T14:23:19.859Z"
      },
      {
        "duration": 188,
        "start_time": "2022-11-20T14:23:19.975Z"
      },
      {
        "duration": 97,
        "start_time": "2022-11-20T14:23:20.165Z"
      },
      {
        "duration": 205,
        "start_time": "2022-11-20T14:23:20.264Z"
      },
      {
        "duration": 107,
        "start_time": "2022-11-20T14:23:20.471Z"
      },
      {
        "duration": 99,
        "start_time": "2022-11-20T14:23:20.579Z"
      },
      {
        "duration": 71,
        "start_time": "2022-11-20T14:23:20.679Z"
      },
      {
        "duration": 160,
        "start_time": "2022-11-20T14:23:20.752Z"
      },
      {
        "duration": 63,
        "start_time": "2022-11-20T14:23:20.915Z"
      },
      {
        "duration": 658,
        "start_time": "2022-11-20T14:23:20.979Z"
      },
      {
        "duration": 44,
        "start_time": "2022-11-20T14:23:21.639Z"
      },
      {
        "duration": 57,
        "start_time": "2022-11-20T14:23:21.685Z"
      },
      {
        "duration": 5,
        "start_time": "2022-11-20T14:23:21.744Z"
      },
      {
        "duration": 15,
        "start_time": "2022-11-20T14:23:21.750Z"
      },
      {
        "duration": 23,
        "start_time": "2022-11-20T14:23:21.775Z"
      },
      {
        "duration": 35,
        "start_time": "2022-11-20T14:23:21.800Z"
      },
      {
        "duration": 30,
        "start_time": "2022-11-20T14:23:21.837Z"
      },
      {
        "duration": 25,
        "start_time": "2022-11-20T14:23:21.869Z"
      },
      {
        "duration": 14,
        "start_time": "2022-11-20T14:23:21.895Z"
      },
      {
        "duration": 32,
        "start_time": "2022-11-20T14:23:21.910Z"
      },
      {
        "duration": 37,
        "start_time": "2022-11-20T14:23:21.943Z"
      },
      {
        "duration": 8,
        "start_time": "2022-11-20T14:23:21.982Z"
      },
      {
        "duration": 3587,
        "start_time": "2022-11-20T14:23:21.991Z"
      },
      {
        "duration": 101,
        "start_time": "2022-11-20T14:23:25.580Z"
      },
      {
        "duration": 56,
        "start_time": "2022-11-20T14:23:25.682Z"
      },
      {
        "duration": 33857,
        "start_time": "2022-11-20T14:23:25.740Z"
      },
      {
        "duration": 66,
        "start_time": "2022-11-20T14:23:59.599Z"
      },
      {
        "duration": 16,
        "start_time": "2022-11-20T14:24:11.693Z"
      },
      {
        "duration": 6,
        "start_time": "2022-11-20T14:25:12.965Z"
      },
      {
        "duration": 6,
        "start_time": "2022-11-20T14:25:25.144Z"
      },
      {
        "duration": 15,
        "start_time": "2022-11-20T14:26:03.523Z"
      },
      {
        "duration": 1400,
        "start_time": "2022-11-20T14:27:49.760Z"
      },
      {
        "duration": 2,
        "start_time": "2022-11-20T14:27:51.162Z"
      },
      {
        "duration": 52,
        "start_time": "2022-11-20T14:27:51.166Z"
      },
      {
        "duration": 22,
        "start_time": "2022-11-20T14:27:51.220Z"
      },
      {
        "duration": 8,
        "start_time": "2022-11-20T14:27:51.243Z"
      },
      {
        "duration": 1045,
        "start_time": "2022-11-20T14:27:51.253Z"
      },
      {
        "duration": 18,
        "start_time": "2022-11-20T14:27:52.299Z"
      },
      {
        "duration": 8,
        "start_time": "2022-11-20T14:27:52.319Z"
      },
      {
        "duration": 48,
        "start_time": "2022-11-20T14:27:52.329Z"
      },
      {
        "duration": 12,
        "start_time": "2022-11-20T14:27:52.380Z"
      },
      {
        "duration": 5,
        "start_time": "2022-11-20T14:27:52.393Z"
      },
      {
        "duration": 7,
        "start_time": "2022-11-20T14:27:52.399Z"
      },
      {
        "duration": 211,
        "start_time": "2022-11-20T14:27:52.408Z"
      },
      {
        "duration": 103,
        "start_time": "2022-11-20T14:27:52.621Z"
      },
      {
        "duration": 71,
        "start_time": "2022-11-20T14:27:52.726Z"
      },
      {
        "duration": 17,
        "start_time": "2022-11-20T14:27:52.799Z"
      },
      {
        "duration": 145,
        "start_time": "2022-11-20T14:27:52.817Z"
      },
      {
        "duration": 13,
        "start_time": "2022-11-20T14:27:52.963Z"
      },
      {
        "duration": 4,
        "start_time": "2022-11-20T14:27:52.977Z"
      },
      {
        "duration": 107,
        "start_time": "2022-11-20T14:27:52.982Z"
      },
      {
        "duration": 180,
        "start_time": "2022-11-20T14:27:53.091Z"
      },
      {
        "duration": 100,
        "start_time": "2022-11-20T14:27:53.276Z"
      },
      {
        "duration": 191,
        "start_time": "2022-11-20T14:27:53.378Z"
      },
      {
        "duration": 103,
        "start_time": "2022-11-20T14:27:53.570Z"
      },
      {
        "duration": 92,
        "start_time": "2022-11-20T14:27:53.675Z"
      },
      {
        "duration": 67,
        "start_time": "2022-11-20T14:27:53.775Z"
      },
      {
        "duration": 65,
        "start_time": "2022-11-20T14:27:53.844Z"
      },
      {
        "duration": 65,
        "start_time": "2022-11-20T14:27:53.912Z"
      },
      {
        "duration": 755,
        "start_time": "2022-11-20T14:27:53.979Z"
      },
      {
        "duration": 77,
        "start_time": "2022-11-20T14:27:54.736Z"
      },
      {
        "duration": 78,
        "start_time": "2022-11-20T14:27:54.814Z"
      },
      {
        "duration": 7,
        "start_time": "2022-11-20T14:27:54.894Z"
      },
      {
        "duration": 20,
        "start_time": "2022-11-20T14:27:54.903Z"
      },
      {
        "duration": 20,
        "start_time": "2022-11-20T14:27:54.925Z"
      },
      {
        "duration": 5,
        "start_time": "2022-11-20T14:27:54.947Z"
      },
      {
        "duration": 23,
        "start_time": "2022-11-20T14:27:54.954Z"
      },
      {
        "duration": 45,
        "start_time": "2022-11-20T14:27:54.979Z"
      },
      {
        "duration": 9,
        "start_time": "2022-11-20T14:27:55.026Z"
      },
      {
        "duration": 24,
        "start_time": "2022-11-20T14:27:55.038Z"
      },
      {
        "duration": 17,
        "start_time": "2022-11-20T14:27:55.064Z"
      },
      {
        "duration": 3,
        "start_time": "2022-11-20T14:27:55.083Z"
      },
      {
        "duration": 3489,
        "start_time": "2022-11-20T14:27:55.088Z"
      },
      {
        "duration": 106,
        "start_time": "2022-11-20T14:27:58.581Z"
      },
      {
        "duration": 10,
        "start_time": "2022-11-20T14:27:58.688Z"
      },
      {
        "duration": 33979,
        "start_time": "2022-11-20T14:27:58.700Z"
      },
      {
        "duration": 69,
        "start_time": "2022-11-20T14:28:32.681Z"
      },
      {
        "duration": 32,
        "start_time": "2022-11-20T14:28:32.751Z"
      },
      {
        "duration": 20,
        "start_time": "2022-11-20T14:29:26.961Z"
      },
      {
        "duration": 14,
        "start_time": "2022-11-20T14:29:53.496Z"
      },
      {
        "duration": 130,
        "start_time": "2022-11-20T14:30:39.477Z"
      },
      {
        "duration": 18,
        "start_time": "2022-11-20T14:30:47.203Z"
      },
      {
        "duration": 4,
        "start_time": "2022-11-20T14:31:15.833Z"
      },
      {
        "duration": 22,
        "start_time": "2022-11-20T14:32:51.961Z"
      },
      {
        "duration": 6,
        "start_time": "2022-11-20T14:33:45.984Z"
      },
      {
        "duration": 37,
        "start_time": "2022-11-20T14:34:14.274Z"
      },
      {
        "duration": 4,
        "start_time": "2022-11-20T14:37:38.322Z"
      },
      {
        "duration": 6,
        "start_time": "2022-11-20T14:37:38.328Z"
      },
      {
        "duration": 45,
        "start_time": "2022-11-20T14:37:38.336Z"
      },
      {
        "duration": 21,
        "start_time": "2022-11-20T14:37:38.383Z"
      },
      {
        "duration": 11,
        "start_time": "2022-11-20T14:37:38.406Z"
      },
      {
        "duration": 986,
        "start_time": "2022-11-20T14:37:38.418Z"
      },
      {
        "duration": 18,
        "start_time": "2022-11-20T14:37:39.406Z"
      },
      {
        "duration": 8,
        "start_time": "2022-11-20T14:37:39.426Z"
      },
      {
        "duration": 47,
        "start_time": "2022-11-20T14:37:39.436Z"
      },
      {
        "duration": 12,
        "start_time": "2022-11-20T14:37:39.484Z"
      },
      {
        "duration": 4,
        "start_time": "2022-11-20T14:37:39.498Z"
      },
      {
        "duration": 7,
        "start_time": "2022-11-20T14:37:39.503Z"
      },
      {
        "duration": 308,
        "start_time": "2022-11-20T14:37:39.511Z"
      },
      {
        "duration": 101,
        "start_time": "2022-11-20T14:37:39.820Z"
      },
      {
        "duration": 79,
        "start_time": "2022-11-20T14:37:39.922Z"
      },
      {
        "duration": 18,
        "start_time": "2022-11-20T14:37:40.003Z"
      },
      {
        "duration": 72,
        "start_time": "2022-11-20T14:37:40.022Z"
      },
      {
        "duration": 8,
        "start_time": "2022-11-20T14:37:40.096Z"
      },
      {
        "duration": 21,
        "start_time": "2022-11-20T14:37:40.106Z"
      },
      {
        "duration": 108,
        "start_time": "2022-11-20T14:37:40.129Z"
      },
      {
        "duration": 211,
        "start_time": "2022-11-20T14:37:40.239Z"
      },
      {
        "duration": 106,
        "start_time": "2022-11-20T14:37:40.452Z"
      },
      {
        "duration": 204,
        "start_time": "2022-11-20T14:37:40.560Z"
      },
      {
        "duration": 101,
        "start_time": "2022-11-20T14:37:40.766Z"
      },
      {
        "duration": 91,
        "start_time": "2022-11-20T14:37:40.876Z"
      },
      {
        "duration": 164,
        "start_time": "2022-11-20T14:37:40.976Z"
      },
      {
        "duration": 75,
        "start_time": "2022-11-20T14:37:41.142Z"
      },
      {
        "duration": 70,
        "start_time": "2022-11-20T14:37:41.220Z"
      },
      {
        "duration": 755,
        "start_time": "2022-11-20T14:37:41.294Z"
      },
      {
        "duration": 51,
        "start_time": "2022-11-20T14:37:42.051Z"
      },
      {
        "duration": 74,
        "start_time": "2022-11-20T14:37:42.104Z"
      },
      {
        "duration": 6,
        "start_time": "2022-11-20T14:37:42.180Z"
      },
      {
        "duration": 9,
        "start_time": "2022-11-20T14:37:42.187Z"
      },
      {
        "duration": 12,
        "start_time": "2022-11-20T14:37:42.198Z"
      },
      {
        "duration": 5,
        "start_time": "2022-11-20T14:37:42.211Z"
      },
      {
        "duration": 5,
        "start_time": "2022-11-20T14:37:42.217Z"
      },
      {
        "duration": 5,
        "start_time": "2022-11-20T14:37:42.224Z"
      },
      {
        "duration": 7,
        "start_time": "2022-11-20T14:37:42.230Z"
      },
      {
        "duration": 11,
        "start_time": "2022-11-20T14:37:42.238Z"
      },
      {
        "duration": 36,
        "start_time": "2022-11-20T14:37:42.251Z"
      },
      {
        "duration": 4,
        "start_time": "2022-11-20T14:37:42.288Z"
      },
      {
        "duration": 3683,
        "start_time": "2022-11-20T14:37:42.294Z"
      },
      {
        "duration": 14,
        "start_time": "2022-11-20T14:37:45.979Z"
      },
      {
        "duration": 8,
        "start_time": "2022-11-20T14:37:45.995Z"
      },
      {
        "duration": 34426,
        "start_time": "2022-11-20T14:37:46.005Z"
      },
      {
        "duration": 73,
        "start_time": "2022-11-20T14:38:20.433Z"
      },
      {
        "duration": 6,
        "start_time": "2022-11-20T14:38:20.508Z"
      },
      {
        "duration": 12,
        "start_time": "2022-11-20T14:38:20.515Z"
      },
      {
        "duration": 20,
        "start_time": "2022-11-20T14:38:20.529Z"
      },
      {
        "duration": 6,
        "start_time": "2022-11-20T14:38:43.932Z"
      },
      {
        "duration": 11,
        "start_time": "2022-11-20T14:41:01.927Z"
      },
      {
        "duration": 40,
        "start_time": "2022-11-20T14:45:53.230Z"
      },
      {
        "duration": 3794,
        "start_time": "2022-11-20T14:46:15.284Z"
      },
      {
        "duration": 4,
        "start_time": "2022-11-20T14:58:48.646Z"
      },
      {
        "duration": 7,
        "start_time": "2022-11-20T14:58:48.652Z"
      },
      {
        "duration": 57,
        "start_time": "2022-11-20T14:58:48.660Z"
      },
      {
        "duration": 18,
        "start_time": "2022-11-20T14:58:48.719Z"
      },
      {
        "duration": 9,
        "start_time": "2022-11-20T14:58:48.738Z"
      },
      {
        "duration": 1048,
        "start_time": "2022-11-20T14:58:48.748Z"
      },
      {
        "duration": 17,
        "start_time": "2022-11-20T14:58:49.798Z"
      },
      {
        "duration": 18,
        "start_time": "2022-11-20T14:58:49.817Z"
      },
      {
        "duration": 39,
        "start_time": "2022-11-20T14:58:49.838Z"
      },
      {
        "duration": 12,
        "start_time": "2022-11-20T14:58:49.879Z"
      },
      {
        "duration": 7,
        "start_time": "2022-11-20T14:58:49.892Z"
      },
      {
        "duration": 6,
        "start_time": "2022-11-20T14:58:49.901Z"
      },
      {
        "duration": 208,
        "start_time": "2022-11-20T14:58:49.908Z"
      },
      {
        "duration": 102,
        "start_time": "2022-11-20T14:58:50.118Z"
      },
      {
        "duration": 76,
        "start_time": "2022-11-20T14:58:50.222Z"
      },
      {
        "duration": 15,
        "start_time": "2022-11-20T14:58:50.299Z"
      },
      {
        "duration": 67,
        "start_time": "2022-11-20T14:58:50.316Z"
      },
      {
        "duration": 7,
        "start_time": "2022-11-20T14:58:50.385Z"
      },
      {
        "duration": 4,
        "start_time": "2022-11-20T14:58:50.394Z"
      },
      {
        "duration": 109,
        "start_time": "2022-11-20T14:58:50.400Z"
      },
      {
        "duration": 199,
        "start_time": "2022-11-20T14:58:50.511Z"
      },
      {
        "duration": 106,
        "start_time": "2022-11-20T14:58:50.712Z"
      },
      {
        "duration": 194,
        "start_time": "2022-11-20T14:58:50.820Z"
      },
      {
        "duration": 178,
        "start_time": "2022-11-20T14:58:51.018Z"
      },
      {
        "duration": 95,
        "start_time": "2022-11-20T14:58:51.198Z"
      },
      {
        "duration": 66,
        "start_time": "2022-11-20T14:58:51.294Z"
      },
      {
        "duration": 67,
        "start_time": "2022-11-20T14:58:51.362Z"
      },
      {
        "duration": 70,
        "start_time": "2022-11-20T14:58:51.430Z"
      },
      {
        "duration": 656,
        "start_time": "2022-11-20T14:58:51.502Z"
      },
      {
        "duration": 151,
        "start_time": "2022-11-20T14:58:52.159Z"
      },
      {
        "duration": 74,
        "start_time": "2022-11-20T14:58:52.312Z"
      },
      {
        "duration": 6,
        "start_time": "2022-11-20T14:58:52.388Z"
      },
      {
        "duration": 8,
        "start_time": "2022-11-20T14:58:52.395Z"
      },
      {
        "duration": 11,
        "start_time": "2022-11-20T14:58:52.405Z"
      },
      {
        "duration": 5,
        "start_time": "2022-11-20T14:58:52.418Z"
      },
      {
        "duration": 6,
        "start_time": "2022-11-20T14:58:52.424Z"
      },
      {
        "duration": 8,
        "start_time": "2022-11-20T14:58:52.431Z"
      },
      {
        "duration": 7,
        "start_time": "2022-11-20T14:58:52.440Z"
      },
      {
        "duration": 35,
        "start_time": "2022-11-20T14:58:52.449Z"
      },
      {
        "duration": 14,
        "start_time": "2022-11-20T14:58:52.486Z"
      },
      {
        "duration": 4,
        "start_time": "2022-11-20T14:58:52.501Z"
      },
      {
        "duration": 3471,
        "start_time": "2022-11-20T14:58:52.507Z"
      },
      {
        "duration": 102,
        "start_time": "2022-11-20T14:58:55.980Z"
      },
      {
        "duration": 3,
        "start_time": "2022-11-20T14:58:56.083Z"
      },
      {
        "duration": 52079,
        "start_time": "2022-11-20T14:58:56.088Z"
      },
      {
        "duration": 73,
        "start_time": "2022-11-20T14:59:48.169Z"
      },
      {
        "duration": 5,
        "start_time": "2022-11-20T14:59:48.244Z"
      },
      {
        "duration": 26,
        "start_time": "2022-11-20T14:59:48.251Z"
      },
      {
        "duration": 24,
        "start_time": "2022-11-20T14:59:48.279Z"
      },
      {
        "duration": 6,
        "start_time": "2022-11-20T14:59:48.305Z"
      },
      {
        "duration": 13,
        "start_time": "2022-11-20T14:59:48.312Z"
      },
      {
        "duration": 3852,
        "start_time": "2022-11-20T14:59:48.326Z"
      },
      {
        "duration": 159,
        "start_time": "2022-11-20T14:59:52.182Z"
      },
      {
        "duration": 78897,
        "start_time": "2022-11-20T15:00:10.388Z"
      },
      {
        "duration": 108,
        "start_time": "2022-11-20T15:01:40.742Z"
      },
      {
        "duration": 3,
        "start_time": "2022-11-20T15:01:58.511Z"
      },
      {
        "duration": 13,
        "start_time": "2022-11-20T15:01:59.713Z"
      },
      {
        "duration": 5,
        "start_time": "2022-11-20T15:02:03.438Z"
      },
      {
        "duration": 15,
        "start_time": "2022-11-20T15:02:07.330Z"
      },
      {
        "duration": 5,
        "start_time": "2022-11-20T15:02:11.883Z"
      },
      {
        "duration": 3747,
        "start_time": "2022-11-20T15:02:14.331Z"
      },
      {
        "duration": 139,
        "start_time": "2022-11-20T15:02:21.811Z"
      },
      {
        "duration": 4,
        "start_time": "2022-11-20T15:02:25.238Z"
      },
      {
        "duration": 53258,
        "start_time": "2022-11-20T15:02:27.803Z"
      },
      {
        "duration": 169,
        "start_time": "2022-11-20T15:03:31.935Z"
      },
      {
        "duration": 155,
        "start_time": "2022-11-20T15:04:47.680Z"
      },
      {
        "duration": 844,
        "start_time": "2022-11-20T15:06:44.112Z"
      },
      {
        "duration": 5,
        "start_time": "2022-11-20T15:08:22.375Z"
      },
      {
        "duration": 5,
        "start_time": "2022-11-20T15:08:22.382Z"
      },
      {
        "duration": 43,
        "start_time": "2022-11-20T15:08:22.388Z"
      },
      {
        "duration": 20,
        "start_time": "2022-11-20T15:08:22.434Z"
      },
      {
        "duration": 29,
        "start_time": "2022-11-20T15:08:22.456Z"
      },
      {
        "duration": 1045,
        "start_time": "2022-11-20T15:08:22.486Z"
      },
      {
        "duration": 19,
        "start_time": "2022-11-20T15:08:23.533Z"
      },
      {
        "duration": 7,
        "start_time": "2022-11-20T15:08:23.553Z"
      },
      {
        "duration": 36,
        "start_time": "2022-11-20T15:08:23.563Z"
      },
      {
        "duration": 10,
        "start_time": "2022-11-20T15:08:23.601Z"
      },
      {
        "duration": 4,
        "start_time": "2022-11-20T15:08:23.612Z"
      },
      {
        "duration": 14,
        "start_time": "2022-11-20T15:08:23.618Z"
      },
      {
        "duration": 196,
        "start_time": "2022-11-20T15:08:23.634Z"
      },
      {
        "duration": 100,
        "start_time": "2022-11-20T15:08:23.831Z"
      },
      {
        "duration": 74,
        "start_time": "2022-11-20T15:08:23.934Z"
      },
      {
        "duration": 18,
        "start_time": "2022-11-20T15:08:24.011Z"
      },
      {
        "duration": 79,
        "start_time": "2022-11-20T15:08:24.030Z"
      },
      {
        "duration": 7,
        "start_time": "2022-11-20T15:08:24.110Z"
      },
      {
        "duration": 8,
        "start_time": "2022-11-20T15:08:24.119Z"
      },
      {
        "duration": 121,
        "start_time": "2022-11-20T15:08:24.128Z"
      },
      {
        "duration": 196,
        "start_time": "2022-11-20T15:08:24.251Z"
      },
      {
        "duration": 105,
        "start_time": "2022-11-20T15:08:24.448Z"
      },
      {
        "duration": 349,
        "start_time": "2022-11-20T15:08:24.555Z"
      },
      {
        "duration": 122,
        "start_time": "2022-11-20T15:08:24.908Z"
      },
      {
        "duration": 106,
        "start_time": "2022-11-20T15:08:25.032Z"
      },
      {
        "duration": 87,
        "start_time": "2022-11-20T15:08:25.139Z"
      },
      {
        "duration": 77,
        "start_time": "2022-11-20T15:08:25.228Z"
      },
      {
        "duration": 85,
        "start_time": "2022-11-20T15:08:25.308Z"
      },
      {
        "duration": 746,
        "start_time": "2022-11-20T15:08:25.394Z"
      },
      {
        "duration": 50,
        "start_time": "2022-11-20T15:08:26.141Z"
      },
      {
        "duration": 62,
        "start_time": "2022-11-20T15:08:26.193Z"
      },
      {
        "duration": 6,
        "start_time": "2022-11-20T15:08:26.256Z"
      },
      {
        "duration": 5,
        "start_time": "2022-11-20T15:08:26.276Z"
      },
      {
        "duration": 12,
        "start_time": "2022-11-20T15:08:26.283Z"
      },
      {
        "duration": 5,
        "start_time": "2022-11-20T15:08:26.296Z"
      },
      {
        "duration": 5,
        "start_time": "2022-11-20T15:08:26.302Z"
      },
      {
        "duration": 6,
        "start_time": "2022-11-20T15:08:26.308Z"
      },
      {
        "duration": 9,
        "start_time": "2022-11-20T15:08:26.315Z"
      },
      {
        "duration": 10,
        "start_time": "2022-11-20T15:08:26.325Z"
      },
      {
        "duration": 19,
        "start_time": "2022-11-20T15:08:26.337Z"
      },
      {
        "duration": 21,
        "start_time": "2022-11-20T15:08:26.357Z"
      },
      {
        "duration": 3697,
        "start_time": "2022-11-20T15:08:26.380Z"
      },
      {
        "duration": 17,
        "start_time": "2022-11-20T15:08:30.079Z"
      },
      {
        "duration": 79,
        "start_time": "2022-11-20T15:08:30.098Z"
      },
      {
        "duration": 51482,
        "start_time": "2022-11-20T15:08:30.178Z"
      },
      {
        "duration": 69,
        "start_time": "2022-11-20T15:09:21.662Z"
      },
      {
        "duration": 5,
        "start_time": "2022-11-20T15:09:21.733Z"
      },
      {
        "duration": 28,
        "start_time": "2022-11-20T15:09:21.739Z"
      },
      {
        "duration": 58,
        "start_time": "2022-11-20T15:09:21.769Z"
      },
      {
        "duration": 27,
        "start_time": "2022-11-20T15:09:21.828Z"
      },
      {
        "duration": 41,
        "start_time": "2022-11-20T15:09:21.857Z"
      },
      {
        "duration": 3976,
        "start_time": "2022-11-20T15:09:21.899Z"
      },
      {
        "duration": 65,
        "start_time": "2022-11-20T15:09:25.877Z"
      },
      {
        "duration": 81236,
        "start_time": "2022-11-20T15:09:25.943Z"
      },
      {
        "duration": 133,
        "start_time": "2022-11-20T15:10:47.180Z"
      },
      {
        "duration": 3,
        "start_time": "2022-11-20T15:10:47.314Z"
      },
      {
        "duration": 15,
        "start_time": "2022-11-20T15:10:47.319Z"
      },
      {
        "duration": 6,
        "start_time": "2022-11-20T15:10:47.335Z"
      },
      {
        "duration": 35,
        "start_time": "2022-11-20T15:10:47.342Z"
      },
      {
        "duration": 5,
        "start_time": "2022-11-20T15:10:47.379Z"
      },
      {
        "duration": 3792,
        "start_time": "2022-11-20T15:10:47.386Z"
      },
      {
        "duration": 210,
        "start_time": "2022-11-20T15:10:51.180Z"
      },
      {
        "duration": 4,
        "start_time": "2022-11-20T15:10:51.392Z"
      },
      {
        "duration": 51927,
        "start_time": "2022-11-20T15:10:51.397Z"
      },
      {
        "duration": 174,
        "start_time": "2022-11-20T15:11:43.325Z"
      },
      {
        "duration": 155,
        "start_time": "2022-11-20T15:11:43.501Z"
      },
      {
        "duration": 753,
        "start_time": "2022-11-20T15:11:43.658Z"
      },
      {
        "duration": 5,
        "start_time": "2022-11-20T15:25:29.458Z"
      },
      {
        "duration": 5,
        "start_time": "2022-11-20T15:25:29.466Z"
      },
      {
        "duration": 44,
        "start_time": "2022-11-20T15:25:29.472Z"
      },
      {
        "duration": 26,
        "start_time": "2022-11-20T15:25:29.518Z"
      },
      {
        "duration": 24,
        "start_time": "2022-11-20T15:25:29.546Z"
      },
      {
        "duration": 745,
        "start_time": "2022-11-20T15:25:29.572Z"
      },
      {
        "duration": 18,
        "start_time": "2022-11-20T15:25:30.319Z"
      },
      {
        "duration": 40,
        "start_time": "2022-11-20T15:25:30.338Z"
      },
      {
        "duration": 79,
        "start_time": "2022-11-20T15:25:30.381Z"
      },
      {
        "duration": 25,
        "start_time": "2022-11-20T15:25:30.461Z"
      },
      {
        "duration": 55,
        "start_time": "2022-11-20T15:25:30.488Z"
      },
      {
        "duration": 49,
        "start_time": "2022-11-20T15:25:30.544Z"
      },
      {
        "duration": 215,
        "start_time": "2022-11-20T15:25:30.594Z"
      },
      {
        "duration": 89,
        "start_time": "2022-11-20T15:25:30.811Z"
      },
      {
        "duration": 62,
        "start_time": "2022-11-20T15:25:30.902Z"
      },
      {
        "duration": 17,
        "start_time": "2022-11-20T15:25:30.975Z"
      },
      {
        "duration": 72,
        "start_time": "2022-11-20T15:25:30.993Z"
      },
      {
        "duration": 10,
        "start_time": "2022-11-20T15:25:31.067Z"
      },
      {
        "duration": 17,
        "start_time": "2022-11-20T15:25:31.079Z"
      },
      {
        "duration": 105,
        "start_time": "2022-11-20T15:25:31.098Z"
      },
      {
        "duration": 316,
        "start_time": "2022-11-20T15:25:31.205Z"
      },
      {
        "duration": 107,
        "start_time": "2022-11-20T15:25:31.523Z"
      },
      {
        "duration": 214,
        "start_time": "2022-11-20T15:25:31.632Z"
      },
      {
        "duration": 99,
        "start_time": "2022-11-20T15:25:31.851Z"
      },
      {
        "duration": 96,
        "start_time": "2022-11-20T15:25:31.951Z"
      },
      {
        "duration": 78,
        "start_time": "2022-11-20T15:25:32.049Z"
      },
      {
        "duration": 66,
        "start_time": "2022-11-20T15:25:32.129Z"
      },
      {
        "duration": 62,
        "start_time": "2022-11-20T15:25:32.197Z"
      },
      {
        "duration": 829,
        "start_time": "2022-11-20T15:25:32.261Z"
      },
      {
        "duration": 39,
        "start_time": "2022-11-20T15:25:33.091Z"
      },
      {
        "duration": 79,
        "start_time": "2022-11-20T15:25:33.132Z"
      },
      {
        "duration": 5,
        "start_time": "2022-11-20T15:25:33.213Z"
      },
      {
        "duration": 7,
        "start_time": "2022-11-20T15:25:33.219Z"
      },
      {
        "duration": 12,
        "start_time": "2022-11-20T15:25:33.228Z"
      },
      {
        "duration": 5,
        "start_time": "2022-11-20T15:25:33.241Z"
      },
      {
        "duration": 31,
        "start_time": "2022-11-20T15:25:33.247Z"
      },
      {
        "duration": 5,
        "start_time": "2022-11-20T15:25:33.279Z"
      },
      {
        "duration": 6,
        "start_time": "2022-11-20T15:25:33.286Z"
      },
      {
        "duration": 14,
        "start_time": "2022-11-20T15:25:33.293Z"
      },
      {
        "duration": 14,
        "start_time": "2022-11-20T15:25:33.309Z"
      },
      {
        "duration": 4,
        "start_time": "2022-11-20T15:25:33.324Z"
      },
      {
        "duration": 3656,
        "start_time": "2022-11-20T15:25:33.330Z"
      },
      {
        "duration": 14,
        "start_time": "2022-11-20T15:25:37.077Z"
      },
      {
        "duration": 10,
        "start_time": "2022-11-20T15:25:37.094Z"
      },
      {
        "duration": 49004,
        "start_time": "2022-11-20T15:25:37.105Z"
      },
      {
        "duration": 14,
        "start_time": "2022-11-20T15:26:26.111Z"
      },
      {
        "duration": 14,
        "start_time": "2022-11-20T15:26:26.126Z"
      },
      {
        "duration": 10,
        "start_time": "2022-11-20T15:26:26.141Z"
      },
      {
        "duration": 34,
        "start_time": "2022-11-20T15:26:26.152Z"
      },
      {
        "duration": 5,
        "start_time": "2022-11-20T15:26:26.187Z"
      },
      {
        "duration": 22,
        "start_time": "2022-11-20T15:26:26.193Z"
      },
      {
        "duration": 3866,
        "start_time": "2022-11-20T15:26:26.216Z"
      },
      {
        "duration": 105,
        "start_time": "2022-11-20T15:26:30.084Z"
      },
      {
        "duration": 76704,
        "start_time": "2022-11-20T15:26:30.191Z"
      },
      {
        "duration": 15,
        "start_time": "2022-11-20T15:27:46.896Z"
      },
      {
        "duration": 7,
        "start_time": "2022-11-20T15:27:46.912Z"
      },
      {
        "duration": 11,
        "start_time": "2022-11-20T15:27:46.920Z"
      },
      {
        "duration": 4,
        "start_time": "2022-11-20T15:27:46.933Z"
      },
      {
        "duration": 13,
        "start_time": "2022-11-20T15:27:46.938Z"
      },
      {
        "duration": 25,
        "start_time": "2022-11-20T15:27:46.952Z"
      },
      {
        "duration": 3600,
        "start_time": "2022-11-20T15:27:46.978Z"
      },
      {
        "duration": 102,
        "start_time": "2022-11-20T15:27:50.580Z"
      },
      {
        "duration": 2,
        "start_time": "2022-11-20T15:27:50.684Z"
      },
      {
        "duration": 50828,
        "start_time": "2022-11-20T15:27:50.688Z"
      },
      {
        "duration": 22,
        "start_time": "2022-11-20T15:28:41.517Z"
      },
      {
        "duration": 24,
        "start_time": "2022-11-20T15:28:41.540Z"
      },
      {
        "duration": 783,
        "start_time": "2022-11-20T15:28:41.565Z"
      },
      {
        "duration": 4,
        "start_time": "2022-11-20T15:33:22.059Z"
      },
      {
        "duration": 12,
        "start_time": "2022-11-20T15:33:22.065Z"
      },
      {
        "duration": 48,
        "start_time": "2022-11-20T15:33:22.078Z"
      },
      {
        "duration": 19,
        "start_time": "2022-11-20T15:33:22.128Z"
      },
      {
        "duration": 7,
        "start_time": "2022-11-20T15:33:22.149Z"
      },
      {
        "duration": 942,
        "start_time": "2022-11-20T15:33:22.157Z"
      },
      {
        "duration": 19,
        "start_time": "2022-11-20T15:33:23.101Z"
      },
      {
        "duration": 9,
        "start_time": "2022-11-20T15:33:23.121Z"
      },
      {
        "duration": 49,
        "start_time": "2022-11-20T15:33:23.132Z"
      },
      {
        "duration": 11,
        "start_time": "2022-11-20T15:33:23.183Z"
      },
      {
        "duration": 3,
        "start_time": "2022-11-20T15:33:23.196Z"
      },
      {
        "duration": 7,
        "start_time": "2022-11-20T15:33:23.201Z"
      },
      {
        "duration": 206,
        "start_time": "2022-11-20T15:33:23.209Z"
      },
      {
        "duration": 104,
        "start_time": "2022-11-20T15:33:23.416Z"
      },
      {
        "duration": 85,
        "start_time": "2022-11-20T15:33:23.521Z"
      },
      {
        "duration": 19,
        "start_time": "2022-11-20T15:33:23.607Z"
      },
      {
        "duration": 75,
        "start_time": "2022-11-20T15:33:23.628Z"
      },
      {
        "duration": 7,
        "start_time": "2022-11-20T15:33:23.705Z"
      },
      {
        "duration": 4,
        "start_time": "2022-11-20T15:33:23.713Z"
      },
      {
        "duration": 118,
        "start_time": "2022-11-20T15:33:23.718Z"
      },
      {
        "duration": 188,
        "start_time": "2022-11-20T15:33:23.838Z"
      },
      {
        "duration": 105,
        "start_time": "2022-11-20T15:33:24.028Z"
      },
      {
        "duration": 196,
        "start_time": "2022-11-20T15:33:24.134Z"
      },
      {
        "duration": 211,
        "start_time": "2022-11-20T15:33:24.334Z"
      },
      {
        "duration": 115,
        "start_time": "2022-11-20T15:33:24.547Z"
      },
      {
        "duration": 91,
        "start_time": "2022-11-20T15:33:24.664Z"
      },
      {
        "duration": 93,
        "start_time": "2022-11-20T15:33:24.757Z"
      },
      {
        "duration": 85,
        "start_time": "2022-11-20T15:33:24.852Z"
      },
      {
        "duration": 711,
        "start_time": "2022-11-20T15:33:24.939Z"
      },
      {
        "duration": 151,
        "start_time": "2022-11-20T15:33:25.651Z"
      },
      {
        "duration": 61,
        "start_time": "2022-11-20T15:33:25.804Z"
      },
      {
        "duration": 6,
        "start_time": "2022-11-20T15:33:25.875Z"
      },
      {
        "duration": 7,
        "start_time": "2022-11-20T15:33:25.883Z"
      },
      {
        "duration": 12,
        "start_time": "2022-11-20T15:33:25.891Z"
      },
      {
        "duration": 4,
        "start_time": "2022-11-20T15:33:25.905Z"
      },
      {
        "duration": 5,
        "start_time": "2022-11-20T15:33:25.910Z"
      },
      {
        "duration": 5,
        "start_time": "2022-11-20T15:33:25.916Z"
      },
      {
        "duration": 6,
        "start_time": "2022-11-20T15:33:25.923Z"
      },
      {
        "duration": 9,
        "start_time": "2022-11-20T15:33:25.930Z"
      },
      {
        "duration": 43,
        "start_time": "2022-11-20T15:33:25.941Z"
      },
      {
        "duration": 5,
        "start_time": "2022-11-20T15:33:25.985Z"
      },
      {
        "duration": 3492,
        "start_time": "2022-11-20T15:33:25.992Z"
      },
      {
        "duration": 104,
        "start_time": "2022-11-20T15:33:29.486Z"
      },
      {
        "duration": 7,
        "start_time": "2022-11-20T15:33:29.592Z"
      },
      {
        "duration": 356532,
        "start_time": "2022-11-20T15:33:29.600Z"
      },
      {
        "duration": 0,
        "start_time": "2022-11-20T15:39:26.133Z"
      },
      {
        "duration": 0,
        "start_time": "2022-11-20T15:39:26.135Z"
      },
      {
        "duration": 0,
        "start_time": "2022-11-20T15:39:26.136Z"
      },
      {
        "duration": 0,
        "start_time": "2022-11-20T15:39:26.137Z"
      },
      {
        "duration": 0,
        "start_time": "2022-11-20T15:39:26.138Z"
      },
      {
        "duration": 0,
        "start_time": "2022-11-20T15:39:26.139Z"
      },
      {
        "duration": 0,
        "start_time": "2022-11-20T15:39:26.140Z"
      },
      {
        "duration": 0,
        "start_time": "2022-11-20T15:39:26.141Z"
      },
      {
        "duration": 0,
        "start_time": "2022-11-20T15:39:26.142Z"
      },
      {
        "duration": 0,
        "start_time": "2022-11-20T15:39:26.143Z"
      },
      {
        "duration": 0,
        "start_time": "2022-11-20T15:39:26.144Z"
      },
      {
        "duration": 0,
        "start_time": "2022-11-20T15:39:26.145Z"
      },
      {
        "duration": 0,
        "start_time": "2022-11-20T15:39:26.177Z"
      },
      {
        "duration": 0,
        "start_time": "2022-11-20T15:39:26.178Z"
      },
      {
        "duration": 0,
        "start_time": "2022-11-20T15:39:26.180Z"
      },
      {
        "duration": 0,
        "start_time": "2022-11-20T15:39:26.180Z"
      },
      {
        "duration": 0,
        "start_time": "2022-11-20T15:39:26.181Z"
      },
      {
        "duration": 0,
        "start_time": "2022-11-20T15:39:26.182Z"
      },
      {
        "duration": 0,
        "start_time": "2022-11-20T15:39:26.183Z"
      },
      {
        "duration": 0,
        "start_time": "2022-11-20T15:39:26.185Z"
      },
      {
        "duration": 0,
        "start_time": "2022-11-20T15:39:26.186Z"
      },
      {
        "duration": 0,
        "start_time": "2022-11-20T15:39:26.187Z"
      },
      {
        "duration": 5,
        "start_time": "2022-11-20T15:40:22.644Z"
      },
      {
        "duration": 45,
        "start_time": "2022-11-20T15:40:22.651Z"
      },
      {
        "duration": 58,
        "start_time": "2022-11-20T15:40:22.698Z"
      },
      {
        "duration": 20,
        "start_time": "2022-11-20T15:40:22.758Z"
      },
      {
        "duration": 18,
        "start_time": "2022-11-20T15:40:22.780Z"
      },
      {
        "duration": 966,
        "start_time": "2022-11-20T15:40:22.799Z"
      },
      {
        "duration": 0,
        "start_time": "2022-11-20T15:40:23.769Z"
      },
      {
        "duration": 0,
        "start_time": "2022-11-20T15:40:23.770Z"
      },
      {
        "duration": 0,
        "start_time": "2022-11-20T15:40:23.771Z"
      },
      {
        "duration": 0,
        "start_time": "2022-11-20T15:40:23.772Z"
      },
      {
        "duration": 0,
        "start_time": "2022-11-20T15:40:23.774Z"
      },
      {
        "duration": 0,
        "start_time": "2022-11-20T15:40:23.775Z"
      },
      {
        "duration": 0,
        "start_time": "2022-11-20T15:40:23.775Z"
      },
      {
        "duration": 0,
        "start_time": "2022-11-20T15:40:23.776Z"
      },
      {
        "duration": 0,
        "start_time": "2022-11-20T15:40:23.777Z"
      },
      {
        "duration": 0,
        "start_time": "2022-11-20T15:40:23.778Z"
      },
      {
        "duration": 0,
        "start_time": "2022-11-20T15:40:23.779Z"
      },
      {
        "duration": 0,
        "start_time": "2022-11-20T15:40:23.781Z"
      },
      {
        "duration": 0,
        "start_time": "2022-11-20T15:40:23.782Z"
      },
      {
        "duration": 0,
        "start_time": "2022-11-20T15:40:23.783Z"
      },
      {
        "duration": 0,
        "start_time": "2022-11-20T15:40:23.784Z"
      },
      {
        "duration": 0,
        "start_time": "2022-11-20T15:40:23.785Z"
      },
      {
        "duration": 0,
        "start_time": "2022-11-20T15:40:23.786Z"
      },
      {
        "duration": 0,
        "start_time": "2022-11-20T15:40:23.787Z"
      },
      {
        "duration": 0,
        "start_time": "2022-11-20T15:40:23.788Z"
      },
      {
        "duration": 0,
        "start_time": "2022-11-20T15:40:23.789Z"
      },
      {
        "duration": 0,
        "start_time": "2022-11-20T15:40:23.789Z"
      },
      {
        "duration": 0,
        "start_time": "2022-11-20T15:40:23.790Z"
      },
      {
        "duration": 0,
        "start_time": "2022-11-20T15:40:23.791Z"
      },
      {
        "duration": 0,
        "start_time": "2022-11-20T15:40:23.792Z"
      },
      {
        "duration": 0,
        "start_time": "2022-11-20T15:40:23.793Z"
      },
      {
        "duration": 0,
        "start_time": "2022-11-20T15:40:23.794Z"
      },
      {
        "duration": 0,
        "start_time": "2022-11-20T15:40:23.795Z"
      },
      {
        "duration": 0,
        "start_time": "2022-11-20T15:40:23.796Z"
      },
      {
        "duration": 0,
        "start_time": "2022-11-20T15:40:23.797Z"
      },
      {
        "duration": 0,
        "start_time": "2022-11-20T15:40:23.798Z"
      },
      {
        "duration": 0,
        "start_time": "2022-11-20T15:40:23.799Z"
      },
      {
        "duration": 0,
        "start_time": "2022-11-20T15:40:23.800Z"
      },
      {
        "duration": 0,
        "start_time": "2022-11-20T15:40:23.801Z"
      },
      {
        "duration": 1,
        "start_time": "2022-11-20T15:40:23.801Z"
      },
      {
        "duration": 0,
        "start_time": "2022-11-20T15:40:23.802Z"
      },
      {
        "duration": 0,
        "start_time": "2022-11-20T15:40:23.804Z"
      },
      {
        "duration": 0,
        "start_time": "2022-11-20T15:40:23.804Z"
      },
      {
        "duration": 0,
        "start_time": "2022-11-20T15:40:23.805Z"
      },
      {
        "duration": 0,
        "start_time": "2022-11-20T15:40:23.806Z"
      },
      {
        "duration": 0,
        "start_time": "2022-11-20T15:40:23.807Z"
      },
      {
        "duration": 0,
        "start_time": "2022-11-20T15:40:23.808Z"
      },
      {
        "duration": 0,
        "start_time": "2022-11-20T15:40:23.809Z"
      },
      {
        "duration": 0,
        "start_time": "2022-11-20T15:40:23.809Z"
      },
      {
        "duration": 0,
        "start_time": "2022-11-20T15:40:23.810Z"
      },
      {
        "duration": 0,
        "start_time": "2022-11-20T15:40:23.811Z"
      },
      {
        "duration": 0,
        "start_time": "2022-11-20T15:40:23.812Z"
      },
      {
        "duration": 0,
        "start_time": "2022-11-20T15:40:23.813Z"
      },
      {
        "duration": 0,
        "start_time": "2022-11-20T15:40:23.814Z"
      },
      {
        "duration": 0,
        "start_time": "2022-11-20T15:40:23.815Z"
      },
      {
        "duration": 0,
        "start_time": "2022-11-20T15:40:23.876Z"
      },
      {
        "duration": 0,
        "start_time": "2022-11-20T15:40:23.878Z"
      },
      {
        "duration": 0,
        "start_time": "2022-11-20T15:40:23.879Z"
      },
      {
        "duration": 0,
        "start_time": "2022-11-20T15:40:23.880Z"
      },
      {
        "duration": 0,
        "start_time": "2022-11-20T15:40:23.881Z"
      },
      {
        "duration": 0,
        "start_time": "2022-11-20T15:40:23.882Z"
      },
      {
        "duration": 0,
        "start_time": "2022-11-20T15:40:23.883Z"
      },
      {
        "duration": 0,
        "start_time": "2022-11-20T15:40:23.884Z"
      },
      {
        "duration": 0,
        "start_time": "2022-11-20T15:40:23.885Z"
      },
      {
        "duration": 0,
        "start_time": "2022-11-20T15:40:23.885Z"
      },
      {
        "duration": 0,
        "start_time": "2022-11-20T15:40:23.886Z"
      },
      {
        "duration": 0,
        "start_time": "2022-11-20T15:40:23.887Z"
      },
      {
        "duration": 5,
        "start_time": "2022-11-20T15:40:41.514Z"
      },
      {
        "duration": 16,
        "start_time": "2022-11-20T15:40:41.521Z"
      },
      {
        "duration": 38,
        "start_time": "2022-11-20T15:40:41.540Z"
      },
      {
        "duration": 21,
        "start_time": "2022-11-20T15:40:41.580Z"
      },
      {
        "duration": 10,
        "start_time": "2022-11-20T15:40:41.603Z"
      },
      {
        "duration": 917,
        "start_time": "2022-11-20T15:40:41.614Z"
      },
      {
        "duration": 20,
        "start_time": "2022-11-20T15:40:42.533Z"
      },
      {
        "duration": 7,
        "start_time": "2022-11-20T15:40:42.554Z"
      },
      {
        "duration": 42,
        "start_time": "2022-11-20T15:40:42.563Z"
      },
      {
        "duration": 11,
        "start_time": "2022-11-20T15:40:42.607Z"
      },
      {
        "duration": 4,
        "start_time": "2022-11-20T15:40:42.621Z"
      },
      {
        "duration": 7,
        "start_time": "2022-11-20T15:40:42.627Z"
      },
      {
        "duration": 211,
        "start_time": "2022-11-20T15:40:42.636Z"
      },
      {
        "duration": 115,
        "start_time": "2022-11-20T15:40:42.850Z"
      },
      {
        "duration": 76,
        "start_time": "2022-11-20T15:40:42.967Z"
      },
      {
        "duration": 36,
        "start_time": "2022-11-20T15:40:43.045Z"
      },
      {
        "duration": 62,
        "start_time": "2022-11-20T15:40:43.084Z"
      },
      {
        "duration": 7,
        "start_time": "2022-11-20T15:40:43.148Z"
      },
      {
        "duration": 4,
        "start_time": "2022-11-20T15:40:43.176Z"
      },
      {
        "duration": 137,
        "start_time": "2022-11-20T15:40:43.181Z"
      },
      {
        "duration": 197,
        "start_time": "2022-11-20T15:40:43.320Z"
      },
      {
        "duration": 108,
        "start_time": "2022-11-20T15:40:43.519Z"
      },
      {
        "duration": 301,
        "start_time": "2022-11-20T15:40:43.629Z"
      },
      {
        "duration": 106,
        "start_time": "2022-11-20T15:40:43.932Z"
      },
      {
        "duration": 107,
        "start_time": "2022-11-20T15:40:44.040Z"
      },
      {
        "duration": 81,
        "start_time": "2022-11-20T15:40:44.149Z"
      },
      {
        "duration": 72,
        "start_time": "2022-11-20T15:40:44.231Z"
      },
      {
        "duration": 62,
        "start_time": "2022-11-20T15:40:44.304Z"
      },
      {
        "duration": 893,
        "start_time": "2022-11-20T15:40:44.378Z"
      },
      {
        "duration": 59,
        "start_time": "2022-11-20T15:40:45.276Z"
      },
      {
        "duration": 93,
        "start_time": "2022-11-20T15:40:45.337Z"
      },
      {
        "duration": 5,
        "start_time": "2022-11-20T15:40:45.432Z"
      },
      {
        "duration": 8,
        "start_time": "2022-11-20T15:40:45.439Z"
      },
      {
        "duration": 13,
        "start_time": "2022-11-20T15:40:45.448Z"
      },
      {
        "duration": 5,
        "start_time": "2022-11-20T15:40:45.477Z"
      },
      {
        "duration": 9,
        "start_time": "2022-11-20T15:40:45.483Z"
      },
      {
        "duration": 12,
        "start_time": "2022-11-20T15:40:45.494Z"
      },
      {
        "duration": 10,
        "start_time": "2022-11-20T15:40:45.507Z"
      },
      {
        "duration": 42,
        "start_time": "2022-11-20T15:40:45.519Z"
      },
      {
        "duration": 13,
        "start_time": "2022-11-20T15:40:45.563Z"
      },
      {
        "duration": 4,
        "start_time": "2022-11-20T15:40:45.578Z"
      },
      {
        "duration": 3496,
        "start_time": "2022-11-20T15:40:45.584Z"
      },
      {
        "duration": 104,
        "start_time": "2022-11-20T15:40:49.082Z"
      },
      {
        "duration": 11,
        "start_time": "2022-11-20T15:40:49.188Z"
      },
      {
        "duration": 246307,
        "start_time": "2022-11-20T15:40:49.201Z"
      },
      {
        "duration": 0,
        "start_time": "2022-11-20T15:44:55.510Z"
      },
      {
        "duration": 0,
        "start_time": "2022-11-20T15:44:55.511Z"
      },
      {
        "duration": 0,
        "start_time": "2022-11-20T15:44:55.512Z"
      },
      {
        "duration": 0,
        "start_time": "2022-11-20T15:44:55.513Z"
      },
      {
        "duration": 0,
        "start_time": "2022-11-20T15:44:55.514Z"
      },
      {
        "duration": 0,
        "start_time": "2022-11-20T15:44:55.515Z"
      },
      {
        "duration": 0,
        "start_time": "2022-11-20T15:44:55.515Z"
      },
      {
        "duration": 0,
        "start_time": "2022-11-20T15:44:55.516Z"
      },
      {
        "duration": 0,
        "start_time": "2022-11-20T15:44:55.517Z"
      },
      {
        "duration": 0,
        "start_time": "2022-11-20T15:44:55.518Z"
      },
      {
        "duration": 0,
        "start_time": "2022-11-20T15:44:55.519Z"
      },
      {
        "duration": 0,
        "start_time": "2022-11-20T15:44:55.520Z"
      },
      {
        "duration": 0,
        "start_time": "2022-11-20T15:44:55.522Z"
      },
      {
        "duration": 0,
        "start_time": "2022-11-20T15:44:55.523Z"
      },
      {
        "duration": 0,
        "start_time": "2022-11-20T15:44:55.525Z"
      },
      {
        "duration": 0,
        "start_time": "2022-11-20T15:44:55.526Z"
      },
      {
        "duration": 0,
        "start_time": "2022-11-20T15:44:55.527Z"
      },
      {
        "duration": 0,
        "start_time": "2022-11-20T15:44:55.529Z"
      },
      {
        "duration": 0,
        "start_time": "2022-11-20T15:44:55.530Z"
      },
      {
        "duration": 0,
        "start_time": "2022-11-20T15:44:55.531Z"
      },
      {
        "duration": 0,
        "start_time": "2022-11-20T15:44:55.533Z"
      },
      {
        "duration": 0,
        "start_time": "2022-11-20T15:44:55.534Z"
      },
      {
        "duration": 4,
        "start_time": "2022-11-20T15:45:33.403Z"
      },
      {
        "duration": 7,
        "start_time": "2022-11-20T15:45:33.409Z"
      },
      {
        "duration": 56,
        "start_time": "2022-11-20T15:45:33.417Z"
      },
      {
        "duration": 20,
        "start_time": "2022-11-20T15:45:33.475Z"
      },
      {
        "duration": 6,
        "start_time": "2022-11-20T15:45:33.496Z"
      },
      {
        "duration": 740,
        "start_time": "2022-11-20T15:45:33.503Z"
      },
      {
        "duration": 17,
        "start_time": "2022-11-20T15:45:34.245Z"
      },
      {
        "duration": 12,
        "start_time": "2022-11-20T15:45:34.263Z"
      },
      {
        "duration": 39,
        "start_time": "2022-11-20T15:45:34.277Z"
      },
      {
        "duration": 10,
        "start_time": "2022-11-20T15:45:34.317Z"
      },
      {
        "duration": 7,
        "start_time": "2022-11-20T15:45:34.328Z"
      },
      {
        "duration": 6,
        "start_time": "2022-11-20T15:45:34.336Z"
      },
      {
        "duration": 184,
        "start_time": "2022-11-20T15:45:34.343Z"
      },
      {
        "duration": 102,
        "start_time": "2022-11-20T15:45:34.528Z"
      },
      {
        "duration": 78,
        "start_time": "2022-11-20T15:45:34.632Z"
      },
      {
        "duration": 20,
        "start_time": "2022-11-20T15:45:34.712Z"
      },
      {
        "duration": 97,
        "start_time": "2022-11-20T15:45:34.734Z"
      },
      {
        "duration": 8,
        "start_time": "2022-11-20T15:45:34.833Z"
      },
      {
        "duration": 22,
        "start_time": "2022-11-20T15:45:34.843Z"
      },
      {
        "duration": 137,
        "start_time": "2022-11-20T15:45:34.867Z"
      },
      {
        "duration": 195,
        "start_time": "2022-11-20T15:45:35.005Z"
      },
      {
        "duration": 117,
        "start_time": "2022-11-20T15:45:35.202Z"
      },
      {
        "duration": 222,
        "start_time": "2022-11-20T15:45:35.321Z"
      },
      {
        "duration": 101,
        "start_time": "2022-11-20T15:45:35.547Z"
      },
      {
        "duration": 206,
        "start_time": "2022-11-20T15:45:35.650Z"
      },
      {
        "duration": 75,
        "start_time": "2022-11-20T15:45:35.857Z"
      },
      {
        "duration": 67,
        "start_time": "2022-11-20T15:45:35.934Z"
      },
      {
        "duration": 58,
        "start_time": "2022-11-20T15:45:36.002Z"
      },
      {
        "duration": 655,
        "start_time": "2022-11-20T15:45:36.062Z"
      },
      {
        "duration": 36,
        "start_time": "2022-11-20T15:45:36.719Z"
      },
      {
        "duration": 74,
        "start_time": "2022-11-20T15:45:36.757Z"
      },
      {
        "duration": 6,
        "start_time": "2022-11-20T15:45:36.833Z"
      },
      {
        "duration": 12,
        "start_time": "2022-11-20T15:45:36.841Z"
      },
      {
        "duration": 25,
        "start_time": "2022-11-20T15:45:36.854Z"
      },
      {
        "duration": 6,
        "start_time": "2022-11-20T15:45:36.881Z"
      },
      {
        "duration": 8,
        "start_time": "2022-11-20T15:45:36.888Z"
      },
      {
        "duration": 17,
        "start_time": "2022-11-20T15:45:36.897Z"
      },
      {
        "duration": 12,
        "start_time": "2022-11-20T15:45:36.915Z"
      },
      {
        "duration": 26,
        "start_time": "2022-11-20T15:45:36.928Z"
      },
      {
        "duration": 14,
        "start_time": "2022-11-20T15:45:36.956Z"
      },
      {
        "duration": 4,
        "start_time": "2022-11-20T15:45:36.972Z"
      },
      {
        "duration": 3803,
        "start_time": "2022-11-20T15:45:36.977Z"
      },
      {
        "duration": 103,
        "start_time": "2022-11-20T15:45:40.785Z"
      },
      {
        "duration": 7,
        "start_time": "2022-11-20T15:45:40.889Z"
      },
      {
        "duration": 192145,
        "start_time": "2022-11-20T15:45:40.897Z"
      },
      {
        "duration": 16,
        "start_time": "2022-11-20T15:48:53.044Z"
      },
      {
        "duration": 38,
        "start_time": "2022-11-20T15:48:53.061Z"
      },
      {
        "duration": 28,
        "start_time": "2022-11-20T15:48:53.101Z"
      },
      {
        "duration": 40,
        "start_time": "2022-11-20T15:48:53.131Z"
      },
      {
        "duration": 9,
        "start_time": "2022-11-20T15:48:53.172Z"
      },
      {
        "duration": 51,
        "start_time": "2022-11-20T15:48:53.182Z"
      },
      {
        "duration": 3850,
        "start_time": "2022-11-20T15:48:53.235Z"
      },
      {
        "duration": 15,
        "start_time": "2022-11-20T15:48:57.175Z"
      },
      {
        "duration": 309674,
        "start_time": "2022-11-20T15:48:57.192Z"
      },
      {
        "duration": 21,
        "start_time": "2022-11-20T15:54:06.867Z"
      },
      {
        "duration": 5,
        "start_time": "2022-11-20T15:54:06.889Z"
      },
      {
        "duration": 13,
        "start_time": "2022-11-20T15:54:06.895Z"
      },
      {
        "duration": 5,
        "start_time": "2022-11-20T15:54:06.909Z"
      },
      {
        "duration": 14,
        "start_time": "2022-11-20T15:54:06.915Z"
      },
      {
        "duration": 4,
        "start_time": "2022-11-20T15:54:06.930Z"
      },
      {
        "duration": 3842,
        "start_time": "2022-11-20T15:54:06.935Z"
      },
      {
        "duration": 23,
        "start_time": "2022-11-20T15:54:10.780Z"
      },
      {
        "duration": 3,
        "start_time": "2022-11-20T15:54:10.804Z"
      },
      {
        "duration": 207063,
        "start_time": "2022-11-20T15:54:10.809Z"
      },
      {
        "duration": 17,
        "start_time": "2022-11-20T15:57:37.876Z"
      },
      {
        "duration": 16,
        "start_time": "2022-11-20T15:57:37.894Z"
      },
      {
        "duration": 976,
        "start_time": "2022-11-20T15:57:37.912Z"
      },
      {
        "duration": 12534,
        "start_time": "2022-11-20T16:01:09.018Z"
      },
      {
        "duration": 70,
        "start_time": "2022-11-20T16:05:52.898Z"
      },
      {
        "duration": 52,
        "start_time": "2022-11-20T16:06:53.402Z"
      }
    ],
    "kernelspec": {
      "display_name": "Python 3 (ipykernel)",
      "language": "python",
      "name": "python3"
    },
    "language_info": {
      "codemirror_mode": {
        "name": "ipython",
        "version": 3
      },
      "file_extension": ".py",
      "mimetype": "text/x-python",
      "name": "python",
      "nbconvert_exporter": "python",
      "pygments_lexer": "ipython3",
      "version": "3.9.12"
    },
    "toc": {
      "base_numbering": 1,
      "nav_menu": {},
      "number_sections": true,
      "sideBar": true,
      "skip_h1_title": true,
      "title_cell": "Содержание",
      "title_sidebar": "Contents",
      "toc_cell": true,
      "toc_position": {
        "height": "calc(100% - 180px)",
        "left": "10px",
        "top": "150px",
        "width": "333px"
      },
      "toc_section_display": true,
      "toc_window_display": true
    },
    "colab": {
      "provenance": []
    }
  },
  "nbformat": 4,
  "nbformat_minor": 0
}