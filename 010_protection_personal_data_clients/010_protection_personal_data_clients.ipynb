{
 "cells": [
  {
   "cell_type": "markdown",
   "metadata": {},
   "source": [
    "👋 **Приветствую, Эдуард!**\n",
    "\n",
    "Меня зовут Арсен Абдулин, и я буду твоим ревьювером по проекту. Моя цель — не поиск ошибок в твоей работе, а поделиться опытом и помочь успешно завершить проект, чтобы на шаг приблизиться к профессии специалиста по Data Science.\n",
    "\n",
    "Видно, что ты очень старался, выполняя проект, у меня положительное впечатление о работе! Выполнены все ключевые этапы — особых замечаний нет. Я также отметил некоторые рекомендации.      \n",
    "\n",
    "При проверке работ я делаю следующие комментарии:\n",
    "\n",
    "<div class=\"alert alert-success\">\n",
    "<b>✔️ Зеленым цветом</b> отмечены удачные решения, на которые можно опираться в следующих проектах.</div>\n",
    "\n",
    "<div class=\"alert alert-warning\">\n",
    "<b>⚠️ Желтым цветом</b> я отметил пункты, которые в следующий раз можно сделать по-другому. Одно-два таких замечания в проекте допускается, но если их много — проект следует доработать. </div>\n",
    "\n",
    "<div class=\"alert alert-danger\">\n",
    "<b>🚫 Красным цветом</b> отмечены критические замечания, которые необходимо поправить, чтобы принять проект. </div>\n",
    "\n",
    "Если какие-то моменты в задании для тебя были непонятны и у тебя есть ко мне вопросы — смело спрашивай 😊 Также ты можешь доработать места, где есть желтые комментарии в этом проекте (однако, это не обязательно).\n",
    "\n",
    "Предлагаю работать над проектом в диалоге: если ты решишь что-то поменять по моим рекомендациям — пиши об этом (выбери для своих комментариев определенный цвет — так мне будет легче увидеть изменения). Пожалуйста не перемещай, не изменяй и не удаляй мои комментарии. Все это поможет сделать проверку твоего проекта оперативнее.\n",
    "\n",
    "<div class=\"alert alert-info\"> <b>ℹ️ Комментарий студента: </b> Пример комментария. </div>"
   ]
  },
  {
   "cell_type": "markdown",
   "metadata": {},
   "source": [
    "<div class=\"alert alert-success\">\n",
    "<b>✔️ Комментарий ревьювера:</b> На всякий случай, здесь я добавил дополнительные материалы по матрицам. Может пригодится =)\n",
    "    \n",
    "http://publish.sutd.ru/e_books/lin_alg_2013/html/matrix_33.html основные операции с матрицами    \n",
    "\n",
    "https://python-scripts.com/numpy информация по numpy с примерами\n",
    "    \n",
    "https://academy.yandex.ru/handbook/ml/article/linear-models Можешь посмотреть вот здесь теорию по линейной регрессии и по матрицам в том числе.\n",
    "\n",
    "Вот неплохая статья по основам матричных операций и линейным моделям, правда на английском языке:\n",
    "\n",
    "https://jonathan-hui.medium.com/machine-learning-linear-algebra-a5b1658f0151\n",
    "\n",
    "http://www.machinelearning.ru/wiki/images/b/bb/Sem08_factorizations.pdf по матричным разложениям\n",
    "    \n",
    "Как дополнение по матричным разложениями и теории машинного обучения можно посмотреть видеолекции К. Воронцова или Е. Соколова, они есть на Youtube.\n",
    "    \n",
    "</div>"
   ]
  },
  {
   "cell_type": "markdown",
   "metadata": {
    "toc": true
   },
   "source": [
    "<h1>Содержание<span class=\"tocSkip\"></span></h1>\n",
    "<div class=\"toc\"><ul class=\"toc-item\"><li><span><a href=\"#Загрузка-данных\" data-toc-modified-id=\"Загрузка-данных-1\"><span class=\"toc-item-num\">1&nbsp;&nbsp;</span>Загрузка данных</a></span><ul class=\"toc-item\"><li><span><a href=\"#Загрузка-библиотек\" data-toc-modified-id=\"Загрузка-библиотек-1.1\"><span class=\"toc-item-num\">1.1&nbsp;&nbsp;</span>Загрузка библиотек</a></span></li><li><span><a href=\"#Загрузка-файла\" data-toc-modified-id=\"Загрузка-файла-1.2\"><span class=\"toc-item-num\">1.2&nbsp;&nbsp;</span>Загрузка файла</a></span></li></ul></li><li><span><a href=\"#Умножение-матриц\" data-toc-modified-id=\"Умножение-матриц-2\"><span class=\"toc-item-num\">2&nbsp;&nbsp;</span>Умножение матриц</a></span></li><li><span><a href=\"#Алгоритм-преобразования\" data-toc-modified-id=\"Алгоритм-преобразования-3\"><span class=\"toc-item-num\">3&nbsp;&nbsp;</span>Алгоритм преобразования</a></span></li><li><span><a href=\"#Проверка-алгоритма\" data-toc-modified-id=\"Проверка-алгоритма-4\"><span class=\"toc-item-num\">4&nbsp;&nbsp;</span>Проверка алгоритма</a></span><ul class=\"toc-item\"><li><span><a href=\"#Создание-обратимой-матрицы\" data-toc-modified-id=\"Создание-обратимой-матрицы-4.1\"><span class=\"toc-item-num\">4.1&nbsp;&nbsp;</span>Создание обратимой матрицы</a></span></li><li><span><a href=\"#Подготовка-данных-для-анализа\" data-toc-modified-id=\"Подготовка-данных-для-анализа-4.2\"><span class=\"toc-item-num\">4.2&nbsp;&nbsp;</span>Подготовка данных для анализа</a></span></li><li><span><a href=\"#Функция-линейной-модели\" data-toc-modified-id=\"Функция-линейной-модели-4.3\"><span class=\"toc-item-num\">4.3&nbsp;&nbsp;</span>Функция линейной модели</a></span></li><li><span><a href=\"#Сравнение-результатов\" data-toc-modified-id=\"Сравнение-результатов-4.4\"><span class=\"toc-item-num\">4.4&nbsp;&nbsp;</span>Сравнение результатов</a></span></li><li><span><a href=\"#Выводы\" data-toc-modified-id=\"Выводы-4.5\"><span class=\"toc-item-num\">4.5&nbsp;&nbsp;</span>Выводы</a></span></li></ul></li><li><span><a href=\"#Чек-лист-проверки\" data-toc-modified-id=\"Чек-лист-проверки-5\"><span class=\"toc-item-num\">5&nbsp;&nbsp;</span>Чек-лист проверки</a></span></li></ul></div>"
   ]
  },
  {
   "cell_type": "markdown",
   "metadata": {},
   "source": [
    "# Защита персональных данных клиентов"
   ]
  },
  {
   "cell_type": "markdown",
   "metadata": {},
   "source": [
    "Вам нужно защитить данные клиентов страховой компании «Хоть потоп». Разработайте такой метод преобразования данных, чтобы по ним было сложно восстановить персональную информацию. Обоснуйте корректность его работы.\n",
    "\n",
    "Нужно защитить данные, чтобы при преобразовании качество моделей машинного обучения не ухудшилось. Подбирать наилучшую модель не требуется."
   ]
  },
  {
   "cell_type": "markdown",
   "metadata": {},
   "source": [
    "__Описание данных__\n",
    "\n",
    "* Признаки: пол, возраст и зарплата застрахованного, количество членов его семьи.\n",
    "* Целевой признак: количество страховых выплат клиенту за последние 5 лет."
   ]
  },
  {
   "cell_type": "markdown",
   "metadata": {},
   "source": [
    "<div class=\"alert alert-success\">\n",
    "<b>✔️ Комментарий ревьювера:</b> Хорошо, что добавил небольшое описание и цель проекта — так постороннему человеку будет проще разобраться.\n",
    "    \n",
    "</div>"
   ]
  },
  {
   "cell_type": "markdown",
   "metadata": {},
   "source": [
    "<div style=\"border:solid Blue 3px; padding: 20px\">\n",
    "<b>Комментарий студента №0</b> <br><br>\n",
    "<b>Привет, Уважаемый ревьюер!👋</b>\n",
    "    \n",
    "Меня зовут Эдуард Зарапов, я буду делать проект. Предлагаю общаться на \"ты\", но если тебе не удобно, пожалуйста, дай знать. </div>"
   ]
  },
  {
   "cell_type": "markdown",
   "metadata": {},
   "source": [
    "<div class=\"alert alert-success\">\n",
    "<b>✔️ Комментарий ревьювера:</b> Хорошо, Эдуард, давай на «ты» =)\n",
    "    \n",
    "</div>"
   ]
  },
  {
   "cell_type": "markdown",
   "metadata": {},
   "source": [
    "## Загрузка данных"
   ]
  },
  {
   "cell_type": "markdown",
   "metadata": {},
   "source": [
    "### Загрузка библиотек"
   ]
  },
  {
   "cell_type": "code",
   "execution_count": 2,
   "metadata": {},
   "outputs": [],
   "source": [
    "import os\n",
    "import pandas as pd\n",
    "import matplotlib.pyplot as plt\n",
    "import numpy as np\n",
    "\n",
    "from sklearn.model_selection import train_test_split\n",
    "from sklearn.linear_model import LinearRegression\n",
    "from sklearn.metrics import r2_score\n",
    "from sklearn.metrics import accuracy_score"
   ]
  },
  {
   "cell_type": "markdown",
   "metadata": {},
   "source": [
    "<div class=\"alert alert-warning\">\n",
    "<b>⚠️ Комментарий ревьювера:</b> Желательно убрать лишние библиотеки из импорта, т.к. принято оставлять только те, которые будут использоваться в проекте\n",
    "    \n",
    "</div>"
   ]
  },
  {
   "cell_type": "markdown",
   "metadata": {},
   "source": [
    "<div style=\"border:solid Blue 3px; padding: 20px\">\n",
    "<b>Комментарий студента №1</b> <br><br>\n",
    "Здесь нет лишних импортов. Если речь идет о accuracy_score, то он добавлен для обсуждения и пробного запуска (этот вопрос задаю тебе ниже).</div>"
   ]
  },
  {
   "cell_type": "markdown",
   "metadata": {},
   "source": [
    "<div class=\"alert alert-success\">\n",
    "<b>✔️ Комментарий ревьювера v2:</b> Понял тебя, я про accuracy_score и имел ввиду\n",
    "    \n",
    "Здесь это некритичное замечание =)\n",
    "    \n",
    "</div>"
   ]
  },
  {
   "cell_type": "code",
   "execution_count": 3,
   "metadata": {},
   "outputs": [],
   "source": [
    "# еще чуть-чуть глобальных переменных:\n",
    "RANDOM_STATE = 42"
   ]
  },
  {
   "cell_type": "markdown",
   "metadata": {},
   "source": [
    "<div class=\"alert alert-warning\">\n",
    "<b>⚠️ Комментарий ревьювера:</b> Как общая рекомендация по проекту:\n",
    "    \n",
    "- описание нужно делать в ячейках Markdown, т.к. наш проект по сути является отчетом =)\n",
    "    \n",
    "В ячейках с кодом обычно пишут комментарии к особенностям выполнения кода.\n",
    "    \n",
    "</div>"
   ]
  },
  {
   "cell_type": "markdown",
   "metadata": {},
   "source": [
    "<div style=\"border:solid Blue 3px; padding: 20px\">\n",
    "<b>Комментарий студента №1</b> <br><br>\n",
    "Принято. Учту на будущее.</div>"
   ]
  },
  {
   "cell_type": "markdown",
   "metadata": {},
   "source": [
    "<div class=\"alert alert-success\">\n",
    "<b>✔️ Комментарий ревьювера v2:</b> Хорошо\n",
    "    \n",
    "</div>"
   ]
  },
  {
   "cell_type": "markdown",
   "metadata": {},
   "source": [
    "### Загрузка файла"
   ]
  },
  {
   "cell_type": "code",
   "execution_count": 4,
   "metadata": {},
   "outputs": [],
   "source": [
    "# Загрузка данных\n",
    "url_local = 'datasets/insurance.csv'\n",
    "url_global = 'https://code.s3.yandex.net/datasets/insurance.csv'\n",
    "\n",
    "if os.path.exists(url_local):\n",
    "    data = pd.read_csv(url_local)\n",
    "elif os.path.exists(url_global):\n",
    "    data = pd.read_csv(url_global)\n",
    "else:\n",
    "    print('OMG! Something is wrong.')"
   ]
  },
  {
   "cell_type": "markdown",
   "metadata": {},
   "source": [
    "<div class=\"alert alert-success\">\n",
    "<b>✔️ Комментарий ревьювера:</b> Здорово, что применяешь обработку исключений при загрузке данных!\n",
    "    \n",
    "</div>"
   ]
  },
  {
   "cell_type": "code",
   "execution_count": 5,
   "metadata": {},
   "outputs": [
    {
     "data": {
      "text/html": [
       "<div>\n",
       "<style scoped>\n",
       "    .dataframe tbody tr th:only-of-type {\n",
       "        vertical-align: middle;\n",
       "    }\n",
       "\n",
       "    .dataframe tbody tr th {\n",
       "        vertical-align: top;\n",
       "    }\n",
       "\n",
       "    .dataframe thead th {\n",
       "        text-align: right;\n",
       "    }\n",
       "</style>\n",
       "<table border=\"1\" class=\"dataframe\">\n",
       "  <thead>\n",
       "    <tr style=\"text-align: right;\">\n",
       "      <th></th>\n",
       "      <th>Пол</th>\n",
       "      <th>Возраст</th>\n",
       "      <th>Зарплата</th>\n",
       "      <th>Члены семьи</th>\n",
       "      <th>Страховые выплаты</th>\n",
       "    </tr>\n",
       "  </thead>\n",
       "  <tbody>\n",
       "    <tr>\n",
       "      <th>0</th>\n",
       "      <td>1</td>\n",
       "      <td>41.0</td>\n",
       "      <td>49600.0</td>\n",
       "      <td>1</td>\n",
       "      <td>0</td>\n",
       "    </tr>\n",
       "    <tr>\n",
       "      <th>1</th>\n",
       "      <td>0</td>\n",
       "      <td>46.0</td>\n",
       "      <td>38000.0</td>\n",
       "      <td>1</td>\n",
       "      <td>1</td>\n",
       "    </tr>\n",
       "    <tr>\n",
       "      <th>2</th>\n",
       "      <td>0</td>\n",
       "      <td>29.0</td>\n",
       "      <td>21000.0</td>\n",
       "      <td>0</td>\n",
       "      <td>0</td>\n",
       "    </tr>\n",
       "    <tr>\n",
       "      <th>3</th>\n",
       "      <td>0</td>\n",
       "      <td>21.0</td>\n",
       "      <td>41700.0</td>\n",
       "      <td>2</td>\n",
       "      <td>0</td>\n",
       "    </tr>\n",
       "    <tr>\n",
       "      <th>4</th>\n",
       "      <td>1</td>\n",
       "      <td>28.0</td>\n",
       "      <td>26100.0</td>\n",
       "      <td>0</td>\n",
       "      <td>0</td>\n",
       "    </tr>\n",
       "  </tbody>\n",
       "</table>\n",
       "</div>"
      ],
      "text/plain": [
       "   Пол  Возраст  Зарплата  Члены семьи  Страховые выплаты\n",
       "0    1     41.0   49600.0            1                  0\n",
       "1    0     46.0   38000.0            1                  1\n",
       "2    0     29.0   21000.0            0                  0\n",
       "3    0     21.0   41700.0            2                  0\n",
       "4    1     28.0   26100.0            0                  0"
      ]
     },
     "execution_count": 5,
     "metadata": {},
     "output_type": "execute_result"
    }
   ],
   "source": [
    "# Проверим, что загрузилось\n",
    "data.head()"
   ]
  },
  {
   "cell_type": "code",
   "execution_count": 6,
   "metadata": {},
   "outputs": [
    {
     "data": {
      "text/html": [
       "<div>\n",
       "<style scoped>\n",
       "    .dataframe tbody tr th:only-of-type {\n",
       "        vertical-align: middle;\n",
       "    }\n",
       "\n",
       "    .dataframe tbody tr th {\n",
       "        vertical-align: top;\n",
       "    }\n",
       "\n",
       "    .dataframe thead th {\n",
       "        text-align: right;\n",
       "    }\n",
       "</style>\n",
       "<table border=\"1\" class=\"dataframe\">\n",
       "  <thead>\n",
       "    <tr style=\"text-align: right;\">\n",
       "      <th></th>\n",
       "      <th>Пол</th>\n",
       "      <th>Возраст</th>\n",
       "      <th>Зарплата</th>\n",
       "      <th>Члены семьи</th>\n",
       "      <th>Страховые выплаты</th>\n",
       "    </tr>\n",
       "  </thead>\n",
       "  <tbody>\n",
       "    <tr>\n",
       "      <th>count</th>\n",
       "      <td>5000.000000</td>\n",
       "      <td>5000.000000</td>\n",
       "      <td>5000.000000</td>\n",
       "      <td>5000.000000</td>\n",
       "      <td>5000.000000</td>\n",
       "    </tr>\n",
       "    <tr>\n",
       "      <th>mean</th>\n",
       "      <td>0.499000</td>\n",
       "      <td>30.952800</td>\n",
       "      <td>39916.360000</td>\n",
       "      <td>1.194200</td>\n",
       "      <td>0.148000</td>\n",
       "    </tr>\n",
       "    <tr>\n",
       "      <th>std</th>\n",
       "      <td>0.500049</td>\n",
       "      <td>8.440807</td>\n",
       "      <td>9900.083569</td>\n",
       "      <td>1.091387</td>\n",
       "      <td>0.463183</td>\n",
       "    </tr>\n",
       "    <tr>\n",
       "      <th>min</th>\n",
       "      <td>0.000000</td>\n",
       "      <td>18.000000</td>\n",
       "      <td>5300.000000</td>\n",
       "      <td>0.000000</td>\n",
       "      <td>0.000000</td>\n",
       "    </tr>\n",
       "    <tr>\n",
       "      <th>25%</th>\n",
       "      <td>0.000000</td>\n",
       "      <td>24.000000</td>\n",
       "      <td>33300.000000</td>\n",
       "      <td>0.000000</td>\n",
       "      <td>0.000000</td>\n",
       "    </tr>\n",
       "    <tr>\n",
       "      <th>50%</th>\n",
       "      <td>0.000000</td>\n",
       "      <td>30.000000</td>\n",
       "      <td>40200.000000</td>\n",
       "      <td>1.000000</td>\n",
       "      <td>0.000000</td>\n",
       "    </tr>\n",
       "    <tr>\n",
       "      <th>75%</th>\n",
       "      <td>1.000000</td>\n",
       "      <td>37.000000</td>\n",
       "      <td>46600.000000</td>\n",
       "      <td>2.000000</td>\n",
       "      <td>0.000000</td>\n",
       "    </tr>\n",
       "    <tr>\n",
       "      <th>max</th>\n",
       "      <td>1.000000</td>\n",
       "      <td>65.000000</td>\n",
       "      <td>79000.000000</td>\n",
       "      <td>6.000000</td>\n",
       "      <td>5.000000</td>\n",
       "    </tr>\n",
       "  </tbody>\n",
       "</table>\n",
       "</div>"
      ],
      "text/plain": [
       "               Пол      Возраст      Зарплата  Члены семьи  Страховые выплаты\n",
       "count  5000.000000  5000.000000   5000.000000  5000.000000        5000.000000\n",
       "mean      0.499000    30.952800  39916.360000     1.194200           0.148000\n",
       "std       0.500049     8.440807   9900.083569     1.091387           0.463183\n",
       "min       0.000000    18.000000   5300.000000     0.000000           0.000000\n",
       "25%       0.000000    24.000000  33300.000000     0.000000           0.000000\n",
       "50%       0.000000    30.000000  40200.000000     1.000000           0.000000\n",
       "75%       1.000000    37.000000  46600.000000     2.000000           0.000000\n",
       "max       1.000000    65.000000  79000.000000     6.000000           5.000000"
      ]
     },
     "execution_count": 6,
     "metadata": {},
     "output_type": "execute_result"
    }
   ],
   "source": [
    "# Посмотрим общую информацию:\n",
    "data.describe()"
   ]
  },
  {
   "cell_type": "code",
   "execution_count": 7,
   "metadata": {
    "scrolled": true
   },
   "outputs": [
    {
     "name": "stdout",
     "output_type": "stream",
     "text": [
      "<class 'pandas.core.frame.DataFrame'>\n",
      "RangeIndex: 5000 entries, 0 to 4999\n",
      "Data columns (total 5 columns):\n",
      " #   Column             Non-Null Count  Dtype  \n",
      "---  ------             --------------  -----  \n",
      " 0   Пол                5000 non-null   int64  \n",
      " 1   Возраст            5000 non-null   float64\n",
      " 2   Зарплата           5000 non-null   float64\n",
      " 3   Члены семьи        5000 non-null   int64  \n",
      " 4   Страховые выплаты  5000 non-null   int64  \n",
      "dtypes: float64(2), int64(3)\n",
      "memory usage: 195.4 KB\n"
     ]
    }
   ],
   "source": [
    "# Проверим типы данных\n",
    "data.info()"
   ]
  },
  {
   "cell_type": "markdown",
   "metadata": {},
   "source": [
    "Все данные соответствуют описананию колонок. Преобразования не требуются."
   ]
  },
  {
   "cell_type": "code",
   "execution_count": 8,
   "metadata": {},
   "outputs": [
    {
     "data": {
      "text/plain": [
       "153"
      ]
     },
     "execution_count": 8,
     "metadata": {},
     "output_type": "execute_result"
    }
   ],
   "source": [
    "# Проверим наличие дубликатов в дата-сете:\n",
    "data.duplicated().sum()"
   ]
  },
  {
   "cell_type": "code",
   "execution_count": 9,
   "metadata": {},
   "outputs": [
    {
     "data": {
      "text/plain": [
       "0"
      ]
     },
     "execution_count": 9,
     "metadata": {},
     "output_type": "execute_result"
    }
   ],
   "source": [
    "# ... и удалим их\n",
    "data = data.drop_duplicates()\n",
    "\n",
    "# проверим, что получилось:\n",
    "data.duplicated().sum()"
   ]
  },
  {
   "cell_type": "markdown",
   "metadata": {},
   "source": [
    "<div class=\"alert alert-warning\">\n",
    "<b>⚠️ Комментарий ревьювера:</b> Хорошо, что обращаешь внимание на дубликаты! \n",
    "    \n",
    "Стоит отметить, что в данном случае дубликаты можно не удалять, т.к. у нас нет уникального id-клиента и мы не можем с уверенностью утверждать, что это дубликаты. Признаков немного, поэтому высока вероятность совпадения данных о разных клиентах.\n",
    "    \n",
    "</div>"
   ]
  },
  {
   "cell_type": "markdown",
   "metadata": {},
   "source": [
    "<div style=\"border:solid Blue 3px; padding: 20px\">\n",
    "<b>Комментарий студента №1</b> <br><br>\n",
    "Очень спорный момент. Если при использовании линейной модели будет полностью совпадать значения во всех пространставах и значение целевой функции, то модель не обучится лучше. Или я не прав?</div>"
   ]
  },
  {
   "cell_type": "markdown",
   "metadata": {},
   "source": [
    "<div class=\"alert alert-success\">\n",
    "<b>✔️ Комментарий ревьювера v2:</b> В основном так и есть. Но допустим это действительно разные клиенты, рассмотрим тогда двумерную картину.\n",
    "    \n",
    "Есть очень густое облако точек разных клиентов но с одинаковыми параметрами, тогда модель будет стремиться подгоняться под это облако точек, RMSE будет низкое.\n",
    "    \n",
    "Если мы удалим эти дубликаты, то ответы размажутся по всей плоскости и RMSE увеличится. Хорошо это или плохо — зависит от реальных тестовых данных. Если совпадения очень вероятны, то лучше не удалять такие дубликаты.\n",
    "    \n",
    "Но если мы уверены что данные дублируются и ухудшают модель, то конечно нужно избавляться.\n",
    "    \n",
    "</div>"
   ]
  },
  {
   "cell_type": "code",
   "execution_count": 10,
   "metadata": {
    "scrolled": true
   },
   "outputs": [
    {
     "data": {
      "image/png": "[encoded data removed]",
      "text/plain": [
       "<Figure size 720x504 with 6 Axes>"
      ]
     },
     "metadata": {
      "needs_background": "light"
     },
     "output_type": "display_data"
    }
   ],
   "source": [
    "# Посмотрим распределение по каждому региону:\n",
    "def data_distribution(data):\n",
    "    data.hist(figsize=(10,7),\n",
    "              bins=100,\n",
    "              color = 'blue')\n",
    "    plt.show()\n",
    "data_distribution(data)    "
   ]
  },
  {
   "cell_type": "markdown",
   "metadata": {},
   "source": [
    "__Вывод:__\n",
    "\n",
    "* Удалены дубликаты\n",
    "* Аномалии не выявлены"
   ]
  },
  {
   "cell_type": "markdown",
   "metadata": {},
   "source": [
    "<div class=\"alert alert-success\">\n",
    "<b>✔️ Комментарий ревьювера:</b> Предварительный анализ данных выполнен успешно!\n",
    "    \n",
    "Хорошо, что добавил описательную статистику и гистограммы распределения признаков, так мы гораздо лучше поймем особенности данных =)\n",
    "    \n",
    "</div>"
   ]
  },
  {
   "cell_type": "markdown",
   "metadata": {},
   "source": [
    "## Умножение матриц"
   ]
  },
  {
   "cell_type": "markdown",
   "metadata": {},
   "source": [
    "В этом задании вы можете записывать формулы в *Jupyter Notebook.*\n",
    "\n",
    "Чтобы записать формулу внутри текста, окружите её символами доллара \\\\$; если снаружи —  двойными символами \\\\$\\\\$. Эти формулы записываются на языке вёрстки *LaTeX.* \n",
    "\n",
    "Для примера мы записали формулы линейной регрессии. Можете их скопировать и отредактировать, чтобы решить задачу.\n",
    "\n",
    "Работать в *LaTeX* необязательно."
   ]
  },
  {
   "cell_type": "markdown",
   "metadata": {},
   "source": [
    "Обозначения:\n",
    "\n",
    "- $X$ — матрица признаков (нулевой столбец состоит из единиц)\n",
    "\n",
    "- $y$ — вектор целевого признака\n",
    "\n",
    "- $P$ — матрица, на которую умножаются признаки\n",
    "\n",
    "- $w$ — вектор весов линейной регрессии (нулевой элемент равен сдвигу)"
   ]
  },
  {
   "cell_type": "markdown",
   "metadata": {},
   "source": [
    "Предсказания:\n",
    "\n",
    "$$\n",
    "a = Xw\n",
    "$$\n",
    "\n",
    "Задача обучения:\n",
    "\n",
    "$$\n",
    "w = \\arg\\min_w MSE(Xw, y)\n",
    "$$\n",
    "\n",
    "Формула обучения:\n",
    "\n",
    "$$\n",
    "w = (X^T X)^{-1} X^T y\n",
    "$$"
   ]
  },
  {
   "cell_type": "markdown",
   "metadata": {},
   "source": [
    "Ответьте на вопрос и обоснуйте решение. \n",
    " Признаки умножают на обратимую матрицу. Изменится ли качество линейной регрессии? (Её можно обучить заново.)\n",
    " a. Изменится. Приведите примеры матриц.\n",
    " b. Не изменится. Укажите, как связаны параметры линейной регрессии в исходной задаче и в преобразованной."
   ]
  },
  {
   "cell_type": "markdown",
   "metadata": {},
   "source": [
    "**Ответ:** Не изменится.\n",
    "\n",
    "**Обоснование:**\n",
    "\n",
    "* Матрицу $A$ называют обратимой, если для нее существует обратная, в противном случае — необратимой.\n",
    "\n",
    "\n",
    "\n",
    "\n",
    "* **Основные свойства обратной матрицы:**\n",
    "\n",
    "$АА^{-1}=А^{-1}А=E$, где $E$ - единичная матрица.\n",
    "\n",
    "$(АВ)^{-1}=В^{-1}А^{-1}$, т.е. при раскрытии скобок порядок сомножителей меняется на обратный.\n",
    "\n",
    "$(А^{T})^{-1}=(А^{-1})^{T}$, т.е. операции обращения и транспонирования можно менять местами.\n",
    "\n",
    "* **Основные свойства транспонирования матриц:**\n",
    "\n",
    "1. Двойное транспонирование ***возвращает*** исходную матрицу: $(А^{T})^{T}=А$.\n",
    "\n",
    "2. Транспонирование ***суммы*** матриц эквивалентно сумме транспонированных слагаемых: $(А+В)^{T}=А^{T}+В^{T}$.\n",
    "\n",
    "3. Транспонирование ***произведения*** двух матриц эквивалентно произведению транспонированных матриц, взятых ***в обратном порядке***: $(АВ)^{T} = В^{T}А^{T}$.\n",
    "\n",
    "4. Произведение матрицы на свою транспонированную: $А^{T}А$ или $АА^{T}$ всегда имеет результатом ***симметричную*** квадратную матрицу.\n",
    "\n",
    "\n",
    "\n",
    "\n",
    "Пусть матрица $P$ будет обратимой к матрице признаков $A$. \n",
    "\n",
    "Тогда выражение с формулой обучения\n",
    "\n",
    "$$\n",
    "w = (X^T X)^{-1} X^T y\n",
    "$$\n",
    "\n",
    "при умнможении признаков на матрицу $P$ примет следующий вид:\n",
    "\n",
    "$$\n",
    "w(XP, y) = ([XP]^T [XP])^{-1} [XP]^T y\n",
    "$$\n",
    "    \n",
    "воспользуемся свойством транспонированных матриц (Транспонирование произведения двух матриц эквивалентно произведению транспонированных матриц, взятых в обратном порядке):\n",
    "\n",
    "$$\n",
    "w(XP, y) = ([P^T X^T] [XP])^{-1} [P^T X^T] y\n",
    "$$\n",
    "\n",
    "преобразуем равенство в:\n",
    "$$\n",
    "w(XP, y) = P^{-1} (X^T X)^{-1} (P^T)^{-1}[P^T X^T] y\n",
    "$$\n",
    "\n",
    "преобразуем равенство в:\n",
    "$$\n",
    "w(XP, y) = P^{-1}(X^T X)^{-1} [(P^T)^{-1} P^T] X^T y\n",
    "$$\n",
    "\n",
    "преобразуем равенство c учетом того, что $(P^T)^{-1}P^T = E$:\n",
    "\n",
    "$$\n",
    "w(XP, y) = P^{-1} (X ^T X)^{-1}  E X^T y\n",
    "$$\n",
    "\n",
    "Отсюда можно сделать вывод из условия (заданой формулы поиска наименьшей ошибки), что значение:\n",
    "$$\n",
    "w(XP, y) =  P^{-1} w(X, y)\n",
    "$$\n",
    "\n",
    "По сути матрица признаков умножается на возможную обратимую матрицу, то и значения целевой функции тоже умножаются."
   ]
  },
  {
   "cell_type": "markdown",
   "metadata": {},
   "source": [
    "<div class=\"alert alert-success\">\n",
    "<b>✔️ Комментарий ревьювера:</b> Доказательство верное и хорошо оформлено!\n",
    "    \n",
    "Молодец, что не раскрываешь скобки в выражении $(X^T X)^{-1}$, так как матрицы $X$ и $X^T$ прямоугольные и для них не существует обратных матриц.  \n",
    "    \n",
    "Многие делают ошибку в этом месте =)\n",
    "    \n",
    "Скобки в операциях транспонирования раскрыты правильно\n",
    "</div>"
   ]
  },
  {
   "cell_type": "markdown",
   "metadata": {},
   "source": [
    "## Алгоритм преобразования"
   ]
  },
  {
   "cell_type": "markdown",
   "metadata": {},
   "source": [
    "**Алгоритм**\n",
    "\n",
    "* Создание обратимой матрицы\n",
    "* Подготовка данных для анализа\n",
    "* Функция линейной модели\n",
    "* Сравнение результатов"
   ]
  },
  {
   "cell_type": "markdown",
   "metadata": {},
   "source": [
    "**Обоснование**\n",
    "\n",
    "Не совсем понял, какое может быть обоснование, что качество линейной регрессии не поменяется. Фактически оно было теоретически доказано в Главе 2."
   ]
  },
  {
   "cell_type": "markdown",
   "metadata": {},
   "source": [
    "<div class=\"alert alert-success\">\n",
    "<b>✔️ Комментарий ревьювера:</b> Все правильно, обоснованием является доказательство выше\n",
    "    \n",
    "Но далее мы проверяем результаты на модели линейной регрессии из sklearn, в которой используется градиентный спуск для нахождения оптимальных весов линейной регрессии.\n",
    "    \n",
    "В доказательстве выше мы используем теоретическую формулу, но оба метода дают очень близкие результаты\n",
    "    \n",
    "</div>"
   ]
  },
  {
   "cell_type": "markdown",
   "metadata": {},
   "source": [
    "## Проверка алгоритма"
   ]
  },
  {
   "cell_type": "markdown",
   "metadata": {},
   "source": [
    "### Создание обратимой матрицы"
   ]
  },
  {
   "cell_type": "code",
   "execution_count": 11,
   "metadata": {},
   "outputs": [
    {
     "data": {
      "text/plain": [
       "array([[ 1.10444756, -1.68948638,  0.57762796, -0.96913137,  0.60165821],\n",
       "       [ 0.46389972,  0.24347752, -0.33797992, -0.96302223,  1.26451434],\n",
       "       [ 1.508873  , -2.19876701,  1.10247549,  1.14973186,  0.12769319],\n",
       "       [ 1.66822867,  0.96602345,  0.06736122, -0.79340857,  0.7367111 ],\n",
       "       [-1.26573124,  0.59922738, -0.21432057,  0.41837999,  0.19126739]])"
      ]
     },
     "execution_count": 11,
     "metadata": {},
     "output_type": "execute_result"
    }
   ],
   "source": [
    "# Создадим функцию, которая будет возращать обратимую матрицу от полученной:\n",
    "\n",
    "def matrix_reversible(data):\n",
    "    E = np.eye(data.shape[1])                                                 # Создание единичной матрицы:\n",
    "    res = True                                                                # Необходмость повторения res \n",
    "    \n",
    "    while res:\n",
    "        P = np.random.normal(size=(data.shape[1], data.shape[1]))             #Создание случайной матрицы P\n",
    "        if (np.round(P @ np.linalg.inv(P))==E).all() == True: res = False     #Отмена необходимости повторения\n",
    "    return P\n",
    "\n",
    "# Проверим, как работает\n",
    "P = matrix_reversible(data)\n",
    "P"
   ]
  },
  {
   "cell_type": "markdown",
   "metadata": {},
   "source": [
    "<div class=\"alert alert-success\">\n",
    "<b>✔️ Комментарий ревьювера:</b> Правильно, что делаешь проверку матрицы шифрования на обратимость 👍\n",
    "    \n",
    "</div>"
   ]
  },
  {
   "cell_type": "markdown",
   "metadata": {},
   "source": [
    "### Подготовка данных для анализа"
   ]
  },
  {
   "cell_type": "code",
   "execution_count": 12,
   "metadata": {},
   "outputs": [
    {
     "data": {
      "text/plain": [
       "(3877, 970, 3877, 970)"
      ]
     },
     "execution_count": 12,
     "metadata": {},
     "output_type": "execute_result"
    }
   ],
   "source": [
    "# Подготовим данные для анализа (фактически возьмем уже готовые из вышеобработанной)\n",
    "X = data.loc[:, ['Пол', 'Возраст', 'Зарплата', 'Члены семьи']]\n",
    "y = data.loc[:, ['Страховые выплаты']]\n",
    "\n",
    "# разобьем их на обучающую и тестовую:\n",
    "X_train, X_test, y_train, y_test = train_test_split(X, y,\n",
    "                                                    test_size=0.2,\n",
    "                                                    random_state=RANDOM_STATE)\n",
    "\n",
    "# проверим, что получилось:\n",
    "len(X_train), len(X_test), len(y_train), len(y_test)"
   ]
  },
  {
   "cell_type": "markdown",
   "metadata": {},
   "source": [
    "### Функция линейной модели"
   ]
  },
  {
   "cell_type": "code",
   "execution_count": 13,
   "metadata": {},
   "outputs": [],
   "source": [
    "# Создадим функцию с линейной моделью, которая будет принимать на вход датасеты\n",
    "def line_model(X_train, X_test, y_train, y_test):\n",
    "    LM = LinearRegression()\n",
    "    LM.fit(X_train, y_train)\n",
    "    \n",
    "    pred = LM.predict(X_test)\n",
    "    return r2_score(y_test, pred)"
   ]
  },
  {
   "cell_type": "markdown",
   "metadata": {},
   "source": [
    "### Сравнение результатов"
   ]
  },
  {
   "cell_type": "code",
   "execution_count": 14,
   "metadata": {},
   "outputs": [
    {
     "data": {
      "text/html": [
       "<div>\n",
       "<style scoped>\n",
       "    .dataframe tbody tr th:only-of-type {\n",
       "        vertical-align: middle;\n",
       "    }\n",
       "\n",
       "    .dataframe tbody tr th {\n",
       "        vertical-align: top;\n",
       "    }\n",
       "\n",
       "    .dataframe thead th {\n",
       "        text-align: right;\n",
       "    }\n",
       "</style>\n",
       "<table border=\"1\" class=\"dataframe\">\n",
       "  <thead>\n",
       "    <tr style=\"text-align: right;\">\n",
       "      <th></th>\n",
       "      <th>Модель</th>\n",
       "      <th>R2</th>\n",
       "    </tr>\n",
       "  </thead>\n",
       "  <tbody>\n",
       "    <tr>\n",
       "      <th>0</th>\n",
       "      <td>Line model (до преобразований)</td>\n",
       "      <td>0.439266</td>\n",
       "    </tr>\n",
       "    <tr>\n",
       "      <th>1</th>\n",
       "      <td>Line model (после преобразований)</td>\n",
       "      <td>0.439266</td>\n",
       "    </tr>\n",
       "  </tbody>\n",
       "</table>\n",
       "</div>"
      ],
      "text/plain": [
       "                              Модель        R2\n",
       "0     Line model (до преобразований)  0.439266\n",
       "1  Line model (после преобразований)  0.439266"
      ]
     },
     "execution_count": 14,
     "metadata": {},
     "output_type": "execute_result"
    }
   ],
   "source": [
    "# создадим df для исследований\n",
    "model_rep = pd.DataFrame({\"Модель\": [],\n",
    "                          \"R2\": []\n",
    "                          })\n",
    "\n",
    "# до преобразований\n",
    "model_rep = model_rep.append({\"Модель\": 'Line model (до преобразований)',\n",
    "                          \"R2\": line_model(X_train, X_test, y_train, y_test)},\n",
    "                         ignore_index=True)\n",
    "\n",
    "# после преобразований\n",
    "P = matrix_reversible(X_train)\n",
    "model_rep = model_rep.append({\"Модель\": 'Line model (после преобразований)',\n",
    "                          \"R2\": line_model(X_train @ P, X_test @ P, y_train, y_test)},\n",
    "                         ignore_index=True)\n",
    "\n",
    "model_rep"
   ]
  },
  {
   "cell_type": "markdown",
   "metadata": {},
   "source": [
    "<div class=\"alert alert-success\">\n",
    "<b>✔️ Комментарий ревьювера:</b> Качество предсказания действительно не изменяется, результат достигнут!\n",
    "    \n",
    "Еще могу порекомендовать вот такой материал:\n",
    "    \n",
    "https://habr.com/ru/post/479398/\n",
    "\n",
    "https://habr.com/ru/company/vk/blog/478514/ Применение зашифрованных данных для машинного обучения\n",
    "\n",
    "https://www.amazon.science/blog/machine-learning-models-that-act-on-encrypted-data#:~:text=Privacy%2Dpreserving%20machine%20learning%20 Privacy-preserving machine learning (PPML)\n",
    " \n",
    "</div>"
   ]
  },
  {
   "cell_type": "markdown",
   "metadata": {},
   "source": [
    "### Выводы"
   ]
  },
  {
   "cell_type": "markdown",
   "metadata": {},
   "source": [
    "Рамках работы:\n",
    "\n",
    "* Загружены и изучены данные по количиеству страховых выплат в зависимости от признаков застрахованных лиц.\n",
    "* Произведена преобработка описанных данных\n",
    "* Теоретически доказано, что при умножении признаков на обратимую матрицу, качество не изменится.\n",
    "* Реализован алгоритм с помощью матричных операций. Качество линейной регрессии из sklearn не отличается до и после преобразования. Использована метрику R2.\n"
   ]
  },
  {
   "cell_type": "markdown",
   "metadata": {},
   "source": [
    "<div style=\"border:solid Blue 3px; padding: 20px\">\n",
    "<b>Комментарий студента №0</b> <br><br>\n",
    "Работа мне показалась очень простой относительно предыдущих. Возможно, что-то недоделал :)\n",
    "    \n",
    "1) Почему выбрана метрика R2? Будет это работать на других метриках?\n",
    "\n",
    "2) Напиши, пожаулйста, в ответе на это сообщение несколько полезных ссылок, которые обоготят мой код.\n",
    "Очень необходим (!) хороший мануал по pipline. Он будет изучаться в дальнешем?\n",
    "\n",
    "3) Чего мне нехватает для достижения недостижимого идеала =)? Я прочитаю комментарий, даже если ты зачтешь работу сразу.\n",
    "    \n",
    "Спасибо.\n",
    "</div>"
   ]
  },
  {
   "cell_type": "markdown",
   "metadata": {},
   "source": [
    "<div class=\"alert alert-success\">\n",
    "<b>✔️ Комментарий ревьювера:</b> Согласен, данная работа небольшая по объему, но у многих возникают трудности с теоретическим доказательством и матричными операциями.\n",
    "    \n",
    "Дополнительно можно посмотреть матрицу корреляции для числовых признаков. Если смотреть корреляцию Пирсона, то признак gender нужно убрать, т.к. этот признак бинарный, и для него неправильно считать корреляцию Пирсона.\n",
    "    \n",
    "Для анализа корреляции смешанного набора признаков можно применять библиотеку phik:\n",
    "\n",
    "https://towardsdatascience.com/phik-k-get-familiar-with-the-latest-correlation-coefficient-9ba0032b37e7\n",
    "\n",
    "Но библиотека phik долго работает на больших датасетах.\n",
    "\n",
    "В данной работе также можно посмотреть веса линейной регрессии на исходных и зашифрованных признаках.\n",
    "    \n",
    "1. На других метриках то же мы увидим сходство. В данном случае после шифрования признаки становятся линейно-зависимыми, поэтому предсказания получаются одинаковыми.\n",
    "    \n",
    "2. В проекте Численные методы можно будет применить Pipeline. Вот пример от старшего ревьювера:\n",
    "    \n",
    "https://colab.research.google.com/drive/1_gAMXcQKoCShB_l8FNtYEejMnosm9mvt?usp=sharing\n",
    "    \n",
    "3. У тебя очень хорошая работа, как говорится хороша ложка к обеду =) Выше я написал некоторые рекомендации, в частности по корреляции \n",
    " \n",
    "</div>"
   ]
  },
  {
   "cell_type": "markdown",
   "metadata": {},
   "source": [
    "<div style=\"border:solid Blue 3px; padding: 20px\">\n",
    "<b>Комментарий студента №0</b> <br><br>\n",
    "Пользуясь случаем, поздравляю с наступившим новым годом! Лови подарок!:)\n",
    "</div>"
   ]
  },
  {
   "cell_type": "markdown",
   "metadata": {},
   "source": [
    "<font color=blue>\n",
    "<b> ✔️ 👍Заключение ревьювера:</b> Эдуард, было приятно проверять твою работу, она выполнена на хорошем уровне!\n",
    "Могу отметить грамотно составленный код, теоретическую часть без ошибок, хорошую практическую часть.\n",
    "\n",
    "Ошибок в работе нет, я отметил только рекомендации =)\n",
    "\n",
    "Отправляю работу для ознакомления с ходом проверки, а также если есть вопросы — смело задавай их, я постараюсь тебе помочь 😊\n",
    "\n",
    "Жду твоего ответа!\n",
    "</font>"
   ]
  },
  {
   "cell_type": "markdown",
   "metadata": {},
   "source": [
    "<div style=\"border:solid Blue 3px; padding: 20px\">\n",
    "<b>Комментарий студента №1</b> <br><br>\n",
    "Арсен, спасибо за комментарии и большое количество ссылок.👍 <br>\n",
    "✔️ Зачти, пожалуйста, работу. Без зачета у меня не открывается дальнешее обучение.\n",
    "Спасибо.\n",
    "</div>"
   ]
  },
  {
   "cell_type": "markdown",
   "metadata": {},
   "source": [
    "<div class=\"alert alert-success\">\n",
    "<b>✔️ Комментарий ревьювера v2:</b> Эдуард, тебе спасибо за хорошую работу!\n",
    "    \n",
    "Проект принимаю, желаю успехов в дальнейшем обучении =)\n",
    "    \n",
    "</div>"
   ]
  },
  {
   "cell_type": "markdown",
   "metadata": {},
   "source": [
    "<div class=\"alert alert-success\">\n",
    "<b>✔️ Комментарий ревьювера:</b> Спасибо большое, и тебя с Новым годом!!!\n",
    "    \n",
    "Отличная елочка получилась 😊\n",
    " \n",
    "</div>"
   ]
  },
  {
   "cell_type": "code",
   "execution_count": 15,
   "metadata": {},
   "outputs": [
    {
     "name": "stdout",
     "output_type": "stream",
     "text": [
      "___________________o*___________________\n",
      "__________________****__________________\n",
      "_________________***o**_________________\n",
      "________________********________________\n",
      "_______________*o********_______________\n",
      "______________************______________\n",
      "_____________*******o******_____________\n",
      "____________****************____________\n",
      "___________*****************o___________\n",
      "__________********************__________\n",
      "_________****************o*****_________\n",
      "________************************________\n",
      "_______*********************o****_______\n",
      "______****************************______\n",
      "_____o*****************************_____\n",
      "____********************************____\n",
      "___************o*********************___\n",
      "__************************************__\n",
      "_****************o*********************_\n",
      "****************************************\n"
     ]
    }
   ],
   "source": [
    "from random import randint\n",
    "\n",
    "SPACE = '_'\n",
    "STRAR = '*'\n",
    "\n",
    "def toy(line):\n",
    "    tmp = ''\n",
    "    index = randint(0, len(line)-1)\n",
    "\n",
    "    for i in range(len(line)):\n",
    "        tmp += line[i] if i != index else 'o'\n",
    "\n",
    "    return tmp\n",
    "\n",
    "\n",
    "if __name__ == \"__main__\":\n",
    "    rows = 20\n",
    "    spaces = rows-1\n",
    "    stars = 2\n",
    "\n",
    "    for i in range(rows):\n",
    "        print(\n",
    "            (SPACE*spaces) +\n",
    "            ((STRAR*stars) if (i % 2) != 0 else toy(STRAR*stars)) +\n",
    "            (SPACE*spaces)\n",
    "        )\n",
    "        stars += 2\n",
    "        spaces -= 1"
   ]
  },
  {
   "cell_type": "markdown",
   "metadata": {},
   "source": [
    "## Чек-лист проверки"
   ]
  },
  {
   "cell_type": "markdown",
   "metadata": {},
   "source": [
    "Поставьте 'x' в выполненных пунктах. Далее нажмите Shift+Enter."
   ]
  },
  {
   "cell_type": "markdown",
   "metadata": {},
   "source": [
    "- [x]  Jupyter Notebook открыт\n",
    "- [x]  Весь код выполняется без ошибок\n",
    "- [x]  Ячейки с кодом расположены в порядке исполнения\n",
    "- [x]  Выполнен шаг 1: данные загружены\n",
    "- [x]  Выполнен шаг 2: получен ответ на вопрос об умножении матриц\n",
    "    - [x]  Указан правильный вариант ответа\n",
    "    - [x]  Вариант обоснован\n",
    "- [x]  Выполнен шаг 3: предложен алгоритм преобразования\n",
    "    - [x]  Алгоритм описан\n",
    "    - [x]  Алгоритм обоснован\n",
    "- [x]  Выполнен шаг 4: алгоритм проверен\n",
    "    - [x]  Алгоритм реализован\n",
    "    - [x]  Проведено сравнение качества моделей до и после преобразования"
   ]
  },
  {
   "cell_type": "code",
   "execution_count": null,
   "metadata": {},
   "outputs": [],
   "source": []
  }
 ],
 "metadata": {
  "ExecuteTimeLog": [
   {
    "duration": 4,
    "start_time": "2023-01-02T18:20:41.649Z"
   },
   {
    "duration": 7,
    "start_time": "2023-01-02T18:21:45.068Z"
   },
   {
    "duration": 354,
    "start_time": "2023-01-02T18:21:54.330Z"
   },
   {
    "duration": 3,
    "start_time": "2023-01-02T18:22:11.577Z"
   },
   {
    "duration": 78,
    "start_time": "2023-01-02T18:28:37.511Z"
   },
   {
    "duration": 18,
    "start_time": "2023-01-02T18:28:43.979Z"
   },
   {
    "duration": 29,
    "start_time": "2023-01-02T18:38:27.125Z"
   },
   {
    "duration": 9,
    "start_time": "2023-01-02T18:39:01.084Z"
   },
   {
    "duration": 11,
    "start_time": "2023-01-02T18:41:26.893Z"
   },
   {
    "duration": 41,
    "start_time": "2023-01-02T18:42:04.652Z"
   },
   {
    "duration": 7,
    "start_time": "2023-01-02T18:45:22.751Z"
   },
   {
    "duration": 8,
    "start_time": "2023-01-02T18:46:49.691Z"
   },
   {
    "duration": 29,
    "start_time": "2023-01-02T18:47:28.337Z"
   },
   {
    "duration": 3,
    "start_time": "2023-01-02T18:47:56.721Z"
   },
   {
    "duration": 33,
    "start_time": "2023-01-02T18:47:56.727Z"
   },
   {
    "duration": 9,
    "start_time": "2023-01-02T18:47:56.762Z"
   },
   {
    "duration": 24,
    "start_time": "2023-01-02T18:47:56.773Z"
   },
   {
    "duration": 10,
    "start_time": "2023-01-02T18:47:56.799Z"
   },
   {
    "duration": 7,
    "start_time": "2023-01-02T18:47:56.811Z"
   },
   {
    "duration": 1639,
    "start_time": "2023-01-02T18:51:29.353Z"
   },
   {
    "duration": 50,
    "start_time": "2023-01-02T18:51:56.979Z"
   },
   {
    "duration": 3,
    "start_time": "2023-01-02T18:52:06.226Z"
   },
   {
    "duration": 1125,
    "start_time": "2023-01-02T18:52:13.306Z"
   },
   {
    "duration": 810,
    "start_time": "2023-01-03T11:04:55.151Z"
   },
   {
    "duration": 83,
    "start_time": "2023-01-03T11:04:55.964Z"
   },
   {
    "duration": 13,
    "start_time": "2023-01-03T11:04:56.050Z"
   },
   {
    "duration": 38,
    "start_time": "2023-01-03T11:04:56.065Z"
   },
   {
    "duration": 12,
    "start_time": "2023-01-03T11:04:56.105Z"
   },
   {
    "duration": 14,
    "start_time": "2023-01-03T11:04:56.118Z"
   },
   {
    "duration": 25,
    "start_time": "2023-01-03T11:04:56.133Z"
   },
   {
    "duration": 1236,
    "start_time": "2023-01-03T11:04:56.159Z"
   },
   {
    "duration": 41,
    "start_time": "2023-01-03T11:04:57.397Z"
   },
   {
    "duration": 3,
    "start_time": "2023-01-03T11:10:55.405Z"
   },
   {
    "duration": 60,
    "start_time": "2023-01-03T11:10:55.410Z"
   },
   {
    "duration": 8,
    "start_time": "2023-01-03T11:10:55.473Z"
   },
   {
    "duration": 65,
    "start_time": "2023-01-03T11:10:55.484Z"
   },
   {
    "duration": 10,
    "start_time": "2023-01-03T11:10:55.551Z"
   },
   {
    "duration": 39,
    "start_time": "2023-01-03T11:10:55.562Z"
   },
   {
    "duration": 21,
    "start_time": "2023-01-03T11:10:55.603Z"
   },
   {
    "duration": 1218,
    "start_time": "2023-01-03T11:10:55.626Z"
   },
   {
    "duration": 2,
    "start_time": "2023-01-03T11:11:42.683Z"
   },
   {
    "duration": 833,
    "start_time": "2023-01-05T07:57:34.484Z"
   },
   {
    "duration": 76,
    "start_time": "2023-01-05T07:57:35.319Z"
   },
   {
    "duration": 14,
    "start_time": "2023-01-05T07:57:35.397Z"
   },
   {
    "duration": 26,
    "start_time": "2023-01-05T07:57:35.414Z"
   },
   {
    "duration": 13,
    "start_time": "2023-01-05T07:57:35.441Z"
   },
   {
    "duration": 6,
    "start_time": "2023-01-05T07:57:35.456Z"
   },
   {
    "duration": 12,
    "start_time": "2023-01-05T07:57:35.464Z"
   },
   {
    "duration": 1185,
    "start_time": "2023-01-05T07:57:35.478Z"
   },
   {
    "duration": 71,
    "start_time": "2023-01-05T08:09:50.017Z"
   },
   {
    "duration": 2,
    "start_time": "2023-01-05T08:10:15.191Z"
   },
   {
    "duration": 5,
    "start_time": "2023-01-05T08:10:20.967Z"
   },
   {
    "duration": 13,
    "start_time": "2023-01-05T08:25:51.609Z"
   },
   {
    "duration": 10,
    "start_time": "2023-01-05T08:26:19.151Z"
   },
   {
    "duration": 5,
    "start_time": "2023-01-05T08:27:09.437Z"
   },
   {
    "duration": 7,
    "start_time": "2023-01-05T08:27:15.781Z"
   },
   {
    "duration": 4,
    "start_time": "2023-01-05T08:29:47.391Z"
   },
   {
    "duration": 6,
    "start_time": "2023-01-05T08:29:52.055Z"
   },
   {
    "duration": 12,
    "start_time": "2023-01-05T08:31:50.186Z"
   },
   {
    "duration": 11,
    "start_time": "2023-01-05T08:32:07.010Z"
   },
   {
    "duration": 7872,
    "start_time": "2023-01-05T08:33:18.391Z"
   },
   {
    "duration": 17,
    "start_time": "2023-01-05T08:36:31.407Z"
   },
   {
    "duration": 7,
    "start_time": "2023-01-05T08:38:06.884Z"
   },
   {
    "duration": 6,
    "start_time": "2023-01-05T08:38:24.347Z"
   },
   {
    "duration": 8,
    "start_time": "2023-01-05T08:38:44.042Z"
   },
   {
    "duration": 11,
    "start_time": "2023-01-05T08:42:10.738Z"
   },
   {
    "duration": 7,
    "start_time": "2023-01-05T08:42:13.929Z"
   },
   {
    "duration": 13,
    "start_time": "2023-01-05T08:44:59.612Z"
   },
   {
    "duration": 0,
    "start_time": "2023-01-05T08:45:20.862Z"
   },
   {
    "duration": 8790,
    "start_time": "2023-01-05T08:45:32.537Z"
   },
   {
    "duration": 4297,
    "start_time": "2023-01-05T08:45:53.392Z"
   },
   {
    "duration": 9,
    "start_time": "2023-01-05T08:46:28.943Z"
   },
   {
    "duration": 8,
    "start_time": "2023-01-05T08:46:36.814Z"
   },
   {
    "duration": 9,
    "start_time": "2023-01-05T08:46:45.022Z"
   },
   {
    "duration": 9,
    "start_time": "2023-01-05T08:46:52.366Z"
   },
   {
    "duration": 9,
    "start_time": "2023-01-05T08:46:56.981Z"
   },
   {
    "duration": 7,
    "start_time": "2023-01-05T08:47:00.437Z"
   },
   {
    "duration": 7,
    "start_time": "2023-01-05T08:47:55.205Z"
   },
   {
    "duration": 7,
    "start_time": "2023-01-05T08:48:06.059Z"
   },
   {
    "duration": 7,
    "start_time": "2023-01-05T08:48:09.075Z"
   },
   {
    "duration": 6,
    "start_time": "2023-01-05T08:49:23.392Z"
   },
   {
    "duration": 13,
    "start_time": "2023-01-05T08:49:35.830Z"
   },
   {
    "duration": 12,
    "start_time": "2023-01-05T08:50:42.374Z"
   },
   {
    "duration": 49,
    "start_time": "2023-01-05T08:51:44.875Z"
   },
   {
    "duration": 51,
    "start_time": "2023-01-05T08:52:15.945Z"
   },
   {
    "duration": 46,
    "start_time": "2023-01-05T08:52:19.801Z"
   },
   {
    "duration": 44,
    "start_time": "2023-01-05T08:52:29.512Z"
   },
   {
    "duration": 59,
    "start_time": "2023-01-05T08:52:59.439Z"
   },
   {
    "duration": 12,
    "start_time": "2023-01-05T08:53:50.629Z"
   },
   {
    "duration": 12,
    "start_time": "2023-01-05T08:54:47.444Z"
   },
   {
    "duration": 20,
    "start_time": "2023-01-05T08:55:38.913Z"
   },
   {
    "duration": 6,
    "start_time": "2023-01-05T08:56:50.566Z"
   },
   {
    "duration": 5,
    "start_time": "2023-01-05T08:57:21.980Z"
   },
   {
    "duration": 5,
    "start_time": "2023-01-05T08:57:28.460Z"
   },
   {
    "duration": 581,
    "start_time": "2023-01-05T08:59:28.754Z"
   },
   {
    "duration": 29,
    "start_time": "2023-01-05T08:59:29.338Z"
   },
   {
    "duration": 12,
    "start_time": "2023-01-05T08:59:29.369Z"
   },
   {
    "duration": 23,
    "start_time": "2023-01-05T08:59:29.383Z"
   },
   {
    "duration": 10,
    "start_time": "2023-01-05T08:59:29.408Z"
   },
   {
    "duration": 7,
    "start_time": "2023-01-05T08:59:29.420Z"
   },
   {
    "duration": 8,
    "start_time": "2023-01-05T08:59:29.428Z"
   },
   {
    "duration": 1118,
    "start_time": "2023-01-05T08:59:29.437Z"
   },
   {
    "duration": 75,
    "start_time": "2023-01-05T08:59:30.556Z"
   },
   {
    "duration": 3,
    "start_time": "2023-01-05T08:59:40.891Z"
   },
   {
    "duration": 30,
    "start_time": "2023-01-05T08:59:40.896Z"
   },
   {
    "duration": 8,
    "start_time": "2023-01-05T08:59:40.928Z"
   },
   {
    "duration": 30,
    "start_time": "2023-01-05T08:59:40.939Z"
   },
   {
    "duration": 10,
    "start_time": "2023-01-05T08:59:40.971Z"
   },
   {
    "duration": 8,
    "start_time": "2023-01-05T08:59:40.983Z"
   },
   {
    "duration": 27,
    "start_time": "2023-01-05T08:59:40.992Z"
   },
   {
    "duration": 1147,
    "start_time": "2023-01-05T08:59:41.021Z"
   },
   {
    "duration": 6,
    "start_time": "2023-01-05T08:59:42.171Z"
   },
   {
    "duration": 9,
    "start_time": "2023-01-05T09:00:02.398Z"
   },
   {
    "duration": 8,
    "start_time": "2023-01-05T09:00:35.925Z"
   },
   {
    "duration": 11,
    "start_time": "2023-01-05T09:00:38.908Z"
   },
   {
    "duration": 3,
    "start_time": "2023-01-05T09:01:57.017Z"
   },
   {
    "duration": 7,
    "start_time": "2023-01-05T09:02:43.416Z"
   },
   {
    "duration": 2,
    "start_time": "2023-01-05T09:04:59.907Z"
   },
   {
    "duration": 9,
    "start_time": "2023-01-05T09:06:33.807Z"
   },
   {
    "duration": 9,
    "start_time": "2023-01-05T09:06:43.128Z"
   },
   {
    "duration": 1380,
    "start_time": "2023-01-05T09:07:10.574Z"
   },
   {
    "duration": 9,
    "start_time": "2023-01-05T09:07:15.054Z"
   },
   {
    "duration": 12,
    "start_time": "2023-01-05T09:07:32.213Z"
   },
   {
    "duration": 14,
    "start_time": "2023-01-05T09:08:34.650Z"
   },
   {
    "duration": 9,
    "start_time": "2023-01-05T09:08:47.793Z"
   },
   {
    "duration": 12,
    "start_time": "2023-01-05T09:08:59.057Z"
   },
   {
    "duration": 11,
    "start_time": "2023-01-05T09:11:18.516Z"
   },
   {
    "duration": 628,
    "start_time": "2023-01-05T09:11:48.226Z"
   },
   {
    "duration": 10,
    "start_time": "2023-01-05T09:11:59.658Z"
   },
   {
    "duration": 46,
    "start_time": "2023-01-05T09:34:08.622Z"
   },
   {
    "duration": 22,
    "start_time": "2023-01-05T09:34:34.940Z"
   },
   {
    "duration": 21,
    "start_time": "2023-01-05T09:34:40.707Z"
   },
   {
    "duration": 12,
    "start_time": "2023-01-05T09:34:55.508Z"
   },
   {
    "duration": 3,
    "start_time": "2023-01-05T09:36:08.808Z"
   },
   {
    "duration": 21,
    "start_time": "2023-01-05T09:40:26.855Z"
   },
   {
    "duration": 12,
    "start_time": "2023-01-05T09:41:32.685Z"
   },
   {
    "duration": 14,
    "start_time": "2023-01-05T09:43:44.014Z"
   },
   {
    "duration": 88,
    "start_time": "2023-01-05T09:44:28.925Z"
   },
   {
    "duration": 7,
    "start_time": "2023-01-05T09:46:11.224Z"
   },
   {
    "duration": 2,
    "start_time": "2023-01-05T09:50:06.719Z"
   },
   {
    "duration": 34,
    "start_time": "2023-01-05T09:54:25.500Z"
   },
   {
    "duration": 3,
    "start_time": "2023-01-05T09:54:40.163Z"
   },
   {
    "duration": 2,
    "start_time": "2023-01-05T09:54:45.195Z"
   },
   {
    "duration": 47,
    "start_time": "2023-01-05T10:07:38.710Z"
   },
   {
    "duration": 5888,
    "start_time": "2023-01-05T10:08:29.851Z"
   },
   {
    "duration": 2752,
    "start_time": "2023-01-05T10:09:38.528Z"
   },
   {
    "duration": 3336,
    "start_time": "2023-01-05T10:11:39.652Z"
   },
   {
    "duration": 6,
    "start_time": "2023-01-05T10:11:54.794Z"
   },
   {
    "duration": 4,
    "start_time": "2023-01-05T10:19:25.380Z"
   },
   {
    "duration": 5,
    "start_time": "2023-01-05T10:19:25.386Z"
   },
   {
    "duration": 31,
    "start_time": "2023-01-05T10:19:25.393Z"
   },
   {
    "duration": 10,
    "start_time": "2023-01-05T10:19:25.427Z"
   },
   {
    "duration": 29,
    "start_time": "2023-01-05T10:19:25.438Z"
   },
   {
    "duration": 13,
    "start_time": "2023-01-05T10:19:25.469Z"
   },
   {
    "duration": 8,
    "start_time": "2023-01-05T10:19:25.484Z"
   },
   {
    "duration": 9,
    "start_time": "2023-01-05T10:19:25.513Z"
   },
   {
    "duration": 1286,
    "start_time": "2023-01-05T10:19:25.524Z"
   },
   {
    "duration": 7,
    "start_time": "2023-01-05T10:19:26.812Z"
   },
   {
    "duration": 96,
    "start_time": "2023-01-05T10:19:26.821Z"
   },
   {
    "duration": 5,
    "start_time": "2023-01-05T10:19:26.919Z"
   },
   {
    "duration": 122,
    "start_time": "2023-01-05T10:19:26.925Z"
   },
   {
    "duration": 7,
    "start_time": "2023-01-05T10:19:27.114Z"
   },
   {
    "duration": 3,
    "start_time": "2023-01-05T10:23:42.670Z"
   },
   {
    "duration": 4,
    "start_time": "2023-01-05T10:24:37.460Z"
   },
   {
    "duration": 21,
    "start_time": "2023-01-05T10:24:38.993Z"
   },
   {
    "duration": 4,
    "start_time": "2023-01-05T10:24:56.627Z"
   },
   {
    "duration": 22,
    "start_time": "2023-01-05T10:24:58.291Z"
   },
   {
    "duration": 3,
    "start_time": "2023-01-05T10:25:06.051Z"
   },
   {
    "duration": 27,
    "start_time": "2023-01-05T10:25:35.882Z"
   },
   {
    "duration": 27,
    "start_time": "2023-01-05T10:25:40.867Z"
   },
   {
    "duration": 31,
    "start_time": "2023-01-05T10:25:56.585Z"
   },
   {
    "duration": 3,
    "start_time": "2023-01-05T10:26:12.932Z"
   },
   {
    "duration": 5,
    "start_time": "2023-01-05T10:26:12.937Z"
   },
   {
    "duration": 29,
    "start_time": "2023-01-05T10:26:12.943Z"
   },
   {
    "duration": 9,
    "start_time": "2023-01-05T10:26:12.974Z"
   },
   {
    "duration": 28,
    "start_time": "2023-01-05T10:26:12.984Z"
   },
   {
    "duration": 10,
    "start_time": "2023-01-05T10:26:13.014Z"
   },
   {
    "duration": 7,
    "start_time": "2023-01-05T10:26:13.025Z"
   },
   {
    "duration": 7,
    "start_time": "2023-01-05T10:26:13.034Z"
   },
   {
    "duration": 1210,
    "start_time": "2023-01-05T10:26:13.043Z"
   },
   {
    "duration": 9,
    "start_time": "2023-01-05T10:26:14.255Z"
   },
   {
    "duration": 100,
    "start_time": "2023-01-05T10:26:14.313Z"
   },
   {
    "duration": 4,
    "start_time": "2023-01-05T10:26:17.744Z"
   },
   {
    "duration": 31,
    "start_time": "2023-01-05T10:26:37.376Z"
   },
   {
    "duration": 4,
    "start_time": "2023-01-05T10:26:41.471Z"
   },
   {
    "duration": 5,
    "start_time": "2023-01-05T10:26:43.463Z"
   },
   {
    "duration": 29,
    "start_time": "2023-01-05T10:26:45.887Z"
   },
   {
    "duration": 26,
    "start_time": "2023-01-05T10:26:51.327Z"
   },
   {
    "duration": 26,
    "start_time": "2023-01-05T10:28:19.428Z"
   },
   {
    "duration": 30,
    "start_time": "2023-01-05T10:28:24.875Z"
   },
   {
    "duration": 4,
    "start_time": "2023-01-05T10:28:30.075Z"
   },
   {
    "duration": 31,
    "start_time": "2023-01-05T10:28:34.619Z"
   },
   {
    "duration": 14,
    "start_time": "2023-01-05T10:28:54.098Z"
   },
   {
    "duration": 25,
    "start_time": "2023-01-05T10:29:08.386Z"
   },
   {
    "duration": 23,
    "start_time": "2023-01-05T10:29:15.858Z"
   },
   {
    "duration": 4,
    "start_time": "2023-01-05T10:29:56.527Z"
   },
   {
    "duration": 23,
    "start_time": "2023-01-05T10:30:43.982Z"
   },
   {
    "duration": 22,
    "start_time": "2023-01-05T10:31:05.677Z"
   },
   {
    "duration": 21,
    "start_time": "2023-01-05T10:31:21.108Z"
   },
   {
    "duration": 14,
    "start_time": "2023-01-05T10:31:41.115Z"
   },
   {
    "duration": 22,
    "start_time": "2023-01-05T10:32:22.978Z"
   },
   {
    "duration": 4,
    "start_time": "2023-01-05T10:33:12.784Z"
   },
   {
    "duration": 20,
    "start_time": "2023-01-05T10:33:30.216Z"
   },
   {
    "duration": 3,
    "start_time": "2023-01-05T10:33:35.203Z"
   },
   {
    "duration": 9,
    "start_time": "2023-01-05T10:33:35.208Z"
   },
   {
    "duration": 37,
    "start_time": "2023-01-05T10:33:35.218Z"
   },
   {
    "duration": 9,
    "start_time": "2023-01-05T10:33:35.257Z"
   },
   {
    "duration": 24,
    "start_time": "2023-01-05T10:33:35.267Z"
   },
   {
    "duration": 10,
    "start_time": "2023-01-05T10:33:35.293Z"
   },
   {
    "duration": 10,
    "start_time": "2023-01-05T10:33:35.305Z"
   },
   {
    "duration": 10,
    "start_time": "2023-01-05T10:33:35.317Z"
   },
   {
    "duration": 1353,
    "start_time": "2023-01-05T10:33:35.331Z"
   },
   {
    "duration": 32,
    "start_time": "2023-01-05T10:33:36.685Z"
   },
   {
    "duration": 99,
    "start_time": "2023-01-05T10:33:36.718Z"
   },
   {
    "duration": 4,
    "start_time": "2023-01-05T10:33:36.819Z"
   },
   {
    "duration": 22,
    "start_time": "2023-01-05T10:33:36.825Z"
   },
   {
    "duration": 30,
    "start_time": "2023-01-05T10:33:51.015Z"
   },
   {
    "duration": 1278,
    "start_time": "2023-01-05T10:37:20.580Z"
   },
   {
    "duration": 3,
    "start_time": "2023-01-05T10:37:21.860Z"
   },
   {
    "duration": 37,
    "start_time": "2023-01-05T10:37:21.864Z"
   },
   {
    "duration": 13,
    "start_time": "2023-01-05T10:37:21.903Z"
   },
   {
    "duration": 24,
    "start_time": "2023-01-05T10:37:21.917Z"
   },
   {
    "duration": 10,
    "start_time": "2023-01-05T10:37:21.943Z"
   },
   {
    "duration": 5,
    "start_time": "2023-01-05T10:37:21.955Z"
   },
   {
    "duration": 8,
    "start_time": "2023-01-05T10:37:21.962Z"
   },
   {
    "duration": 1135,
    "start_time": "2023-01-05T10:37:21.971Z"
   },
   {
    "duration": 8,
    "start_time": "2023-01-05T10:37:23.111Z"
   },
   {
    "duration": 98,
    "start_time": "2023-01-05T10:37:23.121Z"
   },
   {
    "duration": 92,
    "start_time": "2023-01-05T10:37:23.221Z"
   },
   {
    "duration": 97,
    "start_time": "2023-01-05T10:37:23.315Z"
   },
   {
    "duration": 8,
    "start_time": "2023-01-05T10:37:23.415Z"
   },
   {
    "duration": 1798,
    "start_time": "2023-01-05T16:30:50.093Z"
   },
   {
    "duration": 2,
    "start_time": "2023-01-05T16:30:51.893Z"
   },
   {
    "duration": 77,
    "start_time": "2023-01-05T16:30:51.897Z"
   },
   {
    "duration": 12,
    "start_time": "2023-01-05T16:30:51.976Z"
   },
   {
    "duration": 31,
    "start_time": "2023-01-05T16:30:51.989Z"
   },
   {
    "duration": 10,
    "start_time": "2023-01-05T16:30:52.021Z"
   },
   {
    "duration": 5,
    "start_time": "2023-01-05T16:30:52.033Z"
   },
   {
    "duration": 7,
    "start_time": "2023-01-05T16:30:52.039Z"
   },
   {
    "duration": 1069,
    "start_time": "2023-01-05T16:30:52.048Z"
   },
   {
    "duration": 7,
    "start_time": "2023-01-05T16:30:53.120Z"
   },
   {
    "duration": 174,
    "start_time": "2023-01-05T16:30:53.128Z"
   },
   {
    "duration": 3,
    "start_time": "2023-01-05T16:30:53.304Z"
   },
   {
    "duration": 30,
    "start_time": "2023-01-05T16:30:53.308Z"
   },
   {
    "duration": 8,
    "start_time": "2023-01-05T16:30:53.397Z"
   },
   {
    "duration": 50,
    "start_time": "2023-01-05T16:55:41.160Z"
   },
   {
    "duration": 54,
    "start_time": "2023-01-05T16:55:48.919Z"
   },
   {
    "duration": 3,
    "start_time": "2023-01-05T16:55:57.039Z"
   },
   {
    "duration": 5,
    "start_time": "2023-01-05T16:56:08.568Z"
   },
   {
    "duration": 27,
    "start_time": "2023-01-05T16:56:12.472Z"
   },
   {
    "duration": 83,
    "start_time": "2023-01-06T12:23:15.458Z"
   },
   {
    "duration": 70,
    "start_time": "2023-01-06T12:24:12.469Z"
   },
   {
    "duration": 45,
    "start_time": "2023-01-06T20:05:23.937Z"
   },
   {
    "duration": 45,
    "start_time": "2023-01-07T05:27:10.568Z"
   },
   {
    "duration": 1203,
    "start_time": "2023-01-07T05:27:51.560Z"
   },
   {
    "duration": 2,
    "start_time": "2023-01-07T05:27:52.766Z"
   },
   {
    "duration": 77,
    "start_time": "2023-01-07T05:27:52.770Z"
   },
   {
    "duration": 13,
    "start_time": "2023-01-07T05:27:52.849Z"
   },
   {
    "duration": 27,
    "start_time": "2023-01-07T05:27:52.864Z"
   },
   {
    "duration": 11,
    "start_time": "2023-01-07T05:27:52.893Z"
   },
   {
    "duration": 5,
    "start_time": "2023-01-07T05:27:52.906Z"
   },
   {
    "duration": 20,
    "start_time": "2023-01-07T05:27:52.913Z"
   },
   {
    "duration": 1097,
    "start_time": "2023-01-07T05:27:52.935Z"
   },
   {
    "duration": 7,
    "start_time": "2023-01-07T05:27:54.034Z"
   },
   {
    "duration": 82,
    "start_time": "2023-01-07T05:27:54.048Z"
   },
   {
    "duration": 4,
    "start_time": "2023-01-07T05:27:54.213Z"
   },
   {
    "duration": 100,
    "start_time": "2023-01-07T05:27:54.218Z"
   },
   {
    "duration": 11,
    "start_time": "2023-01-07T05:27:54.320Z"
   }
  ],
  "kernelspec": {
   "display_name": "Python 3 (ipykernel)",
   "language": "python",
   "name": "python3"
  },
  "language_info": {
   "codemirror_mode": {
    "name": "ipython",
    "version": 3
   },
   "file_extension": ".py",
   "mimetype": "text/x-python",
   "name": "python",
   "nbconvert_exporter": "python",
   "pygments_lexer": "ipython3",
   "version": "3.9.12"
  },
  "toc": {
   "base_numbering": 1,
   "nav_menu": {},
   "number_sections": true,
   "sideBar": true,
   "skip_h1_title": true,
   "title_cell": "Содержание",
   "title_sidebar": "Содержание",
   "toc_cell": true,
   "toc_position": {
    "height": "calc(100% - 180px)",
    "left": "10px",
    "top": "150px",
    "width": "293.375px"
   },
   "toc_section_display": true,
   "toc_window_display": true
  }
 },
 "nbformat": 4,
 "nbformat_minor": 2
}
