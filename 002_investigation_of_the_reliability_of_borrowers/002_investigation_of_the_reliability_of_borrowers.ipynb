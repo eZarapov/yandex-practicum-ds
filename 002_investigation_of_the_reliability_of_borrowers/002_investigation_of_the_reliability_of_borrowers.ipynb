{
 "cells": [
  {
   "cell_type": "markdown",
   "id": "b7ce292e",
   "metadata": {
    "deletable": false,
    "editable": false,
    "id": "b7ce292e"
   },
   "source": [
    "# Исследование надежности заемщиков\n"
   ]
  },
  {
   "cell_type": "markdown",
   "id": "db9bb501",
   "metadata": {
    "deletable": false,
    "editable": false,
    "id": "db9bb501"
   },
   "source": [
    "Во второй части проекта вы выполните шаги 3 и 4. Их вручную проверит ревьюер.\n",
    "Чтобы вам не пришлось писать код заново для шагов 1 и 2, мы добавили авторские решения в ячейки с кодом. \n",
    "\n"
   ]
  },
  {
   "cell_type": "markdown",
   "id": "fbc2c2c4",
   "metadata": {
    "deletable": false,
    "editable": false,
    "id": "fbc2c2c4"
   },
   "source": [
    "## Откройте таблицу и изучите общую информацию о данных"
   ]
  },
  {
   "cell_type": "markdown",
   "id": "74a8694c",
   "metadata": {
    "deletable": false,
    "editable": false,
    "id": "74a8694c"
   },
   "source": [
    "**Задание 1. Импортируйте библиотеку pandas. Считайте данные из csv-файла в датафрейм и сохраните в переменную `data`. Путь к файлу:**\n",
    "\n",
    "`/datasets/data.csv`"
   ]
  },
  {
   "cell_type": "code",
   "execution_count": 1,
   "id": "a7a5fbf0",
   "metadata": {
    "deletable": false,
    "executionInfo": {
     "elapsed": 4673,
     "status": "ok",
     "timestamp": 1661489387218,
     "user": {
      "displayName": "Eduard Zarapov",
      "userId": "07842035153298924991"
     },
     "user_tz": -180
    },
    "id": "a7a5fbf0"
   },
   "outputs": [],
   "source": [
    "import pandas as pd\n",
    "\n",
    "try:\n",
    "    data = pd.read_csv('datasets/data.csv')\n",
    "except:\n",
    "    data = pd.read_csv('https://code.s3.yandex.net/datasets/data.csv')"
   ]
  },
  {
   "cell_type": "markdown",
   "id": "aa267967",
   "metadata": {
    "deletable": false,
    "editable": false,
    "id": "aa267967"
   },
   "source": [
    "**Задание 2. Выведите первые 20 строчек датафрейма `data` на экран.**"
   ]
  },
  {
   "cell_type": "code",
   "execution_count": 2,
   "id": "5cffe5c3",
   "metadata": {
    "colab": {
     "base_uri": "https://localhost:8080/",
     "height": 677
    },
    "deletable": false,
    "executionInfo": {
     "elapsed": 9,
     "status": "ok",
     "timestamp": 1661489388846,
     "user": {
      "displayName": "Eduard Zarapov",
      "userId": "07842035153298924991"
     },
     "user_tz": -180
    },
    "id": "5cffe5c3",
    "outputId": "5d1f69e9-c10b-4825-94bc-ad155a19800c"
   },
   "outputs": [
    {
     "data": {
      "text/html": [
       "<div>\n",
       "<style scoped>\n",
       "    .dataframe tbody tr th:only-of-type {\n",
       "        vertical-align: middle;\n",
       "    }\n",
       "\n",
       "    .dataframe tbody tr th {\n",
       "        vertical-align: top;\n",
       "    }\n",
       "\n",
       "    .dataframe thead th {\n",
       "        text-align: right;\n",
       "    }\n",
       "</style>\n",
       "<table border=\"1\" class=\"dataframe\">\n",
       "  <thead>\n",
       "    <tr style=\"text-align: right;\">\n",
       "      <th></th>\n",
       "      <th>children</th>\n",
       "      <th>days_employed</th>\n",
       "      <th>dob_years</th>\n",
       "      <th>education</th>\n",
       "      <th>education_id</th>\n",
       "      <th>family_status</th>\n",
       "      <th>family_status_id</th>\n",
       "      <th>gender</th>\n",
       "      <th>income_type</th>\n",
       "      <th>debt</th>\n",
       "      <th>total_income</th>\n",
       "      <th>purpose</th>\n",
       "    </tr>\n",
       "  </thead>\n",
       "  <tbody>\n",
       "    <tr>\n",
       "      <th>0</th>\n",
       "      <td>1</td>\n",
       "      <td>-8437.673028</td>\n",
       "      <td>42</td>\n",
       "      <td>высшее</td>\n",
       "      <td>0</td>\n",
       "      <td>женат / замужем</td>\n",
       "      <td>0</td>\n",
       "      <td>F</td>\n",
       "      <td>сотрудник</td>\n",
       "      <td>0</td>\n",
       "      <td>253875.639453</td>\n",
       "      <td>покупка жилья</td>\n",
       "    </tr>\n",
       "    <tr>\n",
       "      <th>1</th>\n",
       "      <td>1</td>\n",
       "      <td>-4024.803754</td>\n",
       "      <td>36</td>\n",
       "      <td>среднее</td>\n",
       "      <td>1</td>\n",
       "      <td>женат / замужем</td>\n",
       "      <td>0</td>\n",
       "      <td>F</td>\n",
       "      <td>сотрудник</td>\n",
       "      <td>0</td>\n",
       "      <td>112080.014102</td>\n",
       "      <td>приобретение автомобиля</td>\n",
       "    </tr>\n",
       "    <tr>\n",
       "      <th>2</th>\n",
       "      <td>0</td>\n",
       "      <td>-5623.422610</td>\n",
       "      <td>33</td>\n",
       "      <td>Среднее</td>\n",
       "      <td>1</td>\n",
       "      <td>женат / замужем</td>\n",
       "      <td>0</td>\n",
       "      <td>M</td>\n",
       "      <td>сотрудник</td>\n",
       "      <td>0</td>\n",
       "      <td>145885.952297</td>\n",
       "      <td>покупка жилья</td>\n",
       "    </tr>\n",
       "    <tr>\n",
       "      <th>3</th>\n",
       "      <td>3</td>\n",
       "      <td>-4124.747207</td>\n",
       "      <td>32</td>\n",
       "      <td>среднее</td>\n",
       "      <td>1</td>\n",
       "      <td>женат / замужем</td>\n",
       "      <td>0</td>\n",
       "      <td>M</td>\n",
       "      <td>сотрудник</td>\n",
       "      <td>0</td>\n",
       "      <td>267628.550329</td>\n",
       "      <td>дополнительное образование</td>\n",
       "    </tr>\n",
       "    <tr>\n",
       "      <th>4</th>\n",
       "      <td>0</td>\n",
       "      <td>340266.072047</td>\n",
       "      <td>53</td>\n",
       "      <td>среднее</td>\n",
       "      <td>1</td>\n",
       "      <td>гражданский брак</td>\n",
       "      <td>1</td>\n",
       "      <td>F</td>\n",
       "      <td>пенсионер</td>\n",
       "      <td>0</td>\n",
       "      <td>158616.077870</td>\n",
       "      <td>сыграть свадьбу</td>\n",
       "    </tr>\n",
       "    <tr>\n",
       "      <th>5</th>\n",
       "      <td>0</td>\n",
       "      <td>-926.185831</td>\n",
       "      <td>27</td>\n",
       "      <td>высшее</td>\n",
       "      <td>0</td>\n",
       "      <td>гражданский брак</td>\n",
       "      <td>1</td>\n",
       "      <td>M</td>\n",
       "      <td>компаньон</td>\n",
       "      <td>0</td>\n",
       "      <td>255763.565419</td>\n",
       "      <td>покупка жилья</td>\n",
       "    </tr>\n",
       "    <tr>\n",
       "      <th>6</th>\n",
       "      <td>0</td>\n",
       "      <td>-2879.202052</td>\n",
       "      <td>43</td>\n",
       "      <td>высшее</td>\n",
       "      <td>0</td>\n",
       "      <td>женат / замужем</td>\n",
       "      <td>0</td>\n",
       "      <td>F</td>\n",
       "      <td>компаньон</td>\n",
       "      <td>0</td>\n",
       "      <td>240525.971920</td>\n",
       "      <td>операции с жильем</td>\n",
       "    </tr>\n",
       "    <tr>\n",
       "      <th>7</th>\n",
       "      <td>0</td>\n",
       "      <td>-152.779569</td>\n",
       "      <td>50</td>\n",
       "      <td>СРЕДНЕЕ</td>\n",
       "      <td>1</td>\n",
       "      <td>женат / замужем</td>\n",
       "      <td>0</td>\n",
       "      <td>M</td>\n",
       "      <td>сотрудник</td>\n",
       "      <td>0</td>\n",
       "      <td>135823.934197</td>\n",
       "      <td>образование</td>\n",
       "    </tr>\n",
       "    <tr>\n",
       "      <th>8</th>\n",
       "      <td>2</td>\n",
       "      <td>-6929.865299</td>\n",
       "      <td>35</td>\n",
       "      <td>ВЫСШЕЕ</td>\n",
       "      <td>0</td>\n",
       "      <td>гражданский брак</td>\n",
       "      <td>1</td>\n",
       "      <td>F</td>\n",
       "      <td>сотрудник</td>\n",
       "      <td>0</td>\n",
       "      <td>95856.832424</td>\n",
       "      <td>на проведение свадьбы</td>\n",
       "    </tr>\n",
       "    <tr>\n",
       "      <th>9</th>\n",
       "      <td>0</td>\n",
       "      <td>-2188.756445</td>\n",
       "      <td>41</td>\n",
       "      <td>среднее</td>\n",
       "      <td>1</td>\n",
       "      <td>женат / замужем</td>\n",
       "      <td>0</td>\n",
       "      <td>M</td>\n",
       "      <td>сотрудник</td>\n",
       "      <td>0</td>\n",
       "      <td>144425.938277</td>\n",
       "      <td>покупка жилья для семьи</td>\n",
       "    </tr>\n",
       "    <tr>\n",
       "      <th>10</th>\n",
       "      <td>2</td>\n",
       "      <td>-4171.483647</td>\n",
       "      <td>36</td>\n",
       "      <td>высшее</td>\n",
       "      <td>0</td>\n",
       "      <td>женат / замужем</td>\n",
       "      <td>0</td>\n",
       "      <td>M</td>\n",
       "      <td>компаньон</td>\n",
       "      <td>0</td>\n",
       "      <td>113943.491460</td>\n",
       "      <td>покупка недвижимости</td>\n",
       "    </tr>\n",
       "    <tr>\n",
       "      <th>11</th>\n",
       "      <td>0</td>\n",
       "      <td>-792.701887</td>\n",
       "      <td>40</td>\n",
       "      <td>среднее</td>\n",
       "      <td>1</td>\n",
       "      <td>женат / замужем</td>\n",
       "      <td>0</td>\n",
       "      <td>F</td>\n",
       "      <td>сотрудник</td>\n",
       "      <td>0</td>\n",
       "      <td>77069.234271</td>\n",
       "      <td>покупка коммерческой недвижимости</td>\n",
       "    </tr>\n",
       "    <tr>\n",
       "      <th>12</th>\n",
       "      <td>0</td>\n",
       "      <td>NaN</td>\n",
       "      <td>65</td>\n",
       "      <td>среднее</td>\n",
       "      <td>1</td>\n",
       "      <td>гражданский брак</td>\n",
       "      <td>1</td>\n",
       "      <td>M</td>\n",
       "      <td>пенсионер</td>\n",
       "      <td>0</td>\n",
       "      <td>NaN</td>\n",
       "      <td>сыграть свадьбу</td>\n",
       "    </tr>\n",
       "    <tr>\n",
       "      <th>13</th>\n",
       "      <td>0</td>\n",
       "      <td>-1846.641941</td>\n",
       "      <td>54</td>\n",
       "      <td>неоконченное высшее</td>\n",
       "      <td>2</td>\n",
       "      <td>женат / замужем</td>\n",
       "      <td>0</td>\n",
       "      <td>F</td>\n",
       "      <td>сотрудник</td>\n",
       "      <td>0</td>\n",
       "      <td>130458.228857</td>\n",
       "      <td>приобретение автомобиля</td>\n",
       "    </tr>\n",
       "    <tr>\n",
       "      <th>14</th>\n",
       "      <td>0</td>\n",
       "      <td>-1844.956182</td>\n",
       "      <td>56</td>\n",
       "      <td>высшее</td>\n",
       "      <td>0</td>\n",
       "      <td>гражданский брак</td>\n",
       "      <td>1</td>\n",
       "      <td>F</td>\n",
       "      <td>компаньон</td>\n",
       "      <td>1</td>\n",
       "      <td>165127.911772</td>\n",
       "      <td>покупка жилой недвижимости</td>\n",
       "    </tr>\n",
       "    <tr>\n",
       "      <th>15</th>\n",
       "      <td>1</td>\n",
       "      <td>-972.364419</td>\n",
       "      <td>26</td>\n",
       "      <td>среднее</td>\n",
       "      <td>1</td>\n",
       "      <td>женат / замужем</td>\n",
       "      <td>0</td>\n",
       "      <td>F</td>\n",
       "      <td>сотрудник</td>\n",
       "      <td>0</td>\n",
       "      <td>116820.904450</td>\n",
       "      <td>строительство собственной недвижимости</td>\n",
       "    </tr>\n",
       "    <tr>\n",
       "      <th>16</th>\n",
       "      <td>0</td>\n",
       "      <td>-1719.934226</td>\n",
       "      <td>35</td>\n",
       "      <td>среднее</td>\n",
       "      <td>1</td>\n",
       "      <td>женат / замужем</td>\n",
       "      <td>0</td>\n",
       "      <td>F</td>\n",
       "      <td>сотрудник</td>\n",
       "      <td>0</td>\n",
       "      <td>289202.704229</td>\n",
       "      <td>недвижимость</td>\n",
       "    </tr>\n",
       "    <tr>\n",
       "      <th>17</th>\n",
       "      <td>0</td>\n",
       "      <td>-2369.999720</td>\n",
       "      <td>33</td>\n",
       "      <td>высшее</td>\n",
       "      <td>0</td>\n",
       "      <td>гражданский брак</td>\n",
       "      <td>1</td>\n",
       "      <td>M</td>\n",
       "      <td>сотрудник</td>\n",
       "      <td>0</td>\n",
       "      <td>90410.586745</td>\n",
       "      <td>строительство недвижимости</td>\n",
       "    </tr>\n",
       "    <tr>\n",
       "      <th>18</th>\n",
       "      <td>0</td>\n",
       "      <td>400281.136913</td>\n",
       "      <td>53</td>\n",
       "      <td>среднее</td>\n",
       "      <td>1</td>\n",
       "      <td>вдовец / вдова</td>\n",
       "      <td>2</td>\n",
       "      <td>F</td>\n",
       "      <td>пенсионер</td>\n",
       "      <td>0</td>\n",
       "      <td>56823.777243</td>\n",
       "      <td>на покупку подержанного автомобиля</td>\n",
       "    </tr>\n",
       "    <tr>\n",
       "      <th>19</th>\n",
       "      <td>0</td>\n",
       "      <td>-10038.818549</td>\n",
       "      <td>48</td>\n",
       "      <td>СРЕДНЕЕ</td>\n",
       "      <td>1</td>\n",
       "      <td>в разводе</td>\n",
       "      <td>3</td>\n",
       "      <td>F</td>\n",
       "      <td>сотрудник</td>\n",
       "      <td>0</td>\n",
       "      <td>242831.107982</td>\n",
       "      <td>на покупку своего автомобиля</td>\n",
       "    </tr>\n",
       "  </tbody>\n",
       "</table>\n",
       "</div>"
      ],
      "text/plain": [
       "    children  days_employed  dob_years            education  education_id  \\\n",
       "0          1   -8437.673028         42               высшее             0   \n",
       "1          1   -4024.803754         36              среднее             1   \n",
       "2          0   -5623.422610         33              Среднее             1   \n",
       "3          3   -4124.747207         32              среднее             1   \n",
       "4          0  340266.072047         53              среднее             1   \n",
       "5          0    -926.185831         27               высшее             0   \n",
       "6          0   -2879.202052         43               высшее             0   \n",
       "7          0    -152.779569         50              СРЕДНЕЕ             1   \n",
       "8          2   -6929.865299         35               ВЫСШЕЕ             0   \n",
       "9          0   -2188.756445         41              среднее             1   \n",
       "10         2   -4171.483647         36               высшее             0   \n",
       "11         0    -792.701887         40              среднее             1   \n",
       "12         0            NaN         65              среднее             1   \n",
       "13         0   -1846.641941         54  неоконченное высшее             2   \n",
       "14         0   -1844.956182         56               высшее             0   \n",
       "15         1    -972.364419         26              среднее             1   \n",
       "16         0   -1719.934226         35              среднее             1   \n",
       "17         0   -2369.999720         33               высшее             0   \n",
       "18         0  400281.136913         53              среднее             1   \n",
       "19         0  -10038.818549         48              СРЕДНЕЕ             1   \n",
       "\n",
       "       family_status  family_status_id gender income_type  debt  \\\n",
       "0    женат / замужем                 0      F   сотрудник     0   \n",
       "1    женат / замужем                 0      F   сотрудник     0   \n",
       "2    женат / замужем                 0      M   сотрудник     0   \n",
       "3    женат / замужем                 0      M   сотрудник     0   \n",
       "4   гражданский брак                 1      F   пенсионер     0   \n",
       "5   гражданский брак                 1      M   компаньон     0   \n",
       "6    женат / замужем                 0      F   компаньон     0   \n",
       "7    женат / замужем                 0      M   сотрудник     0   \n",
       "8   гражданский брак                 1      F   сотрудник     0   \n",
       "9    женат / замужем                 0      M   сотрудник     0   \n",
       "10   женат / замужем                 0      M   компаньон     0   \n",
       "11   женат / замужем                 0      F   сотрудник     0   \n",
       "12  гражданский брак                 1      M   пенсионер     0   \n",
       "13   женат / замужем                 0      F   сотрудник     0   \n",
       "14  гражданский брак                 1      F   компаньон     1   \n",
       "15   женат / замужем                 0      F   сотрудник     0   \n",
       "16   женат / замужем                 0      F   сотрудник     0   \n",
       "17  гражданский брак                 1      M   сотрудник     0   \n",
       "18    вдовец / вдова                 2      F   пенсионер     0   \n",
       "19         в разводе                 3      F   сотрудник     0   \n",
       "\n",
       "     total_income                                 purpose  \n",
       "0   253875.639453                           покупка жилья  \n",
       "1   112080.014102                 приобретение автомобиля  \n",
       "2   145885.952297                           покупка жилья  \n",
       "3   267628.550329              дополнительное образование  \n",
       "4   158616.077870                         сыграть свадьбу  \n",
       "5   255763.565419                           покупка жилья  \n",
       "6   240525.971920                       операции с жильем  \n",
       "7   135823.934197                             образование  \n",
       "8    95856.832424                   на проведение свадьбы  \n",
       "9   144425.938277                 покупка жилья для семьи  \n",
       "10  113943.491460                    покупка недвижимости  \n",
       "11   77069.234271       покупка коммерческой недвижимости  \n",
       "12            NaN                         сыграть свадьбу  \n",
       "13  130458.228857                 приобретение автомобиля  \n",
       "14  165127.911772              покупка жилой недвижимости  \n",
       "15  116820.904450  строительство собственной недвижимости  \n",
       "16  289202.704229                            недвижимость  \n",
       "17   90410.586745              строительство недвижимости  \n",
       "18   56823.777243      на покупку подержанного автомобиля  \n",
       "19  242831.107982            на покупку своего автомобиля  "
      ]
     },
     "execution_count": 2,
     "metadata": {},
     "output_type": "execute_result"
    }
   ],
   "source": [
    "data.head(20)"
   ]
  },
  {
   "cell_type": "markdown",
   "id": "f69c7395",
   "metadata": {
    "deletable": false,
    "editable": false,
    "id": "f69c7395"
   },
   "source": [
    "**Задание 3. Выведите основную информацию о датафрейме с помощью метода `info()`.**"
   ]
  },
  {
   "cell_type": "code",
   "execution_count": 3,
   "id": "8f9f82b7",
   "metadata": {
    "colab": {
     "base_uri": "https://localhost:8080/"
    },
    "deletable": false,
    "executionInfo": {
     "elapsed": 8,
     "status": "ok",
     "timestamp": 1661489392057,
     "user": {
      "displayName": "Eduard Zarapov",
      "userId": "07842035153298924991"
     },
     "user_tz": -180
    },
    "id": "8f9f82b7",
    "outputId": "cbb80c09-1c30-4653-a100-7b3b607e4700"
   },
   "outputs": [
    {
     "name": "stdout",
     "output_type": "stream",
     "text": [
      "<class 'pandas.core.frame.DataFrame'>\n",
      "RangeIndex: 21525 entries, 0 to 21524\n",
      "Data columns (total 12 columns):\n",
      " #   Column            Non-Null Count  Dtype  \n",
      "---  ------            --------------  -----  \n",
      " 0   children          21525 non-null  int64  \n",
      " 1   days_employed     19351 non-null  float64\n",
      " 2   dob_years         21525 non-null  int64  \n",
      " 3   education         21525 non-null  object \n",
      " 4   education_id      21525 non-null  int64  \n",
      " 5   family_status     21525 non-null  object \n",
      " 6   family_status_id  21525 non-null  int64  \n",
      " 7   gender            21525 non-null  object \n",
      " 8   income_type       21525 non-null  object \n",
      " 9   debt              21525 non-null  int64  \n",
      " 10  total_income      19351 non-null  float64\n",
      " 11  purpose           21525 non-null  object \n",
      "dtypes: float64(2), int64(5), object(5)\n",
      "memory usage: 2.0+ MB\n"
     ]
    }
   ],
   "source": [
    "data.info()"
   ]
  },
  {
   "cell_type": "markdown",
   "id": "e1728a51",
   "metadata": {
    "deletable": false,
    "editable": false,
    "id": "e1728a51"
   },
   "source": [
    "## Предобработка данных"
   ]
  },
  {
   "cell_type": "markdown",
   "id": "471e3481",
   "metadata": {
    "deletable": false,
    "editable": false,
    "id": "471e3481"
   },
   "source": [
    "### Удаление пропусков"
   ]
  },
  {
   "cell_type": "markdown",
   "id": "b8e74821",
   "metadata": {
    "deletable": false,
    "editable": false,
    "id": "b8e74821"
   },
   "source": [
    "**Задание 4. Выведите количество пропущенных значений для каждого столбца. Используйте комбинацию двух методов.**"
   ]
  },
  {
   "cell_type": "code",
   "execution_count": 4,
   "id": "efdfcf2c",
   "metadata": {
    "colab": {
     "base_uri": "https://localhost:8080/"
    },
    "deletable": false,
    "executionInfo": {
     "elapsed": 432,
     "status": "ok",
     "timestamp": 1661489397571,
     "user": {
      "displayName": "Eduard Zarapov",
      "userId": "07842035153298924991"
     },
     "user_tz": -180
    },
    "id": "efdfcf2c",
    "outputId": "bc0ed8f0-4fe9-407e-aa30-9973ade6a3c6"
   },
   "outputs": [
    {
     "data": {
      "text/plain": [
       "children               0\n",
       "days_employed       2174\n",
       "dob_years              0\n",
       "education              0\n",
       "education_id           0\n",
       "family_status          0\n",
       "family_status_id       0\n",
       "gender                 0\n",
       "income_type            0\n",
       "debt                   0\n",
       "total_income        2174\n",
       "purpose                0\n",
       "dtype: int64"
      ]
     },
     "execution_count": 4,
     "metadata": {},
     "output_type": "execute_result"
    }
   ],
   "source": [
    "data.isna().sum()"
   ]
  },
  {
   "cell_type": "markdown",
   "id": "645e63c9",
   "metadata": {
    "deletable": false,
    "editable": false,
    "id": "645e63c9"
   },
   "source": [
    "**Задание 5. В двух столбцах есть пропущенные значения. Один из них — `days_employed`. Пропуски в этом столбце вы обработаете на следующем этапе. Другой столбец с пропущенными значениями — `total_income` — хранит данные о доходах. На сумму дохода сильнее всего влияет тип занятости, поэтому заполнить пропуски в этом столбце нужно медианным значением по каждому типу из столбца `income_type`. Например, у человека с типом занятости `сотрудник` пропуск в столбце `total_income` должен быть заполнен медианным доходом среди всех записей с тем же типом.**"
   ]
  },
  {
   "cell_type": "code",
   "execution_count": 5,
   "id": "47d45540",
   "metadata": {
    "deletable": false,
    "executionInfo": {
     "elapsed": 585,
     "status": "ok",
     "timestamp": 1661489401537,
     "user": {
      "displayName": "Eduard Zarapov",
      "userId": "07842035153298924991"
     },
     "user_tz": -180
    },
    "id": "47d45540"
   },
   "outputs": [],
   "source": [
    "for t in data['income_type'].unique():\n",
    "    data.loc[(data['income_type'] == t) & (data['total_income'].isna()), 'total_income'] = \\\n",
    "    data.loc[(data['income_type'] == t), 'total_income'].median()"
   ]
  },
  {
   "cell_type": "markdown",
   "id": "e31a0f4f",
   "metadata": {
    "deletable": false,
    "editable": false,
    "id": "e31a0f4f"
   },
   "source": [
    "### Обработка аномальных значений"
   ]
  },
  {
   "cell_type": "markdown",
   "id": "567ceed2",
   "metadata": {
    "deletable": false,
    "editable": false,
    "id": "567ceed2"
   },
   "source": [
    "**Задание 6. В данных могут встречаться артефакты (аномалии) — значения, которые не отражают действительность и появились по какой-то ошибке. таким артефактом будет отрицательное количество дней трудового стажа в столбце `days_employed`. Для реальных данных это нормально. Обработайте значения в этом столбце: замените все отрицательные значения положительными с помощью метода `abs()`.**"
   ]
  },
  {
   "cell_type": "code",
   "execution_count": 6,
   "id": "3ebefc54",
   "metadata": {
    "deletable": false,
    "executionInfo": {
     "elapsed": 4,
     "status": "ok",
     "timestamp": 1661489405022,
     "user": {
      "displayName": "Eduard Zarapov",
      "userId": "07842035153298924991"
     },
     "user_tz": -180
    },
    "id": "3ebefc54"
   },
   "outputs": [],
   "source": [
    "data['days_employed'] = data['days_employed'].abs()"
   ]
  },
  {
   "cell_type": "markdown",
   "id": "c227d6bd",
   "metadata": {
    "deletable": false,
    "editable": false,
    "id": "c227d6bd"
   },
   "source": [
    "**Задание 7. Для каждого типа занятости выведите медианное значение трудового стажа `days_employed` в днях.**"
   ]
  },
  {
   "cell_type": "code",
   "execution_count": 7,
   "id": "7fc90f26",
   "metadata": {
    "colab": {
     "base_uri": "https://localhost:8080/"
    },
    "deletable": false,
    "executionInfo": {
     "elapsed": 497,
     "status": "ok",
     "timestamp": 1661489407615,
     "user": {
      "displayName": "Eduard Zarapov",
      "userId": "07842035153298924991"
     },
     "user_tz": -180
    },
    "id": "7fc90f26",
    "outputId": "5907a25a-f2d1-4efe-dc49-f1c154e7895c"
   },
   "outputs": [
    {
     "data": {
      "text/plain": [
       "income_type\n",
       "безработный        366413.652744\n",
       "в декрете            3296.759962\n",
       "госслужащий          2689.368353\n",
       "компаньон            1547.382223\n",
       "пенсионер          365213.306266\n",
       "предприниматель       520.848083\n",
       "сотрудник            1574.202821\n",
       "студент               578.751554\n",
       "Name: days_employed, dtype: float64"
      ]
     },
     "execution_count": 7,
     "metadata": {},
     "output_type": "execute_result"
    }
   ],
   "source": [
    "data.groupby('income_type')['days_employed'].agg('median')"
   ]
  },
  {
   "cell_type": "markdown",
   "id": "78d2479d",
   "metadata": {
    "deletable": false,
    "editable": false,
    "id": "78d2479d"
   },
   "source": [
    "У двух типов (безработные и пенсионеры) получатся аномально большие значения. Исправить такие значения сложно, поэтому оставьте их как есть. Тем более этот столбец не понадобится вам для исследования."
   ]
  },
  {
   "cell_type": "markdown",
   "id": "a0d7d835",
   "metadata": {
    "deletable": false,
    "editable": false,
    "id": "a0d7d835"
   },
   "source": [
    "**Задание 8. Выведите перечень уникальных значений столбца `children`.**"
   ]
  },
  {
   "cell_type": "code",
   "execution_count": 8,
   "id": "272579fd",
   "metadata": {
    "colab": {
     "base_uri": "https://localhost:8080/"
    },
    "deletable": false,
    "executionInfo": {
     "elapsed": 389,
     "status": "ok",
     "timestamp": 1661489410913,
     "user": {
      "displayName": "Eduard Zarapov",
      "userId": "07842035153298924991"
     },
     "user_tz": -180
    },
    "id": "272579fd",
    "outputId": "52d1f3dc-b899-4a4e-ec9c-d0c982fdce14"
   },
   "outputs": [
    {
     "data": {
      "text/plain": [
       "array([ 1,  0,  3,  2, -1,  4, 20,  5], dtype=int64)"
      ]
     },
     "execution_count": 8,
     "metadata": {},
     "output_type": "execute_result"
    }
   ],
   "source": [
    "data['children'].unique()"
   ]
  },
  {
   "cell_type": "markdown",
   "id": "1beffbaf",
   "metadata": {
    "deletable": false,
    "editable": false,
    "id": "1beffbaf"
   },
   "source": [
    "**Задание 9. В столбце `children` есть два аномальных значения. Удалите строки, в которых встречаются такие аномальные значения из датафрейма `data`.**"
   ]
  },
  {
   "cell_type": "code",
   "execution_count": 9,
   "id": "59af487c",
   "metadata": {
    "deletable": false,
    "executionInfo": {
     "elapsed": 526,
     "status": "ok",
     "timestamp": 1661489414122,
     "user": {
      "displayName": "Eduard Zarapov",
      "userId": "07842035153298924991"
     },
     "user_tz": -180
    },
    "id": "59af487c"
   },
   "outputs": [],
   "source": [
    "data = data[(data['children'] != -1) & (data['children'] != 20)]"
   ]
  },
  {
   "cell_type": "markdown",
   "id": "f57c3c1c",
   "metadata": {
    "deletable": false,
    "editable": false,
    "id": "f57c3c1c"
   },
   "source": [
    "**Задание 10. Ещё раз выведите перечень уникальных значений столбца `children`, чтобы убедиться, что артефакты удалены.**"
   ]
  },
  {
   "cell_type": "code",
   "execution_count": 10,
   "id": "8e262887",
   "metadata": {
    "colab": {
     "base_uri": "https://localhost:8080/"
    },
    "deletable": false,
    "executionInfo": {
     "elapsed": 4,
     "status": "ok",
     "timestamp": 1661489415848,
     "user": {
      "displayName": "Eduard Zarapov",
      "userId": "07842035153298924991"
     },
     "user_tz": -180
    },
    "id": "8e262887",
    "outputId": "d9553db1-8032-4e44-c133-1356554201d0"
   },
   "outputs": [
    {
     "data": {
      "text/plain": [
       "array([1, 0, 3, 2, 4, 5], dtype=int64)"
      ]
     },
     "execution_count": 10,
     "metadata": {},
     "output_type": "execute_result"
    }
   ],
   "source": [
    "data['children'].unique()"
   ]
  },
  {
   "cell_type": "markdown",
   "id": "b89f2ce7",
   "metadata": {
    "deletable": false,
    "editable": false,
    "id": "b89f2ce7"
   },
   "source": [
    "### Удаление пропусков (продолжение)"
   ]
  },
  {
   "cell_type": "markdown",
   "id": "1f536ef3",
   "metadata": {
    "deletable": false,
    "editable": false,
    "id": "1f536ef3"
   },
   "source": [
    "**Задание 11. Заполните пропуски в столбце `days_employed` медианными значениями по каждого типа занятости `income_type`.**"
   ]
  },
  {
   "cell_type": "code",
   "execution_count": 11,
   "id": "fb697928",
   "metadata": {
    "deletable": false,
    "executionInfo": {
     "elapsed": 424,
     "status": "ok",
     "timestamp": 1661489421904,
     "user": {
      "displayName": "Eduard Zarapov",
      "userId": "07842035153298924991"
     },
     "user_tz": -180
    },
    "id": "fb697928"
   },
   "outputs": [],
   "source": [
    "for t in data['income_type'].unique():\n",
    "    data.loc[(data['income_type'] == t) & (data['days_employed'].isna()), 'days_employed'] = \\\n",
    "    data.loc[(data['income_type'] == t), 'days_employed'].median()"
   ]
  },
  {
   "cell_type": "markdown",
   "id": "b4defe94",
   "metadata": {
    "deletable": false,
    "editable": false,
    "id": "b4defe94"
   },
   "source": [
    "**Задание 12. Убедитесь, что все пропуски заполнены. Проверьте себя и ещё раз выведите количество пропущенных значений для каждого столбца с помощью двух методов.**"
   ]
  },
  {
   "cell_type": "code",
   "execution_count": 12,
   "id": "c3ffdf56",
   "metadata": {
    "colab": {
     "base_uri": "https://localhost:8080/"
    },
    "deletable": false,
    "executionInfo": {
     "elapsed": 546,
     "status": "ok",
     "timestamp": 1661489425478,
     "user": {
      "displayName": "Eduard Zarapov",
      "userId": "07842035153298924991"
     },
     "user_tz": -180
    },
    "id": "c3ffdf56",
    "outputId": "7738982d-2738-4e49-95db-cbe205b02830"
   },
   "outputs": [
    {
     "data": {
      "text/plain": [
       "children            0\n",
       "days_employed       0\n",
       "dob_years           0\n",
       "education           0\n",
       "education_id        0\n",
       "family_status       0\n",
       "family_status_id    0\n",
       "gender              0\n",
       "income_type         0\n",
       "debt                0\n",
       "total_income        0\n",
       "purpose             0\n",
       "dtype: int64"
      ]
     },
     "execution_count": 12,
     "metadata": {},
     "output_type": "execute_result"
    }
   ],
   "source": [
    "data.isna().sum()"
   ]
  },
  {
   "cell_type": "markdown",
   "id": "04605c42",
   "metadata": {
    "deletable": false,
    "editable": false,
    "id": "04605c42"
   },
   "source": [
    "### Изменение типов данных"
   ]
  },
  {
   "cell_type": "markdown",
   "id": "5c1fac1a",
   "metadata": {
    "deletable": false,
    "editable": false,
    "id": "5c1fac1a"
   },
   "source": [
    "**Задание 13. Замените вещественный тип данных в столбце `total_income` на целочисленный с помощью метода `astype()`.**"
   ]
  },
  {
   "cell_type": "code",
   "execution_count": 13,
   "id": "c722d73e",
   "metadata": {
    "deletable": false,
    "executionInfo": {
     "elapsed": 405,
     "status": "ok",
     "timestamp": 1661489429938,
     "user": {
      "displayName": "Eduard Zarapov",
      "userId": "07842035153298924991"
     },
     "user_tz": -180
    },
    "id": "c722d73e"
   },
   "outputs": [],
   "source": [
    "data['total_income'] = data['total_income'].astype(int)"
   ]
  },
  {
   "cell_type": "markdown",
   "id": "659a2232",
   "metadata": {
    "deletable": false,
    "editable": false,
    "id": "659a2232"
   },
   "source": [
    "### Обработка дубликатов"
   ]
  },
  {
   "cell_type": "markdown",
   "id": "01144b5d",
   "metadata": {
    "deletable": false,
    "editable": false,
    "id": "01144b5d"
   },
   "source": [
    "**Задание 14. Обработайте неявные дубликаты в столбце `education`. В этом столбце есть одни и те же значения, но записанные по-разному: с использованием заглавных и строчных букв. Приведите их к нижнему регистру. Проверьте остальные столбцы.**"
   ]
  },
  {
   "cell_type": "code",
   "execution_count": 14,
   "id": "22649f21",
   "metadata": {
    "deletable": false,
    "executionInfo": {
     "elapsed": 5,
     "status": "ok",
     "timestamp": 1661489433241,
     "user": {
      "displayName": "Eduard Zarapov",
      "userId": "07842035153298924991"
     },
     "user_tz": -180
    },
    "id": "22649f21"
   },
   "outputs": [],
   "source": [
    "data['education'] = data['education'].str.lower()"
   ]
  },
  {
   "cell_type": "markdown",
   "id": "a9086d83",
   "metadata": {
    "deletable": false,
    "editable": false,
    "id": "a9086d83"
   },
   "source": [
    "**Задание 15. Выведите на экран количество строк-дубликатов в данных. Если такие строки присутствуют, удалите их.**"
   ]
  },
  {
   "cell_type": "code",
   "execution_count": 15,
   "id": "2c972549",
   "metadata": {
    "colab": {
     "base_uri": "https://localhost:8080/"
    },
    "deletable": false,
    "executionInfo": {
     "elapsed": 834,
     "status": "ok",
     "timestamp": 1661489436165,
     "user": {
      "displayName": "Eduard Zarapov",
      "userId": "07842035153298924991"
     },
     "user_tz": -180
    },
    "id": "2c972549",
    "outputId": "ef68eca6-96db-46f6-c8a0-563073de5740"
   },
   "outputs": [
    {
     "data": {
      "text/plain": [
       "71"
      ]
     },
     "execution_count": 15,
     "metadata": {},
     "output_type": "execute_result"
    }
   ],
   "source": [
    "data.duplicated().sum()"
   ]
  },
  {
   "cell_type": "code",
   "execution_count": 16,
   "id": "386212b4",
   "metadata": {
    "deletable": false,
    "executionInfo": {
     "elapsed": 391,
     "status": "ok",
     "timestamp": 1661489438909,
     "user": {
      "displayName": "Eduard Zarapov",
      "userId": "07842035153298924991"
     },
     "user_tz": -180
    },
    "id": "386212b4"
   },
   "outputs": [],
   "source": [
    "data = data.drop_duplicates()"
   ]
  },
  {
   "cell_type": "markdown",
   "id": "97c2cbe1",
   "metadata": {
    "deletable": false,
    "editable": false,
    "id": "97c2cbe1"
   },
   "source": [
    "### Категоризация данных"
   ]
  },
  {
   "cell_type": "markdown",
   "id": "a041a28b",
   "metadata": {
    "deletable": false,
    "editable": false,
    "id": "a041a28b"
   },
   "source": [
    "**Задание 16. На основании диапазонов, указанных ниже, создайте в датафрейме `data` столбец `total_income_category` с категориями:**\n",
    "\n",
    "- 0–30000 — `'E'`;\n",
    "- 30001–50000 — `'D'`;\n",
    "- 50001–200000 — `'C'`;\n",
    "- 200001–1000000 — `'B'`;\n",
    "- 1000001 и выше — `'A'`.\n",
    "\n",
    "\n",
    "**Например, кредитополучателю с доходом 25000 нужно назначить категорию `'E'`, а клиенту, получающему 235000, — `'B'`. Используйте собственную функцию с именем `categorize_income()` и метод `apply()`.**"
   ]
  },
  {
   "cell_type": "code",
   "execution_count": 17,
   "id": "72bc23ed",
   "metadata": {
    "deletable": false,
    "executionInfo": {
     "elapsed": 389,
     "status": "ok",
     "timestamp": 1661489444257,
     "user": {
      "displayName": "Eduard Zarapov",
      "userId": "07842035153298924991"
     },
     "user_tz": -180
    },
    "id": "72bc23ed"
   },
   "outputs": [],
   "source": [
    "def categorize_income(income):\n",
    "    try:\n",
    "        if 0 <= income <= 30000:\n",
    "            return 'E'\n",
    "        elif 30001 <= income <= 50000:\n",
    "            return 'D'\n",
    "        elif 50001 <= income <= 200000:\n",
    "            return 'C'\n",
    "        elif 200001 <= income <= 1000000:\n",
    "            return 'B'\n",
    "        elif income >= 1000001:\n",
    "            return 'A'\n",
    "    except:\n",
    "        pass"
   ]
  },
  {
   "cell_type": "code",
   "execution_count": 18,
   "id": "18d9461e",
   "metadata": {
    "deletable": false,
    "executionInfo": {
     "elapsed": 748,
     "status": "ok",
     "timestamp": 1661489447891,
     "user": {
      "displayName": "Eduard Zarapov",
      "userId": "07842035153298924991"
     },
     "user_tz": -180
    },
    "id": "18d9461e"
   },
   "outputs": [],
   "source": [
    "data['total_income_category'] = data['total_income'].apply(categorize_income)"
   ]
  },
  {
   "cell_type": "markdown",
   "id": "fc4ab10f",
   "metadata": {
    "deletable": false,
    "editable": false,
    "id": "fc4ab10f"
   },
   "source": [
    "**Задание 17. Выведите на экран перечень уникальных целей взятия кредита из столбца `purpose`.**"
   ]
  },
  {
   "cell_type": "code",
   "execution_count": 19,
   "id": "bf9c68b2",
   "metadata": {
    "colab": {
     "base_uri": "https://localhost:8080/"
    },
    "deletable": false,
    "executionInfo": {
     "elapsed": 6,
     "status": "ok",
     "timestamp": 1661489449812,
     "user": {
      "displayName": "Eduard Zarapov",
      "userId": "07842035153298924991"
     },
     "user_tz": -180
    },
    "id": "bf9c68b2",
    "outputId": "b3964659-ef66-4b38-8f12-642298a2835b"
   },
   "outputs": [
    {
     "data": {
      "text/plain": [
       "array(['покупка жилья', 'приобретение автомобиля',\n",
       "       'дополнительное образование', 'сыграть свадьбу',\n",
       "       'операции с жильем', 'образование', 'на проведение свадьбы',\n",
       "       'покупка жилья для семьи', 'покупка недвижимости',\n",
       "       'покупка коммерческой недвижимости', 'покупка жилой недвижимости',\n",
       "       'строительство собственной недвижимости', 'недвижимость',\n",
       "       'строительство недвижимости', 'на покупку подержанного автомобиля',\n",
       "       'на покупку своего автомобиля',\n",
       "       'операции с коммерческой недвижимостью',\n",
       "       'строительство жилой недвижимости', 'жилье',\n",
       "       'операции со своей недвижимостью', 'автомобили',\n",
       "       'заняться образованием', 'сделка с подержанным автомобилем',\n",
       "       'получение образования', 'автомобиль', 'свадьба',\n",
       "       'получение дополнительного образования', 'покупка своего жилья',\n",
       "       'операции с недвижимостью', 'получение высшего образования',\n",
       "       'свой автомобиль', 'сделка с автомобилем',\n",
       "       'профильное образование', 'высшее образование',\n",
       "       'покупка жилья для сдачи', 'на покупку автомобиля', 'ремонт жилью',\n",
       "       'заняться высшим образованием'], dtype=object)"
      ]
     },
     "execution_count": 19,
     "metadata": {},
     "output_type": "execute_result"
    }
   ],
   "source": [
    "data['purpose'].unique()"
   ]
  },
  {
   "cell_type": "markdown",
   "id": "83b7a45d",
   "metadata": {
    "deletable": false,
    "editable": false,
    "id": "83b7a45d"
   },
   "source": [
    "**Задание 18. Создайте функцию, которая на основании данных из столбца `purpose` сформирует новый столбец `purpose_category`, в который войдут следующие категории:**\n",
    "\n",
    "- `'операции с автомобилем'`,\n",
    "- `'операции с недвижимостью'`,\n",
    "- `'проведение свадьбы'`,\n",
    "- `'получение образования'`.\n",
    "\n",
    "**Например, если в столбце `purpose` находится подстрока `'на покупку автомобиля'`, то в столбце `purpose_category` должна появиться строка `'операции с автомобилем'`.**\n",
    "\n",
    "**Используйте собственную функцию с именем `categorize_purpose()` и метод `apply()`. Изучите данные в столбце `purpose` и определите, какие подстроки помогут вам правильно определить категорию.**"
   ]
  },
  {
   "cell_type": "code",
   "execution_count": 20,
   "id": "eefc687b",
   "metadata": {
    "deletable": false,
    "executionInfo": {
     "elapsed": 398,
     "status": "ok",
     "timestamp": 1661489454368,
     "user": {
      "displayName": "Eduard Zarapov",
      "userId": "07842035153298924991"
     },
     "user_tz": -180
    },
    "id": "eefc687b"
   },
   "outputs": [],
   "source": [
    "def categorize_purpose(row):\n",
    "    try:\n",
    "        if 'автом' in row:\n",
    "            return 'операции с автомобилем'\n",
    "        elif 'жил' in row or 'недвиж' in row:\n",
    "            return 'операции с недвижимостью'\n",
    "        elif 'свад' in row:\n",
    "            return 'проведение свадьбы'\n",
    "        elif 'образов' in row:\n",
    "            return 'получение образования'\n",
    "    except:\n",
    "        return 'нет категории'"
   ]
  },
  {
   "cell_type": "code",
   "execution_count": 21,
   "id": "6241300e",
   "metadata": {
    "deletable": false,
    "executionInfo": {
     "elapsed": 420,
     "status": "ok",
     "timestamp": 1661489457186,
     "user": {
      "displayName": "Eduard Zarapov",
      "userId": "07842035153298924991"
     },
     "user_tz": -180
    },
    "id": "6241300e"
   },
   "outputs": [],
   "source": [
    "data['purpose_category'] = data['purpose'].apply(categorize_purpose)"
   ]
  },
  {
   "cell_type": "markdown",
   "id": "65f9e1ac",
   "metadata": {
    "deletable": false,
    "editable": false,
    "id": "65f9e1ac"
   },
   "source": [
    "### Шаг 3. Исследуйте данные и ответьте на вопросы"
   ]
  },
  {
   "cell_type": "markdown",
   "id": "01ab1b1d",
   "metadata": {
    "deletable": false,
    "editable": false,
    "id": "01ab1b1d"
   },
   "source": [
    "#### 3.1 Есть ли зависимость между количеством детей и возвратом кредита в срок?"
   ]
  },
  {
   "cell_type": "code",
   "execution_count": 22,
   "id": "2eda2950",
   "metadata": {
    "colab": {
     "base_uri": "https://localhost:8080/",
     "height": 206
    },
    "deletable": false,
    "executionInfo": {
     "elapsed": 9,
     "status": "ok",
     "timestamp": 1661489479562,
     "user": {
      "displayName": "Eduard Zarapov",
      "userId": "07842035153298924991"
     },
     "user_tz": -180
    },
    "id": "2eda2950",
    "outputId": "b15999ac-d818-4d28-f01d-d5930906cdc9"
   },
   "outputs": [
    {
     "data": {
      "text/html": [
       "<div>\n",
       "<style scoped>\n",
       "    .dataframe tbody tr th:only-of-type {\n",
       "        vertical-align: middle;\n",
       "    }\n",
       "\n",
       "    .dataframe tbody tr th {\n",
       "        vertical-align: top;\n",
       "    }\n",
       "\n",
       "    .dataframe thead th {\n",
       "        text-align: right;\n",
       "    }\n",
       "</style>\n",
       "<table border=\"1\" class=\"dataframe\">\n",
       "  <thead>\n",
       "    <tr style=\"text-align: right;\">\n",
       "      <th></th>\n",
       "      <th>children</th>\n",
       "      <th>days_employed</th>\n",
       "      <th>dob_years</th>\n",
       "      <th>education</th>\n",
       "      <th>education_id</th>\n",
       "      <th>family_status</th>\n",
       "      <th>family_status_id</th>\n",
       "      <th>gender</th>\n",
       "      <th>income_type</th>\n",
       "      <th>debt</th>\n",
       "      <th>total_income</th>\n",
       "      <th>purpose</th>\n",
       "      <th>total_income_category</th>\n",
       "      <th>purpose_category</th>\n",
       "    </tr>\n",
       "  </thead>\n",
       "  <tbody>\n",
       "    <tr>\n",
       "      <th>0</th>\n",
       "      <td>1</td>\n",
       "      <td>8437.673028</td>\n",
       "      <td>42</td>\n",
       "      <td>высшее</td>\n",
       "      <td>0</td>\n",
       "      <td>женат / замужем</td>\n",
       "      <td>0</td>\n",
       "      <td>F</td>\n",
       "      <td>сотрудник</td>\n",
       "      <td>0</td>\n",
       "      <td>253875</td>\n",
       "      <td>покупка жилья</td>\n",
       "      <td>B</td>\n",
       "      <td>операции с недвижимостью</td>\n",
       "    </tr>\n",
       "    <tr>\n",
       "      <th>1</th>\n",
       "      <td>1</td>\n",
       "      <td>4024.803754</td>\n",
       "      <td>36</td>\n",
       "      <td>среднее</td>\n",
       "      <td>1</td>\n",
       "      <td>женат / замужем</td>\n",
       "      <td>0</td>\n",
       "      <td>F</td>\n",
       "      <td>сотрудник</td>\n",
       "      <td>0</td>\n",
       "      <td>112080</td>\n",
       "      <td>приобретение автомобиля</td>\n",
       "      <td>C</td>\n",
       "      <td>операции с автомобилем</td>\n",
       "    </tr>\n",
       "    <tr>\n",
       "      <th>2</th>\n",
       "      <td>0</td>\n",
       "      <td>5623.422610</td>\n",
       "      <td>33</td>\n",
       "      <td>среднее</td>\n",
       "      <td>1</td>\n",
       "      <td>женат / замужем</td>\n",
       "      <td>0</td>\n",
       "      <td>M</td>\n",
       "      <td>сотрудник</td>\n",
       "      <td>0</td>\n",
       "      <td>145885</td>\n",
       "      <td>покупка жилья</td>\n",
       "      <td>C</td>\n",
       "      <td>операции с недвижимостью</td>\n",
       "    </tr>\n",
       "    <tr>\n",
       "      <th>3</th>\n",
       "      <td>3</td>\n",
       "      <td>4124.747207</td>\n",
       "      <td>32</td>\n",
       "      <td>среднее</td>\n",
       "      <td>1</td>\n",
       "      <td>женат / замужем</td>\n",
       "      <td>0</td>\n",
       "      <td>M</td>\n",
       "      <td>сотрудник</td>\n",
       "      <td>0</td>\n",
       "      <td>267628</td>\n",
       "      <td>дополнительное образование</td>\n",
       "      <td>B</td>\n",
       "      <td>получение образования</td>\n",
       "    </tr>\n",
       "    <tr>\n",
       "      <th>4</th>\n",
       "      <td>0</td>\n",
       "      <td>340266.072047</td>\n",
       "      <td>53</td>\n",
       "      <td>среднее</td>\n",
       "      <td>1</td>\n",
       "      <td>гражданский брак</td>\n",
       "      <td>1</td>\n",
       "      <td>F</td>\n",
       "      <td>пенсионер</td>\n",
       "      <td>0</td>\n",
       "      <td>158616</td>\n",
       "      <td>сыграть свадьбу</td>\n",
       "      <td>C</td>\n",
       "      <td>проведение свадьбы</td>\n",
       "    </tr>\n",
       "  </tbody>\n",
       "</table>\n",
       "</div>"
      ],
      "text/plain": [
       "   children  days_employed  dob_years education  education_id  \\\n",
       "0         1    8437.673028         42    высшее             0   \n",
       "1         1    4024.803754         36   среднее             1   \n",
       "2         0    5623.422610         33   среднее             1   \n",
       "3         3    4124.747207         32   среднее             1   \n",
       "4         0  340266.072047         53   среднее             1   \n",
       "\n",
       "      family_status  family_status_id gender income_type  debt  total_income  \\\n",
       "0   женат / замужем                 0      F   сотрудник     0        253875   \n",
       "1   женат / замужем                 0      F   сотрудник     0        112080   \n",
       "2   женат / замужем                 0      M   сотрудник     0        145885   \n",
       "3   женат / замужем                 0      M   сотрудник     0        267628   \n",
       "4  гражданский брак                 1      F   пенсионер     0        158616   \n",
       "\n",
       "                      purpose total_income_category          purpose_category  \n",
       "0               покупка жилья                     B  операции с недвижимостью  \n",
       "1     приобретение автомобиля                     C    операции с автомобилем  \n",
       "2               покупка жилья                     C  операции с недвижимостью  \n",
       "3  дополнительное образование                     B     получение образования  \n",
       "4             сыграть свадьбу                     C        проведение свадьбы  "
      ]
     },
     "execution_count": 22,
     "metadata": {},
     "output_type": "execute_result"
    }
   ],
   "source": [
    "# Посмотрим на имеющийся датасет\n",
    "\n",
    "data.head()"
   ]
  },
  {
   "cell_type": "code",
   "execution_count": 23,
   "id": "64ad3d20",
   "metadata": {
    "colab": {
     "base_uri": "https://localhost:8080/"
    },
    "executionInfo": {
     "elapsed": 444,
     "status": "ok",
     "timestamp": 1661489483287,
     "user": {
      "displayName": "Eduard Zarapov",
      "userId": "07842035153298924991"
     },
     "user_tz": -180
    },
    "id": "64ad3d20",
    "outputId": "6f67b835-8af5-4689-f882-9e36bc191524"
   },
   "outputs": [
    {
     "data": {
      "text/plain": [
       "array([1, 0, 3, 2, 4, 5], dtype=int64)"
      ]
     },
     "execution_count": 23,
     "metadata": {},
     "output_type": "execute_result"
    }
   ],
   "source": [
    "# посмотрим, какие значения есть уникальные\n",
    "data.children.unique()"
   ]
  },
  {
   "cell_type": "code",
   "execution_count": 24,
   "id": "4b06349e",
   "metadata": {
    "colab": {
     "base_uri": "https://localhost:8080/",
     "height": 282
    },
    "executionInfo": {
     "elapsed": 429,
     "status": "ok",
     "timestamp": 1661489486177,
     "user": {
      "displayName": "Eduard Zarapov",
      "userId": "07842035153298924991"
     },
     "user_tz": -180
    },
    "id": "4b06349e",
    "outputId": "09e5c049-0b54-40b7-b729-a7a76f2e6882"
   },
   "outputs": [
    {
     "data": {
      "text/plain": [
       "<AxesSubplot:ylabel='Frequency'>"
      ]
     },
     "execution_count": 24,
     "metadata": {},
     "output_type": "execute_result"
    },
    {
     "data": {
      "image/png": "[encoded data removed]",
      "text/plain": [
       "<Figure size 432x288 with 1 Axes>"
      ]
     },
     "metadata": {
      "needs_background": "light"
     },
     "output_type": "display_data"
    }
   ],
   "source": [
    "# посмотрим, какой вид распределения характерен для количества детей\n",
    "data.children.plot(kind=\"hist\")"
   ]
  },
  {
   "cell_type": "code",
   "execution_count": 25,
   "id": "f0addce4",
   "metadata": {
    "colab": {
     "base_uri": "https://localhost:8080/",
     "height": 282
    },
    "executionInfo": {
     "elapsed": 441,
     "status": "ok",
     "timestamp": 1661489493099,
     "user": {
      "displayName": "Eduard Zarapov",
      "userId": "07842035153298924991"
     },
     "user_tz": -180
    },
    "id": "f0addce4",
    "outputId": "7e0e96a2-e608-4526-bfd7-22a632e1fc75"
   },
   "outputs": [
    {
     "data": {
      "text/plain": [
       "<AxesSubplot:ylabel='Frequency'>"
      ]
     },
     "execution_count": 25,
     "metadata": {},
     "output_type": "execute_result"
    },
    {
     "data": {
      "image/png": "[encoded data removed]",
      "text/plain": [
       "<Figure size 432x288 with 1 Axes>"
      ]
     },
     "metadata": {
      "needs_background": "light"
     },
     "output_type": "display_data"
    }
   ],
   "source": [
    "# посмотрим тоже самое, но уже с возвратом кредита в срок\n",
    "data.debt.plot(kind=\"hist\")"
   ]
  },
  {
   "cell_type": "code",
   "execution_count": 26,
   "id": "f820ec03",
   "metadata": {
    "colab": {
     "base_uri": "https://localhost:8080/"
    },
    "executionInfo": {
     "elapsed": 404,
     "status": "ok",
     "timestamp": 1661489497940,
     "user": {
      "displayName": "Eduard Zarapov",
      "userId": "07842035153298924991"
     },
     "user_tz": -180
    },
    "id": "f820ec03",
    "outputId": "6b07ab34-bb29-47b5-d276-dce47368a936"
   },
   "outputs": [
    {
     "data": {
      "text/plain": [
       "0.024643415439591036"
      ]
     },
     "execution_count": 26,
     "metadata": {},
     "output_type": "execute_result"
    }
   ],
   "source": [
    "#теперь посмотрим и на саму корреляцию:\n",
    "data['children'].corr(data['debt'])"
   ]
  },
  {
   "cell_type": "code",
   "execution_count": 27,
   "id": "52d50bee",
   "metadata": {},
   "outputs": [
    {
     "data": {
      "text/html": [
       "<div>\n",
       "<style scoped>\n",
       "    .dataframe tbody tr th:only-of-type {\n",
       "        vertical-align: middle;\n",
       "    }\n",
       "\n",
       "    .dataframe tbody tr th {\n",
       "        vertical-align: top;\n",
       "    }\n",
       "\n",
       "    .dataframe thead tr th {\n",
       "        text-align: left;\n",
       "    }\n",
       "\n",
       "    .dataframe thead tr:last-of-type th {\n",
       "        text-align: right;\n",
       "    }\n",
       "</style>\n",
       "<table border=\"1\" class=\"dataframe\">\n",
       "  <thead>\n",
       "    <tr>\n",
       "      <th></th>\n",
       "      <th colspan=\"2\" halign=\"left\">debt</th>\n",
       "      <th>percentage_overdue</th>\n",
       "    </tr>\n",
       "    <tr>\n",
       "      <th></th>\n",
       "      <th>sum</th>\n",
       "      <th>count</th>\n",
       "      <th></th>\n",
       "    </tr>\n",
       "    <tr>\n",
       "      <th>children</th>\n",
       "      <th></th>\n",
       "      <th></th>\n",
       "      <th></th>\n",
       "    </tr>\n",
       "  </thead>\n",
       "  <tbody>\n",
       "    <tr>\n",
       "      <th>0</th>\n",
       "      <td>1063</td>\n",
       "      <td>14091</td>\n",
       "      <td>0.075438</td>\n",
       "    </tr>\n",
       "    <tr>\n",
       "      <th>1</th>\n",
       "      <td>444</td>\n",
       "      <td>4808</td>\n",
       "      <td>0.092346</td>\n",
       "    </tr>\n",
       "    <tr>\n",
       "      <th>2</th>\n",
       "      <td>194</td>\n",
       "      <td>2052</td>\n",
       "      <td>0.094542</td>\n",
       "    </tr>\n",
       "    <tr>\n",
       "      <th>3</th>\n",
       "      <td>27</td>\n",
       "      <td>330</td>\n",
       "      <td>0.081818</td>\n",
       "    </tr>\n",
       "    <tr>\n",
       "      <th>4</th>\n",
       "      <td>4</td>\n",
       "      <td>41</td>\n",
       "      <td>0.097561</td>\n",
       "    </tr>\n",
       "    <tr>\n",
       "      <th>5</th>\n",
       "      <td>0</td>\n",
       "      <td>9</td>\n",
       "      <td>0.000000</td>\n",
       "    </tr>\n",
       "  </tbody>\n",
       "</table>\n",
       "</div>"
      ],
      "text/plain": [
       "          debt        percentage_overdue\n",
       "           sum  count                   \n",
       "children                                \n",
       "0         1063  14091           0.075438\n",
       "1          444   4808           0.092346\n",
       "2          194   2052           0.094542\n",
       "3           27    330           0.081818\n",
       "4            4     41           0.097561\n",
       "5            0      9           0.000000"
      ]
     },
     "execution_count": 27,
     "metadata": {},
     "output_type": "execute_result"
    }
   ],
   "source": [
    "# давайте сделаем сводную таблицу, чтобы опираться в зависимости не на коэффициент Пирсона, \n",
    "# а на отношение кличества должников к количествую заемщиков по каждой из категорий\n",
    "\n",
    "children_grouped = data.groupby(['children']).agg({'debt':['sum','count']})\n",
    "children_grouped['percentage_overdue'] = children_grouped['debt']['sum'] / children_grouped['debt']['count']\n",
    "children_grouped"
   ]
  },
  {
   "cell_type": "markdown",
   "id": "90f0f30b",
   "metadata": {
    "deletable": false,
    "id": "90f0f30b"
   },
   "source": [
    "**Вывод:** \n",
    "Значение корреляции составляет 2,4%. Фактически она отсутствует. \n",
    "Но добавленная группировка показывает, что наиболее частые проблемы с платежами возникают у заемщиков, у которых 1 ребенок; чаще - 2 ребенка. Группа с наименьшим дефолтом платежа явялется - без детей. Группы с тремя и более детьми малочисленны (не являются репрезентативными). "
   ]
  },
  {
   "cell_type": "markdown",
   "id": "dff8cf58",
   "metadata": {
    "deletable": false,
    "editable": false,
    "id": "dff8cf58"
   },
   "source": [
    "#### 3.2 Есть ли зависимость между семейным положением и возвратом кредита в срок?"
   ]
  },
  {
   "cell_type": "code",
   "execution_count": 28,
   "id": "b330736d",
   "metadata": {
    "colab": {
     "base_uri": "https://localhost:8080/"
    },
    "deletable": false,
    "executionInfo": {
     "elapsed": 387,
     "status": "ok",
     "timestamp": 1661489506272,
     "user": {
      "displayName": "Eduard Zarapov",
      "userId": "07842035153298924991"
     },
     "user_tz": -180
    },
    "id": "b330736d",
    "outputId": "9a481ace-ae74-41b7-a0cd-289f498fd625"
   },
   "outputs": [
    {
     "data": {
      "text/plain": [
       "array(['женат / замужем', 'гражданский брак', 'вдовец / вдова',\n",
       "       'в разводе', 'Не женат / не замужем'], dtype=object)"
      ]
     },
     "execution_count": 28,
     "metadata": {},
     "output_type": "execute_result"
    }
   ],
   "source": [
    "# Ранее уже смотрели уникальные значения по столбцу \"children\". Теперь можно посмотреть и семейное положение.\n",
    "ls_uni_family_status = data.family_status.unique()\n",
    "ls_uni_family_status"
   ]
  },
  {
   "cell_type": "code",
   "execution_count": 29,
   "id": "38zVsOsNYNrF",
   "metadata": {
    "colab": {
     "base_uri": "https://localhost:8080/",
     "height": 677
    },
    "executionInfo": {
     "elapsed": 394,
     "status": "ok",
     "timestamp": 1661489508840,
     "user": {
      "displayName": "Eduard Zarapov",
      "userId": "07842035153298924991"
     },
     "user_tz": -180
    },
    "id": "38zVsOsNYNrF",
    "outputId": "f7609ea5-38bd-4dde-c31b-967e47b3dbf9"
   },
   "outputs": [
    {
     "data": {
      "text/html": [
       "<div>\n",
       "<style scoped>\n",
       "    .dataframe tbody tr th:only-of-type {\n",
       "        vertical-align: middle;\n",
       "    }\n",
       "\n",
       "    .dataframe tbody tr th {\n",
       "        vertical-align: top;\n",
       "    }\n",
       "\n",
       "    .dataframe thead th {\n",
       "        text-align: right;\n",
       "    }\n",
       "</style>\n",
       "<table border=\"1\" class=\"dataframe\">\n",
       "  <thead>\n",
       "    <tr style=\"text-align: right;\">\n",
       "      <th></th>\n",
       "      <th>family_status</th>\n",
       "      <th>debt</th>\n",
       "    </tr>\n",
       "  </thead>\n",
       "  <tbody>\n",
       "    <tr>\n",
       "      <th>0</th>\n",
       "      <td>женат / замужем</td>\n",
       "      <td>0</td>\n",
       "    </tr>\n",
       "    <tr>\n",
       "      <th>1</th>\n",
       "      <td>женат / замужем</td>\n",
       "      <td>0</td>\n",
       "    </tr>\n",
       "    <tr>\n",
       "      <th>2</th>\n",
       "      <td>женат / замужем</td>\n",
       "      <td>0</td>\n",
       "    </tr>\n",
       "    <tr>\n",
       "      <th>3</th>\n",
       "      <td>женат / замужем</td>\n",
       "      <td>0</td>\n",
       "    </tr>\n",
       "    <tr>\n",
       "      <th>4</th>\n",
       "      <td>гражданский брак</td>\n",
       "      <td>0</td>\n",
       "    </tr>\n",
       "    <tr>\n",
       "      <th>5</th>\n",
       "      <td>гражданский брак</td>\n",
       "      <td>0</td>\n",
       "    </tr>\n",
       "    <tr>\n",
       "      <th>6</th>\n",
       "      <td>женат / замужем</td>\n",
       "      <td>0</td>\n",
       "    </tr>\n",
       "    <tr>\n",
       "      <th>7</th>\n",
       "      <td>женат / замужем</td>\n",
       "      <td>0</td>\n",
       "    </tr>\n",
       "    <tr>\n",
       "      <th>8</th>\n",
       "      <td>гражданский брак</td>\n",
       "      <td>0</td>\n",
       "    </tr>\n",
       "    <tr>\n",
       "      <th>9</th>\n",
       "      <td>женат / замужем</td>\n",
       "      <td>0</td>\n",
       "    </tr>\n",
       "    <tr>\n",
       "      <th>10</th>\n",
       "      <td>женат / замужем</td>\n",
       "      <td>0</td>\n",
       "    </tr>\n",
       "    <tr>\n",
       "      <th>11</th>\n",
       "      <td>женат / замужем</td>\n",
       "      <td>0</td>\n",
       "    </tr>\n",
       "    <tr>\n",
       "      <th>12</th>\n",
       "      <td>гражданский брак</td>\n",
       "      <td>0</td>\n",
       "    </tr>\n",
       "    <tr>\n",
       "      <th>13</th>\n",
       "      <td>женат / замужем</td>\n",
       "      <td>0</td>\n",
       "    </tr>\n",
       "    <tr>\n",
       "      <th>14</th>\n",
       "      <td>гражданский брак</td>\n",
       "      <td>1</td>\n",
       "    </tr>\n",
       "    <tr>\n",
       "      <th>15</th>\n",
       "      <td>женат / замужем</td>\n",
       "      <td>0</td>\n",
       "    </tr>\n",
       "    <tr>\n",
       "      <th>16</th>\n",
       "      <td>женат / замужем</td>\n",
       "      <td>0</td>\n",
       "    </tr>\n",
       "    <tr>\n",
       "      <th>17</th>\n",
       "      <td>гражданский брак</td>\n",
       "      <td>0</td>\n",
       "    </tr>\n",
       "    <tr>\n",
       "      <th>18</th>\n",
       "      <td>вдовец / вдова</td>\n",
       "      <td>0</td>\n",
       "    </tr>\n",
       "    <tr>\n",
       "      <th>19</th>\n",
       "      <td>в разводе</td>\n",
       "      <td>0</td>\n",
       "    </tr>\n",
       "  </tbody>\n",
       "</table>\n",
       "</div>"
      ],
      "text/plain": [
       "       family_status  debt\n",
       "0    женат / замужем     0\n",
       "1    женат / замужем     0\n",
       "2    женат / замужем     0\n",
       "3    женат / замужем     0\n",
       "4   гражданский брак     0\n",
       "5   гражданский брак     0\n",
       "6    женат / замужем     0\n",
       "7    женат / замужем     0\n",
       "8   гражданский брак     0\n",
       "9    женат / замужем     0\n",
       "10   женат / замужем     0\n",
       "11   женат / замужем     0\n",
       "12  гражданский брак     0\n",
       "13   женат / замужем     0\n",
       "14  гражданский брак     1\n",
       "15   женат / замужем     0\n",
       "16   женат / замужем     0\n",
       "17  гражданский брак     0\n",
       "18    вдовец / вдова     0\n",
       "19         в разводе     0"
      ]
     },
     "execution_count": 29,
     "metadata": {},
     "output_type": "execute_result"
    }
   ],
   "source": [
    "# сделаем маленькую копию документа и выгрузим в отдельный df\n",
    "data_shot_corr = data[['family_status', 'debt']].copy()\n",
    "data_shot_corr.head(20)"
   ]
  },
  {
   "cell_type": "code",
   "execution_count": 30,
   "id": "97nlFmL4gqEg",
   "metadata": {
    "colab": {
     "base_uri": "https://localhost:8080/",
     "height": 424
    },
    "executionInfo": {
     "elapsed": 427,
     "status": "ok",
     "timestamp": 1661489516679,
     "user": {
      "displayName": "Eduard Zarapov",
      "userId": "07842035153298924991"
     },
     "user_tz": -180
    },
    "id": "97nlFmL4gqEg",
    "outputId": "bdaab86c-126b-4fe8-c4b6-e334fee5f9af"
   },
   "outputs": [
    {
     "data": {
      "text/html": [
       "<div>\n",
       "<style scoped>\n",
       "    .dataframe tbody tr th:only-of-type {\n",
       "        vertical-align: middle;\n",
       "    }\n",
       "\n",
       "    .dataframe tbody tr th {\n",
       "        vertical-align: top;\n",
       "    }\n",
       "\n",
       "    .dataframe thead th {\n",
       "        text-align: right;\n",
       "    }\n",
       "</style>\n",
       "<table border=\"1\" class=\"dataframe\">\n",
       "  <thead>\n",
       "    <tr style=\"text-align: right;\">\n",
       "      <th></th>\n",
       "      <th>Не женат / не замужем</th>\n",
       "      <th>в разводе</th>\n",
       "      <th>вдовец / вдова</th>\n",
       "      <th>гражданский брак</th>\n",
       "      <th>женат / замужем</th>\n",
       "    </tr>\n",
       "  </thead>\n",
       "  <tbody>\n",
       "    <tr>\n",
       "      <th>0</th>\n",
       "      <td>0</td>\n",
       "      <td>0</td>\n",
       "      <td>0</td>\n",
       "      <td>0</td>\n",
       "      <td>1</td>\n",
       "    </tr>\n",
       "    <tr>\n",
       "      <th>1</th>\n",
       "      <td>0</td>\n",
       "      <td>0</td>\n",
       "      <td>0</td>\n",
       "      <td>0</td>\n",
       "      <td>1</td>\n",
       "    </tr>\n",
       "    <tr>\n",
       "      <th>2</th>\n",
       "      <td>0</td>\n",
       "      <td>0</td>\n",
       "      <td>0</td>\n",
       "      <td>0</td>\n",
       "      <td>1</td>\n",
       "    </tr>\n",
       "    <tr>\n",
       "      <th>3</th>\n",
       "      <td>0</td>\n",
       "      <td>0</td>\n",
       "      <td>0</td>\n",
       "      <td>0</td>\n",
       "      <td>1</td>\n",
       "    </tr>\n",
       "    <tr>\n",
       "      <th>4</th>\n",
       "      <td>0</td>\n",
       "      <td>0</td>\n",
       "      <td>0</td>\n",
       "      <td>1</td>\n",
       "      <td>0</td>\n",
       "    </tr>\n",
       "    <tr>\n",
       "      <th>...</th>\n",
       "      <td>...</td>\n",
       "      <td>...</td>\n",
       "      <td>...</td>\n",
       "      <td>...</td>\n",
       "      <td>...</td>\n",
       "    </tr>\n",
       "    <tr>\n",
       "      <th>21520</th>\n",
       "      <td>0</td>\n",
       "      <td>0</td>\n",
       "      <td>0</td>\n",
       "      <td>1</td>\n",
       "      <td>0</td>\n",
       "    </tr>\n",
       "    <tr>\n",
       "      <th>21521</th>\n",
       "      <td>0</td>\n",
       "      <td>0</td>\n",
       "      <td>0</td>\n",
       "      <td>0</td>\n",
       "      <td>1</td>\n",
       "    </tr>\n",
       "    <tr>\n",
       "      <th>21522</th>\n",
       "      <td>0</td>\n",
       "      <td>0</td>\n",
       "      <td>0</td>\n",
       "      <td>1</td>\n",
       "      <td>0</td>\n",
       "    </tr>\n",
       "    <tr>\n",
       "      <th>21523</th>\n",
       "      <td>0</td>\n",
       "      <td>0</td>\n",
       "      <td>0</td>\n",
       "      <td>0</td>\n",
       "      <td>1</td>\n",
       "    </tr>\n",
       "    <tr>\n",
       "      <th>21524</th>\n",
       "      <td>0</td>\n",
       "      <td>0</td>\n",
       "      <td>0</td>\n",
       "      <td>0</td>\n",
       "      <td>1</td>\n",
       "    </tr>\n",
       "  </tbody>\n",
       "</table>\n",
       "<p>21331 rows × 5 columns</p>\n",
       "</div>"
      ],
      "text/plain": [
       "       Не женат / не замужем  в разводе  вдовец / вдова  гражданский брак  \\\n",
       "0                          0          0               0                 0   \n",
       "1                          0          0               0                 0   \n",
       "2                          0          0               0                 0   \n",
       "3                          0          0               0                 0   \n",
       "4                          0          0               0                 1   \n",
       "...                      ...        ...             ...               ...   \n",
       "21520                      0          0               0                 1   \n",
       "21521                      0          0               0                 0   \n",
       "21522                      0          0               0                 1   \n",
       "21523                      0          0               0                 0   \n",
       "21524                      0          0               0                 0   \n",
       "\n",
       "       женат / замужем  \n",
       "0                    1  \n",
       "1                    1  \n",
       "2                    1  \n",
       "3                    1  \n",
       "4                    0  \n",
       "...                ...  \n",
       "21520                0  \n",
       "21521                1  \n",
       "21522                0  \n",
       "21523                1  \n",
       "21524                1  \n",
       "\n",
       "[21331 rows x 5 columns]"
      ]
     },
     "execution_count": 30,
     "metadata": {},
     "output_type": "execute_result"
    }
   ],
   "source": [
    "# значение семейного положение является категориальным признаком. Поэтому здесь лучше воспользоваться предвариительной предобработкой OHE (onehotencoder)\n",
    "one_hot = pd.get_dummies(data_shot_corr['family_status'])\n",
    "one_hot"
   ]
  },
  {
   "cell_type": "code",
   "execution_count": 31,
   "id": "hWbdpuzWjEd1",
   "metadata": {
    "colab": {
     "base_uri": "https://localhost:8080/",
     "height": 424
    },
    "executionInfo": {
     "elapsed": 388,
     "status": "ok",
     "timestamp": 1661489530090,
     "user": {
      "displayName": "Eduard Zarapov",
      "userId": "07842035153298924991"
     },
     "user_tz": -180
    },
    "id": "hWbdpuzWjEd1",
    "outputId": "8d685abb-7d27-4ac6-dddd-a19beb730bd4"
   },
   "outputs": [
    {
     "data": {
      "text/html": [
       "<div>\n",
       "<style scoped>\n",
       "    .dataframe tbody tr th:only-of-type {\n",
       "        vertical-align: middle;\n",
       "    }\n",
       "\n",
       "    .dataframe tbody tr th {\n",
       "        vertical-align: top;\n",
       "    }\n",
       "\n",
       "    .dataframe thead th {\n",
       "        text-align: right;\n",
       "    }\n",
       "</style>\n",
       "<table border=\"1\" class=\"dataframe\">\n",
       "  <thead>\n",
       "    <tr style=\"text-align: right;\">\n",
       "      <th></th>\n",
       "      <th>debt</th>\n",
       "      <th>Не женат / не замужем</th>\n",
       "      <th>в разводе</th>\n",
       "      <th>вдовец / вдова</th>\n",
       "      <th>гражданский брак</th>\n",
       "      <th>женат / замужем</th>\n",
       "    </tr>\n",
       "  </thead>\n",
       "  <tbody>\n",
       "    <tr>\n",
       "      <th>0</th>\n",
       "      <td>0</td>\n",
       "      <td>0</td>\n",
       "      <td>0</td>\n",
       "      <td>0</td>\n",
       "      <td>0</td>\n",
       "      <td>1</td>\n",
       "    </tr>\n",
       "    <tr>\n",
       "      <th>1</th>\n",
       "      <td>0</td>\n",
       "      <td>0</td>\n",
       "      <td>0</td>\n",
       "      <td>0</td>\n",
       "      <td>0</td>\n",
       "      <td>1</td>\n",
       "    </tr>\n",
       "    <tr>\n",
       "      <th>2</th>\n",
       "      <td>0</td>\n",
       "      <td>0</td>\n",
       "      <td>0</td>\n",
       "      <td>0</td>\n",
       "      <td>0</td>\n",
       "      <td>1</td>\n",
       "    </tr>\n",
       "    <tr>\n",
       "      <th>3</th>\n",
       "      <td>0</td>\n",
       "      <td>0</td>\n",
       "      <td>0</td>\n",
       "      <td>0</td>\n",
       "      <td>0</td>\n",
       "      <td>1</td>\n",
       "    </tr>\n",
       "    <tr>\n",
       "      <th>4</th>\n",
       "      <td>0</td>\n",
       "      <td>0</td>\n",
       "      <td>0</td>\n",
       "      <td>0</td>\n",
       "      <td>1</td>\n",
       "      <td>0</td>\n",
       "    </tr>\n",
       "    <tr>\n",
       "      <th>...</th>\n",
       "      <td>...</td>\n",
       "      <td>...</td>\n",
       "      <td>...</td>\n",
       "      <td>...</td>\n",
       "      <td>...</td>\n",
       "      <td>...</td>\n",
       "    </tr>\n",
       "    <tr>\n",
       "      <th>21520</th>\n",
       "      <td>0</td>\n",
       "      <td>0</td>\n",
       "      <td>0</td>\n",
       "      <td>0</td>\n",
       "      <td>1</td>\n",
       "      <td>0</td>\n",
       "    </tr>\n",
       "    <tr>\n",
       "      <th>21521</th>\n",
       "      <td>0</td>\n",
       "      <td>0</td>\n",
       "      <td>0</td>\n",
       "      <td>0</td>\n",
       "      <td>0</td>\n",
       "      <td>1</td>\n",
       "    </tr>\n",
       "    <tr>\n",
       "      <th>21522</th>\n",
       "      <td>1</td>\n",
       "      <td>0</td>\n",
       "      <td>0</td>\n",
       "      <td>0</td>\n",
       "      <td>1</td>\n",
       "      <td>0</td>\n",
       "    </tr>\n",
       "    <tr>\n",
       "      <th>21523</th>\n",
       "      <td>1</td>\n",
       "      <td>0</td>\n",
       "      <td>0</td>\n",
       "      <td>0</td>\n",
       "      <td>0</td>\n",
       "      <td>1</td>\n",
       "    </tr>\n",
       "    <tr>\n",
       "      <th>21524</th>\n",
       "      <td>0</td>\n",
       "      <td>0</td>\n",
       "      <td>0</td>\n",
       "      <td>0</td>\n",
       "      <td>0</td>\n",
       "      <td>1</td>\n",
       "    </tr>\n",
       "  </tbody>\n",
       "</table>\n",
       "<p>21331 rows × 6 columns</p>\n",
       "</div>"
      ],
      "text/plain": [
       "       debt  Не женат / не замужем  в разводе  вдовец / вдова  \\\n",
       "0         0                      0          0               0   \n",
       "1         0                      0          0               0   \n",
       "2         0                      0          0               0   \n",
       "3         0                      0          0               0   \n",
       "4         0                      0          0               0   \n",
       "...     ...                    ...        ...             ...   \n",
       "21520     0                      0          0               0   \n",
       "21521     0                      0          0               0   \n",
       "21522     1                      0          0               0   \n",
       "21523     1                      0          0               0   \n",
       "21524     0                      0          0               0   \n",
       "\n",
       "       гражданский брак  женат / замужем  \n",
       "0                     0                1  \n",
       "1                     0                1  \n",
       "2                     0                1  \n",
       "3                     0                1  \n",
       "4                     1                0  \n",
       "...                 ...              ...  \n",
       "21520                 1                0  \n",
       "21521                 0                1  \n",
       "21522                 1                0  \n",
       "21523                 0                1  \n",
       "21524                 0                1  \n",
       "\n",
       "[21331 rows x 6 columns]"
      ]
     },
     "execution_count": 31,
     "metadata": {},
     "output_type": "execute_result"
    }
   ],
   "source": [
    "data_shot_corr = data_shot_corr.join(one_hot)                           # добавим распредлеенный One Hot к анализруемому data_shot_corr  \n",
    "data_shot_corr = data_shot_corr.drop('family_status', axis=1)           # удалим столбец family_status\n",
    "data_shot_corr"
   ]
  },
  {
   "cell_type": "code",
   "execution_count": 32,
   "id": "Nj66ckAvk4Yd",
   "metadata": {
    "colab": {
     "base_uri": "https://localhost:8080/",
     "height": 238
    },
    "executionInfo": {
     "elapsed": 404,
     "status": "ok",
     "timestamp": 1661489537099,
     "user": {
      "displayName": "Eduard Zarapov",
      "userId": "07842035153298924991"
     },
     "user_tz": -180
    },
    "id": "Nj66ckAvk4Yd",
    "outputId": "e15f11ce-3e02-4df9-cfe1-75ae4547aacc",
    "scrolled": true
   },
   "outputs": [
    {
     "data": {
      "text/html": [
       "<div>\n",
       "<style scoped>\n",
       "    .dataframe tbody tr th:only-of-type {\n",
       "        vertical-align: middle;\n",
       "    }\n",
       "\n",
       "    .dataframe tbody tr th {\n",
       "        vertical-align: top;\n",
       "    }\n",
       "\n",
       "    .dataframe thead th {\n",
       "        text-align: right;\n",
       "    }\n",
       "</style>\n",
       "<table border=\"1\" class=\"dataframe\">\n",
       "  <thead>\n",
       "    <tr style=\"text-align: right;\">\n",
       "      <th></th>\n",
       "      <th>debt</th>\n",
       "      <th>Не женат / не замужем</th>\n",
       "      <th>в разводе</th>\n",
       "      <th>вдовец / вдова</th>\n",
       "      <th>гражданский брак</th>\n",
       "      <th>женат / замужем</th>\n",
       "    </tr>\n",
       "  </thead>\n",
       "  <tbody>\n",
       "    <tr>\n",
       "      <th>debt</th>\n",
       "      <td>1.000000</td>\n",
       "      <td>0.023382</td>\n",
       "      <td>-0.009383</td>\n",
       "      <td>-0.011824</td>\n",
       "      <td>0.021422</td>\n",
       "      <td>-0.023799</td>\n",
       "    </tr>\n",
       "    <tr>\n",
       "      <th>Не женат / не замужем</th>\n",
       "      <td>0.023382</td>\n",
       "      <td>1.000000</td>\n",
       "      <td>-0.094365</td>\n",
       "      <td>-0.083900</td>\n",
       "      <td>-0.190428</td>\n",
       "      <td>-0.451577</td>\n",
       "    </tr>\n",
       "    <tr>\n",
       "      <th>в разводе</th>\n",
       "      <td>-0.009383</td>\n",
       "      <td>-0.094365</td>\n",
       "      <td>1.000000</td>\n",
       "      <td>-0.052484</td>\n",
       "      <td>-0.119124</td>\n",
       "      <td>-0.282487</td>\n",
       "    </tr>\n",
       "    <tr>\n",
       "      <th>вдовец / вдова</th>\n",
       "      <td>-0.011824</td>\n",
       "      <td>-0.083900</td>\n",
       "      <td>-0.052484</td>\n",
       "      <td>1.000000</td>\n",
       "      <td>-0.105912</td>\n",
       "      <td>-0.251158</td>\n",
       "    </tr>\n",
       "    <tr>\n",
       "      <th>гражданский брак</th>\n",
       "      <td>0.021422</td>\n",
       "      <td>-0.190428</td>\n",
       "      <td>-0.119124</td>\n",
       "      <td>-0.105912</td>\n",
       "      <td>1.000000</td>\n",
       "      <td>-0.570057</td>\n",
       "    </tr>\n",
       "    <tr>\n",
       "      <th>женат / замужем</th>\n",
       "      <td>-0.023799</td>\n",
       "      <td>-0.451577</td>\n",
       "      <td>-0.282487</td>\n",
       "      <td>-0.251158</td>\n",
       "      <td>-0.570057</td>\n",
       "      <td>1.000000</td>\n",
       "    </tr>\n",
       "  </tbody>\n",
       "</table>\n",
       "</div>"
      ],
      "text/plain": [
       "                           debt  Не женат / не замужем  в разводе  \\\n",
       "debt                   1.000000               0.023382  -0.009383   \n",
       "Не женат / не замужем  0.023382               1.000000  -0.094365   \n",
       "в разводе             -0.009383              -0.094365   1.000000   \n",
       "вдовец / вдова        -0.011824              -0.083900  -0.052484   \n",
       "гражданский брак       0.021422              -0.190428  -0.119124   \n",
       "женат / замужем       -0.023799              -0.451577  -0.282487   \n",
       "\n",
       "                       вдовец / вдова  гражданский брак  женат / замужем  \n",
       "debt                        -0.011824          0.021422        -0.023799  \n",
       "Не женат / не замужем       -0.083900         -0.190428        -0.451577  \n",
       "в разводе                   -0.052484         -0.119124        -0.282487  \n",
       "вдовец / вдова               1.000000         -0.105912        -0.251158  \n",
       "гражданский брак            -0.105912          1.000000        -0.570057  \n",
       "женат / замужем             -0.251158         -0.570057         1.000000  "
      ]
     },
     "execution_count": 32,
     "metadata": {},
     "output_type": "execute_result"
    }
   ],
   "source": [
    "# построим матрицу корреляций:\n",
    "\n",
    "corr_matrix = data_shot_corr.corr()\n",
    "corr_matrix"
   ]
  },
  {
   "cell_type": "code",
   "execution_count": 33,
   "id": "1c89d505",
   "metadata": {},
   "outputs": [
    {
     "data": {
      "text/html": [
       "<div>\n",
       "<style scoped>\n",
       "    .dataframe tbody tr th:only-of-type {\n",
       "        vertical-align: middle;\n",
       "    }\n",
       "\n",
       "    .dataframe tbody tr th {\n",
       "        vertical-align: top;\n",
       "    }\n",
       "\n",
       "    .dataframe thead tr th {\n",
       "        text-align: left;\n",
       "    }\n",
       "\n",
       "    .dataframe thead tr:last-of-type th {\n",
       "        text-align: right;\n",
       "    }\n",
       "</style>\n",
       "<table border=\"1\" class=\"dataframe\">\n",
       "  <thead>\n",
       "    <tr>\n",
       "      <th></th>\n",
       "      <th colspan=\"2\" halign=\"left\">debt</th>\n",
       "      <th>percentage_overdue</th>\n",
       "    </tr>\n",
       "    <tr>\n",
       "      <th></th>\n",
       "      <th>sum</th>\n",
       "      <th>count</th>\n",
       "      <th></th>\n",
       "    </tr>\n",
       "    <tr>\n",
       "      <th>family_status</th>\n",
       "      <th></th>\n",
       "      <th></th>\n",
       "      <th></th>\n",
       "    </tr>\n",
       "  </thead>\n",
       "  <tbody>\n",
       "    <tr>\n",
       "      <th>Не женат / не замужем</th>\n",
       "      <td>273</td>\n",
       "      <td>2796</td>\n",
       "      <td>0.097639</td>\n",
       "    </tr>\n",
       "    <tr>\n",
       "      <th>в разводе</th>\n",
       "      <td>84</td>\n",
       "      <td>1189</td>\n",
       "      <td>0.070648</td>\n",
       "    </tr>\n",
       "    <tr>\n",
       "      <th>вдовец / вдова</th>\n",
       "      <td>63</td>\n",
       "      <td>951</td>\n",
       "      <td>0.066246</td>\n",
       "    </tr>\n",
       "    <tr>\n",
       "      <th>гражданский брак</th>\n",
       "      <td>385</td>\n",
       "      <td>4134</td>\n",
       "      <td>0.093130</td>\n",
       "    </tr>\n",
       "    <tr>\n",
       "      <th>женат / замужем</th>\n",
       "      <td>927</td>\n",
       "      <td>12261</td>\n",
       "      <td>0.075606</td>\n",
       "    </tr>\n",
       "  </tbody>\n",
       "</table>\n",
       "</div>"
      ],
      "text/plain": [
       "                      debt        percentage_overdue\n",
       "                       sum  count                   \n",
       "family_status                                       \n",
       "Не женат / не замужем  273   2796           0.097639\n",
       "в разводе               84   1189           0.070648\n",
       "вдовец / вдова          63    951           0.066246\n",
       "гражданский брак       385   4134           0.093130\n",
       "женат / замужем        927  12261           0.075606"
      ]
     },
     "execution_count": 33,
     "metadata": {},
     "output_type": "execute_result"
    }
   ],
   "source": [
    "# давайте сделаем сводную таблицу, чтобы опираться в зависимости не на коэффициент Пирсона, \n",
    "# а на отношение кличества должников к количествую заемщиков по каждой из категорий\n",
    "\n",
    "family_status_grouped = data.groupby(['family_status']).agg({'debt':['sum','count']})\n",
    "family_status_grouped['percentage_overdue'] = family_status_grouped['debt']['sum'] / family_status_grouped['debt']['count']\n",
    "family_status_grouped"
   ]
  },
  {
   "cell_type": "markdown",
   "id": "917fe151",
   "metadata": {
    "deletable": false,
    "id": "917fe151"
   },
   "source": [
    "**Вывод:** \n",
    "Существенно значимой корреляции семейного положения и возвратом кредита в срок не выявлено.\n",
    "Из всех имеющихся групп статусов наихудшей явялется \"не женат / не замужем\".\n",
    "Также возможно отметить, что заемщики, которые ранее вступали в браки являеются более надежными."
   ]
  },
  {
   "cell_type": "markdown",
   "id": "18c1041f",
   "metadata": {
    "deletable": false,
    "editable": false,
    "id": "18c1041f"
   },
   "source": [
    "#### 3.3 Есть ли зависимость между уровнем дохода и возвратом кредита в срок?"
   ]
  },
  {
   "cell_type": "code",
   "execution_count": 34,
   "id": "d06e1c19",
   "metadata": {
    "colab": {
     "base_uri": "https://localhost:8080/",
     "height": 295
    },
    "deletable": false,
    "executionInfo": {
     "elapsed": 416,
     "status": "ok",
     "timestamp": 1661489557367,
     "user": {
      "displayName": "Eduard Zarapov",
      "userId": "07842035153298924991"
     },
     "user_tz": -180
    },
    "id": "d06e1c19",
    "outputId": "cc6a9ead-559b-4791-c79e-267f2b53b912"
   },
   "outputs": [
    {
     "data": {
      "text/plain": [
       "<AxesSubplot:ylabel='Frequency'>"
      ]
     },
     "execution_count": 34,
     "metadata": {},
     "output_type": "execute_result"
    },
    {
     "data": {
      "image/png": "[encoded data removed]",
      "text/plain": [
       "<Figure size 432x288 with 1 Axes>"
      ]
     },
     "metadata": {
      "needs_background": "light"
     },
     "output_type": "display_data"
    }
   ],
   "source": [
    "# Ваш код будет здесь. Вы можете создавать новые ячейки.\n",
    "\n",
    "data.total_income.plot(kind=\"hist\")"
   ]
  },
  {
   "cell_type": "code",
   "execution_count": 35,
   "id": "uu2mGQ30mrU2",
   "metadata": {
    "colab": {
     "base_uri": "https://localhost:8080/"
    },
    "executionInfo": {
     "elapsed": 390,
     "status": "ok",
     "timestamp": 1661489560530,
     "user": {
      "displayName": "Eduard Zarapov",
      "userId": "07842035153298924991"
     },
     "user_tz": -180
    },
    "id": "uu2mGQ30mrU2",
    "outputId": "d5c82f4c-9280-43ff-a24a-f67bfb46f80d"
   },
   "outputs": [
    {
     "name": "stdout",
     "output_type": "stream",
     "text": [
      "Максимальный доход:  2265604\n",
      "Минимальный доход:  20667\n"
     ]
    }
   ],
   "source": [
    "# посмотрим на максимальный и минимальный доходы:\n",
    "print('Максимальный доход: ', max(data.total_income))\n",
    "print('Минимальный доход: ', min(data.total_income))"
   ]
  },
  {
   "cell_type": "code",
   "execution_count": 36,
   "id": "dkXiXBZVnQVQ",
   "metadata": {
    "colab": {
     "base_uri": "https://localhost:8080/"
    },
    "executionInfo": {
     "elapsed": 398,
     "status": "ok",
     "timestamp": 1661489563439,
     "user": {
      "displayName": "Eduard Zarapov",
      "userId": "07842035153298924991"
     },
     "user_tz": -180
    },
    "id": "dkXiXBZVnQVQ",
    "outputId": "b904b343-c2d1-4f05-85b0-6fa7fbf70ea0"
   },
   "outputs": [
    {
     "data": {
      "text/plain": [
       "-0.012671098818189926"
      ]
     },
     "execution_count": 36,
     "metadata": {},
     "output_type": "execute_result"
    }
   ],
   "source": [
    "# Здесь идеально возможно использовать метод corr() без предварительной обработки. Попробуем воспользоваться им:\n",
    "data['total_income'].corr(data['debt'])"
   ]
  },
  {
   "cell_type": "code",
   "execution_count": 37,
   "id": "e5f2830d",
   "metadata": {},
   "outputs": [
    {
     "data": {
      "text/html": [
       "<div>\n",
       "<style scoped>\n",
       "    .dataframe tbody tr th:only-of-type {\n",
       "        vertical-align: middle;\n",
       "    }\n",
       "\n",
       "    .dataframe tbody tr th {\n",
       "        vertical-align: top;\n",
       "    }\n",
       "\n",
       "    .dataframe thead tr th {\n",
       "        text-align: left;\n",
       "    }\n",
       "\n",
       "    .dataframe thead tr:last-of-type th {\n",
       "        text-align: right;\n",
       "    }\n",
       "</style>\n",
       "<table border=\"1\" class=\"dataframe\">\n",
       "  <thead>\n",
       "    <tr>\n",
       "      <th></th>\n",
       "      <th colspan=\"2\" halign=\"left\">debt</th>\n",
       "      <th>percentage_overdue</th>\n",
       "    </tr>\n",
       "    <tr>\n",
       "      <th></th>\n",
       "      <th>sum</th>\n",
       "      <th>count</th>\n",
       "      <th></th>\n",
       "    </tr>\n",
       "    <tr>\n",
       "      <th>total_income_category</th>\n",
       "      <th></th>\n",
       "      <th></th>\n",
       "      <th></th>\n",
       "    </tr>\n",
       "  </thead>\n",
       "  <tbody>\n",
       "    <tr>\n",
       "      <th>A</th>\n",
       "      <td>2</td>\n",
       "      <td>25</td>\n",
       "      <td>0.080000</td>\n",
       "    </tr>\n",
       "    <tr>\n",
       "      <th>B</th>\n",
       "      <td>354</td>\n",
       "      <td>5014</td>\n",
       "      <td>0.070602</td>\n",
       "    </tr>\n",
       "    <tr>\n",
       "      <th>C</th>\n",
       "      <td>1353</td>\n",
       "      <td>15921</td>\n",
       "      <td>0.084982</td>\n",
       "    </tr>\n",
       "    <tr>\n",
       "      <th>D</th>\n",
       "      <td>21</td>\n",
       "      <td>349</td>\n",
       "      <td>0.060172</td>\n",
       "    </tr>\n",
       "    <tr>\n",
       "      <th>E</th>\n",
       "      <td>2</td>\n",
       "      <td>22</td>\n",
       "      <td>0.090909</td>\n",
       "    </tr>\n",
       "  </tbody>\n",
       "</table>\n",
       "</div>"
      ],
      "text/plain": [
       "                       debt        percentage_overdue\n",
       "                        sum  count                   \n",
       "total_income_category                                \n",
       "A                         2     25           0.080000\n",
       "B                       354   5014           0.070602\n",
       "C                      1353  15921           0.084982\n",
       "D                        21    349           0.060172\n",
       "E                         2     22           0.090909"
      ]
     },
     "execution_count": 37,
     "metadata": {},
     "output_type": "execute_result"
    }
   ],
   "source": [
    "# давайте сделаем сводную таблицу, чтобы опираться в зависимости не на коэффициент Пирсона, \n",
    "# а на отношение кличества должников к количествую заемщиков по каждой из категорий\n",
    "\n",
    "total_income_category_grouped = data.groupby(['total_income_category']).agg({'debt':['sum','count']})\n",
    "total_income_category_grouped['percentage_overdue'] = total_income_category_grouped['debt']['sum'] / total_income_category_grouped['debt']['count']\n",
    "total_income_category_grouped"
   ]
  },
  {
   "cell_type": "markdown",
   "id": "4e70a232",
   "metadata": {
    "deletable": false,
    "id": "4e70a232"
   },
   "source": [
    "**Вывод:**\n",
    "Корреляция отрицательная, но тоже незначительная.\n",
    "Самая низкая просрочка (чуть более 6%) приходится на категорию \"D\". Но она не является репрезентативной в силу низкого количества выданных кредитов. Также к нерепрезантативным группам относятся \"А\" и \"Е\".\n",
    "Наихудший вариант в категории \"C\" (8,5%). Данная группа требует более глубокого изучения."
   ]
  },
  {
   "cell_type": "markdown",
   "id": "8e14533d",
   "metadata": {
    "deletable": false,
    "editable": false,
    "id": "8e14533d"
   },
   "source": [
    "#### 3.4 Как разные цели кредита влияют на его возврат в срок?"
   ]
  },
  {
   "cell_type": "code",
   "execution_count": 38,
   "id": "00bef012",
   "metadata": {
    "colab": {
     "base_uri": "https://localhost:8080/"
    },
    "deletable": false,
    "executionInfo": {
     "elapsed": 419,
     "status": "ok",
     "timestamp": 1661489597195,
     "user": {
      "displayName": "Eduard Zarapov",
      "userId": "07842035153298924991"
     },
     "user_tz": -180
    },
    "id": "00bef012",
    "outputId": "6328d0b8-d176-4520-cf31-20c24d945e9d"
   },
   "outputs": [
    {
     "data": {
      "text/plain": [
       "array(['операции с недвижимостью', 'операции с автомобилем',\n",
       "       'получение образования', 'проведение свадьбы'], dtype=object)"
      ]
     },
     "execution_count": 38,
     "metadata": {},
     "output_type": "execute_result"
    }
   ],
   "source": [
    "# Для определения влияния посмотрим уникальные значения\n",
    "ls_uni_purpose_category = data.purpose_category.unique()\n",
    "ls_uni_purpose_category"
   ]
  },
  {
   "cell_type": "code",
   "execution_count": 39,
   "id": "os46Mwchrlh8",
   "metadata": {
    "colab": {
     "base_uri": "https://localhost:8080/",
     "height": 238
    },
    "executionInfo": {
     "elapsed": 418,
     "status": "ok",
     "timestamp": 1661489601777,
     "user": {
      "displayName": "Eduard Zarapov",
      "userId": "07842035153298924991"
     },
     "user_tz": -180
    },
    "id": "os46Mwchrlh8",
    "outputId": "88242421-0e4e-411b-e548-58214029abba"
   },
   "outputs": [
    {
     "data": {
      "text/html": [
       "<div>\n",
       "<style scoped>\n",
       "    .dataframe tbody tr th:only-of-type {\n",
       "        vertical-align: middle;\n",
       "    }\n",
       "\n",
       "    .dataframe tbody tr th {\n",
       "        vertical-align: top;\n",
       "    }\n",
       "\n",
       "    .dataframe thead tr th {\n",
       "        text-align: left;\n",
       "    }\n",
       "\n",
       "    .dataframe thead tr:last-of-type th {\n",
       "        text-align: right;\n",
       "    }\n",
       "</style>\n",
       "<table border=\"1\" class=\"dataframe\">\n",
       "  <thead>\n",
       "    <tr>\n",
       "      <th></th>\n",
       "      <th colspan=\"2\" halign=\"left\">debt</th>\n",
       "    </tr>\n",
       "    <tr>\n",
       "      <th></th>\n",
       "      <th>sum</th>\n",
       "      <th>count</th>\n",
       "    </tr>\n",
       "    <tr>\n",
       "      <th>purpose_category</th>\n",
       "      <th></th>\n",
       "      <th></th>\n",
       "    </tr>\n",
       "  </thead>\n",
       "  <tbody>\n",
       "    <tr>\n",
       "      <th>операции с автомобилем</th>\n",
       "      <td>400</td>\n",
       "      <td>4279</td>\n",
       "    </tr>\n",
       "    <tr>\n",
       "      <th>операции с недвижимостью</th>\n",
       "      <td>780</td>\n",
       "      <td>10751</td>\n",
       "    </tr>\n",
       "    <tr>\n",
       "      <th>получение образования</th>\n",
       "      <td>369</td>\n",
       "      <td>3988</td>\n",
       "    </tr>\n",
       "    <tr>\n",
       "      <th>проведение свадьбы</th>\n",
       "      <td>183</td>\n",
       "      <td>2313</td>\n",
       "    </tr>\n",
       "  </tbody>\n",
       "</table>\n",
       "</div>"
      ],
      "text/plain": [
       "                         debt       \n",
       "                          sum  count\n",
       "purpose_category                    \n",
       "операции с автомобилем    400   4279\n",
       "операции с недвижимостью  780  10751\n",
       "получение образования     369   3988\n",
       "проведение свадьбы        183   2313"
      ]
     },
     "execution_count": 39,
     "metadata": {},
     "output_type": "execute_result"
    }
   ],
   "source": [
    "#... и добавим группировку по количеству и сумму значений.\n",
    "\n",
    "purpose_grouped = data.groupby(['purpose_category']).agg({'debt':['sum','count']})\n",
    "purpose_grouped"
   ]
  },
  {
   "cell_type": "code",
   "execution_count": 40,
   "id": "WcCLXmzpuYSU",
   "metadata": {
    "colab": {
     "base_uri": "https://localhost:8080/",
     "height": 238
    },
    "executionInfo": {
     "elapsed": 429,
     "status": "ok",
     "timestamp": 1661489618303,
     "user": {
      "displayName": "Eduard Zarapov",
      "userId": "07842035153298924991"
     },
     "user_tz": -180
    },
    "id": "WcCLXmzpuYSU",
    "outputId": "e57033bc-eed1-4910-e41d-f293b7d49793"
   },
   "outputs": [
    {
     "data": {
      "text/html": [
       "<div>\n",
       "<style scoped>\n",
       "    .dataframe tbody tr th:only-of-type {\n",
       "        vertical-align: middle;\n",
       "    }\n",
       "\n",
       "    .dataframe tbody tr th {\n",
       "        vertical-align: top;\n",
       "    }\n",
       "\n",
       "    .dataframe thead tr th {\n",
       "        text-align: left;\n",
       "    }\n",
       "\n",
       "    .dataframe thead tr:last-of-type th {\n",
       "        text-align: right;\n",
       "    }\n",
       "</style>\n",
       "<table border=\"1\" class=\"dataframe\">\n",
       "  <thead>\n",
       "    <tr>\n",
       "      <th></th>\n",
       "      <th colspan=\"2\" halign=\"left\">debt</th>\n",
       "      <th>percentage_overdue</th>\n",
       "    </tr>\n",
       "    <tr>\n",
       "      <th></th>\n",
       "      <th>sum</th>\n",
       "      <th>count</th>\n",
       "      <th></th>\n",
       "    </tr>\n",
       "    <tr>\n",
       "      <th>purpose_category</th>\n",
       "      <th></th>\n",
       "      <th></th>\n",
       "      <th></th>\n",
       "    </tr>\n",
       "  </thead>\n",
       "  <tbody>\n",
       "    <tr>\n",
       "      <th>операции с автомобилем</th>\n",
       "      <td>400</td>\n",
       "      <td>4279</td>\n",
       "      <td>0.093480</td>\n",
       "    </tr>\n",
       "    <tr>\n",
       "      <th>операции с недвижимостью</th>\n",
       "      <td>780</td>\n",
       "      <td>10751</td>\n",
       "      <td>0.072551</td>\n",
       "    </tr>\n",
       "    <tr>\n",
       "      <th>получение образования</th>\n",
       "      <td>369</td>\n",
       "      <td>3988</td>\n",
       "      <td>0.092528</td>\n",
       "    </tr>\n",
       "    <tr>\n",
       "      <th>проведение свадьбы</th>\n",
       "      <td>183</td>\n",
       "      <td>2313</td>\n",
       "      <td>0.079118</td>\n",
       "    </tr>\n",
       "  </tbody>\n",
       "</table>\n",
       "</div>"
      ],
      "text/plain": [
       "                         debt        percentage_overdue\n",
       "                          sum  count                   \n",
       "purpose_category                                       \n",
       "операции с автомобилем    400   4279           0.093480\n",
       "операции с недвижимостью  780  10751           0.072551\n",
       "получение образования     369   3988           0.092528\n",
       "проведение свадьбы        183   2313           0.079118"
      ]
     },
     "execution_count": 40,
     "metadata": {},
     "output_type": "execute_result"
    }
   ],
   "source": [
    "# посмотрим, какая доля является в данном случае самой недисциплинированной. Для этого разделим имеющийся просрочников (sum) на общее количество случаев (count) и запишем в поле \"percentage_overdue\"\n",
    "purpose_grouped['percentage_overdue'] = purpose_grouped['debt']['sum'] / purpose_grouped['debt']['count']\n",
    "purpose_grouped"
   ]
  },
  {
   "cell_type": "markdown",
   "id": "fcb42b0e",
   "metadata": {
    "deletable": false,
    "id": "fcb42b0e"
   },
   "source": [
    "**Вывод:** \n",
    "По таблице видно, что больше всего доля просрочки (9,34%) в категории \"Операции с автомобилем\", а менее всего в группе \"Операции с недвижимостью\" (7,25%)"
   ]
  },
  {
   "cell_type": "markdown",
   "id": "37f464a9",
   "metadata": {
    "deletable": false,
    "editable": false,
    "id": "37f464a9"
   },
   "source": [
    "#### 3.5 Приведите возможные причины появления пропусков в исходных данных."
   ]
  },
  {
   "cell_type": "markdown",
   "id": "48bd4596",
   "metadata": {
    "deletable": false,
    "id": "48bd4596"
   },
   "source": [
    "*Ответ:* \n",
    "При первичном анализе пропусков видно, что не заполнены столбцы: days_employed (общий трудовой стаж в днях) и total_income (ежемесячный доход). Количество пропусков в данных полях одинаковое. Поэтому можно сделать вывод о том, что данные случаи имеют массовых характер и продиктованы установленными процедурами. Например, анализ не на момент предоставления кредита (Collection Score и Мониторинг)\n",
    "Очень маловероятен случай единичной ошибки."
   ]
  },
  {
   "cell_type": "markdown",
   "id": "3b72a143",
   "metadata": {
    "deletable": false,
    "editable": false,
    "id": "3b72a143"
   },
   "source": [
    "#### 3.6 Объясните, почему заполнить пропуски медианным значением — лучшее решение для количественных переменных."
   ]
  },
  {
   "cell_type": "markdown",
   "id": "5531ac42",
   "metadata": {
    "deletable": false,
    "id": "5531ac42"
   },
   "source": [
    "*Ответ:* \n",
    "Заполнение медианным значением является грубым способом, но приемлемым. Лучшим является по определению. Рассчитывается, как значение по середине всего ряда. Если же брать, например, среднее (арифметическое, геометрической и др.), то эти значения могут сильно отклоняться в различных распределениях."
   ]
  },
  {
   "cell_type": "markdown",
   "id": "30a829bf",
   "metadata": {
    "deletable": false,
    "editable": false,
    "id": "30a829bf"
   },
   "source": [
    "### Шаг 4: общий вывод."
   ]
  },
  {
   "cell_type": "markdown",
   "id": "0d1024b1",
   "metadata": {
    "deletable": false,
    "id": "0d1024b1"
   },
   "source": [
    "Анализируемый дата-сет имеет достаточные данные для анализа. Имеющиеся пропуски по трудовому стажу и заработной плате относительно небольшие. Их возможно заменить медианным значениям, что и было произведено.\n",
    "Предположительно ключевым фактом (целевым значением в функции) явялятся наличие задолженности по возврату кредитов (debt). Анализ корреляции показал незначительную корреляцию по показателями (количеством детей, семейным положением и уровнем дохода). Также группа \"Операции с автомобилем\" является наиболее недисциплинированной в плане платежеспособности"
   ]
  }
 ],
 "metadata": {
  "ExecuteTimeLog": [
   {
    "duration": 691,
    "start_time": "2022-09-16T15:14:08.458Z"
   },
   {
    "duration": 32,
    "start_time": "2022-09-16T15:14:09.152Z"
   },
   {
    "duration": 56,
    "start_time": "2022-09-16T15:14:09.186Z"
   },
   {
    "duration": 29,
    "start_time": "2022-09-16T15:14:09.244Z"
   },
   {
    "duration": 54,
    "start_time": "2022-09-16T15:14:09.276Z"
   },
   {
    "duration": 7,
    "start_time": "2022-09-16T15:14:09.331Z"
   },
   {
    "duration": 33,
    "start_time": "2022-09-16T15:14:09.339Z"
   },
   {
    "duration": 11,
    "start_time": "2022-09-16T15:14:09.374Z"
   },
   {
    "duration": 21,
    "start_time": "2022-09-16T15:14:09.387Z"
   },
   {
    "duration": 43,
    "start_time": "2022-09-16T15:14:09.410Z"
   },
   {
    "duration": 63,
    "start_time": "2022-09-16T15:14:09.454Z"
   },
   {
    "duration": 19,
    "start_time": "2022-09-16T15:14:09.518Z"
   },
   {
    "duration": 16,
    "start_time": "2022-09-16T15:14:09.544Z"
   },
   {
    "duration": 13,
    "start_time": "2022-09-16T15:14:09.563Z"
   },
   {
    "duration": 44,
    "start_time": "2022-09-16T15:14:09.578Z"
   },
   {
    "duration": 47,
    "start_time": "2022-09-16T15:14:09.624Z"
   },
   {
    "duration": 15,
    "start_time": "2022-09-16T15:14:09.673Z"
   },
   {
    "duration": 60,
    "start_time": "2022-09-16T15:14:09.690Z"
   },
   {
    "duration": 29,
    "start_time": "2022-09-16T15:14:09.752Z"
   },
   {
    "duration": 74,
    "start_time": "2022-09-16T15:14:09.782Z"
   },
   {
    "duration": 17,
    "start_time": "2022-09-16T15:14:09.859Z"
   },
   {
    "duration": 18,
    "start_time": "2022-09-16T15:14:09.878Z"
   },
   {
    "duration": 44,
    "start_time": "2022-09-16T15:14:09.898Z"
   },
   {
    "duration": 604,
    "start_time": "2022-09-16T15:14:09.944Z"
   },
   {
    "duration": 210,
    "start_time": "2022-09-16T15:14:10.549Z"
   },
   {
    "duration": 7,
    "start_time": "2022-09-16T15:14:10.761Z"
   },
   {
    "duration": 93,
    "start_time": "2022-09-16T15:14:10.769Z"
   },
   {
    "duration": 31,
    "start_time": "2022-09-16T15:14:10.864Z"
   },
   {
    "duration": 66,
    "start_time": "2022-09-16T15:14:10.897Z"
   },
   {
    "duration": 31,
    "start_time": "2022-09-16T15:14:10.966Z"
   },
   {
    "duration": 26,
    "start_time": "2022-09-16T15:14:10.998Z"
   },
   {
    "duration": 69,
    "start_time": "2022-09-16T15:14:11.027Z"
   },
   {
    "duration": 63,
    "start_time": "2022-09-16T15:14:11.099Z"
   },
   {
    "duration": 230,
    "start_time": "2022-09-16T15:14:11.164Z"
   },
   {
    "duration": 21,
    "start_time": "2022-09-16T15:14:11.396Z"
   },
   {
    "duration": 47,
    "start_time": "2022-09-16T15:14:11.420Z"
   },
   {
    "duration": 40,
    "start_time": "2022-09-16T15:14:11.470Z"
   },
   {
    "duration": 42,
    "start_time": "2022-09-16T15:14:11.513Z"
   },
   {
    "duration": 41,
    "start_time": "2022-09-16T15:14:11.556Z"
   },
   {
    "duration": 79,
    "start_time": "2022-09-16T15:14:11.599Z"
   }
  ],
  "colab": {
   "collapsed_sections": [],
   "name": "4st_strem_project.ipynb",
   "provenance": []
  },
  "kernelspec": {
   "display_name": "Python 3 (ipykernel)",
   "language": "python",
   "name": "python3"
  },
  "language_info": {
   "codemirror_mode": {
    "name": "ipython",
    "version": 3
   },
   "file_extension": ".py",
   "mimetype": "text/x-python",
   "name": "python",
   "nbconvert_exporter": "python",
   "pygments_lexer": "ipython3",
   "version": "3.9.12"
  },
  "toc": {
   "base_numbering": 1,
   "nav_menu": {},
   "number_sections": true,
   "sideBar": true,
   "skip_h1_title": true,
   "title_cell": "Table of Contents",
   "title_sidebar": "Contents",
   "toc_cell": false,
   "toc_position": {},
   "toc_section_display": true,
   "toc_window_display": false
  }
 },
 "nbformat": 4,
 "nbformat_minor": 5
}
